{
 "cells": [
  {
   "cell_type": "markdown",
   "metadata": {},
   "source": [
    "# Predicting Diamond Prices\n",
    "\n",
    "### Project Overview\n",
    "\n",
    "A jewelry company wants to put in a bid to purchase a large set of diamonds, but is unsure how much it should bid. In this project, you will use the results from a predictive model to make a recommendation on how much the jewelry company should bid for the diamonds.\n",
    "\n",
    "### Project Details\n",
    "A diamond distributor has recently decided to exit the market and has put up a set of 3,000 diamonds up for auction. Seeing this as a great opportunity to expand its inventory, a jewelry company has shown interest in making a bid. To decide how much to bid, you will use a large database of diamond prices to build a model to predict the price of a diamond based on its attributes. Then you will use the results of that model to make a recommendation for how much the company should bid.\n",
    "\n",
    "### Step 1 – Understand the data: \n",
    "There are two datasets. diamonds.csv contains the data used to build the regression model. new_diamonds_new.csv contains the data for the diamonds the company would like to purchase. Both datasets contain carat, cut, and clarity data for each diamond. Only the diamonds.csv dataset has prices. You'll be predicting prices for the new_diamonds.csv dataset.\n",
    "\n",
    "**Carat** represents the weight of the diamond, and is a numerical variable.\n",
    "\n",
    "**Cut** represents the quality of the cut of the diamond, and falls into 5 categories: fair, good, very good, ideal, and premium. In project zero, these categories were represented by an *ordinal variable, 1-5*. You can decide to use the ordinal or categorical variable.\n",
    "\n",
    "**Clarity** represents the internal purity of the diamond, and falls into 8 categories: I1, SI2, SI1, VS2, VS1, VVS2, VVS1, and IF (in order from least to most pure). In project zero, these categories were represented by an ordinal variable, 1-8. You can decide to use the ordinal or categorical variable.\n",
    "\n",
    "**Color** represents the color of the diamond, and is rated D through J, with D being the most colorless (and valuable) and J being the most yellow.\n",
    "\n",
    "### Step 2 – Build the model: \n",
    "In project zero, the results were provided, but now you get to calculate them. A few things are different this time around.\n",
    "\n",
    "You have **more potential predictor variables**\n",
    "You now know how to use categorical variables, so no need to rely only on ordinal variables.\n",
    "Go through the steps you’ve learned through the course to build the model and come up with a regression equation.\n",
    "\n",
    "### Step 3 – Calculate the predicted price for diamond:\n",
    "For each diamond, plug in the values for each of the variables into the equation. Then solve the equation to get the estimated, or predicted, diamond price.\n",
    "\n",
    "### Step 4 – Make a recommendation: \n",
    "Now that you have the predicted price for each diamond, it’s time to calculate the bid price for the whole set. Note: The diamond price that the model predicts represents the final retail price the consumer will pay. The company generally purchases diamonds from distributors at 70% of the that price, so your recommended bid price should represent that.\n",
    "\n"
   ]
  },
  {
   "cell_type": "code",
   "execution_count": 161,
   "metadata": {
    "collapsed": true
   },
   "outputs": [],
   "source": [
    "# imports\n",
    "import pandas as pd\n",
    "pd.set_option('display.max_rows', 10)\n",
    "import matplotlib.pyplot as plt\n",
    "\n",
    "# this allows plots to appear directly in the notebook\n",
    "%matplotlib inline"
   ]
  },
  {
   "cell_type": "code",
   "execution_count": 162,
   "metadata": {
    "collapsed": false
   },
   "outputs": [
    {
     "data": {
      "text/html": [
       "<div>\n",
       "<table border=\"1\" class=\"dataframe\">\n",
       "  <thead>\n",
       "    <tr style=\"text-align: right;\">\n",
       "      <th></th>\n",
       "      <th>carat</th>\n",
       "      <th>cut</th>\n",
       "      <th>cut_ord</th>\n",
       "      <th>color</th>\n",
       "      <th>clarity</th>\n",
       "      <th>clarity_ord</th>\n",
       "      <th>price</th>\n",
       "    </tr>\n",
       "  </thead>\n",
       "  <tbody>\n",
       "    <tr>\n",
       "      <th>1</th>\n",
       "      <td>0.51</td>\n",
       "      <td>Premium</td>\n",
       "      <td>4</td>\n",
       "      <td>F</td>\n",
       "      <td>VS1</td>\n",
       "      <td>4</td>\n",
       "      <td>1749</td>\n",
       "    </tr>\n",
       "    <tr>\n",
       "      <th>2</th>\n",
       "      <td>2.25</td>\n",
       "      <td>Fair</td>\n",
       "      <td>1</td>\n",
       "      <td>G</td>\n",
       "      <td>I1</td>\n",
       "      <td>1</td>\n",
       "      <td>7069</td>\n",
       "    </tr>\n",
       "    <tr>\n",
       "      <th>3</th>\n",
       "      <td>0.70</td>\n",
       "      <td>Very Good</td>\n",
       "      <td>3</td>\n",
       "      <td>E</td>\n",
       "      <td>VS2</td>\n",
       "      <td>5</td>\n",
       "      <td>2757</td>\n",
       "    </tr>\n",
       "    <tr>\n",
       "      <th>4</th>\n",
       "      <td>0.47</td>\n",
       "      <td>Good</td>\n",
       "      <td>2</td>\n",
       "      <td>F</td>\n",
       "      <td>VS1</td>\n",
       "      <td>4</td>\n",
       "      <td>1243</td>\n",
       "    </tr>\n",
       "    <tr>\n",
       "      <th>5</th>\n",
       "      <td>0.30</td>\n",
       "      <td>Ideal</td>\n",
       "      <td>5</td>\n",
       "      <td>G</td>\n",
       "      <td>VVS1</td>\n",
       "      <td>7</td>\n",
       "      <td>789</td>\n",
       "    </tr>\n",
       "  </tbody>\n",
       "</table>\n",
       "</div>"
      ],
      "text/plain": [
       "   carat        cut  cut_ord color clarity  clarity_ord  price\n",
       "1   0.51    Premium        4     F     VS1            4   1749\n",
       "2   2.25       Fair        1     G      I1            1   7069\n",
       "3   0.70  Very Good        3     E     VS2            5   2757\n",
       "4   0.47       Good        2     F     VS1            4   1243\n",
       "5   0.30      Ideal        5     G    VVS1            7    789"
      ]
     },
     "execution_count": 162,
     "metadata": {},
     "output_type": "execute_result"
    }
   ],
   "source": [
    "# read data into a DataFrame\n",
    "data = pd.read_csv('data/diamonds.csv', index_col=0) # index_col=0 help cut the first unreadable column\n",
    "data.head()"
   ]
  },
  {
   "cell_type": "code",
   "execution_count": 163,
   "metadata": {
    "collapsed": false
   },
   "outputs": [
    {
     "data": {
      "text/plain": [
       "(50000, 7)"
      ]
     },
     "execution_count": 163,
     "metadata": {},
     "output_type": "execute_result"
    }
   ],
   "source": [
    "# print the shape of the DataFrame\n",
    "data.shape"
   ]
  },
  {
   "cell_type": "code",
   "execution_count": 164,
   "metadata": {
    "collapsed": false
   },
   "outputs": [
    {
     "data": {
      "text/plain": [
       "<matplotlib.axes._subplots.AxesSubplot at 0x112354310>"
      ]
     },
     "execution_count": 164,
     "metadata": {},
     "output_type": "execute_result"
    },
    {
     "data": {
      "image/png": "[encoded data removed]",
      "text/plain": [
       "<matplotlib.figure.Figure at 0x10ee32450>"
      ]
     },
     "metadata": {},
     "output_type": "display_data"
    }
   ],
   "source": [
    "# visualize the relationship between the features and the response using scatterplots\n",
    "# fig, axs = plt.subplots(1, 3, sharey=True)\n",
    "# data.plot(kind='scatter', x='TV', y='Sales', ax=axs[0], figsize=(16, 8))\n",
    "# data.plot(kind='scatter', x='Radio', y='Sales', ax=axs[1])\n",
    "# data.plot(kind='scatter', x='Newspaper', y='Sales', ax=axs[2])\n",
    "data.plot(kind='scatter', x='carat', y='price')"
   ]
  },
  {
   "cell_type": "markdown",
   "metadata": {},
   "source": [
    "## carat_ord and clarity_ord help avoid using dummy variables"
   ]
  },
  {
   "cell_type": "code",
   "execution_count": 165,
   "metadata": {
    "collapsed": false
   },
   "outputs": [
    {
     "data": {
      "text/plain": [
       "Intercept     -5255.223146\n",
       "carat          8363.416658\n",
       "cut_ord         160.378583\n",
       "clarity_ord     457.801813\n",
       "dtype: float64"
      ]
     },
     "execution_count": 165,
     "metadata": {},
     "output_type": "execute_result"
    }
   ],
   "source": [
    "# this is the standard import if you're using \"formula notation\" (similar to R)\n",
    "import statsmodels.formula.api as smf\n",
    "\n",
    "# create a fitted model in one line\n",
    "lm = smf.ols(formula='price ~ carat + cut_ord + clarity_ord', data=data).fit()\n",
    "\n",
    "# print the coefficients\n",
    "lm.params"
   ]
  },
  {
   "cell_type": "code",
   "execution_count": 166,
   "metadata": {
    "collapsed": false
   },
   "outputs": [
    {
     "data": {
      "text/html": [
       "<div>\n",
       "<table border=\"1\" class=\"dataframe\">\n",
       "  <thead>\n",
       "    <tr style=\"text-align: right;\">\n",
       "      <th></th>\n",
       "      <th>carat</th>\n",
       "      <th>clarity_ord</th>\n",
       "      <th>cut_ord</th>\n",
       "    </tr>\n",
       "  </thead>\n",
       "  <tbody>\n",
       "    <tr>\n",
       "      <th>0</th>\n",
       "      <td>3</td>\n",
       "      <td>4</td>\n",
       "      <td>4</td>\n",
       "    </tr>\n",
       "  </tbody>\n",
       "</table>\n",
       "</div>"
      ],
      "text/plain": [
       "   carat  clarity_ord  cut_ord\n",
       "0      3            4        4"
      ]
     },
     "execution_count": 166,
     "metadata": {},
     "output_type": "execute_result"
    }
   ],
   "source": [
    "# you have to create a DataFrame since the Statsmodels formula interface expects it\n",
    "X_new = pd.DataFrame({'carat': [3], 'cut_ord':[4], 'clarity_ord':[4]})\n",
    "X_new.head()"
   ]
  },
  {
   "cell_type": "code",
   "execution_count": 167,
   "metadata": {
    "collapsed": false
   },
   "outputs": [
    {
     "data": {
      "text/plain": [
       "array([ 22307.74840955])"
      ]
     },
     "execution_count": 167,
     "metadata": {},
     "output_type": "execute_result"
    }
   ],
   "source": [
    "# use the model to make predictions on a new value\n",
    "lm.predict(X_new)"
   ]
  },
  {
   "cell_type": "code",
   "execution_count": 168,
   "metadata": {
    "collapsed": false
   },
   "outputs": [
    {
     "name": "stdout",
     "output_type": "stream",
     "text": [
      "<class 'pandas.core.frame.DataFrame'>\n",
      "Int64Index: 50000 entries, 1 to 50000\n",
      "Data columns (total 7 columns):\n",
      "carat          50000 non-null float64\n",
      "cut            50000 non-null object\n",
      "cut_ord        50000 non-null int64\n",
      "color          50000 non-null object\n",
      "clarity        50000 non-null object\n",
      "clarity_ord    50000 non-null int64\n",
      "price          50000 non-null int64\n",
      "dtypes: float64(1), int64(3), object(3)\n",
      "memory usage: 3.1+ MB\n",
      "4\n"
     ]
    },
    {
     "data": {
      "text/plain": [
       "16970.0"
      ]
     },
     "execution_count": 168,
     "metadata": {},
     "output_type": "execute_result"
    }
   ],
   "source": [
    "data.info()\n",
    "print int(4)\n",
    "# average price for all diamonds with carat == 3 is much cheaper, why??\n",
    "data[(data.carat == 3) & (data.cut_ord == 1) & (data.clarity_ord == 2)].price.median()"
   ]
  },
  {
   "cell_type": "code",
   "execution_count": 169,
   "metadata": {
    "collapsed": false
   },
   "outputs": [
    {
     "data": {
      "text/html": [
       "<div>\n",
       "<table border=\"1\" class=\"dataframe\">\n",
       "  <thead>\n",
       "    <tr style=\"text-align: right;\">\n",
       "      <th></th>\n",
       "      <th>0</th>\n",
       "      <th>1</th>\n",
       "    </tr>\n",
       "  </thead>\n",
       "  <tbody>\n",
       "    <tr>\n",
       "      <th>Intercept</th>\n",
       "      <td>-5314.650288</td>\n",
       "      <td>-5195.796005</td>\n",
       "    </tr>\n",
       "    <tr>\n",
       "      <th>carat</th>\n",
       "      <td>8336.829246</td>\n",
       "      <td>8390.004070</td>\n",
       "    </tr>\n",
       "    <tr>\n",
       "      <th>cut_ord</th>\n",
       "      <td>149.573779</td>\n",
       "      <td>171.183387</td>\n",
       "    </tr>\n",
       "    <tr>\n",
       "      <th>clarity_ord</th>\n",
       "      <td>450.156544</td>\n",
       "      <td>465.447082</td>\n",
       "    </tr>\n",
       "  </tbody>\n",
       "</table>\n",
       "</div>"
      ],
      "text/plain": [
       "                       0            1\n",
       "Intercept   -5314.650288 -5195.796005\n",
       "carat        8336.829246  8390.004070\n",
       "cut_ord       149.573779   171.183387\n",
       "clarity_ord   450.156544   465.447082"
      ]
     },
     "execution_count": 169,
     "metadata": {},
     "output_type": "execute_result"
    }
   ],
   "source": [
    "# print the confidence intervals for the model coefficients\n",
    "lm.conf_int()"
   ]
  },
  {
   "cell_type": "code",
   "execution_count": 170,
   "metadata": {
    "collapsed": false
   },
   "outputs": [
    {
     "data": {
      "text/plain": [
       "Intercept       0.000000e+00\n",
       "carat           0.000000e+00\n",
       "cut_ord        1.534864e-184\n",
       "clarity_ord     0.000000e+00\n",
       "dtype: float64"
      ]
     },
     "execution_count": 170,
     "metadata": {},
     "output_type": "execute_result"
    }
   ],
   "source": [
    "# print the p-values for the model coefficients\n",
    "lm.pvalues"
   ]
  },
  {
   "cell_type": "code",
   "execution_count": 171,
   "metadata": {
    "collapsed": false
   },
   "outputs": [
    {
     "data": {
      "text/plain": [
       "0.88620044737701109"
      ]
     },
     "execution_count": 171,
     "metadata": {},
     "output_type": "execute_result"
    }
   ],
   "source": [
    "# print the R-squared value for the model\n",
    "lm.rsquared"
   ]
  },
  {
   "cell_type": "code",
   "execution_count": 172,
   "metadata": {
    "collapsed": false
   },
   "outputs": [
    {
     "data": {
      "text/html": [
       "<table class=\"simpletable\">\n",
       "<caption>OLS Regression Results</caption>\n",
       "<tr>\n",
       "  <th>Dep. Variable:</th>          <td>price</td>      <th>  R-squared:         </th>  <td>   0.886</td>  \n",
       "</tr>\n",
       "<tr>\n",
       "  <th>Model:</th>                   <td>OLS</td>       <th>  Adj. R-squared:    </th>  <td>   0.886</td>  \n",
       "</tr>\n",
       "<tr>\n",
       "  <th>Method:</th>             <td>Least Squares</td>  <th>  F-statistic:       </th>  <td>1.298e+05</td> \n",
       "</tr>\n",
       "<tr>\n",
       "  <th>Date:</th>             <td>Sun, 06 Nov 2016</td> <th>  Prob (F-statistic):</th>   <td>  0.00</td>   \n",
       "</tr>\n",
       "<tr>\n",
       "  <th>Time:</th>                 <td>15:49:58</td>     <th>  Log-Likelihood:    </th> <td>-4.3126e+05</td>\n",
       "</tr>\n",
       "<tr>\n",
       "  <th>No. Observations:</th>      <td> 50000</td>      <th>  AIC:               </th>  <td>8.625e+05</td> \n",
       "</tr>\n",
       "<tr>\n",
       "  <th>Df Residuals:</th>          <td> 49996</td>      <th>  BIC:               </th>  <td>8.626e+05</td> \n",
       "</tr>\n",
       "<tr>\n",
       "  <th>Df Model:</th>              <td>     3</td>      <th>                     </th>      <td> </td>     \n",
       "</tr>\n",
       "<tr>\n",
       "  <th>Covariance Type:</th>      <td>nonrobust</td>    <th>                     </th>      <td> </td>     \n",
       "</tr>\n",
       "</table>\n",
       "<table class=\"simpletable\">\n",
       "<tr>\n",
       "       <td></td>          <th>coef</th>     <th>std err</th>      <th>t</th>      <th>P>|t|</th> <th>[95.0% Conf. Int.]</th> \n",
       "</tr>\n",
       "<tr>\n",
       "  <th>Intercept</th>   <td>-5255.2231</td> <td>   30.320</td> <td> -173.326</td> <td> 0.000</td> <td>-5314.650 -5195.796</td>\n",
       "</tr>\n",
       "<tr>\n",
       "  <th>carat</th>       <td> 8363.4167</td> <td>   13.565</td> <td>  616.547</td> <td> 0.000</td> <td> 8336.829  8390.004</td>\n",
       "</tr>\n",
       "<tr>\n",
       "  <th>cut_ord</th>     <td>  160.3786</td> <td>    5.513</td> <td>   29.093</td> <td> 0.000</td> <td>  149.574   171.183</td>\n",
       "</tr>\n",
       "<tr>\n",
       "  <th>clarity_ord</th> <td>  457.8018</td> <td>    3.901</td> <td>  117.366</td> <td> 0.000</td> <td>  450.157   465.447</td>\n",
       "</tr>\n",
       "</table>\n",
       "<table class=\"simpletable\">\n",
       "<tr>\n",
       "  <th>Omnibus:</th>       <td>11093.961</td> <th>  Durbin-Watson:     </th>  <td>   1.992</td> \n",
       "</tr>\n",
       "<tr>\n",
       "  <th>Prob(Omnibus):</th>  <td> 0.000</td>   <th>  Jarque-Bera (JB):  </th> <td>169582.750</td>\n",
       "</tr>\n",
       "<tr>\n",
       "  <th>Skew:</th>           <td> 0.651</td>   <th>  Prob(JB):          </th>  <td>    0.00</td> \n",
       "</tr>\n",
       "<tr>\n",
       "  <th>Kurtosis:</th>       <td>11.928</td>   <th>  Cond. No.          </th>  <td>    31.7</td> \n",
       "</tr>\n",
       "</table>"
      ],
      "text/plain": [
       "<class 'statsmodels.iolib.summary.Summary'>\n",
       "\"\"\"\n",
       "                            OLS Regression Results                            \n",
       "==============================================================================\n",
       "Dep. Variable:                  price   R-squared:                       0.886\n",
       "Model:                            OLS   Adj. R-squared:                  0.886\n",
       "Method:                 Least Squares   F-statistic:                 1.298e+05\n",
       "Date:                Sun, 06 Nov 2016   Prob (F-statistic):               0.00\n",
       "Time:                        15:49:58   Log-Likelihood:            -4.3126e+05\n",
       "No. Observations:               50000   AIC:                         8.625e+05\n",
       "Df Residuals:                   49996   BIC:                         8.626e+05\n",
       "Df Model:                           3                                         \n",
       "Covariance Type:            nonrobust                                         \n",
       "===============================================================================\n",
       "                  coef    std err          t      P>|t|      [95.0% Conf. Int.]\n",
       "-------------------------------------------------------------------------------\n",
       "Intercept   -5255.2231     30.320   -173.326      0.000     -5314.650 -5195.796\n",
       "carat        8363.4167     13.565    616.547      0.000      8336.829  8390.004\n",
       "cut_ord       160.3786      5.513     29.093      0.000       149.574   171.183\n",
       "clarity_ord   457.8018      3.901    117.366      0.000       450.157   465.447\n",
       "==============================================================================\n",
       "Omnibus:                    11093.961   Durbin-Watson:                   1.992\n",
       "Prob(Omnibus):                  0.000   Jarque-Bera (JB):           169582.750\n",
       "Skew:                           0.651   Prob(JB):                         0.00\n",
       "Kurtosis:                      11.928   Cond. No.                         31.7\n",
       "==============================================================================\n",
       "\n",
       "Warnings:\n",
       "[1] Standard Errors assume that the covariance matrix of the errors is correctly specified.\n",
       "\"\"\""
      ]
     },
     "execution_count": 172,
     "metadata": {},
     "output_type": "execute_result"
    }
   ],
   "source": [
    "lm.summary()"
   ]
  },
  {
   "cell_type": "markdown",
   "metadata": {},
   "source": [
    "## Without using dummy variable, we can't include color variable for analysis; but sklearn can deploy dummy variable"
   ]
  },
  {
   "cell_type": "markdown",
   "metadata": {},
   "source": [
    "# Linear regression in sklearn"
   ]
  },
  {
   "cell_type": "code",
   "execution_count": 173,
   "metadata": {
    "collapsed": false
   },
   "outputs": [
    {
     "name": "stdout",
     "output_type": "stream",
     "text": [
      "-5255.22314648\n",
      "[ 8363.41665765   160.37858283   457.80181294]\n"
     ]
    }
   ],
   "source": [
    "# create X and y\n",
    "feature_cols = ['carat', 'cut_ord', 'clarity_ord']\n",
    "X = data[feature_cols]\n",
    "y = data.price\n",
    "\n",
    "# follow the usual sklearn pattern: import, instantiate, fit\n",
    "from sklearn.linear_model import LinearRegression\n",
    "lm = LinearRegression()\n",
    "lm.fit(X, y)\n",
    "\n",
    "# print intercept and coefficients\n",
    "print lm.intercept_\n",
    "print lm.coef_"
   ]
  },
  {
   "cell_type": "code",
   "execution_count": 174,
   "metadata": {
    "collapsed": false
   },
   "outputs": [
    {
     "data": {
      "text/plain": [
       "[('carat', 8363.4166576539392),\n",
       " ('cut_ord', 160.37858283100249),\n",
       " ('clarity_ord', 457.80181293551772)]"
      ]
     },
     "execution_count": 174,
     "metadata": {},
     "output_type": "execute_result"
    }
   ],
   "source": [
    "# pair the feature names with the coefficients\n",
    "zip(feature_cols, lm.coef_)"
   ]
  },
  {
   "cell_type": "code",
   "execution_count": 175,
   "metadata": {
    "collapsed": false
   },
   "outputs": [
    {
     "data": {
      "text/plain": [
       "array([ 20453.20722225])"
      ]
     },
     "execution_count": 175,
     "metadata": {},
     "output_type": "execute_result"
    }
   ],
   "source": [
    "# predict for a new observation\n",
    "\n",
    "# you have to create a DataFrame since the Statsmodels formula interface expects it\n",
    "X_new = pd.DataFrame({'carat': [3], 'cut_ord':[1], 'clarity_ord':[1]})\n",
    "X_new.head()\n",
    "lm.predict(X_new)"
   ]
  },
  {
   "cell_type": "code",
   "execution_count": 176,
   "metadata": {
    "collapsed": false
   },
   "outputs": [
    {
     "data": {
      "text/plain": [
       "0.88620044737701109"
      ]
     },
     "execution_count": 176,
     "metadata": {},
     "output_type": "execute_result"
    }
   ],
   "source": [
    "# calculate the R-squared\n",
    "lm.score(X, y)"
   ]
  },
  {
   "cell_type": "markdown",
   "metadata": {},
   "source": [
    "## Multiple Variables or Features"
   ]
  },
  {
   "cell_type": "code",
   "execution_count": 177,
   "metadata": {
    "collapsed": false
   },
   "outputs": [
    {
     "name": "stdout",
     "output_type": "stream",
     "text": [
      "-5255.22314648\n",
      "[ 8363.41665765   160.37858283   457.80181294]\n"
     ]
    }
   ],
   "source": [
    "# create X and y\n",
    "feature_cols = ['carat', 'cut_ord', 'clarity_ord']\n",
    "X = data[feature_cols]\n",
    "y = data.price\n",
    "\n",
    "# follow the usual sklearn pattern: import, instantiate, fit\n",
    "from sklearn.linear_model import LinearRegression\n",
    "lm = LinearRegression()\n",
    "lm.fit(X, y)\n",
    "\n",
    "# print intercept and coefficients\n",
    "print lm.intercept_\n",
    "print lm.coef_"
   ]
  },
  {
   "cell_type": "code",
   "execution_count": 178,
   "metadata": {
    "collapsed": false
   },
   "outputs": [
    {
     "data": {
      "text/plain": [
       "[('carat', 8363.4166576539392),\n",
       " ('cut_ord', 160.37858283100249),\n",
       " ('clarity_ord', 457.80181293551772)]"
      ]
     },
     "execution_count": 178,
     "metadata": {},
     "output_type": "execute_result"
    }
   ],
   "source": [
    "# pair the feature names with the coefficients\n",
    "zip(feature_cols, lm.coef_)"
   ]
  },
  {
   "cell_type": "code",
   "execution_count": 179,
   "metadata": {
    "collapsed": false
   },
   "outputs": [
    {
     "name": "stdout",
     "output_type": "stream",
     "text": [
      "   carat  clarity_ord  cut_ord\n",
      "0      3            4        4\n"
     ]
    },
    {
     "data": {
      "text/plain": [
       "array([ 22307.74840955])"
      ]
     },
     "execution_count": 179,
     "metadata": {},
     "output_type": "execute_result"
    }
   ],
   "source": [
    "# predict for a new observation\n",
    "\n",
    "# you have to create a DataFrame since the Statsmodels formula interface expects it\n",
    "X_new = pd.DataFrame({'carat': [3], 'cut_ord':[4], 'clarity_ord':[4]})\n",
    "print X_new.head()\n",
    "lm.predict(X_new)"
   ]
  },
  {
   "cell_type": "markdown",
   "metadata": {},
   "source": [
    "# Multiple Categorical Feature"
   ]
  },
  {
   "cell_type": "code",
   "execution_count": 180,
   "metadata": {
    "collapsed": false
   },
   "outputs": [
    {
     "data": {
      "text/html": [
       "<div>\n",
       "<table border=\"1\" class=\"dataframe\">\n",
       "  <thead>\n",
       "    <tr style=\"text-align: right;\">\n",
       "      <th></th>\n",
       "      <th>carat</th>\n",
       "      <th>cut</th>\n",
       "      <th>cut_ord</th>\n",
       "      <th>color</th>\n",
       "      <th>clarity</th>\n",
       "      <th>clarity_ord</th>\n",
       "      <th>price</th>\n",
       "      <th>color_E</th>\n",
       "      <th>color_F</th>\n",
       "      <th>color_G</th>\n",
       "      <th>color_H</th>\n",
       "      <th>color_I</th>\n",
       "      <th>color_J</th>\n",
       "    </tr>\n",
       "  </thead>\n",
       "  <tbody>\n",
       "    <tr>\n",
       "      <th>1</th>\n",
       "      <td>0.51</td>\n",
       "      <td>Premium</td>\n",
       "      <td>4</td>\n",
       "      <td>F</td>\n",
       "      <td>VS1</td>\n",
       "      <td>4</td>\n",
       "      <td>1749</td>\n",
       "      <td>0.0</td>\n",
       "      <td>1.0</td>\n",
       "      <td>0.0</td>\n",
       "      <td>0.0</td>\n",
       "      <td>0.0</td>\n",
       "      <td>0.0</td>\n",
       "    </tr>\n",
       "    <tr>\n",
       "      <th>2</th>\n",
       "      <td>2.25</td>\n",
       "      <td>Fair</td>\n",
       "      <td>1</td>\n",
       "      <td>G</td>\n",
       "      <td>I1</td>\n",
       "      <td>1</td>\n",
       "      <td>7069</td>\n",
       "      <td>0.0</td>\n",
       "      <td>0.0</td>\n",
       "      <td>1.0</td>\n",
       "      <td>0.0</td>\n",
       "      <td>0.0</td>\n",
       "      <td>0.0</td>\n",
       "    </tr>\n",
       "    <tr>\n",
       "      <th>3</th>\n",
       "      <td>0.70</td>\n",
       "      <td>Very Good</td>\n",
       "      <td>3</td>\n",
       "      <td>E</td>\n",
       "      <td>VS2</td>\n",
       "      <td>5</td>\n",
       "      <td>2757</td>\n",
       "      <td>1.0</td>\n",
       "      <td>0.0</td>\n",
       "      <td>0.0</td>\n",
       "      <td>0.0</td>\n",
       "      <td>0.0</td>\n",
       "      <td>0.0</td>\n",
       "    </tr>\n",
       "    <tr>\n",
       "      <th>4</th>\n",
       "      <td>0.47</td>\n",
       "      <td>Good</td>\n",
       "      <td>2</td>\n",
       "      <td>F</td>\n",
       "      <td>VS1</td>\n",
       "      <td>4</td>\n",
       "      <td>1243</td>\n",
       "      <td>0.0</td>\n",
       "      <td>1.0</td>\n",
       "      <td>0.0</td>\n",
       "      <td>0.0</td>\n",
       "      <td>0.0</td>\n",
       "      <td>0.0</td>\n",
       "    </tr>\n",
       "    <tr>\n",
       "      <th>5</th>\n",
       "      <td>0.30</td>\n",
       "      <td>Ideal</td>\n",
       "      <td>5</td>\n",
       "      <td>G</td>\n",
       "      <td>VVS1</td>\n",
       "      <td>7</td>\n",
       "      <td>789</td>\n",
       "      <td>0.0</td>\n",
       "      <td>0.0</td>\n",
       "      <td>1.0</td>\n",
       "      <td>0.0</td>\n",
       "      <td>0.0</td>\n",
       "      <td>0.0</td>\n",
       "    </tr>\n",
       "  </tbody>\n",
       "</table>\n",
       "</div>"
      ],
      "text/plain": [
       "   carat        cut  cut_ord color clarity  clarity_ord  price  color_E  \\\n",
       "1   0.51    Premium        4     F     VS1            4   1749      0.0   \n",
       "2   2.25       Fair        1     G      I1            1   7069      0.0   \n",
       "3   0.70  Very Good        3     E     VS2            5   2757      1.0   \n",
       "4   0.47       Good        2     F     VS1            4   1243      0.0   \n",
       "5   0.30      Ideal        5     G    VVS1            7    789      0.0   \n",
       "\n",
       "   color_F  color_G  color_H  color_I  color_J  \n",
       "1      1.0      0.0      0.0      0.0      0.0  \n",
       "2      0.0      1.0      0.0      0.0      0.0  \n",
       "3      0.0      0.0      0.0      0.0      0.0  \n",
       "4      1.0      0.0      0.0      0.0      0.0  \n",
       "5      0.0      1.0      0.0      0.0      0.0  "
      ]
     },
     "execution_count": 180,
     "metadata": {},
     "output_type": "execute_result"
    }
   ],
   "source": [
    "# create three dummy variables using get_dummies, then exclude the first dummy column\n",
    "area_dummies = pd.get_dummies(data.color, prefix='color').iloc[:, 1:]\n",
    "\n",
    "# concatenate the dummy variable columns onto the original DataFrame (axis=0 means rows, axis=1 means columns)\n",
    "data = pd.concat([data, area_dummies], axis=1)\n",
    "data.head()"
   ]
  },
  {
   "cell_type": "code",
   "execution_count": 181,
   "metadata": {
    "collapsed": false
   },
   "outputs": [
    {
     "data": {
      "text/plain": [
       "[('carat', 8749.6839395381885),\n",
       " ('cut_ord', 158.65756296329647),\n",
       " ('clarity_ord', 484.54502493626916),\n",
       " ('color_E', -203.35083980692116),\n",
       " ('color_F', -306.98616239567076),\n",
       " ('color_G', -476.31541043582234),\n",
       " ('color_H', -957.19641805524645),\n",
       " ('color_I', -1377.7104907290231),\n",
       " ('color_J', -2222.3878246959075)]"
      ]
     },
     "execution_count": 181,
     "metadata": {},
     "output_type": "execute_result"
    }
   ],
   "source": [
    "# create X and y\n",
    "feature_cols = ['carat', 'cut_ord', 'clarity_ord', 'color_E', 'color_F',\n",
    "                'color_G', 'color_H', 'color_I', 'color_J']\n",
    "X = data[feature_cols]\n",
    "y = data.price\n",
    "\n",
    "# instantiate, fit\n",
    "lm = LinearRegression()\n",
    "lm.fit(X, y)\n",
    "\n",
    "# print coefficients\n",
    "zip(feature_cols, lm.coef_)"
   ]
  },
  {
   "cell_type": "code",
   "execution_count": 182,
   "metadata": {
    "collapsed": false
   },
   "outputs": [
    {
     "name": "stdout",
     "output_type": "stream",
     "text": [
      "0.903744028557\n"
     ]
    }
   ],
   "source": [
    "# print intercept and coefficients\n",
    "print lm.score(X,y)"
   ]
  },
  {
   "cell_type": "code",
   "execution_count": 183,
   "metadata": {
    "collapsed": false
   },
   "outputs": [
    {
     "data": {
      "text/html": [
       "<table class=\"simpletable\">\n",
       "<caption>OLS Regression Results</caption>\n",
       "<tr>\n",
       "  <th>Dep. Variable:</th>          <td>price</td>      <th>  R-squared:         </th>  <td>   0.904</td>  \n",
       "</tr>\n",
       "<tr>\n",
       "  <th>Model:</th>                   <td>OLS</td>       <th>  Adj. R-squared:    </th>  <td>   0.904</td>  \n",
       "</tr>\n",
       "<tr>\n",
       "  <th>Method:</th>             <td>Least Squares</td>  <th>  F-statistic:       </th>  <td>5.215e+04</td> \n",
       "</tr>\n",
       "<tr>\n",
       "  <th>Date:</th>             <td>Sun, 06 Nov 2016</td> <th>  Prob (F-statistic):</th>   <td>  0.00</td>   \n",
       "</tr>\n",
       "<tr>\n",
       "  <th>Time:</th>                 <td>15:49:59</td>     <th>  Log-Likelihood:    </th> <td>-4.2708e+05</td>\n",
       "</tr>\n",
       "<tr>\n",
       "  <th>No. Observations:</th>      <td> 50000</td>      <th>  AIC:               </th>  <td>8.542e+05</td> \n",
       "</tr>\n",
       "<tr>\n",
       "  <th>Df Residuals:</th>          <td> 49990</td>      <th>  BIC:               </th>  <td>8.543e+05</td> \n",
       "</tr>\n",
       "<tr>\n",
       "  <th>Df Model:</th>              <td>     9</td>      <th>                     </th>      <td> </td>     \n",
       "</tr>\n",
       "<tr>\n",
       "  <th>Covariance Type:</th>      <td>nonrobust</td>    <th>                     </th>      <td> </td>     \n",
       "</tr>\n",
       "</table>\n",
       "<table class=\"simpletable\">\n",
       "<tr>\n",
       "       <td></td>          <th>coef</th>     <th>std err</th>      <th>t</th>      <th>P>|t|</th> <th>[95.0% Conf. Int.]</th> \n",
       "</tr>\n",
       "<tr>\n",
       "  <th>Intercept</th>   <td>-5073.5458</td> <td>   30.572</td> <td> -165.952</td> <td> 0.000</td> <td>-5133.468 -5013.624</td>\n",
       "</tr>\n",
       "<tr>\n",
       "  <th>carat</th>       <td> 8749.6839</td> <td>   13.158</td> <td>  664.959</td> <td> 0.000</td> <td> 8723.894  8775.474</td>\n",
       "</tr>\n",
       "<tr>\n",
       "  <th>cut_ord</th>     <td>  158.6576</td> <td>    5.073</td> <td>   31.275</td> <td> 0.000</td> <td>  148.714   168.601</td>\n",
       "</tr>\n",
       "<tr>\n",
       "  <th>clarity_ord</th> <td>  484.5450</td> <td>    3.631</td> <td>  133.453</td> <td> 0.000</td> <td>  477.429   491.661</td>\n",
       "</tr>\n",
       "<tr>\n",
       "  <th>color_E</th>     <td> -203.3508</td> <td>   20.393</td> <td>   -9.972</td> <td> 0.000</td> <td> -243.321  -163.380</td>\n",
       "</tr>\n",
       "<tr>\n",
       "  <th>color_F</th>     <td> -306.9862</td> <td>   20.570</td> <td>  -14.924</td> <td> 0.000</td> <td> -347.304  -266.668</td>\n",
       "</tr>\n",
       "<tr>\n",
       "  <th>color_G</th>     <td> -476.3154</td> <td>   20.058</td> <td>  -23.746</td> <td> 0.000</td> <td> -515.630  -437.001</td>\n",
       "</tr>\n",
       "<tr>\n",
       "  <th>color_H</th>     <td> -957.1964</td> <td>   21.395</td> <td>  -44.739</td> <td> 0.000</td> <td> -999.131  -915.262</td>\n",
       "</tr>\n",
       "<tr>\n",
       "  <th>color_I</th>     <td>-1377.7105</td> <td>   23.968</td> <td>  -57.481</td> <td> 0.000</td> <td>-1424.688 -1330.733</td>\n",
       "</tr>\n",
       "<tr>\n",
       "  <th>color_J</th>     <td>-2222.3878</td> <td>   29.658</td> <td>  -74.935</td> <td> 0.000</td> <td>-2280.517 -2164.258</td>\n",
       "</tr>\n",
       "</table>\n",
       "<table class=\"simpletable\">\n",
       "<tr>\n",
       "  <th>Omnibus:</th>       <td>10541.356</td> <th>  Durbin-Watson:     </th>  <td>   1.994</td> \n",
       "</tr>\n",
       "<tr>\n",
       "  <th>Prob(Omnibus):</th>  <td> 0.000</td>   <th>  Jarque-Bera (JB):  </th> <td>233765.588</td>\n",
       "</tr>\n",
       "<tr>\n",
       "  <th>Skew:</th>           <td> 0.458</td>   <th>  Prob(JB):          </th>  <td>    0.00</td> \n",
       "</tr>\n",
       "<tr>\n",
       "  <th>Kurtosis:</th>       <td>13.553</td>   <th>  Cond. No.          </th>  <td>    49.0</td> \n",
       "</tr>\n",
       "</table>"
      ],
      "text/plain": [
       "<class 'statsmodels.iolib.summary.Summary'>\n",
       "\"\"\"\n",
       "                            OLS Regression Results                            \n",
       "==============================================================================\n",
       "Dep. Variable:                  price   R-squared:                       0.904\n",
       "Model:                            OLS   Adj. R-squared:                  0.904\n",
       "Method:                 Least Squares   F-statistic:                 5.215e+04\n",
       "Date:                Sun, 06 Nov 2016   Prob (F-statistic):               0.00\n",
       "Time:                        15:49:59   Log-Likelihood:            -4.2708e+05\n",
       "No. Observations:               50000   AIC:                         8.542e+05\n",
       "Df Residuals:                   49990   BIC:                         8.543e+05\n",
       "Df Model:                           9                                         \n",
       "Covariance Type:            nonrobust                                         \n",
       "===============================================================================\n",
       "                  coef    std err          t      P>|t|      [95.0% Conf. Int.]\n",
       "-------------------------------------------------------------------------------\n",
       "Intercept   -5073.5458     30.572   -165.952      0.000     -5133.468 -5013.624\n",
       "carat        8749.6839     13.158    664.959      0.000      8723.894  8775.474\n",
       "cut_ord       158.6576      5.073     31.275      0.000       148.714   168.601\n",
       "clarity_ord   484.5450      3.631    133.453      0.000       477.429   491.661\n",
       "color_E      -203.3508     20.393     -9.972      0.000      -243.321  -163.380\n",
       "color_F      -306.9862     20.570    -14.924      0.000      -347.304  -266.668\n",
       "color_G      -476.3154     20.058    -23.746      0.000      -515.630  -437.001\n",
       "color_H      -957.1964     21.395    -44.739      0.000      -999.131  -915.262\n",
       "color_I     -1377.7105     23.968    -57.481      0.000     -1424.688 -1330.733\n",
       "color_J     -2222.3878     29.658    -74.935      0.000     -2280.517 -2164.258\n",
       "==============================================================================\n",
       "Omnibus:                    10541.356   Durbin-Watson:                   1.994\n",
       "Prob(Omnibus):                  0.000   Jarque-Bera (JB):           233765.588\n",
       "Skew:                           0.458   Prob(JB):                         0.00\n",
       "Kurtosis:                      13.553   Cond. No.                         49.0\n",
       "==============================================================================\n",
       "\n",
       "Warnings:\n",
       "[1] Standard Errors assume that the covariance matrix of the errors is correctly specified.\n",
       "\"\"\""
      ]
     },
     "execution_count": 183,
     "metadata": {},
     "output_type": "execute_result"
    }
   ],
   "source": [
    "# this is the standard import if you're using \"formula notation\" (similar to R)\n",
    "import statsmodels.formula.api as smf\n",
    "\n",
    "# create a fitted model in one line\n",
    "lm = smf.ols(formula='price ~ carat + cut_ord + clarity_ord + color_E + color_F + color_G + color_H + color_I + color_J', data=data).fit()\n",
    "\n",
    "lm.summary()"
   ]
  },
  {
   "cell_type": "markdown",
   "metadata": {},
   "source": [
    "# Make a Prediction"
   ]
  },
  {
   "cell_type": "code",
   "execution_count": 184,
   "metadata": {
    "collapsed": false
   },
   "outputs": [
    {
     "data": {
      "text/html": [
       "<div>\n",
       "<table border=\"1\" class=\"dataframe\">\n",
       "  <thead>\n",
       "    <tr style=\"text-align: right;\">\n",
       "      <th></th>\n",
       "      <th>carat</th>\n",
       "      <th>cut</th>\n",
       "      <th>cut_ord</th>\n",
       "      <th>color</th>\n",
       "      <th>clarity</th>\n",
       "      <th>clarity_ord</th>\n",
       "    </tr>\n",
       "  </thead>\n",
       "  <tbody>\n",
       "    <tr>\n",
       "      <th>1</th>\n",
       "      <td>1.22</td>\n",
       "      <td>Premium</td>\n",
       "      <td>4</td>\n",
       "      <td>G</td>\n",
       "      <td>SI1</td>\n",
       "      <td>3</td>\n",
       "    </tr>\n",
       "    <tr>\n",
       "      <th>2</th>\n",
       "      <td>1.01</td>\n",
       "      <td>Good</td>\n",
       "      <td>2</td>\n",
       "      <td>G</td>\n",
       "      <td>VS2</td>\n",
       "      <td>5</td>\n",
       "    </tr>\n",
       "    <tr>\n",
       "      <th>3</th>\n",
       "      <td>0.71</td>\n",
       "      <td>Very Good</td>\n",
       "      <td>3</td>\n",
       "      <td>I</td>\n",
       "      <td>VS2</td>\n",
       "      <td>5</td>\n",
       "    </tr>\n",
       "    <tr>\n",
       "      <th>4</th>\n",
       "      <td>1.01</td>\n",
       "      <td>Ideal</td>\n",
       "      <td>5</td>\n",
       "      <td>D</td>\n",
       "      <td>SI2</td>\n",
       "      <td>2</td>\n",
       "    </tr>\n",
       "    <tr>\n",
       "      <th>5</th>\n",
       "      <td>0.27</td>\n",
       "      <td>Ideal</td>\n",
       "      <td>5</td>\n",
       "      <td>H</td>\n",
       "      <td>VVS2</td>\n",
       "      <td>6</td>\n",
       "    </tr>\n",
       "  </tbody>\n",
       "</table>\n",
       "</div>"
      ],
      "text/plain": [
       "   carat        cut  cut_ord color clarity  clarity_ord\n",
       "1   1.22    Premium        4     G     SI1            3\n",
       "2   1.01       Good        2     G     VS2            5\n",
       "3   0.71  Very Good        3     I     VS2            5\n",
       "4   1.01      Ideal        5     D     SI2            2\n",
       "5   0.27      Ideal        5     H    VVS2            6"
      ]
     },
     "execution_count": 184,
     "metadata": {},
     "output_type": "execute_result"
    }
   ],
   "source": [
    "diamonds_new = pd.read_csv('data/new-diamonds.csv', index_col=0)\n",
    "diamonds_new.head()"
   ]
  },
  {
   "cell_type": "code",
   "execution_count": 185,
   "metadata": {
    "collapsed": false
   },
   "outputs": [
    {
     "data": {
      "text/html": [
       "<div>\n",
       "<table border=\"1\" class=\"dataframe\">\n",
       "  <thead>\n",
       "    <tr style=\"text-align: right;\">\n",
       "      <th></th>\n",
       "      <th>carat</th>\n",
       "      <th>cut</th>\n",
       "      <th>cut_ord</th>\n",
       "      <th>color</th>\n",
       "      <th>clarity</th>\n",
       "      <th>clarity_ord</th>\n",
       "      <th>color_E</th>\n",
       "      <th>color_F</th>\n",
       "      <th>color_G</th>\n",
       "      <th>color_H</th>\n",
       "      <th>color_I</th>\n",
       "      <th>color_J</th>\n",
       "    </tr>\n",
       "  </thead>\n",
       "  <tbody>\n",
       "    <tr>\n",
       "      <th>1</th>\n",
       "      <td>1.22</td>\n",
       "      <td>Premium</td>\n",
       "      <td>4</td>\n",
       "      <td>G</td>\n",
       "      <td>SI1</td>\n",
       "      <td>3</td>\n",
       "      <td>0.0</td>\n",
       "      <td>0.0</td>\n",
       "      <td>1.0</td>\n",
       "      <td>0.0</td>\n",
       "      <td>0.0</td>\n",
       "      <td>0.0</td>\n",
       "    </tr>\n",
       "    <tr>\n",
       "      <th>2</th>\n",
       "      <td>1.01</td>\n",
       "      <td>Good</td>\n",
       "      <td>2</td>\n",
       "      <td>G</td>\n",
       "      <td>VS2</td>\n",
       "      <td>5</td>\n",
       "      <td>0.0</td>\n",
       "      <td>0.0</td>\n",
       "      <td>1.0</td>\n",
       "      <td>0.0</td>\n",
       "      <td>0.0</td>\n",
       "      <td>0.0</td>\n",
       "    </tr>\n",
       "    <tr>\n",
       "      <th>3</th>\n",
       "      <td>0.71</td>\n",
       "      <td>Very Good</td>\n",
       "      <td>3</td>\n",
       "      <td>I</td>\n",
       "      <td>VS2</td>\n",
       "      <td>5</td>\n",
       "      <td>0.0</td>\n",
       "      <td>0.0</td>\n",
       "      <td>0.0</td>\n",
       "      <td>0.0</td>\n",
       "      <td>1.0</td>\n",
       "      <td>0.0</td>\n",
       "    </tr>\n",
       "    <tr>\n",
       "      <th>4</th>\n",
       "      <td>1.01</td>\n",
       "      <td>Ideal</td>\n",
       "      <td>5</td>\n",
       "      <td>D</td>\n",
       "      <td>SI2</td>\n",
       "      <td>2</td>\n",
       "      <td>0.0</td>\n",
       "      <td>0.0</td>\n",
       "      <td>0.0</td>\n",
       "      <td>0.0</td>\n",
       "      <td>0.0</td>\n",
       "      <td>0.0</td>\n",
       "    </tr>\n",
       "    <tr>\n",
       "      <th>5</th>\n",
       "      <td>0.27</td>\n",
       "      <td>Ideal</td>\n",
       "      <td>5</td>\n",
       "      <td>H</td>\n",
       "      <td>VVS2</td>\n",
       "      <td>6</td>\n",
       "      <td>0.0</td>\n",
       "      <td>0.0</td>\n",
       "      <td>0.0</td>\n",
       "      <td>1.0</td>\n",
       "      <td>0.0</td>\n",
       "      <td>0.0</td>\n",
       "    </tr>\n",
       "  </tbody>\n",
       "</table>\n",
       "</div>"
      ],
      "text/plain": [
       "   carat        cut  cut_ord color clarity  clarity_ord  color_E  color_F  \\\n",
       "1   1.22    Premium        4     G     SI1            3      0.0      0.0   \n",
       "2   1.01       Good        2     G     VS2            5      0.0      0.0   \n",
       "3   0.71  Very Good        3     I     VS2            5      0.0      0.0   \n",
       "4   1.01      Ideal        5     D     SI2            2      0.0      0.0   \n",
       "5   0.27      Ideal        5     H    VVS2            6      0.0      0.0   \n",
       "\n",
       "   color_G  color_H  color_I  color_J  \n",
       "1      1.0      0.0      0.0      0.0  \n",
       "2      1.0      0.0      0.0      0.0  \n",
       "3      0.0      0.0      1.0      0.0  \n",
       "4      0.0      0.0      0.0      0.0  \n",
       "5      0.0      1.0      0.0      0.0  "
      ]
     },
     "execution_count": 185,
     "metadata": {},
     "output_type": "execute_result"
    }
   ],
   "source": [
    "new_dummies = pd.get_dummies(diamonds_new.color, prefix='color').iloc[:, 1:]\n",
    "# concatenate the dummy variable columns onto the original DataFrame (axis=0 means rows, axis=1 means columns)\n",
    "new_data = pd.concat([diamonds_new, new_dummies], axis=1)\n",
    "new_data.head()"
   ]
  },
  {
   "cell_type": "code",
   "execution_count": 186,
   "metadata": {
    "collapsed": false
   },
   "outputs": [
    {
     "data": {
      "text/html": [
       "<div>\n",
       "<table border=\"1\" class=\"dataframe\">\n",
       "  <thead>\n",
       "    <tr style=\"text-align: right;\">\n",
       "      <th></th>\n",
       "      <th>carat</th>\n",
       "      <th>cut_ord</th>\n",
       "      <th>clarity_ord</th>\n",
       "      <th>color_E</th>\n",
       "      <th>color_F</th>\n",
       "      <th>color_G</th>\n",
       "      <th>color_H</th>\n",
       "      <th>color_I</th>\n",
       "      <th>color_J</th>\n",
       "    </tr>\n",
       "  </thead>\n",
       "  <tbody>\n",
       "    <tr>\n",
       "      <th>1</th>\n",
       "      <td>1.22</td>\n",
       "      <td>4</td>\n",
       "      <td>3</td>\n",
       "      <td>0.0</td>\n",
       "      <td>0.0</td>\n",
       "      <td>1.0</td>\n",
       "      <td>0.0</td>\n",
       "      <td>0.0</td>\n",
       "      <td>0.0</td>\n",
       "    </tr>\n",
       "    <tr>\n",
       "      <th>2</th>\n",
       "      <td>1.01</td>\n",
       "      <td>2</td>\n",
       "      <td>5</td>\n",
       "      <td>0.0</td>\n",
       "      <td>0.0</td>\n",
       "      <td>1.0</td>\n",
       "      <td>0.0</td>\n",
       "      <td>0.0</td>\n",
       "      <td>0.0</td>\n",
       "    </tr>\n",
       "    <tr>\n",
       "      <th>3</th>\n",
       "      <td>0.71</td>\n",
       "      <td>3</td>\n",
       "      <td>5</td>\n",
       "      <td>0.0</td>\n",
       "      <td>0.0</td>\n",
       "      <td>0.0</td>\n",
       "      <td>0.0</td>\n",
       "      <td>1.0</td>\n",
       "      <td>0.0</td>\n",
       "    </tr>\n",
       "    <tr>\n",
       "      <th>4</th>\n",
       "      <td>1.01</td>\n",
       "      <td>5</td>\n",
       "      <td>2</td>\n",
       "      <td>0.0</td>\n",
       "      <td>0.0</td>\n",
       "      <td>0.0</td>\n",
       "      <td>0.0</td>\n",
       "      <td>0.0</td>\n",
       "      <td>0.0</td>\n",
       "    </tr>\n",
       "    <tr>\n",
       "      <th>5</th>\n",
       "      <td>0.27</td>\n",
       "      <td>5</td>\n",
       "      <td>6</td>\n",
       "      <td>0.0</td>\n",
       "      <td>0.0</td>\n",
       "      <td>0.0</td>\n",
       "      <td>1.0</td>\n",
       "      <td>0.0</td>\n",
       "      <td>0.0</td>\n",
       "    </tr>\n",
       "  </tbody>\n",
       "</table>\n",
       "</div>"
      ],
      "text/plain": [
       "   carat  cut_ord  clarity_ord  color_E  color_F  color_G  color_H  color_I  \\\n",
       "1   1.22        4            3      0.0      0.0      1.0      0.0      0.0   \n",
       "2   1.01        2            5      0.0      0.0      1.0      0.0      0.0   \n",
       "3   0.71        3            5      0.0      0.0      0.0      0.0      1.0   \n",
       "4   1.01        5            2      0.0      0.0      0.0      0.0      0.0   \n",
       "5   0.27        5            6      0.0      0.0      0.0      1.0      0.0   \n",
       "\n",
       "   color_J  \n",
       "1      0.0  \n",
       "2      0.0  \n",
       "3      0.0  \n",
       "4      0.0  \n",
       "5      0.0  "
      ]
     },
     "execution_count": 186,
     "metadata": {},
     "output_type": "execute_result"
    }
   ],
   "source": [
    "feature_cols = ['carat', 'cut_ord', 'clarity_ord', 'color_E', 'color_F',\n",
    "                'color_G', 'color_H', 'color_I', 'color_J']\n",
    "X = new_data[feature_cols]\n",
    "X.head()"
   ]
  },
  {
   "cell_type": "code",
   "execution_count": 187,
   "metadata": {
    "collapsed": false
   },
   "outputs": [
    {
     "data": {
      "text/plain": [
       "0          1\n",
       "1          2\n",
       "2          3\n",
       "3          4\n",
       "4          5\n",
       "        ... \n",
       "2995    2996\n",
       "2996    2997\n",
       "2997    2998\n",
       "2998    2999\n",
       "2999    3000\n",
       "dtype: int64"
      ]
     },
     "execution_count": 187,
     "metadata": {},
     "output_type": "execute_result"
    }
   ],
   "source": [
    "# make sure index start from 1 not 0\n",
    "pd.Series(range(len(new_data)))+1"
   ]
  },
  {
   "cell_type": "code",
   "execution_count": 188,
   "metadata": {
    "collapsed": false
   },
   "outputs": [
    {
     "data": {
      "text/html": [
       "<div>\n",
       "<table border=\"1\" class=\"dataframe\">\n",
       "  <thead>\n",
       "    <tr style=\"text-align: right;\">\n",
       "      <th></th>\n",
       "      <th>carat</th>\n",
       "      <th>cut</th>\n",
       "      <th>cut_ord</th>\n",
       "      <th>color</th>\n",
       "      <th>clarity</th>\n",
       "      <th>clarity_ord</th>\n",
       "      <th>color_E</th>\n",
       "      <th>color_F</th>\n",
       "      <th>color_G</th>\n",
       "      <th>color_H</th>\n",
       "      <th>color_I</th>\n",
       "      <th>color_J</th>\n",
       "      <th>new_price</th>\n",
       "    </tr>\n",
       "  </thead>\n",
       "  <tbody>\n",
       "    <tr>\n",
       "      <th>1</th>\n",
       "      <td>1.22</td>\n",
       "      <td>Premium</td>\n",
       "      <td>4</td>\n",
       "      <td>G</td>\n",
       "      <td>SI1</td>\n",
       "      <td>3</td>\n",
       "      <td>0.0</td>\n",
       "      <td>0.0</td>\n",
       "      <td>1.0</td>\n",
       "      <td>0.0</td>\n",
       "      <td>0.0</td>\n",
       "      <td>0.0</td>\n",
       "      <td>7213.018564</td>\n",
       "    </tr>\n",
       "    <tr>\n",
       "      <th>2</th>\n",
       "      <td>1.01</td>\n",
       "      <td>Good</td>\n",
       "      <td>2</td>\n",
       "      <td>G</td>\n",
       "      <td>VS2</td>\n",
       "      <td>5</td>\n",
       "      <td>0.0</td>\n",
       "      <td>0.0</td>\n",
       "      <td>1.0</td>\n",
       "      <td>0.0</td>\n",
       "      <td>0.0</td>\n",
       "      <td>0.0</td>\n",
       "      <td>6027.359861</td>\n",
       "    </tr>\n",
       "    <tr>\n",
       "      <th>3</th>\n",
       "      <td>0.71</td>\n",
       "      <td>Very Good</td>\n",
       "      <td>3</td>\n",
       "      <td>I</td>\n",
       "      <td>VS2</td>\n",
       "      <td>5</td>\n",
       "      <td>0.0</td>\n",
       "      <td>0.0</td>\n",
       "      <td>0.0</td>\n",
       "      <td>0.0</td>\n",
       "      <td>1.0</td>\n",
       "      <td>0.0</td>\n",
       "      <td>2659.717162</td>\n",
       "    </tr>\n",
       "    <tr>\n",
       "      <th>4</th>\n",
       "      <td>1.01</td>\n",
       "      <td>Ideal</td>\n",
       "      <td>5</td>\n",
       "      <td>D</td>\n",
       "      <td>SI2</td>\n",
       "      <td>2</td>\n",
       "      <td>0.0</td>\n",
       "      <td>0.0</td>\n",
       "      <td>0.0</td>\n",
       "      <td>0.0</td>\n",
       "      <td>0.0</td>\n",
       "      <td>0.0</td>\n",
       "      <td>5526.012885</td>\n",
       "    </tr>\n",
       "    <tr>\n",
       "      <th>5</th>\n",
       "      <td>0.27</td>\n",
       "      <td>Ideal</td>\n",
       "      <td>5</td>\n",
       "      <td>H</td>\n",
       "      <td>VVS2</td>\n",
       "      <td>6</td>\n",
       "      <td>0.0</td>\n",
       "      <td>0.0</td>\n",
       "      <td>0.0</td>\n",
       "      <td>1.0</td>\n",
       "      <td>0.0</td>\n",
       "      <td>0.0</td>\n",
       "      <td>32.230452</td>\n",
       "    </tr>\n",
       "  </tbody>\n",
       "</table>\n",
       "</div>"
      ],
      "text/plain": [
       "   carat        cut  cut_ord color clarity  clarity_ord  color_E  color_F  \\\n",
       "1   1.22    Premium        4     G     SI1            3      0.0      0.0   \n",
       "2   1.01       Good        2     G     VS2            5      0.0      0.0   \n",
       "3   0.71  Very Good        3     I     VS2            5      0.0      0.0   \n",
       "4   1.01      Ideal        5     D     SI2            2      0.0      0.0   \n",
       "5   0.27      Ideal        5     H    VVS2            6      0.0      0.0   \n",
       "\n",
       "   color_G  color_H  color_I  color_J    new_price  \n",
       "1      1.0      0.0      0.0      0.0  7213.018564  \n",
       "2      1.0      0.0      0.0      0.0  6027.359861  \n",
       "3      0.0      0.0      1.0      0.0  2659.717162  \n",
       "4      0.0      0.0      0.0      0.0  5526.012885  \n",
       "5      0.0      1.0      0.0      0.0    32.230452  "
      ]
     },
     "execution_count": 188,
     "metadata": {},
     "output_type": "execute_result"
    }
   ],
   "source": [
    "predictions = lm.predict(X)\n",
    "new_price = pd.Series(predictions, name='new_price', index=pd.Series(range(len(predictions)))+1)\n",
    "new_data_full = pd.concat([new_data, new_price], axis=1)\n",
    "new_data_full.head()"
   ]
  },
  {
   "cell_type": "markdown",
   "metadata": {},
   "source": [
    "## Plot the new dataset"
   ]
  },
  {
   "cell_type": "code",
   "execution_count": 189,
   "metadata": {
    "collapsed": false
   },
   "outputs": [
    {
     "data": {
      "text/plain": [
       "<matplotlib.axes._subplots.AxesSubplot at 0x1156731d0>"
      ]
     },
     "execution_count": 189,
     "metadata": {},
     "output_type": "execute_result"
    },
    {
     "data": {
      "image/png": "[encoded data removed]",
      "text/plain": [
       "<matplotlib.figure.Figure at 0x111c4f9d0>"
      ]
     },
     "metadata": {},
     "output_type": "display_data"
    }
   ],
   "source": [
    "new_data_full.plot(kind='scatter', x='carat', y='new_price')"
   ]
  },
  {
   "cell_type": "markdown",
   "metadata": {},
   "source": [
    "# The Business Problem\n",
    "You recently started working for a company that manufactures and sells high-end home goods. **Last year the company sent out its first print catalog**, and is preparing to send out this year's catalog in the coming months. The company has **250 new customers** from their mailing list that they want to send the catalog to.\n",
    "\n",
    "Your manager has been asked to determine how much profit the company can expect from sending a catalog to these customers. You, the business analyst, are assigned to help your manager run the numbers. While fairly knowledgeable about data analysis, your manager is not very familiar with predictive models.\n",
    "\n",
    "You’ve been asked to predict the expected profit from these 250 new customers. **Management does not want to send the catalog out to these new customers unless the expected profit contribution exceeds 10,000 dollars.**\n",
    "\n",
    "### Details\n",
    "\n",
    "The costs of printing and distributing is **6.50 dollars per catalog.\n",
    "The average gross margin (price - cost) on all products sold through the catalog is 50%.\n",
    "Make sure to multiply your revenue by the gross margin first before you subtract out the 6.50 cost when calculating your profit.**\n",
    "\n",
    "Write a short report with your recommendations outlining your reasons why the company should go with your recommendations to your manager.\n",
    "\n",
    "### Steps to Success\n",
    "\n",
    "#### Step 1: Business and Data Understanding\n",
    "Your project should include:\n",
    "\n",
    "A description of the key business decisions that need to be made.\n",
    "Note: Clean data is provided for this project, so you can skip the data preparation step of the Problem Solving Framework.\n",
    "\n",
    "#### Step 2: Analysis, Modeling, and Validation\n",
    "Build a linear regression model, then use it to predict sales for the 250 customers. We encourage you to use Alteryx to build the best linear model with your data.\n",
    "\n",
    "Note: For students using software other than Alteryx, if you decide to use Customer Segment as one of your predictor variables, please set the base case to Credit Card Only.\n",
    "\n",
    "However, feel free to use any tool you’d like. You should create your linear regression model and come up with a linear regression equation.\n",
    "\n",
    "Once you have your linear regression equation, you should use your linear regression equation to predict sales for the individual people in your mailing list.\n",
    "\n",
    "#### Step 3: Writeup\n",
    "Once you have your predicted or expected profit, write a brief report with your recommendation to whether the company should send the catalog or not.\n",
    "\n",
    "Hint: We want to calculate the expected revenue from these 250 people in order to get expected profit. This means we need to multiply the probability that a person will buy our catalog as well. For example, if a customer were to buy from us, we predict this customer will buy 450 dollars worth of products. At a 30 pct chance that this person will actually buy from us, we can expect revenue to be 450 x 30 pct = 135."
   ]
  },
  {
   "cell_type": "markdown",
   "metadata": {},
   "source": [
    "### Review\n",
    "Use the project rubric to review your project. If you are happy with your submission, then you're ready to submit your project. If you see room for improvement, keep working to improve your project.\n",
    "\n",
    "### Submission Template\n",
    "Use the submission template at the bottom of this section to submit your project. After filling it out, save it as a PDF and submit the PDF in the next section.\n",
    "\n",
    "### Data\n",
    "#### p1-customers.xlsx -\n",
    "This dataset includes the following information on about 2,300 customers. Important: You should build your model on this dataset and not p1-mailinglist.xlsx.\n",
    "\n",
    "#### p1-mailinglist.xlsx - \n",
    "This dataset is the 250 customers that you need to predict sales. This is the list of customers that the company would send a catalog to. Use this dataset to estimate how much revenue the company can expect if they send out the catalog. It has the same fields as P1_Customers.xlsx, but includes two additional variables.\n",
    "\n",
    "**Score_No**: The probability that the customer WILL NOT respond to the catalog and not make a purchase.\n",
    "**Score_Yes**: The probability that the customer WILL respond to the catalog and make a purchase.\n",
    "\n",
    "Hint: We want to calculate the expected revenue from these 250 people in order to get expected profit. This means we need to multiply the probability that a person will buy our catalog as well. \n",
    "\n",
    "For example, if a customer were to buy from us, we predict this customer will buy 450 dollars worth of products. At a 30pct chance that this person will actually buy from us, we can expect revenue to be 450 dollar x 30 pct = 135 dollar\n",
    "\n"
   ]
  },
  {
   "cell_type": "markdown",
   "metadata": {},
   "source": [
    "# Project 1: Predicting Catalog Demand\n",
    "Complete each section. When you are ready, save your file as a PDF document and submit it here:  https://classroom.udacity.com/nanodegrees/nd008/parts/c0b53068-1239-4f01-82bf-24886872f48e/project\n",
    " \n",
    "## Step 1: Business and Data Understanding\n",
    "Provide an explanation of the key decisions that need to be made. (500 word limit)\n",
    "\n",
    "### Key Decisions:\n",
    "Answer these questions\n",
    "\n",
    "#### What decisions needs to be made?\n",
    "\n",
    "![Profit Formula](image/formula.png)\n",
    "\n",
    "If total profit is greater than 10000 dollars, catalogs can be sent to 250 new customers, if not, don't send. \n",
    "\n",
    "\n",
    "#### What data is needed to inform those decisions?\n",
    "\n",
    "## Step 2: Analysis, Modeling, and Validation\n",
    "Provide a description of how you set up your linear regression model, what variables you used and why, and the results of the model. Visualizations are encouraged. (500 word limit)\n",
    "\n",
    "Important: Use the p1-customers.xlsx to train your linear model. \n",
    " \n",
    "At the minimum, answer these questions:\n",
    "\n",
    "How and why did you select the predictor variables (see supplementary text) in your model? You must explain how your continuous predictor variables you’ve chosen have a linear relationship with the target variable. Please refer to this lesson to help you explore your data and use scatterplots to search for linear relationships. You must include scatterplots in your answer.\n",
    "\n",
    "Explain why you believe your linear model is a good model. You must justify your reasoning using the statistical results that your regression model created. For each variable you selected, please justify how each variable is a good fit for your model by using the p-values and R-squared values that your model produced.\n",
    "\n",
    "What is the best linear regression equation based on the available data? Each coefficient should have no more than 2 digits after the decimal (ex: 1.28)\n",
    "\n",
    "Important: The regression equation should be in the form:\n",
    "\n",
    "Y = Intercept + b1 * Variable_1 + b2 * Variable_2 + b3 * Variable_3……\n",
    "\n",
    "For example: Y = 482.24 + 28.83 * Loan_Status – 159 * Income + 49 (If Type: Credit Card) – 90 (If Type: Mortgage) + 0 (If Type: Cash)\n",
    "\n",
    "Note that we must include the 0 coefficient for the type Cash.\n",
    "\n",
    "Note: For students using software other than Alteryx, if you decide to use Customer Segment as one of your predictor variables, please set the base case to Credit Card Only.\n",
    " \n",
    "Step 3: Presentation/Visualization\n",
    "Use your model results to provide a recommendation. (500 word limit)\n",
    "\n",
    "At the minimum, answer these questions:\n",
    "\n",
    "What is your recommendation? Should the company send the catalog to these 250 customers?\n",
    "\n",
    "How did you come up with your recommendation? (Please explain your process so reviewers can give you feedback on your process)\n",
    "\n",
    "What is the expected profit from the new catalog (assuming the catalog is sent to these 250 customers)?\n",
    "\n",
    "\n",
    "Before you Submit\n",
    "\n",
    "Please check your answers against the requirements of the project dictated by the rubric here. Reviewers will use this rubric to grade your project.\n"
   ]
  },
  {
   "cell_type": "code",
   "execution_count": 190,
   "metadata": {
    "collapsed": true
   },
   "outputs": [],
   "source": [
    "customers = pd.read_excel('data/p1-customers.xlsx')"
   ]
  },
  {
   "cell_type": "code",
   "execution_count": 191,
   "metadata": {
    "collapsed": false
   },
   "outputs": [
    {
     "data": {
      "text/html": [
       "<div>\n",
       "<table border=\"1\" class=\"dataframe\">\n",
       "  <thead>\n",
       "    <tr style=\"text-align: right;\">\n",
       "      <th></th>\n",
       "      <th>Name</th>\n",
       "      <th>Customer Segment</th>\n",
       "      <th>Customer ID</th>\n",
       "      <th>Address</th>\n",
       "      <th>City</th>\n",
       "      <th>State</th>\n",
       "      <th>ZIP</th>\n",
       "      <th>Avg Sale Amount</th>\n",
       "      <th>Store Number</th>\n",
       "      <th>Responded to Last Catalog</th>\n",
       "      <th>Avg Num Products Purchased</th>\n",
       "      <th># Years as Customer</th>\n",
       "    </tr>\n",
       "  </thead>\n",
       "  <tbody>\n",
       "    <tr>\n",
       "      <th>2370</th>\n",
       "      <td>Joan Delisa</td>\n",
       "      <td>Credit Card Only</td>\n",
       "      <td>3287</td>\n",
       "      <td>1657 S King St</td>\n",
       "      <td>Denver</td>\n",
       "      <td>CO</td>\n",
       "      <td>80219</td>\n",
       "      <td>818.72</td>\n",
       "      <td>101</td>\n",
       "      <td>No</td>\n",
       "      <td>5</td>\n",
       "      <td>1</td>\n",
       "    </tr>\n",
       "    <tr>\n",
       "      <th>2371</th>\n",
       "      <td>Helen Cordiner</td>\n",
       "      <td>Credit Card Only</td>\n",
       "      <td>3299</td>\n",
       "      <td>2102 S Lansing Ct</td>\n",
       "      <td>Aurora</td>\n",
       "      <td>CO</td>\n",
       "      <td>80014</td>\n",
       "      <td>564.93</td>\n",
       "      <td>105</td>\n",
       "      <td>No</td>\n",
       "      <td>6</td>\n",
       "      <td>4</td>\n",
       "    </tr>\n",
       "    <tr>\n",
       "      <th>2372</th>\n",
       "      <td>Angela Finley</td>\n",
       "      <td>Credit Card Only</td>\n",
       "      <td>3303</td>\n",
       "      <td>1068 S Jasper St</td>\n",
       "      <td>Aurora</td>\n",
       "      <td>CO</td>\n",
       "      <td>80017</td>\n",
       "      <td>605.07</td>\n",
       "      <td>105</td>\n",
       "      <td>No</td>\n",
       "      <td>6</td>\n",
       "      <td>4</td>\n",
       "    </tr>\n",
       "    <tr>\n",
       "      <th>2373</th>\n",
       "      <td>Christine Sullivan</td>\n",
       "      <td>Credit Card Only</td>\n",
       "      <td>3304</td>\n",
       "      <td>7901 W 52nd Ave</td>\n",
       "      <td>Arvada</td>\n",
       "      <td>CO</td>\n",
       "      <td>80002</td>\n",
       "      <td>656.79</td>\n",
       "      <td>107</td>\n",
       "      <td>No</td>\n",
       "      <td>7</td>\n",
       "      <td>7</td>\n",
       "    </tr>\n",
       "    <tr>\n",
       "      <th>2374</th>\n",
       "      <td>Elissa Engledow</td>\n",
       "      <td>Credit Card Only</td>\n",
       "      <td>3315</td>\n",
       "      <td>9360 E Center Ave</td>\n",
       "      <td>Denver</td>\n",
       "      <td>CO</td>\n",
       "      <td>80247</td>\n",
       "      <td>167.59</td>\n",
       "      <td>104</td>\n",
       "      <td>No</td>\n",
       "      <td>1</td>\n",
       "      <td>3</td>\n",
       "    </tr>\n",
       "  </tbody>\n",
       "</table>\n",
       "</div>"
      ],
      "text/plain": [
       "                    Name  Customer Segment  Customer ID            Address  \\\n",
       "2370         Joan Delisa  Credit Card Only         3287     1657 S King St   \n",
       "2371      Helen Cordiner  Credit Card Only         3299  2102 S Lansing Ct   \n",
       "2372       Angela Finley  Credit Card Only         3303   1068 S Jasper St   \n",
       "2373  Christine Sullivan  Credit Card Only         3304    7901 W 52nd Ave   \n",
       "2374     Elissa Engledow  Credit Card Only         3315  9360 E Center Ave   \n",
       "\n",
       "        City State    ZIP  Avg Sale Amount  Store Number  \\\n",
       "2370  Denver    CO  80219           818.72           101   \n",
       "2371  Aurora    CO  80014           564.93           105   \n",
       "2372  Aurora    CO  80017           605.07           105   \n",
       "2373  Arvada    CO  80002           656.79           107   \n",
       "2374  Denver    CO  80247           167.59           104   \n",
       "\n",
       "     Responded to Last Catalog  Avg Num Products Purchased  \\\n",
       "2370                        No                           5   \n",
       "2371                        No                           6   \n",
       "2372                        No                           6   \n",
       "2373                        No                           7   \n",
       "2374                        No                           1   \n",
       "\n",
       "      # Years as Customer  \n",
       "2370                    1  \n",
       "2371                    4  \n",
       "2372                    4  \n",
       "2373                    7  \n",
       "2374                    3  "
      ]
     },
     "execution_count": 191,
     "metadata": {},
     "output_type": "execute_result"
    }
   ],
   "source": [
    "customers.tail()"
   ]
  },
  {
   "cell_type": "code",
   "execution_count": 192,
   "metadata": {
    "collapsed": true
   },
   "outputs": [],
   "source": [
    "mailinglist = pd.read_csv('data/p1-mailinglist.csv')"
   ]
  },
  {
   "cell_type": "code",
   "execution_count": 193,
   "metadata": {
    "collapsed": false
   },
   "outputs": [
    {
     "data": {
      "text/html": [
       "<div>\n",
       "<table border=\"1\" class=\"dataframe\">\n",
       "  <thead>\n",
       "    <tr style=\"text-align: right;\">\n",
       "      <th></th>\n",
       "      <th>Name</th>\n",
       "      <th>Customer Segment</th>\n",
       "      <th>Customer ID</th>\n",
       "      <th>Address</th>\n",
       "      <th>City</th>\n",
       "      <th>State</th>\n",
       "      <th>ZIP</th>\n",
       "      <th>Store Number</th>\n",
       "      <th>Avg Num Products Purchased</th>\n",
       "      <th># Years as Customer</th>\n",
       "      <th>Score_No</th>\n",
       "      <th>Score_Yes</th>\n",
       "    </tr>\n",
       "  </thead>\n",
       "  <tbody>\n",
       "    <tr>\n",
       "      <th>0</th>\n",
       "      <td>A Giametti</td>\n",
       "      <td>Loyalty Club Only</td>\n",
       "      <td>2213</td>\n",
       "      <td>5326 S Lisbon Way</td>\n",
       "      <td>Centennial</td>\n",
       "      <td>CO</td>\n",
       "      <td>80015</td>\n",
       "      <td>105</td>\n",
       "      <td>3</td>\n",
       "      <td>0.2</td>\n",
       "      <td>0.694964</td>\n",
       "      <td>0.305036</td>\n",
       "    </tr>\n",
       "    <tr>\n",
       "      <th>1</th>\n",
       "      <td>Abby Pierson</td>\n",
       "      <td>Loyalty Club and Credit Card</td>\n",
       "      <td>2785</td>\n",
       "      <td>4344 W Roanoke Pl</td>\n",
       "      <td>Denver</td>\n",
       "      <td>CO</td>\n",
       "      <td>80236</td>\n",
       "      <td>101</td>\n",
       "      <td>6</td>\n",
       "      <td>0.6</td>\n",
       "      <td>0.527275</td>\n",
       "      <td>0.472725</td>\n",
       "    </tr>\n",
       "    <tr>\n",
       "      <th>2</th>\n",
       "      <td>Adele Hallman</td>\n",
       "      <td>Loyalty Club Only</td>\n",
       "      <td>2931</td>\n",
       "      <td>5219 S Delaware St</td>\n",
       "      <td>Englewood</td>\n",
       "      <td>CO</td>\n",
       "      <td>80110</td>\n",
       "      <td>101</td>\n",
       "      <td>7</td>\n",
       "      <td>0.9</td>\n",
       "      <td>0.421118</td>\n",
       "      <td>0.578882</td>\n",
       "    </tr>\n",
       "    <tr>\n",
       "      <th>3</th>\n",
       "      <td>Alejandra Baird</td>\n",
       "      <td>Loyalty Club Only</td>\n",
       "      <td>2231</td>\n",
       "      <td>2301 Lawrence St</td>\n",
       "      <td>Denver</td>\n",
       "      <td>CO</td>\n",
       "      <td>80205</td>\n",
       "      <td>103</td>\n",
       "      <td>2</td>\n",
       "      <td>0.6</td>\n",
       "      <td>0.694862</td>\n",
       "      <td>0.305138</td>\n",
       "    </tr>\n",
       "    <tr>\n",
       "      <th>4</th>\n",
       "      <td>Alice Dewitt</td>\n",
       "      <td>Loyalty Club Only</td>\n",
       "      <td>2530</td>\n",
       "      <td>5549 S Hannibal Way</td>\n",
       "      <td>Centennial</td>\n",
       "      <td>CO</td>\n",
       "      <td>80015</td>\n",
       "      <td>104</td>\n",
       "      <td>4</td>\n",
       "      <td>0.5</td>\n",
       "      <td>0.612294</td>\n",
       "      <td>0.387706</td>\n",
       "    </tr>\n",
       "  </tbody>\n",
       "</table>\n",
       "</div>"
      ],
      "text/plain": [
       "              Name              Customer Segment  Customer ID  \\\n",
       "0       A Giametti             Loyalty Club Only         2213   \n",
       "1     Abby Pierson  Loyalty Club and Credit Card         2785   \n",
       "2    Adele Hallman             Loyalty Club Only         2931   \n",
       "3  Alejandra Baird             Loyalty Club Only         2231   \n",
       "4     Alice Dewitt             Loyalty Club Only         2530   \n",
       "\n",
       "               Address        City State    ZIP  Store Number  \\\n",
       "0    5326 S Lisbon Way  Centennial    CO  80015           105   \n",
       "1    4344 W Roanoke Pl      Denver    CO  80236           101   \n",
       "2   5219 S Delaware St   Englewood    CO  80110           101   \n",
       "3     2301 Lawrence St      Denver    CO  80205           103   \n",
       "4  5549 S Hannibal Way  Centennial    CO  80015           104   \n",
       "\n",
       "   Avg Num Products Purchased  # Years as Customer  Score_No  Score_Yes  \n",
       "0                           3                  0.2  0.694964   0.305036  \n",
       "1                           6                  0.6  0.527275   0.472725  \n",
       "2                           7                  0.9  0.421118   0.578882  \n",
       "3                           2                  0.6  0.694862   0.305138  \n",
       "4                           4                  0.5  0.612294   0.387706  "
      ]
     },
     "execution_count": 193,
     "metadata": {},
     "output_type": "execute_result"
    }
   ],
   "source": [
    "mailinglist.head()"
   ]
  },
  {
   "cell_type": "code",
   "execution_count": 194,
   "metadata": {
    "collapsed": false
   },
   "outputs": [
    {
     "name": "stdout",
     "output_type": "stream",
     "text": [
      "Index([u'Name', u'Customer Segment', u'Customer ID', u'Address', u'City',\n",
      "       u'State', u'ZIP', u'Avg Sale Amount', u'Store Number',\n",
      "       u'Responded to Last Catalog', u'Avg Num Products Purchased',\n",
      "       u'# Years as Customer'],\n",
      "      dtype='object')\n",
      "Index([u'Name', u'Customer Segment', u'Customer ID', u'Address', u'City',\n",
      "       u'State', u'ZIP', u'Store Number', u'Avg Num Products Purchased',\n",
      "       u'# Years as Customer', u'Score_No', u'Score_Yes'],\n",
      "      dtype='object')\n",
      "(2375, 12)\n",
      "(250, 12)\n"
     ]
    }
   ],
   "source": [
    "# customers: has Avg Sale Amount, which mailinglist doesn't have \n",
    "# mailinglist: has Score_No and Score_Yes, which Customers doesn't have \n",
    "# we need to build a model upon customers\n",
    "print customers.columns\n",
    "print mailinglist.columns\n",
    "print customers.shape\n",
    "print mailinglist.shape"
   ]
  },
  {
   "cell_type": "markdown",
   "metadata": {},
   "source": [
    "## Select Features"
   ]
  },
  {
   "cell_type": "markdown",
   "metadata": {},
   "source": [
    "### Customer Segment\n",
    "There are 4 different segments, last year all customers from 4 segments had been sent catalogs; this year, another 225 new customers are to be considered sending.\n",
    "Maybe different segment has different rate of buying items given catalog.\n",
    "\n",
    "Customer Segment is a categorical feature, we need to use dummy variable here. "
   ]
  },
  {
   "cell_type": "code",
   "execution_count": 195,
   "metadata": {
    "collapsed": false
   },
   "outputs": [
    {
     "data": {
      "text/plain": [
       "array([u'Store Mailing List', u'Loyalty Club and Credit Card',\n",
       "       u'Loyalty Club Only', u'Credit Card Only'], dtype=object)"
      ]
     },
     "execution_count": 195,
     "metadata": {},
     "output_type": "execute_result"
    }
   ],
   "source": [
    "# Customer Segment\n",
    "customers['Customer Segment'].unique()"
   ]
  },
  {
   "cell_type": "code",
   "execution_count": 196,
   "metadata": {
    "collapsed": false
   },
   "outputs": [
    {
     "data": {
      "text/plain": [
       "array(['Loyalty Club Only', 'Loyalty Club and Credit Card',\n",
       "       'Credit Card Only', 'Store Mailing List'], dtype=object)"
      ]
     },
     "execution_count": 196,
     "metadata": {},
     "output_type": "execute_result"
    }
   ],
   "source": [
    "mailinglist['Customer Segment'].unique()"
   ]
  },
  {
   "cell_type": "code",
   "execution_count": 197,
   "metadata": {
    "collapsed": false
   },
   "outputs": [
    {
     "name": "stdout",
     "output_type": "stream",
     "text": [
      "Customer Segment\n",
      "Credit Card Only                 494\n",
      "Loyalty Club Only                579\n",
      "Loyalty Club and Credit Card     194\n",
      "Store Mailing List              1108\n",
      "Name: Customer Segment, dtype: int64\n",
      "Customer Segment\n",
      "Credit Card Only                 82\n",
      "Loyalty Club Only               122\n",
      "Loyalty Club and Credit Card     26\n",
      "Store Mailing List               20\n",
      "Name: Customer Segment, dtype: int64\n"
     ]
    }
   ],
   "source": [
    "print customers.groupby('Customer Segment')['Customer Segment'].count()\n",
    "print mailinglist.groupby('Customer Segment')['Customer Segment'].count()"
   ]
  },
  {
   "cell_type": "code",
   "execution_count": 198,
   "metadata": {
    "collapsed": false
   },
   "outputs": [
    {
     "data": {
      "text/html": [
       "<div>\n",
       "<table border=\"1\" class=\"dataframe\">\n",
       "  <thead>\n",
       "    <tr style=\"text-align: right;\">\n",
       "      <th></th>\n",
       "      <th>Name</th>\n",
       "      <th>Customer Segment</th>\n",
       "      <th>Customer ID</th>\n",
       "      <th>Address</th>\n",
       "      <th>City</th>\n",
       "      <th>State</th>\n",
       "      <th>ZIP</th>\n",
       "      <th>Avg Sale Amount</th>\n",
       "      <th>Store Number</th>\n",
       "      <th>Responded to Last Catalog</th>\n",
       "      <th>Avg Num Products Purchased</th>\n",
       "      <th># Years as Customer</th>\n",
       "    </tr>\n",
       "  </thead>\n",
       "  <tbody>\n",
       "    <tr>\n",
       "      <th>1284</th>\n",
       "      <td>Diana Pederson</td>\n",
       "      <td>Loyalty Club and Credit Card</td>\n",
       "      <td>2905</td>\n",
       "      <td>6881 E 77th Pl</td>\n",
       "      <td>Commerce City</td>\n",
       "      <td>CO</td>\n",
       "      <td>80022</td>\n",
       "      <td>137.08</td>\n",
       "      <td>107</td>\n",
       "      <td>Yes</td>\n",
       "      <td>1</td>\n",
       "      <td>1</td>\n",
       "    </tr>\n",
       "    <tr>\n",
       "      <th>1359</th>\n",
       "      <td>Tiffany Zalikowski</td>\n",
       "      <td>Loyalty Club Only</td>\n",
       "      <td>321</td>\n",
       "      <td>9633 E 5th Ave</td>\n",
       "      <td>Denver</td>\n",
       "      <td>CO</td>\n",
       "      <td>80230</td>\n",
       "      <td>143.99</td>\n",
       "      <td>105</td>\n",
       "      <td>Yes</td>\n",
       "      <td>1</td>\n",
       "      <td>1</td>\n",
       "    </tr>\n",
       "    <tr>\n",
       "      <th>1526</th>\n",
       "      <td>Janet Whitaker</td>\n",
       "      <td>Loyalty Club Only</td>\n",
       "      <td>1276</td>\n",
       "      <td>2726 S Hooker St</td>\n",
       "      <td>Denver</td>\n",
       "      <td>CO</td>\n",
       "      <td>80236</td>\n",
       "      <td>98.67</td>\n",
       "      <td>101</td>\n",
       "      <td>Yes</td>\n",
       "      <td>1</td>\n",
       "      <td>6</td>\n",
       "    </tr>\n",
       "    <tr>\n",
       "      <th>1596</th>\n",
       "      <td>Yvette West</td>\n",
       "      <td>Loyalty Club Only</td>\n",
       "      <td>1663</td>\n",
       "      <td>2601 Newport St</td>\n",
       "      <td>Denver</td>\n",
       "      <td>CO</td>\n",
       "      <td>80207</td>\n",
       "      <td>232.16</td>\n",
       "      <td>100</td>\n",
       "      <td>Yes</td>\n",
       "      <td>3</td>\n",
       "      <td>4</td>\n",
       "    </tr>\n",
       "    <tr>\n",
       "      <th>1685</th>\n",
       "      <td>Sherry Earls</td>\n",
       "      <td>Loyalty Club Only</td>\n",
       "      <td>2137</td>\n",
       "      <td>2405 Bell Ct</td>\n",
       "      <td>Lakewood</td>\n",
       "      <td>CO</td>\n",
       "      <td>80215</td>\n",
       "      <td>215.48</td>\n",
       "      <td>106</td>\n",
       "      <td>Yes</td>\n",
       "      <td>2</td>\n",
       "      <td>8</td>\n",
       "    </tr>\n",
       "    <tr>\n",
       "      <th>...</th>\n",
       "      <td>...</td>\n",
       "      <td>...</td>\n",
       "      <td>...</td>\n",
       "      <td>...</td>\n",
       "      <td>...</td>\n",
       "      <td>...</td>\n",
       "      <td>...</td>\n",
       "      <td>...</td>\n",
       "      <td>...</td>\n",
       "      <td>...</td>\n",
       "      <td>...</td>\n",
       "      <td>...</td>\n",
       "    </tr>\n",
       "    <tr>\n",
       "      <th>2013</th>\n",
       "      <td>Cheryl Lorenz</td>\n",
       "      <td>Credit Card Only</td>\n",
       "      <td>1079</td>\n",
       "      <td>826 S Eliot St</td>\n",
       "      <td>Denver</td>\n",
       "      <td>CO</td>\n",
       "      <td>80219</td>\n",
       "      <td>242.72</td>\n",
       "      <td>106</td>\n",
       "      <td>Yes</td>\n",
       "      <td>2</td>\n",
       "      <td>8</td>\n",
       "    </tr>\n",
       "    <tr>\n",
       "      <th>2039</th>\n",
       "      <td>Holly Boggs</td>\n",
       "      <td>Credit Card Only</td>\n",
       "      <td>1239</td>\n",
       "      <td>7166 W Custer Ave</td>\n",
       "      <td>Lakewood</td>\n",
       "      <td>CO</td>\n",
       "      <td>80226</td>\n",
       "      <td>221.58</td>\n",
       "      <td>106</td>\n",
       "      <td>Yes</td>\n",
       "      <td>2</td>\n",
       "      <td>3</td>\n",
       "    </tr>\n",
       "    <tr>\n",
       "      <th>2093</th>\n",
       "      <td>Elizabeth Meck</td>\n",
       "      <td>Credit Card Only</td>\n",
       "      <td>1584</td>\n",
       "      <td>1010 S Kalispell St</td>\n",
       "      <td>Aurora</td>\n",
       "      <td>CO</td>\n",
       "      <td>80017</td>\n",
       "      <td>105.91</td>\n",
       "      <td>105</td>\n",
       "      <td>Yes</td>\n",
       "      <td>1</td>\n",
       "      <td>8</td>\n",
       "    </tr>\n",
       "    <tr>\n",
       "      <th>2264</th>\n",
       "      <td>Kimberly Biagiotti</td>\n",
       "      <td>Credit Card Only</td>\n",
       "      <td>2667</td>\n",
       "      <td>6828 S Elizabeth St</td>\n",
       "      <td>Centennial</td>\n",
       "      <td>CO</td>\n",
       "      <td>80122</td>\n",
       "      <td>131.05</td>\n",
       "      <td>100</td>\n",
       "      <td>Yes</td>\n",
       "      <td>2</td>\n",
       "      <td>8</td>\n",
       "    </tr>\n",
       "    <tr>\n",
       "      <th>2308</th>\n",
       "      <td>Laurie Dressler</td>\n",
       "      <td>Credit Card Only</td>\n",
       "      <td>2960</td>\n",
       "      <td>2731 W Amherst Ave</td>\n",
       "      <td>Denver</td>\n",
       "      <td>CO</td>\n",
       "      <td>80236</td>\n",
       "      <td>186.51</td>\n",
       "      <td>101</td>\n",
       "      <td>Yes</td>\n",
       "      <td>3</td>\n",
       "      <td>2</td>\n",
       "    </tr>\n",
       "  </tbody>\n",
       "</table>\n",
       "<p>16 rows × 12 columns</p>\n",
       "</div>"
      ],
      "text/plain": [
       "                    Name              Customer Segment  Customer ID  \\\n",
       "1284      Diana Pederson  Loyalty Club and Credit Card         2905   \n",
       "1359  Tiffany Zalikowski             Loyalty Club Only          321   \n",
       "1526      Janet Whitaker             Loyalty Club Only         1276   \n",
       "1596         Yvette West             Loyalty Club Only         1663   \n",
       "1685        Sherry Earls             Loyalty Club Only         2137   \n",
       "...                  ...                           ...          ...   \n",
       "2013       Cheryl Lorenz              Credit Card Only         1079   \n",
       "2039         Holly Boggs              Credit Card Only         1239   \n",
       "2093      Elizabeth Meck              Credit Card Only         1584   \n",
       "2264  Kimberly Biagiotti              Credit Card Only         2667   \n",
       "2308     Laurie Dressler              Credit Card Only         2960   \n",
       "\n",
       "                  Address           City State    ZIP  Avg Sale Amount  \\\n",
       "1284       6881 E 77th Pl  Commerce City    CO  80022           137.08   \n",
       "1359       9633 E 5th Ave         Denver    CO  80230           143.99   \n",
       "1526     2726 S Hooker St         Denver    CO  80236            98.67   \n",
       "1596      2601 Newport St         Denver    CO  80207           232.16   \n",
       "1685         2405 Bell Ct       Lakewood    CO  80215           215.48   \n",
       "...                   ...            ...   ...    ...              ...   \n",
       "2013       826 S Eliot St         Denver    CO  80219           242.72   \n",
       "2039    7166 W Custer Ave       Lakewood    CO  80226           221.58   \n",
       "2093  1010 S Kalispell St         Aurora    CO  80017           105.91   \n",
       "2264  6828 S Elizabeth St     Centennial    CO  80122           131.05   \n",
       "2308   2731 W Amherst Ave         Denver    CO  80236           186.51   \n",
       "\n",
       "      Store Number Responded to Last Catalog  Avg Num Products Purchased  \\\n",
       "1284           107                       Yes                           1   \n",
       "1359           105                       Yes                           1   \n",
       "1526           101                       Yes                           1   \n",
       "1596           100                       Yes                           3   \n",
       "1685           106                       Yes                           2   \n",
       "...            ...                       ...                         ...   \n",
       "2013           106                       Yes                           2   \n",
       "2039           106                       Yes                           2   \n",
       "2093           105                       Yes                           1   \n",
       "2264           100                       Yes                           2   \n",
       "2308           101                       Yes                           3   \n",
       "\n",
       "      # Years as Customer  \n",
       "1284                    1  \n",
       "1359                    1  \n",
       "1526                    6  \n",
       "1596                    4  \n",
       "1685                    8  \n",
       "...                   ...  \n",
       "2013                    8  \n",
       "2039                    3  \n",
       "2093                    8  \n",
       "2264                    8  \n",
       "2308                    2  \n",
       "\n",
       "[16 rows x 12 columns]"
      ]
     },
     "execution_count": 198,
     "metadata": {},
     "output_type": "execute_result"
    }
   ],
   "source": [
    "customers[(customers['Customer Segment'] != 'Store Mailing List') & (customers['Responded to Last Catalog']=='Yes')]"
   ]
  },
  {
   "cell_type": "code",
   "execution_count": 199,
   "metadata": {
    "collapsed": false
   },
   "outputs": [
    {
     "data": {
      "text/plain": [
       "(171, 12)"
      ]
     },
     "execution_count": 199,
     "metadata": {},
     "output_type": "execute_result"
    }
   ],
   "source": [
    "customers[ (customers['Responded to Last Catalog']=='Yes')].shape"
   ]
  },
  {
   "cell_type": "markdown",
   "metadata": {},
   "source": [
    "####  Let's make dummy variables for Customer Segment"
   ]
  },
  {
   "cell_type": "code",
   "execution_count": 200,
   "metadata": {
    "collapsed": false
   },
   "outputs": [
    {
     "data": {
      "text/html": [
       "<div>\n",
       "<table border=\"1\" class=\"dataframe\">\n",
       "  <thead>\n",
       "    <tr style=\"text-align: right;\">\n",
       "      <th></th>\n",
       "      <th>Name</th>\n",
       "      <th>Customer Segment</th>\n",
       "      <th>Customer ID</th>\n",
       "      <th>Address</th>\n",
       "      <th>City</th>\n",
       "      <th>State</th>\n",
       "      <th>ZIP</th>\n",
       "      <th>Avg Sale Amount</th>\n",
       "      <th>Store Number</th>\n",
       "      <th>Responded to Last Catalog</th>\n",
       "      <th>Avg Num Products Purchased</th>\n",
       "      <th># Years as Customer</th>\n",
       "      <th>CS_Loyalty Club Only</th>\n",
       "      <th>CS_Loyalty Club and Credit Card</th>\n",
       "      <th>CS_Store Mailing List</th>\n",
       "    </tr>\n",
       "  </thead>\n",
       "  <tbody>\n",
       "    <tr>\n",
       "      <th>0</th>\n",
       "      <td>Pamela Wright</td>\n",
       "      <td>Store Mailing List</td>\n",
       "      <td>2</td>\n",
       "      <td>376 S Jasmine St</td>\n",
       "      <td>Denver</td>\n",
       "      <td>CO</td>\n",
       "      <td>80224</td>\n",
       "      <td>227.90</td>\n",
       "      <td>100</td>\n",
       "      <td>No</td>\n",
       "      <td>1</td>\n",
       "      <td>6</td>\n",
       "      <td>0.0</td>\n",
       "      <td>0.0</td>\n",
       "      <td>1.0</td>\n",
       "    </tr>\n",
       "    <tr>\n",
       "      <th>1</th>\n",
       "      <td>Danell Valdez</td>\n",
       "      <td>Store Mailing List</td>\n",
       "      <td>7</td>\n",
       "      <td>12066 E Lake Cir</td>\n",
       "      <td>Greenwood Village</td>\n",
       "      <td>CO</td>\n",
       "      <td>80111</td>\n",
       "      <td>55.00</td>\n",
       "      <td>105</td>\n",
       "      <td>Yes</td>\n",
       "      <td>1</td>\n",
       "      <td>6</td>\n",
       "      <td>0.0</td>\n",
       "      <td>0.0</td>\n",
       "      <td>1.0</td>\n",
       "    </tr>\n",
       "    <tr>\n",
       "      <th>2</th>\n",
       "      <td>Jessica Rinehart</td>\n",
       "      <td>Store Mailing List</td>\n",
       "      <td>8</td>\n",
       "      <td>7225 S Gaylord St</td>\n",
       "      <td>Centennial</td>\n",
       "      <td>CO</td>\n",
       "      <td>80122</td>\n",
       "      <td>212.57</td>\n",
       "      <td>101</td>\n",
       "      <td>No</td>\n",
       "      <td>1</td>\n",
       "      <td>3</td>\n",
       "      <td>0.0</td>\n",
       "      <td>0.0</td>\n",
       "      <td>1.0</td>\n",
       "    </tr>\n",
       "    <tr>\n",
       "      <th>3</th>\n",
       "      <td>Nancy Clark</td>\n",
       "      <td>Store Mailing List</td>\n",
       "      <td>9</td>\n",
       "      <td>4497 Cornish Way</td>\n",
       "      <td>Denver</td>\n",
       "      <td>CO</td>\n",
       "      <td>80239</td>\n",
       "      <td>195.31</td>\n",
       "      <td>105</td>\n",
       "      <td>Yes</td>\n",
       "      <td>1</td>\n",
       "      <td>6</td>\n",
       "      <td>0.0</td>\n",
       "      <td>0.0</td>\n",
       "      <td>1.0</td>\n",
       "    </tr>\n",
       "    <tr>\n",
       "      <th>4</th>\n",
       "      <td>Andrea Brun</td>\n",
       "      <td>Store Mailing List</td>\n",
       "      <td>10</td>\n",
       "      <td>2316 E 5th Ave</td>\n",
       "      <td>Denver</td>\n",
       "      <td>CO</td>\n",
       "      <td>80206</td>\n",
       "      <td>110.55</td>\n",
       "      <td>100</td>\n",
       "      <td>Yes</td>\n",
       "      <td>1</td>\n",
       "      <td>2</td>\n",
       "      <td>0.0</td>\n",
       "      <td>0.0</td>\n",
       "      <td>1.0</td>\n",
       "    </tr>\n",
       "  </tbody>\n",
       "</table>\n",
       "</div>"
      ],
      "text/plain": [
       "               Name    Customer Segment  Customer ID            Address  \\\n",
       "0     Pamela Wright  Store Mailing List            2   376 S Jasmine St   \n",
       "1     Danell Valdez  Store Mailing List            7   12066 E Lake Cir   \n",
       "2  Jessica Rinehart  Store Mailing List            8  7225 S Gaylord St   \n",
       "3       Nancy Clark  Store Mailing List            9   4497 Cornish Way   \n",
       "4       Andrea Brun  Store Mailing List           10     2316 E 5th Ave   \n",
       "\n",
       "                City State    ZIP  Avg Sale Amount  Store Number  \\\n",
       "0             Denver    CO  80224           227.90           100   \n",
       "1  Greenwood Village    CO  80111            55.00           105   \n",
       "2         Centennial    CO  80122           212.57           101   \n",
       "3             Denver    CO  80239           195.31           105   \n",
       "4             Denver    CO  80206           110.55           100   \n",
       "\n",
       "  Responded to Last Catalog  Avg Num Products Purchased  # Years as Customer  \\\n",
       "0                        No                           1                    6   \n",
       "1                       Yes                           1                    6   \n",
       "2                        No                           1                    3   \n",
       "3                       Yes                           1                    6   \n",
       "4                       Yes                           1                    2   \n",
       "\n",
       "   CS_Loyalty Club Only  CS_Loyalty Club and Credit Card  \\\n",
       "0                   0.0                              0.0   \n",
       "1                   0.0                              0.0   \n",
       "2                   0.0                              0.0   \n",
       "3                   0.0                              0.0   \n",
       "4                   0.0                              0.0   \n",
       "\n",
       "   CS_Store Mailing List  \n",
       "0                    1.0  \n",
       "1                    1.0  \n",
       "2                    1.0  \n",
       "3                    1.0  \n",
       "4                    1.0  "
      ]
     },
     "execution_count": 200,
     "metadata": {},
     "output_type": "execute_result"
    }
   ],
   "source": [
    "# create three dummy variables using get_dummies, then exclude the first dummy column\n",
    "CS_dummies = pd.get_dummies(customers['Customer Segment'], prefix='CS').iloc[:, 1:]\n",
    "\n",
    "# concatenate the dummy variable columns onto the original DataFrame (axis=0 means rows, axis=1 means columns)\n",
    "train1 = pd.concat([customers, CS_dummies], axis=1)\n",
    "train1.head()"
   ]
  },
  {
   "cell_type": "code",
   "execution_count": 201,
   "metadata": {
    "collapsed": false
   },
   "outputs": [
    {
     "data": {
      "text/html": [
       "<div>\n",
       "<table border=\"1\" class=\"dataframe\">\n",
       "  <thead>\n",
       "    <tr style=\"text-align: right;\">\n",
       "      <th></th>\n",
       "      <th>Name</th>\n",
       "      <th>Customer Segment</th>\n",
       "      <th>Customer ID</th>\n",
       "      <th>Address</th>\n",
       "      <th>City</th>\n",
       "      <th>State</th>\n",
       "      <th>ZIP</th>\n",
       "      <th>Store Number</th>\n",
       "      <th>Avg Num Products Purchased</th>\n",
       "      <th># Years as Customer</th>\n",
       "      <th>Score_No</th>\n",
       "      <th>Score_Yes</th>\n",
       "      <th>CS_Loyalty Club Only</th>\n",
       "      <th>CS_Loyalty Club and Credit Card</th>\n",
       "      <th>CS_Store Mailing List</th>\n",
       "    </tr>\n",
       "  </thead>\n",
       "  <tbody>\n",
       "    <tr>\n",
       "      <th>245</th>\n",
       "      <td>Wanda Stiveson</td>\n",
       "      <td>Credit Card Only</td>\n",
       "      <td>1129</td>\n",
       "      <td>13080 W Montana Dr</td>\n",
       "      <td>Lakewood</td>\n",
       "      <td>CO</td>\n",
       "      <td>80228</td>\n",
       "      <td>107</td>\n",
       "      <td>18</td>\n",
       "      <td>0.3</td>\n",
       "      <td>0.783806</td>\n",
       "      <td>0.216194</td>\n",
       "      <td>0.0</td>\n",
       "      <td>0.0</td>\n",
       "      <td>0.0</td>\n",
       "    </tr>\n",
       "    <tr>\n",
       "      <th>246</th>\n",
       "      <td>Wendy Crenshaw</td>\n",
       "      <td>Loyalty Club Only</td>\n",
       "      <td>304</td>\n",
       "      <td>12483 W 8th Ave</td>\n",
       "      <td>Golden</td>\n",
       "      <td>CO</td>\n",
       "      <td>80401</td>\n",
       "      <td>106</td>\n",
       "      <td>3</td>\n",
       "      <td>0.6</td>\n",
       "      <td>0.807200</td>\n",
       "      <td>0.192800</td>\n",
       "      <td>1.0</td>\n",
       "      <td>0.0</td>\n",
       "      <td>0.0</td>\n",
       "    </tr>\n",
       "    <tr>\n",
       "      <th>247</th>\n",
       "      <td>Wendy Renaud</td>\n",
       "      <td>Loyalty Club Only</td>\n",
       "      <td>2629</td>\n",
       "      <td>700 S Alton Way</td>\n",
       "      <td>Denver</td>\n",
       "      <td>CO</td>\n",
       "      <td>80247</td>\n",
       "      <td>100</td>\n",
       "      <td>6</td>\n",
       "      <td>0.1</td>\n",
       "      <td>0.576544</td>\n",
       "      <td>0.423456</td>\n",
       "      <td>1.0</td>\n",
       "      <td>0.0</td>\n",
       "      <td>0.0</td>\n",
       "    </tr>\n",
       "    <tr>\n",
       "      <th>248</th>\n",
       "      <td>Wilma Reid</td>\n",
       "      <td>Credit Card Only</td>\n",
       "      <td>1917</td>\n",
       "      <td>6763 W Yale Ave</td>\n",
       "      <td>Lakewood</td>\n",
       "      <td>CO</td>\n",
       "      <td>80227</td>\n",
       "      <td>101</td>\n",
       "      <td>7</td>\n",
       "      <td>0.2</td>\n",
       "      <td>0.740749</td>\n",
       "      <td>0.259251</td>\n",
       "      <td>0.0</td>\n",
       "      <td>0.0</td>\n",
       "      <td>0.0</td>\n",
       "    </tr>\n",
       "    <tr>\n",
       "      <th>249</th>\n",
       "      <td>Yvette Kent</td>\n",
       "      <td>Credit Card Only</td>\n",
       "      <td>762</td>\n",
       "      <td>1071 Worchester St</td>\n",
       "      <td>Aurora</td>\n",
       "      <td>CO</td>\n",
       "      <td>80011</td>\n",
       "      <td>100</td>\n",
       "      <td>5</td>\n",
       "      <td>0.5</td>\n",
       "      <td>0.796350</td>\n",
       "      <td>0.203650</td>\n",
       "      <td>0.0</td>\n",
       "      <td>0.0</td>\n",
       "      <td>0.0</td>\n",
       "    </tr>\n",
       "  </tbody>\n",
       "</table>\n",
       "</div>"
      ],
      "text/plain": [
       "               Name   Customer Segment  Customer ID             Address  \\\n",
       "245  Wanda Stiveson   Credit Card Only         1129  13080 W Montana Dr   \n",
       "246  Wendy Crenshaw  Loyalty Club Only          304     12483 W 8th Ave   \n",
       "247    Wendy Renaud  Loyalty Club Only         2629     700 S Alton Way   \n",
       "248      Wilma Reid   Credit Card Only         1917     6763 W Yale Ave   \n",
       "249     Yvette Kent   Credit Card Only          762  1071 Worchester St   \n",
       "\n",
       "         City State    ZIP  Store Number  Avg Num Products Purchased  \\\n",
       "245  Lakewood    CO  80228           107                          18   \n",
       "246    Golden    CO  80401           106                           3   \n",
       "247    Denver    CO  80247           100                           6   \n",
       "248  Lakewood    CO  80227           101                           7   \n",
       "249    Aurora    CO  80011           100                           5   \n",
       "\n",
       "     # Years as Customer  Score_No  Score_Yes  CS_Loyalty Club Only  \\\n",
       "245                  0.3  0.783806   0.216194                   0.0   \n",
       "246                  0.6  0.807200   0.192800                   1.0   \n",
       "247                  0.1  0.576544   0.423456                   1.0   \n",
       "248                  0.2  0.740749   0.259251                   0.0   \n",
       "249                  0.5  0.796350   0.203650                   0.0   \n",
       "\n",
       "     CS_Loyalty Club and Credit Card  CS_Store Mailing List  \n",
       "245                              0.0                    0.0  \n",
       "246                              0.0                    0.0  \n",
       "247                              0.0                    0.0  \n",
       "248                              0.0                    0.0  \n",
       "249                              0.0                    0.0  "
      ]
     },
     "execution_count": 201,
     "metadata": {},
     "output_type": "execute_result"
    }
   ],
   "source": [
    "# create three dummy variables using get_dummies, then exclude the first dummy column\n",
    "CS_dummies_test = pd.get_dummies(mailinglist['Customer Segment'], prefix='CS').iloc[:, 1:]\n",
    "\n",
    "# concatenate the dummy variable columns onto the original DataFrame (axis=0 means rows, axis=1 means columns)\n",
    "test1 = pd.concat([mailinglist, CS_dummies_test], axis=1)\n",
    "test1.tail()"
   ]
  },
  {
   "cell_type": "markdown",
   "metadata": {},
   "source": [
    "### Customer ID, Address, Zip Code\n",
    "These two are less likely to be influential in making a purchase after receiving a catalog\n",
    "\n",
    "Customer ID is unique to each person, which is useless in prediction. \n",
    "Address and Zip Code are also quite specific or not general enough.\n",
    "\n",
    "Location of a customer could have effect on purchase, but I will consider location in City and States which are more general for potential predicition"
   ]
  },
  {
   "cell_type": "markdown",
   "metadata": {},
   "source": [
    "### City and State as a feature \n",
    "Maybe people from the same city or town are more likely to act in a similar way when receiving a catalog\n",
    "\n",
    "Make sure new customers come from the same cities as last year's customers\n",
    "\n",
    "cityState is a new column combining City and State, and dummy variable is needed for it\n",
    "\n",
    "Later I found out all cities are from the same state. "
   ]
  },
  {
   "cell_type": "code",
   "execution_count": 202,
   "metadata": {
    "collapsed": false
   },
   "outputs": [
    {
     "name": "stdout",
     "output_type": "stream",
     "text": [
      "cityState\n",
      "ArvadaCO         247\n",
      "AuroraCO         493\n",
      "BoulderCO          3\n",
      "BrightonCO         2\n",
      "BroomfieldCO     125\n",
      "                ... \n",
      "ParkerCO          27\n",
      "SuperiorCO         9\n",
      "ThorntonCO        35\n",
      "WestminsterCO     85\n",
      "Wheat RidgeCO     54\n",
      "Name: cityState, dtype: int64\n",
      "(27,)\n",
      "Index([                      u'Name',           u'Customer Segment',\n",
      "                      u'Customer ID',                    u'Address',\n",
      "                             u'City',                      u'State',\n",
      "                              u'ZIP',            u'Avg Sale Amount',\n",
      "                     u'Store Number',  u'Responded to Last Catalog',\n",
      "       u'Avg Num Products Purchased',        u'# Years as Customer',\n",
      "                        u'cityState'],\n",
      "      dtype='object')\n"
     ]
    }
   ],
   "source": [
    "# merge City and State into one single column, \n",
    "# make sure same city name in two different states considered to be two cities\n",
    "customers['cityState'] = customers.City + customers.State\n",
    "print customers.groupby('cityState').cityState.count()\n",
    "print customers.groupby('cityState').cityState.count().shape\n",
    "print customers.columns"
   ]
  },
  {
   "cell_type": "code",
   "execution_count": 203,
   "metadata": {
    "collapsed": false
   },
   "outputs": [
    {
     "name": "stdout",
     "output_type": "stream",
     "text": [
      "cityState\n",
      "ArvadaCO          25\n",
      "AuroraCO          59\n",
      "BroomfieldCO      13\n",
      "Castle PinesCO     1\n",
      "CentennialCO       9\n",
      "                  ..\n",
      "NorthglennCO       3\n",
      "ParkerCO           4\n",
      "ThorntonCO         3\n",
      "WestminsterCO      6\n",
      "Wheat RidgeCO      5\n",
      "Name: cityState, dtype: int64\n",
      "(20,)\n",
      "(20,)\n",
      "(1,)\n",
      "(1,)\n"
     ]
    }
   ],
   "source": [
    "mailinglist['cityState'] = mailinglist.City + mailinglist.State\n",
    "print mailinglist.groupby('cityState').cityState.count()\n",
    "print mailinglist.groupby('cityState').cityState.count().shape\n",
    "print mailinglist.groupby('City').City.count().shape\n",
    "print mailinglist.groupby('State').State.count().shape\n",
    "print customers.groupby('State').State.count().shape\n",
    "# all cities are from the same state"
   ]
  },
  {
   "cell_type": "code",
   "execution_count": 204,
   "metadata": {
    "collapsed": false
   },
   "outputs": [
    {
     "data": {
      "text/plain": [
       "0     True\n",
       "1     True\n",
       "2     True\n",
       "3     True\n",
       "4     True\n",
       "      ... \n",
       "15    True\n",
       "16    True\n",
       "17    True\n",
       "18    True\n",
       "19    True\n",
       "dtype: bool"
      ]
     },
     "execution_count": 204,
     "metadata": {},
     "output_type": "execute_result"
    }
   ],
   "source": [
    "# Yes, new 225 mailinglist customers are from the same cities of last year's customers \n",
    "pd.Series(mailinglist.cityState.unique()).isin(pd.Series(customers.cityState.unique()))"
   ]
  },
  {
   "cell_type": "markdown",
   "metadata": {},
   "source": [
    "#### Create dummy variable for City"
   ]
  },
  {
   "cell_type": "code",
   "execution_count": 205,
   "metadata": {
    "collapsed": false
   },
   "outputs": [
    {
     "data": {
      "text/html": [
       "<div>\n",
       "<table border=\"1\" class=\"dataframe\">\n",
       "  <thead>\n",
       "    <tr style=\"text-align: right;\">\n",
       "      <th></th>\n",
       "      <th>Name</th>\n",
       "      <th>Customer Segment</th>\n",
       "      <th>Customer ID</th>\n",
       "      <th>Address</th>\n",
       "      <th>City</th>\n",
       "      <th>State</th>\n",
       "      <th>ZIP</th>\n",
       "      <th>Avg Sale Amount</th>\n",
       "      <th>Store Number</th>\n",
       "      <th>Responded to Last Catalog</th>\n",
       "      <th>...</th>\n",
       "      <th>City_Littleton</th>\n",
       "      <th>City_Lone Tree</th>\n",
       "      <th>City_Louisville</th>\n",
       "      <th>City_Morrison</th>\n",
       "      <th>City_Northglenn</th>\n",
       "      <th>City_Parker</th>\n",
       "      <th>City_Superior</th>\n",
       "      <th>City_Thornton</th>\n",
       "      <th>City_Westminster</th>\n",
       "      <th>City_Wheat Ridge</th>\n",
       "    </tr>\n",
       "  </thead>\n",
       "  <tbody>\n",
       "    <tr>\n",
       "      <th>0</th>\n",
       "      <td>Pamela Wright</td>\n",
       "      <td>Store Mailing List</td>\n",
       "      <td>2</td>\n",
       "      <td>376 S Jasmine St</td>\n",
       "      <td>Denver</td>\n",
       "      <td>CO</td>\n",
       "      <td>80224</td>\n",
       "      <td>227.90</td>\n",
       "      <td>100</td>\n",
       "      <td>No</td>\n",
       "      <td>...</td>\n",
       "      <td>0.0</td>\n",
       "      <td>0.0</td>\n",
       "      <td>0.0</td>\n",
       "      <td>0.0</td>\n",
       "      <td>0.0</td>\n",
       "      <td>0.0</td>\n",
       "      <td>0.0</td>\n",
       "      <td>0.0</td>\n",
       "      <td>0.0</td>\n",
       "      <td>0.0</td>\n",
       "    </tr>\n",
       "    <tr>\n",
       "      <th>1</th>\n",
       "      <td>Danell Valdez</td>\n",
       "      <td>Store Mailing List</td>\n",
       "      <td>7</td>\n",
       "      <td>12066 E Lake Cir</td>\n",
       "      <td>Greenwood Village</td>\n",
       "      <td>CO</td>\n",
       "      <td>80111</td>\n",
       "      <td>55.00</td>\n",
       "      <td>105</td>\n",
       "      <td>Yes</td>\n",
       "      <td>...</td>\n",
       "      <td>0.0</td>\n",
       "      <td>0.0</td>\n",
       "      <td>0.0</td>\n",
       "      <td>0.0</td>\n",
       "      <td>0.0</td>\n",
       "      <td>0.0</td>\n",
       "      <td>0.0</td>\n",
       "      <td>0.0</td>\n",
       "      <td>0.0</td>\n",
       "      <td>0.0</td>\n",
       "    </tr>\n",
       "    <tr>\n",
       "      <th>2</th>\n",
       "      <td>Jessica Rinehart</td>\n",
       "      <td>Store Mailing List</td>\n",
       "      <td>8</td>\n",
       "      <td>7225 S Gaylord St</td>\n",
       "      <td>Centennial</td>\n",
       "      <td>CO</td>\n",
       "      <td>80122</td>\n",
       "      <td>212.57</td>\n",
       "      <td>101</td>\n",
       "      <td>No</td>\n",
       "      <td>...</td>\n",
       "      <td>0.0</td>\n",
       "      <td>0.0</td>\n",
       "      <td>0.0</td>\n",
       "      <td>0.0</td>\n",
       "      <td>0.0</td>\n",
       "      <td>0.0</td>\n",
       "      <td>0.0</td>\n",
       "      <td>0.0</td>\n",
       "      <td>0.0</td>\n",
       "      <td>0.0</td>\n",
       "    </tr>\n",
       "    <tr>\n",
       "      <th>3</th>\n",
       "      <td>Nancy Clark</td>\n",
       "      <td>Store Mailing List</td>\n",
       "      <td>9</td>\n",
       "      <td>4497 Cornish Way</td>\n",
       "      <td>Denver</td>\n",
       "      <td>CO</td>\n",
       "      <td>80239</td>\n",
       "      <td>195.31</td>\n",
       "      <td>105</td>\n",
       "      <td>Yes</td>\n",
       "      <td>...</td>\n",
       "      <td>0.0</td>\n",
       "      <td>0.0</td>\n",
       "      <td>0.0</td>\n",
       "      <td>0.0</td>\n",
       "      <td>0.0</td>\n",
       "      <td>0.0</td>\n",
       "      <td>0.0</td>\n",
       "      <td>0.0</td>\n",
       "      <td>0.0</td>\n",
       "      <td>0.0</td>\n",
       "    </tr>\n",
       "    <tr>\n",
       "      <th>4</th>\n",
       "      <td>Andrea Brun</td>\n",
       "      <td>Store Mailing List</td>\n",
       "      <td>10</td>\n",
       "      <td>2316 E 5th Ave</td>\n",
       "      <td>Denver</td>\n",
       "      <td>CO</td>\n",
       "      <td>80206</td>\n",
       "      <td>110.55</td>\n",
       "      <td>100</td>\n",
       "      <td>Yes</td>\n",
       "      <td>...</td>\n",
       "      <td>0.0</td>\n",
       "      <td>0.0</td>\n",
       "      <td>0.0</td>\n",
       "      <td>0.0</td>\n",
       "      <td>0.0</td>\n",
       "      <td>0.0</td>\n",
       "      <td>0.0</td>\n",
       "      <td>0.0</td>\n",
       "      <td>0.0</td>\n",
       "      <td>0.0</td>\n",
       "    </tr>\n",
       "  </tbody>\n",
       "</table>\n",
       "<p>5 rows × 41 columns</p>\n",
       "</div>"
      ],
      "text/plain": [
       "               Name    Customer Segment  Customer ID            Address  \\\n",
       "0     Pamela Wright  Store Mailing List            2   376 S Jasmine St   \n",
       "1     Danell Valdez  Store Mailing List            7   12066 E Lake Cir   \n",
       "2  Jessica Rinehart  Store Mailing List            8  7225 S Gaylord St   \n",
       "3       Nancy Clark  Store Mailing List            9   4497 Cornish Way   \n",
       "4       Andrea Brun  Store Mailing List           10     2316 E 5th Ave   \n",
       "\n",
       "                City State    ZIP  Avg Sale Amount  Store Number  \\\n",
       "0             Denver    CO  80224           227.90           100   \n",
       "1  Greenwood Village    CO  80111            55.00           105   \n",
       "2         Centennial    CO  80122           212.57           101   \n",
       "3             Denver    CO  80239           195.31           105   \n",
       "4             Denver    CO  80206           110.55           100   \n",
       "\n",
       "  Responded to Last Catalog        ...         City_Littleton  City_Lone Tree  \\\n",
       "0                        No        ...                    0.0             0.0   \n",
       "1                       Yes        ...                    0.0             0.0   \n",
       "2                        No        ...                    0.0             0.0   \n",
       "3                       Yes        ...                    0.0             0.0   \n",
       "4                       Yes        ...                    0.0             0.0   \n",
       "\n",
       "   City_Louisville  City_Morrison  City_Northglenn  City_Parker  \\\n",
       "0              0.0            0.0              0.0          0.0   \n",
       "1              0.0            0.0              0.0          0.0   \n",
       "2              0.0            0.0              0.0          0.0   \n",
       "3              0.0            0.0              0.0          0.0   \n",
       "4              0.0            0.0              0.0          0.0   \n",
       "\n",
       "   City_Superior  City_Thornton  City_Westminster  City_Wheat Ridge  \n",
       "0            0.0            0.0               0.0               0.0  \n",
       "1            0.0            0.0               0.0               0.0  \n",
       "2            0.0            0.0               0.0               0.0  \n",
       "3            0.0            0.0               0.0               0.0  \n",
       "4            0.0            0.0               0.0               0.0  \n",
       "\n",
       "[5 rows x 41 columns]"
      ]
     },
     "execution_count": 205,
     "metadata": {},
     "output_type": "execute_result"
    }
   ],
   "source": [
    "# create three dummy variables using get_dummies, then exclude the first dummy column\n",
    "City_dummies = pd.get_dummies(customers['City'], prefix='City').iloc[:, 1:]\n",
    "\n",
    "# concatenate the dummy variable columns onto the original DataFrame (axis=0 means rows, axis=1 means columns)\n",
    "train2 = pd.concat([train1, City_dummies], axis=1)\n",
    "train2.head()"
   ]
  },
  {
   "cell_type": "code",
   "execution_count": 206,
   "metadata": {
    "collapsed": false
   },
   "outputs": [
    {
     "data": {
      "text/html": [
       "<div>\n",
       "<table border=\"1\" class=\"dataframe\">\n",
       "  <thead>\n",
       "    <tr style=\"text-align: right;\">\n",
       "      <th></th>\n",
       "      <th>Name</th>\n",
       "      <th>Customer Segment</th>\n",
       "      <th>Customer ID</th>\n",
       "      <th>Address</th>\n",
       "      <th>City</th>\n",
       "      <th>State</th>\n",
       "      <th>ZIP</th>\n",
       "      <th>Store Number</th>\n",
       "      <th>Avg Num Products Purchased</th>\n",
       "      <th># Years as Customer</th>\n",
       "      <th>...</th>\n",
       "      <th>City_Greenwood Village</th>\n",
       "      <th>City_Highlands Ranch</th>\n",
       "      <th>City_Lakewood</th>\n",
       "      <th>City_Littleton</th>\n",
       "      <th>City_Louisville</th>\n",
       "      <th>City_Northglenn</th>\n",
       "      <th>City_Parker</th>\n",
       "      <th>City_Thornton</th>\n",
       "      <th>City_Westminster</th>\n",
       "      <th>City_Wheat Ridge</th>\n",
       "    </tr>\n",
       "  </thead>\n",
       "  <tbody>\n",
       "    <tr>\n",
       "      <th>245</th>\n",
       "      <td>Wanda Stiveson</td>\n",
       "      <td>Credit Card Only</td>\n",
       "      <td>1129</td>\n",
       "      <td>13080 W Montana Dr</td>\n",
       "      <td>Lakewood</td>\n",
       "      <td>CO</td>\n",
       "      <td>80228</td>\n",
       "      <td>107</td>\n",
       "      <td>18</td>\n",
       "      <td>0.3</td>\n",
       "      <td>...</td>\n",
       "      <td>0.0</td>\n",
       "      <td>0.0</td>\n",
       "      <td>1.0</td>\n",
       "      <td>0.0</td>\n",
       "      <td>0.0</td>\n",
       "      <td>0.0</td>\n",
       "      <td>0.0</td>\n",
       "      <td>0.0</td>\n",
       "      <td>0.0</td>\n",
       "      <td>0.0</td>\n",
       "    </tr>\n",
       "    <tr>\n",
       "      <th>246</th>\n",
       "      <td>Wendy Crenshaw</td>\n",
       "      <td>Loyalty Club Only</td>\n",
       "      <td>304</td>\n",
       "      <td>12483 W 8th Ave</td>\n",
       "      <td>Golden</td>\n",
       "      <td>CO</td>\n",
       "      <td>80401</td>\n",
       "      <td>106</td>\n",
       "      <td>3</td>\n",
       "      <td>0.6</td>\n",
       "      <td>...</td>\n",
       "      <td>0.0</td>\n",
       "      <td>0.0</td>\n",
       "      <td>0.0</td>\n",
       "      <td>0.0</td>\n",
       "      <td>0.0</td>\n",
       "      <td>0.0</td>\n",
       "      <td>0.0</td>\n",
       "      <td>0.0</td>\n",
       "      <td>0.0</td>\n",
       "      <td>0.0</td>\n",
       "    </tr>\n",
       "    <tr>\n",
       "      <th>247</th>\n",
       "      <td>Wendy Renaud</td>\n",
       "      <td>Loyalty Club Only</td>\n",
       "      <td>2629</td>\n",
       "      <td>700 S Alton Way</td>\n",
       "      <td>Denver</td>\n",
       "      <td>CO</td>\n",
       "      <td>80247</td>\n",
       "      <td>100</td>\n",
       "      <td>6</td>\n",
       "      <td>0.1</td>\n",
       "      <td>...</td>\n",
       "      <td>0.0</td>\n",
       "      <td>0.0</td>\n",
       "      <td>0.0</td>\n",
       "      <td>0.0</td>\n",
       "      <td>0.0</td>\n",
       "      <td>0.0</td>\n",
       "      <td>0.0</td>\n",
       "      <td>0.0</td>\n",
       "      <td>0.0</td>\n",
       "      <td>0.0</td>\n",
       "    </tr>\n",
       "    <tr>\n",
       "      <th>248</th>\n",
       "      <td>Wilma Reid</td>\n",
       "      <td>Credit Card Only</td>\n",
       "      <td>1917</td>\n",
       "      <td>6763 W Yale Ave</td>\n",
       "      <td>Lakewood</td>\n",
       "      <td>CO</td>\n",
       "      <td>80227</td>\n",
       "      <td>101</td>\n",
       "      <td>7</td>\n",
       "      <td>0.2</td>\n",
       "      <td>...</td>\n",
       "      <td>0.0</td>\n",
       "      <td>0.0</td>\n",
       "      <td>1.0</td>\n",
       "      <td>0.0</td>\n",
       "      <td>0.0</td>\n",
       "      <td>0.0</td>\n",
       "      <td>0.0</td>\n",
       "      <td>0.0</td>\n",
       "      <td>0.0</td>\n",
       "      <td>0.0</td>\n",
       "    </tr>\n",
       "    <tr>\n",
       "      <th>249</th>\n",
       "      <td>Yvette Kent</td>\n",
       "      <td>Credit Card Only</td>\n",
       "      <td>762</td>\n",
       "      <td>1071 Worchester St</td>\n",
       "      <td>Aurora</td>\n",
       "      <td>CO</td>\n",
       "      <td>80011</td>\n",
       "      <td>100</td>\n",
       "      <td>5</td>\n",
       "      <td>0.5</td>\n",
       "      <td>...</td>\n",
       "      <td>0.0</td>\n",
       "      <td>0.0</td>\n",
       "      <td>0.0</td>\n",
       "      <td>0.0</td>\n",
       "      <td>0.0</td>\n",
       "      <td>0.0</td>\n",
       "      <td>0.0</td>\n",
       "      <td>0.0</td>\n",
       "      <td>0.0</td>\n",
       "      <td>0.0</td>\n",
       "    </tr>\n",
       "  </tbody>\n",
       "</table>\n",
       "<p>5 rows × 34 columns</p>\n",
       "</div>"
      ],
      "text/plain": [
       "               Name   Customer Segment  Customer ID             Address  \\\n",
       "245  Wanda Stiveson   Credit Card Only         1129  13080 W Montana Dr   \n",
       "246  Wendy Crenshaw  Loyalty Club Only          304     12483 W 8th Ave   \n",
       "247    Wendy Renaud  Loyalty Club Only         2629     700 S Alton Way   \n",
       "248      Wilma Reid   Credit Card Only         1917     6763 W Yale Ave   \n",
       "249     Yvette Kent   Credit Card Only          762  1071 Worchester St   \n",
       "\n",
       "         City State    ZIP  Store Number  Avg Num Products Purchased  \\\n",
       "245  Lakewood    CO  80228           107                          18   \n",
       "246    Golden    CO  80401           106                           3   \n",
       "247    Denver    CO  80247           100                           6   \n",
       "248  Lakewood    CO  80227           101                           7   \n",
       "249    Aurora    CO  80011           100                           5   \n",
       "\n",
       "     # Years as Customer        ...         City_Greenwood Village  \\\n",
       "245                  0.3        ...                            0.0   \n",
       "246                  0.6        ...                            0.0   \n",
       "247                  0.1        ...                            0.0   \n",
       "248                  0.2        ...                            0.0   \n",
       "249                  0.5        ...                            0.0   \n",
       "\n",
       "     City_Highlands Ranch  City_Lakewood  City_Littleton  City_Louisville  \\\n",
       "245                   0.0            1.0             0.0              0.0   \n",
       "246                   0.0            0.0             0.0              0.0   \n",
       "247                   0.0            0.0             0.0              0.0   \n",
       "248                   0.0            1.0             0.0              0.0   \n",
       "249                   0.0            0.0             0.0              0.0   \n",
       "\n",
       "     City_Northglenn  City_Parker  City_Thornton  City_Westminster  \\\n",
       "245              0.0          0.0            0.0               0.0   \n",
       "246              0.0          0.0            0.0               0.0   \n",
       "247              0.0          0.0            0.0               0.0   \n",
       "248              0.0          0.0            0.0               0.0   \n",
       "249              0.0          0.0            0.0               0.0   \n",
       "\n",
       "     City_Wheat Ridge  \n",
       "245               0.0  \n",
       "246               0.0  \n",
       "247               0.0  \n",
       "248               0.0  \n",
       "249               0.0  \n",
       "\n",
       "[5 rows x 34 columns]"
      ]
     },
     "execution_count": 206,
     "metadata": {},
     "output_type": "execute_result"
    }
   ],
   "source": [
    "# create three dummy variables using get_dummies, then exclude the first dummy column\n",
    "City_dummies_test = pd.get_dummies(mailinglist['City'], prefix='City').iloc[:, 1:]\n",
    "\n",
    "# concatenate the dummy variable columns onto the original DataFrame (axis=0 means rows, axis=1 means columns)\n",
    "test2 = pd.concat([test1, City_dummies_test], axis=1)\n",
    "test2.tail()"
   ]
  },
  {
   "cell_type": "markdown",
   "metadata": {},
   "source": [
    "### Store Number\n",
    "Maybe different store somehow influence its customers to shop more or less using catalog\n",
    "\n",
    "There are 10 stores, all customers are from nearby cities\n",
    "\n",
    "There are no ordinal relationship between these 10 stores, so dummy variables are needed"
   ]
  },
  {
   "cell_type": "code",
   "execution_count": 207,
   "metadata": {
    "collapsed": false
   },
   "outputs": [
    {
     "data": {
      "text/plain": [
       "Store Number\n",
       "100    326\n",
       "101    276\n",
       "102     85\n",
       "103    225\n",
       "104    270\n",
       "105    305\n",
       "106    283\n",
       "107    226\n",
       "108    210\n",
       "109    169\n",
       "Name: Store Number, dtype: int64"
      ]
     },
     "execution_count": 207,
     "metadata": {},
     "output_type": "execute_result"
    }
   ],
   "source": [
    "customers.groupby('Store Number')['Store Number'].count()"
   ]
  },
  {
   "cell_type": "code",
   "execution_count": 208,
   "metadata": {
    "collapsed": false
   },
   "outputs": [
    {
     "data": {
      "text/plain": [
       "Store Number\n",
       "100    23\n",
       "101    29\n",
       "102    12\n",
       "103    23\n",
       "104    32\n",
       "105    42\n",
       "106    28\n",
       "107    31\n",
       "108    16\n",
       "109    14\n",
       "Name: Store Number, dtype: int64"
      ]
     },
     "execution_count": 208,
     "metadata": {},
     "output_type": "execute_result"
    }
   ],
   "source": [
    "mailinglist.groupby('Store Number')['Store Number'].count()"
   ]
  },
  {
   "cell_type": "code",
   "execution_count": 209,
   "metadata": {
    "collapsed": false
   },
   "outputs": [
    {
     "data": {
      "text/html": [
       "<div>\n",
       "<table border=\"1\" class=\"dataframe\">\n",
       "  <thead>\n",
       "    <tr style=\"text-align: right;\">\n",
       "      <th></th>\n",
       "      <th>Name</th>\n",
       "      <th>Customer Segment</th>\n",
       "      <th>Customer ID</th>\n",
       "      <th>Address</th>\n",
       "      <th>City</th>\n",
       "      <th>State</th>\n",
       "      <th>ZIP</th>\n",
       "      <th>Avg Sale Amount</th>\n",
       "      <th>Store Number</th>\n",
       "      <th>Responded to Last Catalog</th>\n",
       "      <th>...</th>\n",
       "      <th>City_Wheat Ridge</th>\n",
       "      <th>SN_101</th>\n",
       "      <th>SN_102</th>\n",
       "      <th>SN_103</th>\n",
       "      <th>SN_104</th>\n",
       "      <th>SN_105</th>\n",
       "      <th>SN_106</th>\n",
       "      <th>SN_107</th>\n",
       "      <th>SN_108</th>\n",
       "      <th>SN_109</th>\n",
       "    </tr>\n",
       "  </thead>\n",
       "  <tbody>\n",
       "    <tr>\n",
       "      <th>0</th>\n",
       "      <td>Pamela Wright</td>\n",
       "      <td>Store Mailing List</td>\n",
       "      <td>2</td>\n",
       "      <td>376 S Jasmine St</td>\n",
       "      <td>Denver</td>\n",
       "      <td>CO</td>\n",
       "      <td>80224</td>\n",
       "      <td>227.90</td>\n",
       "      <td>100</td>\n",
       "      <td>No</td>\n",
       "      <td>...</td>\n",
       "      <td>0.0</td>\n",
       "      <td>0.0</td>\n",
       "      <td>0.0</td>\n",
       "      <td>0.0</td>\n",
       "      <td>0.0</td>\n",
       "      <td>0.0</td>\n",
       "      <td>0.0</td>\n",
       "      <td>0.0</td>\n",
       "      <td>0.0</td>\n",
       "      <td>0.0</td>\n",
       "    </tr>\n",
       "    <tr>\n",
       "      <th>1</th>\n",
       "      <td>Danell Valdez</td>\n",
       "      <td>Store Mailing List</td>\n",
       "      <td>7</td>\n",
       "      <td>12066 E Lake Cir</td>\n",
       "      <td>Greenwood Village</td>\n",
       "      <td>CO</td>\n",
       "      <td>80111</td>\n",
       "      <td>55.00</td>\n",
       "      <td>105</td>\n",
       "      <td>Yes</td>\n",
       "      <td>...</td>\n",
       "      <td>0.0</td>\n",
       "      <td>0.0</td>\n",
       "      <td>0.0</td>\n",
       "      <td>0.0</td>\n",
       "      <td>0.0</td>\n",
       "      <td>1.0</td>\n",
       "      <td>0.0</td>\n",
       "      <td>0.0</td>\n",
       "      <td>0.0</td>\n",
       "      <td>0.0</td>\n",
       "    </tr>\n",
       "    <tr>\n",
       "      <th>2</th>\n",
       "      <td>Jessica Rinehart</td>\n",
       "      <td>Store Mailing List</td>\n",
       "      <td>8</td>\n",
       "      <td>7225 S Gaylord St</td>\n",
       "      <td>Centennial</td>\n",
       "      <td>CO</td>\n",
       "      <td>80122</td>\n",
       "      <td>212.57</td>\n",
       "      <td>101</td>\n",
       "      <td>No</td>\n",
       "      <td>...</td>\n",
       "      <td>0.0</td>\n",
       "      <td>1.0</td>\n",
       "      <td>0.0</td>\n",
       "      <td>0.0</td>\n",
       "      <td>0.0</td>\n",
       "      <td>0.0</td>\n",
       "      <td>0.0</td>\n",
       "      <td>0.0</td>\n",
       "      <td>0.0</td>\n",
       "      <td>0.0</td>\n",
       "    </tr>\n",
       "    <tr>\n",
       "      <th>3</th>\n",
       "      <td>Nancy Clark</td>\n",
       "      <td>Store Mailing List</td>\n",
       "      <td>9</td>\n",
       "      <td>4497 Cornish Way</td>\n",
       "      <td>Denver</td>\n",
       "      <td>CO</td>\n",
       "      <td>80239</td>\n",
       "      <td>195.31</td>\n",
       "      <td>105</td>\n",
       "      <td>Yes</td>\n",
       "      <td>...</td>\n",
       "      <td>0.0</td>\n",
       "      <td>0.0</td>\n",
       "      <td>0.0</td>\n",
       "      <td>0.0</td>\n",
       "      <td>0.0</td>\n",
       "      <td>1.0</td>\n",
       "      <td>0.0</td>\n",
       "      <td>0.0</td>\n",
       "      <td>0.0</td>\n",
       "      <td>0.0</td>\n",
       "    </tr>\n",
       "    <tr>\n",
       "      <th>4</th>\n",
       "      <td>Andrea Brun</td>\n",
       "      <td>Store Mailing List</td>\n",
       "      <td>10</td>\n",
       "      <td>2316 E 5th Ave</td>\n",
       "      <td>Denver</td>\n",
       "      <td>CO</td>\n",
       "      <td>80206</td>\n",
       "      <td>110.55</td>\n",
       "      <td>100</td>\n",
       "      <td>Yes</td>\n",
       "      <td>...</td>\n",
       "      <td>0.0</td>\n",
       "      <td>0.0</td>\n",
       "      <td>0.0</td>\n",
       "      <td>0.0</td>\n",
       "      <td>0.0</td>\n",
       "      <td>0.0</td>\n",
       "      <td>0.0</td>\n",
       "      <td>0.0</td>\n",
       "      <td>0.0</td>\n",
       "      <td>0.0</td>\n",
       "    </tr>\n",
       "  </tbody>\n",
       "</table>\n",
       "<p>5 rows × 50 columns</p>\n",
       "</div>"
      ],
      "text/plain": [
       "               Name    Customer Segment  Customer ID            Address  \\\n",
       "0     Pamela Wright  Store Mailing List            2   376 S Jasmine St   \n",
       "1     Danell Valdez  Store Mailing List            7   12066 E Lake Cir   \n",
       "2  Jessica Rinehart  Store Mailing List            8  7225 S Gaylord St   \n",
       "3       Nancy Clark  Store Mailing List            9   4497 Cornish Way   \n",
       "4       Andrea Brun  Store Mailing List           10     2316 E 5th Ave   \n",
       "\n",
       "                City State    ZIP  Avg Sale Amount  Store Number  \\\n",
       "0             Denver    CO  80224           227.90           100   \n",
       "1  Greenwood Village    CO  80111            55.00           105   \n",
       "2         Centennial    CO  80122           212.57           101   \n",
       "3             Denver    CO  80239           195.31           105   \n",
       "4             Denver    CO  80206           110.55           100   \n",
       "\n",
       "  Responded to Last Catalog   ...    City_Wheat Ridge  SN_101  SN_102  SN_103  \\\n",
       "0                        No   ...                 0.0     0.0     0.0     0.0   \n",
       "1                       Yes   ...                 0.0     0.0     0.0     0.0   \n",
       "2                        No   ...                 0.0     1.0     0.0     0.0   \n",
       "3                       Yes   ...                 0.0     0.0     0.0     0.0   \n",
       "4                       Yes   ...                 0.0     0.0     0.0     0.0   \n",
       "\n",
       "   SN_104  SN_105  SN_106  SN_107  SN_108  SN_109  \n",
       "0     0.0     0.0     0.0     0.0     0.0     0.0  \n",
       "1     0.0     1.0     0.0     0.0     0.0     0.0  \n",
       "2     0.0     0.0     0.0     0.0     0.0     0.0  \n",
       "3     0.0     1.0     0.0     0.0     0.0     0.0  \n",
       "4     0.0     0.0     0.0     0.0     0.0     0.0  \n",
       "\n",
       "[5 rows x 50 columns]"
      ]
     },
     "execution_count": 209,
     "metadata": {},
     "output_type": "execute_result"
    }
   ],
   "source": [
    "# create three dummy variables using get_dummies, then exclude the first dummy column\n",
    "SN_dummies = pd.get_dummies(customers['Store Number'], prefix='SN').iloc[:, 1:]\n",
    "\n",
    "# concatenate the dummy variable columns onto the original DataFrame (axis=0 means rows, axis=1 means columns)\n",
    "train3 = pd.concat([train2, SN_dummies], axis=1)\n",
    "train3.head()"
   ]
  },
  {
   "cell_type": "code",
   "execution_count": 210,
   "metadata": {
    "collapsed": false
   },
   "outputs": [
    {
     "data": {
      "text/html": [
       "<div>\n",
       "<table border=\"1\" class=\"dataframe\">\n",
       "  <thead>\n",
       "    <tr style=\"text-align: right;\">\n",
       "      <th></th>\n",
       "      <th>Name</th>\n",
       "      <th>Customer Segment</th>\n",
       "      <th>Customer ID</th>\n",
       "      <th>Address</th>\n",
       "      <th>City</th>\n",
       "      <th>State</th>\n",
       "      <th>ZIP</th>\n",
       "      <th>Store Number</th>\n",
       "      <th>Avg Num Products Purchased</th>\n",
       "      <th># Years as Customer</th>\n",
       "      <th>...</th>\n",
       "      <th>City_Wheat Ridge</th>\n",
       "      <th>SN_101</th>\n",
       "      <th>SN_102</th>\n",
       "      <th>SN_103</th>\n",
       "      <th>SN_104</th>\n",
       "      <th>SN_105</th>\n",
       "      <th>SN_106</th>\n",
       "      <th>SN_107</th>\n",
       "      <th>SN_108</th>\n",
       "      <th>SN_109</th>\n",
       "    </tr>\n",
       "  </thead>\n",
       "  <tbody>\n",
       "    <tr>\n",
       "      <th>245</th>\n",
       "      <td>Wanda Stiveson</td>\n",
       "      <td>Credit Card Only</td>\n",
       "      <td>1129</td>\n",
       "      <td>13080 W Montana Dr</td>\n",
       "      <td>Lakewood</td>\n",
       "      <td>CO</td>\n",
       "      <td>80228</td>\n",
       "      <td>107</td>\n",
       "      <td>18</td>\n",
       "      <td>0.3</td>\n",
       "      <td>...</td>\n",
       "      <td>0.0</td>\n",
       "      <td>0.0</td>\n",
       "      <td>0.0</td>\n",
       "      <td>0.0</td>\n",
       "      <td>0.0</td>\n",
       "      <td>0.0</td>\n",
       "      <td>0.0</td>\n",
       "      <td>1.0</td>\n",
       "      <td>0.0</td>\n",
       "      <td>0.0</td>\n",
       "    </tr>\n",
       "    <tr>\n",
       "      <th>246</th>\n",
       "      <td>Wendy Crenshaw</td>\n",
       "      <td>Loyalty Club Only</td>\n",
       "      <td>304</td>\n",
       "      <td>12483 W 8th Ave</td>\n",
       "      <td>Golden</td>\n",
       "      <td>CO</td>\n",
       "      <td>80401</td>\n",
       "      <td>106</td>\n",
       "      <td>3</td>\n",
       "      <td>0.6</td>\n",
       "      <td>...</td>\n",
       "      <td>0.0</td>\n",
       "      <td>0.0</td>\n",
       "      <td>0.0</td>\n",
       "      <td>0.0</td>\n",
       "      <td>0.0</td>\n",
       "      <td>0.0</td>\n",
       "      <td>1.0</td>\n",
       "      <td>0.0</td>\n",
       "      <td>0.0</td>\n",
       "      <td>0.0</td>\n",
       "    </tr>\n",
       "    <tr>\n",
       "      <th>247</th>\n",
       "      <td>Wendy Renaud</td>\n",
       "      <td>Loyalty Club Only</td>\n",
       "      <td>2629</td>\n",
       "      <td>700 S Alton Way</td>\n",
       "      <td>Denver</td>\n",
       "      <td>CO</td>\n",
       "      <td>80247</td>\n",
       "      <td>100</td>\n",
       "      <td>6</td>\n",
       "      <td>0.1</td>\n",
       "      <td>...</td>\n",
       "      <td>0.0</td>\n",
       "      <td>0.0</td>\n",
       "      <td>0.0</td>\n",
       "      <td>0.0</td>\n",
       "      <td>0.0</td>\n",
       "      <td>0.0</td>\n",
       "      <td>0.0</td>\n",
       "      <td>0.0</td>\n",
       "      <td>0.0</td>\n",
       "      <td>0.0</td>\n",
       "    </tr>\n",
       "    <tr>\n",
       "      <th>248</th>\n",
       "      <td>Wilma Reid</td>\n",
       "      <td>Credit Card Only</td>\n",
       "      <td>1917</td>\n",
       "      <td>6763 W Yale Ave</td>\n",
       "      <td>Lakewood</td>\n",
       "      <td>CO</td>\n",
       "      <td>80227</td>\n",
       "      <td>101</td>\n",
       "      <td>7</td>\n",
       "      <td>0.2</td>\n",
       "      <td>...</td>\n",
       "      <td>0.0</td>\n",
       "      <td>1.0</td>\n",
       "      <td>0.0</td>\n",
       "      <td>0.0</td>\n",
       "      <td>0.0</td>\n",
       "      <td>0.0</td>\n",
       "      <td>0.0</td>\n",
       "      <td>0.0</td>\n",
       "      <td>0.0</td>\n",
       "      <td>0.0</td>\n",
       "    </tr>\n",
       "    <tr>\n",
       "      <th>249</th>\n",
       "      <td>Yvette Kent</td>\n",
       "      <td>Credit Card Only</td>\n",
       "      <td>762</td>\n",
       "      <td>1071 Worchester St</td>\n",
       "      <td>Aurora</td>\n",
       "      <td>CO</td>\n",
       "      <td>80011</td>\n",
       "      <td>100</td>\n",
       "      <td>5</td>\n",
       "      <td>0.5</td>\n",
       "      <td>...</td>\n",
       "      <td>0.0</td>\n",
       "      <td>0.0</td>\n",
       "      <td>0.0</td>\n",
       "      <td>0.0</td>\n",
       "      <td>0.0</td>\n",
       "      <td>0.0</td>\n",
       "      <td>0.0</td>\n",
       "      <td>0.0</td>\n",
       "      <td>0.0</td>\n",
       "      <td>0.0</td>\n",
       "    </tr>\n",
       "  </tbody>\n",
       "</table>\n",
       "<p>5 rows × 43 columns</p>\n",
       "</div>"
      ],
      "text/plain": [
       "               Name   Customer Segment  Customer ID             Address  \\\n",
       "245  Wanda Stiveson   Credit Card Only         1129  13080 W Montana Dr   \n",
       "246  Wendy Crenshaw  Loyalty Club Only          304     12483 W 8th Ave   \n",
       "247    Wendy Renaud  Loyalty Club Only         2629     700 S Alton Way   \n",
       "248      Wilma Reid   Credit Card Only         1917     6763 W Yale Ave   \n",
       "249     Yvette Kent   Credit Card Only          762  1071 Worchester St   \n",
       "\n",
       "         City State    ZIP  Store Number  Avg Num Products Purchased  \\\n",
       "245  Lakewood    CO  80228           107                          18   \n",
       "246    Golden    CO  80401           106                           3   \n",
       "247    Denver    CO  80247           100                           6   \n",
       "248  Lakewood    CO  80227           101                           7   \n",
       "249    Aurora    CO  80011           100                           5   \n",
       "\n",
       "     # Years as Customer   ...    City_Wheat Ridge  SN_101  SN_102  SN_103  \\\n",
       "245                  0.3   ...                 0.0     0.0     0.0     0.0   \n",
       "246                  0.6   ...                 0.0     0.0     0.0     0.0   \n",
       "247                  0.1   ...                 0.0     0.0     0.0     0.0   \n",
       "248                  0.2   ...                 0.0     1.0     0.0     0.0   \n",
       "249                  0.5   ...                 0.0     0.0     0.0     0.0   \n",
       "\n",
       "     SN_104  SN_105  SN_106  SN_107  SN_108  SN_109  \n",
       "245     0.0     0.0     0.0     1.0     0.0     0.0  \n",
       "246     0.0     0.0     1.0     0.0     0.0     0.0  \n",
       "247     0.0     0.0     0.0     0.0     0.0     0.0  \n",
       "248     0.0     0.0     0.0     0.0     0.0     0.0  \n",
       "249     0.0     0.0     0.0     0.0     0.0     0.0  \n",
       "\n",
       "[5 rows x 43 columns]"
      ]
     },
     "execution_count": 210,
     "metadata": {},
     "output_type": "execute_result"
    }
   ],
   "source": [
    "# create three dummy variables using get_dummies, then exclude the first dummy column\n",
    "SN_dummies_test = pd.get_dummies(mailinglist['Store Number'], prefix='SN').iloc[:, 1:]\n",
    "\n",
    "# concatenate the dummy variable columns onto the original DataFrame (axis=0 means rows, axis=1 means columns)\n",
    "test3 = pd.concat([test2, SN_dummies_test], axis=1)\n",
    "test3.tail()"
   ]
  },
  {
   "cell_type": "markdown",
   "metadata": {},
   "source": [
    "### Avg Num Products Purchased and  # Years as Customer\n",
    "Maybe average number of products bought by a customer may influence this customer to buy after receiving a catalog\n",
    "\n",
    "Maybe the number of years as customer increase the likelihood of a customer buy after receiving a catalog\n",
    "\n",
    "Both columns are discrete variables, no dummy variables are needed there"
   ]
  },
  {
   "cell_type": "markdown",
   "metadata": {},
   "source": [
    "## Let's check the validity of models"
   ]
  },
  {
   "cell_type": "code",
   "execution_count": 226,
   "metadata": {
    "collapsed": false
   },
   "outputs": [
    {
     "data": {
      "text/plain": [
       "Index([                           u'Name',                u'Customer_Segment',\n",
       "                           u'Customer_ID',                         u'Address',\n",
       "                                  u'City',                           u'State',\n",
       "                                   u'ZIP',                 u'Avg_Sale_Amount',\n",
       "                          u'Store_Number',       u'Responded_to_Last_Catalog',\n",
       "            u'Avg_Num_Products_Purchased',             u'#_Years_as_Customer',\n",
       "                  u'CS_Loyalty_Club_Only', u'CS_Loyalty_Club_and_Credit_Card',\n",
       "                 u'CS_Store_Mailing_List',                     u'City_Aurora',\n",
       "                          u'City_Boulder',                   u'City_Brighton',\n",
       "                       u'City_Broomfield',               u'City_Castle_Pines',\n",
       "                       u'City_Centennial',              u'City_Commerce_City',\n",
       "                           u'City_Denver',                  u'City_Edgewater',\n",
       "                        u'City_Englewood',                     u'City_Golden',\n",
       "                u'City_Greenwood_Village',                  u'City_Henderson',\n",
       "                  u'City_Highlands_Ranch',                  u'City_Lafayette',\n",
       "                         u'City_Lakewood',                  u'City_Littleton',\n",
       "                        u'City_Lone_Tree',                 u'City_Louisville',\n",
       "                         u'City_Morrison',                 u'City_Northglenn',\n",
       "                           u'City_Parker',                   u'City_Superior',\n",
       "                         u'City_Thornton',                u'City_Westminster',\n",
       "                      u'City_Wheat_Ridge',                          u'SN_101',\n",
       "                                u'SN_102',                          u'SN_103',\n",
       "                                u'SN_104',                          u'SN_105',\n",
       "                                u'SN_106',                          u'SN_107',\n",
       "                                u'SN_108',                          u'SN_109'],\n",
       "      dtype='object')"
      ]
     },
     "execution_count": 226,
     "metadata": {},
     "output_type": "execute_result"
    }
   ],
   "source": [
    "train3.columns"
   ]
  },
  {
   "cell_type": "code",
   "execution_count": 256,
   "metadata": {
    "collapsed": true
   },
   "outputs": [],
   "source": [
    "train3.columns = train3.columns.str.replace(' ', '_')\n",
    "train3['Years_as_Customer'] = train3['#_Years_as_Customer']\n",
    "\n",
    "test3.columns = test3.columns.str.replace(' ', '_')\n",
    "test3['Years_as_Customer'] = test3['#_Years_as_Customer']"
   ]
  },
  {
   "cell_type": "code",
   "execution_count": 266,
   "metadata": {
    "collapsed": false
   },
   "outputs": [
    {
     "data": {
      "text/html": [
       "<table class=\"simpletable\">\n",
       "<caption>OLS Regression Results</caption>\n",
       "<tr>\n",
       "  <th>Dep. Variable:</th>     <td>Avg_Sale_Amount</td> <th>  R-squared:         </th> <td>   0.839</td> \n",
       "</tr>\n",
       "<tr>\n",
       "  <th>Model:</th>                   <td>OLS</td>       <th>  Adj. R-squared:    </th> <td>   0.836</td> \n",
       "</tr>\n",
       "<tr>\n",
       "  <th>Method:</th>             <td>Least Squares</td>  <th>  F-statistic:       </th> <td>   304.5</td> \n",
       "</tr>\n",
       "<tr>\n",
       "  <th>Date:</th>             <td>Sun, 06 Nov 2016</td> <th>  Prob (F-statistic):</th>  <td>  0.00</td>  \n",
       "</tr>\n",
       "<tr>\n",
       "  <th>Time:</th>                 <td>17:11:40</td>     <th>  Log-Likelihood:    </th> <td> -15044.</td> \n",
       "</tr>\n",
       "<tr>\n",
       "  <th>No. Observations:</th>      <td>  2375</td>      <th>  AIC:               </th> <td>3.017e+04</td>\n",
       "</tr>\n",
       "<tr>\n",
       "  <th>Df Residuals:</th>          <td>  2334</td>      <th>  BIC:               </th> <td>3.041e+04</td>\n",
       "</tr>\n",
       "<tr>\n",
       "  <th>Df Model:</th>              <td>    40</td>      <th>                     </th>     <td> </td>    \n",
       "</tr>\n",
       "<tr>\n",
       "  <th>Covariance Type:</th>      <td>nonrobust</td>    <th>                     </th>     <td> </td>    \n",
       "</tr>\n",
       "</table>\n",
       "<table class=\"simpletable\">\n",
       "<tr>\n",
       "                 <td></td>                    <th>coef</th>     <th>std err</th>      <th>t</th>      <th>P>|t|</th> <th>[95.0% Conf. Int.]</th> \n",
       "</tr>\n",
       "<tr>\n",
       "  <th>Intercept</th>                       <td>   11.4761</td> <td>    4.628</td> <td>    2.480</td> <td> 0.013</td> <td>    2.400    20.552</td>\n",
       "</tr>\n",
       "<tr>\n",
       "  <th>Store_Number</th>                    <td>    3.1276</td> <td>    0.162</td> <td>   19.321</td> <td> 0.000</td> <td>    2.810     3.445</td>\n",
       "</tr>\n",
       "<tr>\n",
       "  <th>Avg_Num_Products_Purchased</th>      <td>   67.1014</td> <td>    1.529</td> <td>   43.877</td> <td> 0.000</td> <td>   64.102    70.100</td>\n",
       "</tr>\n",
       "<tr>\n",
       "  <th>Years_as_Customer</th>               <td>   -2.5182</td> <td>    1.238</td> <td>   -2.035</td> <td> 0.042</td> <td>   -4.945    -0.091</td>\n",
       "</tr>\n",
       "<tr>\n",
       "  <th>CS_Loyalty_Club_Only</th>            <td> -149.2751</td> <td>    9.041</td> <td>  -16.511</td> <td> 0.000</td> <td> -167.005  -131.545</td>\n",
       "</tr>\n",
       "<tr>\n",
       "  <th>CS_Loyalty_Club_and_Credit_Card</th> <td>  283.4565</td> <td>   11.987</td> <td>   23.648</td> <td> 0.000</td> <td>  259.951   306.962</td>\n",
       "</tr>\n",
       "<tr>\n",
       "  <th>CS_Store_Mailing_List</th>           <td> -244.8122</td> <td>    9.863</td> <td>  -24.821</td> <td> 0.000</td> <td> -264.154  -225.471</td>\n",
       "</tr>\n",
       "<tr>\n",
       "  <th>City_Aurora</th>                     <td>  -14.1726</td> <td>   16.739</td> <td>   -0.847</td> <td> 0.397</td> <td>  -46.998    18.653</td>\n",
       "</tr>\n",
       "<tr>\n",
       "  <th>City_Boulder</th>                    <td>  -66.3976</td> <td>   81.163</td> <td>   -0.818</td> <td> 0.413</td> <td> -225.556    92.761</td>\n",
       "</tr>\n",
       "<tr>\n",
       "  <th>City_Brighton</th>                   <td>  -85.4477</td> <td>   98.040</td> <td>   -0.872</td> <td> 0.384</td> <td> -277.701   106.806</td>\n",
       "</tr>\n",
       "<tr>\n",
       "  <th>City_Broomfield</th>                 <td>  -18.9274</td> <td>   16.784</td> <td>   -1.128</td> <td> 0.260</td> <td>  -51.841    13.986</td>\n",
       "</tr>\n",
       "<tr>\n",
       "  <th>City_Castle_Pines</th>               <td>  -98.1313</td> <td>  100.084</td> <td>   -0.980</td> <td> 0.327</td> <td> -294.394    98.131</td>\n",
       "</tr>\n",
       "<tr>\n",
       "  <th>City_Centennial</th>                 <td>   -3.8074</td> <td>   21.963</td> <td>   -0.173</td> <td> 0.862</td> <td>  -46.877    39.262</td>\n",
       "</tr>\n",
       "<tr>\n",
       "  <th>City_Commerce_City</th>              <td>  -32.4447</td> <td>   45.242</td> <td>   -0.717</td> <td> 0.473</td> <td> -121.163    56.274</td>\n",
       "</tr>\n",
       "<tr>\n",
       "  <th>City_Denver</th>                     <td>    5.3806</td> <td>   12.877</td> <td>    0.418</td> <td> 0.676</td> <td>  -19.871    30.632</td>\n",
       "</tr>\n",
       "<tr>\n",
       "  <th>City_Edgewater</th>                  <td>   38.3039</td> <td>   41.545</td> <td>    0.922</td> <td> 0.357</td> <td>  -43.166   119.774</td>\n",
       "</tr>\n",
       "<tr>\n",
       "  <th>City_Englewood</th>                  <td>   11.5932</td> <td>   22.721</td> <td>    0.510</td> <td> 0.610</td> <td>  -32.962    56.148</td>\n",
       "</tr>\n",
       "<tr>\n",
       "  <th>City_Golden</th>                     <td>   -6.5886</td> <td>   33.026</td> <td>   -0.199</td> <td> 0.842</td> <td>  -71.351    58.174</td>\n",
       "</tr>\n",
       "<tr>\n",
       "  <th>City_Greenwood_Village</th>          <td>  -44.8543</td> <td>   39.641</td> <td>   -1.132</td> <td> 0.258</td> <td> -122.589    32.881</td>\n",
       "</tr>\n",
       "<tr>\n",
       "  <th>City_Henderson</th>                  <td> -273.7620</td> <td>  138.501</td> <td>   -1.977</td> <td> 0.048</td> <td> -545.360    -2.163</td>\n",
       "</tr>\n",
       "<tr>\n",
       "  <th>City_Highlands_Ranch</th>            <td>  -22.0864</td> <td>   32.120</td> <td>   -0.688</td> <td> 0.492</td> <td>  -85.072    40.899</td>\n",
       "</tr>\n",
       "<tr>\n",
       "  <th>City_Lafayette</th>                  <td>  -55.6922</td> <td>   62.604</td> <td>   -0.890</td> <td> 0.374</td> <td> -178.458    67.074</td>\n",
       "</tr>\n",
       "<tr>\n",
       "  <th>City_Lakewood</th>                   <td>    1.2513</td> <td>   15.052</td> <td>    0.083</td> <td> 0.934</td> <td>  -28.266    30.769</td>\n",
       "</tr>\n",
       "<tr>\n",
       "  <th>City_Littleton</th>                  <td>  -22.0774</td> <td>   21.489</td> <td>   -1.027</td> <td> 0.304</td> <td>  -64.217    20.062</td>\n",
       "</tr>\n",
       "<tr>\n",
       "  <th>City_Lone_Tree</th>                  <td>   86.2512</td> <td>  138.837</td> <td>    0.621</td> <td> 0.535</td> <td> -186.006   358.508</td>\n",
       "</tr>\n",
       "<tr>\n",
       "  <th>City_Louisville</th>                 <td>  -48.6279</td> <td>   70.082</td> <td>   -0.694</td> <td> 0.488</td> <td> -186.057    88.801</td>\n",
       "</tr>\n",
       "<tr>\n",
       "  <th>City_Morrison</th>                   <td>   -8.5057</td> <td>   53.802</td> <td>   -0.158</td> <td> 0.874</td> <td> -114.011    97.000</td>\n",
       "</tr>\n",
       "<tr>\n",
       "  <th>City_Northglenn</th>                 <td>  -25.0745</td> <td>   30.059</td> <td>   -0.834</td> <td> 0.404</td> <td>  -84.020    33.871</td>\n",
       "</tr>\n",
       "<tr>\n",
       "  <th>City_Parker</th>                     <td>  -10.3461</td> <td>   33.956</td> <td>   -0.305</td> <td> 0.761</td> <td>  -76.934    56.242</td>\n",
       "</tr>\n",
       "<tr>\n",
       "  <th>City_Superior</th>                   <td>  -71.3121</td> <td>   47.516</td> <td>   -1.501</td> <td> 0.134</td> <td> -164.490    21.866</td>\n",
       "</tr>\n",
       "<tr>\n",
       "  <th>City_Thornton</th>                   <td>   19.5131</td> <td>   25.473</td> <td>    0.766</td> <td> 0.444</td> <td>  -30.440    69.466</td>\n",
       "</tr>\n",
       "<tr>\n",
       "  <th>City_Westminster</th>                <td>  -15.2674</td> <td>   17.926</td> <td>   -0.852</td> <td> 0.394</td> <td>  -50.420    19.885</td>\n",
       "</tr>\n",
       "<tr>\n",
       "  <th>City_Wheat_Ridge</th>                <td>   14.4721</td> <td>   21.508</td> <td>    0.673</td> <td> 0.501</td> <td>  -27.705    56.650</td>\n",
       "</tr>\n",
       "<tr>\n",
       "  <th>SN_101</th>                          <td>   -5.7189</td> <td>   12.238</td> <td>   -0.467</td> <td> 0.640</td> <td>  -29.717    18.279</td>\n",
       "</tr>\n",
       "<tr>\n",
       "  <th>SN_102</th>                          <td>    1.7295</td> <td>   20.056</td> <td>    0.086</td> <td> 0.931</td> <td>  -37.601    41.060</td>\n",
       "</tr>\n",
       "<tr>\n",
       "  <th>SN_103</th>                          <td>   -6.4559</td> <td>   15.673</td> <td>   -0.412</td> <td> 0.680</td> <td>  -37.191    24.279</td>\n",
       "</tr>\n",
       "<tr>\n",
       "  <th>SN_104</th>                          <td>  -22.7301</td> <td>   13.160</td> <td>   -1.727</td> <td> 0.084</td> <td>  -48.536     3.076</td>\n",
       "</tr>\n",
       "<tr>\n",
       "  <th>SN_105</th>                          <td>  -27.1285</td> <td>   12.133</td> <td>   -2.236</td> <td> 0.025</td> <td>  -50.921    -3.336</td>\n",
       "</tr>\n",
       "<tr>\n",
       "  <th>SN_106</th>                          <td>  -37.5093</td> <td>   12.786</td> <td>   -2.934</td> <td> 0.003</td> <td>  -62.583   -12.436</td>\n",
       "</tr>\n",
       "<tr>\n",
       "  <th>SN_107</th>                          <td>  -39.1376</td> <td>   13.432</td> <td>   -2.914</td> <td> 0.004</td> <td>  -65.478   -12.797</td>\n",
       "</tr>\n",
       "<tr>\n",
       "  <th>SN_108</th>                          <td>  -35.2062</td> <td>   15.582</td> <td>   -2.259</td> <td> 0.024</td> <td>  -65.761    -4.651</td>\n",
       "</tr>\n",
       "<tr>\n",
       "  <th>SN_109</th>                          <td>  -12.8477</td> <td>   18.331</td> <td>   -0.701</td> <td> 0.483</td> <td>  -48.793    23.098</td>\n",
       "</tr>\n",
       "</table>\n",
       "<table class=\"simpletable\">\n",
       "<tr>\n",
       "  <th>Omnibus:</th>       <td>354.583</td> <th>  Durbin-Watson:     </th> <td>   2.043</td>\n",
       "</tr>\n",
       "<tr>\n",
       "  <th>Prob(Omnibus):</th> <td> 0.000</td>  <th>  Jarque-Bera (JB):  </th> <td>4663.569</td>\n",
       "</tr>\n",
       "<tr>\n",
       "  <th>Skew:</th>          <td> 0.217</td>  <th>  Prob(JB):          </th> <td>    0.00</td>\n",
       "</tr>\n",
       "<tr>\n",
       "  <th>Kurtosis:</th>      <td> 9.851</td>  <th>  Cond. No.          </th> <td>3.74e+17</td>\n",
       "</tr>\n",
       "</table>"
      ],
      "text/plain": [
       "<class 'statsmodels.iolib.summary.Summary'>\n",
       "\"\"\"\n",
       "                            OLS Regression Results                            \n",
       "==============================================================================\n",
       "Dep. Variable:        Avg_Sale_Amount   R-squared:                       0.839\n",
       "Model:                            OLS   Adj. R-squared:                  0.836\n",
       "Method:                 Least Squares   F-statistic:                     304.5\n",
       "Date:                Sun, 06 Nov 2016   Prob (F-statistic):               0.00\n",
       "Time:                        17:11:40   Log-Likelihood:                -15044.\n",
       "No. Observations:                2375   AIC:                         3.017e+04\n",
       "Df Residuals:                    2334   BIC:                         3.041e+04\n",
       "Df Model:                          40                                         \n",
       "Covariance Type:            nonrobust                                         \n",
       "===================================================================================================\n",
       "                                      coef    std err          t      P>|t|      [95.0% Conf. Int.]\n",
       "---------------------------------------------------------------------------------------------------\n",
       "Intercept                          11.4761      4.628      2.480      0.013         2.400    20.552\n",
       "Store_Number                        3.1276      0.162     19.321      0.000         2.810     3.445\n",
       "Avg_Num_Products_Purchased         67.1014      1.529     43.877      0.000        64.102    70.100\n",
       "Years_as_Customer                  -2.5182      1.238     -2.035      0.042        -4.945    -0.091\n",
       "CS_Loyalty_Club_Only             -149.2751      9.041    -16.511      0.000      -167.005  -131.545\n",
       "CS_Loyalty_Club_and_Credit_Card   283.4565     11.987     23.648      0.000       259.951   306.962\n",
       "CS_Store_Mailing_List            -244.8122      9.863    -24.821      0.000      -264.154  -225.471\n",
       "City_Aurora                       -14.1726     16.739     -0.847      0.397       -46.998    18.653\n",
       "City_Boulder                      -66.3976     81.163     -0.818      0.413      -225.556    92.761\n",
       "City_Brighton                     -85.4477     98.040     -0.872      0.384      -277.701   106.806\n",
       "City_Broomfield                   -18.9274     16.784     -1.128      0.260       -51.841    13.986\n",
       "City_Castle_Pines                 -98.1313    100.084     -0.980      0.327      -294.394    98.131\n",
       "City_Centennial                    -3.8074     21.963     -0.173      0.862       -46.877    39.262\n",
       "City_Commerce_City                -32.4447     45.242     -0.717      0.473      -121.163    56.274\n",
       "City_Denver                         5.3806     12.877      0.418      0.676       -19.871    30.632\n",
       "City_Edgewater                     38.3039     41.545      0.922      0.357       -43.166   119.774\n",
       "City_Englewood                     11.5932     22.721      0.510      0.610       -32.962    56.148\n",
       "City_Golden                        -6.5886     33.026     -0.199      0.842       -71.351    58.174\n",
       "City_Greenwood_Village            -44.8543     39.641     -1.132      0.258      -122.589    32.881\n",
       "City_Henderson                   -273.7620    138.501     -1.977      0.048      -545.360    -2.163\n",
       "City_Highlands_Ranch              -22.0864     32.120     -0.688      0.492       -85.072    40.899\n",
       "City_Lafayette                    -55.6922     62.604     -0.890      0.374      -178.458    67.074\n",
       "City_Lakewood                       1.2513     15.052      0.083      0.934       -28.266    30.769\n",
       "City_Littleton                    -22.0774     21.489     -1.027      0.304       -64.217    20.062\n",
       "City_Lone_Tree                     86.2512    138.837      0.621      0.535      -186.006   358.508\n",
       "City_Louisville                   -48.6279     70.082     -0.694      0.488      -186.057    88.801\n",
       "City_Morrison                      -8.5057     53.802     -0.158      0.874      -114.011    97.000\n",
       "City_Northglenn                   -25.0745     30.059     -0.834      0.404       -84.020    33.871\n",
       "City_Parker                       -10.3461     33.956     -0.305      0.761       -76.934    56.242\n",
       "City_Superior                     -71.3121     47.516     -1.501      0.134      -164.490    21.866\n",
       "City_Thornton                      19.5131     25.473      0.766      0.444       -30.440    69.466\n",
       "City_Westminster                  -15.2674     17.926     -0.852      0.394       -50.420    19.885\n",
       "City_Wheat_Ridge                   14.4721     21.508      0.673      0.501       -27.705    56.650\n",
       "SN_101                             -5.7189     12.238     -0.467      0.640       -29.717    18.279\n",
       "SN_102                              1.7295     20.056      0.086      0.931       -37.601    41.060\n",
       "SN_103                             -6.4559     15.673     -0.412      0.680       -37.191    24.279\n",
       "SN_104                            -22.7301     13.160     -1.727      0.084       -48.536     3.076\n",
       "SN_105                            -27.1285     12.133     -2.236      0.025       -50.921    -3.336\n",
       "SN_106                            -37.5093     12.786     -2.934      0.003       -62.583   -12.436\n",
       "SN_107                            -39.1376     13.432     -2.914      0.004       -65.478   -12.797\n",
       "SN_108                            -35.2062     15.582     -2.259      0.024       -65.761    -4.651\n",
       "SN_109                            -12.8477     18.331     -0.701      0.483       -48.793    23.098\n",
       "==============================================================================\n",
       "Omnibus:                      354.583   Durbin-Watson:                   2.043\n",
       "Prob(Omnibus):                  0.000   Jarque-Bera (JB):             4663.569\n",
       "Skew:                           0.217   Prob(JB):                         0.00\n",
       "Kurtosis:                       9.851   Cond. No.                     3.74e+17\n",
       "==============================================================================\n",
       "\n",
       "Warnings:\n",
       "[1] Standard Errors assume that the covariance matrix of the errors is correctly specified.\n",
       "[2] The smallest eigenvalue is 1.85e-28. This might indicate that there are\n",
       "strong multicollinearity problems or that the design matrix is singular.\n",
       "\"\"\""
      ]
     },
     "execution_count": 266,
     "metadata": {},
     "output_type": "execute_result"
    }
   ],
   "source": [
    "# this is the standard import if you're using \"formula notation\" (similar to R)\n",
    "import statsmodels.formula.api as smf\n",
    "\n",
    "# create a fitted model in one line\n",
    "lm = smf.ols(formula='Avg_Sale_Amount ~ Store_Number + Avg_Num_Products_Purchased + Years_as_Customer + CS_Loyalty_Club_Only + CS_Loyalty_Club_and_Credit_Card + CS_Store_Mailing_List + City_Aurora + City_Boulder + City_Brighton + City_Broomfield + City_Castle_Pines + City_Centennial + City_Commerce_City + City_Denver + City_Edgewater + City_Englewood + City_Golden + City_Greenwood_Village + City_Henderson + City_Highlands_Ranch + City_Lafayette + City_Lakewood + City_Littleton + City_Lone_Tree + City_Louisville + City_Morrison + City_Northglenn + City_Parker + City_Superior + City_Thornton + City_Westminster + City_Wheat_Ridge + SN_101 + SN_102 + SN_103 + SN_104 + SN_105 + SN_106 + SN_107 + SN_108 + SN_109', data=train3).fit()\n",
    "\n",
    "lm.summary()"
   ]
  },
  {
   "cell_type": "code",
   "execution_count": 246,
   "metadata": {
    "collapsed": false
   },
   "outputs": [
    {
     "name": "stdout",
     "output_type": "stream",
     "text": [
      "42\n",
      "12\n",
      "<class 'pandas.core.series.Series'>\n",
      "Intercept\n"
     ]
    },
    {
     "data": {
      "text/plain": [
       "Intercept                      1.322164e-02\n",
       "Store_Number                   2.827707e-77\n",
       "Avg_Num_Products_Purchased    3.482815e-307\n",
       "Years_as_Customer              4.198495e-02\n",
       "CS_Loyalty_Club_Only           5.269926e-58\n",
       "                                  ...      \n",
       "City_Henderson                 4.820426e-02\n",
       "SN_105                         2.544803e-02\n",
       "SN_106                         3.383495e-03\n",
       "SN_107                         3.606195e-03\n",
       "SN_108                         2.394503e-02\n",
       "dtype: float64"
      ]
     },
     "execution_count": 246,
     "metadata": {},
     "output_type": "execute_result"
    }
   ],
   "source": [
    "print len(lm.pvalues)\n",
    "print len(lm.pvalues[lm.pvalues < 0.05])\n",
    "print type(lm.pvalues)\n",
    "print lm.pvalues.index[0]\n",
    "lm.pvalues[lm.pvalues < 0.05]"
   ]
  },
  {
   "cell_type": "markdown",
   "metadata": {},
   "source": [
    "## Get Features Dataframe and Target Dataframe ready"
   ]
  },
  {
   "cell_type": "code",
   "execution_count": 252,
   "metadata": {
    "collapsed": false
   },
   "outputs": [
    {
     "name": "stdout",
     "output_type": "stream",
     "text": [
      "51\n"
     ]
    },
    {
     "data": {
      "text/plain": [
       "11"
      ]
     },
     "execution_count": 252,
     "metadata": {},
     "output_type": "execute_result"
    }
   ],
   "source": [
    "# only 11 out of 51 columns are selected finally as features for prediction\n",
    "print len(train3.columns)\n",
    "len(lm.pvalues[lm.pvalues < 0.05][1:])"
   ]
  },
  {
   "cell_type": "code",
   "execution_count": 263,
   "metadata": {
    "collapsed": true
   },
   "outputs": [],
   "source": [
    "features = train3[lm.pvalues[lm.pvalues < 0.05][1:].index]\n",
    "sales = train3['Avg_Sale_Amount']"
   ]
  },
  {
   "cell_type": "markdown",
   "metadata": {},
   "source": [
    "### Without having the same feature columns, lm.predict(features_test) won't work\n",
    "dataframe features_test must have the same number of columns with dataframe features\n",
    "\n",
    "\n",
    "#### See which column of test3 doesn't have which is contained in features"
   ]
  },
  {
   "cell_type": "code",
   "execution_count": 261,
   "metadata": {
    "collapsed": false
   },
   "outputs": [
    {
     "name": "stdout",
     "output_type": "stream",
     "text": [
      "Index([u'City_Henderson'], dtype='object')\n"
     ]
    }
   ],
   "source": [
    "print features.columns[-pd.Series(features.columns).isin(pd.Series(test3.columns))]\n",
    "\n",
    "# add this missing column 'City_Henderson' to test3\n",
    "test3['City_Henderson'] = 0.0"
   ]
  },
  {
   "cell_type": "code",
   "execution_count": 262,
   "metadata": {
    "collapsed": false
   },
   "outputs": [],
   "source": [
    "# now test3 or features_test have the same amount of features columns as training dataset\n",
    "features_test = test3[lm.pvalues[lm.pvalues < 0.05][1:].index]"
   ]
  },
  {
   "cell_type": "code",
   "execution_count": 264,
   "metadata": {
    "collapsed": false
   },
   "outputs": [
    {
     "name": "stdout",
     "output_type": "stream",
     "text": [
      "<class 'pandas.core.frame.DataFrame'>\n",
      "RangeIndex: 2375 entries, 0 to 2374\n",
      "Data columns (total 11 columns):\n",
      "Store_Number                       2375 non-null int64\n",
      "Avg_Num_Products_Purchased         2375 non-null int64\n",
      "Years_as_Customer                  2375 non-null int64\n",
      "CS_Loyalty_Club_Only               2375 non-null float64\n",
      "CS_Loyalty_Club_and_Credit_Card    2375 non-null float64\n",
      "CS_Store_Mailing_List              2375 non-null float64\n",
      "City_Henderson                     2375 non-null float64\n",
      "SN_105                             2375 non-null float64\n",
      "SN_106                             2375 non-null float64\n",
      "SN_107                             2375 non-null float64\n",
      "SN_108                             2375 non-null float64\n",
      "dtypes: float64(8), int64(3)\n",
      "memory usage: 204.2 KB\n",
      "<class 'pandas.core.frame.DataFrame'>\n",
      "RangeIndex: 250 entries, 0 to 249\n",
      "Data columns (total 11 columns):\n",
      "Store_Number                       250 non-null int64\n",
      "Avg_Num_Products_Purchased         250 non-null int64\n",
      "Years_as_Customer                  250 non-null float64\n",
      "CS_Loyalty_Club_Only               250 non-null float64\n",
      "CS_Loyalty_Club_and_Credit_Card    250 non-null float64\n",
      "CS_Store_Mailing_List              250 non-null float64\n",
      "City_Henderson                     250 non-null float64\n",
      "SN_105                             250 non-null float64\n",
      "SN_106                             250 non-null float64\n",
      "SN_107                             250 non-null float64\n",
      "SN_108                             250 non-null float64\n",
      "dtypes: float64(9), int64(2)\n",
      "memory usage: 21.6 KB\n"
     ]
    }
   ],
   "source": [
    "## Using sklearn to build a linear regression model\n",
    "\n",
    "features.info()\n",
    "features_test.info()"
   ]
  },
  {
   "cell_type": "code",
   "execution_count": 268,
   "metadata": {
    "collapsed": false
   },
   "outputs": [
    {
     "name": "stdout",
     "output_type": "stream",
     "text": [
      "363.887206295\n",
      "[  -0.43198545   66.83583681   -2.29703979 -150.44905137  282.97631055\n",
      " -246.97723803 -280.85316645  -13.0735529    -9.76158408   -4.55278903\n",
      "   -3.00737269]\n",
      "0.837674854108\n"
     ]
    }
   ],
   "source": [
    "# follow the usual sklearn pattern: import, instantiate, fit\n",
    "from sklearn.linear_model import LinearRegression\n",
    "lm = LinearRegression()\n",
    "lm.fit(features, sales)\n",
    "\n",
    "# print intercept and coefficients\n",
    "print lm.intercept_\n",
    "print lm.coef_\n",
    "print lm.score(features, sales)"
   ]
  },
  {
   "cell_type": "code",
   "execution_count": 271,
   "metadata": {
    "collapsed": false
   },
   "outputs": [
    {
     "data": {
      "text/html": [
       "<div>\n",
       "<table border=\"1\" class=\"dataframe\">\n",
       "  <thead>\n",
       "    <tr style=\"text-align: right;\">\n",
       "      <th></th>\n",
       "      <th>Name</th>\n",
       "      <th>Customer Segment</th>\n",
       "      <th>Customer ID</th>\n",
       "      <th>Address</th>\n",
       "      <th>City</th>\n",
       "      <th>State</th>\n",
       "      <th>ZIP</th>\n",
       "      <th>Store Number</th>\n",
       "      <th>Avg Num Products Purchased</th>\n",
       "      <th># Years as Customer</th>\n",
       "      <th>Score_No</th>\n",
       "      <th>Score_Yes</th>\n",
       "      <th>cityState</th>\n",
       "      <th>Avg_Sale_Pred</th>\n",
       "    </tr>\n",
       "  </thead>\n",
       "  <tbody>\n",
       "    <tr>\n",
       "      <th>0</th>\n",
       "      <td>A Giametti</td>\n",
       "      <td>Loyalty Club Only</td>\n",
       "      <td>2213</td>\n",
       "      <td>5326 S Lisbon Way</td>\n",
       "      <td>Centennial</td>\n",
       "      <td>CO</td>\n",
       "      <td>80015</td>\n",
       "      <td>105</td>\n",
       "      <td>3</td>\n",
       "      <td>0.2</td>\n",
       "      <td>0.694964</td>\n",
       "      <td>0.305036</td>\n",
       "      <td>CentennialCO</td>\n",
       "      <td>355.054232</td>\n",
       "    </tr>\n",
       "    <tr>\n",
       "      <th>1</th>\n",
       "      <td>Abby Pierson</td>\n",
       "      <td>Loyalty Club and Credit Card</td>\n",
       "      <td>2785</td>\n",
       "      <td>4344 W Roanoke Pl</td>\n",
       "      <td>Denver</td>\n",
       "      <td>CO</td>\n",
       "      <td>80236</td>\n",
       "      <td>101</td>\n",
       "      <td>6</td>\n",
       "      <td>0.6</td>\n",
       "      <td>0.527275</td>\n",
       "      <td>0.472725</td>\n",
       "      <td>DenverCO</td>\n",
       "      <td>1002.869784</td>\n",
       "    </tr>\n",
       "    <tr>\n",
       "      <th>2</th>\n",
       "      <td>Adele Hallman</td>\n",
       "      <td>Loyalty Club Only</td>\n",
       "      <td>2931</td>\n",
       "      <td>5219 S Delaware St</td>\n",
       "      <td>Englewood</td>\n",
       "      <td>CO</td>\n",
       "      <td>80110</td>\n",
       "      <td>101</td>\n",
       "      <td>7</td>\n",
       "      <td>0.9</td>\n",
       "      <td>0.421118</td>\n",
       "      <td>0.578882</td>\n",
       "      <td>EnglewoodCO</td>\n",
       "      <td>635.591147</td>\n",
       "    </tr>\n",
       "    <tr>\n",
       "      <th>3</th>\n",
       "      <td>Alejandra Baird</td>\n",
       "      <td>Loyalty Club Only</td>\n",
       "      <td>2231</td>\n",
       "      <td>2301 Lawrence St</td>\n",
       "      <td>Denver</td>\n",
       "      <td>CO</td>\n",
       "      <td>80205</td>\n",
       "      <td>103</td>\n",
       "      <td>2</td>\n",
       "      <td>0.6</td>\n",
       "      <td>0.694862</td>\n",
       "      <td>0.305138</td>\n",
       "      <td>DenverCO</td>\n",
       "      <td>301.237104</td>\n",
       "    </tr>\n",
       "    <tr>\n",
       "      <th>4</th>\n",
       "      <td>Alice Dewitt</td>\n",
       "      <td>Loyalty Club Only</td>\n",
       "      <td>2530</td>\n",
       "      <td>5549 S Hannibal Way</td>\n",
       "      <td>Centennial</td>\n",
       "      <td>CO</td>\n",
       "      <td>80015</td>\n",
       "      <td>104</td>\n",
       "      <td>4</td>\n",
       "      <td>0.5</td>\n",
       "      <td>0.612294</td>\n",
       "      <td>0.387706</td>\n",
       "      <td>CentennialCO</td>\n",
       "      <td>434.706496</td>\n",
       "    </tr>\n",
       "  </tbody>\n",
       "</table>\n",
       "</div>"
      ],
      "text/plain": [
       "              Name              Customer Segment  Customer ID  \\\n",
       "0       A Giametti             Loyalty Club Only         2213   \n",
       "1     Abby Pierson  Loyalty Club and Credit Card         2785   \n",
       "2    Adele Hallman             Loyalty Club Only         2931   \n",
       "3  Alejandra Baird             Loyalty Club Only         2231   \n",
       "4     Alice Dewitt             Loyalty Club Only         2530   \n",
       "\n",
       "               Address        City State    ZIP  Store Number  \\\n",
       "0    5326 S Lisbon Way  Centennial    CO  80015           105   \n",
       "1    4344 W Roanoke Pl      Denver    CO  80236           101   \n",
       "2   5219 S Delaware St   Englewood    CO  80110           101   \n",
       "3     2301 Lawrence St      Denver    CO  80205           103   \n",
       "4  5549 S Hannibal Way  Centennial    CO  80015           104   \n",
       "\n",
       "   Avg Num Products Purchased  # Years as Customer  Score_No  Score_Yes  \\\n",
       "0                           3                  0.2  0.694964   0.305036   \n",
       "1                           6                  0.6  0.527275   0.472725   \n",
       "2                           7                  0.9  0.421118   0.578882   \n",
       "3                           2                  0.6  0.694862   0.305138   \n",
       "4                           4                  0.5  0.612294   0.387706   \n",
       "\n",
       "      cityState  Avg_Sale_Pred  \n",
       "0  CentennialCO     355.054232  \n",
       "1      DenverCO    1002.869784  \n",
       "2   EnglewoodCO     635.591147  \n",
       "3      DenverCO     301.237104  \n",
       "4  CentennialCO     434.706496  "
      ]
     },
     "execution_count": 271,
     "metadata": {},
     "output_type": "execute_result"
    }
   ],
   "source": [
    "# Let's make predictions \n",
    "\n",
    "sales_pred = lm.predict(features_test)\n",
    "\n",
    "new_customers = pd.concat([mailinglist, pd.Series(sales_pred, name='Avg_Sale_Pred')], axis = 1)\n",
    "\n",
    "new_customers.head()"
   ]
  },
  {
   "cell_type": "markdown",
   "metadata": {},
   "source": [
    "# Make a decision"
   ]
  },
  {
   "cell_type": "code",
   "execution_count": 272,
   "metadata": {
    "collapsed": true
   },
   "outputs": [],
   "source": [
    "# calc the profit \n",
    "new_customers['profit'] = new_customers.Avg_Sale_Pred*0.5*new_customers['Avg Num Products Purchased']*new_customers.Score_Yes - 6.5"
   ]
  },
  {
   "cell_type": "code",
   "execution_count": 273,
   "metadata": {
    "collapsed": false
   },
   "outputs": [
    {
     "data": {
      "text/plain": [
       "137174.90735509968"
      ]
     },
     "execution_count": 273,
     "metadata": {},
     "output_type": "execute_result"
    }
   ],
   "source": [
    "new_customers.profit.sum()"
   ]
  },
  {
   "cell_type": "code",
   "execution_count": 274,
   "metadata": {
    "collapsed": true
   },
   "outputs": [],
   "source": [
    "# calc the profit \n",
    "new_customers['profit1'] = new_customers.Avg_Sale_Pred*0.5*new_customers.Score_Yes - 6.5"
   ]
  },
  {
   "cell_type": "code",
   "execution_count": 276,
   "metadata": {
    "collapsed": false
   },
   "outputs": [
    {
     "data": {
      "text/plain": [
       "True"
      ]
     },
     "execution_count": 276,
     "metadata": {},
     "output_type": "execute_result"
    }
   ],
   "source": [
    "new_customers.profit1.sum() > 10000"
   ]
  },
  {
   "cell_type": "code",
   "execution_count": null,
   "metadata": {
    "collapsed": true
   },
   "outputs": [],
   "source": []
  }
 ],
 "metadata": {
  "kernelspec": {
   "display_name": "Python 2",
   "language": "python",
   "name": "python2"
  },
  "language_info": {
   "codemirror_mode": {
    "name": "ipython",
    "version": 2
   },
   "file_extension": ".py",
   "mimetype": "text/x-python",
   "name": "python",
   "nbconvert_exporter": "python",
   "pygments_lexer": "ipython2",
   "version": "2.7.12"
  }
 },
 "nbformat": 4,
 "nbformat_minor": 1
}
