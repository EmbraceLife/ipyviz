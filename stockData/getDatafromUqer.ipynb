{
 "cells": [
  {
   "cell_type": "code",
   "execution_count": 2,
   "metadata": {
    "collapsed": false
   },
   "outputs": [],
   "source": [
    "import pandas as pd"
   ]
  },
  {
   "cell_type": "markdown",
   "metadata": {},
   "source": [
    "## 股本数量变化"
   ]
  },
  {
   "cell_type": "code",
   "execution_count": null,
   "metadata": {
    "collapsed": false
   },
   "outputs": [],
   "source": [
    "mdjt = DataAPI.EquShareGet(secID=u\"\",ticker=u\"000333\",beginDate=u\"\",endDate=u\"\",\n",
    "                    partyID=u\"\",field=u\"\",pandas=\"1\")\n",
    "\n",
    "mdjt.to_csv('mdjtShares.csv', encoding='GBK')"
   ]
  },
  {
   "cell_type": "code",
   "execution_count": null,
   "metadata": {
    "collapsed": true
   },
   "outputs": [],
   "source": [
    "hkws = DataAPI.EquShareGet(secID=u\"\",ticker=u\"002415\",beginDate=u\"\",endDate=u\"\",\n",
    "                    partyID=u\"\",field=u\"\",pandas=\"1\")\n",
    "hkws.to_csv('hkwsShares.csv', encoding='GBK')"
   ]
  },
  {
   "cell_type": "code",
   "execution_count": null,
   "metadata": {
    "collapsed": false
   },
   "outputs": [],
   "source": [
    "byd = DataAPI.EquShareGet(secID=u\"\",ticker=u\"002594\",beginDate=u\"\",endDate=u\"\",\n",
    "                    partyID=u\"\",field=u\"\",pandas=\"1\")\n",
    "byd.to_csv('bydShares.csv', encoding='GBK')"
   ]
  },
  {
   "cell_type": "markdown",
   "metadata": {},
   "source": [
    "## 大宗交易"
   ]
  },
  {
   "cell_type": "code",
   "execution_count": 1,
   "metadata": {
    "collapsed": false
   },
   "outputs": [
    {
     "ename": "NameError",
     "evalue": "name 'DataAPI' is not defined",
     "output_type": "error",
     "traceback": [
      "\u001b[0;31m---------------------------------------------------------------------------\u001b[0m",
      "\u001b[0;31mNameError\u001b[0m                                 Traceback (most recent call last)",
      "\u001b[0;32m<ipython-input-1-e01127153f95>\u001b[0m in \u001b[0;36m<module>\u001b[0;34m()\u001b[0m\n\u001b[0;32m----> 1\u001b[0;31m mdjtdzjy = DataAPI.MktBlockdGet(tradeDate=u\"\",secID=u\"\",ticker=u\"000333\",beginDate=u\"\",\n\u001b[0m\u001b[1;32m      2\u001b[0m                      endDate=u\"\",assetClass=u\"\",field=u\"\",pandas=\"1\")\n\u001b[1;32m      3\u001b[0m \u001b[0mmdjtdzjy\u001b[0m\u001b[0;34m.\u001b[0m\u001b[0mto_csv\u001b[0m\u001b[0;34m(\u001b[0m\u001b[0;34m'mdjt_dzjy.csv'\u001b[0m\u001b[0;34m,\u001b[0m \u001b[0mencoding\u001b[0m\u001b[0;34m=\u001b[0m\u001b[0;34m'GBK'\u001b[0m\u001b[0;34m)\u001b[0m\u001b[0;34m\u001b[0m\u001b[0m\n",
      "\u001b[0;31mNameError\u001b[0m: name 'DataAPI' is not defined"
     ]
    }
   ],
   "source": [
    "mdjtdzjy = DataAPI.MktBlockdGet(tradeDate=u\"\",secID=u\"\",ticker=u\"000333\",beginDate=u\"\",\n",
    "                     endDate=u\"\",assetClass=u\"\",field=u\"\",pandas=\"1\")\n",
    "mdjtdzjy.to_csv('mdjt_dzjy.csv', encoding='GBK')"
   ]
  },
  {
   "cell_type": "code",
   "execution_count": null,
   "metadata": {
    "collapsed": false
   },
   "outputs": [],
   "source": [
    "byddzjy = DataAPI.MktBlockdGet(tradeDate=u\"\",secID=u\"\",ticker=u\"002594\",beginDate=u\"\",\n",
    "                     endDate=u\"\",assetClass=u\"\",field=u\"\",pandas=\"1\")\n",
    "byddzjy.to_csv('byd_dzjy.csv', encoding='GBK')"
   ]
  },
  {
   "cell_type": "code",
   "execution_count": null,
   "metadata": {
    "collapsed": false
   },
   "outputs": [],
   "source": [
    "hkwsdzjy = DataAPI.MktBlockdGet(tradeDate=u\"\",secID=u\"\",ticker=u\"002415\",beginDate=u\"\",\n",
    "                     endDate=u\"\",assetClass=u\"\",field=u\"\",pandas=\"1\")\n",
    "hkwsdzjy.to_csv('hkws_dzjy.csv', encoding='GBK')"
   ]
  },
  {
   "cell_type": "markdown",
   "metadata": {},
   "source": [
    "## 股票价格（月，日）"
   ]
  },
  {
   "cell_type": "markdown",
   "metadata": {},
   "source": [
    "### 前复权日价格"
   ]
  },
  {
   "cell_type": "code",
   "execution_count": null,
   "metadata": {
    "collapsed": true
   },
   "outputs": [],
   "source": [
    "mdjtPrices = DataAPI.MktEqudAdjGet(tradeDate=u\"\",secID=u\"\",ticker=u\"000333\",isOpen=\"\",  beginDate=u\"\",endDate=u\"\",field=u\"\",pandas=\"1\")\n",
    "mdjtPrices.to_csv('mdjt_prices.csv', encoding='GBK')"
   ]
  },
  {
   "cell_type": "code",
   "execution_count": null,
   "metadata": {
    "collapsed": false
   },
   "outputs": [],
   "source": [
    "hkwsPrices = DataAPI.MktEqudAdjGet(tradeDate=u\"\",secID=u\"\",ticker=u\"002415\",isOpen=\"\",  beginDate=u\"\",endDate=u\"\",field=u\"\",pandas=\"1\")\n",
    "hkwsPrices.to_csv('hkws_prices.csv', encoding='GBK')"
   ]
  },
  {
   "cell_type": "code",
   "execution_count": null,
   "metadata": {
    "collapsed": false
   },
   "outputs": [],
   "source": [
    "bydPrices = DataAPI.MktEqudAdjGet(tradeDate=u\"\",secID=u\"\",ticker=u\"002594\",isOpen=\"\",  beginDate=u\"\",endDate=u\"\",field=u\"\",pandas=\"1\")\n",
    "bydPrices.to_csv('byd_prices.csv', encoding='GBK')"
   ]
  },
  {
   "cell_type": "markdown",
   "metadata": {},
   "source": [
    "# 资金流向"
   ]
  },
  {
   "cell_type": "code",
   "execution_count": null,
   "metadata": {
    "collapsed": false
   },
   "outputs": [],
   "source": [
    "mdjt = DataAPI.MktEquFlowOrderGet(secID=u\"\",ticker=u\"000333\",beginDate=u\"\",endDate=u\"\",\n",
    "                           field=u\"\",pandas=\"1\")\n",
    "mdjt.to_csv('mdjt_flow.csv', encoding='GBK')"
   ]
  },
  {
   "cell_type": "code",
   "execution_count": null,
   "metadata": {
    "collapsed": false
   },
   "outputs": [],
   "source": [
    "hkws = DataAPI.MktEquFlowOrderGet(secID=u\"\",ticker=u\"002415\",beginDate=u\"\",endDate=u\"\",\n",
    "                           field=u\"\",pandas=\"1\")\n",
    "hkws.to_csv('hkws_flow.csv', encoding='GBK')"
   ]
  },
  {
   "cell_type": "code",
   "execution_count": null,
   "metadata": {
    "collapsed": false
   },
   "outputs": [],
   "source": [
    "byd = DataAPI.MktEquFlowOrderGet(secID=u\"\",ticker=u\"002594\",beginDate=u\"\",endDate=u\"\",\n",
    "                           field=u\"\",pandas=\"1\")\n",
    "byd.to_csv('byd_flow.csv', encoding='GBK')"
   ]
  },
  {
   "cell_type": "markdown",
   "metadata": {},
   "source": [
    "# 全因子数据"
   ]
  },
  {
   "cell_type": "code",
   "execution_count": null,
   "metadata": {
    "collapsed": false
   },
   "outputs": [],
   "source": [
    "columnNames = DataAPI.MktStockFactorsDateRangeGet(secID=u\"\",ticker=u\"000333\",beginDate=u\"20161018\",endDate=u\"\",\n",
    "                                    field=u\"\").columns"
   ]
  },
  {
   "cell_type": "code",
   "execution_count": null,
   "metadata": {
    "collapsed": false
   },
   "outputs": [
    {
     "data": {
      "text/plain": [
       "Index([u'ACD6', u'AD', u'AD20', u'AD6'], dtype='object')"
      ]
     },
     "execution_count": 29,
     "metadata": {},
     "output_type": "execute_result"
    }
   ],
   "source": [
    "columnNames[1:5]"
   ]
  },
  {
   "cell_type": "code",
   "execution_count": null,
   "metadata": {
    "collapsed": false
   },
   "outputs": [
    {
     "data": {
      "text/html": [
       "<div style=\"max-width:1500px;overflow:auto;\">\n",
       "<table border=\"1\" class=\"dataframe\">\n",
       "  <thead>\n",
       "    <tr style=\"text-align: right;\">\n",
       "      <th></th>\n",
       "      <th>EquityToAsset</th>\n",
       "      <th>EquityTRate</th>\n",
       "      <th>ETOP</th>\n",
       "      <th>ETP5</th>\n",
       "      <th>FinancialExpenseRate</th>\n",
       "      <th>FinancingCashGrowRate</th>\n",
       "      <th>FixAssetRatio</th>\n",
       "      <th>FixedAssetsTRate</th>\n",
       "      <th>GrossIncomeRatio</th>\n",
       "      <th>HBETA</th>\n",
       "    </tr>\n",
       "  </thead>\n",
       "  <tbody>\n",
       "    <tr>\n",
       "      <th>0</th>\n",
       "      <td>0.378</td>\n",
       "      <td>4.332</td>\n",
       "      <td>0.0777</td>\n",
       "      <td>NaN</td>\n",
       "      <td>0.0087</td>\n",
       "      <td>NaN</td>\n",
       "      <td>0.2491</td>\n",
       "      <td>6.3809</td>\n",
       "      <td>0.1822</td>\n",
       "      <td>NaN</td>\n",
       "    </tr>\n",
       "    <tr>\n",
       "      <th>1</th>\n",
       "      <td>0.378</td>\n",
       "      <td>4.332</td>\n",
       "      <td>0.0747</td>\n",
       "      <td>NaN</td>\n",
       "      <td>0.0087</td>\n",
       "      <td>NaN</td>\n",
       "      <td>0.2491</td>\n",
       "      <td>6.3809</td>\n",
       "      <td>0.1822</td>\n",
       "      <td>NaN</td>\n",
       "    </tr>\n",
       "    <tr>\n",
       "      <th>2</th>\n",
       "      <td>0.378</td>\n",
       "      <td>4.332</td>\n",
       "      <td>0.0754</td>\n",
       "      <td>NaN</td>\n",
       "      <td>0.0087</td>\n",
       "      <td>NaN</td>\n",
       "      <td>0.2491</td>\n",
       "      <td>6.3809</td>\n",
       "      <td>0.1822</td>\n",
       "      <td>NaN</td>\n",
       "    </tr>\n",
       "    <tr>\n",
       "      <th>3</th>\n",
       "      <td>0.378</td>\n",
       "      <td>4.332</td>\n",
       "      <td>0.0776</td>\n",
       "      <td>NaN</td>\n",
       "      <td>0.0087</td>\n",
       "      <td>NaN</td>\n",
       "      <td>0.2491</td>\n",
       "      <td>6.3809</td>\n",
       "      <td>0.1822</td>\n",
       "      <td>NaN</td>\n",
       "    </tr>\n",
       "    <tr>\n",
       "      <th>4</th>\n",
       "      <td>0.378</td>\n",
       "      <td>4.332</td>\n",
       "      <td>0.0753</td>\n",
       "      <td>NaN</td>\n",
       "      <td>0.0087</td>\n",
       "      <td>NaN</td>\n",
       "      <td>0.2491</td>\n",
       "      <td>6.3809</td>\n",
       "      <td>0.1822</td>\n",
       "      <td>NaN</td>\n",
       "    </tr>\n",
       "  </tbody>\n",
       "</table>\n",
       "</div>"
      ],
      "text/plain": [
       "   EquityToAsset  EquityTRate    ETOP  ETP5  FinancialExpenseRate  \\\n",
       "0          0.378        4.332  0.0777   NaN                0.0087   \n",
       "1          0.378        4.332  0.0747   NaN                0.0087   \n",
       "2          0.378        4.332  0.0754   NaN                0.0087   \n",
       "3          0.378        4.332  0.0776   NaN                0.0087   \n",
       "4          0.378        4.332  0.0753   NaN                0.0087   \n",
       "\n",
       "   FinancingCashGrowRate  FixAssetRatio  FixedAssetsTRate  GrossIncomeRatio  \\\n",
       "0                    NaN         0.2491            6.3809            0.1822   \n",
       "1                    NaN         0.2491            6.3809            0.1822   \n",
       "2                    NaN         0.2491            6.3809            0.1822   \n",
       "3                    NaN         0.2491            6.3809            0.1822   \n",
       "4                    NaN         0.2491            6.3809            0.1822   \n",
       "\n",
       "   HBETA  \n",
       "0    NaN  \n",
       "1    NaN  \n",
       "2    NaN  \n",
       "3    NaN  \n",
       "4    NaN  "
      ]
     },
     "execution_count": 34,
     "metadata": {},
     "output_type": "execute_result"
    }
   ],
   "source": [
    "DataAPI.MktStockFactorsDateRangeGet(secID=u\"\",ticker=u\"000333\",beginDate=u\"20131018\",endDate=u\"20141210\",\n",
    "                                    field=columnNames[150:160]).head()"
   ]
  },
  {
   "cell_type": "markdown",
   "metadata": {},
   "source": [
    "# 融资融券"
   ]
  },
  {
   "cell_type": "code",
   "execution_count": null,
   "metadata": {
    "collapsed": false
   },
   "outputs": [],
   "source": [
    "mdjt = DataAPI.FstDetailGet(secID=u\"\",ticker=u\"000333\",beginDate=u\"\",endDate=u\"\",field=u\"\",pandas=\"1\")\n",
    "mdjt.to_csv('mdjt_rzrq.csv', encoding='GBK')"
   ]
  },
  {
   "cell_type": "code",
   "execution_count": null,
   "metadata": {
    "collapsed": false
   },
   "outputs": [],
   "source": [
    "hkws = DataAPI.FstDetailGet(secID=u\"\",ticker=u\"002415\",beginDate=u\"\",endDate=u\"\",field=u\"\",pandas=\"1\")\n",
    "hkws.to_csv('hkws_rzrq.csv', encoding='GBK')"
   ]
  },
  {
   "cell_type": "code",
   "execution_count": null,
   "metadata": {
    "collapsed": false
   },
   "outputs": [],
   "source": [
    "byd = DataAPI.FstDetailGet(secID=u\"\",ticker=u\"002594\",beginDate=u\"\",endDate=u\"\",field=u\"\",pandas=\"1\")\n",
    "byd.to_csv('byd_rzrq.csv', encoding='GBK')"
   ]
  },
  {
   "cell_type": "code",
   "execution_count": null,
   "metadata": {
    "collapsed": false
   },
   "outputs": [],
   "source": []
  }
 ],
 "metadata": {
  "kernelspec": {
   "display_name": "Python 2",
   "language": "python",
   "name": "python2"
  },
  "language_info": {
   "codemirror_mode": {
    "name": "ipython",
    "version": 2
   },
   "file_extension": ".py",
   "mimetype": "text/x-python",
   "name": "python",
   "nbconvert_exporter": "python",
   "pygments_lexer": "ipython2",
   "version": "2.7.12"
  }
 },
 "nbformat": 4,
 "nbformat_minor": 0
}
