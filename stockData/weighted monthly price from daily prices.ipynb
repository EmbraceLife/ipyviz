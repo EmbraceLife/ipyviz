{
 "cells": [
  {
   "cell_type": "code",
   "execution_count": 5,
   "metadata": {
    "collapsed": true
   },
   "outputs": [],
   "source": [
    "import pandas as pd\n",
    "import matplotlib.pyplot as plt\n",
    "%matplotlib inline\n",
    "pd.set_option('display.max_rows', 10)\n",
    "pd.set_option('display.max_columns', 20)"
   ]
  },
  {
   "cell_type": "code",
   "execution_count": 6,
   "metadata": {
    "collapsed": false
   },
   "outputs": [
    {
     "data": {
      "text/plain": [
       "month\n",
       "2011-01       4.30\n",
       "2011-08    1628.00\n",
       "2012-02     470.00\n",
       "2012-03    1385.00\n",
       "2012-05    1346.00\n",
       "            ...   \n",
       "2016-06    2802.98\n",
       "2016-07     502.49\n",
       "2016-08      20.00\n",
       "2016-09     365.47\n",
       "2016-10     422.42\n",
       "Name: tradeVol, dtype: float64"
      ]
     },
     "execution_count": 6,
     "metadata": {},
     "output_type": "execute_result"
    }
   ],
   "source": [
    "hkws = pd.read_csv('hkws_dzjy.csv', encoding='GBK')\n",
    "\n",
    "hkws['month'] = hkws.tradeDate.str.slice(0,7)\n",
    "\n",
    "hkws.groupby('month').tradeVol.sum()"
   ]
  },
  {
   "cell_type": "code",
   "execution_count": 7,
   "metadata": {
    "collapsed": false
   },
   "outputs": [
    {
     "data": {
      "text/plain": [
       "<matplotlib.axes._subplots.AxesSubplot at 0x10ba03150>"
      ]
     },
     "execution_count": 7,
     "metadata": {},
     "output_type": "execute_result"
    },
    {
     "data": {
      "image/png": "[encoded data removed]",
      "text/plain": [
       "<matplotlib.figure.Figure at 0x10b826490>"
      ]
     },
     "metadata": {},
     "output_type": "display_data"
    }
   ],
   "source": [
    "hkwsGroup = hkws.groupby('month')\n",
    "\n",
    "monthVol = pd.DataFrame({'month':hkwsGroup.tradeVol.sum().index, \n",
    "                         'monthVol': hkwsGroup.tradeVol.sum().reset_index(drop=True)})\n",
    "# monthVol\n",
    "\n",
    "hkwsGroup1 = pd.merge(hkws, monthVol, on='month', how='left')\n",
    "hkwsGroup1['wpctMonth'] = hkwsGroup1.tradeVol/hkwsGroup1.monthVol\n",
    "hkwsGroup1['wtPriceMonth'] = hkwsGroup1.wpctMonth*hkwsGroup1.tradePrice\n",
    "\n",
    "hkwsGroup1.groupby('month').wtPriceMonth.sum()\n",
    "\n",
    "plt.figure(figsize=(10, 5))\n",
    "hkwsGroup1.groupby('month').wtPriceMonth.sum().plot(kind=\"bar\")"
   ]
  },
  {
   "cell_type": "code",
   "execution_count": null,
   "metadata": {
    "collapsed": true
   },
   "outputs": [],
   "source": []
  }
 ],
 "metadata": {
  "kernelspec": {
   "display_name": "Python 2",
   "language": "python",
   "name": "python2"
  },
  "language_info": {
   "codemirror_mode": {
    "name": "ipython",
    "version": 2
   },
   "file_extension": ".py",
   "mimetype": "text/x-python",
   "name": "python",
   "nbconvert_exporter": "python",
   "pygments_lexer": "ipython2",
   "version": "2.7.12"
  }
 },
 "nbformat": 4,
 "nbformat_minor": 1
}
