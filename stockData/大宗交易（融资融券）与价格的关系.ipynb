{
 "cells": [
  {
   "cell_type": "code",
   "execution_count": 43,
   "metadata": {
    "collapsed": true
   },
   "outputs": [],
   "source": [
    "import pandas as pd\n",
    "import matplotlib.pyplot as plt\n",
    "%matplotlib inline\n",
    "pd.set_option('display.max_rows', 100)\n",
    "pd.set_option('display.max_columns', 20)"
   ]
  },
  {
   "cell_type": "code",
   "execution_count": 11,
   "metadata": {
    "collapsed": false
   },
   "outputs": [
    {
     "data": {
      "text/plain": [
       "month\n",
       "2011-01       4.30\n",
       "2011-08    1628.00\n",
       "2012-02     470.00\n",
       "2012-03    1385.00\n",
       "2012-05    1346.00\n",
       "            ...   \n",
       "2016-06    2802.98\n",
       "2016-07     502.49\n",
       "2016-08      20.00\n",
       "2016-09     365.47\n",
       "2016-10     422.42\n",
       "Name: tradeVol, dtype: float64"
      ]
     },
     "execution_count": 11,
     "metadata": {},
     "output_type": "execute_result"
    }
   ],
   "source": [
    "hkws_dzjy = pd.read_csv('hkws_dzjy.csv', encoding='GBK')\n",
    "\n",
    "hkws_dzjy['month'] = hkws_dzjy.tradeDate.str.slice(0,7)\n",
    "\n",
    "hkws_dzjyVol_month = hkws_dzjy.groupby('month').tradeVol.sum()\n",
    "\n",
    "hkws_dzjy.groupby('month').tradeVol.sum()"
   ]
  },
  {
   "cell_type": "code",
   "execution_count": 31,
   "metadata": {
    "collapsed": false
   },
   "outputs": [
    {
     "data": {
      "text/plain": [
       "month\n",
       "2015-10     805661448\n",
       "2015-11    4427895475\n",
       "2015-12    1958095671\n",
       "2016-01    1123509165\n",
       "2016-02     905513408\n",
       "              ...    \n",
       "2016-06     724302980\n",
       "2016-07    1383354286\n",
       "2016-08     948279611\n",
       "2016-09     376473812\n",
       "2016-10     536794676\n",
       "Name: finBuyVal, dtype: int64"
      ]
     },
     "execution_count": 31,
     "metadata": {},
     "output_type": "execute_result"
    }
   ],
   "source": [
    "hkws_rzrq = pd.read_csv('hkws_rzrq.csv', encoding='GBK')\n",
    "\n",
    "hkws_rzrq.sort_index(axis=0 ,ascending=False, inplace=True)\n",
    "hkws_rzrq['date'] = pd.to_datetime(hkws_rzrq.tradeDate)\n",
    "hkws_rzrq.set_index('date', inplace=True)\n",
    "\n",
    "hkws_rzrq['month'] = hkws_rzrq.tradeDate.str.slice(0,7)\n",
    "\n",
    "hkws_rzbuy_month = hkws_rzrq.groupby('month').finBuyVal.sum()\n",
    "\n",
    "hkws_rzrq.groupby('month').finBuyVal.sum()"
   ]
  },
  {
   "cell_type": "code",
   "execution_count": 28,
   "metadata": {
    "collapsed": false
   },
   "outputs": [
    {
     "data": {
      "text/plain": [
       "month\n",
       "2010-05     6.425000\n",
       "2010-06     6.120684\n",
       "2010-07     5.358864\n",
       "2010-08     6.006318\n",
       "2010-09     5.576158\n",
       "             ...    \n",
       "2016-06    21.125000\n",
       "2016-07    24.423810\n",
       "2016-08    25.609130\n",
       "2016-09    24.553000\n",
       "2016-10    24.843077\n",
       "Name: closePrice, dtype: float64"
      ]
     },
     "execution_count": 28,
     "metadata": {},
     "output_type": "execute_result"
    }
   ],
   "source": [
    "hkwsPrice = pd.read_csv('hkws_prices.csv', encoding='GBK')\n",
    "hkwsPrice['month'] = hkwsPrice.tradeDate.str.slice(0,7)\n",
    "\n",
    "hkws_avgPriceMonth = hkwsPrice.groupby('month').closePrice.mean()\n",
    "hkwsPrice.groupby('month').closePrice.mean()"
   ]
  },
  {
   "cell_type": "code",
   "execution_count": 38,
   "metadata": {
    "collapsed": false
   },
   "outputs": [
    {
     "data": {
      "text/html": [
       "<div>\n",
       "<table border=\"1\" class=\"dataframe\">\n",
       "  <thead>\n",
       "    <tr style=\"text-align: right;\">\n",
       "      <th></th>\n",
       "      <th>month</th>\n",
       "      <th>price</th>\n",
       "    </tr>\n",
       "    <tr>\n",
       "      <th>month</th>\n",
       "      <th></th>\n",
       "      <th></th>\n",
       "    </tr>\n",
       "  </thead>\n",
       "  <tbody>\n",
       "    <tr>\n",
       "      <th>2010-05</th>\n",
       "      <td>2010-05</td>\n",
       "      <td>6.425000</td>\n",
       "    </tr>\n",
       "    <tr>\n",
       "      <th>2010-06</th>\n",
       "      <td>2010-06</td>\n",
       "      <td>6.120684</td>\n",
       "    </tr>\n",
       "    <tr>\n",
       "      <th>2010-07</th>\n",
       "      <td>2010-07</td>\n",
       "      <td>5.358864</td>\n",
       "    </tr>\n",
       "    <tr>\n",
       "      <th>2010-08</th>\n",
       "      <td>2010-08</td>\n",
       "      <td>6.006318</td>\n",
       "    </tr>\n",
       "    <tr>\n",
       "      <th>2010-09</th>\n",
       "      <td>2010-09</td>\n",
       "      <td>5.576158</td>\n",
       "    </tr>\n",
       "    <tr>\n",
       "      <th>...</th>\n",
       "      <td>...</td>\n",
       "      <td>...</td>\n",
       "    </tr>\n",
       "    <tr>\n",
       "      <th>2016-06</th>\n",
       "      <td>2016-06</td>\n",
       "      <td>21.125000</td>\n",
       "    </tr>\n",
       "    <tr>\n",
       "      <th>2016-07</th>\n",
       "      <td>2016-07</td>\n",
       "      <td>24.423810</td>\n",
       "    </tr>\n",
       "    <tr>\n",
       "      <th>2016-08</th>\n",
       "      <td>2016-08</td>\n",
       "      <td>25.609130</td>\n",
       "    </tr>\n",
       "    <tr>\n",
       "      <th>2016-09</th>\n",
       "      <td>2016-09</td>\n",
       "      <td>24.553000</td>\n",
       "    </tr>\n",
       "    <tr>\n",
       "      <th>2016-10</th>\n",
       "      <td>2016-10</td>\n",
       "      <td>24.843077</td>\n",
       "    </tr>\n",
       "  </tbody>\n",
       "</table>\n",
       "<p>78 rows × 2 columns</p>\n",
       "</div>"
      ],
      "text/plain": [
       "           month      price\n",
       "month                      \n",
       "2010-05  2010-05   6.425000\n",
       "2010-06  2010-06   6.120684\n",
       "2010-07  2010-07   5.358864\n",
       "2010-08  2010-08   6.006318\n",
       "2010-09  2010-09   5.576158\n",
       "...          ...        ...\n",
       "2016-06  2016-06  21.125000\n",
       "2016-07  2016-07  24.423810\n",
       "2016-08  2016-08  25.609130\n",
       "2016-09  2016-09  24.553000\n",
       "2016-10  2016-10  24.843077\n",
       "\n",
       "[78 rows x 2 columns]"
      ]
     },
     "execution_count": 38,
     "metadata": {},
     "output_type": "execute_result"
    }
   ],
   "source": [
    "avgMonPrice = pd.DataFrame({'month':hkws_avgPriceMonth.index, 'price':hkws_avgPriceMonth})\n",
    "avgMonPrice"
   ]
  },
  {
   "cell_type": "code",
   "execution_count": 37,
   "metadata": {
    "collapsed": false
   },
   "outputs": [
    {
     "data": {
      "text/html": [
       "<div>\n",
       "<table border=\"1\" class=\"dataframe\">\n",
       "  <thead>\n",
       "    <tr style=\"text-align: right;\">\n",
       "      <th></th>\n",
       "      <th>buyVal</th>\n",
       "      <th>month</th>\n",
       "    </tr>\n",
       "    <tr>\n",
       "      <th>month</th>\n",
       "      <th></th>\n",
       "      <th></th>\n",
       "    </tr>\n",
       "  </thead>\n",
       "  <tbody>\n",
       "    <tr>\n",
       "      <th>2015-10</th>\n",
       "      <td>805661448</td>\n",
       "      <td>2015-10</td>\n",
       "    </tr>\n",
       "    <tr>\n",
       "      <th>2015-11</th>\n",
       "      <td>4427895475</td>\n",
       "      <td>2015-11</td>\n",
       "    </tr>\n",
       "    <tr>\n",
       "      <th>2015-12</th>\n",
       "      <td>1958095671</td>\n",
       "      <td>2015-12</td>\n",
       "    </tr>\n",
       "    <tr>\n",
       "      <th>2016-01</th>\n",
       "      <td>1123509165</td>\n",
       "      <td>2016-01</td>\n",
       "    </tr>\n",
       "    <tr>\n",
       "      <th>2016-02</th>\n",
       "      <td>905513408</td>\n",
       "      <td>2016-02</td>\n",
       "    </tr>\n",
       "    <tr>\n",
       "      <th>...</th>\n",
       "      <td>...</td>\n",
       "      <td>...</td>\n",
       "    </tr>\n",
       "    <tr>\n",
       "      <th>2016-06</th>\n",
       "      <td>724302980</td>\n",
       "      <td>2016-06</td>\n",
       "    </tr>\n",
       "    <tr>\n",
       "      <th>2016-07</th>\n",
       "      <td>1383354286</td>\n",
       "      <td>2016-07</td>\n",
       "    </tr>\n",
       "    <tr>\n",
       "      <th>2016-08</th>\n",
       "      <td>948279611</td>\n",
       "      <td>2016-08</td>\n",
       "    </tr>\n",
       "    <tr>\n",
       "      <th>2016-09</th>\n",
       "      <td>376473812</td>\n",
       "      <td>2016-09</td>\n",
       "    </tr>\n",
       "    <tr>\n",
       "      <th>2016-10</th>\n",
       "      <td>536794676</td>\n",
       "      <td>2016-10</td>\n",
       "    </tr>\n",
       "  </tbody>\n",
       "</table>\n",
       "<p>13 rows × 2 columns</p>\n",
       "</div>"
      ],
      "text/plain": [
       "             buyVal    month\n",
       "month                       \n",
       "2015-10   805661448  2015-10\n",
       "2015-11  4427895475  2015-11\n",
       "2015-12  1958095671  2015-12\n",
       "2016-01  1123509165  2016-01\n",
       "2016-02   905513408  2016-02\n",
       "...             ...      ...\n",
       "2016-06   724302980  2016-06\n",
       "2016-07  1383354286  2016-07\n",
       "2016-08   948279611  2016-08\n",
       "2016-09   376473812  2016-09\n",
       "2016-10   536794676  2016-10\n",
       "\n",
       "[13 rows x 2 columns]"
      ]
     },
     "execution_count": 37,
     "metadata": {},
     "output_type": "execute_result"
    }
   ],
   "source": [
    "rzbuy_month = pd.DataFrame({'month':hkws_rzbuy_month.index, 'buyVal':hkws_rzbuy_month})\n",
    "rzbuy_month"
   ]
  },
  {
   "cell_type": "code",
   "execution_count": 45,
   "metadata": {
    "collapsed": false
   },
   "outputs": [
    {
     "data": {
      "text/html": [
       "<div>\n",
       "<table border=\"1\" class=\"dataframe\">\n",
       "  <thead>\n",
       "    <tr style=\"text-align: right;\">\n",
       "      <th></th>\n",
       "      <th>buyVal</th>\n",
       "      <th>month</th>\n",
       "      <th>price</th>\n",
       "    </tr>\n",
       "  </thead>\n",
       "  <tbody>\n",
       "    <tr>\n",
       "      <th>0</th>\n",
       "      <td>805661448</td>\n",
       "      <td>2015-10</td>\n",
       "      <td>22.577353</td>\n",
       "    </tr>\n",
       "    <tr>\n",
       "      <th>1</th>\n",
       "      <td>4427895475</td>\n",
       "      <td>2015-11</td>\n",
       "      <td>23.273762</td>\n",
       "    </tr>\n",
       "    <tr>\n",
       "      <th>2</th>\n",
       "      <td>1958095671</td>\n",
       "      <td>2015-12</td>\n",
       "      <td>22.570391</td>\n",
       "    </tr>\n",
       "    <tr>\n",
       "      <th>3</th>\n",
       "      <td>1123509165</td>\n",
       "      <td>2016-01</td>\n",
       "      <td>18.401650</td>\n",
       "    </tr>\n",
       "    <tr>\n",
       "      <th>4</th>\n",
       "      <td>905513408</td>\n",
       "      <td>2016-02</td>\n",
       "      <td>17.864500</td>\n",
       "    </tr>\n",
       "    <tr>\n",
       "      <th>5</th>\n",
       "      <td>1164767693</td>\n",
       "      <td>2016-03</td>\n",
       "      <td>19.659261</td>\n",
       "    </tr>\n",
       "    <tr>\n",
       "      <th>6</th>\n",
       "      <td>713913202</td>\n",
       "      <td>2016-04</td>\n",
       "      <td>20.123300</td>\n",
       "    </tr>\n",
       "    <tr>\n",
       "      <th>7</th>\n",
       "      <td>726040518</td>\n",
       "      <td>2016-05</td>\n",
       "      <td>20.668238</td>\n",
       "    </tr>\n",
       "    <tr>\n",
       "      <th>8</th>\n",
       "      <td>724302980</td>\n",
       "      <td>2016-06</td>\n",
       "      <td>21.125000</td>\n",
       "    </tr>\n",
       "    <tr>\n",
       "      <th>9</th>\n",
       "      <td>1383354286</td>\n",
       "      <td>2016-07</td>\n",
       "      <td>24.423810</td>\n",
       "    </tr>\n",
       "    <tr>\n",
       "      <th>10</th>\n",
       "      <td>948279611</td>\n",
       "      <td>2016-08</td>\n",
       "      <td>25.609130</td>\n",
       "    </tr>\n",
       "    <tr>\n",
       "      <th>11</th>\n",
       "      <td>376473812</td>\n",
       "      <td>2016-09</td>\n",
       "      <td>24.553000</td>\n",
       "    </tr>\n",
       "    <tr>\n",
       "      <th>12</th>\n",
       "      <td>536794676</td>\n",
       "      <td>2016-10</td>\n",
       "      <td>24.843077</td>\n",
       "    </tr>\n",
       "  </tbody>\n",
       "</table>\n",
       "</div>"
      ],
      "text/plain": [
       "        buyVal    month      price\n",
       "0    805661448  2015-10  22.577353\n",
       "1   4427895475  2015-11  23.273762\n",
       "2   1958095671  2015-12  22.570391\n",
       "3   1123509165  2016-01  18.401650\n",
       "4    905513408  2016-02  17.864500\n",
       "5   1164767693  2016-03  19.659261\n",
       "6    713913202  2016-04  20.123300\n",
       "7    726040518  2016-05  20.668238\n",
       "8    724302980  2016-06  21.125000\n",
       "9   1383354286  2016-07  24.423810\n",
       "10   948279611  2016-08  25.609130\n",
       "11   376473812  2016-09  24.553000\n",
       "12   536794676  2016-10  24.843077"
      ]
     },
     "execution_count": 45,
     "metadata": {},
     "output_type": "execute_result"
    }
   ],
   "source": [
    "hkws_dzbuy_avgPrice = pd.merge(rzbuy_month, avgMonPrice, on='month', how='left')\n",
    "hkws_dzbuy_avgPrice"
   ]
  },
  {
   "cell_type": "code",
   "execution_count": 50,
   "metadata": {
    "collapsed": false
   },
   "outputs": [
    {
     "data": {
      "text/html": [
       "<div>\n",
       "<table border=\"1\" class=\"dataframe\">\n",
       "  <thead>\n",
       "    <tr style=\"text-align: right;\">\n",
       "      <th></th>\n",
       "      <th>buyVal</th>\n",
       "      <th>month</th>\n",
       "      <th>price</th>\n",
       "    </tr>\n",
       "    <tr>\n",
       "      <th>date</th>\n",
       "      <th></th>\n",
       "      <th></th>\n",
       "      <th></th>\n",
       "    </tr>\n",
       "  </thead>\n",
       "  <tbody>\n",
       "    <tr>\n",
       "      <th>2015-10-01</th>\n",
       "      <td>805661448</td>\n",
       "      <td>2015-10</td>\n",
       "      <td>22.577353</td>\n",
       "    </tr>\n",
       "    <tr>\n",
       "      <th>2015-11-01</th>\n",
       "      <td>4427895475</td>\n",
       "      <td>2015-11</td>\n",
       "      <td>23.273762</td>\n",
       "    </tr>\n",
       "    <tr>\n",
       "      <th>2015-12-01</th>\n",
       "      <td>1958095671</td>\n",
       "      <td>2015-12</td>\n",
       "      <td>22.570391</td>\n",
       "    </tr>\n",
       "    <tr>\n",
       "      <th>2016-01-01</th>\n",
       "      <td>1123509165</td>\n",
       "      <td>2016-01</td>\n",
       "      <td>18.401650</td>\n",
       "    </tr>\n",
       "    <tr>\n",
       "      <th>2016-02-01</th>\n",
       "      <td>905513408</td>\n",
       "      <td>2016-02</td>\n",
       "      <td>17.864500</td>\n",
       "    </tr>\n",
       "    <tr>\n",
       "      <th>2016-03-01</th>\n",
       "      <td>1164767693</td>\n",
       "      <td>2016-03</td>\n",
       "      <td>19.659261</td>\n",
       "    </tr>\n",
       "    <tr>\n",
       "      <th>2016-04-01</th>\n",
       "      <td>713913202</td>\n",
       "      <td>2016-04</td>\n",
       "      <td>20.123300</td>\n",
       "    </tr>\n",
       "    <tr>\n",
       "      <th>2016-05-01</th>\n",
       "      <td>726040518</td>\n",
       "      <td>2016-05</td>\n",
       "      <td>20.668238</td>\n",
       "    </tr>\n",
       "    <tr>\n",
       "      <th>2016-06-01</th>\n",
       "      <td>724302980</td>\n",
       "      <td>2016-06</td>\n",
       "      <td>21.125000</td>\n",
       "    </tr>\n",
       "    <tr>\n",
       "      <th>2016-07-01</th>\n",
       "      <td>1383354286</td>\n",
       "      <td>2016-07</td>\n",
       "      <td>24.423810</td>\n",
       "    </tr>\n",
       "    <tr>\n",
       "      <th>2016-08-01</th>\n",
       "      <td>948279611</td>\n",
       "      <td>2016-08</td>\n",
       "      <td>25.609130</td>\n",
       "    </tr>\n",
       "    <tr>\n",
       "      <th>2016-09-01</th>\n",
       "      <td>376473812</td>\n",
       "      <td>2016-09</td>\n",
       "      <td>24.553000</td>\n",
       "    </tr>\n",
       "    <tr>\n",
       "      <th>2016-10-01</th>\n",
       "      <td>536794676</td>\n",
       "      <td>2016-10</td>\n",
       "      <td>24.843077</td>\n",
       "    </tr>\n",
       "  </tbody>\n",
       "</table>\n",
       "</div>"
      ],
      "text/plain": [
       "                buyVal    month      price\n",
       "date                                      \n",
       "2015-10-01   805661448  2015-10  22.577353\n",
       "2015-11-01  4427895475  2015-11  23.273762\n",
       "2015-12-01  1958095671  2015-12  22.570391\n",
       "2016-01-01  1123509165  2016-01  18.401650\n",
       "2016-02-01   905513408  2016-02  17.864500\n",
       "2016-03-01  1164767693  2016-03  19.659261\n",
       "2016-04-01   713913202  2016-04  20.123300\n",
       "2016-05-01   726040518  2016-05  20.668238\n",
       "2016-06-01   724302980  2016-06  21.125000\n",
       "2016-07-01  1383354286  2016-07  24.423810\n",
       "2016-08-01   948279611  2016-08  25.609130\n",
       "2016-09-01   376473812  2016-09  24.553000\n",
       "2016-10-01   536794676  2016-10  24.843077"
      ]
     },
     "execution_count": 50,
     "metadata": {},
     "output_type": "execute_result"
    }
   ],
   "source": [
    "hkws_dzbuy_avgPrice['date'] = pd.to_datetime(hkws_dzbuy_avgPrice.month)\n",
    "hkws_dzbuy_avgPrice.set_index('date', inplace=True)\n",
    "hkws_dzbuy_avgPrice"
   ]
  },
  {
   "cell_type": "code",
   "execution_count": 60,
   "metadata": {
    "collapsed": false
   },
   "outputs": [
    {
     "data": {
      "text/plain": [
       "376473812"
      ]
     },
     "execution_count": 60,
     "metadata": {},
     "output_type": "execute_result"
    }
   ],
   "source": [
    "hkws_dzbuy_avgPrice.buyVal.min()"
   ]
  },
  {
   "cell_type": "code",
   "execution_count": 62,
   "metadata": {
    "collapsed": false
   },
   "outputs": [
    {
     "data": {
      "text/plain": [
       "<matplotlib.collections.PathCollection at 0x10f5a1090>"
      ]
     },
     "execution_count": 62,
     "metadata": {},
     "output_type": "execute_result"
    },
    {
     "data": {
      "image/png": "[encoded data removed]",
      "text/plain": [
       "<matplotlib.figure.Figure at 0x1101d5350>"
      ]
     },
     "metadata": {},
     "output_type": "display_data"
    }
   ],
   "source": [
    "import matplotlib.pyplot as plt\n",
    "\n",
    "plt.figure(figsize=(10, 5))\n",
    "plt.scatter(hkws_dzbuy_avgPrice.index,\n",
    "            # attacker size in year 298 as the y axis\n",
    "            hkws_dzbuy_avgPrice.price, \n",
    "           s=10*hkws_dzbuy_avgPrice.buyVal/hkws_dzbuy_avgPrice.buyVal.min())"
   ]
  },
  {
   "cell_type": "code",
   "execution_count": null,
   "metadata": {
    "collapsed": false
   },
   "outputs": [],
   "source": []
  }
 ],
 "metadata": {
  "kernelspec": {
   "display_name": "Python 2",
   "language": "python",
   "name": "python2"
  },
  "language_info": {
   "codemirror_mode": {
    "name": "ipython",
    "version": 2
   },
   "file_extension": ".py",
   "mimetype": "text/x-python",
   "name": "python",
   "nbconvert_exporter": "python",
   "pygments_lexer": "ipython2",
   "version": "2.7.12"
  }
 },
 "nbformat": 4,
 "nbformat_minor": 1
}
