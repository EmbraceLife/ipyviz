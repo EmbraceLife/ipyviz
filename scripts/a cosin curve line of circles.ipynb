{
 "cells": [
  {
   "cell_type": "code",
   "execution_count": 2,
   "metadata": {
    "collapsed": false
   },
   "outputs": [
    {
     "data": {
      "text/html": [
       "\n",
       "    <div class=\"bk-root\">\n",
       "        <a href=\"http://bokeh.pydata.org\" target=\"_blank\" class=\"bk-logo bk-logo-small bk-logo-notebook\"></a>\n",
       "        <span id=\"e33371c6-7ba4-47ad-b808-27554906fc9a\">Loading BokehJS ...</span>\n",
       "    </div>"
      ]
     },
     "metadata": {},
     "output_type": "display_data"
    },
    {
     "data": {
      "application/javascript": [
       "\n",
       "(function(global) {\n",
       "  function now() {\n",
       "    return new Date();\n",
       "  }\n",
       "\n",
       "  var force = \"1\";\n",
       "\n",
       "  if (typeof (window._bokeh_onload_callbacks) === \"undefined\" || force !== \"\") {\n",
       "    window._bokeh_onload_callbacks = [];\n",
       "    window._bokeh_is_loading = undefined;\n",
       "  }\n",
       "\n",
       "  function run_callbacks() {\n",
       "    window._bokeh_onload_callbacks.forEach(function(callback) { callback() });\n",
       "    delete window._bokeh_onload_callbacks\n",
       "    console.info(\"Bokeh: all callbacks have finished\");\n",
       "  }\n",
       "\n",
       "  function load_libs(js_urls, callback) {\n",
       "    window._bokeh_onload_callbacks.push(callback);\n",
       "    if (window._bokeh_is_loading > 0) {\n",
       "      console.log(\"Bokeh: BokehJS is being loaded, scheduling callback at\", now());\n",
       "      return null;\n",
       "    }\n",
       "    if (js_urls == null || js_urls.length === 0) {\n",
       "      run_callbacks();\n",
       "      return null;\n",
       "    }\n",
       "    console.log(\"Bokeh: BokehJS not loaded, scheduling load and callback at\", now());\n",
       "    window._bokeh_is_loading = js_urls.length;\n",
       "    for (var i = 0; i < js_urls.length; i++) {\n",
       "      var url = js_urls[i];\n",
       "      var s = document.createElement('script');\n",
       "      s.src = url;\n",
       "      s.async = false;\n",
       "      s.onreadystatechange = s.onload = function() {\n",
       "        window._bokeh_is_loading--;\n",
       "        if (window._bokeh_is_loading === 0) {\n",
       "          console.log(\"Bokeh: all BokehJS libraries loaded\");\n",
       "          run_callbacks()\n",
       "        }\n",
       "      };\n",
       "      s.onerror = function() {\n",
       "        console.warn(\"failed to load library \" + url);\n",
       "      };\n",
       "      console.log(\"Bokeh: injecting script tag for BokehJS library: \", url);\n",
       "      document.getElementsByTagName(\"head\")[0].appendChild(s);\n",
       "    }\n",
       "  };\n",
       "\n",
       "  var js_urls = ['https://cdn.pydata.org/bokeh/release/bokeh-0.12.1.min.js', 'https://cdn.pydata.org/bokeh/release/bokeh-widgets-0.12.1.min.js', 'https://cdn.pydata.org/bokeh/release/bokeh-compiler-0.12.1.min.js'];\n",
       "\n",
       "  var inline_js = [\n",
       "    function(Bokeh) {\n",
       "      Bokeh.set_log_level(\"info\");\n",
       "    },\n",
       "    \n",
       "    function(Bokeh) {\n",
       "      \n",
       "      Bokeh.$(\"#e33371c6-7ba4-47ad-b808-27554906fc9a\").text(\"BokehJS successfully loaded\");\n",
       "      var kernel = Jupyter.notebook.kernel\n",
       "      if (kernel.execute !== undefined) {\n",
       "          kernel.execute(\"import bokeh.io; bokeh.io._nb_loaded = True\");\n",
       "      }\n",
       "    },\n",
       "    function(Bokeh) {\n",
       "      console.log(\"Bokeh: injecting CSS: https://cdn.pydata.org/bokeh/release/bokeh-0.12.1.min.css\");\n",
       "      Bokeh.embed.inject_css(\"https://cdn.pydata.org/bokeh/release/bokeh-0.12.1.min.css\");\n",
       "      console.log(\"Bokeh: injecting CSS: https://cdn.pydata.org/bokeh/release/bokeh-widgets-0.12.1.min.css\");\n",
       "      Bokeh.embed.inject_css(\"https://cdn.pydata.org/bokeh/release/bokeh-widgets-0.12.1.min.css\");\n",
       "    }\n",
       "  ];\n",
       "\n",
       "  function run_inline_js() {\n",
       "    for (var i = 0; i < inline_js.length; i++) {\n",
       "      inline_js[i](window.Bokeh);\n",
       "    }\n",
       "  }\n",
       "\n",
       "  if (window._bokeh_is_loading === 0) {\n",
       "    console.log(\"Bokeh: BokehJS loaded, going straight to plotting\");\n",
       "    run_inline_js();\n",
       "  } else {\n",
       "    load_libs(js_urls, function() {\n",
       "      console.log(\"Bokeh: BokehJS plotting callback run at\", now());\n",
       "      run_inline_js();\n",
       "    });\n",
       "  }\n",
       "}(this));"
      ]
     },
     "metadata": {},
     "output_type": "display_data"
    }
   ],
   "source": [
    "import pandas as pd\n",
    "\n",
    "from bokeh.plotting import figure, output_notebook, show\n",
    "\n",
    "output_notebook()"
   ]
  },
  {
   "cell_type": "code",
   "execution_count": 4,
   "metadata": {
    "collapsed": true
   },
   "outputs": [],
   "source": [
    "from numpy import cos, linspace"
   ]
  },
  {
   "cell_type": "code",
   "execution_count": 5,
   "metadata": {
    "collapsed": true
   },
   "outputs": [],
   "source": [
    "x = linspace(-6, 6, 100)\n",
    "y = cos(x)"
   ]
  },
  {
   "cell_type": "code",
   "execution_count": 6,
   "metadata": {
    "collapsed": false
   },
   "outputs": [
    {
     "data": {
      "text/plain": [
       "<bokeh.models.renderers.GlyphRenderer at 0x10b9d7f50>"
      ]
     },
     "execution_count": 6,
     "metadata": {},
     "output_type": "execute_result"
    }
   ],
   "source": [
    "p = figure(width=500, height=500)\n",
    "\n",
    "p.circle(x, y, size=7, color=\"firebrick\", alpha=0.5)"
   ]
  },
  {
   "cell_type": "code",
   "execution_count": 7,
   "metadata": {
    "collapsed": false
   },
   "outputs": [
    {
     "data": {
      "text/html": [
       "\n",
       "\n",
       "    <div class=\"bk-root\">\n",
       "        <div class=\"plotdiv\" id=\"2377bdbc-c201-4138-8868-74a08f9152b9\"></div>\n",
       "    </div>\n",
       "<script type=\"text/javascript\">\n",
       "  \n",
       "  (function(global) {\n",
       "    function now() {\n",
       "      return new Date();\n",
       "    }\n",
       "  \n",
       "    var force = \"\";\n",
       "  \n",
       "    if (typeof (window._bokeh_onload_callbacks) === \"undefined\" || force !== \"\") {\n",
       "      window._bokeh_onload_callbacks = [];\n",
       "      window._bokeh_is_loading = undefined;\n",
       "    }\n",
       "  \n",
       "    function run_callbacks() {\n",
       "      window._bokeh_onload_callbacks.forEach(function(callback) { callback() });\n",
       "      delete window._bokeh_onload_callbacks\n",
       "      console.info(\"Bokeh: all callbacks have finished\");\n",
       "    }\n",
       "  \n",
       "    function load_libs(js_urls, callback) {\n",
       "      window._bokeh_onload_callbacks.push(callback);\n",
       "      if (window._bokeh_is_loading > 0) {\n",
       "        console.log(\"Bokeh: BokehJS is being loaded, scheduling callback at\", now());\n",
       "        return null;\n",
       "      }\n",
       "      if (js_urls == null || js_urls.length === 0) {\n",
       "        run_callbacks();\n",
       "        return null;\n",
       "      }\n",
       "      console.log(\"Bokeh: BokehJS not loaded, scheduling load and callback at\", now());\n",
       "      window._bokeh_is_loading = js_urls.length;\n",
       "      for (var i = 0; i < js_urls.length; i++) {\n",
       "        var url = js_urls[i];\n",
       "        var s = document.createElement('script');\n",
       "        s.src = url;\n",
       "        s.async = false;\n",
       "        s.onreadystatechange = s.onload = function() {\n",
       "          window._bokeh_is_loading--;\n",
       "          if (window._bokeh_is_loading === 0) {\n",
       "            console.log(\"Bokeh: all BokehJS libraries loaded\");\n",
       "            run_callbacks()\n",
       "          }\n",
       "        };\n",
       "        s.onerror = function() {\n",
       "          console.warn(\"failed to load library \" + url);\n",
       "        };\n",
       "        console.log(\"Bokeh: injecting script tag for BokehJS library: \", url);\n",
       "        document.getElementsByTagName(\"head\")[0].appendChild(s);\n",
       "      }\n",
       "    };var element = document.getElementById(\"2377bdbc-c201-4138-8868-74a08f9152b9\");\n",
       "    if (element == null) {\n",
       "      console.log(\"Bokeh: ERROR: autoload.js configured with elementid '2377bdbc-c201-4138-8868-74a08f9152b9' but no matching script tag was found. \")\n",
       "      return false;\n",
       "    }\n",
       "  \n",
       "    var js_urls = [];\n",
       "  \n",
       "    var inline_js = [\n",
       "      function(Bokeh) {\n",
       "        Bokeh.$(function() {\n",
       "            var docs_json = {\"40ef4e9d-2786-47e0-a97f-06c723307f42\":{\"roots\":{\"references\":[{\"attributes\":{\"formatter\":{\"id\":\"17ffffa4-140a-4d0b-96b5-ced8a8ab1dde\",\"type\":\"BasicTickFormatter\"},\"plot\":{\"id\":\"b2d0e724-b0ce-4b14-9d61-10198aba3462\",\"subtype\":\"Figure\",\"type\":\"Plot\"},\"ticker\":{\"id\":\"378666a1-6933-4d16-8cce-8548ccf184ac\",\"type\":\"BasicTicker\"}},\"id\":\"2dc1967d-6b2d-4f42-b834-9a817ca2fc38\",\"type\":\"LinearAxis\"},{\"attributes\":{\"plot\":null,\"text\":null},\"id\":\"cb933d08-fbea-4e63-a9e6-463fd0978869\",\"type\":\"Title\"},{\"attributes\":{},\"id\":\"378666a1-6933-4d16-8cce-8548ccf184ac\",\"type\":\"BasicTicker\"},{\"attributes\":{\"plot\":{\"id\":\"b2d0e724-b0ce-4b14-9d61-10198aba3462\",\"subtype\":\"Figure\",\"type\":\"Plot\"},\"ticker\":{\"id\":\"bc7f5962-6b79-4939-8bba-f688016155a2\",\"type\":\"BasicTicker\"}},\"id\":\"4fd3740b-a9c5-4bb2-b5c3-403fed28b518\",\"type\":\"Grid\"},{\"attributes\":{\"plot\":{\"id\":\"b2d0e724-b0ce-4b14-9d61-10198aba3462\",\"subtype\":\"Figure\",\"type\":\"Plot\"}},\"id\":\"8046bada-ffc7-44e4-9652-cc9e0c8e5e76\",\"type\":\"SaveTool\"},{\"attributes\":{\"below\":[{\"id\":\"2cd01ca9-b80a-4067-ae57-851683d1cf49\",\"type\":\"LinearAxis\"}],\"left\":[{\"id\":\"2dc1967d-6b2d-4f42-b834-9a817ca2fc38\",\"type\":\"LinearAxis\"}],\"plot_height\":500,\"plot_width\":500,\"renderers\":[{\"id\":\"2cd01ca9-b80a-4067-ae57-851683d1cf49\",\"type\":\"LinearAxis\"},{\"id\":\"4fd3740b-a9c5-4bb2-b5c3-403fed28b518\",\"type\":\"Grid\"},{\"id\":\"2dc1967d-6b2d-4f42-b834-9a817ca2fc38\",\"type\":\"LinearAxis\"},{\"id\":\"59ce5d90-c964-4fb1-a0e9-86e3bba7fd40\",\"type\":\"Grid\"},{\"id\":\"99580434-829f-463b-8ed3-5f850ca81962\",\"type\":\"BoxAnnotation\"},{\"id\":\"e798d5bb-6fda-441e-a095-84303daac0c2\",\"type\":\"GlyphRenderer\"}],\"title\":{\"id\":\"cb933d08-fbea-4e63-a9e6-463fd0978869\",\"type\":\"Title\"},\"tool_events\":{\"id\":\"0ce79e50-9bcc-4dab-abfd-05a60ad22f26\",\"type\":\"ToolEvents\"},\"toolbar\":{\"id\":\"794f9fac-7984-4c29-b1f2-de66368726c0\",\"type\":\"Toolbar\"},\"x_range\":{\"id\":\"22f1077c-2749-451d-a56d-6c37bb3bbdf0\",\"type\":\"DataRange1d\"},\"y_range\":{\"id\":\"1444f93a-b76f-4060-bcb3-4445d184d307\",\"type\":\"DataRange1d\"}},\"id\":\"b2d0e724-b0ce-4b14-9d61-10198aba3462\",\"subtype\":\"Figure\",\"type\":\"Plot\"},{\"attributes\":{\"callback\":null},\"id\":\"22f1077c-2749-451d-a56d-6c37bb3bbdf0\",\"type\":\"DataRange1d\"},{\"attributes\":{\"bottom_units\":\"screen\",\"fill_alpha\":{\"value\":0.5},\"fill_color\":{\"value\":\"lightgrey\"},\"left_units\":\"screen\",\"level\":\"overlay\",\"line_alpha\":{\"value\":1.0},\"line_color\":{\"value\":\"black\"},\"line_dash\":[4,4],\"line_width\":{\"value\":2},\"plot\":null,\"render_mode\":\"css\",\"right_units\":\"screen\",\"top_units\":\"screen\"},\"id\":\"99580434-829f-463b-8ed3-5f850ca81962\",\"type\":\"BoxAnnotation\"},{\"attributes\":{\"plot\":{\"id\":\"b2d0e724-b0ce-4b14-9d61-10198aba3462\",\"subtype\":\"Figure\",\"type\":\"Plot\"}},\"id\":\"0262eb7d-a323-4e27-8a6c-936ca1010e21\",\"type\":\"ResetTool\"},{\"attributes\":{\"formatter\":{\"id\":\"a29486c5-8a95-4cef-8ed3-d97dd530b488\",\"type\":\"BasicTickFormatter\"},\"plot\":{\"id\":\"b2d0e724-b0ce-4b14-9d61-10198aba3462\",\"subtype\":\"Figure\",\"type\":\"Plot\"},\"ticker\":{\"id\":\"bc7f5962-6b79-4939-8bba-f688016155a2\",\"type\":\"BasicTicker\"}},\"id\":\"2cd01ca9-b80a-4067-ae57-851683d1cf49\",\"type\":\"LinearAxis\"},{\"attributes\":{\"overlay\":{\"id\":\"99580434-829f-463b-8ed3-5f850ca81962\",\"type\":\"BoxAnnotation\"},\"plot\":{\"id\":\"b2d0e724-b0ce-4b14-9d61-10198aba3462\",\"subtype\":\"Figure\",\"type\":\"Plot\"}},\"id\":\"8e70cc56-09bd-45eb-9263-e0358ea3ae58\",\"type\":\"BoxZoomTool\"},{\"attributes\":{},\"id\":\"17ffffa4-140a-4d0b-96b5-ced8a8ab1dde\",\"type\":\"BasicTickFormatter\"},{\"attributes\":{\"callback\":null},\"id\":\"1444f93a-b76f-4060-bcb3-4445d184d307\",\"type\":\"DataRange1d\"},{\"attributes\":{\"plot\":{\"id\":\"b2d0e724-b0ce-4b14-9d61-10198aba3462\",\"subtype\":\"Figure\",\"type\":\"Plot\"}},\"id\":\"9e3ba4d2-8916-4cc4-a481-7b22f19911f7\",\"type\":\"HelpTool\"},{\"attributes\":{},\"id\":\"a29486c5-8a95-4cef-8ed3-d97dd530b488\",\"type\":\"BasicTickFormatter\"},{\"attributes\":{},\"id\":\"0ce79e50-9bcc-4dab-abfd-05a60ad22f26\",\"type\":\"ToolEvents\"},{\"attributes\":{\"plot\":{\"id\":\"b2d0e724-b0ce-4b14-9d61-10198aba3462\",\"subtype\":\"Figure\",\"type\":\"Plot\"}},\"id\":\"c92f23a2-9d11-4879-ae2b-3939ad83cead\",\"type\":\"PanTool\"},{\"attributes\":{\"callback\":null,\"column_names\":[\"x\",\"y\"],\"data\":{\"x\":[-6.0,-5.878787878787879,-5.757575757575758,-5.636363636363637,-5.515151515151516,-5.393939393939394,-5.2727272727272725,-5.151515151515151,-5.03030303030303,-4.909090909090909,-4.787878787878788,-4.666666666666666,-4.545454545454545,-4.424242424242424,-4.303030303030303,-4.181818181818182,-4.0606060606060606,-3.9393939393939394,-3.8181818181818183,-3.696969696969697,-3.5757575757575757,-3.4545454545454546,-3.333333333333333,-3.212121212121212,-3.090909090909091,-2.9696969696969697,-2.8484848484848486,-2.727272727272727,-2.606060606060606,-2.484848484848485,-2.3636363636363633,-2.242424242424242,-2.121212121212121,-2.0,-1.878787878787879,-1.7575757575757578,-1.6363636363636367,-1.5151515151515147,-1.3939393939393936,-1.2727272727272725,-1.1515151515151514,-1.0303030303030303,-0.9090909090909092,-0.7878787878787881,-0.6666666666666661,-0.545454545454545,-0.42424242424242387,-0.30303030303030276,-0.18181818181818166,-0.06060606060606055,0.06060606060606055,0.18181818181818166,0.30303030303030276,0.42424242424242475,0.5454545454545459,0.666666666666667,0.7878787878787881,0.9090909090909092,1.0303030303030303,1.1515151515151514,1.2727272727272734,1.3939393939393945,1.5151515151515156,1.6363636363636367,1.7575757575757578,1.878787878787879,2.0,2.121212121212121,2.242424242424242,2.3636363636363633,2.4848484848484844,2.6060606060606055,2.7272727272727266,2.8484848484848495,2.9696969696969706,3.0909090909090917,3.212121212121213,3.333333333333334,3.454545454545455,3.575757575757576,3.6969696969696972,3.8181818181818183,3.9393939393939394,4.0606060606060606,4.181818181818182,4.303030303030303,4.424242424242424,4.545454545454545,4.666666666666668,4.787878787878789,4.90909090909091,5.030303030303031,5.151515151515152,5.272727272727273,5.3939393939393945,5.515151515151516,5.636363636363637,5.757575757575758,5.878787878787879,6.0],\"y\":[0.9601702866503661,0.9193396548099325,0.865018266697566,0.7980032559988883,0.7192780276732818,0.6299978270778192,0.5314727874367584,0.42514870442477243,0.31258581998535473,0.19543592671908872,0.07541812882111003,-0.04570638473858134,-0.16616018460355267,-0.2841756837372786,-0.3980210756993497,-0.5060257478629665,-0.6066047966500377,-0.69828228503756,-0.7797129010453654,-0.8497016993799633,-0.9072216365377284,-0.9514286420503495,-0.9816740047110791,-0.9975138920213652,-0.9987158631657161,-0.9852622799408088,-0.9573505655855105,-0.9153903077136358,-0.8599972478621625,-0.7919842458546638,-0.7123493515724919,-0.6222611591732921,-0.5230416586748751,-0.4161468365471424,-0.3031453099867001,-0.18569530840332882,-0.06552033990114373,0.05561610016580718,0.17593640742677327,0.2936749537688711,0.40710399686726717,0.5145590337642213,0.6144632264484674,0.7053505410042532,0.7858872607769484,0.854891557862458,0.9113508357206178,0.9544365884201449,0.9835165584646712,0.9981640147910761,0.9981640147910761,0.9835165584646712,0.9544365884201449,0.9113508357206175,0.8548915578624574,0.7858872607769478,0.7053505410042532,0.6144632264484674,0.5145590337642213,0.40710399686726717,0.29367495376887026,0.17593640742677238,0.055616100165806294,-0.06552033990114373,-0.18569530840332882,-0.3031453099867001,-0.4161468365471424,-0.5230416586748751,-0.6222611591732921,-0.7123493515724919,-0.7919842458546635,-0.8599972478621623,-0.9153903077136356,-0.9573505655855108,-0.9852622799408091,-0.9987158631657161,-0.9975138920213652,-0.9816740047110789,-0.9514286420503493,-0.9072216365377281,-0.8497016993799632,-0.7797129010453654,-0.69828228503756,-0.6066047966500377,-0.5060257478629665,-0.3980210756993497,-0.2841756837372786,-0.16616018460355267,-0.04570638473857956,0.07541812882111092,0.19543592671908958,0.31258581998535556,0.4251487044247732,0.5314727874367592,0.6299978270778199,0.7192780276732818,0.7980032559988883,0.865018266697566,0.9193396548099325,0.9601702866503661]}},\"id\":\"03ecf903-0426-4288-9d29-f32dc5bba2b6\",\"type\":\"ColumnDataSource\"},{\"attributes\":{\"fill_alpha\":{\"value\":0.5},\"fill_color\":{\"value\":\"firebrick\"},\"line_alpha\":{\"value\":0.5},\"line_color\":{\"value\":\"firebrick\"},\"size\":{\"units\":\"screen\",\"value\":7},\"x\":{\"field\":\"x\"},\"y\":{\"field\":\"y\"}},\"id\":\"245cbfcc-4298-4804-a867-b2babaf9b4f3\",\"type\":\"Circle\"},{\"attributes\":{\"plot\":{\"id\":\"b2d0e724-b0ce-4b14-9d61-10198aba3462\",\"subtype\":\"Figure\",\"type\":\"Plot\"}},\"id\":\"b91c8e5f-9be4-4898-84bf-1a058c284533\",\"type\":\"WheelZoomTool\"},{\"attributes\":{},\"id\":\"bc7f5962-6b79-4939-8bba-f688016155a2\",\"type\":\"BasicTicker\"},{\"attributes\":{\"dimension\":1,\"plot\":{\"id\":\"b2d0e724-b0ce-4b14-9d61-10198aba3462\",\"subtype\":\"Figure\",\"type\":\"Plot\"},\"ticker\":{\"id\":\"378666a1-6933-4d16-8cce-8548ccf184ac\",\"type\":\"BasicTicker\"}},\"id\":\"59ce5d90-c964-4fb1-a0e9-86e3bba7fd40\",\"type\":\"Grid\"},{\"attributes\":{\"data_source\":{\"id\":\"03ecf903-0426-4288-9d29-f32dc5bba2b6\",\"type\":\"ColumnDataSource\"},\"glyph\":{\"id\":\"245cbfcc-4298-4804-a867-b2babaf9b4f3\",\"type\":\"Circle\"},\"hover_glyph\":null,\"nonselection_glyph\":{\"id\":\"591125f0-4f24-4dab-9a8b-3ded67e33ed3\",\"type\":\"Circle\"},\"selection_glyph\":null},\"id\":\"e798d5bb-6fda-441e-a095-84303daac0c2\",\"type\":\"GlyphRenderer\"},{\"attributes\":{\"active_drag\":\"auto\",\"active_scroll\":\"auto\",\"active_tap\":\"auto\",\"tools\":[{\"id\":\"c92f23a2-9d11-4879-ae2b-3939ad83cead\",\"type\":\"PanTool\"},{\"id\":\"b91c8e5f-9be4-4898-84bf-1a058c284533\",\"type\":\"WheelZoomTool\"},{\"id\":\"8e70cc56-09bd-45eb-9263-e0358ea3ae58\",\"type\":\"BoxZoomTool\"},{\"id\":\"8046bada-ffc7-44e4-9652-cc9e0c8e5e76\",\"type\":\"SaveTool\"},{\"id\":\"0262eb7d-a323-4e27-8a6c-936ca1010e21\",\"type\":\"ResetTool\"},{\"id\":\"9e3ba4d2-8916-4cc4-a481-7b22f19911f7\",\"type\":\"HelpTool\"}]},\"id\":\"794f9fac-7984-4c29-b1f2-de66368726c0\",\"type\":\"Toolbar\"},{\"attributes\":{\"fill_alpha\":{\"value\":0.1},\"fill_color\":{\"value\":\"#1f77b4\"},\"line_alpha\":{\"value\":0.1},\"line_color\":{\"value\":\"#1f77b4\"},\"size\":{\"units\":\"screen\",\"value\":7},\"x\":{\"field\":\"x\"},\"y\":{\"field\":\"y\"}},\"id\":\"591125f0-4f24-4dab-9a8b-3ded67e33ed3\",\"type\":\"Circle\"}],\"root_ids\":[\"b2d0e724-b0ce-4b14-9d61-10198aba3462\"]},\"title\":\"Bokeh Application\",\"version\":\"0.12.1\"}};\n",
       "            var render_items = [{\"docid\":\"40ef4e9d-2786-47e0-a97f-06c723307f42\",\"elementid\":\"2377bdbc-c201-4138-8868-74a08f9152b9\",\"modelid\":\"b2d0e724-b0ce-4b14-9d61-10198aba3462\",\"notebook_comms_target\":\"62f4bf6d-2ca8-4c38-b248-66faa855e2f9\"}];\n",
       "            \n",
       "            Bokeh.embed.embed_items(docs_json, render_items);\n",
       "        });\n",
       "      },\n",
       "      function(Bokeh) {\n",
       "      }\n",
       "    ];\n",
       "  \n",
       "    function run_inline_js() {\n",
       "      for (var i = 0; i < inline_js.length; i++) {\n",
       "        inline_js[i](window.Bokeh);\n",
       "      }\n",
       "    }\n",
       "  \n",
       "    if (window._bokeh_is_loading === 0) {\n",
       "      console.log(\"Bokeh: BokehJS loaded, going straight to plotting\");\n",
       "      run_inline_js();\n",
       "    } else {\n",
       "      load_libs(js_urls, function() {\n",
       "        console.log(\"Bokeh: BokehJS plotting callback run at\", now());\n",
       "        run_inline_js();\n",
       "      });\n",
       "    }\n",
       "  }(this));\n",
       "</script>"
      ]
     },
     "metadata": {},
     "output_type": "display_data"
    },
    {
     "data": {
      "text/html": [
       "<p><code>&lt;Bokeh Notebook handle for <strong>In[7]</strong>&gt;</code></p>"
      ],
      "text/plain": [
       "<bokeh.io._CommsHandle at 0x10bb14290>"
      ]
     },
     "execution_count": 7,
     "metadata": {},
     "output_type": "execute_result"
    }
   ],
   "source": [
    "show(p)"
   ]
  },
  {
   "cell_type": "code",
   "execution_count": null,
   "metadata": {
    "collapsed": true
   },
   "outputs": [],
   "source": []
  }
 ],
 "metadata": {
  "kernelspec": {
   "display_name": "Python 2",
   "language": "python",
   "name": "python2"
  },
  "language_info": {
   "codemirror_mode": {
    "name": "ipython",
    "version": 2
   },
   "file_extension": ".py",
   "mimetype": "text/x-python",
   "name": "python",
   "nbconvert_exporter": "python",
   "pygments_lexer": "ipython2",
   "version": "2.7.12"
  }
 },
 "nbformat": 4,
 "nbformat_minor": 1
}
