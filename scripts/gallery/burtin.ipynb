{
 "cells": [
  {
   "cell_type": "code",
   "execution_count": 1,
   "metadata": {
    "collapsed": false
   },
   "outputs": [],
   "source": [
    "from math import log, sqrt"
   ]
  },
  {
   "cell_type": "code",
   "execution_count": 2,
   "metadata": {
    "collapsed": false
   },
   "outputs": [],
   "source": [
    "import numpy as np\n",
    "import pandas as pd\n",
    "from six.moves import cStringIO as StringIO"
   ]
  },
  {
   "cell_type": "code",
   "execution_count": 20,
   "metadata": {
    "collapsed": false
   },
   "outputs": [],
   "source": [
    "from bokeh.plotting import figure, output_notebook, show\n",
    "from IPython.display import display\n",
    "pd.set_option('display.max_rows', 10)\n",
    "pd.set_option('display.max_columns', 10)"
   ]
  },
  {
   "cell_type": "code",
   "execution_count": 24,
   "metadata": {
    "collapsed": false
   },
   "outputs": [
    {
     "data": {
      "text/plain": [
       "'\\nbacteria,                        penicillin, streptomycin, neomycin, gram\\nMycobacterium tuberculosis,      800,        5,            2,        negative\\nSalmonella schottmuelleri,       10,         0.8,          0.09,     negative\\nProteus vulgaris,                3,          0.1,          0.1,      negative\\nKlebsiella pneumoniae,           850,        1.2,          1,        negative\\nBrucella abortus,                1,          2,            0.02,     negative\\nPseudomonas aeruginosa,          850,        2,            0.4,      negative\\nEscherichia coli,                100,        0.4,          0.1,      negative\\nSalmonella (Eberthella) typhosa, 1,          0.4,          0.008,    negative\\nAerobacter aerogenes,            870,        1,            1.6,      negative\\nBrucella antracis,               0.001,      0.01,         0.007,    positive\\nStreptococcus fecalis,           1,          1,            0.1,      positive\\nStaphylococcus aureus,           0.03,       0.03,         0.001,    positive\\nStaphylococcus albus,            0.007,      0.1,          0.001,    positive\\nStreptococcus hemolyticus,       0.001,      14,           10,       positive\\nStreptococcus viridans,          0.005,      10,           40,       positive\\nDiplococcus pneumoniae,          0.005,      11,           10,       positive\\n'"
      ]
     },
     "metadata": {},
     "output_type": "display_data"
    },
    {
     "data": {
      "text/plain": [
       "<cStringIO.StringI at 0x10b95acf0>"
      ]
     },
     "metadata": {},
     "output_type": "display_data"
    }
   ],
   "source": [
    "antibiotics = \"\"\"\n",
    "bacteria,                        penicillin, streptomycin, neomycin, gram\n",
    "Mycobacterium tuberculosis,      800,        5,            2,        negative\n",
    "Salmonella schottmuelleri,       10,         0.8,          0.09,     negative\n",
    "Proteus vulgaris,                3,          0.1,          0.1,      negative\n",
    "Klebsiella pneumoniae,           850,        1.2,          1,        negative\n",
    "Brucella abortus,                1,          2,            0.02,     negative\n",
    "Pseudomonas aeruginosa,          850,        2,            0.4,      negative\n",
    "Escherichia coli,                100,        0.4,          0.1,      negative\n",
    "Salmonella (Eberthella) typhosa, 1,          0.4,          0.008,    negative\n",
    "Aerobacter aerogenes,            870,        1,            1.6,      negative\n",
    "Brucella antracis,               0.001,      0.01,         0.007,    positive\n",
    "Streptococcus fecalis,           1,          1,            0.1,      positive\n",
    "Staphylococcus aureus,           0.03,       0.03,         0.001,    positive\n",
    "Staphylococcus albus,            0.007,      0.1,          0.001,    positive\n",
    "Streptococcus hemolyticus,       0.001,      14,           10,       positive\n",
    "Streptococcus viridans,          0.005,      10,           40,       positive\n",
    "Diplococcus pneumoniae,          0.005,      11,           10,       positive\n",
    "\"\"\"\n",
    "display(antibiotics)\n",
    "StringIO(antibiotics)"
   ]
  },
  {
   "cell_type": "code",
   "execution_count": 22,
   "metadata": {
    "collapsed": false
   },
   "outputs": [
    {
     "data": {
      "text/plain": [
       "{'Neomycin': 'black', 'Penicillin': '#0d3362', 'Streptomycin': '#c64737'}"
      ]
     },
     "execution_count": 22,
     "metadata": {},
     "output_type": "execute_result"
    }
   ],
   "source": [
    "drug_color = {\n",
    "    \"Penicillin\"   : \"#0d3362\",\n",
    "    \"Streptomycin\" : \"#c64737\",\n",
    "    \"Neomycin\"     : \"black\",\n",
    "}\n",
    "drug_color"
   ]
  },
  {
   "cell_type": "code",
   "execution_count": 6,
   "metadata": {
    "collapsed": false
   },
   "outputs": [],
   "source": [
    "gram_color = {\n",
    "    \"positive\" : \"#aeaeb8\",\n",
    "    \"negative\" : \"#e69584\",\n",
    "}"
   ]
  },
  {
   "cell_type": "code",
   "execution_count": 27,
   "metadata": {
    "collapsed": false
   },
   "outputs": [
    {
     "data": {
      "text/plain": [
       "<bound method DataFrame.info of                       bacteria  penicillin  streptomycin  neomycin      gram\n",
       "0   Mycobacterium tuberculosis     800.000          5.00     2.000  negative\n",
       "1    Salmonella schottmuelleri      10.000          0.80     0.090  negative\n",
       "2             Proteus vulgaris       3.000          0.10     0.100  negative\n",
       "3        Klebsiella pneumoniae     850.000          1.20     1.000  negative\n",
       "4             Brucella abortus       1.000          2.00     0.020  negative\n",
       "..                         ...         ...           ...       ...       ...\n",
       "11       Staphylococcus aureus       0.030          0.03     0.001  positive\n",
       "12        Staphylococcus albus       0.007          0.10     0.001  positive\n",
       "13   Streptococcus hemolyticus       0.001         14.00    10.000  positive\n",
       "14      Streptococcus viridans       0.005         10.00    40.000  positive\n",
       "15      Diplococcus pneumoniae       0.005         11.00    10.000  positive\n",
       "\n",
       "[16 rows x 5 columns]>"
      ]
     },
     "execution_count": 27,
     "metadata": {},
     "output_type": "execute_result"
    }
   ],
   "source": [
    "df = pd.read_csv(StringIO(antibiotics), skiprows=1, skipinitialspace=True, engine='python')\n",
    "df.info"
   ]
  },
  {
   "cell_type": "code",
   "execution_count": 26,
   "metadata": {
    "collapsed": false
   },
   "outputs": [
    {
     "data": {
      "text/html": [
       "<div>\n",
       "<table border=\"1\" class=\"dataframe\">\n",
       "  <thead>\n",
       "    <tr style=\"text-align: right;\">\n",
       "      <th></th>\n",
       "      <th>bacteria</th>\n",
       "      <th>penicillin</th>\n",
       "      <th>streptomycin</th>\n",
       "      <th>neomycin</th>\n",
       "      <th>gram</th>\n",
       "    </tr>\n",
       "  </thead>\n",
       "  <tbody>\n",
       "    <tr>\n",
       "      <th>0</th>\n",
       "      <td>Mycobacterium tuberculosis</td>\n",
       "      <td>800.0</td>\n",
       "      <td>5.0</td>\n",
       "      <td>2.00</td>\n",
       "      <td>negative</td>\n",
       "    </tr>\n",
       "    <tr>\n",
       "      <th>1</th>\n",
       "      <td>Salmonella schottmuelleri</td>\n",
       "      <td>10.0</td>\n",
       "      <td>0.8</td>\n",
       "      <td>0.09</td>\n",
       "      <td>negative</td>\n",
       "    </tr>\n",
       "    <tr>\n",
       "      <th>2</th>\n",
       "      <td>Proteus vulgaris</td>\n",
       "      <td>3.0</td>\n",
       "      <td>0.1</td>\n",
       "      <td>0.10</td>\n",
       "      <td>negative</td>\n",
       "    </tr>\n",
       "    <tr>\n",
       "      <th>3</th>\n",
       "      <td>Klebsiella pneumoniae</td>\n",
       "      <td>850.0</td>\n",
       "      <td>1.2</td>\n",
       "      <td>1.00</td>\n",
       "      <td>negative</td>\n",
       "    </tr>\n",
       "    <tr>\n",
       "      <th>4</th>\n",
       "      <td>Brucella abortus</td>\n",
       "      <td>1.0</td>\n",
       "      <td>2.0</td>\n",
       "      <td>0.02</td>\n",
       "      <td>negative</td>\n",
       "    </tr>\n",
       "  </tbody>\n",
       "</table>\n",
       "</div>"
      ],
      "text/plain": [
       "                     bacteria  penicillin  streptomycin  neomycin      gram\n",
       "0  Mycobacterium tuberculosis       800.0           5.0      2.00  negative\n",
       "1   Salmonella schottmuelleri        10.0           0.8      0.09  negative\n",
       "2            Proteus vulgaris         3.0           0.1      0.10  negative\n",
       "3       Klebsiella pneumoniae       850.0           1.2      1.00  negative\n",
       "4            Brucella abortus         1.0           2.0      0.02  negative"
      ]
     },
     "execution_count": 26,
     "metadata": {},
     "output_type": "execute_result"
    }
   ],
   "source": [
    "df.head()"
   ]
  },
  {
   "cell_type": "code",
   "execution_count": 28,
   "metadata": {
    "collapsed": true
   },
   "outputs": [],
   "source": [
    "width = 800\n",
    "height = 800\n",
    "inner_radius = 90\n",
    "outer_radius = 300 - 10"
   ]
  },
  {
   "cell_type": "code",
   "execution_count": 29,
   "metadata": {
    "collapsed": true
   },
   "outputs": [],
   "source": [
    "minr = sqrt(log(.001 * 1E4))\n",
    "maxr = sqrt(log(1000 * 1E4))\n",
    "a = (outer_radius - inner_radius) / (minr - maxr)\n",
    "b = inner_radius - a * maxr"
   ]
  },
  {
   "cell_type": "code",
   "execution_count": 30,
   "metadata": {
    "collapsed": false
   },
   "outputs": [],
   "source": [
    "big_angle = 2.0 * np.pi / (len(df) + 1)\n",
    "small_angle = big_angle / 7"
   ]
  },
  {
   "cell_type": "code",
   "execution_count": 31,
   "metadata": {
    "collapsed": false
   },
   "outputs": [],
   "source": [
    "def rad(mic):\n",
    "    return a * np.sqrt(np.log(mic * 1E4)) + b"
   ]
  },
  {
   "cell_type": "code",
   "execution_count": 32,
   "metadata": {
    "collapsed": false
   },
   "outputs": [
    {
     "data": {
      "text/html": [
       "\n",
       "    <div class=\"bk-root\">\n",
       "        <a href=\"http://bokeh.pydata.org\" target=\"_blank\" class=\"bk-logo bk-logo-small bk-logo-notebook\"></a>\n",
       "        <span id=\"2dda021d-bf9e-4633-a80c-059ffbb36261\">Loading BokehJS ...</span>\n",
       "    </div>"
      ]
     },
     "metadata": {},
     "output_type": "display_data"
    },
    {
     "data": {
      "application/javascript": [
       "\n",
       "(function(global) {\n",
       "  function now() {\n",
       "    return new Date();\n",
       "  }\n",
       "\n",
       "  var force = \"1\";\n",
       "\n",
       "  if (typeof (window._bokeh_onload_callbacks) === \"undefined\" || force !== \"\") {\n",
       "    window._bokeh_onload_callbacks = [];\n",
       "    window._bokeh_is_loading = undefined;\n",
       "  }\n",
       "\n",
       "  function run_callbacks() {\n",
       "    window._bokeh_onload_callbacks.forEach(function(callback) { callback() });\n",
       "    delete window._bokeh_onload_callbacks\n",
       "    console.info(\"Bokeh: all callbacks have finished\");\n",
       "  }\n",
       "\n",
       "  function load_libs(js_urls, callback) {\n",
       "    window._bokeh_onload_callbacks.push(callback);\n",
       "    if (window._bokeh_is_loading > 0) {\n",
       "      console.log(\"Bokeh: BokehJS is being loaded, scheduling callback at\", now());\n",
       "      return null;\n",
       "    }\n",
       "    if (js_urls == null || js_urls.length === 0) {\n",
       "      run_callbacks();\n",
       "      return null;\n",
       "    }\n",
       "    console.log(\"Bokeh: BokehJS not loaded, scheduling load and callback at\", now());\n",
       "    window._bokeh_is_loading = js_urls.length;\n",
       "    for (var i = 0; i < js_urls.length; i++) {\n",
       "      var url = js_urls[i];\n",
       "      var s = document.createElement('script');\n",
       "      s.src = url;\n",
       "      s.async = false;\n",
       "      s.onreadystatechange = s.onload = function() {\n",
       "        window._bokeh_is_loading--;\n",
       "        if (window._bokeh_is_loading === 0) {\n",
       "          console.log(\"Bokeh: all BokehJS libraries loaded\");\n",
       "          run_callbacks()\n",
       "        }\n",
       "      };\n",
       "      s.onerror = function() {\n",
       "        console.warn(\"failed to load library \" + url);\n",
       "      };\n",
       "      console.log(\"Bokeh: injecting script tag for BokehJS library: \", url);\n",
       "      document.getElementsByTagName(\"head\")[0].appendChild(s);\n",
       "    }\n",
       "  };\n",
       "\n",
       "  var js_urls = ['https://cdn.pydata.org/bokeh/release/bokeh-0.12.1.min.js', 'https://cdn.pydata.org/bokeh/release/bokeh-widgets-0.12.1.min.js', 'https://cdn.pydata.org/bokeh/release/bokeh-compiler-0.12.1.min.js'];\n",
       "\n",
       "  var inline_js = [\n",
       "    function(Bokeh) {\n",
       "      Bokeh.set_log_level(\"info\");\n",
       "    },\n",
       "    \n",
       "    function(Bokeh) {\n",
       "      \n",
       "      Bokeh.$(\"#2dda021d-bf9e-4633-a80c-059ffbb36261\").text(\"BokehJS successfully loaded\");\n",
       "      var kernel = Jupyter.notebook.kernel\n",
       "      if (kernel.execute !== undefined) {\n",
       "          kernel.execute(\"import bokeh.io; bokeh.io._nb_loaded = True\");\n",
       "      }\n",
       "    },\n",
       "    function(Bokeh) {\n",
       "      console.log(\"Bokeh: injecting CSS: https://cdn.pydata.org/bokeh/release/bokeh-0.12.1.min.css\");\n",
       "      Bokeh.embed.inject_css(\"https://cdn.pydata.org/bokeh/release/bokeh-0.12.1.min.css\");\n",
       "      console.log(\"Bokeh: injecting CSS: https://cdn.pydata.org/bokeh/release/bokeh-widgets-0.12.1.min.css\");\n",
       "      Bokeh.embed.inject_css(\"https://cdn.pydata.org/bokeh/release/bokeh-widgets-0.12.1.min.css\");\n",
       "    }\n",
       "  ];\n",
       "\n",
       "  function run_inline_js() {\n",
       "    for (var i = 0; i < inline_js.length; i++) {\n",
       "      inline_js[i](window.Bokeh);\n",
       "    }\n",
       "  }\n",
       "\n",
       "  if (window._bokeh_is_loading === 0) {\n",
       "    console.log(\"Bokeh: BokehJS loaded, going straight to plotting\");\n",
       "    run_inline_js();\n",
       "  } else {\n",
       "    load_libs(js_urls, function() {\n",
       "      console.log(\"Bokeh: BokehJS plotting callback run at\", now());\n",
       "      run_inline_js();\n",
       "    });\n",
       "  }\n",
       "}(this));"
      ]
     },
     "metadata": {},
     "output_type": "display_data"
    }
   ],
   "source": [
    "output_notebook()"
   ]
  },
  {
   "cell_type": "code",
   "execution_count": 33,
   "metadata": {
    "collapsed": false
   },
   "outputs": [],
   "source": [
    "p = figure(plot_width=width, plot_height=height, toolbar_sticky=False,\n",
    "           x_axis_type=None, y_axis_type=None,\n",
    "           x_range=(-420, 420), y_range=(-420, 420),\n",
    "           min_border=0, outline_line_color=\"black\",\n",
    "           background_fill_color=\"#f0e1d2\", border_fill_color=\"#f0e1d2\")"
   ]
  },
  {
   "cell_type": "code",
   "execution_count": 12,
   "metadata": {
    "collapsed": false
   },
   "outputs": [
    {
     "data": {
      "text/plain": [
       "<bokeh.models.renderers.GlyphRenderer at 0x10b9c5850>"
      ]
     },
     "execution_count": 12,
     "metadata": {},
     "output_type": "execute_result"
    }
   ],
   "source": [
    "# annular wedges\n",
    "angles = np.pi/2 - big_angle/2 - df.index.to_series()*big_angle\n",
    "colors = [gram_color[gram] for gram in df.gram]\n",
    "p.annular_wedge(0, 0, inner_radius, outer_radius, -big_angle+angles, angles, color=colors)"
   ]
  },
  {
   "cell_type": "code",
   "execution_count": 13,
   "metadata": {
    "collapsed": false
   },
   "outputs": [
    {
     "data": {
      "text/plain": [
       "<bokeh.models.renderers.GlyphRenderer at 0x10b9ab0d0>"
      ]
     },
     "execution_count": 13,
     "metadata": {},
     "output_type": "execute_result"
    }
   ],
   "source": [
    "# small wedges\n",
    "p.annular_wedge(0, 0, inner_radius, rad(df.penicillin), -big_angle+angles + 5*small_angle, \n",
    "                -big_angle+angles+6*small_angle, color=drug_color['Penicillin'])\n",
    "p.annular_wedge(0, 0, inner_radius, rad(df.streptomycin), -big_angle+angles + 3*small_angle, \n",
    "                -big_angle+angles+4*small_angle, color=drug_color['Streptomycin'])\n",
    "p.annular_wedge(0, 0, inner_radius, rad(df.neomycin), -big_angle+angles + 1*small_angle, \n",
    "                -big_angle+angles+2*small_angle, color=drug_color['Neomycin'])"
   ]
  },
  {
   "cell_type": "code",
   "execution_count": 14,
   "metadata": {
    "collapsed": false
   },
   "outputs": [
    {
     "data": {
      "text/plain": [
       "<bokeh.models.renderers.GlyphRenderer at 0x10b9e6410>"
      ]
     },
     "execution_count": 14,
     "metadata": {},
     "output_type": "execute_result"
    }
   ],
   "source": [
    "# circular axes and lables\n",
    "labels = np.power(10.0, np.arange(-3, 4))\n",
    "radii = a * np.sqrt(np.log(labels * 1E4)) + b\n",
    "p.circle(0, 0, radius=radii, fill_color=None, line_color=\"white\")\n",
    "p.text(0, radii[:-1], [str(r) for r in labels[:-1]], \n",
    "       text_font_size=\"8pt\", text_align=\"center\", text_baseline=\"middle\")"
   ]
  },
  {
   "cell_type": "code",
   "execution_count": 15,
   "metadata": {
    "collapsed": false
   },
   "outputs": [
    {
     "data": {
      "text/plain": [
       "<bokeh.models.renderers.GlyphRenderer at 0x10b9c5050>"
      ]
     },
     "execution_count": 15,
     "metadata": {},
     "output_type": "execute_result"
    }
   ],
   "source": [
    "# radial axes\n",
    "p.annular_wedge(0, 0, inner_radius-10, outer_radius+10, \n",
    "                -big_angle+angles, -big_angle+angles, color=\"black\")"
   ]
  },
  {
   "cell_type": "code",
   "execution_count": 16,
   "metadata": {
    "collapsed": false
   },
   "outputs": [
    {
     "data": {
      "text/plain": [
       "<bokeh.models.renderers.GlyphRenderer at 0x10b9eb210>"
      ]
     },
     "execution_count": 16,
     "metadata": {},
     "output_type": "execute_result"
    }
   ],
   "source": [
    "# bacteria labels\n",
    "xr = radii[0]*np.cos(np.array(-big_angle/2 + angles))\n",
    "yr = radii[0]*np.sin(np.array(-big_angle/2 + angles))\n",
    "label_angle=np.array(-big_angle/2+angles)\n",
    "label_angle[label_angle < -np.pi/2] += np.pi # easier to read labels on the left side\n",
    "p.text(xr, yr, df.bacteria, angle=label_angle, text_font_size=\"9pt\", text_align=\"center\", text_baseline=\"middle\")"
   ]
  },
  {
   "cell_type": "code",
   "execution_count": 17,
   "metadata": {
    "collapsed": false
   },
   "outputs": [
    {
     "data": {
      "text/plain": [
       "<bokeh.models.renderers.GlyphRenderer at 0x10b9eb7d0>"
      ]
     },
     "execution_count": 17,
     "metadata": {},
     "output_type": "execute_result"
    }
   ],
   "source": [
    "# OK, these hand drawn legends are pretty clunky, will be improved in future release\n",
    "p.circle([-40, -40], [-370, -390], color=list(gram_color.values()), radius=5)\n",
    "p.text([-30, -30], [-370, -390], text=[\"Gram-\" + x for x in gram_color.keys()], \n",
    "       text_font_size=\"7pt\", text_align=\"left\", text_baseline=\"middle\")\n",
    "\n",
    "p.rect([-40, -40, -40], [18, 0, -18], width=30, height=13, color=list(drug_color.values()))\n",
    "p.text([-15, -15, -15], [18, 0, -18], text=list(drug_color.keys()),\n",
    "       text_font_size=\"9pt\", text_align=\"left\", text_baseline=\"middle\")"
   ]
  },
  {
   "cell_type": "code",
   "execution_count": 18,
   "metadata": {
    "collapsed": false
   },
   "outputs": [],
   "source": [
    "p.xgrid.grid_line_color = None\n",
    "p.ygrid.grid_line_color = None"
   ]
  },
  {
   "cell_type": "code",
   "execution_count": 19,
   "metadata": {
    "collapsed": false
   },
   "outputs": [
    {
     "data": {
      "text/html": [
       "\n",
       "\n",
       "    <div class=\"bk-root\">\n",
       "        <div class=\"plotdiv\" id=\"0b24bc31-0b81-4f5c-a8e4-bd70c00ff293\"></div>\n",
       "    </div>\n",
       "<script type=\"text/javascript\">\n",
       "  \n",
       "  (function(global) {\n",
       "    function now() {\n",
       "      return new Date();\n",
       "    }\n",
       "  \n",
       "    var force = \"\";\n",
       "  \n",
       "    if (typeof (window._bokeh_onload_callbacks) === \"undefined\" || force !== \"\") {\n",
       "      window._bokeh_onload_callbacks = [];\n",
       "      window._bokeh_is_loading = undefined;\n",
       "    }\n",
       "  \n",
       "    function run_callbacks() {\n",
       "      window._bokeh_onload_callbacks.forEach(function(callback) { callback() });\n",
       "      delete window._bokeh_onload_callbacks\n",
       "      console.info(\"Bokeh: all callbacks have finished\");\n",
       "    }\n",
       "  \n",
       "    function load_libs(js_urls, callback) {\n",
       "      window._bokeh_onload_callbacks.push(callback);\n",
       "      if (window._bokeh_is_loading > 0) {\n",
       "        console.log(\"Bokeh: BokehJS is being loaded, scheduling callback at\", now());\n",
       "        return null;\n",
       "      }\n",
       "      if (js_urls == null || js_urls.length === 0) {\n",
       "        run_callbacks();\n",
       "        return null;\n",
       "      }\n",
       "      console.log(\"Bokeh: BokehJS not loaded, scheduling load and callback at\", now());\n",
       "      window._bokeh_is_loading = js_urls.length;\n",
       "      for (var i = 0; i < js_urls.length; i++) {\n",
       "        var url = js_urls[i];\n",
       "        var s = document.createElement('script');\n",
       "        s.src = url;\n",
       "        s.async = false;\n",
       "        s.onreadystatechange = s.onload = function() {\n",
       "          window._bokeh_is_loading--;\n",
       "          if (window._bokeh_is_loading === 0) {\n",
       "            console.log(\"Bokeh: all BokehJS libraries loaded\");\n",
       "            run_callbacks()\n",
       "          }\n",
       "        };\n",
       "        s.onerror = function() {\n",
       "          console.warn(\"failed to load library \" + url);\n",
       "        };\n",
       "        console.log(\"Bokeh: injecting script tag for BokehJS library: \", url);\n",
       "        document.getElementsByTagName(\"head\")[0].appendChild(s);\n",
       "      }\n",
       "    };var element = document.getElementById(\"0b24bc31-0b81-4f5c-a8e4-bd70c00ff293\");\n",
       "    if (element == null) {\n",
       "      console.log(\"Bokeh: ERROR: autoload.js configured with elementid '0b24bc31-0b81-4f5c-a8e4-bd70c00ff293' but no matching script tag was found. \")\n",
       "      return false;\n",
       "    }\n",
       "  \n",
       "    var js_urls = [];\n",
       "  \n",
       "    var inline_js = [\n",
       "      function(Bokeh) {\n",
       "        Bokeh.$(function() {\n",
       "            var docs_json = {\"9efcbd0c-4bd4-4f2b-b57d-65e42f9feaf0\":{\"roots\":{\"references\":[{\"attributes\":{\"angle\":{\"field\":\"angle\",\"units\":\"rad\"},\"text_align\":\"center\",\"text_baseline\":\"middle\",\"text_color\":{\"value\":\"black\"},\"text_font_size\":{\"value\":\"9pt\"},\"x\":{\"field\":\"x\"},\"y\":{\"field\":\"y\"}},\"id\":\"421c2891-2532-4ed2-891d-8a6410793a88\",\"type\":\"Text\"},{\"attributes\":{\"data_source\":{\"id\":\"fd277baf-a331-48c3-9db9-b67dbaba3e0f\",\"type\":\"ColumnDataSource\"},\"glyph\":{\"id\":\"73c6b253-6ff6-4e60-bf57-de64942e0e06\",\"type\":\"AnnularWedge\"},\"hover_glyph\":null,\"nonselection_glyph\":{\"id\":\"dbedc933-d178-40e3-955b-a66eb1a74e32\",\"type\":\"AnnularWedge\"},\"selection_glyph\":null},\"id\":\"142f2878-b801-46c8-9c91-4a389fbae6e0\",\"type\":\"GlyphRenderer\"},{\"attributes\":{\"data_source\":{\"id\":\"dfa25045-8c49-4562-ac96-d90fbec8effa\",\"type\":\"ColumnDataSource\"},\"glyph\":{\"id\":\"421c2891-2532-4ed2-891d-8a6410793a88\",\"type\":\"Text\"},\"hover_glyph\":null,\"nonselection_glyph\":{\"id\":\"99b0f8ad-490c-434f-902b-f1a094c0bab7\",\"type\":\"Text\"},\"selection_glyph\":null},\"id\":\"723d7f18-9da9-4850-8589-cdf9506cfc93\",\"type\":\"GlyphRenderer\"},{\"attributes\":{\"callback\":null,\"column_names\":[\"y\",\"x\",\"line_color\",\"fill_color\"],\"data\":{\"fill_color\":[\"#aeaeb8\",\"#e69584\"],\"line_color\":[\"#aeaeb8\",\"#e69584\"],\"x\":[-40,-40],\"y\":[-370,-390]}},\"id\":\"04b70143-c59c-4a22-829f-a73b511494fe\",\"type\":\"ColumnDataSource\"},{\"attributes\":{\"text_align\":\"center\",\"text_alpha\":{\"value\":0.1},\"text_baseline\":\"middle\",\"text_color\":{\"value\":\"black\"},\"text_font_size\":{\"value\":\"8pt\"},\"x\":{\"value\":0},\"y\":{\"field\":\"y\"}},\"id\":\"0b86b523-888a-4ee8-ad50-ba889bd3dc0f\",\"type\":\"Text\"},{\"attributes\":{\"data_source\":{\"id\":\"22b58f9a-b813-4783-ba91-a2707a877a5e\",\"type\":\"ColumnDataSource\"},\"glyph\":{\"id\":\"4e9be48c-f186-4935-8a25-2bbc3117c2a6\",\"type\":\"Circle\"},\"hover_glyph\":null,\"nonselection_glyph\":{\"id\":\"b29b4d6f-dd84-4619-9bc6-380638c43950\",\"type\":\"Circle\"},\"selection_glyph\":null},\"id\":\"934a262a-e011-4a85-a95b-fc0c216f2b5c\",\"type\":\"GlyphRenderer\"},{\"attributes\":{\"end_angle\":{\"field\":\"end_angle\",\"units\":\"rad\"},\"fill_alpha\":{\"value\":0.1},\"fill_color\":{\"value\":\"#1f77b4\"},\"inner_radius\":{\"units\":\"data\",\"value\":90},\"line_alpha\":{\"value\":0.1},\"line_color\":{\"value\":\"#1f77b4\"},\"outer_radius\":{\"field\":\"outer_radius\",\"units\":\"data\"},\"start_angle\":{\"field\":\"start_angle\",\"units\":\"rad\"},\"x\":{\"value\":0},\"y\":{\"value\":0}},\"id\":\"546a0940-d3b1-4219-9bf2-053428d95c7a\",\"type\":\"AnnularWedge\"},{\"attributes\":{\"end_angle\":{\"field\":\"end_angle\",\"units\":\"rad\"},\"fill_alpha\":{\"value\":0.1},\"fill_color\":{\"value\":\"#1f77b4\"},\"inner_radius\":{\"units\":\"data\",\"value\":90},\"line_alpha\":{\"value\":0.1},\"line_color\":{\"value\":\"#1f77b4\"},\"outer_radius\":{\"field\":\"outer_radius\",\"units\":\"data\"},\"start_angle\":{\"field\":\"start_angle\",\"units\":\"rad\"},\"x\":{\"value\":0},\"y\":{\"value\":0}},\"id\":\"55581766-f24f-4acd-b90a-9f3377e2c54e\",\"type\":\"AnnularWedge\"},{\"attributes\":{\"fill_alpha\":{\"value\":0.1},\"fill_color\":{\"value\":\"#1f77b4\"},\"height\":{\"units\":\"data\",\"value\":13},\"line_alpha\":{\"value\":0.1},\"line_color\":{\"value\":\"#1f77b4\"},\"width\":{\"units\":\"data\",\"value\":30},\"x\":{\"field\":\"x\"},\"y\":{\"field\":\"y\"}},\"id\":\"8b443098-9af3-4fb3-a2bc-d3e945651700\",\"type\":\"Rect\"},{\"attributes\":{\"plot\":{\"id\":\"425fe6d9-7544-4857-a730-d794ddf9b53a\",\"subtype\":\"Figure\",\"type\":\"Plot\"}},\"id\":\"da36e34d-9160-439a-aecc-8bb74b67e0d7\",\"type\":\"PanTool\"},{\"attributes\":{\"callback\":null,\"column_names\":[\"start_angle\",\"end_angle\"],\"data\":{\"end_angle\":[1.0163976232202272,0.6467984875037809,0.27719935178733474,-0.09239978392911147,-0.4619989196455578,-0.8315980553620042,-1.2011971910784502,-1.5707963267948968,-1.9403954625113429,-2.3099945982277887,-2.6795937339442353,-3.0491928696606814,-3.4187920053771275,-3.7883911410935736,-4.157990276810021,-4.527589412526466],\"start_angle\":[1.0163976232202272,0.6467984875037809,0.27719935178733474,-0.09239978392911147,-0.4619989196455578,-0.8315980553620042,-1.2011971910784502,-1.5707963267948968,-1.9403954625113429,-2.3099945982277887,-2.6795937339442353,-3.0491928696606814,-3.4187920053771275,-3.7883911410935736,-4.157990276810021,-4.527589412526466]}},\"id\":\"f37f2d49-bc9f-42e7-a0bb-fc9dcfbd392e\",\"type\":\"ColumnDataSource\"},{\"attributes\":{\"background_fill_color\":{\"value\":\"#f0e1d2\"},\"border_fill_color\":{\"value\":\"#f0e1d2\"},\"min_border\":0,\"outline_line_color\":{\"value\":\"black\"},\"plot_height\":800,\"plot_width\":800,\"renderers\":[{\"id\":\"444ed3cc-b985-4e37-8ed6-ae5a19168d12\",\"type\":\"BoxAnnotation\"},{\"id\":\"c40f57ee-2403-4f53-97de-10b8a2346ad1\",\"type\":\"GlyphRenderer\"},{\"id\":\"47e24b32-8430-4d9d-89bf-0dd4e8f98be4\",\"type\":\"GlyphRenderer\"},{\"id\":\"68d3afcc-df87-49dd-8e02-fb9ca425acaa\",\"type\":\"GlyphRenderer\"},{\"id\":\"142f2878-b801-46c8-9c91-4a389fbae6e0\",\"type\":\"GlyphRenderer\"},{\"id\":\"934a262a-e011-4a85-a95b-fc0c216f2b5c\",\"type\":\"GlyphRenderer\"},{\"id\":\"17355f1f-7c2b-4e73-af4e-c4cde3c585b5\",\"type\":\"GlyphRenderer\"},{\"id\":\"ea4c32c7-74bf-45cc-9473-8cb1e3801942\",\"type\":\"GlyphRenderer\"},{\"id\":\"723d7f18-9da9-4850-8589-cdf9506cfc93\",\"type\":\"GlyphRenderer\"},{\"id\":\"b3c33508-26ae-46cc-8c55-0f38667bf46f\",\"type\":\"GlyphRenderer\"},{\"id\":\"482e36b1-643a-4650-9cb4-0480012d777b\",\"type\":\"GlyphRenderer\"},{\"id\":\"403b0d03-13b9-40fa-ac5a-351e68fdb2f5\",\"type\":\"GlyphRenderer\"},{\"id\":\"ab8001e4-87c0-4ead-882e-b3dee680e4cc\",\"type\":\"GlyphRenderer\"}],\"title\":{\"id\":\"e1aa7dff-d934-4162-b0c3-484174489643\",\"type\":\"Title\"},\"tool_events\":{\"id\":\"eca0cfff-9a97-46ab-b142-6034a9a3a08f\",\"type\":\"ToolEvents\"},\"toolbar\":{\"id\":\"d61c2e8b-6786-42a9-9f34-d83b10e04d06\",\"type\":\"Toolbar\"},\"toolbar_sticky\":false,\"x_range\":{\"id\":\"c52ddc60-75c7-4ad8-988f-94b304515b4d\",\"type\":\"Range1d\"},\"y_range\":{\"id\":\"90f4915f-73a8-4d92-a6ec-3fe097a3c677\",\"type\":\"Range1d\"}},\"id\":\"425fe6d9-7544-4857-a730-d794ddf9b53a\",\"subtype\":\"Figure\",\"type\":\"Plot\"},{\"attributes\":{\"data_source\":{\"id\":\"0e8b9b66-84e5-4594-98a5-b009e7a15ee6\",\"type\":\"ColumnDataSource\"},\"glyph\":{\"id\":\"0df30425-8037-4e2c-8c8b-bb13c8c5b1f4\",\"type\":\"Rect\"},\"hover_glyph\":null,\"nonselection_glyph\":{\"id\":\"8b443098-9af3-4fb3-a2bc-d3e945651700\",\"type\":\"Rect\"},\"selection_glyph\":null},\"id\":\"403b0d03-13b9-40fa-ac5a-351e68fdb2f5\",\"type\":\"GlyphRenderer\"},{\"attributes\":{},\"id\":\"eca0cfff-9a97-46ab-b142-6034a9a3a08f\",\"type\":\"ToolEvents\"},{\"attributes\":{\"plot\":{\"id\":\"425fe6d9-7544-4857-a730-d794ddf9b53a\",\"subtype\":\"Figure\",\"type\":\"Plot\"}},\"id\":\"5e3798da-5788-46f3-888b-fa63c9099155\",\"type\":\"WheelZoomTool\"},{\"attributes\":{\"data_source\":{\"id\":\"9f406e75-e592-402f-902a-30c6a9188a63\",\"type\":\"ColumnDataSource\"},\"glyph\":{\"id\":\"ec2f786a-aa1b-4520-a5b6-703abbda5c90\",\"type\":\"Text\"},\"hover_glyph\":null,\"nonselection_glyph\":{\"id\":\"7f9c1e1f-da90-4161-be36-969346e60981\",\"type\":\"Text\"},\"selection_glyph\":null},\"id\":\"482e36b1-643a-4650-9cb4-0480012d777b\",\"type\":\"GlyphRenderer\"},{\"attributes\":{\"callback\":null,\"column_names\":[\"y\",\"angle\",\"text\",\"x\"],\"data\":{\"angle\":[1.2011971910784505,0.831598055362004,0.46199891964555784,0.09239978392911166,-0.2771993517873347,-0.646798487503781,-1.016397623220227,-1.3859967589366735,1.3859967589366735,1.0163976232202274,0.6467984875037809,0.2771993517873348,-0.0923997839291113,-0.4619989196455574,-0.8315980553620044,-1.2011971910784505],\"text\":[\"Mycobacterium tuberculosis\",\"Salmonella schottmuelleri\",\"Proteus vulgaris\",\"Klebsiella pneumoniae\",\"Brucella abortus\",\"Pseudomonas aeruginosa\",\"Escherichia coli\",\"Salmonella (Eberthella) typhosa\",\"Aerobacter aerogenes\",\"Brucella antracis\",\"Streptococcus fecalis\",\"Staphylococcus aureus\",\"Staphylococcus albus\",\"Streptococcus hemolyticus\",\"Streptococcus viridans\",\"Diplococcus pneumoniae\"],\"x\":[104.76008319427433,195.37173665750163,259.59735449296807,288.76291112556,278.9294365201175,231.42499591126946,152.66532723443325,53.28736016680539,-53.28736016680536,-152.6653272344331,-231.42499591126946,-278.9294365201175,-288.76291112556004,-259.5973544929681,-195.37173665750157,-104.76008319427434],\"y\":[270.4169465272632,214.31258599399115,129.2641231751961,26.757824244357604,-79.36226712090402,-174.76404454998436,-246.56296936158805,-285.06219890833154,-285.06219890833154,-246.56296936158816,-174.76404454998436,-79.3622671209041,26.75782424435747,129.26412317519595,214.31258599399115,270.4169465272632]}},\"id\":\"dfa25045-8c49-4562-ac96-d90fbec8effa\",\"type\":\"ColumnDataSource\"},{\"attributes\":{\"callback\":null,\"column_names\":[\"y\",\"text\"],\"data\":{\"text\":[\"0.001\",\"0.01\",\"0.1\",\"1.0\",\"10.0\",\"100.0\"],\"y\":[290.0,239.66267873058516,201.03749361799578,168.47495629784697,139.7867850155062,113.85069566245176]}},\"id\":\"eaaec828-69e4-468e-829c-a1e06eb39d57\",\"type\":\"ColumnDataSource\"},{\"attributes\":{\"callback\":null,\"end\":420,\"start\":-420},\"id\":\"c52ddc60-75c7-4ad8-988f-94b304515b4d\",\"type\":\"Range1d\"},{\"attributes\":{\"callback\":null,\"column_names\":[\"start_angle\",\"end_angle\",\"line_color\",\"fill_color\"],\"data\":{\"end_angle\":[1.3859967589366735,1.0163976232202272,0.646798487503781,0.2771993517873348,-0.09239978392911152,-0.46199891964555784,-0.8315980553620039,-1.2011971910784505,-1.5707963267948966,-1.9403954625113427,-2.309994598227789,-2.6795937339442353,-3.0491928696606814,-3.4187920053771275,-3.7883911410935744,-4.15799027681002],\"fill_color\":[\"#e69584\",\"#e69584\",\"#e69584\",\"#e69584\",\"#e69584\",\"#e69584\",\"#e69584\",\"#e69584\",\"#e69584\",\"#aeaeb8\",\"#aeaeb8\",\"#aeaeb8\",\"#aeaeb8\",\"#aeaeb8\",\"#aeaeb8\",\"#aeaeb8\"],\"line_color\":[\"#e69584\",\"#e69584\",\"#e69584\",\"#e69584\",\"#e69584\",\"#e69584\",\"#e69584\",\"#e69584\",\"#e69584\",\"#aeaeb8\",\"#aeaeb8\",\"#aeaeb8\",\"#aeaeb8\",\"#aeaeb8\",\"#aeaeb8\",\"#aeaeb8\"],\"start_angle\":[1.0163976232202272,0.6467984875037809,0.27719935178733474,-0.09239978392911147,-0.4619989196455578,-0.8315980553620042,-1.2011971910784502,-1.5707963267948968,-1.9403954625113429,-2.3099945982277887,-2.6795937339442353,-3.0491928696606814,-3.4187920053771275,-3.7883911410935736,-4.157990276810021,-4.527589412526466]}},\"id\":\"ffd7476c-621d-42e3-969a-cb4a1413424a\",\"type\":\"ColumnDataSource\"},{\"attributes\":{\"callback\":null,\"column_names\":[\"radius\"],\"data\":{\"radius\":[290.0,239.66267873058516,201.03749361799578,168.47495629784697,139.7867850155062,113.85069566245176,90.0]}},\"id\":\"22b58f9a-b813-4783-ba91-a2707a877a5e\",\"type\":\"ColumnDataSource\"},{\"attributes\":{\"fill_color\":{\"field\":\"fill_color\"},\"line_color\":{\"field\":\"line_color\"},\"radius\":{\"units\":\"data\",\"value\":5},\"x\":{\"field\":\"x\"},\"y\":{\"field\":\"y\"}},\"id\":\"c6a183d2-08d5-415d-9aec-765dd90ecaa3\",\"type\":\"Circle\"},{\"attributes\":{\"fill_alpha\":{\"value\":0.1},\"fill_color\":{\"value\":\"#1f77b4\"},\"line_alpha\":{\"value\":0.1},\"line_color\":{\"value\":\"#1f77b4\"},\"radius\":{\"field\":\"radius\",\"units\":\"data\"},\"x\":{\"value\":0},\"y\":{\"value\":0}},\"id\":\"b29b4d6f-dd84-4619-9bc6-380638c43950\",\"type\":\"Circle\"},{\"attributes\":{\"text_alpha\":{\"value\":0.1},\"text_baseline\":\"middle\",\"text_color\":{\"value\":\"black\"},\"text_font_size\":{\"value\":\"7pt\"},\"x\":{\"field\":\"x\"},\"y\":{\"field\":\"y\"}},\"id\":\"7f9c1e1f-da90-4161-be36-969346e60981\",\"type\":\"Text\"},{\"attributes\":{\"callback\":null,\"end\":420,\"start\":-420},\"id\":\"90f4915f-73a8-4d92-a6ec-3fe097a3c677\",\"type\":\"Range1d\"},{\"attributes\":{\"data_source\":{\"id\":\"79df76bd-3f98-4654-9cbc-8bc30ef12e9d\",\"type\":\"ColumnDataSource\"},\"glyph\":{\"id\":\"f1e06e1c-17d7-42ac-923b-a9940c25574f\",\"type\":\"AnnularWedge\"},\"hover_glyph\":null,\"nonselection_glyph\":{\"id\":\"55581766-f24f-4acd-b90a-9f3377e2c54e\",\"type\":\"AnnularWedge\"},\"selection_glyph\":null},\"id\":\"68d3afcc-df87-49dd-8e02-fb9ca425acaa\",\"type\":\"GlyphRenderer\"},{\"attributes\":{\"end_angle\":{\"field\":\"end_angle\",\"units\":\"rad\"},\"fill_alpha\":{\"value\":0.1},\"fill_color\":{\"value\":\"#1f77b4\"},\"inner_radius\":{\"units\":\"data\",\"value\":80},\"line_alpha\":{\"value\":0.1},\"line_color\":{\"value\":\"#1f77b4\"},\"outer_radius\":{\"units\":\"data\",\"value\":300},\"start_angle\":{\"field\":\"start_angle\",\"units\":\"rad\"},\"x\":{\"value\":0},\"y\":{\"value\":0}},\"id\":\"36d29742-9589-45e9-948c-5d301c3cda9b\",\"type\":\"AnnularWedge\"},{\"attributes\":{\"fill_alpha\":{\"value\":0.1},\"fill_color\":{\"value\":\"#1f77b4\"},\"line_alpha\":{\"value\":0.1},\"line_color\":{\"value\":\"#1f77b4\"},\"radius\":{\"units\":\"data\",\"value\":5},\"x\":{\"field\":\"x\"},\"y\":{\"field\":\"y\"}},\"id\":\"9ad9a3bd-27bb-442e-b9e4-4bdc400c916b\",\"type\":\"Circle\"},{\"attributes\":{\"plot\":{\"id\":\"425fe6d9-7544-4857-a730-d794ddf9b53a\",\"subtype\":\"Figure\",\"type\":\"Plot\"}},\"id\":\"f56a337e-efc2-44c0-ac10-a81b401acfdb\",\"type\":\"ResetTool\"},{\"attributes\":{\"text_align\":\"center\",\"text_baseline\":\"middle\",\"text_color\":{\"value\":\"black\"},\"text_font_size\":{\"value\":\"8pt\"},\"x\":{\"value\":0},\"y\":{\"field\":\"y\"}},\"id\":\"981156e3-737c-4c94-9fac-f0602e258b1b\",\"type\":\"Text\"},{\"attributes\":{\"data_source\":{\"id\":\"04b70143-c59c-4a22-829f-a73b511494fe\",\"type\":\"ColumnDataSource\"},\"glyph\":{\"id\":\"c6a183d2-08d5-415d-9aec-765dd90ecaa3\",\"type\":\"Circle\"},\"hover_glyph\":null,\"nonselection_glyph\":{\"id\":\"9ad9a3bd-27bb-442e-b9e4-4bdc400c916b\",\"type\":\"Circle\"},\"selection_glyph\":null},\"id\":\"b3c33508-26ae-46cc-8c55-0f38667bf46f\",\"type\":\"GlyphRenderer\"},{\"attributes\":{\"data_source\":{\"id\":\"f462e3f5-bcce-486e-9925-20fdf9020102\",\"type\":\"ColumnDataSource\"},\"glyph\":{\"id\":\"48ed9753-047d-48f4-952f-6d504e72dc9f\",\"type\":\"Text\"},\"hover_glyph\":null,\"nonselection_glyph\":{\"id\":\"e659b9fd-30b5-4eb6-b65d-613ecea9ec1a\",\"type\":\"Text\"},\"selection_glyph\":null},\"id\":\"ab8001e4-87c0-4ead-882e-b3dee680e4cc\",\"type\":\"GlyphRenderer\"},{\"attributes\":{\"callback\":null,\"column_names\":[\"outer_radius\",\"start_angle\",\"end_angle\"],\"data\":{\"end_angle\":[1.2275971293439107,0.8579979936274644,0.48839885791101834,0.1187997221945721,-0.2507994135218742,-0.6203985492383206,-0.9899976849547667,-1.3595968206712132,-1.7291959563876593,-2.098795092104105,-2.4683942278205517,-2.837993363536998,-3.207592499253444,-3.57719163496989,-3.9467907706863374,-4.316389906402782],\"outer_radius\":[148.09389702866355,171.43725698767838,201.03749361799578,166.08111883679086,159.49517010860004,159.49517010860004,180.8815241029378,180.8815241029378,168.47495629784697,239.66267873058516,168.47495629784697,220.2583199527764,201.03749361799578,135.84452353427264,139.7867850155062,138.66430573015015],\"start_angle\":[1.17479725281299,0.8051981170965435,0.43559898138009745,0.06599984566365122,-0.30359929005279507,-0.6731984257692415,-1.0427975614856875,-1.412396697202134,-1.78199583291858,-2.151594968635026,-2.5211941043514727,-2.890793240067919,-3.260392375784365,-3.629991511500811,-3.9995906472172584,-4.369189782933703]}},\"id\":\"79df76bd-3f98-4654-9cbc-8bc30ef12e9d\",\"type\":\"ColumnDataSource\"},{\"attributes\":{\"callback\":null,\"column_names\":[\"y\",\"x\",\"text\"],\"data\":{\"text\":[\"Gram-positive\",\"Gram-negative\"],\"x\":[-30,-30],\"y\":[-370,-390]}},\"id\":\"9f406e75-e592-402f-902a-30c6a9188a63\",\"type\":\"ColumnDataSource\"},{\"attributes\":{\"data_source\":{\"id\":\"0f45b836-0c40-48af-8f5d-e892d7c4765d\",\"type\":\"ColumnDataSource\"},\"glyph\":{\"id\":\"26fbf25f-9690-4efc-a8fc-dde77829e4c7\",\"type\":\"AnnularWedge\"},\"hover_glyph\":null,\"nonselection_glyph\":{\"id\":\"546a0940-d3b1-4219-9bf2-053428d95c7a\",\"type\":\"AnnularWedge\"},\"selection_glyph\":null},\"id\":\"47e24b32-8430-4d9d-89bf-0dd4e8f98be4\",\"type\":\"GlyphRenderer\"},{\"attributes\":{\"end_angle\":{\"field\":\"end_angle\",\"units\":\"rad\"},\"fill_color\":{\"value\":\"#0d3362\"},\"inner_radius\":{\"units\":\"data\",\"value\":90},\"line_color\":{\"value\":\"#0d3362\"},\"outer_radius\":{\"field\":\"outer_radius\",\"units\":\"data\"},\"start_angle\":{\"field\":\"start_angle\",\"units\":\"rad\"},\"x\":{\"value\":0},\"y\":{\"value\":0}},\"id\":\"26fbf25f-9690-4efc-a8fc-dde77829e4c7\",\"type\":\"AnnularWedge\"},{\"attributes\":{\"callback\":null,\"column_names\":[\"y\",\"x\",\"text\"],\"data\":{\"text\":[\"Streptomycin\",\"Penicillin\",\"Neomycin\"],\"x\":[-15,-15,-15],\"y\":[18,0,-18]}},\"id\":\"f462e3f5-bcce-486e-9925-20fdf9020102\",\"type\":\"ColumnDataSource\"},{\"attributes\":{\"callback\":null,\"column_names\":[\"outer_radius\",\"start_angle\",\"end_angle\"],\"data\":{\"end_angle\":[1.121997376282069,0.7523982405656227,0.3827991048491765,0.013199969132730319,-0.356399166583716,-0.7259983023001624,-1.0955974380166085,-1.465196573733055,-1.834795709449501,-2.2043948451659467,-2.5739939808823933,-2.9435931165988394,-3.3131922523152855,-3.6827913880317316,-4.052390523748179,-4.421989659464624],\"outer_radius\":[159.49517010860004,202.64889203801422,201.03749361799578,168.47495629784697,227.18192696067584,180.8815241029378,201.03749361799578,243.8781742537954,162.35069204091852,246.45224684191624,201.03749361799578,290.0,290.0,139.7867850155062,123.8914127986476,139.7867850155062],\"start_angle\":[1.0691974997511482,0.6995983640347018,0.3299992283182556,-0.039599907398190574,-0.4091990431146369,-0.7787981788310833,-1.1483973145475292,-1.5179964502639758,-1.8875955859804219,-2.2571947216968677,-2.6267938574133143,-2.9963929931297604,-3.3659921288462065,-3.7355912645626526,-4.1051904002791,-4.474789535995545]}},\"id\":\"fd277baf-a331-48c3-9db9-b67dbaba3e0f\",\"type\":\"ColumnDataSource\"},{\"attributes\":{\"fill_color\":{\"value\":null},\"line_color\":{\"value\":\"white\"},\"radius\":{\"field\":\"radius\",\"units\":\"data\"},\"x\":{\"value\":0},\"y\":{\"value\":0}},\"id\":\"4e9be48c-f186-4935-8a25-2bbc3117c2a6\",\"type\":\"Circle\"},{\"attributes\":{\"overlay\":{\"id\":\"444ed3cc-b985-4e37-8ed6-ae5a19168d12\",\"type\":\"BoxAnnotation\"},\"plot\":{\"id\":\"425fe6d9-7544-4857-a730-d794ddf9b53a\",\"subtype\":\"Figure\",\"type\":\"Plot\"}},\"id\":\"7db1dce2-0c16-446b-82a7-1f98374fb2e1\",\"type\":\"BoxZoomTool\"},{\"attributes\":{\"data_source\":{\"id\":\"f37f2d49-bc9f-42e7-a0bb-fc9dcfbd392e\",\"type\":\"ColumnDataSource\"},\"glyph\":{\"id\":\"8ea5412f-d0f7-4f57-bb19-8ed890b09a79\",\"type\":\"AnnularWedge\"},\"hover_glyph\":null,\"nonselection_glyph\":{\"id\":\"36d29742-9589-45e9-948c-5d301c3cda9b\",\"type\":\"AnnularWedge\"},\"selection_glyph\":null},\"id\":\"ea4c32c7-74bf-45cc-9473-8cb1e3801942\",\"type\":\"GlyphRenderer\"},{\"attributes\":{\"data_source\":{\"id\":\"eaaec828-69e4-468e-829c-a1e06eb39d57\",\"type\":\"ColumnDataSource\"},\"glyph\":{\"id\":\"981156e3-737c-4c94-9fac-f0602e258b1b\",\"type\":\"Text\"},\"hover_glyph\":null,\"nonselection_glyph\":{\"id\":\"0b86b523-888a-4ee8-ad50-ba889bd3dc0f\",\"type\":\"Text\"},\"selection_glyph\":null},\"id\":\"17355f1f-7c2b-4e73-af4e-c4cde3c585b5\",\"type\":\"GlyphRenderer\"},{\"attributes\":{\"end_angle\":{\"field\":\"end_angle\",\"units\":\"rad\"},\"fill_alpha\":{\"value\":0.1},\"fill_color\":{\"value\":\"#1f77b4\"},\"inner_radius\":{\"units\":\"data\",\"value\":90},\"line_alpha\":{\"value\":0.1},\"line_color\":{\"value\":\"#1f77b4\"},\"outer_radius\":{\"units\":\"data\",\"value\":290},\"start_angle\":{\"field\":\"start_angle\",\"units\":\"rad\"},\"x\":{\"value\":0},\"y\":{\"value\":0}},\"id\":\"77ad9d4f-8a2b-4300-82f8-6b9f6e7b7220\",\"type\":\"AnnularWedge\"},{\"attributes\":{\"plot\":null,\"text\":null},\"id\":\"e1aa7dff-d934-4162-b0c3-484174489643\",\"type\":\"Title\"},{\"attributes\":{\"text_alpha\":{\"value\":0.1},\"text_baseline\":\"middle\",\"text_color\":{\"value\":\"black\"},\"text_font_size\":{\"value\":\"9pt\"},\"x\":{\"field\":\"x\"},\"y\":{\"field\":\"y\"}},\"id\":\"e659b9fd-30b5-4eb6-b65d-613ecea9ec1a\",\"type\":\"Text\"},{\"attributes\":{\"text_baseline\":\"middle\",\"text_color\":{\"value\":\"black\"},\"text_font_size\":{\"value\":\"7pt\"},\"x\":{\"field\":\"x\"},\"y\":{\"field\":\"y\"}},\"id\":\"ec2f786a-aa1b-4520-a5b6-703abbda5c90\",\"type\":\"Text\"},{\"attributes\":{\"end_angle\":{\"field\":\"end_angle\",\"units\":\"rad\"},\"fill_color\":{\"value\":\"black\"},\"inner_radius\":{\"units\":\"data\",\"value\":80},\"outer_radius\":{\"units\":\"data\",\"value\":300},\"start_angle\":{\"field\":\"start_angle\",\"units\":\"rad\"},\"x\":{\"value\":0},\"y\":{\"value\":0}},\"id\":\"8ea5412f-d0f7-4f57-bb19-8ed890b09a79\",\"type\":\"AnnularWedge\"},{\"attributes\":{\"end_angle\":{\"field\":\"end_angle\",\"units\":\"rad\"},\"fill_color\":{\"value\":\"black\"},\"inner_radius\":{\"units\":\"data\",\"value\":90},\"outer_radius\":{\"field\":\"outer_radius\",\"units\":\"data\"},\"start_angle\":{\"field\":\"start_angle\",\"units\":\"rad\"},\"x\":{\"value\":0},\"y\":{\"value\":0}},\"id\":\"73c6b253-6ff6-4e60-bf57-de64942e0e06\",\"type\":\"AnnularWedge\"},{\"attributes\":{\"active_drag\":\"auto\",\"active_scroll\":\"auto\",\"active_tap\":\"auto\",\"tools\":[{\"id\":\"da36e34d-9160-439a-aecc-8bb74b67e0d7\",\"type\":\"PanTool\"},{\"id\":\"5e3798da-5788-46f3-888b-fa63c9099155\",\"type\":\"WheelZoomTool\"},{\"id\":\"7db1dce2-0c16-446b-82a7-1f98374fb2e1\",\"type\":\"BoxZoomTool\"},{\"id\":\"9db3a1b6-e7b5-456e-b753-63001c297780\",\"type\":\"SaveTool\"},{\"id\":\"f56a337e-efc2-44c0-ac10-a81b401acfdb\",\"type\":\"ResetTool\"},{\"id\":\"2e4df210-2dae-488e-a3d0-c19066cbf753\",\"type\":\"HelpTool\"}]},\"id\":\"d61c2e8b-6786-42a9-9f34-d83b10e04d06\",\"type\":\"Toolbar\"},{\"attributes\":{\"end_angle\":{\"field\":\"end_angle\",\"units\":\"rad\"},\"fill_alpha\":{\"value\":0.1},\"fill_color\":{\"value\":\"#1f77b4\"},\"inner_radius\":{\"units\":\"data\",\"value\":90},\"line_alpha\":{\"value\":0.1},\"line_color\":{\"value\":\"#1f77b4\"},\"outer_radius\":{\"field\":\"outer_radius\",\"units\":\"data\"},\"start_angle\":{\"field\":\"start_angle\",\"units\":\"rad\"},\"x\":{\"value\":0},\"y\":{\"value\":0}},\"id\":\"dbedc933-d178-40e3-955b-a66eb1a74e32\",\"type\":\"AnnularWedge\"},{\"attributes\":{\"callback\":null,\"column_names\":[\"x\",\"y\",\"line_color\",\"fill_color\"],\"data\":{\"fill_color\":[\"#c64737\",\"#0d3362\",\"black\"],\"line_color\":[\"#c64737\",\"#0d3362\",\"black\"],\"x\":[-40,-40,-40],\"y\":[18,0,-18]}},\"id\":\"0e8b9b66-84e5-4594-98a5-b009e7a15ee6\",\"type\":\"ColumnDataSource\"},{\"attributes\":{\"plot\":{\"id\":\"425fe6d9-7544-4857-a730-d794ddf9b53a\",\"subtype\":\"Figure\",\"type\":\"Plot\"}},\"id\":\"9db3a1b6-e7b5-456e-b753-63001c297780\",\"type\":\"SaveTool\"},{\"attributes\":{\"text_baseline\":\"middle\",\"text_color\":{\"value\":\"black\"},\"text_font_size\":{\"value\":\"9pt\"},\"x\":{\"field\":\"x\"},\"y\":{\"field\":\"y\"}},\"id\":\"48ed9753-047d-48f4-952f-6d504e72dc9f\",\"type\":\"Text\"},{\"attributes\":{\"bottom_units\":\"screen\",\"fill_alpha\":{\"value\":0.5},\"fill_color\":{\"value\":\"lightgrey\"},\"left_units\":\"screen\",\"level\":\"overlay\",\"line_alpha\":{\"value\":1.0},\"line_color\":{\"value\":\"black\"},\"line_dash\":[4,4],\"line_width\":{\"value\":2},\"plot\":null,\"render_mode\":\"css\",\"right_units\":\"screen\",\"top_units\":\"screen\"},\"id\":\"444ed3cc-b985-4e37-8ed6-ae5a19168d12\",\"type\":\"BoxAnnotation\"},{\"attributes\":{\"data_source\":{\"id\":\"ffd7476c-621d-42e3-969a-cb4a1413424a\",\"type\":\"ColumnDataSource\"},\"glyph\":{\"id\":\"03fd747a-ebbc-4e69-b1dc-77524cc27918\",\"type\":\"AnnularWedge\"},\"hover_glyph\":null,\"nonselection_glyph\":{\"id\":\"77ad9d4f-8a2b-4300-82f8-6b9f6e7b7220\",\"type\":\"AnnularWedge\"},\"selection_glyph\":null},\"id\":\"c40f57ee-2403-4f53-97de-10b8a2346ad1\",\"type\":\"GlyphRenderer\"},{\"attributes\":{\"callback\":null,\"column_names\":[\"outer_radius\",\"start_angle\",\"end_angle\"],\"data\":{\"end_angle\":[1.3331968824057525,0.9635977466893062,0.5939986109728601,0.2243994752564139,-0.1451996604600324,-0.5147987961764788,-0.8843979318929249,-1.2539970676093715,-1.6235962033258176,-1.9931953390422634,-2.3627944747587097,-2.732393610475156,-3.101992746191602,-3.471591881908048,-3.8411910176244954,-4.210790153340941],\"outer_radius\":[92.23339948031361,139.7867850155062,154.38766386903586,91.62507700950238,168.47495629784697,91.62507700950238,113.85069566245176,168.47495629784697,91.39201867367399,290.0,168.47495629784697,220.2583199527764,246.45224684191624,290.0,253.12378014254972,253.12378014254972],\"start_angle\":[1.2803970058748317,0.9107978701583854,0.5411987344419392,0.17159959872549302,-0.1979995369909533,-0.5675986727073996,-0.9371978084238457,-1.3067969441402922,-1.6763960798567383,-2.045995215573184,-2.4155943512896307,-2.785193487006077,-3.154792622722523,-3.524391758438969,-3.8939908941554164,-4.263590029871862]}},\"id\":\"0f45b836-0c40-48af-8f5d-e892d7c4765d\",\"type\":\"ColumnDataSource\"},{\"attributes\":{\"end_angle\":{\"field\":\"end_angle\",\"units\":\"rad\"},\"fill_color\":{\"value\":\"#c64737\"},\"inner_radius\":{\"units\":\"data\",\"value\":90},\"line_color\":{\"value\":\"#c64737\"},\"outer_radius\":{\"field\":\"outer_radius\",\"units\":\"data\"},\"start_angle\":{\"field\":\"start_angle\",\"units\":\"rad\"},\"x\":{\"value\":0},\"y\":{\"value\":0}},\"id\":\"f1e06e1c-17d7-42ac-923b-a9940c25574f\",\"type\":\"AnnularWedge\"},{\"attributes\":{\"fill_color\":{\"field\":\"fill_color\"},\"height\":{\"units\":\"data\",\"value\":13},\"line_color\":{\"field\":\"line_color\"},\"width\":{\"units\":\"data\",\"value\":30},\"x\":{\"field\":\"x\"},\"y\":{\"field\":\"y\"}},\"id\":\"0df30425-8037-4e2c-8c8b-bb13c8c5b1f4\",\"type\":\"Rect\"},{\"attributes\":{\"plot\":{\"id\":\"425fe6d9-7544-4857-a730-d794ddf9b53a\",\"subtype\":\"Figure\",\"type\":\"Plot\"}},\"id\":\"2e4df210-2dae-488e-a3d0-c19066cbf753\",\"type\":\"HelpTool\"},{\"attributes\":{\"end_angle\":{\"field\":\"end_angle\",\"units\":\"rad\"},\"fill_color\":{\"field\":\"fill_color\"},\"inner_radius\":{\"units\":\"data\",\"value\":90},\"line_color\":{\"field\":\"line_color\"},\"outer_radius\":{\"units\":\"data\",\"value\":290},\"start_angle\":{\"field\":\"start_angle\",\"units\":\"rad\"},\"x\":{\"value\":0},\"y\":{\"value\":0}},\"id\":\"03fd747a-ebbc-4e69-b1dc-77524cc27918\",\"type\":\"AnnularWedge\"},{\"attributes\":{\"angle\":{\"field\":\"angle\",\"units\":\"rad\"},\"text_align\":\"center\",\"text_alpha\":{\"value\":0.1},\"text_baseline\":\"middle\",\"text_color\":{\"value\":\"black\"},\"text_font_size\":{\"value\":\"9pt\"},\"x\":{\"field\":\"x\"},\"y\":{\"field\":\"y\"}},\"id\":\"99b0f8ad-490c-434f-902b-f1a094c0bab7\",\"type\":\"Text\"}],\"root_ids\":[\"425fe6d9-7544-4857-a730-d794ddf9b53a\"]},\"title\":\"Bokeh Application\",\"version\":\"0.12.1\"}};\n",
       "            var render_items = [{\"docid\":\"9efcbd0c-4bd4-4f2b-b57d-65e42f9feaf0\",\"elementid\":\"0b24bc31-0b81-4f5c-a8e4-bd70c00ff293\",\"modelid\":\"425fe6d9-7544-4857-a730-d794ddf9b53a\",\"notebook_comms_target\":\"bbd08134-81b6-48be-b17c-d119ce310c59\"}];\n",
       "            \n",
       "            Bokeh.embed.embed_items(docs_json, render_items);\n",
       "        });\n",
       "      },\n",
       "      function(Bokeh) {\n",
       "      }\n",
       "    ];\n",
       "  \n",
       "    function run_inline_js() {\n",
       "      for (var i = 0; i < inline_js.length; i++) {\n",
       "        inline_js[i](window.Bokeh);\n",
       "      }\n",
       "    }\n",
       "  \n",
       "    if (window._bokeh_is_loading === 0) {\n",
       "      console.log(\"Bokeh: BokehJS loaded, going straight to plotting\");\n",
       "      run_inline_js();\n",
       "    } else {\n",
       "      load_libs(js_urls, function() {\n",
       "        console.log(\"Bokeh: BokehJS plotting callback run at\", now());\n",
       "        run_inline_js();\n",
       "      });\n",
       "    }\n",
       "  }(this));\n",
       "</script>"
      ]
     },
     "metadata": {},
     "output_type": "display_data"
    },
    {
     "data": {
      "text/html": [
       "<p><code>&lt;Bokeh Notebook handle for <strong>In[19]</strong>&gt;</code></p>"
      ],
      "text/plain": [
       "<bokeh.io._CommsHandle at 0x10b98a110>"
      ]
     },
     "execution_count": 19,
     "metadata": {},
     "output_type": "execute_result"
    }
   ],
   "source": [
    "show(p)"
   ]
  },
  {
   "cell_type": "code",
   "execution_count": null,
   "metadata": {
    "collapsed": false
   },
   "outputs": [],
   "source": []
  }
 ],
 "metadata": {
  "kernelspec": {
   "display_name": "Python 2",
   "language": "python",
   "name": "python2"
  },
  "language_info": {
   "codemirror_mode": {
    "name": "ipython",
    "version": 2
   },
   "file_extension": ".py",
   "mimetype": "text/x-python",
   "name": "python",
   "nbconvert_exporter": "python",
   "pygments_lexer": "ipython2",
   "version": "2.7.12"
  }
 },
 "nbformat": 4,
 "nbformat_minor": 0
}
