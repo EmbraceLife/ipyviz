{
 "cells": [
  {
   "cell_type": "code",
   "execution_count": 1,
   "metadata": {
    "collapsed": false
   },
   "outputs": [
    {
     "data": {
      "text/html": [
       "\n",
       "    <div class=\"bk-root\">\n",
       "        <a href=\"http://bokeh.pydata.org\" target=\"_blank\" class=\"bk-logo bk-logo-small bk-logo-notebook\"></a>\n",
       "        <span id=\"43c30c76-056c-48cf-8032-5daf474c44ae\">Loading BokehJS ...</span>\n",
       "    </div>"
      ]
     },
     "metadata": {},
     "output_type": "display_data"
    },
    {
     "data": {
      "application/javascript": [
       "\n",
       "(function(global) {\n",
       "  function now() {\n",
       "    return new Date();\n",
       "  }\n",
       "\n",
       "  var force = \"1\";\n",
       "\n",
       "  if (typeof (window._bokeh_onload_callbacks) === \"undefined\" || force !== \"\") {\n",
       "    window._bokeh_onload_callbacks = [];\n",
       "    window._bokeh_is_loading = undefined;\n",
       "  }\n",
       "\n",
       "  function run_callbacks() {\n",
       "    window._bokeh_onload_callbacks.forEach(function(callback) { callback() });\n",
       "    delete window._bokeh_onload_callbacks\n",
       "    console.info(\"Bokeh: all callbacks have finished\");\n",
       "  }\n",
       "\n",
       "  function load_libs(js_urls, callback) {\n",
       "    window._bokeh_onload_callbacks.push(callback);\n",
       "    if (window._bokeh_is_loading > 0) {\n",
       "      console.log(\"Bokeh: BokehJS is being loaded, scheduling callback at\", now());\n",
       "      return null;\n",
       "    }\n",
       "    if (js_urls == null || js_urls.length === 0) {\n",
       "      run_callbacks();\n",
       "      return null;\n",
       "    }\n",
       "    console.log(\"Bokeh: BokehJS not loaded, scheduling load and callback at\", now());\n",
       "    window._bokeh_is_loading = js_urls.length;\n",
       "    for (var i = 0; i < js_urls.length; i++) {\n",
       "      var url = js_urls[i];\n",
       "      var s = document.createElement('script');\n",
       "      s.src = url;\n",
       "      s.async = false;\n",
       "      s.onreadystatechange = s.onload = function() {\n",
       "        window._bokeh_is_loading--;\n",
       "        if (window._bokeh_is_loading === 0) {\n",
       "          console.log(\"Bokeh: all BokehJS libraries loaded\");\n",
       "          run_callbacks()\n",
       "        }\n",
       "      };\n",
       "      s.onerror = function() {\n",
       "        console.warn(\"failed to load library \" + url);\n",
       "      };\n",
       "      console.log(\"Bokeh: injecting script tag for BokehJS library: \", url);\n",
       "      document.getElementsByTagName(\"head\")[0].appendChild(s);\n",
       "    }\n",
       "  };\n",
       "\n",
       "  var js_urls = ['https://cdn.pydata.org/bokeh/release/bokeh-0.12.1.min.js', 'https://cdn.pydata.org/bokeh/release/bokeh-widgets-0.12.1.min.js', 'https://cdn.pydata.org/bokeh/release/bokeh-compiler-0.12.1.min.js'];\n",
       "\n",
       "  var inline_js = [\n",
       "    function(Bokeh) {\n",
       "      Bokeh.set_log_level(\"info\");\n",
       "    },\n",
       "    \n",
       "    function(Bokeh) {\n",
       "      \n",
       "      Bokeh.$(\"#43c30c76-056c-48cf-8032-5daf474c44ae\").text(\"BokehJS successfully loaded\");\n",
       "      var kernel = Jupyter.notebook.kernel\n",
       "      if (kernel.execute !== undefined) {\n",
       "          kernel.execute(\"import bokeh.io; bokeh.io._nb_loaded = True\");\n",
       "      }\n",
       "    },\n",
       "    function(Bokeh) {\n",
       "      console.log(\"Bokeh: injecting CSS: https://cdn.pydata.org/bokeh/release/bokeh-0.12.1.min.css\");\n",
       "      Bokeh.embed.inject_css(\"https://cdn.pydata.org/bokeh/release/bokeh-0.12.1.min.css\");\n",
       "      console.log(\"Bokeh: injecting CSS: https://cdn.pydata.org/bokeh/release/bokeh-widgets-0.12.1.min.css\");\n",
       "      Bokeh.embed.inject_css(\"https://cdn.pydata.org/bokeh/release/bokeh-widgets-0.12.1.min.css\");\n",
       "    }\n",
       "  ];\n",
       "\n",
       "  function run_inline_js() {\n",
       "    for (var i = 0; i < inline_js.length; i++) {\n",
       "      inline_js[i](window.Bokeh);\n",
       "    }\n",
       "  }\n",
       "\n",
       "  if (window._bokeh_is_loading === 0) {\n",
       "    console.log(\"Bokeh: BokehJS loaded, going straight to plotting\");\n",
       "    run_inline_js();\n",
       "  } else {\n",
       "    load_libs(js_urls, function() {\n",
       "      console.log(\"Bokeh: BokehJS plotting callback run at\", now());\n",
       "      run_inline_js();\n",
       "    });\n",
       "  }\n",
       "}(this));"
      ]
     },
     "metadata": {},
     "output_type": "display_data"
    }
   ],
   "source": [
    "# Heatmap\n",
    "\n",
    "from bokeh.charts import HeatMap, bins, output_notebook, show\n",
    "from bokeh.sampledata.autompg import autompg\n",
    "\n",
    "output_notebook()"
   ]
  },
  {
   "cell_type": "code",
   "execution_count": 2,
   "metadata": {
    "collapsed": false
   },
   "outputs": [
    {
     "data": {
      "text/html": [
       "\n",
       "\n",
       "    <div class=\"bk-root\">\n",
       "        <div class=\"plotdiv\" id=\"7936129e-e348-4910-ad11-093795c79c3c\"></div>\n",
       "    </div>\n",
       "<script type=\"text/javascript\">\n",
       "  \n",
       "  (function(global) {\n",
       "    function now() {\n",
       "      return new Date();\n",
       "    }\n",
       "  \n",
       "    var force = \"\";\n",
       "  \n",
       "    if (typeof (window._bokeh_onload_callbacks) === \"undefined\" || force !== \"\") {\n",
       "      window._bokeh_onload_callbacks = [];\n",
       "      window._bokeh_is_loading = undefined;\n",
       "    }\n",
       "  \n",
       "    function run_callbacks() {\n",
       "      window._bokeh_onload_callbacks.forEach(function(callback) { callback() });\n",
       "      delete window._bokeh_onload_callbacks\n",
       "      console.info(\"Bokeh: all callbacks have finished\");\n",
       "    }\n",
       "  \n",
       "    function load_libs(js_urls, callback) {\n",
       "      window._bokeh_onload_callbacks.push(callback);\n",
       "      if (window._bokeh_is_loading > 0) {\n",
       "        console.log(\"Bokeh: BokehJS is being loaded, scheduling callback at\", now());\n",
       "        return null;\n",
       "      }\n",
       "      if (js_urls == null || js_urls.length === 0) {\n",
       "        run_callbacks();\n",
       "        return null;\n",
       "      }\n",
       "      console.log(\"Bokeh: BokehJS not loaded, scheduling load and callback at\", now());\n",
       "      window._bokeh_is_loading = js_urls.length;\n",
       "      for (var i = 0; i < js_urls.length; i++) {\n",
       "        var url = js_urls[i];\n",
       "        var s = document.createElement('script');\n",
       "        s.src = url;\n",
       "        s.async = false;\n",
       "        s.onreadystatechange = s.onload = function() {\n",
       "          window._bokeh_is_loading--;\n",
       "          if (window._bokeh_is_loading === 0) {\n",
       "            console.log(\"Bokeh: all BokehJS libraries loaded\");\n",
       "            run_callbacks()\n",
       "          }\n",
       "        };\n",
       "        s.onerror = function() {\n",
       "          console.warn(\"failed to load library \" + url);\n",
       "        };\n",
       "        console.log(\"Bokeh: injecting script tag for BokehJS library: \", url);\n",
       "        document.getElementsByTagName(\"head\")[0].appendChild(s);\n",
       "      }\n",
       "    };var element = document.getElementById(\"7936129e-e348-4910-ad11-093795c79c3c\");\n",
       "    if (element == null) {\n",
       "      console.log(\"Bokeh: ERROR: autoload.js configured with elementid '7936129e-e348-4910-ad11-093795c79c3c' but no matching script tag was found. \")\n",
       "      return false;\n",
       "    }\n",
       "  \n",
       "    var js_urls = [];\n",
       "  \n",
       "    var inline_js = [\n",
       "      function(Bokeh) {\n",
       "        Bokeh.$(function() {\n",
       "            var docs_json = {\"91eb5aeb-c75c-4d94-9ba9-3a00eaadc3ab\":{\"roots\":{\"references\":[{\"attributes\":{\"active_drag\":\"auto\",\"active_scroll\":\"auto\",\"active_tap\":\"auto\",\"tools\":[{\"id\":\"6f47a561-8ab0-453e-a0c4-7ccb13b4b005\",\"type\":\"PanTool\"},{\"id\":\"665d92e1-356e-41be-9a92-23ca4b828c25\",\"type\":\"WheelZoomTool\"},{\"id\":\"42667ed4-91f0-49e4-991e-6f44d6b795e2\",\"type\":\"BoxZoomTool\"},{\"id\":\"f733b8c9-dfc0-4c93-b755-055470dbc78d\",\"type\":\"SaveTool\"},{\"id\":\"116cfeb6-a6ff-409b-872c-7b7d34e7a6fb\",\"type\":\"ResetTool\"},{\"id\":\"938dd891-b87b-4cfc-8de3-0daeb3c0e3d1\",\"type\":\"HelpTool\"}]},\"id\":\"73116a39-fcf5-4348-9a7e-c3d21b85f357\",\"type\":\"Toolbar\"},{\"attributes\":{\"callback\":null,\"column_names\":[\"y\",\"x\",\"values\"],\"data\":{\"Count\":[\"(39.7, 49.3]\"],\"chart_index\":[{\"Count\":\"(39.7, 49.3]\"}],\"values\":[47],\"x\":[92.0],\"y\":[132.5]}},\"id\":\"08603afe-4cde-440d-9818-cd25b346d6d3\",\"type\":\"ColumnDataSource\"},{\"attributes\":{},\"id\":\"d7f2b18b-36c5-492d-a4e8-cd08b2e8aa0b\",\"type\":\"BasicTickFormatter\"},{\"attributes\":{\"legends\":[[\"(49.3, 59]\",[{\"id\":\"9db36342-3a05-4bb8-86dd-5a7ebea9b4bd\",\"type\":\"GlyphRenderer\"}]],[\"(39.7, 49.3]\",[{\"id\":\"468c6316-ea27-408e-bcf7-90e396d7b478\",\"type\":\"GlyphRenderer\"}]],[\"(20.3, 30]\",[{\"id\":\"32bad3c7-098b-4210-a3c7-86321d8f60a4\",\"type\":\"GlyphRenderer\"}]],[\"(10.7, 20.3]\",[{\"id\":\"15d123df-b9df-4ce0-8cd7-6785cacb78db\",\"type\":\"GlyphRenderer\"}]],[\"[0.9, 10.7]\",[{\"id\":\"ac4f9a97-1c86-4fcb-988d-bf76eda02c4b\",\"type\":\"GlyphRenderer\"}]]],\"location\":\"top_left\",\"plot\":{\"id\":\"9c3a52b2-eb4b-4405-bff8-16fffa98b18a\",\"subtype\":\"Chart\",\"type\":\"Plot\"}},\"id\":\"27a3b1a1-c96e-4175-9b9f-8ddf29058876\",\"type\":\"Legend\"},{\"attributes\":{\"bottom_units\":\"screen\",\"fill_alpha\":{\"value\":0.5},\"fill_color\":{\"value\":\"lightgrey\"},\"left_units\":\"screen\",\"level\":\"overlay\",\"line_alpha\":{\"value\":1.0},\"line_color\":{\"value\":\"black\"},\"line_dash\":[4,4],\"line_width\":{\"value\":2},\"plot\":null,\"render_mode\":\"css\",\"right_units\":\"screen\",\"top_units\":\"screen\"},\"id\":\"f34ffc2e-7f48-4b12-a2ca-38232290b2d8\",\"type\":\"BoxAnnotation\"},{\"attributes\":{\"plot\":{\"id\":\"9c3a52b2-eb4b-4405-bff8-16fffa98b18a\",\"subtype\":\"Chart\",\"type\":\"Plot\"}},\"id\":\"938dd891-b87b-4cfc-8de3-0daeb3c0e3d1\",\"type\":\"HelpTool\"},{\"attributes\":{\"dilate\":true,\"fill_color\":{\"value\":\"#6baed6\"},\"height\":{\"units\":\"data\",\"value\":40.85},\"line_color\":{\"value\":\"#6baed6\"},\"width\":{\"units\":\"data\",\"value\":12.444999999999999},\"x\":{\"field\":\"x\"},\"y\":{\"field\":\"y\"}},\"id\":\"a2923f13-5e49-4ee5-bc74-92006bfca109\",\"type\":\"Rect\"},{\"attributes\":{\"data_source\":{\"id\":\"7f2a5542-3f50-4def-a1fa-109edee9fe3a\",\"type\":\"ColumnDataSource\"},\"glyph\":{\"id\":\"b7206020-a37f-4b50-bd95-c6037b3fc862\",\"type\":\"Rect\"},\"hover_glyph\":null,\"nonselection_glyph\":null,\"selection_glyph\":null},\"id\":\"15d123df-b9df-4ce0-8cd7-6785cacb78db\",\"type\":\"GlyphRenderer\"},{\"attributes\":{\"dilate\":true,\"fill_color\":{\"value\":\"#c6dbef\"},\"height\":{\"units\":\"data\",\"value\":40.85},\"line_color\":{\"value\":\"#c6dbef\"},\"width\":{\"units\":\"data\",\"value\":12.444999999999999},\"x\":{\"field\":\"x\"},\"y\":{\"field\":\"y\"}},\"id\":\"7b83a7a7-3bef-4622-89d3-1d2bb259ff1f\",\"type\":\"Rect\"},{\"attributes\":{\"callback\":null,\"column_names\":[\"y\",\"x\",\"values\"],\"data\":{\"Count\":[\"(10.7, 20.3]\",\"(10.7, 20.3]\",\"(10.7, 20.3]\",\"(10.7, 20.3]\"],\"chart_index\":[{\"Count\":\"(10.7, 20.3]\"},{\"Count\":\"(10.7, 20.3]\"},{\"Count\":\"(10.7, 20.3]\"},{\"Count\":\"(10.7, 20.3]\"}],\"values\":[14,14,15,16],\"x\":[92.0,92.0,52.45,105.15],\"y\":[218.5,89.3,89.3,261.5]}},\"id\":\"7f2a5542-3f50-4def-a1fa-109edee9fe3a\",\"type\":\"ColumnDataSource\"},{\"attributes\":{\"dilate\":true,\"fill_color\":{\"value\":\"#9ecae1\"},\"height\":{\"units\":\"data\",\"value\":40.85},\"line_color\":{\"value\":\"#9ecae1\"},\"width\":{\"units\":\"data\",\"value\":12.444999999999999},\"x\":{\"field\":\"x\"},\"y\":{\"field\":\"y\"}},\"id\":\"b7206020-a37f-4b50-bd95-c6037b3fc862\",\"type\":\"Rect\"},{\"attributes\":{\"plot\":{\"id\":\"9c3a52b2-eb4b-4405-bff8-16fffa98b18a\",\"subtype\":\"Chart\",\"type\":\"Plot\"}},\"id\":\"f733b8c9-dfc0-4c93-b755-055470dbc78d\",\"type\":\"SaveTool\"},{\"attributes\":{\"data_source\":{\"id\":\"58b7a2cb-9c28-4851-b272-7699923ab403\",\"type\":\"ColumnDataSource\"},\"glyph\":{\"id\":\"7b83a7a7-3bef-4622-89d3-1d2bb259ff1f\",\"type\":\"Rect\"},\"hover_glyph\":null,\"nonselection_glyph\":null,\"selection_glyph\":null},\"id\":\"ac4f9a97-1c86-4fcb-988d-bf76eda02c4b\",\"type\":\"GlyphRenderer\"},{\"attributes\":{\"plot\":{\"id\":\"9c3a52b2-eb4b-4405-bff8-16fffa98b18a\",\"subtype\":\"Chart\",\"type\":\"Plot\"}},\"id\":\"6f47a561-8ab0-453e-a0c4-7ccb13b4b005\",\"type\":\"PanTool\"},{\"attributes\":{\"plot\":{\"id\":\"9c3a52b2-eb4b-4405-bff8-16fffa98b18a\",\"subtype\":\"Chart\",\"type\":\"Plot\"}},\"id\":\"665d92e1-356e-41be-9a92-23ca4b828c25\",\"type\":\"WheelZoomTool\"},{\"attributes\":{\"dilate\":true,\"fill_color\":{\"value\":\"#08519c\"},\"height\":{\"units\":\"data\",\"value\":40.85},\"line_color\":{\"value\":\"#08519c\"},\"width\":{\"units\":\"data\",\"value\":12.444999999999999},\"x\":{\"field\":\"x\"},\"y\":{\"field\":\"y\"}},\"id\":\"4d96a486-6a62-4587-8a8a-708a74d6a319\",\"type\":\"Rect\"},{\"attributes\":{},\"id\":\"e784d1be-2a54-4bfe-a3ba-dd9604024d3b\",\"type\":\"BasicTickFormatter\"},{\"attributes\":{\"data_source\":{\"id\":\"d1b1f7f0-d25b-41f4-b0db-5333d5602688\",\"type\":\"ColumnDataSource\"},\"glyph\":{\"id\":\"4d96a486-6a62-4587-8a8a-708a74d6a319\",\"type\":\"Rect\"},\"hover_glyph\":null,\"nonselection_glyph\":null,\"selection_glyph\":null},\"id\":\"9db36342-3a05-4bb8-86dd-5a7ebea9b4bd\",\"type\":\"GlyphRenderer\"},{\"attributes\":{\"axis_label\":\"displ_center\",\"formatter\":{\"id\":\"e784d1be-2a54-4bfe-a3ba-dd9604024d3b\",\"type\":\"BasicTickFormatter\"},\"plot\":{\"id\":\"9c3a52b2-eb4b-4405-bff8-16fffa98b18a\",\"subtype\":\"Chart\",\"type\":\"Plot\"},\"ticker\":{\"id\":\"b9b8b63c-5eac-48e9-aea9-7369f4371645\",\"type\":\"BasicTicker\"}},\"id\":\"d2192793-e1f5-49e4-9eaf-bcf83b3f9b88\",\"type\":\"LinearAxis\"},{\"attributes\":{},\"id\":\"4769076d-ceec-47f2-b435-da7f0d63708b\",\"type\":\"BasicTicker\"},{\"attributes\":{},\"id\":\"b9b8b63c-5eac-48e9-aea9-7369f4371645\",\"type\":\"BasicTicker\"},{\"attributes\":{\"data_source\":{\"id\":\"08603afe-4cde-440d-9818-cd25b346d6d3\",\"type\":\"ColumnDataSource\"},\"glyph\":{\"id\":\"82d45095-bf6d-4342-a24b-52235cbbc1fe\",\"type\":\"Rect\"},\"hover_glyph\":null,\"nonselection_glyph\":null,\"selection_glyph\":null},\"id\":\"468c6316-ea27-408e-bcf7-90e396d7b478\",\"type\":\"GlyphRenderer\"},{\"attributes\":{\"callback\":null,\"end\":492.43,\"start\":30.369999999999997},\"id\":\"76080218-138f-4912-b194-2fa1d7d2a736\",\"type\":\"Range1d\"},{\"attributes\":{\"axis_label\":\"hp_center\",\"formatter\":{\"id\":\"d7f2b18b-36c5-492d-a4e8-cd08b2e8aa0b\",\"type\":\"BasicTickFormatter\"},\"plot\":{\"id\":\"9c3a52b2-eb4b-4405-bff8-16fffa98b18a\",\"subtype\":\"Chart\",\"type\":\"Plot\"},\"ticker\":{\"id\":\"4769076d-ceec-47f2-b435-da7f0d63708b\",\"type\":\"BasicTicker\"}},\"id\":\"9029e1e3-35f0-4052-a2c3-573c4cd2837e\",\"type\":\"LinearAxis\"},{\"attributes\":{\"dilate\":true,\"fill_color\":{\"value\":\"#3182bd\"},\"height\":{\"units\":\"data\",\"value\":40.85},\"line_color\":{\"value\":\"#3182bd\"},\"width\":{\"units\":\"data\",\"value\":12.444999999999999},\"x\":{\"field\":\"x\"},\"y\":{\"field\":\"y\"}},\"id\":\"82d45095-bf6d-4342-a24b-52235cbbc1fe\",\"type\":\"Rect\"},{\"attributes\":{\"callback\":null,\"end\":248.017,\"start\":27.883000000000006},\"id\":\"a3f7576c-30a1-4a2b-9ec4-833b73415022\",\"type\":\"Range1d\"},{\"attributes\":{},\"id\":\"1509deaf-e1c8-47d7-90e4-a3016fa2a82b\",\"type\":\"ToolEvents\"},{\"attributes\":{\"overlay\":{\"id\":\"f34ffc2e-7f48-4b12-a2ca-38232290b2d8\",\"type\":\"BoxAnnotation\"},\"plot\":{\"id\":\"9c3a52b2-eb4b-4405-bff8-16fffa98b18a\",\"subtype\":\"Chart\",\"type\":\"Plot\"}},\"id\":\"42667ed4-91f0-49e4-991e-6f44d6b795e2\",\"type\":\"BoxZoomTool\"},{\"attributes\":{\"plot\":{\"id\":\"9c3a52b2-eb4b-4405-bff8-16fffa98b18a\",\"subtype\":\"Chart\",\"type\":\"Plot\"}},\"id\":\"116cfeb6-a6ff-409b-872c-7b7d34e7a6fb\",\"type\":\"ResetTool\"},{\"attributes\":{\"callback\":null,\"column_names\":[\"y\",\"x\",\"values\"],\"data\":{\"Count\":[\"(49.3, 59]\"],\"chart_index\":[{\"Count\":\"(49.3, 59]\"}],\"values\":[59],\"x\":[65.7],\"y\":[89.3]}},\"id\":\"d1b1f7f0-d25b-41f4-b0db-5333d5602688\",\"type\":\"ColumnDataSource\"},{\"attributes\":{\"callback\":null,\"column_names\":[\"y\",\"x\",\"values\"],\"data\":{\"Count\":[\"[0.9, 10.7]\",\"[0.9, 10.7]\",\"[0.9, 10.7]\",\"[0.9, 10.7]\",\"[0.9, 10.7]\",\"[0.9, 10.7]\",\"[0.9, 10.7]\",\"[0.9, 10.7]\",\"[0.9, 10.7]\",\"[0.9, 10.7]\",\"[0.9, 10.7]\",\"[0.9, 10.7]\",\"[0.9, 10.7]\",\"[0.9, 10.7]\",\"[0.9, 10.7]\",\"[0.9, 10.7]\",\"[0.9, 10.7]\",\"[0.9, 10.7]\",\"[0.9, 10.7]\",\"[0.9, 10.7]\",\"[0.9, 10.7]\",\"[0.9, 10.7]\",\"[0.9, 10.7]\",\"[0.9, 10.7]\",\"[0.9, 10.7]\",\"[0.9, 10.7]\",\"[0.9, 10.7]\",\"[0.9, 10.7]\",\"[0.9, 10.7]\",\"[0.9, 10.7]\",\"[0.9, 10.7]\",\"[0.9, 10.7]\",\"[0.9, 10.7]\",\"[0.9, 10.7]\",\"[0.9, 10.7]\"],\"chart_index\":[{\"Count\":\"[0.9, 10.7]\"},{\"Count\":\"[0.9, 10.7]\"},{\"Count\":\"[0.9, 10.7]\"},{\"Count\":\"[0.9, 10.7]\"},{\"Count\":\"[0.9, 10.7]\"},{\"Count\":\"[0.9, 10.7]\"},{\"Count\":\"[0.9, 10.7]\"},{\"Count\":\"[0.9, 10.7]\"},{\"Count\":\"[0.9, 10.7]\"},{\"Count\":\"[0.9, 10.7]\"},{\"Count\":\"[0.9, 10.7]\"},{\"Count\":\"[0.9, 10.7]\"},{\"Count\":\"[0.9, 10.7]\"},{\"Count\":\"[0.9, 10.7]\"},{\"Count\":\"[0.9, 10.7]\"},{\"Count\":\"[0.9, 10.7]\"},{\"Count\":\"[0.9, 10.7]\"},{\"Count\":\"[0.9, 10.7]\"},{\"Count\":\"[0.9, 10.7]\"},{\"Count\":\"[0.9, 10.7]\"},{\"Count\":\"[0.9, 10.7]\"},{\"Count\":\"[0.9, 10.7]\"},{\"Count\":\"[0.9, 10.7]\"},{\"Count\":\"[0.9, 10.7]\"},{\"Count\":\"[0.9, 10.7]\"},{\"Count\":\"[0.9, 10.7]\"},{\"Count\":\"[0.9, 10.7]\"},{\"Count\":\"[0.9, 10.7]\"},{\"Count\":\"[0.9, 10.7]\"},{\"Count\":\"[0.9, 10.7]\"},{\"Count\":\"[0.9, 10.7]\"},{\"Count\":\"[0.9, 10.7]\"},{\"Count\":\"[0.9, 10.7]\"},{\"Count\":\"[0.9, 10.7]\"},{\"Count\":\"[0.9, 10.7]\"}],\"values\":[9,7,2,4,3,5,7,8,3,6,6,1,2,1,6,6,9,3,6,1,5,5,2,3,1,2,2,1,1,3,2,2,1,1,1],\"x\":[131.45,170.85000000000002,197.14999999999998,223.45,210.3,184.0,170.85000000000002,157.7,144.55,78.85,118.30000000000001,210.3,197.14999999999998,210.3,92.0,65.7,144.55,184.0,105.15,223.45,105.15,118.30000000000001,65.7,92.0,118.30000000000001,78.85,105.15,118.30000000000001,170.85000000000002,131.45,118.30000000000001,131.45,131.45,78.85,105.15],\"y\":[304.5,347.5,433.5,433.5,433.5,390.5,390.5,347.5,390.5,218.5,132.5,347.5,304.5,304.5,261.5,132.5,347.5,347.5,175.5,390.5,132.5,175.5,261.5,175.5,304.5,261.5,89.3,261.5,218.5,175.5,218.5,347.5,261.5,175.5,347.5]}},\"id\":\"58b7a2cb-9c28-4851-b272-7699923ab403\",\"type\":\"ColumnDataSource\"},{\"attributes\":{\"callback\":null,\"column_names\":[\"y\",\"x\",\"values\"],\"data\":{\"Count\":[\"(20.3, 30]\",\"(20.3, 30]\",\"(20.3, 30]\",\"(20.3, 30]\"],\"chart_index\":[{\"Count\":\"(20.3, 30]\"},{\"Count\":\"(20.3, 30]\"},{\"Count\":\"(20.3, 30]\"},{\"Count\":\"(20.3, 30]\"}],\"values\":[29,21,26,24],\"x\":[144.55,105.15,78.85,78.85],\"y\":[304.5,218.5,89.3,132.5]}},\"id\":\"88852487-d7f3-48e3-96c9-a3ae6536657e\",\"type\":\"ColumnDataSource\"},{\"attributes\":{\"plot\":null,\"text\":null},\"id\":\"05ebacfa-563c-4290-9673-d2a7bc4a5e71\",\"type\":\"Title\"},{\"attributes\":{\"data_source\":{\"id\":\"88852487-d7f3-48e3-96c9-a3ae6536657e\",\"type\":\"ColumnDataSource\"},\"glyph\":{\"id\":\"a2923f13-5e49-4ee5-bc74-92006bfca109\",\"type\":\"Rect\"},\"hover_glyph\":null,\"nonselection_glyph\":null,\"selection_glyph\":null},\"id\":\"32bad3c7-098b-4210-a3c7-86321d8f60a4\",\"type\":\"GlyphRenderer\"},{\"attributes\":{\"below\":[{\"id\":\"9029e1e3-35f0-4052-a2c3-573c4cd2837e\",\"type\":\"LinearAxis\"}],\"left\":[{\"id\":\"d2192793-e1f5-49e4-9eaf-bcf83b3f9b88\",\"type\":\"LinearAxis\"}],\"renderers\":[{\"id\":\"f34ffc2e-7f48-4b12-a2ca-38232290b2d8\",\"type\":\"BoxAnnotation\"},{\"id\":\"9db36342-3a05-4bb8-86dd-5a7ebea9b4bd\",\"type\":\"GlyphRenderer\"},{\"id\":\"468c6316-ea27-408e-bcf7-90e396d7b478\",\"type\":\"GlyphRenderer\"},{\"id\":\"32bad3c7-098b-4210-a3c7-86321d8f60a4\",\"type\":\"GlyphRenderer\"},{\"id\":\"15d123df-b9df-4ce0-8cd7-6785cacb78db\",\"type\":\"GlyphRenderer\"},{\"id\":\"ac4f9a97-1c86-4fcb-988d-bf76eda02c4b\",\"type\":\"GlyphRenderer\"},{\"id\":\"27a3b1a1-c96e-4175-9b9f-8ddf29058876\",\"type\":\"Legend\"},{\"id\":\"9029e1e3-35f0-4052-a2c3-573c4cd2837e\",\"type\":\"LinearAxis\"},{\"id\":\"d2192793-e1f5-49e4-9eaf-bcf83b3f9b88\",\"type\":\"LinearAxis\"}],\"title\":{\"id\":\"05ebacfa-563c-4290-9673-d2a7bc4a5e71\",\"type\":\"Title\"},\"tool_events\":{\"id\":\"1509deaf-e1c8-47d7-90e4-a3016fa2a82b\",\"type\":\"ToolEvents\"},\"toolbar\":{\"id\":\"73116a39-fcf5-4348-9a7e-c3d21b85f357\",\"type\":\"Toolbar\"},\"x_mapper_type\":\"auto\",\"x_range\":{\"id\":\"a3f7576c-30a1-4a2b-9ec4-833b73415022\",\"type\":\"Range1d\"},\"y_mapper_type\":\"auto\",\"y_range\":{\"id\":\"76080218-138f-4912-b194-2fa1d7d2a736\",\"type\":\"Range1d\"}},\"id\":\"9c3a52b2-eb4b-4405-bff8-16fffa98b18a\",\"subtype\":\"Chart\",\"type\":\"Plot\"}],\"root_ids\":[\"9c3a52b2-eb4b-4405-bff8-16fffa98b18a\"]},\"title\":\"Bokeh Application\",\"version\":\"0.12.1\"}};\n",
       "            var render_items = [{\"docid\":\"91eb5aeb-c75c-4d94-9ba9-3a00eaadc3ab\",\"elementid\":\"7936129e-e348-4910-ad11-093795c79c3c\",\"modelid\":\"9c3a52b2-eb4b-4405-bff8-16fffa98b18a\",\"notebook_comms_target\":\"dacbced2-d161-46dc-9aba-0890c956264f\"}];\n",
       "            \n",
       "            Bokeh.embed.embed_items(docs_json, render_items);\n",
       "        });\n",
       "      },\n",
       "      function(Bokeh) {\n",
       "      }\n",
       "    ];\n",
       "  \n",
       "    function run_inline_js() {\n",
       "      for (var i = 0; i < inline_js.length; i++) {\n",
       "        inline_js[i](window.Bokeh);\n",
       "      }\n",
       "    }\n",
       "  \n",
       "    if (window._bokeh_is_loading === 0) {\n",
       "      console.log(\"Bokeh: BokehJS loaded, going straight to plotting\");\n",
       "      run_inline_js();\n",
       "    } else {\n",
       "      load_libs(js_urls, function() {\n",
       "        console.log(\"Bokeh: BokehJS plotting callback run at\", now());\n",
       "        run_inline_js();\n",
       "      });\n",
       "    }\n",
       "  }(this));\n",
       "</script>"
      ]
     },
     "metadata": {},
     "output_type": "display_data"
    },
    {
     "data": {
      "text/html": [
       "<p><code>&lt;Bokeh Notebook handle for <strong>In[2]</strong>&gt;</code></p>"
      ],
      "text/plain": [
       "<bokeh.io._CommsHandle at 0x103d91c50>"
      ]
     },
     "execution_count": 2,
     "metadata": {},
     "output_type": "execute_result"
    }
   ],
   "source": [
    "autompg.head()\n",
    "\n",
    "hm = HeatMap(autompg, x=bins('hp'), y=bins('displ'))\n",
    "\n",
    "show(hm)"
   ]
  },
  {
   "cell_type": "code",
   "execution_count": null,
   "metadata": {
    "collapsed": true
   },
   "outputs": [],
   "source": []
  }
 ],
 "metadata": {
  "kernelspec": {
   "display_name": "Python 2",
   "language": "python",
   "name": "python2"
  },
  "language_info": {
   "codemirror_mode": {
    "name": "ipython",
    "version": 2
   },
   "file_extension": ".py",
   "mimetype": "text/x-python",
   "name": "python",
   "nbconvert_exporter": "python",
   "pygments_lexer": "ipython2",
   "version": "2.7.12"
  }
 },
 "nbformat": 4,
 "nbformat_minor": 1
}
