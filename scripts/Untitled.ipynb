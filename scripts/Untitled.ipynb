{
 "cells": [
  {
   "cell_type": "code",
   "execution_count": 1,
   "metadata": {
    "collapsed": true
   },
   "outputs": [],
   "source": [
    "## 17. What do I need to know about the pandas index? (Part 1) ([video](https://www.youtube.com/watch?v=OYZNk7Z9s6I&list=PL5-da3qGB5ICCsgW1MxlZ0Hq8LL5U3u9y&index=17))\n",
    "import pandas as pd"
   ]
  },
  {
   "cell_type": "code",
   "execution_count": 2,
   "metadata": {
    "collapsed": false
   },
   "outputs": [
    {
     "data": {
      "text/html": [
       "<div>\n",
       "<table border=\"1\" class=\"dataframe\">\n",
       "  <thead>\n",
       "    <tr style=\"text-align: right;\">\n",
       "      <th></th>\n",
       "      <th>country</th>\n",
       "      <th>beer_servings</th>\n",
       "      <th>spirit_servings</th>\n",
       "      <th>wine_servings</th>\n",
       "      <th>total_litres_of_pure_alcohol</th>\n",
       "      <th>continent</th>\n",
       "    </tr>\n",
       "  </thead>\n",
       "  <tbody>\n",
       "    <tr>\n",
       "      <th>0</th>\n",
       "      <td>Afghanistan</td>\n",
       "      <td>0</td>\n",
       "      <td>0</td>\n",
       "      <td>0</td>\n",
       "      <td>0.0</td>\n",
       "      <td>Asia</td>\n",
       "    </tr>\n",
       "    <tr>\n",
       "      <th>1</th>\n",
       "      <td>Albania</td>\n",
       "      <td>89</td>\n",
       "      <td>132</td>\n",
       "      <td>54</td>\n",
       "      <td>4.9</td>\n",
       "      <td>Europe</td>\n",
       "    </tr>\n",
       "    <tr>\n",
       "      <th>2</th>\n",
       "      <td>Algeria</td>\n",
       "      <td>25</td>\n",
       "      <td>0</td>\n",
       "      <td>14</td>\n",
       "      <td>0.7</td>\n",
       "      <td>Africa</td>\n",
       "    </tr>\n",
       "    <tr>\n",
       "      <th>3</th>\n",
       "      <td>Andorra</td>\n",
       "      <td>245</td>\n",
       "      <td>138</td>\n",
       "      <td>312</td>\n",
       "      <td>12.4</td>\n",
       "      <td>Europe</td>\n",
       "    </tr>\n",
       "    <tr>\n",
       "      <th>4</th>\n",
       "      <td>Angola</td>\n",
       "      <td>217</td>\n",
       "      <td>57</td>\n",
       "      <td>45</td>\n",
       "      <td>5.9</td>\n",
       "      <td>Africa</td>\n",
       "    </tr>\n",
       "  </tbody>\n",
       "</table>\n",
       "</div>"
      ],
      "text/plain": [
       "       country  beer_servings  spirit_servings  wine_servings  \\\n",
       "0  Afghanistan              0                0              0   \n",
       "1      Albania             89              132             54   \n",
       "2      Algeria             25                0             14   \n",
       "3      Andorra            245              138            312   \n",
       "4       Angola            217               57             45   \n",
       "\n",
       "   total_litres_of_pure_alcohol continent  \n",
       "0                           0.0      Asia  \n",
       "1                           4.9    Europe  \n",
       "2                           0.7    Africa  \n",
       "3                          12.4    Europe  \n",
       "4                           5.9    Africa  "
      ]
     },
     "execution_count": 2,
     "metadata": {},
     "output_type": "execute_result"
    }
   ],
   "source": [
    "# read a dataset of alcohol consumption into a DataFrame\n",
    "drinks = pd.read_csv('../data/drinks.csv')\n",
    "drinks.head()"
   ]
  },
  {
   "cell_type": "code",
   "execution_count": 3,
   "metadata": {
    "collapsed": false
   },
   "outputs": [
    {
     "data": {
      "text/plain": [
       "RangeIndex(start=0, stop=193, step=1)"
      ]
     },
     "execution_count": 3,
     "metadata": {},
     "output_type": "execute_result"
    }
   ],
   "source": [
    "# every DataFrame has an index (sometimes called the \"row labels\")\n",
    "drinks.index"
   ]
  },
  {
   "cell_type": "code",
   "execution_count": null,
   "metadata": {
    "collapsed": true
   },
   "outputs": [],
   "source": [
    "# column names are also stored in a special \"index\" object\n",
    "drinks.columns\n",
    "\n",
    "# neither the index nor the columns are included in the shape\n",
    "drinks.shape\n",
    "\n",
    "# index and columns both default to integers if you don't define them\n",
    "pd.read_table('http://bit.ly/movieusers', header=None, sep='|').head()\n",
    "\n",
    "**What is the index used for?**\n",
    "\n",
    "1. identification\n",
    "2. selection\n",
    "3. alignment (covered in the next video)\n",
    "\n",
    "# identification: index remains with each row when filtering the DataFrame\n",
    "drinks[drinks.continent=='South America']\n",
    "\n",
    "# selection: select a portion of the DataFrame using the index\n",
    "drinks.loc[23, 'beer_servings']\n",
    "\n",
    "Documentation for [**`loc`**](http://pandas.pydata.org/pandas-docs/stable/generated/pandas.DataFrame.loc.html)\n",
    "\n",
    "# set an existing column as the index\n",
    "drinks.set_index('country', inplace=True)\n",
    "drinks.head()\n",
    "\n",
    "Documentation for [**`set_index`**](http://pandas.pydata.org/pandas-docs/stable/generated/pandas.DataFrame.set_index.html)\n",
    "\n",
    "# 'country' is now the index\n",
    "drinks.index\n",
    "\n",
    "# 'country' is no longer a column\n",
    "drinks.columns\n",
    "\n",
    "# 'country' data is no longer part of the DataFrame contents\n",
    "drinks.shape\n",
    "\n",
    "# country name can now be used for selection\n",
    "drinks.loc['Brazil', 'beer_servings']\n",
    "\n",
    "# index name is optional\n",
    "drinks.index.name = None\n",
    "drinks.head()\n",
    "\n",
    "# restore the index name, and move the index back to a column\n",
    "drinks.index.name = 'country'\n",
    "drinks.reset_index(inplace=True)\n",
    "drinks.head()\n",
    "\n",
    "Documentation for [**`reset_index`**](http://pandas.pydata.org/pandas-docs/stable/generated/pandas.DataFrame.reset_index.html)\n",
    "\n",
    "# many DataFrame methods output a DataFrame\n",
    "drinks.describe()\n",
    "\n",
    "# you can interact with any DataFrame using its index and columns\n",
    "drinks.describe().loc['25%', 'beer_servings']\n",
    "\n",
    "[Indexing and selecting data](http://pandas.pydata.org/pandas-docs/stable/indexing.html)\n",
    "\n",
    "[<a href=\"#Python-pandas-Q&A-video-series-by-Data-School\">Back to top</a>]"
   ]
  }
 ],
 "metadata": {
  "kernelspec": {
   "display_name": "Python 2",
   "language": "python",
   "name": "python2"
  },
  "language_info": {
   "codemirror_mode": {
    "name": "ipython",
    "version": 2
   },
   "file_extension": ".py",
   "mimetype": "text/x-python",
   "name": "python",
   "nbconvert_exporter": "python",
   "pygments_lexer": "ipython2",
   "version": "2.7.12"
  }
 },
 "nbformat": 4,
 "nbformat_minor": 1
}
