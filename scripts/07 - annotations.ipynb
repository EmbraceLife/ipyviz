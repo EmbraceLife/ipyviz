{
 "cells": [
  {
   "cell_type": "markdown",
   "metadata": {},
   "source": [
    "<table style=\"float:left; border:none\">\n",
    "   <tr style=\"border:none\">\n",
    "       <td style=\"border:none\">\n",
    "           <a href=\"http://bokeh.pydata.org/\">     \n",
    "           <img \n",
    "               src=\"assets/images/bokeh-transparent.png\" \n",
    "               style=\"width:50px\"\n",
    "           >\n",
    "           </a>    \n",
    "       </td>\n",
    "       <td style=\"border:none\">\n",
    "           <h1>Bokeh Tutorial</h1>\n",
    "       </td>\n",
    "   </tr>\n",
    "</table>\n",
    "\n",
    "<div style=\"float:right;\"><h2>07. Annotations</h2></div>"
   ]
  },
  {
   "cell_type": "code",
   "execution_count": 1,
   "metadata": {
    "collapsed": true
   },
   "outputs": [],
   "source": [
    "from bokeh.io import output_notebook, show\n",
    "from bokeh.plotting import figure"
   ]
  },
  {
   "cell_type": "code",
   "execution_count": 2,
   "metadata": {
    "collapsed": false
   },
   "outputs": [
    {
     "data": {
      "text/html": [
       "\n",
       "    <div class=\"bk-root\">\n",
       "        <a href=\"http://bokeh.pydata.org\" target=\"_blank\" class=\"bk-logo bk-logo-small bk-logo-notebook\"></a>\n",
       "        <span id=\"9e0009a3-1510-4d4e-b358-a7e5fde05e67\">Loading BokehJS ...</span>\n",
       "    </div>"
      ]
     },
     "metadata": {},
     "output_type": "display_data"
    },
    {
     "data": {
      "application/javascript": [
       "\n",
       "(function(global) {\n",
       "  function now() {\n",
       "    return new Date();\n",
       "  }\n",
       "\n",
       "  var force = \"1\";\n",
       "\n",
       "  if (typeof (window._bokeh_onload_callbacks) === \"undefined\" || force !== \"\") {\n",
       "    window._bokeh_onload_callbacks = [];\n",
       "    window._bokeh_is_loading = undefined;\n",
       "  }\n",
       "\n",
       "  function run_callbacks() {\n",
       "    window._bokeh_onload_callbacks.forEach(function(callback) { callback() });\n",
       "    delete window._bokeh_onload_callbacks\n",
       "    console.info(\"Bokeh: all callbacks have finished\");\n",
       "  }\n",
       "\n",
       "  function load_libs(js_urls, callback) {\n",
       "    window._bokeh_onload_callbacks.push(callback);\n",
       "    if (window._bokeh_is_loading > 0) {\n",
       "      console.log(\"Bokeh: BokehJS is being loaded, scheduling callback at\", now());\n",
       "      return null;\n",
       "    }\n",
       "    if (js_urls == null || js_urls.length === 0) {\n",
       "      run_callbacks();\n",
       "      return null;\n",
       "    }\n",
       "    console.log(\"Bokeh: BokehJS not loaded, scheduling load and callback at\", now());\n",
       "    window._bokeh_is_loading = js_urls.length;\n",
       "    for (var i = 0; i < js_urls.length; i++) {\n",
       "      var url = js_urls[i];\n",
       "      var s = document.createElement('script');\n",
       "      s.src = url;\n",
       "      s.async = false;\n",
       "      s.onreadystatechange = s.onload = function() {\n",
       "        window._bokeh_is_loading--;\n",
       "        if (window._bokeh_is_loading === 0) {\n",
       "          console.log(\"Bokeh: all BokehJS libraries loaded\");\n",
       "          run_callbacks()\n",
       "        }\n",
       "      };\n",
       "      s.onerror = function() {\n",
       "        console.warn(\"failed to load library \" + url);\n",
       "      };\n",
       "      console.log(\"Bokeh: injecting script tag for BokehJS library: \", url);\n",
       "      document.getElementsByTagName(\"head\")[0].appendChild(s);\n",
       "    }\n",
       "  };\n",
       "\n",
       "  var js_urls = ['https://cdn.pydata.org/bokeh/release/bokeh-0.12.1.min.js', 'https://cdn.pydata.org/bokeh/release/bokeh-widgets-0.12.1.min.js', 'https://cdn.pydata.org/bokeh/release/bokeh-compiler-0.12.1.min.js'];\n",
       "\n",
       "  var inline_js = [\n",
       "    function(Bokeh) {\n",
       "      Bokeh.set_log_level(\"info\");\n",
       "    },\n",
       "    \n",
       "    function(Bokeh) {\n",
       "      \n",
       "      Bokeh.$(\"#9e0009a3-1510-4d4e-b358-a7e5fde05e67\").text(\"BokehJS successfully loaded\");\n",
       "      var kernel = Jupyter.notebook.kernel\n",
       "      if (kernel.execute !== undefined) {\n",
       "          kernel.execute(\"import bokeh.io; bokeh.io._nb_loaded = True\");\n",
       "      }\n",
       "    },\n",
       "    function(Bokeh) {\n",
       "      console.log(\"Bokeh: injecting CSS: https://cdn.pydata.org/bokeh/release/bokeh-0.12.1.min.css\");\n",
       "      Bokeh.embed.inject_css(\"https://cdn.pydata.org/bokeh/release/bokeh-0.12.1.min.css\");\n",
       "      console.log(\"Bokeh: injecting CSS: https://cdn.pydata.org/bokeh/release/bokeh-widgets-0.12.1.min.css\");\n",
       "      Bokeh.embed.inject_css(\"https://cdn.pydata.org/bokeh/release/bokeh-widgets-0.12.1.min.css\");\n",
       "    }\n",
       "  ];\n",
       "\n",
       "  function run_inline_js() {\n",
       "    for (var i = 0; i < inline_js.length; i++) {\n",
       "      inline_js[i](window.Bokeh);\n",
       "    }\n",
       "  }\n",
       "\n",
       "  if (window._bokeh_is_loading === 0) {\n",
       "    console.log(\"Bokeh: BokehJS loaded, going straight to plotting\");\n",
       "    run_inline_js();\n",
       "  } else {\n",
       "    load_libs(js_urls, function() {\n",
       "      console.log(\"Bokeh: BokehJS plotting callback run at\", now());\n",
       "      run_inline_js();\n",
       "    });\n",
       "  }\n",
       "}(this));"
      ]
     },
     "metadata": {},
     "output_type": "display_data"
    }
   ],
   "source": [
    "output_notebook()"
   ]
  },
  {
   "cell_type": "markdown",
   "metadata": {},
   "source": [
    "# Overview\n",
    "\n",
    "Sometimes we want to add visual cues (boundary lines, shaded regions, labels and arrows, etc.) to our plots to call out some feature or other. Bokeh has several annotation types available for uses like this. Typically to add annotations we create the \"low level\" annotation object directly, and add it to our `Plot`, `Figure` or `Chart` using `add_layout`. Let's take a look at some specific examples."
   ]
  },
  {
   "cell_type": "markdown",
   "metadata": {
    "collapsed": true
   },
   "source": [
    "## Spans\n",
    "\n",
    "`Spans` are \"infinite\" vertical or horizonal lines. When creating them, you specify the `dimension` that should be spanned (i.e., `width` or `height`), any visual line properties for the appearance, and the location along the dimension where the line should be drawn. Let's look at an example that adds two horizontal spans to a simple plot:"
   ]
  },
  {
   "cell_type": "code",
   "execution_count": 6,
   "metadata": {
    "collapsed": true
   },
   "outputs": [],
   "source": [
    "import numpy as np\n",
    "from bokeh.models.annotations import Span"
   ]
  },
  {
   "cell_type": "code",
   "execution_count": 7,
   "metadata": {
    "collapsed": true
   },
   "outputs": [],
   "source": [
    "x = np.linspace(0, 20, 200)\n",
    "y = np.sin(x)"
   ]
  },
  {
   "cell_type": "code",
   "execution_count": 8,
   "metadata": {
    "collapsed": false
   },
   "outputs": [
    {
     "data": {
      "text/plain": [
       "<bokeh.models.renderers.GlyphRenderer at 0x10b9f1990>"
      ]
     },
     "execution_count": 8,
     "metadata": {},
     "output_type": "execute_result"
    }
   ],
   "source": [
    "p = figure(y_range=(-2, 2))\n",
    "p.line(x, y)"
   ]
  },
  {
   "cell_type": "code",
   "execution_count": 9,
   "metadata": {
    "collapsed": true
   },
   "outputs": [],
   "source": [
    "upper = Span(location=1.5, dimension='height', line_color='olive', line_width=4)\n",
    "p.add_layout(upper)\n",
    "\n",
    "lower = Span(location=-1.5, dimension='width', line_color='firebrick', line_width=4)\n",
    "p.add_layout(lower)"
   ]
  },
  {
   "cell_type": "code",
   "execution_count": 10,
   "metadata": {
    "collapsed": false
   },
   "outputs": [
    {
     "data": {
      "text/html": [
       "\n",
       "\n",
       "    <div class=\"bk-root\">\n",
       "        <div class=\"plotdiv\" id=\"7fad12cb-8565-4f08-a04b-4e2d007be8e4\"></div>\n",
       "    </div>\n",
       "<script type=\"text/javascript\">\n",
       "  \n",
       "  (function(global) {\n",
       "    function now() {\n",
       "      return new Date();\n",
       "    }\n",
       "  \n",
       "    var force = \"\";\n",
       "  \n",
       "    if (typeof (window._bokeh_onload_callbacks) === \"undefined\" || force !== \"\") {\n",
       "      window._bokeh_onload_callbacks = [];\n",
       "      window._bokeh_is_loading = undefined;\n",
       "    }\n",
       "  \n",
       "    function run_callbacks() {\n",
       "      window._bokeh_onload_callbacks.forEach(function(callback) { callback() });\n",
       "      delete window._bokeh_onload_callbacks\n",
       "      console.info(\"Bokeh: all callbacks have finished\");\n",
       "    }\n",
       "  \n",
       "    function load_libs(js_urls, callback) {\n",
       "      window._bokeh_onload_callbacks.push(callback);\n",
       "      if (window._bokeh_is_loading > 0) {\n",
       "        console.log(\"Bokeh: BokehJS is being loaded, scheduling callback at\", now());\n",
       "        return null;\n",
       "      }\n",
       "      if (js_urls == null || js_urls.length === 0) {\n",
       "        run_callbacks();\n",
       "        return null;\n",
       "      }\n",
       "      console.log(\"Bokeh: BokehJS not loaded, scheduling load and callback at\", now());\n",
       "      window._bokeh_is_loading = js_urls.length;\n",
       "      for (var i = 0; i < js_urls.length; i++) {\n",
       "        var url = js_urls[i];\n",
       "        var s = document.createElement('script');\n",
       "        s.src = url;\n",
       "        s.async = false;\n",
       "        s.onreadystatechange = s.onload = function() {\n",
       "          window._bokeh_is_loading--;\n",
       "          if (window._bokeh_is_loading === 0) {\n",
       "            console.log(\"Bokeh: all BokehJS libraries loaded\");\n",
       "            run_callbacks()\n",
       "          }\n",
       "        };\n",
       "        s.onerror = function() {\n",
       "          console.warn(\"failed to load library \" + url);\n",
       "        };\n",
       "        console.log(\"Bokeh: injecting script tag for BokehJS library: \", url);\n",
       "        document.getElementsByTagName(\"head\")[0].appendChild(s);\n",
       "      }\n",
       "    };var element = document.getElementById(\"7fad12cb-8565-4f08-a04b-4e2d007be8e4\");\n",
       "    if (element == null) {\n",
       "      console.log(\"Bokeh: ERROR: autoload.js configured with elementid '7fad12cb-8565-4f08-a04b-4e2d007be8e4' but no matching script tag was found. \")\n",
       "      return false;\n",
       "    }\n",
       "  \n",
       "    var js_urls = [];\n",
       "  \n",
       "    var inline_js = [\n",
       "      function(Bokeh) {\n",
       "        Bokeh.$(function() {\n",
       "            var docs_json = {\"0d7a5de2-f0d1-4ec1-90de-f45fd7ce31bf\":{\"roots\":{\"references\":[{\"attributes\":{\"plot\":{\"id\":\"b84e6a9d-1719-4d04-b5d7-ae0f3c0381f2\",\"subtype\":\"Figure\",\"type\":\"Plot\"}},\"id\":\"d6043be1-f36c-478a-88df-37b0680f3776\",\"type\":\"ResetTool\"},{\"attributes\":{\"line_alpha\":{\"value\":0.1},\"line_color\":{\"value\":\"#1f77b4\"},\"x\":{\"field\":\"x\"},\"y\":{\"field\":\"y\"}},\"id\":\"98d08bf4-ea32-42f4-9ac7-973cd831a433\",\"type\":\"Line\"},{\"attributes\":{},\"id\":\"ad891070-c6f3-4bce-bbd8-50080b77146d\",\"type\":\"ToolEvents\"},{\"attributes\":{\"callback\":null,\"column_names\":[\"y\",\"x\"],\"data\":{\"x\":[0.0,0.10050251256281408,0.20100502512562815,0.30150753768844224,0.4020100502512563,0.5025125628140704,0.6030150753768845,0.7035175879396985,0.8040201005025126,0.9045226130653267,1.0050251256281408,1.105527638190955,1.206030150753769,1.306532663316583,1.407035175879397,1.5075376884422111,1.6080402010050252,1.7085427135678393,1.8090452261306533,1.9095477386934674,2.0100502512562817,2.1105527638190957,2.21105527638191,2.311557788944724,2.412060301507538,2.512562814070352,2.613065326633166,2.71356783919598,2.814070351758794,2.9145728643216082,3.0150753768844223,3.1155778894472363,3.2160804020100504,3.3165829145728645,3.4170854271356785,3.5175879396984926,3.6180904522613067,3.7185929648241207,3.819095477386935,3.919597989949749,4.020100502512563,4.120603015075377,4.2211055276381915,4.3216080402010055,4.42211055276382,4.522613065326634,4.623115577889448,4.723618090452262,4.824120603015076,4.92462311557789,5.025125628140704,5.125628140703518,5.226130653266332,5.326633165829146,5.42713567839196,5.527638190954774,5.628140703517588,5.728643216080402,5.8291457286432165,5.9296482412060305,6.030150753768845,6.130653266331659,6.231155778894473,6.331658291457287,6.432160804020101,6.532663316582915,6.633165829145729,6.733668341708543,6.834170854271357,6.934673366834171,7.035175879396985,7.135678391959799,7.236180904522613,7.336683417085427,7.437185929648241,7.5376884422110555,7.63819095477387,7.738693467336684,7.839195979899498,7.939698492462312,8.040201005025127,8.14070351758794,8.241206030150755,8.341708542713569,8.442211055276383,8.542713567839197,8.643216080402011,8.743718592964825,8.84422110552764,8.944723618090453,9.045226130653267,9.145728643216081,9.246231155778895,9.34673366834171,9.447236180904524,9.547738693467338,9.648241206030152,9.748743718592966,9.84924623115578,9.949748743718594,10.050251256281408,10.150753768844222,10.251256281407036,10.35175879396985,10.452261306532664,10.552763819095478,10.653266331658292,10.753768844221106,10.85427135678392,10.954773869346734,11.055276381909549,11.155778894472363,11.256281407035177,11.35678391959799,11.457286432160805,11.557788944723619,11.658291457286433,11.758793969849247,11.859296482412061,11.959798994974875,12.06030150753769,12.160804020100503,12.261306532663317,12.361809045226131,12.462311557788945,12.56281407035176,12.663316582914574,12.763819095477388,12.864321608040202,12.964824120603016,13.06532663316583,13.165829145728644,13.266331658291458,13.366834170854272,13.467336683417086,13.5678391959799,13.668341708542714,13.768844221105528,13.869346733668342,13.969849246231156,14.07035175879397,14.170854271356784,14.271356783919598,14.371859296482413,14.472361809045227,14.57286432160804,14.673366834170855,14.773869346733669,14.874371859296483,14.974874371859297,15.075376884422111,15.175879396984925,15.27638190954774,15.376884422110553,15.477386934673367,15.577889447236181,15.678391959798995,15.77889447236181,15.879396984924623,15.979899497487438,16.080402010050253,16.180904522613066,16.28140703517588,16.381909547738694,16.48241206030151,16.582914572864322,16.683417085427138,16.78391959798995,16.884422110552766,16.984924623115578,17.085427135678394,17.185929648241206,17.286432160804022,17.386934673366834,17.48743718592965,17.587939698492463,17.68844221105528,17.78894472361809,17.889447236180906,17.98994974874372,18.090452261306535,18.190954773869347,18.291457286432163,18.391959798994975,18.49246231155779,18.592964824120603,18.69346733668342,18.79396984924623,18.894472361809047,18.99497487437186,19.095477386934675,19.195979899497488,19.296482412060303,19.396984924623116,19.49748743718593,19.597989949748744,19.69849246231156,19.798994974874372,19.899497487437188,20.0],\"y\":[0.0,0.10033340611397856,0.19965422182925707,0.2969600760684489,0.3912689332607891,0.48162900429630934,0.5671283522249922,0.6469040957577352,0.720151117685035,0.7861301903258074,0.84417543600223,0.8937010472475914,0.9342071989250891,0.9652850925909591,0.9866210821929372,0.9979998394664454,0.9993065270825165,0.9905279576154928,0.9717527266338982,0.9431703185712997,0.9050691944009351,0.8578338804137864,0.8019410874808932,0.737954899965305,0.6665210828384021,0.5883605644546254,0.5042621607581176,0.4150746143504438,0.32169802876315795,0.2250747843827254,0.12618002770661219,0.0260118299154004,-0.07441888591686176,-0.17409854731690658,-0.2720211616449078,-0.3671984688295239,-0.45866991514132416,-0.5455123473467255,-0.6268493294065579,-0.7018599876927554,-0.7697872954549803,-0.8299457129282269,-0.8817281059754842,-0.9246118734407446,-0.9581642213735454,-0.9820465308962223,-0.9960177756322361,-0.9999369542060184,-0.9937645132649188,-0.9775627466617587,-0.9514951667693332,-0.9158248542717212,-0.870911803086728,-0.8172092872151839,-0.7552592861837865,-0.6856870152490829,-0.6091946155651793,-0.5265540679956123,-0.43859940208501036,-0.3462182788195934,-0.250343032125446,-0.15194125951605447,-0.05200605685069962,0.048454004242978146,0.1484250551318267,0.2468981623987645,0.34287951025690017,0.43540043039266096,0.5235271780141882,0.6063703554426186,0.6830938881409576,0.7529234625921657,0.8151543408692327,0.8691584730306023,0.9143908355608308,0.9503949318873145,0.9768073994604692,0.9933616769015238,0.9998906942081381,0.9963285588676023,0.9827112208609282,0.9591761098464471,0.9259607481845431,0.8834003538012378,0.8319244570831352,0.7720525659468906,0.7043889228324319,0.6296164065336967,0.5484896404111711,0.46182737653991096,0.37050423265417287,0.2754418652815221,0.17759966814940648,0.07796508973825697,-0.02245633230115589,-0.12265111929089911,-0.22160807981193167,-0.3183285149065574,-0.41183629720376236,-0.5011877222463261,-0.5854810325975929,-0.6638655186081827,-0.7355501039953746,-0.7998113295873013,-0.8560006546579639,-0.903551002166129,-0.9419824818418809,-0.9709072333619758,-0.990033340735435,-0.9991677783943945,-0.9982183592575101,-0.9871946651055623,-0.966207949879674,-0.9354700168780792,-0.89529108118306,-0.8460766388909868,-0.7883233747419922,-0.7226141494505268,-0.6496121173259396,-0.5700540335495606,-0.4847428186529565,-0.39453945523854783,-0.3003542987229555,-0.203137889797277,-0.103871361327294,-0.0035565365096275887,0.09679418178421749,0.19616802843659367,0.29356209716833237,0.38799346212544567,0.4785090978182669,0.5641954972984655,0.644187891504835,0.7176789767338574,0.7839270621551785,0.8422635551451839,0.8920997088947761,0.932932564192766,0.9643500254188847,0.9860350195181922,0.9977686959834515,0.9994326355504284,0.9910100453153949,0.9725859282134105,0.9443462251469577,0.9065759384227932,0.8596562554357672,0.8040607016281309,0.7403503615496515,0.6691682162488151,0.591232654143619,0.507330220861901,0.41830768122167306,0.32506347346398523,0.2285386419843857,0.12970734007217227,0.029566998506218765,-0.07087174077157724,-0.17059522431328336,-0.26859701721481055,-0.36388806031440185,-0.45550665203067525,-0.5425281541009938,-0.6240743232673008,-0.6993221747317495,-0.7675122879297706,-0.8279564707966822,-0.8800447051780209,-0.9232513032888079,-0.9571402130891266,-0.9813694190328588,-0.9956943937760503,-0.9999705660094207,-0.9941547795089919,-0.978305728679741,-0.9525833661966533,-0.9172472887214079,-0.8726541169864731,-0.8192538966874445,-0.7575855565067815,-0.6882714691076759,-0.6120111699899564,-0.5295742975988719,-0.44179282593705715,-0.3495526680700663,-0.2537847352651319,-0.15545554199651387,-0.05555745163422786,0.04490133874094825,0.14490697332027144,0.2434501696592168,0.3395364046140433,0.4321959513237761,0.5204936659417063,0.6035384253463177,0.680492120583744,0.750578115277733,0.8130890836425904,0.8673941489959544,0.9129452507276277]}},\"id\":\"f77064db-97f3-491d-8bd8-75b75cc395a2\",\"type\":\"ColumnDataSource\"},{\"attributes\":{\"dimension\":\"height\",\"line_color\":{\"value\":\"olive\"},\"line_width\":{\"value\":4},\"location\":1.5,\"plot\":{\"id\":\"b84e6a9d-1719-4d04-b5d7-ae0f3c0381f2\",\"subtype\":\"Figure\",\"type\":\"Plot\"}},\"id\":\"3e349d69-812b-4a0b-ac58-bcffa8d0f0e6\",\"type\":\"Span\"},{\"attributes\":{\"dimension\":1,\"plot\":{\"id\":\"b84e6a9d-1719-4d04-b5d7-ae0f3c0381f2\",\"subtype\":\"Figure\",\"type\":\"Plot\"},\"ticker\":{\"id\":\"30e5f52f-2d7f-4715-bddf-990860549393\",\"type\":\"BasicTicker\"}},\"id\":\"8b311abc-cb0f-4067-acf6-2b5280fe43d5\",\"type\":\"Grid\"},{\"attributes\":{},\"id\":\"30e5f52f-2d7f-4715-bddf-990860549393\",\"type\":\"BasicTicker\"},{\"attributes\":{\"callback\":null,\"end\":2,\"start\":-2},\"id\":\"41f73158-fb32-44d3-ab4d-d8cfabaf9703\",\"type\":\"Range1d\"},{\"attributes\":{},\"id\":\"e5f065ce-883d-462f-8da9-ae383df4ed3d\",\"type\":\"BasicTicker\"},{\"attributes\":{\"below\":[{\"id\":\"8deb6ee2-5ac5-4305-8167-783766334529\",\"type\":\"LinearAxis\"}],\"left\":[{\"id\":\"a8a6f97c-1dc8-43ed-adb1-fc7081a53c7e\",\"type\":\"LinearAxis\"}],\"renderers\":[{\"id\":\"8deb6ee2-5ac5-4305-8167-783766334529\",\"type\":\"LinearAxis\"},{\"id\":\"ed200328-f993-4b12-a58e-a54eb668d2db\",\"type\":\"Grid\"},{\"id\":\"a8a6f97c-1dc8-43ed-adb1-fc7081a53c7e\",\"type\":\"LinearAxis\"},{\"id\":\"8b311abc-cb0f-4067-acf6-2b5280fe43d5\",\"type\":\"Grid\"},{\"id\":\"13d79988-6ddc-460b-89b8-79da6e2327c9\",\"type\":\"BoxAnnotation\"},{\"id\":\"68deac90-b2f6-4d77-b3e4-3bd8f9a30f07\",\"type\":\"GlyphRenderer\"},{\"id\":\"3e349d69-812b-4a0b-ac58-bcffa8d0f0e6\",\"type\":\"Span\"},{\"id\":\"5b7f534a-49c1-4672-be7c-427c88dcaa5d\",\"type\":\"Span\"}],\"title\":{\"id\":\"1cc4a8b1-2804-4206-8219-7c3e75fc23c0\",\"type\":\"Title\"},\"tool_events\":{\"id\":\"ad891070-c6f3-4bce-bbd8-50080b77146d\",\"type\":\"ToolEvents\"},\"toolbar\":{\"id\":\"bb4caa85-5296-43b3-8a0a-3616788bfad3\",\"type\":\"Toolbar\"},\"x_range\":{\"id\":\"d4aba9ed-c589-4c41-b29e-10133f889b7a\",\"type\":\"DataRange1d\"},\"y_range\":{\"id\":\"41f73158-fb32-44d3-ab4d-d8cfabaf9703\",\"type\":\"Range1d\"}},\"id\":\"b84e6a9d-1719-4d04-b5d7-ae0f3c0381f2\",\"subtype\":\"Figure\",\"type\":\"Plot\"},{\"attributes\":{\"plot\":{\"id\":\"b84e6a9d-1719-4d04-b5d7-ae0f3c0381f2\",\"subtype\":\"Figure\",\"type\":\"Plot\"}},\"id\":\"86ebe6a3-6178-4d7e-b955-2831db592cee\",\"type\":\"PanTool\"},{\"attributes\":{\"bottom_units\":\"screen\",\"fill_alpha\":{\"value\":0.5},\"fill_color\":{\"value\":\"lightgrey\"},\"left_units\":\"screen\",\"level\":\"overlay\",\"line_alpha\":{\"value\":1.0},\"line_color\":{\"value\":\"black\"},\"line_dash\":[4,4],\"line_width\":{\"value\":2},\"plot\":null,\"render_mode\":\"css\",\"right_units\":\"screen\",\"top_units\":\"screen\"},\"id\":\"13d79988-6ddc-460b-89b8-79da6e2327c9\",\"type\":\"BoxAnnotation\"},{\"attributes\":{\"plot\":{\"id\":\"b84e6a9d-1719-4d04-b5d7-ae0f3c0381f2\",\"subtype\":\"Figure\",\"type\":\"Plot\"}},\"id\":\"3a7120d3-15f4-46f7-bd4f-9f12402a3f85\",\"type\":\"WheelZoomTool\"},{\"attributes\":{\"overlay\":{\"id\":\"13d79988-6ddc-460b-89b8-79da6e2327c9\",\"type\":\"BoxAnnotation\"},\"plot\":{\"id\":\"b84e6a9d-1719-4d04-b5d7-ae0f3c0381f2\",\"subtype\":\"Figure\",\"type\":\"Plot\"}},\"id\":\"03c48841-d276-4f14-b763-6c38f11277f7\",\"type\":\"BoxZoomTool\"},{\"attributes\":{\"data_source\":{\"id\":\"f77064db-97f3-491d-8bd8-75b75cc395a2\",\"type\":\"ColumnDataSource\"},\"glyph\":{\"id\":\"a0edb9c5-c538-4043-afd1-c9e4a50dea39\",\"type\":\"Line\"},\"hover_glyph\":null,\"nonselection_glyph\":{\"id\":\"98d08bf4-ea32-42f4-9ac7-973cd831a433\",\"type\":\"Line\"},\"selection_glyph\":null},\"id\":\"68deac90-b2f6-4d77-b3e4-3bd8f9a30f07\",\"type\":\"GlyphRenderer\"},{\"attributes\":{\"callback\":null},\"id\":\"d4aba9ed-c589-4c41-b29e-10133f889b7a\",\"type\":\"DataRange1d\"},{\"attributes\":{\"plot\":{\"id\":\"b84e6a9d-1719-4d04-b5d7-ae0f3c0381f2\",\"subtype\":\"Figure\",\"type\":\"Plot\"},\"ticker\":{\"id\":\"e5f065ce-883d-462f-8da9-ae383df4ed3d\",\"type\":\"BasicTicker\"}},\"id\":\"ed200328-f993-4b12-a58e-a54eb668d2db\",\"type\":\"Grid\"},{\"attributes\":{\"line_color\":{\"value\":\"firebrick\"},\"line_width\":{\"value\":4},\"location\":-1.5,\"plot\":{\"id\":\"b84e6a9d-1719-4d04-b5d7-ae0f3c0381f2\",\"subtype\":\"Figure\",\"type\":\"Plot\"}},\"id\":\"5b7f534a-49c1-4672-be7c-427c88dcaa5d\",\"type\":\"Span\"},{\"attributes\":{\"plot\":null,\"text\":null},\"id\":\"1cc4a8b1-2804-4206-8219-7c3e75fc23c0\",\"type\":\"Title\"},{\"attributes\":{\"formatter\":{\"id\":\"7d973c4c-b749-40c5-915c-6d8f1785dd44\",\"type\":\"BasicTickFormatter\"},\"plot\":{\"id\":\"b84e6a9d-1719-4d04-b5d7-ae0f3c0381f2\",\"subtype\":\"Figure\",\"type\":\"Plot\"},\"ticker\":{\"id\":\"e5f065ce-883d-462f-8da9-ae383df4ed3d\",\"type\":\"BasicTicker\"}},\"id\":\"8deb6ee2-5ac5-4305-8167-783766334529\",\"type\":\"LinearAxis\"},{\"attributes\":{\"line_color\":{\"value\":\"#1f77b4\"},\"x\":{\"field\":\"x\"},\"y\":{\"field\":\"y\"}},\"id\":\"a0edb9c5-c538-4043-afd1-c9e4a50dea39\",\"type\":\"Line\"},{\"attributes\":{\"active_drag\":\"auto\",\"active_scroll\":\"auto\",\"active_tap\":\"auto\",\"tools\":[{\"id\":\"86ebe6a3-6178-4d7e-b955-2831db592cee\",\"type\":\"PanTool\"},{\"id\":\"3a7120d3-15f4-46f7-bd4f-9f12402a3f85\",\"type\":\"WheelZoomTool\"},{\"id\":\"03c48841-d276-4f14-b763-6c38f11277f7\",\"type\":\"BoxZoomTool\"},{\"id\":\"0675960f-8e4e-4f11-b8b3-b732411f3808\",\"type\":\"SaveTool\"},{\"id\":\"d6043be1-f36c-478a-88df-37b0680f3776\",\"type\":\"ResetTool\"},{\"id\":\"0609078e-d1f3-4c53-bc08-c7b0a93110d4\",\"type\":\"HelpTool\"}]},\"id\":\"bb4caa85-5296-43b3-8a0a-3616788bfad3\",\"type\":\"Toolbar\"},{\"attributes\":{\"plot\":{\"id\":\"b84e6a9d-1719-4d04-b5d7-ae0f3c0381f2\",\"subtype\":\"Figure\",\"type\":\"Plot\"}},\"id\":\"0609078e-d1f3-4c53-bc08-c7b0a93110d4\",\"type\":\"HelpTool\"},{\"attributes\":{},\"id\":\"e7d007da-4dbb-4edb-a811-ecf6c652e2e3\",\"type\":\"BasicTickFormatter\"},{\"attributes\":{\"plot\":{\"id\":\"b84e6a9d-1719-4d04-b5d7-ae0f3c0381f2\",\"subtype\":\"Figure\",\"type\":\"Plot\"}},\"id\":\"0675960f-8e4e-4f11-b8b3-b732411f3808\",\"type\":\"SaveTool\"},{\"attributes\":{},\"id\":\"7d973c4c-b749-40c5-915c-6d8f1785dd44\",\"type\":\"BasicTickFormatter\"},{\"attributes\":{\"formatter\":{\"id\":\"e7d007da-4dbb-4edb-a811-ecf6c652e2e3\",\"type\":\"BasicTickFormatter\"},\"plot\":{\"id\":\"b84e6a9d-1719-4d04-b5d7-ae0f3c0381f2\",\"subtype\":\"Figure\",\"type\":\"Plot\"},\"ticker\":{\"id\":\"30e5f52f-2d7f-4715-bddf-990860549393\",\"type\":\"BasicTicker\"}},\"id\":\"a8a6f97c-1dc8-43ed-adb1-fc7081a53c7e\",\"type\":\"LinearAxis\"}],\"root_ids\":[\"b84e6a9d-1719-4d04-b5d7-ae0f3c0381f2\"]},\"title\":\"Bokeh Application\",\"version\":\"0.12.1\"}};\n",
       "            var render_items = [{\"docid\":\"0d7a5de2-f0d1-4ec1-90de-f45fd7ce31bf\",\"elementid\":\"7fad12cb-8565-4f08-a04b-4e2d007be8e4\",\"modelid\":\"b84e6a9d-1719-4d04-b5d7-ae0f3c0381f2\",\"notebook_comms_target\":\"4becb59b-305f-4447-b28a-760f8b8c4d44\"}];\n",
       "            \n",
       "            Bokeh.embed.embed_items(docs_json, render_items);\n",
       "        });\n",
       "      },\n",
       "      function(Bokeh) {\n",
       "      }\n",
       "    ];\n",
       "  \n",
       "    function run_inline_js() {\n",
       "      for (var i = 0; i < inline_js.length; i++) {\n",
       "        inline_js[i](window.Bokeh);\n",
       "      }\n",
       "    }\n",
       "  \n",
       "    if (window._bokeh_is_loading === 0) {\n",
       "      console.log(\"Bokeh: BokehJS loaded, going straight to plotting\");\n",
       "      run_inline_js();\n",
       "    } else {\n",
       "      load_libs(js_urls, function() {\n",
       "        console.log(\"Bokeh: BokehJS plotting callback run at\", now());\n",
       "        run_inline_js();\n",
       "      });\n",
       "    }\n",
       "  }(this));\n",
       "</script>"
      ]
     },
     "metadata": {},
     "output_type": "display_data"
    },
    {
     "data": {
      "text/html": [
       "<p><code>&lt;Bokeh Notebook handle for <strong>In[10]</strong>&gt;</code></p>"
      ],
      "text/plain": [
       "<bokeh.io._CommsHandle at 0x104513450>"
      ]
     },
     "execution_count": 10,
     "metadata": {},
     "output_type": "execute_result"
    }
   ],
   "source": [
    "show(p)"
   ]
  },
  {
   "cell_type": "markdown",
   "metadata": {
    "collapsed": true
   },
   "source": [
    "## Box Annotations\n",
    "\n",
    "Sometimes you might want to call out some region of the plot by drawing a shaded box. This can be done with the `BoxAnnotation`, which is configured with the coordinate properties:\n",
    "* `top`\n",
    "* `left`\n",
    "* `bottom`\n",
    "* `right`\n",
    "\n",
    "as well as any visual line or fill properties to control the appearance. \n",
    "\n",
    "\"Infinite\" boxes can be made by leaving any of the coordinates unspecified. E.g., if `top` is not given, the box will always extend to the top of the plot area, regardless of any panning or zooming that happens.\n",
    "\n",
    "Let's take a look at an example that adds a few shaded boxes to a plot:"
   ]
  },
  {
   "cell_type": "code",
   "execution_count": 11,
   "metadata": {
    "collapsed": true
   },
   "outputs": [],
   "source": [
    "import numpy as np\n",
    "from bokeh.models.annotations import BoxAnnotation"
   ]
  },
  {
   "cell_type": "code",
   "execution_count": 12,
   "metadata": {
    "collapsed": true
   },
   "outputs": [],
   "source": [
    "x = np.linspace(0, 20, 200)\n",
    "y = np.sin(x)"
   ]
  },
  {
   "cell_type": "code",
   "execution_count": 13,
   "metadata": {
    "collapsed": false
   },
   "outputs": [
    {
     "data": {
      "text/plain": [
       "<bokeh.models.renderers.GlyphRenderer at 0x10b9d7d90>"
      ]
     },
     "execution_count": 13,
     "metadata": {},
     "output_type": "execute_result"
    }
   ],
   "source": [
    "p = figure(y_range=(-2, 2))\n",
    "p.line(x, y)"
   ]
  },
  {
   "cell_type": "code",
   "execution_count": 14,
   "metadata": {
    "collapsed": true
   },
   "outputs": [],
   "source": [
    "# region that always fills the top of the plot\n",
    "upper = BoxAnnotation(bottom=1, fill_alpha=0.1, fill_color='olive')\n",
    "p.add_layout(upper)"
   ]
  },
  {
   "cell_type": "code",
   "execution_count": 15,
   "metadata": {
    "collapsed": true
   },
   "outputs": [],
   "source": [
    "# region that always fills the bottom of the plot\n",
    "lower = BoxAnnotation(top=-1, fill_alpha=0.1, fill_color='firebrick')\n",
    "p.add_layout(lower)"
   ]
  },
  {
   "cell_type": "code",
   "execution_count": 16,
   "metadata": {
    "collapsed": false,
    "scrolled": false
   },
   "outputs": [
    {
     "data": {
      "text/html": [
       "\n",
       "\n",
       "    <div class=\"bk-root\">\n",
       "        <div class=\"plotdiv\" id=\"68159af0-2310-430f-812b-8c8b23627315\"></div>\n",
       "    </div>\n",
       "<script type=\"text/javascript\">\n",
       "  \n",
       "  (function(global) {\n",
       "    function now() {\n",
       "      return new Date();\n",
       "    }\n",
       "  \n",
       "    var force = \"\";\n",
       "  \n",
       "    if (typeof (window._bokeh_onload_callbacks) === \"undefined\" || force !== \"\") {\n",
       "      window._bokeh_onload_callbacks = [];\n",
       "      window._bokeh_is_loading = undefined;\n",
       "    }\n",
       "  \n",
       "    function run_callbacks() {\n",
       "      window._bokeh_onload_callbacks.forEach(function(callback) { callback() });\n",
       "      delete window._bokeh_onload_callbacks\n",
       "      console.info(\"Bokeh: all callbacks have finished\");\n",
       "    }\n",
       "  \n",
       "    function load_libs(js_urls, callback) {\n",
       "      window._bokeh_onload_callbacks.push(callback);\n",
       "      if (window._bokeh_is_loading > 0) {\n",
       "        console.log(\"Bokeh: BokehJS is being loaded, scheduling callback at\", now());\n",
       "        return null;\n",
       "      }\n",
       "      if (js_urls == null || js_urls.length === 0) {\n",
       "        run_callbacks();\n",
       "        return null;\n",
       "      }\n",
       "      console.log(\"Bokeh: BokehJS not loaded, scheduling load and callback at\", now());\n",
       "      window._bokeh_is_loading = js_urls.length;\n",
       "      for (var i = 0; i < js_urls.length; i++) {\n",
       "        var url = js_urls[i];\n",
       "        var s = document.createElement('script');\n",
       "        s.src = url;\n",
       "        s.async = false;\n",
       "        s.onreadystatechange = s.onload = function() {\n",
       "          window._bokeh_is_loading--;\n",
       "          if (window._bokeh_is_loading === 0) {\n",
       "            console.log(\"Bokeh: all BokehJS libraries loaded\");\n",
       "            run_callbacks()\n",
       "          }\n",
       "        };\n",
       "        s.onerror = function() {\n",
       "          console.warn(\"failed to load library \" + url);\n",
       "        };\n",
       "        console.log(\"Bokeh: injecting script tag for BokehJS library: \", url);\n",
       "        document.getElementsByTagName(\"head\")[0].appendChild(s);\n",
       "      }\n",
       "    };var element = document.getElementById(\"68159af0-2310-430f-812b-8c8b23627315\");\n",
       "    if (element == null) {\n",
       "      console.log(\"Bokeh: ERROR: autoload.js configured with elementid '68159af0-2310-430f-812b-8c8b23627315' but no matching script tag was found. \")\n",
       "      return false;\n",
       "    }\n",
       "  \n",
       "    var js_urls = [];\n",
       "  \n",
       "    var inline_js = [\n",
       "      function(Bokeh) {\n",
       "        Bokeh.$(function() {\n",
       "            var docs_json = {\"371f6d2f-006b-4611-beb6-685b5d9d0028\":{\"roots\":{\"references\":[{\"attributes\":{\"data_source\":{\"id\":\"d101d187-8a88-4e19-8868-2210a6afc053\",\"type\":\"ColumnDataSource\"},\"glyph\":{\"id\":\"046dd7af-7b01-4128-8513-7241ce425564\",\"type\":\"Line\"},\"hover_glyph\":null,\"nonselection_glyph\":{\"id\":\"c2b7bd88-6415-442c-8296-eb8c7988a0fd\",\"type\":\"Line\"},\"selection_glyph\":null},\"id\":\"e242b442-1885-48af-9a2c-6ee40e95f7c6\",\"type\":\"GlyphRenderer\"},{\"attributes\":{\"bottom_units\":\"screen\",\"fill_alpha\":{\"value\":0.5},\"fill_color\":{\"value\":\"lightgrey\"},\"left_units\":\"screen\",\"level\":\"overlay\",\"line_alpha\":{\"value\":1.0},\"line_color\":{\"value\":\"black\"},\"line_dash\":[4,4],\"line_width\":{\"value\":2},\"plot\":null,\"render_mode\":\"css\",\"right_units\":\"screen\",\"top_units\":\"screen\"},\"id\":\"e0f99cc7-8e26-433e-8d52-363739ff62fb\",\"type\":\"BoxAnnotation\"},{\"attributes\":{\"plot\":{\"id\":\"8e3868ab-2a83-4a9f-acc7-b7ad0e3cf745\",\"subtype\":\"Figure\",\"type\":\"Plot\"}},\"id\":\"49bb5040-4444-4494-9231-ff03973bc156\",\"type\":\"ResetTool\"},{\"attributes\":{\"plot\":{\"id\":\"8e3868ab-2a83-4a9f-acc7-b7ad0e3cf745\",\"subtype\":\"Figure\",\"type\":\"Plot\"}},\"id\":\"7c1be0e7-b106-4531-8129-d2c2325c07af\",\"type\":\"WheelZoomTool\"},{\"attributes\":{},\"id\":\"2631b6ba-7767-4206-837a-99585f483e8b\",\"type\":\"BasicTickFormatter\"},{\"attributes\":{\"plot\":null,\"text\":null},\"id\":\"2bf2b38e-aec0-42b8-a726-ad79fcf0553a\",\"type\":\"Title\"},{\"attributes\":{\"line_alpha\":{\"value\":0.1},\"line_color\":{\"value\":\"#1f77b4\"},\"x\":{\"field\":\"x\"},\"y\":{\"field\":\"y\"}},\"id\":\"c2b7bd88-6415-442c-8296-eb8c7988a0fd\",\"type\":\"Line\"},{\"attributes\":{\"plot\":{\"id\":\"8e3868ab-2a83-4a9f-acc7-b7ad0e3cf745\",\"subtype\":\"Figure\",\"type\":\"Plot\"}},\"id\":\"24e8a405-af4d-41cd-bc04-8bbb82a2abc3\",\"type\":\"HelpTool\"},{\"attributes\":{},\"id\":\"a1f4a7c5-9d04-4955-94d9-31dc3078f2f7\",\"type\":\"BasicTicker\"},{\"attributes\":{\"callback\":null,\"column_names\":[\"y\",\"x\"],\"data\":{\"x\":[0.0,0.10050251256281408,0.20100502512562815,0.30150753768844224,0.4020100502512563,0.5025125628140704,0.6030150753768845,0.7035175879396985,0.8040201005025126,0.9045226130653267,1.0050251256281408,1.105527638190955,1.206030150753769,1.306532663316583,1.407035175879397,1.5075376884422111,1.6080402010050252,1.7085427135678393,1.8090452261306533,1.9095477386934674,2.0100502512562817,2.1105527638190957,2.21105527638191,2.311557788944724,2.412060301507538,2.512562814070352,2.613065326633166,2.71356783919598,2.814070351758794,2.9145728643216082,3.0150753768844223,3.1155778894472363,3.2160804020100504,3.3165829145728645,3.4170854271356785,3.5175879396984926,3.6180904522613067,3.7185929648241207,3.819095477386935,3.919597989949749,4.020100502512563,4.120603015075377,4.2211055276381915,4.3216080402010055,4.42211055276382,4.522613065326634,4.623115577889448,4.723618090452262,4.824120603015076,4.92462311557789,5.025125628140704,5.125628140703518,5.226130653266332,5.326633165829146,5.42713567839196,5.527638190954774,5.628140703517588,5.728643216080402,5.8291457286432165,5.9296482412060305,6.030150753768845,6.130653266331659,6.231155778894473,6.331658291457287,6.432160804020101,6.532663316582915,6.633165829145729,6.733668341708543,6.834170854271357,6.934673366834171,7.035175879396985,7.135678391959799,7.236180904522613,7.336683417085427,7.437185929648241,7.5376884422110555,7.63819095477387,7.738693467336684,7.839195979899498,7.939698492462312,8.040201005025127,8.14070351758794,8.241206030150755,8.341708542713569,8.442211055276383,8.542713567839197,8.643216080402011,8.743718592964825,8.84422110552764,8.944723618090453,9.045226130653267,9.145728643216081,9.246231155778895,9.34673366834171,9.447236180904524,9.547738693467338,9.648241206030152,9.748743718592966,9.84924623115578,9.949748743718594,10.050251256281408,10.150753768844222,10.251256281407036,10.35175879396985,10.452261306532664,10.552763819095478,10.653266331658292,10.753768844221106,10.85427135678392,10.954773869346734,11.055276381909549,11.155778894472363,11.256281407035177,11.35678391959799,11.457286432160805,11.557788944723619,11.658291457286433,11.758793969849247,11.859296482412061,11.959798994974875,12.06030150753769,12.160804020100503,12.261306532663317,12.361809045226131,12.462311557788945,12.56281407035176,12.663316582914574,12.763819095477388,12.864321608040202,12.964824120603016,13.06532663316583,13.165829145728644,13.266331658291458,13.366834170854272,13.467336683417086,13.5678391959799,13.668341708542714,13.768844221105528,13.869346733668342,13.969849246231156,14.07035175879397,14.170854271356784,14.271356783919598,14.371859296482413,14.472361809045227,14.57286432160804,14.673366834170855,14.773869346733669,14.874371859296483,14.974874371859297,15.075376884422111,15.175879396984925,15.27638190954774,15.376884422110553,15.477386934673367,15.577889447236181,15.678391959798995,15.77889447236181,15.879396984924623,15.979899497487438,16.080402010050253,16.180904522613066,16.28140703517588,16.381909547738694,16.48241206030151,16.582914572864322,16.683417085427138,16.78391959798995,16.884422110552766,16.984924623115578,17.085427135678394,17.185929648241206,17.286432160804022,17.386934673366834,17.48743718592965,17.587939698492463,17.68844221105528,17.78894472361809,17.889447236180906,17.98994974874372,18.090452261306535,18.190954773869347,18.291457286432163,18.391959798994975,18.49246231155779,18.592964824120603,18.69346733668342,18.79396984924623,18.894472361809047,18.99497487437186,19.095477386934675,19.195979899497488,19.296482412060303,19.396984924623116,19.49748743718593,19.597989949748744,19.69849246231156,19.798994974874372,19.899497487437188,20.0],\"y\":[0.0,0.10033340611397856,0.19965422182925707,0.2969600760684489,0.3912689332607891,0.48162900429630934,0.5671283522249922,0.6469040957577352,0.720151117685035,0.7861301903258074,0.84417543600223,0.8937010472475914,0.9342071989250891,0.9652850925909591,0.9866210821929372,0.9979998394664454,0.9993065270825165,0.9905279576154928,0.9717527266338982,0.9431703185712997,0.9050691944009351,0.8578338804137864,0.8019410874808932,0.737954899965305,0.6665210828384021,0.5883605644546254,0.5042621607581176,0.4150746143504438,0.32169802876315795,0.2250747843827254,0.12618002770661219,0.0260118299154004,-0.07441888591686176,-0.17409854731690658,-0.2720211616449078,-0.3671984688295239,-0.45866991514132416,-0.5455123473467255,-0.6268493294065579,-0.7018599876927554,-0.7697872954549803,-0.8299457129282269,-0.8817281059754842,-0.9246118734407446,-0.9581642213735454,-0.9820465308962223,-0.9960177756322361,-0.9999369542060184,-0.9937645132649188,-0.9775627466617587,-0.9514951667693332,-0.9158248542717212,-0.870911803086728,-0.8172092872151839,-0.7552592861837865,-0.6856870152490829,-0.6091946155651793,-0.5265540679956123,-0.43859940208501036,-0.3462182788195934,-0.250343032125446,-0.15194125951605447,-0.05200605685069962,0.048454004242978146,0.1484250551318267,0.2468981623987645,0.34287951025690017,0.43540043039266096,0.5235271780141882,0.6063703554426186,0.6830938881409576,0.7529234625921657,0.8151543408692327,0.8691584730306023,0.9143908355608308,0.9503949318873145,0.9768073994604692,0.9933616769015238,0.9998906942081381,0.9963285588676023,0.9827112208609282,0.9591761098464471,0.9259607481845431,0.8834003538012378,0.8319244570831352,0.7720525659468906,0.7043889228324319,0.6296164065336967,0.5484896404111711,0.46182737653991096,0.37050423265417287,0.2754418652815221,0.17759966814940648,0.07796508973825697,-0.02245633230115589,-0.12265111929089911,-0.22160807981193167,-0.3183285149065574,-0.41183629720376236,-0.5011877222463261,-0.5854810325975929,-0.6638655186081827,-0.7355501039953746,-0.7998113295873013,-0.8560006546579639,-0.903551002166129,-0.9419824818418809,-0.9709072333619758,-0.990033340735435,-0.9991677783943945,-0.9982183592575101,-0.9871946651055623,-0.966207949879674,-0.9354700168780792,-0.89529108118306,-0.8460766388909868,-0.7883233747419922,-0.7226141494505268,-0.6496121173259396,-0.5700540335495606,-0.4847428186529565,-0.39453945523854783,-0.3003542987229555,-0.203137889797277,-0.103871361327294,-0.0035565365096275887,0.09679418178421749,0.19616802843659367,0.29356209716833237,0.38799346212544567,0.4785090978182669,0.5641954972984655,0.644187891504835,0.7176789767338574,0.7839270621551785,0.8422635551451839,0.8920997088947761,0.932932564192766,0.9643500254188847,0.9860350195181922,0.9977686959834515,0.9994326355504284,0.9910100453153949,0.9725859282134105,0.9443462251469577,0.9065759384227932,0.8596562554357672,0.8040607016281309,0.7403503615496515,0.6691682162488151,0.591232654143619,0.507330220861901,0.41830768122167306,0.32506347346398523,0.2285386419843857,0.12970734007217227,0.029566998506218765,-0.07087174077157724,-0.17059522431328336,-0.26859701721481055,-0.36388806031440185,-0.45550665203067525,-0.5425281541009938,-0.6240743232673008,-0.6993221747317495,-0.7675122879297706,-0.8279564707966822,-0.8800447051780209,-0.9232513032888079,-0.9571402130891266,-0.9813694190328588,-0.9956943937760503,-0.9999705660094207,-0.9941547795089919,-0.978305728679741,-0.9525833661966533,-0.9172472887214079,-0.8726541169864731,-0.8192538966874445,-0.7575855565067815,-0.6882714691076759,-0.6120111699899564,-0.5295742975988719,-0.44179282593705715,-0.3495526680700663,-0.2537847352651319,-0.15545554199651387,-0.05555745163422786,0.04490133874094825,0.14490697332027144,0.2434501696592168,0.3395364046140433,0.4321959513237761,0.5204936659417063,0.6035384253463177,0.680492120583744,0.750578115277733,0.8130890836425904,0.8673941489959544,0.9129452507276277]}},\"id\":\"d101d187-8a88-4e19-8868-2210a6afc053\",\"type\":\"ColumnDataSource\"},{\"attributes\":{},\"id\":\"d2e5c92c-b657-420d-98b4-69b8dc60dce6\",\"type\":\"ToolEvents\"},{\"attributes\":{\"overlay\":{\"id\":\"e0f99cc7-8e26-433e-8d52-363739ff62fb\",\"type\":\"BoxAnnotation\"},\"plot\":{\"id\":\"8e3868ab-2a83-4a9f-acc7-b7ad0e3cf745\",\"subtype\":\"Figure\",\"type\":\"Plot\"}},\"id\":\"032f2dad-6fdf-4b08-9742-8a91c0fc5cfb\",\"type\":\"BoxZoomTool\"},{\"attributes\":{\"line_color\":{\"value\":\"#1f77b4\"},\"x\":{\"field\":\"x\"},\"y\":{\"field\":\"y\"}},\"id\":\"046dd7af-7b01-4128-8513-7241ce425564\",\"type\":\"Line\"},{\"attributes\":{\"bottom\":1,\"fill_alpha\":{\"value\":0.1},\"fill_color\":{\"value\":\"olive\"},\"plot\":{\"id\":\"8e3868ab-2a83-4a9f-acc7-b7ad0e3cf745\",\"subtype\":\"Figure\",\"type\":\"Plot\"}},\"id\":\"e00b848c-b182-49e5-8166-0a1ea6ee5a46\",\"type\":\"BoxAnnotation\"},{\"attributes\":{\"active_drag\":\"auto\",\"active_scroll\":\"auto\",\"active_tap\":\"auto\",\"tools\":[{\"id\":\"65dc3e71-c57a-420d-a97c-f01ccf5e17fe\",\"type\":\"PanTool\"},{\"id\":\"7c1be0e7-b106-4531-8129-d2c2325c07af\",\"type\":\"WheelZoomTool\"},{\"id\":\"032f2dad-6fdf-4b08-9742-8a91c0fc5cfb\",\"type\":\"BoxZoomTool\"},{\"id\":\"22541580-a7a0-4026-adf6-b9233b569dd6\",\"type\":\"SaveTool\"},{\"id\":\"49bb5040-4444-4494-9231-ff03973bc156\",\"type\":\"ResetTool\"},{\"id\":\"24e8a405-af4d-41cd-bc04-8bbb82a2abc3\",\"type\":\"HelpTool\"}]},\"id\":\"a4c7e27b-beb2-465d-862e-72a252a54380\",\"type\":\"Toolbar\"},{\"attributes\":{\"plot\":{\"id\":\"8e3868ab-2a83-4a9f-acc7-b7ad0e3cf745\",\"subtype\":\"Figure\",\"type\":\"Plot\"}},\"id\":\"65dc3e71-c57a-420d-a97c-f01ccf5e17fe\",\"type\":\"PanTool\"},{\"attributes\":{\"fill_alpha\":{\"value\":0.1},\"fill_color\":{\"value\":\"firebrick\"},\"plot\":{\"id\":\"8e3868ab-2a83-4a9f-acc7-b7ad0e3cf745\",\"subtype\":\"Figure\",\"type\":\"Plot\"},\"top\":-1},\"id\":\"a0aa1bcc-57f9-43a9-9038-009aa096c3c5\",\"type\":\"BoxAnnotation\"},{\"attributes\":{\"formatter\":{\"id\":\"2631b6ba-7767-4206-837a-99585f483e8b\",\"type\":\"BasicTickFormatter\"},\"plot\":{\"id\":\"8e3868ab-2a83-4a9f-acc7-b7ad0e3cf745\",\"subtype\":\"Figure\",\"type\":\"Plot\"},\"ticker\":{\"id\":\"a1f4a7c5-9d04-4955-94d9-31dc3078f2f7\",\"type\":\"BasicTicker\"}},\"id\":\"365a929d-7973-4158-a358-a7c11e9172df\",\"type\":\"LinearAxis\"},{\"attributes\":{\"bottom\":-0.3,\"fill_alpha\":{\"value\":0.1},\"fill_color\":{\"value\":\"navy\"},\"left\":7,\"plot\":{\"id\":\"8e3868ab-2a83-4a9f-acc7-b7ad0e3cf745\",\"subtype\":\"Figure\",\"type\":\"Plot\"},\"right\":12,\"top\":0.6},\"id\":\"53a8fb14-0ee9-4bc8-94a3-6edf0d32e46e\",\"type\":\"BoxAnnotation\"},{\"attributes\":{\"dimension\":1,\"plot\":{\"id\":\"8e3868ab-2a83-4a9f-acc7-b7ad0e3cf745\",\"subtype\":\"Figure\",\"type\":\"Plot\"},\"ticker\":{\"id\":\"a1f4a7c5-9d04-4955-94d9-31dc3078f2f7\",\"type\":\"BasicTicker\"}},\"id\":\"3d1f2baf-4d32-494f-97ac-7ce3503d3421\",\"type\":\"Grid\"},{\"attributes\":{\"plot\":{\"id\":\"8e3868ab-2a83-4a9f-acc7-b7ad0e3cf745\",\"subtype\":\"Figure\",\"type\":\"Plot\"},\"ticker\":{\"id\":\"0e627e03-ac94-4584-aeeb-a4be52620f23\",\"type\":\"BasicTicker\"}},\"id\":\"26278c53-406d-4855-8419-dd0b33e69dc6\",\"type\":\"Grid\"},{\"attributes\":{\"callback\":null},\"id\":\"e0daf24e-aad9-41c7-8c1c-6e955069382a\",\"type\":\"DataRange1d\"},{\"attributes\":{},\"id\":\"0e627e03-ac94-4584-aeeb-a4be52620f23\",\"type\":\"BasicTicker\"},{\"attributes\":{},\"id\":\"02328868-e33f-4878-9f46-12740281ca6d\",\"type\":\"BasicTickFormatter\"},{\"attributes\":{\"plot\":{\"id\":\"8e3868ab-2a83-4a9f-acc7-b7ad0e3cf745\",\"subtype\":\"Figure\",\"type\":\"Plot\"}},\"id\":\"22541580-a7a0-4026-adf6-b9233b569dd6\",\"type\":\"SaveTool\"},{\"attributes\":{\"formatter\":{\"id\":\"02328868-e33f-4878-9f46-12740281ca6d\",\"type\":\"BasicTickFormatter\"},\"plot\":{\"id\":\"8e3868ab-2a83-4a9f-acc7-b7ad0e3cf745\",\"subtype\":\"Figure\",\"type\":\"Plot\"},\"ticker\":{\"id\":\"0e627e03-ac94-4584-aeeb-a4be52620f23\",\"type\":\"BasicTicker\"}},\"id\":\"128e9737-9f66-447d-8e49-55ace9352c13\",\"type\":\"LinearAxis\"},{\"attributes\":{\"below\":[{\"id\":\"128e9737-9f66-447d-8e49-55ace9352c13\",\"type\":\"LinearAxis\"}],\"left\":[{\"id\":\"365a929d-7973-4158-a358-a7c11e9172df\",\"type\":\"LinearAxis\"}],\"renderers\":[{\"id\":\"128e9737-9f66-447d-8e49-55ace9352c13\",\"type\":\"LinearAxis\"},{\"id\":\"26278c53-406d-4855-8419-dd0b33e69dc6\",\"type\":\"Grid\"},{\"id\":\"365a929d-7973-4158-a358-a7c11e9172df\",\"type\":\"LinearAxis\"},{\"id\":\"3d1f2baf-4d32-494f-97ac-7ce3503d3421\",\"type\":\"Grid\"},{\"id\":\"e0f99cc7-8e26-433e-8d52-363739ff62fb\",\"type\":\"BoxAnnotation\"},{\"id\":\"e242b442-1885-48af-9a2c-6ee40e95f7c6\",\"type\":\"GlyphRenderer\"},{\"id\":\"e00b848c-b182-49e5-8166-0a1ea6ee5a46\",\"type\":\"BoxAnnotation\"},{\"id\":\"a0aa1bcc-57f9-43a9-9038-009aa096c3c5\",\"type\":\"BoxAnnotation\"},{\"id\":\"53a8fb14-0ee9-4bc8-94a3-6edf0d32e46e\",\"type\":\"BoxAnnotation\"}],\"title\":{\"id\":\"2bf2b38e-aec0-42b8-a726-ad79fcf0553a\",\"type\":\"Title\"},\"tool_events\":{\"id\":\"d2e5c92c-b657-420d-98b4-69b8dc60dce6\",\"type\":\"ToolEvents\"},\"toolbar\":{\"id\":\"a4c7e27b-beb2-465d-862e-72a252a54380\",\"type\":\"Toolbar\"},\"x_range\":{\"id\":\"e0daf24e-aad9-41c7-8c1c-6e955069382a\",\"type\":\"DataRange1d\"},\"y_range\":{\"id\":\"e0850647-1191-4fcf-ab8d-eeb5441c430d\",\"type\":\"Range1d\"}},\"id\":\"8e3868ab-2a83-4a9f-acc7-b7ad0e3cf745\",\"subtype\":\"Figure\",\"type\":\"Plot\"},{\"attributes\":{\"callback\":null,\"end\":2,\"start\":-2},\"id\":\"e0850647-1191-4fcf-ab8d-eeb5441c430d\",\"type\":\"Range1d\"}],\"root_ids\":[\"8e3868ab-2a83-4a9f-acc7-b7ad0e3cf745\"]},\"title\":\"Bokeh Application\",\"version\":\"0.12.1\"}};\n",
       "            var render_items = [{\"docid\":\"371f6d2f-006b-4611-beb6-685b5d9d0028\",\"elementid\":\"68159af0-2310-430f-812b-8c8b23627315\",\"modelid\":\"8e3868ab-2a83-4a9f-acc7-b7ad0e3cf745\",\"notebook_comms_target\":\"ad7b74bb-42b5-416c-9a5d-8fc7b5ebb11a\"}];\n",
       "            \n",
       "            Bokeh.embed.embed_items(docs_json, render_items);\n",
       "        });\n",
       "      },\n",
       "      function(Bokeh) {\n",
       "      }\n",
       "    ];\n",
       "  \n",
       "    function run_inline_js() {\n",
       "      for (var i = 0; i < inline_js.length; i++) {\n",
       "        inline_js[i](window.Bokeh);\n",
       "      }\n",
       "    }\n",
       "  \n",
       "    if (window._bokeh_is_loading === 0) {\n",
       "      console.log(\"Bokeh: BokehJS loaded, going straight to plotting\");\n",
       "      run_inline_js();\n",
       "    } else {\n",
       "      load_libs(js_urls, function() {\n",
       "        console.log(\"Bokeh: BokehJS plotting callback run at\", now());\n",
       "        run_inline_js();\n",
       "      });\n",
       "    }\n",
       "  }(this));\n",
       "</script>"
      ]
     },
     "metadata": {},
     "output_type": "display_data"
    },
    {
     "data": {
      "text/html": [
       "<p><code>&lt;Bokeh Notebook handle for <strong>In[16]</strong>&gt;</code></p>"
      ],
      "text/plain": [
       "<bokeh.io._CommsHandle at 0x10b9d5050>"
      ]
     },
     "execution_count": 16,
     "metadata": {},
     "output_type": "execute_result"
    }
   ],
   "source": [
    "# a finite region\n",
    "center = BoxAnnotation(top=0.6, bottom=-0.3, left=7, right=12, fill_alpha=0.1, fill_color='navy')\n",
    "p.add_layout(center)\n",
    "\n",
    "show(p)"
   ]
  },
  {
   "cell_type": "markdown",
   "metadata": {
    "collapsed": true
   },
   "source": [
    "## Label\n",
    "\n",
    "The `Label` annoation allows you to easily attach single text labels to plots. The position and text to display are configured as `x`, `y`, and `text`:\n",
    "\n",
    "```python\n",
    "Label(x=10, y=5, text=\"Some Label\")\n",
    "```\n",
    "\n",
    "By default the units are in \"data space\" but `x_units` and `y_units` maybe set to `\"screen\"` to position the label relative to the canvas. Labels can also accept `x_offset` and `y_offset` to offset the final position from `x` and `y` by a given screen space distance. \n",
    "\n",
    "`Label` objects also have standard text, line (`border_line`) and fill (`background_fill`) properties. The line and fill properties apply to a bounding box around the text:\n",
    "\n",
    "```python\n",
    "Label(x=10, y=5, text=\"Some Label\", text_font_size=\"12pt\", \n",
    "      border_line_color=\"red\", background_fill_color=\"blue\")\n",
    "```"
   ]
  },
  {
   "cell_type": "code",
   "execution_count": 17,
   "metadata": {
    "collapsed": true
   },
   "outputs": [],
   "source": [
    "from bokeh.models.annotations import Label\n",
    "from bokeh.plotting import figure"
   ]
  },
  {
   "cell_type": "code",
   "execution_count": 18,
   "metadata": {
    "collapsed": false
   },
   "outputs": [
    {
     "data": {
      "text/plain": [
       "<bokeh.models.renderers.GlyphRenderer at 0x10b9d5150>"
      ]
     },
     "execution_count": 18,
     "metadata": {},
     "output_type": "execute_result"
    }
   ],
   "source": [
    "p = figure(x_range=(0,10), y_range=(0,10))\n",
    "p.circle([2, 5, 8], [4, 7, 6], color=\"olive\", size=10)"
   ]
  },
  {
   "cell_type": "code",
   "execution_count": 19,
   "metadata": {
    "collapsed": true
   },
   "outputs": [],
   "source": [
    "label = Label(x=5, y=7, x_offset=12, text=\"Second Point\", text_baseline=\"middle\")\n",
    "p.add_layout(label)"
   ]
  },
  {
   "cell_type": "code",
   "execution_count": 20,
   "metadata": {
    "collapsed": false
   },
   "outputs": [
    {
     "data": {
      "text/html": [
       "\n",
       "\n",
       "    <div class=\"bk-root\">\n",
       "        <div class=\"plotdiv\" id=\"5105da5b-adfa-4fb8-9596-6c764121738c\"></div>\n",
       "    </div>\n",
       "<script type=\"text/javascript\">\n",
       "  \n",
       "  (function(global) {\n",
       "    function now() {\n",
       "      return new Date();\n",
       "    }\n",
       "  \n",
       "    var force = \"\";\n",
       "  \n",
       "    if (typeof (window._bokeh_onload_callbacks) === \"undefined\" || force !== \"\") {\n",
       "      window._bokeh_onload_callbacks = [];\n",
       "      window._bokeh_is_loading = undefined;\n",
       "    }\n",
       "  \n",
       "    function run_callbacks() {\n",
       "      window._bokeh_onload_callbacks.forEach(function(callback) { callback() });\n",
       "      delete window._bokeh_onload_callbacks\n",
       "      console.info(\"Bokeh: all callbacks have finished\");\n",
       "    }\n",
       "  \n",
       "    function load_libs(js_urls, callback) {\n",
       "      window._bokeh_onload_callbacks.push(callback);\n",
       "      if (window._bokeh_is_loading > 0) {\n",
       "        console.log(\"Bokeh: BokehJS is being loaded, scheduling callback at\", now());\n",
       "        return null;\n",
       "      }\n",
       "      if (js_urls == null || js_urls.length === 0) {\n",
       "        run_callbacks();\n",
       "        return null;\n",
       "      }\n",
       "      console.log(\"Bokeh: BokehJS not loaded, scheduling load and callback at\", now());\n",
       "      window._bokeh_is_loading = js_urls.length;\n",
       "      for (var i = 0; i < js_urls.length; i++) {\n",
       "        var url = js_urls[i];\n",
       "        var s = document.createElement('script');\n",
       "        s.src = url;\n",
       "        s.async = false;\n",
       "        s.onreadystatechange = s.onload = function() {\n",
       "          window._bokeh_is_loading--;\n",
       "          if (window._bokeh_is_loading === 0) {\n",
       "            console.log(\"Bokeh: all BokehJS libraries loaded\");\n",
       "            run_callbacks()\n",
       "          }\n",
       "        };\n",
       "        s.onerror = function() {\n",
       "          console.warn(\"failed to load library \" + url);\n",
       "        };\n",
       "        console.log(\"Bokeh: injecting script tag for BokehJS library: \", url);\n",
       "        document.getElementsByTagName(\"head\")[0].appendChild(s);\n",
       "      }\n",
       "    };var element = document.getElementById(\"5105da5b-adfa-4fb8-9596-6c764121738c\");\n",
       "    if (element == null) {\n",
       "      console.log(\"Bokeh: ERROR: autoload.js configured with elementid '5105da5b-adfa-4fb8-9596-6c764121738c' but no matching script tag was found. \")\n",
       "      return false;\n",
       "    }\n",
       "  \n",
       "    var js_urls = [];\n",
       "  \n",
       "    var inline_js = [\n",
       "      function(Bokeh) {\n",
       "        Bokeh.$(function() {\n",
       "            var docs_json = {\"aad7ece3-db55-4752-91c9-06625037e2ad\":{\"roots\":{\"references\":[{\"attributes\":{\"plot\":null,\"text\":null},\"id\":\"092870bf-c014-4613-82db-0797065b9f4c\",\"type\":\"Title\"},{\"attributes\":{\"bottom_units\":\"screen\",\"fill_alpha\":{\"value\":0.5},\"fill_color\":{\"value\":\"lightgrey\"},\"left_units\":\"screen\",\"level\":\"overlay\",\"line_alpha\":{\"value\":1.0},\"line_color\":{\"value\":\"black\"},\"line_dash\":[4,4],\"line_width\":{\"value\":2},\"plot\":null,\"render_mode\":\"css\",\"right_units\":\"screen\",\"top_units\":\"screen\"},\"id\":\"180e2ad7-aee1-4524-b6fa-0a5f03e8266c\",\"type\":\"BoxAnnotation\"},{\"attributes\":{\"callback\":null,\"column_names\":[\"y\",\"x\"],\"data\":{\"x\":[2,5,8],\"y\":[4,7,6]}},\"id\":\"771f03c8-90f4-44d8-8169-42f7f64d60c4\",\"type\":\"ColumnDataSource\"},{\"attributes\":{\"plot\":{\"id\":\"cca675da-ea8a-4359-b2b0-0a419b549204\",\"subtype\":\"Figure\",\"type\":\"Plot\"},\"text\":\"Second Point\",\"text_baseline\":\"middle\",\"x\":5,\"x_offset\":12,\"y\":7},\"id\":\"2b4cb7d6-6d00-46fc-a766-000dc01ea250\",\"type\":\"Label\"},{\"attributes\":{},\"id\":\"31bffc3e-2db2-4140-a042-10b271a5e807\",\"type\":\"BasicTickFormatter\"},{\"attributes\":{},\"id\":\"8487ebb5-d82a-42b3-bb60-63a807ca1ae5\",\"type\":\"BasicTickFormatter\"},{\"attributes\":{\"plot\":{\"id\":\"cca675da-ea8a-4359-b2b0-0a419b549204\",\"subtype\":\"Figure\",\"type\":\"Plot\"}},\"id\":\"26ec1318-2f7e-46c8-afdd-418663f005cc\",\"type\":\"HelpTool\"},{\"attributes\":{},\"id\":\"f69b67f6-e499-402c-b1af-389ab783e66a\",\"type\":\"BasicTicker\"},{\"attributes\":{},\"id\":\"796b8b2d-b8c5-47b9-ba26-05b934fdf962\",\"type\":\"BasicTicker\"},{\"attributes\":{\"fill_color\":{\"value\":\"olive\"},\"line_color\":{\"value\":\"olive\"},\"size\":{\"units\":\"screen\",\"value\":10},\"x\":{\"field\":\"x\"},\"y\":{\"field\":\"y\"}},\"id\":\"79b95692-dfc3-411c-a1aa-367366a5de16\",\"type\":\"Circle\"},{\"attributes\":{\"overlay\":{\"id\":\"180e2ad7-aee1-4524-b6fa-0a5f03e8266c\",\"type\":\"BoxAnnotation\"},\"plot\":{\"id\":\"cca675da-ea8a-4359-b2b0-0a419b549204\",\"subtype\":\"Figure\",\"type\":\"Plot\"}},\"id\":\"501be061-eb85-4713-92d3-9459af2fbffd\",\"type\":\"BoxZoomTool\"},{\"attributes\":{\"data_source\":{\"id\":\"771f03c8-90f4-44d8-8169-42f7f64d60c4\",\"type\":\"ColumnDataSource\"},\"glyph\":{\"id\":\"79b95692-dfc3-411c-a1aa-367366a5de16\",\"type\":\"Circle\"},\"hover_glyph\":null,\"nonselection_glyph\":{\"id\":\"251d66ea-3f3b-4d9a-b220-69250e96cc39\",\"type\":\"Circle\"},\"selection_glyph\":null},\"id\":\"8127d391-b8a0-46ff-964d-a56f3b3a1dba\",\"type\":\"GlyphRenderer\"},{\"attributes\":{\"callback\":null,\"end\":10},\"id\":\"a5a608ca-4d4f-49b6-8828-100787c283c0\",\"type\":\"Range1d\"},{\"attributes\":{\"plot\":{\"id\":\"cca675da-ea8a-4359-b2b0-0a419b549204\",\"subtype\":\"Figure\",\"type\":\"Plot\"},\"ticker\":{\"id\":\"796b8b2d-b8c5-47b9-ba26-05b934fdf962\",\"type\":\"BasicTicker\"}},\"id\":\"d3e6a471-e974-4a38-af14-c97eadde3a24\",\"type\":\"Grid\"},{\"attributes\":{\"below\":[{\"id\":\"a93857cc-91cc-4b65-8d4b-1cce156d9f48\",\"type\":\"LinearAxis\"}],\"left\":[{\"id\":\"643b1c70-ea2c-4b09-95eb-8507865b1978\",\"type\":\"LinearAxis\"}],\"renderers\":[{\"id\":\"a93857cc-91cc-4b65-8d4b-1cce156d9f48\",\"type\":\"LinearAxis\"},{\"id\":\"d3e6a471-e974-4a38-af14-c97eadde3a24\",\"type\":\"Grid\"},{\"id\":\"643b1c70-ea2c-4b09-95eb-8507865b1978\",\"type\":\"LinearAxis\"},{\"id\":\"c02a6c88-69af-40ba-a48e-c522b7520dc7\",\"type\":\"Grid\"},{\"id\":\"180e2ad7-aee1-4524-b6fa-0a5f03e8266c\",\"type\":\"BoxAnnotation\"},{\"id\":\"8127d391-b8a0-46ff-964d-a56f3b3a1dba\",\"type\":\"GlyphRenderer\"},{\"id\":\"2b4cb7d6-6d00-46fc-a766-000dc01ea250\",\"type\":\"Label\"}],\"title\":{\"id\":\"092870bf-c014-4613-82db-0797065b9f4c\",\"type\":\"Title\"},\"tool_events\":{\"id\":\"a90db488-e239-4c6f-b232-b891022ad78b\",\"type\":\"ToolEvents\"},\"toolbar\":{\"id\":\"5012bef3-ea22-4803-8f41-a72b3e9b4ce8\",\"type\":\"Toolbar\"},\"x_range\":{\"id\":\"a5a608ca-4d4f-49b6-8828-100787c283c0\",\"type\":\"Range1d\"},\"y_range\":{\"id\":\"27d07cdc-1cc0-46c1-9027-ba6cef096488\",\"type\":\"Range1d\"}},\"id\":\"cca675da-ea8a-4359-b2b0-0a419b549204\",\"subtype\":\"Figure\",\"type\":\"Plot\"},{\"attributes\":{\"callback\":null,\"end\":10},\"id\":\"27d07cdc-1cc0-46c1-9027-ba6cef096488\",\"type\":\"Range1d\"},{\"attributes\":{\"fill_alpha\":{\"value\":0.1},\"fill_color\":{\"value\":\"#1f77b4\"},\"line_alpha\":{\"value\":0.1},\"line_color\":{\"value\":\"#1f77b4\"},\"size\":{\"units\":\"screen\",\"value\":10},\"x\":{\"field\":\"x\"},\"y\":{\"field\":\"y\"}},\"id\":\"251d66ea-3f3b-4d9a-b220-69250e96cc39\",\"type\":\"Circle\"},{\"attributes\":{\"plot\":{\"id\":\"cca675da-ea8a-4359-b2b0-0a419b549204\",\"subtype\":\"Figure\",\"type\":\"Plot\"}},\"id\":\"c22be5ce-22e0-427b-899d-b53538c47592\",\"type\":\"PanTool\"},{\"attributes\":{\"formatter\":{\"id\":\"8487ebb5-d82a-42b3-bb60-63a807ca1ae5\",\"type\":\"BasicTickFormatter\"},\"plot\":{\"id\":\"cca675da-ea8a-4359-b2b0-0a419b549204\",\"subtype\":\"Figure\",\"type\":\"Plot\"},\"ticker\":{\"id\":\"796b8b2d-b8c5-47b9-ba26-05b934fdf962\",\"type\":\"BasicTicker\"}},\"id\":\"a93857cc-91cc-4b65-8d4b-1cce156d9f48\",\"type\":\"LinearAxis\"},{\"attributes\":{\"plot\":{\"id\":\"cca675da-ea8a-4359-b2b0-0a419b549204\",\"subtype\":\"Figure\",\"type\":\"Plot\"}},\"id\":\"05072e14-5c95-4c18-86df-efb2b2fff793\",\"type\":\"ResetTool\"},{\"attributes\":{\"formatter\":{\"id\":\"31bffc3e-2db2-4140-a042-10b271a5e807\",\"type\":\"BasicTickFormatter\"},\"plot\":{\"id\":\"cca675da-ea8a-4359-b2b0-0a419b549204\",\"subtype\":\"Figure\",\"type\":\"Plot\"},\"ticker\":{\"id\":\"f69b67f6-e499-402c-b1af-389ab783e66a\",\"type\":\"BasicTicker\"}},\"id\":\"643b1c70-ea2c-4b09-95eb-8507865b1978\",\"type\":\"LinearAxis\"},{\"attributes\":{},\"id\":\"a90db488-e239-4c6f-b232-b891022ad78b\",\"type\":\"ToolEvents\"},{\"attributes\":{\"active_drag\":\"auto\",\"active_scroll\":\"auto\",\"active_tap\":\"auto\",\"tools\":[{\"id\":\"c22be5ce-22e0-427b-899d-b53538c47592\",\"type\":\"PanTool\"},{\"id\":\"e4db2784-c2e0-43fb-9501-e9f8cde13af4\",\"type\":\"WheelZoomTool\"},{\"id\":\"501be061-eb85-4713-92d3-9459af2fbffd\",\"type\":\"BoxZoomTool\"},{\"id\":\"f8a02a1d-57e8-42c7-9a0f-01e34a791c57\",\"type\":\"SaveTool\"},{\"id\":\"05072e14-5c95-4c18-86df-efb2b2fff793\",\"type\":\"ResetTool\"},{\"id\":\"26ec1318-2f7e-46c8-afdd-418663f005cc\",\"type\":\"HelpTool\"}]},\"id\":\"5012bef3-ea22-4803-8f41-a72b3e9b4ce8\",\"type\":\"Toolbar\"},{\"attributes\":{\"plot\":{\"id\":\"cca675da-ea8a-4359-b2b0-0a419b549204\",\"subtype\":\"Figure\",\"type\":\"Plot\"}},\"id\":\"f8a02a1d-57e8-42c7-9a0f-01e34a791c57\",\"type\":\"SaveTool\"},{\"attributes\":{\"dimension\":1,\"plot\":{\"id\":\"cca675da-ea8a-4359-b2b0-0a419b549204\",\"subtype\":\"Figure\",\"type\":\"Plot\"},\"ticker\":{\"id\":\"f69b67f6-e499-402c-b1af-389ab783e66a\",\"type\":\"BasicTicker\"}},\"id\":\"c02a6c88-69af-40ba-a48e-c522b7520dc7\",\"type\":\"Grid\"},{\"attributes\":{\"plot\":{\"id\":\"cca675da-ea8a-4359-b2b0-0a419b549204\",\"subtype\":\"Figure\",\"type\":\"Plot\"}},\"id\":\"e4db2784-c2e0-43fb-9501-e9f8cde13af4\",\"type\":\"WheelZoomTool\"}],\"root_ids\":[\"cca675da-ea8a-4359-b2b0-0a419b549204\"]},\"title\":\"Bokeh Application\",\"version\":\"0.12.1\"}};\n",
       "            var render_items = [{\"docid\":\"aad7ece3-db55-4752-91c9-06625037e2ad\",\"elementid\":\"5105da5b-adfa-4fb8-9596-6c764121738c\",\"modelid\":\"cca675da-ea8a-4359-b2b0-0a419b549204\",\"notebook_comms_target\":\"b71c3ac0-0a2e-4752-abe1-000cd4763e6b\"}];\n",
       "            \n",
       "            Bokeh.embed.embed_items(docs_json, render_items);\n",
       "        });\n",
       "      },\n",
       "      function(Bokeh) {\n",
       "      }\n",
       "    ];\n",
       "  \n",
       "    function run_inline_js() {\n",
       "      for (var i = 0; i < inline_js.length; i++) {\n",
       "        inline_js[i](window.Bokeh);\n",
       "      }\n",
       "    }\n",
       "  \n",
       "    if (window._bokeh_is_loading === 0) {\n",
       "      console.log(\"Bokeh: BokehJS loaded, going straight to plotting\");\n",
       "      run_inline_js();\n",
       "    } else {\n",
       "      load_libs(js_urls, function() {\n",
       "        console.log(\"Bokeh: BokehJS plotting callback run at\", now());\n",
       "        run_inline_js();\n",
       "      });\n",
       "    }\n",
       "  }(this));\n",
       "</script>"
      ]
     },
     "metadata": {},
     "output_type": "display_data"
    },
    {
     "data": {
      "text/html": [
       "<p><code>&lt;Bokeh Notebook handle for <strong>In[20]</strong>&gt;</code></p>"
      ],
      "text/plain": [
       "<bokeh.io._CommsHandle at 0x10b9f1290>"
      ]
     },
     "execution_count": 20,
     "metadata": {},
     "output_type": "execute_result"
    }
   ],
   "source": [
    "show(p)"
   ]
  },
  {
   "cell_type": "code",
   "execution_count": 7,
   "metadata": {
    "collapsed": true
   },
   "outputs": [],
   "source": [
    "# EXERCISE: experiment with Label\n",
    "\n"
   ]
  },
  {
   "cell_type": "markdown",
   "metadata": {
    "collapsed": true
   },
   "source": [
    "## LabelSet\n",
    "\n",
    "The `LabelSet` annotation allows you to create many labels at once, for instance if you want to label an entire set of scatter markers. They are similar to `Label`, but they can also \n",
    "accept a `ColumnDataSource` as the `source` property, and then `x` and `y` may refer to columns in the data source, e.g. `x=\"col2\"` (but may also still be fixed values, e.g. `x=10`)."
   ]
  },
  {
   "cell_type": "code",
   "execution_count": 21,
   "metadata": {
    "collapsed": true
   },
   "outputs": [],
   "source": [
    "from bokeh.plotting import figure\n",
    "from bokeh.models import ColumnDataSource, LabelSet"
   ]
  },
  {
   "cell_type": "code",
   "execution_count": 22,
   "metadata": {
    "collapsed": true
   },
   "outputs": [],
   "source": [
    "source = ColumnDataSource(data=dict(\n",
    "    temp=[166, 171, 172, 168, 174, 162],\n",
    "    pressure=[165, 189, 220, 141, 260, 174],\n",
    "    names=['A', 'B', 'C', 'D', 'E', 'F']))"
   ]
  },
  {
   "cell_type": "code",
   "execution_count": 23,
   "metadata": {
    "collapsed": true
   },
   "outputs": [],
   "source": [
    "p = figure(x_range=(160, 175))"
   ]
  },
  {
   "cell_type": "code",
   "execution_count": 24,
   "metadata": {
    "collapsed": true
   },
   "outputs": [],
   "source": [
    "p.scatter(x='temp', y='pressure', size=8, source=source)\n",
    "p.xaxis.axis_label = 'Temperature (C)'\n",
    "p.yaxis.axis_label = 'Pressure (lbs)'"
   ]
  },
  {
   "cell_type": "code",
   "execution_count": 25,
   "metadata": {
    "collapsed": true
   },
   "outputs": [],
   "source": [
    "labels = LabelSet(x='temp', y='pressure', text='names', level='glyph',\n",
    "                  x_offset=5, y_offset=5, source=source, render_mode='canvas')"
   ]
  },
  {
   "cell_type": "code",
   "execution_count": 26,
   "metadata": {
    "collapsed": false
   },
   "outputs": [
    {
     "data": {
      "text/html": [
       "\n",
       "\n",
       "    <div class=\"bk-root\">\n",
       "        <div class=\"plotdiv\" id=\"98d61881-68fc-4372-a9f7-75720b7bc977\"></div>\n",
       "    </div>\n",
       "<script type=\"text/javascript\">\n",
       "  \n",
       "  (function(global) {\n",
       "    function now() {\n",
       "      return new Date();\n",
       "    }\n",
       "  \n",
       "    var force = \"\";\n",
       "  \n",
       "    if (typeof (window._bokeh_onload_callbacks) === \"undefined\" || force !== \"\") {\n",
       "      window._bokeh_onload_callbacks = [];\n",
       "      window._bokeh_is_loading = undefined;\n",
       "    }\n",
       "  \n",
       "    function run_callbacks() {\n",
       "      window._bokeh_onload_callbacks.forEach(function(callback) { callback() });\n",
       "      delete window._bokeh_onload_callbacks\n",
       "      console.info(\"Bokeh: all callbacks have finished\");\n",
       "    }\n",
       "  \n",
       "    function load_libs(js_urls, callback) {\n",
       "      window._bokeh_onload_callbacks.push(callback);\n",
       "      if (window._bokeh_is_loading > 0) {\n",
       "        console.log(\"Bokeh: BokehJS is being loaded, scheduling callback at\", now());\n",
       "        return null;\n",
       "      }\n",
       "      if (js_urls == null || js_urls.length === 0) {\n",
       "        run_callbacks();\n",
       "        return null;\n",
       "      }\n",
       "      console.log(\"Bokeh: BokehJS not loaded, scheduling load and callback at\", now());\n",
       "      window._bokeh_is_loading = js_urls.length;\n",
       "      for (var i = 0; i < js_urls.length; i++) {\n",
       "        var url = js_urls[i];\n",
       "        var s = document.createElement('script');\n",
       "        s.src = url;\n",
       "        s.async = false;\n",
       "        s.onreadystatechange = s.onload = function() {\n",
       "          window._bokeh_is_loading--;\n",
       "          if (window._bokeh_is_loading === 0) {\n",
       "            console.log(\"Bokeh: all BokehJS libraries loaded\");\n",
       "            run_callbacks()\n",
       "          }\n",
       "        };\n",
       "        s.onerror = function() {\n",
       "          console.warn(\"failed to load library \" + url);\n",
       "        };\n",
       "        console.log(\"Bokeh: injecting script tag for BokehJS library: \", url);\n",
       "        document.getElementsByTagName(\"head\")[0].appendChild(s);\n",
       "      }\n",
       "    };var element = document.getElementById(\"98d61881-68fc-4372-a9f7-75720b7bc977\");\n",
       "    if (element == null) {\n",
       "      console.log(\"Bokeh: ERROR: autoload.js configured with elementid '98d61881-68fc-4372-a9f7-75720b7bc977' but no matching script tag was found. \")\n",
       "      return false;\n",
       "    }\n",
       "  \n",
       "    var js_urls = [];\n",
       "  \n",
       "    var inline_js = [\n",
       "      function(Bokeh) {\n",
       "        Bokeh.$(function() {\n",
       "            var docs_json = {\"69cfd951-64ff-440d-b6c9-385867914a3c\":{\"roots\":{\"references\":[{\"attributes\":{\"callback\":null,\"end\":175,\"start\":160},\"id\":\"2ac73593-4086-4fcf-82b0-04959bb2fb17\",\"type\":\"Range1d\"},{\"attributes\":{},\"id\":\"acbbd1a2-3760-4776-974f-31703b7cf363\",\"type\":\"BasicTicker\"},{\"attributes\":{\"fill_color\":{\"value\":\"#1f77b4\"},\"line_color\":{\"value\":\"#1f77b4\"},\"size\":{\"units\":\"screen\",\"value\":8},\"x\":{\"field\":\"temp\"},\"y\":{\"field\":\"pressure\"}},\"id\":\"7f93c62a-7681-4541-9658-f039da5b8cb6\",\"type\":\"Circle\"},{\"attributes\":{\"level\":\"glyph\",\"plot\":{\"id\":\"3503110a-59a4-41ce-915a-d4a0049896fd\",\"subtype\":\"Figure\",\"type\":\"Plot\"},\"source\":{\"id\":\"b491a858-7cb9-4ade-8e77-c9fd8c06aef1\",\"type\":\"ColumnDataSource\"},\"text\":{\"field\":\"names\"},\"x\":{\"field\":\"temp\"},\"x_offset\":{\"value\":5},\"y\":{\"field\":\"pressure\"},\"y_offset\":{\"value\":5}},\"id\":\"86b0a4f1-a9e9-4d4d-b2b8-bb1106b2775f\",\"type\":\"LabelSet\"},{\"attributes\":{\"axis_label\":\"Pressure (lbs)\",\"formatter\":{\"id\":\"a4018cb4-99ca-475f-bcdd-bccbf1bcc692\",\"type\":\"BasicTickFormatter\"},\"plot\":{\"id\":\"3503110a-59a4-41ce-915a-d4a0049896fd\",\"subtype\":\"Figure\",\"type\":\"Plot\"},\"ticker\":{\"id\":\"acbbd1a2-3760-4776-974f-31703b7cf363\",\"type\":\"BasicTicker\"}},\"id\":\"c9e0464c-14a1-4cf8-b82c-4c4dfdb70cd0\",\"type\":\"LinearAxis\"},{\"attributes\":{},\"id\":\"a4018cb4-99ca-475f-bcdd-bccbf1bcc692\",\"type\":\"BasicTickFormatter\"},{\"attributes\":{},\"id\":\"da18a7aa-e4d4-4dfa-838f-c13e7307618c\",\"type\":\"BasicTicker\"},{\"attributes\":{\"plot\":{\"id\":\"3503110a-59a4-41ce-915a-d4a0049896fd\",\"subtype\":\"Figure\",\"type\":\"Plot\"}},\"id\":\"c512e19e-a388-42cf-92c5-b28d9ac18025\",\"type\":\"ResetTool\"},{\"attributes\":{\"callback\":null},\"id\":\"e29b4265-bd74-4752-a945-0af0feade45a\",\"type\":\"DataRange1d\"},{\"attributes\":{\"plot\":{\"id\":\"3503110a-59a4-41ce-915a-d4a0049896fd\",\"subtype\":\"Figure\",\"type\":\"Plot\"}},\"id\":\"5b5ebaa8-f963-477d-8612-e90aa90b77e3\",\"type\":\"HelpTool\"},{\"attributes\":{},\"id\":\"de7f9559-9697-4c9c-a4ba-5ee28fcd3914\",\"type\":\"BasicTickFormatter\"},{\"attributes\":{\"plot\":{\"id\":\"3503110a-59a4-41ce-915a-d4a0049896fd\",\"subtype\":\"Figure\",\"type\":\"Plot\"}},\"id\":\"ec6155bd-d182-43ca-8b7a-9f3476f4e3c6\",\"type\":\"SaveTool\"},{\"attributes\":{\"plot\":{\"id\":\"3503110a-59a4-41ce-915a-d4a0049896fd\",\"subtype\":\"Figure\",\"type\":\"Plot\"},\"ticker\":{\"id\":\"da18a7aa-e4d4-4dfa-838f-c13e7307618c\",\"type\":\"BasicTicker\"}},\"id\":\"3d95b1ee-106b-4fde-ac7a-ec3362367f1b\",\"type\":\"Grid\"},{\"attributes\":{\"callback\":null,\"column_names\":[\"pressure\",\"names\",\"temp\"],\"data\":{\"names\":[\"A\",\"B\",\"C\",\"D\",\"E\",\"F\"],\"pressure\":[165,189,220,141,260,174],\"temp\":[166,171,172,168,174,162]}},\"id\":\"b491a858-7cb9-4ade-8e77-c9fd8c06aef1\",\"type\":\"ColumnDataSource\"},{\"attributes\":{\"overlay\":{\"id\":\"0e00f0e9-1cba-4b20-8da4-6914c4375490\",\"type\":\"BoxAnnotation\"},\"plot\":{\"id\":\"3503110a-59a4-41ce-915a-d4a0049896fd\",\"subtype\":\"Figure\",\"type\":\"Plot\"}},\"id\":\"91de2446-b5f1-4152-be21-814d05f333a8\",\"type\":\"BoxZoomTool\"},{\"attributes\":{\"plot\":null,\"text\":null},\"id\":\"9f9d7254-2440-4c9d-8251-4181b8b62067\",\"type\":\"Title\"},{\"attributes\":{\"plot\":{\"id\":\"3503110a-59a4-41ce-915a-d4a0049896fd\",\"subtype\":\"Figure\",\"type\":\"Plot\"}},\"id\":\"c650401b-46fe-4316-ac31-f01500da2d35\",\"type\":\"PanTool\"},{\"attributes\":{\"plot\":{\"id\":\"3503110a-59a4-41ce-915a-d4a0049896fd\",\"subtype\":\"Figure\",\"type\":\"Plot\"}},\"id\":\"35374b1f-d5b6-4812-a747-4b246fe43bbf\",\"type\":\"WheelZoomTool\"},{\"attributes\":{},\"id\":\"fb8e2690-9eb1-4b55-8a8d-5148ecc4a437\",\"type\":\"ToolEvents\"},{\"attributes\":{\"bottom_units\":\"screen\",\"fill_alpha\":{\"value\":0.5},\"fill_color\":{\"value\":\"lightgrey\"},\"left_units\":\"screen\",\"level\":\"overlay\",\"line_alpha\":{\"value\":1.0},\"line_color\":{\"value\":\"black\"},\"line_dash\":[4,4],\"line_width\":{\"value\":2},\"plot\":null,\"render_mode\":\"css\",\"right_units\":\"screen\",\"top_units\":\"screen\"},\"id\":\"0e00f0e9-1cba-4b20-8da4-6914c4375490\",\"type\":\"BoxAnnotation\"},{\"attributes\":{\"fill_alpha\":{\"value\":0.1},\"fill_color\":{\"value\":\"#1f77b4\"},\"line_alpha\":{\"value\":0.1},\"line_color\":{\"value\":\"#1f77b4\"},\"size\":{\"units\":\"screen\",\"value\":8},\"x\":{\"field\":\"temp\"},\"y\":{\"field\":\"pressure\"}},\"id\":\"0c1c1939-a7fb-40f4-8c02-30a63ab5ec30\",\"type\":\"Circle\"},{\"attributes\":{\"active_drag\":\"auto\",\"active_scroll\":\"auto\",\"active_tap\":\"auto\",\"tools\":[{\"id\":\"c650401b-46fe-4316-ac31-f01500da2d35\",\"type\":\"PanTool\"},{\"id\":\"35374b1f-d5b6-4812-a747-4b246fe43bbf\",\"type\":\"WheelZoomTool\"},{\"id\":\"91de2446-b5f1-4152-be21-814d05f333a8\",\"type\":\"BoxZoomTool\"},{\"id\":\"ec6155bd-d182-43ca-8b7a-9f3476f4e3c6\",\"type\":\"SaveTool\"},{\"id\":\"c512e19e-a388-42cf-92c5-b28d9ac18025\",\"type\":\"ResetTool\"},{\"id\":\"5b5ebaa8-f963-477d-8612-e90aa90b77e3\",\"type\":\"HelpTool\"}]},\"id\":\"3d3769db-8531-431b-ada0-62ed75801cd3\",\"type\":\"Toolbar\"},{\"attributes\":{\"below\":[{\"id\":\"f688dfe8-405a-40cf-a9a2-d85b0a789925\",\"type\":\"LinearAxis\"}],\"left\":[{\"id\":\"c9e0464c-14a1-4cf8-b82c-4c4dfdb70cd0\",\"type\":\"LinearAxis\"}],\"renderers\":[{\"id\":\"f688dfe8-405a-40cf-a9a2-d85b0a789925\",\"type\":\"LinearAxis\"},{\"id\":\"3d95b1ee-106b-4fde-ac7a-ec3362367f1b\",\"type\":\"Grid\"},{\"id\":\"c9e0464c-14a1-4cf8-b82c-4c4dfdb70cd0\",\"type\":\"LinearAxis\"},{\"id\":\"beb3c604-cdce-452d-bfd5-b710e80e5b20\",\"type\":\"Grid\"},{\"id\":\"0e00f0e9-1cba-4b20-8da4-6914c4375490\",\"type\":\"BoxAnnotation\"},{\"id\":\"9cb0726e-446c-4cea-bf4b-3259426d315a\",\"type\":\"GlyphRenderer\"},{\"id\":\"86b0a4f1-a9e9-4d4d-b2b8-bb1106b2775f\",\"type\":\"LabelSet\"}],\"title\":{\"id\":\"9f9d7254-2440-4c9d-8251-4181b8b62067\",\"type\":\"Title\"},\"tool_events\":{\"id\":\"fb8e2690-9eb1-4b55-8a8d-5148ecc4a437\",\"type\":\"ToolEvents\"},\"toolbar\":{\"id\":\"3d3769db-8531-431b-ada0-62ed75801cd3\",\"type\":\"Toolbar\"},\"x_range\":{\"id\":\"2ac73593-4086-4fcf-82b0-04959bb2fb17\",\"type\":\"Range1d\"},\"y_range\":{\"id\":\"e29b4265-bd74-4752-a945-0af0feade45a\",\"type\":\"DataRange1d\"}},\"id\":\"3503110a-59a4-41ce-915a-d4a0049896fd\",\"subtype\":\"Figure\",\"type\":\"Plot\"},{\"attributes\":{\"data_source\":{\"id\":\"b491a858-7cb9-4ade-8e77-c9fd8c06aef1\",\"type\":\"ColumnDataSource\"},\"glyph\":{\"id\":\"7f93c62a-7681-4541-9658-f039da5b8cb6\",\"type\":\"Circle\"},\"hover_glyph\":null,\"nonselection_glyph\":{\"id\":\"0c1c1939-a7fb-40f4-8c02-30a63ab5ec30\",\"type\":\"Circle\"},\"selection_glyph\":null},\"id\":\"9cb0726e-446c-4cea-bf4b-3259426d315a\",\"type\":\"GlyphRenderer\"},{\"attributes\":{\"dimension\":1,\"plot\":{\"id\":\"3503110a-59a4-41ce-915a-d4a0049896fd\",\"subtype\":\"Figure\",\"type\":\"Plot\"},\"ticker\":{\"id\":\"acbbd1a2-3760-4776-974f-31703b7cf363\",\"type\":\"BasicTicker\"}},\"id\":\"beb3c604-cdce-452d-bfd5-b710e80e5b20\",\"type\":\"Grid\"},{\"attributes\":{\"axis_label\":\"Temperature (C)\",\"formatter\":{\"id\":\"de7f9559-9697-4c9c-a4ba-5ee28fcd3914\",\"type\":\"BasicTickFormatter\"},\"plot\":{\"id\":\"3503110a-59a4-41ce-915a-d4a0049896fd\",\"subtype\":\"Figure\",\"type\":\"Plot\"},\"ticker\":{\"id\":\"da18a7aa-e4d4-4dfa-838f-c13e7307618c\",\"type\":\"BasicTicker\"}},\"id\":\"f688dfe8-405a-40cf-a9a2-d85b0a789925\",\"type\":\"LinearAxis\"}],\"root_ids\":[\"3503110a-59a4-41ce-915a-d4a0049896fd\"]},\"title\":\"Bokeh Application\",\"version\":\"0.12.1\"}};\n",
       "            var render_items = [{\"docid\":\"69cfd951-64ff-440d-b6c9-385867914a3c\",\"elementid\":\"98d61881-68fc-4372-a9f7-75720b7bc977\",\"modelid\":\"3503110a-59a4-41ce-915a-d4a0049896fd\",\"notebook_comms_target\":\"7876fbe6-b0cb-4d98-95b9-093444c70943\"}];\n",
       "            \n",
       "            Bokeh.embed.embed_items(docs_json, render_items);\n",
       "        });\n",
       "      },\n",
       "      function(Bokeh) {\n",
       "      }\n",
       "    ];\n",
       "  \n",
       "    function run_inline_js() {\n",
       "      for (var i = 0; i < inline_js.length; i++) {\n",
       "        inline_js[i](window.Bokeh);\n",
       "      }\n",
       "    }\n",
       "  \n",
       "    if (window._bokeh_is_loading === 0) {\n",
       "      console.log(\"Bokeh: BokehJS loaded, going straight to plotting\");\n",
       "      run_inline_js();\n",
       "    } else {\n",
       "      load_libs(js_urls, function() {\n",
       "        console.log(\"Bokeh: BokehJS plotting callback run at\", now());\n",
       "        run_inline_js();\n",
       "      });\n",
       "    }\n",
       "  }(this));\n",
       "</script>"
      ]
     },
     "metadata": {},
     "output_type": "display_data"
    },
    {
     "data": {
      "text/html": [
       "<p><code>&lt;Bokeh Notebook handle for <strong>In[26]</strong>&gt;</code></p>"
      ],
      "text/plain": [
       "<bokeh.io._CommsHandle at 0x10b9d7ad0>"
      ]
     },
     "execution_count": 26,
     "metadata": {},
     "output_type": "execute_result"
    }
   ],
   "source": [
    "p.add_layout(labels)\n",
    "\n",
    "show(p)"
   ]
  },
  {
   "cell_type": "code",
   "execution_count": 9,
   "metadata": {
    "collapsed": true
   },
   "outputs": [],
   "source": [
    "# EXERCISE: experiment with LabelSet\n",
    "\n"
   ]
  },
  {
   "cell_type": "markdown",
   "metadata": {
    "collapsed": true
   },
   "source": [
    "## Arrows\n",
    "\n",
    "The `Arrow` annotation allows you to \"point\" at different things on your plot, and can be especially useful in conjuction with labels. \n",
    "\n",
    "For example, to create an arrow that points from `(0,0)` to `(1,1)`:\n",
    "\n",
    "```python\n",
    "p.add_layout(Arrow(x_start=0, y_start=0, x_end=1, y_end=0))\n",
    "```\n",
    "\n",
    "This arrow will have the default [`OpenHead`](http://bokeh.pydata.org/en/latest/docs/reference/models/arrow_heads.html#bokeh.models.arrow_heads.OpenHead) arrow head at the end of the arrow. Other kinds of arrow heads include [`NormalHead`](http://bokeh.pydata.org/en/latest/docs/reference/models/arrow_heads.html#bokeh.models.arrow_heads.NormalHead) and [`VeeHead`](http://bokeh.pydata.org/en/latest/docs/reference/models/arrow_heads.html#bokeh.models.arrow_heads.VeeHead). The arrow head type can be controlled by setting the `start` and `end` properties of `Arrow` objects:\n",
    "\n",
    "```python\n",
    "p.add_layout(Arrow(start=OpenHead(), end=VeeHead(), \n",
    "             x_start=0, y_start=0, x_end=1, y_end=0))\n",
    "```\n",
    "\n",
    "This will create a double-ended arrow with an \"open\" head at the start, and a \"vee\" head at the end. Arrowheads have the standard set of line and fill properties to control their appearance. As an example\n",
    "\n",
    "```python\n",
    "OpenHead(line_color=\"firebrick\", line_width=4)\n",
    "```\n",
    "\n",
    "The code and plot below shows several of these configurations together."
   ]
  },
  {
   "cell_type": "code",
   "execution_count": 27,
   "metadata": {
    "collapsed": true
   },
   "outputs": [],
   "source": [
    "from bokeh.models.annotations import Arrow\n",
    "from bokeh.models.arrow_heads import OpenHead, NormalHead, VeeHead"
   ]
  },
  {
   "cell_type": "code",
   "execution_count": 28,
   "metadata": {
    "collapsed": true
   },
   "outputs": [],
   "source": [
    "p = figure(plot_width=600, plot_height=600)"
   ]
  },
  {
   "cell_type": "code",
   "execution_count": 29,
   "metadata": {
    "collapsed": false
   },
   "outputs": [
    {
     "data": {
      "text/plain": [
       "<bokeh.models.renderers.GlyphRenderer at 0x10bb6a050>"
      ]
     },
     "execution_count": 29,
     "metadata": {},
     "output_type": "execute_result"
    }
   ],
   "source": [
    "p.circle(x=[0, 1, 0.5], y=[0, 0, 0.7], radius=0.1,\n",
    "         color=[\"navy\", \"yellow\", \"red\"], fill_alpha=0.1)"
   ]
  },
  {
   "cell_type": "code",
   "execution_count": 30,
   "metadata": {
    "collapsed": true
   },
   "outputs": [],
   "source": [
    "p.add_layout(Arrow(end=OpenHead(line_color=\"firebrick\", line_width=4),\n",
    "                   x_start=0, y_start=0, x_end=1, y_end=0))"
   ]
  },
  {
   "cell_type": "code",
   "execution_count": 31,
   "metadata": {
    "collapsed": true
   },
   "outputs": [],
   "source": [
    "p.add_layout(Arrow(end=NormalHead(fill_color=\"orange\"),\n",
    "                   x_start=1, y_start=0, x_end=0.5, y_end=0.7))"
   ]
  },
  {
   "cell_type": "code",
   "execution_count": 32,
   "metadata": {
    "collapsed": true
   },
   "outputs": [],
   "source": [
    "p.add_layout(Arrow(end=VeeHead(size=35), line_color=\"red\",\n",
    "                   x_start=0.5, y_start=0.7, x_end=0, y_end=0))"
   ]
  },
  {
   "cell_type": "code",
   "execution_count": 33,
   "metadata": {
    "collapsed": false
   },
   "outputs": [
    {
     "data": {
      "text/html": [
       "\n",
       "\n",
       "    <div class=\"bk-root\">\n",
       "        <div class=\"plotdiv\" id=\"6b1f9c17-2d04-4823-af72-ffcb49012b17\"></div>\n",
       "    </div>\n",
       "<script type=\"text/javascript\">\n",
       "  \n",
       "  (function(global) {\n",
       "    function now() {\n",
       "      return new Date();\n",
       "    }\n",
       "  \n",
       "    var force = \"\";\n",
       "  \n",
       "    if (typeof (window._bokeh_onload_callbacks) === \"undefined\" || force !== \"\") {\n",
       "      window._bokeh_onload_callbacks = [];\n",
       "      window._bokeh_is_loading = undefined;\n",
       "    }\n",
       "  \n",
       "    function run_callbacks() {\n",
       "      window._bokeh_onload_callbacks.forEach(function(callback) { callback() });\n",
       "      delete window._bokeh_onload_callbacks\n",
       "      console.info(\"Bokeh: all callbacks have finished\");\n",
       "    }\n",
       "  \n",
       "    function load_libs(js_urls, callback) {\n",
       "      window._bokeh_onload_callbacks.push(callback);\n",
       "      if (window._bokeh_is_loading > 0) {\n",
       "        console.log(\"Bokeh: BokehJS is being loaded, scheduling callback at\", now());\n",
       "        return null;\n",
       "      }\n",
       "      if (js_urls == null || js_urls.length === 0) {\n",
       "        run_callbacks();\n",
       "        return null;\n",
       "      }\n",
       "      console.log(\"Bokeh: BokehJS not loaded, scheduling load and callback at\", now());\n",
       "      window._bokeh_is_loading = js_urls.length;\n",
       "      for (var i = 0; i < js_urls.length; i++) {\n",
       "        var url = js_urls[i];\n",
       "        var s = document.createElement('script');\n",
       "        s.src = url;\n",
       "        s.async = false;\n",
       "        s.onreadystatechange = s.onload = function() {\n",
       "          window._bokeh_is_loading--;\n",
       "          if (window._bokeh_is_loading === 0) {\n",
       "            console.log(\"Bokeh: all BokehJS libraries loaded\");\n",
       "            run_callbacks()\n",
       "          }\n",
       "        };\n",
       "        s.onerror = function() {\n",
       "          console.warn(\"failed to load library \" + url);\n",
       "        };\n",
       "        console.log(\"Bokeh: injecting script tag for BokehJS library: \", url);\n",
       "        document.getElementsByTagName(\"head\")[0].appendChild(s);\n",
       "      }\n",
       "    };var element = document.getElementById(\"6b1f9c17-2d04-4823-af72-ffcb49012b17\");\n",
       "    if (element == null) {\n",
       "      console.log(\"Bokeh: ERROR: autoload.js configured with elementid '6b1f9c17-2d04-4823-af72-ffcb49012b17' but no matching script tag was found. \")\n",
       "      return false;\n",
       "    }\n",
       "  \n",
       "    var js_urls = [];\n",
       "  \n",
       "    var inline_js = [\n",
       "      function(Bokeh) {\n",
       "        Bokeh.$(function() {\n",
       "            var docs_json = {\"15e1c129-e9b0-404a-a401-a6f4a26f55aa\":{\"roots\":{\"references\":[{\"attributes\":{},\"id\":\"0c16cd42-1238-4910-a426-fa6e028c5b83\",\"type\":\"BasicTicker\"},{\"attributes\":{\"formatter\":{\"id\":\"19b30bc7-dfe8-4b97-98f0-49b669de9232\",\"type\":\"BasicTickFormatter\"},\"plot\":{\"id\":\"b9aba2ee-da5c-49ee-a063-87f5729f7967\",\"subtype\":\"Figure\",\"type\":\"Plot\"},\"ticker\":{\"id\":\"0c16cd42-1238-4910-a426-fa6e028c5b83\",\"type\":\"BasicTicker\"}},\"id\":\"d178ef4f-6ce3-476b-9d36-9cff7b85a930\",\"type\":\"LinearAxis\"},{\"attributes\":{\"plot\":{\"id\":\"b9aba2ee-da5c-49ee-a063-87f5729f7967\",\"subtype\":\"Figure\",\"type\":\"Plot\"},\"ticker\":{\"id\":\"fa6d9896-e438-4464-a99b-4aa78d572363\",\"type\":\"BasicTicker\"}},\"id\":\"693c0579-0d96-4bce-9fb5-939f37dc614f\",\"type\":\"Grid\"},{\"attributes\":{\"active_drag\":\"auto\",\"active_scroll\":\"auto\",\"active_tap\":\"auto\",\"tools\":[{\"id\":\"ee76a40c-5c2d-40ec-801e-7312e43eea16\",\"type\":\"PanTool\"},{\"id\":\"f29102dd-b4a5-4a97-ab13-4e10eb6d4756\",\"type\":\"WheelZoomTool\"},{\"id\":\"ed23481a-d729-4c22-9242-c1e58ee78760\",\"type\":\"BoxZoomTool\"},{\"id\":\"c0b80a83-3534-41a0-9040-0e3a309177a1\",\"type\":\"SaveTool\"},{\"id\":\"92fb77b7-b97b-4379-9e8c-175a7dc37b6c\",\"type\":\"ResetTool\"},{\"id\":\"8ca59616-f984-4376-971b-6f468dbe7304\",\"type\":\"HelpTool\"}]},\"id\":\"7542a735-4947-4672-9f4f-42d1770af8ad\",\"type\":\"Toolbar\"},{\"attributes\":{\"bottom_units\":\"screen\",\"fill_alpha\":{\"value\":0.5},\"fill_color\":{\"value\":\"lightgrey\"},\"left_units\":\"screen\",\"level\":\"overlay\",\"line_alpha\":{\"value\":1.0},\"line_color\":{\"value\":\"black\"},\"line_dash\":[4,4],\"line_width\":{\"value\":2},\"plot\":null,\"render_mode\":\"css\",\"right_units\":\"screen\",\"top_units\":\"screen\"},\"id\":\"80e8975e-5e6c-4cb0-b48a-0a5028bdda14\",\"type\":\"BoxAnnotation\"},{\"attributes\":{\"plot\":{\"id\":\"b9aba2ee-da5c-49ee-a063-87f5729f7967\",\"subtype\":\"Figure\",\"type\":\"Plot\"}},\"id\":\"ee76a40c-5c2d-40ec-801e-7312e43eea16\",\"type\":\"PanTool\"},{\"attributes\":{\"overlay\":{\"id\":\"80e8975e-5e6c-4cb0-b48a-0a5028bdda14\",\"type\":\"BoxAnnotation\"},\"plot\":{\"id\":\"b9aba2ee-da5c-49ee-a063-87f5729f7967\",\"subtype\":\"Figure\",\"type\":\"Plot\"}},\"id\":\"ed23481a-d729-4c22-9242-c1e58ee78760\",\"type\":\"BoxZoomTool\"},{\"attributes\":{\"plot\":{\"id\":\"b9aba2ee-da5c-49ee-a063-87f5729f7967\",\"subtype\":\"Figure\",\"type\":\"Plot\"}},\"id\":\"92fb77b7-b97b-4379-9e8c-175a7dc37b6c\",\"type\":\"ResetTool\"},{\"attributes\":{\"end\":{\"id\":\"53b5dd70-5228-4408-87ac-6449e3d5829b\",\"type\":\"OpenHead\"},\"plot\":{\"id\":\"b9aba2ee-da5c-49ee-a063-87f5729f7967\",\"subtype\":\"Figure\",\"type\":\"Plot\"},\"source\":null,\"start\":null,\"x_end\":{\"value\":1},\"x_start\":{\"value\":0},\"y_end\":{\"value\":0},\"y_start\":{\"value\":0}},\"id\":\"89e52b6f-7d95-4567-a59b-53ef5ac2f74f\",\"type\":\"Arrow\"},{\"attributes\":{\"callback\":null,\"column_names\":[\"y\",\"x\",\"line_color\",\"fill_color\"],\"data\":{\"fill_color\":[\"navy\",\"yellow\",\"red\"],\"line_color\":[\"navy\",\"yellow\",\"red\"],\"x\":[0.0,1.0,0.5],\"y\":[0.0,0.0,0.7]}},\"id\":\"6e6e0c8a-98af-4bcc-8f67-1f01847e5821\",\"type\":\"ColumnDataSource\"},{\"attributes\":{\"fill_color\":{\"value\":\"orange\"},\"plot\":null},\"id\":\"092a3df1-7554-40ed-ad31-983260dd7a20\",\"type\":\"NormalHead\"},{\"attributes\":{\"plot\":null,\"size\":35},\"id\":\"266ce397-8a5b-4947-a2e5-4776af8ad029\",\"type\":\"VeeHead\"},{\"attributes\":{\"plot\":{\"id\":\"b9aba2ee-da5c-49ee-a063-87f5729f7967\",\"subtype\":\"Figure\",\"type\":\"Plot\"}},\"id\":\"c0b80a83-3534-41a0-9040-0e3a309177a1\",\"type\":\"SaveTool\"},{\"attributes\":{\"fill_alpha\":{\"value\":0.1},\"fill_color\":{\"value\":\"#1f77b4\"},\"line_alpha\":{\"value\":0.1},\"line_color\":{\"value\":\"#1f77b4\"},\"radius\":{\"units\":\"data\",\"value\":0.1},\"x\":{\"field\":\"x\"},\"y\":{\"field\":\"y\"}},\"id\":\"ac7a4b6a-85bf-4ead-a84c-e78b92e9677b\",\"type\":\"Circle\"},{\"attributes\":{},\"id\":\"19b30bc7-dfe8-4b97-98f0-49b669de9232\",\"type\":\"BasicTickFormatter\"},{\"attributes\":{\"plot\":{\"id\":\"b9aba2ee-da5c-49ee-a063-87f5729f7967\",\"subtype\":\"Figure\",\"type\":\"Plot\"}},\"id\":\"f29102dd-b4a5-4a97-ab13-4e10eb6d4756\",\"type\":\"WheelZoomTool\"},{\"attributes\":{\"end\":{\"id\":\"092a3df1-7554-40ed-ad31-983260dd7a20\",\"type\":\"NormalHead\"},\"plot\":{\"id\":\"b9aba2ee-da5c-49ee-a063-87f5729f7967\",\"subtype\":\"Figure\",\"type\":\"Plot\"},\"source\":null,\"start\":null,\"x_end\":{\"value\":0.5},\"x_start\":{\"value\":1},\"y_end\":{\"value\":0.7},\"y_start\":{\"value\":0}},\"id\":\"65280bed-7688-44f2-82fb-c518318ff5ba\",\"type\":\"Arrow\"},{\"attributes\":{\"callback\":null},\"id\":\"c927cad4-c86a-45ef-bee8-bdcf08aa7a56\",\"type\":\"DataRange1d\"},{\"attributes\":{\"line_color\":{\"value\":\"firebrick\"},\"line_width\":{\"value\":4},\"plot\":null},\"id\":\"53b5dd70-5228-4408-87ac-6449e3d5829b\",\"type\":\"OpenHead\"},{\"attributes\":{\"formatter\":{\"id\":\"562aae31-0bd9-4ada-8526-1e5470c15bb6\",\"type\":\"BasicTickFormatter\"},\"plot\":{\"id\":\"b9aba2ee-da5c-49ee-a063-87f5729f7967\",\"subtype\":\"Figure\",\"type\":\"Plot\"},\"ticker\":{\"id\":\"fa6d9896-e438-4464-a99b-4aa78d572363\",\"type\":\"BasicTicker\"}},\"id\":\"9e1d59f1-35e8-4e22-be3a-79a761c42e95\",\"type\":\"LinearAxis\"},{\"attributes\":{\"plot\":{\"id\":\"b9aba2ee-da5c-49ee-a063-87f5729f7967\",\"subtype\":\"Figure\",\"type\":\"Plot\"}},\"id\":\"8ca59616-f984-4376-971b-6f468dbe7304\",\"type\":\"HelpTool\"},{\"attributes\":{},\"id\":\"8b87b574-e334-40a4-af2e-bbdb47da49f8\",\"type\":\"ToolEvents\"},{\"attributes\":{\"fill_alpha\":{\"value\":0.1},\"fill_color\":{\"field\":\"fill_color\"},\"line_color\":{\"field\":\"line_color\"},\"radius\":{\"units\":\"data\",\"value\":0.1},\"x\":{\"field\":\"x\"},\"y\":{\"field\":\"y\"}},\"id\":\"2945fe9f-ab43-431e-94c4-63e5945963a1\",\"type\":\"Circle\"},{\"attributes\":{\"dimension\":1,\"plot\":{\"id\":\"b9aba2ee-da5c-49ee-a063-87f5729f7967\",\"subtype\":\"Figure\",\"type\":\"Plot\"},\"ticker\":{\"id\":\"0c16cd42-1238-4910-a426-fa6e028c5b83\",\"type\":\"BasicTicker\"}},\"id\":\"0a09973d-82bd-4e3a-aebb-8d8c17aa3377\",\"type\":\"Grid\"},{\"attributes\":{\"below\":[{\"id\":\"9e1d59f1-35e8-4e22-be3a-79a761c42e95\",\"type\":\"LinearAxis\"}],\"left\":[{\"id\":\"d178ef4f-6ce3-476b-9d36-9cff7b85a930\",\"type\":\"LinearAxis\"}],\"renderers\":[{\"id\":\"9e1d59f1-35e8-4e22-be3a-79a761c42e95\",\"type\":\"LinearAxis\"},{\"id\":\"693c0579-0d96-4bce-9fb5-939f37dc614f\",\"type\":\"Grid\"},{\"id\":\"d178ef4f-6ce3-476b-9d36-9cff7b85a930\",\"type\":\"LinearAxis\"},{\"id\":\"0a09973d-82bd-4e3a-aebb-8d8c17aa3377\",\"type\":\"Grid\"},{\"id\":\"80e8975e-5e6c-4cb0-b48a-0a5028bdda14\",\"type\":\"BoxAnnotation\"},{\"id\":\"b9409cc1-9ca8-46c3-9382-f009b84d8b05\",\"type\":\"GlyphRenderer\"},{\"id\":\"89e52b6f-7d95-4567-a59b-53ef5ac2f74f\",\"type\":\"Arrow\"},{\"id\":\"65280bed-7688-44f2-82fb-c518318ff5ba\",\"type\":\"Arrow\"},{\"id\":\"366e2db9-568d-4917-aff5-d3ec60bcedeb\",\"type\":\"Arrow\"}],\"title\":{\"id\":\"8999213a-e81f-4a55-819d-e58d9965fdef\",\"type\":\"Title\"},\"tool_events\":{\"id\":\"8b87b574-e334-40a4-af2e-bbdb47da49f8\",\"type\":\"ToolEvents\"},\"toolbar\":{\"id\":\"7542a735-4947-4672-9f4f-42d1770af8ad\",\"type\":\"Toolbar\"},\"x_range\":{\"id\":\"c927cad4-c86a-45ef-bee8-bdcf08aa7a56\",\"type\":\"DataRange1d\"},\"y_range\":{\"id\":\"12e1d1cc-dd86-4662-9c62-8517a95aa2a9\",\"type\":\"DataRange1d\"}},\"id\":\"b9aba2ee-da5c-49ee-a063-87f5729f7967\",\"subtype\":\"Figure\",\"type\":\"Plot\"},{\"attributes\":{},\"id\":\"562aae31-0bd9-4ada-8526-1e5470c15bb6\",\"type\":\"BasicTickFormatter\"},{\"attributes\":{},\"id\":\"fa6d9896-e438-4464-a99b-4aa78d572363\",\"type\":\"BasicTicker\"},{\"attributes\":{\"callback\":null},\"id\":\"12e1d1cc-dd86-4662-9c62-8517a95aa2a9\",\"type\":\"DataRange1d\"},{\"attributes\":{\"end\":{\"id\":\"266ce397-8a5b-4947-a2e5-4776af8ad029\",\"type\":\"VeeHead\"},\"line_color\":{\"value\":\"red\"},\"plot\":{\"id\":\"b9aba2ee-da5c-49ee-a063-87f5729f7967\",\"subtype\":\"Figure\",\"type\":\"Plot\"},\"source\":null,\"start\":null,\"x_end\":{\"value\":0},\"x_start\":{\"value\":0.5},\"y_end\":{\"value\":0},\"y_start\":{\"value\":0.7}},\"id\":\"366e2db9-568d-4917-aff5-d3ec60bcedeb\",\"type\":\"Arrow\"},{\"attributes\":{\"data_source\":{\"id\":\"6e6e0c8a-98af-4bcc-8f67-1f01847e5821\",\"type\":\"ColumnDataSource\"},\"glyph\":{\"id\":\"2945fe9f-ab43-431e-94c4-63e5945963a1\",\"type\":\"Circle\"},\"hover_glyph\":null,\"nonselection_glyph\":{\"id\":\"ac7a4b6a-85bf-4ead-a84c-e78b92e9677b\",\"type\":\"Circle\"},\"selection_glyph\":null},\"id\":\"b9409cc1-9ca8-46c3-9382-f009b84d8b05\",\"type\":\"GlyphRenderer\"},{\"attributes\":{\"plot\":null,\"text\":null},\"id\":\"8999213a-e81f-4a55-819d-e58d9965fdef\",\"type\":\"Title\"}],\"root_ids\":[\"b9aba2ee-da5c-49ee-a063-87f5729f7967\"]},\"title\":\"Bokeh Application\",\"version\":\"0.12.1\"}};\n",
       "            var render_items = [{\"docid\":\"15e1c129-e9b0-404a-a401-a6f4a26f55aa\",\"elementid\":\"6b1f9c17-2d04-4823-af72-ffcb49012b17\",\"modelid\":\"b9aba2ee-da5c-49ee-a063-87f5729f7967\",\"notebook_comms_target\":\"9d3dad32-3288-4263-ab24-c3ff91286d13\"}];\n",
       "            \n",
       "            Bokeh.embed.embed_items(docs_json, render_items);\n",
       "        });\n",
       "      },\n",
       "      function(Bokeh) {\n",
       "      }\n",
       "    ];\n",
       "  \n",
       "    function run_inline_js() {\n",
       "      for (var i = 0; i < inline_js.length; i++) {\n",
       "        inline_js[i](window.Bokeh);\n",
       "      }\n",
       "    }\n",
       "  \n",
       "    if (window._bokeh_is_loading === 0) {\n",
       "      console.log(\"Bokeh: BokehJS loaded, going straight to plotting\");\n",
       "      run_inline_js();\n",
       "    } else {\n",
       "      load_libs(js_urls, function() {\n",
       "        console.log(\"Bokeh: BokehJS plotting callback run at\", now());\n",
       "        run_inline_js();\n",
       "      });\n",
       "    }\n",
       "  }(this));\n",
       "</script>"
      ]
     },
     "metadata": {},
     "output_type": "display_data"
    },
    {
     "data": {
      "text/html": [
       "<p><code>&lt;Bokeh Notebook handle for <strong>In[33]</strong>&gt;</code></p>"
      ],
      "text/plain": [
       "<bokeh.io._CommsHandle at 0x10bb6a1d0>"
      ]
     },
     "execution_count": 33,
     "metadata": {},
     "output_type": "execute_result"
    }
   ],
   "source": [
    "show(p)"
   ]
  },
  {
   "cell_type": "code",
   "execution_count": 11,
   "metadata": {
    "collapsed": true
   },
   "outputs": [],
   "source": [
    "# EXERCISE: experiment with arrows and arrow heads\n",
    "\n"
   ]
  },
  {
   "cell_type": "code",
   "execution_count": null,
   "metadata": {
    "collapsed": true
   },
   "outputs": [],
   "source": []
  }
 ],
 "metadata": {
  "kernelspec": {
   "display_name": "Python 2",
   "language": "python",
   "name": "python2"
  },
  "language_info": {
   "codemirror_mode": {
    "name": "ipython",
    "version": 2
   },
   "file_extension": ".py",
   "mimetype": "text/x-python",
   "name": "python",
   "nbconvert_exporter": "python",
   "pygments_lexer": "ipython2",
   "version": "2.7.12"
  }
 },
 "nbformat": 4,
 "nbformat_minor": 0
}
