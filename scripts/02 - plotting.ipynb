{
 "cells": [
  {
   "cell_type": "markdown",
   "metadata": {
    "collapsed": true
   },
   "source": [
    "<table style=\"float:left; border:none\">\n",
    "   <tr style=\"border:none\">\n",
    "       <td style=\"border:none\">\n",
    "           <a href=\"http://bokeh.pydata.org/\">     \n",
    "           <img \n",
    "               src=\"assets/images/bokeh-transparent.png\" \n",
    "               style=\"width:50px\"\n",
    "           >\n",
    "           </a>    \n",
    "       </td>\n",
    "       <td style=\"border:none\">\n",
    "           <h1>Bokeh Tutorial</h1>\n",
    "       </td>\n",
    "   </tr>\n",
    "</table>\n",
    "\n",
    "<div style=\"float:right;\"><h2>02. Basic Plotting Interface</h2></div>"
   ]
  },
  {
   "cell_type": "markdown",
   "metadata": {},
   "source": [
    "This section of the tutorial covers the [`bokeh.plotting`](http://bokeh.pydata.org/en/latest/docs/user_guide/plotting.html) \n",
    "interface. This interface is a \"mid-level\" interface, and the main idea can be described by the statement:\n",
    "\n",
    "**Starting from simple default figures (with sensible default tools, grids and axes), add markers and other shapes whose visual attributes are tied to directly data.**\n",
    "\n",
    "We will see that it is possible to customize and change all of the defaults, but having them means that it is possible to get up and running very quickly. "
   ]
  },
  {
   "cell_type": "markdown",
   "metadata": {},
   "source": [
    "# Imports and Setup\n",
    "\n",
    "When using the [`bokeh.plotting`](http://bokeh.pydata.org/en/latest/docs/user_guide/plotting.html) interface, there are a few common imports:\n",
    "* Use the [`figure`](http://bokeh.pydata.org/en/latest/docs/reference/plotting.html#bokeh.plotting.figure) function to  create new plot objects to work with. \n",
    "* Call the functions [`output_file`](http://bokeh.pydata.org/en/latest/docs/reference/resources_embedding.html#bokeh.io.output_file), [`output_notebook`](http://bokeh.pydata.org/en/latest/docs/reference/resources_embedding.html#bokeh.io.output_notebook), and [`output_server`](http://bokeh.pydata.org/en/latest/docs/reference/resources_embedding.html#bokeh.io.output_server) (possibly in combination) to tell Bokeh how to display or save output. \n",
    "* Execute [`show`](http://bokeh.pydata.org/en/latest/docs/reference/resources_embedding.html#bokeh.io.show) and  [`save`](http://bokeh.pydata.org/en/latest/docs/reference/resources_embedding.html#bokeh.io.save) to display or save plots and layouts."
   ]
  },
  {
   "cell_type": "code",
   "execution_count": 3,
   "metadata": {
    "collapsed": false
   },
   "outputs": [],
   "source": [
    "from bokeh.io import output_notebook, show\n",
    "from bokeh.plotting import figure"
   ]
  },
  {
   "cell_type": "markdown",
   "metadata": {},
   "source": [
    "In this case, we are in the Jupyter notebook, so call `output_notebook()`. We only need to call this once, and all subsequent calls to `show()` will display inline in the notebook."
   ]
  },
  {
   "cell_type": "code",
   "execution_count": 4,
   "metadata": {
    "collapsed": false
   },
   "outputs": [
    {
     "data": {
      "text/html": [
       "\n",
       "    <div class=\"bk-root\">\n",
       "        <a href=\"http://bokeh.pydata.org\" target=\"_blank\" class=\"bk-logo bk-logo-small bk-logo-notebook\"></a>\n",
       "        <span id=\"553f6902-5f7f-4502-8db1-a4750d9aef36\">Loading BokehJS ...</span>\n",
       "    </div>"
      ]
     },
     "metadata": {},
     "output_type": "display_data"
    },
    {
     "data": {
      "application/javascript": [
       "\n",
       "(function(global) {\n",
       "  function now() {\n",
       "    return new Date();\n",
       "  }\n",
       "\n",
       "  var force = \"1\";\n",
       "\n",
       "  if (typeof (window._bokeh_onload_callbacks) === \"undefined\" || force !== \"\") {\n",
       "    window._bokeh_onload_callbacks = [];\n",
       "    window._bokeh_is_loading = undefined;\n",
       "  }\n",
       "\n",
       "  function run_callbacks() {\n",
       "    window._bokeh_onload_callbacks.forEach(function(callback) { callback() });\n",
       "    delete window._bokeh_onload_callbacks\n",
       "    console.info(\"Bokeh: all callbacks have finished\");\n",
       "  }\n",
       "\n",
       "  function load_libs(js_urls, callback) {\n",
       "    window._bokeh_onload_callbacks.push(callback);\n",
       "    if (window._bokeh_is_loading > 0) {\n",
       "      console.log(\"Bokeh: BokehJS is being loaded, scheduling callback at\", now());\n",
       "      return null;\n",
       "    }\n",
       "    if (js_urls == null || js_urls.length === 0) {\n",
       "      run_callbacks();\n",
       "      return null;\n",
       "    }\n",
       "    console.log(\"Bokeh: BokehJS not loaded, scheduling load and callback at\", now());\n",
       "    window._bokeh_is_loading = js_urls.length;\n",
       "    for (var i = 0; i < js_urls.length; i++) {\n",
       "      var url = js_urls[i];\n",
       "      var s = document.createElement('script');\n",
       "      s.src = url;\n",
       "      s.async = false;\n",
       "      s.onreadystatechange = s.onload = function() {\n",
       "        window._bokeh_is_loading--;\n",
       "        if (window._bokeh_is_loading === 0) {\n",
       "          console.log(\"Bokeh: all BokehJS libraries loaded\");\n",
       "          run_callbacks()\n",
       "        }\n",
       "      };\n",
       "      s.onerror = function() {\n",
       "        console.warn(\"failed to load library \" + url);\n",
       "      };\n",
       "      console.log(\"Bokeh: injecting script tag for BokehJS library: \", url);\n",
       "      document.getElementsByTagName(\"head\")[0].appendChild(s);\n",
       "    }\n",
       "  };\n",
       "\n",
       "  var js_urls = ['https://cdn.pydata.org/bokeh/release/bokeh-0.12.1.min.js', 'https://cdn.pydata.org/bokeh/release/bokeh-widgets-0.12.1.min.js', 'https://cdn.pydata.org/bokeh/release/bokeh-compiler-0.12.1.min.js'];\n",
       "\n",
       "  var inline_js = [\n",
       "    function(Bokeh) {\n",
       "      Bokeh.set_log_level(\"info\");\n",
       "    },\n",
       "    \n",
       "    function(Bokeh) {\n",
       "      \n",
       "      Bokeh.$(\"#553f6902-5f7f-4502-8db1-a4750d9aef36\").text(\"BokehJS successfully loaded\");\n",
       "      var kernel = Jupyter.notebook.kernel\n",
       "      if (kernel.execute !== undefined) {\n",
       "          kernel.execute(\"import bokeh.io; bokeh.io._nb_loaded = True\");\n",
       "      }\n",
       "    },\n",
       "    function(Bokeh) {\n",
       "      console.log(\"Bokeh: injecting CSS: https://cdn.pydata.org/bokeh/release/bokeh-0.12.1.min.css\");\n",
       "      Bokeh.embed.inject_css(\"https://cdn.pydata.org/bokeh/release/bokeh-0.12.1.min.css\");\n",
       "      console.log(\"Bokeh: injecting CSS: https://cdn.pydata.org/bokeh/release/bokeh-widgets-0.12.1.min.css\");\n",
       "      Bokeh.embed.inject_css(\"https://cdn.pydata.org/bokeh/release/bokeh-widgets-0.12.1.min.css\");\n",
       "    }\n",
       "  ];\n",
       "\n",
       "  function run_inline_js() {\n",
       "    for (var i = 0; i < inline_js.length; i++) {\n",
       "      inline_js[i](window.Bokeh);\n",
       "    }\n",
       "  }\n",
       "\n",
       "  if (window._bokeh_is_loading === 0) {\n",
       "    console.log(\"Bokeh: BokehJS loaded, going straight to plotting\");\n",
       "    run_inline_js();\n",
       "  } else {\n",
       "    load_libs(js_urls, function() {\n",
       "      console.log(\"Bokeh: BokehJS plotting callback run at\", now());\n",
       "      run_inline_js();\n",
       "    });\n",
       "  }\n",
       "}(this));"
      ]
     },
     "metadata": {},
     "output_type": "display_data"
    }
   ],
   "source": [
    "output_notebook()"
   ]
  },
  {
   "cell_type": "markdown",
   "metadata": {},
   "source": [
    "# Some Basic Scatter Plots\n",
    "\n",
    "In this section you will see how to use Bokeh's various marker types to create simple scatter plots. "
   ]
  },
  {
   "cell_type": "code",
   "execution_count": 14,
   "metadata": {
    "collapsed": false
   },
   "outputs": [
    {
     "data": {
      "text/html": [
       "\n",
       "\n",
       "    <div class=\"bk-root\">\n",
       "        <div class=\"plotdiv\" id=\"091dd52d-9862-445d-a04c-68eae82874a2\"></div>\n",
       "    </div>\n",
       "<script type=\"text/javascript\">\n",
       "  \n",
       "  (function(global) {\n",
       "    function now() {\n",
       "      return new Date();\n",
       "    }\n",
       "  \n",
       "    var force = \"\";\n",
       "  \n",
       "    if (typeof (window._bokeh_onload_callbacks) === \"undefined\" || force !== \"\") {\n",
       "      window._bokeh_onload_callbacks = [];\n",
       "      window._bokeh_is_loading = undefined;\n",
       "    }\n",
       "  \n",
       "    function run_callbacks() {\n",
       "      window._bokeh_onload_callbacks.forEach(function(callback) { callback() });\n",
       "      delete window._bokeh_onload_callbacks\n",
       "      console.info(\"Bokeh: all callbacks have finished\");\n",
       "    }\n",
       "  \n",
       "    function load_libs(js_urls, callback) {\n",
       "      window._bokeh_onload_callbacks.push(callback);\n",
       "      if (window._bokeh_is_loading > 0) {\n",
       "        console.log(\"Bokeh: BokehJS is being loaded, scheduling callback at\", now());\n",
       "        return null;\n",
       "      }\n",
       "      if (js_urls == null || js_urls.length === 0) {\n",
       "        run_callbacks();\n",
       "        return null;\n",
       "      }\n",
       "      console.log(\"Bokeh: BokehJS not loaded, scheduling load and callback at\", now());\n",
       "      window._bokeh_is_loading = js_urls.length;\n",
       "      for (var i = 0; i < js_urls.length; i++) {\n",
       "        var url = js_urls[i];\n",
       "        var s = document.createElement('script');\n",
       "        s.src = url;\n",
       "        s.async = false;\n",
       "        s.onreadystatechange = s.onload = function() {\n",
       "          window._bokeh_is_loading--;\n",
       "          if (window._bokeh_is_loading === 0) {\n",
       "            console.log(\"Bokeh: all BokehJS libraries loaded\");\n",
       "            run_callbacks()\n",
       "          }\n",
       "        };\n",
       "        s.onerror = function() {\n",
       "          console.warn(\"failed to load library \" + url);\n",
       "        };\n",
       "        console.log(\"Bokeh: injecting script tag for BokehJS library: \", url);\n",
       "        document.getElementsByTagName(\"head\")[0].appendChild(s);\n",
       "      }\n",
       "    };var element = document.getElementById(\"091dd52d-9862-445d-a04c-68eae82874a2\");\n",
       "    if (element == null) {\n",
       "      console.log(\"Bokeh: ERROR: autoload.js configured with elementid '091dd52d-9862-445d-a04c-68eae82874a2' but no matching script tag was found. \")\n",
       "      return false;\n",
       "    }\n",
       "  \n",
       "    var js_urls = [];\n",
       "  \n",
       "    var inline_js = [\n",
       "      function(Bokeh) {\n",
       "        Bokeh.$(function() {\n",
       "            var docs_json = {\"07a47150-ef79-4882-9944-00848134535c\":{\"roots\":{\"references\":[{\"attributes\":{},\"id\":\"364352ea-fca3-41fd-bd3a-cc8cd0d09752\",\"type\":\"BasicTickFormatter\"},{\"attributes\":{\"plot\":{\"id\":\"4f2384fd-7d32-4768-b676-36c379fcaaa9\",\"subtype\":\"Figure\",\"type\":\"Plot\"},\"ticker\":{\"id\":\"a5a0754b-6aa3-431a-be3a-d12e3163202e\",\"type\":\"BasicTicker\"}},\"id\":\"9320b88e-9250-450e-a5e7-f2ecc0aa1e27\",\"type\":\"Grid\"},{\"attributes\":{\"below\":[{\"id\":\"b6f2a92a-70b7-4993-8b90-08e2df1cbb4b\",\"type\":\"LinearAxis\"}],\"left\":[{\"id\":\"12c5d11f-78aa-43b1-8708-0b7d696e2cde\",\"type\":\"LinearAxis\"}],\"plot_height\":400,\"plot_width\":400,\"renderers\":[{\"id\":\"b6f2a92a-70b7-4993-8b90-08e2df1cbb4b\",\"type\":\"LinearAxis\"},{\"id\":\"9320b88e-9250-450e-a5e7-f2ecc0aa1e27\",\"type\":\"Grid\"},{\"id\":\"12c5d11f-78aa-43b1-8708-0b7d696e2cde\",\"type\":\"LinearAxis\"},{\"id\":\"7d9e4330-c10f-4f61-8f3e-60b740a867cf\",\"type\":\"Grid\"},{\"id\":\"96cbc20b-d144-491b-a14d-dd2a3226c1cd\",\"type\":\"BoxAnnotation\"},{\"id\":\"299ff08b-fd43-4352-8b58-dd58d25bb6e4\",\"type\":\"GlyphRenderer\"}],\"title\":{\"id\":\"0d7cc9eb-58e2-4373-8677-7a7ba65661cd\",\"type\":\"Title\"},\"tool_events\":{\"id\":\"501b338a-2e5c-4a6d-849b-59211bfd781a\",\"type\":\"ToolEvents\"},\"toolbar\":{\"id\":\"305bfba1-a4c9-4e83-8243-0a27735e49e9\",\"type\":\"Toolbar\"},\"x_range\":{\"id\":\"c4009955-ecf6-415b-a8d9-3cf6eab3e556\",\"type\":\"DataRange1d\"},\"y_range\":{\"id\":\"f542c895-37df-40c4-97e5-61220b0ef5b4\",\"type\":\"DataRange1d\"}},\"id\":\"4f2384fd-7d32-4768-b676-36c379fcaaa9\",\"subtype\":\"Figure\",\"type\":\"Plot\"},{\"attributes\":{\"plot\":{\"id\":\"4f2384fd-7d32-4768-b676-36c379fcaaa9\",\"subtype\":\"Figure\",\"type\":\"Plot\"}},\"id\":\"25e08e72-3c93-487c-ba20-de802f6256c2\",\"type\":\"ResetTool\"},{\"attributes\":{},\"id\":\"a5a0754b-6aa3-431a-be3a-d12e3163202e\",\"type\":\"BasicTicker\"},{\"attributes\":{\"plot\":{\"id\":\"4f2384fd-7d32-4768-b676-36c379fcaaa9\",\"subtype\":\"Figure\",\"type\":\"Plot\"}},\"id\":\"0efc27e9-3079-4075-ab46-5b4435843a39\",\"type\":\"PanTool\"},{\"attributes\":{\"plot\":{\"id\":\"4f2384fd-7d32-4768-b676-36c379fcaaa9\",\"subtype\":\"Figure\",\"type\":\"Plot\"}},\"id\":\"0247b8ad-8f7d-458b-9e20-3efd187a0ca0\",\"type\":\"WheelZoomTool\"},{\"attributes\":{\"dimension\":1,\"plot\":{\"id\":\"4f2384fd-7d32-4768-b676-36c379fcaaa9\",\"subtype\":\"Figure\",\"type\":\"Plot\"},\"ticker\":{\"id\":\"0d92414f-0d57-49cc-97b6-ffcd5bcfb9d2\",\"type\":\"BasicTicker\"}},\"id\":\"7d9e4330-c10f-4f61-8f3e-60b740a867cf\",\"type\":\"Grid\"},{\"attributes\":{\"callback\":null},\"id\":\"c4009955-ecf6-415b-a8d9-3cf6eab3e556\",\"type\":\"DataRange1d\"},{\"attributes\":{\"active_drag\":\"auto\",\"active_scroll\":\"auto\",\"active_tap\":\"auto\",\"tools\":[{\"id\":\"0efc27e9-3079-4075-ab46-5b4435843a39\",\"type\":\"PanTool\"},{\"id\":\"0247b8ad-8f7d-458b-9e20-3efd187a0ca0\",\"type\":\"WheelZoomTool\"},{\"id\":\"6bacc5ee-ef5c-453a-b1c0-67cec746d41d\",\"type\":\"BoxZoomTool\"},{\"id\":\"efa5d2fe-94d0-478e-b6c2-9ac46d5690d8\",\"type\":\"SaveTool\"},{\"id\":\"25e08e72-3c93-487c-ba20-de802f6256c2\",\"type\":\"ResetTool\"},{\"id\":\"2bed7ab1-30b0-4c9a-8162-f2cc4d20130d\",\"type\":\"HelpTool\"}]},\"id\":\"305bfba1-a4c9-4e83-8243-0a27735e49e9\",\"type\":\"Toolbar\"},{\"attributes\":{\"plot\":{\"id\":\"4f2384fd-7d32-4768-b676-36c379fcaaa9\",\"subtype\":\"Figure\",\"type\":\"Plot\"}},\"id\":\"2bed7ab1-30b0-4c9a-8162-f2cc4d20130d\",\"type\":\"HelpTool\"},{\"attributes\":{\"plot\":null,\"text\":null},\"id\":\"0d7cc9eb-58e2-4373-8677-7a7ba65661cd\",\"type\":\"Title\"},{\"attributes\":{},\"id\":\"0d92414f-0d57-49cc-97b6-ffcd5bcfb9d2\",\"type\":\"BasicTicker\"},{\"attributes\":{},\"id\":\"501b338a-2e5c-4a6d-849b-59211bfd781a\",\"type\":\"ToolEvents\"},{\"attributes\":{\"callback\":null},\"id\":\"f542c895-37df-40c4-97e5-61220b0ef5b4\",\"type\":\"DataRange1d\"},{\"attributes\":{\"formatter\":{\"id\":\"0b171d7c-0d21-4e7d-b725-e94ef9400023\",\"type\":\"BasicTickFormatter\"},\"plot\":{\"id\":\"4f2384fd-7d32-4768-b676-36c379fcaaa9\",\"subtype\":\"Figure\",\"type\":\"Plot\"},\"ticker\":{\"id\":\"a5a0754b-6aa3-431a-be3a-d12e3163202e\",\"type\":\"BasicTicker\"}},\"id\":\"b6f2a92a-70b7-4993-8b90-08e2df1cbb4b\",\"type\":\"LinearAxis\"},{\"attributes\":{\"plot\":{\"id\":\"4f2384fd-7d32-4768-b676-36c379fcaaa9\",\"subtype\":\"Figure\",\"type\":\"Plot\"}},\"id\":\"efa5d2fe-94d0-478e-b6c2-9ac46d5690d8\",\"type\":\"SaveTool\"},{\"attributes\":{\"data_source\":{\"id\":\"f47f3191-59a5-4291-afe7-888829e40d56\",\"type\":\"ColumnDataSource\"},\"glyph\":{\"id\":\"a352891c-1a8d-4fcd-bc04-a3269495e599\",\"type\":\"Circle\"},\"hover_glyph\":null,\"nonselection_glyph\":{\"id\":\"16bd4707-b426-4090-9fa7-020611be9ca6\",\"type\":\"Circle\"},\"selection_glyph\":null},\"id\":\"299ff08b-fd43-4352-8b58-dd58d25bb6e4\",\"type\":\"GlyphRenderer\"},{\"attributes\":{},\"id\":\"0b171d7c-0d21-4e7d-b725-e94ef9400023\",\"type\":\"BasicTickFormatter\"},{\"attributes\":{\"fill_alpha\":{\"value\":0.1},\"fill_color\":{\"value\":\"#1f77b4\"},\"line_alpha\":{\"value\":0.1},\"line_color\":{\"value\":\"#1f77b4\"},\"size\":{\"units\":\"screen\",\"value\":15},\"x\":{\"field\":\"x\"},\"y\":{\"field\":\"y\"}},\"id\":\"16bd4707-b426-4090-9fa7-020611be9ca6\",\"type\":\"Circle\"},{\"attributes\":{\"overlay\":{\"id\":\"96cbc20b-d144-491b-a14d-dd2a3226c1cd\",\"type\":\"BoxAnnotation\"},\"plot\":{\"id\":\"4f2384fd-7d32-4768-b676-36c379fcaaa9\",\"subtype\":\"Figure\",\"type\":\"Plot\"}},\"id\":\"6bacc5ee-ef5c-453a-b1c0-67cec746d41d\",\"type\":\"BoxZoomTool\"},{\"attributes\":{\"bottom_units\":\"screen\",\"fill_alpha\":{\"value\":0.5},\"fill_color\":{\"value\":\"lightgrey\"},\"left_units\":\"screen\",\"level\":\"overlay\",\"line_alpha\":{\"value\":1.0},\"line_color\":{\"value\":\"black\"},\"line_dash\":[4,4],\"line_width\":{\"value\":2},\"plot\":null,\"render_mode\":\"css\",\"right_units\":\"screen\",\"top_units\":\"screen\"},\"id\":\"96cbc20b-d144-491b-a14d-dd2a3226c1cd\",\"type\":\"BoxAnnotation\"},{\"attributes\":{\"fill_alpha\":{\"value\":0.5},\"fill_color\":{\"value\":\"orange\"},\"line_color\":{\"value\":\"navy\"},\"size\":{\"units\":\"screen\",\"value\":15},\"x\":{\"field\":\"x\"},\"y\":{\"field\":\"y\"}},\"id\":\"a352891c-1a8d-4fcd-bc04-a3269495e599\",\"type\":\"Circle\"},{\"attributes\":{\"formatter\":{\"id\":\"364352ea-fca3-41fd-bd3a-cc8cd0d09752\",\"type\":\"BasicTickFormatter\"},\"plot\":{\"id\":\"4f2384fd-7d32-4768-b676-36c379fcaaa9\",\"subtype\":\"Figure\",\"type\":\"Plot\"},\"ticker\":{\"id\":\"0d92414f-0d57-49cc-97b6-ffcd5bcfb9d2\",\"type\":\"BasicTicker\"}},\"id\":\"12c5d11f-78aa-43b1-8708-0b7d696e2cde\",\"type\":\"LinearAxis\"},{\"attributes\":{\"callback\":null,\"column_names\":[\"y\",\"x\"],\"data\":{\"x\":[1,2,3,4,5],\"y\":[6,7,2,4,5]}},\"id\":\"f47f3191-59a5-4291-afe7-888829e40d56\",\"type\":\"ColumnDataSource\"}],\"root_ids\":[\"4f2384fd-7d32-4768-b676-36c379fcaaa9\"]},\"title\":\"Bokeh Application\",\"version\":\"0.12.1\"}};\n",
       "            var render_items = [{\"docid\":\"07a47150-ef79-4882-9944-00848134535c\",\"elementid\":\"091dd52d-9862-445d-a04c-68eae82874a2\",\"modelid\":\"4f2384fd-7d32-4768-b676-36c379fcaaa9\",\"notebook_comms_target\":\"6109786e-1680-40bb-8ec0-caa4de119f76\"}];\n",
       "            \n",
       "            Bokeh.embed.embed_items(docs_json, render_items);\n",
       "        });\n",
       "      },\n",
       "      function(Bokeh) {\n",
       "      }\n",
       "    ];\n",
       "  \n",
       "    function run_inline_js() {\n",
       "      for (var i = 0; i < inline_js.length; i++) {\n",
       "        inline_js[i](window.Bokeh);\n",
       "      }\n",
       "    }\n",
       "  \n",
       "    if (window._bokeh_is_loading === 0) {\n",
       "      console.log(\"Bokeh: BokehJS loaded, going straight to plotting\");\n",
       "      run_inline_js();\n",
       "    } else {\n",
       "      load_libs(js_urls, function() {\n",
       "        console.log(\"Bokeh: BokehJS plotting callback run at\", now());\n",
       "        run_inline_js();\n",
       "      });\n",
       "    }\n",
       "  }(this));\n",
       "</script>"
      ]
     },
     "metadata": {},
     "output_type": "display_data"
    },
    {
     "data": {
      "text/html": [
       "<p><code>&lt;Bokeh Notebook handle for <strong>In[14]</strong>&gt;</code></p>"
      ],
      "text/plain": [
       "<bokeh.io._CommsHandle at 0x10b9c1ad0>"
      ]
     },
     "execution_count": 14,
     "metadata": {},
     "output_type": "execute_result"
    }
   ],
   "source": [
    "# create a new plot with default tools, using figure\n",
    "p = figure(plot_width=400, plot_height=400)\n",
    "\n",
    "# add a circle renderer with a size, color, and alpha\n",
    "p.circle([1, 2, 3, 4, 5], [6, 7, 2, 4, 5], size=15, line_color=\"navy\", fill_color=\"orange\", fill_alpha=0.5)\n",
    "\n",
    "show(p) # show the results"
   ]
  },
  {
   "cell_type": "markdown",
   "metadata": {},
   "source": [
    "All Bokeh markers accept `size` (measured in screen space units) as a property. Circles also have `radius` (measured in \"data\" space units). "
   ]
  },
  {
   "cell_type": "code",
   "execution_count": 16,
   "metadata": {
    "collapsed": false
   },
   "outputs": [
    {
     "data": {
      "text/plain": [
       "array([ 0.1,  0.3,  0.5,  0.7,  0.9])"
      ]
     },
     "execution_count": 16,
     "metadata": {},
     "output_type": "execute_result"
    }
   ],
   "source": [
    "from numpy import linspace\n",
    "linspace(0.1, 0.9, 5)"
   ]
  },
  {
   "cell_type": "code",
   "execution_count": 17,
   "metadata": {
    "collapsed": false
   },
   "outputs": [
    {
     "data": {
      "text/html": [
       "\n",
       "\n",
       "    <div class=\"bk-root\">\n",
       "        <div class=\"plotdiv\" id=\"b0d04076-bb93-4224-a422-a276f6dc7468\"></div>\n",
       "    </div>\n",
       "<script type=\"text/javascript\">\n",
       "  \n",
       "  (function(global) {\n",
       "    function now() {\n",
       "      return new Date();\n",
       "    }\n",
       "  \n",
       "    var force = \"\";\n",
       "  \n",
       "    if (typeof (window._bokeh_onload_callbacks) === \"undefined\" || force !== \"\") {\n",
       "      window._bokeh_onload_callbacks = [];\n",
       "      window._bokeh_is_loading = undefined;\n",
       "    }\n",
       "  \n",
       "    function run_callbacks() {\n",
       "      window._bokeh_onload_callbacks.forEach(function(callback) { callback() });\n",
       "      delete window._bokeh_onload_callbacks\n",
       "      console.info(\"Bokeh: all callbacks have finished\");\n",
       "    }\n",
       "  \n",
       "    function load_libs(js_urls, callback) {\n",
       "      window._bokeh_onload_callbacks.push(callback);\n",
       "      if (window._bokeh_is_loading > 0) {\n",
       "        console.log(\"Bokeh: BokehJS is being loaded, scheduling callback at\", now());\n",
       "        return null;\n",
       "      }\n",
       "      if (js_urls == null || js_urls.length === 0) {\n",
       "        run_callbacks();\n",
       "        return null;\n",
       "      }\n",
       "      console.log(\"Bokeh: BokehJS not loaded, scheduling load and callback at\", now());\n",
       "      window._bokeh_is_loading = js_urls.length;\n",
       "      for (var i = 0; i < js_urls.length; i++) {\n",
       "        var url = js_urls[i];\n",
       "        var s = document.createElement('script');\n",
       "        s.src = url;\n",
       "        s.async = false;\n",
       "        s.onreadystatechange = s.onload = function() {\n",
       "          window._bokeh_is_loading--;\n",
       "          if (window._bokeh_is_loading === 0) {\n",
       "            console.log(\"Bokeh: all BokehJS libraries loaded\");\n",
       "            run_callbacks()\n",
       "          }\n",
       "        };\n",
       "        s.onerror = function() {\n",
       "          console.warn(\"failed to load library \" + url);\n",
       "        };\n",
       "        console.log(\"Bokeh: injecting script tag for BokehJS library: \", url);\n",
       "        document.getElementsByTagName(\"head\")[0].appendChild(s);\n",
       "      }\n",
       "    };var element = document.getElementById(\"b0d04076-bb93-4224-a422-a276f6dc7468\");\n",
       "    if (element == null) {\n",
       "      console.log(\"Bokeh: ERROR: autoload.js configured with elementid 'b0d04076-bb93-4224-a422-a276f6dc7468' but no matching script tag was found. \")\n",
       "      return false;\n",
       "    }\n",
       "  \n",
       "    var js_urls = [];\n",
       "  \n",
       "    var inline_js = [\n",
       "      function(Bokeh) {\n",
       "        Bokeh.$(function() {\n",
       "            var docs_json = {\"0a153979-ef35-40ff-8857-d7a4d1b33cc8\":{\"roots\":{\"references\":[{\"attributes\":{\"below\":[{\"id\":\"043a4c5d-0e31-4a3f-a230-1a359d21e047\",\"type\":\"LinearAxis\"}],\"left\":[{\"id\":\"f1dc3e51-8984-4aaa-8965-0a590ba4846d\",\"type\":\"LinearAxis\"}],\"plot_height\":400,\"plot_width\":400,\"renderers\":[{\"id\":\"043a4c5d-0e31-4a3f-a230-1a359d21e047\",\"type\":\"LinearAxis\"},{\"id\":\"cf334278-1127-4559-8a47-b6fe2299a64a\",\"type\":\"Grid\"},{\"id\":\"f1dc3e51-8984-4aaa-8965-0a590ba4846d\",\"type\":\"LinearAxis\"},{\"id\":\"19a6a76b-1a05-4c53-998d-33b59f9a12f4\",\"type\":\"Grid\"},{\"id\":\"dc0c0889-f0e3-4a58-8cab-ce5ab652b1bb\",\"type\":\"BoxAnnotation\"},{\"id\":\"f7c8be15-8d8f-478e-8dfb-04d6e5e19063\",\"type\":\"GlyphRenderer\"}],\"title\":{\"id\":\"c1bc85a2-5e1f-49e0-9c79-16c52756daa6\",\"type\":\"Title\"},\"tool_events\":{\"id\":\"ea2cf2ff-ab49-438b-83e7-a36016002c12\",\"type\":\"ToolEvents\"},\"toolbar\":{\"id\":\"782e3f04-ed31-422c-8bc3-e539145724b1\",\"type\":\"Toolbar\"},\"x_range\":{\"id\":\"c707da1a-972a-4fa2-aaea-e5522510e65b\",\"type\":\"DataRange1d\"},\"y_range\":{\"id\":\"b0d1c953-ad98-4969-809d-19f57a1484ea\",\"type\":\"DataRange1d\"}},\"id\":\"79ed276a-3059-4500-9c38-9f2818a3dcc3\",\"subtype\":\"Figure\",\"type\":\"Plot\"},{\"attributes\":{},\"id\":\"ae102088-65bb-4c7d-babd-ebc8291b310d\",\"type\":\"BasicTicker\"},{\"attributes\":{},\"id\":\"04d2dab0-5a3d-4f17-b02a-8878088c652e\",\"type\":\"BasicTickFormatter\"},{\"attributes\":{\"plot\":{\"id\":\"79ed276a-3059-4500-9c38-9f2818a3dcc3\",\"subtype\":\"Figure\",\"type\":\"Plot\"}},\"id\":\"c4228ced-e062-4977-b4b9-84575c6d1294\",\"type\":\"SaveTool\"},{\"attributes\":{\"formatter\":{\"id\":\"04d2dab0-5a3d-4f17-b02a-8878088c652e\",\"type\":\"BasicTickFormatter\"},\"plot\":{\"id\":\"79ed276a-3059-4500-9c38-9f2818a3dcc3\",\"subtype\":\"Figure\",\"type\":\"Plot\"},\"ticker\":{\"id\":\"7f501a94-4bc8-4225-af63-3d08f6f3ccca\",\"type\":\"BasicTicker\"}},\"id\":\"043a4c5d-0e31-4a3f-a230-1a359d21e047\",\"type\":\"LinearAxis\"},{\"attributes\":{\"callback\":null,\"column_names\":[\"radius\",\"y\",\"x\"],\"data\":{\"radius\":[0.1,0.30000000000000004,0.5,0.7000000000000001,0.9],\"x\":[1,2,3,4,5],\"y\":[6,7,2,4,5]}},\"id\":\"1595f769-7eb6-4d0d-ab78-361f4d918b3e\",\"type\":\"ColumnDataSource\"},{\"attributes\":{\"plot\":{\"id\":\"79ed276a-3059-4500-9c38-9f2818a3dcc3\",\"subtype\":\"Figure\",\"type\":\"Plot\"}},\"id\":\"f140adc5-5a5a-42ae-8c50-9dd9153d7b44\",\"type\":\"ResetTool\"},{\"attributes\":{\"plot\":null,\"text\":null},\"id\":\"c1bc85a2-5e1f-49e0-9c79-16c52756daa6\",\"type\":\"Title\"},{\"attributes\":{\"callback\":null},\"id\":\"b0d1c953-ad98-4969-809d-19f57a1484ea\",\"type\":\"DataRange1d\"},{\"attributes\":{},\"id\":\"7f501a94-4bc8-4225-af63-3d08f6f3ccca\",\"type\":\"BasicTicker\"},{\"attributes\":{},\"id\":\"f1ded5b7-12ff-4000-88ba-cb9fc645ba47\",\"type\":\"BasicTickFormatter\"},{\"attributes\":{\"fill_alpha\":{\"value\":0.5},\"fill_color\":{\"value\":\"orange\"},\"line_color\":{\"value\":\"navy\"},\"radius\":{\"field\":\"radius\",\"units\":\"data\"},\"x\":{\"field\":\"x\"},\"y\":{\"field\":\"y\"}},\"id\":\"75875a92-673e-486f-949f-24d41b9e0e95\",\"type\":\"Circle\"},{\"attributes\":{\"formatter\":{\"id\":\"f1ded5b7-12ff-4000-88ba-cb9fc645ba47\",\"type\":\"BasicTickFormatter\"},\"plot\":{\"id\":\"79ed276a-3059-4500-9c38-9f2818a3dcc3\",\"subtype\":\"Figure\",\"type\":\"Plot\"},\"ticker\":{\"id\":\"ae102088-65bb-4c7d-babd-ebc8291b310d\",\"type\":\"BasicTicker\"}},\"id\":\"f1dc3e51-8984-4aaa-8965-0a590ba4846d\",\"type\":\"LinearAxis\"},{\"attributes\":{\"plot\":{\"id\":\"79ed276a-3059-4500-9c38-9f2818a3dcc3\",\"subtype\":\"Figure\",\"type\":\"Plot\"},\"ticker\":{\"id\":\"7f501a94-4bc8-4225-af63-3d08f6f3ccca\",\"type\":\"BasicTicker\"}},\"id\":\"cf334278-1127-4559-8a47-b6fe2299a64a\",\"type\":\"Grid\"},{\"attributes\":{\"bottom_units\":\"screen\",\"fill_alpha\":{\"value\":0.5},\"fill_color\":{\"value\":\"lightgrey\"},\"left_units\":\"screen\",\"level\":\"overlay\",\"line_alpha\":{\"value\":1.0},\"line_color\":{\"value\":\"black\"},\"line_dash\":[4,4],\"line_width\":{\"value\":2},\"plot\":null,\"render_mode\":\"css\",\"right_units\":\"screen\",\"top_units\":\"screen\"},\"id\":\"dc0c0889-f0e3-4a58-8cab-ce5ab652b1bb\",\"type\":\"BoxAnnotation\"},{\"attributes\":{\"fill_alpha\":{\"value\":0.1},\"fill_color\":{\"value\":\"#1f77b4\"},\"line_alpha\":{\"value\":0.1},\"line_color\":{\"value\":\"#1f77b4\"},\"radius\":{\"field\":\"radius\",\"units\":\"data\"},\"x\":{\"field\":\"x\"},\"y\":{\"field\":\"y\"}},\"id\":\"abba2d58-c572-4e6e-b966-9486b56f132b\",\"type\":\"Circle\"},{\"attributes\":{\"callback\":null},\"id\":\"c707da1a-972a-4fa2-aaea-e5522510e65b\",\"type\":\"DataRange1d\"},{\"attributes\":{\"plot\":{\"id\":\"79ed276a-3059-4500-9c38-9f2818a3dcc3\",\"subtype\":\"Figure\",\"type\":\"Plot\"}},\"id\":\"30620546-dda8-4a8a-8649-6b7e9a0ba141\",\"type\":\"WheelZoomTool\"},{\"attributes\":{\"plot\":{\"id\":\"79ed276a-3059-4500-9c38-9f2818a3dcc3\",\"subtype\":\"Figure\",\"type\":\"Plot\"}},\"id\":\"e6423abd-ee0a-4436-a378-76b60349cf43\",\"type\":\"PanTool\"},{\"attributes\":{\"dimension\":1,\"plot\":{\"id\":\"79ed276a-3059-4500-9c38-9f2818a3dcc3\",\"subtype\":\"Figure\",\"type\":\"Plot\"},\"ticker\":{\"id\":\"ae102088-65bb-4c7d-babd-ebc8291b310d\",\"type\":\"BasicTicker\"}},\"id\":\"19a6a76b-1a05-4c53-998d-33b59f9a12f4\",\"type\":\"Grid\"},{\"attributes\":{\"overlay\":{\"id\":\"dc0c0889-f0e3-4a58-8cab-ce5ab652b1bb\",\"type\":\"BoxAnnotation\"},\"plot\":{\"id\":\"79ed276a-3059-4500-9c38-9f2818a3dcc3\",\"subtype\":\"Figure\",\"type\":\"Plot\"}},\"id\":\"32dff38e-d4cf-435b-9ca8-a188a02cb811\",\"type\":\"BoxZoomTool\"},{\"attributes\":{\"data_source\":{\"id\":\"1595f769-7eb6-4d0d-ab78-361f4d918b3e\",\"type\":\"ColumnDataSource\"},\"glyph\":{\"id\":\"75875a92-673e-486f-949f-24d41b9e0e95\",\"type\":\"Circle\"},\"hover_glyph\":null,\"nonselection_glyph\":{\"id\":\"abba2d58-c572-4e6e-b966-9486b56f132b\",\"type\":\"Circle\"},\"selection_glyph\":null},\"id\":\"f7c8be15-8d8f-478e-8dfb-04d6e5e19063\",\"type\":\"GlyphRenderer\"},{\"attributes\":{},\"id\":\"ea2cf2ff-ab49-438b-83e7-a36016002c12\",\"type\":\"ToolEvents\"},{\"attributes\":{\"active_drag\":\"auto\",\"active_scroll\":\"auto\",\"active_tap\":\"auto\",\"tools\":[{\"id\":\"e6423abd-ee0a-4436-a378-76b60349cf43\",\"type\":\"PanTool\"},{\"id\":\"30620546-dda8-4a8a-8649-6b7e9a0ba141\",\"type\":\"WheelZoomTool\"},{\"id\":\"32dff38e-d4cf-435b-9ca8-a188a02cb811\",\"type\":\"BoxZoomTool\"},{\"id\":\"c4228ced-e062-4977-b4b9-84575c6d1294\",\"type\":\"SaveTool\"},{\"id\":\"f140adc5-5a5a-42ae-8c50-9dd9153d7b44\",\"type\":\"ResetTool\"},{\"id\":\"5f4f8586-9d18-4542-a49b-caeda10172fe\",\"type\":\"HelpTool\"}]},\"id\":\"782e3f04-ed31-422c-8bc3-e539145724b1\",\"type\":\"Toolbar\"},{\"attributes\":{\"plot\":{\"id\":\"79ed276a-3059-4500-9c38-9f2818a3dcc3\",\"subtype\":\"Figure\",\"type\":\"Plot\"}},\"id\":\"5f4f8586-9d18-4542-a49b-caeda10172fe\",\"type\":\"HelpTool\"}],\"root_ids\":[\"79ed276a-3059-4500-9c38-9f2818a3dcc3\"]},\"title\":\"Bokeh Application\",\"version\":\"0.12.1\"}};\n",
       "            var render_items = [{\"docid\":\"0a153979-ef35-40ff-8857-d7a4d1b33cc8\",\"elementid\":\"b0d04076-bb93-4224-a422-a276f6dc7468\",\"modelid\":\"79ed276a-3059-4500-9c38-9f2818a3dcc3\",\"notebook_comms_target\":\"1776481c-a346-4723-968c-4688733d1a64\"}];\n",
       "            \n",
       "            Bokeh.embed.embed_items(docs_json, render_items);\n",
       "        });\n",
       "      },\n",
       "      function(Bokeh) {\n",
       "      }\n",
       "    ];\n",
       "  \n",
       "    function run_inline_js() {\n",
       "      for (var i = 0; i < inline_js.length; i++) {\n",
       "        inline_js[i](window.Bokeh);\n",
       "      }\n",
       "    }\n",
       "  \n",
       "    if (window._bokeh_is_loading === 0) {\n",
       "      console.log(\"Bokeh: BokehJS loaded, going straight to plotting\");\n",
       "      run_inline_js();\n",
       "    } else {\n",
       "      load_libs(js_urls, function() {\n",
       "        console.log(\"Bokeh: BokehJS plotting callback run at\", now());\n",
       "        run_inline_js();\n",
       "      });\n",
       "    }\n",
       "  }(this));\n",
       "</script>"
      ]
     },
     "metadata": {},
     "output_type": "display_data"
    },
    {
     "data": {
      "text/html": [
       "<p><code>&lt;Bokeh Notebook handle for <strong>In[17]</strong>&gt;</code></p>"
      ],
      "text/plain": [
       "<bokeh.io._CommsHandle at 0x10b9d5990>"
      ]
     },
     "execution_count": 17,
     "metadata": {},
     "output_type": "execute_result"
    }
   ],
   "source": [
    "# EXERCISE: Try changing the example above to set a `radius` value instead of `size`\n",
    "# create a new plot with default tools, using figure\n",
    "p = figure(plot_width=400, plot_height=400)\n",
    "\n",
    "p.circle([1, 2, 3, 4, 5], [6, 7, 2, 4, 5], radius=linspace(0.1, 0.9, 5), line_color=\"navy\", fill_color=\"orange\", fill_alpha=0.5)\n",
    "\n",
    "show(p) # show the results\n"
   ]
  },
  {
   "cell_type": "markdown",
   "metadata": {},
   "source": [
    "To scatter square markers instead of circles, you can use the `square` method on figures. "
   ]
  },
  {
   "cell_type": "code",
   "execution_count": 5,
   "metadata": {
    "collapsed": false
   },
   "outputs": [
    {
     "data": {
      "text/html": [
       "\n",
       "\n",
       "    <div class=\"bk-root\">\n",
       "        <div class=\"plotdiv\" id=\"ccfeedab-0db1-4e49-8725-e39a535001e5\"></div>\n",
       "    </div>\n",
       "<script type=\"text/javascript\">\n",
       "  \n",
       "  (function(global) {\n",
       "    function now() {\n",
       "      return new Date();\n",
       "    }\n",
       "  \n",
       "    if (typeof (window._bokeh_onload_callbacks) === \"undefined\") {\n",
       "      window._bokeh_onload_callbacks = [];\n",
       "    }\n",
       "  \n",
       "    function run_callbacks() {\n",
       "      window._bokeh_onload_callbacks.forEach(function(callback) { callback() });\n",
       "      delete window._bokeh_onload_callbacks\n",
       "      console.info(\"Bokeh: all callbacks have finished\");\n",
       "    }\n",
       "  \n",
       "    function load_libs(js_urls, callback) {\n",
       "      window._bokeh_onload_callbacks.push(callback);\n",
       "      if (window._bokeh_is_loading > 0) {\n",
       "        console.log(\"Bokeh: BokehJS is being loaded, scheduling callback at\", now());\n",
       "        return null;\n",
       "      }\n",
       "      if (js_urls == null || js_urls.length === 0) {\n",
       "        run_callbacks();\n",
       "        return null;\n",
       "      }\n",
       "      console.log(\"Bokeh: BokehJS not loaded, scheduling load and callback at\", now());\n",
       "      window._bokeh_is_loading = js_urls.length;\n",
       "      for (var i = 0; i < js_urls.length; i++) {\n",
       "        var url = js_urls[i];\n",
       "        var s = document.createElement('script');\n",
       "        s.src = url;\n",
       "        s.async = false;\n",
       "        s.onreadystatechange = s.onload = function() {\n",
       "          window._bokeh_is_loading--;\n",
       "          if (window._bokeh_is_loading === 0) {\n",
       "            console.log(\"Bokeh: all BokehJS libraries loaded\");\n",
       "            run_callbacks()\n",
       "          }\n",
       "        };\n",
       "        s.onerror = function() {\n",
       "          console.warn(\"failed to load library \" + url);\n",
       "        };\n",
       "        console.log(\"Bokeh: injecting script tag for BokehJS library: \", url);\n",
       "        document.getElementsByTagName(\"head\")[0].appendChild(s);\n",
       "      }\n",
       "    };var element = document.getElementById(\"ccfeedab-0db1-4e49-8725-e39a535001e5\");\n",
       "    if (element == null) {\n",
       "      console.log(\"Bokeh: ERROR: autoload.js configured with elementid 'ccfeedab-0db1-4e49-8725-e39a535001e5' but no matching script tag was found. \")\n",
       "      return false;\n",
       "    }\n",
       "  \n",
       "    var js_urls = [];\n",
       "  \n",
       "    var inline_js = [\n",
       "      function(Bokeh) {\n",
       "        Bokeh.$(function() {\n",
       "            var docs_json = {\"4dfc4c44-fda5-443c-8540-ffcd0448cb9b\":{\"roots\":{\"references\":[{\"attributes\":{\"plot\":{\"id\":\"2f7f2049-d5fd-4824-bde8-b5495af37c70\",\"subtype\":\"Figure\",\"type\":\"Plot\"}},\"id\":\"73411376-323d-42a5-a641-ac5f64fa7cd8\",\"type\":\"WheelZoomTool\"},{\"attributes\":{\"fill_alpha\":{\"value\":0.1},\"fill_color\":{\"value\":\"#1f77b4\"},\"line_alpha\":{\"value\":0.1},\"line_color\":{\"value\":\"#1f77b4\"},\"size\":{\"field\":\"size\",\"units\":\"screen\"},\"x\":{\"field\":\"x\"},\"y\":{\"field\":\"y\"}},\"id\":\"36c61457-f283-453c-838f-10fbb6bf7740\",\"type\":\"Square\"},{\"attributes\":{\"bottom_units\":\"screen\",\"fill_alpha\":{\"value\":0.5},\"fill_color\":{\"value\":\"lightgrey\"},\"left_units\":\"screen\",\"level\":\"overlay\",\"line_alpha\":{\"value\":1.0},\"line_color\":{\"value\":\"black\"},\"line_dash\":[4,4],\"line_width\":{\"value\":2},\"plot\":null,\"render_mode\":\"css\",\"right_units\":\"screen\",\"top_units\":\"screen\"},\"id\":\"a65e0e7f-73b6-4720-9106-20a242090ef4\",\"type\":\"BoxAnnotation\"},{\"attributes\":{\"plot\":{\"id\":\"2f7f2049-d5fd-4824-bde8-b5495af37c70\",\"subtype\":\"Figure\",\"type\":\"Plot\"}},\"id\":\"fddf56e5-7469-4ac0-9420-ee2d73d5dfc2\",\"type\":\"PanTool\"},{\"attributes\":{},\"id\":\"9f103892-70cc-478e-9766-859ea9436833\",\"type\":\"ToolEvents\"},{\"attributes\":{\"formatter\":{\"id\":\"097c63ce-549c-47b5-a210-ee3a72147705\",\"type\":\"BasicTickFormatter\"},\"plot\":{\"id\":\"2f7f2049-d5fd-4824-bde8-b5495af37c70\",\"subtype\":\"Figure\",\"type\":\"Plot\"},\"ticker\":{\"id\":\"634d812c-3b94-4f34-a460-b6e1a7434b13\",\"type\":\"BasicTicker\"}},\"id\":\"698be53a-51bd-402c-bd20-d4d1321b4365\",\"type\":\"LinearAxis\"},{\"attributes\":{\"callback\":null,\"column_names\":[\"x\",\"y\",\"size\"],\"data\":{\"size\":[10,15,20,25,30],\"x\":[1,2,3,4,5],\"y\":[6,7,2,4,5]}},\"id\":\"bcb148aa-ecde-4c96-94e4-c6a2219740f0\",\"type\":\"ColumnDataSource\"},{\"attributes\":{\"callback\":null},\"id\":\"788835e7-0a9b-443e-8eff-0e9c0f548b36\",\"type\":\"DataRange1d\"},{\"attributes\":{\"overlay\":{\"id\":\"a65e0e7f-73b6-4720-9106-20a242090ef4\",\"type\":\"BoxAnnotation\"},\"plot\":{\"id\":\"2f7f2049-d5fd-4824-bde8-b5495af37c70\",\"subtype\":\"Figure\",\"type\":\"Plot\"}},\"id\":\"406d2a49-7674-45cd-a274-83bdb98cdfa9\",\"type\":\"BoxZoomTool\"},{\"attributes\":{\"plot\":{\"id\":\"2f7f2049-d5fd-4824-bde8-b5495af37c70\",\"subtype\":\"Figure\",\"type\":\"Plot\"},\"ticker\":{\"id\":\"f2a9da73-083b-4db7-a087-e65f0c27790d\",\"type\":\"BasicTicker\"}},\"id\":\"0ee39294-7a2b-4ea0-82f6-660f2958cb13\",\"type\":\"Grid\"},{\"attributes\":{\"active_drag\":\"auto\",\"active_scroll\":\"auto\",\"active_tap\":\"auto\",\"tools\":[{\"id\":\"fddf56e5-7469-4ac0-9420-ee2d73d5dfc2\",\"type\":\"PanTool\"},{\"id\":\"73411376-323d-42a5-a641-ac5f64fa7cd8\",\"type\":\"WheelZoomTool\"},{\"id\":\"406d2a49-7674-45cd-a274-83bdb98cdfa9\",\"type\":\"BoxZoomTool\"},{\"id\":\"b0b84ba6-8d3d-4ef4-8232-f2063be418d5\",\"type\":\"SaveTool\"},{\"id\":\"fcbeb642-8d78-489b-9171-a1c7671c41fd\",\"type\":\"ResetTool\"},{\"id\":\"0fb4ce17-2494-414b-bd69-adda04db25d7\",\"type\":\"HelpTool\"}]},\"id\":\"def4c706-9062-464d-8ee5-def6d6460b39\",\"type\":\"Toolbar\"},{\"attributes\":{\"data_source\":{\"id\":\"bcb148aa-ecde-4c96-94e4-c6a2219740f0\",\"type\":\"ColumnDataSource\"},\"glyph\":{\"id\":\"2e660f1a-2b64-492b-964d-6687d172cf23\",\"type\":\"Square\"},\"hover_glyph\":null,\"nonselection_glyph\":{\"id\":\"36c61457-f283-453c-838f-10fbb6bf7740\",\"type\":\"Square\"},\"selection_glyph\":null},\"id\":\"7b9cc844-836c-4394-8bbc-886dfa6cc4aa\",\"type\":\"GlyphRenderer\"},{\"attributes\":{},\"id\":\"097c63ce-549c-47b5-a210-ee3a72147705\",\"type\":\"BasicTickFormatter\"},{\"attributes\":{},\"id\":\"f2a9da73-083b-4db7-a087-e65f0c27790d\",\"type\":\"BasicTicker\"},{\"attributes\":{\"plot\":null,\"text\":null},\"id\":\"c9cb7324-ddd0-49fa-baef-8d1f95c9eeca\",\"type\":\"Title\"},{\"attributes\":{\"formatter\":{\"id\":\"d15b0402-7f4f-479e-8eb6-a1c47ccb5892\",\"type\":\"BasicTickFormatter\"},\"plot\":{\"id\":\"2f7f2049-d5fd-4824-bde8-b5495af37c70\",\"subtype\":\"Figure\",\"type\":\"Plot\"},\"ticker\":{\"id\":\"f2a9da73-083b-4db7-a087-e65f0c27790d\",\"type\":\"BasicTicker\"}},\"id\":\"5739ebab-9fac-4d2f-8339-a107f1e33b6d\",\"type\":\"LinearAxis\"},{\"attributes\":{},\"id\":\"d15b0402-7f4f-479e-8eb6-a1c47ccb5892\",\"type\":\"BasicTickFormatter\"},{\"attributes\":{\"plot\":{\"id\":\"2f7f2049-d5fd-4824-bde8-b5495af37c70\",\"subtype\":\"Figure\",\"type\":\"Plot\"}},\"id\":\"0fb4ce17-2494-414b-bd69-adda04db25d7\",\"type\":\"HelpTool\"},{\"attributes\":{\"plot\":{\"id\":\"2f7f2049-d5fd-4824-bde8-b5495af37c70\",\"subtype\":\"Figure\",\"type\":\"Plot\"}},\"id\":\"fcbeb642-8d78-489b-9171-a1c7671c41fd\",\"type\":\"ResetTool\"},{\"attributes\":{},\"id\":\"634d812c-3b94-4f34-a460-b6e1a7434b13\",\"type\":\"BasicTicker\"},{\"attributes\":{\"callback\":null},\"id\":\"8c3c7628-440e-4d39-860b-bc29e9a9976a\",\"type\":\"DataRange1d\"},{\"attributes\":{\"plot\":{\"id\":\"2f7f2049-d5fd-4824-bde8-b5495af37c70\",\"subtype\":\"Figure\",\"type\":\"Plot\"}},\"id\":\"b0b84ba6-8d3d-4ef4-8232-f2063be418d5\",\"type\":\"SaveTool\"},{\"attributes\":{\"below\":[{\"id\":\"5739ebab-9fac-4d2f-8339-a107f1e33b6d\",\"type\":\"LinearAxis\"}],\"left\":[{\"id\":\"698be53a-51bd-402c-bd20-d4d1321b4365\",\"type\":\"LinearAxis\"}],\"plot_height\":400,\"plot_width\":400,\"renderers\":[{\"id\":\"5739ebab-9fac-4d2f-8339-a107f1e33b6d\",\"type\":\"LinearAxis\"},{\"id\":\"0ee39294-7a2b-4ea0-82f6-660f2958cb13\",\"type\":\"Grid\"},{\"id\":\"698be53a-51bd-402c-bd20-d4d1321b4365\",\"type\":\"LinearAxis\"},{\"id\":\"8c50c12e-9f41-4433-a1b9-9dec879799c8\",\"type\":\"Grid\"},{\"id\":\"a65e0e7f-73b6-4720-9106-20a242090ef4\",\"type\":\"BoxAnnotation\"},{\"id\":\"7b9cc844-836c-4394-8bbc-886dfa6cc4aa\",\"type\":\"GlyphRenderer\"}],\"title\":{\"id\":\"c9cb7324-ddd0-49fa-baef-8d1f95c9eeca\",\"type\":\"Title\"},\"tool_events\":{\"id\":\"9f103892-70cc-478e-9766-859ea9436833\",\"type\":\"ToolEvents\"},\"toolbar\":{\"id\":\"def4c706-9062-464d-8ee5-def6d6460b39\",\"type\":\"Toolbar\"},\"x_range\":{\"id\":\"788835e7-0a9b-443e-8eff-0e9c0f548b36\",\"type\":\"DataRange1d\"},\"y_range\":{\"id\":\"8c3c7628-440e-4d39-860b-bc29e9a9976a\",\"type\":\"DataRange1d\"}},\"id\":\"2f7f2049-d5fd-4824-bde8-b5495af37c70\",\"subtype\":\"Figure\",\"type\":\"Plot\"},{\"attributes\":{\"dimension\":1,\"plot\":{\"id\":\"2f7f2049-d5fd-4824-bde8-b5495af37c70\",\"subtype\":\"Figure\",\"type\":\"Plot\"},\"ticker\":{\"id\":\"634d812c-3b94-4f34-a460-b6e1a7434b13\",\"type\":\"BasicTicker\"}},\"id\":\"8c50c12e-9f41-4433-a1b9-9dec879799c8\",\"type\":\"Grid\"},{\"attributes\":{\"fill_alpha\":{\"value\":0.6},\"fill_color\":{\"value\":\"firebrick\"},\"line_alpha\":{\"value\":0.6},\"line_color\":{\"value\":\"firebrick\"},\"size\":{\"field\":\"size\",\"units\":\"screen\"},\"x\":{\"field\":\"x\"},\"y\":{\"field\":\"y\"}},\"id\":\"2e660f1a-2b64-492b-964d-6687d172cf23\",\"type\":\"Square\"}],\"root_ids\":[\"2f7f2049-d5fd-4824-bde8-b5495af37c70\"]},\"title\":\"Bokeh Application\",\"version\":\"0.12.0\"}};\n",
       "            var render_items = [{\"docid\":\"4dfc4c44-fda5-443c-8540-ffcd0448cb9b\",\"elementid\":\"ccfeedab-0db1-4e49-8725-e39a535001e5\",\"modelid\":\"2f7f2049-d5fd-4824-bde8-b5495af37c70\",\"notebook_comms_target\":\"12984c14-8d29-4cc9-a33a-af4650ad2d40\"}];\n",
       "            \n",
       "            Bokeh.embed.embed_items(docs_json, render_items);\n",
       "        });\n",
       "      },\n",
       "      function(Bokeh) {\n",
       "      }\n",
       "    ];\n",
       "  \n",
       "    function run_inline_js() {\n",
       "      for (var i = 0; i < inline_js.length; i++) {\n",
       "        inline_js[i](window.Bokeh);\n",
       "      }\n",
       "    }\n",
       "  \n",
       "    if (window._bokeh_is_loading === 0) {\n",
       "      console.log(\"Bokeh: BokehJS loaded, going straight to plotting\");\n",
       "      run_inline_js();\n",
       "    } else {\n",
       "      load_libs(js_urls, function() {\n",
       "        console.log(\"Bokeh: BokehJS plotting callback run at\", now());\n",
       "        run_inline_js();\n",
       "      });\n",
       "    }\n",
       "  }(this));\n",
       "</script>"
      ]
     },
     "metadata": {},
     "output_type": "display_data"
    },
    {
     "data": {
      "text/html": [
       "<p><code>&lt;Bokeh Notebook handle for <strong>In[5]</strong>&gt;</code></p>"
      ],
      "text/plain": [
       "<bokeh.io._CommsHandle at 0x10da2ccc0>"
      ]
     },
     "execution_count": 5,
     "metadata": {},
     "output_type": "execute_result"
    }
   ],
   "source": [
    "# create a new plot using figure\n",
    "p = figure(plot_width=400, plot_height=400)\n",
    "\n",
    "# add a square renderer with a size, color, alpha, and sizes\n",
    "p.square([1, 2, 3, 4, 5], [6, 7, 2, 4, 5], size=[10, 15, 20, 25, 30], color=\"firebrick\", alpha=0.6)\n",
    "\n",
    "show(p) # show the results"
   ]
  },
  {
   "cell_type": "markdown",
   "metadata": {},
   "source": [
    "Note that in the example above, we are also specifying different sizes for each individual marker. ***In general, all of a glyph's properties can be \"vectorized\" in this fashion. ***  Also note that we have passed ``color`` as a shorthand to set both the line and fill colors easily at the same time. This is a convenience specific to ``bokeh.plotting``.\n",
    "\n",
    "</table><p>There are many marker types available in Bokeh, you can see details and\n",
    "example plots for all of them in the reference guide by clicking on entries in the list below:</p>\n",
    "<table class=\"hlist\" style=\"float:left\"><tr><td><ul>\n",
    "<li><a href=\"http://bokeh.pydata.org/en/latest/docs/reference/plotting.html#bokeh.plotting.Figure.asterisk\" title=\"bokeh.plotting.Figure.asterisk\"><code class=\"xref py py-func docutils literal\"><span class=\"pre\">asterisk()</span></code></a></li>\n",
    "<li><a href=\"http://bokeh.pydata.org/en/latest/docs/reference/plotting.html#bokeh.plotting.Figure.circle\" title=\"bokeh.plotting.Figure.circle\"><code class=\"xref py py-func docutils literal\"><span class=\"pre\">circle()</span></code></a></li>\n",
    "<li><a href=\"http://bokeh.pydata.org/en/latest/docs/reference/plotting.html#bokeh.plotting.Figure.circle_cross\" title=\"bokeh.plotting.Figure.circle_cross\"><code class=\"xref py py-func docutils literal\"><span class=\"pre\">circle_cross()</span></code></a></li>\n",
    "<li><a href=\"http://bokeh.pydata.org/en/latest/docs/reference/plotting.html#bokeh.plotting.Figure.circle_x\" title=\"bokeh.plotting.Figure.circle_x\"><code class=\"xref py py-func docutils literal\"><span class=\"pre\">circle_x()</span></code></a></li>\n",
    "<li><a href=\"http://bokeh.pydata.org/en/latest/docs/reference/plotting.html#bokeh.plotting.Figure.cross\" title=\"bokeh.plotting.Figure.cross\"><code class=\"xref py py-func docutils literal\"><span class=\"pre\">cross()</span></code></a></li>\n",
    "</ul>\n",
    "</td><td><ul>\n",
    "<li><a href=\"http://bokeh.pydata.org/en/latest/docs/reference/plotting.html#bokeh.plotting.Figure.diamond\" title=\"bokeh.plotting.Figure.diamond\"><code class=\"xref py py-func docutils literal\"><span class=\"pre\">diamond()</span></code></a></li>\n",
    "<li><a href=\"http://bokeh.pydata.org/en/latest/docs/reference/plotting.html#bokeh.plotting.Figure.diamond_cross\" title=\"bokeh.plotting.Figure.diamond_cross\"><code class=\"xref py py-func docutils literal\"><span class=\"pre\">diamond_cross()</span></code></a></li>\n",
    "<li><a href=\"http://bokeh.pydata.org/en/latest/docs/reference/plotting.html#bokeh.plotting.Figure.inverted_triangle\" title=\"bokeh.plotting.Figure.inverted_triangle\"><code class=\"xref py py-func docutils literal\"><span class=\"pre\">inverted_triangle()</span></code></a></li>\n",
    "<li><a href=\"http://bokeh.pydata.org/en/latest/docs/reference/plotting.html#bokeh.plotting.Figure.square\" title=\"bokeh.plotting.Figure.square\"><code class=\"xref py py-func docutils literal\"><span class=\"pre\">square()</span></code></a></li>\n",
    "</ul>\n",
    "</td><td><ul>\n",
    "<li><a href=\"http://bokeh.pydata.org/en/latest/docs/reference/plotting.html#bokeh.plotting.Figure.square_cross\" title=\"bokeh.plotting.Figure.square_cross\"><code class=\"xref py py-func docutils literal\"><span class=\"pre\">square_cross()</span></code></a></li>\n",
    "<li><a href=\"http://bokeh.pydata.org/en/latest/docs/reference/plotting.html#bokeh.plotting.Figure.square_x\" title=\"bokeh.plotting.Figure.square_x\"><code class=\"xref py py-func docutils literal\"><span class=\"pre\">square_x()</span></code></a></li>\n",
    "<li><a href=\"http://bokeh.pydata.org/en/latest/docs/reference/plotting.html#bokeh.plotting.Figure.triangle\" title=\"bokeh.plotting.Figure.triangle\"><code class=\"xref py py-func docutils literal\"><span class=\"pre\">triangle()</span></code></a></li>\n",
    "<li><a href=\"http://bokeh.pydata.org/en/latest/docs/reference/plotting.html#bokeh.plotting.Figure.x\" title=\"bokeh.plotting.Figure.x\"><code class=\"xref py py-func docutils literal\"><span class=\"pre\">x()</span></code></a></li>\n",
    "</ul>\n",
    "</td></tr></table>"
   ]
  },
  {
   "cell_type": "code",
   "execution_count": 27,
   "metadata": {
    "collapsed": false
   },
   "outputs": [
    {
     "data": {
      "text/html": [
       "\n",
       "\n",
       "    <div class=\"bk-root\">\n",
       "        <div class=\"plotdiv\" id=\"2db0da1c-2daa-43e3-9e15-c87cbcca2949\"></div>\n",
       "    </div>\n",
       "<script type=\"text/javascript\">\n",
       "  \n",
       "  (function(global) {\n",
       "    function now() {\n",
       "      return new Date();\n",
       "    }\n",
       "  \n",
       "    var force = \"\";\n",
       "  \n",
       "    if (typeof (window._bokeh_onload_callbacks) === \"undefined\" || force !== \"\") {\n",
       "      window._bokeh_onload_callbacks = [];\n",
       "      window._bokeh_is_loading = undefined;\n",
       "    }\n",
       "  \n",
       "    function run_callbacks() {\n",
       "      window._bokeh_onload_callbacks.forEach(function(callback) { callback() });\n",
       "      delete window._bokeh_onload_callbacks\n",
       "      console.info(\"Bokeh: all callbacks have finished\");\n",
       "    }\n",
       "  \n",
       "    function load_libs(js_urls, callback) {\n",
       "      window._bokeh_onload_callbacks.push(callback);\n",
       "      if (window._bokeh_is_loading > 0) {\n",
       "        console.log(\"Bokeh: BokehJS is being loaded, scheduling callback at\", now());\n",
       "        return null;\n",
       "      }\n",
       "      if (js_urls == null || js_urls.length === 0) {\n",
       "        run_callbacks();\n",
       "        return null;\n",
       "      }\n",
       "      console.log(\"Bokeh: BokehJS not loaded, scheduling load and callback at\", now());\n",
       "      window._bokeh_is_loading = js_urls.length;\n",
       "      for (var i = 0; i < js_urls.length; i++) {\n",
       "        var url = js_urls[i];\n",
       "        var s = document.createElement('script');\n",
       "        s.src = url;\n",
       "        s.async = false;\n",
       "        s.onreadystatechange = s.onload = function() {\n",
       "          window._bokeh_is_loading--;\n",
       "          if (window._bokeh_is_loading === 0) {\n",
       "            console.log(\"Bokeh: all BokehJS libraries loaded\");\n",
       "            run_callbacks()\n",
       "          }\n",
       "        };\n",
       "        s.onerror = function() {\n",
       "          console.warn(\"failed to load library \" + url);\n",
       "        };\n",
       "        console.log(\"Bokeh: injecting script tag for BokehJS library: \", url);\n",
       "        document.getElementsByTagName(\"head\")[0].appendChild(s);\n",
       "      }\n",
       "    };var element = document.getElementById(\"2db0da1c-2daa-43e3-9e15-c87cbcca2949\");\n",
       "    if (element == null) {\n",
       "      console.log(\"Bokeh: ERROR: autoload.js configured with elementid '2db0da1c-2daa-43e3-9e15-c87cbcca2949' but no matching script tag was found. \")\n",
       "      return false;\n",
       "    }\n",
       "  \n",
       "    var js_urls = [];\n",
       "  \n",
       "    var inline_js = [\n",
       "      function(Bokeh) {\n",
       "        Bokeh.$(function() {\n",
       "            var docs_json = {\"54f1647d-cba5-42ca-8443-9e451c2fbb18\":{\"roots\":{\"references\":[{\"attributes\":{},\"id\":\"d4196292-0f9d-42e0-9385-283d03de8baf\",\"type\":\"BasicTicker\"},{\"attributes\":{\"below\":[{\"id\":\"0b590035-244e-4d43-a303-2e3f78039008\",\"type\":\"LinearAxis\"}],\"left\":[{\"id\":\"1cba6699-0954-4833-882b-e7777f1f1ccc\",\"type\":\"LinearAxis\"}],\"plot_height\":400,\"plot_width\":400,\"renderers\":[{\"id\":\"0b590035-244e-4d43-a303-2e3f78039008\",\"type\":\"LinearAxis\"},{\"id\":\"ce98ae86-29d6-4000-874f-ab0d6edda9d4\",\"type\":\"Grid\"},{\"id\":\"1cba6699-0954-4833-882b-e7777f1f1ccc\",\"type\":\"LinearAxis\"},{\"id\":\"e8fbd9bc-ba4a-44b4-ad2c-69390f1c9743\",\"type\":\"Grid\"},{\"id\":\"581572f2-4cba-4446-a25e-4df53ee2d74b\",\"type\":\"BoxAnnotation\"},{\"id\":\"4a6c20be-705f-47cb-9016-6b8d9a886ce5\",\"type\":\"GlyphRenderer\"}],\"title\":{\"id\":\"9faf19d9-d597-4ec6-9110-de075f3fd880\",\"type\":\"Title\"},\"tool_events\":{\"id\":\"f91417ee-eafc-498d-a731-91aefe460c28\",\"type\":\"ToolEvents\"},\"toolbar\":{\"id\":\"8126dd97-c3bf-4cb3-b6e7-30e01e8fb296\",\"type\":\"Toolbar\"},\"x_range\":{\"id\":\"bae0dda9-e4ea-4f26-8653-2258be006f3a\",\"type\":\"DataRange1d\"},\"y_range\":{\"id\":\"4c4834be-e2a8-450f-b59b-202c394647e7\",\"type\":\"DataRange1d\"}},\"id\":\"3f705fd3-c744-43e2-8912-64a9c50f2dc8\",\"subtype\":\"Figure\",\"type\":\"Plot\"},{\"attributes\":{\"overlay\":{\"id\":\"581572f2-4cba-4446-a25e-4df53ee2d74b\",\"type\":\"BoxAnnotation\"},\"plot\":{\"id\":\"3f705fd3-c744-43e2-8912-64a9c50f2dc8\",\"subtype\":\"Figure\",\"type\":\"Plot\"}},\"id\":\"bb921efb-9507-4443-814a-f98a413a7245\",\"type\":\"BoxZoomTool\"},{\"attributes\":{\"data_source\":{\"id\":\"36ab5989-f048-4ad9-84af-f1820ee2f6f5\",\"type\":\"ColumnDataSource\"},\"glyph\":{\"id\":\"c6a1d5d7-b4ce-4c5d-b915-4e76c296f4e1\",\"type\":\"X\"},\"hover_glyph\":null,\"nonselection_glyph\":{\"id\":\"245f70d7-4177-49d5-bfa1-5d9b7476be32\",\"type\":\"X\"},\"selection_glyph\":null},\"id\":\"4a6c20be-705f-47cb-9016-6b8d9a886ce5\",\"type\":\"GlyphRenderer\"},{\"attributes\":{\"callback\":null,\"column_names\":[\"x\",\"y\",\"size\"],\"data\":{\"size\":[10,15,20,25,30],\"x\":[1,2,3,4,5],\"y\":[6,7,2,4,5]}},\"id\":\"36ab5989-f048-4ad9-84af-f1820ee2f6f5\",\"type\":\"ColumnDataSource\"},{\"attributes\":{},\"id\":\"59d0a165-60f8-4ebb-a5da-1ae39b39c419\",\"type\":\"BasicTickFormatter\"},{\"attributes\":{\"plot\":{\"id\":\"3f705fd3-c744-43e2-8912-64a9c50f2dc8\",\"subtype\":\"Figure\",\"type\":\"Plot\"}},\"id\":\"46972520-ad9c-4b89-a560-c40d0a937491\",\"type\":\"ResetTool\"},{\"attributes\":{\"bottom_units\":\"screen\",\"fill_alpha\":{\"value\":0.5},\"fill_color\":{\"value\":\"lightgrey\"},\"left_units\":\"screen\",\"level\":\"overlay\",\"line_alpha\":{\"value\":1.0},\"line_color\":{\"value\":\"black\"},\"line_dash\":[4,4],\"line_width\":{\"value\":2},\"plot\":null,\"render_mode\":\"css\",\"right_units\":\"screen\",\"top_units\":\"screen\"},\"id\":\"581572f2-4cba-4446-a25e-4df53ee2d74b\",\"type\":\"BoxAnnotation\"},{\"attributes\":{\"plot\":{\"id\":\"3f705fd3-c744-43e2-8912-64a9c50f2dc8\",\"subtype\":\"Figure\",\"type\":\"Plot\"}},\"id\":\"3172f97a-242a-4ef5-8ca5-8abee1cf7278\",\"type\":\"PanTool\"},{\"attributes\":{\"plot\":{\"id\":\"3f705fd3-c744-43e2-8912-64a9c50f2dc8\",\"subtype\":\"Figure\",\"type\":\"Plot\"}},\"id\":\"58f9b056-6fd9-46f2-875c-f22515fad9a9\",\"type\":\"WheelZoomTool\"},{\"attributes\":{\"active_drag\":\"auto\",\"active_scroll\":\"auto\",\"active_tap\":\"auto\",\"tools\":[{\"id\":\"3172f97a-242a-4ef5-8ca5-8abee1cf7278\",\"type\":\"PanTool\"},{\"id\":\"58f9b056-6fd9-46f2-875c-f22515fad9a9\",\"type\":\"WheelZoomTool\"},{\"id\":\"bb921efb-9507-4443-814a-f98a413a7245\",\"type\":\"BoxZoomTool\"},{\"id\":\"70282fb8-a877-470d-9dc5-f02c05af0939\",\"type\":\"SaveTool\"},{\"id\":\"46972520-ad9c-4b89-a560-c40d0a937491\",\"type\":\"ResetTool\"},{\"id\":\"2d6baede-676d-442b-8a6b-b51425b7c181\",\"type\":\"HelpTool\"}]},\"id\":\"8126dd97-c3bf-4cb3-b6e7-30e01e8fb296\",\"type\":\"Toolbar\"},{\"attributes\":{\"plot\":{\"id\":\"3f705fd3-c744-43e2-8912-64a9c50f2dc8\",\"subtype\":\"Figure\",\"type\":\"Plot\"}},\"id\":\"2d6baede-676d-442b-8a6b-b51425b7c181\",\"type\":\"HelpTool\"},{\"attributes\":{\"fill_alpha\":{\"value\":0.6},\"fill_color\":{\"value\":\"firebrick\"},\"line_alpha\":{\"value\":0.6},\"line_color\":{\"value\":\"firebrick\"},\"size\":{\"field\":\"size\",\"units\":\"screen\"},\"x\":{\"field\":\"x\"},\"y\":{\"field\":\"y\"}},\"id\":\"c6a1d5d7-b4ce-4c5d-b915-4e76c296f4e1\",\"type\":\"X\"},{\"attributes\":{\"plot\":{\"id\":\"3f705fd3-c744-43e2-8912-64a9c50f2dc8\",\"subtype\":\"Figure\",\"type\":\"Plot\"}},\"id\":\"70282fb8-a877-470d-9dc5-f02c05af0939\",\"type\":\"SaveTool\"},{\"attributes\":{\"formatter\":{\"id\":\"440e8ff4-99bc-43a3-b671-1ef2cd8a30db\",\"type\":\"BasicTickFormatter\"},\"plot\":{\"id\":\"3f705fd3-c744-43e2-8912-64a9c50f2dc8\",\"subtype\":\"Figure\",\"type\":\"Plot\"},\"ticker\":{\"id\":\"ae397e92-7514-4983-899e-5315345034af\",\"type\":\"BasicTicker\"}},\"id\":\"0b590035-244e-4d43-a303-2e3f78039008\",\"type\":\"LinearAxis\"},{\"attributes\":{\"callback\":null},\"id\":\"4c4834be-e2a8-450f-b59b-202c394647e7\",\"type\":\"DataRange1d\"},{\"attributes\":{},\"id\":\"440e8ff4-99bc-43a3-b671-1ef2cd8a30db\",\"type\":\"BasicTickFormatter\"},{\"attributes\":{\"dimension\":1,\"plot\":{\"id\":\"3f705fd3-c744-43e2-8912-64a9c50f2dc8\",\"subtype\":\"Figure\",\"type\":\"Plot\"},\"ticker\":{\"id\":\"d4196292-0f9d-42e0-9385-283d03de8baf\",\"type\":\"BasicTicker\"}},\"id\":\"e8fbd9bc-ba4a-44b4-ad2c-69390f1c9743\",\"type\":\"Grid\"},{\"attributes\":{\"formatter\":{\"id\":\"59d0a165-60f8-4ebb-a5da-1ae39b39c419\",\"type\":\"BasicTickFormatter\"},\"plot\":{\"id\":\"3f705fd3-c744-43e2-8912-64a9c50f2dc8\",\"subtype\":\"Figure\",\"type\":\"Plot\"},\"ticker\":{\"id\":\"d4196292-0f9d-42e0-9385-283d03de8baf\",\"type\":\"BasicTicker\"}},\"id\":\"1cba6699-0954-4833-882b-e7777f1f1ccc\",\"type\":\"LinearAxis\"},{\"attributes\":{\"callback\":null},\"id\":\"bae0dda9-e4ea-4f26-8653-2258be006f3a\",\"type\":\"DataRange1d\"},{\"attributes\":{\"plot\":null,\"text\":null},\"id\":\"9faf19d9-d597-4ec6-9110-de075f3fd880\",\"type\":\"Title\"},{\"attributes\":{},\"id\":\"f91417ee-eafc-498d-a731-91aefe460c28\",\"type\":\"ToolEvents\"},{\"attributes\":{\"plot\":{\"id\":\"3f705fd3-c744-43e2-8912-64a9c50f2dc8\",\"subtype\":\"Figure\",\"type\":\"Plot\"},\"ticker\":{\"id\":\"ae397e92-7514-4983-899e-5315345034af\",\"type\":\"BasicTicker\"}},\"id\":\"ce98ae86-29d6-4000-874f-ab0d6edda9d4\",\"type\":\"Grid\"},{\"attributes\":{\"fill_alpha\":{\"value\":0.1},\"fill_color\":{\"value\":\"#1f77b4\"},\"line_alpha\":{\"value\":0.1},\"line_color\":{\"value\":\"#1f77b4\"},\"size\":{\"field\":\"size\",\"units\":\"screen\"},\"x\":{\"field\":\"x\"},\"y\":{\"field\":\"y\"}},\"id\":\"245f70d7-4177-49d5-bfa1-5d9b7476be32\",\"type\":\"X\"},{\"attributes\":{},\"id\":\"ae397e92-7514-4983-899e-5315345034af\",\"type\":\"BasicTicker\"}],\"root_ids\":[\"3f705fd3-c744-43e2-8912-64a9c50f2dc8\"]},\"title\":\"Bokeh Application\",\"version\":\"0.12.1\"}};\n",
       "            var render_items = [{\"docid\":\"54f1647d-cba5-42ca-8443-9e451c2fbb18\",\"elementid\":\"2db0da1c-2daa-43e3-9e15-c87cbcca2949\",\"modelid\":\"3f705fd3-c744-43e2-8912-64a9c50f2dc8\",\"notebook_comms_target\":\"f0a5805a-4940-4940-a37a-4c3a6619ab9e\"}];\n",
       "            \n",
       "            Bokeh.embed.embed_items(docs_json, render_items);\n",
       "        });\n",
       "      },\n",
       "      function(Bokeh) {\n",
       "      }\n",
       "    ];\n",
       "  \n",
       "    function run_inline_js() {\n",
       "      for (var i = 0; i < inline_js.length; i++) {\n",
       "        inline_js[i](window.Bokeh);\n",
       "      }\n",
       "    }\n",
       "  \n",
       "    if (window._bokeh_is_loading === 0) {\n",
       "      console.log(\"Bokeh: BokehJS loaded, going straight to plotting\");\n",
       "      run_inline_js();\n",
       "    } else {\n",
       "      load_libs(js_urls, function() {\n",
       "        console.log(\"Bokeh: BokehJS plotting callback run at\", now());\n",
       "        run_inline_js();\n",
       "      });\n",
       "    }\n",
       "  }(this));\n",
       "</script>"
      ]
     },
     "metadata": {},
     "output_type": "display_data"
    },
    {
     "data": {
      "text/html": [
       "<p><code>&lt;Bokeh Notebook handle for <strong>In[27]</strong>&gt;</code></p>"
      ],
      "text/plain": [
       "<bokeh.io._CommsHandle at 0x10ba813d0>"
      ]
     },
     "execution_count": 27,
     "metadata": {},
     "output_type": "execute_result"
    }
   ],
   "source": [
    "# EXERCISE: Plot some different markers in this cell\n",
    "\n",
    "# create a new plot using figure\n",
    "p = figure(plot_width=400, plot_height=400)\n",
    "\n",
    "# add a square renderer with a size, color, alpha, and sizes\n",
    "p.x([1, 2, 3, 4, 5], [6, 7, 2, 4, 5], size=[10, 15, 20, 25, 30], color=\"firebrick\", alpha=0.6)\n",
    "\n",
    "show(p) # show the results"
   ]
  },
  {
   "cell_type": "markdown",
   "metadata": {},
   "source": [
    "# Basic Line Plots"
   ]
  },
  {
   "cell_type": "code",
   "execution_count": 28,
   "metadata": {
    "collapsed": false
   },
   "outputs": [
    {
     "data": {
      "text/html": [
       "\n",
       "\n",
       "    <div class=\"bk-root\">\n",
       "        <div class=\"plotdiv\" id=\"690c11ec-93e6-4eb5-93be-bc3be086397c\"></div>\n",
       "    </div>\n",
       "<script type=\"text/javascript\">\n",
       "  \n",
       "  (function(global) {\n",
       "    function now() {\n",
       "      return new Date();\n",
       "    }\n",
       "  \n",
       "    var force = \"\";\n",
       "  \n",
       "    if (typeof (window._bokeh_onload_callbacks) === \"undefined\" || force !== \"\") {\n",
       "      window._bokeh_onload_callbacks = [];\n",
       "      window._bokeh_is_loading = undefined;\n",
       "    }\n",
       "  \n",
       "    function run_callbacks() {\n",
       "      window._bokeh_onload_callbacks.forEach(function(callback) { callback() });\n",
       "      delete window._bokeh_onload_callbacks\n",
       "      console.info(\"Bokeh: all callbacks have finished\");\n",
       "    }\n",
       "  \n",
       "    function load_libs(js_urls, callback) {\n",
       "      window._bokeh_onload_callbacks.push(callback);\n",
       "      if (window._bokeh_is_loading > 0) {\n",
       "        console.log(\"Bokeh: BokehJS is being loaded, scheduling callback at\", now());\n",
       "        return null;\n",
       "      }\n",
       "      if (js_urls == null || js_urls.length === 0) {\n",
       "        run_callbacks();\n",
       "        return null;\n",
       "      }\n",
       "      console.log(\"Bokeh: BokehJS not loaded, scheduling load and callback at\", now());\n",
       "      window._bokeh_is_loading = js_urls.length;\n",
       "      for (var i = 0; i < js_urls.length; i++) {\n",
       "        var url = js_urls[i];\n",
       "        var s = document.createElement('script');\n",
       "        s.src = url;\n",
       "        s.async = false;\n",
       "        s.onreadystatechange = s.onload = function() {\n",
       "          window._bokeh_is_loading--;\n",
       "          if (window._bokeh_is_loading === 0) {\n",
       "            console.log(\"Bokeh: all BokehJS libraries loaded\");\n",
       "            run_callbacks()\n",
       "          }\n",
       "        };\n",
       "        s.onerror = function() {\n",
       "          console.warn(\"failed to load library \" + url);\n",
       "        };\n",
       "        console.log(\"Bokeh: injecting script tag for BokehJS library: \", url);\n",
       "        document.getElementsByTagName(\"head\")[0].appendChild(s);\n",
       "      }\n",
       "    };var element = document.getElementById(\"690c11ec-93e6-4eb5-93be-bc3be086397c\");\n",
       "    if (element == null) {\n",
       "      console.log(\"Bokeh: ERROR: autoload.js configured with elementid '690c11ec-93e6-4eb5-93be-bc3be086397c' but no matching script tag was found. \")\n",
       "      return false;\n",
       "    }\n",
       "  \n",
       "    var js_urls = [];\n",
       "  \n",
       "    var inline_js = [\n",
       "      function(Bokeh) {\n",
       "        Bokeh.$(function() {\n",
       "            var docs_json = {\"71bd5147-512f-48f0-a5cc-6ac364d30b7d\":{\"roots\":{\"references\":[{\"attributes\":{\"line_alpha\":{\"value\":0.1},\"line_color\":{\"value\":\"#1f77b4\"},\"line_width\":{\"value\":2},\"x\":{\"field\":\"x\"},\"y\":{\"field\":\"y\"}},\"id\":\"0171d4de-0274-48e4-b324-2a0310a6e77f\",\"type\":\"Line\"},{\"attributes\":{\"callback\":null},\"id\":\"dd4e4b50-3054-469c-ad65-993ae1d6327a\",\"type\":\"DataRange1d\"},{\"attributes\":{},\"id\":\"40bea061-1c1c-4298-972e-065c79e0b4a7\",\"type\":\"BasicTicker\"},{\"attributes\":{\"formatter\":{\"id\":\"f4ef7ace-366b-4cd4-a8d3-3a165ab37cc9\",\"type\":\"BasicTickFormatter\"},\"plot\":{\"id\":\"7238bd63-f97d-4048-af8e-030658c8874d\",\"subtype\":\"Figure\",\"type\":\"Plot\"},\"ticker\":{\"id\":\"97b27469-35e6-43bf-b476-f41bd85e4aac\",\"type\":\"BasicTicker\"}},\"id\":\"2ba59830-272c-4192-be18-6b66e62d5df5\",\"type\":\"LinearAxis\"},{\"attributes\":{},\"id\":\"9a45ad79-385a-48c3-b5aa-443fe31862e1\",\"type\":\"ToolEvents\"},{\"attributes\":{\"below\":[{\"id\":\"2ba59830-272c-4192-be18-6b66e62d5df5\",\"type\":\"LinearAxis\"}],\"left\":[{\"id\":\"9bb7d4b0-ebf1-43e8-98ef-bd64d7bd6c65\",\"type\":\"LinearAxis\"}],\"plot_height\":400,\"plot_width\":400,\"renderers\":[{\"id\":\"2ba59830-272c-4192-be18-6b66e62d5df5\",\"type\":\"LinearAxis\"},{\"id\":\"f31e4131-72b9-4875-b04a-bbe26816e638\",\"type\":\"Grid\"},{\"id\":\"9bb7d4b0-ebf1-43e8-98ef-bd64d7bd6c65\",\"type\":\"LinearAxis\"},{\"id\":\"4f98f524-c088-410a-bcdf-fef6a94108ae\",\"type\":\"Grid\"},{\"id\":\"4d3ea72e-122f-411f-90fe-40c0599a79c7\",\"type\":\"BoxAnnotation\"},{\"id\":\"f0942481-b059-442e-b7c9-d8eb6222944d\",\"type\":\"GlyphRenderer\"}],\"title\":{\"id\":\"8589fece-c986-4bfa-a765-076ea61ba331\",\"type\":\"Title\"},\"tool_events\":{\"id\":\"9a45ad79-385a-48c3-b5aa-443fe31862e1\",\"type\":\"ToolEvents\"},\"toolbar\":{\"id\":\"5cafd9a9-104d-409b-9fe6-b516e1113ae4\",\"type\":\"Toolbar\"},\"x_range\":{\"id\":\"dd4e4b50-3054-469c-ad65-993ae1d6327a\",\"type\":\"DataRange1d\"},\"y_range\":{\"id\":\"7001c0a7-8abc-47ca-80ce-191326dbd4ea\",\"type\":\"DataRange1d\"}},\"id\":\"7238bd63-f97d-4048-af8e-030658c8874d\",\"subtype\":\"Figure\",\"type\":\"Plot\"},{\"attributes\":{\"plot\":{\"id\":\"7238bd63-f97d-4048-af8e-030658c8874d\",\"subtype\":\"Figure\",\"type\":\"Plot\"}},\"id\":\"c2f1973e-371c-4029-be2b-ae5dbea22133\",\"type\":\"SaveTool\"},{\"attributes\":{},\"id\":\"3c89c5e1-d66b-435a-b8c0-11214f5656ea\",\"type\":\"BasicTickFormatter\"},{\"attributes\":{\"active_drag\":\"auto\",\"active_scroll\":\"auto\",\"active_tap\":\"auto\",\"tools\":[{\"id\":\"d22b3e50-8c52-453c-a36b-81f56f78358f\",\"type\":\"PanTool\"},{\"id\":\"7536c77a-dd2d-403c-b6a5-c400593eec4b\",\"type\":\"WheelZoomTool\"},{\"id\":\"3da86999-d9f3-4437-9983-16cffa1e471d\",\"type\":\"BoxZoomTool\"},{\"id\":\"c2f1973e-371c-4029-be2b-ae5dbea22133\",\"type\":\"SaveTool\"},{\"id\":\"219f7af6-6e78-48cf-9acf-85a796f3376c\",\"type\":\"ResetTool\"},{\"id\":\"958a9dfe-808b-46f5-b292-7e9e111aba39\",\"type\":\"HelpTool\"}]},\"id\":\"5cafd9a9-104d-409b-9fe6-b516e1113ae4\",\"type\":\"Toolbar\"},{\"attributes\":{\"line_color\":{\"value\":\"#1f77b4\"},\"line_width\":{\"value\":2},\"x\":{\"field\":\"x\"},\"y\":{\"field\":\"y\"}},\"id\":\"4ebe37bf-c154-4e4d-8bea-5fc7b37e523b\",\"type\":\"Line\"},{\"attributes\":{\"callback\":null},\"id\":\"7001c0a7-8abc-47ca-80ce-191326dbd4ea\",\"type\":\"DataRange1d\"},{\"attributes\":{\"plot\":{\"id\":\"7238bd63-f97d-4048-af8e-030658c8874d\",\"subtype\":\"Figure\",\"type\":\"Plot\"}},\"id\":\"219f7af6-6e78-48cf-9acf-85a796f3376c\",\"type\":\"ResetTool\"},{\"attributes\":{\"plot\":{\"id\":\"7238bd63-f97d-4048-af8e-030658c8874d\",\"subtype\":\"Figure\",\"type\":\"Plot\"}},\"id\":\"d22b3e50-8c52-453c-a36b-81f56f78358f\",\"type\":\"PanTool\"},{\"attributes\":{\"data_source\":{\"id\":\"4485a6d5-5f4c-47c1-a7a2-b36226c0aa04\",\"type\":\"ColumnDataSource\"},\"glyph\":{\"id\":\"4ebe37bf-c154-4e4d-8bea-5fc7b37e523b\",\"type\":\"Line\"},\"hover_glyph\":null,\"nonselection_glyph\":{\"id\":\"0171d4de-0274-48e4-b324-2a0310a6e77f\",\"type\":\"Line\"},\"selection_glyph\":null},\"id\":\"f0942481-b059-442e-b7c9-d8eb6222944d\",\"type\":\"GlyphRenderer\"},{\"attributes\":{\"overlay\":{\"id\":\"4d3ea72e-122f-411f-90fe-40c0599a79c7\",\"type\":\"BoxAnnotation\"},\"plot\":{\"id\":\"7238bd63-f97d-4048-af8e-030658c8874d\",\"subtype\":\"Figure\",\"type\":\"Plot\"}},\"id\":\"3da86999-d9f3-4437-9983-16cffa1e471d\",\"type\":\"BoxZoomTool\"},{\"attributes\":{},\"id\":\"f4ef7ace-366b-4cd4-a8d3-3a165ab37cc9\",\"type\":\"BasicTickFormatter\"},{\"attributes\":{\"plot\":{\"id\":\"7238bd63-f97d-4048-af8e-030658c8874d\",\"subtype\":\"Figure\",\"type\":\"Plot\"},\"ticker\":{\"id\":\"97b27469-35e6-43bf-b476-f41bd85e4aac\",\"type\":\"BasicTicker\"}},\"id\":\"f31e4131-72b9-4875-b04a-bbe26816e638\",\"type\":\"Grid\"},{\"attributes\":{\"bottom_units\":\"screen\",\"fill_alpha\":{\"value\":0.5},\"fill_color\":{\"value\":\"lightgrey\"},\"left_units\":\"screen\",\"level\":\"overlay\",\"line_alpha\":{\"value\":1.0},\"line_color\":{\"value\":\"black\"},\"line_dash\":[4,4],\"line_width\":{\"value\":2},\"plot\":null,\"render_mode\":\"css\",\"right_units\":\"screen\",\"top_units\":\"screen\"},\"id\":\"4d3ea72e-122f-411f-90fe-40c0599a79c7\",\"type\":\"BoxAnnotation\"},{\"attributes\":{\"plot\":{\"id\":\"7238bd63-f97d-4048-af8e-030658c8874d\",\"subtype\":\"Figure\",\"type\":\"Plot\"}},\"id\":\"958a9dfe-808b-46f5-b292-7e9e111aba39\",\"type\":\"HelpTool\"},{\"attributes\":{},\"id\":\"97b27469-35e6-43bf-b476-f41bd85e4aac\",\"type\":\"BasicTicker\"},{\"attributes\":{\"plot\":{\"id\":\"7238bd63-f97d-4048-af8e-030658c8874d\",\"subtype\":\"Figure\",\"type\":\"Plot\"}},\"id\":\"7536c77a-dd2d-403c-b6a5-c400593eec4b\",\"type\":\"WheelZoomTool\"},{\"attributes\":{\"formatter\":{\"id\":\"3c89c5e1-d66b-435a-b8c0-11214f5656ea\",\"type\":\"BasicTickFormatter\"},\"plot\":{\"id\":\"7238bd63-f97d-4048-af8e-030658c8874d\",\"subtype\":\"Figure\",\"type\":\"Plot\"},\"ticker\":{\"id\":\"40bea061-1c1c-4298-972e-065c79e0b4a7\",\"type\":\"BasicTicker\"}},\"id\":\"9bb7d4b0-ebf1-43e8-98ef-bd64d7bd6c65\",\"type\":\"LinearAxis\"},{\"attributes\":{\"plot\":null,\"text\":\"My Line Plot\"},\"id\":\"8589fece-c986-4bfa-a765-076ea61ba331\",\"type\":\"Title\"},{\"attributes\":{\"callback\":null,\"column_names\":[\"y\",\"x\"],\"data\":{\"x\":[1,2,3,4,5],\"y\":[6,7,2,4,5]}},\"id\":\"4485a6d5-5f4c-47c1-a7a2-b36226c0aa04\",\"type\":\"ColumnDataSource\"},{\"attributes\":{\"dimension\":1,\"plot\":{\"id\":\"7238bd63-f97d-4048-af8e-030658c8874d\",\"subtype\":\"Figure\",\"type\":\"Plot\"},\"ticker\":{\"id\":\"40bea061-1c1c-4298-972e-065c79e0b4a7\",\"type\":\"BasicTicker\"}},\"id\":\"4f98f524-c088-410a-bcdf-fef6a94108ae\",\"type\":\"Grid\"}],\"root_ids\":[\"7238bd63-f97d-4048-af8e-030658c8874d\"]},\"title\":\"Bokeh Application\",\"version\":\"0.12.1\"}};\n",
       "            var render_items = [{\"docid\":\"71bd5147-512f-48f0-a5cc-6ac364d30b7d\",\"elementid\":\"690c11ec-93e6-4eb5-93be-bc3be086397c\",\"modelid\":\"7238bd63-f97d-4048-af8e-030658c8874d\",\"notebook_comms_target\":\"c4fb200c-23e7-4615-9061-1b68b6c91371\"}];\n",
       "            \n",
       "            Bokeh.embed.embed_items(docs_json, render_items);\n",
       "        });\n",
       "      },\n",
       "      function(Bokeh) {\n",
       "      }\n",
       "    ];\n",
       "  \n",
       "    function run_inline_js() {\n",
       "      for (var i = 0; i < inline_js.length; i++) {\n",
       "        inline_js[i](window.Bokeh);\n",
       "      }\n",
       "    }\n",
       "  \n",
       "    if (window._bokeh_is_loading === 0) {\n",
       "      console.log(\"Bokeh: BokehJS loaded, going straight to plotting\");\n",
       "      run_inline_js();\n",
       "    } else {\n",
       "      load_libs(js_urls, function() {\n",
       "        console.log(\"Bokeh: BokehJS plotting callback run at\", now());\n",
       "        run_inline_js();\n",
       "      });\n",
       "    }\n",
       "  }(this));\n",
       "</script>"
      ]
     },
     "metadata": {},
     "output_type": "display_data"
    },
    {
     "data": {
      "text/html": [
       "<p><code>&lt;Bokeh Notebook handle for <strong>In[28]</strong>&gt;</code></p>"
      ],
      "text/plain": [
       "<bokeh.io._CommsHandle at 0x10ba305d0>"
      ]
     },
     "execution_count": 28,
     "metadata": {},
     "output_type": "execute_result"
    }
   ],
   "source": [
    "# create a new plot (with a title) using figure\n",
    "p = figure(plot_width=400, plot_height=400, title=\"My Line Plot\")\n",
    "\n",
    "# add a line renderer\n",
    "p.line([1, 2, 3, 4, 5], [6, 7, 2, 4, 5], line_width=2)\n",
    "\n",
    "show(p) # show the results"
   ]
  },
  {
   "cell_type": "markdown",
   "metadata": {},
   "source": [
    "# Images"
   ]
  },
  {
   "cell_type": "markdown",
   "metadata": {},
   "source": [
    "The example below shows how to use the `image_rgba` method to display raw RGBA data. \n",
    "\n",
    "**Note**: This example makes use of the NumPy library "
   ]
  },
  {
   "cell_type": "code",
   "execution_count": 29,
   "metadata": {
    "collapsed": false
   },
   "outputs": [
    {
     "data": {
      "text/html": [
       "\n",
       "\n",
       "    <div class=\"bk-root\">\n",
       "        <div class=\"plotdiv\" id=\"0477010b-937a-47ce-8dbb-913cbaeeaa1d\"></div>\n",
       "    </div>\n",
       "<script type=\"text/javascript\">\n",
       "  \n",
       "  (function(global) {\n",
       "    function now() {\n",
       "      return new Date();\n",
       "    }\n",
       "  \n",
       "    var force = \"\";\n",
       "  \n",
       "    if (typeof (window._bokeh_onload_callbacks) === \"undefined\" || force !== \"\") {\n",
       "      window._bokeh_onload_callbacks = [];\n",
       "      window._bokeh_is_loading = undefined;\n",
       "    }\n",
       "  \n",
       "    function run_callbacks() {\n",
       "      window._bokeh_onload_callbacks.forEach(function(callback) { callback() });\n",
       "      delete window._bokeh_onload_callbacks\n",
       "      console.info(\"Bokeh: all callbacks have finished\");\n",
       "    }\n",
       "  \n",
       "    function load_libs(js_urls, callback) {\n",
       "      window._bokeh_onload_callbacks.push(callback);\n",
       "      if (window._bokeh_is_loading > 0) {\n",
       "        console.log(\"Bokeh: BokehJS is being loaded, scheduling callback at\", now());\n",
       "        return null;\n",
       "      }\n",
       "      if (js_urls == null || js_urls.length === 0) {\n",
       "        run_callbacks();\n",
       "        return null;\n",
       "      }\n",
       "      console.log(\"Bokeh: BokehJS not loaded, scheduling load and callback at\", now());\n",
       "      window._bokeh_is_loading = js_urls.length;\n",
       "      for (var i = 0; i < js_urls.length; i++) {\n",
       "        var url = js_urls[i];\n",
       "        var s = document.createElement('script');\n",
       "        s.src = url;\n",
       "        s.async = false;\n",
       "        s.onreadystatechange = s.onload = function() {\n",
       "          window._bokeh_is_loading--;\n",
       "          if (window._bokeh_is_loading === 0) {\n",
       "            console.log(\"Bokeh: all BokehJS libraries loaded\");\n",
       "            run_callbacks()\n",
       "          }\n",
       "        };\n",
       "        s.onerror = function() {\n",
       "          console.warn(\"failed to load library \" + url);\n",
       "        };\n",
       "        console.log(\"Bokeh: injecting script tag for BokehJS library: \", url);\n",
       "        document.getElementsByTagName(\"head\")[0].appendChild(s);\n",
       "      }\n",
       "    };var element = document.getElementById(\"0477010b-937a-47ce-8dbb-913cbaeeaa1d\");\n",
       "    if (element == null) {\n",
       "      console.log(\"Bokeh: ERROR: autoload.js configured with elementid '0477010b-937a-47ce-8dbb-913cbaeeaa1d' but no matching script tag was found. \")\n",
       "      return false;\n",
       "    }\n",
       "  \n",
       "    var js_urls = [];\n",
       "  \n",
       "    var inline_js = [\n",
       "      function(Bokeh) {\n",
       "        Bokeh.$(function() {\n",
       "            var docs_json = {\"2e0de4d6-f343-4d88-8f80-e975baeebe2c\":{\"roots\":{\"references\":[{\"attributes\":{\"plot\":{\"id\":\"121f93a8-506b-4890-ac04-b883b55d341e\",\"subtype\":\"Figure\",\"type\":\"Plot\"},\"ticker\":{\"id\":\"c520c460-2d5d-4264-abd0-add9153d216a\",\"type\":\"BasicTicker\"}},\"id\":\"56f03153-6301-426c-a677-afb6e5da2957\",\"type\":\"Grid\"},{\"attributes\":{\"plot\":{\"id\":\"121f93a8-506b-4890-ac04-b883b55d341e\",\"subtype\":\"Figure\",\"type\":\"Plot\"}},\"id\":\"13e741a8-3a0a-47d7-ac7f-6480fa0fcd3b\",\"type\":\"PanTool\"},{\"attributes\":{\"plot\":null,\"text\":null},\"id\":\"09693cf5-1913-4da7-9061-c007b0064427\",\"type\":\"Title\"},{\"attributes\":{\"formatter\":{\"id\":\"78eaccd3-e257-4366-9c44-615e0c2f2edc\",\"type\":\"BasicTickFormatter\"},\"plot\":{\"id\":\"121f93a8-506b-4890-ac04-b883b55d341e\",\"subtype\":\"Figure\",\"type\":\"Plot\"},\"ticker\":{\"id\":\"c520c460-2d5d-4264-abd0-add9153d216a\",\"type\":\"BasicTicker\"}},\"id\":\"b4e65e4f-d195-4c59-ba34-31fb6ceabe8b\",\"type\":\"LinearAxis\"},{\"attributes\":{\"callback\":null,\"end\":10},\"id\":\"1af73090-1d36-4cdc-9e80-39c2d1b27a98\",\"type\":\"Range1d\"},{\"attributes\":{\"callback\":null,\"end\":10},\"id\":\"14e5ef69-4a9a-4c42-9988-6497fe28b9f9\",\"type\":\"Range1d\"},{\"attributes\":{\"plot\":{\"id\":\"121f93a8-506b-4890-ac04-b883b55d341e\",\"subtype\":\"Figure\",\"type\":\"Plot\"}},\"id\":\"acd4e6eb-8b7f-4cff-857a-73e6823eae6e\",\"type\":\"ResetTool\"},{\"attributes\":{},\"id\":\"78eaccd3-e257-4366-9c44-615e0c2f2edc\",\"type\":\"BasicTickFormatter\"},{\"attributes\":{\"plot\":{\"id\":\"121f93a8-506b-4890-ac04-b883b55d341e\",\"subtype\":\"Figure\",\"type\":\"Plot\"}},\"id\":\"c642c367-a497-4012-b1a4-f5456a545e31\",\"type\":\"WheelZoomTool\"},{\"attributes\":{\"formatter\":{\"id\":\"d756a6e3-9d4f-4f99-b2bb-fcb03706176c\",\"type\":\"BasicTickFormatter\"},\"plot\":{\"id\":\"121f93a8-506b-4890-ac04-b883b55d341e\",\"subtype\":\"Figure\",\"type\":\"Plot\"},\"ticker\":{\"id\":\"531ada81-8812-4f19-97de-a8b22150ba19\",\"type\":\"BasicTicker\"}},\"id\":\"fc3a09a0-bd5b-4de8-8676-8ab1d4482820\",\"type\":\"LinearAxis\"},{\"attributes\":{\"dimension\":1,\"plot\":{\"id\":\"121f93a8-506b-4890-ac04-b883b55d341e\",\"subtype\":\"Figure\",\"type\":\"Plot\"},\"ticker\":{\"id\":\"531ada81-8812-4f19-97de-a8b22150ba19\",\"type\":\"BasicTicker\"}},\"id\":\"7d9836b9-4b18-44b4-b844-91a7bc8bc209\",\"type\":\"Grid\"},{\"attributes\":{\"data_source\":{\"id\":\"f2686a4e-9c0e-46af-9597-c3ceffbceac0\",\"type\":\"ColumnDataSource\"},\"glyph\":{\"id\":\"877f769b-f24a-4067-88cd-c6c418f16b5a\",\"type\":\"ImageRGBA\"},\"hover_glyph\":null,\"nonselection_glyph\":{\"id\":\"7442ba22-cbf2-468b-8423-ca14f309fc48\",\"type\":\"ImageRGBA\"},\"selection_glyph\":null},\"id\":\"11cd9d7c-b8a4-4262-94a9-7465eed46f16\",\"type\":\"GlyphRenderer\"},{\"attributes\":{\"callback\":null,\"column_names\":[\"y\",\"x\",\"image\",\"dh\",\"dw\"],\"data\":{\"dh\":[10],\"dw\":[10],\"image\":[[[4278230528,4279016960,4279868928,4280720896,4281572864,4282359296,4283211264,4284063232,4284915200,4285701632,4286553600,4287405568,4288257536,4289043968,4289895936,4290747904,4291599872,4292386304,4293238272,4294090240],[4278230540,4279016972,4279868940,4280720908,4281572876,4282359308,4283211276,4284063244,4284915212,4285701644,4286553612,4287405580,4288257548,4289043980,4289895948,4290747916,4291599884,4292386316,4293238284,4294090252],[4278230553,4279016985,4279868953,4280720921,4281572889,4282359321,4283211289,4284063257,4284915225,4285701657,4286553625,4287405593,4288257561,4289043993,4289895961,4290747929,4291599897,4292386329,4293238297,4294090265],[4278230566,4279016998,4279868966,4280720934,4281572902,4282359334,4283211302,4284063270,4284915238,4285701670,4286553638,4287405606,4288257574,4289044006,4289895974,4290747942,4291599910,4292386342,4293238310,4294090278],[4278230579,4279017011,4279868979,4280720947,4281572915,4282359347,4283211315,4284063283,4284915251,4285701683,4286553651,4287405619,4288257587,4289044019,4289895987,4290747955,4291599923,4292386355,4293238323,4294090291],[4278230591,4279017023,4279868991,4280720959,4281572927,4282359359,4283211327,4284063295,4284915263,4285701695,4286553663,4287405631,4288257599,4289044031,4289895999,4290747967,4291599935,4292386367,4293238335,4294090303],[4278230604,4279017036,4279869004,4280720972,4281572940,4282359372,4283211340,4284063308,4284915276,4285701708,4286553676,4287405644,4288257612,4289044044,4289896012,4290747980,4291599948,4292386380,4293238348,4294090316],[4278230617,4279017049,4279869017,4280720985,4281572953,4282359385,4283211353,4284063321,4284915289,4285701721,4286553689,4287405657,4288257625,4289044057,4289896025,4290747993,4291599961,4292386393,4293238361,4294090329],[4278230630,4279017062,4279869030,4280720998,4281572966,4282359398,4283211366,4284063334,4284915302,4285701734,4286553702,4287405670,4288257638,4289044070,4289896038,4290748006,4291599974,4292386406,4293238374,4294090342],[4278230642,4279017074,4279869042,4280721010,4281572978,4282359410,4283211378,4284063346,4284915314,4285701746,4286553714,4287405682,4288257650,4289044082,4289896050,4290748018,4291599986,4292386418,4293238386,4294090354],[4278230655,4279017087,4279869055,4280721023,4281572991,4282359423,4283211391,4284063359,4284915327,4285701759,4286553727,4287405695,4288257663,4289044095,4289896063,4290748031,4291599999,4292386431,4293238399,4294090367],[4278230668,4279017100,4279869068,4280721036,4281573004,4282359436,4283211404,4284063372,4284915340,4285701772,4286553740,4287405708,4288257676,4289044108,4289896076,4290748044,4291600012,4292386444,4293238412,4294090380],[4278230681,4279017113,4279869081,4280721049,4281573017,4282359449,4283211417,4284063385,4284915353,4285701785,4286553753,4287405721,4288257689,4289044121,4289896089,4290748057,4291600025,4292386457,4293238425,4294090393],[4278230693,4279017125,4279869093,4280721061,4281573029,4282359461,4283211429,4284063397,4284915365,4285701797,4286553765,4287405733,4288257701,4289044133,4289896101,4290748069,4291600037,4292386469,4293238437,4294090405],[4278230706,4279017138,4279869106,4280721074,4281573042,4282359474,4283211442,4284063410,4284915378,4285701810,4286553778,4287405746,4288257714,4289044146,4289896114,4290748082,4291600050,4292386482,4293238450,4294090418],[4278230719,4279017151,4279869119,4280721087,4281573055,4282359487,4283211455,4284063423,4284915391,4285701823,4286553791,4287405759,4288257727,4289044159,4289896127,4290748095,4291600063,4292386495,4293238463,4294090431],[4278230732,4279017164,4279869132,4280721100,4281573068,4282359500,4283211468,4284063436,4284915404,4285701836,4286553804,4287405772,4288257740,4289044172,4289896140,4290748108,4291600076,4292386508,4293238476,4294090444],[4278230744,4279017176,4279869144,4280721112,4281573080,4282359512,4283211480,4284063448,4284915416,4285701848,4286553816,4287405784,4288257752,4289044184,4289896152,4290748120,4291600088,4292386520,4293238488,4294090456],[4278230757,4279017189,4279869157,4280721125,4281573093,4282359525,4283211493,4284063461,4284915429,4285701861,4286553829,4287405797,4288257765,4289044197,4289896165,4290748133,4291600101,4292386533,4293238501,4294090469],[4278230770,4279017202,4279869170,4280721138,4281573106,4282359538,4283211506,4284063474,4284915442,4285701874,4286553842,4287405810,4288257778,4289044210,4289896178,4290748146,4291600114,4292386546,4293238514,4294090482]]],\"x\":[0],\"y\":[0]}},\"id\":\"f2686a4e-9c0e-46af-9597-c3ceffbceac0\",\"type\":\"ColumnDataSource\"},{\"attributes\":{\"dh\":{\"field\":\"dh\",\"units\":\"data\"},\"dw\":{\"field\":\"dw\",\"units\":\"data\"},\"image\":{\"field\":\"image\"},\"x\":{\"field\":\"x\"},\"y\":{\"field\":\"y\"}},\"id\":\"877f769b-f24a-4067-88cd-c6c418f16b5a\",\"type\":\"ImageRGBA\"},{\"attributes\":{},\"id\":\"c520c460-2d5d-4264-abd0-add9153d216a\",\"type\":\"BasicTicker\"},{\"attributes\":{},\"id\":\"531ada81-8812-4f19-97de-a8b22150ba19\",\"type\":\"BasicTicker\"},{\"attributes\":{},\"id\":\"2ba80009-52b1-40c9-be5b-a01a19f3e730\",\"type\":\"ToolEvents\"},{\"attributes\":{},\"id\":\"d756a6e3-9d4f-4f99-b2bb-fcb03706176c\",\"type\":\"BasicTickFormatter\"},{\"attributes\":{\"below\":[{\"id\":\"b4e65e4f-d195-4c59-ba34-31fb6ceabe8b\",\"type\":\"LinearAxis\"}],\"left\":[{\"id\":\"fc3a09a0-bd5b-4de8-8676-8ab1d4482820\",\"type\":\"LinearAxis\"}],\"renderers\":[{\"id\":\"b4e65e4f-d195-4c59-ba34-31fb6ceabe8b\",\"type\":\"LinearAxis\"},{\"id\":\"56f03153-6301-426c-a677-afb6e5da2957\",\"type\":\"Grid\"},{\"id\":\"fc3a09a0-bd5b-4de8-8676-8ab1d4482820\",\"type\":\"LinearAxis\"},{\"id\":\"7d9836b9-4b18-44b4-b844-91a7bc8bc209\",\"type\":\"Grid\"},{\"id\":\"863ab46a-c494-43cd-a877-c11aaa6b88c7\",\"type\":\"BoxAnnotation\"},{\"id\":\"11cd9d7c-b8a4-4262-94a9-7465eed46f16\",\"type\":\"GlyphRenderer\"}],\"title\":{\"id\":\"09693cf5-1913-4da7-9061-c007b0064427\",\"type\":\"Title\"},\"tool_events\":{\"id\":\"2ba80009-52b1-40c9-be5b-a01a19f3e730\",\"type\":\"ToolEvents\"},\"toolbar\":{\"id\":\"638ae330-612c-4544-a786-258f00155482\",\"type\":\"Toolbar\"},\"x_range\":{\"id\":\"14e5ef69-4a9a-4c42-9988-6497fe28b9f9\",\"type\":\"Range1d\"},\"y_range\":{\"id\":\"1af73090-1d36-4cdc-9e80-39c2d1b27a98\",\"type\":\"Range1d\"}},\"id\":\"121f93a8-506b-4890-ac04-b883b55d341e\",\"subtype\":\"Figure\",\"type\":\"Plot\"},{\"attributes\":{\"dh\":{\"field\":\"dh\",\"units\":\"data\"},\"dw\":{\"field\":\"dw\",\"units\":\"data\"},\"image\":{\"field\":\"image\"},\"x\":{\"field\":\"x\"},\"y\":{\"field\":\"y\"}},\"id\":\"7442ba22-cbf2-468b-8423-ca14f309fc48\",\"type\":\"ImageRGBA\"},{\"attributes\":{\"plot\":{\"id\":\"121f93a8-506b-4890-ac04-b883b55d341e\",\"subtype\":\"Figure\",\"type\":\"Plot\"}},\"id\":\"35d73017-bfa2-45ec-8ec7-e02108a7481b\",\"type\":\"HelpTool\"},{\"attributes\":{\"active_drag\":\"auto\",\"active_scroll\":\"auto\",\"active_tap\":\"auto\",\"tools\":[{\"id\":\"13e741a8-3a0a-47d7-ac7f-6480fa0fcd3b\",\"type\":\"PanTool\"},{\"id\":\"c642c367-a497-4012-b1a4-f5456a545e31\",\"type\":\"WheelZoomTool\"},{\"id\":\"e4232070-77d7-45a0-8082-ad609ed7605d\",\"type\":\"BoxZoomTool\"},{\"id\":\"5fa3a0e6-8e8a-4650-9a8e-8e6428d9e15d\",\"type\":\"SaveTool\"},{\"id\":\"acd4e6eb-8b7f-4cff-857a-73e6823eae6e\",\"type\":\"ResetTool\"},{\"id\":\"35d73017-bfa2-45ec-8ec7-e02108a7481b\",\"type\":\"HelpTool\"}]},\"id\":\"638ae330-612c-4544-a786-258f00155482\",\"type\":\"Toolbar\"},{\"attributes\":{\"overlay\":{\"id\":\"863ab46a-c494-43cd-a877-c11aaa6b88c7\",\"type\":\"BoxAnnotation\"},\"plot\":{\"id\":\"121f93a8-506b-4890-ac04-b883b55d341e\",\"subtype\":\"Figure\",\"type\":\"Plot\"}},\"id\":\"e4232070-77d7-45a0-8082-ad609ed7605d\",\"type\":\"BoxZoomTool\"},{\"attributes\":{\"bottom_units\":\"screen\",\"fill_alpha\":{\"value\":0.5},\"fill_color\":{\"value\":\"lightgrey\"},\"left_units\":\"screen\",\"level\":\"overlay\",\"line_alpha\":{\"value\":1.0},\"line_color\":{\"value\":\"black\"},\"line_dash\":[4,4],\"line_width\":{\"value\":2},\"plot\":null,\"render_mode\":\"css\",\"right_units\":\"screen\",\"top_units\":\"screen\"},\"id\":\"863ab46a-c494-43cd-a877-c11aaa6b88c7\",\"type\":\"BoxAnnotation\"},{\"attributes\":{\"plot\":{\"id\":\"121f93a8-506b-4890-ac04-b883b55d341e\",\"subtype\":\"Figure\",\"type\":\"Plot\"}},\"id\":\"5fa3a0e6-8e8a-4650-9a8e-8e6428d9e15d\",\"type\":\"SaveTool\"}],\"root_ids\":[\"121f93a8-506b-4890-ac04-b883b55d341e\"]},\"title\":\"Bokeh Application\",\"version\":\"0.12.1\"}};\n",
       "            var render_items = [{\"docid\":\"2e0de4d6-f343-4d88-8f80-e975baeebe2c\",\"elementid\":\"0477010b-937a-47ce-8dbb-913cbaeeaa1d\",\"modelid\":\"121f93a8-506b-4890-ac04-b883b55d341e\",\"notebook_comms_target\":\"6dd4882c-e10d-40b9-8265-be9520a26428\"}];\n",
       "            \n",
       "            Bokeh.embed.embed_items(docs_json, render_items);\n",
       "        });\n",
       "      },\n",
       "      function(Bokeh) {\n",
       "      }\n",
       "    ];\n",
       "  \n",
       "    function run_inline_js() {\n",
       "      for (var i = 0; i < inline_js.length; i++) {\n",
       "        inline_js[i](window.Bokeh);\n",
       "      }\n",
       "    }\n",
       "  \n",
       "    if (window._bokeh_is_loading === 0) {\n",
       "      console.log(\"Bokeh: BokehJS loaded, going straight to plotting\");\n",
       "      run_inline_js();\n",
       "    } else {\n",
       "      load_libs(js_urls, function() {\n",
       "        console.log(\"Bokeh: BokehJS plotting callback run at\", now());\n",
       "        run_inline_js();\n",
       "      });\n",
       "    }\n",
       "  }(this));\n",
       "</script>"
      ]
     },
     "metadata": {},
     "output_type": "display_data"
    },
    {
     "data": {
      "text/html": [
       "<p><code>&lt;Bokeh Notebook handle for <strong>In[29]</strong>&gt;</code></p>"
      ],
      "text/plain": [
       "<bokeh.io._CommsHandle at 0x10bae0f50>"
      ]
     },
     "execution_count": 29,
     "metadata": {},
     "output_type": "execute_result"
    }
   ],
   "source": [
    "from __future__ import division\n",
    "import numpy as np\n",
    "\n",
    "# set up some data\n",
    "N = 20\n",
    "img = np.empty((N,N), dtype=np.uint32)\n",
    "view = img.view(dtype=np.uint8).reshape((N, N, 4))\n",
    "for i in range(N):\n",
    "    for j in range(N):\n",
    "        view[i, j, 0] = int(i/N*255) # red\n",
    "        view[i, j, 1] = 158          # green\n",
    "        view[i, j, 2] = int(j/N*255) # blue\n",
    "        view[i, j, 3] = 255          # alpha\n",
    "        \n",
    "# create a new plot (with a fixed range) using figure\n",
    "p = figure(x_range=[0,10], y_range=[0,10])\n",
    "\n",
    "# add an RGBA image renderer\n",
    "p.image_rgba(image=[img], x=[0], y=[0], dw=[10], dh=[10])\n",
    "\n",
    "show(p) # show the results"
   ]
  },
  {
   "cell_type": "markdown",
   "metadata": {},
   "source": [
    "# Other Kinds of Glyphs\n",
    "\n",
    "Bokeh supports many other kinds of glyphs. You can click on the User Guide links below to see how to create plots with these glyphs using the [`bokeh.plotting`](http://bokeh.pydata.org/en/latest/docs/user_guide/plotting.html) interface.\n",
    "\n",
    "* [Rectangles and Ovals](http://bokeh.pydata.org/en/latest/docs/user_guide/plotting.html#rectangles-and-ovals)\n",
    "* [Segments and Rays](http://bokeh.pydata.org/en/latest/docs/user_guide/plotting.html#segments-and-rays)\n",
    "* [Wedges and Arcs](http://bokeh.pydata.org/en/latest/docs/user_guide/plotting.html#wedges-and-arcs)\n",
    "* [Specialized Curves](http://bokeh.pydata.org/en/latest/docs/user_guide/plotting.html#specialized-curves)\n"
   ]
  },
  {
   "cell_type": "code",
   "execution_count": 9,
   "metadata": {
    "collapsed": true
   },
   "outputs": [],
   "source": [
    "# EXERCISE: Plot some of the other glyph types, following the examples in the User Guide. \n",
    "\n"
   ]
  },
  {
   "cell_type": "markdown",
   "metadata": {},
   "source": [
    "# Plots with Multiple Glyphs \n",
    "\n",
    "It is possible to combine more than one glyph on a single figure. You just need to call multiple glyph methods on one figure object:"
   ]
  },
  {
   "cell_type": "code",
   "execution_count": 34,
   "metadata": {
    "collapsed": true
   },
   "outputs": [],
   "source": [
    "# set up some data\n",
    "x = [1, 2, 3, 4, 5]\n",
    "y = [6, 7, 8, 7, 3]"
   ]
  },
  {
   "cell_type": "code",
   "execution_count": 37,
   "metadata": {
    "collapsed": false
   },
   "outputs": [],
   "source": [
    "y2 = [y1+1 for y1 in y]"
   ]
  },
  {
   "cell_type": "code",
   "execution_count": 38,
   "metadata": {
    "collapsed": false
   },
   "outputs": [
    {
     "data": {
      "text/html": [
       "\n",
       "\n",
       "    <div class=\"bk-root\">\n",
       "        <div class=\"plotdiv\" id=\"6e879796-d1b6-4b5a-b531-36b6aaf8830c\"></div>\n",
       "    </div>\n",
       "<script type=\"text/javascript\">\n",
       "  \n",
       "  (function(global) {\n",
       "    function now() {\n",
       "      return new Date();\n",
       "    }\n",
       "  \n",
       "    var force = \"\";\n",
       "  \n",
       "    if (typeof (window._bokeh_onload_callbacks) === \"undefined\" || force !== \"\") {\n",
       "      window._bokeh_onload_callbacks = [];\n",
       "      window._bokeh_is_loading = undefined;\n",
       "    }\n",
       "  \n",
       "    function run_callbacks() {\n",
       "      window._bokeh_onload_callbacks.forEach(function(callback) { callback() });\n",
       "      delete window._bokeh_onload_callbacks\n",
       "      console.info(\"Bokeh: all callbacks have finished\");\n",
       "    }\n",
       "  \n",
       "    function load_libs(js_urls, callback) {\n",
       "      window._bokeh_onload_callbacks.push(callback);\n",
       "      if (window._bokeh_is_loading > 0) {\n",
       "        console.log(\"Bokeh: BokehJS is being loaded, scheduling callback at\", now());\n",
       "        return null;\n",
       "      }\n",
       "      if (js_urls == null || js_urls.length === 0) {\n",
       "        run_callbacks();\n",
       "        return null;\n",
       "      }\n",
       "      console.log(\"Bokeh: BokehJS not loaded, scheduling load and callback at\", now());\n",
       "      window._bokeh_is_loading = js_urls.length;\n",
       "      for (var i = 0; i < js_urls.length; i++) {\n",
       "        var url = js_urls[i];\n",
       "        var s = document.createElement('script');\n",
       "        s.src = url;\n",
       "        s.async = false;\n",
       "        s.onreadystatechange = s.onload = function() {\n",
       "          window._bokeh_is_loading--;\n",
       "          if (window._bokeh_is_loading === 0) {\n",
       "            console.log(\"Bokeh: all BokehJS libraries loaded\");\n",
       "            run_callbacks()\n",
       "          }\n",
       "        };\n",
       "        s.onerror = function() {\n",
       "          console.warn(\"failed to load library \" + url);\n",
       "        };\n",
       "        console.log(\"Bokeh: injecting script tag for BokehJS library: \", url);\n",
       "        document.getElementsByTagName(\"head\")[0].appendChild(s);\n",
       "      }\n",
       "    };var element = document.getElementById(\"6e879796-d1b6-4b5a-b531-36b6aaf8830c\");\n",
       "    if (element == null) {\n",
       "      console.log(\"Bokeh: ERROR: autoload.js configured with elementid '6e879796-d1b6-4b5a-b531-36b6aaf8830c' but no matching script tag was found. \")\n",
       "      return false;\n",
       "    }\n",
       "  \n",
       "    var js_urls = [];\n",
       "  \n",
       "    var inline_js = [\n",
       "      function(Bokeh) {\n",
       "        Bokeh.$(function() {\n",
       "            var docs_json = {\"1f38ad83-81b8-427d-8108-089bdd03888f\":{\"roots\":{\"references\":[{\"attributes\":{\"callback\":null,\"column_names\":[\"y\",\"x\"],\"data\":{\"x\":[1,2,3,4,5],\"y\":[6,7,8,7,3]}},\"id\":\"a95ec1dc-008f-47e4-a9b4-75afca57df68\",\"type\":\"ColumnDataSource\"},{\"attributes\":{\"bottom_units\":\"screen\",\"fill_alpha\":{\"value\":0.5},\"fill_color\":{\"value\":\"lightgrey\"},\"left_units\":\"screen\",\"level\":\"overlay\",\"line_alpha\":{\"value\":1.0},\"line_color\":{\"value\":\"black\"},\"line_dash\":[4,4],\"line_width\":{\"value\":2},\"plot\":null,\"render_mode\":\"css\",\"right_units\":\"screen\",\"top_units\":\"screen\"},\"id\":\"a08a0dd3-bd61-4c3a-8438-7954779377ed\",\"type\":\"BoxAnnotation\"},{\"attributes\":{\"plot\":{\"id\":\"72eb4973-fef1-41f0-9112-ea0049f6cb7f\",\"subtype\":\"Figure\",\"type\":\"Plot\"}},\"id\":\"317220c8-5f00-4aa7-b4d8-20e84ef81be9\",\"type\":\"SaveTool\"},{\"attributes\":{\"plot\":{\"id\":\"72eb4973-fef1-41f0-9112-ea0049f6cb7f\",\"subtype\":\"Figure\",\"type\":\"Plot\"}},\"id\":\"8d4bdf0d-9ec7-4e10-b760-6331358b5e57\",\"type\":\"PanTool\"},{\"attributes\":{},\"id\":\"d91d940b-d598-4005-85a3-478e3efb1cf1\",\"type\":\"BasicTicker\"},{\"attributes\":{\"line_alpha\":{\"value\":0.1},\"line_color\":{\"value\":\"#1f77b4\"},\"line_width\":{\"value\":2},\"x\":{\"field\":\"x\"},\"y\":{\"field\":\"y\"}},\"id\":\"9376ccc7-f0ac-4d5f-be4c-0f8988fd9702\",\"type\":\"Line\"},{\"attributes\":{},\"id\":\"9697ae68-cb2c-42db-ab36-e0e52b05cfa2\",\"type\":\"BasicTickFormatter\"},{\"attributes\":{\"plot\":null,\"text\":null},\"id\":\"1eb99aaa-6568-4344-b6ec-b8f9c2c5f6c7\",\"type\":\"Title\"},{\"attributes\":{\"fill_color\":{\"value\":\"white\"},\"line_color\":{\"value\":\"#1f77b4\"},\"size\":{\"units\":\"screen\",\"value\":8},\"x\":{\"field\":\"x\"},\"y\":{\"field\":\"y\"}},\"id\":\"e1033d24-453e-4ee5-87e1-98138292d3c0\",\"type\":\"Circle\"},{\"attributes\":{\"dimension\":1,\"plot\":{\"id\":\"72eb4973-fef1-41f0-9112-ea0049f6cb7f\",\"subtype\":\"Figure\",\"type\":\"Plot\"},\"ticker\":{\"id\":\"d91d940b-d598-4005-85a3-478e3efb1cf1\",\"type\":\"BasicTicker\"}},\"id\":\"50dccab3-129b-4283-b65e-556d6b3dee4b\",\"type\":\"Grid\"},{\"attributes\":{\"callback\":null},\"id\":\"8bf342a9-f1c3-40e1-b222-fad97d2aa9b2\",\"type\":\"DataRange1d\"},{\"attributes\":{\"data_source\":{\"id\":\"396ff239-98e9-4dfc-94b3-bdcdfbde928f\",\"type\":\"ColumnDataSource\"},\"glyph\":{\"id\":\"f53d36d9-e299-4b6a-8bb4-4461ad04b4a7\",\"type\":\"Cross\"},\"hover_glyph\":null,\"nonselection_glyph\":{\"id\":\"e42faf52-8979-46a0-a44b-df0465521ead\",\"type\":\"Cross\"},\"selection_glyph\":null},\"id\":\"1168e267-5f61-418f-b3e5-7d9cf1a8b8fc\",\"type\":\"GlyphRenderer\"},{\"attributes\":{\"line_color\":{\"value\":\"#1f77b4\"},\"line_width\":{\"value\":2},\"x\":{\"field\":\"x\"},\"y\":{\"field\":\"y\"}},\"id\":\"ad5aefca-3261-4abf-ae98-c212844d575a\",\"type\":\"Line\"},{\"attributes\":{\"active_drag\":\"auto\",\"active_scroll\":\"auto\",\"active_tap\":\"auto\",\"tools\":[{\"id\":\"8d4bdf0d-9ec7-4e10-b760-6331358b5e57\",\"type\":\"PanTool\"},{\"id\":\"d9696de2-f975-4b08-8c0f-318c04729de4\",\"type\":\"WheelZoomTool\"},{\"id\":\"024b4a12-8bb4-436a-b259-c011fcd6c975\",\"type\":\"BoxZoomTool\"},{\"id\":\"317220c8-5f00-4aa7-b4d8-20e84ef81be9\",\"type\":\"SaveTool\"},{\"id\":\"7712c7d7-c0a0-4f0a-8e19-98e3f2f7fff9\",\"type\":\"ResetTool\"},{\"id\":\"803a20fe-f5ca-4320-b71c-05f79ad1481c\",\"type\":\"HelpTool\"}]},\"id\":\"fcd23467-7acc-40ed-b3b0-5c42fa45cdc5\",\"type\":\"Toolbar\"},{\"attributes\":{\"data_source\":{\"id\":\"dca9fff6-4beb-4ee9-84af-f86ebeed970d\",\"type\":\"ColumnDataSource\"},\"glyph\":{\"id\":\"ad5aefca-3261-4abf-ae98-c212844d575a\",\"type\":\"Line\"},\"hover_glyph\":null,\"nonselection_glyph\":{\"id\":\"9376ccc7-f0ac-4d5f-be4c-0f8988fd9702\",\"type\":\"Line\"},\"selection_glyph\":null},\"id\":\"ae56e5c0-a132-428b-9080-71f31f1a6b27\",\"type\":\"GlyphRenderer\"},{\"attributes\":{\"callback\":null,\"column_names\":[\"y\",\"x\"],\"data\":{\"x\":[1,2,3,4,5],\"y\":[6,7,8,7,3]}},\"id\":\"dca9fff6-4beb-4ee9-84af-f86ebeed970d\",\"type\":\"ColumnDataSource\"},{\"attributes\":{\"plot\":{\"id\":\"72eb4973-fef1-41f0-9112-ea0049f6cb7f\",\"subtype\":\"Figure\",\"type\":\"Plot\"}},\"id\":\"d9696de2-f975-4b08-8c0f-318c04729de4\",\"type\":\"WheelZoomTool\"},{\"attributes\":{\"overlay\":{\"id\":\"a08a0dd3-bd61-4c3a-8438-7954779377ed\",\"type\":\"BoxAnnotation\"},\"plot\":{\"id\":\"72eb4973-fef1-41f0-9112-ea0049f6cb7f\",\"subtype\":\"Figure\",\"type\":\"Plot\"}},\"id\":\"024b4a12-8bb4-436a-b259-c011fcd6c975\",\"type\":\"BoxZoomTool\"},{\"attributes\":{\"below\":[{\"id\":\"f45c6dd8-2e03-46ab-b716-f34455b3c2c3\",\"type\":\"LinearAxis\"}],\"left\":[{\"id\":\"bb02d823-bd44-4044-832e-aca89c9fc12c\",\"type\":\"LinearAxis\"}],\"plot_height\":400,\"plot_width\":400,\"renderers\":[{\"id\":\"f45c6dd8-2e03-46ab-b716-f34455b3c2c3\",\"type\":\"LinearAxis\"},{\"id\":\"0f1974cb-a208-4696-b014-e20f36359531\",\"type\":\"Grid\"},{\"id\":\"bb02d823-bd44-4044-832e-aca89c9fc12c\",\"type\":\"LinearAxis\"},{\"id\":\"50dccab3-129b-4283-b65e-556d6b3dee4b\",\"type\":\"Grid\"},{\"id\":\"a08a0dd3-bd61-4c3a-8438-7954779377ed\",\"type\":\"BoxAnnotation\"},{\"id\":\"ae56e5c0-a132-428b-9080-71f31f1a6b27\",\"type\":\"GlyphRenderer\"},{\"id\":\"379d1144-1e30-4a95-be8e-9bbdbd2af01d\",\"type\":\"GlyphRenderer\"},{\"id\":\"1168e267-5f61-418f-b3e5-7d9cf1a8b8fc\",\"type\":\"GlyphRenderer\"}],\"title\":{\"id\":\"1eb99aaa-6568-4344-b6ec-b8f9c2c5f6c7\",\"type\":\"Title\"},\"tool_events\":{\"id\":\"f1063504-f0a1-437d-9aaf-e73afed902c0\",\"type\":\"ToolEvents\"},\"toolbar\":{\"id\":\"fcd23467-7acc-40ed-b3b0-5c42fa45cdc5\",\"type\":\"Toolbar\"},\"x_range\":{\"id\":\"8bf342a9-f1c3-40e1-b222-fad97d2aa9b2\",\"type\":\"DataRange1d\"},\"y_range\":{\"id\":\"f054ab09-2561-4441-959f-4af44de44900\",\"type\":\"DataRange1d\"}},\"id\":\"72eb4973-fef1-41f0-9112-ea0049f6cb7f\",\"subtype\":\"Figure\",\"type\":\"Plot\"},{\"attributes\":{},\"id\":\"b37923ac-f495-40b6-8da4-1f2fabab2078\",\"type\":\"BasicTicker\"},{\"attributes\":{\"data_source\":{\"id\":\"a95ec1dc-008f-47e4-a9b4-75afca57df68\",\"type\":\"ColumnDataSource\"},\"glyph\":{\"id\":\"e1033d24-453e-4ee5-87e1-98138292d3c0\",\"type\":\"Circle\"},\"hover_glyph\":null,\"nonselection_glyph\":{\"id\":\"277cbba6-b5d5-4370-b627-0ab0b567523b\",\"type\":\"Circle\"},\"selection_glyph\":null},\"id\":\"379d1144-1e30-4a95-be8e-9bbdbd2af01d\",\"type\":\"GlyphRenderer\"},{\"attributes\":{\"formatter\":{\"id\":\"3ec9fb82-2fcd-4ab0-8080-45f804c975dc\",\"type\":\"BasicTickFormatter\"},\"plot\":{\"id\":\"72eb4973-fef1-41f0-9112-ea0049f6cb7f\",\"subtype\":\"Figure\",\"type\":\"Plot\"},\"ticker\":{\"id\":\"d91d940b-d598-4005-85a3-478e3efb1cf1\",\"type\":\"BasicTicker\"}},\"id\":\"bb02d823-bd44-4044-832e-aca89c9fc12c\",\"type\":\"LinearAxis\"},{\"attributes\":{\"callback\":null},\"id\":\"f054ab09-2561-4441-959f-4af44de44900\",\"type\":\"DataRange1d\"},{\"attributes\":{},\"id\":\"f1063504-f0a1-437d-9aaf-e73afed902c0\",\"type\":\"ToolEvents\"},{\"attributes\":{\"fill_color\":{\"value\":\"red\"},\"line_color\":{\"value\":\"red\"},\"size\":{\"units\":\"screen\",\"value\":8},\"x\":{\"field\":\"x\"},\"y\":{\"field\":\"y\"}},\"id\":\"f53d36d9-e299-4b6a-8bb4-4461ad04b4a7\",\"type\":\"Cross\"},{\"attributes\":{\"plot\":{\"id\":\"72eb4973-fef1-41f0-9112-ea0049f6cb7f\",\"subtype\":\"Figure\",\"type\":\"Plot\"},\"ticker\":{\"id\":\"b37923ac-f495-40b6-8da4-1f2fabab2078\",\"type\":\"BasicTicker\"}},\"id\":\"0f1974cb-a208-4696-b014-e20f36359531\",\"type\":\"Grid\"},{\"attributes\":{\"plot\":{\"id\":\"72eb4973-fef1-41f0-9112-ea0049f6cb7f\",\"subtype\":\"Figure\",\"type\":\"Plot\"}},\"id\":\"7712c7d7-c0a0-4f0a-8e19-98e3f2f7fff9\",\"type\":\"ResetTool\"},{\"attributes\":{\"callback\":null,\"column_names\":[\"y\",\"x\"],\"data\":{\"x\":[1,2,3,4,5],\"y\":[7,8,9,8,4]}},\"id\":\"396ff239-98e9-4dfc-94b3-bdcdfbde928f\",\"type\":\"ColumnDataSource\"},{\"attributes\":{},\"id\":\"3ec9fb82-2fcd-4ab0-8080-45f804c975dc\",\"type\":\"BasicTickFormatter\"},{\"attributes\":{\"fill_alpha\":{\"value\":0.1},\"fill_color\":{\"value\":\"#1f77b4\"},\"line_alpha\":{\"value\":0.1},\"line_color\":{\"value\":\"#1f77b4\"},\"size\":{\"units\":\"screen\",\"value\":8},\"x\":{\"field\":\"x\"},\"y\":{\"field\":\"y\"}},\"id\":\"e42faf52-8979-46a0-a44b-df0465521ead\",\"type\":\"Cross\"},{\"attributes\":{\"plot\":{\"id\":\"72eb4973-fef1-41f0-9112-ea0049f6cb7f\",\"subtype\":\"Figure\",\"type\":\"Plot\"}},\"id\":\"803a20fe-f5ca-4320-b71c-05f79ad1481c\",\"type\":\"HelpTool\"},{\"attributes\":{\"formatter\":{\"id\":\"9697ae68-cb2c-42db-ab36-e0e52b05cfa2\",\"type\":\"BasicTickFormatter\"},\"plot\":{\"id\":\"72eb4973-fef1-41f0-9112-ea0049f6cb7f\",\"subtype\":\"Figure\",\"type\":\"Plot\"},\"ticker\":{\"id\":\"b37923ac-f495-40b6-8da4-1f2fabab2078\",\"type\":\"BasicTicker\"}},\"id\":\"f45c6dd8-2e03-46ab-b716-f34455b3c2c3\",\"type\":\"LinearAxis\"},{\"attributes\":{\"fill_alpha\":{\"value\":0.1},\"fill_color\":{\"value\":\"#1f77b4\"},\"line_alpha\":{\"value\":0.1},\"line_color\":{\"value\":\"#1f77b4\"},\"size\":{\"units\":\"screen\",\"value\":8},\"x\":{\"field\":\"x\"},\"y\":{\"field\":\"y\"}},\"id\":\"277cbba6-b5d5-4370-b627-0ab0b567523b\",\"type\":\"Circle\"}],\"root_ids\":[\"72eb4973-fef1-41f0-9112-ea0049f6cb7f\"]},\"title\":\"Bokeh Application\",\"version\":\"0.12.1\"}};\n",
       "            var render_items = [{\"docid\":\"1f38ad83-81b8-427d-8108-089bdd03888f\",\"elementid\":\"6e879796-d1b6-4b5a-b531-36b6aaf8830c\",\"modelid\":\"72eb4973-fef1-41f0-9112-ea0049f6cb7f\",\"notebook_comms_target\":\"c39ee781-8491-4a5b-968d-141b82868f7b\"}];\n",
       "            \n",
       "            Bokeh.embed.embed_items(docs_json, render_items);\n",
       "        });\n",
       "      },\n",
       "      function(Bokeh) {\n",
       "      }\n",
       "    ];\n",
       "  \n",
       "    function run_inline_js() {\n",
       "      for (var i = 0; i < inline_js.length; i++) {\n",
       "        inline_js[i](window.Bokeh);\n",
       "      }\n",
       "    }\n",
       "  \n",
       "    if (window._bokeh_is_loading === 0) {\n",
       "      console.log(\"Bokeh: BokehJS loaded, going straight to plotting\");\n",
       "      run_inline_js();\n",
       "    } else {\n",
       "      load_libs(js_urls, function() {\n",
       "        console.log(\"Bokeh: BokehJS plotting callback run at\", now());\n",
       "        run_inline_js();\n",
       "      });\n",
       "    }\n",
       "  }(this));\n",
       "</script>"
      ]
     },
     "metadata": {},
     "output_type": "display_data"
    },
    {
     "data": {
      "text/html": [
       "<p><code>&lt;Bokeh Notebook handle for <strong>In[38]</strong>&gt;</code></p>"
      ],
      "text/plain": [
       "<bokeh.io._CommsHandle at 0x10bc2f7d0>"
      ]
     },
     "execution_count": 38,
     "metadata": {},
     "output_type": "execute_result"
    }
   ],
   "source": [
    "# create a new plot with figure\n",
    "p = figure(plot_width=400, plot_height=400)\n",
    "\n",
    "# add both a line and circles on the same plot\n",
    "p.line(x, y, line_width=2)\n",
    "p.circle(x, y, fill_color=\"white\", size=8)\n",
    "p.cross(x, y2, color='red', size=8)\n",
    "show(p) # show the results"
   ]
  },
  {
   "cell_type": "code",
   "execution_count": 11,
   "metadata": {
    "collapsed": true
   },
   "outputs": [],
   "source": [
    "# EXERCISE: create your own plot combining multiple glyphs together\n",
    "\n"
   ]
  },
  {
   "cell_type": "code",
   "execution_count": null,
   "metadata": {
    "collapsed": true
   },
   "outputs": [],
   "source": []
  }
 ],
 "metadata": {
  "kernelspec": {
   "display_name": "Python 2",
   "language": "python",
   "name": "python2"
  },
  "language_info": {
   "codemirror_mode": {
    "name": "ipython",
    "version": 2
   },
   "file_extension": ".py",
   "mimetype": "text/x-python",
   "name": "python",
   "nbconvert_exporter": "python",
   "pygments_lexer": "ipython2",
   "version": "2.7.12"
  }
 },
 "nbformat": 4,
 "nbformat_minor": 0
}
