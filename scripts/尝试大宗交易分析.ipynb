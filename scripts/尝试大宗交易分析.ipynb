{
 "cells": [
  {
   "cell_type": "markdown",
   "metadata": {},
   "source": [
    "## 美的集团可交易的总流通股本是64.24亿股\n",
    "### 20160919以前，美的集团有33.85亿无限售流通股\n",
    "### 20160919至今，美的集团有63.42亿无限售流通股\n",
    "### 20160919之后，美的集团新增30.43亿无限售流通股\n",
    "### 其中22亿多股是属于美的控股\n",
    "### 另外7-8亿股属于几个自然人股东"
   ]
  },
  {
   "cell_type": "markdown",
   "metadata": {},
   "source": [
    "# 中心问题\n",
    "\n",
    "1. 机构投资者是否多数情况下通过大宗交易来获取股票？是不是机构或大户会首选大宗交易来买卖，只有当大宗交易没有对手盘时，才被迫选择实盘买卖（因为不愿看到自己在实盘中的大手笔买卖而导致股票价格大幅波动，不利于自己低位建仓和获利了结）？\n",
    "2. 如果**机构席位**买卖是指**基金专用席位、券商自营专用席位、社保专用席位、券商理财专用席位、保险机构专用席位、保险机构租用席位、QFII专用席位等机构投资者**在买卖证券的话， 那么**中金上海分公司，某某地区营业部**，**招商，海通，国金，财通某某地区营业部**的买卖行为，具体包括哪些人或单位的买卖行为呢？\n",
    "3. 可以将中金营业部（北京，上海，广州，深圳主营业部）视为国家队行为吗？\n",
    "4. 2016年4-7月，中金营业部向机构卖出4-5亿股，这可以被认为是国家队获利了结的行为吗（但这些中金的筹码不是2015年股灾是买的，下图可识别）？将筹码从国家队转手给国内外的基金和私募投资机构\n",
    "5. 2016年10月10日，中金营业部向机构卖出1.1亿股，这仍旧是国家队获利了结吗？还是有可能是解禁的股票获利了结呢？如果是，两者都是从中金营业部卖出的话，该如何识别区分呢？\n",
    "6. 如果在4-7月份买入的机构投资者，开始看空并且要获利了结的话，他们也主要通过大宗交易进行吗？如果是的话，大宗交易的买方要么是其他机构席位，要么就只能是营业部，国家队营业部（中金）肯定不会在高位买了；那如果是营业部买，那背后会是些什么人和机构呢？如果没有机构和营业部愿意接盘，那么机构就只能上实盘里抛售了吧？那么在交易软件上就会出现在高位的巨量成交？但这些巨量成交中应该也有所谓的主力资金（加上跟着这些主力一起冲的散户），对吧？这些主力资金是不是就是帮助套牢大多数基民的公墓基金呢？\n",
    "7. 基于以上的问题，基于大宗交易数据，个人投资者也许可以找到安全的买卖时间区间： \n",
    "8. 买： 当机构观点一致，买方量80%来自机构，卖方80-90%的量来自国家队（201604-10）\n",
    "9. 卖： 当机构意见分化，买卖的量80-90%都来自机构，机警机构卖给散户思维的机构，（201501-07）\n"
   ]
  },
  {
   "cell_type": "code",
   "execution_count": null,
   "metadata": {
    "collapsed": false
   },
   "outputs": [],
   "source": [
    "import pandas as pd"
   ]
  },
  {
   "cell_type": "code",
   "execution_count": null,
   "metadata": {
    "collapsed": false
   },
   "outputs": [
    {
     "data": {
      "text/html": [
       "<div style=\"max-width:1500px;overflow:auto;\">\n",
       "<table border=\"1\" class=\"dataframe\">\n",
       "  <thead>\n",
       "    <tr style=\"text-align: right;\">\n",
       "      <th></th>\n",
       "      <th>secID</th>\n",
       "      <th>ticker</th>\n",
       "      <th>secShortName</th>\n",
       "      <th>exchangeCD</th>\n",
       "      <th>partyID</th>\n",
       "      <th>changeDate</th>\n",
       "      <th>totalShares</th>\n",
       "      <th>sharesA</th>\n",
       "      <th>sharesB</th>\n",
       "      <th>floatA</th>\n",
       "      <th>nonrestfloatA</th>\n",
       "      <th>floatB</th>\n",
       "      <th>restShares</th>\n",
       "      <th>nonrestFloatShares</th>\n",
       "    </tr>\n",
       "  </thead>\n",
       "  <tbody>\n",
       "    <tr>\n",
       "      <th>0</th>\n",
       "      <td>000333.XSHE</td>\n",
       "      <td>000333</td>\n",
       "      <td>美的集团</td>\n",
       "      <td>XSHE</td>\n",
       "      <td>3522</td>\n",
       "      <td>2016-09-19</td>\n",
       "      <td>6424934300</td>\n",
       "      <td>6424934300</td>\n",
       "      <td>NaN</td>\n",
       "      <td>6424934300</td>\n",
       "      <td>6341691900</td>\n",
       "      <td>NaN</td>\n",
       "      <td>83242400</td>\n",
       "      <td>6341691900</td>\n",
       "    </tr>\n",
       "    <tr>\n",
       "      <th>1</th>\n",
       "      <td>000333.XSHE</td>\n",
       "      <td>000333</td>\n",
       "      <td>美的集团</td>\n",
       "      <td>XSHE</td>\n",
       "      <td>3522</td>\n",
       "      <td>2016-06-30</td>\n",
       "      <td>6424934300</td>\n",
       "      <td>6424934300</td>\n",
       "      <td>NaN</td>\n",
       "      <td>6424934300</td>\n",
       "      <td>3384816900</td>\n",
       "      <td>NaN</td>\n",
       "      <td>3040117400</td>\n",
       "      <td>3384816900</td>\n",
       "    </tr>\n",
       "    <tr>\n",
       "      <th>2</th>\n",
       "      <td>000333.XSHE</td>\n",
       "      <td>000333</td>\n",
       "      <td>美的集团</td>\n",
       "      <td>XSHE</td>\n",
       "      <td>3522</td>\n",
       "      <td>2016-05-06</td>\n",
       "      <td>6401086800</td>\n",
       "      <td>6401086800</td>\n",
       "      <td>NaN</td>\n",
       "      <td>6401086800</td>\n",
       "      <td>3361571200</td>\n",
       "      <td>NaN</td>\n",
       "      <td>3039515600</td>\n",
       "      <td>3361571200</td>\n",
       "    </tr>\n",
       "  </tbody>\n",
       "</table>\n",
       "</div>"
      ],
      "text/plain": [
       "         secID  ticker secShortName exchangeCD  partyID  changeDate  \\\n",
       "0  000333.XSHE  000333         美的集团       XSHE     3522  2016-09-19   \n",
       "1  000333.XSHE  000333         美的集团       XSHE     3522  2016-06-30   \n",
       "2  000333.XSHE  000333         美的集团       XSHE     3522  2016-05-06   \n",
       "\n",
       "   totalShares     sharesA  sharesB      floatA  nonrestfloatA  floatB  \\\n",
       "0   6424934300  6424934300      NaN  6424934300     6341691900     NaN   \n",
       "1   6424934300  6424934300      NaN  6424934300     3384816900     NaN   \n",
       "2   6401086800  6401086800      NaN  6401086800     3361571200     NaN   \n",
       "\n",
       "   restShares  nonrestFloatShares  \n",
       "0    83242400          6341691900  \n",
       "1  3040117400          3384816900  \n",
       "2  3039515600          3361571200  "
      ]
     },
     "execution_count": 38,
     "metadata": {},
     "output_type": "execute_result"
    }
   ],
   "source": [
    "DataAPI.EquShareGet(secID=u\"\",ticker=u\"000333\",beginDate=u\"20160101\",endDate=u\"\",partyID=u\"\",field=u\"\",pandas=\"1\")"
   ]
  },
  {
   "cell_type": "markdown",
   "metadata": {},
   "source": [
    "## 查看美的集团的前十大流通股东和主力资金的购买情况\n",
    "#### 基金持仓从20160331－20160630，9094万股 增至 3.144亿股\n",
    "#### 从20160331－20160630，筹码集中度从 －9.83 增至 37.51\n",
    "#### 从20160331－20161030，价格最高上涨了 50%"
   ]
  },
  {
   "cell_type": "markdown",
   "metadata": {},
   "source": [
    "## 看看上市至今大宗交易每月的状况"
   ]
  },
  {
   "cell_type": "code",
   "execution_count": null,
   "metadata": {
    "collapsed": false
   },
   "outputs": [],
   "source": [
    "md2011_2016=DataAPI.MktBlockdGet(tradeDate=u\"\",secID=u\"\",ticker=u\"000333\",beginDate=u\"20130901\",\n",
    "                     endDate=u\"\",assetClass=u\"\",field=u\"\",pandas=\"1\")"
   ]
  },
  {
   "cell_type": "code",
   "execution_count": null,
   "metadata": {
    "collapsed": false
   },
   "outputs": [],
   "source": [
    "md2011_2016['month'] = md2011_2016.tradeDate.str.slice(0,7)"
   ]
  },
  {
   "cell_type": "markdown",
   "metadata": {},
   "source": [
    "## 201604-201610期间，大宗交易6.74亿股\n",
    "## 每个月的大宗交易数量分布图如下"
   ]
  },
  {
   "cell_type": "code",
   "execution_count": null,
   "metadata": {
    "collapsed": false
   },
   "outputs": [
    {
     "data": {
      "text/plain": [
       "<matplotlib.axes._subplots.AxesSubplot at 0x7b7f6d0>"
      ]
     },
     "execution_count": 41,
     "metadata": {},
     "output_type": "execute_result"
    },
    {
     "data": {
      "data": {
       "image/png": "iVBORw0KGgoAAAANSUhEUgAAAmAAAAFnCAYAAAABhvX1AAAABHNCSVQICAgIfAhkiAAAAAlwSFlz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\n",
       "text/plain": "<matplotlib.figure.Figure at 0x7b83a10>"
      },
      "image/png": "[encoded data removed]",
      "source": "display",
      "text/plain": [
       "<matplotlib.figure.Figure at 0x7b83a10>"
      ]
     },
     "metadata": {},
     "output_type": "display_data"
    }
   ],
   "source": [
    "import matplotlib.pyplot as plt\n",
    "\n",
    "plt.figure(figsize=(10, 5))\n",
    "md2011_2016.groupby('month').tradeVol.sum().plot(kind=\"bar\")"
   ]
  },
  {
   "cell_type": "markdown",
   "metadata": {},
   "source": [
    "# 看看主要大宗交易的卖方是谁，尤其是在201412-201505期间\n",
    "## 卖家成分：\n",
    "1. 没有中金营业部\n",
    "2. 卖家多是机构\n",
    "## 买家成分：\n",
    "1. 有中金营业部\n",
    "2. 但多数买家仍是机构"
   ]
  },
  {
   "cell_type": "code",
   "execution_count": null,
   "metadata": {
    "collapsed": false
   },
   "outputs": [],
   "source": [
    "md201406_201507=DataAPI.MktBlockdGet(tradeDate=u\"\",secID=u\"\",ticker=u\"000333\",beginDate=u\"20140601\",\n",
    "                     endDate=u\"20150730\",assetClass=u\"\",field=u\"\",pandas=\"1\")"
   ]
  },
  {
   "cell_type": "code",
   "execution_count": null,
   "metadata": {
    "collapsed": false
   },
   "outputs": [
    {
     "data": {
      "text/plain": [
       "<matplotlib.axes._subplots.AxesSubplot at 0x7e88d90>"
      ]
     },
     "execution_count": 43,
     "metadata": {},
     "output_type": "execute_result"
    },
    {
     "data": {
      "data": {
       "image/png": "iVBORw0KGgoAAAANSUhEUgAAAlkAAAFnCAYAAACVYFwHAAAABHNCSVQICAgIfAhkiAAAAAlwSFlz\nAAALEgAACxIB0t1+/AAAHFBJREFUeJzt3X2wZHV95/H3R9E1q0gAI7eWQUcjKBiVB0UN5eYSN6hV\nCqzZ4MNaSulu3CjBaGpXcFPLJNkqxYoWcXcxtdFVMLgsakWlJIAEOuvDIggi6IzDpMoZGIq5PuAT\n7mqBfPePewbaO/dyb8/c3z339LxfVV2e/p3TfT7dNrc/c87pc1JVSJIkaXU9ou8AkiRJ08iSJUmS\n1IAlS5IkqQFLliRJUgOWLEmSpAYsWZIkSQ0sW7KSbEhybZJvJrktyR924+cl2Znk5u720rHHnJtk\nW5ItSU4ZGz8+ya1Jbk9yQZuXJEmS1L8sd56sJDPATFXdkuRxwE3AacCrgJ9U1fsXLH808HHgecAG\n4BrgyKqqJF8BzqqqG5NcAfxlVV216q9KkiSpZ8tuyaqqXVV1Szd9L7AFOLybnUUechpwaVXdX1Xb\ngW3AiV1ZO7CqbuyWuxg4fR/zS5IkrUsTHZOVZCNwLPCVbuisJLck+VCSg7qxw4E7xx52Vzd2OLBz\nbHwnD5U1SZKkqbLiktXtKvwk8LZui9aFwFOr6lhgF/C+NhElSZKG54CVLJTkAOYL1seq6jMAVfXd\nsUX+Gri8m74LOGJs3oZubKnxxdbnBRUlSdJgVNUeh1CtdEvW/wA2V9Vf7h7ojrHa7ZXAN7rpzwKv\nTvLoJE8BngbcUFW7gB8lOTFJgNcDn3mYsKt6O++881b9OVvdzGpWs5rVrPtvTrMOL+tSlt2SleQk\n4F8DtyX5GlDAu4DXJjkWeADYDry5K0ebk1wGbAbuA95SDyV4K/BR4DHAFVV15XLrlyRJGqJlS1ZV\nfQl45CKzlixIVfVu4N2LjN8EPGuSgJIkSUO035zxfXZ2tu8IK2bWNszahlnbMOvqG0pOMGsra511\n2ZOR9iFJrcdckiRJCyWh9uHAd0mSJE3AkiVJktSAJUuSJKkBS5YkSVIDlixJkqQGLFmSJEkNWLIk\nSZIasGRJkiQ1YMmSJElqwJIlSZLUgCVLkiSpAUuWJElSA5YsSZKkBixZkiRJDViyJEmSGrBkSZIk\nNWDJkiRJasCSJUmS1IAlS5IkqQFLliRJUgOWLEmSpAYsWZIkSQ1YsiRJkhqwZEmSJDVgyZIkSWrA\nkiVJktSAJUuSJKkBS5YkSVIDlixJkqQGLFmSJEkNWLIkSZIasGRJkiQ1YMmSJElqwJIlSZLUgCVL\nkiSpAUuWJElSA5YsSZKkBixZkiRJDViyJEmSGrBkSZIkNWDJkiRJasCSJUmS1IAlS5IkqQFLliRJ\nUgOWLEmSpAaWLVlJNiS5Nsk3k9yW5Oxu/OAkVyfZmuSqJAeNPebcJNuSbElyytj48UluTXJ7kgva\nvCRJkqT+rWRL1v3AO6rqmcALgbcmeQZwDnBNVT0duBY4FyDJMcAZwNHAy4ALk6R7rg8Cb6qqo4Cj\nkrxkVV+NJEnSOrFsyaqqXVV1Szd9L7AF2ACcBlzULXYRcHo3fSpwaVXdX1XbgW3AiUlmgAOr6sZu\nuYvHHiNJkjRVJjomK8lG4FjgeuCwqpqD+SIGPLFb7HDgzrGH3dWNHQ7sHBvf2Y1JkrRfmJnZSJJV\nvc3MbOz7ZWkJB6x0wSSPAz4JvK2q7k1SCxZZeF+SJI2Zm9vBan9dzs1l+YXUixWVrCQHMF+wPlZV\nn+mG55IcVlVz3a7A73TjdwFHjD18Qze21PiiNm3a9OD07Owss7OzK4kqSZLU1Gg0YjQaLbtcqpZv\n1EkuBr5XVe8YGzsfuKeqzk/yTuDgqjqnO/D9EuD5zO8O/DxwZFVVkuuBs4Ebgc8BH6iqKxdZX60k\nlyRJQzL/O7DV/n4Lfmf2KwlVtccmxWVLVpKTgP8N3Mb8J6OAdwE3AJcxv3VqB3BGVf2we8y5wJuA\n+5jfvXh1N34C8FHgMcAVVfW2JdZpyZIkTR1L1nTa65LVB0uWJGkaWbKm01IlyzO+S5IkNWDJkiRJ\nasCSJUmS1IAlS5IkqQFLliRJUgOWLEmSpAYsWZIkSQ1YsiRJkhqwZEmSJDVgyZIkSWrAkiVJktSA\nJUuSJKkBS5YkSVIDlixJkqQGLFmSJEkNWLIkSZIasGRJkiQ1YMmSJElqwJIlSZLUgCVLkiSpAUuW\nJElSA5YsSZKkBixZkiRJDViyJEmSGrBkSZIkNWDJkiRJasCSJUmS1IAlS5IkqQFLliRJUgOWLEmS\npAYsWZIkSQ1YsiRJkhqwZEmSJDVgyZIkSWrAkiVJktSAJUuSJKkBS5YkSVIDlixJkqQGLFmSJEkN\nWLIkSZIasGRJkiQ1YMmSJElqwJIlSZLUgCVLkiSpAUuWJElSA5YsSZKkBixZkiRJDSxbspJ8OMlc\nklvHxs5LsjPJzd3tpWPzzk2yLcmWJKeMjR+f5NYktye5YPVfiiRJ0vqxki1ZHwFessj4+6vq+O52\nJUCSo4EzgKOBlwEXJkm3/AeBN1XVUcBRSRZ7TkmSpKmwbMmqqi8CP1hkVhYZOw24tKrur6rtwDbg\nxCQzwIFVdWO33MXA6XsXWZIkaf3bl2OyzkpyS5IPJTmoGzscuHNsmbu6scOBnWPjO7sxSZKkqbS3\nJetC4KlVdSywC3jf6kWSJEkavgP25kFV9d2xu38NXN5N3wUcMTZvQze21PiSNm3a9OD07Owss7Oz\nexNVkiRpVY1GI0aj0bLLpaqWXyjZCFxeVc/q7s9U1a5u+u3A86rqtUmOAS4Bns/87sDPA0dWVSW5\nHjgbuBH4HPCB3QfML7K+WkkuSZKGZP63YKv9/Rb8zuxXEqpqj2PVl92SleTjwCxwaJI7gPOAk5Mc\nCzwAbAfeDFBVm5NcBmwG7gPeMtaW3gp8FHgMcMVSBUuSJGkarGhL1lpzS5YkaRq5JWs6LbUlyzO+\nS5IkNWDJkiRJasCSJUmS1IAlS5IkqQFLliRJUgOWLEmSpAYsWZIkSQ1YsiRJkhqwZEmSJDVgyZIk\nSWrAkiVJktSAJUuSJKkBS5YkSVIDlixJkqQGLFmSJEkNWLIkSZIasGRJkiQ1YMmSJElqwJIlSZLU\ngCVLkiSpAUuWJElSA5YsSZI0aDMzG0myqreZmY37nCtVte+vbpUlqfWYS5KkfZEEWO3vt7C/f2f2\n/b4moaqycNwtWZIkSQ1YsiRJkhqwZEmSJDVgyZIkSWrAkiVJktSAJUuSJKkBS5YkSVIDlixJkqQG\nLFmSJEkNWLIkSZIasGRJkiQ1YMmSJElqwJIlSZLUgCVLkiSpAUuWJElSA5YsSZKkBixZkiRJDViy\nJEmSGrBkSZIkNWDJkiRJasCSJUmS1IAlS5IkqQFLliRJUgOWLEmSpAaWLVlJPpxkLsmtY2MHJ7k6\nydYkVyU5aGzeuUm2JdmS5JSx8eOT3Jrk9iQXrP5LkSRJWj9WsiXrI8BLFoydA1xTVU8HrgXOBUhy\nDHAGcDTwMuDCJOke80HgTVV1FHBUkoXPKUmSNDWWLVlV9UXgBwuGTwMu6qYvAk7vpk8FLq2q+6tq\nO7ANODHJDHBgVd3YLXfx2GMkSZKmzt4ek/XEqpoDqKpdwBO78cOBO8eWu6sbOxzYOTa+sxuTJEnr\n0MzMRpKs6m1mZmPfL2tNHbBKz1Or9DwP2rRp04PTs7OzzM7OrvYqJEnSEubmdrDaX+9zc1l+oQEY\njUaMRqNll0vV8m9gkicDl1fVs7v7W4DZqprrdgVeV1VHJzkHqKo6v1vuSuA8YMfuZbrxVwO/VVV/\nsMT6aiW5JEkakvnDlFf7+y20+M4068qzJqGq9miQK91dmO6222eBM7vpNwCfGRt/dZJHJ3kK8DTg\nhm6X4o+SnNgdCP/6scdIkiRNnWV3Fyb5ODALHJrkDua3TL0H+ESSNzK/leoMgKranOQyYDNwH/CW\nsU1SbwU+CjwGuKKqrlzdlyJJkrR+rGh34Vpzd6EkaRr1vVtromc165rtLpQkSdIELFmSJEkNWLIk\nSZIasGRJkiQ1YMmSJElqwJIlSZLUgCVLkiSpAUuWJElSA5YsSZKkBixZkiRJDViyJEmSGrBkSZIk\nNWDJkiRJasCSJUmS1IAlS5IkqQFLliRJUgOWLEmSpAYsWZIkSQ1YsiRJkhqwZEmSJDVgyZIkSWrA\nkiVJktSAJUuSJKkBS5YkSVIDlixJkqQGLFmSJEkNWLIkSZIasGRJkiQ1YMmSJElqwJIlSZLUgCVL\nkiSpAUuWJElSA5YsSZKkBixZkiRJDViyJEmSGrBkSZIkNWDJkiRJasCSJUmS1IAlS5IkqQFLliRJ\nUgOWLElaIzMzG0myqreZmY19vyxJS0hV9Z1hD0lqPeaSpH2RBFjtv23Bv5fDMaTPgFlXnjUJVZWF\n427JkiRJasCSJUmS1IAlS5IkqQFLliRJUgP7VLKSbE/y9SRfS3JDN3ZwkquTbE1yVZKDxpY/N8m2\nJFuSnLKv4SVJktarfd2S9QAwW1XHVdWJ3dg5wDVV9XTgWuBcgCTHAGcARwMvAy7M/M8BJEmSps6+\nlqws8hynARd10xcBp3fTpwKXVtX9VbUd2AaciCRJ0hTa15JVwOeT3Jjk33Rjh1XVHEBV7QKe2I0f\nDtw59ti7ujFJ2mue4FPSenXAPj7+pKq6O8mvAVcn2cqeZwPzLHmSmpmb28Fq/5mZm/NIBkn7bp9K\nVlXd3f3vd5N8mvndf3NJDququSQzwHe6xe8Cjhh7+IZubFGbNm16cHp2dpbZ2dl9iSpJkrQqRqMR\no9Fo2eX2+rI6Sf4p8IiqujfJY4GrgT8FXgzcU1XnJ3kncHBVndMd+H4J8HzmdxN+HjhysevneFkd\nSSvV9+U0JnrWAWVVG0P6DJh13y+rsy9bsg4D/jZJdc9zSVVdneSrwGVJ3gjsYP4XhVTV5iSXAZuB\n+4C32KQkSdK08gLRkgat73/BTvSsA8qqNob0GTCrF4iWJElalyxZkiRJDViyJEmSGrBkSZIkNWDJ\nkiRJasCSJUmS1IAlS9IeWlwP0GsCStrfeJ4sSXtoc84ZaHGOnL7PjzPRsw4oq9oY0mfArJ4nS5Ik\naV2yZEmSJDVgyZIkSWrAkiVJktSAJUuSJKkBS5YkSVIDlixJkqQGLFmSJEkNWLIkSZIasGRJkiQ1\nYMmSJElqwJIlSZLUgCVLkrSHmZmNJFnV28zMxr5flrSmsh6v3p6k1mMuaX/R5or2MMlV7Vf8jE2y\nrn5OMGurrEMypPfVrCvPmoSqysJxt2RJkiQ1YMmSJElqwJIlSZLUgCVLkiSpAUuWJElSA5YsSZKk\nBixZkiRJDViyJEmSGrBkrZEWZ0/2DMqSJK1fnvF9jQzpDNrSkD6vfZ/peaJnNet+//dqSO+rWT3j\nuyRJ0ro06JLlLjhJkrReDXp3obs0wM3vamFIn9e+dxNM9Kxm3e//Xg3pfTWruwslSZLWJUuWJElS\nA5YsSZKkBixZ2oM/KJAkad954PvizzyQg3Nhf8+qNob0Gej7gNeJntWs+/3fgCG9r2b1wHdJkqR1\nyZIlSZLUgCVLkiSpAUuWJElSA5YsSZKkBixZkiRJDViyJEmD1uLcfp7XT6thzUtWkpcm+VaS25O8\nc63Xr+niiVMlzc3tYP4cSat3m39Oad+saclK8gjgvwIvAZ4JvCbJM9Zm7aO1Wc2qGPUdYAKjXtc+\n2R/X61a8bN9/YEejUa/rn8yo7wATGPUdYAKjvgNMYNR3gBUa9R1gAqO+A0xg1HeACYzWdG1rvSXr\nRGBbVe2oqvuAS4HT1mbVo7VZzaoY9R1gAqO+A0xg1OvaJ9nqdvLJJw9oq9uo5/VPYtR3gAmM+g4w\ngVHfAVZo1HeACYz6DjCBUd8BJjBa07Wtdck6HLhz7P7ObkyaepNtdTtvxcv2vdVNkrQ4D3yXJElq\nYE0vEJ3kBcCmqnppd/8coKrq/AXL7d9XEJUkSYOy2AWi17pkPRLYCrwYuBu4AXhNVW1ZsxCSJElr\n4IC1XFlV/SLJWcDVzO+q/LAFS5IkTaM13ZIlSZK0v/DAd0mSpAYsWZIkSQ3sFyUryeOTnJDk4L6z\nTIskByd5fN85ViLJIUkO6TuHpH4lOb7vDNPG79eHN5UlK8nfJHlCN/0S4BvA+cAtSX6v13ALJLkn\nyYeSvDjJHj//XE+S/LMkFyf5EfA94BtJ7kiyKcmj+s43LsmTklya5LvAV4AbknynG9vYb7qVS3Jb\n3xnGJTmiew+/kORd4/+/J/l0n9lWyvd07yV5dpJrurxPSXJdkh922Z/Wd75xSY5fcDsB+GyS49Zb\n2UryxrHpDUn+vntfv5zkqD6zLeT364QZpvHA9yS3VdWzuukvA6+tqu3dB+Pvq+o5/SZ8SJKtwH8B\nXgNsBD4J/M+qur7PXItJci3wZ1U1SvJK4EXAnwDnAk+sqt/vNeCYJP8HuAD4ZFX9oht7JPB7wB9V\n1Qv6zDeuey8XnQX8VVX92lrmeThJPg98CrgeeBNwAvCKqvp+kq9V1XG9Buz4nrbR/T19N/A44H3A\nO4D/Bbwc+MOqOqXHeL8kyQPMv6c/Hxt+QTdWVfXbvQRbRJKbq+r4bvoy4BrgQ8xfdu6sqnpxn/nG\n+f06YYYpLVnfBF5YVT9O8kXgn1fVA7vnVdUz+034kAX/cT0JeHV3+1Xg0qp6V5/5xiX5+vh/QElu\nqqoTuulvVdUaXex7eUm2VdWRk87rQ5L7gEuYv07OQv+qqg5c40hLSnJLVR07dv91zJfsU4FP7P4s\n9833tI3x0pfkH6vqaWPzbl5nWX8XOBt4T1X9XTf27ap6Sr/J9rTge2Dh39n1VrT9fp3Amp4naw39\nKXBdkv8GfAn4RJLPAicDV/aabE8PbsKsqjuA9wLvTfIM4FW9pVrcd7svgOuAVwLbAbrNsOtt1/NN\nSS4ELuKh62UeAbwB+FpvqRZ3K/AXVfWNhTOS/Ise8jycRyV5TFX9DKCq/ibJLuAq4LH9Rvslvqdt\nPHJs+v0L5j16LYMsp6o+leQq4M+73XF/zOKlez3YkOQDzH8fPCHJo6rqvm7eujoUA79fJwswjVuy\nALrjA/4tcBTzZXIn8OmquqrXYAskeX9VvaPvHCvR/UvgL4BjgFuAf19Vdyc5FJitqk/1GnBMkkcz\nv+vlNB66CPlO4HLmT4L786Ueu9aSvAjY0f0RWDjvuVX11R5iLSrJ24Gbq+ofFowfB7y3qn6nn2S/\nzPe0jSRvBi6pqnsXjD+N+d1af9RPsofXHYP1PuA31tOu4t2SvGHB0Ger6gdJZoCz19MeDfD7daIM\n01qyJEnardvifmBV/bjvLNp/TG3J6n71cDoPbcW4C/hMVa23zZlmXWNJ/lNV/VnfOVbCrHtvSJ9V\ns7Zh1jbMOsH6p7FkJbmA+c2YFzO/GRNgA/B6YFtVva2vbAuZde0luaOqntR3jpUw694Z0mfVrG2Y\ntQ2zTphhSkvW7VW1x7lFus3Ft6+zX5aZtYEkS+0SCPArVbVufvRh1tU3sM+qWRswaxtmncx6+0XY\navlZkuctMv484GdrHWYZZm3jh8CRVfX4BbcDgbv7DreAWVffkD6rZm3DrG2YdQLr4l+dDZwJfDDJ\ngTy0ifAI4EfdvPXkTMzawsXAk4G5ReZ9fI2zLMesq+9MhvNZPROztnAmZm3hTMy6YlO5u3C37uev\nDx7sVlW7+szzcMwqrb4hfVbN2oZZ2zDrykzr7kIAqmpXVd1UVTcB/67vPA/HrO0l2dR3hpUy6+oY\n0mfVrG2YtQ2zrsxUl6wFTu07wATM2oZZ2xhK1qHkBLO2YtY2zLqE/alk9XIF7r1k1jbM2sZQsg4l\nJ5i1FbO2YdalVjbNx2SNS/KI6i5iud6ZtQ2ztjGUrEPJCWZtxaxtmHVp+9OWrGv6DjABs7Zh1jbW\nXdYkT1hw/3XABUl+vztHzrph1jbM2oZZJ8wwjVuykty6cIj5s75uBaiqZ695qCWYtQ2ztjGUrElu\nrqrju+k/AV7E/CkmXg7srKq395lvnFnbMGsbZp3MtJ4nazvwY+A/A/+P+S+CLwCv6DHTUrZj1ha2\nY9YWtjOMrOP/Sn0l8KKq+mmSjwM395RpKWZtw6xtmHUCU7m7sKpOBT4F/HfgOVW1HbivqnZU1Y5e\nwy1g1jbM2saAsv5KkuOSnAA8qqp+ClBV9wG/6DfaHszahlnbMOsEpnJ34W5JHgv8OfDrwAlVtaHn\nSEsyaxtmbWO9Z01y3YKh11bV3UkOBa6qquf2kWsxZm3DrG2YdcIM01yydkvyHOCFVfVXfWdZjlnb\nMGsbQ8oKkOSRwD+pqv/bd5blmLUNs7Zh1iXWtT+UrHFJnlFV3+o7x0qYtQ2ztjGUrEPJCWZtxaxt\nmHWR9eyHJeuOqnpS3zlWwqxtmLWNoWQdSk4waytmbcOse5rKXxcm+cBSs4BfXcssyzFrG2ZtYyhZ\nh5ITzNqKWdsw64QZpnFLVpKfAH8M/HyR2e+rqicsMt4Ls7Zh1jaGknUoOcGsrZi1DbNOqKqm7gZc\nC/zmEvO+3Xc+s5rVrOY0q1nNOv1Zp3VL1iHAz2oYv3IwawNmbWMoWYeSE8zailnbMOuEGaaxZEmS\nJPVtKs/4nuSgJO9J8q0k9yT5fpIt3dh6OzDPrA2YtY2hZB1KTjBrK2Ztw6yTmcqSBVwG/ACYrapD\nqupQ4ORu7LJek+3JrG2YtY2hZB1KTjBrK2Ztw6wTmMrdhUm2VtXTJ53XB7O2YdY2hpJ1KDnBrK2Y\ntQ2zTmZat2TtSPIfkhy2eyDJYUneCdzZY67FmLUNs7YxlKxDyQlmbcWsbZh1AtNasl4FHAr8Q5If\nJLkHGAGHAGf0GWwRZm3DrG0MJetQcoJZWzFrG2adwFTuLoT56xIBG4Drq+resfGXVtWV/SXbk1nb\nMGsbQ8k6lJxg1lbM2oZZJ7AWJ+Na6xtwNrAV+DSwHThtbN7Nfeczq1nNak6zmtWs05+19zeh0Rt7\nG/C4bnoj8FXgbd39r/Wdz6xmNas5zWpWs05/1qm8QDTwiOo2C1bV9iSzwCeTPJn5C0OuJ2Ztw6xt\nDCXrUHKCWVsxaxtmnSTAWqykB3NJjt19p3uTXw48AXhWb6kWZ9Y2zNrGULIOJSeYtRWztmHWCUzl\nge9JNgD3V9WuReadVFVf6iHWoszahlnbGErWoeQEs7Zi1jbMOmGGaSxZkiRJfZvW3YWSJEm9smRJ\nkiQ1YMmSJElqwJIlab+W5KAkfzB2/7eSXN5nJknTwZIlaX93MPCWBWP+IkjSPrNkSRqMJE9OsiXJ\nR5JsTXJJkt9J8qXu/nOTHJzkb5N8PcmXk/xG99jzknw4yXVJ/jHJWd3Tvht4apKbk5zfjR2Y5BPd\nuj7Wy4uVNHjTesZ3SdPr14HfrarNSb4KvLqqTkryCuA/Ancyf12yf5nkZOBjwHHdY58OzAIHAVuT\nfBA4B3hmVR0P87sLgWOBY4BdwJeS/GZVfXntXqKkaeCWLElD8+2q2txNfxO4ppv+BvPXJzuJ+WJF\nVV0HHJLkcd0yn6uq+6vq+8AccNgS67ihqu6u+RMJ3tI9ryRNxJIlaWh+Pjb9wNj9B1h+6/zCxy61\n/Phyv1jB80rSHixZkoZmuQu7fgF4HUB3Qdjv7b5I7BJ+Ahy4OtEk6SH+60zS0NQS07vvbwI+kuTr\nwE+B1z/c81TVPd0B8rcCfwdc8TDrk6QV89qFkiRJDbi7UJIkqQFLliRJUgOWLEmSpAYsWZIkSQ1Y\nsiRJkhqwZEmSJDVgyZIkSWrAkiVJktTA/wcIdYwm2ijtKgAAAABJRU5ErkJggg==\n",
       "text/plain": "<matplotlib.figure.Figure at 0x82d7b90>"
      },
      "image/png": "[encoded data removed]",
      "source": "display",
      "text/plain": [
       "<matplotlib.figure.Figure at 0x82d7b90>"
      ]
     },
     "metadata": {},
     "output_type": "display_data"
    }
   ],
   "source": [
    "md201406_201507['month'] = md201406_201507.tradeDate.str.slice(0,7)\n",
    "\n",
    "import matplotlib.pyplot as plt\n",
    "\n",
    "plt.figure(figsize=(10, 5))\n",
    "md201406_201507.groupby('month').tradeVol.sum().plot(kind=\"bar\")"
   ]
  },
  {
   "cell_type": "code",
   "execution_count": null,
   "metadata": {
    "collapsed": false
   },
   "outputs": [
    {
     "data": {
      "text/plain": [
       "<matplotlib.axes._subplots.AxesSubplot at 0x8952d10>"
      ]
     },
     "execution_count": 44,
     "metadata": {},
     "output_type": "execute_result"
    },
    {
     "data": {
      "data": {
       "image/png": "iVBORw0KGgoAAAANSUhEUgAAAlkAAAF3CAYAAACWtl6cAAAABHNCSVQICAgIfAhkiAAAAAlwSFlz\nAAALEgAACxIB0t1+/AAAIABJREFUeJzt3Xu4bXdd3/v3h1wMlxAClCyb2w6XQODIJdgAUpsFKBdr\nk1RrxEoBQbSGPuKl1ISec7JTesTwnCrSNvigHEwEGoO0EiomISYLtQihJJCEhGRTzbXsjUqICIIB\nvuePOfZmurJ21ppr/cZYY879fj3PfDLXmGN85vc39phzfjPGmHOkqpAkSVJbD9ruAiRJkhaRTZYk\nSVIPbLIkSZJ6YJMlSZLUA5ssSZKkHthkSZIk9WDdJivJO5LsSXL9Go/9fJJvJnnk1LRzkuxKcnOS\nF05NPznJ9UluTfKWdkOQJEkan43syXon8KLVE5McA3wvcPvUtJOAM4GTgJcAFyRJ9/DbgFdX1YnA\niUnulylJkrQo1m2yquqPgXvWeOhXgNevmnY6cHFVfb2qbgN2AackWQIOr6qPd/NdBJyx6aolSZJG\nblPnZCU5Dbizqm5Y9dDRwJ1Tf9/dTTsauGtq+l3dNEmSpIV08KwLJHkw8AYmhwolSZK0hpmbLOBx\nwA7gU935VscA1yY5hcmeq+Om5j2mm3Y3cOwa09eUxAsqSpKkuVFVWT1to4cL092oqhuraqmqHltV\nJzA59PeMqvo8cCnww0kOTXIC8HjgmqraDdyb5JSuMXs58P51in3A27nnnrvuPBu9tcqyJsc31poW\nfXxjrGnRxzfGmhZ9fGOsadHHt9Gc/dnITzi8B/gIk28E3pHkx1b3Q1MN2E3AJcBNwAeBs+pbz/5a\n4B3ArcCuqrpsveeWJEmaV+seLqyqf77O449d9febgDetMd8ngO+YtUBJkqR5dNDOnTu3u4b7Oe+8\n83ZupK4dO3Y0e85WWdY0fJY1DZ9lTcNnWdPwWdY0fNa81nTeeeexc+fO81ZPzwMdS9wuSWqMdUmS\nJK2WhNrCie+SJEmagU2WJElSD2yyJEmSemCTJUmS1AObLEmSpB7YZEmSJPXAJkuSJKkHNlmSJEk9\nsMmSJEnqgU2WJElSD2yyJEmSemCTJUmS1AObLEmSpB7YZEmSJPXAJkuSJKkHNlmSJEk9sMmSJEnq\ngU2WJElSD2yyJEmSemCTJUmS1AObLEmSpB7YZEmSJPXAJkuSJKkHNlmSJEk9sMmSJEnqgU2WJElS\nD2yyJEmSemCTJUmS1AObLEmSpB6s22QleUeSPUmun5r25iQ3J/lkkvclefjUY+ck2dU9/sKp6Scn\nuT7JrUne0n4okiRJ47GRPVnvBF60atoVwFOq6unALuAcgCRPBs4ETgJeAlyQJN0ybwNeXVUnAicm\nWZ0pSZK0MNZtsqrqj4F7Vk27sqq+2f35UeCY7v5pwMVV9fWquo1JA3ZKkiXg8Kr6eDffRcAZDeqX\nJEkapRbnZL0K+GB3/2jgzqnH7u6mHQ3cNTX9rm6aJEnSQjp4Kwsn+bfAfVX1XxrVs8/OnTv33V9e\nXmZ5ebn1U0iStPCWlnawZ8/t68531FHHs3v3bf0XtABWVlZYWVlZd75U1fozJccDH6iqp05NeyXw\nGuD5VfW1btrZQFXV+d3flwHnArcDV1fVSd30lwKnVtVP7ef5aiN1SZKkBzY5NXojn6nBz97NSUJV\nZfX0jR4uTHfbG/Zi4PXAaXsbrM6lwEuTHJrkBODxwDVVtRu4N8kp3YnwLwfev8mxSJIkjd66hwuT\nvAdYBh6V5A4me6beABwKfKj78uBHq+qsqropySXATcB9wFlTu6ReC/wmcBjwwaq6rPFYJEmSRmND\nhwuH5uFCSZLa8HBh/7Z6uFCSJEkzsMmSJEnqgU2WJElSD2yyJEmSemCTJUmS1AObLEmSpB7YZEmS\nJPXAJkuSJKkHNlmSJEk9sMmSJEnqgU2WJElSD2yyJEmSemCTJUmS1AObLEmSpB7YZEmSJPXAJkuS\nJKkHNlmSJEk9sMmSJEnqgU2WJElSD2yyJEmSemCTJUmS1AObLEmSpB7YZEmSJPXAJkuSJKkHNlmS\nJEk9sMmSJEnqgU2WJElSD2yyJEmSemCTJUmS1AObLEmSpB7YZEmSJPVg3SYryTuS7Ely/dS0I5Nc\nkeSWJJcnOWLqsXOS7Epyc5IXTk0/Ocn1SW5N8pb2Q5EkSRqPjezJeifwolXTzgaurKonAlcB5wAk\neTJwJnAS8BLggiTplnkb8OqqOhE4McnqTEmSpIWxbpNVVX8M3LNq8unAhd39C4EzuvunARdX1der\n6jZgF3BKkiXg8Kr6eDffRVPLSJIkLZzNnpP1mKraA1BVu4HHdNOPBu6cmu/ubtrRwF1T0+/qpkmS\nJC2kgxvlVKOcfXbu3Lnv/vLyMsvLy62fQpIkaWYrKyusrKysO1+q1u+PkhwPfKCqntr9fTOwXFV7\nukOBV1fVSUnOBqqqzu/muww4F7h97zzd9JcCp1bVT+3n+WojdUmSpAc2OTV6I5+pwc/ezUlCVWX1\n9I0eLkx32+tS4JXd/VcA75+a/tIkhyY5AXg8cE13SPHeJKd0J8K/fGoZSZKkhbPu4cIk7wGWgUcl\nuYPJnqlfAt6b5FVM9lKdCVBVNyW5BLgJuA84a2qX1GuB3wQOAz5YVZe1HYokSdJ4bOhw4dA8XChJ\nUhseLuzfVg8XSpIkaQY2WZKkwSwt7SDJurelpR3bXaq0ZR4ulCQNxkNXw3Od98/DhZIkSQOyyZIk\nSeqBTZYkSVIPbLIkSZJ6YJMlSZLUA5ssSZKkHthkSZIk9cAmS5IkqQc2WZIkST2wyZIkSeqBTZYk\nSVIPbLIkSZJ6YJMlSZLUA5ssSZKkHthkSZIk9cAmS5IkqQc2WZIkST2wyZIkSeqBTZYkSVIPbLIk\nSZJ6YJMlSZLUA5ssSZKkHthkSZIk9cAmS5IkqQc2WZIkST2wyZIkSeqBTZYkSVIPbLIkSZJ6sKUm\nK8k5ST6d5Pok705yaJIjk1yR5JYklyc5YtX8u5LcnOSFWy9fkiRpnDbdZCU5HngN8IyqeipwMPAj\nwNnAlVX1ROAq4Jxu/icDZwInAS8BLkiSrZUvSdJiWlraQZIHvC0t7djuMvUAtrIn66+AvwUemuRg\n4MHA3cDpwIXdPBcCZ3T3TwMurqqvV9VtwC7glC08vyRJC2vPntuBesDbZB6N1aabrKq6B/gPwB1M\nmqt7q+pK4Kiq2tPNsxt4TLfI0cCdUxF3d9MkSZIWzsGbXTDJY4GfBY4H7gXem+RHmbTX01b/vSE7\nd+7cd395eZnl5eVN1SlJktTSysoKKysr686Xqk31QCQ5E/jeqnpN9/e/AJ4NPB9Yrqo9SZaAq6vq\npCRnA1VV53fzXwacW1UfWyO7NluXJGm8JqfibuT9PRzonwMbW1frryfXef+SUFX3O898K+dk3QI8\nO8lh3QnsLwBuAi4FXtnN8wrg/d39S4GXdt9APAF4PHDNFp5fkiRptDZ9uLCqPpXkIuATwDeA64C3\nA4cDlyR5FXA7k28UUlU3JbmESSN2H3CWu6skSdKi2vThwj55uFCSFlPLQ1dLSzvW/XbdUUcdz+7d\nt224vjHxcOH82N/hQpssSdJgWn7gt2pCxsoma370cU6WJEmS9sMmS5IkqQc2WZIkST2wyZIkSeqB\nTZYkSVIPbLIkSZJ6YJMlSZLUA5ssSZKkHthkSZIk9cAmS5IkqQc2WZIkST2wyZIkSeqBTZYkSVIP\nbLIkSZJ6YJMlSZLUA5ssSZKkHthkSZIk9cAmS5IkqQc2WZIkST2wyZIkSeqBTZYkSVIPbLIkSZJ6\nYJMlSZLUA5ssSZKkHthkSZIk9cAmS5IkqQc2WZIkST2wyZIkSeqBTZYkSVIPbLIkSZJ6sKUmK8kR\nSd6b5OYkn07yrCRHJrkiyS1JLk9yxNT85yTZ1c3/wq2XL0mSNE5b3ZP1q8AHq+ok4GnAZ4CzgSur\n6onAVcA5AEmeDJwJnAS8BLggSbb4/JIkSaO06SYrycOB766qdwJU1der6l7gdODCbrYLgTO6+6cB\nF3fz3QbsAk7Z7PNLkiSN2Vb2ZJ0A/EWSdya5NsnbkzwEOKqq9gBU1W7gMd38RwN3Ti1/dzdNkiRp\n4Ry8xWVPBl5bVf8zya8wOVRYq+Zb/feG7Ny5c9/95eVllpeXN1elJA1gaWkHe/bc/oDzHHXU8eze\nfdswBUnqzcrKCisrK+vOl6pN9UAkOQr4k6p6bPf3P2TSZD0OWK6qPUmWgKur6qQkZwNVVed3818G\nnFtVH1sjuzZblyRth8kppuu9b4UD/b1tY+sJNrKuFn2dtxpfy3WutSWhqu53nvmmDxd2hwTvTHJi\nN+kFwKeBS4FXdtNeAby/u38p8NIkhyY5AXg8cM1mn1+SJGnMtnK4EOCngXcnOQT4U+DHgIOAS5K8\nCridyTcKqaqbklwC3ATcB5zl7ipJkrSoNn24sE8eLpQ0bxb90FUrHi7cOA8Xzo/mhwslSZK0fzZZ\nkiRJPbDJkiRJ6oFNliRJUg9ssiRJknpgkyVJktQDmyxJkqQe2GRJkiT1wCZLkiSpBzZZkiRJPbDJ\nkiRJ6oFNlqQD1tLSDpKse1ta2rHdpUqaQ14gWtIBy4sVD891vnFeIHp+eIFoSZKkAdlkSZIk9cAm\nS5IkqQc2WZIkST2wyZIkSeqBTZYkSVIPbLIkSZJ6YJMlSZLUA5ssSZKkHthkSZIk9cAmS5IkqQc2\nWZIkST2wyZIkSeqBTZYkSVIPbLIkSZJ6YJMlSZLUA5ssSZKkHmy5yUryoCTXJrm0+/vIJFckuSXJ\n5UmOmJr3nCS7ktyc5IVbfW5JkqSxarEn63XATVN/nw1cWVVPBK4CzgFI8mTgTOAk4CXABUnS4Pkl\nSZJGZ0tNVpJjgO8DfmNq8unAhd39C4EzuvunARdX1der6jZgF3DKVp5fkiRprLa6J+tXgNcDNTXt\nqKraA1BVu4HHdNOPBu6cmu/ubpokSdLC2XSTleQfA3uq6pPAAx32qwd4TJIkaSEdvIVlnwucluT7\ngAcDhyf5LWB3kqOqak+SJeDz3fx3A8dOLX9MN21NO3fu3Hd/eXmZ5eXlLZQqSZLUxsrKCisrK+vO\nl6qt72hKcirw81V1WpI3A39ZVecn+QXgyKo6uzvx/d3As5gcJvwQ8IRao4Aka02WpKYm373ZyHtN\nWO89aWNZ6+csOtf5xrUaX8t1rrUloarud1RvK3uy9ueXgEuSvAq4nck3Cqmqm5JcwuSbiPcBZ9lJ\nSZKkRdVkT1Zr7smSNAT3qgzPdb5x7smaH/vbk+UvvkuSJPXAJkuSJKkHNlmSJEk9sMmSJEnqgU2W\nJElSD2yyJEmSemCTJUmS1AObLEmSpB7YZEmSJPXAJkuSJKkHNlmSJEk9sMmSJEnqgU2WJElSD2yy\nJEmSemCTJUmS1AObLEmSpB7YZEmSJPXAJkuSJKkHNlmSJEk9sMmSpJFZWtpBkge8LS3t2O4yJa0j\nVbXdNdxPkhpjXZIWSxJgI+81Yb33pI1lrZ/TOmtsxrrOx6jV+Fquc60tCVWV1dPdkyVJktQDmyxJ\nkqQe2GRJkiT1wCZLknTA88sG6oMnvks6YI31JOxFPqHbdb5xnvg+PzzxXZIkaUA2WZIkST2wyZIk\nSeqBTZYkSVIPbLIkPSC/dSVJm7PpJivJMUmuSvLpJDck+elu+pFJrkhyS5LLkxwxtcw5SXYluTnJ\nC1sMQFK/9uy5nck3k/Z/m8wjSZq2lT1ZXwd+rqqeAjwHeG2SJwFnA1dW1ROBq4BzAJI8GTgTOAl4\nCXBBJt8rlSRJWjibbrKqandVfbK7/9fAzcAxwOnAhd1sFwJndPdPAy6uqq9X1W3ALuCUzT6/JEnS\nmDU5JyvJDuDpwEeBo6pqD0waMeAx3WxHA3dOLXZ3N02SJGnhbLnJSvIw4HeA13V7tFb/XKw/HytJ\nkg44B29l4SQHM2mwfquq3t9N3pPkqKrak2QJ+Hw3/W7g2KnFj+mmrWnnzp377i8vL7O8vLyVUiVJ\nkppYWVlhZWVl3fm2dO3CJBcBf1FVPzc17XzgC1V1fpJfAI6sqrO7E9/fDTyLyWHCDwFPWOsihV67\nUBqPMV7TrRWvoze8RV/nS0s71v227VFHHc/u3bcNVpPXLuzf/q5duOkmK8lzgT8EbuBb3+V+A3AN\ncAmTvVa3A2dW1Re7Zc4BXg3cx+Tw4hX7ybbJkkbCD3yY1w/8MVr0dT6/NW28Lt1f8yarTzZZ0nj4\ngQ/z+uE6Rou+zue3po3XpfvbX5PlL75LkiT1wCZLkiSpB3PRZG3k2mleP02SJI3JXJyT5fFkaft4\nfhDM67k4Y7To63x+a9p4Xbo/z8mSJEkakE2WJElSD2yyJEmSemCTJUmS1AObLEmSpB7YZEmSJPXA\nJkuSJKkHNlmSJEk9sMmSJEnqgU2WJElSD2yytCavFylJ0tbYZG3BRhqReW1C9uy5ncm1rh74NplP\nkiSt5gWit8CLuMK8jk8b53YO83ph4DFa9HU+vzVtvC7dnxeIliRJGpBNliRJUg9ssiRJknpgkyWN\nhN/olKTFcvB2FyBp4lvf6FxvvvudWylJGiH3ZEmSJPXAJkuSJKkHNlmStKAW+QeTpXlwwDVZvulI\nOlBs5MoNXrVB6s8B12T5pqPWbNwlSWs54JqsMfJDer7ZuEuS1mKTNQKL/iFtEylJ6suYP2MOuAtE\nz+/FO8d48WuY1/G1tOgXcV3kf7+xbue+t4DrfPHfW1oZw3buBaIlSZIGNHiTleTFST6T5NYkvzD0\n80sHgjHvPpekA8WgTVaSBwH/CXgR8BTgR5I8aXNpK83qapfVKqdd1spKm5wubXRZLcfXLqtVzuaz\n1j7P72ranOe3uZpaNn79NpErm1yuz6xWOe2yFv29xZpmSGq0LYxxm9pqTUPvyToF2FVVt1fVfcDF\nwOmbi1ppV9UCvQBWf/g873nPW6gPn1bjW+tDenXWPK+nfrM2l7N243cum2n87p91Lquzh24i+81q\nldMua4wfiG2zWuW0zGqV0zZrkZqs1p+hQzdZRwN3Tv19VzdNjfT74bP9Wo2v5Qe+dCBY/eFz3nnn\neQj6ALTW/6Cu3hY2u0d6DNtU689QT3yXJK1r0f8HThszP3ukx2HQn3BI8mxgZ1W9uPv7bKCq6vxV\n883fd0glSdIBa62fcBi6yToIuAV4AfA54BrgR6rq5sGKkCRJGsDBQz5ZVX0jyb8CrmByqPIdNliS\nJGkRjfIX3yVJkuadJ75LkiT1wCZLkiSpB4Oek7UVSR4O/L2q+l+rpj+1qq6fIedhwIuBY4FvALcC\nV1TVNzdR0xFd1t7f+robuLyqvjhr1hrZv1hVb9jEcscAX6mqLyR5HPB04IaqunUba2q2zh/gOb63\nqj404zL/CNhTVbckeS7wHODmqvq9LdayqfW0Rs4JwDOAm6rqMzMsdxqT9fvVBjUcB3y+qr6ayVVY\nXwmcDNwE/HpVfX3GvCbbQsvXXov3lpbrvMtrMr5WdfUwvlbv561ymo7vAZ5npvepVuPrlmnyftf4\ntbfwn1dzcU5WkjOBtwCfBw4BXllVH+8eu7aqTp4h518D1wPPAz7CZG/edwA/WlU3zFDTy5n8qMcV\nTDYygGOA7wXOq6qLZsh66+pJwL8ALgKoqp/eYM7rgJ8F/pbJ+voZ4I+A7wJ+sap+axtqarbO13me\nO6rquBnmfwuTKxAcDFzO5Buvvw+cClxXVa/fYE6T9dRl/W5VndHdP53Jv+EKk3+/N1XVb24w52+A\nLzMZz39h8gb4jY3WsSrrRuCUqvpKkvOBxwG/CzwfoKpeNUNWk22h8Wuv1XtLy3XecnxN6mo8vpbv\n51vO6eZvNr51nmfD71ONx9fq/a7ltnlgfF5V1ehvwCeBb+/unwJ8Bvin3d/XzZBzPfCQ7v6jmbyQ\nAJ4KfGTGmm4BHrHG9COBW2fMuhN4F/By4BXd7c/33p8h50bgIcCjmLxhLE3VdO021dRynV+6n9sH\ngC/PmPVpJi/EhwD3TNV4CHDj0Otp9bbM5MV9wtR6+9QsOd2/+WuAPwD2AL8GnDpLPV3WTVP3PwE8\naOrvDdfUclto/Npr9d7Scp23HF+TuhqPr9U6b5LTw/iavE81Hl+r97uW2+ZCf17tvc3L4cKDqupz\nAFV1TZLnAf89ybFMfhZ2owL8TXf/y8Bjuszru92ys8h+nvub3WOzeDLwRia7KP91Vf3vJOdW1YUz\n5vxtVX0F+EqSz1bVboCquqc71LMdNbVc598NvAz46zWe45QZs6iqSrJ3F/Def8tZdwm3Wk/TNQAc\nWlV/1tX5F1N1biinqu4Bfh349SRLwJnALyU5pqqOnSHrziTPr6qrgNuY7EK/PcmjZsjYq9W20PK1\n1+q9peU6bzm+VnW1HF+rdd4qp4toNr5W71Mtx9fq/a7ltrnon1fA/JyT9aUkj6vuuHRVfS7JMpPD\nFk+ZIeeDwGVJ/pDJP8Z7AZI8ktk3kP8HuDbJFXzreozHMdlt+sZZgqrqS8DPJHkm8O4kv8fmvpRQ\nSQ6pycW3//HeiUkOmzWvYU0t1/lHmRy///DqB5LcMmPWlUn+CDgU+E/Ah5Ls3X2+4XMmGq4ngKcl\n+Ssm6+Xbknx7t60fChw0Q87fWa/dm9dbgbcmOX7Gmn4cuCjJTuBe4JNJPgk8Avi5GbNabQvNXnu0\ne29puc5bjq9VXS3H12qdt8qBtuNr9T7VcnxN3u9ou20u+ucVMD/nZD2NyW7Wz66afghwZlW9e4as\n72PS9X6quhMQkzwIOKSqvjZjXUcCL+L+JwDeM0vOqswAZwHPqaqXzbjsccDnuo12evrRwElVdeXQ\nNXXLN1vnLSU5lclJ3Tcn+W4mJ4J+pqou3WTeltbTA+Q+gsm/359scP7lqlpp9fxd5knAiUz+x+wu\n4OO1uS+LNNkWWr32Wr23tF7nDcfXpK6W42u4zp/GpJnZtZWcbpnmr5mtajm+brkm73cNt80D4vNq\nLpqsPnSdKVX1he2uRYvBbUpj1mr7dDvfuDGuc//9hjX3v5OVZJZvBB6X5OIknwc+BlyT5PPdtB3b\nUVPLrCTHdmP5oyRv6P6PZ+9jvzvj8zbJGmNNLbOmtqk/Zw62qVlzRrrOn5rkyi7rhCRXJ/lil/v4\nWWpa53m25bXXqqZu/ibb5xi38zFum938o1vnQ/z7Lch7S/PX8Vyck5XkB/b3ELA0Q9RvM/mq6I9W\n9/XcTC5a/UPAxcCzt6Gmlln/H/A+JucEvBr4cJJ/UlV/Ccx6XkGrrDHW1DJrdNtUy22Tca7zXwPe\nBDwM+B9Mzg37beD7gQuAF240aIyvvcb/fq22z9Ft54xz24QRrvNWWQfAe0vLmoA5OVyY5D7g3az9\nrYZ/VlWHbzBnV1U9YdbH+qypZVaST1bV06f+fhlwDnAa8N6a7XdVmmSNsaaWWWPcphpvm2Nc59dV\n1TO6+5+tqsdPPTbr7weN8bXX8t+vyfY50u18dNtmt+wY13mrmhb9vaVZTfvUJn73Yegbk9/n+T/2\n89idM+RczOT/dJ8F/P3u9qxu2iXbUVPj8X0aOGzVtO8BPsvkBMNZamqSNcaaGo9vdNtU421zjOv8\n+qn7Z616bMO/+dN4nbdcTy3//ZpsnyPdzke3bY54nbeqadHfW5rVtG/5zSw09I3J744ct5/HvnOG\nnEOBnwIuA27obpcx+SbCt21HTY3H97Os8eN5TC7N8qEZa2qSNcaaGo9vdNtU421zjOv8J4GHrTH9\n8cBbtmmdt1xPLf/9mmyfI93OR7dtjnidt6pp0d9bmtW09zYXhwslSZLmzdx+uzDJtWPKGWuWNQ2f\nZU3DZ1nT8FnWNHyWNQ2ftdWcuW2yYHO/vtpjzlizrGn4LGsaPsuahs+ypuGzrGn4rC3lzHOT9Xsj\nyxlrljUNn2VNw2dZ0/BZ1jR8ljUNn7WlnLk8JyuTCzU+AfjT2sIlbBZZJpc++EZV/dVYsuIvDUvb\nLsnJVdXssIweWKvPKz/35tNc7MlK8q4kj+7uvwi4ETifycVqf2iGnC8k+Y0kL0hmvsr36LOS/P0k\nFyW5F/gL4MYkdyTZmalfrh0yKyP8peiWWVnwXy0eY1bLmtZ5nu3aDpr9on2Sk1fdnglcmuQZSWb5\nHaJXTd0/JskfJLknyUeSnDhjTU2yxlhTt3yrz6smOd3yrT5jRve51zKrZU37bOYriUPfgBum7n8E\n2NHdfzSTizhuNOcW4F8x+ZXou4FfBZ69yZpGlwVcBSx3938A+BXgocC/B96+HVnAnwA/DBw0Ne0g\n4KXAR2es6Qf2c/tB4M+3I4vJFez/JfB04D922+ejuseum7GmJlljrGnE4xvjdvAR4J8APwL87+61\nkm7aFTNmfbPLu3rq9jfdf6+aIefaqfuXAD/B5H/S/ynwBzPW1CRrjDV1y7f6vGqS0y3T6jNmdJ97\nYx3fvsytLDzUjckPhD28u//HwIOmH5shZ/qFdBzwb4BrgT8FfnHGmkaXtfqFB3xi6v5nZqypSRaw\nazOP7Wf++4DfBN65xu1L25EFfHLV3y/rttfHTf+7Dpk1xppGPL4xbgfXTd3/7KrHZs36QeDDwEum\npv3ZLBmrn3eN94ZZm8gmWWOsqZu/1edVk5w1xreVz5jRfe6NdXx7b3Nx7ULgPODqJP+ZSYf53iSX\nAs9j8oNqG7Vv919V3QG8GXhzkicx2dsyizFm/XkmlwG4msn/jd8G0O32nPXQcKusTyS5ALgQuLOb\ndizwCuC6GWu6Hvh/q+rG1Q8k+Z5tyjokyWFV9VWAqnpXkt3A5Uz2/M2iVdYYa2qZ1bKmMW4HB03d\n/+VVjx06S1BVvS/J5cAbu0NiP8/al0RZzzFJ3srkverRSQ6pqvu6x2Y6FaFh1hhrgnafV61yoN1n\nzBg/91pmtaxpX9Bc3Jj8mvP5wH8DPgC8DXjRjBm/3LCe0WUx6bwvYXLs/l3At3fTHwX84HZksfYv\nDf8+/sp+b1ljrGnE4xvjdtDsF+1XLX8yk/9pmunQerfsK1bdjuymLzH7XocmWWOsadW/1ZY+rxrn\ntPqMGd3tR/9nAAAJRUlEQVTn3ljHt/c2l98ulCTNrtsTfXg1+NaxpPXNTZPVfbviDODobtLdwPur\naqbdpq1yxpo1xpoeIP//rqp/t6hZ1jR81mZyFv21t8jjG2NNLbOsafis1p97c9FkJXkLcCJwEXBX\nN/kY4OVMTp5+3ZA5Y80aY03rPMcdVXXcVnPGmmVNw2fNmrPor71FHt8Ya2qZZU3zPb59mXPSZN1a\nVff7rZJu1/etVfWEIXPGmjXSmvZ3WCLAg6tqw1++GGOWNc39+Bb2tdcyy5oc31hrapnVsqa95uLH\nSIGvJvkHa0z/B8BXtyFnrFljrOmLwBOq6uGrbocDn5uxpjFmWdPwWS1rWuTXXsssaxo+y5qGz2pZ\nE8Dc/ITDK4G3JTmcb+3COxa4t3ts6JyxZo2xpouA44E9azz2nhlrGmOWNQ2f1bKmV7K4r72WWdY0\nfJY1DZ/VsiZgTg4X7pVkiamT0apq93bmjDVrjDVJY7bor71FHt8Ya2qZZU3DZzX93KvGvwkx1A3Y\nOaacsWZZk+Mba02LPr4x1rTo4xtjTYs+vjHWNKbxzcs5WWs5bWQ5Y82ypuGzrGn4LGsaPsuahs+y\npuGztpQzz01Wmytkt8sZa5Y1DZ9lTcNnWdPwWdY0fJY1DZ+1pZy5OidrWpIHVdU3x5Iz1ixrGj7L\nmobPsqbhs6xp+CxrGj5rqznzvCfrypHljDXLmobPsqbhszaVk+TRq/5+GfCWJD/R/TbOoDljzbKm\n4bOsafisljXty5iHPVlJrl89icmvst4CUFVPHTJnrFnW5PjGWlPLrMY1XVtVJ3f3/08mF4x+D/D9\nwF1V9bND5ow1y5oc31hrGuv49ml1Jn+fN+BS4F3Ak5j8Ps4O4M7u/vFD54w1y5oc31hrGvH4rpu6\nfy3w0O7+IcANQ+eMNcuaHN9Yaxrr+Pbe5uJwYVWdBrwPeDvwtKq6Dbivqm6vqtuHzhlrljUNn2VN\nw2e1rAl4cJJnJHkmcEhVfbl7jvuAb2xDzlizrGn4LGsaPqtlTcCcHC7cK8lDgTcCjwOeWVXHbGfO\nWLOsafgsaxo+q0VOkqtXTfrnVfW5JI8CLq+q7xwyZ6xZ1uT4xlpTy6yWNe3LnKcma68kTwOeU1W/\nNoacsWZZ0/BZ1jR8VsuapjIPAr6tqr4yhpyxZlnT8FnWNHzWVnLmssmaluRJVfWZseSMNcuahs+y\npuGzrGn4LGsaPsuahs/abM4iNFl3VNVxY8kZa5Y1DZ9lTcNnWdPwWdY0fJY1DZ+12ZyDt/rEQ0jy\n1v09BDxi6JyxZlnT8FnWNHyWNQ2fZU3DZ1nT8Fkta9q34DzsyUryJeDnga+t8fB/qKpHrzG9t5yx\nZlmT4xtrTS2zrMnxjbWmllnWNN/j26c28bsPQ9+Aq4Dv2s9jfzZ0zlizrMnxjbWmRR/fGGta9PGN\nsaZFH98Yaxrr+Pbe5mVP1iOBr9bWvyHQJGesWdY0fJY1DZ9lTcNnWdPwWdY0fFbLmvZlzkOTJUmS\nNG/m4hffkxyR5JeSfCbJF5L8ZZKbu2mznNTWJGesWdbk+MZa06KPb4w1Lfr4xljToo9vjDWNdXx7\nzUWTBVwC3AMsV9Ujq+pRwPO6aZdsQ85Ys6xp+CxrGj7LmobPsqbhs6xp+KyWNU1s5kSuoW/ALZt5\nrK+csWZZk+Mba02LPr4x1rTo4xtjTYs+vjHWNNbx7b3Ny56s25P8myRH7Z2Q5KgkvwDcuQ05Y82y\npuGzrGn4LGsaPsuahs+ypuGzWtYEzM/hwh8GHgV8OMk9Sb4ArACPBM7chpyxZlnT8FnWNHyWNQ2f\nZU3DZ1nT8Fkta5rYzO6v7bgBTwK+B3jYqukv3o6csWZZk+Mba02LPr4x1rTo4xtjTYs+vjHWNNbx\nVdV8NFnATwO3AL8L3AacPvXYtUPnjDXLmhzfWGta9PGNsaZFH98Ya1r08Y2xprGOb99ym1lo6Btw\nA11XCewA/ifwuu7v64bOGWuWNTm+sda06OMbY02LPr4x1rTo4xtjTWMd397bXFwgGnhQVf01QFXd\nlmQZ+J0kxzO5cOPQOWPNsqbhs6xp+CxrGj7LmobPsqbhs1rWNAnczELbYE+Sp+/9o1sJ3w88GviO\nbcgZa5Y1DZ9lTcNnWdPwWdY0fJY1DZ/VsqZ9IaO/AccAS/t57LlD54w1y5oc31hrWvTxjbGmRR/f\nGGta9PGNsaaxjm/vzWsXSpIk9WBeDhdKkiTNFZssSZKkHthkSZIk9cAmS9IoJDkiyU9tMeMVSf7j\nBub5fJJPJLk1ye8nec4Gsk9P8qSt1CfpwGKTJWksjgTOWj0xyUEz5mzk2zwXV9Uzq+pE4HzgvyZ5\n4jrLnAE8ZcZaJB3AbLIkjcWbgMcmuTbJNUn+MMn7gU8DJPlvST6e5IYkP753oSQ/luSWJB8Fnjs1\n/dFJfifJx7rbmnurqmoFeDvwE91yP949/3VJ3pvksG7Z04A3d/WdkOSx3V6wjyf5cJIT+1oxkubT\nvPziu6TFdzbwlKo6OcmpwH/v/r6je/zHquqLSQ4DPp7kfcC3ATuBZwB/BawA13bz/yrwy1X1kSTH\nApcDT97Pc19L12QB76uq3wBI8kbg1VX1n5NcCnygqv5r99iVwE9W1f9KcgrwNuAFTdaEpIVgkyVp\nrK6ZarAAfibJGd39Y4AnAN8OXF1VXwBI8tvddIDvAU5KsvdyGA9L8pD9PNf0JTOe2jVXjwAeyqQ5\n+7szJw8Fvgt471T+ITONTtLCs8mSNFZf3nun27P1fOBZVfW1JFcDh+19eD/Lp5v/vr8zMWvO/gzg\n5u7+O4HTqurGJK8ATl1j/gcB91TVyRsdjKQDj+dkSRqLLwGHd/dXd0JHMGlqvtZ9w+/Z3fSPAf8o\nyZFJDgF+aGqZK4DX7f0jydOmHsvU9FOB1zA5LwvgYcDuLu9HV9X3cICq+hLwZ0n+2VTOU2cYq6QD\ngE2WpFHoDvn9jyTXM/nG37TLgEOSfBr4ReBPumV2Mzkn66PAHwE3TS3zOuA7k3wqyY3AT049dmZ3\nAvstTM4F+4GqurV77P8Crunybp5a5mLg9d1PP5zApAF7dZJPdvmnbW0NSFo0XrtQkiSpB+7JkiRJ\n6oFNliRJUg9ssiRJknpgkyVJktQDmyxJkqQe2GRJkiT1wCZLkiSpBzZZkiRJPfj/AfnqnugIcAEx\nAAAAAElFTkSuQmCC\n",
       "text/plain": "<matplotlib.figure.Figure at 0x854e9d0>"
      },
      "image/png": "[encoded data removed]",
      "source": "display",
      "text/plain": [
       "<matplotlib.figure.Figure at 0x854e9d0>"
      ]
     },
     "metadata": {},
     "output_type": "display_data"
    }
   ],
   "source": [
    "plt.figure(figsize=(10, 5))\n",
    "md201406_201507.set_index('tradeDate').tradeVol.plot(kind=\"bar\")"
   ]
  },
  {
   "cell_type": "markdown",
   "metadata": {},
   "source": [
    "### 95%的卖家是机构席位， 85%的买家是机构席位"
   ]
  },
  {
   "cell_type": "code",
   "execution_count": null,
   "metadata": {
    "collapsed": false
   },
   "outputs": [
    {
     "data": {
      "text/plain": [
       "sellerBD\n",
       "北京高华证券有限责任公司北京金融大街证券营业部    0.003715\n",
       "招商证券交易单元(353800)           0.011323\n",
       "招商证券股份有限公司北京安立路证券营业部       0.007180\n",
       "机构专用                       0.954641\n",
       "瑞银证券有限责任公司上海花园石桥路证券营业部     0.023141\n",
       "Name: tradeVol, dtype: float64"
      ]
     },
     "execution_count": 45,
     "metadata": {},
     "output_type": "execute_result"
    }
   ],
   "source": [
    "total = md201406_201507.tradeVol.sum()\n",
    "md201406_201507.groupby('sellerBD').tradeVol.sum()/total"
   ]
  },
  {
   "cell_type": "code",
   "execution_count": null,
   "metadata": {
    "collapsed": false
   },
   "outputs": [
    {
     "data": {
      "text/plain": [
       "buyerBD\n",
       "中信建投证券股份有限公司北京南大红门路证券营业部    0.018503\n",
       "中国国际金融有限公司上海淮海中路证券营业部       0.111207\n",
       "机构专用                        0.840771\n",
       "瑞银证券有限责任公司上海花园石桥路证券营业部      0.029519\n",
       "Name: tradeVol, dtype: float64"
      ]
     },
     "execution_count": 46,
     "metadata": {},
     "output_type": "execute_result"
    }
   ],
   "source": [
    "md201406_201507.groupby('buyerBD').tradeVol.sum()/total"
   ]
  },
  {
   "cell_type": "code",
   "execution_count": null,
   "metadata": {
    "collapsed": false
   },
   "outputs": [
    {
     "data": {
      "text/html": [
       "<div style=\"max-width:1500px;overflow:auto;\">\n",
       "<table border=\"1\" class=\"dataframe\">\n",
       "  <thead>\n",
       "    <tr style=\"text-align: right;\">\n",
       "      <th></th>\n",
       "      <th>tradeDate</th>\n",
       "      <th>secID</th>\n",
       "      <th>ticker</th>\n",
       "      <th>assetClass</th>\n",
       "      <th>exchangeCD</th>\n",
       "      <th>secFullName</th>\n",
       "      <th>currencyCD</th>\n",
       "      <th>tradePrice</th>\n",
       "      <th>tradeVal</th>\n",
       "      <th>tradeVol</th>\n",
       "      <th>buyerBD</th>\n",
       "      <th>sellerBD</th>\n",
       "      <th>month</th>\n",
       "    </tr>\n",
       "  </thead>\n",
       "  <tbody>\n",
       "    <tr>\n",
       "      <th>0</th>\n",
       "      <td>2014-06-12</td>\n",
       "      <td>000333.XSHE</td>\n",
       "      <td>000333</td>\n",
       "      <td>E</td>\n",
       "      <td>XSHE</td>\n",
       "      <td>美的集团</td>\n",
       "      <td>CNY</td>\n",
       "      <td>18.43</td>\n",
       "      <td>3098.08</td>\n",
       "      <td>168.10</td>\n",
       "      <td>机构专用</td>\n",
       "      <td>机构专用</td>\n",
       "      <td>2014-06</td>\n",
       "    </tr>\n",
       "    <tr>\n",
       "      <th>1</th>\n",
       "      <td>2014-07-09</td>\n",
       "      <td>000333.XSHE</td>\n",
       "      <td>000333</td>\n",
       "      <td>E</td>\n",
       "      <td>XSHE</td>\n",
       "      <td>美的集团</td>\n",
       "      <td>CNY</td>\n",
       "      <td>19.05</td>\n",
       "      <td>988.89</td>\n",
       "      <td>51.91</td>\n",
       "      <td>瑞银证券有限责任公司上海花园石桥路证券营业部</td>\n",
       "      <td>瑞银证券有限责任公司上海花园石桥路证券营业部</td>\n",
       "      <td>2014-07</td>\n",
       "    </tr>\n",
       "    <tr>\n",
       "      <th>2</th>\n",
       "      <td>2014-07-10</td>\n",
       "      <td>000333.XSHE</td>\n",
       "      <td>000333</td>\n",
       "      <td>E</td>\n",
       "      <td>XSHE</td>\n",
       "      <td>美的集团</td>\n",
       "      <td>CNY</td>\n",
       "      <td>18.86</td>\n",
       "      <td>1958.05</td>\n",
       "      <td>103.82</td>\n",
       "      <td>瑞银证券有限责任公司上海花园石桥路证券营业部</td>\n",
       "      <td>瑞银证券有限责任公司上海花园石桥路证券营业部</td>\n",
       "      <td>2014-07</td>\n",
       "    </tr>\n",
       "    <tr>\n",
       "      <th>3</th>\n",
       "      <td>2014-07-14</td>\n",
       "      <td>000333.XSHE</td>\n",
       "      <td>000333</td>\n",
       "      <td>E</td>\n",
       "      <td>XSHE</td>\n",
       "      <td>美的集团</td>\n",
       "      <td>CNY</td>\n",
       "      <td>18.72</td>\n",
       "      <td>803.46</td>\n",
       "      <td>42.92</td>\n",
       "      <td>瑞银证券有限责任公司上海花园石桥路证券营业部</td>\n",
       "      <td>机构专用</td>\n",
       "      <td>2014-07</td>\n",
       "    </tr>\n",
       "    <tr>\n",
       "      <th>4</th>\n",
       "      <td>2014-09-23</td>\n",
       "      <td>000333.XSHE</td>\n",
       "      <td>000333</td>\n",
       "      <td>E</td>\n",
       "      <td>XSHE</td>\n",
       "      <td>美的集团</td>\n",
       "      <td>CNY</td>\n",
       "      <td>20.40</td>\n",
       "      <td>306.00</td>\n",
       "      <td>15.00</td>\n",
       "      <td>机构专用</td>\n",
       "      <td>机构专用</td>\n",
       "      <td>2014-09</td>\n",
       "    </tr>\n",
       "    <tr>\n",
       "      <th>5</th>\n",
       "      <td>2014-09-24</td>\n",
       "      <td>000333.XSHE</td>\n",
       "      <td>000333</td>\n",
       "      <td>E</td>\n",
       "      <td>XSHE</td>\n",
       "      <td>美的集团</td>\n",
       "      <td>CNY</td>\n",
       "      <td>20.70</td>\n",
       "      <td>2277.00</td>\n",
       "      <td>110.00</td>\n",
       "      <td>机构专用</td>\n",
       "      <td>机构专用</td>\n",
       "      <td>2014-09</td>\n",
       "    </tr>\n",
       "    <tr>\n",
       "      <th>6</th>\n",
       "      <td>2014-10-29</td>\n",
       "      <td>000333.XSHE</td>\n",
       "      <td>000333</td>\n",
       "      <td>E</td>\n",
       "      <td>XSHE</td>\n",
       "      <td>美的集团</td>\n",
       "      <td>CNY</td>\n",
       "      <td>20.44</td>\n",
       "      <td>817.60</td>\n",
       "      <td>40.00</td>\n",
       "      <td>机构专用</td>\n",
       "      <td>机构专用</td>\n",
       "      <td>2014-10</td>\n",
       "    </tr>\n",
       "    <tr>\n",
       "      <th>7</th>\n",
       "      <td>2014-11-21</td>\n",
       "      <td>000333.XSHE</td>\n",
       "      <td>000333</td>\n",
       "      <td>E</td>\n",
       "      <td>XSHE</td>\n",
       "      <td>美的集团</td>\n",
       "      <td>CNY</td>\n",
       "      <td>21.80</td>\n",
       "      <td>301.06</td>\n",
       "      <td>13.81</td>\n",
       "      <td>机构专用</td>\n",
       "      <td>机构专用</td>\n",
       "      <td>2014-11</td>\n",
       "    </tr>\n",
       "    <tr>\n",
       "      <th>8</th>\n",
       "      <td>2014-11-28</td>\n",
       "      <td>000333.XSHE</td>\n",
       "      <td>000333</td>\n",
       "      <td>E</td>\n",
       "      <td>XSHE</td>\n",
       "      <td>美的集团</td>\n",
       "      <td>CNY</td>\n",
       "      <td>22.11</td>\n",
       "      <td>263.55</td>\n",
       "      <td>11.92</td>\n",
       "      <td>机构专用</td>\n",
       "      <td>机构专用</td>\n",
       "      <td>2014-11</td>\n",
       "    </tr>\n",
       "    <tr>\n",
       "      <th>9</th>\n",
       "      <td>2014-12-04</td>\n",
       "      <td>000333.XSHE</td>\n",
       "      <td>000333</td>\n",
       "      <td>E</td>\n",
       "      <td>XSHE</td>\n",
       "      <td>美的集团</td>\n",
       "      <td>CNY</td>\n",
       "      <td>22.93</td>\n",
       "      <td>1107.98</td>\n",
       "      <td>48.32</td>\n",
       "      <td>中信建投证券股份有限公司北京南大红门路证券营业部</td>\n",
       "      <td>招商证券股份有限公司北京安立路证券营业部</td>\n",
       "      <td>2014-12</td>\n",
       "    </tr>\n",
       "    <tr>\n",
       "      <th>10</th>\n",
       "      <td>2014-12-15</td>\n",
       "      <td>000333.XSHE</td>\n",
       "      <td>000333</td>\n",
       "      <td>E</td>\n",
       "      <td>XSHE</td>\n",
       "      <td>美的集团</td>\n",
       "      <td>CNY</td>\n",
       "      <td>22.48</td>\n",
       "      <td>1712.98</td>\n",
       "      <td>76.20</td>\n",
       "      <td>中信建投证券股份有限公司北京南大红门路证券营业部</td>\n",
       "      <td>招商证券交易单元(353800)</td>\n",
       "      <td>2014-12</td>\n",
       "    </tr>\n",
       "    <tr>\n",
       "      <th>11</th>\n",
       "      <td>2014-12-17</td>\n",
       "      <td>000333.XSHE</td>\n",
       "      <td>000333</td>\n",
       "      <td>E</td>\n",
       "      <td>XSHE</td>\n",
       "      <td>美的集团</td>\n",
       "      <td>CNY</td>\n",
       "      <td>25.47</td>\n",
       "      <td>636.75</td>\n",
       "      <td>25.00</td>\n",
       "      <td>机构专用</td>\n",
       "      <td>北京高华证券有限责任公司北京金融大街证券营业部</td>\n",
       "      <td>2014-12</td>\n",
       "    </tr>\n",
       "    <tr>\n",
       "      <th>12</th>\n",
       "      <td>2014-12-26</td>\n",
       "      <td>000333.XSHE</td>\n",
       "      <td>000333</td>\n",
       "      <td>E</td>\n",
       "      <td>XSHE</td>\n",
       "      <td>美的集团</td>\n",
       "      <td>CNY</td>\n",
       "      <td>27.12</td>\n",
       "      <td>6208.58</td>\n",
       "      <td>228.93</td>\n",
       "      <td>中国国际金融有限公司上海淮海中路证券营业部</td>\n",
       "      <td>机构专用</td>\n",
       "      <td>2014-12</td>\n",
       "    </tr>\n",
       "    <tr>\n",
       "      <th>13</th>\n",
       "      <td>2014-12-29</td>\n",
       "      <td>000333.XSHE</td>\n",
       "      <td>000333</td>\n",
       "      <td>E</td>\n",
       "      <td>XSHE</td>\n",
       "      <td>美的集团</td>\n",
       "      <td>CNY</td>\n",
       "      <td>27.64</td>\n",
       "      <td>542.30</td>\n",
       "      <td>19.62</td>\n",
       "      <td>机构专用</td>\n",
       "      <td>机构专用</td>\n",
       "      <td>2014-12</td>\n",
       "    </tr>\n",
       "    <tr>\n",
       "      <th>14</th>\n",
       "      <td>2014-12-30</td>\n",
       "      <td>000333.XSHE</td>\n",
       "      <td>000333</td>\n",
       "      <td>E</td>\n",
       "      <td>XSHE</td>\n",
       "      <td>美的集团</td>\n",
       "      <td>CNY</td>\n",
       "      <td>26.84</td>\n",
       "      <td>467.02</td>\n",
       "      <td>17.40</td>\n",
       "      <td>机构专用</td>\n",
       "      <td>机构专用</td>\n",
       "      <td>2014-12</td>\n",
       "    </tr>\n",
       "    <tr>\n",
       "      <th>15</th>\n",
       "      <td>2015-01-12</td>\n",
       "      <td>000333.XSHE</td>\n",
       "      <td>000333</td>\n",
       "      <td>E</td>\n",
       "      <td>XSHE</td>\n",
       "      <td>美的集团</td>\n",
       "      <td>CNY</td>\n",
       "      <td>28.00</td>\n",
       "      <td>14544.72</td>\n",
       "      <td>519.45</td>\n",
       "      <td>中国国际金融有限公司上海淮海中路证券营业部</td>\n",
       "      <td>机构专用</td>\n",
       "      <td>2015-01</td>\n",
       "    </tr>\n",
       "    <tr>\n",
       "      <th>16</th>\n",
       "      <td>2015-02-27</td>\n",
       "      <td>000333.XSHE</td>\n",
       "      <td>000333</td>\n",
       "      <td>E</td>\n",
       "      <td>XSHE</td>\n",
       "      <td>美的集团</td>\n",
       "      <td>CNY</td>\n",
       "      <td>31.46</td>\n",
       "      <td>18876.00</td>\n",
       "      <td>600.00</td>\n",
       "      <td>机构专用</td>\n",
       "      <td>机构专用</td>\n",
       "      <td>2015-02</td>\n",
       "    </tr>\n",
       "    <tr>\n",
       "      <th>17</th>\n",
       "      <td>2015-03-10</td>\n",
       "      <td>000333.XSHE</td>\n",
       "      <td>000333</td>\n",
       "      <td>E</td>\n",
       "      <td>XSHE</td>\n",
       "      <td>美的集团</td>\n",
       "      <td>CNY</td>\n",
       "      <td>29.85</td>\n",
       "      <td>8495.60</td>\n",
       "      <td>284.61</td>\n",
       "      <td>机构专用</td>\n",
       "      <td>机构专用</td>\n",
       "      <td>2015-03</td>\n",
       "    </tr>\n",
       "    <tr>\n",
       "      <th>18</th>\n",
       "      <td>2015-04-07</td>\n",
       "      <td>000333.XSHE</td>\n",
       "      <td>000333</td>\n",
       "      <td>E</td>\n",
       "      <td>XSHE</td>\n",
       "      <td>美的集团</td>\n",
       "      <td>CNY</td>\n",
       "      <td>34.15</td>\n",
       "      <td>1945.53</td>\n",
       "      <td>56.97</td>\n",
       "      <td>机构专用</td>\n",
       "      <td>机构专用</td>\n",
       "      <td>2015-04</td>\n",
       "    </tr>\n",
       "    <tr>\n",
       "      <th>19</th>\n",
       "      <td>2015-05-07</td>\n",
       "      <td>000333.XSHE</td>\n",
       "      <td>000333</td>\n",
       "      <td>E</td>\n",
       "      <td>XSHE</td>\n",
       "      <td>美的集团</td>\n",
       "      <td>CNY</td>\n",
       "      <td>34.88</td>\n",
       "      <td>349.35</td>\n",
       "      <td>10.02</td>\n",
       "      <td>机构专用</td>\n",
       "      <td>机构专用</td>\n",
       "      <td>2015-05</td>\n",
       "    </tr>\n",
       "    <tr>\n",
       "      <th>20</th>\n",
       "      <td>2015-05-12</td>\n",
       "      <td>000333.XSHE</td>\n",
       "      <td>000333</td>\n",
       "      <td>E</td>\n",
       "      <td>XSHE</td>\n",
       "      <td>美的集团</td>\n",
       "      <td>CNY</td>\n",
       "      <td>35.46</td>\n",
       "      <td>34396.20</td>\n",
       "      <td>970.00</td>\n",
       "      <td>机构专用</td>\n",
       "      <td>机构专用</td>\n",
       "      <td>2015-05</td>\n",
       "    </tr>\n",
       "    <tr>\n",
       "      <th>21</th>\n",
       "      <td>2015-05-22</td>\n",
       "      <td>000333.XSHE</td>\n",
       "      <td>000333</td>\n",
       "      <td>E</td>\n",
       "      <td>XSHE</td>\n",
       "      <td>美的集团</td>\n",
       "      <td>CNY</td>\n",
       "      <td>38.12</td>\n",
       "      <td>29733.60</td>\n",
       "      <td>780.00</td>\n",
       "      <td>机构专用</td>\n",
       "      <td>机构专用</td>\n",
       "      <td>2015-05</td>\n",
       "    </tr>\n",
       "    <tr>\n",
       "      <th>22</th>\n",
       "      <td>2015-05-27</td>\n",
       "      <td>000333.XSHE</td>\n",
       "      <td>000333</td>\n",
       "      <td>E</td>\n",
       "      <td>XSHE</td>\n",
       "      <td>美的集团</td>\n",
       "      <td>CNY</td>\n",
       "      <td>39.63</td>\n",
       "      <td>10236.12</td>\n",
       "      <td>258.29</td>\n",
       "      <td>机构专用</td>\n",
       "      <td>机构专用</td>\n",
       "      <td>2015-05</td>\n",
       "    </tr>\n",
       "    <tr>\n",
       "      <th>23</th>\n",
       "      <td>2015-06-01</td>\n",
       "      <td>000333.XSHE</td>\n",
       "      <td>000333</td>\n",
       "      <td>E</td>\n",
       "      <td>XSHE</td>\n",
       "      <td>美的集团</td>\n",
       "      <td>CNY</td>\n",
       "      <td>38.40</td>\n",
       "      <td>7357.23</td>\n",
       "      <td>191.59</td>\n",
       "      <td>机构专用</td>\n",
       "      <td>机构专用</td>\n",
       "      <td>2015-06</td>\n",
       "    </tr>\n",
       "    <tr>\n",
       "      <th>24</th>\n",
       "      <td>2015-06-02</td>\n",
       "      <td>000333.XSHE</td>\n",
       "      <td>000333</td>\n",
       "      <td>E</td>\n",
       "      <td>XSHE</td>\n",
       "      <td>美的集团</td>\n",
       "      <td>CNY</td>\n",
       "      <td>38.44</td>\n",
       "      <td>31437.39</td>\n",
       "      <td>817.83</td>\n",
       "      <td>机构专用</td>\n",
       "      <td>机构专用</td>\n",
       "      <td>2015-06</td>\n",
       "    </tr>\n",
       "    <tr>\n",
       "      <th>25</th>\n",
       "      <td>2015-07-08</td>\n",
       "      <td>000333.XSHE</td>\n",
       "      <td>000333</td>\n",
       "      <td>E</td>\n",
       "      <td>XSHE</td>\n",
       "      <td>美的集团</td>\n",
       "      <td>CNY</td>\n",
       "      <td>30.81</td>\n",
       "      <td>37003.66</td>\n",
       "      <td>1201.03</td>\n",
       "      <td>机构专用</td>\n",
       "      <td>机构专用</td>\n",
       "      <td>2015-07</td>\n",
       "    </tr>\n",
       "    <tr>\n",
       "      <th>26</th>\n",
       "      <td>2015-07-10</td>\n",
       "      <td>000333.XSHE</td>\n",
       "      <td>000333</td>\n",
       "      <td>E</td>\n",
       "      <td>XSHE</td>\n",
       "      <td>美的集团</td>\n",
       "      <td>CNY</td>\n",
       "      <td>36.76</td>\n",
       "      <td>259.53</td>\n",
       "      <td>7.06</td>\n",
       "      <td>机构专用</td>\n",
       "      <td>机构专用</td>\n",
       "      <td>2015-07</td>\n",
       "    </tr>\n",
       "    <tr>\n",
       "      <th>27</th>\n",
       "      <td>2015-07-23</td>\n",
       "      <td>000333.XSHE</td>\n",
       "      <td>000333</td>\n",
       "      <td>E</td>\n",
       "      <td>XSHE</td>\n",
       "      <td>美的集团</td>\n",
       "      <td>CNY</td>\n",
       "      <td>34.85</td>\n",
       "      <td>310.69</td>\n",
       "      <td>8.91</td>\n",
       "      <td>机构专用</td>\n",
       "      <td>机构专用</td>\n",
       "      <td>2015-07</td>\n",
       "    </tr>\n",
       "    <tr>\n",
       "      <th>28</th>\n",
       "      <td>2015-07-24</td>\n",
       "      <td>000333.XSHE</td>\n",
       "      <td>000333</td>\n",
       "      <td>E</td>\n",
       "      <td>XSHE</td>\n",
       "      <td>美的集团</td>\n",
       "      <td>CNY</td>\n",
       "      <td>34.36</td>\n",
       "      <td>1367.53</td>\n",
       "      <td>39.80</td>\n",
       "      <td>机构专用</td>\n",
       "      <td>机构专用</td>\n",
       "      <td>2015-07</td>\n",
       "    </tr>\n",
       "    <tr>\n",
       "      <th>29</th>\n",
       "      <td>2015-07-29</td>\n",
       "      <td>000333.XSHE</td>\n",
       "      <td>000333</td>\n",
       "      <td>E</td>\n",
       "      <td>XSHE</td>\n",
       "      <td>美的集团</td>\n",
       "      <td>CNY</td>\n",
       "      <td>33.42</td>\n",
       "      <td>371.63</td>\n",
       "      <td>11.12</td>\n",
       "      <td>机构专用</td>\n",
       "      <td>机构专用</td>\n",
       "      <td>2015-07</td>\n",
       "    </tr>\n",
       "  </tbody>\n",
       "</table>\n",
       "</div>"
      ],
      "text/plain": [
       "     tradeDate        secID  ticker assetClass exchangeCD secFullName  \\\n",
       "0   2014-06-12  000333.XSHE  000333          E       XSHE        美的集团   \n",
       "1   2014-07-09  000333.XSHE  000333          E       XSHE        美的集团   \n",
       "2   2014-07-10  000333.XSHE  000333          E       XSHE        美的集团   \n",
       "3   2014-07-14  000333.XSHE  000333          E       XSHE        美的集团   \n",
       "4   2014-09-23  000333.XSHE  000333          E       XSHE        美的集团   \n",
       "5   2014-09-24  000333.XSHE  000333          E       XSHE        美的集团   \n",
       "6   2014-10-29  000333.XSHE  000333          E       XSHE        美的集团   \n",
       "7   2014-11-21  000333.XSHE  000333          E       XSHE        美的集团   \n",
       "8   2014-11-28  000333.XSHE  000333          E       XSHE        美的集团   \n",
       "9   2014-12-04  000333.XSHE  000333          E       XSHE        美的集团   \n",
       "10  2014-12-15  000333.XSHE  000333          E       XSHE        美的集团   \n",
       "11  2014-12-17  000333.XSHE  000333          E       XSHE        美的集团   \n",
       "12  2014-12-26  000333.XSHE  000333          E       XSHE        美的集团   \n",
       "13  2014-12-29  000333.XSHE  000333          E       XSHE        美的集团   \n",
       "14  2014-12-30  000333.XSHE  000333          E       XSHE        美的集团   \n",
       "15  2015-01-12  000333.XSHE  000333          E       XSHE        美的集团   \n",
       "16  2015-02-27  000333.XSHE  000333          E       XSHE        美的集团   \n",
       "17  2015-03-10  000333.XSHE  000333          E       XSHE        美的集团   \n",
       "18  2015-04-07  000333.XSHE  000333          E       XSHE        美的集团   \n",
       "19  2015-05-07  000333.XSHE  000333          E       XSHE        美的集团   \n",
       "20  2015-05-12  000333.XSHE  000333          E       XSHE        美的集团   \n",
       "21  2015-05-22  000333.XSHE  000333          E       XSHE        美的集团   \n",
       "22  2015-05-27  000333.XSHE  000333          E       XSHE        美的集团   \n",
       "23  2015-06-01  000333.XSHE  000333          E       XSHE        美的集团   \n",
       "24  2015-06-02  000333.XSHE  000333          E       XSHE        美的集团   \n",
       "25  2015-07-08  000333.XSHE  000333          E       XSHE        美的集团   \n",
       "26  2015-07-10  000333.XSHE  000333          E       XSHE        美的集团   \n",
       "27  2015-07-23  000333.XSHE  000333          E       XSHE        美的集团   \n",
       "28  2015-07-24  000333.XSHE  000333          E       XSHE        美的集团   \n",
       "29  2015-07-29  000333.XSHE  000333          E       XSHE        美的集团   \n",
       "\n",
       "   currencyCD  tradePrice  tradeVal  tradeVol                   buyerBD  \\\n",
       "0         CNY       18.43   3098.08    168.10                      机构专用   \n",
       "1         CNY       19.05    988.89     51.91    瑞银证券有限责任公司上海花园石桥路证券营业部   \n",
       "2         CNY       18.86   1958.05    103.82    瑞银证券有限责任公司上海花园石桥路证券营业部   \n",
       "3         CNY       18.72    803.46     42.92    瑞银证券有限责任公司上海花园石桥路证券营业部   \n",
       "4         CNY       20.40    306.00     15.00                      机构专用   \n",
       "5         CNY       20.70   2277.00    110.00                      机构专用   \n",
       "6         CNY       20.44    817.60     40.00                      机构专用   \n",
       "7         CNY       21.80    301.06     13.81                      机构专用   \n",
       "8         CNY       22.11    263.55     11.92                      机构专用   \n",
       "9         CNY       22.93   1107.98     48.32  中信建投证券股份有限公司北京南大红门路证券营业部   \n",
       "10        CNY       22.48   1712.98     76.20  中信建投证券股份有限公司北京南大红门路证券营业部   \n",
       "11        CNY       25.47    636.75     25.00                      机构专用   \n",
       "12        CNY       27.12   6208.58    228.93     中国国际金融有限公司上海淮海中路证券营业部   \n",
       "13        CNY       27.64    542.30     19.62                      机构专用   \n",
       "14        CNY       26.84    467.02     17.40                      机构专用   \n",
       "15        CNY       28.00  14544.72    519.45     中国国际金融有限公司上海淮海中路证券营业部   \n",
       "16        CNY       31.46  18876.00    600.00                      机构专用   \n",
       "17        CNY       29.85   8495.60    284.61                      机构专用   \n",
       "18        CNY       34.15   1945.53     56.97                      机构专用   \n",
       "19        CNY       34.88    349.35     10.02                      机构专用   \n",
       "20        CNY       35.46  34396.20    970.00                      机构专用   \n",
       "21        CNY       38.12  29733.60    780.00                      机构专用   \n",
       "22        CNY       39.63  10236.12    258.29                      机构专用   \n",
       "23        CNY       38.40   7357.23    191.59                      机构专用   \n",
       "24        CNY       38.44  31437.39    817.83                      机构专用   \n",
       "25        CNY       30.81  37003.66   1201.03                      机构专用   \n",
       "26        CNY       36.76    259.53      7.06                      机构专用   \n",
       "27        CNY       34.85    310.69      8.91                      机构专用   \n",
       "28        CNY       34.36   1367.53     39.80                      机构专用   \n",
       "29        CNY       33.42    371.63     11.12                      机构专用   \n",
       "\n",
       "                   sellerBD    month  \n",
       "0                      机构专用  2014-06  \n",
       "1    瑞银证券有限责任公司上海花园石桥路证券营业部  2014-07  \n",
       "2    瑞银证券有限责任公司上海花园石桥路证券营业部  2014-07  \n",
       "3                      机构专用  2014-07  \n",
       "4                      机构专用  2014-09  \n",
       "5                      机构专用  2014-09  \n",
       "6                      机构专用  2014-10  \n",
       "7                      机构专用  2014-11  \n",
       "8                      机构专用  2014-11  \n",
       "9      招商证券股份有限公司北京安立路证券营业部  2014-12  \n",
       "10         招商证券交易单元(353800)  2014-12  \n",
       "11  北京高华证券有限责任公司北京金融大街证券营业部  2014-12  \n",
       "12                     机构专用  2014-12  \n",
       "13                     机构专用  2014-12  \n",
       "14                     机构专用  2014-12  \n",
       "15                     机构专用  2015-01  \n",
       "16                     机构专用  2015-02  \n",
       "17                     机构专用  2015-03  \n",
       "18                     机构专用  2015-04  \n",
       "19                     机构专用  2015-05  \n",
       "20                     机构专用  2015-05  \n",
       "21                     机构专用  2015-05  \n",
       "22                     机构专用  2015-05  \n",
       "23                     机构专用  2015-06  \n",
       "24                     机构专用  2015-06  \n",
       "25                     机构专用  2015-07  \n",
       "26                     机构专用  2015-07  \n",
       "27                     机构专用  2015-07  \n",
       "28                     机构专用  2015-07  \n",
       "29                     机构专用  2015-07  "
      ]
     },
     "execution_count": 47,
     "metadata": {},
     "output_type": "execute_result"
    }
   ],
   "source": [
    "md201406_201507"
   ]
  },
  {
   "cell_type": "markdown",
   "metadata": {},
   "source": [
    "## 看看主要大宗交易的卖方是谁，尤其是在201604-201610期间"
   ]
  },
  {
   "cell_type": "code",
   "execution_count": null,
   "metadata": {
    "collapsed": false
   },
   "outputs": [],
   "source": [
    "md201603_201610=DataAPI.MktBlockdGet(tradeDate=u\"\",secID=u\"\",ticker=u\"000333\",beginDate=u\"20160301\",\n",
    "                     endDate=u\"\",assetClass=u\"\",field=u\"\",pandas=\"1\")"
   ]
  },
  {
   "cell_type": "markdown",
   "metadata": {},
   "source": [
    "#### 201604-201610期间，大宗交易6.74亿股"
   ]
  },
  {
   "cell_type": "code",
   "execution_count": null,
   "metadata": {
    "collapsed": false
   },
   "outputs": [
    {
     "data": {
      "text/plain": [
       "68134.860000000001"
      ]
     },
     "execution_count": 49,
     "metadata": {},
     "output_type": "execute_result"
    }
   ],
   "source": [
    "totalTradeVol = md201603_201610.tradeVol.sum()\n",
    "totalTradeVol"
   ]
  },
  {
   "cell_type": "code",
   "execution_count": null,
   "metadata": {
    "collapsed": false
   },
   "outputs": [],
   "source": [
    "md201603_201610['VolPct'] = md201603_201610.tradeVol/totalTradeVol"
   ]
  },
  {
   "cell_type": "code",
   "execution_count": null,
   "metadata": {
    "collapsed": false
   },
   "outputs": [
    {
     "data": {
      "text/html": [
       "<div style=\"max-width:1500px;overflow:auto;\">\n",
       "<table border=\"1\" class=\"dataframe\">\n",
       "  <thead>\n",
       "    <tr style=\"text-align: right;\">\n",
       "      <th></th>\n",
       "      <th>tradeDate</th>\n",
       "      <th>secID</th>\n",
       "      <th>ticker</th>\n",
       "      <th>assetClass</th>\n",
       "      <th>exchangeCD</th>\n",
       "      <th>secFullName</th>\n",
       "      <th>currencyCD</th>\n",
       "      <th>tradePrice</th>\n",
       "      <th>tradeVal</th>\n",
       "      <th>tradeVol</th>\n",
       "      <th>buyerBD</th>\n",
       "      <th>sellerBD</th>\n",
       "      <th>VolPct</th>\n",
       "    </tr>\n",
       "  </thead>\n",
       "  <tbody>\n",
       "    <tr>\n",
       "      <th>364</th>\n",
       "      <td>2016-10-10</td>\n",
       "      <td>000333.XSHE</td>\n",
       "      <td>000333</td>\n",
       "      <td>E</td>\n",
       "      <td>XSHE</td>\n",
       "      <td>美的集团</td>\n",
       "      <td>CNY</td>\n",
       "      <td>25.87</td>\n",
       "      <td>776.10</td>\n",
       "      <td>30.00</td>\n",
       "      <td>机构专用</td>\n",
       "      <td>中国国际金融股份有限公司广州天河路证券营业部</td>\n",
       "      <td>0.000440</td>\n",
       "    </tr>\n",
       "    <tr>\n",
       "      <th>365</th>\n",
       "      <td>2016-10-10</td>\n",
       "      <td>000333.XSHE</td>\n",
       "      <td>000333</td>\n",
       "      <td>E</td>\n",
       "      <td>XSHE</td>\n",
       "      <td>美的集团</td>\n",
       "      <td>CNY</td>\n",
       "      <td>25.87</td>\n",
       "      <td>1293.50</td>\n",
       "      <td>50.00</td>\n",
       "      <td>机构专用</td>\n",
       "      <td>中国国际金融股份有限公司广州天河路证券营业部</td>\n",
       "      <td>0.000734</td>\n",
       "    </tr>\n",
       "    <tr>\n",
       "      <th>366</th>\n",
       "      <td>2016-10-13</td>\n",
       "      <td>000333.XSHE</td>\n",
       "      <td>000333</td>\n",
       "      <td>E</td>\n",
       "      <td>XSHE</td>\n",
       "      <td>美的集团</td>\n",
       "      <td>CNY</td>\n",
       "      <td>24.13</td>\n",
       "      <td>9652.00</td>\n",
       "      <td>400.00</td>\n",
       "      <td>海通证券股份有限公司佛山顺德新宁路证券营业部</td>\n",
       "      <td>海通证券股份有限公司福清清昌大道证券营业部</td>\n",
       "      <td>0.005871</td>\n",
       "    </tr>\n",
       "    <tr>\n",
       "      <th>367</th>\n",
       "      <td>2016-10-17</td>\n",
       "      <td>000333.XSHE</td>\n",
       "      <td>000333</td>\n",
       "      <td>E</td>\n",
       "      <td>XSHE</td>\n",
       "      <td>美的集团</td>\n",
       "      <td>CNY</td>\n",
       "      <td>26.31</td>\n",
       "      <td>1037.93</td>\n",
       "      <td>39.45</td>\n",
       "      <td>中国国际金融股份有限公司上海淮海中路证券营业部</td>\n",
       "      <td>机构专用</td>\n",
       "      <td>0.000579</td>\n",
       "    </tr>\n",
       "    <tr>\n",
       "      <th>368</th>\n",
       "      <td>2016-10-18</td>\n",
       "      <td>000333.XSHE</td>\n",
       "      <td>000333</td>\n",
       "      <td>E</td>\n",
       "      <td>XSHE</td>\n",
       "      <td>美的集团</td>\n",
       "      <td>CNY</td>\n",
       "      <td>23.64</td>\n",
       "      <td>4988.04</td>\n",
       "      <td>211.00</td>\n",
       "      <td>中国国际金融股份有限公司广州天河路证券营业部</td>\n",
       "      <td>中国国际金融股份有限公司宁波扬帆路证券营业部</td>\n",
       "      <td>0.003097</td>\n",
       "    </tr>\n",
       "  </tbody>\n",
       "</table>\n",
       "</div>"
      ],
      "text/plain": [
       "      tradeDate        secID  ticker assetClass exchangeCD secFullName  \\\n",
       "364  2016-10-10  000333.XSHE  000333          E       XSHE        美的集团   \n",
       "365  2016-10-10  000333.XSHE  000333          E       XSHE        美的集团   \n",
       "366  2016-10-13  000333.XSHE  000333          E       XSHE        美的集团   \n",
       "367  2016-10-17  000333.XSHE  000333          E       XSHE        美的集团   \n",
       "368  2016-10-18  000333.XSHE  000333          E       XSHE        美的集团   \n",
       "\n",
       "    currencyCD  tradePrice  tradeVal  tradeVol                  buyerBD  \\\n",
       "364        CNY       25.87    776.10     30.00                     机构专用   \n",
       "365        CNY       25.87   1293.50     50.00                     机构专用   \n",
       "366        CNY       24.13   9652.00    400.00   海通证券股份有限公司佛山顺德新宁路证券营业部   \n",
       "367        CNY       26.31   1037.93     39.45  中国国际金融股份有限公司上海淮海中路证券营业部   \n",
       "368        CNY       23.64   4988.04    211.00   中国国际金融股份有限公司广州天河路证券营业部   \n",
       "\n",
       "                   sellerBD    VolPct  \n",
       "364  中国国际金融股份有限公司广州天河路证券营业部  0.000440  \n",
       "365  中国国际金融股份有限公司广州天河路证券营业部  0.000734  \n",
       "366   海通证券股份有限公司福清清昌大道证券营业部  0.005871  \n",
       "367                    机构专用  0.000579  \n",
       "368  中国国际金融股份有限公司宁波扬帆路证券营业部  0.003097  "
      ]
     },
     "execution_count": 51,
     "metadata": {},
     "output_type": "execute_result"
    }
   ],
   "source": [
    "pd.set_option('display.max_rows',366)\n",
    "md201603_201610.tail()"
   ]
  },
  {
   "cell_type": "markdown",
   "metadata": {},
   "source": [
    "# 看看谁家在这段时间卖的股票最多？\n",
    "### 结论：90%的股票是由中金（北京，广州，深圳）营业部卖出给其他机构席位\n",
    "### 招商，海通，国金，是自己卖给自己的其他营业部"
   ]
  },
  {
   "cell_type": "code",
   "execution_count": null,
   "metadata": {
    "collapsed": false
   },
   "outputs": [
    {
     "data": {
      "text/plain": [
       "sellerBD\n",
       "中国国际金融股份有限公司上海分公司            0.000352\n",
       "中国国际金融股份有限公司上海淮海中路证券营业部      0.004010\n",
       "中国国际金融股份有限公司北京建国门外大街证券营业部    0.588392\n",
       "中国国际金融股份有限公司厦门莲岳路证券营业部       0.000157\n",
       "中国国际金融股份有限公司宁波扬帆路证券营业部       0.003097\n",
       "中国国际金融股份有限公司广州天河路证券营业部       0.163793\n",
       "中国国际金融股份有限公司深圳福华一路证券营业部      0.136039\n",
       "国金证券股份有限公司上海浦东新区芳甸路证券营业部     0.000117\n",
       "国金证券股份有限公司沈阳北陵大街证券营业部        0.001720\n",
       "招商证券股份有限公司佛山季华五路证券营业部        0.071111\n",
       "机构专用                         0.006114\n",
       "海通证券股份有限公司厦门乐海北里证券营业部        0.019080\n",
       "海通证券股份有限公司福清清昌大道证券营业部        0.005871\n",
       "财通证券股份有限公司湖州红旗路证券营业部         0.000147\n",
       "Name: VolPct, dtype: float64"
      ]
     },
     "execution_count": 52,
     "metadata": {},
     "output_type": "execute_result"
    }
   ],
   "source": [
    "md201603_201610.groupby('sellerBD').VolPct.sum()"
   ]
  },
  {
   "cell_type": "markdown",
   "metadata": {},
   "source": [
    "# 看看这段时间什么机构买的最多？\n",
    "### 85%的股票由**机构席位**买走\n"
   ]
  },
  {
   "cell_type": "code",
   "execution_count": null,
   "metadata": {
    "collapsed": false
   },
   "outputs": [
    {
     "data": {
      "text/plain": [
       "buyerBD\n",
       "中国国际金融股份有限公司上海分公司          0.006561\n",
       "中国国际金融股份有限公司上海淮海中路证券营业部    0.038602\n",
       "中国国际金融股份有限公司厦门莲岳路证券营业部     0.000318\n",
       "中国国际金融股份有限公司广州天河路证券营业部     0.003097\n",
       "中国国际金融股份有限公司深圳福华一路证券营业部    0.000176\n",
       "北京高华证券有限责任公司北京金融大街证券营业部    0.013641\n",
       "国金证券股份有限公司沈阳北陵大街证券营业部      0.001720\n",
       "招商证券股份有限公司佛山季华五路证券营业部      0.071111\n",
       "机构专用                       0.839676\n",
       "海通证券股份有限公司佛山顺德新宁路证券营业部     0.024951\n",
       "财通证券股份有限公司湖州红旗路证券营业部       0.000147\n",
       "Name: VolPct, dtype: float64"
      ]
     },
     "execution_count": 53,
     "metadata": {},
     "output_type": "execute_result"
    }
   ],
   "source": [
    "md201603_201610.groupby('buyerBD').VolPct.sum()"
   ]
  },
  {
   "cell_type": "markdown",
   "metadata": {},
   "source": [
    "## 美的价格的走势"
   ]
  },
  {
   "cell_type": "code",
   "execution_count": null,
   "metadata": {
    "collapsed": false
   },
   "outputs": [],
   "source": [
    "mdPrice = DataAPI.MktEqumAdjGet(secID=u\"\",ticker=u\"000333\",monthEndDate=u\"\",isOpen=u\"\",  beginDate=u\"\",endDate=u\"\",field=u\"ticker,secShortName,endDate,closePrice\",pandas=\"1\")"
   ]
  },
  {
   "cell_type": "code",
   "execution_count": null,
   "metadata": {
    "collapsed": false
   },
   "outputs": [],
   "source": [
    "mdPrice['monthEnd'] = pd.to_datetime(mdPrice.endDate)\n",
    "mdPrice.set_index('monthEnd', inplace=True)"
   ]
  },
  {
   "cell_type": "code",
   "execution_count": null,
   "metadata": {
    "collapsed": false
   },
   "outputs": [
    {
     "data": {
      "text/plain": [
       "<matplotlib.axes._subplots.AxesSubplot at 0x8bc62d0>"
      ]
     },
     "execution_count": 56,
     "metadata": {},
     "output_type": "execute_result"
    },
    {
     "data": {
      "data": {
       "image/png": "iVBORw0KGgoAAAANSUhEUgAAAk0AAAFDCAYAAAAnGDq1AAAABHNCSVQICAgIfAhkiAAAAAlwSFlz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\nQmCC\n",
       "text/plain": "<matplotlib.figure.Figure at 0x8ceae90>"
      },
      "image/png": "[encoded data removed]",
      "source": "display",
      "text/plain": [
       "<matplotlib.figure.Figure at 0x8ceae90>"
      ]
     },
     "metadata": {},
     "output_type": "display_data"
    }
   ],
   "source": [
    "import matplotlib.pyplot as plt\n",
    "\n",
    "plt.figure(figsize=(10, 5))\n",
    "mdPrice.closePrice.plot(grid=True)"
   ]
  },
  {
   "cell_type": "markdown",
   "metadata": {},
   "source": [
    "### 20161013的交易：同一家券商内部的不同大户之间的转让？\n",
    "1. 价格比20161010成交的一亿股低了4%\n",
    "\n",
    "## 看看今天上半年个月大宗交易成交的均价是多少？"
   ]
  },
  {
   "cell_type": "code",
   "execution_count": null,
   "metadata": {
    "collapsed": false
   },
   "outputs": [
    {
     "data": {
      "text/html": [
       "<div style=\"max-width:1500px;overflow:auto;\">\n",
       "<table border=\"1\" class=\"dataframe\">\n",
       "  <thead>\n",
       "    <tr style=\"text-align: right;\">\n",
       "      <th></th>\n",
       "      <th>ticker</th>\n",
       "      <th>secShortName</th>\n",
       "      <th>tradeDate</th>\n",
       "      <th>closePrice</th>\n",
       "    </tr>\n",
       "  </thead>\n",
       "  <tbody>\n",
       "    <tr>\n",
       "      <th>743</th>\n",
       "      <td>000333</td>\n",
       "      <td>美的集团</td>\n",
       "      <td>2016-10-12</td>\n",
       "      <td>26.81</td>\n",
       "    </tr>\n",
       "    <tr>\n",
       "      <th>744</th>\n",
       "      <td>000333</td>\n",
       "      <td>美的集团</td>\n",
       "      <td>2016-10-13</td>\n",
       "      <td>26.30</td>\n",
       "    </tr>\n",
       "    <tr>\n",
       "      <th>745</th>\n",
       "      <td>000333</td>\n",
       "      <td>美的集团</td>\n",
       "      <td>2016-10-14</td>\n",
       "      <td>26.37</td>\n",
       "    </tr>\n",
       "    <tr>\n",
       "      <th>746</th>\n",
       "      <td>000333</td>\n",
       "      <td>美的集团</td>\n",
       "      <td>2016-10-17</td>\n",
       "      <td>26.27</td>\n",
       "    </tr>\n",
       "    <tr>\n",
       "      <th>747</th>\n",
       "      <td>000333</td>\n",
       "      <td>美的集团</td>\n",
       "      <td>2016-10-18</td>\n",
       "      <td>26.35</td>\n",
       "    </tr>\n",
       "  </tbody>\n",
       "</table>\n",
       "</div>"
      ],
      "text/plain": [
       "     ticker secShortName   tradeDate  closePrice\n",
       "743  000333         美的集团  2016-10-12       26.81\n",
       "744  000333         美的集团  2016-10-13       26.30\n",
       "745  000333         美的集团  2016-10-14       26.37\n",
       "746  000333         美的集团  2016-10-17       26.27\n",
       "747  000333         美的集团  2016-10-18       26.35"
      ]
     },
     "execution_count": 57,
     "metadata": {},
     "output_type": "execute_result"
    }
   ],
   "source": [
    "mdPriceDaily =DataAPI.MktEqudAdjGet(tradeDate=u\"\",secID=u\"\",ticker=u\"000333\",isOpen=\"\",  beginDate=u\"\",endDate=u\"\",field=u\"ticker,secShortName,tradeDate,closePrice\",pandas=\"1\")\n",
    "mdPriceDaily.tail()"
   ]
  },
  {
   "cell_type": "code",
   "execution_count": null,
   "metadata": {
    "collapsed": false
   },
   "outputs": [
    {
     "data": {
      "text/html": [
       "<div style=\"max-width:1500px;overflow:auto;\">\n",
       "<table border=\"1\" class=\"dataframe\">\n",
       "  <thead>\n",
       "    <tr style=\"text-align: right;\">\n",
       "      <th></th>\n",
       "      <th>tradeDate</th>\n",
       "      <th>secID</th>\n",
       "      <th>ticker</th>\n",
       "      <th>assetClass</th>\n",
       "      <th>exchangeCD</th>\n",
       "      <th>secFullName</th>\n",
       "      <th>currencyCD</th>\n",
       "      <th>tradePrice</th>\n",
       "      <th>tradeVal</th>\n",
       "      <th>tradeVol</th>\n",
       "      <th>buyerBD</th>\n",
       "      <th>sellerBD</th>\n",
       "      <th>month</th>\n",
       "    </tr>\n",
       "  </thead>\n",
       "  <tbody>\n",
       "    <tr>\n",
       "      <th>404</th>\n",
       "      <td>2016-10-10</td>\n",
       "      <td>000333.XSHE</td>\n",
       "      <td>000333</td>\n",
       "      <td>E</td>\n",
       "      <td>XSHE</td>\n",
       "      <td>美的集团</td>\n",
       "      <td>CNY</td>\n",
       "      <td>25.87</td>\n",
       "      <td>2328.30</td>\n",
       "      <td>90.00</td>\n",
       "      <td>机构专用</td>\n",
       "      <td>中国国际金融股份有限公司广州天河路证券营业部</td>\n",
       "      <td>2016-10</td>\n",
       "    </tr>\n",
       "    <tr>\n",
       "      <th>405</th>\n",
       "      <td>2016-10-10</td>\n",
       "      <td>000333.XSHE</td>\n",
       "      <td>000333</td>\n",
       "      <td>E</td>\n",
       "      <td>XSHE</td>\n",
       "      <td>美的集团</td>\n",
       "      <td>CNY</td>\n",
       "      <td>25.87</td>\n",
       "      <td>4397.90</td>\n",
       "      <td>170.00</td>\n",
       "      <td>机构专用</td>\n",
       "      <td>中国国际金融股份有限公司广州天河路证券营业部</td>\n",
       "      <td>2016-10</td>\n",
       "    </tr>\n",
       "    <tr>\n",
       "      <th>406</th>\n",
       "      <td>2016-10-13</td>\n",
       "      <td>000333.XSHE</td>\n",
       "      <td>000333</td>\n",
       "      <td>E</td>\n",
       "      <td>XSHE</td>\n",
       "      <td>美的集团</td>\n",
       "      <td>CNY</td>\n",
       "      <td>24.13</td>\n",
       "      <td>9652.00</td>\n",
       "      <td>400.00</td>\n",
       "      <td>海通证券股份有限公司佛山顺德新宁路证券营业部</td>\n",
       "      <td>海通证券股份有限公司福清清昌大道证券营业部</td>\n",
       "      <td>2016-10</td>\n",
       "    </tr>\n",
       "    <tr>\n",
       "      <th>407</th>\n",
       "      <td>2016-10-17</td>\n",
       "      <td>000333.XSHE</td>\n",
       "      <td>000333</td>\n",
       "      <td>E</td>\n",
       "      <td>XSHE</td>\n",
       "      <td>美的集团</td>\n",
       "      <td>CNY</td>\n",
       "      <td>26.31</td>\n",
       "      <td>1037.93</td>\n",
       "      <td>39.45</td>\n",
       "      <td>中国国际金融股份有限公司上海淮海中路证券营业部</td>\n",
       "      <td>机构专用</td>\n",
       "      <td>2016-10</td>\n",
       "    </tr>\n",
       "    <tr>\n",
       "      <th>408</th>\n",
       "      <td>2016-10-18</td>\n",
       "      <td>000333.XSHE</td>\n",
       "      <td>000333</td>\n",
       "      <td>E</td>\n",
       "      <td>XSHE</td>\n",
       "      <td>美的集团</td>\n",
       "      <td>CNY</td>\n",
       "      <td>23.64</td>\n",
       "      <td>4988.04</td>\n",
       "      <td>211.00</td>\n",
       "      <td>中国国际金融股份有限公司广州天河路证券营业部</td>\n",
       "      <td>中国国际金融股份有限公司宁波扬帆路证券营业部</td>\n",
       "      <td>2016-10</td>\n",
       "    </tr>\n",
       "  </tbody>\n",
       "</table>\n",
       "</div>"
      ],
      "text/plain": [
       "      tradeDate        secID  ticker assetClass exchangeCD secFullName  \\\n",
       "404  2016-10-10  000333.XSHE  000333          E       XSHE        美的集团   \n",
       "405  2016-10-10  000333.XSHE  000333          E       XSHE        美的集团   \n",
       "406  2016-10-13  000333.XSHE  000333          E       XSHE        美的集团   \n",
       "407  2016-10-17  000333.XSHE  000333          E       XSHE        美的集团   \n",
       "408  2016-10-18  000333.XSHE  000333          E       XSHE        美的集团   \n",
       "\n",
       "    currencyCD  tradePrice  tradeVal  tradeVol                  buyerBD  \\\n",
       "404        CNY       25.87   2328.30     90.00                     机构专用   \n",
       "405        CNY       25.87   4397.90    170.00                     机构专用   \n",
       "406        CNY       24.13   9652.00    400.00   海通证券股份有限公司佛山顺德新宁路证券营业部   \n",
       "407        CNY       26.31   1037.93     39.45  中国国际金融股份有限公司上海淮海中路证券营业部   \n",
       "408        CNY       23.64   4988.04    211.00   中国国际金融股份有限公司广州天河路证券营业部   \n",
       "\n",
       "                   sellerBD    month  \n",
       "404  中国国际金融股份有限公司广州天河路证券营业部  2016-10  \n",
       "405  中国国际金融股份有限公司广州天河路证券营业部  2016-10  \n",
       "406   海通证券股份有限公司福清清昌大道证券营业部  2016-10  \n",
       "407                    机构专用  2016-10  \n",
       "408  中国国际金融股份有限公司宁波扬帆路证券营业部  2016-10  "
      ]
     },
     "execution_count": 58,
     "metadata": {},
     "output_type": "execute_result"
    }
   ],
   "source": [
    "md2011_2016.tail()"
   ]
  },
  {
   "cell_type": "code",
   "execution_count": null,
   "metadata": {
    "collapsed": false
   },
   "outputs": [
    {
     "data": {
      "text/html": [
       "<div style=\"max-width:1500px;overflow:auto;\">\n",
       "<table border=\"1\" class=\"dataframe\">\n",
       "  <thead>\n",
       "    <tr style=\"text-align: right;\">\n",
       "      <th></th>\n",
       "      <th>tradeDate</th>\n",
       "      <th>secID</th>\n",
       "      <th>ticker_x</th>\n",
       "      <th>assetClass</th>\n",
       "      <th>exchangeCD</th>\n",
       "      <th>secFullName</th>\n",
       "      <th>currencyCD</th>\n",
       "      <th>tradePrice</th>\n",
       "      <th>tradeVal</th>\n",
       "      <th>tradeVol</th>\n",
       "      <th>buyerBD</th>\n",
       "      <th>sellerBD</th>\n",
       "      <th>month</th>\n",
       "      <th>ticker_y</th>\n",
       "      <th>secShortName</th>\n",
       "      <th>closePrice</th>\n",
       "    </tr>\n",
       "  </thead>\n",
       "  <tbody>\n",
       "    <tr>\n",
       "      <th>404</th>\n",
       "      <td>2016-10-10</td>\n",
       "      <td>000333.XSHE</td>\n",
       "      <td>000333</td>\n",
       "      <td>E</td>\n",
       "      <td>XSHE</td>\n",
       "      <td>美的集团</td>\n",
       "      <td>CNY</td>\n",
       "      <td>25.87</td>\n",
       "      <td>2328.30</td>\n",
       "      <td>90.00</td>\n",
       "      <td>机构专用</td>\n",
       "      <td>中国国际金融股份有限公司广州天河路证券营业部</td>\n",
       "      <td>2016-10</td>\n",
       "      <td>000333</td>\n",
       "      <td>美的集团</td>\n",
       "      <td>26.95</td>\n",
       "    </tr>\n",
       "    <tr>\n",
       "      <th>405</th>\n",
       "      <td>2016-10-10</td>\n",
       "      <td>000333.XSHE</td>\n",
       "      <td>000333</td>\n",
       "      <td>E</td>\n",
       "      <td>XSHE</td>\n",
       "      <td>美的集团</td>\n",
       "      <td>CNY</td>\n",
       "      <td>25.87</td>\n",
       "      <td>4397.90</td>\n",
       "      <td>170.00</td>\n",
       "      <td>机构专用</td>\n",
       "      <td>中国国际金融股份有限公司广州天河路证券营业部</td>\n",
       "      <td>2016-10</td>\n",
       "      <td>000333</td>\n",
       "      <td>美的集团</td>\n",
       "      <td>26.95</td>\n",
       "    </tr>\n",
       "    <tr>\n",
       "      <th>406</th>\n",
       "      <td>2016-10-13</td>\n",
       "      <td>000333.XSHE</td>\n",
       "      <td>000333</td>\n",
       "      <td>E</td>\n",
       "      <td>XSHE</td>\n",
       "      <td>美的集团</td>\n",
       "      <td>CNY</td>\n",
       "      <td>24.13</td>\n",
       "      <td>9652.00</td>\n",
       "      <td>400.00</td>\n",
       "      <td>海通证券股份有限公司佛山顺德新宁路证券营业部</td>\n",
       "      <td>海通证券股份有限公司福清清昌大道证券营业部</td>\n",
       "      <td>2016-10</td>\n",
       "      <td>000333</td>\n",
       "      <td>美的集团</td>\n",
       "      <td>26.30</td>\n",
       "    </tr>\n",
       "    <tr>\n",
       "      <th>407</th>\n",
       "      <td>2016-10-17</td>\n",
       "      <td>000333.XSHE</td>\n",
       "      <td>000333</td>\n",
       "      <td>E</td>\n",
       "      <td>XSHE</td>\n",
       "      <td>美的集团</td>\n",
       "      <td>CNY</td>\n",
       "      <td>26.31</td>\n",
       "      <td>1037.93</td>\n",
       "      <td>39.45</td>\n",
       "      <td>中国国际金融股份有限公司上海淮海中路证券营业部</td>\n",
       "      <td>机构专用</td>\n",
       "      <td>2016-10</td>\n",
       "      <td>000333</td>\n",
       "      <td>美的集团</td>\n",
       "      <td>26.27</td>\n",
       "    </tr>\n",
       "    <tr>\n",
       "      <th>408</th>\n",
       "      <td>2016-10-18</td>\n",
       "      <td>000333.XSHE</td>\n",
       "      <td>000333</td>\n",
       "      <td>E</td>\n",
       "      <td>XSHE</td>\n",
       "      <td>美的集团</td>\n",
       "      <td>CNY</td>\n",
       "      <td>23.64</td>\n",
       "      <td>4988.04</td>\n",
       "      <td>211.00</td>\n",
       "      <td>中国国际金融股份有限公司广州天河路证券营业部</td>\n",
       "      <td>中国国际金融股份有限公司宁波扬帆路证券营业部</td>\n",
       "      <td>2016-10</td>\n",
       "      <td>000333</td>\n",
       "      <td>美的集团</td>\n",
       "      <td>26.35</td>\n",
       "    </tr>\n",
       "  </tbody>\n",
       "</table>\n",
       "</div>"
      ],
      "text/plain": [
       "      tradeDate        secID ticker_x assetClass exchangeCD secFullName  \\\n",
       "404  2016-10-10  000333.XSHE   000333          E       XSHE        美的集团   \n",
       "405  2016-10-10  000333.XSHE   000333          E       XSHE        美的集团   \n",
       "406  2016-10-13  000333.XSHE   000333          E       XSHE        美的集团   \n",
       "407  2016-10-17  000333.XSHE   000333          E       XSHE        美的集团   \n",
       "408  2016-10-18  000333.XSHE   000333          E       XSHE        美的集团   \n",
       "\n",
       "    currencyCD  tradePrice  tradeVal  tradeVol                  buyerBD  \\\n",
       "404        CNY       25.87   2328.30     90.00                     机构专用   \n",
       "405        CNY       25.87   4397.90    170.00                     机构专用   \n",
       "406        CNY       24.13   9652.00    400.00   海通证券股份有限公司佛山顺德新宁路证券营业部   \n",
       "407        CNY       26.31   1037.93     39.45  中国国际金融股份有限公司上海淮海中路证券营业部   \n",
       "408        CNY       23.64   4988.04    211.00   中国国际金融股份有限公司广州天河路证券营业部   \n",
       "\n",
       "                   sellerBD    month ticker_y secShortName  closePrice  \n",
       "404  中国国际金融股份有限公司广州天河路证券营业部  2016-10   000333         美的集团       26.95  \n",
       "405  中国国际金融股份有限公司广州天河路证券营业部  2016-10   000333         美的集团       26.95  \n",
       "406   海通证券股份有限公司福清清昌大道证券营业部  2016-10   000333         美的集团       26.30  \n",
       "407                    机构专用  2016-10   000333         美的集团       26.27  \n",
       "408  中国国际金融股份有限公司宁波扬帆路证券营业部  2016-10   000333         美的集团       26.35  "
      ]
     },
     "execution_count": 59,
     "metadata": {},
     "output_type": "execute_result"
    }
   ],
   "source": [
    "md2011_2016_dailyprice=pd.merge(md2011_2016, mdPriceDaily, on='tradeDate', how='left')\n",
    "md2011_2016_dailyprice.tail()"
   ]
  },
  {
   "cell_type": "code",
   "execution_count": null,
   "metadata": {
    "collapsed": false
   },
   "outputs": [],
   "source": [
    "groupdata = md2011_2016_dailyprice.groupby('month')"
   ]
  },
  {
   "cell_type": "code",
   "execution_count": null,
   "metadata": {
    "collapsed": true
   },
   "outputs": [],
   "source": [
    "\n",
    "monthVol = pd.DataFrame({'month':groupdata.tradeVol.sum().index, 'monthVol': groupdata.tradeVol.sum().reset_index(drop=True)})\n",
    "\n",
    "\n",
    "monthVolSumData = pd.merge(md2011_2016_dailyprice, monthVol, on='month', how='left')\n",
    "monthVolSumData['wpctMonth'] = monthVolSumData.tradeVol/monthVolSumData.monthVol\n",
    "monthVolSumData['wtPriceMonth'] = monthVolSumData.wpctMonth*monthVolSumData.closePrice\n"
   ]
  },
  {
   "cell_type": "code",
   "execution_count": null,
   "metadata": {
    "collapsed": false
   },
   "outputs": [
    {
     "data": {
      "text/plain": [
       "<matplotlib.axes._subplots.AxesSubplot at 0x8163bd0>"
      ]
     },
     "execution_count": 62,
     "metadata": {},
     "output_type": "execute_result"
    },
    {
     "data": {
      "data": {
       "image/png": "iVBORw0KGgoAAAANSUhEUgAAAmYAAAFHCAYAAAALNICEAAAABHNCSVQICAgIfAhkiAAAAAlwSFlz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\n3cjUNdEsAAAAAElFTkSuQmCC\n",
       "text/plain": "<matplotlib.figure.Figure at 0x8e4e490>"
      },
      "image/png": "[encoded data removed]",
      "source": "display",
      "text/plain": [
       "<matplotlib.figure.Figure at 0x8e4e490>"
      ]
     },
     "metadata": {},
     "output_type": "display_data"
    }
   ],
   "source": [
    "\n",
    "\n",
    "plt.figure(figsize=(10, 5))\n",
    "monthVolSumData.groupby('month').wtPriceMonth.sum().plot(kind=\"line\")"
   ]
  },
  {
   "cell_type": "code",
   "execution_count": null,
   "metadata": {
    "collapsed": false
   },
   "outputs": [],
   "source": []
  }
 ],
 "metadata": {
  "kernelspec": {
   "display_name": "Python 2",
   "language": "python",
   "name": "python2"
  },
  "language_info": {
   "codemirror_mode": {
    "name": "ipython",
    "version": 2
   },
   "file_extension": ".py",
   "mimetype": "text/x-python",
   "name": "python",
   "nbconvert_exporter": "python",
   "pygments_lexer": "ipython2",
   "version": "2.7.12"
  }
 },
 "nbformat": 4,
 "nbformat_minor": 0
}
