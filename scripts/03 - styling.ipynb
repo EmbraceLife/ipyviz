{
 "cells": [
  {
   "cell_type": "markdown",
   "metadata": {},
   "source": [
    "<table style=\"float:left; border:none\">\n",
    "   <tr style=\"border:none\">\n",
    "       <td style=\"border:none\">\n",
    "           <a href=\"http://bokeh.pydata.org/\">     \n",
    "           <img \n",
    "               src=\"assets/images/bokeh-transparent.png\" \n",
    "               style=\"width:50px\"\n",
    "           >\n",
    "           </a>    \n",
    "       </td>\n",
    "       <td style=\"border:none\">\n",
    "           <h1>Bokeh Tutorial</h1>\n",
    "       </td>\n",
    "   </tr>\n",
    "</table>\n",
    "\n",
    "<div style=\"float:right;\"><h2>03. Styling Visual Attributes</h2></div>"
   ]
  },
  {
   "cell_type": "code",
   "execution_count": 1,
   "metadata": {
    "collapsed": false
   },
   "outputs": [],
   "source": [
    "from bokeh.io import output_notebook, show\n",
    "from bokeh.plotting import figure"
   ]
  },
  {
   "cell_type": "code",
   "execution_count": 2,
   "metadata": {
    "collapsed": false
   },
   "outputs": [
    {
     "data": {
      "text/html": [
       "\n",
       "    <div class=\"bk-root\">\n",
       "        <a href=\"http://bokeh.pydata.org\" target=\"_blank\" class=\"bk-logo bk-logo-small bk-logo-notebook\"></a>\n",
       "        <span id=\"32b5ffde-d9b8-4b2d-aa13-b933a29093e9\">Loading BokehJS ...</span>\n",
       "    </div>"
      ]
     },
     "metadata": {},
     "output_type": "display_data"
    },
    {
     "data": {
      "application/javascript": [
       "\n",
       "(function(global) {\n",
       "  function now() {\n",
       "    return new Date();\n",
       "  }\n",
       "\n",
       "  var force = \"1\";\n",
       "\n",
       "  if (typeof (window._bokeh_onload_callbacks) === \"undefined\" || force !== \"\") {\n",
       "    window._bokeh_onload_callbacks = [];\n",
       "    window._bokeh_is_loading = undefined;\n",
       "  }\n",
       "\n",
       "  function run_callbacks() {\n",
       "    window._bokeh_onload_callbacks.forEach(function(callback) { callback() });\n",
       "    delete window._bokeh_onload_callbacks\n",
       "    console.info(\"Bokeh: all callbacks have finished\");\n",
       "  }\n",
       "\n",
       "  function load_libs(js_urls, callback) {\n",
       "    window._bokeh_onload_callbacks.push(callback);\n",
       "    if (window._bokeh_is_loading > 0) {\n",
       "      console.log(\"Bokeh: BokehJS is being loaded, scheduling callback at\", now());\n",
       "      return null;\n",
       "    }\n",
       "    if (js_urls == null || js_urls.length === 0) {\n",
       "      run_callbacks();\n",
       "      return null;\n",
       "    }\n",
       "    console.log(\"Bokeh: BokehJS not loaded, scheduling load and callback at\", now());\n",
       "    window._bokeh_is_loading = js_urls.length;\n",
       "    for (var i = 0; i < js_urls.length; i++) {\n",
       "      var url = js_urls[i];\n",
       "      var s = document.createElement('script');\n",
       "      s.src = url;\n",
       "      s.async = false;\n",
       "      s.onreadystatechange = s.onload = function() {\n",
       "        window._bokeh_is_loading--;\n",
       "        if (window._bokeh_is_loading === 0) {\n",
       "          console.log(\"Bokeh: all BokehJS libraries loaded\");\n",
       "          run_callbacks()\n",
       "        }\n",
       "      };\n",
       "      s.onerror = function() {\n",
       "        console.warn(\"failed to load library \" + url);\n",
       "      };\n",
       "      console.log(\"Bokeh: injecting script tag for BokehJS library: \", url);\n",
       "      document.getElementsByTagName(\"head\")[0].appendChild(s);\n",
       "    }\n",
       "  };\n",
       "\n",
       "  var js_urls = ['https://cdn.pydata.org/bokeh/release/bokeh-0.12.1.min.js', 'https://cdn.pydata.org/bokeh/release/bokeh-widgets-0.12.1.min.js', 'https://cdn.pydata.org/bokeh/release/bokeh-compiler-0.12.1.min.js'];\n",
       "\n",
       "  var inline_js = [\n",
       "    function(Bokeh) {\n",
       "      Bokeh.set_log_level(\"info\");\n",
       "    },\n",
       "    \n",
       "    function(Bokeh) {\n",
       "      \n",
       "      Bokeh.$(\"#32b5ffde-d9b8-4b2d-aa13-b933a29093e9\").text(\"BokehJS successfully loaded\");\n",
       "      var kernel = Jupyter.notebook.kernel\n",
       "      if (kernel.execute !== undefined) {\n",
       "          kernel.execute(\"import bokeh.io; bokeh.io._nb_loaded = True\");\n",
       "      }\n",
       "    },\n",
       "    function(Bokeh) {\n",
       "      console.log(\"Bokeh: injecting CSS: https://cdn.pydata.org/bokeh/release/bokeh-0.12.1.min.css\");\n",
       "      Bokeh.embed.inject_css(\"https://cdn.pydata.org/bokeh/release/bokeh-0.12.1.min.css\");\n",
       "      console.log(\"Bokeh: injecting CSS: https://cdn.pydata.org/bokeh/release/bokeh-widgets-0.12.1.min.css\");\n",
       "      Bokeh.embed.inject_css(\"https://cdn.pydata.org/bokeh/release/bokeh-widgets-0.12.1.min.css\");\n",
       "    }\n",
       "  ];\n",
       "\n",
       "  function run_inline_js() {\n",
       "    for (var i = 0; i < inline_js.length; i++) {\n",
       "      inline_js[i](window.Bokeh);\n",
       "    }\n",
       "  }\n",
       "\n",
       "  if (window._bokeh_is_loading === 0) {\n",
       "    console.log(\"Bokeh: BokehJS loaded, going straight to plotting\");\n",
       "    run_inline_js();\n",
       "  } else {\n",
       "    load_libs(js_urls, function() {\n",
       "      console.log(\"Bokeh: BokehJS plotting callback run at\", now());\n",
       "      run_inline_js();\n",
       "    });\n",
       "  }\n",
       "}(this));"
      ]
     },
     "metadata": {},
     "output_type": "display_data"
    }
   ],
   "source": [
    "output_notebook()"
   ]
  },
  {
   "cell_type": "markdown",
   "metadata": {},
   "source": [
    "# Colors and Properties"
   ]
  },
  {
   "cell_type": "markdown",
   "metadata": {},
   "source": [
    "## Colors\n",
    "\n",
    "There are many places where you may need to specify colors. Bokeh can accept colors in a variety of different ways:\n",
    "\n",
    "* any of the [147 named CSS colors](http://www.w3schools.com/cssref/css_colornames.asp), e.g ``'green'``, ``'indigo'``\n",
    "* an RGB(A) hex value, e.g., ``'#FF0000'``, ``'#44444444'``\n",
    "* a 3-tuple of integers *(r,g,b)* between 0 and 255\n",
    "*  a 4-tuple of *(r,g,b,a)* where *r*, *g*, *b* are integers between 0 and 255 and *a* is a floating point value between 0 and 1\n",
    "\n"
   ]
  },
  {
   "cell_type": "markdown",
   "metadata": {
    "collapsed": true
   },
   "source": [
    "## Properties\n",
    "\n",
    "Regardless of what API (``models``, ``plotting``, or ``charts``) is used to create a Bokeh plot, styling the visual aspects of the plot can always be accomplished by setting attributes on the Bokeh model objects that comprise the resulting plot. Visual properties come in three kinds: line, fill, and text properties. For full information with code and examples see the [Styling Visual Properties](http://bokeh.pydata.org/en/latest/docs/user_guide/styling.html) section of the user guide. \n",
    "\n",
    "----\n",
    "\n",
    "### Line Properties\n",
    "\n",
    "Set the visual appearance of lines. The most common are ``line_color``, ``line_alpha``, ``line_width`` and ``line_dash``.\n",
    "\n",
    "### Fill Properties\n",
    "\n",
    "Set the visual appearance of filled areas: ``fill_color`` and ``fill_alpha``.\n",
    "\n",
    "### Text Properties\n",
    "\n",
    "Set the visual appearance of lines of text. The most common are ``text_font``, ``text_font_size``, ``text_color``, and ``text_alpha``.\n",
    "\n",
    "----\n",
    "\n",
    "Sometimes a prefix is used with property names, e.g. to distinguish between different line properties on the same object, or to give a more meaningful name. For example, to set the line width of the plot outline, you would say ``myplot.outline_line_width = 2``. "
   ]
  },
  {
   "cell_type": "markdown",
   "metadata": {},
   "source": [
    "# Plots\n",
    "\n",
    "Many top-level attributes of plots (outline, border, etc.) can be configured. See the [Plots](http://bokeh.pydata.org/en/latest/docs/user_guide/styling.html#plots) section of the styling guide for full information. \n",
    "\n",
    "Here is an example that tweaks the plot outline:"
   ]
  },
  {
   "cell_type": "code",
   "execution_count": 80,
   "metadata": {
    "collapsed": false,
    "scrolled": false
   },
   "outputs": [
    {
     "data": {
      "text/html": [
       "\n",
       "\n",
       "    <div class=\"bk-root\">\n",
       "        <div class=\"plotdiv\" id=\"bfde3631-c779-47ea-a505-b43752582c4a\"></div>\n",
       "    </div>\n",
       "<script type=\"text/javascript\">\n",
       "  \n",
       "  (function(global) {\n",
       "    function now() {\n",
       "      return new Date();\n",
       "    }\n",
       "  \n",
       "    var force = \"\";\n",
       "  \n",
       "    if (typeof (window._bokeh_onload_callbacks) === \"undefined\" || force !== \"\") {\n",
       "      window._bokeh_onload_callbacks = [];\n",
       "      window._bokeh_is_loading = undefined;\n",
       "    }\n",
       "  \n",
       "    function run_callbacks() {\n",
       "      window._bokeh_onload_callbacks.forEach(function(callback) { callback() });\n",
       "      delete window._bokeh_onload_callbacks\n",
       "      console.info(\"Bokeh: all callbacks have finished\");\n",
       "    }\n",
       "  \n",
       "    function load_libs(js_urls, callback) {\n",
       "      window._bokeh_onload_callbacks.push(callback);\n",
       "      if (window._bokeh_is_loading > 0) {\n",
       "        console.log(\"Bokeh: BokehJS is being loaded, scheduling callback at\", now());\n",
       "        return null;\n",
       "      }\n",
       "      if (js_urls == null || js_urls.length === 0) {\n",
       "        run_callbacks();\n",
       "        return null;\n",
       "      }\n",
       "      console.log(\"Bokeh: BokehJS not loaded, scheduling load and callback at\", now());\n",
       "      window._bokeh_is_loading = js_urls.length;\n",
       "      for (var i = 0; i < js_urls.length; i++) {\n",
       "        var url = js_urls[i];\n",
       "        var s = document.createElement('script');\n",
       "        s.src = url;\n",
       "        s.async = false;\n",
       "        s.onreadystatechange = s.onload = function() {\n",
       "          window._bokeh_is_loading--;\n",
       "          if (window._bokeh_is_loading === 0) {\n",
       "            console.log(\"Bokeh: all BokehJS libraries loaded\");\n",
       "            run_callbacks()\n",
       "          }\n",
       "        };\n",
       "        s.onerror = function() {\n",
       "          console.warn(\"failed to load library \" + url);\n",
       "        };\n",
       "        console.log(\"Bokeh: injecting script tag for BokehJS library: \", url);\n",
       "        document.getElementsByTagName(\"head\")[0].appendChild(s);\n",
       "      }\n",
       "    };var element = document.getElementById(\"bfde3631-c779-47ea-a505-b43752582c4a\");\n",
       "    if (element == null) {\n",
       "      console.log(\"Bokeh: ERROR: autoload.js configured with elementid 'bfde3631-c779-47ea-a505-b43752582c4a' but no matching script tag was found. \")\n",
       "      return false;\n",
       "    }\n",
       "  \n",
       "    var js_urls = [];\n",
       "  \n",
       "    var inline_js = [\n",
       "      function(Bokeh) {\n",
       "        Bokeh.$(function() {\n",
       "            var docs_json = {\"a37341ae-d454-4d9d-b068-b4547161b6e6\":{\"roots\":{\"references\":[{\"attributes\":{\"plot\":{\"id\":\"b59c3d66-c15c-4412-829c-aa1c981b66e1\",\"subtype\":\"Figure\",\"type\":\"Plot\"}},\"id\":\"a52248f7-ceaf-44c9-97ec-01604a884e4c\",\"type\":\"HelpTool\"},{\"attributes\":{\"data_source\":{\"id\":\"8d434afc-cff8-4127-bbd1-999114a2389a\",\"type\":\"ColumnDataSource\"},\"glyph\":{\"id\":\"5497c7c9-e415-43b4-b087-47b4d08968b8\",\"type\":\"Circle\"},\"hover_glyph\":null,\"nonselection_glyph\":{\"id\":\"b2a885dd-466b-4f98-a823-3a6f2051f438\",\"type\":\"Circle\"},\"selection_glyph\":null},\"id\":\"7f0a32d2-cba9-43cb-b57d-147eca9bb80a\",\"type\":\"GlyphRenderer\"},{\"attributes\":{\"formatter\":{\"id\":\"84592a6b-67b4-45b2-871a-182f89713189\",\"type\":\"BasicTickFormatter\"},\"plot\":{\"id\":\"b59c3d66-c15c-4412-829c-aa1c981b66e1\",\"subtype\":\"Figure\",\"type\":\"Plot\"},\"ticker\":{\"id\":\"fe28cafd-bcc9-4dec-a1c1-454324a8aa09\",\"type\":\"BasicTicker\"}},\"id\":\"db80c03e-1986-4da6-83c6-860be2ff7809\",\"type\":\"LinearAxis\"},{\"attributes\":{\"fill_alpha\":{\"value\":0.1},\"fill_color\":{\"value\":\"#1f77b4\"},\"line_alpha\":{\"value\":0.1},\"line_color\":{\"value\":\"#1f77b4\"},\"size\":{\"units\":\"screen\",\"value\":10},\"x\":{\"field\":\"x\"},\"y\":{\"field\":\"y\"}},\"id\":\"b2a885dd-466b-4f98-a823-3a6f2051f438\",\"type\":\"Circle\"},{\"attributes\":{\"plot\":{\"id\":\"b59c3d66-c15c-4412-829c-aa1c981b66e1\",\"subtype\":\"Figure\",\"type\":\"Plot\"}},\"id\":\"46866752-3d50-4984-8c76-85428596cb9d\",\"type\":\"PanTool\"},{\"attributes\":{\"bottom_units\":\"screen\",\"fill_alpha\":{\"value\":0.5},\"fill_color\":{\"value\":\"lightgrey\"},\"left_units\":\"screen\",\"level\":\"overlay\",\"line_alpha\":{\"value\":1.0},\"line_color\":{\"value\":\"black\"},\"line_dash\":[4,4],\"line_width\":{\"value\":2},\"plot\":null,\"render_mode\":\"css\",\"right_units\":\"screen\",\"top_units\":\"screen\"},\"id\":\"24732559-2165-49df-944c-8668bb6a1084\",\"type\":\"BoxAnnotation\"},{\"attributes\":{\"overlay\":{\"id\":\"24732559-2165-49df-944c-8668bb6a1084\",\"type\":\"BoxAnnotation\"},\"plot\":{\"id\":\"b59c3d66-c15c-4412-829c-aa1c981b66e1\",\"subtype\":\"Figure\",\"type\":\"Plot\"}},\"id\":\"70c1bf2d-f86a-4d55-aa58-1a35fa358439\",\"type\":\"BoxZoomTool\"},{\"attributes\":{\"dimension\":1,\"plot\":{\"id\":\"b59c3d66-c15c-4412-829c-aa1c981b66e1\",\"subtype\":\"Figure\",\"type\":\"Plot\"},\"ticker\":{\"id\":\"fe28cafd-bcc9-4dec-a1c1-454324a8aa09\",\"type\":\"BasicTicker\"}},\"id\":\"3ed61344-1aba-4658-abb5-b2f4f13c8d9c\",\"type\":\"Grid\"},{\"attributes\":{\"callback\":null},\"id\":\"4932dd6b-c951-4c73-8d35-82862e9fe1f1\",\"type\":\"DataRange1d\"},{\"attributes\":{\"below\":[{\"id\":\"10fd5870-bf05-4d11-be44-4521cca97c3e\",\"type\":\"LinearAxis\"}],\"left\":[{\"id\":\"db80c03e-1986-4da6-83c6-860be2ff7809\",\"type\":\"LinearAxis\"}],\"outline_line_alpha\":{\"value\":0.3},\"outline_line_color\":{\"value\":\"navy\"},\"outline_line_width\":{\"value\":7},\"plot_height\":400,\"plot_width\":400,\"renderers\":[{\"id\":\"10fd5870-bf05-4d11-be44-4521cca97c3e\",\"type\":\"LinearAxis\"},{\"id\":\"ff47638b-2a93-4c35-ae89-c7da0cd96339\",\"type\":\"Grid\"},{\"id\":\"db80c03e-1986-4da6-83c6-860be2ff7809\",\"type\":\"LinearAxis\"},{\"id\":\"3ed61344-1aba-4658-abb5-b2f4f13c8d9c\",\"type\":\"Grid\"},{\"id\":\"24732559-2165-49df-944c-8668bb6a1084\",\"type\":\"BoxAnnotation\"},{\"id\":\"7f0a32d2-cba9-43cb-b57d-147eca9bb80a\",\"type\":\"GlyphRenderer\"}],\"title\":{\"id\":\"c1e87f9a-d4c0-4161-8b62-aa4db932bd62\",\"type\":\"Title\"},\"tool_events\":{\"id\":\"2a97fdc5-a091-4186-8988-b1556316adcd\",\"type\":\"ToolEvents\"},\"toolbar\":{\"id\":\"20c9cdfb-568e-465d-af78-bc61307aea32\",\"type\":\"Toolbar\"},\"x_range\":{\"id\":\"4932dd6b-c951-4c73-8d35-82862e9fe1f1\",\"type\":\"DataRange1d\"},\"y_range\":{\"id\":\"5c454cbf-fcad-46f5-9f10-bfe4cdf60218\",\"type\":\"DataRange1d\"}},\"id\":\"b59c3d66-c15c-4412-829c-aa1c981b66e1\",\"subtype\":\"Figure\",\"type\":\"Plot\"},{\"attributes\":{\"plot\":{\"id\":\"b59c3d66-c15c-4412-829c-aa1c981b66e1\",\"subtype\":\"Figure\",\"type\":\"Plot\"}},\"id\":\"55d6cfc2-3c13-4a98-ba4b-295e44daccad\",\"type\":\"SaveTool\"},{\"attributes\":{\"formatter\":{\"id\":\"243f98b6-f3a6-4469-88ae-4b04b3b419b4\",\"type\":\"BasicTickFormatter\"},\"plot\":{\"id\":\"b59c3d66-c15c-4412-829c-aa1c981b66e1\",\"subtype\":\"Figure\",\"type\":\"Plot\"},\"ticker\":{\"id\":\"b8969d16-98e2-46dc-9e56-79932439cea6\",\"type\":\"BasicTicker\"}},\"id\":\"10fd5870-bf05-4d11-be44-4521cca97c3e\",\"type\":\"LinearAxis\"},{\"attributes\":{\"plot\":{\"id\":\"b59c3d66-c15c-4412-829c-aa1c981b66e1\",\"subtype\":\"Figure\",\"type\":\"Plot\"},\"ticker\":{\"id\":\"b8969d16-98e2-46dc-9e56-79932439cea6\",\"type\":\"BasicTicker\"}},\"id\":\"ff47638b-2a93-4c35-ae89-c7da0cd96339\",\"type\":\"Grid\"},{\"attributes\":{},\"id\":\"2a97fdc5-a091-4186-8988-b1556316adcd\",\"type\":\"ToolEvents\"},{\"attributes\":{},\"id\":\"243f98b6-f3a6-4469-88ae-4b04b3b419b4\",\"type\":\"BasicTickFormatter\"},{\"attributes\":{},\"id\":\"b8969d16-98e2-46dc-9e56-79932439cea6\",\"type\":\"BasicTicker\"},{\"attributes\":{\"plot\":{\"id\":\"b59c3d66-c15c-4412-829c-aa1c981b66e1\",\"subtype\":\"Figure\",\"type\":\"Plot\"}},\"id\":\"c319b75f-9d54-49aa-84e8-6c0b19ddd809\",\"type\":\"ResetTool\"},{\"attributes\":{},\"id\":\"84592a6b-67b4-45b2-871a-182f89713189\",\"type\":\"BasicTickFormatter\"},{\"attributes\":{\"callback\":null},\"id\":\"5c454cbf-fcad-46f5-9f10-bfe4cdf60218\",\"type\":\"DataRange1d\"},{\"attributes\":{},\"id\":\"fe28cafd-bcc9-4dec-a1c1-454324a8aa09\",\"type\":\"BasicTicker\"},{\"attributes\":{\"fill_color\":{\"value\":\"#1f77b4\"},\"line_color\":{\"value\":\"#1f77b4\"},\"size\":{\"units\":\"screen\",\"value\":10},\"x\":{\"field\":\"x\"},\"y\":{\"field\":\"y\"}},\"id\":\"5497c7c9-e415-43b4-b087-47b4d08968b8\",\"type\":\"Circle\"},{\"attributes\":{\"active_drag\":\"auto\",\"active_scroll\":\"auto\",\"active_tap\":\"auto\",\"tools\":[{\"id\":\"46866752-3d50-4984-8c76-85428596cb9d\",\"type\":\"PanTool\"},{\"id\":\"56081d3b-6780-4aec-95f1-2449365f8dab\",\"type\":\"WheelZoomTool\"},{\"id\":\"70c1bf2d-f86a-4d55-aa58-1a35fa358439\",\"type\":\"BoxZoomTool\"},{\"id\":\"55d6cfc2-3c13-4a98-ba4b-295e44daccad\",\"type\":\"SaveTool\"},{\"id\":\"c319b75f-9d54-49aa-84e8-6c0b19ddd809\",\"type\":\"ResetTool\"},{\"id\":\"a52248f7-ceaf-44c9-97ec-01604a884e4c\",\"type\":\"HelpTool\"}]},\"id\":\"20c9cdfb-568e-465d-af78-bc61307aea32\",\"type\":\"Toolbar\"},{\"attributes\":{\"plot\":null,\"text\":null},\"id\":\"c1e87f9a-d4c0-4161-8b62-aa4db932bd62\",\"type\":\"Title\"},{\"attributes\":{\"plot\":{\"id\":\"b59c3d66-c15c-4412-829c-aa1c981b66e1\",\"subtype\":\"Figure\",\"type\":\"Plot\"}},\"id\":\"56081d3b-6780-4aec-95f1-2449365f8dab\",\"type\":\"WheelZoomTool\"},{\"attributes\":{\"callback\":null,\"column_names\":[\"y\",\"x\"],\"data\":{\"x\":[1,2,3,4,5],\"y\":[2,5,8,2,7]}},\"id\":\"8d434afc-cff8-4127-bbd1-999114a2389a\",\"type\":\"ColumnDataSource\"}],\"root_ids\":[\"b59c3d66-c15c-4412-829c-aa1c981b66e1\"]},\"title\":\"Bokeh Application\",\"version\":\"0.12.1\"}};\n",
       "            var render_items = [{\"docid\":\"a37341ae-d454-4d9d-b068-b4547161b6e6\",\"elementid\":\"bfde3631-c779-47ea-a505-b43752582c4a\",\"modelid\":\"b59c3d66-c15c-4412-829c-aa1c981b66e1\",\"notebook_comms_target\":\"c3e57d31-19d8-4b50-b703-c766dd6bdef2\"}];\n",
       "            \n",
       "            Bokeh.embed.embed_items(docs_json, render_items);\n",
       "        });\n",
       "      },\n",
       "      function(Bokeh) {\n",
       "      }\n",
       "    ];\n",
       "  \n",
       "    function run_inline_js() {\n",
       "      for (var i = 0; i < inline_js.length; i++) {\n",
       "        inline_js[i](window.Bokeh);\n",
       "      }\n",
       "    }\n",
       "  \n",
       "    if (window._bokeh_is_loading === 0) {\n",
       "      console.log(\"Bokeh: BokehJS loaded, going straight to plotting\");\n",
       "      run_inline_js();\n",
       "    } else {\n",
       "      load_libs(js_urls, function() {\n",
       "        console.log(\"Bokeh: BokehJS plotting callback run at\", now());\n",
       "        run_inline_js();\n",
       "      });\n",
       "    }\n",
       "  }(this));\n",
       "</script>"
      ]
     },
     "metadata": {},
     "output_type": "display_data"
    },
    {
     "data": {
      "text/html": [
       "<p><code>&lt;Bokeh Notebook handle for <strong>In[4]</strong>&gt;</code></p>"
      ],
      "text/plain": [
       "<bokeh.io._CommsHandle at 0x10c6868d0>"
      ]
     },
     "execution_count": 80,
     "metadata": {},
     "output_type": "execute_result"
    }
   ],
   "source": [
    "# create a new plot with a title\n",
    "p = figure(plot_width=400, plot_height=400)\n",
    "p.outline_line_width = 7\n",
    "p.outline_line_alpha = 0.3\n",
    "p.outline_line_color = \"navy\"\n",
    "\n",
    "p.circle([1,2,3,4,5], [2,5,8,2,7], size=10)\n",
    "\n",
    "show(p)"
   ]
  },
  {
   "cell_type": "code",
   "execution_count": 4,
   "metadata": {
    "collapsed": true
   },
   "outputs": [],
   "source": [
    "# EXERCISE Create a plot of your own and customize several plot-level properties\n",
    "\n"
   ]
  },
  {
   "cell_type": "markdown",
   "metadata": {},
   "source": [
    "# Glyphs\n",
    "\n",
    "It's also possible to style the visual properties of glyphs. When using `bokeh.plotting` this is often done when calling the glyph methods:\n",
    "```python\n",
    "p.circle(line_color=\"red\", fill_alpha=0.2, ...)\n",
    "```\n",
    "But it is also possible to set these properties directly on glyph objects. Glyph objects are found on `GlyphRenderer` objects, which are returned by the `Plot.add_glyph` and `bokeh.plotting` glyph methods like `circle`, `rect`, etc. Let's look at an example:"
   ]
  },
  {
   "cell_type": "code",
   "execution_count": 6,
   "metadata": {
    "collapsed": false
   },
   "outputs": [
    {
     "data": {
      "text/html": [
       "\n",
       "\n",
       "    <div class=\"bk-root\">\n",
       "        <div class=\"plotdiv\" id=\"87b47d70-aefe-415f-9a0c-dcefedea9704\"></div>\n",
       "    </div>\n",
       "<script type=\"text/javascript\">\n",
       "  \n",
       "  (function(global) {\n",
       "    function now() {\n",
       "      return new Date();\n",
       "    }\n",
       "  \n",
       "    var force = \"\";\n",
       "  \n",
       "    if (typeof (window._bokeh_onload_callbacks) === \"undefined\" || force !== \"\") {\n",
       "      window._bokeh_onload_callbacks = [];\n",
       "      window._bokeh_is_loading = undefined;\n",
       "    }\n",
       "  \n",
       "    function run_callbacks() {\n",
       "      window._bokeh_onload_callbacks.forEach(function(callback) { callback() });\n",
       "      delete window._bokeh_onload_callbacks\n",
       "      console.info(\"Bokeh: all callbacks have finished\");\n",
       "    }\n",
       "  \n",
       "    function load_libs(js_urls, callback) {\n",
       "      window._bokeh_onload_callbacks.push(callback);\n",
       "      if (window._bokeh_is_loading > 0) {\n",
       "        console.log(\"Bokeh: BokehJS is being loaded, scheduling callback at\", now());\n",
       "        return null;\n",
       "      }\n",
       "      if (js_urls == null || js_urls.length === 0) {\n",
       "        run_callbacks();\n",
       "        return null;\n",
       "      }\n",
       "      console.log(\"Bokeh: BokehJS not loaded, scheduling load and callback at\", now());\n",
       "      window._bokeh_is_loading = js_urls.length;\n",
       "      for (var i = 0; i < js_urls.length; i++) {\n",
       "        var url = js_urls[i];\n",
       "        var s = document.createElement('script');\n",
       "        s.src = url;\n",
       "        s.async = false;\n",
       "        s.onreadystatechange = s.onload = function() {\n",
       "          window._bokeh_is_loading--;\n",
       "          if (window._bokeh_is_loading === 0) {\n",
       "            console.log(\"Bokeh: all BokehJS libraries loaded\");\n",
       "            run_callbacks()\n",
       "          }\n",
       "        };\n",
       "        s.onerror = function() {\n",
       "          console.warn(\"failed to load library \" + url);\n",
       "        };\n",
       "        console.log(\"Bokeh: injecting script tag for BokehJS library: \", url);\n",
       "        document.getElementsByTagName(\"head\")[0].appendChild(s);\n",
       "      }\n",
       "    };var element = document.getElementById(\"87b47d70-aefe-415f-9a0c-dcefedea9704\");\n",
       "    if (element == null) {\n",
       "      console.log(\"Bokeh: ERROR: autoload.js configured with elementid '87b47d70-aefe-415f-9a0c-dcefedea9704' but no matching script tag was found. \")\n",
       "      return false;\n",
       "    }\n",
       "  \n",
       "    var js_urls = [];\n",
       "  \n",
       "    var inline_js = [\n",
       "      function(Bokeh) {\n",
       "        Bokeh.$(function() {\n",
       "            var docs_json = {\"dc94b9d6-778d-4338-a989-96c5f938ac95\":{\"roots\":{\"references\":[{\"attributes\":{},\"id\":\"6603f007-ae6c-45fe-8bd2-df719c54059e\",\"type\":\"BasicTickFormatter\"},{\"attributes\":{},\"id\":\"926be48e-fb69-409f-8a87-f65d90215cbe\",\"type\":\"BasicTicker\"},{\"attributes\":{\"formatter\":{\"id\":\"c733ab1d-cbb4-4461-b99e-b4a5d9c7a547\",\"type\":\"BasicTickFormatter\"},\"plot\":{\"id\":\"a13e11e9-b614-4b84-8d56-22a967d162b2\",\"subtype\":\"Figure\",\"type\":\"Plot\"},\"ticker\":{\"id\":\"a15c3e6b-764c-4137-8bdc-6bb97211c1ae\",\"type\":\"BasicTicker\"}},\"id\":\"29ae737f-c4ec-4182-93ef-db50c58068fe\",\"type\":\"LinearAxis\"},{\"attributes\":{\"overlay\":{\"id\":\"36241015-89ac-4584-a00c-27051f10d375\",\"type\":\"BoxAnnotation\"},\"plot\":{\"id\":\"a13e11e9-b614-4b84-8d56-22a967d162b2\",\"subtype\":\"Figure\",\"type\":\"Plot\"}},\"id\":\"6acc07e5-c386-4ecb-a15f-61cacc20f9aa\",\"type\":\"BoxZoomTool\"},{\"attributes\":{\"plot\":{\"id\":\"a13e11e9-b614-4b84-8d56-22a967d162b2\",\"subtype\":\"Figure\",\"type\":\"Plot\"}},\"id\":\"1a367eb4-5aec-4945-b14c-00485894e5b7\",\"type\":\"SaveTool\"},{\"attributes\":{\"data_source\":{\"id\":\"c7790cde-ae95-4619-b93c-68a31c4f92e2\",\"type\":\"ColumnDataSource\"},\"glyph\":{\"id\":\"cd50d57b-7997-4cd4-8743-86f2e2fafa49\",\"type\":\"Circle\"},\"hover_glyph\":null,\"nonselection_glyph\":{\"id\":\"a4e2ee3f-752d-4ed8-9d3e-c6d56fc03113\",\"type\":\"Circle\"},\"selection_glyph\":null},\"id\":\"2a6be289-1f0d-4c27-847e-fac2f26d0e63\",\"type\":\"GlyphRenderer\"},{\"attributes\":{},\"id\":\"c733ab1d-cbb4-4461-b99e-b4a5d9c7a547\",\"type\":\"BasicTickFormatter\"},{\"attributes\":{\"below\":[{\"id\":\"21ec5893-2195-45ab-95be-75109861eca1\",\"type\":\"LinearAxis\"}],\"left\":[{\"id\":\"29ae737f-c4ec-4182-93ef-db50c58068fe\",\"type\":\"LinearAxis\"}],\"plot_height\":400,\"plot_width\":400,\"renderers\":[{\"id\":\"21ec5893-2195-45ab-95be-75109861eca1\",\"type\":\"LinearAxis\"},{\"id\":\"cc21807e-cd7a-4c9c-8f47-60be603d37aa\",\"type\":\"Grid\"},{\"id\":\"29ae737f-c4ec-4182-93ef-db50c58068fe\",\"type\":\"LinearAxis\"},{\"id\":\"df49fd7f-d9de-4acd-994c-e397880c63d5\",\"type\":\"Grid\"},{\"id\":\"36241015-89ac-4584-a00c-27051f10d375\",\"type\":\"BoxAnnotation\"},{\"id\":\"2a6be289-1f0d-4c27-847e-fac2f26d0e63\",\"type\":\"GlyphRenderer\"}],\"title\":{\"id\":\"ea5b363c-eb81-4c78-95f6-3b630d742b6a\",\"type\":\"Title\"},\"tool_events\":{\"id\":\"4be974b5-3b3e-451e-bbfd-d4831a80e159\",\"type\":\"ToolEvents\"},\"toolbar\":{\"id\":\"c2a7b1e2-70e7-4504-83ae-4017c00dcde4\",\"type\":\"Toolbar\"},\"x_range\":{\"id\":\"47a71877-57f7-444c-b194-7a347340184c\",\"type\":\"DataRange1d\"},\"y_range\":{\"id\":\"65e9aa65-eb47-4a24-be82-a9f6e3790bd7\",\"type\":\"DataRange1d\"}},\"id\":\"a13e11e9-b614-4b84-8d56-22a967d162b2\",\"subtype\":\"Figure\",\"type\":\"Plot\"},{\"attributes\":{},\"id\":\"a15c3e6b-764c-4137-8bdc-6bb97211c1ae\",\"type\":\"BasicTicker\"},{\"attributes\":{},\"id\":\"4be974b5-3b3e-451e-bbfd-d4831a80e159\",\"type\":\"ToolEvents\"},{\"attributes\":{\"bottom_units\":\"screen\",\"fill_alpha\":{\"value\":0.5},\"fill_color\":{\"value\":\"lightgrey\"},\"left_units\":\"screen\",\"level\":\"overlay\",\"line_alpha\":{\"value\":1.0},\"line_color\":{\"value\":\"black\"},\"line_dash\":[4,4],\"line_width\":{\"value\":2},\"plot\":null,\"render_mode\":\"css\",\"right_units\":\"screen\",\"top_units\":\"screen\"},\"id\":\"36241015-89ac-4584-a00c-27051f10d375\",\"type\":\"BoxAnnotation\"},{\"attributes\":{\"callback\":null},\"id\":\"65e9aa65-eb47-4a24-be82-a9f6e3790bd7\",\"type\":\"DataRange1d\"},{\"attributes\":{\"plot\":{\"id\":\"a13e11e9-b614-4b84-8d56-22a967d162b2\",\"subtype\":\"Figure\",\"type\":\"Plot\"}},\"id\":\"ab9c6f59-eca3-4365-b0a7-699f2cbd083b\",\"type\":\"PanTool\"},{\"attributes\":{\"plot\":{\"id\":\"a13e11e9-b614-4b84-8d56-22a967d162b2\",\"subtype\":\"Figure\",\"type\":\"Plot\"}},\"id\":\"06c57e59-8891-480a-a80f-9646cfd0fed0\",\"type\":\"WheelZoomTool\"},{\"attributes\":{\"plot\":{\"id\":\"a13e11e9-b614-4b84-8d56-22a967d162b2\",\"subtype\":\"Figure\",\"type\":\"Plot\"}},\"id\":\"823d08d1-764d-4d46-9b31-61323901785e\",\"type\":\"HelpTool\"},{\"attributes\":{\"active_drag\":\"auto\",\"active_scroll\":\"auto\",\"active_tap\":\"auto\",\"tools\":[{\"id\":\"ab9c6f59-eca3-4365-b0a7-699f2cbd083b\",\"type\":\"PanTool\"},{\"id\":\"06c57e59-8891-480a-a80f-9646cfd0fed0\",\"type\":\"WheelZoomTool\"},{\"id\":\"6acc07e5-c386-4ecb-a15f-61cacc20f9aa\",\"type\":\"BoxZoomTool\"},{\"id\":\"1a367eb4-5aec-4945-b14c-00485894e5b7\",\"type\":\"SaveTool\"},{\"id\":\"bb5a58aa-ee38-49be-aa88-14645fe5b131\",\"type\":\"ResetTool\"},{\"id\":\"823d08d1-764d-4d46-9b31-61323901785e\",\"type\":\"HelpTool\"}]},\"id\":\"c2a7b1e2-70e7-4504-83ae-4017c00dcde4\",\"type\":\"Toolbar\"},{\"attributes\":{\"plot\":{\"id\":\"a13e11e9-b614-4b84-8d56-22a967d162b2\",\"subtype\":\"Figure\",\"type\":\"Plot\"},\"ticker\":{\"id\":\"926be48e-fb69-409f-8a87-f65d90215cbe\",\"type\":\"BasicTicker\"}},\"id\":\"cc21807e-cd7a-4c9c-8f47-60be603d37aa\",\"type\":\"Grid\"},{\"attributes\":{\"callback\":null},\"id\":\"47a71877-57f7-444c-b194-7a347340184c\",\"type\":\"DataRange1d\"},{\"attributes\":{\"dimension\":1,\"plot\":{\"id\":\"a13e11e9-b614-4b84-8d56-22a967d162b2\",\"subtype\":\"Figure\",\"type\":\"Plot\"},\"ticker\":{\"id\":\"a15c3e6b-764c-4137-8bdc-6bb97211c1ae\",\"type\":\"BasicTicker\"}},\"id\":\"df49fd7f-d9de-4acd-994c-e397880c63d5\",\"type\":\"Grid\"},{\"attributes\":{\"fill_alpha\":{\"value\":0.2},\"fill_color\":{\"value\":\"#1f77b4\"},\"line_color\":{\"value\":\"firebrick\"},\"line_dash\":[5,5],\"line_width\":{\"value\":2},\"size\":{\"units\":\"screen\",\"value\":50},\"x\":{\"field\":\"x\"},\"y\":{\"field\":\"y\"}},\"id\":\"cd50d57b-7997-4cd4-8743-86f2e2fafa49\",\"type\":\"Circle\"},{\"attributes\":{\"plot\":{\"id\":\"a13e11e9-b614-4b84-8d56-22a967d162b2\",\"subtype\":\"Figure\",\"type\":\"Plot\"}},\"id\":\"bb5a58aa-ee38-49be-aa88-14645fe5b131\",\"type\":\"ResetTool\"},{\"attributes\":{\"fill_alpha\":{\"value\":0.1},\"fill_color\":{\"value\":\"#1f77b4\"},\"line_alpha\":{\"value\":0.1},\"line_color\":{\"value\":\"#1f77b4\"},\"x\":{\"field\":\"x\"},\"y\":{\"field\":\"y\"}},\"id\":\"a4e2ee3f-752d-4ed8-9d3e-c6d56fc03113\",\"type\":\"Circle\"},{\"attributes\":{\"formatter\":{\"id\":\"6603f007-ae6c-45fe-8bd2-df719c54059e\",\"type\":\"BasicTickFormatter\"},\"plot\":{\"id\":\"a13e11e9-b614-4b84-8d56-22a967d162b2\",\"subtype\":\"Figure\",\"type\":\"Plot\"},\"ticker\":{\"id\":\"926be48e-fb69-409f-8a87-f65d90215cbe\",\"type\":\"BasicTicker\"}},\"id\":\"21ec5893-2195-45ab-95be-75109861eca1\",\"type\":\"LinearAxis\"},{\"attributes\":{\"plot\":null,\"text\":null},\"id\":\"ea5b363c-eb81-4c78-95f6-3b630d742b6a\",\"type\":\"Title\"},{\"attributes\":{\"callback\":null,\"column_names\":[\"y\",\"x\"],\"data\":{\"x\":[1,2,3,4,5],\"y\":[2,5,8,2,7]}},\"id\":\"c7790cde-ae95-4619-b93c-68a31c4f92e2\",\"type\":\"ColumnDataSource\"}],\"root_ids\":[\"a13e11e9-b614-4b84-8d56-22a967d162b2\"]},\"title\":\"Bokeh Application\",\"version\":\"0.12.1\"}};\n",
       "            var render_items = [{\"docid\":\"dc94b9d6-778d-4338-a989-96c5f938ac95\",\"elementid\":\"87b47d70-aefe-415f-9a0c-dcefedea9704\",\"modelid\":\"a13e11e9-b614-4b84-8d56-22a967d162b2\",\"notebook_comms_target\":\"4f5f6030-a1b4-4528-847a-169c8c68f792\"}];\n",
       "            \n",
       "            Bokeh.embed.embed_items(docs_json, render_items);\n",
       "        });\n",
       "      },\n",
       "      function(Bokeh) {\n",
       "      }\n",
       "    ];\n",
       "  \n",
       "    function run_inline_js() {\n",
       "      for (var i = 0; i < inline_js.length; i++) {\n",
       "        inline_js[i](window.Bokeh);\n",
       "      }\n",
       "    }\n",
       "  \n",
       "    if (window._bokeh_is_loading === 0) {\n",
       "      console.log(\"Bokeh: BokehJS loaded, going straight to plotting\");\n",
       "      run_inline_js();\n",
       "    } else {\n",
       "      load_libs(js_urls, function() {\n",
       "        console.log(\"Bokeh: BokehJS plotting callback run at\", now());\n",
       "        run_inline_js();\n",
       "      });\n",
       "    }\n",
       "  }(this));\n",
       "</script>"
      ]
     },
     "metadata": {},
     "output_type": "display_data"
    },
    {
     "data": {
      "text/html": [
       "<p><code>&lt;Bokeh Notebook handle for <strong>In[6]</strong>&gt;</code></p>"
      ],
      "text/plain": [
       "<bokeh.io._CommsHandle at 0x10b995f50>"
      ]
     },
     "execution_count": 6,
     "metadata": {},
     "output_type": "execute_result"
    }
   ],
   "source": [
    "p = figure(plot_width=400, plot_height=400)\n",
    "\n",
    "# keep a reference to the returned GlyphRenderer\n",
    "r = p.circle([1,2,3,4,5], [2,5,8,2,7])\n",
    "\n",
    "r.glyph.size = 50\n",
    "r.glyph.fill_alpha = 0.2\n",
    "r.glyph.line_color = \"firebrick\"\n",
    "r.glyph.line_dash = [5, 5]\n",
    "r.glyph.line_width = 2\n",
    "\n",
    "show(p)"
   ]
  },
  {
   "cell_type": "markdown",
   "metadata": {},
   "source": [
    "### Selection and non-selection visuals\n",
    "\n",
    "You can also control how glyphs look when there are selections involved. The set of \"selected\" points is displayed according to the optional `.selection_glyph` property of a `GlyphRenderer`:\n",
    "```python\n",
    "r.selection_glyph = Circle(fill_alpha=1, fill_color=\"firebrick\", line_color=None) \n",
    "```\n",
    "When there is a non-empty selection, the set of \"unselected: points is displayed according to the optional  `.nonselection_glyph` property of a `GlyphRenderer`:\n",
    "```python\n",
    "r.nonselection_glyph = Circle(fill_alpha=0.2, fill_color=\"grey\", line_color=None) \n",
    "```\n",
    "\n",
    "When using the `bokeh.plotting` interface, it is easier to pass these visual properties to the glyph methods as shown below. The glyph method will create the selection or nonselection glyphs and attach them to the renderer for you. "
   ]
  },
  {
   "cell_type": "code",
   "execution_count": 20,
   "metadata": {
    "collapsed": false
   },
   "outputs": [
    {
     "data": {
      "text/html": [
       "\n",
       "\n",
       "    <div class=\"bk-root\">\n",
       "        <div class=\"plotdiv\" id=\"3db72b7b-2a40-44f3-960d-c2b91a90d601\"></div>\n",
       "    </div>\n",
       "<script type=\"text/javascript\">\n",
       "  \n",
       "  (function(global) {\n",
       "    function now() {\n",
       "      return new Date();\n",
       "    }\n",
       "  \n",
       "    var force = \"\";\n",
       "  \n",
       "    if (typeof (window._bokeh_onload_callbacks) === \"undefined\" || force !== \"\") {\n",
       "      window._bokeh_onload_callbacks = [];\n",
       "      window._bokeh_is_loading = undefined;\n",
       "    }\n",
       "  \n",
       "    function run_callbacks() {\n",
       "      window._bokeh_onload_callbacks.forEach(function(callback) { callback() });\n",
       "      delete window._bokeh_onload_callbacks\n",
       "      console.info(\"Bokeh: all callbacks have finished\");\n",
       "    }\n",
       "  \n",
       "    function load_libs(js_urls, callback) {\n",
       "      window._bokeh_onload_callbacks.push(callback);\n",
       "      if (window._bokeh_is_loading > 0) {\n",
       "        console.log(\"Bokeh: BokehJS is being loaded, scheduling callback at\", now());\n",
       "        return null;\n",
       "      }\n",
       "      if (js_urls == null || js_urls.length === 0) {\n",
       "        run_callbacks();\n",
       "        return null;\n",
       "      }\n",
       "      console.log(\"Bokeh: BokehJS not loaded, scheduling load and callback at\", now());\n",
       "      window._bokeh_is_loading = js_urls.length;\n",
       "      for (var i = 0; i < js_urls.length; i++) {\n",
       "        var url = js_urls[i];\n",
       "        var s = document.createElement('script');\n",
       "        s.src = url;\n",
       "        s.async = false;\n",
       "        s.onreadystatechange = s.onload = function() {\n",
       "          window._bokeh_is_loading--;\n",
       "          if (window._bokeh_is_loading === 0) {\n",
       "            console.log(\"Bokeh: all BokehJS libraries loaded\");\n",
       "            run_callbacks()\n",
       "          }\n",
       "        };\n",
       "        s.onerror = function() {\n",
       "          console.warn(\"failed to load library \" + url);\n",
       "        };\n",
       "        console.log(\"Bokeh: injecting script tag for BokehJS library: \", url);\n",
       "        document.getElementsByTagName(\"head\")[0].appendChild(s);\n",
       "      }\n",
       "    };var element = document.getElementById(\"3db72b7b-2a40-44f3-960d-c2b91a90d601\");\n",
       "    if (element == null) {\n",
       "      console.log(\"Bokeh: ERROR: autoload.js configured with elementid '3db72b7b-2a40-44f3-960d-c2b91a90d601' but no matching script tag was found. \")\n",
       "      return false;\n",
       "    }\n",
       "  \n",
       "    var js_urls = [];\n",
       "  \n",
       "    var inline_js = [\n",
       "      function(Bokeh) {\n",
       "        Bokeh.$(function() {\n",
       "            var docs_json = {\"33bb0c0d-f0df-419b-977c-08ef895c8ca8\":{\"roots\":{\"references\":[{\"attributes\":{\"dimension\":1,\"plot\":{\"id\":\"e2db7644-0041-4b47-b4cc-0b0454dd898c\",\"subtype\":\"Figure\",\"type\":\"Plot\"},\"ticker\":{\"id\":\"471cf5b2-0f84-4c1c-8226-3162b8527e7f\",\"type\":\"BasicTicker\"}},\"id\":\"3a7ff337-e706-4e97-b257-fac4bef5f5fd\",\"type\":\"Grid\"},{\"attributes\":{\"plot\":null,\"text\":\"Select a circle\"},\"id\":\"dc2a34de-bc4e-4ad4-b657-4dac565cdffe\",\"type\":\"Title\"},{\"attributes\":{},\"id\":\"f9a824c5-5e45-4eac-9cc5-9e0a55523b90\",\"type\":\"BasicTickFormatter\"},{\"attributes\":{},\"id\":\"471cf5b2-0f84-4c1c-8226-3162b8527e7f\",\"type\":\"BasicTicker\"},{\"attributes\":{},\"id\":\"94b4f851-80e9-46fd-94de-19f095d2bf52\",\"type\":\"BasicTickFormatter\"},{\"attributes\":{\"callback\":null},\"id\":\"95345f4e-b574-4212-877a-18699c4a311e\",\"type\":\"DataRange1d\"},{\"attributes\":{\"plot\":{\"id\":\"e2db7644-0041-4b47-b4cc-0b0454dd898c\",\"subtype\":\"Figure\",\"type\":\"Plot\"},\"ticker\":{\"id\":\"65697365-cd5d-495e-8c40-39954310b82d\",\"type\":\"BasicTicker\"}},\"id\":\"d98dd3b9-f028-4fe3-8942-fdcfd6ec0a4e\",\"type\":\"Grid\"},{\"attributes\":{},\"id\":\"65697365-cd5d-495e-8c40-39954310b82d\",\"type\":\"BasicTicker\"},{\"attributes\":{\"callback\":null,\"column_names\":[\"x\",\"y\"],\"data\":{\"x\":[1,2,3,4,5],\"y\":[2,5,8,2,7]}},\"id\":\"192d61e7-8b20-4465-b715-0abe592865dd\",\"type\":\"ColumnDataSource\"},{\"attributes\":{\"data_source\":{\"id\":\"192d61e7-8b20-4465-b715-0abe592865dd\",\"type\":\"ColumnDataSource\"},\"glyph\":{\"id\":\"72085013-5940-4e99-8ece-2680e85cba6d\",\"type\":\"Circle\"},\"hover_glyph\":null,\"nonselection_glyph\":{\"id\":\"8d9a1cfa-4244-45d2-a6f5-325eb15b3e48\",\"type\":\"Circle\"},\"selection_glyph\":{\"id\":\"edbfc93f-8b9e-4dcb-970b-278aa12f4ee1\",\"type\":\"Circle\"}},\"id\":\"c28fd687-b54a-4230-8c47-e4ae07b567e0\",\"type\":\"GlyphRenderer\"},{\"attributes\":{\"fill_color\":{\"value\":\"firebrick\"},\"line_color\":{\"value\":\"firebrick\"},\"size\":{\"units\":\"screen\",\"value\":50},\"x\":{\"field\":\"x\"},\"y\":{\"field\":\"y\"}},\"id\":\"edbfc93f-8b9e-4dcb-970b-278aa12f4ee1\",\"type\":\"Circle\"},{\"attributes\":{\"fill_color\":{\"value\":\"#1f77b4\"},\"line_color\":{\"value\":\"#1f77b4\"},\"size\":{\"units\":\"screen\",\"value\":50},\"x\":{\"field\":\"x\"},\"y\":{\"field\":\"y\"}},\"id\":\"72085013-5940-4e99-8ece-2680e85cba6d\",\"type\":\"Circle\"},{\"attributes\":{},\"id\":\"bf76104a-0f53-4b7f-bb77-f4b8ee6ee983\",\"type\":\"ToolEvents\"},{\"attributes\":{\"below\":[{\"id\":\"c4f0103d-65b5-41e0-9db8-86faaad132bb\",\"type\":\"LinearAxis\"}],\"left\":[{\"id\":\"ca12cf34-65cd-4b06-8d0e-7ff159de2a1c\",\"type\":\"LinearAxis\"}],\"plot_height\":400,\"plot_width\":400,\"renderers\":[{\"id\":\"c4f0103d-65b5-41e0-9db8-86faaad132bb\",\"type\":\"LinearAxis\"},{\"id\":\"d98dd3b9-f028-4fe3-8942-fdcfd6ec0a4e\",\"type\":\"Grid\"},{\"id\":\"ca12cf34-65cd-4b06-8d0e-7ff159de2a1c\",\"type\":\"LinearAxis\"},{\"id\":\"3a7ff337-e706-4e97-b257-fac4bef5f5fd\",\"type\":\"Grid\"},{\"id\":\"c28fd687-b54a-4230-8c47-e4ae07b567e0\",\"type\":\"GlyphRenderer\"}],\"title\":{\"id\":\"dc2a34de-bc4e-4ad4-b657-4dac565cdffe\",\"type\":\"Title\"},\"tool_events\":{\"id\":\"bf76104a-0f53-4b7f-bb77-f4b8ee6ee983\",\"type\":\"ToolEvents\"},\"toolbar\":{\"id\":\"c2114bfa-ed6b-4c40-b87e-2556631b9f86\",\"type\":\"Toolbar\"},\"x_range\":{\"id\":\"95345f4e-b574-4212-877a-18699c4a311e\",\"type\":\"DataRange1d\"},\"y_range\":{\"id\":\"a1627a09-ecc3-4981-a925-5c340b409fe5\",\"type\":\"DataRange1d\"}},\"id\":\"e2db7644-0041-4b47-b4cc-0b0454dd898c\",\"subtype\":\"Figure\",\"type\":\"Plot\"},{\"attributes\":{\"formatter\":{\"id\":\"f9a824c5-5e45-4eac-9cc5-9e0a55523b90\",\"type\":\"BasicTickFormatter\"},\"plot\":{\"id\":\"e2db7644-0041-4b47-b4cc-0b0454dd898c\",\"subtype\":\"Figure\",\"type\":\"Plot\"},\"ticker\":{\"id\":\"471cf5b2-0f84-4c1c-8226-3162b8527e7f\",\"type\":\"BasicTicker\"}},\"id\":\"ca12cf34-65cd-4b06-8d0e-7ff159de2a1c\",\"type\":\"LinearAxis\"},{\"attributes\":{\"formatter\":{\"id\":\"94b4f851-80e9-46fd-94de-19f095d2bf52\",\"type\":\"BasicTickFormatter\"},\"plot\":{\"id\":\"e2db7644-0041-4b47-b4cc-0b0454dd898c\",\"subtype\":\"Figure\",\"type\":\"Plot\"},\"ticker\":{\"id\":\"65697365-cd5d-495e-8c40-39954310b82d\",\"type\":\"BasicTicker\"}},\"id\":\"c4f0103d-65b5-41e0-9db8-86faaad132bb\",\"type\":\"LinearAxis\"},{\"attributes\":{\"callback\":null,\"plot\":{\"id\":\"e2db7644-0041-4b47-b4cc-0b0454dd898c\",\"subtype\":\"Figure\",\"type\":\"Plot\"}},\"id\":\"9f457ee1-f136-4b83-bfcd-5302ae42a8bd\",\"type\":\"TapTool\"},{\"attributes\":{\"fill_alpha\":{\"value\":0.2},\"fill_color\":{\"value\":\"grey\"},\"line_color\":{\"value\":\"firebrick\"},\"size\":{\"units\":\"screen\",\"value\":50},\"x\":{\"field\":\"x\"},\"y\":{\"field\":\"y\"}},\"id\":\"8d9a1cfa-4244-45d2-a6f5-325eb15b3e48\",\"type\":\"Circle\"},{\"attributes\":{\"callback\":null},\"id\":\"a1627a09-ecc3-4981-a925-5c340b409fe5\",\"type\":\"DataRange1d\"},{\"attributes\":{\"active_drag\":\"auto\",\"active_scroll\":\"auto\",\"active_tap\":\"auto\",\"tools\":[{\"id\":\"9f457ee1-f136-4b83-bfcd-5302ae42a8bd\",\"type\":\"TapTool\"}]},\"id\":\"c2114bfa-ed6b-4c40-b87e-2556631b9f86\",\"type\":\"Toolbar\"}],\"root_ids\":[\"e2db7644-0041-4b47-b4cc-0b0454dd898c\"]},\"title\":\"Bokeh Application\",\"version\":\"0.12.1\"}};\n",
       "            var render_items = [{\"docid\":\"33bb0c0d-f0df-419b-977c-08ef895c8ca8\",\"elementid\":\"3db72b7b-2a40-44f3-960d-c2b91a90d601\",\"modelid\":\"e2db7644-0041-4b47-b4cc-0b0454dd898c\",\"notebook_comms_target\":\"29c82a48-7aaf-47d1-a01b-8d0a4021e24b\"}];\n",
       "            \n",
       "            Bokeh.embed.embed_items(docs_json, render_items);\n",
       "        });\n",
       "      },\n",
       "      function(Bokeh) {\n",
       "      }\n",
       "    ];\n",
       "  \n",
       "    function run_inline_js() {\n",
       "      for (var i = 0; i < inline_js.length; i++) {\n",
       "        inline_js[i](window.Bokeh);\n",
       "      }\n",
       "    }\n",
       "  \n",
       "    if (window._bokeh_is_loading === 0) {\n",
       "      console.log(\"Bokeh: BokehJS loaded, going straight to plotting\");\n",
       "      run_inline_js();\n",
       "    } else {\n",
       "      load_libs(js_urls, function() {\n",
       "        console.log(\"Bokeh: BokehJS plotting callback run at\", now());\n",
       "        run_inline_js();\n",
       "      });\n",
       "    }\n",
       "  }(this));\n",
       "</script>"
      ]
     },
     "metadata": {},
     "output_type": "display_data"
    },
    {
     "data": {
      "text/html": [
       "<p><code>&lt;Bokeh Notebook handle for <strong>In[20]</strong>&gt;</code></p>"
      ],
      "text/plain": [
       "<bokeh.io._CommsHandle at 0x10bab10d0>"
      ]
     },
     "execution_count": 20,
     "metadata": {},
     "output_type": "execute_result"
    }
   ],
   "source": [
    "p = figure(plot_width=400, plot_height=400, tools=\"tap\", \n",
    "           title=\"Select a circle\")\n",
    "renderer = p.circle([1, 2, 3, 4, 5], [2, 5, 8, 2, 7], size=50,\n",
    "\n",
    "                    # set visual properties for selected glyphs\n",
    "                    selection_color=\"firebrick\",\n",
    "\n",
    "                    # set visual properties for non-selected glyphs\n",
    "                    nonselection_fill_alpha=0.2,\n",
    "                    nonselection_fill_color=\"grey\",\n",
    "                    nonselection_line_color=\"firebrick\",\n",
    "                    nonselection_line_alpha=1.0\n",
    "                   \n",
    "                   )\n",
    "\n",
    "show(p)"
   ]
  },
  {
   "cell_type": "markdown",
   "metadata": {},
   "source": [
    "It is also possible to specify the visual appearance of glyphs when they are \"inspected\", e.g. by a hover tool. This is accomplished by setting an optional `hover_glyph` on the glyph renderer:\n",
    "```python\n",
    "r.hover_glyph = Circle(fill_alpha=1, fill_color=\"firebrick\", line_color=None) \n",
    "```\n",
    "Or if using `bokeh.plotting` glyph methods, by passing `hover_fill_alpha`, etc. to the glyph method. Lets look at an example that works together with a `HoverTool` configured for \"hline\" hit-testing."
   ]
  },
  {
   "cell_type": "code",
   "execution_count": 21,
   "metadata": {
    "collapsed": true
   },
   "outputs": [],
   "source": [
    "from bokeh.models.tools import HoverTool\n",
    "from bokeh.sampledata.glucose import data"
   ]
  },
  {
   "cell_type": "code",
   "execution_count": 22,
   "metadata": {
    "collapsed": true
   },
   "outputs": [],
   "source": [
    "from IPython.display import display\n",
    "import pandas as pd\n",
    "pd.set_option('display.max_rows', 10)\n",
    "pd.set_option('display.max_columns', 10)"
   ]
  },
  {
   "cell_type": "code",
   "execution_count": 23,
   "metadata": {
    "collapsed": true
   },
   "outputs": [
    {
     "data": {
      "text/html": [
       "<div>\n",
       "<table border=\"1\" class=\"dataframe\">\n",
       "  <thead>\n",
       "    <tr style=\"text-align: right;\">\n",
       "      <th></th>\n",
       "      <th>isig</th>\n",
       "      <th>glucose</th>\n",
       "    </tr>\n",
       "    <tr>\n",
       "      <th>datetime</th>\n",
       "      <th></th>\n",
       "      <th></th>\n",
       "    </tr>\n",
       "  </thead>\n",
       "  <tbody>\n",
       "    <tr>\n",
       "      <th>2010-03-24 09:51:00</th>\n",
       "      <td>22.59</td>\n",
       "      <td>258</td>\n",
       "    </tr>\n",
       "    <tr>\n",
       "      <th>2010-03-24 09:56:00</th>\n",
       "      <td>22.52</td>\n",
       "      <td>260</td>\n",
       "    </tr>\n",
       "    <tr>\n",
       "      <th>2010-03-24 10:01:00</th>\n",
       "      <td>22.23</td>\n",
       "      <td>258</td>\n",
       "    </tr>\n",
       "    <tr>\n",
       "      <th>2010-03-24 10:06:00</th>\n",
       "      <td>21.56</td>\n",
       "      <td>254</td>\n",
       "    </tr>\n",
       "    <tr>\n",
       "      <th>2010-03-24 10:11:00</th>\n",
       "      <td>20.79</td>\n",
       "      <td>246</td>\n",
       "    </tr>\n",
       "    <tr>\n",
       "      <th>...</th>\n",
       "      <td>...</td>\n",
       "      <td>...</td>\n",
       "    </tr>\n",
       "    <tr>\n",
       "      <th>2010-10-10 23:37:00</th>\n",
       "      <td>29.46</td>\n",
       "      <td>160</td>\n",
       "    </tr>\n",
       "    <tr>\n",
       "      <th>2010-10-10 23:42:00</th>\n",
       "      <td>29.08</td>\n",
       "      <td>160</td>\n",
       "    </tr>\n",
       "    <tr>\n",
       "      <th>2010-10-10 23:47:00</th>\n",
       "      <td>29.06</td>\n",
       "      <td>160</td>\n",
       "    </tr>\n",
       "    <tr>\n",
       "      <th>2010-10-10 23:52:00</th>\n",
       "      <td>29.3</td>\n",
       "      <td>161</td>\n",
       "    </tr>\n",
       "    <tr>\n",
       "      <th>2010-10-10 23:57:00</th>\n",
       "      <td>30.8</td>\n",
       "      <td>165</td>\n",
       "    </tr>\n",
       "  </tbody>\n",
       "</table>\n",
       "<p>52281 rows × 2 columns</p>\n",
       "</div>"
      ],
      "text/plain": [
       "                      isig  glucose\n",
       "datetime                           \n",
       "2010-03-24 09:51:00  22.59      258\n",
       "2010-03-24 09:56:00  22.52      260\n",
       "2010-03-24 10:01:00  22.23      258\n",
       "2010-03-24 10:06:00  21.56      254\n",
       "2010-03-24 10:11:00  20.79      246\n",
       "...                    ...      ...\n",
       "2010-10-10 23:37:00  29.46      160\n",
       "2010-10-10 23:42:00  29.08      160\n",
       "2010-10-10 23:47:00  29.06      160\n",
       "2010-10-10 23:52:00   29.3      161\n",
       "2010-10-10 23:57:00   30.8      165\n",
       "\n",
       "[52281 rows x 2 columns]"
      ]
     },
     "metadata": {},
     "output_type": "display_data"
    }
   ],
   "source": [
    "display(data)"
   ]
  },
  {
   "cell_type": "code",
   "execution_count": 25,
   "metadata": {
    "collapsed": true
   },
   "outputs": [
    {
     "data": {
      "text/html": [
       "<div>\n",
       "<table border=\"1\" class=\"dataframe\">\n",
       "  <thead>\n",
       "    <tr style=\"text-align: right;\">\n",
       "      <th></th>\n",
       "      <th>isig</th>\n",
       "      <th>glucose</th>\n",
       "    </tr>\n",
       "    <tr>\n",
       "      <th>datetime</th>\n",
       "      <th></th>\n",
       "      <th></th>\n",
       "    </tr>\n",
       "  </thead>\n",
       "  <tbody>\n",
       "    <tr>\n",
       "      <th>2010-10-06 00:03:00</th>\n",
       "      <td>20.12</td>\n",
       "      <td>143</td>\n",
       "    </tr>\n",
       "    <tr>\n",
       "      <th>2010-10-06 00:08:00</th>\n",
       "      <td>20.84</td>\n",
       "      <td>147</td>\n",
       "    </tr>\n",
       "    <tr>\n",
       "      <th>2010-10-06 00:13:00</th>\n",
       "      <td>20.88</td>\n",
       "      <td>150</td>\n",
       "    </tr>\n",
       "    <tr>\n",
       "      <th>2010-10-06 00:18:00</th>\n",
       "      <td>20.9</td>\n",
       "      <td>152</td>\n",
       "    </tr>\n",
       "    <tr>\n",
       "      <th>2010-10-06 00:23:00</th>\n",
       "      <td>20.84</td>\n",
       "      <td>152</td>\n",
       "    </tr>\n",
       "    <tr>\n",
       "      <th>...</th>\n",
       "      <td>...</td>\n",
       "      <td>...</td>\n",
       "    </tr>\n",
       "    <tr>\n",
       "      <th>2010-10-06 23:38:00</th>\n",
       "      <td>22.64</td>\n",
       "      <td>154</td>\n",
       "    </tr>\n",
       "    <tr>\n",
       "      <th>2010-10-06 23:43:00</th>\n",
       "      <td>22.08</td>\n",
       "      <td>153</td>\n",
       "    </tr>\n",
       "    <tr>\n",
       "      <th>2010-10-06 23:48:00</th>\n",
       "      <td>21.88</td>\n",
       "      <td>151</td>\n",
       "    </tr>\n",
       "    <tr>\n",
       "      <th>2010-10-06 23:53:00</th>\n",
       "      <td>21.98</td>\n",
       "      <td>150</td>\n",
       "    </tr>\n",
       "    <tr>\n",
       "      <th>2010-10-06 23:58:00</th>\n",
       "      <td>22.16</td>\n",
       "      <td>150</td>\n",
       "    </tr>\n",
       "  </tbody>\n",
       "</table>\n",
       "<p>288 rows × 2 columns</p>\n",
       "</div>"
      ],
      "text/plain": [
       "                      isig  glucose\n",
       "datetime                           \n",
       "2010-10-06 00:03:00  20.12      143\n",
       "2010-10-06 00:08:00  20.84      147\n",
       "2010-10-06 00:13:00  20.88      150\n",
       "2010-10-06 00:18:00   20.9      152\n",
       "2010-10-06 00:23:00  20.84      152\n",
       "...                    ...      ...\n",
       "2010-10-06 23:38:00  22.64      154\n",
       "2010-10-06 23:43:00  22.08      153\n",
       "2010-10-06 23:48:00  21.88      151\n",
       "2010-10-06 23:53:00  21.98      150\n",
       "2010-10-06 23:58:00  22.16      150\n",
       "\n",
       "[288 rows x 2 columns]"
      ]
     },
     "execution_count": 25,
     "metadata": {},
     "output_type": "execute_result"
    }
   ],
   "source": [
    "subset = data.ix['2010-10-06']\n",
    "subset # a whole day's data"
   ]
  },
  {
   "cell_type": "code",
   "execution_count": 28,
   "metadata": {
    "collapsed": false
   },
   "outputs": [
    {
     "data": {
      "text/plain": [
       "pandas.core.series.Series"
      ]
     },
     "execution_count": 28,
     "metadata": {},
     "output_type": "execute_result"
    }
   ],
   "source": [
    "type(subset.index.to_series())"
   ]
  },
  {
   "cell_type": "code",
   "execution_count": 26,
   "metadata": {
    "collapsed": true
   },
   "outputs": [],
   "source": [
    "x, y = subset.index.to_series(), subset['glucose']"
   ]
  },
  {
   "cell_type": "code",
   "execution_count": 41,
   "metadata": {
    "collapsed": false
   },
   "outputs": [
    {
     "data": {
      "text/html": [
       "\n",
       "\n",
       "    <div class=\"bk-root\">\n",
       "        <div class=\"plotdiv\" id=\"8bed012d-0ea7-49d3-b26c-e49873f58e3e\"></div>\n",
       "    </div>\n",
       "<script type=\"text/javascript\">\n",
       "  \n",
       "  (function(global) {\n",
       "    function now() {\n",
       "      return new Date();\n",
       "    }\n",
       "  \n",
       "    var force = \"\";\n",
       "  \n",
       "    if (typeof (window._bokeh_onload_callbacks) === \"undefined\" || force !== \"\") {\n",
       "      window._bokeh_onload_callbacks = [];\n",
       "      window._bokeh_is_loading = undefined;\n",
       "    }\n",
       "  \n",
       "    function run_callbacks() {\n",
       "      window._bokeh_onload_callbacks.forEach(function(callback) { callback() });\n",
       "      delete window._bokeh_onload_callbacks\n",
       "      console.info(\"Bokeh: all callbacks have finished\");\n",
       "    }\n",
       "  \n",
       "    function load_libs(js_urls, callback) {\n",
       "      window._bokeh_onload_callbacks.push(callback);\n",
       "      if (window._bokeh_is_loading > 0) {\n",
       "        console.log(\"Bokeh: BokehJS is being loaded, scheduling callback at\", now());\n",
       "        return null;\n",
       "      }\n",
       "      if (js_urls == null || js_urls.length === 0) {\n",
       "        run_callbacks();\n",
       "        return null;\n",
       "      }\n",
       "      console.log(\"Bokeh: BokehJS not loaded, scheduling load and callback at\", now());\n",
       "      window._bokeh_is_loading = js_urls.length;\n",
       "      for (var i = 0; i < js_urls.length; i++) {\n",
       "        var url = js_urls[i];\n",
       "        var s = document.createElement('script');\n",
       "        s.src = url;\n",
       "        s.async = false;\n",
       "        s.onreadystatechange = s.onload = function() {\n",
       "          window._bokeh_is_loading--;\n",
       "          if (window._bokeh_is_loading === 0) {\n",
       "            console.log(\"Bokeh: all BokehJS libraries loaded\");\n",
       "            run_callbacks()\n",
       "          }\n",
       "        };\n",
       "        s.onerror = function() {\n",
       "          console.warn(\"failed to load library \" + url);\n",
       "        };\n",
       "        console.log(\"Bokeh: injecting script tag for BokehJS library: \", url);\n",
       "        document.getElementsByTagName(\"head\")[0].appendChild(s);\n",
       "      }\n",
       "    };var element = document.getElementById(\"8bed012d-0ea7-49d3-b26c-e49873f58e3e\");\n",
       "    if (element == null) {\n",
       "      console.log(\"Bokeh: ERROR: autoload.js configured with elementid '8bed012d-0ea7-49d3-b26c-e49873f58e3e' but no matching script tag was found. \")\n",
       "      return false;\n",
       "    }\n",
       "  \n",
       "    var js_urls = [];\n",
       "  \n",
       "    var inline_js = [\n",
       "      function(Bokeh) {\n",
       "        Bokeh.$(function() {\n",
       "            var docs_json = {\"67ec2b1a-75b4-4475-bb79-8175754ef6e7\":{\"roots\":{\"references\":[{\"attributes\":{\"plot\":null,\"text\":\"Hover over points\"},\"id\":\"fe305ad9-c76d-4b4c-984b-9ada112728b1\",\"type\":\"Title\"},{\"attributes\":{\"fill_alpha\":{\"value\":0.1},\"fill_color\":{\"value\":\"#1f77b4\"},\"line_alpha\":{\"value\":0.1},\"line_color\":{\"value\":\"#1f77b4\"},\"size\":{\"units\":\"screen\",\"value\":20},\"x\":{\"field\":\"x\"},\"y\":{\"field\":\"y\"}},\"id\":\"134ee820-a3c0-4c07-a536-ca123c876b2a\",\"type\":\"Circle\"},{\"attributes\":{\"callback\":null,\"mode\":\"vline\",\"plot\":{\"id\":\"a1d0e61f-9050-4655-90de-60865522b9b1\",\"subtype\":\"Figure\",\"type\":\"Plot\"},\"renderers\":[{\"id\":\"f984bd52-74df-4c52-9f2c-756519c5b309\",\"type\":\"GlyphRenderer\"}],\"tooltips\":null},\"id\":\"f1a3289a-2ef8-412c-ad4a-6607f4862572\",\"type\":\"HoverTool\"},{\"attributes\":{\"days\":[1,4,7,10,13,16,19,22,25,28]},\"id\":\"4d14e6d7-7f70-4285-b78b-cd9bf90ac9c6\",\"type\":\"DaysTicker\"},{\"attributes\":{},\"id\":\"bf4aa6c7-1ac3-42d6-a6fc-c5162f6288c5\",\"type\":\"BasicTicker\"},{\"attributes\":{\"dimension\":1,\"plot\":{\"id\":\"a1d0e61f-9050-4655-90de-60865522b9b1\",\"subtype\":\"Figure\",\"type\":\"Plot\"},\"ticker\":{\"id\":\"bf4aa6c7-1ac3-42d6-a6fc-c5162f6288c5\",\"type\":\"BasicTicker\"}},\"id\":\"7411d338-d7aa-4f33-9143-090f027a33da\",\"type\":\"Grid\"},{\"attributes\":{\"active_drag\":\"auto\",\"active_scroll\":\"auto\",\"active_tap\":\"auto\",\"tools\":[{\"id\":\"f1a3289a-2ef8-412c-ad4a-6607f4862572\",\"type\":\"HoverTool\"}]},\"id\":\"2d27cea1-ca77-45b1-89f0-a9fc71dacfb6\",\"type\":\"Toolbar\"},{\"attributes\":{\"months\":[0,4,8]},\"id\":\"0b5147e4-1637-47a6-a688-ec72bfef6f8a\",\"type\":\"MonthsTicker\"},{\"attributes\":{\"callback\":null,\"column_names\":[\"y\",\"x\"],\"data\":{\"x\":[1286323380000.0,1286323680000.0,1286323980000.0,1286324280000.0,1286324580000.0,1286324880000.0,1286325180000.0,1286325480000.0,1286325780000.0,1286326080000.0,1286326380000.0,1286326680000.0,1286326980000.0,1286327280000.0,1286327580000.0,1286327880000.0,1286328180000.0,1286328480000.0,1286328780000.0,1286329080000.0,1286329380000.0,1286329680000.0,1286329980000.0,1286330280000.0,1286330580000.0,1286330880000.0,1286331180000.0,1286331480000.0,1286331780000.0,1286332080000.0,1286332380000.0,1286332680000.0,1286332980000.0,1286333280000.0,1286333580000.0,1286333880000.0,1286334180000.0,1286334480000.0,1286334780000.0,1286335080000.0,1286335380000.0,1286335680000.0,1286335980000.0,1286336280000.0,1286336580000.0,1286336880000.0,1286337180000.0,1286337480000.0,1286337780000.0,1286338080000.0,1286338380000.0,1286338680000.0,1286338980000.0,1286339280000.0,1286339580000.0,1286339880000.0,1286340180000.0,1286340480000.0,1286340780000.0,1286341080000.0,1286341380000.0,1286341680000.0,1286341980000.0,1286342280000.0,1286342580000.0,1286342880000.0,1286343180000.0,1286343480000.0,1286343780000.0,1286344080000.0,1286344380000.0,1286344680000.0,1286344980000.0,1286345280000.0,1286345580000.0,1286345880000.0,1286346180000.0,1286346480000.0,1286346780000.0,1286347080000.0,1286347380000.0,1286347680000.0,1286347980000.0,1286348280000.0,1286348580000.0,1286348880000.0,1286349180000.0,1286349480000.0,1286349780000.0,1286350080000.0,1286350380000.0,1286350680000.0,1286350980000.0,1286351280000.0,1286351580000.0,1286351880000.0,1286352180000.0,1286352480000.0,1286352780000.0,1286353080000.0,1286353380000.0,1286353680000.0,1286353980000.0,1286354280000.0,1286354580000.0,1286354880000.0,1286355180000.0,1286355480000.0,1286355780000.0,1286356080000.0,1286356380000.0,1286356680000.0,1286356980000.0,1286357280000.0,1286357580000.0,1286357880000.0,1286358180000.0,1286358480000.0,1286358780000.0,1286359080000.0,1286359380000.0,1286359680000.0,1286359980000.0,1286360280000.0,1286360580000.0,1286360880000.0,1286361180000.0,1286361480000.0,1286361780000.0,1286362080000.0,1286362380000.0,1286362680000.0,1286362980000.0,1286363280000.0,1286363580000.0,1286363880000.0,1286364180000.0,1286364480000.0,1286364780000.0,1286365080000.0,1286365380000.0,1286365680000.0,1286365980000.0,1286366280000.0,1286366580000.0,1286366880000.0,1286367180000.0,1286367480000.0,1286367780000.0,1286368080000.0,1286368380000.0,1286368680000.0,1286368980000.0,1286369280000.0,1286369580000.0,1286369880000.0,1286370180000.0,1286370480000.0,1286370780000.0,1286371080000.0,1286371380000.0,1286371680000.0,1286371980000.0,1286372280000.0,1286372580000.0,1286372880000.0,1286373180000.0,1286373480000.0,1286373780000.0,1286374080000.0,1286374380000.0,1286374680000.0,1286374980000.0,1286375280000.0,1286375580000.0,1286375880000.0,1286376180000.0,1286376480000.0,1286376780000.0,1286377080000.0,1286377380000.0,1286377680000.0,1286377980000.0,1286378280000.0,1286378580000.0,1286378880000.0,1286379180000.0,1286379480000.0,1286379780000.0,1286380080000.0,1286380380000.0,1286380680000.0,1286380980000.0,1286381280000.0,1286381580000.0,1286381880000.0,1286382180000.0,1286382480000.0,1286382780000.0,1286383080000.0,1286383380000.0,1286383680000.0,1286383980000.0,1286384280000.0,1286384580000.0,1286384880000.0,1286385180000.0,1286385480000.0,1286385780000.0,1286386080000.0,1286386380000.0,1286386680000.0,1286386980000.0,1286387280000.0,1286387580000.0,1286387880000.0,1286388180000.0,1286388480000.0,1286388780000.0,1286389080000.0,1286389380000.0,1286389680000.0,1286389980000.0,1286390280000.0,1286390580000.0,1286390880000.0,1286391180000.0,1286391480000.0,1286391780000.0,1286392080000.0,1286392380000.0,1286392680000.0,1286392980000.0,1286393280000.0,1286393580000.0,1286393880000.0,1286394180000.0,1286394480000.0,1286394780000.0,1286395080000.0,1286395380000.0,1286395680000.0,1286395980000.0,1286396280000.0,1286396580000.0,1286396880000.0,1286397180000.0,1286397480000.0,1286397780000.0,1286398080000.0,1286398380000.0,1286398680000.0,1286398980000.0,1286399280000.0,1286399580000.0,1286399880000.0,1286400180000.0,1286400480000.0,1286400780000.0,1286401080000.0,1286401380000.0,1286401680000.0,1286401980000.0,1286402280000.0,1286402580000.0,1286402880000.0,1286403180000.0,1286403480000.0,1286403780000.0,1286404080000.0,1286404380000.0,1286404680000.0,1286404980000.0,1286405280000.0,1286405580000.0,1286405880000.0,1286406180000.0,1286406480000.0,1286406780000.0,1286407080000.0,1286407380000.0,1286407680000.0,1286407980000.0,1286408280000.0,1286408580000.0,1286408880000.0,1286409180000.0,1286409480000.0],\"y\":[143,147,150,152,152,152,154,155,142,140,138,134,131,130,128,127,126,126,126,126,127,129,131,132,134,136,136,136,136,135,134,132,130,130,130,129,128,127,125,124,123,123,122,121,120,118,115,112,111,111,110,110,109,108,107,107,107,108,107,105,105,105,105,104,103,102,99,97,96,94,94,93,93,92,91,92,94,95,96,97,99,102,104,112,112,112,111,110,107,104,105,105,103,99,96,94,95,102,114,128,144,160,173,185,196,205,209,214,219,226,234,241,248,255,260,265,268,270,272,271,271,268,265,261,256,253,250,246,244,241,237,233,229,225,222,204,200,197,193,190,186,182,179,175,171,168,164,158,154,151,148,145,141,133,139,152,173,196,217,233,244,249,250,253,256,260,263,265,265,264,260,254,246,234,217,200,188,181,175,169,164,159,154,147,138,132,129,127,123,117,111,106,104,103,100,94,88,83,78,75,73,71,69,68,67,67,68,70,71,71,70,69,68,67,67,67,66,67,69,71,74,76,78,80,80,80,80,80,80,82,84,87,90,92,87,87,86,86,86,86,87,87,87,85,83,82,83,87,95,107,118,130,141,149,172,179,187,201,214,221,225,230,232,230,223,216,208,199,191,185,181,177,176,177,176,173,171,169,163,154,152,153,154,154,153,151,150,150]}},\"id\":\"c2134700-51c7-4fbe-bb0b-8991b470752c\",\"type\":\"ColumnDataSource\"},{\"attributes\":{},\"id\":\"f4dcedeb-80f1-4cbf-8189-4a27e6b7a14c\",\"type\":\"DatetimeTickFormatter\"},{\"attributes\":{\"callback\":null},\"id\":\"8555b056-4f8a-4f38-ae7e-2eb36619fbfd\",\"type\":\"DataRange1d\"},{\"attributes\":{\"months\":[0,1,2,3,4,5,6,7,8,9,10,11]},\"id\":\"9d7efa31-158d-4464-8b10-d4129695cd9b\",\"type\":\"MonthsTicker\"},{\"attributes\":{\"num_minor_ticks\":5},\"id\":\"6333f93a-cd09-4ead-96f2-6a509ebee3e7\",\"type\":\"DatetimeTicker\"},{\"attributes\":{\"max_interval\":500.0,\"num_minor_ticks\":0},\"id\":\"887b7c2e-a813-490d-bb21-d21ab76d6e74\",\"type\":\"AdaptiveTicker\"},{\"attributes\":{\"data_source\":{\"id\":\"5a0582f8-e66f-4136-b183-10ed795a5660\",\"type\":\"ColumnDataSource\"},\"glyph\":{\"id\":\"d77d7b88-5d8c-436d-ae35-456eb1559c59\",\"type\":\"Line\"},\"hover_glyph\":null,\"nonselection_glyph\":{\"id\":\"85e9ac10-497f-4a8d-9f06-ffa1edf10e7d\",\"type\":\"Line\"},\"selection_glyph\":null},\"id\":\"3bea4b87-198c-4391-873e-743b8b181e1d\",\"type\":\"GlyphRenderer\"},{\"attributes\":{\"data_source\":{\"id\":\"c2134700-51c7-4fbe-bb0b-8991b470752c\",\"type\":\"ColumnDataSource\"},\"glyph\":{\"id\":\"1d6fa1c5-438f-42b3-a29f-01b848469a70\",\"type\":\"Circle\"},\"hover_glyph\":{\"id\":\"6d08fdc8-3b51-4c03-9ea3-96853eaa946f\",\"type\":\"Circle\"},\"nonselection_glyph\":{\"id\":\"134ee820-a3c0-4c07-a536-ca123c876b2a\",\"type\":\"Circle\"},\"selection_glyph\":null},\"id\":\"f984bd52-74df-4c52-9f2c-756519c5b309\",\"type\":\"GlyphRenderer\"},{\"attributes\":{\"line_alpha\":{\"value\":0.1},\"line_color\":{\"value\":\"#1f77b4\"},\"line_dash\":[4,4],\"x\":{\"field\":\"x\"},\"y\":{\"field\":\"y\"}},\"id\":\"85e9ac10-497f-4a8d-9f06-ffa1edf10e7d\",\"type\":\"Line\"},{\"attributes\":{\"days\":[1,8,15,22]},\"id\":\"2f6886f4-0a89-4aa5-91e3-adaaab955f77\",\"type\":\"DaysTicker\"},{\"attributes\":{\"base\":60,\"mantissas\":[1,2,5,10,15,20,30],\"max_interval\":1800000.0,\"min_interval\":1000.0,\"num_minor_ticks\":0},\"id\":\"5ac11afb-3a4b-47a4-904f-80dc8bf86ddc\",\"type\":\"AdaptiveTicker\"},{\"attributes\":{\"formatter\":{\"id\":\"af67fbd0-4a89-44c4-9b51-74d07259097d\",\"type\":\"BasicTickFormatter\"},\"plot\":{\"id\":\"a1d0e61f-9050-4655-90de-60865522b9b1\",\"subtype\":\"Figure\",\"type\":\"Plot\"},\"ticker\":{\"id\":\"bf4aa6c7-1ac3-42d6-a6fc-c5162f6288c5\",\"type\":\"BasicTicker\"}},\"id\":\"88f9913d-eef3-449d-b374-d61a70632e4d\",\"type\":\"LinearAxis\"},{\"attributes\":{\"months\":[0,6]},\"id\":\"ba303493-e548-4750-bbef-e8c8e353534f\",\"type\":\"MonthsTicker\"},{\"attributes\":{\"months\":[0,2,4,6,8,10]},\"id\":\"6e0b2eb3-f524-46fc-a88f-42e62f3217ed\",\"type\":\"MonthsTicker\"},{\"attributes\":{\"days\":[1,2,3,4,5,6,7,8,9,10,11,12,13,14,15,16,17,18,19,20,21,22,23,24,25,26,27,28,29,30,31]},\"id\":\"ef4488aa-f783-4e87-bdf4-4dfbabc910f2\",\"type\":\"DaysTicker\"},{\"attributes\":{\"below\":[{\"id\":\"5b543933-9eb7-4c0d-a38b-785bbaa69086\",\"type\":\"DatetimeAxis\"}],\"left\":[{\"id\":\"88f9913d-eef3-449d-b374-d61a70632e4d\",\"type\":\"LinearAxis\"}],\"plot_height\":300,\"renderers\":[{\"id\":\"5b543933-9eb7-4c0d-a38b-785bbaa69086\",\"type\":\"DatetimeAxis\"},{\"id\":\"09b00936-84b4-43e4-be9f-dc563d8bf85c\",\"type\":\"Grid\"},{\"id\":\"88f9913d-eef3-449d-b374-d61a70632e4d\",\"type\":\"LinearAxis\"},{\"id\":\"7411d338-d7aa-4f33-9143-090f027a33da\",\"type\":\"Grid\"},{\"id\":\"3bea4b87-198c-4391-873e-743b8b181e1d\",\"type\":\"GlyphRenderer\"},{\"id\":\"f984bd52-74df-4c52-9f2c-756519c5b309\",\"type\":\"GlyphRenderer\"}],\"title\":{\"id\":\"fe305ad9-c76d-4b4c-984b-9ada112728b1\",\"type\":\"Title\"},\"tool_events\":{\"id\":\"160552dd-2246-42af-96a8-dcdc62820c04\",\"type\":\"ToolEvents\"},\"toolbar\":{\"id\":\"2d27cea1-ca77-45b1-89f0-a9fc71dacfb6\",\"type\":\"Toolbar\"},\"toolbar_location\":null,\"x_range\":{\"id\":\"8555b056-4f8a-4f38-ae7e-2eb36619fbfd\",\"type\":\"DataRange1d\"},\"y_range\":{\"id\":\"f6e3f220-9076-44fa-903c-a1ec8a704b13\",\"type\":\"DataRange1d\"}},\"id\":\"a1d0e61f-9050-4655-90de-60865522b9b1\",\"subtype\":\"Figure\",\"type\":\"Plot\"},{\"attributes\":{},\"id\":\"59d243a5-b187-4d37-80a1-bb561287d746\",\"type\":\"YearsTicker\"},{\"attributes\":{\"formatter\":{\"id\":\"f4dcedeb-80f1-4cbf-8189-4a27e6b7a14c\",\"type\":\"DatetimeTickFormatter\"},\"plot\":{\"id\":\"a1d0e61f-9050-4655-90de-60865522b9b1\",\"subtype\":\"Figure\",\"type\":\"Plot\"},\"ticker\":{\"id\":\"6333f93a-cd09-4ead-96f2-6a509ebee3e7\",\"type\":\"DatetimeTicker\"}},\"id\":\"5b543933-9eb7-4c0d-a38b-785bbaa69086\",\"type\":\"DatetimeAxis\"},{\"attributes\":{\"plot\":{\"id\":\"a1d0e61f-9050-4655-90de-60865522b9b1\",\"subtype\":\"Figure\",\"type\":\"Plot\"},\"ticker\":{\"id\":\"6333f93a-cd09-4ead-96f2-6a509ebee3e7\",\"type\":\"DatetimeTicker\"}},\"id\":\"09b00936-84b4-43e4-be9f-dc563d8bf85c\",\"type\":\"Grid\"},{\"attributes\":{\"base\":24,\"mantissas\":[1,2,4,6,8,12],\"max_interval\":43200000.0,\"min_interval\":3600000.0,\"num_minor_ticks\":0},\"id\":\"d782dc4b-ad21-4cd2-9316-e58313862f05\",\"type\":\"AdaptiveTicker\"},{\"attributes\":{\"line_color\":{\"value\":\"gray\"},\"line_dash\":[4,4],\"x\":{\"field\":\"x\"},\"y\":{\"field\":\"y\"}},\"id\":\"d77d7b88-5d8c-436d-ae35-456eb1559c59\",\"type\":\"Line\"},{\"attributes\":{\"fill_alpha\":{\"value\":0.3},\"fill_color\":{\"value\":\"firebrick\"},\"line_alpha\":{\"value\":0.3},\"line_color\":{\"value\":\"white\"},\"size\":{\"units\":\"screen\",\"value\":20},\"x\":{\"field\":\"x\"},\"y\":{\"field\":\"y\"}},\"id\":\"6d08fdc8-3b51-4c03-9ea3-96853eaa946f\",\"type\":\"Circle\"},{\"attributes\":{\"days\":[1,15]},\"id\":\"588a6024-e4f1-4e80-8c97-1cd805a964a3\",\"type\":\"DaysTicker\"},{\"attributes\":{\"callback\":null,\"column_names\":[\"y\",\"x\"],\"data\":{\"x\":[1286323380000.0,1286323680000.0,1286323980000.0,1286324280000.0,1286324580000.0,1286324880000.0,1286325180000.0,1286325480000.0,1286325780000.0,1286326080000.0,1286326380000.0,1286326680000.0,1286326980000.0,1286327280000.0,1286327580000.0,1286327880000.0,1286328180000.0,1286328480000.0,1286328780000.0,1286329080000.0,1286329380000.0,1286329680000.0,1286329980000.0,1286330280000.0,1286330580000.0,1286330880000.0,1286331180000.0,1286331480000.0,1286331780000.0,1286332080000.0,1286332380000.0,1286332680000.0,1286332980000.0,1286333280000.0,1286333580000.0,1286333880000.0,1286334180000.0,1286334480000.0,1286334780000.0,1286335080000.0,1286335380000.0,1286335680000.0,1286335980000.0,1286336280000.0,1286336580000.0,1286336880000.0,1286337180000.0,1286337480000.0,1286337780000.0,1286338080000.0,1286338380000.0,1286338680000.0,1286338980000.0,1286339280000.0,1286339580000.0,1286339880000.0,1286340180000.0,1286340480000.0,1286340780000.0,1286341080000.0,1286341380000.0,1286341680000.0,1286341980000.0,1286342280000.0,1286342580000.0,1286342880000.0,1286343180000.0,1286343480000.0,1286343780000.0,1286344080000.0,1286344380000.0,1286344680000.0,1286344980000.0,1286345280000.0,1286345580000.0,1286345880000.0,1286346180000.0,1286346480000.0,1286346780000.0,1286347080000.0,1286347380000.0,1286347680000.0,1286347980000.0,1286348280000.0,1286348580000.0,1286348880000.0,1286349180000.0,1286349480000.0,1286349780000.0,1286350080000.0,1286350380000.0,1286350680000.0,1286350980000.0,1286351280000.0,1286351580000.0,1286351880000.0,1286352180000.0,1286352480000.0,1286352780000.0,1286353080000.0,1286353380000.0,1286353680000.0,1286353980000.0,1286354280000.0,1286354580000.0,1286354880000.0,1286355180000.0,1286355480000.0,1286355780000.0,1286356080000.0,1286356380000.0,1286356680000.0,1286356980000.0,1286357280000.0,1286357580000.0,1286357880000.0,1286358180000.0,1286358480000.0,1286358780000.0,1286359080000.0,1286359380000.0,1286359680000.0,1286359980000.0,1286360280000.0,1286360580000.0,1286360880000.0,1286361180000.0,1286361480000.0,1286361780000.0,1286362080000.0,1286362380000.0,1286362680000.0,1286362980000.0,1286363280000.0,1286363580000.0,1286363880000.0,1286364180000.0,1286364480000.0,1286364780000.0,1286365080000.0,1286365380000.0,1286365680000.0,1286365980000.0,1286366280000.0,1286366580000.0,1286366880000.0,1286367180000.0,1286367480000.0,1286367780000.0,1286368080000.0,1286368380000.0,1286368680000.0,1286368980000.0,1286369280000.0,1286369580000.0,1286369880000.0,1286370180000.0,1286370480000.0,1286370780000.0,1286371080000.0,1286371380000.0,1286371680000.0,1286371980000.0,1286372280000.0,1286372580000.0,1286372880000.0,1286373180000.0,1286373480000.0,1286373780000.0,1286374080000.0,1286374380000.0,1286374680000.0,1286374980000.0,1286375280000.0,1286375580000.0,1286375880000.0,1286376180000.0,1286376480000.0,1286376780000.0,1286377080000.0,1286377380000.0,1286377680000.0,1286377980000.0,1286378280000.0,1286378580000.0,1286378880000.0,1286379180000.0,1286379480000.0,1286379780000.0,1286380080000.0,1286380380000.0,1286380680000.0,1286380980000.0,1286381280000.0,1286381580000.0,1286381880000.0,1286382180000.0,1286382480000.0,1286382780000.0,1286383080000.0,1286383380000.0,1286383680000.0,1286383980000.0,1286384280000.0,1286384580000.0,1286384880000.0,1286385180000.0,1286385480000.0,1286385780000.0,1286386080000.0,1286386380000.0,1286386680000.0,1286386980000.0,1286387280000.0,1286387580000.0,1286387880000.0,1286388180000.0,1286388480000.0,1286388780000.0,1286389080000.0,1286389380000.0,1286389680000.0,1286389980000.0,1286390280000.0,1286390580000.0,1286390880000.0,1286391180000.0,1286391480000.0,1286391780000.0,1286392080000.0,1286392380000.0,1286392680000.0,1286392980000.0,1286393280000.0,1286393580000.0,1286393880000.0,1286394180000.0,1286394480000.0,1286394780000.0,1286395080000.0,1286395380000.0,1286395680000.0,1286395980000.0,1286396280000.0,1286396580000.0,1286396880000.0,1286397180000.0,1286397480000.0,1286397780000.0,1286398080000.0,1286398380000.0,1286398680000.0,1286398980000.0,1286399280000.0,1286399580000.0,1286399880000.0,1286400180000.0,1286400480000.0,1286400780000.0,1286401080000.0,1286401380000.0,1286401680000.0,1286401980000.0,1286402280000.0,1286402580000.0,1286402880000.0,1286403180000.0,1286403480000.0,1286403780000.0,1286404080000.0,1286404380000.0,1286404680000.0,1286404980000.0,1286405280000.0,1286405580000.0,1286405880000.0,1286406180000.0,1286406480000.0,1286406780000.0,1286407080000.0,1286407380000.0,1286407680000.0,1286407980000.0,1286408280000.0,1286408580000.0,1286408880000.0,1286409180000.0,1286409480000.0],\"y\":[143,147,150,152,152,152,154,155,142,140,138,134,131,130,128,127,126,126,126,126,127,129,131,132,134,136,136,136,136,135,134,132,130,130,130,129,128,127,125,124,123,123,122,121,120,118,115,112,111,111,110,110,109,108,107,107,107,108,107,105,105,105,105,104,103,102,99,97,96,94,94,93,93,92,91,92,94,95,96,97,99,102,104,112,112,112,111,110,107,104,105,105,103,99,96,94,95,102,114,128,144,160,173,185,196,205,209,214,219,226,234,241,248,255,260,265,268,270,272,271,271,268,265,261,256,253,250,246,244,241,237,233,229,225,222,204,200,197,193,190,186,182,179,175,171,168,164,158,154,151,148,145,141,133,139,152,173,196,217,233,244,249,250,253,256,260,263,265,265,264,260,254,246,234,217,200,188,181,175,169,164,159,154,147,138,132,129,127,123,117,111,106,104,103,100,94,88,83,78,75,73,71,69,68,67,67,68,70,71,71,70,69,68,67,67,67,66,67,69,71,74,76,78,80,80,80,80,80,80,82,84,87,90,92,87,87,86,86,86,86,87,87,87,85,83,82,83,87,95,107,118,130,141,149,172,179,187,201,214,221,225,230,232,230,223,216,208,199,191,185,181,177,176,177,176,173,171,169,163,154,152,153,154,154,153,151,150,150]}},\"id\":\"5a0582f8-e66f-4136-b183-10ed795a5660\",\"type\":\"ColumnDataSource\"},{\"attributes\":{\"callback\":null},\"id\":\"f6e3f220-9076-44fa-903c-a1ec8a704b13\",\"type\":\"DataRange1d\"},{\"attributes\":{},\"id\":\"af67fbd0-4a89-44c4-9b51-74d07259097d\",\"type\":\"BasicTickFormatter\"},{\"attributes\":{},\"id\":\"160552dd-2246-42af-96a8-dcdc62820c04\",\"type\":\"ToolEvents\"},{\"attributes\":{\"fill_alpha\":{\"value\":0.05},\"fill_color\":{\"value\":\"grey\"},\"line_color\":{\"value\":null},\"size\":{\"units\":\"screen\",\"value\":20},\"x\":{\"field\":\"x\"},\"y\":{\"field\":\"y\"}},\"id\":\"1d6fa1c5-438f-42b3-a29f-01b848469a70\",\"type\":\"Circle\"}],\"root_ids\":[\"a1d0e61f-9050-4655-90de-60865522b9b1\"]},\"title\":\"Bokeh Application\",\"version\":\"0.12.1\"}};\n",
       "            var render_items = [{\"docid\":\"67ec2b1a-75b4-4475-bb79-8175754ef6e7\",\"elementid\":\"8bed012d-0ea7-49d3-b26c-e49873f58e3e\",\"modelid\":\"a1d0e61f-9050-4655-90de-60865522b9b1\",\"notebook_comms_target\":\"d11ac2d5-2440-4b3c-ae5e-61a6f9d1033c\"}];\n",
       "            \n",
       "            Bokeh.embed.embed_items(docs_json, render_items);\n",
       "        });\n",
       "      },\n",
       "      function(Bokeh) {\n",
       "      }\n",
       "    ];\n",
       "  \n",
       "    function run_inline_js() {\n",
       "      for (var i = 0; i < inline_js.length; i++) {\n",
       "        inline_js[i](window.Bokeh);\n",
       "      }\n",
       "    }\n",
       "  \n",
       "    if (window._bokeh_is_loading === 0) {\n",
       "      console.log(\"Bokeh: BokehJS loaded, going straight to plotting\");\n",
       "      run_inline_js();\n",
       "    } else {\n",
       "      load_libs(js_urls, function() {\n",
       "        console.log(\"Bokeh: BokehJS plotting callback run at\", now());\n",
       "        run_inline_js();\n",
       "      });\n",
       "    }\n",
       "  }(this));\n",
       "</script>"
      ]
     },
     "metadata": {},
     "output_type": "display_data"
    },
    {
     "data": {
      "text/html": [
       "<p><code>&lt;Bokeh Notebook handle for <strong>In[4]</strong>&gt;</code></p>"
      ],
      "text/plain": [
       "<bokeh.io._CommsHandle at 0x10bb93b10>"
      ]
     },
     "execution_count": 41,
     "metadata": {},
     "output_type": "execute_result"
    }
   ],
   "source": [
    "# Basic plot setup\n",
    "p = figure(width=600, height=300, x_axis_type=\"datetime\", tools=\"\",\n",
    "              toolbar_location=None, \n",
    "           title='Hover over points')\n",
    "\n",
    "p.line(x, y, line_dash=\"4 4\", line_width=1, color='gray')\n",
    "\n",
    "cr = p.circle(x, y, size=20,\n",
    "              fill_color=\"grey\", hover_fill_color=\"firebrick\",\n",
    "              fill_alpha=0.05, hover_alpha=0.3,\n",
    "              line_color=None, hover_line_color=\"white\"\n",
    "             )\n",
    "\n",
    "p.add_tools(HoverTool(tooltips=None, renderers=[cr], mode='vline'))\n",
    "\n",
    "show(p)"
   ]
  },
  {
   "cell_type": "code",
   "execution_count": 8,
   "metadata": {
    "collapsed": true
   },
   "outputs": [],
   "source": [
    "# EXERCISE: experiment with standard, selected, hover glyph visual properties\n"
   ]
  },
  {
   "cell_type": "markdown",
   "metadata": {},
   "source": [
    "# Axes\n",
    "\n",
    "[Axes](http://bokeh.pydata.org/en/latest/docs/user_guide/styling.html#axes)\n",
    "\n",
    "To style axes, you first must get ahold of `Axis` objects. The simplest way is to use some convenience methods on `Plot`: [axis](http://bokeh.pydata.org/en/latest/docs/reference/plotting.html#bokeh.plotting.Figure.axis), [xaxis](http://bokeh.pydata.org/en/latest/docs/reference/plotting.html#bokeh.plotting.Figure.xaxis), and [yaxis](http://bokeh.pydata.org/en/latest/docs/reference/plotting.html#bokeh.plotting.Figure.yaxis). These methods return lists of axis objects:\n",
    "\n",
    "```\n",
    ">>> p.xaxis\n",
    "[<bokeh.models.axes.LinearAxis at 0x106fa2390>]\n",
    "```\n",
    "However, you can set properties on all the elements of the list as if it was a single object:\n",
    "```\n",
    "p.xaxis.axis_label = \"Temperature\"\n",
    "p.axis.major_label_text_color = \"orange\"\n",
    "```\n",
    "These are referred to as \"splattable\" lists, and tab completion works on them as well. \n"
   ]
  },
  {
   "cell_type": "code",
   "execution_count": 9,
   "metadata": {
    "collapsed": true
   },
   "outputs": [],
   "source": [
    "# EXERCISE Try out tab completion. Type p.xaxis.<press tab key> to see a list of attributes that can be set.\n",
    "\n",
    "p.xaxis."
   ]
  },
  {
   "cell_type": "markdown",
   "metadata": {},
   "source": [
    "* **axis** \n",
    " - [line properties](http://bokeh.pydata.org/en/latest/docs/user_guide/styling.html#line-properties)\n",
    "* **axis_label** \n",
    " - [text properties](http://bokeh.pydata.org/en/latest/docs/user_guide/styling.html#text-properties)\n",
    " - ``axis_label_standoff``\n",
    "* **major_label** \n",
    " - [text properties](http://bokeh.pydata.org/en/latest/docs/user_guide/styling.html#text-properties)\n",
    " - ``orientation``\n",
    "* **major_tick** \n",
    " - [line_properties](http://bokeh.pydata.org/en/latest/docs/user_guide/styling.html#line-properties)\n",
    " - ``major_tick_in`` \n",
    " - ``major_tick_out``\n",
    "* **minor_tick** \n",
    " - [line properties](http://bokeh.pydata.org/en/latest/docs/user_guide/styling.html#line-properties)\n",
    " - ``minor_tick_in``\n",
    " - ``minor_tick_out``\n",
    "\n",
    "As a simple first example, let's change the orientation of the major tick labels on both axes of a plot:"
   ]
  },
  {
   "cell_type": "code",
   "execution_count": 44,
   "metadata": {
    "collapsed": false
   },
   "outputs": [
    {
     "data": {
      "text/html": [
       "\n",
       "\n",
       "    <div class=\"bk-root\">\n",
       "        <div class=\"plotdiv\" id=\"f9b8b228-8133-45d4-8fe7-57cabe5eefb9\"></div>\n",
       "    </div>\n",
       "<script type=\"text/javascript\">\n",
       "  \n",
       "  (function(global) {\n",
       "    function now() {\n",
       "      return new Date();\n",
       "    }\n",
       "  \n",
       "    var force = \"\";\n",
       "  \n",
       "    if (typeof (window._bokeh_onload_callbacks) === \"undefined\" || force !== \"\") {\n",
       "      window._bokeh_onload_callbacks = [];\n",
       "      window._bokeh_is_loading = undefined;\n",
       "    }\n",
       "  \n",
       "    function run_callbacks() {\n",
       "      window._bokeh_onload_callbacks.forEach(function(callback) { callback() });\n",
       "      delete window._bokeh_onload_callbacks\n",
       "      console.info(\"Bokeh: all callbacks have finished\");\n",
       "    }\n",
       "  \n",
       "    function load_libs(js_urls, callback) {\n",
       "      window._bokeh_onload_callbacks.push(callback);\n",
       "      if (window._bokeh_is_loading > 0) {\n",
       "        console.log(\"Bokeh: BokehJS is being loaded, scheduling callback at\", now());\n",
       "        return null;\n",
       "      }\n",
       "      if (js_urls == null || js_urls.length === 0) {\n",
       "        run_callbacks();\n",
       "        return null;\n",
       "      }\n",
       "      console.log(\"Bokeh: BokehJS not loaded, scheduling load and callback at\", now());\n",
       "      window._bokeh_is_loading = js_urls.length;\n",
       "      for (var i = 0; i < js_urls.length; i++) {\n",
       "        var url = js_urls[i];\n",
       "        var s = document.createElement('script');\n",
       "        s.src = url;\n",
       "        s.async = false;\n",
       "        s.onreadystatechange = s.onload = function() {\n",
       "          window._bokeh_is_loading--;\n",
       "          if (window._bokeh_is_loading === 0) {\n",
       "            console.log(\"Bokeh: all BokehJS libraries loaded\");\n",
       "            run_callbacks()\n",
       "          }\n",
       "        };\n",
       "        s.onerror = function() {\n",
       "          console.warn(\"failed to load library \" + url);\n",
       "        };\n",
       "        console.log(\"Bokeh: injecting script tag for BokehJS library: \", url);\n",
       "        document.getElementsByTagName(\"head\")[0].appendChild(s);\n",
       "      }\n",
       "    };var element = document.getElementById(\"f9b8b228-8133-45d4-8fe7-57cabe5eefb9\");\n",
       "    if (element == null) {\n",
       "      console.log(\"Bokeh: ERROR: autoload.js configured with elementid 'f9b8b228-8133-45d4-8fe7-57cabe5eefb9' but no matching script tag was found. \")\n",
       "      return false;\n",
       "    }\n",
       "  \n",
       "    var js_urls = [];\n",
       "  \n",
       "    var inline_js = [\n",
       "      function(Bokeh) {\n",
       "        Bokeh.$(function() {\n",
       "            var docs_json = {\"46ab6da5-32cc-4645-89f6-4a8b4bbde72a\":{\"roots\":{\"references\":[{\"attributes\":{\"formatter\":{\"id\":\"702677c6-5d9c-4cdb-aa6a-a207e65dba8b\",\"type\":\"BasicTickFormatter\"},\"major_label_orientation\":\"vertical\",\"plot\":{\"id\":\"362117aa-5cb6-43b8-8dba-7d4c72ad9bfe\",\"subtype\":\"Figure\",\"type\":\"Plot\"},\"ticker\":{\"id\":\"088355c7-4a24-44dc-a9c7-f37adda7aadb\",\"type\":\"BasicTicker\"}},\"id\":\"1aeaead8-ea06-4613-b962-7c8b195cb94a\",\"type\":\"LinearAxis\"},{\"attributes\":{\"plot\":null,\"text\":null},\"id\":\"23e2aa95-2086-4619-844c-1b217dfd3319\",\"type\":\"Title\"},{\"attributes\":{},\"id\":\"bd3aa312-cece-4061-a053-f7682dee96b8\",\"type\":\"BasicTicker\"},{\"attributes\":{},\"id\":\"a1eeccb1-955d-465b-9cc8-2d2d71e5da69\",\"type\":\"BasicTickFormatter\"},{\"attributes\":{\"data_source\":{\"id\":\"e3ecc4bf-c445-4ebe-9cc1-16fdf56501d0\",\"type\":\"ColumnDataSource\"},\"glyph\":{\"id\":\"56b5762e-8686-44a2-9f12-87fed3fa72da\",\"type\":\"X\"},\"hover_glyph\":null,\"nonselection_glyph\":{\"id\":\"31f1f508-d51a-4b88-8453-e18d4ad95781\",\"type\":\"X\"},\"selection_glyph\":null},\"id\":\"ddb2a644-7d79-4ba4-a27b-da68580ecd52\",\"type\":\"GlyphRenderer\"},{\"attributes\":{},\"id\":\"702677c6-5d9c-4cdb-aa6a-a207e65dba8b\",\"type\":\"BasicTickFormatter\"},{\"attributes\":{\"callback\":null,\"column_names\":[\"y\",\"x\"],\"data\":{\"x\":[1,2,3,4,5],\"y\":[2,5,8,2,7]}},\"id\":\"e3ecc4bf-c445-4ebe-9cc1-16fdf56501d0\",\"type\":\"ColumnDataSource\"},{\"attributes\":{\"below\":[{\"id\":\"7fc4f507-f5fd-4a06-ae1d-8e59a447f9c4\",\"type\":\"LinearAxis\"}],\"left\":[{\"id\":\"1aeaead8-ea06-4613-b962-7c8b195cb94a\",\"type\":\"LinearAxis\"}],\"plot_height\":400,\"plot_width\":400,\"renderers\":[{\"id\":\"7fc4f507-f5fd-4a06-ae1d-8e59a447f9c4\",\"type\":\"LinearAxis\"},{\"id\":\"4a459f8c-4e73-47c6-a0a0-b3b2b602bc89\",\"type\":\"Grid\"},{\"id\":\"1aeaead8-ea06-4613-b962-7c8b195cb94a\",\"type\":\"LinearAxis\"},{\"id\":\"45f04f22-3f81-4e41-803e-3eba99133dbd\",\"type\":\"Grid\"},{\"id\":\"07b62e4b-2ef6-4bde-a2c5-a195791fdc17\",\"type\":\"BoxAnnotation\"},{\"id\":\"ddb2a644-7d79-4ba4-a27b-da68580ecd52\",\"type\":\"GlyphRenderer\"}],\"title\":{\"id\":\"23e2aa95-2086-4619-844c-1b217dfd3319\",\"type\":\"Title\"},\"tool_events\":{\"id\":\"6f1218b4-fda2-473e-87d8-8c57ef481d80\",\"type\":\"ToolEvents\"},\"toolbar\":{\"id\":\"097d4ea1-24c6-4708-8ef0-b902dba32b26\",\"type\":\"Toolbar\"},\"x_range\":{\"id\":\"aa3d4f7a-9103-4ff0-b258-b41d611abc4d\",\"type\":\"DataRange1d\"},\"y_range\":{\"id\":\"3640bd4b-e157-49d4-8c38-97c46bbba9cb\",\"type\":\"DataRange1d\"}},\"id\":\"362117aa-5cb6-43b8-8dba-7d4c72ad9bfe\",\"subtype\":\"Figure\",\"type\":\"Plot\"},{\"attributes\":{\"callback\":null},\"id\":\"3640bd4b-e157-49d4-8c38-97c46bbba9cb\",\"type\":\"DataRange1d\"},{\"attributes\":{\"fill_alpha\":{\"value\":0.1},\"fill_color\":{\"value\":\"#1f77b4\"},\"line_alpha\":{\"value\":0.1},\"line_color\":{\"value\":\"#1f77b4\"},\"line_width\":{\"value\":2},\"size\":{\"units\":\"screen\",\"value\":10},\"x\":{\"field\":\"x\"},\"y\":{\"field\":\"y\"}},\"id\":\"31f1f508-d51a-4b88-8453-e18d4ad95781\",\"type\":\"X\"},{\"attributes\":{\"fill_color\":{\"value\":\"#1f77b4\"},\"line_color\":{\"value\":\"#1f77b4\"},\"line_width\":{\"value\":2},\"size\":{\"units\":\"screen\",\"value\":10},\"x\":{\"field\":\"x\"},\"y\":{\"field\":\"y\"}},\"id\":\"56b5762e-8686-44a2-9f12-87fed3fa72da\",\"type\":\"X\"},{\"attributes\":{},\"id\":\"6f1218b4-fda2-473e-87d8-8c57ef481d80\",\"type\":\"ToolEvents\"},{\"attributes\":{\"dimension\":1,\"plot\":{\"id\":\"362117aa-5cb6-43b8-8dba-7d4c72ad9bfe\",\"subtype\":\"Figure\",\"type\":\"Plot\"},\"ticker\":{\"id\":\"088355c7-4a24-44dc-a9c7-f37adda7aadb\",\"type\":\"BasicTicker\"}},\"id\":\"45f04f22-3f81-4e41-803e-3eba99133dbd\",\"type\":\"Grid\"},{\"attributes\":{\"plot\":{\"id\":\"362117aa-5cb6-43b8-8dba-7d4c72ad9bfe\",\"subtype\":\"Figure\",\"type\":\"Plot\"}},\"id\":\"758fd876-427a-4433-b7bc-6eb378b17b6c\",\"type\":\"ResetTool\"},{\"attributes\":{\"bottom_units\":\"screen\",\"fill_alpha\":{\"value\":0.5},\"fill_color\":{\"value\":\"lightgrey\"},\"left_units\":\"screen\",\"level\":\"overlay\",\"line_alpha\":{\"value\":1.0},\"line_color\":{\"value\":\"black\"},\"line_dash\":[4,4],\"line_width\":{\"value\":2},\"plot\":null,\"render_mode\":\"css\",\"right_units\":\"screen\",\"top_units\":\"screen\"},\"id\":\"07b62e4b-2ef6-4bde-a2c5-a195791fdc17\",\"type\":\"BoxAnnotation\"},{\"attributes\":{\"plot\":{\"id\":\"362117aa-5cb6-43b8-8dba-7d4c72ad9bfe\",\"subtype\":\"Figure\",\"type\":\"Plot\"}},\"id\":\"309d8e2e-dc36-48ea-9d33-38afdca647da\",\"type\":\"HelpTool\"},{\"attributes\":{\"active_drag\":\"auto\",\"active_scroll\":\"auto\",\"active_tap\":\"auto\",\"tools\":[{\"id\":\"6a932198-b0a2-4933-9544-ae3ea8f414f3\",\"type\":\"PanTool\"},{\"id\":\"2ea3ebc5-1e9a-4992-b9b9-5bba94d8fd5a\",\"type\":\"WheelZoomTool\"},{\"id\":\"64e69e75-9241-4170-be00-e8d66c8d1e31\",\"type\":\"BoxZoomTool\"},{\"id\":\"16a0b989-ba23-48e7-92d2-a4d5ee86c4e6\",\"type\":\"SaveTool\"},{\"id\":\"758fd876-427a-4433-b7bc-6eb378b17b6c\",\"type\":\"ResetTool\"},{\"id\":\"309d8e2e-dc36-48ea-9d33-38afdca647da\",\"type\":\"HelpTool\"}]},\"id\":\"097d4ea1-24c6-4708-8ef0-b902dba32b26\",\"type\":\"Toolbar\"},{\"attributes\":{\"plot\":{\"id\":\"362117aa-5cb6-43b8-8dba-7d4c72ad9bfe\",\"subtype\":\"Figure\",\"type\":\"Plot\"}},\"id\":\"16a0b989-ba23-48e7-92d2-a4d5ee86c4e6\",\"type\":\"SaveTool\"},{\"attributes\":{\"overlay\":{\"id\":\"07b62e4b-2ef6-4bde-a2c5-a195791fdc17\",\"type\":\"BoxAnnotation\"},\"plot\":{\"id\":\"362117aa-5cb6-43b8-8dba-7d4c72ad9bfe\",\"subtype\":\"Figure\",\"type\":\"Plot\"}},\"id\":\"64e69e75-9241-4170-be00-e8d66c8d1e31\",\"type\":\"BoxZoomTool\"},{\"attributes\":{\"plot\":{\"id\":\"362117aa-5cb6-43b8-8dba-7d4c72ad9bfe\",\"subtype\":\"Figure\",\"type\":\"Plot\"}},\"id\":\"6a932198-b0a2-4933-9544-ae3ea8f414f3\",\"type\":\"PanTool\"},{\"attributes\":{\"plot\":{\"id\":\"362117aa-5cb6-43b8-8dba-7d4c72ad9bfe\",\"subtype\":\"Figure\",\"type\":\"Plot\"}},\"id\":\"2ea3ebc5-1e9a-4992-b9b9-5bba94d8fd5a\",\"type\":\"WheelZoomTool\"},{\"attributes\":{},\"id\":\"088355c7-4a24-44dc-a9c7-f37adda7aadb\",\"type\":\"BasicTicker\"},{\"attributes\":{\"callback\":null},\"id\":\"aa3d4f7a-9103-4ff0-b258-b41d611abc4d\",\"type\":\"DataRange1d\"},{\"attributes\":{\"formatter\":{\"id\":\"a1eeccb1-955d-465b-9cc8-2d2d71e5da69\",\"type\":\"BasicTickFormatter\"},\"major_label_orientation\":0.7853981633974483,\"plot\":{\"id\":\"362117aa-5cb6-43b8-8dba-7d4c72ad9bfe\",\"subtype\":\"Figure\",\"type\":\"Plot\"},\"ticker\":{\"id\":\"bd3aa312-cece-4061-a053-f7682dee96b8\",\"type\":\"BasicTicker\"}},\"id\":\"7fc4f507-f5fd-4a06-ae1d-8e59a447f9c4\",\"type\":\"LinearAxis\"},{\"attributes\":{\"plot\":{\"id\":\"362117aa-5cb6-43b8-8dba-7d4c72ad9bfe\",\"subtype\":\"Figure\",\"type\":\"Plot\"},\"ticker\":{\"id\":\"bd3aa312-cece-4061-a053-f7682dee96b8\",\"type\":\"BasicTicker\"}},\"id\":\"4a459f8c-4e73-47c6-a0a0-b3b2b602bc89\",\"type\":\"Grid\"}],\"root_ids\":[\"362117aa-5cb6-43b8-8dba-7d4c72ad9bfe\"]},\"title\":\"Bokeh Application\",\"version\":\"0.12.1\"}};\n",
       "            var render_items = [{\"docid\":\"46ab6da5-32cc-4645-89f6-4a8b4bbde72a\",\"elementid\":\"f9b8b228-8133-45d4-8fe7-57cabe5eefb9\",\"modelid\":\"362117aa-5cb6-43b8-8dba-7d4c72ad9bfe\",\"notebook_comms_target\":\"8ef0588f-2ec1-4c2d-80c5-af67324aea31\"}];\n",
       "            \n",
       "            Bokeh.embed.embed_items(docs_json, render_items);\n",
       "        });\n",
       "      },\n",
       "      function(Bokeh) {\n",
       "      }\n",
       "    ];\n",
       "  \n",
       "    function run_inline_js() {\n",
       "      for (var i = 0; i < inline_js.length; i++) {\n",
       "        inline_js[i](window.Bokeh);\n",
       "      }\n",
       "    }\n",
       "  \n",
       "    if (window._bokeh_is_loading === 0) {\n",
       "      console.log(\"Bokeh: BokehJS loaded, going straight to plotting\");\n",
       "      run_inline_js();\n",
       "    } else {\n",
       "      load_libs(js_urls, function() {\n",
       "        console.log(\"Bokeh: BokehJS plotting callback run at\", now());\n",
       "        run_inline_js();\n",
       "      });\n",
       "    }\n",
       "  }(this));\n",
       "</script>"
      ]
     },
     "metadata": {},
     "output_type": "display_data"
    },
    {
     "data": {
      "text/html": [
       "<p><code>&lt;Bokeh Notebook handle for <strong>In[4]</strong>&gt;</code></p>"
      ],
      "text/plain": [
       "<bokeh.io._CommsHandle at 0x10bc16850>"
      ]
     },
     "execution_count": 44,
     "metadata": {},
     "output_type": "execute_result"
    }
   ],
   "source": [
    "from math import pi\n",
    "\n",
    "p = figure(plot_width=400, plot_height=400)\n",
    "p.x([1,2,3,4,5], [2,5,8,2,7], size=10, line_width=2)\n",
    "\n",
    "p.xaxis.major_label_orientation = pi/4\n",
    "p.yaxis.major_label_orientation = \"vertical\"\n",
    "\n",
    "show(p)"
   ]
  },
  {
   "cell_type": "markdown",
   "metadata": {},
   "source": [
    "The next example shows customizations on several of the different Axis properties at once:"
   ]
  },
  {
   "cell_type": "code",
   "execution_count": 61,
   "metadata": {
    "collapsed": false
   },
   "outputs": [
    {
     "data": {
      "text/html": [
       "\n",
       "\n",
       "    <div class=\"bk-root\">\n",
       "        <div class=\"plotdiv\" id=\"6d33c414-ac22-46cd-a882-d70ccf279227\"></div>\n",
       "    </div>\n",
       "<script type=\"text/javascript\">\n",
       "  \n",
       "  (function(global) {\n",
       "    function now() {\n",
       "      return new Date();\n",
       "    }\n",
       "  \n",
       "    var force = \"\";\n",
       "  \n",
       "    if (typeof (window._bokeh_onload_callbacks) === \"undefined\" || force !== \"\") {\n",
       "      window._bokeh_onload_callbacks = [];\n",
       "      window._bokeh_is_loading = undefined;\n",
       "    }\n",
       "  \n",
       "    function run_callbacks() {\n",
       "      window._bokeh_onload_callbacks.forEach(function(callback) { callback() });\n",
       "      delete window._bokeh_onload_callbacks\n",
       "      console.info(\"Bokeh: all callbacks have finished\");\n",
       "    }\n",
       "  \n",
       "    function load_libs(js_urls, callback) {\n",
       "      window._bokeh_onload_callbacks.push(callback);\n",
       "      if (window._bokeh_is_loading > 0) {\n",
       "        console.log(\"Bokeh: BokehJS is being loaded, scheduling callback at\", now());\n",
       "        return null;\n",
       "      }\n",
       "      if (js_urls == null || js_urls.length === 0) {\n",
       "        run_callbacks();\n",
       "        return null;\n",
       "      }\n",
       "      console.log(\"Bokeh: BokehJS not loaded, scheduling load and callback at\", now());\n",
       "      window._bokeh_is_loading = js_urls.length;\n",
       "      for (var i = 0; i < js_urls.length; i++) {\n",
       "        var url = js_urls[i];\n",
       "        var s = document.createElement('script');\n",
       "        s.src = url;\n",
       "        s.async = false;\n",
       "        s.onreadystatechange = s.onload = function() {\n",
       "          window._bokeh_is_loading--;\n",
       "          if (window._bokeh_is_loading === 0) {\n",
       "            console.log(\"Bokeh: all BokehJS libraries loaded\");\n",
       "            run_callbacks()\n",
       "          }\n",
       "        };\n",
       "        s.onerror = function() {\n",
       "          console.warn(\"failed to load library \" + url);\n",
       "        };\n",
       "        console.log(\"Bokeh: injecting script tag for BokehJS library: \", url);\n",
       "        document.getElementsByTagName(\"head\")[0].appendChild(s);\n",
       "      }\n",
       "    };var element = document.getElementById(\"6d33c414-ac22-46cd-a882-d70ccf279227\");\n",
       "    if (element == null) {\n",
       "      console.log(\"Bokeh: ERROR: autoload.js configured with elementid '6d33c414-ac22-46cd-a882-d70ccf279227' but no matching script tag was found. \")\n",
       "      return false;\n",
       "    }\n",
       "  \n",
       "    var js_urls = [];\n",
       "  \n",
       "    var inline_js = [\n",
       "      function(Bokeh) {\n",
       "        Bokeh.$(function() {\n",
       "            var docs_json = {\"709b021a-0938-4fff-b433-3003175526ea\":{\"roots\":{\"references\":[{\"attributes\":{\"callback\":null,\"column_names\":[\"y\",\"x\"],\"data\":{\"x\":[1,2,3,4,5],\"y\":[2,5,8,2,7]}},\"id\":\"4e5837c2-fedc-4ab2-b775-eec73accd1de\",\"type\":\"ColumnDataSource\"},{\"attributes\":{\"active_drag\":\"auto\",\"active_scroll\":\"auto\",\"active_tap\":\"auto\",\"tools\":[{\"id\":\"4b4074b1-f630-4f08-8803-2a44ce38bc79\",\"type\":\"PanTool\"},{\"id\":\"e9177e27-2024-4b11-aa51-a774b78b4e32\",\"type\":\"WheelZoomTool\"},{\"id\":\"ca74db60-8848-464a-8f9e-ad572ed200ed\",\"type\":\"BoxZoomTool\"},{\"id\":\"4a626185-11f6-40d0-80b9-07fa0fe63b23\",\"type\":\"SaveTool\"},{\"id\":\"7c37a438-e9c9-4ba2-af97-3ae4289deb9d\",\"type\":\"ResetTool\"},{\"id\":\"e210d862-cfbd-496b-aaed-24215f2d0b26\",\"type\":\"HelpTool\"}]},\"id\":\"35f63d47-afc3-42e3-9e9c-f0d34f0b49d3\",\"type\":\"Toolbar\"},{\"attributes\":{\"dimension\":1,\"plot\":{\"id\":\"7dbdce55-98fe-44b7-af85-2e7ec3cefb46\",\"subtype\":\"Figure\",\"type\":\"Plot\"},\"ticker\":{\"id\":\"a9e9dd5f-ff6d-4436-8774-fd73a828c416\",\"type\":\"BasicTicker\"}},\"id\":\"f6fe0899-2adf-4139-8dcf-02ae9d5b8266\",\"type\":\"Grid\"},{\"attributes\":{\"overlay\":{\"id\":\"88b4e6e3-11f3-4645-b77b-e86b858e6beb\",\"type\":\"BoxAnnotation\"},\"plot\":{\"id\":\"7dbdce55-98fe-44b7-af85-2e7ec3cefb46\",\"subtype\":\"Figure\",\"type\":\"Plot\"}},\"id\":\"ca74db60-8848-464a-8f9e-ad572ed200ed\",\"type\":\"BoxZoomTool\"},{\"attributes\":{\"bottom_units\":\"screen\",\"fill_alpha\":{\"value\":0.5},\"fill_color\":{\"value\":\"lightgrey\"},\"left_units\":\"screen\",\"level\":\"overlay\",\"line_alpha\":{\"value\":1.0},\"line_color\":{\"value\":\"black\"},\"line_dash\":[4,4],\"line_width\":{\"value\":2},\"plot\":null,\"render_mode\":\"css\",\"right_units\":\"screen\",\"top_units\":\"screen\"},\"id\":\"88b4e6e3-11f3-4645-b77b-e86b858e6beb\",\"type\":\"BoxAnnotation\"},{\"attributes\":{},\"id\":\"a9e9dd5f-ff6d-4436-8774-fd73a828c416\",\"type\":\"BasicTicker\"},{\"attributes\":{\"plot\":null,\"text\":null},\"id\":\"20714828-0156-498d-99c2-3746f7ffc5c0\",\"type\":\"Title\"},{\"attributes\":{\"callback\":null},\"id\":\"ada03e2f-f11e-48d3-8cc5-7971a013a796\",\"type\":\"DataRange1d\"},{\"attributes\":{\"plot\":{\"id\":\"7dbdce55-98fe-44b7-af85-2e7ec3cefb46\",\"subtype\":\"Figure\",\"type\":\"Plot\"}},\"id\":\"4b4074b1-f630-4f08-8803-2a44ce38bc79\",\"type\":\"PanTool\"},{\"attributes\":{},\"id\":\"7319a551-cba0-42b3-848e-bc709dd0216a\",\"type\":\"BasicTickFormatter\"},{\"attributes\":{\"axis_label\":\"Pressure\",\"formatter\":{\"id\":\"7319a551-cba0-42b3-848e-bc709dd0216a\",\"type\":\"BasicTickFormatter\"},\"major_label_orientation\":\"vertical\",\"major_label_text_color\":{\"value\":\"orange\"},\"minor_tick_in\":-3,\"minor_tick_out\":6,\"plot\":{\"id\":\"7dbdce55-98fe-44b7-af85-2e7ec3cefb46\",\"subtype\":\"Figure\",\"type\":\"Plot\"},\"ticker\":{\"id\":\"a9e9dd5f-ff6d-4436-8774-fd73a828c416\",\"type\":\"BasicTicker\"}},\"id\":\"177d682f-1c90-48ea-9e18-61e8e426b0f0\",\"type\":\"LinearAxis\"},{\"attributes\":{\"callback\":null},\"id\":\"48a3cf78-e096-4558-aafd-414ad3c438eb\",\"type\":\"DataRange1d\"},{\"attributes\":{},\"id\":\"a15ec295-e486-4ec7-8553-401d290889a2\",\"type\":\"BasicTickFormatter\"},{\"attributes\":{\"axis_label\":\"Temp\",\"axis_line_color\":{\"value\":\"red\"},\"axis_line_width\":{\"value\":3},\"formatter\":{\"id\":\"a15ec295-e486-4ec7-8553-401d290889a2\",\"type\":\"BasicTickFormatter\"},\"minor_tick_in\":-3,\"minor_tick_out\":6,\"plot\":{\"id\":\"7dbdce55-98fe-44b7-af85-2e7ec3cefb46\",\"subtype\":\"Figure\",\"type\":\"Plot\"},\"ticker\":{\"id\":\"aeedca21-e8c0-497e-aff6-6303c29b18f6\",\"type\":\"BasicTicker\"}},\"id\":\"4ac88896-0909-42ee-ae3c-25a461fb8d9b\",\"type\":\"LinearAxis\"},{\"attributes\":{\"plot\":{\"id\":\"7dbdce55-98fe-44b7-af85-2e7ec3cefb46\",\"subtype\":\"Figure\",\"type\":\"Plot\"}},\"id\":\"4a626185-11f6-40d0-80b9-07fa0fe63b23\",\"type\":\"SaveTool\"},{\"attributes\":{},\"id\":\"39c878a3-a709-427e-a89c-f90f1b122682\",\"type\":\"ToolEvents\"},{\"attributes\":{\"below\":[{\"id\":\"4ac88896-0909-42ee-ae3c-25a461fb8d9b\",\"type\":\"LinearAxis\"}],\"left\":[{\"id\":\"177d682f-1c90-48ea-9e18-61e8e426b0f0\",\"type\":\"LinearAxis\"}],\"plot_height\":400,\"plot_width\":400,\"renderers\":[{\"id\":\"4ac88896-0909-42ee-ae3c-25a461fb8d9b\",\"type\":\"LinearAxis\"},{\"id\":\"ab1e0ae9-1c42-45f8-adc2-936f505be363\",\"type\":\"Grid\"},{\"id\":\"177d682f-1c90-48ea-9e18-61e8e426b0f0\",\"type\":\"LinearAxis\"},{\"id\":\"f6fe0899-2adf-4139-8dcf-02ae9d5b8266\",\"type\":\"Grid\"},{\"id\":\"88b4e6e3-11f3-4645-b77b-e86b858e6beb\",\"type\":\"BoxAnnotation\"},{\"id\":\"92910c7d-ed15-4bb3-b98c-eb558ebd80d5\",\"type\":\"GlyphRenderer\"}],\"title\":{\"id\":\"20714828-0156-498d-99c2-3746f7ffc5c0\",\"type\":\"Title\"},\"tool_events\":{\"id\":\"39c878a3-a709-427e-a89c-f90f1b122682\",\"type\":\"ToolEvents\"},\"toolbar\":{\"id\":\"35f63d47-afc3-42e3-9e9c-f0d34f0b49d3\",\"type\":\"Toolbar\"},\"x_range\":{\"id\":\"ada03e2f-f11e-48d3-8cc5-7971a013a796\",\"type\":\"DataRange1d\"},\"y_range\":{\"id\":\"48a3cf78-e096-4558-aafd-414ad3c438eb\",\"type\":\"DataRange1d\"}},\"id\":\"7dbdce55-98fe-44b7-af85-2e7ec3cefb46\",\"subtype\":\"Figure\",\"type\":\"Plot\"},{\"attributes\":{},\"id\":\"aeedca21-e8c0-497e-aff6-6303c29b18f6\",\"type\":\"BasicTicker\"},{\"attributes\":{\"data_source\":{\"id\":\"4e5837c2-fedc-4ab2-b775-eec73accd1de\",\"type\":\"ColumnDataSource\"},\"glyph\":{\"id\":\"e06db782-c0e6-473b-b489-2a6a6bbdeaa2\",\"type\":\"Asterisk\"},\"hover_glyph\":null,\"nonselection_glyph\":{\"id\":\"72ccd9bd-55b9-41be-91de-36a778ef9e36\",\"type\":\"Asterisk\"},\"selection_glyph\":null},\"id\":\"92910c7d-ed15-4bb3-b98c-eb558ebd80d5\",\"type\":\"GlyphRenderer\"},{\"attributes\":{\"plot\":{\"id\":\"7dbdce55-98fe-44b7-af85-2e7ec3cefb46\",\"subtype\":\"Figure\",\"type\":\"Plot\"},\"ticker\":{\"id\":\"aeedca21-e8c0-497e-aff6-6303c29b18f6\",\"type\":\"BasicTicker\"}},\"id\":\"ab1e0ae9-1c42-45f8-adc2-936f505be363\",\"type\":\"Grid\"},{\"attributes\":{\"plot\":{\"id\":\"7dbdce55-98fe-44b7-af85-2e7ec3cefb46\",\"subtype\":\"Figure\",\"type\":\"Plot\"}},\"id\":\"e210d862-cfbd-496b-aaed-24215f2d0b26\",\"type\":\"HelpTool\"},{\"attributes\":{\"fill_alpha\":{\"value\":0.1},\"fill_color\":{\"value\":\"#1f77b4\"},\"line_alpha\":{\"value\":0.1},\"line_color\":{\"value\":\"#1f77b4\"},\"size\":{\"units\":\"screen\",\"value\":12},\"x\":{\"field\":\"x\"},\"y\":{\"field\":\"y\"}},\"id\":\"72ccd9bd-55b9-41be-91de-36a778ef9e36\",\"type\":\"Asterisk\"},{\"attributes\":{\"plot\":{\"id\":\"7dbdce55-98fe-44b7-af85-2e7ec3cefb46\",\"subtype\":\"Figure\",\"type\":\"Plot\"}},\"id\":\"e9177e27-2024-4b11-aa51-a774b78b4e32\",\"type\":\"WheelZoomTool\"},{\"attributes\":{\"plot\":{\"id\":\"7dbdce55-98fe-44b7-af85-2e7ec3cefb46\",\"subtype\":\"Figure\",\"type\":\"Plot\"}},\"id\":\"7c37a438-e9c9-4ba2-af97-3ae4289deb9d\",\"type\":\"ResetTool\"},{\"attributes\":{\"fill_color\":{\"value\":\"olive\"},\"line_color\":{\"value\":\"olive\"},\"size\":{\"units\":\"screen\",\"value\":12},\"x\":{\"field\":\"x\"},\"y\":{\"field\":\"y\"}},\"id\":\"e06db782-c0e6-473b-b489-2a6a6bbdeaa2\",\"type\":\"Asterisk\"}],\"root_ids\":[\"7dbdce55-98fe-44b7-af85-2e7ec3cefb46\"]},\"title\":\"Bokeh Application\",\"version\":\"0.12.1\"}};\n",
       "            var render_items = [{\"docid\":\"709b021a-0938-4fff-b433-3003175526ea\",\"elementid\":\"6d33c414-ac22-46cd-a882-d70ccf279227\",\"modelid\":\"7dbdce55-98fe-44b7-af85-2e7ec3cefb46\",\"notebook_comms_target\":\"a52ffb69-7f4e-446d-bc6b-d7bd281ebccd\"}];\n",
       "            \n",
       "            Bokeh.embed.embed_items(docs_json, render_items);\n",
       "        });\n",
       "      },\n",
       "      function(Bokeh) {\n",
       "      }\n",
       "    ];\n",
       "  \n",
       "    function run_inline_js() {\n",
       "      for (var i = 0; i < inline_js.length; i++) {\n",
       "        inline_js[i](window.Bokeh);\n",
       "      }\n",
       "    }\n",
       "  \n",
       "    if (window._bokeh_is_loading === 0) {\n",
       "      console.log(\"Bokeh: BokehJS loaded, going straight to plotting\");\n",
       "      run_inline_js();\n",
       "    } else {\n",
       "      load_libs(js_urls, function() {\n",
       "        console.log(\"Bokeh: BokehJS plotting callback run at\", now());\n",
       "        run_inline_js();\n",
       "      });\n",
       "    }\n",
       "  }(this));\n",
       "</script>"
      ]
     },
     "metadata": {},
     "output_type": "display_data"
    },
    {
     "data": {
      "text/html": [
       "<p><code>&lt;Bokeh Notebook handle for <strong>In[4]</strong>&gt;</code></p>"
      ],
      "text/plain": [
       "<bokeh.io._CommsHandle at 0x10b9c5810>"
      ]
     },
     "execution_count": 61,
     "metadata": {},
     "output_type": "execute_result"
    }
   ],
   "source": [
    "p = figure(plot_width=400, plot_height=400)\n",
    "p.asterisk([1,2,3,4,5], [2,5,8,2,7], size=12, color=\"olive\")\n",
    "\n",
    "# change just some things about the x-axes\n",
    "p.xaxis.axis_label = \"Temp\"\n",
    "p.xaxis.axis_line_width = 3\n",
    "p.xaxis.axis_line_color = \"red\"\n",
    "\n",
    "# change just some things about the y-axes\n",
    "p.yaxis.axis_label = \"Pressure\"\n",
    "p.yaxis.major_label_text_color = \"orange\"\n",
    "p.yaxis.major_label_orientation = \"vertical\"\n",
    "\n",
    "# change things on all axes\n",
    "p.axis.minor_tick_in = -3\n",
    "p.axis.minor_tick_out = 6\n",
    "\n",
    "show(p)"
   ]
  },
  {
   "cell_type": "code",
   "execution_count": 12,
   "metadata": {
    "collapsed": true
   },
   "outputs": [],
   "source": [
    "# EXERCISE Create a plot of your own and customize several axis properties\n",
    "\n"
   ]
  },
  {
   "cell_type": "markdown",
   "metadata": {},
   "source": [
    "There are further customizations possible. See the [User Guide](http://bokeh.pydata.org/en/latest/docs/user_guide.html) for more information on topics such as [tick label formatting](http://bokeh.pydata.org/en/latest/docs/user_guide/styling.html#tick-label-formats) or [limiting axis bounds](http://bokeh.pydata.org/en/latest/docs/user_guide/styling.html#bounds)."
   ]
  },
  {
   "cell_type": "markdown",
   "metadata": {},
   "source": [
    "# Grids\n",
    "\n",
    "[Grids](http://bokeh.pydata.org/en/latest/docs/user_guide/styling.html#grids)\n",
    "\n",
    "* **grid** [line properties](http://bokeh.pydata.org/en/latest/docs/user_guide/styling.html#line-properties)\n",
    "* **band** [fill properties]()"
   ]
  },
  {
   "cell_type": "code",
   "execution_count": 65,
   "metadata": {
    "collapsed": false
   },
   "outputs": [
    {
     "data": {
      "text/html": [
       "\n",
       "\n",
       "    <div class=\"bk-root\">\n",
       "        <div class=\"plotdiv\" id=\"85a0a77c-2369-4096-aebc-24b4c5c58367\"></div>\n",
       "    </div>\n",
       "<script type=\"text/javascript\">\n",
       "  \n",
       "  (function(global) {\n",
       "    function now() {\n",
       "      return new Date();\n",
       "    }\n",
       "  \n",
       "    var force = \"\";\n",
       "  \n",
       "    if (typeof (window._bokeh_onload_callbacks) === \"undefined\" || force !== \"\") {\n",
       "      window._bokeh_onload_callbacks = [];\n",
       "      window._bokeh_is_loading = undefined;\n",
       "    }\n",
       "  \n",
       "    function run_callbacks() {\n",
       "      window._bokeh_onload_callbacks.forEach(function(callback) { callback() });\n",
       "      delete window._bokeh_onload_callbacks\n",
       "      console.info(\"Bokeh: all callbacks have finished\");\n",
       "    }\n",
       "  \n",
       "    function load_libs(js_urls, callback) {\n",
       "      window._bokeh_onload_callbacks.push(callback);\n",
       "      if (window._bokeh_is_loading > 0) {\n",
       "        console.log(\"Bokeh: BokehJS is being loaded, scheduling callback at\", now());\n",
       "        return null;\n",
       "      }\n",
       "      if (js_urls == null || js_urls.length === 0) {\n",
       "        run_callbacks();\n",
       "        return null;\n",
       "      }\n",
       "      console.log(\"Bokeh: BokehJS not loaded, scheduling load and callback at\", now());\n",
       "      window._bokeh_is_loading = js_urls.length;\n",
       "      for (var i = 0; i < js_urls.length; i++) {\n",
       "        var url = js_urls[i];\n",
       "        var s = document.createElement('script');\n",
       "        s.src = url;\n",
       "        s.async = false;\n",
       "        s.onreadystatechange = s.onload = function() {\n",
       "          window._bokeh_is_loading--;\n",
       "          if (window._bokeh_is_loading === 0) {\n",
       "            console.log(\"Bokeh: all BokehJS libraries loaded\");\n",
       "            run_callbacks()\n",
       "          }\n",
       "        };\n",
       "        s.onerror = function() {\n",
       "          console.warn(\"failed to load library \" + url);\n",
       "        };\n",
       "        console.log(\"Bokeh: injecting script tag for BokehJS library: \", url);\n",
       "        document.getElementsByTagName(\"head\")[0].appendChild(s);\n",
       "      }\n",
       "    };var element = document.getElementById(\"85a0a77c-2369-4096-aebc-24b4c5c58367\");\n",
       "    if (element == null) {\n",
       "      console.log(\"Bokeh: ERROR: autoload.js configured with elementid '85a0a77c-2369-4096-aebc-24b4c5c58367' but no matching script tag was found. \")\n",
       "      return false;\n",
       "    }\n",
       "  \n",
       "    var js_urls = [];\n",
       "  \n",
       "    var inline_js = [\n",
       "      function(Bokeh) {\n",
       "        Bokeh.$(function() {\n",
       "            var docs_json = {\"49e82114-f563-40de-878b-27e79830f463\":{\"roots\":{\"references\":[{\"attributes\":{\"fill_color\":{\"value\":\"#1f77b4\"},\"line_color\":{\"value\":\"#1f77b4\"},\"size\":{\"units\":\"screen\",\"value\":10},\"x\":{\"field\":\"x\"},\"y\":{\"field\":\"y\"}},\"id\":\"2de55bd8-39a1-410e-ab34-c2b25011db14\",\"type\":\"Circle\"},{\"attributes\":{\"fill_alpha\":{\"value\":0.1},\"fill_color\":{\"value\":\"#1f77b4\"},\"line_alpha\":{\"value\":0.1},\"line_color\":{\"value\":\"#1f77b4\"},\"size\":{\"units\":\"screen\",\"value\":10},\"x\":{\"field\":\"x\"},\"y\":{\"field\":\"y\"}},\"id\":\"6dc5b2c3-ca38-478c-8d1f-76f2a7cbf6a1\",\"type\":\"Circle\"},{\"attributes\":{\"callback\":null},\"id\":\"45816a1a-a1da-4917-8978-14dbcbc1156d\",\"type\":\"DataRange1d\"},{\"attributes\":{\"dimension\":1,\"grid_line_alpha\":{\"value\":0.5},\"grid_line_dash\":[6,4],\"plot\":{\"id\":\"eb9a9a87-d3e1-4f01-95d3-761eff32a0a3\",\"subtype\":\"Figure\",\"type\":\"Plot\"},\"ticker\":{\"id\":\"1a0b45c7-4bfd-4224-95d2-a7d58d72d870\",\"type\":\"BasicTicker\"}},\"id\":\"7478df11-da2b-42d7-8f07-4d42ae37d1f9\",\"type\":\"Grid\"},{\"attributes\":{\"overlay\":{\"id\":\"d225de65-6e13-4d3d-9477-8dc94bc5dc0a\",\"type\":\"BoxAnnotation\"},\"plot\":{\"id\":\"eb9a9a87-d3e1-4f01-95d3-761eff32a0a3\",\"subtype\":\"Figure\",\"type\":\"Plot\"}},\"id\":\"113e9079-b3d1-47af-b5fa-50772da2a352\",\"type\":\"BoxZoomTool\"},{\"attributes\":{},\"id\":\"21bd4bc3-b09a-455f-8989-28254808452b\",\"type\":\"BasicTickFormatter\"},{\"attributes\":{\"grid_line_color\":{\"value\":null},\"plot\":{\"id\":\"eb9a9a87-d3e1-4f01-95d3-761eff32a0a3\",\"subtype\":\"Figure\",\"type\":\"Plot\"},\"ticker\":{\"id\":\"1463abdb-68bd-431c-8616-ae21c2805b3f\",\"type\":\"BasicTicker\"}},\"id\":\"7460083a-0364-4369-994b-5cded9c09102\",\"type\":\"Grid\"},{\"attributes\":{\"formatter\":{\"id\":\"21bd4bc3-b09a-455f-8989-28254808452b\",\"type\":\"BasicTickFormatter\"},\"plot\":{\"id\":\"eb9a9a87-d3e1-4f01-95d3-761eff32a0a3\",\"subtype\":\"Figure\",\"type\":\"Plot\"},\"ticker\":{\"id\":\"1463abdb-68bd-431c-8616-ae21c2805b3f\",\"type\":\"BasicTicker\"}},\"id\":\"7c3bd67a-3742-4478-8d4a-eed21af0fec5\",\"type\":\"LinearAxis\"},{\"attributes\":{\"plot\":{\"id\":\"eb9a9a87-d3e1-4f01-95d3-761eff32a0a3\",\"subtype\":\"Figure\",\"type\":\"Plot\"}},\"id\":\"de707645-a2ed-4e93-8722-76a0dfb3e750\",\"type\":\"WheelZoomTool\"},{\"attributes\":{\"callback\":null,\"column_names\":[\"y\",\"x\"],\"data\":{\"x\":[1,2,3,4,5],\"y\":[2,5,8,2,7]}},\"id\":\"46f961d6-7f1a-43f8-8f2d-6df327d5d921\",\"type\":\"ColumnDataSource\"},{\"attributes\":{\"bottom_units\":\"screen\",\"fill_alpha\":{\"value\":0.5},\"fill_color\":{\"value\":\"lightgrey\"},\"left_units\":\"screen\",\"level\":\"overlay\",\"line_alpha\":{\"value\":1.0},\"line_color\":{\"value\":\"black\"},\"line_dash\":[4,4],\"line_width\":{\"value\":2},\"plot\":null,\"render_mode\":\"css\",\"right_units\":\"screen\",\"top_units\":\"screen\"},\"id\":\"d225de65-6e13-4d3d-9477-8dc94bc5dc0a\",\"type\":\"BoxAnnotation\"},{\"attributes\":{\"data_source\":{\"id\":\"46f961d6-7f1a-43f8-8f2d-6df327d5d921\",\"type\":\"ColumnDataSource\"},\"glyph\":{\"id\":\"2de55bd8-39a1-410e-ab34-c2b25011db14\",\"type\":\"Circle\"},\"hover_glyph\":null,\"nonselection_glyph\":{\"id\":\"6dc5b2c3-ca38-478c-8d1f-76f2a7cbf6a1\",\"type\":\"Circle\"},\"selection_glyph\":null},\"id\":\"0badc6f3-385a-41d8-8239-0531d98953ed\",\"type\":\"GlyphRenderer\"},{\"attributes\":{\"callback\":null},\"id\":\"3e92db31-72a4-4446-b380-a82979d24a78\",\"type\":\"DataRange1d\"},{\"attributes\":{\"plot\":{\"id\":\"eb9a9a87-d3e1-4f01-95d3-761eff32a0a3\",\"subtype\":\"Figure\",\"type\":\"Plot\"}},\"id\":\"f032bb7c-67bb-468d-a098-7187d405617c\",\"type\":\"HelpTool\"},{\"attributes\":{\"plot\":{\"id\":\"eb9a9a87-d3e1-4f01-95d3-761eff32a0a3\",\"subtype\":\"Figure\",\"type\":\"Plot\"}},\"id\":\"1ad38575-d0c0-4fea-b247-d69d4e096c6f\",\"type\":\"ResetTool\"},{\"attributes\":{},\"id\":\"1a0b45c7-4bfd-4224-95d2-a7d58d72d870\",\"type\":\"BasicTicker\"},{\"attributes\":{},\"id\":\"512dd1c5-c969-44f5-8eac-a4c135b5ccc6\",\"type\":\"ToolEvents\"},{\"attributes\":{\"plot\":{\"id\":\"eb9a9a87-d3e1-4f01-95d3-761eff32a0a3\",\"subtype\":\"Figure\",\"type\":\"Plot\"}},\"id\":\"9cc0fdef-edd7-4e79-9397-c1b618fc7e16\",\"type\":\"PanTool\"},{\"attributes\":{\"below\":[{\"id\":\"7c3bd67a-3742-4478-8d4a-eed21af0fec5\",\"type\":\"LinearAxis\"}],\"left\":[{\"id\":\"5609643f-8fc9-45e8-a760-a87b13b53dcb\",\"type\":\"LinearAxis\"}],\"plot_height\":400,\"plot_width\":400,\"renderers\":[{\"id\":\"7c3bd67a-3742-4478-8d4a-eed21af0fec5\",\"type\":\"LinearAxis\"},{\"id\":\"7460083a-0364-4369-994b-5cded9c09102\",\"type\":\"Grid\"},{\"id\":\"5609643f-8fc9-45e8-a760-a87b13b53dcb\",\"type\":\"LinearAxis\"},{\"id\":\"7478df11-da2b-42d7-8f07-4d42ae37d1f9\",\"type\":\"Grid\"},{\"id\":\"d225de65-6e13-4d3d-9477-8dc94bc5dc0a\",\"type\":\"BoxAnnotation\"},{\"id\":\"0badc6f3-385a-41d8-8239-0531d98953ed\",\"type\":\"GlyphRenderer\"}],\"title\":{\"id\":\"03ad54c5-4531-4571-bb06-40eb4086c5a3\",\"type\":\"Title\"},\"tool_events\":{\"id\":\"512dd1c5-c969-44f5-8eac-a4c135b5ccc6\",\"type\":\"ToolEvents\"},\"toolbar\":{\"id\":\"0d28d518-0a48-429e-8de5-a1329a87c5cb\",\"type\":\"Toolbar\"},\"x_range\":{\"id\":\"3e92db31-72a4-4446-b380-a82979d24a78\",\"type\":\"DataRange1d\"},\"y_range\":{\"id\":\"45816a1a-a1da-4917-8978-14dbcbc1156d\",\"type\":\"DataRange1d\"}},\"id\":\"eb9a9a87-d3e1-4f01-95d3-761eff32a0a3\",\"subtype\":\"Figure\",\"type\":\"Plot\"},{\"attributes\":{},\"id\":\"2005de92-8130-4a79-9bd0-5f7b763a7958\",\"type\":\"BasicTickFormatter\"},{\"attributes\":{\"plot\":null,\"text\":null},\"id\":\"03ad54c5-4531-4571-bb06-40eb4086c5a3\",\"type\":\"Title\"},{\"attributes\":{\"plot\":{\"id\":\"eb9a9a87-d3e1-4f01-95d3-761eff32a0a3\",\"subtype\":\"Figure\",\"type\":\"Plot\"}},\"id\":\"c164ed0d-fcac-42b3-80aa-b0509be223c5\",\"type\":\"SaveTool\"},{\"attributes\":{\"active_drag\":\"auto\",\"active_scroll\":\"auto\",\"active_tap\":\"auto\",\"tools\":[{\"id\":\"9cc0fdef-edd7-4e79-9397-c1b618fc7e16\",\"type\":\"PanTool\"},{\"id\":\"de707645-a2ed-4e93-8722-76a0dfb3e750\",\"type\":\"WheelZoomTool\"},{\"id\":\"113e9079-b3d1-47af-b5fa-50772da2a352\",\"type\":\"BoxZoomTool\"},{\"id\":\"c164ed0d-fcac-42b3-80aa-b0509be223c5\",\"type\":\"SaveTool\"},{\"id\":\"1ad38575-d0c0-4fea-b247-d69d4e096c6f\",\"type\":\"ResetTool\"},{\"id\":\"f032bb7c-67bb-468d-a098-7187d405617c\",\"type\":\"HelpTool\"}]},\"id\":\"0d28d518-0a48-429e-8de5-a1329a87c5cb\",\"type\":\"Toolbar\"},{\"attributes\":{},\"id\":\"1463abdb-68bd-431c-8616-ae21c2805b3f\",\"type\":\"BasicTicker\"},{\"attributes\":{\"formatter\":{\"id\":\"2005de92-8130-4a79-9bd0-5f7b763a7958\",\"type\":\"BasicTickFormatter\"},\"plot\":{\"id\":\"eb9a9a87-d3e1-4f01-95d3-761eff32a0a3\",\"subtype\":\"Figure\",\"type\":\"Plot\"},\"ticker\":{\"id\":\"1a0b45c7-4bfd-4224-95d2-a7d58d72d870\",\"type\":\"BasicTicker\"}},\"id\":\"5609643f-8fc9-45e8-a760-a87b13b53dcb\",\"type\":\"LinearAxis\"}],\"root_ids\":[\"eb9a9a87-d3e1-4f01-95d3-761eff32a0a3\"]},\"title\":\"Bokeh Application\",\"version\":\"0.12.1\"}};\n",
       "            var render_items = [{\"docid\":\"49e82114-f563-40de-878b-27e79830f463\",\"elementid\":\"85a0a77c-2369-4096-aebc-24b4c5c58367\",\"modelid\":\"eb9a9a87-d3e1-4f01-95d3-761eff32a0a3\",\"notebook_comms_target\":\"27c57816-91a1-4866-b0d0-aa718d4a26fc\"}];\n",
       "            \n",
       "            Bokeh.embed.embed_items(docs_json, render_items);\n",
       "        });\n",
       "      },\n",
       "      function(Bokeh) {\n",
       "      }\n",
       "    ];\n",
       "  \n",
       "    function run_inline_js() {\n",
       "      for (var i = 0; i < inline_js.length; i++) {\n",
       "        inline_js[i](window.Bokeh);\n",
       "      }\n",
       "    }\n",
       "  \n",
       "    if (window._bokeh_is_loading === 0) {\n",
       "      console.log(\"Bokeh: BokehJS loaded, going straight to plotting\");\n",
       "      run_inline_js();\n",
       "    } else {\n",
       "      load_libs(js_urls, function() {\n",
       "        console.log(\"Bokeh: BokehJS plotting callback run at\", now());\n",
       "        run_inline_js();\n",
       "      });\n",
       "    }\n",
       "  }(this));\n",
       "</script>"
      ]
     },
     "metadata": {},
     "output_type": "display_data"
    },
    {
     "data": {
      "text/html": [
       "<p><code>&lt;Bokeh Notebook handle for <strong>In[4]</strong>&gt;</code></p>"
      ],
      "text/plain": [
       "<bokeh.io._CommsHandle at 0x10bc2c550>"
      ]
     },
     "execution_count": 65,
     "metadata": {},
     "output_type": "execute_result"
    }
   ],
   "source": [
    "p = figure(plot_width=400, plot_height=400)\n",
    "p.circle([1,2,3,4,5], [2,5,8,2,7], size=10)\n",
    "\n",
    "# change just some things about the x-grid\n",
    "p.xgrid.grid_line_color = None\n",
    "\n",
    "# change just some things about the y-grid\n",
    "p.ygrid.grid_line_alpha = 0.5\n",
    "p.ygrid.grid_line_dash = [6, 4]\n",
    "\n",
    "show(p)"
   ]
  },
  {
   "cell_type": "code",
   "execution_count": 70,
   "metadata": {
    "collapsed": false
   },
   "outputs": [
    {
     "data": {
      "text/html": [
       "\n",
       "\n",
       "    <div class=\"bk-root\">\n",
       "        <div class=\"plotdiv\" id=\"b1a43358-3290-4f4e-82fe-934f1ce46ae4\"></div>\n",
       "    </div>\n",
       "<script type=\"text/javascript\">\n",
       "  \n",
       "  (function(global) {\n",
       "    function now() {\n",
       "      return new Date();\n",
       "    }\n",
       "  \n",
       "    var force = \"\";\n",
       "  \n",
       "    if (typeof (window._bokeh_onload_callbacks) === \"undefined\" || force !== \"\") {\n",
       "      window._bokeh_onload_callbacks = [];\n",
       "      window._bokeh_is_loading = undefined;\n",
       "    }\n",
       "  \n",
       "    function run_callbacks() {\n",
       "      window._bokeh_onload_callbacks.forEach(function(callback) { callback() });\n",
       "      delete window._bokeh_onload_callbacks\n",
       "      console.info(\"Bokeh: all callbacks have finished\");\n",
       "    }\n",
       "  \n",
       "    function load_libs(js_urls, callback) {\n",
       "      window._bokeh_onload_callbacks.push(callback);\n",
       "      if (window._bokeh_is_loading > 0) {\n",
       "        console.log(\"Bokeh: BokehJS is being loaded, scheduling callback at\", now());\n",
       "        return null;\n",
       "      }\n",
       "      if (js_urls == null || js_urls.length === 0) {\n",
       "        run_callbacks();\n",
       "        return null;\n",
       "      }\n",
       "      console.log(\"Bokeh: BokehJS not loaded, scheduling load and callback at\", now());\n",
       "      window._bokeh_is_loading = js_urls.length;\n",
       "      for (var i = 0; i < js_urls.length; i++) {\n",
       "        var url = js_urls[i];\n",
       "        var s = document.createElement('script');\n",
       "        s.src = url;\n",
       "        s.async = false;\n",
       "        s.onreadystatechange = s.onload = function() {\n",
       "          window._bokeh_is_loading--;\n",
       "          if (window._bokeh_is_loading === 0) {\n",
       "            console.log(\"Bokeh: all BokehJS libraries loaded\");\n",
       "            run_callbacks()\n",
       "          }\n",
       "        };\n",
       "        s.onerror = function() {\n",
       "          console.warn(\"failed to load library \" + url);\n",
       "        };\n",
       "        console.log(\"Bokeh: injecting script tag for BokehJS library: \", url);\n",
       "        document.getElementsByTagName(\"head\")[0].appendChild(s);\n",
       "      }\n",
       "    };var element = document.getElementById(\"b1a43358-3290-4f4e-82fe-934f1ce46ae4\");\n",
       "    if (element == null) {\n",
       "      console.log(\"Bokeh: ERROR: autoload.js configured with elementid 'b1a43358-3290-4f4e-82fe-934f1ce46ae4' but no matching script tag was found. \")\n",
       "      return false;\n",
       "    }\n",
       "  \n",
       "    var js_urls = [];\n",
       "  \n",
       "    var inline_js = [\n",
       "      function(Bokeh) {\n",
       "        Bokeh.$(function() {\n",
       "            var docs_json = {\"cba94e0b-4c4f-4d9e-84b2-bae4bc5aa4cd\":{\"roots\":{\"references\":[{\"attributes\":{\"plot\":{\"id\":\"041678c1-0ba9-4599-aeca-60ea4b1bb1ea\",\"subtype\":\"Figure\",\"type\":\"Plot\"}},\"id\":\"5fc72cfa-94fb-4514-ae92-c07fc7e2d898\",\"type\":\"PanTool\"},{\"attributes\":{\"data_source\":{\"id\":\"0924729a-38e2-4b5b-b0db-86bd70281a0b\",\"type\":\"ColumnDataSource\"},\"glyph\":{\"id\":\"8e8b925b-feb2-4143-966e-8fa7cd06e640\",\"type\":\"Circle\"},\"hover_glyph\":null,\"nonselection_glyph\":{\"id\":\"c54ae375-0a02-49d5-8b17-abe0c8aa9e73\",\"type\":\"Circle\"},\"selection_glyph\":null},\"id\":\"c97e82f7-1fbe-4c0e-ab04-03d937e3c471\",\"type\":\"GlyphRenderer\"},{\"attributes\":{},\"id\":\"1ca27732-f462-42d0-ad94-fc7c9a79a5df\",\"type\":\"BasicTicker\"},{\"attributes\":{\"fill_color\":{\"value\":\"#1f77b4\"},\"line_color\":{\"value\":\"#1f77b4\"},\"size\":{\"units\":\"screen\",\"value\":10},\"x\":{\"field\":\"x\"},\"y\":{\"field\":\"y\"}},\"id\":\"8e8b925b-feb2-4143-966e-8fa7cd06e640\",\"type\":\"Circle\"},{\"attributes\":{\"plot\":{\"id\":\"041678c1-0ba9-4599-aeca-60ea4b1bb1ea\",\"subtype\":\"Figure\",\"type\":\"Plot\"}},\"id\":\"3db5b0be-9f42-48ee-83ba-3b024a167322\",\"type\":\"HelpTool\"},{\"attributes\":{\"callback\":null},\"id\":\"26357a62-c585-409b-ad37-550c3912b271\",\"type\":\"DataRange1d\"},{\"attributes\":{\"callback\":null,\"column_names\":[\"y\",\"x\"],\"data\":{\"x\":[1,2,3,4,5],\"y\":[2,5,8,2,7]}},\"id\":\"0924729a-38e2-4b5b-b0db-86bd70281a0b\",\"type\":\"ColumnDataSource\"},{\"attributes\":{},\"id\":\"21c47dc0-28be-49b0-9919-524e3a192db1\",\"type\":\"BasicTicker\"},{\"attributes\":{\"formatter\":{\"id\":\"7352a970-73cd-4505-b92b-75b4dc994c91\",\"type\":\"BasicTickFormatter\"},\"plot\":{\"id\":\"041678c1-0ba9-4599-aeca-60ea4b1bb1ea\",\"subtype\":\"Figure\",\"type\":\"Plot\"},\"ticker\":{\"id\":\"1ca27732-f462-42d0-ad94-fc7c9a79a5df\",\"type\":\"BasicTicker\"}},\"id\":\"23abc402-8ddf-40c7-9c1a-14f089c8f6fb\",\"type\":\"LinearAxis\"},{\"attributes\":{},\"id\":\"7352a970-73cd-4505-b92b-75b4dc994c91\",\"type\":\"BasicTickFormatter\"},{\"attributes\":{\"fill_alpha\":{\"value\":0.1},\"fill_color\":{\"value\":\"#1f77b4\"},\"line_alpha\":{\"value\":0.1},\"line_color\":{\"value\":\"#1f77b4\"},\"size\":{\"units\":\"screen\",\"value\":10},\"x\":{\"field\":\"x\"},\"y\":{\"field\":\"y\"}},\"id\":\"c54ae375-0a02-49d5-8b17-abe0c8aa9e73\",\"type\":\"Circle\"},{\"attributes\":{\"plot\":{\"id\":\"041678c1-0ba9-4599-aeca-60ea4b1bb1ea\",\"subtype\":\"Figure\",\"type\":\"Plot\"}},\"id\":\"2ed49d3a-6d55-407f-8295-d50f8613d106\",\"type\":\"ResetTool\"},{\"attributes\":{\"formatter\":{\"id\":\"cfb20dd1-f60e-41e3-8cc9-2b254702d953\",\"type\":\"BasicTickFormatter\"},\"plot\":{\"id\":\"041678c1-0ba9-4599-aeca-60ea4b1bb1ea\",\"subtype\":\"Figure\",\"type\":\"Plot\"},\"ticker\":{\"id\":\"21c47dc0-28be-49b0-9919-524e3a192db1\",\"type\":\"BasicTicker\"}},\"id\":\"c9efc083-f2b2-46a6-9c55-8b801bcae418\",\"type\":\"LinearAxis\"},{\"attributes\":{},\"id\":\"cfb20dd1-f60e-41e3-8cc9-2b254702d953\",\"type\":\"BasicTickFormatter\"},{\"attributes\":{},\"id\":\"06f6cbe6-8e2b-438a-bbe9-5034792d5839\",\"type\":\"ToolEvents\"},{\"attributes\":{\"plot\":{\"id\":\"041678c1-0ba9-4599-aeca-60ea4b1bb1ea\",\"subtype\":\"Figure\",\"type\":\"Plot\"}},\"id\":\"7527fc93-2f3f-46e9-9feb-bb35aa138586\",\"type\":\"SaveTool\"},{\"attributes\":{\"bottom_units\":\"screen\",\"fill_alpha\":{\"value\":0.5},\"fill_color\":{\"value\":\"lightgrey\"},\"left_units\":\"screen\",\"level\":\"overlay\",\"line_alpha\":{\"value\":1.0},\"line_color\":{\"value\":\"black\"},\"line_dash\":[4,4],\"line_width\":{\"value\":2},\"plot\":null,\"render_mode\":\"css\",\"right_units\":\"screen\",\"top_units\":\"screen\"},\"id\":\"10144d0d-2c39-4efb-977b-410ca8b71d7d\",\"type\":\"BoxAnnotation\"},{\"attributes\":{\"below\":[{\"id\":\"23abc402-8ddf-40c7-9c1a-14f089c8f6fb\",\"type\":\"LinearAxis\"}],\"left\":[{\"id\":\"c9efc083-f2b2-46a6-9c55-8b801bcae418\",\"type\":\"LinearAxis\"}],\"plot_height\":400,\"plot_width\":400,\"renderers\":[{\"id\":\"23abc402-8ddf-40c7-9c1a-14f089c8f6fb\",\"type\":\"LinearAxis\"},{\"id\":\"e8f19440-4df5-40ce-919a-c0046b88caa9\",\"type\":\"Grid\"},{\"id\":\"c9efc083-f2b2-46a6-9c55-8b801bcae418\",\"type\":\"LinearAxis\"},{\"id\":\"39a6972f-511a-43ff-9b3a-756a3eb4dd2c\",\"type\":\"Grid\"},{\"id\":\"10144d0d-2c39-4efb-977b-410ca8b71d7d\",\"type\":\"BoxAnnotation\"},{\"id\":\"c97e82f7-1fbe-4c0e-ab04-03d937e3c471\",\"type\":\"GlyphRenderer\"}],\"title\":{\"id\":\"fb0f8d7c-edaa-45ea-8c50-590aed941b64\",\"type\":\"Title\"},\"tool_events\":{\"id\":\"06f6cbe6-8e2b-438a-bbe9-5034792d5839\",\"type\":\"ToolEvents\"},\"toolbar\":{\"id\":\"0bfd0152-5949-42c2-bc77-13cc08558f81\",\"type\":\"Toolbar\"},\"x_range\":{\"id\":\"1e0a6195-f493-4a22-a3ea-96810a9f763e\",\"type\":\"DataRange1d\"},\"y_range\":{\"id\":\"26357a62-c585-409b-ad37-550c3912b271\",\"type\":\"DataRange1d\"}},\"id\":\"041678c1-0ba9-4599-aeca-60ea4b1bb1ea\",\"subtype\":\"Figure\",\"type\":\"Plot\"},{\"attributes\":{\"band_fill_alpha\":{\"value\":0.1},\"band_fill_color\":{\"value\":\"magenta\"},\"plot\":{\"id\":\"041678c1-0ba9-4599-aeca-60ea4b1bb1ea\",\"subtype\":\"Figure\",\"type\":\"Plot\"},\"ticker\":{\"id\":\"1ca27732-f462-42d0-ad94-fc7c9a79a5df\",\"type\":\"BasicTicker\"}},\"id\":\"e8f19440-4df5-40ce-919a-c0046b88caa9\",\"type\":\"Grid\"},{\"attributes\":{\"overlay\":{\"id\":\"10144d0d-2c39-4efb-977b-410ca8b71d7d\",\"type\":\"BoxAnnotation\"},\"plot\":{\"id\":\"041678c1-0ba9-4599-aeca-60ea4b1bb1ea\",\"subtype\":\"Figure\",\"type\":\"Plot\"}},\"id\":\"7886760f-2b3e-4273-b30b-cb7cb00946cb\",\"type\":\"BoxZoomTool\"},{\"attributes\":{\"plot\":{\"id\":\"041678c1-0ba9-4599-aeca-60ea4b1bb1ea\",\"subtype\":\"Figure\",\"type\":\"Plot\"}},\"id\":\"bab92691-1924-46ea-8bed-b35e7c97cbc7\",\"type\":\"WheelZoomTool\"},{\"attributes\":{\"active_drag\":\"auto\",\"active_scroll\":\"auto\",\"active_tap\":\"auto\",\"tools\":[{\"id\":\"5fc72cfa-94fb-4514-ae92-c07fc7e2d898\",\"type\":\"PanTool\"},{\"id\":\"bab92691-1924-46ea-8bed-b35e7c97cbc7\",\"type\":\"WheelZoomTool\"},{\"id\":\"7886760f-2b3e-4273-b30b-cb7cb00946cb\",\"type\":\"BoxZoomTool\"},{\"id\":\"7527fc93-2f3f-46e9-9feb-bb35aa138586\",\"type\":\"SaveTool\"},{\"id\":\"2ed49d3a-6d55-407f-8295-d50f8613d106\",\"type\":\"ResetTool\"},{\"id\":\"3db5b0be-9f42-48ee-83ba-3b024a167322\",\"type\":\"HelpTool\"}]},\"id\":\"0bfd0152-5949-42c2-bc77-13cc08558f81\",\"type\":\"Toolbar\"},{\"attributes\":{\"callback\":null},\"id\":\"1e0a6195-f493-4a22-a3ea-96810a9f763e\",\"type\":\"DataRange1d\"},{\"attributes\":{\"band_fill_alpha\":{\"value\":0.1},\"band_fill_color\":{\"value\":\"navy\"},\"dimension\":1,\"plot\":{\"id\":\"041678c1-0ba9-4599-aeca-60ea4b1bb1ea\",\"subtype\":\"Figure\",\"type\":\"Plot\"},\"ticker\":{\"id\":\"21c47dc0-28be-49b0-9919-524e3a192db1\",\"type\":\"BasicTicker\"}},\"id\":\"39a6972f-511a-43ff-9b3a-756a3eb4dd2c\",\"type\":\"Grid\"},{\"attributes\":{\"plot\":null,\"text\":null},\"id\":\"fb0f8d7c-edaa-45ea-8c50-590aed941b64\",\"type\":\"Title\"}],\"root_ids\":[\"041678c1-0ba9-4599-aeca-60ea4b1bb1ea\"]},\"title\":\"Bokeh Application\",\"version\":\"0.12.1\"}};\n",
       "            var render_items = [{\"docid\":\"cba94e0b-4c4f-4d9e-84b2-bae4bc5aa4cd\",\"elementid\":\"b1a43358-3290-4f4e-82fe-934f1ce46ae4\",\"modelid\":\"041678c1-0ba9-4599-aeca-60ea4b1bb1ea\",\"notebook_comms_target\":\"244eb326-614f-46e2-8cf2-76691c4252e0\"}];\n",
       "            \n",
       "            Bokeh.embed.embed_items(docs_json, render_items);\n",
       "        });\n",
       "      },\n",
       "      function(Bokeh) {\n",
       "      }\n",
       "    ];\n",
       "  \n",
       "    function run_inline_js() {\n",
       "      for (var i = 0; i < inline_js.length; i++) {\n",
       "        inline_js[i](window.Bokeh);\n",
       "      }\n",
       "    }\n",
       "  \n",
       "    if (window._bokeh_is_loading === 0) {\n",
       "      console.log(\"Bokeh: BokehJS loaded, going straight to plotting\");\n",
       "      run_inline_js();\n",
       "    } else {\n",
       "      load_libs(js_urls, function() {\n",
       "        console.log(\"Bokeh: BokehJS plotting callback run at\", now());\n",
       "        run_inline_js();\n",
       "      });\n",
       "    }\n",
       "  }(this));\n",
       "</script>"
      ]
     },
     "metadata": {},
     "output_type": "display_data"
    },
    {
     "data": {
      "text/html": [
       "<p><code>&lt;Bokeh Notebook handle for <strong>In[4]</strong>&gt;</code></p>"
      ],
      "text/plain": [
       "<bokeh.io._CommsHandle at 0x10be3bfd0>"
      ]
     },
     "execution_count": 70,
     "metadata": {},
     "output_type": "execute_result"
    }
   ],
   "source": [
    "p = figure(plot_width=400, plot_height=400)\n",
    "p.circle([1,2,3,4,5], [2,5,8,2,7], size=10)\n",
    "\n",
    "# change just some things about the x-grid\n",
    "# p.xgrid.grid_line_color = None\n",
    "\n",
    "# change just some things about the y-grid\n",
    "p.ygrid.band_fill_alpha = 0.1\n",
    "p.ygrid.band_fill_color = \"navy\"\n",
    "\n",
    "p.xgrid.band_fill_alpha = 0.1\n",
    "p.xgrid.band_fill_color = \"magenta\"\n",
    "\n",
    "show(p)"
   ]
  },
  {
   "cell_type": "code",
   "execution_count": 15,
   "metadata": {
    "collapsed": true
   },
   "outputs": [],
   "source": [
    "# EXERCISE Create a plot of your own and customize several grid properties\n",
    "\n"
   ]
  },
  {
   "cell_type": "markdown",
   "metadata": {},
   "source": [
    "# Legends\n",
    "\n",
    "[Legends](http://bokeh.pydata.org/en/latest/docs/user_guide/styling.html#legends)"
   ]
  },
  {
   "cell_type": "code",
   "execution_count": 5,
   "metadata": {
    "collapsed": false
   },
   "outputs": [
    {
     "data": {
      "text/html": [
       "\n",
       "\n",
       "    <div class=\"bk-root\">\n",
       "        <div class=\"plotdiv\" id=\"742e459a-f1c7-4ed0-bb7e-c22261fe0bd1\"></div>\n",
       "    </div>\n",
       "<script type=\"text/javascript\">\n",
       "  \n",
       "  (function(global) {\n",
       "    function now() {\n",
       "      return new Date();\n",
       "    }\n",
       "  \n",
       "    var force = \"\";\n",
       "  \n",
       "    if (typeof (window._bokeh_onload_callbacks) === \"undefined\" || force !== \"\") {\n",
       "      window._bokeh_onload_callbacks = [];\n",
       "      window._bokeh_is_loading = undefined;\n",
       "    }\n",
       "  \n",
       "    function run_callbacks() {\n",
       "      window._bokeh_onload_callbacks.forEach(function(callback) { callback() });\n",
       "      delete window._bokeh_onload_callbacks\n",
       "      console.info(\"Bokeh: all callbacks have finished\");\n",
       "    }\n",
       "  \n",
       "    function load_libs(js_urls, callback) {\n",
       "      window._bokeh_onload_callbacks.push(callback);\n",
       "      if (window._bokeh_is_loading > 0) {\n",
       "        console.log(\"Bokeh: BokehJS is being loaded, scheduling callback at\", now());\n",
       "        return null;\n",
       "      }\n",
       "      if (js_urls == null || js_urls.length === 0) {\n",
       "        run_callbacks();\n",
       "        return null;\n",
       "      }\n",
       "      console.log(\"Bokeh: BokehJS not loaded, scheduling load and callback at\", now());\n",
       "      window._bokeh_is_loading = js_urls.length;\n",
       "      for (var i = 0; i < js_urls.length; i++) {\n",
       "        var url = js_urls[i];\n",
       "        var s = document.createElement('script');\n",
       "        s.src = url;\n",
       "        s.async = false;\n",
       "        s.onreadystatechange = s.onload = function() {\n",
       "          window._bokeh_is_loading--;\n",
       "          if (window._bokeh_is_loading === 0) {\n",
       "            console.log(\"Bokeh: all BokehJS libraries loaded\");\n",
       "            run_callbacks()\n",
       "          }\n",
       "        };\n",
       "        s.onerror = function() {\n",
       "          console.warn(\"failed to load library \" + url);\n",
       "        };\n",
       "        console.log(\"Bokeh: injecting script tag for BokehJS library: \", url);\n",
       "        document.getElementsByTagName(\"head\")[0].appendChild(s);\n",
       "      }\n",
       "    };var element = document.getElementById(\"742e459a-f1c7-4ed0-bb7e-c22261fe0bd1\");\n",
       "    if (element == null) {\n",
       "      console.log(\"Bokeh: ERROR: autoload.js configured with elementid '742e459a-f1c7-4ed0-bb7e-c22261fe0bd1' but no matching script tag was found. \")\n",
       "      return false;\n",
       "    }\n",
       "  \n",
       "    var js_urls = [];\n",
       "  \n",
       "    var inline_js = [\n",
       "      function(Bokeh) {\n",
       "        Bokeh.$(function() {\n",
       "            var docs_json = {\"479fbb2a-0d50-4c67-b217-bb0baa8efb29\":{\"roots\":{\"references\":[{\"attributes\":{\"plot\":{\"id\":\"e9d42c7b-ffed-4834-9d82-7bae37906087\",\"subtype\":\"Figure\",\"type\":\"Plot\"}},\"id\":\"c702b61e-1936-4981-bd63-39a09079aad6\",\"type\":\"HelpTool\"},{\"attributes\":{\"plot\":{\"id\":\"e9d42c7b-ffed-4834-9d82-7bae37906087\",\"subtype\":\"Figure\",\"type\":\"Plot\"}},\"id\":\"1939028d-e3c5-49c4-9604-f41ba449a254\",\"type\":\"PanTool\"},{\"attributes\":{\"data_source\":{\"id\":\"bc96d03d-7416-4d75-9ab3-009771a275a5\",\"type\":\"ColumnDataSource\"},\"glyph\":{\"id\":\"ad849546-dbc3-4776-94bb-ccb7a49a0afe\",\"type\":\"Circle\"},\"hover_glyph\":null,\"nonselection_glyph\":{\"id\":\"dfa01de1-40fd-4549-9b46-e8332e2ecd41\",\"type\":\"Circle\"},\"selection_glyph\":null},\"id\":\"e7e9e4c4-526e-4b60-aada-d6e790f0d871\",\"type\":\"GlyphRenderer\"},{\"attributes\":{\"overlay\":{\"id\":\"1a1df9f4-9bd0-46d9-8a8e-541d0baae76f\",\"type\":\"BoxAnnotation\"},\"plot\":{\"id\":\"e9d42c7b-ffed-4834-9d82-7bae37906087\",\"subtype\":\"Figure\",\"type\":\"Plot\"}},\"id\":\"1947bdc9-1e6f-4d4a-9411-cbe823fc1040\",\"type\":\"BoxZoomTool\"},{\"attributes\":{\"plot\":{\"id\":\"e9d42c7b-ffed-4834-9d82-7bae37906087\",\"subtype\":\"Figure\",\"type\":\"Plot\"}},\"id\":\"feaa3518-5a02-4419-aaeb-75be55e4668b\",\"type\":\"WheelZoomTool\"},{\"attributes\":{\"callback\":null},\"id\":\"b6fc5d09-ea6e-4797-bd0e-9b64fda9d39f\",\"type\":\"DataRange1d\"},{\"attributes\":{\"line_alpha\":{\"value\":0.1},\"line_color\":{\"value\":\"#1f77b4\"},\"x\":{\"field\":\"x\"},\"y\":{\"field\":\"y\"}},\"id\":\"9b4e47b8-5aff-46b1-9d44-f117d8561a36\",\"type\":\"Line\"},{\"attributes\":{\"plot\":{\"id\":\"e9d42c7b-ffed-4834-9d82-7bae37906087\",\"subtype\":\"Figure\",\"type\":\"Plot\"}},\"id\":\"a337d834-2b5a-4b4a-8b27-2da98cc6cb3c\",\"type\":\"ResetTool\"},{\"attributes\":{\"callback\":null,\"column_names\":[\"y\",\"x\"],\"data\":{\"x\":[0.0,0.12693303650867852,0.25386607301735703,0.3807991095260356,0.5077321460347141,0.6346651825433925,0.7615982190520711,0.8885312555607496,1.0154642920694281,1.1423973285781066,1.269330365086785,1.3962634015954636,1.5231964381041423,1.6501294746128208,1.7770625111214993,1.9039955476301778,2.0309285841388562,2.1578616206475347,2.284794657156213,2.4117276936648917,2.53866073017357,2.6655937666822487,2.792526803190927,2.9194598396996057,3.0463928762082846,3.173325912716963,3.3002589492256416,3.42719198573432,3.5541250222429985,3.681058058751677,3.8079910952603555,3.934924131769034,4.0618571682777125,4.188790204786391,4.3157232412950695,4.442656277803748,4.569589314312426,4.696522350821105,4.823455387329783,4.950388423838462,5.07732146034714,5.204254496855819,5.331187533364497,5.458120569873176,5.585053606381854,5.711986642890533,5.838919679399211,5.96585271590789,6.092785752416569,6.219718788925247,6.346651825433926,6.473584861942604,6.600517898451283,6.727450934959961,6.85438397146864,6.981317007977318,7.108250044485997,7.235183080994675,7.362116117503354,7.489049154012032,7.615982190520711,7.742915227029389,7.869848263538068,7.996781300046746,8.123714336555425,8.250647373064103,8.377580409572783,8.50451344608146,8.631446482590139,8.758379519098817,8.885312555607497,9.012245592116175,9.139178628624853,9.266111665133531,9.39304470164221,9.519977738150889,9.646910774659567,9.773843811168245,9.900776847676925,10.027709884185603,10.15464292069428,10.28157595720296,10.408508993711639,10.535442030220317,10.662375066728995,10.789308103237675,10.916241139746353,11.04317417625503,11.170107212763709,11.297040249272388,11.423973285781067,11.550906322289745,11.677839358798423,11.804772395307102,11.93170543181578,12.058638468324459,12.185571504833138,12.312504541341816,12.439437577850494,12.566370614359172],\"y\":[0.0,0.3797773607212478,0.7534439615432377,1.1149873669809827,1.4585902083014062,1.7787237871639212,2.070237034446336,2.3284393928752705,2.549176289848543,2.728895986063555,2.8647067243322217,2.954423259036624,2.9966020175490238,2.990564327855827,2.936407338644336,2.8350024561440055,2.6879813228740077,2.4977095639043143,2.2672487230627754,2.000307001548875,1.7011795915883126,1.3746795651822317,1.0260604299770066,0.6609315983596225,0.2851681299125473,-0.09518380049420355,-0.4740041879200503,-0.8451976705242895,-1.2027916062198414,-1.5410321747202191,-1.8544769586618157,-2.1380825141365882,-2.387285521592496,-2.5980762113533165,-2.767062882313744,-2.8915264756798265,-2.969464325642798,-2.999622383021625,-2.9815153933837624,-2.915434704970625,-2.8024435807953205,-2.644360090342746,-2.443727856151008,-2.2037751259725993,-1.9283628290596186,-1.6219224523667923,-1.2893847362675157,-0.9361003370954613,-0.5677537330812292,-0.19027175896969356,0.19027175896969473,0.5677537330812303,0.9361003370954624,1.2893847362675146,1.6219224523667937,1.9283628290596178,2.2037751259726,2.4437278561510065,2.6443600903427464,2.80244358079532,2.9154347049706253,2.9815153933837624,2.999622383021625,2.9694643256427984,2.891526475679826,2.767062882313745,2.5980762113533147,2.3872855215924957,2.1380825141365887,1.8544769586618168,1.541032174720217,1.2027916062198403,0.8451976705242896,0.47400418792005167,0.09518380049420103,-0.28516812991254853,-0.660931598359621,-1.026060429977004,-1.3746795651822326,-1.7011795915883126,-2.0003070015488738,-2.2672487230627763,-2.4977095639043148,-2.6879813228740077,-2.835002456144005,-2.9364073386443366,-2.990564327855827,-2.9966020175490238,-2.9544232590366244,-2.864706724332221,-2.728895986063555,-2.5491762898485435,-2.328439392875272,-2.070237034446335,-1.7787237871639212,-1.4585902083014068,-1.11498736698098,-0.7534439615432363,-0.3797773607212479,-1.4695761589768238e-15]}},\"id\":\"d814dd50-0c17-4209-a419-06fc485aeade\",\"type\":\"ColumnDataSource\"},{\"attributes\":{\"fill_alpha\":{\"value\":0.1},\"fill_color\":{\"value\":\"#1f77b4\"},\"line_alpha\":{\"value\":0.1},\"line_color\":{\"value\":\"#1f77b4\"},\"x\":{\"field\":\"x\"},\"y\":{\"field\":\"y\"}},\"id\":\"dea2352f-6a9a-4e4e-b817-efed29186ffa\",\"type\":\"Square\"},{\"attributes\":{\"callback\":null,\"column_names\":[\"y\",\"x\"],\"data\":{\"x\":[0.0,0.12693303650867852,0.25386607301735703,0.3807991095260356,0.5077321460347141,0.6346651825433925,0.7615982190520711,0.8885312555607496,1.0154642920694281,1.1423973285781066,1.269330365086785,1.3962634015954636,1.5231964381041423,1.6501294746128208,1.7770625111214993,1.9039955476301778,2.0309285841388562,2.1578616206475347,2.284794657156213,2.4117276936648917,2.53866073017357,2.6655937666822487,2.792526803190927,2.9194598396996057,3.0463928762082846,3.173325912716963,3.3002589492256416,3.42719198573432,3.5541250222429985,3.681058058751677,3.8079910952603555,3.934924131769034,4.0618571682777125,4.188790204786391,4.3157232412950695,4.442656277803748,4.569589314312426,4.696522350821105,4.823455387329783,4.950388423838462,5.07732146034714,5.204254496855819,5.331187533364497,5.458120569873176,5.585053606381854,5.711986642890533,5.838919679399211,5.96585271590789,6.092785752416569,6.219718788925247,6.346651825433926,6.473584861942604,6.600517898451283,6.727450934959961,6.85438397146864,6.981317007977318,7.108250044485997,7.235183080994675,7.362116117503354,7.489049154012032,7.615982190520711,7.742915227029389,7.869848263538068,7.996781300046746,8.123714336555425,8.250647373064103,8.377580409572783,8.50451344608146,8.631446482590139,8.758379519098817,8.885312555607497,9.012245592116175,9.139178628624853,9.266111665133531,9.39304470164221,9.519977738150889,9.646910774659567,9.773843811168245,9.900776847676925,10.027709884185603,10.15464292069428,10.28157595720296,10.408508993711639,10.535442030220317,10.662375066728995,10.789308103237675,10.916241139746353,11.04317417625503,11.170107212763709,11.297040249272388,11.423973285781067,11.550906322289745,11.677839358798423,11.804772395307102,11.93170543181578,12.058638468324459,12.185571504833138,12.312504541341816,12.439437577850494,12.566370614359172],\"y\":[0.0,0.25318490714749853,0.5022959743621584,0.7433249113206551,0.9723934722009374,1.1858158581092808,1.380158022964224,1.5522929285835136,1.6994508598990288,1.8192639907090367,1.9098044828881477,1.969615506024416,1.997734678366016,1.9937095519038848,1.9576048924295575,1.890001637429337,1.7919875485826717,1.6651397092695428,1.5114991487085168,1.3335380010325832,1.1341197277255417,0.916453043454821,0.6840402866513378,0.4406210655730816,0.19011208660836487,-0.0634558669961357,-0.31600279194670017,-0.5634651136828597,-0.8018610708132277,-1.0273547831468128,-1.2363179724412106,-1.4253883427577256,-1.5915236810616642,-1.7320508075688776,-1.8447085882091627,-1.9276843171198843,-1.9796428837618654,-1.9997482553477501,-1.9876769289225082,-1.9436231366470833,-1.8682957205302135,-1.762906726895164,-1.629151904100672,-1.4691834173150662,-1.2855752193730792,-1.0812816349111949,-0.8595898241783438,-0.6240668913969741,-0.3785024887208195,-0.12684783931312904,0.12684783931312982,0.37850248872082026,0.6240668913969749,0.8595898241783431,1.0812816349111958,1.2855752193730785,1.4691834173150669,1.629151904100671,1.7629067268951641,1.8682957205302133,1.9436231366470835,1.9876769289225082,1.9997482553477501,1.9796428837618656,1.927684317119884,1.8447085882091632,1.7320508075688765,1.5915236810616638,1.4253883427577259,1.2363179724412112,1.0273547831468113,0.8018610708132269,0.5634651136828598,0.3160027919467011,0.06345586699613402,-0.19011208660836568,-0.4406210655730807,-0.684040286651336,-0.9164530434548217,-1.1341197277255417,-1.3335380010325826,-1.5114991487085176,-1.6651397092695432,-1.7919875485826717,-1.8900016374293367,-1.9576048924295577,-1.9937095519038848,-1.997734678366016,-1.9696155060244163,-1.9098044828881473,-1.8192639907090367,-1.699450859899029,-1.5522929285835145,-1.3801580229642232,-1.1858158581092808,-0.972393472200938,-0.7433249113206534,-0.5022959743621576,-0.2531849071474986,-9.797174393178826e-16]}},\"id\":\"ced8d717-8030-4136-a783-17c1f000deb7\",\"type\":\"ColumnDataSource\"},{\"attributes\":{\"line_color\":{\"value\":\"green\"},\"x\":{\"field\":\"x\"},\"y\":{\"field\":\"y\"}},\"id\":\"d14765ae-cb41-4b0f-8f60-49f85d20475a\",\"type\":\"Line\"},{\"attributes\":{\"fill_alpha\":{\"value\":0.1},\"fill_color\":{\"value\":\"#1f77b4\"},\"line_alpha\":{\"value\":0.1},\"line_color\":{\"value\":\"#1f77b4\"},\"x\":{\"field\":\"x\"},\"y\":{\"field\":\"y\"}},\"id\":\"dfa01de1-40fd-4549-9b46-e8332e2ecd41\",\"type\":\"Circle\"},{\"attributes\":{\"callback\":null,\"column_names\":[\"y\",\"x\"],\"data\":{\"x\":[0.0,0.12693303650867852,0.25386607301735703,0.3807991095260356,0.5077321460347141,0.6346651825433925,0.7615982190520711,0.8885312555607496,1.0154642920694281,1.1423973285781066,1.269330365086785,1.3962634015954636,1.5231964381041423,1.6501294746128208,1.7770625111214993,1.9039955476301778,2.0309285841388562,2.1578616206475347,2.284794657156213,2.4117276936648917,2.53866073017357,2.6655937666822487,2.792526803190927,2.9194598396996057,3.0463928762082846,3.173325912716963,3.3002589492256416,3.42719198573432,3.5541250222429985,3.681058058751677,3.8079910952603555,3.934924131769034,4.0618571682777125,4.188790204786391,4.3157232412950695,4.442656277803748,4.569589314312426,4.696522350821105,4.823455387329783,4.950388423838462,5.07732146034714,5.204254496855819,5.331187533364497,5.458120569873176,5.585053606381854,5.711986642890533,5.838919679399211,5.96585271590789,6.092785752416569,6.219718788925247,6.346651825433926,6.473584861942604,6.600517898451283,6.727450934959961,6.85438397146864,6.981317007977318,7.108250044485997,7.235183080994675,7.362116117503354,7.489049154012032,7.615982190520711,7.742915227029389,7.869848263538068,7.996781300046746,8.123714336555425,8.250647373064103,8.377580409572783,8.50451344608146,8.631446482590139,8.758379519098817,8.885312555607497,9.012245592116175,9.139178628624853,9.266111665133531,9.39304470164221,9.519977738150889,9.646910774659567,9.773843811168245,9.900776847676925,10.027709884185603,10.15464292069428,10.28157595720296,10.408508993711639,10.535442030220317,10.662375066728995,10.789308103237675,10.916241139746353,11.04317417625503,11.170107212763709,11.297040249272388,11.423973285781067,11.550906322289745,11.677839358798423,11.804772395307102,11.93170543181578,12.058638468324459,12.185571504833138,12.312504541341816,12.439437577850494,12.566370614359172],\"y\":[0.0,0.3797773607212478,0.7534439615432377,1.1149873669809827,1.4585902083014062,1.7787237871639212,2.070237034446336,2.3284393928752705,2.549176289848543,2.728895986063555,2.8647067243322217,2.954423259036624,2.9966020175490238,2.990564327855827,2.936407338644336,2.8350024561440055,2.6879813228740077,2.4977095639043143,2.2672487230627754,2.000307001548875,1.7011795915883126,1.3746795651822317,1.0260604299770066,0.6609315983596225,0.2851681299125473,-0.09518380049420355,-0.4740041879200503,-0.8451976705242895,-1.2027916062198414,-1.5410321747202191,-1.8544769586618157,-2.1380825141365882,-2.387285521592496,-2.5980762113533165,-2.767062882313744,-2.8915264756798265,-2.969464325642798,-2.999622383021625,-2.9815153933837624,-2.915434704970625,-2.8024435807953205,-2.644360090342746,-2.443727856151008,-2.2037751259725993,-1.9283628290596186,-1.6219224523667923,-1.2893847362675157,-0.9361003370954613,-0.5677537330812292,-0.19027175896969356,0.19027175896969473,0.5677537330812303,0.9361003370954624,1.2893847362675146,1.6219224523667937,1.9283628290596178,2.2037751259726,2.4437278561510065,2.6443600903427464,2.80244358079532,2.9154347049706253,2.9815153933837624,2.999622383021625,2.9694643256427984,2.891526475679826,2.767062882313745,2.5980762113533147,2.3872855215924957,2.1380825141365887,1.8544769586618168,1.541032174720217,1.2027916062198403,0.8451976705242896,0.47400418792005167,0.09518380049420103,-0.28516812991254853,-0.660931598359621,-1.026060429977004,-1.3746795651822326,-1.7011795915883126,-2.0003070015488738,-2.2672487230627763,-2.4977095639043148,-2.6879813228740077,-2.835002456144005,-2.9364073386443366,-2.990564327855827,-2.9966020175490238,-2.9544232590366244,-2.864706724332221,-2.728895986063555,-2.5491762898485435,-2.328439392875272,-2.070237034446335,-1.7787237871639212,-1.4585902083014068,-1.11498736698098,-0.7534439615432363,-0.3797773607212479,-1.4695761589768238e-15]}},\"id\":\"980f9118-abba-402f-9784-dd3e9645009f\",\"type\":\"ColumnDataSource\"},{\"attributes\":{\"line_color\":{\"value\":\"orange\"},\"line_dash\":[4,4],\"line_width\":{\"value\":2},\"x\":{\"field\":\"x\"},\"y\":{\"field\":\"y\"}},\"id\":\"a4482815-c010-439b-835a-6ad25b1570e0\",\"type\":\"Line\"},{\"attributes\":{\"plot\":{\"id\":\"e9d42c7b-ffed-4834-9d82-7bae37906087\",\"subtype\":\"Figure\",\"type\":\"Plot\"}},\"id\":\"0b363f6e-86b6-4c81-bb18-ee79e032168a\",\"type\":\"SaveTool\"},{\"attributes\":{\"formatter\":{\"id\":\"82574237-92cb-4b95-8c65-3a036c7534f9\",\"type\":\"BasicTickFormatter\"},\"plot\":{\"id\":\"e9d42c7b-ffed-4834-9d82-7bae37906087\",\"subtype\":\"Figure\",\"type\":\"Plot\"},\"ticker\":{\"id\":\"ace002a1-7f34-4917-a9dc-e023222250e2\",\"type\":\"BasicTicker\"}},\"id\":\"e09a7676-5479-4621-9e2f-fd529355e950\",\"type\":\"LinearAxis\"},{\"attributes\":{\"callback\":null,\"column_names\":[\"y\",\"x\"],\"data\":{\"x\":[0.0,0.12693303650867852,0.25386607301735703,0.3807991095260356,0.5077321460347141,0.6346651825433925,0.7615982190520711,0.8885312555607496,1.0154642920694281,1.1423973285781066,1.269330365086785,1.3962634015954636,1.5231964381041423,1.6501294746128208,1.7770625111214993,1.9039955476301778,2.0309285841388562,2.1578616206475347,2.284794657156213,2.4117276936648917,2.53866073017357,2.6655937666822487,2.792526803190927,2.9194598396996057,3.0463928762082846,3.173325912716963,3.3002589492256416,3.42719198573432,3.5541250222429985,3.681058058751677,3.8079910952603555,3.934924131769034,4.0618571682777125,4.188790204786391,4.3157232412950695,4.442656277803748,4.569589314312426,4.696522350821105,4.823455387329783,4.950388423838462,5.07732146034714,5.204254496855819,5.331187533364497,5.458120569873176,5.585053606381854,5.711986642890533,5.838919679399211,5.96585271590789,6.092785752416569,6.219718788925247,6.346651825433926,6.473584861942604,6.600517898451283,6.727450934959961,6.85438397146864,6.981317007977318,7.108250044485997,7.235183080994675,7.362116117503354,7.489049154012032,7.615982190520711,7.742915227029389,7.869848263538068,7.996781300046746,8.123714336555425,8.250647373064103,8.377580409572783,8.50451344608146,8.631446482590139,8.758379519098817,8.885312555607497,9.012245592116175,9.139178628624853,9.266111665133531,9.39304470164221,9.519977738150889,9.646910774659567,9.773843811168245,9.900776847676925,10.027709884185603,10.15464292069428,10.28157595720296,10.408508993711639,10.535442030220317,10.662375066728995,10.789308103237675,10.916241139746353,11.04317417625503,11.170107212763709,11.297040249272388,11.423973285781067,11.550906322289745,11.677839358798423,11.804772395307102,11.93170543181578,12.058638468324459,12.185571504833138,12.312504541341816,12.439437577850494,12.566370614359172],\"y\":[0.0,0.12659245357374926,0.2511479871810792,0.3716624556603276,0.4861967361004687,0.5929079290546404,0.690079011482112,0.7761464642917568,0.8497254299495144,0.9096319953545183,0.9549022414440739,0.984807753012208,0.998867339183008,0.9968547759519424,0.9788024462147787,0.9450008187146685,0.8959937742913359,0.8325698546347714,0.7557495743542584,0.6667690005162916,0.5670598638627709,0.4582265217274105,0.3420201433256689,0.2203105327865408,0.09505604330418244,-0.03172793349806785,-0.15800139597335008,-0.28173255684142984,-0.40093053540661383,-0.5136773915734064,-0.6181589862206053,-0.7126941713788628,-0.7957618405308321,-0.8660254037844388,-0.9223542941045814,-0.9638421585599422,-0.9898214418809327,-0.9998741276738751,-0.9938384644612541,-0.9718115683235417,-0.9341478602651068,-0.881453363447582,-0.814575952050336,-0.7345917086575331,-0.6427876096865396,-0.5406408174555974,-0.4297949120891719,-0.31203344569848707,-0.18925124436040974,-0.06342391965656452,0.06342391965656491,0.18925124436041013,0.31203344569848745,0.42979491208917153,0.5406408174555979,0.6427876096865393,0.7345917086575334,0.8145759520503355,0.8814533634475821,0.9341478602651067,0.9718115683235418,0.9938384644612541,0.9998741276738751,0.9898214418809328,0.963842158559942,0.9223542941045816,0.8660254037844383,0.7957618405308319,0.7126941713788629,0.6181589862206056,0.5136773915734056,0.40093053540661344,0.2817325568414299,0.15800139597335056,0.03172793349806701,-0.09505604330418284,-0.22031053278654034,-0.342020143325668,-0.45822652172741085,-0.5670598638627709,-0.6667690005162913,-0.7557495743542588,-0.8325698546347716,-0.8959937742913359,-0.9450008187146683,-0.9788024462147789,-0.9968547759519424,-0.998867339183008,-0.9848077530122081,-0.9549022414440737,-0.9096319953545183,-0.8497254299495145,-0.7761464642917573,-0.6900790114821116,-0.5929079290546404,-0.486196736100469,-0.3716624556603267,-0.2511479871810788,-0.1265924535737493,-4.898587196589413e-16]}},\"id\":\"51ed8284-5b0a-47e1-8f40-2ce37e686dd6\",\"type\":\"ColumnDataSource\"},{\"attributes\":{\"callback\":null},\"id\":\"4dd29420-ba31-4a65-997c-536b4caad045\",\"type\":\"DataRange1d\"},{\"attributes\":{},\"id\":\"052751f7-e8dc-4d7d-a59b-072cd94714ea\",\"type\":\"BasicTickFormatter\"},{\"attributes\":{\"fill_color\":{\"value\":null},\"line_color\":{\"value\":\"green\"},\"x\":{\"field\":\"x\"},\"y\":{\"field\":\"y\"}},\"id\":\"0985ffda-cd41-47a5-b8cc-7c4c455a6cd5\",\"type\":\"Square\"},{\"attributes\":{\"fill_color\":{\"value\":\"#1f77b4\"},\"line_color\":{\"value\":\"#1f77b4\"},\"x\":{\"field\":\"x\"},\"y\":{\"field\":\"y\"}},\"id\":\"ad849546-dbc3-4776-94bb-ccb7a49a0afe\",\"type\":\"Circle\"},{\"attributes\":{\"callback\":null,\"column_names\":[\"y\",\"x\"],\"data\":{\"x\":[0.0,0.12693303650867852,0.25386607301735703,0.3807991095260356,0.5077321460347141,0.6346651825433925,0.7615982190520711,0.8885312555607496,1.0154642920694281,1.1423973285781066,1.269330365086785,1.3962634015954636,1.5231964381041423,1.6501294746128208,1.7770625111214993,1.9039955476301778,2.0309285841388562,2.1578616206475347,2.284794657156213,2.4117276936648917,2.53866073017357,2.6655937666822487,2.792526803190927,2.9194598396996057,3.0463928762082846,3.173325912716963,3.3002589492256416,3.42719198573432,3.5541250222429985,3.681058058751677,3.8079910952603555,3.934924131769034,4.0618571682777125,4.188790204786391,4.3157232412950695,4.442656277803748,4.569589314312426,4.696522350821105,4.823455387329783,4.950388423838462,5.07732146034714,5.204254496855819,5.331187533364497,5.458120569873176,5.585053606381854,5.711986642890533,5.838919679399211,5.96585271590789,6.092785752416569,6.219718788925247,6.346651825433926,6.473584861942604,6.600517898451283,6.727450934959961,6.85438397146864,6.981317007977318,7.108250044485997,7.235183080994675,7.362116117503354,7.489049154012032,7.615982190520711,7.742915227029389,7.869848263538068,7.996781300046746,8.123714336555425,8.250647373064103,8.377580409572783,8.50451344608146,8.631446482590139,8.758379519098817,8.885312555607497,9.012245592116175,9.139178628624853,9.266111665133531,9.39304470164221,9.519977738150889,9.646910774659567,9.773843811168245,9.900776847676925,10.027709884185603,10.15464292069428,10.28157595720296,10.408508993711639,10.535442030220317,10.662375066728995,10.789308103237675,10.916241139746353,11.04317417625503,11.170107212763709,11.297040249272388,11.423973285781067,11.550906322289745,11.677839358798423,11.804772395307102,11.93170543181578,12.058638468324459,12.185571504833138,12.312504541341816,12.439437577850494,12.566370614359172],\"y\":[0.0,0.12659245357374926,0.2511479871810792,0.3716624556603276,0.4861967361004687,0.5929079290546404,0.690079011482112,0.7761464642917568,0.8497254299495144,0.9096319953545183,0.9549022414440739,0.984807753012208,0.998867339183008,0.9968547759519424,0.9788024462147787,0.9450008187146685,0.8959937742913359,0.8325698546347714,0.7557495743542584,0.6667690005162916,0.5670598638627709,0.4582265217274105,0.3420201433256689,0.2203105327865408,0.09505604330418244,-0.03172793349806785,-0.15800139597335008,-0.28173255684142984,-0.40093053540661383,-0.5136773915734064,-0.6181589862206053,-0.7126941713788628,-0.7957618405308321,-0.8660254037844388,-0.9223542941045814,-0.9638421585599422,-0.9898214418809327,-0.9998741276738751,-0.9938384644612541,-0.9718115683235417,-0.9341478602651068,-0.881453363447582,-0.814575952050336,-0.7345917086575331,-0.6427876096865396,-0.5406408174555974,-0.4297949120891719,-0.31203344569848707,-0.18925124436040974,-0.06342391965656452,0.06342391965656491,0.18925124436041013,0.31203344569848745,0.42979491208917153,0.5406408174555979,0.6427876096865393,0.7345917086575334,0.8145759520503355,0.8814533634475821,0.9341478602651067,0.9718115683235418,0.9938384644612541,0.9998741276738751,0.9898214418809328,0.963842158559942,0.9223542941045816,0.8660254037844383,0.7957618405308319,0.7126941713788629,0.6181589862206056,0.5136773915734056,0.40093053540661344,0.2817325568414299,0.15800139597335056,0.03172793349806701,-0.09505604330418284,-0.22031053278654034,-0.342020143325668,-0.45822652172741085,-0.5670598638627709,-0.6667690005162913,-0.7557495743542588,-0.8325698546347716,-0.8959937742913359,-0.9450008187146683,-0.9788024462147789,-0.9968547759519424,-0.998867339183008,-0.9848077530122081,-0.9549022414440737,-0.9096319953545183,-0.8497254299495145,-0.7761464642917573,-0.6900790114821116,-0.5929079290546404,-0.486196736100469,-0.3716624556603267,-0.2511479871810788,-0.1265924535737493,-4.898587196589413e-16]}},\"id\":\"bc96d03d-7416-4d75-9ab3-009771a275a5\",\"type\":\"ColumnDataSource\"},{\"attributes\":{},\"id\":\"ace002a1-7f34-4917-a9dc-e023222250e2\",\"type\":\"BasicTicker\"},{\"attributes\":{},\"id\":\"82574237-92cb-4b95-8c65-3a036c7534f9\",\"type\":\"BasicTickFormatter\"},{\"attributes\":{},\"id\":\"eb99b474-0928-4c76-9706-b28a6be0b1dc\",\"type\":\"BasicTicker\"},{\"attributes\":{\"data_source\":{\"id\":\"51ed8284-5b0a-47e1-8f40-2ce37e686dd6\",\"type\":\"ColumnDataSource\"},\"glyph\":{\"id\":\"03148da5-0a6e-4b01-8571-c1d87a15f208\",\"type\":\"Line\"},\"hover_glyph\":null,\"nonselection_glyph\":{\"id\":\"9b4e47b8-5aff-46b1-9d44-f117d8561a36\",\"type\":\"Line\"},\"selection_glyph\":null},\"id\":\"53228f4c-5a85-419b-acfc-1c03885dc70f\",\"type\":\"GlyphRenderer\"},{\"attributes\":{\"legends\":[[\"sin(x)\",[{\"id\":\"e7e9e4c4-526e-4b60-aada-d6e790f0d871\",\"type\":\"GlyphRenderer\"},{\"id\":\"53228f4c-5a85-419b-acfc-1c03885dc70f\",\"type\":\"GlyphRenderer\"}]],[\"2*sin(x)\",[{\"id\":\"75803b0f-b13a-4759-a5e3-d83c05d51d7d\",\"type\":\"GlyphRenderer\"}]],[\"3*sin(x)\",[{\"id\":\"6b0a814e-365d-44ba-9b78-f7d73b6afac0\",\"type\":\"GlyphRenderer\"},{\"id\":\"84f885f4-6eb3-4614-9102-5f692c3d6b55\",\"type\":\"GlyphRenderer\"}]]],\"location\":\"bottom_left\",\"plot\":{\"id\":\"e9d42c7b-ffed-4834-9d82-7bae37906087\",\"subtype\":\"Figure\",\"type\":\"Plot\"}},\"id\":\"5bc4ff04-d3eb-43ae-b214-234780c3c120\",\"type\":\"Legend\"},{\"attributes\":{\"data_source\":{\"id\":\"d814dd50-0c17-4209-a419-06fc485aeade\",\"type\":\"ColumnDataSource\"},\"glyph\":{\"id\":\"d14765ae-cb41-4b0f-8f60-49f85d20475a\",\"type\":\"Line\"},\"hover_glyph\":null,\"nonselection_glyph\":{\"id\":\"12f2fec9-9d21-4f11-b182-73913d94fff9\",\"type\":\"Line\"},\"selection_glyph\":null},\"id\":\"6b0a814e-365d-44ba-9b78-f7d73b6afac0\",\"type\":\"GlyphRenderer\"},{\"attributes\":{\"bottom_units\":\"screen\",\"fill_alpha\":{\"value\":0.5},\"fill_color\":{\"value\":\"lightgrey\"},\"left_units\":\"screen\",\"level\":\"overlay\",\"line_alpha\":{\"value\":1.0},\"line_color\":{\"value\":\"black\"},\"line_dash\":[4,4],\"line_width\":{\"value\":2},\"plot\":null,\"render_mode\":\"css\",\"right_units\":\"screen\",\"top_units\":\"screen\"},\"id\":\"1a1df9f4-9bd0-46d9-8a8e-541d0baae76f\",\"type\":\"BoxAnnotation\"},{\"attributes\":{\"data_source\":{\"id\":\"ced8d717-8030-4136-a783-17c1f000deb7\",\"type\":\"ColumnDataSource\"},\"glyph\":{\"id\":\"a4482815-c010-439b-835a-6ad25b1570e0\",\"type\":\"Line\"},\"hover_glyph\":null,\"nonselection_glyph\":{\"id\":\"bb4c9e90-13a7-4036-9526-7aae4ee58162\",\"type\":\"Line\"},\"selection_glyph\":null},\"id\":\"75803b0f-b13a-4759-a5e3-d83c05d51d7d\",\"type\":\"GlyphRenderer\"},{\"attributes\":{\"plot\":{\"id\":\"e9d42c7b-ffed-4834-9d82-7bae37906087\",\"subtype\":\"Figure\",\"type\":\"Plot\"},\"ticker\":{\"id\":\"ace002a1-7f34-4917-a9dc-e023222250e2\",\"type\":\"BasicTicker\"}},\"id\":\"7dde743e-0149-4bbc-8ee1-5dd7e984ba0c\",\"type\":\"Grid\"},{\"attributes\":{\"data_source\":{\"id\":\"980f9118-abba-402f-9784-dd3e9645009f\",\"type\":\"ColumnDataSource\"},\"glyph\":{\"id\":\"0985ffda-cd41-47a5-b8cc-7c4c455a6cd5\",\"type\":\"Square\"},\"hover_glyph\":null,\"nonselection_glyph\":{\"id\":\"dea2352f-6a9a-4e4e-b817-efed29186ffa\",\"type\":\"Square\"},\"selection_glyph\":null},\"id\":\"84f885f4-6eb3-4614-9102-5f692c3d6b55\",\"type\":\"GlyphRenderer\"},{\"attributes\":{\"plot\":null,\"text\":null},\"id\":\"97282d2d-90f5-4fbe-8a17-eba0226463f0\",\"type\":\"Title\"},{\"attributes\":{},\"id\":\"d32f1824-7073-4915-9f76-01caad2b65fa\",\"type\":\"ToolEvents\"},{\"attributes\":{\"below\":[{\"id\":\"e09a7676-5479-4621-9e2f-fd529355e950\",\"type\":\"LinearAxis\"}],\"left\":[{\"id\":\"ac63f2ce-8c52-47b0-a2f4-a7c7febdc8c3\",\"type\":\"LinearAxis\"}],\"renderers\":[{\"id\":\"e09a7676-5479-4621-9e2f-fd529355e950\",\"type\":\"LinearAxis\"},{\"id\":\"7dde743e-0149-4bbc-8ee1-5dd7e984ba0c\",\"type\":\"Grid\"},{\"id\":\"ac63f2ce-8c52-47b0-a2f4-a7c7febdc8c3\",\"type\":\"LinearAxis\"},{\"id\":\"8a442815-525a-4a92-931a-605fc5b7fcbf\",\"type\":\"Grid\"},{\"id\":\"1a1df9f4-9bd0-46d9-8a8e-541d0baae76f\",\"type\":\"BoxAnnotation\"},{\"id\":\"5bc4ff04-d3eb-43ae-b214-234780c3c120\",\"type\":\"Legend\"},{\"id\":\"e7e9e4c4-526e-4b60-aada-d6e790f0d871\",\"type\":\"GlyphRenderer\"},{\"id\":\"53228f4c-5a85-419b-acfc-1c03885dc70f\",\"type\":\"GlyphRenderer\"},{\"id\":\"75803b0f-b13a-4759-a5e3-d83c05d51d7d\",\"type\":\"GlyphRenderer\"},{\"id\":\"6b0a814e-365d-44ba-9b78-f7d73b6afac0\",\"type\":\"GlyphRenderer\"},{\"id\":\"84f885f4-6eb3-4614-9102-5f692c3d6b55\",\"type\":\"GlyphRenderer\"}],\"title\":{\"id\":\"97282d2d-90f5-4fbe-8a17-eba0226463f0\",\"type\":\"Title\"},\"tool_events\":{\"id\":\"d32f1824-7073-4915-9f76-01caad2b65fa\",\"type\":\"ToolEvents\"},\"toolbar\":{\"id\":\"598e1c7f-a787-4ade-ab7a-5d6ae7ec5a02\",\"type\":\"Toolbar\"},\"x_range\":{\"id\":\"4dd29420-ba31-4a65-997c-536b4caad045\",\"type\":\"DataRange1d\"},\"y_range\":{\"id\":\"b6fc5d09-ea6e-4797-bd0e-9b64fda9d39f\",\"type\":\"DataRange1d\"}},\"id\":\"e9d42c7b-ffed-4834-9d82-7bae37906087\",\"subtype\":\"Figure\",\"type\":\"Plot\"},{\"attributes\":{\"active_drag\":\"auto\",\"active_scroll\":\"auto\",\"active_tap\":\"auto\",\"tools\":[{\"id\":\"1939028d-e3c5-49c4-9604-f41ba449a254\",\"type\":\"PanTool\"},{\"id\":\"feaa3518-5a02-4419-aaeb-75be55e4668b\",\"type\":\"WheelZoomTool\"},{\"id\":\"1947bdc9-1e6f-4d4a-9411-cbe823fc1040\",\"type\":\"BoxZoomTool\"},{\"id\":\"0b363f6e-86b6-4c81-bb18-ee79e032168a\",\"type\":\"SaveTool\"},{\"id\":\"a337d834-2b5a-4b4a-8b27-2da98cc6cb3c\",\"type\":\"ResetTool\"},{\"id\":\"c702b61e-1936-4981-bd63-39a09079aad6\",\"type\":\"HelpTool\"}]},\"id\":\"598e1c7f-a787-4ade-ab7a-5d6ae7ec5a02\",\"type\":\"Toolbar\"},{\"attributes\":{\"dimension\":1,\"plot\":{\"id\":\"e9d42c7b-ffed-4834-9d82-7bae37906087\",\"subtype\":\"Figure\",\"type\":\"Plot\"},\"ticker\":{\"id\":\"eb99b474-0928-4c76-9706-b28a6be0b1dc\",\"type\":\"BasicTicker\"}},\"id\":\"8a442815-525a-4a92-931a-605fc5b7fcbf\",\"type\":\"Grid\"},{\"attributes\":{\"line_alpha\":{\"value\":0.1},\"line_color\":{\"value\":\"#1f77b4\"},\"x\":{\"field\":\"x\"},\"y\":{\"field\":\"y\"}},\"id\":\"12f2fec9-9d21-4f11-b182-73913d94fff9\",\"type\":\"Line\"},{\"attributes\":{\"formatter\":{\"id\":\"052751f7-e8dc-4d7d-a59b-072cd94714ea\",\"type\":\"BasicTickFormatter\"},\"plot\":{\"id\":\"e9d42c7b-ffed-4834-9d82-7bae37906087\",\"subtype\":\"Figure\",\"type\":\"Plot\"},\"ticker\":{\"id\":\"eb99b474-0928-4c76-9706-b28a6be0b1dc\",\"type\":\"BasicTicker\"}},\"id\":\"ac63f2ce-8c52-47b0-a2f4-a7c7febdc8c3\",\"type\":\"LinearAxis\"},{\"attributes\":{\"line_color\":{\"value\":\"#1f77b4\"},\"x\":{\"field\":\"x\"},\"y\":{\"field\":\"y\"}},\"id\":\"03148da5-0a6e-4b01-8571-c1d87a15f208\",\"type\":\"Line\"},{\"attributes\":{\"line_alpha\":{\"value\":0.1},\"line_color\":{\"value\":\"#1f77b4\"},\"line_dash\":[4,4],\"line_width\":{\"value\":2},\"x\":{\"field\":\"x\"},\"y\":{\"field\":\"y\"}},\"id\":\"bb4c9e90-13a7-4036-9526-7aae4ee58162\",\"type\":\"Line\"}],\"root_ids\":[\"e9d42c7b-ffed-4834-9d82-7bae37906087\"]},\"title\":\"Bokeh Application\",\"version\":\"0.12.1\"}};\n",
       "            var render_items = [{\"docid\":\"479fbb2a-0d50-4c67-b217-bb0baa8efb29\",\"elementid\":\"742e459a-f1c7-4ed0-bb7e-c22261fe0bd1\",\"modelid\":\"e9d42c7b-ffed-4834-9d82-7bae37906087\",\"notebook_comms_target\":\"8d28d105-5b46-46d0-bd29-d2811eb65840\"}];\n",
       "            \n",
       "            Bokeh.embed.embed_items(docs_json, render_items);\n",
       "        });\n",
       "      },\n",
       "      function(Bokeh) {\n",
       "      }\n",
       "    ];\n",
       "  \n",
       "    function run_inline_js() {\n",
       "      for (var i = 0; i < inline_js.length; i++) {\n",
       "        inline_js[i](window.Bokeh);\n",
       "      }\n",
       "    }\n",
       "  \n",
       "    if (window._bokeh_is_loading === 0) {\n",
       "      console.log(\"Bokeh: BokehJS loaded, going straight to plotting\");\n",
       "      run_inline_js();\n",
       "    } else {\n",
       "      load_libs(js_urls, function() {\n",
       "        console.log(\"Bokeh: BokehJS plotting callback run at\", now());\n",
       "        run_inline_js();\n",
       "      });\n",
       "    }\n",
       "  }(this));\n",
       "</script>"
      ]
     },
     "metadata": {},
     "output_type": "display_data"
    },
    {
     "data": {
      "text/html": [
       "<p><code>&lt;Bokeh Notebook handle for <strong>In[5]</strong>&gt;</code></p>"
      ],
      "text/plain": [
       "<bokeh.io._CommsHandle at 0x10b975f10>"
      ]
     },
     "execution_count": 5,
     "metadata": {},
     "output_type": "execute_result"
    }
   ],
   "source": [
    "import numpy as np\n",
    "\n",
    "x = np.linspace(0, 4*np.pi, 100)\n",
    "y = np.sin(x)\n",
    "\n",
    "p = figure()\n",
    "\n",
    "p.circle(x, y, legend=\"sin(x)\")\n",
    "p.line(x, y, legend=\"sin(x)\")\n",
    "\n",
    "p.line(x, 2*y, legend=\"2*sin(x)\", line_dash=[4, 4], line_color=\"orange\", line_width=2)\n",
    "\n",
    "p.line(x, 3*y, legend=\"3*sin(x)\", line_color=\"green\")\n",
    "p.square(x, 3*y, legend=\"3*sin(x)\", fill_color=None, line_color=\"green\")\n",
    "\n",
    "p.legend.location = \"bottom_left\"\n",
    "\n",
    "show(p)"
   ]
  },
  {
   "cell_type": "code",
   "execution_count": 17,
   "metadata": {
    "collapsed": true
   },
   "outputs": [],
   "source": [
    "# EXERCISE Create a plot of your own and add a legend\n",
    "\n"
   ]
  },
  {
   "cell_type": "code",
   "execution_count": null,
   "metadata": {
    "collapsed": true
   },
   "outputs": [],
   "source": []
  }
 ],
 "metadata": {
  "kernelspec": {
   "display_name": "Python 2",
   "language": "python",
   "name": "python2"
  },
  "language_info": {
   "codemirror_mode": {
    "name": "ipython",
    "version": 2
   },
   "file_extension": ".py",
   "mimetype": "text/x-python",
   "name": "python",
   "nbconvert_exporter": "python",
   "pygments_lexer": "ipython2",
   "version": "2.7.12"
  }
 },
 "nbformat": 4,
 "nbformat_minor": 0
}
