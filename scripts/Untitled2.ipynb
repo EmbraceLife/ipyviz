{
 "cells": [
  {
   "cell_type": "code",
   "execution_count": 1,
   "metadata": {
    "collapsed": true
   },
   "outputs": [],
   "source": [
    "import pandas as pd"
   ]
  },
  {
   "cell_type": "code",
   "execution_count": 2,
   "metadata": {
    "collapsed": false
   },
   "outputs": [
    {
     "data": {
      "text/plain": [
       "Index([u' jack', u'jill', u' jesse', u'frank'], dtype='object')"
      ]
     },
     "execution_count": 2,
     "metadata": {},
     "output_type": "execute_result"
    }
   ],
   "source": [
    "\n",
    "idx = pd.Index([' jack', 'jill ', ' jesse ', 'frank'])\n",
    "\n",
    "idx.str.strip()\n",
    "idx.str.lstrip()\n",
    "idx.str.rstrip()\n"
   ]
  },
  {
   "cell_type": "code",
   "execution_count": 3,
   "metadata": {
    "collapsed": true
   },
   "outputs": [],
   "source": [
    "data = pd.read_csv('../Business analytics/data/fuzzydata2.csv')"
   ]
  },
  {
   "cell_type": "code",
   "execution_count": 4,
   "metadata": {
    "collapsed": false
   },
   "outputs": [
    {
     "data": {
      "text/html": [
       "<div>\n",
       "<table border=\"1\" class=\"dataframe\">\n",
       "  <thead>\n",
       "    <tr style=\"text-align: right;\">\n",
       "      <th></th>\n",
       "      <th>CONTACT</th>\n",
       "      <th>PHONE_NEW</th>\n",
       "      <th>ADDRESS_NEW</th>\n",
       "      <th>CITY</th>\n",
       "      <th>STATE</th>\n",
       "      <th>ZIP</th>\n",
       "    </tr>\n",
       "  </thead>\n",
       "  <tbody>\n",
       "    <tr>\n",
       "      <th>0</th>\n",
       "      <td>jim jefferson</td>\n",
       "      <td>(383) 890-0311</td>\n",
       "      <td>po box 90</td>\n",
       "      <td>west hamlin</td>\n",
       "      <td>wv</td>\n",
       "      <td>25571</td>\n",
       "    </tr>\n",
       "    <tr>\n",
       "      <th>1</th>\n",
       "      <td>NaN</td>\n",
       "      <td>(596) 406-1192</td>\n",
       "      <td>70 Boots Road</td>\n",
       "      <td>Monterey</td>\n",
       "      <td>CA</td>\n",
       "      <td>93940</td>\n",
       "    </tr>\n",
       "    <tr>\n",
       "      <th>2</th>\n",
       "      <td>Bill Brooks</td>\n",
       "      <td>(957) 862-2539</td>\n",
       "      <td>18 Civic Center Drive</td>\n",
       "      <td>Beverly Hills</td>\n",
       "      <td>CA</td>\n",
       "      <td>90210</td>\n",
       "    </tr>\n",
       "    <tr>\n",
       "      <th>3</th>\n",
       "      <td>barton cummings</td>\n",
       "      <td>(706) 846-1665</td>\n",
       "      <td>13 20th ave. south</td>\n",
       "      <td>birmingham</td>\n",
       "      <td>al</td>\n",
       "      <td>35209</td>\n",
       "    </tr>\n",
       "    <tr>\n",
       "      <th>4</th>\n",
       "      <td>Beth Boecker</td>\n",
       "      <td>(308) 540-7041</td>\n",
       "      <td>P.O. Box 57-266</td>\n",
       "      <td>Georgetown</td>\n",
       "      <td>TX</td>\n",
       "      <td>78627</td>\n",
       "    </tr>\n",
       "  </tbody>\n",
       "</table>\n",
       "</div>"
      ],
      "text/plain": [
       "           CONTACT       PHONE_NEW            ADDRESS_NEW           CITY  \\\n",
       "0    jim jefferson  (383) 890-0311              po box 90    west hamlin   \n",
       "1              NaN  (596) 406-1192          70 Boots Road       Monterey   \n",
       "2      Bill Brooks  (957) 862-2539  18 Civic Center Drive  Beverly Hills   \n",
       "3  barton cummings  (706) 846-1665     13 20th ave. south     birmingham   \n",
       "4     Beth Boecker  (308) 540-7041        P.O. Box 57-266     Georgetown   \n",
       "\n",
       "  STATE    ZIP  \n",
       "0    wv  25571  \n",
       "1    CA  93940  \n",
       "2    CA  90210  \n",
       "3    al  35209  \n",
       "4    TX  78627  "
      ]
     },
     "execution_count": 4,
     "metadata": {},
     "output_type": "execute_result"
    }
   ],
   "source": [
    "data.head()"
   ]
  },
  {
   "cell_type": "code",
   "execution_count": 5,
   "metadata": {
    "collapsed": false
   },
   "outputs": [
    {
     "data": {
      "text/plain": [
       "(727) 704-3241    6\n",
       "(911) 977-0640    6\n",
       "(936) 499-6200    6\n",
       "(246) 766-1449    5\n",
       "(646) 818-5204    5\n",
       "(992) 721-0308    5\n",
       "(827) 550-8600    5\n",
       "(766) 350-0567    5\n",
       "(537) 253-8688    5\n",
       "(958) 952-1187    5\n",
       "(386) 163-2216    5\n",
       "(572) 113-9438    5\n",
       "(553) 647-2437    5\n",
       "(718) 719-7269    5\n",
       "(564) 593-0248    5\n",
       "(235) 487-8811    5\n",
       "(326) 361-3498    5\n",
       "(494) 105-8744    5\n",
       "(727) 839-0781    4\n",
       "(321) 430-3037    4\n",
       "(773) 553-8830    4\n",
       "(906) 689-0849    4\n",
       "(793) 974-5694    4\n",
       "(773) 225-5036    4\n",
       "(243) 372-3476    4\n",
       "(893) 175-5876    4\n",
       "(841) 936-6871    4\n",
       "(478) 297-6195    4\n",
       "(597) 407-0749    4\n",
       "(899) 727-8457    4\n",
       "                 ..\n",
       "(533) 111-6767    1\n",
       "(561) 747-4650    1\n",
       "(484) 920-3822    1\n",
       "(931) 307-7197    1\n",
       "(476) 515-3978    1\n",
       "(796) 638-1462    1\n",
       "(588) 864-7564    1\n",
       "(948) 687-5742    1\n",
       "(462) 951-7195    1\n",
       "(363) 355-5418    1\n",
       "(264) 133-3209    1\n",
       "(421) 494-4918    1\n",
       "(521) 592-7233    1\n",
       "(936) 208-3659    1\n",
       "(386) 302-9249    1\n",
       "(952) 758-5614    1\n",
       "(946) 549-3890    1\n",
       "(751) 715-9093    1\n",
       "(268) 150-7483    1\n",
       "(885) 408-4334    1\n",
       "(706) 197-2447    1\n",
       "(214) 939-1962    1\n",
       "(298) 671-9424    1\n",
       "(299) 659-5457    1\n",
       "(356) 644-3833    1\n",
       "(643) 920-7875    1\n",
       "(962) 918-7534    1\n",
       "(928) 363-2044    1\n",
       "(572) 673-2841    1\n",
       "(603) 793-4291    1\n",
       "Name: PHONE_NEW, dtype: int64"
      ]
     },
     "execution_count": 5,
     "metadata": {},
     "output_type": "execute_result"
    }
   ],
   "source": [
    "data.PHONE_NEW.value_counts()"
   ]
  },
  {
   "cell_type": "code",
   "execution_count": null,
   "metadata": {
    "collapsed": true
   },
   "outputs": [],
   "source": []
  }
 ],
 "metadata": {
  "kernelspec": {
   "display_name": "Python 2",
   "language": "python",
   "name": "python2"
  },
  "language_info": {
   "codemirror_mode": {
    "name": "ipython",
    "version": 2
   },
   "file_extension": ".py",
   "mimetype": "text/x-python",
   "name": "python",
   "nbconvert_exporter": "python",
   "pygments_lexer": "ipython2",
   "version": "2.7.12"
  }
 },
 "nbformat": 4,
 "nbformat_minor": 1
}
