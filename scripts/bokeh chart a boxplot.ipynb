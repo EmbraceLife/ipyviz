{
 "cells": [
  {
   "cell_type": "code",
   "execution_count": 1,
   "metadata": {
    "collapsed": false
   },
   "outputs": [
    {
     "data": {
      "text/html": [
       "\n",
       "    <div class=\"bk-root\">\n",
       "        <a href=\"http://bokeh.pydata.org\" target=\"_blank\" class=\"bk-logo bk-logo-small bk-logo-notebook\"></a>\n",
       "        <span id=\"68729168-f86b-4157-8ca5-eeaa4f867857\">Loading BokehJS ...</span>\n",
       "    </div>"
      ]
     },
     "metadata": {},
     "output_type": "display_data"
    },
    {
     "data": {
      "application/javascript": [
       "\n",
       "(function(global) {\n",
       "  function now() {\n",
       "    return new Date();\n",
       "  }\n",
       "\n",
       "  var force = \"1\";\n",
       "\n",
       "  if (typeof (window._bokeh_onload_callbacks) === \"undefined\" || force !== \"\") {\n",
       "    window._bokeh_onload_callbacks = [];\n",
       "    window._bokeh_is_loading = undefined;\n",
       "  }\n",
       "\n",
       "  function run_callbacks() {\n",
       "    window._bokeh_onload_callbacks.forEach(function(callback) { callback() });\n",
       "    delete window._bokeh_onload_callbacks\n",
       "    console.info(\"Bokeh: all callbacks have finished\");\n",
       "  }\n",
       "\n",
       "  function load_libs(js_urls, callback) {\n",
       "    window._bokeh_onload_callbacks.push(callback);\n",
       "    if (window._bokeh_is_loading > 0) {\n",
       "      console.log(\"Bokeh: BokehJS is being loaded, scheduling callback at\", now());\n",
       "      return null;\n",
       "    }\n",
       "    if (js_urls == null || js_urls.length === 0) {\n",
       "      run_callbacks();\n",
       "      return null;\n",
       "    }\n",
       "    console.log(\"Bokeh: BokehJS not loaded, scheduling load and callback at\", now());\n",
       "    window._bokeh_is_loading = js_urls.length;\n",
       "    for (var i = 0; i < js_urls.length; i++) {\n",
       "      var url = js_urls[i];\n",
       "      var s = document.createElement('script');\n",
       "      s.src = url;\n",
       "      s.async = false;\n",
       "      s.onreadystatechange = s.onload = function() {\n",
       "        window._bokeh_is_loading--;\n",
       "        if (window._bokeh_is_loading === 0) {\n",
       "          console.log(\"Bokeh: all BokehJS libraries loaded\");\n",
       "          run_callbacks()\n",
       "        }\n",
       "      };\n",
       "      s.onerror = function() {\n",
       "        console.warn(\"failed to load library \" + url);\n",
       "      };\n",
       "      console.log(\"Bokeh: injecting script tag for BokehJS library: \", url);\n",
       "      document.getElementsByTagName(\"head\")[0].appendChild(s);\n",
       "    }\n",
       "  };\n",
       "\n",
       "  var js_urls = ['https://cdn.pydata.org/bokeh/release/bokeh-0.12.1.min.js', 'https://cdn.pydata.org/bokeh/release/bokeh-widgets-0.12.1.min.js', 'https://cdn.pydata.org/bokeh/release/bokeh-compiler-0.12.1.min.js'];\n",
       "\n",
       "  var inline_js = [\n",
       "    function(Bokeh) {\n",
       "      Bokeh.set_log_level(\"info\");\n",
       "    },\n",
       "    \n",
       "    function(Bokeh) {\n",
       "      \n",
       "      Bokeh.$(\"#68729168-f86b-4157-8ca5-eeaa4f867857\").text(\"BokehJS successfully loaded\");\n",
       "      var kernel = Jupyter.notebook.kernel\n",
       "      if (kernel.execute !== undefined) {\n",
       "          kernel.execute(\"import bokeh.io; bokeh.io._nb_loaded = True\");\n",
       "      }\n",
       "    },\n",
       "    function(Bokeh) {\n",
       "      console.log(\"Bokeh: injecting CSS: https://cdn.pydata.org/bokeh/release/bokeh-0.12.1.min.css\");\n",
       "      Bokeh.embed.inject_css(\"https://cdn.pydata.org/bokeh/release/bokeh-0.12.1.min.css\");\n",
       "      console.log(\"Bokeh: injecting CSS: https://cdn.pydata.org/bokeh/release/bokeh-widgets-0.12.1.min.css\");\n",
       "      Bokeh.embed.inject_css(\"https://cdn.pydata.org/bokeh/release/bokeh-widgets-0.12.1.min.css\");\n",
       "    }\n",
       "  ];\n",
       "\n",
       "  function run_inline_js() {\n",
       "    for (var i = 0; i < inline_js.length; i++) {\n",
       "      inline_js[i](window.Bokeh);\n",
       "    }\n",
       "  }\n",
       "\n",
       "  if (window._bokeh_is_loading === 0) {\n",
       "    console.log(\"Bokeh: BokehJS loaded, going straight to plotting\");\n",
       "    run_inline_js();\n",
       "  } else {\n",
       "    load_libs(js_urls, function() {\n",
       "      console.log(\"Bokeh: BokehJS plotting callback run at\", now());\n",
       "      run_inline_js();\n",
       "    });\n",
       "  }\n",
       "}(this));"
      ]
     },
     "metadata": {},
     "output_type": "display_data"
    }
   ],
   "source": [
    "# Boxplot\n",
    "\n",
    "from bokeh.charts import BoxPlot, output_notebook, show\n",
    "from bokeh.sampledata.autompg import autompg as df\n",
    "output_notebook()"
   ]
  },
  {
   "cell_type": "code",
   "execution_count": 2,
   "metadata": {
    "collapsed": false
   },
   "outputs": [
    {
     "data": {
      "text/html": [
       "\n",
       "\n",
       "    <div class=\"bk-root\">\n",
       "        <div class=\"plotdiv\" id=\"82f57ebf-2b8e-4b87-ab24-a63519cfffa7\"></div>\n",
       "    </div>\n",
       "<script type=\"text/javascript\">\n",
       "  \n",
       "  (function(global) {\n",
       "    function now() {\n",
       "      return new Date();\n",
       "    }\n",
       "  \n",
       "    var force = \"\";\n",
       "  \n",
       "    if (typeof (window._bokeh_onload_callbacks) === \"undefined\" || force !== \"\") {\n",
       "      window._bokeh_onload_callbacks = [];\n",
       "      window._bokeh_is_loading = undefined;\n",
       "    }\n",
       "  \n",
       "    function run_callbacks() {\n",
       "      window._bokeh_onload_callbacks.forEach(function(callback) { callback() });\n",
       "      delete window._bokeh_onload_callbacks\n",
       "      console.info(\"Bokeh: all callbacks have finished\");\n",
       "    }\n",
       "  \n",
       "    function load_libs(js_urls, callback) {\n",
       "      window._bokeh_onload_callbacks.push(callback);\n",
       "      if (window._bokeh_is_loading > 0) {\n",
       "        console.log(\"Bokeh: BokehJS is being loaded, scheduling callback at\", now());\n",
       "        return null;\n",
       "      }\n",
       "      if (js_urls == null || js_urls.length === 0) {\n",
       "        run_callbacks();\n",
       "        return null;\n",
       "      }\n",
       "      console.log(\"Bokeh: BokehJS not loaded, scheduling load and callback at\", now());\n",
       "      window._bokeh_is_loading = js_urls.length;\n",
       "      for (var i = 0; i < js_urls.length; i++) {\n",
       "        var url = js_urls[i];\n",
       "        var s = document.createElement('script');\n",
       "        s.src = url;\n",
       "        s.async = false;\n",
       "        s.onreadystatechange = s.onload = function() {\n",
       "          window._bokeh_is_loading--;\n",
       "          if (window._bokeh_is_loading === 0) {\n",
       "            console.log(\"Bokeh: all BokehJS libraries loaded\");\n",
       "            run_callbacks()\n",
       "          }\n",
       "        };\n",
       "        s.onerror = function() {\n",
       "          console.warn(\"failed to load library \" + url);\n",
       "        };\n",
       "        console.log(\"Bokeh: injecting script tag for BokehJS library: \", url);\n",
       "        document.getElementsByTagName(\"head\")[0].appendChild(s);\n",
       "      }\n",
       "    };var element = document.getElementById(\"82f57ebf-2b8e-4b87-ab24-a63519cfffa7\");\n",
       "    if (element == null) {\n",
       "      console.log(\"Bokeh: ERROR: autoload.js configured with elementid '82f57ebf-2b8e-4b87-ab24-a63519cfffa7' but no matching script tag was found. \")\n",
       "      return false;\n",
       "    }\n",
       "  \n",
       "    var js_urls = [];\n",
       "  \n",
       "    var inline_js = [\n",
       "      function(Bokeh) {\n",
       "        Bokeh.$(function() {\n",
       "            var docs_json = {\"e38a2852-80b8-49cb-b71d-3866d3329d9b\":{\"roots\":{\"references\":[{\"attributes\":{\"callback\":null,\"column_names\":[\"line_color\",\"line_alpha\",\"color\",\"fill_alpha\",\"height\",\"width\",\"y\",\"x\",\"label\"],\"data\":{\"chart_index\":[{\"origin\":1}],\"color\":[\"#f22c40\"],\"fill_alpha\":[0.8],\"height\":[5.5],\"label\":[{\"origin\":1}],\"line_alpha\":[1.0],\"line_color\":[\"black\"],\"origin\":[1],\"width\":[0.8],\"x\":[\"1\"],\"y\":[21.25]}},\"id\":\"f5730ce1-7626-4b02-bbfb-e15d3a9c676c\",\"type\":\"ColumnDataSource\"},{\"attributes\":{\"callback\":null,\"column_names\":[\"line_color\",\"line_alpha\",\"color\",\"fill_alpha\",\"height\",\"width\",\"y\",\"x\",\"label\"],\"data\":{\"chart_index\":[{\"origin\":3}],\"color\":[\"#407ee7\"],\"fill_alpha\":[0.8],\"height\":[5.900000000000002],\"label\":[{\"origin\":3}],\"line_alpha\":[1.0],\"line_color\":[\"black\"],\"origin\":[3],\"width\":[0.8],\"x\":[\"3\"],\"y\":[28.65]}},\"id\":\"2570654a-deb1-47ac-903e-d2e093928b00\",\"type\":\"ColumnDataSource\"},{\"attributes\":{\"data_source\":{\"id\":\"4f99fe02-59f4-4ccf-9386-a1987e4fcb10\",\"type\":\"ColumnDataSource\"},\"glyph\":{\"id\":\"6edbac36-ef6a-4ddb-83eb-a65fa275d285\",\"type\":\"Segment\"},\"hover_glyph\":null,\"nonselection_glyph\":null,\"selection_glyph\":null},\"id\":\"25bec888-1493-43b7-99ca-e5e18180c6f7\",\"type\":\"GlyphRenderer\"},{\"attributes\":{\"overlay\":{\"id\":\"9f4a2888-88cc-48c6-a5f4-31451a92139a\",\"type\":\"BoxAnnotation\"},\"plot\":{\"id\":\"62e7d692-0cb2-4538-bf43-54f9f5ebbbc1\",\"subtype\":\"Chart\",\"type\":\"Plot\"}},\"id\":\"3d89c0cc-b664-48a6-b5d9-0aca5cc2de9c\",\"type\":\"BoxZoomTool\"},{\"attributes\":{\"data_source\":{\"id\":\"c583724f-4df8-4837-aa9b-7cacc6fcbdfe\",\"type\":\"ColumnDataSource\"},\"glyph\":{\"id\":\"11a2dce1-d78c-4729-84e0-49f220346275\",\"type\":\"Rect\"},\"hover_glyph\":null,\"nonselection_glyph\":null,\"selection_glyph\":null},\"id\":\"136da960-afd4-4ca2-a3c1-753ee74d3c69\",\"type\":\"GlyphRenderer\"},{\"attributes\":{},\"id\":\"0f2fc67f-ff45-4569-814e-0d0007b24bb8\",\"type\":\"ToolEvents\"},{\"attributes\":{\"data_source\":{\"id\":\"636b19a3-2cf4-49b9-8382-ea858426b5e0\",\"type\":\"ColumnDataSource\"},\"glyph\":{\"id\":\"2801f672-b3e2-4d21-beee-623b2c88fc9c\",\"type\":\"Rect\"},\"hover_glyph\":null,\"nonselection_glyph\":null,\"selection_glyph\":null},\"id\":\"1680ccde-0710-4b13-b42b-0cc18d17b432\",\"type\":\"GlyphRenderer\"},{\"attributes\":{},\"id\":\"8a009442-3e5f-4fdd-9ec6-d447fda34d17\",\"type\":\"BasicTickFormatter\"},{\"attributes\":{\"fill_alpha\":{\"field\":\"fill_alpha\"},\"fill_color\":{\"field\":\"color\"},\"height\":{\"field\":\"height\",\"units\":\"data\"},\"line_color\":{\"field\":\"line_color\"},\"width\":{\"field\":\"width\",\"units\":\"data\"},\"x\":{\"field\":\"x\"},\"y\":{\"field\":\"y\"}},\"id\":\"7f7e99f2-25f8-400b-a9b1-80c4a4d1c41c\",\"type\":\"Rect\"},{\"attributes\":{\"data_source\":{\"id\":\"729b5224-5f08-4a65-a2c4-5bbaa3cddcd3\",\"type\":\"ColumnDataSource\"},\"glyph\":{\"id\":\"f5586cb5-1d1d-4cc5-9ea6-38a34bed8dfe\",\"type\":\"Circle\"},\"hover_glyph\":null,\"nonselection_glyph\":null,\"selection_glyph\":null},\"id\":\"d6407dec-7e11-4bca-9d9b-054a15a07ac8\",\"type\":\"GlyphRenderer\"},{\"attributes\":{\"data_source\":{\"id\":\"137afcb6-6cab-406a-a08d-1ba0f4b8f23b\",\"type\":\"ColumnDataSource\"},\"glyph\":{\"id\":\"6e7fb936-dbaf-4944-b9ae-2bbc9cd81859\",\"type\":\"Rect\"},\"hover_glyph\":null,\"nonselection_glyph\":null,\"selection_glyph\":null},\"id\":\"7614ecfb-ba0e-466d-aa80-d4e63f196add\",\"type\":\"GlyphRenderer\"},{\"attributes\":{\"callback\":null,\"column_names\":[\"x0s\",\"y0s\",\"x1s\",\"y1s\"],\"data\":{\"chart_index\":[{\"origin\":2},{\"origin\":2},{\"origin\":2},{\"origin\":2}],\"origin\":[2,2,2,2],\"x0s\":[\"2:0.5\",\"2:0.65\",\"2:0.5\",\"2:0.65\"],\"x1s\":[\"2:0.5\",\"2:0.35\",\"2:0.5\",\"2:0.35\"],\"y0s\":[16.2,16.2,30.125,39.6875],\"y1s\":[23.75,16.2,39.6875,39.6875]}},\"id\":\"4f99fe02-59f4-4ccf-9386-a1987e4fcb10\",\"type\":\"ColumnDataSource\"},{\"attributes\":{\"callback\":null,\"column_names\":[\"line_color\",\"line_alpha\",\"color\",\"fill_alpha\",\"height\",\"width\",\"y\",\"x\",\"label\"],\"data\":{\"chart_index\":[{\"origin\":3}],\"color\":[\"#407ee7\"],\"fill_alpha\":[0.8],\"height\":[2.4499999999999957],\"label\":[{\"origin\":3}],\"line_alpha\":[1.0],\"line_color\":[\"black\"],\"origin\":[3],\"width\":[0.8],\"x\":[\"3\"],\"y\":[32.825]}},\"id\":\"c583724f-4df8-4837-aa9b-7cacc6fcbdfe\",\"type\":\"ColumnDataSource\"},{\"attributes\":{\"callback\":null,\"column_names\":[\"x_values\",\"y_values\"],\"data\":{\"chart_index\":[{\"origin\":1},{\"origin\":1},{\"origin\":1}],\"origin\":[1,1,1],\"x_values\":[\"1:0.5\",\"1:0.5\",\"1:0.5\"],\"y_values\":[39.0,38.0,38.0]}},\"id\":\"15960755-6330-4e16-9e10-8f8016cd9494\",\"type\":\"ColumnDataSource\"},{\"attributes\":{\"plot\":{\"id\":\"62e7d692-0cb2-4538-bf43-54f9f5ebbbc1\",\"subtype\":\"Chart\",\"type\":\"Plot\"}},\"id\":\"d3caec57-5295-4d33-ba07-929bbac9eb9d\",\"type\":\"SaveTool\"},{\"attributes\":{\"callback\":null,\"column_names\":[\"line_color\",\"line_alpha\",\"color\",\"fill_alpha\",\"height\",\"width\",\"y\",\"x\",\"label\"],\"data\":{\"chart_index\":[{\"origin\":2}],\"color\":[\"#5ab738\"],\"fill_alpha\":[0.8],\"height\":[2.25],\"label\":[{\"origin\":2}],\"line_alpha\":[1.0],\"line_color\":[\"black\"],\"origin\":[2],\"width\":[0.8],\"x\":[\"2\"],\"y\":[24.875]}},\"id\":\"3acf9958-23cf-49c6-b98f-f7e4b9301974\",\"type\":\"ColumnDataSource\"},{\"attributes\":{\"callback\":null,\"end\":49.38},\"id\":\"fc377281-4962-4381-8472-ef14d1d81a93\",\"type\":\"Range1d\"},{\"attributes\":{\"data_source\":{\"id\":\"f5730ce1-7626-4b02-bbfb-e15d3a9c676c\",\"type\":\"ColumnDataSource\"},\"glyph\":{\"id\":\"5089eb0a-d769-4c88-8cc3-22a0741da648\",\"type\":\"Rect\"},\"hover_glyph\":null,\"nonselection_glyph\":null,\"selection_glyph\":null},\"id\":\"48fbacc7-3409-4681-9578-3b7d2d7eeb13\",\"type\":\"GlyphRenderer\"},{\"attributes\":{\"callback\":null,\"column_names\":[\"line_color\",\"line_alpha\",\"color\",\"fill_alpha\",\"height\",\"width\",\"y\",\"x\",\"label\"],\"data\":{\"chart_index\":[{\"origin\":1}],\"color\":[\"#f22c40\"],\"fill_alpha\":[0.8],\"height\":[3.5],\"label\":[{\"origin\":1}],\"line_alpha\":[1.0],\"line_color\":[\"black\"],\"origin\":[1],\"width\":[0.8],\"x\":[\"1\"],\"y\":[16.75]}},\"id\":\"636b19a3-2cf4-49b9-8382-ea858426b5e0\",\"type\":\"ColumnDataSource\"},{\"attributes\":{\"callback\":null,\"column_names\":[\"x0s\",\"y0s\",\"x1s\",\"y1s\"],\"data\":{\"chart_index\":[{\"origin\":1},{\"origin\":1},{\"origin\":1},{\"origin\":1}],\"origin\":[1,1,1,1],\"x0s\":[\"1:0.5\",\"1:0.65\",\"1:0.5\",\"1:0.65\"],\"x1s\":[\"1:0.5\",\"1:0.35\",\"1:0.5\",\"1:0.35\"],\"y0s\":[9.0,9.0,24.0,37.5],\"y1s\":[15.0,9.0,37.5,37.5]}},\"id\":\"0d04b369-6192-4f95-a50d-869a1b66b401\",\"type\":\"ColumnDataSource\"},{\"attributes\":{},\"id\":\"367db3b9-42e7-4582-9260-ac474706684a\",\"type\":\"CategoricalTickFormatter\"},{\"attributes\":{\"fill_alpha\":{\"field\":\"fill_alpha\"},\"fill_color\":{\"field\":\"color\"},\"height\":{\"field\":\"height\",\"units\":\"data\"},\"line_color\":{\"field\":\"line_color\"},\"width\":{\"field\":\"width\",\"units\":\"data\"},\"x\":{\"field\":\"x\"},\"y\":{\"field\":\"y\"}},\"id\":\"6e7fb936-dbaf-4944-b9ae-2bbc9cd81859\",\"type\":\"Rect\"},{\"attributes\":{\"data_source\":{\"id\":\"15960755-6330-4e16-9e10-8f8016cd9494\",\"type\":\"ColumnDataSource\"},\"glyph\":{\"id\":\"d038055b-607e-4e2c-85c9-7117eb735727\",\"type\":\"Circle\"},\"hover_glyph\":null,\"nonselection_glyph\":null,\"selection_glyph\":null},\"id\":\"299e5ea4-3fef-4847-a1a0-1a12d28efba3\",\"type\":\"GlyphRenderer\"},{\"attributes\":{\"fill_alpha\":{\"value\":0.7},\"fill_color\":{\"value\":\"red\"},\"line_color\":{\"value\":\"red\"},\"size\":{\"units\":\"screen\",\"value\":5},\"x\":{\"field\":\"x_values\"},\"y\":{\"field\":\"y_values\"}},\"id\":\"48996248-64e1-4116-8c79-f6ad5f6baa2c\",\"type\":\"Circle\"},{\"attributes\":{\"callback\":null,\"factors\":[\"1\",\"2\",\"3\"]},\"id\":\"016fb5c0-baee-40bc-98cd-0170d6d90a5e\",\"type\":\"FactorRange\"},{\"attributes\":{\"plot\":{\"id\":\"62e7d692-0cb2-4538-bf43-54f9f5ebbbc1\",\"subtype\":\"Chart\",\"type\":\"Plot\"}},\"id\":\"22f3f976-d3dd-4d8f-a04b-d851ae672099\",\"type\":\"HelpTool\"},{\"attributes\":{\"plot\":null,\"text\":\"MPG Summary (grouped and shaded by CYL)\"},\"id\":\"e3763b86-5f18-4776-8a9a-58625ddcbfa0\",\"type\":\"Title\"},{\"attributes\":{\"line_width\":{\"value\":2},\"x0\":{\"field\":\"x0s\"},\"x1\":{\"field\":\"x1s\"},\"y0\":{\"field\":\"y0s\"},\"y1\":{\"field\":\"y1s\"}},\"id\":\"7bd7c0cd-d250-4617-b494-86d696488dc4\",\"type\":\"Segment\"},{\"attributes\":{\"fill_alpha\":{\"value\":0.7},\"fill_color\":{\"value\":\"red\"},\"line_color\":{\"value\":\"red\"},\"size\":{\"units\":\"screen\",\"value\":5},\"x\":{\"field\":\"x_values\"},\"y\":{\"field\":\"y_values\"}},\"id\":\"f5586cb5-1d1d-4cc5-9ea6-38a34bed8dfe\",\"type\":\"Circle\"},{\"attributes\":{\"below\":[{\"id\":\"250eb88f-f4e0-4085-b764-605dc415d944\",\"type\":\"CategoricalAxis\"}],\"left\":[{\"id\":\"a60eed1b-a551-4bbe-a47f-a7e7763cbff2\",\"type\":\"LinearAxis\"}],\"renderers\":[{\"id\":\"9f4a2888-88cc-48c6-a5f4-31451a92139a\",\"type\":\"BoxAnnotation\"},{\"id\":\"1680ccde-0710-4b13-b42b-0cc18d17b432\",\"type\":\"GlyphRenderer\"},{\"id\":\"48fbacc7-3409-4681-9578-3b7d2d7eeb13\",\"type\":\"GlyphRenderer\"},{\"id\":\"299e5ea4-3fef-4847-a1a0-1a12d28efba3\",\"type\":\"GlyphRenderer\"},{\"id\":\"59167457-42d7-48b2-b467-a0c21cf977a0\",\"type\":\"GlyphRenderer\"},{\"id\":\"0cc13bb8-5d72-47db-a575-70ccd1e6782e\",\"type\":\"GlyphRenderer\"},{\"id\":\"136da960-afd4-4ca2-a3c1-753ee74d3c69\",\"type\":\"GlyphRenderer\"},{\"id\":\"d6407dec-7e11-4bca-9d9b-054a15a07ac8\",\"type\":\"GlyphRenderer\"},{\"id\":\"72feb622-cdb8-40be-9ea1-22c0441f281e\",\"type\":\"GlyphRenderer\"},{\"id\":\"5d1f52c4-c28e-4213-8659-afec1618545c\",\"type\":\"GlyphRenderer\"},{\"id\":\"7614ecfb-ba0e-466d-aa80-d4e63f196add\",\"type\":\"GlyphRenderer\"},{\"id\":\"665f8f72-6ec6-4937-84ba-916b6efefc0e\",\"type\":\"GlyphRenderer\"},{\"id\":\"25bec888-1493-43b7-99ca-e5e18180c6f7\",\"type\":\"GlyphRenderer\"},{\"id\":\"c954fdd6-5a55-4c8f-9cc6-a3e242e10cd1\",\"type\":\"Legend\"},{\"id\":\"250eb88f-f4e0-4085-b764-605dc415d944\",\"type\":\"CategoricalAxis\"},{\"id\":\"a60eed1b-a551-4bbe-a47f-a7e7763cbff2\",\"type\":\"LinearAxis\"},{\"id\":\"b33eaba5-6d79-4109-a302-47238aae9da9\",\"type\":\"Grid\"}],\"title\":{\"id\":\"e3763b86-5f18-4776-8a9a-58625ddcbfa0\",\"type\":\"Title\"},\"tool_events\":{\"id\":\"0f2fc67f-ff45-4569-814e-0d0007b24bb8\",\"type\":\"ToolEvents\"},\"toolbar\":{\"id\":\"7985ee5b-ea90-45c5-8492-2f78b3e1b878\",\"type\":\"Toolbar\"},\"x_mapper_type\":\"auto\",\"x_range\":{\"id\":\"016fb5c0-baee-40bc-98cd-0170d6d90a5e\",\"type\":\"FactorRange\"},\"y_mapper_type\":\"auto\",\"y_range\":{\"id\":\"fc377281-4962-4381-8472-ef14d1d81a93\",\"type\":\"Range1d\"}},\"id\":\"62e7d692-0cb2-4538-bf43-54f9f5ebbbc1\",\"subtype\":\"Chart\",\"type\":\"Plot\"},{\"attributes\":{\"callback\":null,\"column_names\":[\"x_values\",\"y_values\"],\"data\":{\"chart_index\":[{\"origin\":3}],\"origin\":[3],\"x_values\":[\"3:0.5\"],\"y_values\":[46.6]}},\"id\":\"729b5224-5f08-4a65-a2c4-5bbaa3cddcd3\",\"type\":\"ColumnDataSource\"},{\"attributes\":{\"data_source\":{\"id\":\"2570654a-deb1-47ac-903e-d2e093928b00\",\"type\":\"ColumnDataSource\"},\"glyph\":{\"id\":\"7f7e99f2-25f8-400b-a9b1-80c4a4d1c41c\",\"type\":\"Rect\"},\"hover_glyph\":null,\"nonselection_glyph\":null,\"selection_glyph\":null},\"id\":\"0cc13bb8-5d72-47db-a575-70ccd1e6782e\",\"type\":\"GlyphRenderer\"},{\"attributes\":{\"axis_label\":\"Origin\",\"formatter\":{\"id\":\"367db3b9-42e7-4582-9260-ac474706684a\",\"type\":\"CategoricalTickFormatter\"},\"major_label_orientation\":0.7853981633974483,\"plot\":{\"id\":\"62e7d692-0cb2-4538-bf43-54f9f5ebbbc1\",\"subtype\":\"Chart\",\"type\":\"Plot\"},\"ticker\":{\"id\":\"92cdd49a-a116-4488-ba63-36b75e86eb3c\",\"type\":\"CategoricalTicker\"}},\"id\":\"250eb88f-f4e0-4085-b764-605dc415d944\",\"type\":\"CategoricalAxis\"},{\"attributes\":{\"line_width\":{\"value\":2},\"x0\":{\"field\":\"x0s\"},\"x1\":{\"field\":\"x1s\"},\"y0\":{\"field\":\"y0s\"},\"y1\":{\"field\":\"y1s\"}},\"id\":\"de112301-45c9-4faa-86d2-c35f5051b8e8\",\"type\":\"Segment\"},{\"attributes\":{\"data_source\":{\"id\":\"0d04b369-6192-4f95-a50d-869a1b66b401\",\"type\":\"ColumnDataSource\"},\"glyph\":{\"id\":\"7bd7c0cd-d250-4617-b494-86d696488dc4\",\"type\":\"Segment\"},\"hover_glyph\":null,\"nonselection_glyph\":null,\"selection_glyph\":null},\"id\":\"59167457-42d7-48b2-b467-a0c21cf977a0\",\"type\":\"GlyphRenderer\"},{\"attributes\":{\"callback\":null,\"column_names\":[\"x0s\",\"y0s\",\"x1s\",\"y1s\"],\"data\":{\"chart_index\":[{\"origin\":3},{\"origin\":3},{\"origin\":3},{\"origin\":3}],\"origin\":[3,3,3,3],\"x0s\":[\"3:0.5\",\"3:0.65\",\"3:0.5\",\"3:0.65\"],\"x1s\":[\"3:0.5\",\"3:0.35\",\"3:0.5\",\"3:0.35\"],\"y0s\":[18.0,18.0,34.05,46.574999999999996],\"y1s\":[25.7,18.0,46.574999999999996,46.574999999999996]}},\"id\":\"71795437-b953-40fb-940d-6317aec9d70e\",\"type\":\"ColumnDataSource\"},{\"attributes\":{\"data_source\":{\"id\":\"71795437-b953-40fb-940d-6317aec9d70e\",\"type\":\"ColumnDataSource\"},\"glyph\":{\"id\":\"de112301-45c9-4faa-86d2-c35f5051b8e8\",\"type\":\"Segment\"},\"hover_glyph\":null,\"nonselection_glyph\":null,\"selection_glyph\":null},\"id\":\"72feb622-cdb8-40be-9ea1-22c0441f281e\",\"type\":\"GlyphRenderer\"},{\"attributes\":{\"bottom_units\":\"screen\",\"fill_alpha\":{\"value\":0.5},\"fill_color\":{\"value\":\"lightgrey\"},\"left_units\":\"screen\",\"level\":\"overlay\",\"line_alpha\":{\"value\":1.0},\"line_color\":{\"value\":\"black\"},\"line_dash\":[4,4],\"line_width\":{\"value\":2},\"plot\":null,\"render_mode\":\"css\",\"right_units\":\"screen\",\"top_units\":\"screen\"},\"id\":\"9f4a2888-88cc-48c6-a5f4-31451a92139a\",\"type\":\"BoxAnnotation\"},{\"attributes\":{\"dimension\":1,\"plot\":{\"id\":\"62e7d692-0cb2-4538-bf43-54f9f5ebbbc1\",\"subtype\":\"Chart\",\"type\":\"Plot\"},\"ticker\":{\"id\":\"97403a9a-8263-4ec1-90fc-f5bee0947a60\",\"type\":\"BasicTicker\"}},\"id\":\"b33eaba5-6d79-4109-a302-47238aae9da9\",\"type\":\"Grid\"},{\"attributes\":{\"plot\":{\"id\":\"62e7d692-0cb2-4538-bf43-54f9f5ebbbc1\",\"subtype\":\"Chart\",\"type\":\"Plot\"}},\"id\":\"4933ba8a-fe5f-452c-bc29-ff5074a97d14\",\"type\":\"ResetTool\"},{\"attributes\":{\"active_drag\":\"auto\",\"active_scroll\":\"auto\",\"active_tap\":\"auto\",\"tools\":[{\"id\":\"9e3e6181-8a73-4e97-addb-355f00ca4f98\",\"type\":\"PanTool\"},{\"id\":\"c9841eb0-79e7-47d3-92c8-37aa86468d48\",\"type\":\"WheelZoomTool\"},{\"id\":\"3d89c0cc-b664-48a6-b5d9-0aca5cc2de9c\",\"type\":\"BoxZoomTool\"},{\"id\":\"d3caec57-5295-4d33-ba07-929bbac9eb9d\",\"type\":\"SaveTool\"},{\"id\":\"4933ba8a-fe5f-452c-bc29-ff5074a97d14\",\"type\":\"ResetTool\"},{\"id\":\"22f3f976-d3dd-4d8f-a04b-d851ae672099\",\"type\":\"HelpTool\"}]},\"id\":\"7985ee5b-ea90-45c5-8492-2f78b3e1b878\",\"type\":\"Toolbar\"},{\"attributes\":{\"plot\":{\"id\":\"62e7d692-0cb2-4538-bf43-54f9f5ebbbc1\",\"subtype\":\"Chart\",\"type\":\"Plot\"}},\"id\":\"9e3e6181-8a73-4e97-addb-355f00ca4f98\",\"type\":\"PanTool\"},{\"attributes\":{\"plot\":{\"id\":\"62e7d692-0cb2-4538-bf43-54f9f5ebbbc1\",\"subtype\":\"Chart\",\"type\":\"Plot\"}},\"id\":\"c9841eb0-79e7-47d3-92c8-37aa86468d48\",\"type\":\"WheelZoomTool\"},{\"attributes\":{\"fill_alpha\":{\"value\":0.7},\"fill_color\":{\"value\":\"red\"},\"line_color\":{\"value\":\"red\"},\"size\":{\"units\":\"screen\",\"value\":5},\"x\":{\"field\":\"x_values\"},\"y\":{\"field\":\"y_values\"}},\"id\":\"d038055b-607e-4e2c-85c9-7117eb735727\",\"type\":\"Circle\"},{\"attributes\":{\"data_source\":{\"id\":\"3acf9958-23cf-49c6-b98f-f7e4b9301974\",\"type\":\"ColumnDataSource\"},\"glyph\":{\"id\":\"886001f7-2996-4443-9def-0315773052f5\",\"type\":\"Rect\"},\"hover_glyph\":null,\"nonselection_glyph\":null,\"selection_glyph\":null},\"id\":\"5d1f52c4-c28e-4213-8659-afec1618545c\",\"type\":\"GlyphRenderer\"},{\"attributes\":{\"data_source\":{\"id\":\"40055458-00e3-4441-848a-ed4e6fad01c3\",\"type\":\"ColumnDataSource\"},\"glyph\":{\"id\":\"48996248-64e1-4116-8c79-f6ad5f6baa2c\",\"type\":\"Circle\"},\"hover_glyph\":null,\"nonselection_glyph\":null,\"selection_glyph\":null},\"id\":\"665f8f72-6ec6-4937-84ba-916b6efefc0e\",\"type\":\"GlyphRenderer\"},{\"attributes\":{\"line_width\":{\"value\":2},\"x0\":{\"field\":\"x0s\"},\"x1\":{\"field\":\"x1s\"},\"y0\":{\"field\":\"y0s\"},\"y1\":{\"field\":\"y1s\"}},\"id\":\"6edbac36-ef6a-4ddb-83eb-a65fa275d285\",\"type\":\"Segment\"},{\"attributes\":{\"callback\":null,\"column_names\":[\"line_color\",\"line_alpha\",\"color\",\"fill_alpha\",\"height\",\"width\",\"y\",\"x\",\"label\"],\"data\":{\"chart_index\":[{\"origin\":2}],\"color\":[\"#5ab738\"],\"fill_alpha\":[0.8],\"height\":[4.125],\"label\":[{\"origin\":2}],\"line_alpha\":[1.0],\"line_color\":[\"black\"],\"origin\":[2],\"width\":[0.8],\"x\":[\"2\"],\"y\":[28.0625]}},\"id\":\"137afcb6-6cab-406a-a08d-1ba0f4b8f23b\",\"type\":\"ColumnDataSource\"},{\"attributes\":{\"legends\":[[\"1\",[{\"id\":\"1680ccde-0710-4b13-b42b-0cc18d17b432\",\"type\":\"GlyphRenderer\"},{\"id\":\"48fbacc7-3409-4681-9578-3b7d2d7eeb13\",\"type\":\"GlyphRenderer\"},{\"id\":\"299e5ea4-3fef-4847-a1a0-1a12d28efba3\",\"type\":\"GlyphRenderer\"},{\"id\":\"59167457-42d7-48b2-b467-a0c21cf977a0\",\"type\":\"GlyphRenderer\"}]],[\"3\",[{\"id\":\"0cc13bb8-5d72-47db-a575-70ccd1e6782e\",\"type\":\"GlyphRenderer\"},{\"id\":\"136da960-afd4-4ca2-a3c1-753ee74d3c69\",\"type\":\"GlyphRenderer\"},{\"id\":\"d6407dec-7e11-4bca-9d9b-054a15a07ac8\",\"type\":\"GlyphRenderer\"},{\"id\":\"72feb622-cdb8-40be-9ea1-22c0441f281e\",\"type\":\"GlyphRenderer\"}]],[\"2\",[{\"id\":\"5d1f52c4-c28e-4213-8659-afec1618545c\",\"type\":\"GlyphRenderer\"},{\"id\":\"7614ecfb-ba0e-466d-aa80-d4e63f196add\",\"type\":\"GlyphRenderer\"},{\"id\":\"665f8f72-6ec6-4937-84ba-916b6efefc0e\",\"type\":\"GlyphRenderer\"},{\"id\":\"25bec888-1493-43b7-99ca-e5e18180c6f7\",\"type\":\"GlyphRenderer\"}]]],\"location\":\"top_left\",\"plot\":{\"id\":\"62e7d692-0cb2-4538-bf43-54f9f5ebbbc1\",\"subtype\":\"Chart\",\"type\":\"Plot\"}},\"id\":\"c954fdd6-5a55-4c8f-9cc6-a3e242e10cd1\",\"type\":\"Legend\"},{\"attributes\":{\"callback\":null,\"column_names\":[\"x_values\",\"y_values\"],\"data\":{\"chart_index\":[{\"origin\":2},{\"origin\":2},{\"origin\":2},{\"origin\":2},{\"origin\":2}],\"origin\":[2,2,2,2,2],\"x_values\":[\"2:0.5\",\"2:0.5\",\"2:0.5\",\"2:0.5\",\"2:0.5\"],\"y_values\":[43.1,41.5,44.3,43.4,44.0]}},\"id\":\"40055458-00e3-4441-848a-ed4e6fad01c3\",\"type\":\"ColumnDataSource\"},{\"attributes\":{\"fill_alpha\":{\"field\":\"fill_alpha\"},\"fill_color\":{\"field\":\"color\"},\"height\":{\"field\":\"height\",\"units\":\"data\"},\"line_color\":{\"field\":\"line_color\"},\"width\":{\"field\":\"width\",\"units\":\"data\"},\"x\":{\"field\":\"x\"},\"y\":{\"field\":\"y\"}},\"id\":\"11a2dce1-d78c-4729-84e0-49f220346275\",\"type\":\"Rect\"},{\"attributes\":{\"axis_label\":\"Mpg\",\"formatter\":{\"id\":\"8a009442-3e5f-4fdd-9ec6-d447fda34d17\",\"type\":\"BasicTickFormatter\"},\"plot\":{\"id\":\"62e7d692-0cb2-4538-bf43-54f9f5ebbbc1\",\"subtype\":\"Chart\",\"type\":\"Plot\"},\"ticker\":{\"id\":\"97403a9a-8263-4ec1-90fc-f5bee0947a60\",\"type\":\"BasicTicker\"}},\"id\":\"a60eed1b-a551-4bbe-a47f-a7e7763cbff2\",\"type\":\"LinearAxis\"},{\"attributes\":{},\"id\":\"97403a9a-8263-4ec1-90fc-f5bee0947a60\",\"type\":\"BasicTicker\"},{\"attributes\":{\"fill_alpha\":{\"field\":\"fill_alpha\"},\"fill_color\":{\"field\":\"color\"},\"height\":{\"field\":\"height\",\"units\":\"data\"},\"line_color\":{\"field\":\"line_color\"},\"width\":{\"field\":\"width\",\"units\":\"data\"},\"x\":{\"field\":\"x\"},\"y\":{\"field\":\"y\"}},\"id\":\"886001f7-2996-4443-9def-0315773052f5\",\"type\":\"Rect\"},{\"attributes\":{\"fill_alpha\":{\"field\":\"fill_alpha\"},\"fill_color\":{\"field\":\"color\"},\"height\":{\"field\":\"height\",\"units\":\"data\"},\"line_color\":{\"field\":\"line_color\"},\"width\":{\"field\":\"width\",\"units\":\"data\"},\"x\":{\"field\":\"x\"},\"y\":{\"field\":\"y\"}},\"id\":\"5089eb0a-d769-4c88-8cc3-22a0741da648\",\"type\":\"Rect\"},{\"attributes\":{\"fill_alpha\":{\"field\":\"fill_alpha\"},\"fill_color\":{\"field\":\"color\"},\"height\":{\"field\":\"height\",\"units\":\"data\"},\"line_color\":{\"field\":\"line_color\"},\"width\":{\"field\":\"width\",\"units\":\"data\"},\"x\":{\"field\":\"x\"},\"y\":{\"field\":\"y\"}},\"id\":\"2801f672-b3e2-4d21-beee-623b2c88fc9c\",\"type\":\"Rect\"},{\"attributes\":{},\"id\":\"92cdd49a-a116-4488-ba63-36b75e86eb3c\",\"type\":\"CategoricalTicker\"}],\"root_ids\":[\"62e7d692-0cb2-4538-bf43-54f9f5ebbbc1\"]},\"title\":\"Bokeh Application\",\"version\":\"0.12.1\"}};\n",
       "            var render_items = [{\"docid\":\"e38a2852-80b8-49cb-b71d-3866d3329d9b\",\"elementid\":\"82f57ebf-2b8e-4b87-ab24-a63519cfffa7\",\"modelid\":\"62e7d692-0cb2-4538-bf43-54f9f5ebbbc1\",\"notebook_comms_target\":\"08c16e46-5628-4730-ae40-2f45fbb35f86\"}];\n",
       "            \n",
       "            Bokeh.embed.embed_items(docs_json, render_items);\n",
       "        });\n",
       "      },\n",
       "      function(Bokeh) {\n",
       "      }\n",
       "    ];\n",
       "  \n",
       "    function run_inline_js() {\n",
       "      for (var i = 0; i < inline_js.length; i++) {\n",
       "        inline_js[i](window.Bokeh);\n",
       "      }\n",
       "    }\n",
       "  \n",
       "    if (window._bokeh_is_loading === 0) {\n",
       "      console.log(\"Bokeh: BokehJS loaded, going straight to plotting\");\n",
       "      run_inline_js();\n",
       "    } else {\n",
       "      load_libs(js_urls, function() {\n",
       "        console.log(\"Bokeh: BokehJS plotting callback run at\", now());\n",
       "        run_inline_js();\n",
       "      });\n",
       "    }\n",
       "  }(this));\n",
       "</script>"
      ]
     },
     "metadata": {},
     "output_type": "display_data"
    },
    {
     "data": {
      "text/html": [
       "<p><code>&lt;Bokeh Notebook handle for <strong>In[2]</strong>&gt;</code></p>"
      ],
      "text/plain": [
       "<bokeh.io._CommsHandle at 0x10bc31b90>"
      ]
     },
     "execution_count": 2,
     "metadata": {},
     "output_type": "execute_result"
    }
   ],
   "source": [
    "p = BoxPlot(df, values='mpg', label='origin', color='origin',\n",
    "            title=\"MPG Summary (grouped and shaded by CYL)\")\n",
    "\n",
    "show(p)"
   ]
  },
  {
   "cell_type": "code",
   "execution_count": null,
   "metadata": {
    "collapsed": true
   },
   "outputs": [],
   "source": []
  }
 ],
 "metadata": {
  "kernelspec": {
   "display_name": "Python 2",
   "language": "python",
   "name": "python2"
  },
  "language_info": {
   "codemirror_mode": {
    "name": "ipython",
    "version": 2
   },
   "file_extension": ".py",
   "mimetype": "text/x-python",
   "name": "python",
   "nbconvert_exporter": "python",
   "pygments_lexer": "ipython2",
   "version": "2.7.12"
  }
 },
 "nbformat": 4,
 "nbformat_minor": 1
}
