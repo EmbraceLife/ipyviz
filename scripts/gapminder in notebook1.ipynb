{
 "cells": [
  {
   "cell_type": "code",
   "execution_count": 4,
   "metadata": {
    "collapsed": true
   },
   "outputs": [],
   "source": [
    "from collections import OrderedDict\n",
    "import pandas as pd\n",
    "import numpy as np"
   ]
  },
  {
   "cell_type": "markdown",
   "metadata": {},
   "source": [
    "### OrderedDict remember the order how data is created "
   ]
  },
  {
   "cell_type": "code",
   "execution_count": 3,
   "metadata": {
    "collapsed": false
   },
   "outputs": [
    {
     "name": "stdout",
     "output_type": "stream",
     "text": [
      "Regular dictionary:\n",
      "a A\n",
      "c C\n",
      "b B\n",
      "e E\n",
      "d D\n",
      "\n",
      "OrderedDict:\n",
      "a A\n",
      "b B\n",
      "c C\n",
      "d D\n",
      "e E\n"
     ]
    }
   ],
   "source": [
    "print 'Regular dictionary:'\n",
    "d = {}\n",
    "d['a'] = 'A'\n",
    "d['b'] = 'B'\n",
    "d['c'] = 'C'\n",
    "d['d'] = 'D'\n",
    "d['e'] = 'E'\n",
    "\n",
    "for k, v in d.items():\n",
    "    print k, v\n",
    "\n",
    "print '\\nOrderedDict:'\n",
    "d = OrderedDict()\n",
    "d['a'] = 'A'\n",
    "d['b'] = 'B'\n",
    "d['c'] = 'C'\n",
    "d['d'] = 'D'\n",
    "d['e'] = 'E'\n",
    "\n",
    "for k, v in d.items():\n",
    "    print k, v"
   ]
  },
  {
   "cell_type": "markdown",
   "metadata": {},
   "source": [
    "### OrderedDict compare two dicts by values and orders "
   ]
  },
  {
   "cell_type": "code",
   "execution_count": 5,
   "metadata": {
    "collapsed": false
   },
   "outputs": [
    {
     "name": "stdout",
     "output_type": "stream",
     "text": [
      "dict       : True\n",
      "OrderedDict: False\n"
     ]
    }
   ],
   "source": [
    "print 'dict       :',\n",
    "d1 = {}\n",
    "d1['a'] = 'A'\n",
    "d1['b'] = 'B'\n",
    "d1['c'] = 'C'\n",
    "d1['d'] = 'D'\n",
    "d1['e'] = 'E'\n",
    "\n",
    "d2 = {}\n",
    "d2['e'] = 'E'\n",
    "d2['d'] = 'D'\n",
    "d2['c'] = 'C'\n",
    "d2['b'] = 'B'\n",
    "d2['a'] = 'A'\n",
    "\n",
    "print d1 == d2\n",
    "\n",
    "print 'OrderedDict:',\n",
    "\n",
    "d1 = OrderedDict()\n",
    "d1['a'] = 'A'\n",
    "d1['b'] = 'B'\n",
    "d1['c'] = 'C'\n",
    "d1['d'] = 'D'\n",
    "d1['e'] = 'E'\n",
    "\n",
    "d2 = OrderedDict()\n",
    "d2['e'] = 'E'\n",
    "d2['d'] = 'D'\n",
    "d2['c'] = 'C'\n",
    "d2['b'] = 'B'\n",
    "d2['a'] = 'A'\n",
    "\n",
    "print d1 == d2"
   ]
  },
  {
   "cell_type": "markdown",
   "metadata": {},
   "source": [
    "### jinja library for easy html usage"
   ]
  },
  {
   "cell_type": "code",
   "execution_count": 5,
   "metadata": {
    "collapsed": true
   },
   "outputs": [],
   "source": [
    "from jinja2 import Template"
   ]
  },
  {
   "cell_type": "markdown",
   "metadata": {},
   "source": [
    "### Usual bokeh libraries and functions"
   ]
  },
  {
   "cell_type": "code",
   "execution_count": 6,
   "metadata": {
    "collapsed": true
   },
   "outputs": [],
   "source": [
    "from bokeh.core.templates import JS_RESOURCES\n",
    "from bokeh.embed import components\n",
    "from bokeh.layouts import column\n",
    "from bokeh.models import (\n",
    "    ColumnDataSource, Plot, Circle, Range1d,\n",
    "    LinearAxis, HoverTool, Text, HoverTool,\n",
    "    SingleIntervalTicker, Slider, CustomJS\n",
    ")\n",
    "from bokeh.palettes import Spectral6\n",
    "from bokeh.plotting import figure, ColumnDataSource\n",
    "from bokeh.resources import CDN"
   ]
  },
  {
   "cell_type": "markdown",
   "metadata": {},
   "source": [
    "### Load data"
   ]
  },
  {
   "cell_type": "code",
   "execution_count": 7,
   "metadata": {
    "collapsed": true
   },
   "outputs": [],
   "source": [
    "from bokeh.sampledata.gapminder import fertility, life_expectancy, population, regions"
   ]
  },
  {
   "cell_type": "markdown",
   "metadata": {},
   "source": [
    "### Easy printing"
   ]
  },
  {
   "cell_type": "code",
   "execution_count": 8,
   "metadata": {
    "collapsed": true
   },
   "outputs": [],
   "source": [
    "from IPython.display import display\n",
    "pd.set_option('display.max_rows', 10)\n",
    "pd.set_option('display.max_columns', 10)"
   ]
  },
  {
   "cell_type": "markdown",
   "metadata": {},
   "source": [
    "### There are 4 dataframes have same row length, some have same columns"
   ]
  },
  {
   "cell_type": "code",
   "execution_count": 10,
   "metadata": {
    "collapsed": true
   },
   "outputs": [],
   "source": [
    "# display(fertility.info)\n",
    "# display(list(fertility.columns))\n",
    "# display(fertility.columns.nunique())\n",
    "# life_expectancy.columns.nunique()\n",
    "# display(life_expectancy)\n",
    "# display(population)\n",
    "# display(regions)"
   ]
  },
  {
   "cell_type": "markdown",
   "metadata": {},
   "source": [
    "### get column names list "
   ]
  },
  {
   "cell_type": "code",
   "execution_count": 11,
   "metadata": {
    "collapsed": false
   },
   "outputs": [
    {
     "data": {
      "text/plain": [
       "['1964',\n",
       " '1965',\n",
       " '1966',\n",
       " '1967',\n",
       " '1968',\n",
       " '1969',\n",
       " '1970',\n",
       " '1971',\n",
       " '1972',\n",
       " '1973',\n",
       " '1974',\n",
       " '1975',\n",
       " '1976',\n",
       " '1977',\n",
       " '1978',\n",
       " '1979',\n",
       " '1980',\n",
       " '1981',\n",
       " '1982',\n",
       " '1983',\n",
       " '1984',\n",
       " '1985',\n",
       " '1986',\n",
       " '1987',\n",
       " '1988',\n",
       " '1989',\n",
       " '1990',\n",
       " '1991',\n",
       " '1992',\n",
       " '1993',\n",
       " '1994',\n",
       " '1995',\n",
       " '1996',\n",
       " '1997',\n",
       " '1998',\n",
       " '1999',\n",
       " '2000',\n",
       " '2001',\n",
       " '2002',\n",
       " '2003',\n",
       " '2004',\n",
       " '2005',\n",
       " '2006',\n",
       " '2007',\n",
       " '2008',\n",
       " '2009',\n",
       " '2010',\n",
       " '2011',\n",
       " '2012',\n",
       " '2013']"
      ]
     },
     "execution_count": 11,
     "metadata": {},
     "output_type": "execute_result"
    }
   ],
   "source": [
    "columns = list(fertility.columns)\n",
    "columns"
   ]
  },
  {
   "cell_type": "markdown",
   "metadata": {},
   "source": [
    "### range is exclusive on right value "
   ]
  },
  {
   "cell_type": "code",
   "execution_count": 12,
   "metadata": {
    "collapsed": false
   },
   "outputs": [
    {
     "data": {
      "text/plain": [
       "[1964,\n",
       " 1965,\n",
       " 1966,\n",
       " 1967,\n",
       " 1968,\n",
       " 1969,\n",
       " 1970,\n",
       " 1971,\n",
       " 1972,\n",
       " 1973,\n",
       " 1974,\n",
       " 1975,\n",
       " 1976,\n",
       " 1977,\n",
       " 1978,\n",
       " 1979,\n",
       " 1980,\n",
       " 1981,\n",
       " 1982,\n",
       " 1983,\n",
       " 1984,\n",
       " 1985,\n",
       " 1986,\n",
       " 1987,\n",
       " 1988,\n",
       " 1989,\n",
       " 1990,\n",
       " 1991,\n",
       " 1992,\n",
       " 1993,\n",
       " 1994,\n",
       " 1995,\n",
       " 1996,\n",
       " 1997,\n",
       " 1998,\n",
       " 1999,\n",
       " 2000,\n",
       " 2001,\n",
       " 2002,\n",
       " 2003,\n",
       " 2004,\n",
       " 2005,\n",
       " 2006,\n",
       " 2007,\n",
       " 2008,\n",
       " 2009,\n",
       " 2010,\n",
       " 2011,\n",
       " 2012]"
      ]
     },
     "execution_count": 12,
     "metadata": {},
     "output_type": "execute_result"
    }
   ],
   "source": [
    "years = list(range(int(columns[0]), int(columns[-1])))\n",
    "years"
   ]
  },
  {
   "cell_type": "markdown",
   "metadata": {},
   "source": [
    "### create rename dictionary"
   ]
  },
  {
   "cell_type": "code",
   "execution_count": 14,
   "metadata": {
    "collapsed": false
   },
   "outputs": [],
   "source": [
    "# len(columns) # 50\n",
    "# len(years) # only 49\n",
    "rename_dict = dict(zip(columns, years)) # only on same match rows \n",
    "rename_dict\n",
    "# len(rename_dict) # only 49\n",
    "\n",
    "# display(fertility)\n",
    "# display(fertility.columns)\n",
    "# the last column 2013 remain unchanged\n",
    "fertility = fertility.rename(columns=rename_dict)\n",
    "fertility\n",
    "\n",
    "# regions columns remain unchanged as well\n",
    "regions\n",
    "regions = regions.rename(columns=rename_dict)"
   ]
  },
  {
   "cell_type": "markdown",
   "metadata": {},
   "source": [
    "### Turn population into bubble sizes. Use min_size and factor to tweak."
   ]
  },
  {
   "cell_type": "code",
   "execution_count": 15,
   "metadata": {
    "collapsed": false
   },
   "outputs": [
    {
     "data": {
      "text/html": [
       "<div>\n",
       "<table border=\"1\" class=\"dataframe\">\n",
       "  <thead>\n",
       "    <tr style=\"text-align: right;\">\n",
       "      <th></th>\n",
       "      <th>1964</th>\n",
       "      <th>1965</th>\n",
       "      <th>1966</th>\n",
       "      <th>1967</th>\n",
       "      <th>1968</th>\n",
       "      <th>...</th>\n",
       "      <th>2009</th>\n",
       "      <th>2010</th>\n",
       "      <th>2011</th>\n",
       "      <th>2012</th>\n",
       "      <th>2013</th>\n",
       "    </tr>\n",
       "    <tr>\n",
       "      <th>Country</th>\n",
       "      <th></th>\n",
       "      <th></th>\n",
       "      <th></th>\n",
       "      <th></th>\n",
       "      <th></th>\n",
       "      <th></th>\n",
       "      <th></th>\n",
       "      <th></th>\n",
       "      <th></th>\n",
       "      <th></th>\n",
       "      <th></th>\n",
       "    </tr>\n",
       "  </thead>\n",
       "  <tbody>\n",
       "    <tr>\n",
       "      <th>Afghanistan</th>\n",
       "      <td>9.129985</td>\n",
       "      <td>9.226692</td>\n",
       "      <td>9.325238</td>\n",
       "      <td>9.425367</td>\n",
       "      <td>9.529220</td>\n",
       "      <td>...</td>\n",
       "      <td>15.599040</td>\n",
       "      <td>15.810335</td>\n",
       "      <td>16.046771</td>\n",
       "      <td>16.302311</td>\n",
       "      <td>16.569297</td>\n",
       "    </tr>\n",
       "    <tr>\n",
       "      <th>Albania</th>\n",
       "      <td>3.802632</td>\n",
       "      <td>3.857528</td>\n",
       "      <td>3.911866</td>\n",
       "      <td>3.965554</td>\n",
       "      <td>4.018553</td>\n",
       "      <td>...</td>\n",
       "      <td>5.040524</td>\n",
       "      <td>5.049642</td>\n",
       "      <td>5.058856</td>\n",
       "      <td>5.067802</td>\n",
       "      <td>5.076387</td>\n",
       "    </tr>\n",
       "    <tr>\n",
       "      <th>Algeria</th>\n",
       "      <td>9.630513</td>\n",
       "      <td>9.740649</td>\n",
       "      <td>9.865195</td>\n",
       "      <td>10.002490</td>\n",
       "      <td>10.149715</td>\n",
       "      <td>...</td>\n",
       "      <td>16.677068</td>\n",
       "      <td>16.800209</td>\n",
       "      <td>16.921031</td>\n",
       "      <td>17.039513</td>\n",
       "      <td>17.155428</td>\n",
       "    </tr>\n",
       "    <tr>\n",
       "      <th>American Samoa</th>\n",
       "      <td>3.000000</td>\n",
       "      <td>3.000000</td>\n",
       "      <td>3.000000</td>\n",
       "      <td>3.000000</td>\n",
       "      <td>3.000000</td>\n",
       "      <td>...</td>\n",
       "      <td>3.000000</td>\n",
       "      <td>3.000000</td>\n",
       "      <td>3.000000</td>\n",
       "      <td>3.000000</td>\n",
       "      <td>3.000000</td>\n",
       "    </tr>\n",
       "    <tr>\n",
       "      <th>Andorra</th>\n",
       "      <td>3.000000</td>\n",
       "      <td>3.000000</td>\n",
       "      <td>3.000000</td>\n",
       "      <td>3.000000</td>\n",
       "      <td>3.000000</td>\n",
       "      <td>...</td>\n",
       "      <td>3.000000</td>\n",
       "      <td>3.000000</td>\n",
       "      <td>3.000000</td>\n",
       "      <td>3.000000</td>\n",
       "      <td>3.000000</td>\n",
       "    </tr>\n",
       "    <tr>\n",
       "      <th>...</th>\n",
       "      <td>...</td>\n",
       "      <td>...</td>\n",
       "      <td>...</td>\n",
       "      <td>...</td>\n",
       "      <td>...</td>\n",
       "      <td>...</td>\n",
       "      <td>...</td>\n",
       "      <td>...</td>\n",
       "      <td>...</td>\n",
       "      <td>...</td>\n",
       "      <td>...</td>\n",
       "    </tr>\n",
       "    <tr>\n",
       "      <th>Virgin Islands (U.S.)</th>\n",
       "      <td>3.000000</td>\n",
       "      <td>3.000000</td>\n",
       "      <td>3.000000</td>\n",
       "      <td>3.000000</td>\n",
       "      <td>3.000000</td>\n",
       "      <td>...</td>\n",
       "      <td>3.000000</td>\n",
       "      <td>3.000000</td>\n",
       "      <td>3.000000</td>\n",
       "      <td>3.000000</td>\n",
       "      <td>3.000000</td>\n",
       "    </tr>\n",
       "    <tr>\n",
       "      <th>Yemen, Rep.</th>\n",
       "      <td>6.632319</td>\n",
       "      <td>6.694750</td>\n",
       "      <td>6.756744</td>\n",
       "      <td>6.818802</td>\n",
       "      <td>6.879700</td>\n",
       "      <td>...</td>\n",
       "      <td>13.624978</td>\n",
       "      <td>13.834877</td>\n",
       "      <td>14.048173</td>\n",
       "      <td>14.264422</td>\n",
       "      <td>14.482764</td>\n",
       "    </tr>\n",
       "    <tr>\n",
       "      <th>Zambia</th>\n",
       "      <td>5.225038</td>\n",
       "      <td>5.305531</td>\n",
       "      <td>5.387545</td>\n",
       "      <td>5.471262</td>\n",
       "      <td>5.557277</td>\n",
       "      <td>...</td>\n",
       "      <td>10.062423</td>\n",
       "      <td>10.205662</td>\n",
       "      <td>10.355207</td>\n",
       "      <td>10.511042</td>\n",
       "      <td>10.672923</td>\n",
       "    </tr>\n",
       "    <tr>\n",
       "      <th>Zimbabwe</th>\n",
       "      <td>5.835698</td>\n",
       "      <td>5.932103</td>\n",
       "      <td>6.029354</td>\n",
       "      <td>6.127726</td>\n",
       "      <td>6.227873</td>\n",
       "      <td>...</td>\n",
       "      <td>9.963176</td>\n",
       "      <td>10.002022</td>\n",
       "      <td>10.074528</td>\n",
       "      <td>10.176422</td>\n",
       "      <td>10.298556</td>\n",
       "    </tr>\n",
       "    <tr>\n",
       "      <th>Åland</th>\n",
       "      <td>3.000000</td>\n",
       "      <td>3.000000</td>\n",
       "      <td>3.000000</td>\n",
       "      <td>3.000000</td>\n",
       "      <td>3.000000</td>\n",
       "      <td>...</td>\n",
       "      <td>3.000000</td>\n",
       "      <td>3.000000</td>\n",
       "      <td>3.000000</td>\n",
       "      <td>3.000000</td>\n",
       "      <td>3.000000</td>\n",
       "    </tr>\n",
       "  </tbody>\n",
       "</table>\n",
       "<p>244 rows × 50 columns</p>\n",
       "</div>"
      ],
      "text/plain": [
       "                           1964      1965      1966       1967       1968  \\\n",
       "Country                                                                     \n",
       "Afghanistan            9.129985  9.226692  9.325238   9.425367   9.529220   \n",
       "Albania                3.802632  3.857528  3.911866   3.965554   4.018553   \n",
       "Algeria                9.630513  9.740649  9.865195  10.002490  10.149715   \n",
       "American Samoa         3.000000  3.000000  3.000000   3.000000   3.000000   \n",
       "Andorra                3.000000  3.000000  3.000000   3.000000   3.000000   \n",
       "...                         ...       ...       ...        ...        ...   \n",
       "Virgin Islands (U.S.)  3.000000  3.000000  3.000000   3.000000   3.000000   \n",
       "Yemen, Rep.            6.632319  6.694750  6.756744   6.818802   6.879700   \n",
       "Zambia                 5.225038  5.305531  5.387545   5.471262   5.557277   \n",
       "Zimbabwe               5.835698  5.932103  6.029354   6.127726   6.227873   \n",
       "Åland                  3.000000  3.000000  3.000000   3.000000   3.000000   \n",
       "\n",
       "                         ...           2009       2010       2011       2012  \\\n",
       "Country                  ...                                                   \n",
       "Afghanistan              ...      15.599040  15.810335  16.046771  16.302311   \n",
       "Albania                  ...       5.040524   5.049642   5.058856   5.067802   \n",
       "Algeria                  ...      16.677068  16.800209  16.921031  17.039513   \n",
       "American Samoa           ...       3.000000   3.000000   3.000000   3.000000   \n",
       "Andorra                  ...       3.000000   3.000000   3.000000   3.000000   \n",
       "...                      ...            ...        ...        ...        ...   \n",
       "Virgin Islands (U.S.)    ...       3.000000   3.000000   3.000000   3.000000   \n",
       "Yemen, Rep.              ...      13.624978  13.834877  14.048173  14.264422   \n",
       "Zambia                   ...      10.062423  10.205662  10.355207  10.511042   \n",
       "Zimbabwe                 ...       9.963176  10.002022  10.074528  10.176422   \n",
       "Åland                    ...       3.000000   3.000000   3.000000   3.000000   \n",
       "\n",
       "                            2013  \n",
       "Country                           \n",
       "Afghanistan            16.569297  \n",
       "Albania                 5.076387  \n",
       "Algeria                17.155428  \n",
       "American Samoa          3.000000  \n",
       "Andorra                 3.000000  \n",
       "...                          ...  \n",
       "Virgin Islands (U.S.)   3.000000  \n",
       "Yemen, Rep.            14.482764  \n",
       "Zambia                 10.672923  \n",
       "Zimbabwe               10.298556  \n",
       "Åland                   3.000000  \n",
       "\n",
       "[244 rows x 50 columns]"
      ]
     },
     "execution_count": 15,
     "metadata": {},
     "output_type": "execute_result"
    }
   ],
   "source": [
    "scale_factor = 200\n",
    "population_size = np.sqrt(population / np.pi) / scale_factor\n",
    "min_size = 3\n",
    "\n",
    "population_size.where(population_size >= min_size)\n",
    "\n",
    "population_size = population_size.where(population_size >= min_size).fillna(min_size)\n",
    "population_size"
   ]
  },
  {
   "cell_type": "markdown",
   "metadata": {},
   "source": [
    "### Use pandas categories and categorize & color the regions"
   ]
  },
  {
   "cell_type": "code",
   "execution_count": 16,
   "metadata": {
    "collapsed": false
   },
   "outputs": [
    {
     "data": {
      "text/plain": [
       "['America',\n",
       " 'East Asia & Pacific',\n",
       " 'Europe & Central Asia',\n",
       " 'Middle East & North Africa',\n",
       " 'South Asia',\n",
       " 'Sub-Saharan Africa']"
      ]
     },
     "execution_count": 16,
     "metadata": {},
     "output_type": "execute_result"
    }
   ],
   "source": [
    "# regions\n",
    "# regions.index\n",
    "# regions.Group # included index \n",
    "# regions.Group.dtypes\n",
    "\n",
    "# turn strings column to category column\n",
    "regions.Group = regions.Group.astype('category')\n",
    "regions.Group.dtypes\n",
    "\n",
    "# get all unique categories\n",
    "regions.Group.cat.categories\n",
    "\n",
    "regions_list = list(regions.Group.cat.categories)\n",
    "regions_list"
   ]
  },
  {
   "cell_type": "markdown",
   "metadata": {},
   "source": [
    "### create color column based on regions "
   ]
  },
  {
   "cell_type": "code",
   "execution_count": 18,
   "metadata": {
    "collapsed": false
   },
   "outputs": [
    {
     "data": {
      "text/html": [
       "<div>\n",
       "<table border=\"1\" class=\"dataframe\">\n",
       "  <thead>\n",
       "    <tr style=\"text-align: right;\">\n",
       "      <th></th>\n",
       "      <th>Group</th>\n",
       "      <th>ID</th>\n",
       "      <th>region_color</th>\n",
       "    </tr>\n",
       "    <tr>\n",
       "      <th>Country</th>\n",
       "      <th></th>\n",
       "      <th></th>\n",
       "      <th></th>\n",
       "    </tr>\n",
       "  </thead>\n",
       "  <tbody>\n",
       "    <tr>\n",
       "      <th>Angola</th>\n",
       "      <td>Sub-Saharan Africa</td>\n",
       "      <td>AO</td>\n",
       "      <td>#d53e4f</td>\n",
       "    </tr>\n",
       "    <tr>\n",
       "      <th>Benin</th>\n",
       "      <td>Sub-Saharan Africa</td>\n",
       "      <td>BJ</td>\n",
       "      <td>#d53e4f</td>\n",
       "    </tr>\n",
       "    <tr>\n",
       "      <th>Botswana</th>\n",
       "      <td>Sub-Saharan Africa</td>\n",
       "      <td>BW</td>\n",
       "      <td>#d53e4f</td>\n",
       "    </tr>\n",
       "    <tr>\n",
       "      <th>Burkina Faso</th>\n",
       "      <td>Sub-Saharan Africa</td>\n",
       "      <td>BF</td>\n",
       "      <td>#d53e4f</td>\n",
       "    </tr>\n",
       "    <tr>\n",
       "      <th>Burundi</th>\n",
       "      <td>Sub-Saharan Africa</td>\n",
       "      <td>BI</td>\n",
       "      <td>#d53e4f</td>\n",
       "    </tr>\n",
       "    <tr>\n",
       "      <th>...</th>\n",
       "      <td>...</td>\n",
       "      <td>...</td>\n",
       "      <td>...</td>\n",
       "    </tr>\n",
       "    <tr>\n",
       "      <th>Venezuela</th>\n",
       "      <td>America</td>\n",
       "      <td>VE</td>\n",
       "      <td>#3288bd</td>\n",
       "    </tr>\n",
       "    <tr>\n",
       "      <th>Western Sahara</th>\n",
       "      <td>Middle East &amp; North Africa</td>\n",
       "      <td>EH</td>\n",
       "      <td>#fee08b</td>\n",
       "    </tr>\n",
       "    <tr>\n",
       "      <th>Vietnam</th>\n",
       "      <td>East Asia &amp; Pacific</td>\n",
       "      <td>VN</td>\n",
       "      <td>#99d594</td>\n",
       "    </tr>\n",
       "    <tr>\n",
       "      <th>Virgin Islands (U.S.)</th>\n",
       "      <td>America</td>\n",
       "      <td>VI</td>\n",
       "      <td>#3288bd</td>\n",
       "    </tr>\n",
       "    <tr>\n",
       "      <th>Vanuatu</th>\n",
       "      <td>East Asia &amp; Pacific</td>\n",
       "      <td>VU</td>\n",
       "      <td>#99d594</td>\n",
       "    </tr>\n",
       "  </tbody>\n",
       "</table>\n",
       "<p>244 rows × 3 columns</p>\n",
       "</div>"
      ],
      "text/plain": [
       "                                            Group  ID region_color\n",
       "Country                                                           \n",
       "Angola                         Sub-Saharan Africa  AO      #d53e4f\n",
       "Benin                          Sub-Saharan Africa  BJ      #d53e4f\n",
       "Botswana                       Sub-Saharan Africa  BW      #d53e4f\n",
       "Burkina Faso                   Sub-Saharan Africa  BF      #d53e4f\n",
       "Burundi                        Sub-Saharan Africa  BI      #d53e4f\n",
       "...                                           ...  ..          ...\n",
       "Venezuela                                 America  VE      #3288bd\n",
       "Western Sahara         Middle East & North Africa  EH      #fee08b\n",
       "Vietnam                       East Asia & Pacific  VN      #99d594\n",
       "Virgin Islands (U.S.)                     America  VI      #3288bd\n",
       "Vanuatu                       East Asia & Pacific  VU      #99d594\n",
       "\n",
       "[244 rows x 3 columns]"
      ]
     },
     "execution_count": 18,
     "metadata": {},
     "output_type": "execute_result"
    }
   ],
   "source": [
    "def get_color(r):\n",
    "    return Spectral6[regions_list.index(r.Group)]\n",
    "\n",
    "regions['region_color'] = regions.apply(get_color, axis=1)\n",
    "regions"
   ]
  },
  {
   "cell_type": "markdown",
   "metadata": {},
   "source": [
    "## Bring all above into a function "
   ]
  },
  {
   "cell_type": "code",
   "execution_count": 9,
   "metadata": {
    "collapsed": true
   },
   "outputs": [],
   "source": [
    "def _process_gapminder_data():\n",
    "    from bokeh.sampledata.gapminder import fertility, life_expectancy, population, regions\n",
    "\n",
    "    # Make the column names ints not strings for handling\n",
    "    columns = list(fertility.columns)\n",
    "    years = list(range(int(columns[0]), int(columns[-1])))\n",
    "    rename_dict = dict(zip(columns, years))\n",
    "\n",
    "    fertility = fertility.rename(columns=rename_dict)\n",
    "    life_expectancy = life_expectancy.rename(columns=rename_dict)\n",
    "    population = population.rename(columns=rename_dict)\n",
    "    regions = regions.rename(columns=rename_dict)\n",
    "\n",
    "    # Turn population into bubble sizes. Use min_size and factor to tweak.\n",
    "    scale_factor = 200\n",
    "    population_size = np.sqrt(population / np.pi) / scale_factor\n",
    "    min_size = 3\n",
    "    population_size = population_size.where(population_size >= min_size).fillna(min_size)\n",
    "\n",
    "    # Use pandas categories and categorize & color the regions\n",
    "    regions.Group = regions.Group.astype('category')\n",
    "    regions_list = list(regions.Group.cat.categories)\n",
    "\n",
    "    def get_color(r):\n",
    "        return Spectral6[regions_list.index(r.Group)]\n",
    "    \n",
    "    regions['region_color'] = regions.apply(get_color, axis=1)\n",
    "\n",
    "    return fertility, life_expectancy, population_size, regions, years, regions_list"
   ]
  },
  {
   "cell_type": "markdown",
   "metadata": {},
   "source": [
    "## Let's draw graph"
   ]
  },
  {
   "cell_type": "markdown",
   "metadata": {},
   "source": [
    "### load and assign processed data using the func above"
   ]
  },
  {
   "cell_type": "code",
   "execution_count": 10,
   "metadata": {
    "collapsed": false
   },
   "outputs": [],
   "source": [
    "fertility_df, life_expectancy_df, population_df_size, regions_df, years, regions = _process_gapminder_data()"
   ]
  },
  {
   "cell_type": "code",
   "execution_count": 18,
   "metadata": {
    "collapsed": true
   },
   "outputs": [
    {
     "data": {
      "text/plain": [
       "[1964,\n",
       " 1965,\n",
       " 1966,\n",
       " 1967,\n",
       " 1968,\n",
       " 1969,\n",
       " 1970,\n",
       " 1971,\n",
       " 1972,\n",
       " 1973,\n",
       " 1974,\n",
       " 1975,\n",
       " 1976,\n",
       " 1977,\n",
       " 1978,\n",
       " 1979,\n",
       " 1980,\n",
       " 1981,\n",
       " 1982,\n",
       " 1983,\n",
       " 1984,\n",
       " 1985,\n",
       " 1986,\n",
       " 1987,\n",
       " 1988,\n",
       " 1989,\n",
       " 1990,\n",
       " 1991,\n",
       " 1992,\n",
       " 1993,\n",
       " 1994,\n",
       " 1995,\n",
       " 1996,\n",
       " 1997,\n",
       " 1998,\n",
       " 1999,\n",
       " 2000,\n",
       " 2001,\n",
       " 2002,\n",
       " 2003,\n",
       " 2004,\n",
       " 2005,\n",
       " 2006,\n",
       " 2007,\n",
       " 2008,\n",
       " 2009,\n",
       " 2010,\n",
       " 2011,\n",
       " 2012]"
      ]
     },
     "execution_count": 18,
     "metadata": {},
     "output_type": "execute_result"
    }
   ],
   "source": [
    "fertility_df.info\n",
    "regions_df.info\n",
    "regions # list of regions\n",
    "years # list of years"
   ]
  },
  {
   "cell_type": "markdown",
   "metadata": {},
   "source": [
    "### get region_color series, and give a name to this series"
   ]
  },
  {
   "cell_type": "code",
   "execution_count": 16,
   "metadata": {
    "collapsed": false
   },
   "outputs": [
    {
     "data": {
      "text/plain": [
       "Country\n",
       "Angola                   #d53e4f\n",
       "Benin                    #d53e4f\n",
       "Botswana                 #d53e4f\n",
       "Burkina Faso             #d53e4f\n",
       "Burundi                  #d53e4f\n",
       "                          ...   \n",
       "Venezuela                #3288bd\n",
       "Western Sahara           #fee08b\n",
       "Vietnam                  #99d594\n",
       "Virgin Islands (U.S.)    #3288bd\n",
       "Vanuatu                  #99d594\n",
       "Name: region_color, dtype: object"
      ]
     },
     "execution_count": 16,
     "metadata": {},
     "output_type": "execute_result"
    }
   ],
   "source": [
    "region_color = regions_df['region_color']\n",
    "region_color.name = 'region_color'\n",
    "region_color"
   ]
  },
  {
   "cell_type": "code",
   "execution_count": 19,
   "metadata": {
    "collapsed": true
   },
   "outputs": [],
   "source": [
    "def get_gapminder_plot():\n",
    "    fertility_df, life_expectancy_df, population_df_size, regions_df, years, regions = _process_gapminder_data()\n",
    "\n",
    "    sources = {}\n",
    "\n",
    "    region_color = regions_df['region_color']\n",
    "    region_color.name = 'region_color'\n",
    "\n",
    "    for year in years:\n",
    "        fertility = fertility_df[year]\n",
    "        fertility.name = 'fertility'\n",
    "        life = life_expectancy_df[year]\n",
    "        life.name = 'life'\n",
    "        population = population_df_size[year]\n",
    "        population.name = 'population'\n",
    "        new_df = pd.concat([fertility, life, population, region_color], axis=1)\n",
    "        sources['_' + str(year)] = ColumnDataSource(new_df)\n",
    "\n",
    "    dictionary_of_sources = dict(zip([x for x in years], ['_%s' % x for x in years]))\n",
    "    js_source_array = str(dictionary_of_sources).replace(\"'\", \"\")\n",
    "\n",
    "    xdr = Range1d(1, 9)\n",
    "    ydr = Range1d(20, 100)\n",
    "    plot = Plot(\n",
    "        x_range=xdr,\n",
    "        y_range=ydr,\n",
    "        plot_width=800,\n",
    "        plot_height=400,\n",
    "        outline_line_color=None,\n",
    "        toolbar_location=None,\n",
    "        sizing_mode=\"scale_width\",\n",
    "    )\n",
    "    AXIS_FORMATS = dict(\n",
    "        minor_tick_in=None,\n",
    "        minor_tick_out=None,\n",
    "        major_tick_in=None,\n",
    "        major_label_text_font_size=\"10pt\",\n",
    "        major_label_text_font_style=\"normal\",\n",
    "        axis_label_text_font_size=\"10pt\",\n",
    "\n",
    "        axis_line_color='#AAAAAA',\n",
    "        major_tick_line_color='#AAAAAA',\n",
    "        major_label_text_color='#666666',\n",
    "\n",
    "        major_tick_line_cap=\"round\",\n",
    "        axis_line_cap=\"round\",\n",
    "        axis_line_width=1,\n",
    "        major_tick_line_width=1,\n",
    "    )\n",
    "\n",
    "    xaxis = LinearAxis(ticker=SingleIntervalTicker(interval=1), axis_label=\"Children per woman (total fertility)\", **AXIS_FORMATS)\n",
    "    yaxis = LinearAxis(ticker=SingleIntervalTicker(interval=20), axis_label=\"Life expectancy at birth (years)\", **AXIS_FORMATS)\n",
    "    plot.add_layout(xaxis, 'below')\n",
    "    plot.add_layout(yaxis, 'left')\n",
    "\n",
    "    # ### Add the background year text\n",
    "    # We add this first so it is below all the other glyphs\n",
    "    text_source = ColumnDataSource({'year': ['%s' % years[0]]})\n",
    "    text = Text(x=2, y=35, text='year', text_font_size='150pt', text_color='#EEEEEE')\n",
    "    plot.add_glyph(text_source, text)\n",
    "\n",
    "    # Add the circle\n",
    "    renderer_source = sources['_%s' % years[0]]\n",
    "    circle_glyph = Circle(\n",
    "        x='fertility', y='life', size='population',\n",
    "        fill_color='region_color', fill_alpha=0.8,\n",
    "        line_color='#7c7e71', line_width=0.5, line_alpha=0.5)\n",
    "    circle_renderer = plot.add_glyph(renderer_source, circle_glyph)\n",
    "\n",
    "    # Add the hover (only against the circle and not other plot elements)\n",
    "    tooltips = \"@index\"\n",
    "    plot.add_tools(HoverTool(tooltips=tooltips, renderers=[circle_renderer]))\n",
    "\n",
    "    # Add the legend\n",
    "    text_x = 7\n",
    "    text_y = 95\n",
    "    for i, region in enumerate(regions):\n",
    "        plot.add_glyph(Text(x=text_x, y=text_y, text=[region], text_font_size='10pt', text_color='#666666'))\n",
    "        plot.add_glyph(Circle(x=text_x - 0.1, y=text_y + 2, fill_color=Spectral6[i], size=10, line_color=None, fill_alpha=0.8))\n",
    "        text_y = text_y - 5\n",
    "\n",
    "    # Add the slider\n",
    "    code = \"\"\"\n",
    "        var year = slider.get('value'),\n",
    "            sources = %s,\n",
    "            new_source_data = sources[year].get('data');\n",
    "        renderer_source.set('data', new_source_data);\n",
    "        text_source.set('data', {'year': [String(year)]});\n",
    "    \"\"\" % js_source_array\n",
    "\n",
    "    callback = CustomJS(args=sources, code=code)\n",
    "    slider = Slider(start=years[0], end=years[-1], value=1, step=1, title=\"Year\", callback=callback, name='testy')\n",
    "    callback.args[\"renderer_source\"] = renderer_source\n",
    "    callback.args[\"slider\"] = slider\n",
    "    callback.args[\"text_source\"] = text_source\n",
    "\n",
    "    # Lay it out\n",
    "    return column(plot, slider)\n",
    "\n",
    "\n",
    "def get_gapminder_html():\n",
    "    layout = get_gapminder_plot()\n",
    "    with open('assets/gapminder_template.jinja', 'r') as f:\n",
    "        template = Template(f.read())\n",
    "    script, div = components(layout)\n",
    "    html = template.render(\n",
    "        title=\"Bokeh Gapminder demo\",\n",
    "        bokeh_js=JS_RESOURCES.render(js_raw=CDN.js_raw, js_files=CDN.js_files),\n",
    "        plot_script=script,\n",
    "        plot_div=div,\n",
    "    )\n",
    "    return html\n",
    "\n",
    "\n",
    "def get_gapminder_1964_data():\n",
    "    fertility_df, life_expectancy_df, population_df_size, regions_df, years, regions = _process_gapminder_data()\n",
    "    year = 1964\n",
    "    region_color = regions_df['region_color']\n",
    "    region_color.name = 'region_color'\n",
    "    fertility = fertility_df[year]\n",
    "    fertility.name = 'fertility'\n",
    "    life = life_expectancy_df[year]\n",
    "    life.name = 'life'\n",
    "    population = population_df_size[year]\n",
    "    population.name = 'population'\n",
    "    new_df = pd.concat([fertility, life, population, region_color], axis=1)\n",
    "    return new_df\n",
    "\n",
    "\n",
    "def get_gapminder_1964_scatter_data():\n",
    "    fertility_df, life_expectancy_df, population_df_size, regions_df, years, regions = _process_gapminder_data()\n",
    "    xyvalues = OrderedDict()\n",
    "    xyvalues['1964'] = list(\n",
    "        zip(\n",
    "            fertility_df[1964].dropna().values,\n",
    "            life_expectancy_df[1964].dropna().values\n",
    "        )\n",
    "    )\n",
    "    return xyvalues\n",
    "\n",
    "\n",
    "def get_medal_data():\n",
    "    from bokeh.sampledata.olympics2014 import data as olympics2014\n",
    "\n",
    "    data = []\n",
    "    for item in olympics2014['data']:\n",
    "        if item['medals']['total'] == 0:\n",
    "            # Don't use countries with no medals\n",
    "            continue\n",
    "        new_item = {}\n",
    "        new_item['country'] = item['abbr']\n",
    "        new_item['name'] = item['name']\n",
    "        new_item['medals'] = [\n",
    "            {'medal': 'bronze', 'count': item['medals']['bronze']},\n",
    "            {'medal': 'silver', 'count': item['medals']['silver']},\n",
    "            {'medal': 'gold', 'count': item['medals']['gold']}\n",
    "        ]\n",
    "        data.append(new_item)\n",
    "\n",
    "    return pd.io.json.json_normalize(data, 'medals', ['name', 'country'])\n",
    "\n",
    "def get_custom_hover():\n",
    "    source = ColumnDataSource(\n",
    "            data=dict(\n",
    "                x=[1, 2, 3, 4, 5],\n",
    "                y=[2, 5, 8, 2, 7],\n",
    "                desc=['A', 'b', 'C', 'd', 'E'],\n",
    "                imgs = [\n",
    "                    'http://bokeh.pydata.org/static/snake.jpg',\n",
    "                    'http://bokeh.pydata.org/static/snake2.png',\n",
    "                    'http://bokeh.pydata.org/static/snake3D.png',\n",
    "                    'http://bokeh.pydata.org/static/snake4_TheRevenge.png',\n",
    "                    'http://bokeh.pydata.org/static/snakebite.jpg'\n",
    "                ]\n",
    "            )\n",
    "        )\n",
    "\n",
    "    hover = HoverTool(\n",
    "            tooltips=\"\"\"\n",
    "            <div>\n",
    "                <div>\n",
    "                    <img\n",
    "                        src=\"@imgs\" height=\"42\" alt=\"@imgs\" width=\"42\"\n",
    "                        style=\"float: left; margin: 0px 15px 15px 0px;\"\n",
    "                        border=\"2\"\n",
    "                    ></img>\n",
    "                </div>\n",
    "                <div>\n",
    "                    <span style=\"font-size: 17px; font-weight: bold;\">@desc</span>\n",
    "                    <span style=\"font-size: 15px; color: #966;\">[$index]</span>\n",
    "                </div>\n",
    "                <div>\n",
    "                    <span style=\"font-size: 15px;\">Location</span>\n",
    "                    <span style=\"font-size: 10px; color: #696;\">($x, $y)</span>\n",
    "                </div>\n",
    "            </div>\n",
    "            \"\"\"\n",
    "        )\n",
    "\n",
    "    p = figure(plot_width=300, plot_height=300, tools=[hover],\n",
    "            title=\"Mouse over the dots\")\n",
    "\n",
    "    p.circle('x', 'y', size=20, source=source)\n",
    "    return p"
   ]
  },
  {
   "cell_type": "code",
   "execution_count": null,
   "metadata": {
    "collapsed": true
   },
   "outputs": [],
   "source": [
    "from bokeh.charts import show, output_notebook\n",
    "output_notebook()"
   ]
  }
 ],
 "metadata": {
  "kernelspec": {
   "display_name": "Python 2",
   "language": "python",
   "name": "python2"
  },
  "language_info": {
   "codemirror_mode": {
    "name": "ipython",
    "version": 2
   },
   "file_extension": ".py",
   "mimetype": "text/x-python",
   "name": "python",
   "nbconvert_exporter": "python",
   "pygments_lexer": "ipython2",
   "version": "2.7.12"
  }
 },
 "nbformat": 4,
 "nbformat_minor": 1
}
