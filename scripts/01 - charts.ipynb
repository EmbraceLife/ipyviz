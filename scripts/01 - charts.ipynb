{
 "cells": [
  {
   "cell_type": "markdown",
   "metadata": {},
   "source": [
    "<table style=\"float:left; border:none\">\n",
    "   <tr style=\"border:none\">\n",
    "       <td style=\"border:none\">\n",
    "           <a href=\"http://bokeh.pydata.org/\">     \n",
    "           <img \n",
    "               src=\"assets/images/bokeh-transparent.png\" \n",
    "               style=\"width:50px\"\n",
    "           >\n",
    "           </a>    \n",
    "       </td>\n",
    "       <td style=\"border:none\">\n",
    "           <h1>Bokeh Tutorial</h1>\n",
    "       </td>\n",
    "   </tr>\n",
    "</table>\n",
    "\n",
    "<div style=\"float:right;\"><h2>01. High Level Charts</h2></div>"
   ]
  },
  {
   "cell_type": "markdown",
   "metadata": {},
   "source": [
    "This section covers the `bokeh.charts` interface, which is a high-level API that is especially useful for exploratory data analysis (for instance, in a Jupyter notebook). It provides functions for quickly producing many standard chart types, often with a single line of code. We will look at the following types in this notebook:\n",
    "\n",
    "* [Scatter Plot](#Scatter-Plot)\n",
    "* [Bar Chart](#Bar-Chart)\n",
    "* [Histogram](#Histogram)\n",
    "* [Box Plot](#Box-Plot)"
   ]
  },
  {
   "cell_type": "code",
   "execution_count": 1,
   "metadata": {
    "collapsed": false
   },
   "outputs": [
    {
     "data": {
      "text/html": [
       "\n",
       "    <div class=\"bk-root\">\n",
       "        <a href=\"http://bokeh.pydata.org\" target=\"_blank\" class=\"bk-logo bk-logo-small bk-logo-notebook\"></a>\n",
       "        <span id=\"ad05bd7f-7e8f-46a8-adb3-c125fcd37622\">Loading BokehJS ...</span>\n",
       "    </div>"
      ]
     },
     "metadata": {},
     "output_type": "display_data"
    },
    {
     "data": {
      "application/javascript": [
       "\n",
       "(function(global) {\n",
       "  function now() {\n",
       "    return new Date();\n",
       "  }\n",
       "\n",
       "  var force = \"1\";\n",
       "\n",
       "  if (typeof (window._bokeh_onload_callbacks) === \"undefined\" || force !== \"\") {\n",
       "    window._bokeh_onload_callbacks = [];\n",
       "    window._bokeh_is_loading = undefined;\n",
       "  }\n",
       "\n",
       "  function run_callbacks() {\n",
       "    window._bokeh_onload_callbacks.forEach(function(callback) { callback() });\n",
       "    delete window._bokeh_onload_callbacks\n",
       "    console.info(\"Bokeh: all callbacks have finished\");\n",
       "  }\n",
       "\n",
       "  function load_libs(js_urls, callback) {\n",
       "    window._bokeh_onload_callbacks.push(callback);\n",
       "    if (window._bokeh_is_loading > 0) {\n",
       "      console.log(\"Bokeh: BokehJS is being loaded, scheduling callback at\", now());\n",
       "      return null;\n",
       "    }\n",
       "    if (js_urls == null || js_urls.length === 0) {\n",
       "      run_callbacks();\n",
       "      return null;\n",
       "    }\n",
       "    console.log(\"Bokeh: BokehJS not loaded, scheduling load and callback at\", now());\n",
       "    window._bokeh_is_loading = js_urls.length;\n",
       "    for (var i = 0; i < js_urls.length; i++) {\n",
       "      var url = js_urls[i];\n",
       "      var s = document.createElement('script');\n",
       "      s.src = url;\n",
       "      s.async = false;\n",
       "      s.onreadystatechange = s.onload = function() {\n",
       "        window._bokeh_is_loading--;\n",
       "        if (window._bokeh_is_loading === 0) {\n",
       "          console.log(\"Bokeh: all BokehJS libraries loaded\");\n",
       "          run_callbacks()\n",
       "        }\n",
       "      };\n",
       "      s.onerror = function() {\n",
       "        console.warn(\"failed to load library \" + url);\n",
       "      };\n",
       "      console.log(\"Bokeh: injecting script tag for BokehJS library: \", url);\n",
       "      document.getElementsByTagName(\"head\")[0].appendChild(s);\n",
       "    }\n",
       "  };\n",
       "\n",
       "  var js_urls = ['https://cdn.pydata.org/bokeh/release/bokeh-0.12.1.min.js', 'https://cdn.pydata.org/bokeh/release/bokeh-widgets-0.12.1.min.js', 'https://cdn.pydata.org/bokeh/release/bokeh-compiler-0.12.1.min.js'];\n",
       "\n",
       "  var inline_js = [\n",
       "    function(Bokeh) {\n",
       "      Bokeh.set_log_level(\"info\");\n",
       "    },\n",
       "    \n",
       "    function(Bokeh) {\n",
       "      \n",
       "      Bokeh.$(\"#ad05bd7f-7e8f-46a8-adb3-c125fcd37622\").text(\"BokehJS successfully loaded\");\n",
       "      var kernel = Jupyter.notebook.kernel\n",
       "      if (kernel.execute !== undefined) {\n",
       "          kernel.execute(\"import bokeh.io; bokeh.io._nb_loaded = True\");\n",
       "      }\n",
       "    },\n",
       "    function(Bokeh) {\n",
       "      console.log(\"Bokeh: injecting CSS: https://cdn.pydata.org/bokeh/release/bokeh-0.12.1.min.css\");\n",
       "      Bokeh.embed.inject_css(\"https://cdn.pydata.org/bokeh/release/bokeh-0.12.1.min.css\");\n",
       "      console.log(\"Bokeh: injecting CSS: https://cdn.pydata.org/bokeh/release/bokeh-widgets-0.12.1.min.css\");\n",
       "      Bokeh.embed.inject_css(\"https://cdn.pydata.org/bokeh/release/bokeh-widgets-0.12.1.min.css\");\n",
       "    }\n",
       "  ];\n",
       "\n",
       "  function run_inline_js() {\n",
       "    for (var i = 0; i < inline_js.length; i++) {\n",
       "      inline_js[i](window.Bokeh);\n",
       "    }\n",
       "  }\n",
       "\n",
       "  if (window._bokeh_is_loading === 0) {\n",
       "    console.log(\"Bokeh: BokehJS loaded, going straight to plotting\");\n",
       "    run_inline_js();\n",
       "  } else {\n",
       "    load_libs(js_urls, function() {\n",
       "      console.log(\"Bokeh: BokehJS plotting callback run at\", now());\n",
       "      run_inline_js();\n",
       "    });\n",
       "  }\n",
       "}(this));"
      ]
     },
     "metadata": {},
     "output_type": "display_data"
    }
   ],
   "source": [
    "from bokeh.io import output_notebook, show\n",
    "output_notebook()"
   ]
  },
  {
   "cell_type": "code",
   "execution_count": 3,
   "metadata": {
    "collapsed": true
   },
   "outputs": [],
   "source": [
    "from IPython.display import display\n",
    "import pandas as pd\n",
    "pd.set_option('display.max_rows', 10)\n",
    "pd.set_option('display.max_columns', 10)"
   ]
  },
  {
   "cell_type": "markdown",
   "metadata": {},
   "source": [
    "# Scatter Plot\n",
    "\n",
    "A high-level scatter plot is provided by [`bokeh.charts.Scatter`]().\n",
    "\n",
    "For this section will use the \"iris\" data set. First let's import it and take a look at a few rows:"
   ]
  },
  {
   "cell_type": "code",
   "execution_count": 6,
   "metadata": {
    "collapsed": true
   },
   "outputs": [
    {
     "data": {
      "text/html": [
       "<div>\n",
       "<table border=\"1\" class=\"dataframe\">\n",
       "  <thead>\n",
       "    <tr style=\"text-align: right;\">\n",
       "      <th></th>\n",
       "      <th>sepal_length</th>\n",
       "      <th>sepal_width</th>\n",
       "      <th>petal_length</th>\n",
       "      <th>petal_width</th>\n",
       "      <th>species</th>\n",
       "    </tr>\n",
       "  </thead>\n",
       "  <tbody>\n",
       "    <tr>\n",
       "      <th>0</th>\n",
       "      <td>5.1</td>\n",
       "      <td>3.5</td>\n",
       "      <td>1.4</td>\n",
       "      <td>0.2</td>\n",
       "      <td>setosa</td>\n",
       "    </tr>\n",
       "    <tr>\n",
       "      <th>1</th>\n",
       "      <td>4.9</td>\n",
       "      <td>3.0</td>\n",
       "      <td>1.4</td>\n",
       "      <td>0.2</td>\n",
       "      <td>setosa</td>\n",
       "    </tr>\n",
       "    <tr>\n",
       "      <th>2</th>\n",
       "      <td>4.7</td>\n",
       "      <td>3.2</td>\n",
       "      <td>1.3</td>\n",
       "      <td>0.2</td>\n",
       "      <td>setosa</td>\n",
       "    </tr>\n",
       "    <tr>\n",
       "      <th>3</th>\n",
       "      <td>4.6</td>\n",
       "      <td>3.1</td>\n",
       "      <td>1.5</td>\n",
       "      <td>0.2</td>\n",
       "      <td>setosa</td>\n",
       "    </tr>\n",
       "    <tr>\n",
       "      <th>4</th>\n",
       "      <td>5.0</td>\n",
       "      <td>3.6</td>\n",
       "      <td>1.4</td>\n",
       "      <td>0.2</td>\n",
       "      <td>setosa</td>\n",
       "    </tr>\n",
       "    <tr>\n",
       "      <th>...</th>\n",
       "      <td>...</td>\n",
       "      <td>...</td>\n",
       "      <td>...</td>\n",
       "      <td>...</td>\n",
       "      <td>...</td>\n",
       "    </tr>\n",
       "    <tr>\n",
       "      <th>145</th>\n",
       "      <td>6.7</td>\n",
       "      <td>3.0</td>\n",
       "      <td>5.2</td>\n",
       "      <td>2.3</td>\n",
       "      <td>virginica</td>\n",
       "    </tr>\n",
       "    <tr>\n",
       "      <th>146</th>\n",
       "      <td>6.3</td>\n",
       "      <td>2.5</td>\n",
       "      <td>5.0</td>\n",
       "      <td>1.9</td>\n",
       "      <td>virginica</td>\n",
       "    </tr>\n",
       "    <tr>\n",
       "      <th>147</th>\n",
       "      <td>6.5</td>\n",
       "      <td>3.0</td>\n",
       "      <td>5.2</td>\n",
       "      <td>2.0</td>\n",
       "      <td>virginica</td>\n",
       "    </tr>\n",
       "    <tr>\n",
       "      <th>148</th>\n",
       "      <td>6.2</td>\n",
       "      <td>3.4</td>\n",
       "      <td>5.4</td>\n",
       "      <td>2.3</td>\n",
       "      <td>virginica</td>\n",
       "    </tr>\n",
       "    <tr>\n",
       "      <th>149</th>\n",
       "      <td>5.9</td>\n",
       "      <td>3.0</td>\n",
       "      <td>5.1</td>\n",
       "      <td>1.8</td>\n",
       "      <td>virginica</td>\n",
       "    </tr>\n",
       "  </tbody>\n",
       "</table>\n",
       "<p>150 rows × 5 columns</p>\n",
       "</div>"
      ],
      "text/plain": [
       "     sepal_length  sepal_width  petal_length  petal_width    species\n",
       "0             5.1          3.5           1.4          0.2     setosa\n",
       "1             4.9          3.0           1.4          0.2     setosa\n",
       "2             4.7          3.2           1.3          0.2     setosa\n",
       "3             4.6          3.1           1.5          0.2     setosa\n",
       "4             5.0          3.6           1.4          0.2     setosa\n",
       "..            ...          ...           ...          ...        ...\n",
       "145           6.7          3.0           5.2          2.3  virginica\n",
       "146           6.3          2.5           5.0          1.9  virginica\n",
       "147           6.5          3.0           5.2          2.0  virginica\n",
       "148           6.2          3.4           5.4          2.3  virginica\n",
       "149           5.9          3.0           5.1          1.8  virginica\n",
       "\n",
       "[150 rows x 5 columns]"
      ]
     },
     "metadata": {},
     "output_type": "display_data"
    },
    {
     "data": {
      "text/plain": [
       "sepal_length    float64\n",
       "sepal_width     float64\n",
       "petal_length    float64\n",
       "petal_width     float64\n",
       "species          object\n",
       "dtype: object"
      ]
     },
     "metadata": {},
     "output_type": "display_data"
    },
    {
     "data": {
      "text/plain": [
       "3"
      ]
     },
     "metadata": {},
     "output_type": "display_data"
    }
   ],
   "source": [
    "from bokeh.sampledata.iris import flowers\n",
    "display(flowers)\n",
    "display(flowers.dtypes)\n",
    "display(flowers.species.nunique())"
   ]
  },
  {
   "cell_type": "code",
   "execution_count": 7,
   "metadata": {
    "collapsed": true
   },
   "outputs": [],
   "source": [
    "from bokeh.charts import Scatter"
   ]
  },
  {
   "cell_type": "markdown",
   "metadata": {},
   "source": [
    "A basic scatter chart takes the data (in this case a pandas DataFrame) as the first argument, and specifies the `x` and `y` coordinates for the scatter as the names of columns in the data."
   ]
  },
  {
   "cell_type": "code",
   "execution_count": 8,
   "metadata": {
    "collapsed": false
   },
   "outputs": [
    {
     "data": {
      "text/html": [
       "\n",
       "\n",
       "    <div class=\"bk-root\">\n",
       "        <div class=\"plotdiv\" id=\"28e1283f-5554-469b-a05e-b18ac2065765\"></div>\n",
       "    </div>\n",
       "<script type=\"text/javascript\">\n",
       "  \n",
       "  (function(global) {\n",
       "    function now() {\n",
       "      return new Date();\n",
       "    }\n",
       "  \n",
       "    var force = \"\";\n",
       "  \n",
       "    if (typeof (window._bokeh_onload_callbacks) === \"undefined\" || force !== \"\") {\n",
       "      window._bokeh_onload_callbacks = [];\n",
       "      window._bokeh_is_loading = undefined;\n",
       "    }\n",
       "  \n",
       "    function run_callbacks() {\n",
       "      window._bokeh_onload_callbacks.forEach(function(callback) { callback() });\n",
       "      delete window._bokeh_onload_callbacks\n",
       "      console.info(\"Bokeh: all callbacks have finished\");\n",
       "    }\n",
       "  \n",
       "    function load_libs(js_urls, callback) {\n",
       "      window._bokeh_onload_callbacks.push(callback);\n",
       "      if (window._bokeh_is_loading > 0) {\n",
       "        console.log(\"Bokeh: BokehJS is being loaded, scheduling callback at\", now());\n",
       "        return null;\n",
       "      }\n",
       "      if (js_urls == null || js_urls.length === 0) {\n",
       "        run_callbacks();\n",
       "        return null;\n",
       "      }\n",
       "      console.log(\"Bokeh: BokehJS not loaded, scheduling load and callback at\", now());\n",
       "      window._bokeh_is_loading = js_urls.length;\n",
       "      for (var i = 0; i < js_urls.length; i++) {\n",
       "        var url = js_urls[i];\n",
       "        var s = document.createElement('script');\n",
       "        s.src = url;\n",
       "        s.async = false;\n",
       "        s.onreadystatechange = s.onload = function() {\n",
       "          window._bokeh_is_loading--;\n",
       "          if (window._bokeh_is_loading === 0) {\n",
       "            console.log(\"Bokeh: all BokehJS libraries loaded\");\n",
       "            run_callbacks()\n",
       "          }\n",
       "        };\n",
       "        s.onerror = function() {\n",
       "          console.warn(\"failed to load library \" + url);\n",
       "        };\n",
       "        console.log(\"Bokeh: injecting script tag for BokehJS library: \", url);\n",
       "        document.getElementsByTagName(\"head\")[0].appendChild(s);\n",
       "      }\n",
       "    };var element = document.getElementById(\"28e1283f-5554-469b-a05e-b18ac2065765\");\n",
       "    if (element == null) {\n",
       "      console.log(\"Bokeh: ERROR: autoload.js configured with elementid '28e1283f-5554-469b-a05e-b18ac2065765' but no matching script tag was found. \")\n",
       "      return false;\n",
       "    }\n",
       "  \n",
       "    var js_urls = [];\n",
       "  \n",
       "    var inline_js = [\n",
       "      function(Bokeh) {\n",
       "        Bokeh.$(function() {\n",
       "            var docs_json = {\"fc75a008-43ce-43c8-a798-79382c7fc931\":{\"roots\":{\"references\":[{\"attributes\":{\"plot\":{\"id\":\"2591a4f0-9978-4425-b5b1-404fd931e397\",\"subtype\":\"Chart\",\"type\":\"Plot\"}},\"id\":\"4cc2c3f8-1e51-4740-bb7f-bb807f0668db\",\"type\":\"SaveTool\"},{\"attributes\":{},\"id\":\"7a08a68e-dc11-4c87-a8a7-ae62e8be5ad3\",\"type\":\"BasicTickFormatter\"},{\"attributes\":{\"data_source\":{\"id\":\"a2e8d56d-1289-401b-a14e-273d2853fa0b\",\"type\":\"ColumnDataSource\"},\"glyph\":{\"id\":\"f65c4757-0778-427e-995e-361cda4d4451\",\"type\":\"Circle\"},\"hover_glyph\":null,\"nonselection_glyph\":null,\"selection_glyph\":null},\"id\":\"71751666-3790-4997-a04c-1b9814eedf9f\",\"type\":\"GlyphRenderer\"},{\"attributes\":{\"callback\":null,\"column_names\":[\"x_values\",\"y_values\"],\"data\":{\"chart_index\":[null,null,null,null,null,null,null,null,null,null,null,null,null,null,null,null,null,null,null,null,null,null,null,null,null,null,null,null,null,null,null,null,null,null,null,null,null,null,null,null,null,null,null,null,null,null,null,null,null,null,null,null,null,null,null,null,null,null,null,null,null,null,null,null,null,null,null,null,null,null,null,null,null,null,null,null,null,null,null,null,null,null,null,null,null,null,null,null,null,null,null,null,null,null,null,null,null,null,null,null,null,null,null,null,null,null,null,null,null,null,null,null,null,null,null,null,null,null,null,null,null,null,null,null,null,null,null,null,null,null,null,null,null,null,null,null,null,null,null,null,null,null,null,null,null,null,null,null,null,null],\"x_values\":[1.4,1.4,1.3,1.5,1.4,1.7,1.4,1.5,1.4,1.5,1.5,1.6,1.4,1.1,1.2,1.5,1.3,1.4,1.7,1.5,1.7,1.5,1.0,1.7,1.9,1.6,1.6,1.5,1.4,1.6,1.6,1.5,1.5,1.4,1.5,1.2,1.3,1.4,1.3,1.5,1.3,1.3,1.3,1.6,1.9,1.4,1.6,1.4,1.5,1.4,4.7,4.5,4.9,4.0,4.6,4.5,4.7,3.3,4.6,3.9,3.5,4.2,4.0,4.7,3.6,4.4,4.5,4.1,4.5,3.9,4.8,4.0,4.9,4.7,4.3,4.4,4.8,5.0,4.5,3.5,3.8,3.7,3.9,5.1,4.5,4.5,4.7,4.4,4.1,4.0,4.4,4.6,4.0,3.3,4.2,4.2,4.2,4.3,3.0,4.1,6.0,5.1,5.9,5.6,5.8,6.6,4.5,6.3,5.8,6.1,5.1,5.3,5.5,5.0,5.1,5.3,5.5,6.7,6.9,5.0,5.7,4.9,6.7,4.9,5.7,6.0,4.8,4.9,5.6,5.8,6.1,6.4,5.6,5.1,5.6,6.1,5.6,5.5,4.8,5.4,5.6,5.1,5.1,5.9,5.7,5.2,5.0,5.2,5.4,5.1],\"y_values\":[0.2,0.2,0.2,0.2,0.2,0.4,0.3,0.2,0.2,0.1,0.2,0.2,0.1,0.1,0.2,0.4,0.4,0.3,0.3,0.3,0.2,0.4,0.2,0.5,0.2,0.2,0.4,0.2,0.2,0.2,0.2,0.4,0.1,0.2,0.2,0.2,0.2,0.1,0.2,0.2,0.3,0.3,0.2,0.6,0.4,0.3,0.2,0.2,0.2,0.2,1.4,1.5,1.5,1.3,1.5,1.3,1.6,1.0,1.3,1.4,1.0,1.5,1.0,1.4,1.3,1.4,1.5,1.0,1.5,1.1,1.8,1.3,1.5,1.2,1.3,1.4,1.4,1.7,1.5,1.0,1.1,1.0,1.2,1.6,1.5,1.6,1.5,1.3,1.3,1.3,1.2,1.4,1.2,1.0,1.3,1.2,1.3,1.3,1.1,1.3,2.5,1.9,2.1,1.8,2.2,2.1,1.7,1.8,1.8,2.5,2.0,1.9,2.1,2.0,2.4,2.3,1.8,2.2,2.3,1.5,2.3,2.0,2.0,1.8,2.1,1.8,1.8,1.8,2.1,1.6,1.9,2.0,2.2,1.5,1.4,2.3,2.4,1.8,1.8,2.1,2.4,2.3,1.9,2.3,2.5,2.3,1.9,2.0,2.3,1.8]}},\"id\":\"a2e8d56d-1289-401b-a14e-273d2853fa0b\",\"type\":\"ColumnDataSource\"},{\"attributes\":{},\"id\":\"0804ee3a-fdec-461a-9709-4110089c9d27\",\"type\":\"BasicTickFormatter\"},{\"attributes\":{\"bottom_units\":\"screen\",\"fill_alpha\":{\"value\":0.5},\"fill_color\":{\"value\":\"lightgrey\"},\"left_units\":\"screen\",\"level\":\"overlay\",\"line_alpha\":{\"value\":1.0},\"line_color\":{\"value\":\"black\"},\"line_dash\":[4,4],\"line_width\":{\"value\":2},\"plot\":null,\"render_mode\":\"css\",\"right_units\":\"screen\",\"top_units\":\"screen\"},\"id\":\"8793d397-8e86-40c5-ab27-ac6c89d8388c\",\"type\":\"BoxAnnotation\"},{\"attributes\":{\"overlay\":{\"id\":\"8793d397-8e86-40c5-ab27-ac6c89d8388c\",\"type\":\"BoxAnnotation\"},\"plot\":{\"id\":\"2591a4f0-9978-4425-b5b1-404fd931e397\",\"subtype\":\"Chart\",\"type\":\"Plot\"}},\"id\":\"9b36006a-8f3e-4e27-b1cb-79c8395d5227\",\"type\":\"BoxZoomTool\"},{\"attributes\":{},\"id\":\"8d4b6561-593c-47ae-8564-28c0671ff5d3\",\"type\":\"BasicTicker\"},{\"attributes\":{\"plot\":{\"id\":\"2591a4f0-9978-4425-b5b1-404fd931e397\",\"subtype\":\"Chart\",\"type\":\"Plot\"}},\"id\":\"7ed637c1-f9e3-41f5-a5f7-c645c5b9bf9d\",\"type\":\"ResetTool\"},{\"attributes\":{\"callback\":null,\"end\":7.49,\"start\":0.4099999999999999},\"id\":\"08070a59-6f05-4922-b452-e6b8b7be5c09\",\"type\":\"Range1d\"},{\"attributes\":{},\"id\":\"a37fb29d-ef11-491d-babe-3002e69aac06\",\"type\":\"BasicTicker\"},{\"attributes\":{\"axis_label\":\"petal_width\",\"formatter\":{\"id\":\"7a08a68e-dc11-4c87-a8a7-ae62e8be5ad3\",\"type\":\"BasicTickFormatter\"},\"plot\":{\"id\":\"2591a4f0-9978-4425-b5b1-404fd931e397\",\"subtype\":\"Chart\",\"type\":\"Plot\"},\"ticker\":{\"id\":\"8d4b6561-593c-47ae-8564-28c0671ff5d3\",\"type\":\"BasicTicker\"}},\"id\":\"060d8bec-5ff0-40b2-a981-2e96f2185422\",\"type\":\"LinearAxis\"},{\"attributes\":{\"plot\":{\"id\":\"2591a4f0-9978-4425-b5b1-404fd931e397\",\"subtype\":\"Chart\",\"type\":\"Plot\"}},\"id\":\"b2f8fa66-3ef5-4ec1-9bee-5bbeef1b4f56\",\"type\":\"PanTool\"},{\"attributes\":{},\"id\":\"ee5216ff-e8b5-42fb-8865-885380e65457\",\"type\":\"ToolEvents\"},{\"attributes\":{\"location\":\"top_left\",\"plot\":{\"id\":\"2591a4f0-9978-4425-b5b1-404fd931e397\",\"subtype\":\"Chart\",\"type\":\"Plot\"}},\"id\":\"3c028892-37f0-4f33-808b-fe6d0e40af1d\",\"type\":\"Legend\"},{\"attributes\":{\"fill_alpha\":{\"value\":0.7},\"fill_color\":{\"value\":\"#f22c40\"},\"line_color\":{\"value\":\"#f22c40\"},\"size\":{\"units\":\"screen\",\"value\":8},\"x\":{\"field\":\"x_values\"},\"y\":{\"field\":\"y_values\"}},\"id\":\"f65c4757-0778-427e-995e-361cda4d4451\",\"type\":\"Circle\"},{\"attributes\":{\"plot\":{\"id\":\"2591a4f0-9978-4425-b5b1-404fd931e397\",\"subtype\":\"Chart\",\"type\":\"Plot\"},\"ticker\":{\"id\":\"a37fb29d-ef11-491d-babe-3002e69aac06\",\"type\":\"BasicTicker\"}},\"id\":\"727a4618-6675-4482-b1e3-e79979083f89\",\"type\":\"Grid\"},{\"attributes\":{\"plot\":{\"id\":\"2591a4f0-9978-4425-b5b1-404fd931e397\",\"subtype\":\"Chart\",\"type\":\"Plot\"}},\"id\":\"158707d7-6bf6-4091-95f0-157a39161d95\",\"type\":\"HelpTool\"},{\"attributes\":{\"axis_label\":\"petal_length\",\"formatter\":{\"id\":\"0804ee3a-fdec-461a-9709-4110089c9d27\",\"type\":\"BasicTickFormatter\"},\"plot\":{\"id\":\"2591a4f0-9978-4425-b5b1-404fd931e397\",\"subtype\":\"Chart\",\"type\":\"Plot\"},\"ticker\":{\"id\":\"a37fb29d-ef11-491d-babe-3002e69aac06\",\"type\":\"BasicTicker\"}},\"id\":\"1d15ec30-682e-4ba7-8ba0-b3543a7e8535\",\"type\":\"LinearAxis\"},{\"attributes\":{\"plot\":null,\"text\":null},\"id\":\"1ad0d28b-db33-4a7a-ab79-6d3a86d0f51d\",\"type\":\"Title\"},{\"attributes\":{\"plot\":{\"id\":\"2591a4f0-9978-4425-b5b1-404fd931e397\",\"subtype\":\"Chart\",\"type\":\"Plot\"}},\"id\":\"75d72116-10c2-4c75-83ac-b3cb115c7a35\",\"type\":\"WheelZoomTool\"},{\"attributes\":{\"active_drag\":\"auto\",\"active_scroll\":\"auto\",\"active_tap\":\"auto\",\"tools\":[{\"id\":\"b2f8fa66-3ef5-4ec1-9bee-5bbeef1b4f56\",\"type\":\"PanTool\"},{\"id\":\"75d72116-10c2-4c75-83ac-b3cb115c7a35\",\"type\":\"WheelZoomTool\"},{\"id\":\"9b36006a-8f3e-4e27-b1cb-79c8395d5227\",\"type\":\"BoxZoomTool\"},{\"id\":\"4cc2c3f8-1e51-4740-bb7f-bb807f0668db\",\"type\":\"SaveTool\"},{\"id\":\"7ed637c1-f9e3-41f5-a5f7-c645c5b9bf9d\",\"type\":\"ResetTool\"},{\"id\":\"158707d7-6bf6-4091-95f0-157a39161d95\",\"type\":\"HelpTool\"}]},\"id\":\"999c8e93-9d33-468a-8999-e33f6011a981\",\"type\":\"Toolbar\"},{\"attributes\":{\"dimension\":1,\"plot\":{\"id\":\"2591a4f0-9978-4425-b5b1-404fd931e397\",\"subtype\":\"Chart\",\"type\":\"Plot\"},\"ticker\":{\"id\":\"8d4b6561-593c-47ae-8564-28c0671ff5d3\",\"type\":\"BasicTicker\"}},\"id\":\"320f0030-58e8-4fd3-8314-8b37fbc0161a\",\"type\":\"Grid\"},{\"attributes\":{\"callback\":null,\"end\":2.74,\"start\":-0.13999999999999999},\"id\":\"f498f10a-1eb7-42fe-86f1-64d55e6cc2ff\",\"type\":\"Range1d\"},{\"attributes\":{\"below\":[{\"id\":\"1d15ec30-682e-4ba7-8ba0-b3543a7e8535\",\"type\":\"LinearAxis\"}],\"left\":[{\"id\":\"060d8bec-5ff0-40b2-a981-2e96f2185422\",\"type\":\"LinearAxis\"}],\"renderers\":[{\"id\":\"8793d397-8e86-40c5-ab27-ac6c89d8388c\",\"type\":\"BoxAnnotation\"},{\"id\":\"71751666-3790-4997-a04c-1b9814eedf9f\",\"type\":\"GlyphRenderer\"},{\"id\":\"3c028892-37f0-4f33-808b-fe6d0e40af1d\",\"type\":\"Legend\"},{\"id\":\"1d15ec30-682e-4ba7-8ba0-b3543a7e8535\",\"type\":\"LinearAxis\"},{\"id\":\"060d8bec-5ff0-40b2-a981-2e96f2185422\",\"type\":\"LinearAxis\"},{\"id\":\"727a4618-6675-4482-b1e3-e79979083f89\",\"type\":\"Grid\"},{\"id\":\"320f0030-58e8-4fd3-8314-8b37fbc0161a\",\"type\":\"Grid\"}],\"title\":{\"id\":\"1ad0d28b-db33-4a7a-ab79-6d3a86d0f51d\",\"type\":\"Title\"},\"tool_events\":{\"id\":\"ee5216ff-e8b5-42fb-8865-885380e65457\",\"type\":\"ToolEvents\"},\"toolbar\":{\"id\":\"999c8e93-9d33-468a-8999-e33f6011a981\",\"type\":\"Toolbar\"},\"x_mapper_type\":\"auto\",\"x_range\":{\"id\":\"08070a59-6f05-4922-b452-e6b8b7be5c09\",\"type\":\"Range1d\"},\"y_mapper_type\":\"auto\",\"y_range\":{\"id\":\"f498f10a-1eb7-42fe-86f1-64d55e6cc2ff\",\"type\":\"Range1d\"}},\"id\":\"2591a4f0-9978-4425-b5b1-404fd931e397\",\"subtype\":\"Chart\",\"type\":\"Plot\"}],\"root_ids\":[\"2591a4f0-9978-4425-b5b1-404fd931e397\"]},\"title\":\"Bokeh Application\",\"version\":\"0.12.1\"}};\n",
       "            var render_items = [{\"docid\":\"fc75a008-43ce-43c8-a798-79382c7fc931\",\"elementid\":\"28e1283f-5554-469b-a05e-b18ac2065765\",\"modelid\":\"2591a4f0-9978-4425-b5b1-404fd931e397\",\"notebook_comms_target\":\"0f78558c-456f-4837-83ea-5a2da89143c9\"}];\n",
       "            \n",
       "            Bokeh.embed.embed_items(docs_json, render_items);\n",
       "        });\n",
       "      },\n",
       "      function(Bokeh) {\n",
       "      }\n",
       "    ];\n",
       "  \n",
       "    function run_inline_js() {\n",
       "      for (var i = 0; i < inline_js.length; i++) {\n",
       "        inline_js[i](window.Bokeh);\n",
       "      }\n",
       "    }\n",
       "  \n",
       "    if (window._bokeh_is_loading === 0) {\n",
       "      console.log(\"Bokeh: BokehJS loaded, going straight to plotting\");\n",
       "      run_inline_js();\n",
       "    } else {\n",
       "      load_libs(js_urls, function() {\n",
       "        console.log(\"Bokeh: BokehJS plotting callback run at\", now());\n",
       "        run_inline_js();\n",
       "      });\n",
       "    }\n",
       "  }(this));\n",
       "</script>"
      ]
     },
     "metadata": {},
     "output_type": "display_data"
    },
    {
     "data": {
      "text/html": [
       "<p><code>&lt;Bokeh Notebook handle for <strong>In[8]</strong>&gt;</code></p>"
      ],
      "text/plain": [
       "<bokeh.io._CommsHandle at 0x10bab0550>"
      ]
     },
     "execution_count": 8,
     "metadata": {},
     "output_type": "execute_result"
    }
   ],
   "source": [
    "p = Scatter(flowers, x='petal_length', y='petal_width')\n",
    "show(p)"
   ]
  },
  {
   "cell_type": "markdown",
   "metadata": {},
   "source": [
    "By passing a column name for the `color` parameter, you can make `Scatter` automatically color the markers according to the groups in that column. Let's also add a legend by specify its location as the value of a `legend` paramter (in this case `\"top_left\"`)"
   ]
  },
  {
   "cell_type": "code",
   "execution_count": 22,
   "metadata": {
    "collapsed": false
   },
   "outputs": [
    {
     "data": {
      "text/html": [
       "\n",
       "\n",
       "    <div class=\"bk-root\">\n",
       "        <div class=\"plotdiv\" id=\"5fe8e2aa-69ed-4053-a5c2-07cd08351f55\"></div>\n",
       "    </div>\n",
       "<script type=\"text/javascript\">\n",
       "  \n",
       "  (function(global) {\n",
       "    function now() {\n",
       "      return new Date();\n",
       "    }\n",
       "  \n",
       "    var force = \"\";\n",
       "  \n",
       "    if (typeof (window._bokeh_onload_callbacks) === \"undefined\" || force !== \"\") {\n",
       "      window._bokeh_onload_callbacks = [];\n",
       "      window._bokeh_is_loading = undefined;\n",
       "    }\n",
       "  \n",
       "    function run_callbacks() {\n",
       "      window._bokeh_onload_callbacks.forEach(function(callback) { callback() });\n",
       "      delete window._bokeh_onload_callbacks\n",
       "      console.info(\"Bokeh: all callbacks have finished\");\n",
       "    }\n",
       "  \n",
       "    function load_libs(js_urls, callback) {\n",
       "      window._bokeh_onload_callbacks.push(callback);\n",
       "      if (window._bokeh_is_loading > 0) {\n",
       "        console.log(\"Bokeh: BokehJS is being loaded, scheduling callback at\", now());\n",
       "        return null;\n",
       "      }\n",
       "      if (js_urls == null || js_urls.length === 0) {\n",
       "        run_callbacks();\n",
       "        return null;\n",
       "      }\n",
       "      console.log(\"Bokeh: BokehJS not loaded, scheduling load and callback at\", now());\n",
       "      window._bokeh_is_loading = js_urls.length;\n",
       "      for (var i = 0; i < js_urls.length; i++) {\n",
       "        var url = js_urls[i];\n",
       "        var s = document.createElement('script');\n",
       "        s.src = url;\n",
       "        s.async = false;\n",
       "        s.onreadystatechange = s.onload = function() {\n",
       "          window._bokeh_is_loading--;\n",
       "          if (window._bokeh_is_loading === 0) {\n",
       "            console.log(\"Bokeh: all BokehJS libraries loaded\");\n",
       "            run_callbacks()\n",
       "          }\n",
       "        };\n",
       "        s.onerror = function() {\n",
       "          console.warn(\"failed to load library \" + url);\n",
       "        };\n",
       "        console.log(\"Bokeh: injecting script tag for BokehJS library: \", url);\n",
       "        document.getElementsByTagName(\"head\")[0].appendChild(s);\n",
       "      }\n",
       "    };var element = document.getElementById(\"5fe8e2aa-69ed-4053-a5c2-07cd08351f55\");\n",
       "    if (element == null) {\n",
       "      console.log(\"Bokeh: ERROR: autoload.js configured with elementid '5fe8e2aa-69ed-4053-a5c2-07cd08351f55' but no matching script tag was found. \")\n",
       "      return false;\n",
       "    }\n",
       "  \n",
       "    var js_urls = [];\n",
       "  \n",
       "    var inline_js = [\n",
       "      function(Bokeh) {\n",
       "        Bokeh.$(function() {\n",
       "            var docs_json = {\"4fe2634a-ceaa-41d5-879f-eefe0788817e\":{\"roots\":{\"references\":[{\"attributes\":{\"callback\":null,\"end\":7.49,\"start\":0.4099999999999999},\"id\":\"6ad0276f-ee72-4abb-94fe-42d3678c54ac\",\"type\":\"Range1d\"},{\"attributes\":{\"dimension\":1,\"plot\":{\"id\":\"d39108e4-e18e-47b4-a839-791eea8da0a8\",\"subtype\":\"Chart\",\"type\":\"Plot\"},\"ticker\":{\"id\":\"ce32697c-99f0-4560-a4ae-a2dfac7b3a74\",\"type\":\"BasicTicker\"}},\"id\":\"da05110d-697f-4a55-b5ef-f82169ee687e\",\"type\":\"Grid\"},{\"attributes\":{\"fill_alpha\":{\"value\":0.7},\"fill_color\":{\"value\":\"#f22c40\"},\"line_color\":{\"value\":\"#f22c40\"},\"size\":{\"units\":\"screen\",\"value\":8},\"x\":{\"field\":\"x_values\"},\"y\":{\"field\":\"y_values\"}},\"id\":\"26e54683-665b-404f-bf95-1ac4dd825a07\",\"type\":\"Circle\"},{\"attributes\":{},\"id\":\"84a6e702-150d-4089-861b-a666b3bf828a\",\"type\":\"ToolEvents\"},{\"attributes\":{\"plot\":{\"id\":\"d39108e4-e18e-47b4-a839-791eea8da0a8\",\"subtype\":\"Chart\",\"type\":\"Plot\"}},\"id\":\"964b2745-aff0-4d81-9a4b-d455cf409115\",\"type\":\"PanTool\"},{\"attributes\":{\"plot\":{\"id\":\"d39108e4-e18e-47b4-a839-791eea8da0a8\",\"subtype\":\"Chart\",\"type\":\"Plot\"}},\"id\":\"61fa3e60-44ae-4b13-a95f-b6516c331600\",\"type\":\"SaveTool\"},{\"attributes\":{},\"id\":\"45ca6495-7efc-4e7c-aefa-61199dc94aa9\",\"type\":\"BasicTickFormatter\"},{\"attributes\":{\"axis_label\":\"petal_width\",\"formatter\":{\"id\":\"45ca6495-7efc-4e7c-aefa-61199dc94aa9\",\"type\":\"BasicTickFormatter\"},\"plot\":{\"id\":\"d39108e4-e18e-47b4-a839-791eea8da0a8\",\"subtype\":\"Chart\",\"type\":\"Plot\"},\"ticker\":{\"id\":\"ce32697c-99f0-4560-a4ae-a2dfac7b3a74\",\"type\":\"BasicTicker\"}},\"id\":\"c2d93c46-334a-42da-a001-4282003c2342\",\"type\":\"LinearAxis\"},{\"attributes\":{},\"id\":\"ce32697c-99f0-4560-a4ae-a2dfac7b3a74\",\"type\":\"BasicTicker\"},{\"attributes\":{\"plot\":{\"id\":\"d39108e4-e18e-47b4-a839-791eea8da0a8\",\"subtype\":\"Chart\",\"type\":\"Plot\"}},\"id\":\"e70eff88-bd7d-46c5-9540-8f377a4d01b7\",\"type\":\"WheelZoomTool\"},{\"attributes\":{\"callback\":null,\"column_names\":[\"x_values\",\"y_values\"],\"data\":{\"chart_index\":[{\"species\":\"virginica\"},{\"species\":\"virginica\"},{\"species\":\"virginica\"},{\"species\":\"virginica\"},{\"species\":\"virginica\"},{\"species\":\"virginica\"},{\"species\":\"virginica\"},{\"species\":\"virginica\"},{\"species\":\"virginica\"},{\"species\":\"virginica\"},{\"species\":\"virginica\"},{\"species\":\"virginica\"},{\"species\":\"virginica\"},{\"species\":\"virginica\"},{\"species\":\"virginica\"},{\"species\":\"virginica\"},{\"species\":\"virginica\"},{\"species\":\"virginica\"},{\"species\":\"virginica\"},{\"species\":\"virginica\"},{\"species\":\"virginica\"},{\"species\":\"virginica\"},{\"species\":\"virginica\"},{\"species\":\"virginica\"},{\"species\":\"virginica\"},{\"species\":\"virginica\"},{\"species\":\"virginica\"},{\"species\":\"virginica\"},{\"species\":\"virginica\"},{\"species\":\"virginica\"},{\"species\":\"virginica\"},{\"species\":\"virginica\"},{\"species\":\"virginica\"},{\"species\":\"virginica\"},{\"species\":\"virginica\"},{\"species\":\"virginica\"},{\"species\":\"virginica\"},{\"species\":\"virginica\"},{\"species\":\"virginica\"},{\"species\":\"virginica\"},{\"species\":\"virginica\"},{\"species\":\"virginica\"},{\"species\":\"virginica\"},{\"species\":\"virginica\"},{\"species\":\"virginica\"},{\"species\":\"virginica\"},{\"species\":\"virginica\"},{\"species\":\"virginica\"},{\"species\":\"virginica\"},{\"species\":\"virginica\"}],\"species\":[\"virginica\",\"virginica\",\"virginica\",\"virginica\",\"virginica\",\"virginica\",\"virginica\",\"virginica\",\"virginica\",\"virginica\",\"virginica\",\"virginica\",\"virginica\",\"virginica\",\"virginica\",\"virginica\",\"virginica\",\"virginica\",\"virginica\",\"virginica\",\"virginica\",\"virginica\",\"virginica\",\"virginica\",\"virginica\",\"virginica\",\"virginica\",\"virginica\",\"virginica\",\"virginica\",\"virginica\",\"virginica\",\"virginica\",\"virginica\",\"virginica\",\"virginica\",\"virginica\",\"virginica\",\"virginica\",\"virginica\",\"virginica\",\"virginica\",\"virginica\",\"virginica\",\"virginica\",\"virginica\",\"virginica\",\"virginica\",\"virginica\",\"virginica\"],\"x_values\":[6.0,5.1,5.9,5.6,5.8,6.6,4.5,6.3,5.8,6.1,5.1,5.3,5.5,5.0,5.1,5.3,5.5,6.7,6.9,5.0,5.7,4.9,6.7,4.9,5.7,6.0,4.8,4.9,5.6,5.8,6.1,6.4,5.6,5.1,5.6,6.1,5.6,5.5,4.8,5.4,5.6,5.1,5.1,5.9,5.7,5.2,5.0,5.2,5.4,5.1],\"y_values\":[2.5,1.9,2.1,1.8,2.2,2.1,1.7,1.8,1.8,2.5,2.0,1.9,2.1,2.0,2.4,2.3,1.8,2.2,2.3,1.5,2.3,2.0,2.0,1.8,2.1,1.8,1.8,1.8,2.1,1.6,1.9,2.0,2.2,1.5,1.4,2.3,2.4,1.8,1.8,2.1,2.4,2.3,1.9,2.3,2.5,2.3,1.9,2.0,2.3,1.8]}},\"id\":\"8e79b315-0d08-4a87-8ee9-371127156297\",\"type\":\"ColumnDataSource\"},{\"attributes\":{\"legends\":[[\"setosa\",[{\"id\":\"22ee6302-3dac-4280-9396-a893f2c3e3b5\",\"type\":\"GlyphRenderer\"}]],[\"versicolor\",[{\"id\":\"b6699f3c-f229-483a-9499-8d26174d0300\",\"type\":\"GlyphRenderer\"}]],[\"virginica\",[{\"id\":\"74157c67-fcae-44c0-8790-adcdc3c5f0ec\",\"type\":\"GlyphRenderer\"}]]],\"location\":\"top_left\",\"plot\":{\"id\":\"d39108e4-e18e-47b4-a839-791eea8da0a8\",\"subtype\":\"Chart\",\"type\":\"Plot\"}},\"id\":\"a579ee09-13ca-4000-9c20-bbc5eab93b79\",\"type\":\"Legend\"},{\"attributes\":{\"overlay\":{\"id\":\"676639b3-e9c9-465b-8224-544db09aa4ae\",\"type\":\"BoxAnnotation\"},\"plot\":{\"id\":\"d39108e4-e18e-47b4-a839-791eea8da0a8\",\"subtype\":\"Chart\",\"type\":\"Plot\"}},\"id\":\"4f4d6598-6435-4407-ab33-26e47427a03e\",\"type\":\"BoxZoomTool\"},{\"attributes\":{\"callback\":null,\"column_names\":[\"x_values\",\"y_values\"],\"data\":{\"chart_index\":[{\"species\":\"versicolor\"},{\"species\":\"versicolor\"},{\"species\":\"versicolor\"},{\"species\":\"versicolor\"},{\"species\":\"versicolor\"},{\"species\":\"versicolor\"},{\"species\":\"versicolor\"},{\"species\":\"versicolor\"},{\"species\":\"versicolor\"},{\"species\":\"versicolor\"},{\"species\":\"versicolor\"},{\"species\":\"versicolor\"},{\"species\":\"versicolor\"},{\"species\":\"versicolor\"},{\"species\":\"versicolor\"},{\"species\":\"versicolor\"},{\"species\":\"versicolor\"},{\"species\":\"versicolor\"},{\"species\":\"versicolor\"},{\"species\":\"versicolor\"},{\"species\":\"versicolor\"},{\"species\":\"versicolor\"},{\"species\":\"versicolor\"},{\"species\":\"versicolor\"},{\"species\":\"versicolor\"},{\"species\":\"versicolor\"},{\"species\":\"versicolor\"},{\"species\":\"versicolor\"},{\"species\":\"versicolor\"},{\"species\":\"versicolor\"},{\"species\":\"versicolor\"},{\"species\":\"versicolor\"},{\"species\":\"versicolor\"},{\"species\":\"versicolor\"},{\"species\":\"versicolor\"},{\"species\":\"versicolor\"},{\"species\":\"versicolor\"},{\"species\":\"versicolor\"},{\"species\":\"versicolor\"},{\"species\":\"versicolor\"},{\"species\":\"versicolor\"},{\"species\":\"versicolor\"},{\"species\":\"versicolor\"},{\"species\":\"versicolor\"},{\"species\":\"versicolor\"},{\"species\":\"versicolor\"},{\"species\":\"versicolor\"},{\"species\":\"versicolor\"},{\"species\":\"versicolor\"},{\"species\":\"versicolor\"}],\"species\":[\"versicolor\",\"versicolor\",\"versicolor\",\"versicolor\",\"versicolor\",\"versicolor\",\"versicolor\",\"versicolor\",\"versicolor\",\"versicolor\",\"versicolor\",\"versicolor\",\"versicolor\",\"versicolor\",\"versicolor\",\"versicolor\",\"versicolor\",\"versicolor\",\"versicolor\",\"versicolor\",\"versicolor\",\"versicolor\",\"versicolor\",\"versicolor\",\"versicolor\",\"versicolor\",\"versicolor\",\"versicolor\",\"versicolor\",\"versicolor\",\"versicolor\",\"versicolor\",\"versicolor\",\"versicolor\",\"versicolor\",\"versicolor\",\"versicolor\",\"versicolor\",\"versicolor\",\"versicolor\",\"versicolor\",\"versicolor\",\"versicolor\",\"versicolor\",\"versicolor\",\"versicolor\",\"versicolor\",\"versicolor\",\"versicolor\",\"versicolor\"],\"x_values\":[4.7,4.5,4.9,4.0,4.6,4.5,4.7,3.3,4.6,3.9,3.5,4.2,4.0,4.7,3.6,4.4,4.5,4.1,4.5,3.9,4.8,4.0,4.9,4.7,4.3,4.4,4.8,5.0,4.5,3.5,3.8,3.7,3.9,5.1,4.5,4.5,4.7,4.4,4.1,4.0,4.4,4.6,4.0,3.3,4.2,4.2,4.2,4.3,3.0,4.1],\"y_values\":[1.4,1.5,1.5,1.3,1.5,1.3,1.6,1.0,1.3,1.4,1.0,1.5,1.0,1.4,1.3,1.4,1.5,1.0,1.5,1.1,1.8,1.3,1.5,1.2,1.3,1.4,1.4,1.7,1.5,1.0,1.1,1.0,1.2,1.6,1.5,1.6,1.5,1.3,1.3,1.3,1.2,1.4,1.2,1.0,1.3,1.2,1.3,1.3,1.1,1.3]}},\"id\":\"484c6085-90d3-4004-979c-e485bd91bac8\",\"type\":\"ColumnDataSource\"},{\"attributes\":{\"axis_label\":\"petal_length\",\"formatter\":{\"id\":\"017b24b6-6335-4422-bb6c-f8ce7114862a\",\"type\":\"BasicTickFormatter\"},\"plot\":{\"id\":\"d39108e4-e18e-47b4-a839-791eea8da0a8\",\"subtype\":\"Chart\",\"type\":\"Plot\"},\"ticker\":{\"id\":\"79597045-5df0-4260-b707-91f2f858a603\",\"type\":\"BasicTicker\"}},\"id\":\"d230b6ea-549d-459c-9179-aa9f37750b5f\",\"type\":\"LinearAxis\"},{\"attributes\":{\"callback\":null,\"end\":2.74,\"start\":-0.13999999999999999},\"id\":\"d863c812-1d01-4b2c-bbeb-9a1bc7d39340\",\"type\":\"Range1d\"},{\"attributes\":{\"fill_alpha\":{\"value\":0.7},\"fill_color\":{\"value\":\"#407ee7\"},\"line_color\":{\"value\":\"#407ee7\"},\"size\":{\"units\":\"screen\",\"value\":8},\"x\":{\"field\":\"x_values\"},\"y\":{\"field\":\"y_values\"}},\"id\":\"2fd83d94-70d6-4827-99c2-7c164ac3e79c\",\"type\":\"Triangle\"},{\"attributes\":{\"plot\":{\"id\":\"d39108e4-e18e-47b4-a839-791eea8da0a8\",\"subtype\":\"Chart\",\"type\":\"Plot\"}},\"id\":\"59f9ce97-4f6e-4c04-9a05-e19a09dbe585\",\"type\":\"HelpTool\"},{\"attributes\":{\"data_source\":{\"id\":\"484c6085-90d3-4004-979c-e485bd91bac8\",\"type\":\"ColumnDataSource\"},\"glyph\":{\"id\":\"33ce7ad7-4430-40d0-9a62-04985af0b6ba\",\"type\":\"Square\"},\"hover_glyph\":null,\"nonselection_glyph\":null,\"selection_glyph\":null},\"id\":\"b6699f3c-f229-483a-9499-8d26174d0300\",\"type\":\"GlyphRenderer\"},{\"attributes\":{},\"id\":\"79597045-5df0-4260-b707-91f2f858a603\",\"type\":\"BasicTicker\"},{\"attributes\":{\"plot\":{\"id\":\"d39108e4-e18e-47b4-a839-791eea8da0a8\",\"subtype\":\"Chart\",\"type\":\"Plot\"},\"ticker\":{\"id\":\"79597045-5df0-4260-b707-91f2f858a603\",\"type\":\"BasicTicker\"}},\"id\":\"a15586a5-1487-4cac-8c7c-d55490c995c2\",\"type\":\"Grid\"},{\"attributes\":{\"plot\":{\"id\":\"d39108e4-e18e-47b4-a839-791eea8da0a8\",\"subtype\":\"Chart\",\"type\":\"Plot\"}},\"id\":\"18101f1e-3e25-4c35-8ad1-f2d9dc44dec1\",\"type\":\"ResetTool\"},{\"attributes\":{\"below\":[{\"id\":\"d230b6ea-549d-459c-9179-aa9f37750b5f\",\"type\":\"LinearAxis\"}],\"left\":[{\"id\":\"c2d93c46-334a-42da-a001-4282003c2342\",\"type\":\"LinearAxis\"}],\"renderers\":[{\"id\":\"676639b3-e9c9-465b-8224-544db09aa4ae\",\"type\":\"BoxAnnotation\"},{\"id\":\"22ee6302-3dac-4280-9396-a893f2c3e3b5\",\"type\":\"GlyphRenderer\"},{\"id\":\"b6699f3c-f229-483a-9499-8d26174d0300\",\"type\":\"GlyphRenderer\"},{\"id\":\"74157c67-fcae-44c0-8790-adcdc3c5f0ec\",\"type\":\"GlyphRenderer\"},{\"id\":\"a579ee09-13ca-4000-9c20-bbc5eab93b79\",\"type\":\"Legend\"},{\"id\":\"d230b6ea-549d-459c-9179-aa9f37750b5f\",\"type\":\"LinearAxis\"},{\"id\":\"c2d93c46-334a-42da-a001-4282003c2342\",\"type\":\"LinearAxis\"},{\"id\":\"a15586a5-1487-4cac-8c7c-d55490c995c2\",\"type\":\"Grid\"},{\"id\":\"da05110d-697f-4a55-b5ef-f82169ee687e\",\"type\":\"Grid\"}],\"title\":{\"id\":\"fa141a17-cc7e-40c4-8a09-ae2bceef8d21\",\"type\":\"Title\"},\"tool_events\":{\"id\":\"84a6e702-150d-4089-861b-a666b3bf828a\",\"type\":\"ToolEvents\"},\"toolbar\":{\"id\":\"42988384-deed-4dd1-ab65-49378476fae6\",\"type\":\"Toolbar\"},\"x_mapper_type\":\"auto\",\"x_range\":{\"id\":\"6ad0276f-ee72-4abb-94fe-42d3678c54ac\",\"type\":\"Range1d\"},\"y_mapper_type\":\"auto\",\"y_range\":{\"id\":\"d863c812-1d01-4b2c-bbeb-9a1bc7d39340\",\"type\":\"Range1d\"}},\"id\":\"d39108e4-e18e-47b4-a839-791eea8da0a8\",\"subtype\":\"Chart\",\"type\":\"Plot\"},{\"attributes\":{\"data_source\":{\"id\":\"85cbbdd5-3747-4a34-873a-e59f41306a51\",\"type\":\"ColumnDataSource\"},\"glyph\":{\"id\":\"26e54683-665b-404f-bf95-1ac4dd825a07\",\"type\":\"Circle\"},\"hover_glyph\":null,\"nonselection_glyph\":null,\"selection_glyph\":null},\"id\":\"22ee6302-3dac-4280-9396-a893f2c3e3b5\",\"type\":\"GlyphRenderer\"},{\"attributes\":{\"active_drag\":\"auto\",\"active_scroll\":\"auto\",\"active_tap\":\"auto\",\"tools\":[{\"id\":\"964b2745-aff0-4d81-9a4b-d455cf409115\",\"type\":\"PanTool\"},{\"id\":\"e70eff88-bd7d-46c5-9540-8f377a4d01b7\",\"type\":\"WheelZoomTool\"},{\"id\":\"4f4d6598-6435-4407-ab33-26e47427a03e\",\"type\":\"BoxZoomTool\"},{\"id\":\"61fa3e60-44ae-4b13-a95f-b6516c331600\",\"type\":\"SaveTool\"},{\"id\":\"18101f1e-3e25-4c35-8ad1-f2d9dc44dec1\",\"type\":\"ResetTool\"},{\"id\":\"59f9ce97-4f6e-4c04-9a05-e19a09dbe585\",\"type\":\"HelpTool\"}]},\"id\":\"42988384-deed-4dd1-ab65-49378476fae6\",\"type\":\"Toolbar\"},{\"attributes\":{\"bottom_units\":\"screen\",\"fill_alpha\":{\"value\":0.5},\"fill_color\":{\"value\":\"lightgrey\"},\"left_units\":\"screen\",\"level\":\"overlay\",\"line_alpha\":{\"value\":1.0},\"line_color\":{\"value\":\"black\"},\"line_dash\":[4,4],\"line_width\":{\"value\":2},\"plot\":null,\"render_mode\":\"css\",\"right_units\":\"screen\",\"top_units\":\"screen\"},\"id\":\"676639b3-e9c9-465b-8224-544db09aa4ae\",\"type\":\"BoxAnnotation\"},{\"attributes\":{\"plot\":null,\"text\":null},\"id\":\"fa141a17-cc7e-40c4-8a09-ae2bceef8d21\",\"type\":\"Title\"},{\"attributes\":{\"fill_alpha\":{\"value\":0.7},\"fill_color\":{\"value\":\"#5ab738\"},\"line_color\":{\"value\":\"#5ab738\"},\"size\":{\"units\":\"screen\",\"value\":8},\"x\":{\"field\":\"x_values\"},\"y\":{\"field\":\"y_values\"}},\"id\":\"33ce7ad7-4430-40d0-9a62-04985af0b6ba\",\"type\":\"Square\"},{\"attributes\":{\"callback\":null,\"column_names\":[\"x_values\",\"y_values\"],\"data\":{\"chart_index\":[{\"species\":\"setosa\"},{\"species\":\"setosa\"},{\"species\":\"setosa\"},{\"species\":\"setosa\"},{\"species\":\"setosa\"},{\"species\":\"setosa\"},{\"species\":\"setosa\"},{\"species\":\"setosa\"},{\"species\":\"setosa\"},{\"species\":\"setosa\"},{\"species\":\"setosa\"},{\"species\":\"setosa\"},{\"species\":\"setosa\"},{\"species\":\"setosa\"},{\"species\":\"setosa\"},{\"species\":\"setosa\"},{\"species\":\"setosa\"},{\"species\":\"setosa\"},{\"species\":\"setosa\"},{\"species\":\"setosa\"},{\"species\":\"setosa\"},{\"species\":\"setosa\"},{\"species\":\"setosa\"},{\"species\":\"setosa\"},{\"species\":\"setosa\"},{\"species\":\"setosa\"},{\"species\":\"setosa\"},{\"species\":\"setosa\"},{\"species\":\"setosa\"},{\"species\":\"setosa\"},{\"species\":\"setosa\"},{\"species\":\"setosa\"},{\"species\":\"setosa\"},{\"species\":\"setosa\"},{\"species\":\"setosa\"},{\"species\":\"setosa\"},{\"species\":\"setosa\"},{\"species\":\"setosa\"},{\"species\":\"setosa\"},{\"species\":\"setosa\"},{\"species\":\"setosa\"},{\"species\":\"setosa\"},{\"species\":\"setosa\"},{\"species\":\"setosa\"},{\"species\":\"setosa\"},{\"species\":\"setosa\"},{\"species\":\"setosa\"},{\"species\":\"setosa\"},{\"species\":\"setosa\"},{\"species\":\"setosa\"}],\"species\":[\"setosa\",\"setosa\",\"setosa\",\"setosa\",\"setosa\",\"setosa\",\"setosa\",\"setosa\",\"setosa\",\"setosa\",\"setosa\",\"setosa\",\"setosa\",\"setosa\",\"setosa\",\"setosa\",\"setosa\",\"setosa\",\"setosa\",\"setosa\",\"setosa\",\"setosa\",\"setosa\",\"setosa\",\"setosa\",\"setosa\",\"setosa\",\"setosa\",\"setosa\",\"setosa\",\"setosa\",\"setosa\",\"setosa\",\"setosa\",\"setosa\",\"setosa\",\"setosa\",\"setosa\",\"setosa\",\"setosa\",\"setosa\",\"setosa\",\"setosa\",\"setosa\",\"setosa\",\"setosa\",\"setosa\",\"setosa\",\"setosa\",\"setosa\"],\"x_values\":[1.4,1.4,1.3,1.5,1.4,1.7,1.4,1.5,1.4,1.5,1.5,1.6,1.4,1.1,1.2,1.5,1.3,1.4,1.7,1.5,1.7,1.5,1.0,1.7,1.9,1.6,1.6,1.5,1.4,1.6,1.6,1.5,1.5,1.4,1.5,1.2,1.3,1.4,1.3,1.5,1.3,1.3,1.3,1.6,1.9,1.4,1.6,1.4,1.5,1.4],\"y_values\":[0.2,0.2,0.2,0.2,0.2,0.4,0.3,0.2,0.2,0.1,0.2,0.2,0.1,0.1,0.2,0.4,0.4,0.3,0.3,0.3,0.2,0.4,0.2,0.5,0.2,0.2,0.4,0.2,0.2,0.2,0.2,0.4,0.1,0.2,0.2,0.2,0.2,0.1,0.2,0.2,0.3,0.3,0.2,0.6,0.4,0.3,0.2,0.2,0.2,0.2]}},\"id\":\"85cbbdd5-3747-4a34-873a-e59f41306a51\",\"type\":\"ColumnDataSource\"},{\"attributes\":{},\"id\":\"017b24b6-6335-4422-bb6c-f8ce7114862a\",\"type\":\"BasicTickFormatter\"},{\"attributes\":{\"data_source\":{\"id\":\"8e79b315-0d08-4a87-8ee9-371127156297\",\"type\":\"ColumnDataSource\"},\"glyph\":{\"id\":\"2fd83d94-70d6-4827-99c2-7c164ac3e79c\",\"type\":\"Triangle\"},\"hover_glyph\":null,\"nonselection_glyph\":null,\"selection_glyph\":null},\"id\":\"74157c67-fcae-44c0-8790-adcdc3c5f0ec\",\"type\":\"GlyphRenderer\"}],\"root_ids\":[\"d39108e4-e18e-47b4-a839-791eea8da0a8\"]},\"title\":\"Bokeh Application\",\"version\":\"0.12.1\"}};\n",
       "            var render_items = [{\"docid\":\"4fe2634a-ceaa-41d5-879f-eefe0788817e\",\"elementid\":\"5fe8e2aa-69ed-4053-a5c2-07cd08351f55\",\"modelid\":\"d39108e4-e18e-47b4-a839-791eea8da0a8\",\"notebook_comms_target\":\"2f1f8057-e96f-4109-bfe2-5fa37434cc1a\"}];\n",
       "            \n",
       "            Bokeh.embed.embed_items(docs_json, render_items);\n",
       "        });\n",
       "      },\n",
       "      function(Bokeh) {\n",
       "      }\n",
       "    ];\n",
       "  \n",
       "    function run_inline_js() {\n",
       "      for (var i = 0; i < inline_js.length; i++) {\n",
       "        inline_js[i](window.Bokeh);\n",
       "      }\n",
       "    }\n",
       "  \n",
       "    if (window._bokeh_is_loading === 0) {\n",
       "      console.log(\"Bokeh: BokehJS loaded, going straight to plotting\");\n",
       "      run_inline_js();\n",
       "    } else {\n",
       "      load_libs(js_urls, function() {\n",
       "        console.log(\"Bokeh: BokehJS plotting callback run at\", now());\n",
       "        run_inline_js();\n",
       "      });\n",
       "    }\n",
       "  }(this));\n",
       "</script>"
      ]
     },
     "metadata": {},
     "output_type": "display_data"
    },
    {
     "data": {
      "text/html": [
       "<p><code>&lt;Bokeh Notebook handle for <strong>In[22]</strong>&gt;</code></p>"
      ],
      "text/plain": [
       "<bokeh.io._CommsHandle at 0x10bea9bd0>"
      ]
     },
     "execution_count": 22,
     "metadata": {},
     "output_type": "execute_result"
    }
   ],
   "source": [
    "p = Scatter(flowers, x='petal_length', y='petal_width', color='species', legend='top_left', marker='species')\n",
    "show(p)"
   ]
  },
  {
   "cell_type": "markdown",
   "metadata": {},
   "source": [
    "By passing a column name for the `marker` parameter, you can make `Scatter` automatically vary the marker shapes according to the groups in that column. Let's try that as an exercise."
   ]
  },
  {
   "cell_type": "code",
   "execution_count": 6,
   "metadata": {
    "collapsed": false
   },
   "outputs": [],
   "source": [
    "# EXERCISE: vary the marker shape by passing a column name as the `marker` keyword argument\n"
   ]
  },
  {
   "cell_type": "markdown",
   "metadata": {},
   "source": [
    "# Bar Chart\n",
    "\n",
    "A high-level bar chart is provided by [`bokeh.charts.Bar`]()\n",
    "\n",
    "For this section, we will use the \"autompg\" data set. Let's import it and take a quick look:"
   ]
  },
  {
   "cell_type": "code",
   "execution_count": 17,
   "metadata": {
    "collapsed": false
   },
   "outputs": [
    {
     "data": {
      "text/html": [
       "<div>\n",
       "<table border=\"1\" class=\"dataframe\">\n",
       "  <thead>\n",
       "    <tr style=\"text-align: right;\">\n",
       "      <th></th>\n",
       "      <th>mpg</th>\n",
       "      <th>cyl</th>\n",
       "      <th>displ</th>\n",
       "      <th>hp</th>\n",
       "      <th>weight</th>\n",
       "      <th>accel</th>\n",
       "      <th>yr</th>\n",
       "      <th>origin</th>\n",
       "      <th>name</th>\n",
       "    </tr>\n",
       "  </thead>\n",
       "  <tbody>\n",
       "    <tr>\n",
       "      <th>count</th>\n",
       "      <td>392.000000</td>\n",
       "      <td>392.000000</td>\n",
       "      <td>392.00000</td>\n",
       "      <td>392.000000</td>\n",
       "      <td>392.000000</td>\n",
       "      <td>392.000000</td>\n",
       "      <td>392.000000</td>\n",
       "      <td>392.000000</td>\n",
       "      <td>392</td>\n",
       "    </tr>\n",
       "    <tr>\n",
       "      <th>unique</th>\n",
       "      <td>NaN</td>\n",
       "      <td>NaN</td>\n",
       "      <td>NaN</td>\n",
       "      <td>NaN</td>\n",
       "      <td>NaN</td>\n",
       "      <td>NaN</td>\n",
       "      <td>NaN</td>\n",
       "      <td>NaN</td>\n",
       "      <td>301</td>\n",
       "    </tr>\n",
       "    <tr>\n",
       "      <th>top</th>\n",
       "      <td>NaN</td>\n",
       "      <td>NaN</td>\n",
       "      <td>NaN</td>\n",
       "      <td>NaN</td>\n",
       "      <td>NaN</td>\n",
       "      <td>NaN</td>\n",
       "      <td>NaN</td>\n",
       "      <td>NaN</td>\n",
       "      <td>ford pinto</td>\n",
       "    </tr>\n",
       "    <tr>\n",
       "      <th>freq</th>\n",
       "      <td>NaN</td>\n",
       "      <td>NaN</td>\n",
       "      <td>NaN</td>\n",
       "      <td>NaN</td>\n",
       "      <td>NaN</td>\n",
       "      <td>NaN</td>\n",
       "      <td>NaN</td>\n",
       "      <td>NaN</td>\n",
       "      <td>5</td>\n",
       "    </tr>\n",
       "    <tr>\n",
       "      <th>mean</th>\n",
       "      <td>23.445918</td>\n",
       "      <td>5.471939</td>\n",
       "      <td>194.41199</td>\n",
       "      <td>104.469388</td>\n",
       "      <td>2977.584184</td>\n",
       "      <td>15.541327</td>\n",
       "      <td>75.979592</td>\n",
       "      <td>1.576531</td>\n",
       "      <td>NaN</td>\n",
       "    </tr>\n",
       "    <tr>\n",
       "      <th>...</th>\n",
       "      <td>...</td>\n",
       "      <td>...</td>\n",
       "      <td>...</td>\n",
       "      <td>...</td>\n",
       "      <td>...</td>\n",
       "      <td>...</td>\n",
       "      <td>...</td>\n",
       "      <td>...</td>\n",
       "      <td>...</td>\n",
       "    </tr>\n",
       "    <tr>\n",
       "      <th>min</th>\n",
       "      <td>9.000000</td>\n",
       "      <td>3.000000</td>\n",
       "      <td>68.00000</td>\n",
       "      <td>46.000000</td>\n",
       "      <td>1613.000000</td>\n",
       "      <td>8.000000</td>\n",
       "      <td>70.000000</td>\n",
       "      <td>1.000000</td>\n",
       "      <td>NaN</td>\n",
       "    </tr>\n",
       "    <tr>\n",
       "      <th>25%</th>\n",
       "      <td>17.000000</td>\n",
       "      <td>4.000000</td>\n",
       "      <td>105.00000</td>\n",
       "      <td>75.000000</td>\n",
       "      <td>2225.250000</td>\n",
       "      <td>13.775000</td>\n",
       "      <td>73.000000</td>\n",
       "      <td>1.000000</td>\n",
       "      <td>NaN</td>\n",
       "    </tr>\n",
       "    <tr>\n",
       "      <th>50%</th>\n",
       "      <td>22.750000</td>\n",
       "      <td>4.000000</td>\n",
       "      <td>151.00000</td>\n",
       "      <td>93.500000</td>\n",
       "      <td>2803.500000</td>\n",
       "      <td>15.500000</td>\n",
       "      <td>76.000000</td>\n",
       "      <td>1.000000</td>\n",
       "      <td>NaN</td>\n",
       "    </tr>\n",
       "    <tr>\n",
       "      <th>75%</th>\n",
       "      <td>29.000000</td>\n",
       "      <td>8.000000</td>\n",
       "      <td>275.75000</td>\n",
       "      <td>126.000000</td>\n",
       "      <td>3614.750000</td>\n",
       "      <td>17.025000</td>\n",
       "      <td>79.000000</td>\n",
       "      <td>2.000000</td>\n",
       "      <td>NaN</td>\n",
       "    </tr>\n",
       "    <tr>\n",
       "      <th>max</th>\n",
       "      <td>46.600000</td>\n",
       "      <td>8.000000</td>\n",
       "      <td>455.00000</td>\n",
       "      <td>230.000000</td>\n",
       "      <td>5140.000000</td>\n",
       "      <td>24.800000</td>\n",
       "      <td>82.000000</td>\n",
       "      <td>3.000000</td>\n",
       "      <td>NaN</td>\n",
       "    </tr>\n",
       "  </tbody>\n",
       "</table>\n",
       "<p>11 rows × 9 columns</p>\n",
       "</div>"
      ],
      "text/plain": [
       "               mpg         cyl      displ          hp       weight  \\\n",
       "count   392.000000  392.000000  392.00000  392.000000   392.000000   \n",
       "unique         NaN         NaN        NaN         NaN          NaN   \n",
       "top            NaN         NaN        NaN         NaN          NaN   \n",
       "freq           NaN         NaN        NaN         NaN          NaN   \n",
       "mean     23.445918    5.471939  194.41199  104.469388  2977.584184   \n",
       "...            ...         ...        ...         ...          ...   \n",
       "min       9.000000    3.000000   68.00000   46.000000  1613.000000   \n",
       "25%      17.000000    4.000000  105.00000   75.000000  2225.250000   \n",
       "50%      22.750000    4.000000  151.00000   93.500000  2803.500000   \n",
       "75%      29.000000    8.000000  275.75000  126.000000  3614.750000   \n",
       "max      46.600000    8.000000  455.00000  230.000000  5140.000000   \n",
       "\n",
       "             accel          yr      origin        name  \n",
       "count   392.000000  392.000000  392.000000         392  \n",
       "unique         NaN         NaN         NaN         301  \n",
       "top            NaN         NaN         NaN  ford pinto  \n",
       "freq           NaN         NaN         NaN           5  \n",
       "mean     15.541327   75.979592    1.576531         NaN  \n",
       "...            ...         ...         ...         ...  \n",
       "min       8.000000   70.000000    1.000000         NaN  \n",
       "25%      13.775000   73.000000    1.000000         NaN  \n",
       "50%      15.500000   76.000000    1.000000         NaN  \n",
       "75%      17.025000   79.000000    2.000000         NaN  \n",
       "max      24.800000   82.000000    3.000000         NaN  \n",
       "\n",
       "[11 rows x 9 columns]"
      ]
     },
     "execution_count": 17,
     "metadata": {},
     "output_type": "execute_result"
    }
   ],
   "source": [
    "from bokeh.sampledata.autompg import autompg\n",
    "autompg.head()\n",
    "autompg.describe(include='all')"
   ]
  },
  {
   "cell_type": "code",
   "execution_count": 18,
   "metadata": {
    "collapsed": true
   },
   "outputs": [],
   "source": [
    "from bokeh.charts import Bar"
   ]
  },
  {
   "cell_type": "markdown",
   "metadata": {},
   "source": [
    "A basic bar chart takes the data (again a DataFrame) as the first value, as well as column names for:\n",
    "\n",
    "* `label` - a column to group to label the x-axis\n",
    "* `values` - a column to aggregate values for each group, to give the bar heights\n",
    "* `agg` - the name of an aggregation to perform over the values (e.g., `\"mean\"`, `\"max\"`, etc.)\n",
    "\n",
    "A simple example that also specifies some other properties such as `title` and `legend` is shown below:"
   ]
  },
  {
   "cell_type": "code",
   "execution_count": 20,
   "metadata": {
    "collapsed": false
   },
   "outputs": [
    {
     "data": {
      "text/html": [
       "\n",
       "\n",
       "    <div class=\"bk-root\">\n",
       "        <div class=\"plotdiv\" id=\"5bdc3ab4-8fe3-4581-a324-52e6f1c058f6\"></div>\n",
       "    </div>\n",
       "<script type=\"text/javascript\">\n",
       "  \n",
       "  (function(global) {\n",
       "    function now() {\n",
       "      return new Date();\n",
       "    }\n",
       "  \n",
       "    var force = \"\";\n",
       "  \n",
       "    if (typeof (window._bokeh_onload_callbacks) === \"undefined\" || force !== \"\") {\n",
       "      window._bokeh_onload_callbacks = [];\n",
       "      window._bokeh_is_loading = undefined;\n",
       "    }\n",
       "  \n",
       "    function run_callbacks() {\n",
       "      window._bokeh_onload_callbacks.forEach(function(callback) { callback() });\n",
       "      delete window._bokeh_onload_callbacks\n",
       "      console.info(\"Bokeh: all callbacks have finished\");\n",
       "    }\n",
       "  \n",
       "    function load_libs(js_urls, callback) {\n",
       "      window._bokeh_onload_callbacks.push(callback);\n",
       "      if (window._bokeh_is_loading > 0) {\n",
       "        console.log(\"Bokeh: BokehJS is being loaded, scheduling callback at\", now());\n",
       "        return null;\n",
       "      }\n",
       "      if (js_urls == null || js_urls.length === 0) {\n",
       "        run_callbacks();\n",
       "        return null;\n",
       "      }\n",
       "      console.log(\"Bokeh: BokehJS not loaded, scheduling load and callback at\", now());\n",
       "      window._bokeh_is_loading = js_urls.length;\n",
       "      for (var i = 0; i < js_urls.length; i++) {\n",
       "        var url = js_urls[i];\n",
       "        var s = document.createElement('script');\n",
       "        s.src = url;\n",
       "        s.async = false;\n",
       "        s.onreadystatechange = s.onload = function() {\n",
       "          window._bokeh_is_loading--;\n",
       "          if (window._bokeh_is_loading === 0) {\n",
       "            console.log(\"Bokeh: all BokehJS libraries loaded\");\n",
       "            run_callbacks()\n",
       "          }\n",
       "        };\n",
       "        s.onerror = function() {\n",
       "          console.warn(\"failed to load library \" + url);\n",
       "        };\n",
       "        console.log(\"Bokeh: injecting script tag for BokehJS library: \", url);\n",
       "        document.getElementsByTagName(\"head\")[0].appendChild(s);\n",
       "      }\n",
       "    };var element = document.getElementById(\"5bdc3ab4-8fe3-4581-a324-52e6f1c058f6\");\n",
       "    if (element == null) {\n",
       "      console.log(\"Bokeh: ERROR: autoload.js configured with elementid '5bdc3ab4-8fe3-4581-a324-52e6f1c058f6' but no matching script tag was found. \")\n",
       "      return false;\n",
       "    }\n",
       "  \n",
       "    var js_urls = [];\n",
       "  \n",
       "    var inline_js = [\n",
       "      function(Bokeh) {\n",
       "        Bokeh.$(function() {\n",
       "            var docs_json = {\"795849b0-a29c-4f06-b266-e7bbe504183d\":{\"roots\":{\"references\":[{\"attributes\":{},\"id\":\"219187ef-e5e6-43ef-af23-d8a188b12ede\",\"type\":\"CategoricalTicker\"},{\"attributes\":{\"dimension\":1,\"plot\":{\"id\":\"7a554c98-ed92-4896-a614-4a28f9357bd1\",\"subtype\":\"Chart\",\"type\":\"Plot\"},\"ticker\":{\"id\":\"600e4eab-45c3-476f-8b74-7f471dc99f8e\",\"type\":\"BasicTicker\"}},\"id\":\"94663a07-3542-4f8d-9bc0-fe921d26b720\",\"type\":\"Grid\"},{\"attributes\":{\"data_source\":{\"id\":\"e94e9583-1ea7-4e18-afe4-925eb604eacf\",\"type\":\"ColumnDataSource\"},\"glyph\":{\"id\":\"afe19511-d6b7-43b4-98d3-6c8a882e51d2\",\"type\":\"Rect\"},\"hover_glyph\":null,\"nonselection_glyph\":null,\"selection_glyph\":null},\"id\":\"dd8d4d1f-cbe2-48ce-99ed-fcd93226536e\",\"type\":\"GlyphRenderer\"},{\"attributes\":{\"data_source\":{\"id\":\"054e41e7-f4f9-4656-a4c5-484a3d08d568\",\"type\":\"ColumnDataSource\"},\"glyph\":{\"id\":\"26548f9c-1a09-415c-8e39-24af21132eb2\",\"type\":\"Rect\"},\"hover_glyph\":null,\"nonselection_glyph\":null,\"selection_glyph\":null},\"id\":\"6c9cf924-32b5-4ce0-826e-8d895a0f353b\",\"type\":\"GlyphRenderer\"},{\"attributes\":{\"callback\":null,\"column_names\":[\"line_color\",\"line_alpha\",\"color\",\"fill_alpha\",\"height\",\"width\",\"y\",\"x\",\"label\"],\"data\":{\"chart_index\":[{\"cyl\":3}],\"color\":[\"#f22c40\"],\"cyl\":[3],\"fill_alpha\":[0.8],\"height\":[23.7],\"label\":[{\"cyl\":3}],\"line_alpha\":[1.0],\"line_color\":[\"white\"],\"width\":[0.8],\"x\":[\"3\"],\"y\":[11.85]}},\"id\":\"2d289200-3d37-4ce5-9c15-f665a32b91b6\",\"type\":\"ColumnDataSource\"},{\"attributes\":{\"fill_alpha\":{\"field\":\"fill_alpha\"},\"fill_color\":{\"field\":\"color\"},\"height\":{\"field\":\"height\",\"units\":\"data\"},\"line_color\":{\"field\":\"line_color\"},\"width\":{\"field\":\"width\",\"units\":\"data\"},\"x\":{\"field\":\"x\"},\"y\":{\"field\":\"y\"}},\"id\":\"afe19511-d6b7-43b4-98d3-6c8a882e51d2\",\"type\":\"Rect\"},{\"attributes\":{\"callback\":null,\"factors\":[\"3\",\"4\",\"5\",\"6\",\"8\"]},\"id\":\"d54b724f-cb75-4c13-9c52-7c7da515de6c\",\"type\":\"FactorRange\"},{\"attributes\":{\"callback\":null,\"column_names\":[\"line_color\",\"line_alpha\",\"color\",\"fill_alpha\",\"height\",\"width\",\"y\",\"x\",\"label\"],\"data\":{\"chart_index\":[{\"cyl\":8}],\"color\":[\"#00ad9c\"],\"cyl\":[8],\"fill_alpha\":[0.8],\"height\":[26.6],\"label\":[{\"cyl\":8}],\"line_alpha\":[1.0],\"line_color\":[\"white\"],\"width\":[0.8],\"x\":[\"8\"],\"y\":[13.3]}},\"id\":\"4a7838bb-b145-40b5-95e6-43a732bc2a79\",\"type\":\"ColumnDataSource\"},{\"attributes\":{\"axis_label\":\"Cyl\",\"formatter\":{\"id\":\"d0c94472-cb22-4ee2-88bd-ffb873bd90c3\",\"type\":\"CategoricalTickFormatter\"},\"major_label_orientation\":0.7853981633974483,\"plot\":{\"id\":\"7a554c98-ed92-4896-a614-4a28f9357bd1\",\"subtype\":\"Chart\",\"type\":\"Plot\"},\"ticker\":{\"id\":\"219187ef-e5e6-43ef-af23-d8a188b12ede\",\"type\":\"CategoricalTicker\"}},\"id\":\"03b580b9-9ca3-4091-8d41-8355d7dbca69\",\"type\":\"CategoricalAxis\"},{\"attributes\":{\"fill_alpha\":{\"field\":\"fill_alpha\"},\"fill_color\":{\"field\":\"color\"},\"height\":{\"field\":\"height\",\"units\":\"data\"},\"line_color\":{\"field\":\"line_color\"},\"width\":{\"field\":\"width\",\"units\":\"data\"},\"x\":{\"field\":\"x\"},\"y\":{\"field\":\"y\"}},\"id\":\"ad624870-4c46-4968-8580-be38a771c2f4\",\"type\":\"Rect\"},{\"attributes\":{\"data_source\":{\"id\":\"2d289200-3d37-4ce5-9c15-f665a32b91b6\",\"type\":\"ColumnDataSource\"},\"glyph\":{\"id\":\"2e5e0cf2-2051-4b66-9d26-9f12f135485a\",\"type\":\"Rect\"},\"hover_glyph\":null,\"nonselection_glyph\":null,\"selection_glyph\":null},\"id\":\"b50df33d-0ea3-4250-845c-b132005051aa\",\"type\":\"GlyphRenderer\"},{\"attributes\":{\"fill_alpha\":{\"field\":\"fill_alpha\"},\"fill_color\":{\"field\":\"color\"},\"height\":{\"field\":\"height\",\"units\":\"data\"},\"line_color\":{\"field\":\"line_color\"},\"width\":{\"field\":\"width\",\"units\":\"data\"},\"x\":{\"field\":\"x\"},\"y\":{\"field\":\"y\"}},\"id\":\"8b238197-d5b3-4f18-ada9-068df3388a4e\",\"type\":\"Rect\"},{\"attributes\":{\"fill_alpha\":{\"field\":\"fill_alpha\"},\"fill_color\":{\"field\":\"color\"},\"height\":{\"field\":\"height\",\"units\":\"data\"},\"line_color\":{\"field\":\"line_color\"},\"width\":{\"field\":\"width\",\"units\":\"data\"},\"x\":{\"field\":\"x\"},\"y\":{\"field\":\"y\"}},\"id\":\"26548f9c-1a09-415c-8e39-24af21132eb2\",\"type\":\"Rect\"},{\"attributes\":{\"below\":[{\"id\":\"03b580b9-9ca3-4091-8d41-8355d7dbca69\",\"type\":\"CategoricalAxis\"}],\"left\":[{\"id\":\"6f064a5d-f62c-4525-bdc1-6f8d18c5a0f3\",\"type\":\"LinearAxis\"}],\"renderers\":[{\"id\":\"d1e58683-ca43-4114-bfea-fdd33feab112\",\"type\":\"GlyphRenderer\"},{\"id\":\"6c9cf924-32b5-4ce0-826e-8d895a0f353b\",\"type\":\"GlyphRenderer\"},{\"id\":\"a754e638-cd30-4405-a483-8867488ee74a\",\"type\":\"GlyphRenderer\"},{\"id\":\"b50df33d-0ea3-4250-845c-b132005051aa\",\"type\":\"GlyphRenderer\"},{\"id\":\"dd8d4d1f-cbe2-48ce-99ed-fcd93226536e\",\"type\":\"GlyphRenderer\"},{\"id\":\"03b580b9-9ca3-4091-8d41-8355d7dbca69\",\"type\":\"CategoricalAxis\"},{\"id\":\"6f064a5d-f62c-4525-bdc1-6f8d18c5a0f3\",\"type\":\"LinearAxis\"},{\"id\":\"94663a07-3542-4f8d-9bc0-fe921d26b720\",\"type\":\"Grid\"}],\"title\":{\"id\":\"b221645c-a303-4349-8dd0-598ee9c279cd\",\"type\":\"Title\"},\"tool_events\":{\"id\":\"3727c17e-c6b0-4d80-b986-5ef9c3d1a8b9\",\"type\":\"ToolEvents\"},\"toolbar\":{\"id\":\"331536a8-8a91-4835-a89f-03fb85402446\",\"type\":\"Toolbar\"},\"x_mapper_type\":\"auto\",\"x_range\":{\"id\":\"d54b724f-cb75-4c13-9c52-7c7da515de6c\",\"type\":\"FactorRange\"},\"y_mapper_type\":\"auto\",\"y_range\":{\"id\":\"84af1dbe-83b9-40f0-86ec-1e38bc3eb3ab\",\"type\":\"Range1d\"}},\"id\":\"7a554c98-ed92-4896-a614-4a28f9357bd1\",\"subtype\":\"Chart\",\"type\":\"Plot\"},{\"attributes\":{\"active_drag\":\"auto\",\"active_scroll\":\"auto\",\"active_tap\":\"auto\",\"tools\":[{\"id\":\"ca1a4d2d-fff3-490c-b3c7-a0c7fdbdeab0\",\"type\":\"CrosshairTool\"}]},\"id\":\"331536a8-8a91-4835-a89f-03fb85402446\",\"type\":\"Toolbar\"},{\"attributes\":{\"fill_alpha\":{\"field\":\"fill_alpha\"},\"fill_color\":{\"field\":\"color\"},\"height\":{\"field\":\"height\",\"units\":\"data\"},\"line_color\":{\"field\":\"line_color\"},\"width\":{\"field\":\"width\",\"units\":\"data\"},\"x\":{\"field\":\"x\"},\"y\":{\"field\":\"y\"}},\"id\":\"2e5e0cf2-2051-4b66-9d26-9f12f135485a\",\"type\":\"Rect\"},{\"attributes\":{\"plot\":{\"id\":\"7a554c98-ed92-4896-a614-4a28f9357bd1\",\"subtype\":\"Chart\",\"type\":\"Plot\"}},\"id\":\"ca1a4d2d-fff3-490c-b3c7-a0c7fdbdeab0\",\"type\":\"CrosshairTool\"},{\"attributes\":{\"data_source\":{\"id\":\"823d0027-68a8-426b-9cb2-7f55ed3919f3\",\"type\":\"ColumnDataSource\"},\"glyph\":{\"id\":\"8b238197-d5b3-4f18-ada9-068df3388a4e\",\"type\":\"Rect\"},\"hover_glyph\":null,\"nonselection_glyph\":null,\"selection_glyph\":null},\"id\":\"a754e638-cd30-4405-a483-8867488ee74a\",\"type\":\"GlyphRenderer\"},{\"attributes\":{},\"id\":\"600e4eab-45c3-476f-8b74-7f471dc99f8e\",\"type\":\"BasicTicker\"},{\"attributes\":{},\"id\":\"4b7e0fe9-8a54-4982-af7d-e3c19601fcfd\",\"type\":\"BasicTickFormatter\"},{\"attributes\":{\"data_source\":{\"id\":\"4a7838bb-b145-40b5-95e6-43a732bc2a79\",\"type\":\"ColumnDataSource\"},\"glyph\":{\"id\":\"ad624870-4c46-4968-8580-be38a771c2f4\",\"type\":\"Rect\"},\"hover_glyph\":null,\"nonselection_glyph\":null,\"selection_glyph\":null},\"id\":\"d1e58683-ca43-4114-bfea-fdd33feab112\",\"type\":\"GlyphRenderer\"},{\"attributes\":{\"plot\":null,\"text\":\"Max MPG by CYL\"},\"id\":\"b221645c-a303-4349-8dd0-598ee9c279cd\",\"type\":\"Title\"},{\"attributes\":{},\"id\":\"d0c94472-cb22-4ee2-88bd-ffb873bd90c3\",\"type\":\"CategoricalTickFormatter\"},{\"attributes\":{\"callback\":null,\"column_names\":[\"line_color\",\"line_alpha\",\"color\",\"fill_alpha\",\"height\",\"width\",\"y\",\"x\",\"label\"],\"data\":{\"chart_index\":[{\"cyl\":6}],\"color\":[\"#df5320\"],\"cyl\":[6],\"fill_alpha\":[0.8],\"height\":[38.0],\"label\":[{\"cyl\":6}],\"line_alpha\":[1.0],\"line_color\":[\"white\"],\"width\":[0.8],\"x\":[\"6\"],\"y\":[19.0]}},\"id\":\"823d0027-68a8-426b-9cb2-7f55ed3919f3\",\"type\":\"ColumnDataSource\"},{\"attributes\":{\"callback\":null,\"end\":48.93},\"id\":\"84af1dbe-83b9-40f0-86ec-1e38bc3eb3ab\",\"type\":\"Range1d\"},{\"attributes\":{\"callback\":null,\"column_names\":[\"line_color\",\"line_alpha\",\"color\",\"fill_alpha\",\"height\",\"width\",\"y\",\"x\",\"label\"],\"data\":{\"chart_index\":[{\"cyl\":5}],\"color\":[\"#407ee7\"],\"cyl\":[5],\"fill_alpha\":[0.8],\"height\":[36.4],\"label\":[{\"cyl\":5}],\"line_alpha\":[1.0],\"line_color\":[\"white\"],\"width\":[0.8],\"x\":[\"5\"],\"y\":[18.2]}},\"id\":\"e94e9583-1ea7-4e18-afe4-925eb604eacf\",\"type\":\"ColumnDataSource\"},{\"attributes\":{},\"id\":\"3727c17e-c6b0-4d80-b986-5ef9c3d1a8b9\",\"type\":\"ToolEvents\"},{\"attributes\":{\"axis_label\":\"Max( Mpg )\",\"formatter\":{\"id\":\"4b7e0fe9-8a54-4982-af7d-e3c19601fcfd\",\"type\":\"BasicTickFormatter\"},\"plot\":{\"id\":\"7a554c98-ed92-4896-a614-4a28f9357bd1\",\"subtype\":\"Chart\",\"type\":\"Plot\"},\"ticker\":{\"id\":\"600e4eab-45c3-476f-8b74-7f471dc99f8e\",\"type\":\"BasicTicker\"}},\"id\":\"6f064a5d-f62c-4525-bdc1-6f8d18c5a0f3\",\"type\":\"LinearAxis\"},{\"attributes\":{\"callback\":null,\"column_names\":[\"line_color\",\"line_alpha\",\"color\",\"fill_alpha\",\"height\",\"width\",\"y\",\"x\",\"label\"],\"data\":{\"chart_index\":[{\"cyl\":4}],\"color\":[\"#5ab738\"],\"cyl\":[4],\"fill_alpha\":[0.8],\"height\":[46.6],\"label\":[{\"cyl\":4}],\"line_alpha\":[1.0],\"line_color\":[\"white\"],\"width\":[0.8],\"x\":[\"4\"],\"y\":[23.3]}},\"id\":\"054e41e7-f4f9-4656-a4c5-484a3d08d568\",\"type\":\"ColumnDataSource\"}],\"root_ids\":[\"7a554c98-ed92-4896-a614-4a28f9357bd1\"]},\"title\":\"Bokeh Application\",\"version\":\"0.12.1\"}};\n",
       "            var render_items = [{\"docid\":\"795849b0-a29c-4f06-b266-e7bbe504183d\",\"elementid\":\"5bdc3ab4-8fe3-4581-a324-52e6f1c058f6\",\"modelid\":\"7a554c98-ed92-4896-a614-4a28f9357bd1\",\"notebook_comms_target\":\"cc9241c0-162f-43aa-a6df-b6332bfb34ed\"}];\n",
       "            \n",
       "            Bokeh.embed.embed_items(docs_json, render_items);\n",
       "        });\n",
       "      },\n",
       "      function(Bokeh) {\n",
       "      }\n",
       "    ];\n",
       "  \n",
       "    function run_inline_js() {\n",
       "      for (var i = 0; i < inline_js.length; i++) {\n",
       "        inline_js[i](window.Bokeh);\n",
       "      }\n",
       "    }\n",
       "  \n",
       "    if (window._bokeh_is_loading === 0) {\n",
       "      console.log(\"Bokeh: BokehJS loaded, going straight to plotting\");\n",
       "      run_inline_js();\n",
       "    } else {\n",
       "      load_libs(js_urls, function() {\n",
       "        console.log(\"Bokeh: BokehJS plotting callback run at\", now());\n",
       "        run_inline_js();\n",
       "      });\n",
       "    }\n",
       "  }(this));\n",
       "</script>"
      ]
     },
     "metadata": {},
     "output_type": "display_data"
    },
    {
     "data": {
      "text/html": [
       "<p><code>&lt;Bokeh Notebook handle for <strong>In[20]</strong>&gt;</code></p>"
      ],
      "text/plain": [
       "<bokeh.io._CommsHandle at 0x10bd04890>"
      ]
     },
     "execution_count": 20,
     "metadata": {},
     "output_type": "execute_result"
    }
   ],
   "source": [
    "p = Bar(autompg, label='cyl', values='mpg', agg='max', color='cyl',\n",
    "        title=\"Max MPG by CYL\", legend=None, tools='crosshair')\n",
    "show(p)"
   ]
  },
  {
   "cell_type": "markdown",
   "metadata": {},
   "source": [
    "By passing another column name as the `group` parameter, the aggregations can be further subdivided by the groups in that column, and the bars grouped visually. The example below demonstrates this, as well as adding a legend by specifying its location:"
   ]
  },
  {
   "cell_type": "code",
   "execution_count": 21,
   "metadata": {
    "collapsed": false
   },
   "outputs": [
    {
     "data": {
      "text/html": [
       "\n",
       "\n",
       "    <div class=\"bk-root\">\n",
       "        <div class=\"plotdiv\" id=\"f812d11b-44cc-4d6f-816a-d6943332d55a\"></div>\n",
       "    </div>\n",
       "<script type=\"text/javascript\">\n",
       "  \n",
       "  (function(global) {\n",
       "    function now() {\n",
       "      return new Date();\n",
       "    }\n",
       "  \n",
       "    var force = \"\";\n",
       "  \n",
       "    if (typeof (window._bokeh_onload_callbacks) === \"undefined\" || force !== \"\") {\n",
       "      window._bokeh_onload_callbacks = [];\n",
       "      window._bokeh_is_loading = undefined;\n",
       "    }\n",
       "  \n",
       "    function run_callbacks() {\n",
       "      window._bokeh_onload_callbacks.forEach(function(callback) { callback() });\n",
       "      delete window._bokeh_onload_callbacks\n",
       "      console.info(\"Bokeh: all callbacks have finished\");\n",
       "    }\n",
       "  \n",
       "    function load_libs(js_urls, callback) {\n",
       "      window._bokeh_onload_callbacks.push(callback);\n",
       "      if (window._bokeh_is_loading > 0) {\n",
       "        console.log(\"Bokeh: BokehJS is being loaded, scheduling callback at\", now());\n",
       "        return null;\n",
       "      }\n",
       "      if (js_urls == null || js_urls.length === 0) {\n",
       "        run_callbacks();\n",
       "        return null;\n",
       "      }\n",
       "      console.log(\"Bokeh: BokehJS not loaded, scheduling load and callback at\", now());\n",
       "      window._bokeh_is_loading = js_urls.length;\n",
       "      for (var i = 0; i < js_urls.length; i++) {\n",
       "        var url = js_urls[i];\n",
       "        var s = document.createElement('script');\n",
       "        s.src = url;\n",
       "        s.async = false;\n",
       "        s.onreadystatechange = s.onload = function() {\n",
       "          window._bokeh_is_loading--;\n",
       "          if (window._bokeh_is_loading === 0) {\n",
       "            console.log(\"Bokeh: all BokehJS libraries loaded\");\n",
       "            run_callbacks()\n",
       "          }\n",
       "        };\n",
       "        s.onerror = function() {\n",
       "          console.warn(\"failed to load library \" + url);\n",
       "        };\n",
       "        console.log(\"Bokeh: injecting script tag for BokehJS library: \", url);\n",
       "        document.getElementsByTagName(\"head\")[0].appendChild(s);\n",
       "      }\n",
       "    };var element = document.getElementById(\"f812d11b-44cc-4d6f-816a-d6943332d55a\");\n",
       "    if (element == null) {\n",
       "      console.log(\"Bokeh: ERROR: autoload.js configured with elementid 'f812d11b-44cc-4d6f-816a-d6943332d55a' but no matching script tag was found. \")\n",
       "      return false;\n",
       "    }\n",
       "  \n",
       "    var js_urls = [];\n",
       "  \n",
       "    var inline_js = [\n",
       "      function(Bokeh) {\n",
       "        Bokeh.$(function() {\n",
       "            var docs_json = {\"89110f94-7055-4b76-81ff-fd63dccafd67\":{\"roots\":{\"references\":[{\"attributes\":{\"data_source\":{\"id\":\"89d7e3ee-c139-4943-a4f2-d3c880334f40\",\"type\":\"ColumnDataSource\"},\"glyph\":{\"id\":\"5e655074-c5f5-4fc7-a9b1-77719773193a\",\"type\":\"Rect\"},\"hover_glyph\":null,\"nonselection_glyph\":null,\"selection_glyph\":null},\"id\":\"3825b881-6e74-409e-9bfc-9e9775770645\",\"type\":\"GlyphRenderer\"},{\"attributes\":{\"data_source\":{\"id\":\"bf6dde29-b5c3-4620-946c-1ee7671be42e\",\"type\":\"ColumnDataSource\"},\"glyph\":{\"id\":\"69d89569-3af1-49e0-91b5-a267771c00d6\",\"type\":\"Rect\"},\"hover_glyph\":null,\"nonselection_glyph\":null,\"selection_glyph\":null},\"id\":\"f62c2c80-49e9-4eb4-a173-9837d6711ff2\",\"type\":\"GlyphRenderer\"},{\"attributes\":{\"data_source\":{\"id\":\"b0307377-a137-476d-a901-7f32172c33d9\",\"type\":\"ColumnDataSource\"},\"glyph\":{\"id\":\"011aeb6a-bef4-424b-a104-188d3163ed82\",\"type\":\"Rect\"},\"hover_glyph\":null,\"nonselection_glyph\":null,\"selection_glyph\":null},\"id\":\"30d41cce-5ac3-41c5-9775-eb70e064c679\",\"type\":\"GlyphRenderer\"},{\"attributes\":{\"fill_alpha\":{\"field\":\"fill_alpha\"},\"fill_color\":{\"field\":\"color\"},\"height\":{\"field\":\"height\",\"units\":\"data\"},\"line_color\":{\"field\":\"line_color\"},\"width\":{\"field\":\"width\",\"units\":\"data\"},\"x\":{\"field\":\"x\"},\"y\":{\"field\":\"y\"}},\"id\":\"e615aff9-f506-4ea1-ab18-4b98b8c915d9\",\"type\":\"Rect\"},{\"attributes\":{\"callback\":null,\"column_names\":[\"line_color\",\"line_alpha\",\"color\",\"fill_alpha\",\"height\",\"width\",\"y\",\"x\",\"label\"],\"data\":{\"chart_index\":[{\"origin\":3,\"yr\":76}],\"color\":[\"#407ee7\"],\"fill_alpha\":[0.8],\"height\":[30.0],\"label\":[{\"origin\":3,\"yr\":76}],\"line_alpha\":[1.0],\"line_color\":[\"white\"],\"origin\":[3],\"width\":[0.2],\"x\":[\"76:0.5\"],\"y\":[15.0],\"yr\":[76]}},\"id\":\"e6ed0a01-5779-4833-b5e1-2a2fb1261016\",\"type\":\"ColumnDataSource\"},{\"attributes\":{},\"id\":\"1ce52f0c-6c63-47aa-ac7e-3cca39da3fa2\",\"type\":\"BasicTicker\"},{\"attributes\":{\"data_source\":{\"id\":\"3e426ada-fba6-499a-9915-f7d5baa9f973\",\"type\":\"ColumnDataSource\"},\"glyph\":{\"id\":\"e8e43da8-3bdb-4fd2-9d0a-3aca2f309dc9\",\"type\":\"Rect\"},\"hover_glyph\":null,\"nonselection_glyph\":null,\"selection_glyph\":null},\"id\":\"1f925656-e7de-4c4c-961b-69ae23df7215\",\"type\":\"GlyphRenderer\"},{\"attributes\":{\"below\":[{\"id\":\"977f3478-d68b-4697-8020-5a5617f2f19a\",\"type\":\"CategoricalAxis\"}],\"left\":[{\"id\":\"feddb31c-ce18-48fb-8cf7-f36cc5772e39\",\"type\":\"LinearAxis\"}],\"renderers\":[{\"id\":\"4b6b9bcc-a622-4806-9b60-0db33164859b\",\"type\":\"GlyphRenderer\"},{\"id\":\"2c9a9003-a347-465a-becf-36a40000efaa\",\"type\":\"GlyphRenderer\"},{\"id\":\"66141f58-0e37-4e19-961a-4b1de38e448d\",\"type\":\"GlyphRenderer\"},{\"id\":\"87ad9a9b-d7c2-4283-ae27-0d642ea838bc\",\"type\":\"GlyphRenderer\"},{\"id\":\"ad0b41a3-3eb8-45e2-8a37-65b7ae38b005\",\"type\":\"GlyphRenderer\"},{\"id\":\"7f4d12ed-25b0-4fb7-a60c-b5de573abad8\",\"type\":\"GlyphRenderer\"},{\"id\":\"f62c2c80-49e9-4eb4-a173-9837d6711ff2\",\"type\":\"GlyphRenderer\"},{\"id\":\"10aefe57-1c9f-4d1d-a446-01c035a2f600\",\"type\":\"GlyphRenderer\"},{\"id\":\"9c2b762d-29ae-4f31-a08b-3921e96caa29\",\"type\":\"GlyphRenderer\"},{\"id\":\"dbfee346-8454-4c74-9d0c-05b97c5b431d\",\"type\":\"GlyphRenderer\"},{\"id\":\"26bbbb32-3133-400f-9651-89ad9d22357d\",\"type\":\"GlyphRenderer\"},{\"id\":\"30d41cce-5ac3-41c5-9775-eb70e064c679\",\"type\":\"GlyphRenderer\"},{\"id\":\"0ea8e31f-e504-4529-a5c2-b6b3793402b8\",\"type\":\"GlyphRenderer\"},{\"id\":\"4a41996e-daf6-40fd-a362-5d4e90451e70\",\"type\":\"GlyphRenderer\"},{\"id\":\"05179318-ef2a-46f8-a70f-cb2f46904959\",\"type\":\"GlyphRenderer\"},{\"id\":\"92945716-652c-4ec8-90cd-42630a864afc\",\"type\":\"GlyphRenderer\"},{\"id\":\"54dc0097-d3d8-4d46-8dbe-71b407dbeca4\",\"type\":\"GlyphRenderer\"},{\"id\":\"a1553456-cd62-4d53-ba06-ed4eae0bedc6\",\"type\":\"GlyphRenderer\"},{\"id\":\"f1d0912d-5e8c-4cf1-9d44-ee4d2b2bcdef\",\"type\":\"GlyphRenderer\"},{\"id\":\"fd00a947-40e7-45ce-99a7-06cadbbc535f\",\"type\":\"GlyphRenderer\"},{\"id\":\"4b303f76-6570-4298-adcf-cb2a68d5fc45\",\"type\":\"GlyphRenderer\"},{\"id\":\"09963292-f206-4f67-a78a-24a353fc0256\",\"type\":\"GlyphRenderer\"},{\"id\":\"248a4505-fd71-46a0-b7a7-da3fb58fae51\",\"type\":\"GlyphRenderer\"},{\"id\":\"c7290324-08cc-4895-8bb5-79ccc9ebca92\",\"type\":\"GlyphRenderer\"},{\"id\":\"3122400a-9523-4816-8496-fa4802c3d147\",\"type\":\"GlyphRenderer\"},{\"id\":\"f3f3fab3-104e-48d9-a2b6-1775c480f7b9\",\"type\":\"GlyphRenderer\"},{\"id\":\"1f925656-e7de-4c4c-961b-69ae23df7215\",\"type\":\"GlyphRenderer\"},{\"id\":\"0cfb5678-1334-4be9-936d-4ef4f53c13e8\",\"type\":\"GlyphRenderer\"},{\"id\":\"6d8f177d-b8d2-4d89-99a6-9b1e5693098c\",\"type\":\"GlyphRenderer\"},{\"id\":\"34c6014b-59e4-4a02-9667-cfabd4370e37\",\"type\":\"GlyphRenderer\"},{\"id\":\"3825b881-6e74-409e-9bfc-9e9775770645\",\"type\":\"GlyphRenderer\"},{\"id\":\"688bcfff-3f55-4618-9381-fa1f2caef24e\",\"type\":\"GlyphRenderer\"},{\"id\":\"aa0dd9c8-f872-46ba-805a-3e1c90236364\",\"type\":\"GlyphRenderer\"},{\"id\":\"bdce9063-6311-4510-9c82-4b77899dde73\",\"type\":\"GlyphRenderer\"},{\"id\":\"be8de29d-4234-4dd4-be2e-832c7d790db7\",\"type\":\"GlyphRenderer\"},{\"id\":\"90bb7c63-0f42-4202-8442-7cc417ed906a\",\"type\":\"GlyphRenderer\"},{\"id\":\"3a80a155-5aa6-4979-bf8f-5ef043e9a6bf\",\"type\":\"GlyphRenderer\"},{\"id\":\"062ff632-b367-4427-b660-f3e483c4a8b9\",\"type\":\"GlyphRenderer\"},{\"id\":\"ee08b4d9-c1f7-45b6-a3d7-a965338c9220\",\"type\":\"GlyphRenderer\"},{\"id\":\"869828a9-3911-45f3-af7f-c7fe04df2714\",\"type\":\"Legend\"},{\"id\":\"977f3478-d68b-4697-8020-5a5617f2f19a\",\"type\":\"CategoricalAxis\"},{\"id\":\"feddb31c-ce18-48fb-8cf7-f36cc5772e39\",\"type\":\"LinearAxis\"},{\"id\":\"1a7e8042-763c-41e6-bbe1-75ba9248cec4\",\"type\":\"Grid\"}],\"title\":{\"id\":\"8b5a8e55-3314-45d8-b571-cecb089b0079\",\"type\":\"Title\"},\"tool_events\":{\"id\":\"48b6b3a0-ba67-403c-bb18-82f9f65b4480\",\"type\":\"ToolEvents\"},\"toolbar\":{\"id\":\"aeb0391f-5c84-49d7-a2ca-664b103df63d\",\"type\":\"Toolbar\"},\"x_mapper_type\":\"auto\",\"x_range\":{\"id\":\"94e5b1d9-7eeb-4671-a8a0-174c2dc55bc1\",\"type\":\"FactorRange\"},\"y_mapper_type\":\"auto\",\"y_range\":{\"id\":\"c0165d71-7419-4d6d-98ec-3328b30c3078\",\"type\":\"Range1d\"}},\"id\":\"01f95121-8f50-471f-8506-1911c4b3983a\",\"subtype\":\"Chart\",\"type\":\"Plot\"},{\"attributes\":{\"fill_alpha\":{\"field\":\"fill_alpha\"},\"fill_color\":{\"field\":\"color\"},\"height\":{\"field\":\"height\",\"units\":\"data\"},\"line_color\":{\"field\":\"line_color\"},\"width\":{\"field\":\"width\",\"units\":\"data\"},\"x\":{\"field\":\"x\"},\"y\":{\"field\":\"y\"}},\"id\":\"64f9a8e5-642b-4808-bbea-ff2ce18c2d06\",\"type\":\"Rect\"},{\"attributes\":{\"data_source\":{\"id\":\"f6106449-eb6a-4d98-af68-f7a14de7dbfb\",\"type\":\"ColumnDataSource\"},\"glyph\":{\"id\":\"635adb6f-09ce-4e94-a5de-a596e1927cc3\",\"type\":\"Rect\"},\"hover_glyph\":null,\"nonselection_glyph\":null,\"selection_glyph\":null},\"id\":\"4b6b9bcc-a622-4806-9b60-0db33164859b\",\"type\":\"GlyphRenderer\"},{\"attributes\":{\"data_source\":{\"id\":\"26e68f16-6d03-4cb6-81a3-3e3f78477c4e\",\"type\":\"ColumnDataSource\"},\"glyph\":{\"id\":\"a4ac218c-6014-48de-b868-bdbb2f414f17\",\"type\":\"Rect\"},\"hover_glyph\":null,\"nonselection_glyph\":null,\"selection_glyph\":null},\"id\":\"54dc0097-d3d8-4d46-8dbe-71b407dbeca4\",\"type\":\"GlyphRenderer\"},{\"attributes\":{},\"id\":\"dab4340f-f237-4535-a6ef-cd46599a3c4a\",\"type\":\"BasicTickFormatter\"},{\"attributes\":{\"fill_alpha\":{\"field\":\"fill_alpha\"},\"fill_color\":{\"field\":\"color\"},\"height\":{\"field\":\"height\",\"units\":\"data\"},\"line_color\":{\"field\":\"line_color\"},\"width\":{\"field\":\"width\",\"units\":\"data\"},\"x\":{\"field\":\"x\"},\"y\":{\"field\":\"y\"}},\"id\":\"2b6092dd-55d1-42f3-8a96-4bfb53d5ddf3\",\"type\":\"Rect\"},{\"attributes\":{\"fill_alpha\":{\"field\":\"fill_alpha\"},\"fill_color\":{\"field\":\"color\"},\"height\":{\"field\":\"height\",\"units\":\"data\"},\"line_color\":{\"field\":\"line_color\"},\"width\":{\"field\":\"width\",\"units\":\"data\"},\"x\":{\"field\":\"x\"},\"y\":{\"field\":\"y\"}},\"id\":\"6301af7f-324a-418f-b0b8-572a10007006\",\"type\":\"Rect\"},{\"attributes\":{\"fill_alpha\":{\"field\":\"fill_alpha\"},\"fill_color\":{\"field\":\"color\"},\"height\":{\"field\":\"height\",\"units\":\"data\"},\"line_color\":{\"field\":\"line_color\"},\"width\":{\"field\":\"width\",\"units\":\"data\"},\"x\":{\"field\":\"x\"},\"y\":{\"field\":\"y\"}},\"id\":\"1b16140e-8cae-4734-8a45-c8a69d5a7923\",\"type\":\"Rect\"},{\"attributes\":{\"fill_alpha\":{\"field\":\"fill_alpha\"},\"fill_color\":{\"field\":\"color\"},\"height\":{\"field\":\"height\",\"units\":\"data\"},\"line_color\":{\"field\":\"line_color\"},\"width\":{\"field\":\"width\",\"units\":\"data\"},\"x\":{\"field\":\"x\"},\"y\":{\"field\":\"y\"}},\"id\":\"30c68c9b-01a0-44fc-8bcb-167307cbc22f\",\"type\":\"Rect\"},{\"attributes\":{\"fill_alpha\":{\"field\":\"fill_alpha\"},\"fill_color\":{\"field\":\"color\"},\"height\":{\"field\":\"height\",\"units\":\"data\"},\"line_color\":{\"field\":\"line_color\"},\"width\":{\"field\":\"width\",\"units\":\"data\"},\"x\":{\"field\":\"x\"},\"y\":{\"field\":\"y\"}},\"id\":\"f37e2dee-06e1-4161-9546-c2b2fe9d254e\",\"type\":\"Rect\"},{\"attributes\":{\"data_source\":{\"id\":\"e6ed0a01-5779-4833-b5e1-2a2fb1261016\",\"type\":\"ColumnDataSource\"},\"glyph\":{\"id\":\"1b16140e-8cae-4734-8a45-c8a69d5a7923\",\"type\":\"Rect\"},\"hover_glyph\":null,\"nonselection_glyph\":null,\"selection_glyph\":null},\"id\":\"4b303f76-6570-4298-adcf-cb2a68d5fc45\",\"type\":\"GlyphRenderer\"},{\"attributes\":{\"fill_alpha\":{\"field\":\"fill_alpha\"},\"fill_color\":{\"field\":\"color\"},\"height\":{\"field\":\"height\",\"units\":\"data\"},\"line_color\":{\"field\":\"line_color\"},\"width\":{\"field\":\"width\",\"units\":\"data\"},\"x\":{\"field\":\"x\"},\"y\":{\"field\":\"y\"}},\"id\":\"c2252c08-32e1-43f6-bca7-f29b572cf6f8\",\"type\":\"Rect\"},{\"attributes\":{\"callback\":null,\"column_names\":[\"line_color\",\"line_alpha\",\"color\",\"fill_alpha\",\"height\",\"width\",\"y\",\"x\",\"label\"],\"data\":{\"chart_index\":[{\"origin\":3,\"yr\":72}],\"color\":[\"#407ee7\"],\"fill_alpha\":[0.8],\"height\":[24.0],\"label\":[{\"origin\":3,\"yr\":72}],\"line_alpha\":[1.0],\"line_color\":[\"white\"],\"origin\":[3],\"width\":[0.2],\"x\":[\"72:0.5\"],\"y\":[12.0],\"yr\":[72]}},\"id\":\"bf6dde29-b5c3-4620-946c-1ee7671be42e\",\"type\":\"ColumnDataSource\"},{\"attributes\":{\"callback\":null,\"column_names\":[\"line_color\",\"line_alpha\",\"color\",\"fill_alpha\",\"height\",\"width\",\"y\",\"x\",\"label\"],\"data\":{\"chart_index\":[{\"origin\":1,\"yr\":74}],\"color\":[\"#f22c40\"],\"fill_alpha\":[0.8],\"height\":[16.0],\"label\":[{\"origin\":1,\"yr\":74}],\"line_alpha\":[1.0],\"line_color\":[\"white\"],\"origin\":[1],\"width\":[0.2],\"x\":[\"74:0.25\"],\"y\":[8.0],\"yr\":[74]}},\"id\":\"1339fe68-da86-4148-b264-c090e6106d7f\",\"type\":\"ColumnDataSource\"},{\"attributes\":{\"fill_alpha\":{\"field\":\"fill_alpha\"},\"fill_color\":{\"field\":\"color\"},\"height\":{\"field\":\"height\",\"units\":\"data\"},\"line_color\":{\"field\":\"line_color\"},\"width\":{\"field\":\"width\",\"units\":\"data\"},\"x\":{\"field\":\"x\"},\"y\":{\"field\":\"y\"}},\"id\":\"011aeb6a-bef4-424b-a104-188d3163ed82\",\"type\":\"Rect\"},{\"attributes\":{\"fill_alpha\":{\"field\":\"fill_alpha\"},\"fill_color\":{\"field\":\"color\"},\"height\":{\"field\":\"height\",\"units\":\"data\"},\"line_color\":{\"field\":\"line_color\"},\"width\":{\"field\":\"width\",\"units\":\"data\"},\"x\":{\"field\":\"x\"},\"y\":{\"field\":\"y\"}},\"id\":\"d2a502e3-6186-40b6-b3e2-d1c477dd13e2\",\"type\":\"Rect\"},{\"attributes\":{},\"id\":\"ca8b5be0-9b6e-4cf8-b70d-a82181216ae5\",\"type\":\"CategoricalTickFormatter\"},{\"attributes\":{\"legends\":[[\"1\",[{\"id\":\"4b6b9bcc-a622-4806-9b60-0db33164859b\",\"type\":\"GlyphRenderer\"}]],[\"3\",[{\"id\":\"2c9a9003-a347-465a-becf-36a40000efaa\",\"type\":\"GlyphRenderer\"}]],[\"2\",[{\"id\":\"66141f58-0e37-4e19-961a-4b1de38e448d\",\"type\":\"GlyphRenderer\"}]]],\"location\":\"top_left\",\"plot\":{\"id\":\"01f95121-8f50-471f-8506-1911c4b3983a\",\"subtype\":\"Chart\",\"type\":\"Plot\"}},\"id\":\"869828a9-3911-45f3-af7f-c7fe04df2714\",\"type\":\"Legend\"},{\"attributes\":{\"data_source\":{\"id\":\"59c94e01-64b8-4cb2-b6fc-2f57aedb7481\",\"type\":\"ColumnDataSource\"},\"glyph\":{\"id\":\"13c71e76-bb6a-42f6-b6bc-4a9f74836638\",\"type\":\"Rect\"},\"hover_glyph\":null,\"nonselection_glyph\":null,\"selection_glyph\":null},\"id\":\"2c9a9003-a347-465a-becf-36a40000efaa\",\"type\":\"GlyphRenderer\"},{\"attributes\":{\"data_source\":{\"id\":\"c3e87bdc-78a3-464e-9942-03a2c1681bfa\",\"type\":\"ColumnDataSource\"},\"glyph\":{\"id\":\"6301af7f-324a-418f-b0b8-572a10007006\",\"type\":\"Rect\"},\"hover_glyph\":null,\"nonselection_glyph\":null,\"selection_glyph\":null},\"id\":\"3a80a155-5aa6-4979-bf8f-5ef043e9a6bf\",\"type\":\"GlyphRenderer\"},{\"attributes\":{\"callback\":null,\"column_names\":[\"line_color\",\"line_alpha\",\"color\",\"fill_alpha\",\"height\",\"width\",\"y\",\"x\",\"label\"],\"data\":{\"chart_index\":[{\"origin\":3,\"yr\":79}],\"color\":[\"#407ee7\"],\"fill_alpha\":[0.8],\"height\":[32.95],\"label\":[{\"origin\":3,\"yr\":79}],\"line_alpha\":[1.0],\"line_color\":[\"white\"],\"origin\":[3],\"width\":[0.2],\"x\":[\"79:0.5\"],\"y\":[16.475],\"yr\":[79]}},\"id\":\"49332777-6f3a-4d8b-a0fb-6218cae41f39\",\"type\":\"ColumnDataSource\"},{\"attributes\":{\"callback\":null,\"column_names\":[\"line_color\",\"line_alpha\",\"color\",\"fill_alpha\",\"height\",\"width\",\"y\",\"x\",\"label\"],\"data\":{\"chart_index\":[{\"origin\":1,\"yr\":75}],\"color\":[\"#f22c40\"],\"fill_alpha\":[0.8],\"height\":[17.5],\"label\":[{\"origin\":1,\"yr\":75}],\"line_alpha\":[1.0],\"line_color\":[\"white\"],\"origin\":[1],\"width\":[0.2],\"x\":[\"75:0.25\"],\"y\":[8.75],\"yr\":[75]}},\"id\":\"cf1ab32c-a423-4b13-bf56-0e073e4192bc\",\"type\":\"ColumnDataSource\"},{\"attributes\":{\"callback\":null,\"column_names\":[\"line_color\",\"line_alpha\",\"color\",\"fill_alpha\",\"height\",\"width\",\"y\",\"x\",\"label\"],\"data\":{\"chart_index\":[{\"origin\":2,\"yr\":76}],\"color\":[\"#5ab738\"],\"fill_alpha\":[0.8],\"height\":[26.0],\"label\":[{\"origin\":2,\"yr\":76}],\"line_alpha\":[1.0],\"line_color\":[\"white\"],\"origin\":[2],\"width\":[0.2],\"x\":[\"76:0.75\"],\"y\":[13.0],\"yr\":[76]}},\"id\":\"8d9f91c3-11a0-4895-98a5-e3fd28678c1d\",\"type\":\"ColumnDataSource\"},{\"attributes\":{\"fill_alpha\":{\"field\":\"fill_alpha\"},\"fill_color\":{\"field\":\"color\"},\"height\":{\"field\":\"height\",\"units\":\"data\"},\"line_color\":{\"field\":\"line_color\"},\"width\":{\"field\":\"width\",\"units\":\"data\"},\"x\":{\"field\":\"x\"},\"y\":{\"field\":\"y\"}},\"id\":\"69d89569-3af1-49e0-91b5-a267771c00d6\",\"type\":\"Rect\"},{\"attributes\":{\"callback\":null,\"column_names\":[\"line_color\",\"line_alpha\",\"color\",\"fill_alpha\",\"height\",\"width\",\"y\",\"x\",\"label\"],\"data\":{\"chart_index\":[{\"origin\":1,\"yr\":81}],\"color\":[\"#f22c40\"],\"fill_alpha\":[0.8],\"height\":[26.6],\"label\":[{\"origin\":1,\"yr\":81}],\"line_alpha\":[1.0],\"line_color\":[\"white\"],\"origin\":[1],\"width\":[0.2],\"x\":[\"81:0.25\"],\"y\":[13.3],\"yr\":[81]}},\"id\":\"0a4324e2-2bd7-4c2a-8627-1d3e2425d9cf\",\"type\":\"ColumnDataSource\"},{\"attributes\":{\"callback\":null,\"column_names\":[\"line_color\",\"line_alpha\",\"color\",\"fill_alpha\",\"height\",\"width\",\"y\",\"x\",\"label\"],\"data\":{\"chart_index\":[{\"origin\":2,\"yr\":79}],\"color\":[\"#5ab738\"],\"fill_alpha\":[0.8],\"height\":[29.549999999999997],\"label\":[{\"origin\":2,\"yr\":79}],\"line_alpha\":[1.0],\"line_color\":[\"white\"],\"origin\":[2],\"width\":[0.2],\"x\":[\"79:0.75\"],\"y\":[14.774999999999999],\"yr\":[79]}},\"id\":\"7e2251ff-d303-4010-9b91-1ca3ae48841b\",\"type\":\"ColumnDataSource\"},{\"attributes\":{\"data_source\":{\"id\":\"d53f4bce-7a22-46f8-b0df-fddf71b13b61\",\"type\":\"ColumnDataSource\"},\"glyph\":{\"id\":\"2b6092dd-55d1-42f3-8a96-4bfb53d5ddf3\",\"type\":\"Rect\"},\"hover_glyph\":null,\"nonselection_glyph\":null,\"selection_glyph\":null},\"id\":\"10aefe57-1c9f-4d1d-a446-01c035a2f600\",\"type\":\"GlyphRenderer\"},{\"attributes\":{\"fill_alpha\":{\"field\":\"fill_alpha\"},\"fill_color\":{\"field\":\"color\"},\"height\":{\"field\":\"height\",\"units\":\"data\"},\"line_color\":{\"field\":\"line_color\"},\"width\":{\"field\":\"width\",\"units\":\"data\"},\"x\":{\"field\":\"x\"},\"y\":{\"field\":\"y\"}},\"id\":\"934f9620-e6f0-4503-b30a-39587b8ca9ac\",\"type\":\"Rect\"},{\"attributes\":{\"fill_alpha\":{\"field\":\"fill_alpha\"},\"fill_color\":{\"field\":\"color\"},\"height\":{\"field\":\"height\",\"units\":\"data\"},\"line_color\":{\"field\":\"line_color\"},\"width\":{\"field\":\"width\",\"units\":\"data\"},\"x\":{\"field\":\"x\"},\"y\":{\"field\":\"y\"}},\"id\":\"6f61dee9-7bea-438c-9590-aa60c8ce446e\",\"type\":\"Rect\"},{\"attributes\":{\"data_source\":{\"id\":\"0a4324e2-2bd7-4c2a-8627-1d3e2425d9cf\",\"type\":\"ColumnDataSource\"},\"glyph\":{\"id\":\"62a57ac3-aa58-441d-a4c2-de740933b59e\",\"type\":\"Rect\"},\"hover_glyph\":null,\"nonselection_glyph\":null,\"selection_glyph\":null},\"id\":\"bdce9063-6311-4510-9c82-4b77899dde73\",\"type\":\"GlyphRenderer\"},{\"attributes\":{\"data_source\":{\"id\":\"49332777-6f3a-4d8b-a0fb-6218cae41f39\",\"type\":\"ColumnDataSource\"},\"glyph\":{\"id\":\"514eb074-fac3-4ebb-800a-9d3530f3d6eb\",\"type\":\"Rect\"},\"hover_glyph\":null,\"nonselection_glyph\":null,\"selection_glyph\":null},\"id\":\"34c6014b-59e4-4a02-9667-cfabd4370e37\",\"type\":\"GlyphRenderer\"},{\"attributes\":{\"data_source\":{\"id\":\"f4f8f5c6-8bfc-490a-b857-10a9c9d1526a\",\"type\":\"ColumnDataSource\"},\"glyph\":{\"id\":\"ad90b7d4-244b-4a10-b187-bffccc5bdf9a\",\"type\":\"Rect\"},\"hover_glyph\":null,\"nonselection_glyph\":null,\"selection_glyph\":null},\"id\":\"7f4d12ed-25b0-4fb7-a60c-b5de573abad8\",\"type\":\"GlyphRenderer\"},{\"attributes\":{\"fill_alpha\":{\"field\":\"fill_alpha\"},\"fill_color\":{\"field\":\"color\"},\"height\":{\"field\":\"height\",\"units\":\"data\"},\"line_color\":{\"field\":\"line_color\"},\"width\":{\"field\":\"width\",\"units\":\"data\"},\"x\":{\"field\":\"x\"},\"y\":{\"field\":\"y\"}},\"id\":\"514eb074-fac3-4ebb-800a-9d3530f3d6eb\",\"type\":\"Rect\"},{\"attributes\":{\"callback\":null,\"column_names\":[\"line_color\",\"line_alpha\",\"color\",\"fill_alpha\",\"height\",\"width\",\"y\",\"x\",\"label\"],\"data\":{\"chart_index\":[{\"origin\":2,\"yr\":72}],\"color\":[\"#5ab738\"],\"fill_alpha\":[0.8],\"height\":[22.0],\"label\":[{\"origin\":2,\"yr\":72}],\"line_alpha\":[1.0],\"line_color\":[\"white\"],\"origin\":[2],\"width\":[0.2],\"x\":[\"72:0.75\"],\"y\":[11.0],\"yr\":[72]}},\"id\":\"e6fbb9e9-5ff3-40ab-bce1-4beb792d7e8d\",\"type\":\"ColumnDataSource\"},{\"attributes\":{\"fill_alpha\":{\"field\":\"fill_alpha\"},\"fill_color\":{\"field\":\"color\"},\"height\":{\"field\":\"height\",\"units\":\"data\"},\"line_color\":{\"field\":\"line_color\"},\"width\":{\"field\":\"width\",\"units\":\"data\"},\"x\":{\"field\":\"x\"},\"y\":{\"field\":\"y\"}},\"id\":\"62a57ac3-aa58-441d-a4c2-de740933b59e\",\"type\":\"Rect\"},{\"attributes\":{\"fill_alpha\":{\"field\":\"fill_alpha\"},\"fill_color\":{\"field\":\"color\"},\"height\":{\"field\":\"height\",\"units\":\"data\"},\"line_color\":{\"field\":\"line_color\"},\"width\":{\"field\":\"width\",\"units\":\"data\"},\"x\":{\"field\":\"x\"},\"y\":{\"field\":\"y\"}},\"id\":\"a4ac218c-6014-48de-b868-bdbb2f414f17\",\"type\":\"Rect\"},{\"attributes\":{\"callback\":null,\"column_names\":[\"line_color\",\"line_alpha\",\"color\",\"fill_alpha\",\"height\",\"width\",\"y\",\"x\",\"label\"],\"data\":{\"chart_index\":[{\"origin\":3,\"yr\":77}],\"color\":[\"#407ee7\"],\"fill_alpha\":[0.8],\"height\":[28.0],\"label\":[{\"origin\":3,\"yr\":77}],\"line_alpha\":[1.0],\"line_color\":[\"white\"],\"origin\":[3],\"width\":[0.2],\"x\":[\"77:0.5\"],\"y\":[14.0],\"yr\":[77]}},\"id\":\"4f7dc20b-6c9a-4ff9-aa79-d3044c2f1464\",\"type\":\"ColumnDataSource\"},{\"attributes\":{\"fill_alpha\":{\"field\":\"fill_alpha\"},\"fill_color\":{\"field\":\"color\"},\"height\":{\"field\":\"height\",\"units\":\"data\"},\"line_color\":{\"field\":\"line_color\"},\"width\":{\"field\":\"width\",\"units\":\"data\"},\"x\":{\"field\":\"x\"},\"y\":{\"field\":\"y\"}},\"id\":\"70a43818-9097-4c8b-8c96-1eb41b10f6aa\",\"type\":\"Rect\"},{\"attributes\":{\"data_source\":{\"id\":\"5b656696-12f8-4787-b20c-9266ba03a7ab\",\"type\":\"ColumnDataSource\"},\"glyph\":{\"id\":\"4ba00c0b-95c1-4b83-b3c9-5efbbae6ae12\",\"type\":\"Rect\"},\"hover_glyph\":null,\"nonselection_glyph\":null,\"selection_glyph\":null},\"id\":\"f3f3fab3-104e-48d9-a2b6-1775c480f7b9\",\"type\":\"GlyphRenderer\"},{\"attributes\":{\"callback\":null,\"column_names\":[\"line_color\",\"line_alpha\",\"color\",\"fill_alpha\",\"height\",\"width\",\"y\",\"x\",\"label\"],\"data\":{\"chart_index\":[{\"origin\":1,\"yr\":72}],\"color\":[\"#f22c40\"],\"fill_alpha\":[0.8],\"height\":[14.0],\"label\":[{\"origin\":1,\"yr\":72}],\"line_alpha\":[1.0],\"line_color\":[\"white\"],\"origin\":[1],\"width\":[0.2],\"x\":[\"72:0.25\"],\"y\":[7.0],\"yr\":[72]}},\"id\":\"d53f4bce-7a22-46f8-b0df-fddf71b13b61\",\"type\":\"ColumnDataSource\"},{\"attributes\":{\"fill_alpha\":{\"field\":\"fill_alpha\"},\"fill_color\":{\"field\":\"color\"},\"height\":{\"field\":\"height\",\"units\":\"data\"},\"line_color\":{\"field\":\"line_color\"},\"width\":{\"field\":\"width\",\"units\":\"data\"},\"x\":{\"field\":\"x\"},\"y\":{\"field\":\"y\"}},\"id\":\"3c7582a0-7582-442e-bb59-98c0dcede66c\",\"type\":\"Rect\"},{\"attributes\":{\"callback\":null,\"column_names\":[\"line_color\",\"line_alpha\",\"color\",\"fill_alpha\",\"height\",\"width\",\"y\",\"x\",\"label\"],\"data\":{\"chart_index\":[{\"origin\":1,\"yr\":76}],\"color\":[\"#f22c40\"],\"fill_alpha\":[0.8],\"height\":[18.25],\"label\":[{\"origin\":1,\"yr\":76}],\"line_alpha\":[1.0],\"line_color\":[\"white\"],\"origin\":[1],\"width\":[0.2],\"x\":[\"76:0.25\"],\"y\":[9.125],\"yr\":[76]}},\"id\":\"03144738-9ffa-46b4-b6ad-bd37317ad78c\",\"type\":\"ColumnDataSource\"},{\"attributes\":{\"callback\":null,\"column_names\":[\"line_color\",\"line_alpha\",\"color\",\"fill_alpha\",\"height\",\"width\",\"y\",\"x\",\"label\"],\"data\":{\"chart_index\":[{\"origin\":3,\"yr\":71}],\"color\":[\"#407ee7\"],\"fill_alpha\":[0.8],\"height\":[29.0],\"label\":[{\"origin\":3,\"yr\":71}],\"line_alpha\":[1.0],\"line_color\":[\"white\"],\"origin\":[3],\"width\":[0.2],\"x\":[\"71:0.5\"],\"y\":[14.5],\"yr\":[71]}},\"id\":\"7c54adfd-dbc4-42f7-b48f-797c292c2007\",\"type\":\"ColumnDataSource\"},{\"attributes\":{\"data_source\":{\"id\":\"adfdbabf-f130-40f0-9b3c-b9e7bb289d44\",\"type\":\"ColumnDataSource\"},\"glyph\":{\"id\":\"42777e1f-57ee-4cf5-84ea-c0bafb545b2f\",\"type\":\"Rect\"},\"hover_glyph\":null,\"nonselection_glyph\":null,\"selection_glyph\":null},\"id\":\"062ff632-b367-4427-b660-f3e483c4a8b9\",\"type\":\"GlyphRenderer\"},{\"attributes\":{\"callback\":null,\"column_names\":[\"line_color\",\"line_alpha\",\"color\",\"fill_alpha\",\"height\",\"width\",\"y\",\"x\",\"label\"],\"data\":{\"chart_index\":[{\"origin\":2,\"yr\":70}],\"color\":[\"#5ab738\"],\"fill_alpha\":[0.8],\"height\":[25.0],\"label\":[{\"origin\":2,\"yr\":70}],\"line_alpha\":[1.0],\"line_color\":[\"white\"],\"origin\":[2],\"width\":[0.2],\"x\":[\"70:0.75\"],\"y\":[12.5],\"yr\":[70]}},\"id\":\"50a646bd-7268-44a5-869e-6aa3a5dc46a8\",\"type\":\"ColumnDataSource\"},{\"attributes\":{\"fill_alpha\":{\"field\":\"fill_alpha\"},\"fill_color\":{\"field\":\"color\"},\"height\":{\"field\":\"height\",\"units\":\"data\"},\"line_color\":{\"field\":\"line_color\"},\"width\":{\"field\":\"width\",\"units\":\"data\"},\"x\":{\"field\":\"x\"},\"y\":{\"field\":\"y\"}},\"id\":\"1474c1a6-7d13-489c-b9de-b98708532e82\",\"type\":\"Rect\"},{\"attributes\":{\"callback\":null,\"column_names\":[\"line_color\",\"line_alpha\",\"color\",\"fill_alpha\",\"height\",\"width\",\"y\",\"x\",\"label\"],\"data\":{\"chart_index\":[{\"origin\":2,\"yr\":80}],\"color\":[\"#5ab738\"],\"fill_alpha\":[0.8],\"height\":[35.7],\"label\":[{\"origin\":2,\"yr\":80}],\"line_alpha\":[1.0],\"line_color\":[\"white\"],\"origin\":[2],\"width\":[0.2],\"x\":[\"80:0.75\"],\"y\":[17.85],\"yr\":[80]}},\"id\":\"89d7e3ee-c139-4943-a4f2-d3c880334f40\",\"type\":\"ColumnDataSource\"},{\"attributes\":{\"data_source\":{\"id\":\"e6fbb9e9-5ff3-40ab-bce1-4beb792d7e8d\",\"type\":\"ColumnDataSource\"},\"glyph\":{\"id\":\"32788a94-1c9b-43ed-9201-2215c7edd350\",\"type\":\"Rect\"},\"hover_glyph\":null,\"nonselection_glyph\":null,\"selection_glyph\":null},\"id\":\"9c2b762d-29ae-4f31-a08b-3921e96caa29\",\"type\":\"GlyphRenderer\"},{\"attributes\":{\"callback\":null,\"column_names\":[\"line_color\",\"line_alpha\",\"color\",\"fill_alpha\",\"height\",\"width\",\"y\",\"x\",\"label\"],\"data\":{\"chart_index\":[{\"origin\":3,\"yr\":73}],\"color\":[\"#407ee7\"],\"fill_alpha\":[0.8],\"height\":[20.0],\"label\":[{\"origin\":3,\"yr\":73}],\"line_alpha\":[1.0],\"line_color\":[\"white\"],\"origin\":[3],\"width\":[0.2],\"x\":[\"73:0.5\"],\"y\":[10.0],\"yr\":[73]}},\"id\":\"b0307377-a137-476d-a901-7f32172c33d9\",\"type\":\"ColumnDataSource\"},{\"attributes\":{\"data_source\":{\"id\":\"472daee8-7b2b-4bd5-afcf-b1ad6152ba23\",\"type\":\"ColumnDataSource\"},\"glyph\":{\"id\":\"c2252c08-32e1-43f6-bca7-f29b572cf6f8\",\"type\":\"Rect\"},\"hover_glyph\":null,\"nonselection_glyph\":null,\"selection_glyph\":null},\"id\":\"dbfee346-8454-4c74-9d0c-05b97c5b431d\",\"type\":\"GlyphRenderer\"},{\"attributes\":{\"data_source\":{\"id\":\"8d9f91c3-11a0-4895-98a5-e3fd28678c1d\",\"type\":\"ColumnDataSource\"},\"glyph\":{\"id\":\"1474c1a6-7d13-489c-b9de-b98708532e82\",\"type\":\"Rect\"},\"hover_glyph\":null,\"nonselection_glyph\":null,\"selection_glyph\":null},\"id\":\"f1d0912d-5e8c-4cf1-9d44-ee4d2b2bcdef\",\"type\":\"GlyphRenderer\"},{\"attributes\":{\"callback\":null,\"column_names\":[\"line_color\",\"line_alpha\",\"color\",\"fill_alpha\",\"height\",\"width\",\"y\",\"x\",\"label\"],\"data\":{\"chart_index\":[{\"origin\":3,\"yr\":70}],\"color\":[\"#407ee7\"],\"fill_alpha\":[0.8],\"height\":[25.5],\"label\":[{\"origin\":3,\"yr\":70}],\"line_alpha\":[1.0],\"line_color\":[\"white\"],\"origin\":[3],\"width\":[0.2],\"x\":[\"70:0.5\"],\"y\":[12.75],\"yr\":[70]}},\"id\":\"59c94e01-64b8-4cb2-b6fc-2f57aedb7481\",\"type\":\"ColumnDataSource\"},{\"attributes\":{\"data_source\":{\"id\":\"5d33bd32-e248-43c6-9844-a2c51d80fbd4\",\"type\":\"ColumnDataSource\"},\"glyph\":{\"id\":\"934f9620-e6f0-4503-b30a-39587b8ca9ac\",\"type\":\"Rect\"},\"hover_glyph\":null,\"nonselection_glyph\":null,\"selection_glyph\":null},\"id\":\"0cfb5678-1334-4be9-936d-4ef4f53c13e8\",\"type\":\"GlyphRenderer\"},{\"attributes\":{\"data_source\":{\"id\":\"6031e5bd-27b1-4802-8b3b-e9dfa4b82c25\",\"type\":\"ColumnDataSource\"},\"glyph\":{\"id\":\"802bfff2-0f6b-4a05-b4ec-9c05ae9ca58b\",\"type\":\"Rect\"},\"hover_glyph\":null,\"nonselection_glyph\":null,\"selection_glyph\":null},\"id\":\"ad0b41a3-3eb8-45e2-8a37-65b7ae38b005\",\"type\":\"GlyphRenderer\"},{\"attributes\":{\"data_source\":{\"id\":\"08e58b37-2b8a-4a21-a311-5b179bcf61e3\",\"type\":\"ColumnDataSource\"},\"glyph\":{\"id\":\"0c5468ce-fe67-49d8-989e-bc2c6778a377\",\"type\":\"Rect\"},\"hover_glyph\":null,\"nonselection_glyph\":null,\"selection_glyph\":null},\"id\":\"be8de29d-4234-4dd4-be2e-832c7d790db7\",\"type\":\"GlyphRenderer\"},{\"attributes\":{\"data_source\":{\"id\":\"fca1db32-e276-4c36-b3f1-62879484cd8a\",\"type\":\"ColumnDataSource\"},\"glyph\":{\"id\":\"8058b4ce-e8ec-40cb-9872-91ea40eb6f24\",\"type\":\"Rect\"},\"hover_glyph\":null,\"nonselection_glyph\":null,\"selection_glyph\":null},\"id\":\"3122400a-9523-4816-8496-fa4802c3d147\",\"type\":\"GlyphRenderer\"},{\"attributes\":{\"fill_alpha\":{\"field\":\"fill_alpha\"},\"fill_color\":{\"field\":\"color\"},\"height\":{\"field\":\"height\",\"units\":\"data\"},\"line_color\":{\"field\":\"line_color\"},\"width\":{\"field\":\"width\",\"units\":\"data\"},\"x\":{\"field\":\"x\"},\"y\":{\"field\":\"y\"}},\"id\":\"635adb6f-09ce-4e94-a5de-a596e1927cc3\",\"type\":\"Rect\"},{\"attributes\":{\"callback\":null,\"column_names\":[\"line_color\",\"line_alpha\",\"color\",\"fill_alpha\",\"height\",\"width\",\"y\",\"x\",\"label\"],\"data\":{\"chart_index\":[{\"origin\":1,\"yr\":73}],\"color\":[\"#f22c40\"],\"fill_alpha\":[0.8],\"height\":[14.0],\"label\":[{\"origin\":1,\"yr\":73}],\"line_alpha\":[1.0],\"line_color\":[\"white\"],\"origin\":[1],\"width\":[0.2],\"x\":[\"73:0.25\"],\"y\":[7.0],\"yr\":[73]}},\"id\":\"472daee8-7b2b-4bd5-afcf-b1ad6152ba23\",\"type\":\"ColumnDataSource\"},{\"attributes\":{\"fill_alpha\":{\"field\":\"fill_alpha\"},\"fill_color\":{\"field\":\"color\"},\"height\":{\"field\":\"height\",\"units\":\"data\"},\"line_color\":{\"field\":\"line_color\"},\"width\":{\"field\":\"width\",\"units\":\"data\"},\"x\":{\"field\":\"x\"},\"y\":{\"field\":\"y\"}},\"id\":\"cfe5b3c8-afc6-41f9-a6b9-facd911fb6e4\",\"type\":\"Rect\"},{\"attributes\":{\"fill_alpha\":{\"field\":\"fill_alpha\"},\"fill_color\":{\"field\":\"color\"},\"height\":{\"field\":\"height\",\"units\":\"data\"},\"line_color\":{\"field\":\"line_color\"},\"width\":{\"field\":\"width\",\"units\":\"data\"},\"x\":{\"field\":\"x\"},\"y\":{\"field\":\"y\"}},\"id\":\"8349b610-621e-4eff-8b19-91ef9fed2d3c\",\"type\":\"Rect\"},{\"attributes\":{\"data_source\":{\"id\":\"7fa3a2b8-32c0-4f14-817f-fe4c9c583219\",\"type\":\"ColumnDataSource\"},\"glyph\":{\"id\":\"30c68c9b-01a0-44fc-8bcb-167307cbc22f\",\"type\":\"Rect\"},\"hover_glyph\":null,\"nonselection_glyph\":null,\"selection_glyph\":null},\"id\":\"aa0dd9c8-f872-46ba-805a-3e1c90236364\",\"type\":\"GlyphRenderer\"},{\"attributes\":{\"plot\":null,\"text\":\"Median MPG by YR, grouped by ORIGIN\"},\"id\":\"8b5a8e55-3314-45d8-b571-cecb089b0079\",\"type\":\"Title\"},{\"attributes\":{\"callback\":null,\"column_names\":[\"line_color\",\"line_alpha\",\"color\",\"fill_alpha\",\"height\",\"width\",\"y\",\"x\",\"label\"],\"data\":{\"chart_index\":[{\"origin\":3,\"yr\":81}],\"color\":[\"#407ee7\"],\"fill_alpha\":[0.8],\"height\":[33.3],\"label\":[{\"origin\":3,\"yr\":81}],\"line_alpha\":[1.0],\"line_color\":[\"white\"],\"origin\":[3],\"width\":[0.2],\"x\":[\"81:0.5\"],\"y\":[16.65],\"yr\":[81]}},\"id\":\"08e58b37-2b8a-4a21-a311-5b179bcf61e3\",\"type\":\"ColumnDataSource\"},{\"attributes\":{\"data_source\":{\"id\":\"2b9e7f4d-3c71-436a-ac11-a49a4b529596\",\"type\":\"ColumnDataSource\"},\"glyph\":{\"id\":\"e615aff9-f506-4ea1-ab18-4b98b8c915d9\",\"type\":\"Rect\"},\"hover_glyph\":null,\"nonselection_glyph\":null,\"selection_glyph\":null},\"id\":\"4a41996e-daf6-40fd-a362-5d4e90451e70\",\"type\":\"GlyphRenderer\"},{\"attributes\":{\"fill_alpha\":{\"field\":\"fill_alpha\"},\"fill_color\":{\"field\":\"color\"},\"height\":{\"field\":\"height\",\"units\":\"data\"},\"line_color\":{\"field\":\"line_color\"},\"width\":{\"field\":\"width\",\"units\":\"data\"},\"x\":{\"field\":\"x\"},\"y\":{\"field\":\"y\"}},\"id\":\"32788a94-1c9b-43ed-9201-2215c7edd350\",\"type\":\"Rect\"},{\"attributes\":{\"callback\":null,\"column_names\":[\"line_color\",\"line_alpha\",\"color\",\"fill_alpha\",\"height\",\"width\",\"y\",\"x\",\"label\"],\"data\":{\"chart_index\":[{\"origin\":1,\"yr\":80}],\"color\":[\"#f22c40\"],\"fill_alpha\":[0.8],\"height\":[27.15],\"label\":[{\"origin\":1,\"yr\":80}],\"line_alpha\":[1.0],\"line_color\":[\"white\"],\"origin\":[1],\"width\":[0.2],\"x\":[\"80:0.25\"],\"y\":[13.575],\"yr\":[80]}},\"id\":\"7fa3a2b8-32c0-4f14-817f-fe4c9c583219\",\"type\":\"ColumnDataSource\"},{\"attributes\":{\"callback\":null,\"column_names\":[\"line_color\",\"line_alpha\",\"color\",\"fill_alpha\",\"height\",\"width\",\"y\",\"x\",\"label\"],\"data\":{\"chart_index\":[{\"origin\":3,\"yr\":78}],\"color\":[\"#407ee7\"],\"fill_alpha\":[0.8],\"height\":[28.5],\"label\":[{\"origin\":3,\"yr\":78}],\"line_alpha\":[1.0],\"line_color\":[\"white\"],\"origin\":[3],\"width\":[0.2],\"x\":[\"78:0.5\"],\"y\":[14.25],\"yr\":[78]}},\"id\":\"3e426ada-fba6-499a-9915-f7d5baa9f973\",\"type\":\"ColumnDataSource\"},{\"attributes\":{\"callback\":null,\"column_names\":[\"line_color\",\"line_alpha\",\"color\",\"fill_alpha\",\"height\",\"width\",\"y\",\"x\",\"label\"],\"data\":{\"chart_index\":[{\"origin\":2,\"yr\":74}],\"color\":[\"#5ab738\"],\"fill_alpha\":[0.8],\"height\":[26.0],\"label\":[{\"origin\":2,\"yr\":74}],\"line_alpha\":[1.0],\"line_color\":[\"white\"],\"origin\":[2],\"width\":[0.2],\"x\":[\"74:0.75\"],\"y\":[13.0],\"yr\":[74]}},\"id\":\"64a81676-a91f-4eb6-8279-0a42e5619e42\",\"type\":\"ColumnDataSource\"},{\"attributes\":{\"callback\":null,\"column_names\":[\"line_color\",\"line_alpha\",\"color\",\"fill_alpha\",\"height\",\"width\",\"y\",\"x\",\"label\"],\"data\":{\"chart_index\":[{\"origin\":3,\"yr\":82}],\"color\":[\"#407ee7\"],\"fill_alpha\":[0.8],\"height\":[36.0],\"label\":[{\"origin\":3,\"yr\":82}],\"line_alpha\":[1.0],\"line_color\":[\"white\"],\"origin\":[3],\"width\":[0.2],\"x\":[\"82:0.5\"],\"y\":[18.0],\"yr\":[82]}},\"id\":\"b21433be-db84-452a-ad91-3914631f60a4\",\"type\":\"ColumnDataSource\"},{\"attributes\":{\"data_source\":{\"id\":\"03144738-9ffa-46b4-b6ad-bd37317ad78c\",\"type\":\"ColumnDataSource\"},\"glyph\":{\"id\":\"023dfbe3-ecf0-4d23-adb6-c9921c308ed4\",\"type\":\"Rect\"},\"hover_glyph\":null,\"nonselection_glyph\":null,\"selection_glyph\":null},\"id\":\"fd00a947-40e7-45ce-99a7-06cadbbc535f\",\"type\":\"GlyphRenderer\"},{\"attributes\":{\"data_source\":{\"id\":\"346287b2-1d8b-4ef4-b678-3efcae941958\",\"type\":\"ColumnDataSource\"},\"glyph\":{\"id\":\"3c7582a0-7582-442e-bb59-98c0dcede66c\",\"type\":\"Rect\"},\"hover_glyph\":null,\"nonselection_glyph\":null,\"selection_glyph\":null},\"id\":\"248a4505-fd71-46a0-b7a7-da3fb58fae51\",\"type\":\"GlyphRenderer\"},{\"attributes\":{\"dimension\":1,\"plot\":{\"id\":\"01f95121-8f50-471f-8506-1911c4b3983a\",\"subtype\":\"Chart\",\"type\":\"Plot\"},\"ticker\":{\"id\":\"1ce52f0c-6c63-47aa-ac7e-3cca39da3fa2\",\"type\":\"BasicTicker\"}},\"id\":\"1a7e8042-763c-41e6-bbe1-75ba9248cec4\",\"type\":\"Grid\"},{\"attributes\":{\"callback\":null,\"column_names\":[\"line_color\",\"line_alpha\",\"color\",\"fill_alpha\",\"height\",\"width\",\"y\",\"x\",\"label\"],\"data\":{\"chart_index\":[{\"origin\":2,\"yr\":75}],\"color\":[\"#5ab738\"],\"fill_alpha\":[0.8],\"height\":[24.0],\"label\":[{\"origin\":2,\"yr\":75}],\"line_alpha\":[1.0],\"line_color\":[\"white\"],\"origin\":[2],\"width\":[0.2],\"x\":[\"75:0.75\"],\"y\":[12.0],\"yr\":[75]}},\"id\":\"41c0a2e7-1d45-459d-9cca-f00d10475106\",\"type\":\"ColumnDataSource\"},{\"attributes\":{\"callback\":null,\"column_names\":[\"line_color\",\"line_alpha\",\"color\",\"fill_alpha\",\"height\",\"width\",\"y\",\"x\",\"label\"],\"data\":{\"chart_index\":[{\"origin\":1,\"yr\":82}],\"color\":[\"#f22c40\"],\"fill_alpha\":[0.8],\"height\":[28.0],\"label\":[{\"origin\":1,\"yr\":82}],\"line_alpha\":[1.0],\"line_color\":[\"white\"],\"origin\":[1],\"width\":[0.2],\"x\":[\"82:0.25\"],\"y\":[14.0],\"yr\":[82]}},\"id\":\"c3e87bdc-78a3-464e-9942-03a2c1681bfa\",\"type\":\"ColumnDataSource\"},{\"attributes\":{\"callback\":null,\"column_names\":[\"line_color\",\"line_alpha\",\"color\",\"fill_alpha\",\"height\",\"width\",\"y\",\"x\",\"label\"],\"data\":{\"chart_index\":[{\"origin\":2,\"yr\":82}],\"color\":[\"#5ab738\"],\"fill_alpha\":[0.8],\"height\":[40.0],\"label\":[{\"origin\":2,\"yr\":82}],\"line_alpha\":[1.0],\"line_color\":[\"white\"],\"origin\":[2],\"width\":[0.2],\"x\":[\"82:0.75\"],\"y\":[20.0],\"yr\":[82]}},\"id\":\"adfdbabf-f130-40f0-9b3c-b9e7bb289d44\",\"type\":\"ColumnDataSource\"},{\"attributes\":{\"data_source\":{\"id\":\"b21433be-db84-452a-ad91-3914631f60a4\",\"type\":\"ColumnDataSource\"},\"glyph\":{\"id\":\"217768fc-108a-440c-bd06-40240c6835be\",\"type\":\"Rect\"},\"hover_glyph\":null,\"nonselection_glyph\":null,\"selection_glyph\":null},\"id\":\"ee08b4d9-c1f7-45b6-a3d7-a965338c9220\",\"type\":\"GlyphRenderer\"},{\"attributes\":{\"callback\":null,\"column_names\":[\"line_color\",\"line_alpha\",\"color\",\"fill_alpha\",\"height\",\"width\",\"y\",\"x\",\"label\"],\"data\":{\"chart_index\":[{\"origin\":3,\"yr\":75}],\"color\":[\"#407ee7\"],\"fill_alpha\":[0.8],\"height\":[26.5],\"label\":[{\"origin\":3,\"yr\":75}],\"line_alpha\":[1.0],\"line_color\":[\"white\"],\"origin\":[3],\"width\":[0.2],\"x\":[\"75:0.5\"],\"y\":[13.25],\"yr\":[75]}},\"id\":\"26e68f16-6d03-4cb6-81a3-3e3f78477c4e\",\"type\":\"ColumnDataSource\"},{\"attributes\":{\"fill_alpha\":{\"field\":\"fill_alpha\"},\"fill_color\":{\"field\":\"color\"},\"height\":{\"field\":\"height\",\"units\":\"data\"},\"line_color\":{\"field\":\"line_color\"},\"width\":{\"field\":\"width\",\"units\":\"data\"},\"x\":{\"field\":\"x\"},\"y\":{\"field\":\"y\"}},\"id\":\"40167162-c559-440f-999e-dbea3232fd65\",\"type\":\"Rect\"},{\"attributes\":{\"fill_alpha\":{\"field\":\"fill_alpha\"},\"fill_color\":{\"field\":\"color\"},\"height\":{\"field\":\"height\",\"units\":\"data\"},\"line_color\":{\"field\":\"line_color\"},\"width\":{\"field\":\"width\",\"units\":\"data\"},\"x\":{\"field\":\"x\"},\"y\":{\"field\":\"y\"}},\"id\":\"ad90b7d4-244b-4a10-b187-bffccc5bdf9a\",\"type\":\"Rect\"},{\"attributes\":{\"data_source\":{\"id\":\"1339fe68-da86-4148-b264-c090e6106d7f\",\"type\":\"ColumnDataSource\"},\"glyph\":{\"id\":\"8349b610-621e-4eff-8b19-91ef9fed2d3c\",\"type\":\"Rect\"},\"hover_glyph\":null,\"nonselection_glyph\":null,\"selection_glyph\":null},\"id\":\"0ea8e31f-e504-4529-a5c2-b6b3793402b8\",\"type\":\"GlyphRenderer\"},{\"attributes\":{\"callback\":null,\"column_names\":[\"line_color\",\"line_alpha\",\"color\",\"fill_alpha\",\"height\",\"width\",\"y\",\"x\",\"label\"],\"data\":{\"chart_index\":[{\"origin\":2,\"yr\":77}],\"color\":[\"#5ab738\"],\"fill_alpha\":[0.8],\"height\":[29.75],\"label\":[{\"origin\":2,\"yr\":77}],\"line_alpha\":[1.0],\"line_color\":[\"white\"],\"origin\":[2],\"width\":[0.2],\"x\":[\"77:0.75\"],\"y\":[14.875],\"yr\":[77]}},\"id\":\"e0965f89-a750-4c40-8981-f98dd69c9841\",\"type\":\"ColumnDataSource\"},{\"attributes\":{\"callback\":null,\"column_names\":[\"line_color\",\"line_alpha\",\"color\",\"fill_alpha\",\"height\",\"width\",\"y\",\"x\",\"label\"],\"data\":{\"chart_index\":[{\"origin\":1,\"yr\":71}],\"color\":[\"#f22c40\"],\"fill_alpha\":[0.8],\"height\":[18.0],\"label\":[{\"origin\":1,\"yr\":71}],\"line_alpha\":[1.0],\"line_color\":[\"white\"],\"origin\":[1],\"width\":[0.2],\"x\":[\"71:0.25\"],\"y\":[9.0],\"yr\":[71]}},\"id\":\"6031e5bd-27b1-4802-8b3b-e9dfa4b82c25\",\"type\":\"ColumnDataSource\"},{\"attributes\":{\"fill_alpha\":{\"field\":\"fill_alpha\"},\"fill_color\":{\"field\":\"color\"},\"height\":{\"field\":\"height\",\"units\":\"data\"},\"line_color\":{\"field\":\"line_color\"},\"width\":{\"field\":\"width\",\"units\":\"data\"},\"x\":{\"field\":\"x\"},\"y\":{\"field\":\"y\"}},\"id\":\"8058b4ce-e8ec-40cb-9872-91ea40eb6f24\",\"type\":\"Rect\"},{\"attributes\":{\"data_source\":{\"id\":\"7c54adfd-dbc4-42f7-b48f-797c292c2007\",\"type\":\"ColumnDataSource\"},\"glyph\":{\"id\":\"6f61dee9-7bea-438c-9590-aa60c8ce446e\",\"type\":\"Rect\"},\"hover_glyph\":null,\"nonselection_glyph\":null,\"selection_glyph\":null},\"id\":\"87ad9a9b-d7c2-4283-ae27-0d642ea838bc\",\"type\":\"GlyphRenderer\"},{\"attributes\":{\"fill_alpha\":{\"field\":\"fill_alpha\"},\"fill_color\":{\"field\":\"color\"},\"height\":{\"field\":\"height\",\"units\":\"data\"},\"line_color\":{\"field\":\"line_color\"},\"width\":{\"field\":\"width\",\"units\":\"data\"},\"x\":{\"field\":\"x\"},\"y\":{\"field\":\"y\"}},\"id\":\"023dfbe3-ecf0-4d23-adb6-c9921c308ed4\",\"type\":\"Rect\"},{\"attributes\":{\"fill_alpha\":{\"field\":\"fill_alpha\"},\"fill_color\":{\"field\":\"color\"},\"height\":{\"field\":\"height\",\"units\":\"data\"},\"line_color\":{\"field\":\"line_color\"},\"width\":{\"field\":\"width\",\"units\":\"data\"},\"x\":{\"field\":\"x\"},\"y\":{\"field\":\"y\"}},\"id\":\"e8e43da8-3bdb-4fd2-9d0a-3aca2f309dc9\",\"type\":\"Rect\"},{\"attributes\":{\"callback\":null,\"column_names\":[\"line_color\",\"line_alpha\",\"color\",\"fill_alpha\",\"height\",\"width\",\"y\",\"x\",\"label\"],\"data\":{\"chart_index\":[{\"origin\":1,\"yr\":78}],\"color\":[\"#f22c40\"],\"fill_alpha\":[0.8],\"height\":[20.2],\"label\":[{\"origin\":1,\"yr\":78}],\"line_alpha\":[1.0],\"line_color\":[\"white\"],\"origin\":[1],\"width\":[0.2],\"x\":[\"78:0.25\"],\"y\":[10.1],\"yr\":[78]}},\"id\":\"5b656696-12f8-4787-b20c-9266ba03a7ab\",\"type\":\"ColumnDataSource\"},{\"attributes\":{\"plot\":{\"id\":\"01f95121-8f50-471f-8506-1911c4b3983a\",\"subtype\":\"Chart\",\"type\":\"Plot\"}},\"id\":\"ebdae3ce-30ea-4f82-b2f2-9005c0c8a0c3\",\"type\":\"CrosshairTool\"},{\"attributes\":{\"callback\":null,\"end\":42.0},\"id\":\"c0165d71-7419-4d6d-98ec-3328b30c3078\",\"type\":\"Range1d\"},{\"attributes\":{\"data_source\":{\"id\":\"cf1ab32c-a423-4b13-bf56-0e073e4192bc\",\"type\":\"ColumnDataSource\"},\"glyph\":{\"id\":\"40167162-c559-440f-999e-dbea3232fd65\",\"type\":\"Rect\"},\"hover_glyph\":null,\"nonselection_glyph\":null,\"selection_glyph\":null},\"id\":\"92945716-652c-4ec8-90cd-42630a864afc\",\"type\":\"GlyphRenderer\"},{\"attributes\":{\"data_source\":{\"id\":\"e0965f89-a750-4c40-8981-f98dd69c9841\",\"type\":\"ColumnDataSource\"},\"glyph\":{\"id\":\"d2a502e3-6186-40b6-b3e2-d1c477dd13e2\",\"type\":\"Rect\"},\"hover_glyph\":null,\"nonselection_glyph\":null,\"selection_glyph\":null},\"id\":\"c7290324-08cc-4895-8bb5-79ccc9ebca92\",\"type\":\"GlyphRenderer\"},{\"attributes\":{\"fill_alpha\":{\"field\":\"fill_alpha\"},\"fill_color\":{\"field\":\"color\"},\"height\":{\"field\":\"height\",\"units\":\"data\"},\"line_color\":{\"field\":\"line_color\"},\"width\":{\"field\":\"width\",\"units\":\"data\"},\"x\":{\"field\":\"x\"},\"y\":{\"field\":\"y\"}},\"id\":\"13c71e76-bb6a-42f6-b6bc-4a9f74836638\",\"type\":\"Rect\"},{\"attributes\":{\"callback\":null,\"column_names\":[\"line_color\",\"line_alpha\",\"color\",\"fill_alpha\",\"height\",\"width\",\"y\",\"x\",\"label\"],\"data\":{\"chart_index\":[{\"origin\":2,\"yr\":71}],\"color\":[\"#5ab738\"],\"fill_alpha\":[0.8],\"height\":[29.0],\"label\":[{\"origin\":2,\"yr\":71}],\"line_alpha\":[1.0],\"line_color\":[\"white\"],\"origin\":[2],\"width\":[0.2],\"x\":[\"71:0.75\"],\"y\":[14.5],\"yr\":[71]}},\"id\":\"f4f8f5c6-8bfc-490a-b857-10a9c9d1526a\",\"type\":\"ColumnDataSource\"},{\"attributes\":{\"data_source\":{\"id\":\"dc002860-85c2-4d5e-abe2-6c59e343eafe\",\"type\":\"ColumnDataSource\"},\"glyph\":{\"id\":\"f37e2dee-06e1-4161-9546-c2b2fe9d254e\",\"type\":\"Rect\"},\"hover_glyph\":null,\"nonselection_glyph\":null,\"selection_glyph\":null},\"id\":\"90bb7c63-0f42-4202-8442-7cc417ed906a\",\"type\":\"GlyphRenderer\"},{\"attributes\":{\"callback\":null,\"factors\":[\"70\",\"71\",\"72\",\"73\",\"74\",\"75\",\"76\",\"77\",\"78\",\"79\",\"80\",\"81\",\"82\"]},\"id\":\"94e5b1d9-7eeb-4671-a8a0-174c2dc55bc1\",\"type\":\"FactorRange\"},{\"attributes\":{\"axis_label\":\"Yr\",\"formatter\":{\"id\":\"ca8b5be0-9b6e-4cf8-b70d-a82181216ae5\",\"type\":\"CategoricalTickFormatter\"},\"major_label_orientation\":0.7853981633974483,\"plot\":{\"id\":\"01f95121-8f50-471f-8506-1911c4b3983a\",\"subtype\":\"Chart\",\"type\":\"Plot\"},\"ticker\":{\"id\":\"1d01b080-8cea-4a25-827d-0100c6791681\",\"type\":\"CategoricalTicker\"}},\"id\":\"977f3478-d68b-4697-8020-5a5617f2f19a\",\"type\":\"CategoricalAxis\"},{\"attributes\":{\"callback\":null,\"column_names\":[\"line_color\",\"line_alpha\",\"color\",\"fill_alpha\",\"height\",\"width\",\"y\",\"x\",\"label\"],\"data\":{\"chart_index\":[{\"origin\":2,\"yr\":81}],\"color\":[\"#5ab738\"],\"fill_alpha\":[0.8],\"height\":[30.7],\"label\":[{\"origin\":2,\"yr\":81}],\"line_alpha\":[1.0],\"line_color\":[\"white\"],\"origin\":[2],\"width\":[0.2],\"x\":[\"81:0.75\"],\"y\":[15.35],\"yr\":[81]}},\"id\":\"dc002860-85c2-4d5e-abe2-6c59e343eafe\",\"type\":\"ColumnDataSource\"},{\"attributes\":{\"callback\":null,\"column_names\":[\"line_color\",\"line_alpha\",\"color\",\"fill_alpha\",\"height\",\"width\",\"y\",\"x\",\"label\"],\"data\":{\"chart_index\":[{\"origin\":3,\"yr\":74}],\"color\":[\"#407ee7\"],\"fill_alpha\":[0.8],\"height\":[31.0],\"label\":[{\"origin\":3,\"yr\":74}],\"line_alpha\":[1.0],\"line_color\":[\"white\"],\"origin\":[3],\"width\":[0.2],\"x\":[\"74:0.5\"],\"y\":[15.5],\"yr\":[74]}},\"id\":\"2b9e7f4d-3c71-436a-ac11-a49a4b529596\",\"type\":\"ColumnDataSource\"},{\"attributes\":{\"active_drag\":\"auto\",\"active_scroll\":\"auto\",\"active_tap\":\"auto\",\"tools\":[{\"id\":\"ebdae3ce-30ea-4f82-b2f2-9005c0c8a0c3\",\"type\":\"CrosshairTool\"}]},\"id\":\"aeb0391f-5c84-49d7-a2ca-664b103df63d\",\"type\":\"Toolbar\"},{\"attributes\":{\"data_source\":{\"id\":\"41c0a2e7-1d45-459d-9cca-f00d10475106\",\"type\":\"ColumnDataSource\"},\"glyph\":{\"id\":\"70a43818-9097-4c8b-8c96-1eb41b10f6aa\",\"type\":\"Rect\"},\"hover_glyph\":null,\"nonselection_glyph\":null,\"selection_glyph\":null},\"id\":\"a1553456-cd62-4d53-ba06-ed4eae0bedc6\",\"type\":\"GlyphRenderer\"},{\"attributes\":{\"fill_alpha\":{\"field\":\"fill_alpha\"},\"fill_color\":{\"field\":\"color\"},\"height\":{\"field\":\"height\",\"units\":\"data\"},\"line_color\":{\"field\":\"line_color\"},\"width\":{\"field\":\"width\",\"units\":\"data\"},\"x\":{\"field\":\"x\"},\"y\":{\"field\":\"y\"}},\"id\":\"5e655074-c5f5-4fc7-a9b1-77719773193a\",\"type\":\"Rect\"},{\"attributes\":{\"data_source\":{\"id\":\"50a646bd-7268-44a5-869e-6aa3a5dc46a8\",\"type\":\"ColumnDataSource\"},\"glyph\":{\"id\":\"1f949c72-373a-47e7-9a4c-6e2407054cab\",\"type\":\"Rect\"},\"hover_glyph\":null,\"nonselection_glyph\":null,\"selection_glyph\":null},\"id\":\"66141f58-0e37-4e19-961a-4b1de38e448d\",\"type\":\"GlyphRenderer\"},{\"attributes\":{\"fill_alpha\":{\"field\":\"fill_alpha\"},\"fill_color\":{\"field\":\"color\"},\"height\":{\"field\":\"height\",\"units\":\"data\"},\"line_color\":{\"field\":\"line_color\"},\"width\":{\"field\":\"width\",\"units\":\"data\"},\"x\":{\"field\":\"x\"},\"y\":{\"field\":\"y\"}},\"id\":\"217768fc-108a-440c-bd06-40240c6835be\",\"type\":\"Rect\"},{\"attributes\":{\"data_source\":{\"id\":\"64a81676-a91f-4eb6-8279-0a42e5619e42\",\"type\":\"ColumnDataSource\"},\"glyph\":{\"id\":\"4ca2f3c3-8293-4916-b0eb-fd09c1a622a2\",\"type\":\"Rect\"},\"hover_glyph\":null,\"nonselection_glyph\":null,\"selection_glyph\":null},\"id\":\"05179318-ef2a-46f8-a70f-cb2f46904959\",\"type\":\"GlyphRenderer\"},{\"attributes\":{\"data_source\":{\"id\":\"b4352f31-aa3f-4d88-9f62-4c7d9bdeb405\",\"type\":\"ColumnDataSource\"},\"glyph\":{\"id\":\"cfe5b3c8-afc6-41f9-a6b9-facd911fb6e4\",\"type\":\"Rect\"},\"hover_glyph\":null,\"nonselection_glyph\":null,\"selection_glyph\":null},\"id\":\"26bbbb32-3133-400f-9651-89ad9d22357d\",\"type\":\"GlyphRenderer\"},{\"attributes\":{\"data_source\":{\"id\":\"4f7dc20b-6c9a-4ff9-aa79-d3044c2f1464\",\"type\":\"ColumnDataSource\"},\"glyph\":{\"id\":\"cf68ccb7-fc54-4be7-b2f5-b9f46d3f1371\",\"type\":\"Rect\"},\"hover_glyph\":null,\"nonselection_glyph\":null,\"selection_glyph\":null},\"id\":\"09963292-f206-4f67-a78a-24a353fc0256\",\"type\":\"GlyphRenderer\"},{\"attributes\":{},\"id\":\"48b6b3a0-ba67-403c-bb18-82f9f65b4480\",\"type\":\"ToolEvents\"},{\"attributes\":{\"callback\":null,\"column_names\":[\"line_color\",\"line_alpha\",\"color\",\"fill_alpha\",\"height\",\"width\",\"y\",\"x\",\"label\"],\"data\":{\"chart_index\":[{\"origin\":1,\"yr\":79}],\"color\":[\"#f22c40\"],\"fill_alpha\":[0.8],\"height\":[21.5],\"label\":[{\"origin\":1,\"yr\":79}],\"line_alpha\":[1.0],\"line_color\":[\"white\"],\"origin\":[1],\"width\":[0.2],\"x\":[\"79:0.25\"],\"y\":[10.75],\"yr\":[79]}},\"id\":\"5d33bd32-e248-43c6-9844-a2c51d80fbd4\",\"type\":\"ColumnDataSource\"},{\"attributes\":{\"fill_alpha\":{\"field\":\"fill_alpha\"},\"fill_color\":{\"field\":\"color\"},\"height\":{\"field\":\"height\",\"units\":\"data\"},\"line_color\":{\"field\":\"line_color\"},\"width\":{\"field\":\"width\",\"units\":\"data\"},\"x\":{\"field\":\"x\"},\"y\":{\"field\":\"y\"}},\"id\":\"4ca2f3c3-8293-4916-b0eb-fd09c1a622a2\",\"type\":\"Rect\"},{\"attributes\":{\"fill_alpha\":{\"field\":\"fill_alpha\"},\"fill_color\":{\"field\":\"color\"},\"height\":{\"field\":\"height\",\"units\":\"data\"},\"line_color\":{\"field\":\"line_color\"},\"width\":{\"field\":\"width\",\"units\":\"data\"},\"x\":{\"field\":\"x\"},\"y\":{\"field\":\"y\"}},\"id\":\"cf68ccb7-fc54-4be7-b2f5-b9f46d3f1371\",\"type\":\"Rect\"},{\"attributes\":{\"data_source\":{\"id\":\"fd212045-5f4d-4095-b95c-b0e404a50044\",\"type\":\"ColumnDataSource\"},\"glyph\":{\"id\":\"b31ef1fe-da8b-43a8-b390-4ac59b1100e9\",\"type\":\"Rect\"},\"hover_glyph\":null,\"nonselection_glyph\":null,\"selection_glyph\":null},\"id\":\"688bcfff-3f55-4618-9381-fa1f2caef24e\",\"type\":\"GlyphRenderer\"},{\"attributes\":{\"callback\":null,\"column_names\":[\"line_color\",\"line_alpha\",\"color\",\"fill_alpha\",\"height\",\"width\",\"y\",\"x\",\"label\"],\"data\":{\"chart_index\":[{\"origin\":1,\"yr\":70}],\"color\":[\"#f22c40\"],\"fill_alpha\":[0.8],\"height\":[15.0],\"label\":[{\"origin\":1,\"yr\":70}],\"line_alpha\":[1.0],\"line_color\":[\"white\"],\"origin\":[1],\"width\":[0.2],\"x\":[\"70:0.25\"],\"y\":[7.5],\"yr\":[70]}},\"id\":\"f6106449-eb6a-4d98-af68-f7a14de7dbfb\",\"type\":\"ColumnDataSource\"},{\"attributes\":{\"callback\":null,\"column_names\":[\"line_color\",\"line_alpha\",\"color\",\"fill_alpha\",\"height\",\"width\",\"y\",\"x\",\"label\"],\"data\":{\"chart_index\":[{\"origin\":2,\"yr\":78}],\"color\":[\"#5ab738\"],\"fill_alpha\":[0.8],\"height\":[20.950000000000003],\"label\":[{\"origin\":2,\"yr\":78}],\"line_alpha\":[1.0],\"line_color\":[\"white\"],\"origin\":[2],\"width\":[0.2],\"x\":[\"78:0.75\"],\"y\":[10.475000000000001],\"yr\":[78]}},\"id\":\"fca1db32-e276-4c36-b3f1-62879484cd8a\",\"type\":\"ColumnDataSource\"},{\"attributes\":{},\"id\":\"1d01b080-8cea-4a25-827d-0100c6791681\",\"type\":\"CategoricalTicker\"},{\"attributes\":{\"callback\":null,\"column_names\":[\"line_color\",\"line_alpha\",\"color\",\"fill_alpha\",\"height\",\"width\",\"y\",\"x\",\"label\"],\"data\":{\"chart_index\":[{\"origin\":3,\"yr\":80}],\"color\":[\"#407ee7\"],\"fill_alpha\":[0.8],\"height\":[33.8],\"label\":[{\"origin\":3,\"yr\":80}],\"line_alpha\":[1.0],\"line_color\":[\"white\"],\"origin\":[3],\"width\":[0.2],\"x\":[\"80:0.5\"],\"y\":[16.9],\"yr\":[80]}},\"id\":\"fd212045-5f4d-4095-b95c-b0e404a50044\",\"type\":\"ColumnDataSource\"},{\"attributes\":{\"callback\":null,\"column_names\":[\"line_color\",\"line_alpha\",\"color\",\"fill_alpha\",\"height\",\"width\",\"y\",\"x\",\"label\"],\"data\":{\"chart_index\":[{\"origin\":2,\"yr\":73}],\"color\":[\"#5ab738\"],\"fill_alpha\":[0.8],\"height\":[24.0],\"label\":[{\"origin\":2,\"yr\":73}],\"line_alpha\":[1.0],\"line_color\":[\"white\"],\"origin\":[2],\"width\":[0.2],\"x\":[\"73:0.75\"],\"y\":[12.0],\"yr\":[73]}},\"id\":\"b4352f31-aa3f-4d88-9f62-4c7d9bdeb405\",\"type\":\"ColumnDataSource\"},{\"attributes\":{\"fill_alpha\":{\"field\":\"fill_alpha\"},\"fill_color\":{\"field\":\"color\"},\"height\":{\"field\":\"height\",\"units\":\"data\"},\"line_color\":{\"field\":\"line_color\"},\"width\":{\"field\":\"width\",\"units\":\"data\"},\"x\":{\"field\":\"x\"},\"y\":{\"field\":\"y\"}},\"id\":\"0c5468ce-fe67-49d8-989e-bc2c6778a377\",\"type\":\"Rect\"},{\"attributes\":{\"fill_alpha\":{\"field\":\"fill_alpha\"},\"fill_color\":{\"field\":\"color\"},\"height\":{\"field\":\"height\",\"units\":\"data\"},\"line_color\":{\"field\":\"line_color\"},\"width\":{\"field\":\"width\",\"units\":\"data\"},\"x\":{\"field\":\"x\"},\"y\":{\"field\":\"y\"}},\"id\":\"1f949c72-373a-47e7-9a4c-6e2407054cab\",\"type\":\"Rect\"},{\"attributes\":{\"fill_alpha\":{\"field\":\"fill_alpha\"},\"fill_color\":{\"field\":\"color\"},\"height\":{\"field\":\"height\",\"units\":\"data\"},\"line_color\":{\"field\":\"line_color\"},\"width\":{\"field\":\"width\",\"units\":\"data\"},\"x\":{\"field\":\"x\"},\"y\":{\"field\":\"y\"}},\"id\":\"4ba00c0b-95c1-4b83-b3c9-5efbbae6ae12\",\"type\":\"Rect\"},{\"attributes\":{\"fill_alpha\":{\"field\":\"fill_alpha\"},\"fill_color\":{\"field\":\"color\"},\"height\":{\"field\":\"height\",\"units\":\"data\"},\"line_color\":{\"field\":\"line_color\"},\"width\":{\"field\":\"width\",\"units\":\"data\"},\"x\":{\"field\":\"x\"},\"y\":{\"field\":\"y\"}},\"id\":\"42777e1f-57ee-4cf5-84ea-c0bafb545b2f\",\"type\":\"Rect\"},{\"attributes\":{\"fill_alpha\":{\"field\":\"fill_alpha\"},\"fill_color\":{\"field\":\"color\"},\"height\":{\"field\":\"height\",\"units\":\"data\"},\"line_color\":{\"field\":\"line_color\"},\"width\":{\"field\":\"width\",\"units\":\"data\"},\"x\":{\"field\":\"x\"},\"y\":{\"field\":\"y\"}},\"id\":\"b31ef1fe-da8b-43a8-b390-4ac59b1100e9\",\"type\":\"Rect\"},{\"attributes\":{\"callback\":null,\"column_names\":[\"line_color\",\"line_alpha\",\"color\",\"fill_alpha\",\"height\",\"width\",\"y\",\"x\",\"label\"],\"data\":{\"chart_index\":[{\"origin\":1,\"yr\":77}],\"color\":[\"#f22c40\"],\"fill_alpha\":[0.8],\"height\":[18.0],\"label\":[{\"origin\":1,\"yr\":77}],\"line_alpha\":[1.0],\"line_color\":[\"white\"],\"origin\":[1],\"width\":[0.2],\"x\":[\"77:0.25\"],\"y\":[9.0],\"yr\":[77]}},\"id\":\"346287b2-1d8b-4ef4-b678-3efcae941958\",\"type\":\"ColumnDataSource\"},{\"attributes\":{\"data_source\":{\"id\":\"7e2251ff-d303-4010-9b91-1ca3ae48841b\",\"type\":\"ColumnDataSource\"},\"glyph\":{\"id\":\"64f9a8e5-642b-4808-bbea-ff2ce18c2d06\",\"type\":\"Rect\"},\"hover_glyph\":null,\"nonselection_glyph\":null,\"selection_glyph\":null},\"id\":\"6d8f177d-b8d2-4d89-99a6-9b1e5693098c\",\"type\":\"GlyphRenderer\"},{\"attributes\":{\"axis_label\":\"Median( Mpg )\",\"formatter\":{\"id\":\"dab4340f-f237-4535-a6ef-cd46599a3c4a\",\"type\":\"BasicTickFormatter\"},\"plot\":{\"id\":\"01f95121-8f50-471f-8506-1911c4b3983a\",\"subtype\":\"Chart\",\"type\":\"Plot\"},\"ticker\":{\"id\":\"1ce52f0c-6c63-47aa-ac7e-3cca39da3fa2\",\"type\":\"BasicTicker\"}},\"id\":\"feddb31c-ce18-48fb-8cf7-f36cc5772e39\",\"type\":\"LinearAxis\"},{\"attributes\":{\"fill_alpha\":{\"field\":\"fill_alpha\"},\"fill_color\":{\"field\":\"color\"},\"height\":{\"field\":\"height\",\"units\":\"data\"},\"line_color\":{\"field\":\"line_color\"},\"width\":{\"field\":\"width\",\"units\":\"data\"},\"x\":{\"field\":\"x\"},\"y\":{\"field\":\"y\"}},\"id\":\"802bfff2-0f6b-4a05-b4ec-9c05ae9ca58b\",\"type\":\"Rect\"}],\"root_ids\":[\"01f95121-8f50-471f-8506-1911c4b3983a\"]},\"title\":\"Bokeh Application\",\"version\":\"0.12.1\"}};\n",
       "            var render_items = [{\"docid\":\"89110f94-7055-4b76-81ff-fd63dccafd67\",\"elementid\":\"f812d11b-44cc-4d6f-816a-d6943332d55a\",\"modelid\":\"01f95121-8f50-471f-8506-1911c4b3983a\",\"notebook_comms_target\":\"9d9d18bf-1a8b-43df-ac75-e2c37af04772\"}];\n",
       "            \n",
       "            Bokeh.embed.embed_items(docs_json, render_items);\n",
       "        });\n",
       "      },\n",
       "      function(Bokeh) {\n",
       "      }\n",
       "    ];\n",
       "  \n",
       "    function run_inline_js() {\n",
       "      for (var i = 0; i < inline_js.length; i++) {\n",
       "        inline_js[i](window.Bokeh);\n",
       "      }\n",
       "    }\n",
       "  \n",
       "    if (window._bokeh_is_loading === 0) {\n",
       "      console.log(\"Bokeh: BokehJS loaded, going straight to plotting\");\n",
       "      run_inline_js();\n",
       "    } else {\n",
       "      load_libs(js_urls, function() {\n",
       "        console.log(\"Bokeh: BokehJS plotting callback run at\", now());\n",
       "        run_inline_js();\n",
       "      });\n",
       "    }\n",
       "  }(this));\n",
       "</script>"
      ]
     },
     "metadata": {},
     "output_type": "display_data"
    },
    {
     "data": {
      "text/html": [
       "<p><code>&lt;Bokeh Notebook handle for <strong>In[21]</strong>&gt;</code></p>"
      ],
      "text/plain": [
       "<bokeh.io._CommsHandle at 0x10be13e50>"
      ]
     },
     "execution_count": 21,
     "metadata": {},
     "output_type": "execute_result"
    }
   ],
   "source": [
    "p = Bar(autompg, label='yr', values='mpg', agg='median', group='origin', \n",
    "        title=\"Median MPG by YR, grouped by ORIGIN\", legend='top_left', tools='crosshair')\n",
    "show(p)"
   ]
  },
  {
   "cell_type": "markdown",
   "metadata": {},
   "source": [
    "Similarly, bars for subgroups can be stacked visually, by providing a column name for the `stack` parameter. Let's try that as an exercise."
   ]
  },
  {
   "cell_type": "code",
   "execution_count": 23,
   "metadata": {
    "collapsed": false
   },
   "outputs": [
    {
     "data": {
      "text/html": [
       "\n",
       "\n",
       "    <div class=\"bk-root\">\n",
       "        <div class=\"plotdiv\" id=\"9529677d-560e-45af-a06b-27d7c9e54ab9\"></div>\n",
       "    </div>\n",
       "<script type=\"text/javascript\">\n",
       "  \n",
       "  (function(global) {\n",
       "    function now() {\n",
       "      return new Date();\n",
       "    }\n",
       "  \n",
       "    var force = \"\";\n",
       "  \n",
       "    if (typeof (window._bokeh_onload_callbacks) === \"undefined\" || force !== \"\") {\n",
       "      window._bokeh_onload_callbacks = [];\n",
       "      window._bokeh_is_loading = undefined;\n",
       "    }\n",
       "  \n",
       "    function run_callbacks() {\n",
       "      window._bokeh_onload_callbacks.forEach(function(callback) { callback() });\n",
       "      delete window._bokeh_onload_callbacks\n",
       "      console.info(\"Bokeh: all callbacks have finished\");\n",
       "    }\n",
       "  \n",
       "    function load_libs(js_urls, callback) {\n",
       "      window._bokeh_onload_callbacks.push(callback);\n",
       "      if (window._bokeh_is_loading > 0) {\n",
       "        console.log(\"Bokeh: BokehJS is being loaded, scheduling callback at\", now());\n",
       "        return null;\n",
       "      }\n",
       "      if (js_urls == null || js_urls.length === 0) {\n",
       "        run_callbacks();\n",
       "        return null;\n",
       "      }\n",
       "      console.log(\"Bokeh: BokehJS not loaded, scheduling load and callback at\", now());\n",
       "      window._bokeh_is_loading = js_urls.length;\n",
       "      for (var i = 0; i < js_urls.length; i++) {\n",
       "        var url = js_urls[i];\n",
       "        var s = document.createElement('script');\n",
       "        s.src = url;\n",
       "        s.async = false;\n",
       "        s.onreadystatechange = s.onload = function() {\n",
       "          window._bokeh_is_loading--;\n",
       "          if (window._bokeh_is_loading === 0) {\n",
       "            console.log(\"Bokeh: all BokehJS libraries loaded\");\n",
       "            run_callbacks()\n",
       "          }\n",
       "        };\n",
       "        s.onerror = function() {\n",
       "          console.warn(\"failed to load library \" + url);\n",
       "        };\n",
       "        console.log(\"Bokeh: injecting script tag for BokehJS library: \", url);\n",
       "        document.getElementsByTagName(\"head\")[0].appendChild(s);\n",
       "      }\n",
       "    };var element = document.getElementById(\"9529677d-560e-45af-a06b-27d7c9e54ab9\");\n",
       "    if (element == null) {\n",
       "      console.log(\"Bokeh: ERROR: autoload.js configured with elementid '9529677d-560e-45af-a06b-27d7c9e54ab9' but no matching script tag was found. \")\n",
       "      return false;\n",
       "    }\n",
       "  \n",
       "    var js_urls = [];\n",
       "  \n",
       "    var inline_js = [\n",
       "      function(Bokeh) {\n",
       "        Bokeh.$(function() {\n",
       "            var docs_json = {\"ec3e68af-27f6-4bf9-b1bd-f2b51e1b9477\":{\"roots\":{\"references\":[{\"attributes\":{\"data_source\":{\"id\":\"88e89863-6ef2-4066-abfb-4b44686070d7\",\"type\":\"ColumnDataSource\"},\"glyph\":{\"id\":\"9fba2e13-fb14-4d78-9a41-21e7d4ffbcfb\",\"type\":\"Rect\"},\"hover_glyph\":null,\"nonselection_glyph\":null,\"selection_glyph\":null},\"id\":\"1b21152e-839a-4409-8328-a0f273ec6f48\",\"type\":\"GlyphRenderer\"},{\"attributes\":{\"data_source\":{\"id\":\"00a7a965-65a7-4116-8d87-bda62119c917\",\"type\":\"ColumnDataSource\"},\"glyph\":{\"id\":\"a78651b0-6f5a-4d80-aa89-686182aa3e2e\",\"type\":\"Rect\"},\"hover_glyph\":null,\"nonselection_glyph\":null,\"selection_glyph\":null},\"id\":\"c578a5c7-ffbe-4e15-8b41-e05bc1b202b0\",\"type\":\"GlyphRenderer\"},{\"attributes\":{\"callback\":null,\"column_names\":[\"line_color\",\"line_alpha\",\"color\",\"fill_alpha\",\"height\",\"width\",\"y\",\"x\",\"label\"],\"data\":{\"chart_index\":[{\"origin\":1,\"yr\":82}],\"color\":[\"#f22c40\"],\"fill_alpha\":[0.8],\"height\":[28.0],\"label\":[{\"origin\":1,\"yr\":82}],\"line_alpha\":[1.0],\"line_color\":[\"white\"],\"origin\":[1],\"width\":[0.8],\"x\":[\"82\"],\"y\":[14.0],\"yr\":[82]}},\"id\":\"d80822f8-c953-48e9-9585-cf71f8064170\",\"type\":\"ColumnDataSource\"},{\"attributes\":{\"fill_alpha\":{\"field\":\"fill_alpha\"},\"fill_color\":{\"field\":\"color\"},\"height\":{\"field\":\"height\",\"units\":\"data\"},\"line_color\":{\"field\":\"line_color\"},\"width\":{\"field\":\"width\",\"units\":\"data\"},\"x\":{\"field\":\"x\"},\"y\":{\"field\":\"y\"}},\"id\":\"7e046b90-b032-4798-ae4d-89316e83b117\",\"type\":\"Rect\"},{\"attributes\":{\"data_source\":{\"id\":\"6b3210fb-418a-4c1d-937a-dd39b2204661\",\"type\":\"ColumnDataSource\"},\"glyph\":{\"id\":\"f0637279-ad1e-40b8-a4b5-6e4d88a86b73\",\"type\":\"Rect\"},\"hover_glyph\":null,\"nonselection_glyph\":null,\"selection_glyph\":null},\"id\":\"21f00a57-6753-41d1-b322-30ba1332e6c9\",\"type\":\"GlyphRenderer\"},{\"attributes\":{\"fill_alpha\":{\"field\":\"fill_alpha\"},\"fill_color\":{\"field\":\"color\"},\"height\":{\"field\":\"height\",\"units\":\"data\"},\"line_color\":{\"field\":\"line_color\"},\"width\":{\"field\":\"width\",\"units\":\"data\"},\"x\":{\"field\":\"x\"},\"y\":{\"field\":\"y\"}},\"id\":\"1340d40b-7707-4747-b4eb-041d79bfc8ee\",\"type\":\"Rect\"},{\"attributes\":{\"data_source\":{\"id\":\"dd52c3d0-f3e3-4460-a348-8807cd5557f0\",\"type\":\"ColumnDataSource\"},\"glyph\":{\"id\":\"92689053-ccd4-4f56-bc94-f4d39bdc4a23\",\"type\":\"Rect\"},\"hover_glyph\":null,\"nonselection_glyph\":null,\"selection_glyph\":null},\"id\":\"2669a45b-bdb9-4b33-86c0-014595fc80df\",\"type\":\"GlyphRenderer\"},{\"attributes\":{\"callback\":null,\"column_names\":[\"line_color\",\"line_alpha\",\"color\",\"fill_alpha\",\"height\",\"width\",\"y\",\"x\",\"label\"],\"data\":{\"chart_index\":[{\"origin\":3,\"yr\":74}],\"color\":[\"#407ee7\"],\"fill_alpha\":[0.8],\"height\":[31.0],\"label\":[{\"origin\":3,\"yr\":74}],\"line_alpha\":[1.0],\"line_color\":[\"white\"],\"origin\":[3],\"width\":[0.8],\"x\":[\"74\"],\"y\":[31.5],\"yr\":[74]}},\"id\":\"3697e423-e3d5-48e4-a0b5-b23d1a91d7a8\",\"type\":\"ColumnDataSource\"},{\"attributes\":{\"legends\":[[\"1\",[{\"id\":\"a8926852-c8f4-4431-85ed-f758c20bb700\",\"type\":\"GlyphRenderer\"}]],[\"3\",[{\"id\":\"c7a06c7c-9e0e-4fd6-92dc-13fe80b2211f\",\"type\":\"GlyphRenderer\"}]],[\"2\",[{\"id\":\"f0b2de84-21e5-43a0-9082-f23c821c7ab0\",\"type\":\"GlyphRenderer\"}]]],\"location\":\"top_left\",\"plot\":{\"id\":\"0cf925e9-ab36-46b8-985b-6a8ed03de13e\",\"subtype\":\"Chart\",\"type\":\"Plot\"}},\"id\":\"dcf54877-cc2b-4b94-8c04-bde624b08a3a\",\"type\":\"Legend\"},{\"attributes\":{\"data_source\":{\"id\":\"a3cbbde2-f73d-451b-886a-3792f8e00dd4\",\"type\":\"ColumnDataSource\"},\"glyph\":{\"id\":\"73eb1faf-8856-478e-9264-e2f14a611f76\",\"type\":\"Rect\"},\"hover_glyph\":null,\"nonselection_glyph\":null,\"selection_glyph\":null},\"id\":\"3a5525d1-5cff-4006-bae8-3f092ad59bd0\",\"type\":\"GlyphRenderer\"},{\"attributes\":{\"callback\":null,\"column_names\":[\"line_color\",\"line_alpha\",\"color\",\"fill_alpha\",\"height\",\"width\",\"y\",\"x\",\"label\"],\"data\":{\"chart_index\":[{\"origin\":3,\"yr\":79}],\"color\":[\"#407ee7\"],\"fill_alpha\":[0.8],\"height\":[32.95],\"label\":[{\"origin\":3,\"yr\":79}],\"line_alpha\":[1.0],\"line_color\":[\"white\"],\"origin\":[3],\"width\":[0.8],\"x\":[\"79\"],\"y\":[67.525],\"yr\":[79]}},\"id\":\"88e89863-6ef2-4066-abfb-4b44686070d7\",\"type\":\"ColumnDataSource\"},{\"attributes\":{\"fill_alpha\":{\"field\":\"fill_alpha\"},\"fill_color\":{\"field\":\"color\"},\"height\":{\"field\":\"height\",\"units\":\"data\"},\"line_color\":{\"field\":\"line_color\"},\"width\":{\"field\":\"width\",\"units\":\"data\"},\"x\":{\"field\":\"x\"},\"y\":{\"field\":\"y\"}},\"id\":\"fe01ce0c-0b66-4055-8e53-16ad2b241e64\",\"type\":\"Rect\"},{\"attributes\":{\"data_source\":{\"id\":\"eae4c5c7-bed2-4688-920f-6a0995163f51\",\"type\":\"ColumnDataSource\"},\"glyph\":{\"id\":\"b6d39e3f-c9fd-4b36-b9d6-b5fcfe7fd869\",\"type\":\"Rect\"},\"hover_glyph\":null,\"nonselection_glyph\":null,\"selection_glyph\":null},\"id\":\"25f9ad5e-7989-4c95-becd-dd0c4f04a3d7\",\"type\":\"GlyphRenderer\"},{\"attributes\":{\"fill_alpha\":{\"field\":\"fill_alpha\"},\"fill_color\":{\"field\":\"color\"},\"height\":{\"field\":\"height\",\"units\":\"data\"},\"line_color\":{\"field\":\"line_color\"},\"width\":{\"field\":\"width\",\"units\":\"data\"},\"x\":{\"field\":\"x\"},\"y\":{\"field\":\"y\"}},\"id\":\"e8caa08f-f023-480a-9f4b-2713a3b8bb29\",\"type\":\"Rect\"},{\"attributes\":{\"data_source\":{\"id\":\"70bfd594-47d6-4ecc-b99d-1e8f42774a89\",\"type\":\"ColumnDataSource\"},\"glyph\":{\"id\":\"ad97a940-06d0-425c-9cb8-0e60500c0787\",\"type\":\"Rect\"},\"hover_glyph\":null,\"nonselection_glyph\":null,\"selection_glyph\":null},\"id\":\"3039e205-5482-4f71-8bb7-b13ea4bc7fe0\",\"type\":\"GlyphRenderer\"},{\"attributes\":{\"data_source\":{\"id\":\"12740ac6-56d4-411c-8a29-ac8bf88d9f6b\",\"type\":\"ColumnDataSource\"},\"glyph\":{\"id\":\"9acbc1dc-e596-435f-b56c-d2af24047241\",\"type\":\"Rect\"},\"hover_glyph\":null,\"nonselection_glyph\":null,\"selection_glyph\":null},\"id\":\"d59818bb-20df-4a79-b5ea-663ad04e6476\",\"type\":\"GlyphRenderer\"},{\"attributes\":{\"fill_alpha\":{\"field\":\"fill_alpha\"},\"fill_color\":{\"field\":\"color\"},\"height\":{\"field\":\"height\",\"units\":\"data\"},\"line_color\":{\"field\":\"line_color\"},\"width\":{\"field\":\"width\",\"units\":\"data\"},\"x\":{\"field\":\"x\"},\"y\":{\"field\":\"y\"}},\"id\":\"75620c93-38e9-4e52-bb20-ceecdc3e69c5\",\"type\":\"Rect\"},{\"attributes\":{\"data_source\":{\"id\":\"fa2160f6-5366-4274-b25d-5c3e8ca1eb45\",\"type\":\"ColumnDataSource\"},\"glyph\":{\"id\":\"1340d40b-7707-4747-b4eb-041d79bfc8ee\",\"type\":\"Rect\"},\"hover_glyph\":null,\"nonselection_glyph\":null,\"selection_glyph\":null},\"id\":\"c7a06c7c-9e0e-4fd6-92dc-13fe80b2211f\",\"type\":\"GlyphRenderer\"},{\"attributes\":{\"callback\":null,\"column_names\":[\"line_color\",\"line_alpha\",\"color\",\"fill_alpha\",\"height\",\"width\",\"y\",\"x\",\"label\"],\"data\":{\"chart_index\":[{\"origin\":2,\"yr\":72}],\"color\":[\"#5ab738\"],\"fill_alpha\":[0.8],\"height\":[22.0],\"label\":[{\"origin\":2,\"yr\":72}],\"line_alpha\":[1.0],\"line_color\":[\"white\"],\"origin\":[2],\"width\":[0.8],\"x\":[\"72\"],\"y\":[49.0],\"yr\":[72]}},\"id\":\"b93ac699-c0cd-425c-bad9-30c377c4870c\",\"type\":\"ColumnDataSource\"},{\"attributes\":{\"data_source\":{\"id\":\"f0727dee-c889-464e-952c-9f418c190ad6\",\"type\":\"ColumnDataSource\"},\"glyph\":{\"id\":\"61247ba7-aa1e-47a7-8858-8a424c67a3c7\",\"type\":\"Rect\"},\"hover_glyph\":null,\"nonselection_glyph\":null,\"selection_glyph\":null},\"id\":\"c0088ba7-2159-4d63-82d9-ae6bafe5bba6\",\"type\":\"GlyphRenderer\"},{\"attributes\":{\"fill_alpha\":{\"field\":\"fill_alpha\"},\"fill_color\":{\"field\":\"color\"},\"height\":{\"field\":\"height\",\"units\":\"data\"},\"line_color\":{\"field\":\"line_color\"},\"width\":{\"field\":\"width\",\"units\":\"data\"},\"x\":{\"field\":\"x\"},\"y\":{\"field\":\"y\"}},\"id\":\"3ad778e1-7d0c-4544-bcfb-1f95c815f309\",\"type\":\"Rect\"},{\"attributes\":{\"fill_alpha\":{\"field\":\"fill_alpha\"},\"fill_color\":{\"field\":\"color\"},\"height\":{\"field\":\"height\",\"units\":\"data\"},\"line_color\":{\"field\":\"line_color\"},\"width\":{\"field\":\"width\",\"units\":\"data\"},\"x\":{\"field\":\"x\"},\"y\":{\"field\":\"y\"}},\"id\":\"fcb28706-b50a-4bfb-868f-ea1e8151f602\",\"type\":\"Rect\"},{\"attributes\":{\"axis_label\":\"Median( Mpg )\",\"formatter\":{\"id\":\"7116d9ff-256d-41a8-ae89-eed3dcb9c77a\",\"type\":\"BasicTickFormatter\"},\"plot\":{\"id\":\"0cf925e9-ab36-46b8-985b-6a8ed03de13e\",\"subtype\":\"Chart\",\"type\":\"Plot\"},\"ticker\":{\"id\":\"bf81c03c-614c-4c9a-80e8-8b9c6a4a02d0\",\"type\":\"BasicTicker\"}},\"id\":\"fd588ee7-b76b-43d2-a74a-ec9cab3ebcc6\",\"type\":\"LinearAxis\"},{\"attributes\":{\"data_source\":{\"id\":\"d1412c67-aea4-46a3-ad7c-ab01058d74e0\",\"type\":\"ColumnDataSource\"},\"glyph\":{\"id\":\"d657daac-5406-446c-9aad-3ced1a055446\",\"type\":\"Rect\"},\"hover_glyph\":null,\"nonselection_glyph\":null,\"selection_glyph\":null},\"id\":\"ac2896c2-ed4b-4541-aa9a-4c1306cce2f3\",\"type\":\"GlyphRenderer\"},{\"attributes\":{\"plot\":null,\"text\":\"Median MPG by YR, grouped by ORIGIN\"},\"id\":\"0bd3b14d-fad7-4b8b-9ff9-ae7e0af6ebbf\",\"type\":\"Title\"},{\"attributes\":{\"data_source\":{\"id\":\"116f62f1-cfd9-41cf-8445-89e076f47b9a\",\"type\":\"ColumnDataSource\"},\"glyph\":{\"id\":\"adf576d4-edcc-47d7-9d6c-76c5d51ee25d\",\"type\":\"Rect\"},\"hover_glyph\":null,\"nonselection_glyph\":null,\"selection_glyph\":null},\"id\":\"501540e6-0855-44fc-aea1-2867c29d13b8\",\"type\":\"GlyphRenderer\"},{\"attributes\":{\"fill_alpha\":{\"field\":\"fill_alpha\"},\"fill_color\":{\"field\":\"color\"},\"height\":{\"field\":\"height\",\"units\":\"data\"},\"line_color\":{\"field\":\"line_color\"},\"width\":{\"field\":\"width\",\"units\":\"data\"},\"x\":{\"field\":\"x\"},\"y\":{\"field\":\"y\"}},\"id\":\"985585bd-3977-491e-b098-5092c50efcfd\",\"type\":\"Rect\"},{\"attributes\":{\"callback\":null,\"column_names\":[\"line_color\",\"line_alpha\",\"color\",\"fill_alpha\",\"height\",\"width\",\"y\",\"x\",\"label\"],\"data\":{\"chart_index\":[{\"origin\":2,\"yr\":81}],\"color\":[\"#5ab738\"],\"fill_alpha\":[0.8],\"height\":[30.7],\"label\":[{\"origin\":2,\"yr\":81}],\"line_alpha\":[1.0],\"line_color\":[\"white\"],\"origin\":[2],\"width\":[0.8],\"x\":[\"81\"],\"y\":[75.25],\"yr\":[81]}},\"id\":\"3aaa66b0-0b58-46ba-9cfa-e200c8acfb4a\",\"type\":\"ColumnDataSource\"},{\"attributes\":{\"fill_alpha\":{\"field\":\"fill_alpha\"},\"fill_color\":{\"field\":\"color\"},\"height\":{\"field\":\"height\",\"units\":\"data\"},\"line_color\":{\"field\":\"line_color\"},\"width\":{\"field\":\"width\",\"units\":\"data\"},\"x\":{\"field\":\"x\"},\"y\":{\"field\":\"y\"}},\"id\":\"20bb4ef6-48f9-4c85-a049-f01d8508eb6b\",\"type\":\"Rect\"},{\"attributes\":{\"data_source\":{\"id\":\"807d96ab-f82f-45f3-8459-1cb81899fe62\",\"type\":\"ColumnDataSource\"},\"glyph\":{\"id\":\"0489151d-50f2-4d87-99ad-40644e3790e3\",\"type\":\"Rect\"},\"hover_glyph\":null,\"nonselection_glyph\":null,\"selection_glyph\":null},\"id\":\"2762ac96-0ca8-4463-a6d9-87e4eef0de8a\",\"type\":\"GlyphRenderer\"},{\"attributes\":{\"data_source\":{\"id\":\"58f26d7c-865f-4798-b951-6fab428c60be\",\"type\":\"ColumnDataSource\"},\"glyph\":{\"id\":\"e3542302-c09f-4abd-b4ca-f270cc65bc01\",\"type\":\"Rect\"},\"hover_glyph\":null,\"nonselection_glyph\":null,\"selection_glyph\":null},\"id\":\"a2512db5-dca3-4ef1-9bcc-f970b3ae57e0\",\"type\":\"GlyphRenderer\"},{\"attributes\":{\"fill_alpha\":{\"field\":\"fill_alpha\"},\"fill_color\":{\"field\":\"color\"},\"height\":{\"field\":\"height\",\"units\":\"data\"},\"line_color\":{\"field\":\"line_color\"},\"width\":{\"field\":\"width\",\"units\":\"data\"},\"x\":{\"field\":\"x\"},\"y\":{\"field\":\"y\"}},\"id\":\"6c8c9be1-e683-43ed-84ae-f7e02846d91e\",\"type\":\"Rect\"},{\"attributes\":{\"fill_alpha\":{\"field\":\"fill_alpha\"},\"fill_color\":{\"field\":\"color\"},\"height\":{\"field\":\"height\",\"units\":\"data\"},\"line_color\":{\"field\":\"line_color\"},\"width\":{\"field\":\"width\",\"units\":\"data\"},\"x\":{\"field\":\"x\"},\"y\":{\"field\":\"y\"}},\"id\":\"852b9a69-eb19-4ce9-a630-9e70fd700c5e\",\"type\":\"Rect\"},{\"attributes\":{\"data_source\":{\"id\":\"f1ecc92d-a171-4e7b-ac04-1b04219e8a02\",\"type\":\"ColumnDataSource\"},\"glyph\":{\"id\":\"20bb4ef6-48f9-4c85-a049-f01d8508eb6b\",\"type\":\"Rect\"},\"hover_glyph\":null,\"nonselection_glyph\":null,\"selection_glyph\":null},\"id\":\"f0b2de84-21e5-43a0-9082-f23c821c7ab0\",\"type\":\"GlyphRenderer\"},{\"attributes\":{\"data_source\":{\"id\":\"f17cd48e-d446-4699-8e57-906097cc6b03\",\"type\":\"ColumnDataSource\"},\"glyph\":{\"id\":\"e8caa08f-f023-480a-9f4b-2713a3b8bb29\",\"type\":\"Rect\"},\"hover_glyph\":null,\"nonselection_glyph\":null,\"selection_glyph\":null},\"id\":\"bf0cfccb-ffca-42e4-a3ca-d3e78072415d\",\"type\":\"GlyphRenderer\"},{\"attributes\":{\"data_source\":{\"id\":\"49ac3faf-a714-4845-bbea-10df905cc63b\",\"type\":\"ColumnDataSource\"},\"glyph\":{\"id\":\"7535a2a8-7228-4a71-aa58-f6f4625ae593\",\"type\":\"Rect\"},\"hover_glyph\":null,\"nonselection_glyph\":null,\"selection_glyph\":null},\"id\":\"fc91e704-9eff-43eb-a0b8-50d21dedbbbd\",\"type\":\"GlyphRenderer\"},{\"attributes\":{\"callback\":null,\"column_names\":[\"line_color\",\"line_alpha\",\"color\",\"fill_alpha\",\"height\",\"width\",\"y\",\"x\",\"label\"],\"data\":{\"chart_index\":[{\"origin\":2,\"yr\":76}],\"color\":[\"#5ab738\"],\"fill_alpha\":[0.8],\"height\":[26.0],\"label\":[{\"origin\":2,\"yr\":76}],\"line_alpha\":[1.0],\"line_color\":[\"white\"],\"origin\":[2],\"width\":[0.8],\"x\":[\"76\"],\"y\":[13.0],\"yr\":[76]}},\"id\":\"2e14b118-3209-44c5-b1ee-989fdecec665\",\"type\":\"ColumnDataSource\"},{\"attributes\":{\"fill_alpha\":{\"field\":\"fill_alpha\"},\"fill_color\":{\"field\":\"color\"},\"height\":{\"field\":\"height\",\"units\":\"data\"},\"line_color\":{\"field\":\"line_color\"},\"width\":{\"field\":\"width\",\"units\":\"data\"},\"x\":{\"field\":\"x\"},\"y\":{\"field\":\"y\"}},\"id\":\"e3542302-c09f-4abd-b4ca-f270cc65bc01\",\"type\":\"Rect\"},{\"attributes\":{\"fill_alpha\":{\"field\":\"fill_alpha\"},\"fill_color\":{\"field\":\"color\"},\"height\":{\"field\":\"height\",\"units\":\"data\"},\"line_color\":{\"field\":\"line_color\"},\"width\":{\"field\":\"width\",\"units\":\"data\"},\"x\":{\"field\":\"x\"},\"y\":{\"field\":\"y\"}},\"id\":\"0bd52d16-be50-43fd-85a6-cf00d03f1e82\",\"type\":\"Rect\"},{\"attributes\":{\"callback\":null,\"column_names\":[\"line_color\",\"line_alpha\",\"color\",\"fill_alpha\",\"height\",\"width\",\"y\",\"x\",\"label\"],\"data\":{\"chart_index\":[{\"origin\":3,\"yr\":76}],\"color\":[\"#407ee7\"],\"fill_alpha\":[0.8],\"height\":[30.0],\"label\":[{\"origin\":3,\"yr\":76}],\"line_alpha\":[1.0],\"line_color\":[\"white\"],\"origin\":[3],\"width\":[0.8],\"x\":[\"76\"],\"y\":[59.25],\"yr\":[76]}},\"id\":\"f0727dee-c889-464e-952c-9f418c190ad6\",\"type\":\"ColumnDataSource\"},{\"attributes\":{\"callback\":null,\"column_names\":[\"line_color\",\"line_alpha\",\"color\",\"fill_alpha\",\"height\",\"width\",\"y\",\"x\",\"label\"],\"data\":{\"chart_index\":[{\"origin\":1,\"yr\":76}],\"color\":[\"#f22c40\"],\"fill_alpha\":[0.8],\"height\":[18.25],\"label\":[{\"origin\":1,\"yr\":76}],\"line_alpha\":[1.0],\"line_color\":[\"white\"],\"origin\":[1],\"width\":[0.8],\"x\":[\"76\"],\"y\":[35.125],\"yr\":[76]}},\"id\":\"58f26d7c-865f-4798-b951-6fab428c60be\",\"type\":\"ColumnDataSource\"},{\"attributes\":{\"fill_alpha\":{\"field\":\"fill_alpha\"},\"fill_color\":{\"field\":\"color\"},\"height\":{\"field\":\"height\",\"units\":\"data\"},\"line_color\":{\"field\":\"line_color\"},\"width\":{\"field\":\"width\",\"units\":\"data\"},\"x\":{\"field\":\"x\"},\"y\":{\"field\":\"y\"}},\"id\":\"05b3209a-7130-41ac-bc16-04ea6a3a7be8\",\"type\":\"Rect\"},{\"attributes\":{\"fill_alpha\":{\"field\":\"fill_alpha\"},\"fill_color\":{\"field\":\"color\"},\"height\":{\"field\":\"height\",\"units\":\"data\"},\"line_color\":{\"field\":\"line_color\"},\"width\":{\"field\":\"width\",\"units\":\"data\"},\"x\":{\"field\":\"x\"},\"y\":{\"field\":\"y\"}},\"id\":\"9fba2e13-fb14-4d78-9a41-21e7d4ffbcfb\",\"type\":\"Rect\"},{\"attributes\":{\"fill_alpha\":{\"field\":\"fill_alpha\"},\"fill_color\":{\"field\":\"color\"},\"height\":{\"field\":\"height\",\"units\":\"data\"},\"line_color\":{\"field\":\"line_color\"},\"width\":{\"field\":\"width\",\"units\":\"data\"},\"x\":{\"field\":\"x\"},\"y\":{\"field\":\"y\"}},\"id\":\"61247ba7-aa1e-47a7-8858-8a424c67a3c7\",\"type\":\"Rect\"},{\"attributes\":{\"callback\":null,\"column_names\":[\"line_color\",\"line_alpha\",\"color\",\"fill_alpha\",\"height\",\"width\",\"y\",\"x\",\"label\"],\"data\":{\"chart_index\":[{\"origin\":3,\"yr\":72}],\"color\":[\"#407ee7\"],\"fill_alpha\":[0.8],\"height\":[24.0],\"label\":[{\"origin\":3,\"yr\":72}],\"line_alpha\":[1.0],\"line_color\":[\"white\"],\"origin\":[3],\"width\":[0.8],\"x\":[\"72\"],\"y\":[12.0],\"yr\":[72]}},\"id\":\"807d96ab-f82f-45f3-8459-1cb81899fe62\",\"type\":\"ColumnDataSource\"},{\"attributes\":{\"callback\":null,\"column_names\":[\"line_color\",\"line_alpha\",\"color\",\"fill_alpha\",\"height\",\"width\",\"y\",\"x\",\"label\"],\"data\":{\"chart_index\":[{\"origin\":1,\"yr\":80}],\"color\":[\"#f22c40\"],\"fill_alpha\":[0.8],\"height\":[27.15],\"label\":[{\"origin\":1,\"yr\":80}],\"line_alpha\":[1.0],\"line_color\":[\"white\"],\"origin\":[1],\"width\":[0.8],\"x\":[\"80\"],\"y\":[83.075],\"yr\":[80]}},\"id\":\"7b7bb079-c330-4dc6-931b-67f05744721b\",\"type\":\"ColumnDataSource\"},{\"attributes\":{},\"id\":\"04f45655-60af-41e2-b44e-acbc5e43c879\",\"type\":\"ToolEvents\"},{\"attributes\":{\"callback\":null,\"column_names\":[\"line_color\",\"line_alpha\",\"color\",\"fill_alpha\",\"height\",\"width\",\"y\",\"x\",\"label\"],\"data\":{\"chart_index\":[{\"origin\":1,\"yr\":78}],\"color\":[\"#f22c40\"],\"fill_alpha\":[0.8],\"height\":[20.2],\"label\":[{\"origin\":1,\"yr\":78}],\"line_alpha\":[1.0],\"line_color\":[\"white\"],\"origin\":[1],\"width\":[0.8],\"x\":[\"78\"],\"y\":[31.050000000000004],\"yr\":[78]}},\"id\":\"5fe6111a-709f-4ffd-b1f0-e8571b1f9941\",\"type\":\"ColumnDataSource\"},{\"attributes\":{\"callback\":null,\"column_names\":[\"line_color\",\"line_alpha\",\"color\",\"fill_alpha\",\"height\",\"width\",\"y\",\"x\",\"label\"],\"data\":{\"chart_index\":[{\"origin\":1,\"yr\":79}],\"color\":[\"#f22c40\"],\"fill_alpha\":[0.8],\"height\":[21.5],\"label\":[{\"origin\":1,\"yr\":79}],\"line_alpha\":[1.0],\"line_color\":[\"white\"],\"origin\":[1],\"width\":[0.8],\"x\":[\"79\"],\"y\":[10.75],\"yr\":[79]}},\"id\":\"8008635e-b5f2-4229-a80a-76a8c9a34589\",\"type\":\"ColumnDataSource\"},{\"attributes\":{\"callback\":null,\"column_names\":[\"line_color\",\"line_alpha\",\"color\",\"fill_alpha\",\"height\",\"width\",\"y\",\"x\",\"label\"],\"data\":{\"chart_index\":[{\"origin\":1,\"yr\":81}],\"color\":[\"#f22c40\"],\"fill_alpha\":[0.8],\"height\":[26.6],\"label\":[{\"origin\":1,\"yr\":81}],\"line_alpha\":[1.0],\"line_color\":[\"white\"],\"origin\":[1],\"width\":[0.8],\"x\":[\"81\"],\"y\":[13.3],\"yr\":[81]}},\"id\":\"49ac3faf-a714-4845-bbea-10df905cc63b\",\"type\":\"ColumnDataSource\"},{\"attributes\":{\"callback\":null,\"end\":109.2},\"id\":\"b48197a3-0d5f-45a1-8545-0476bdb6ad8a\",\"type\":\"Range1d\"},{\"attributes\":{\"fill_alpha\":{\"field\":\"fill_alpha\"},\"fill_color\":{\"field\":\"color\"},\"height\":{\"field\":\"height\",\"units\":\"data\"},\"line_color\":{\"field\":\"line_color\"},\"width\":{\"field\":\"width\",\"units\":\"data\"},\"x\":{\"field\":\"x\"},\"y\":{\"field\":\"y\"}},\"id\":\"ea7756ed-fc27-489c-99a4-b0218ffed3a8\",\"type\":\"Rect\"},{\"attributes\":{\"data_source\":{\"id\":\"d80822f8-c953-48e9-9585-cf71f8064170\",\"type\":\"ColumnDataSource\"},\"glyph\":{\"id\":\"651753f4-a1f6-4a9c-a532-1d95783214f4\",\"type\":\"Rect\"},\"hover_glyph\":null,\"nonselection_glyph\":null,\"selection_glyph\":null},\"id\":\"e1465c75-523c-4a32-8428-473edbb50548\",\"type\":\"GlyphRenderer\"},{\"attributes\":{\"callback\":null,\"column_names\":[\"line_color\",\"line_alpha\",\"color\",\"fill_alpha\",\"height\",\"width\",\"y\",\"x\",\"label\"],\"data\":{\"chart_index\":[{\"origin\":2,\"yr\":75}],\"color\":[\"#5ab738\"],\"fill_alpha\":[0.8],\"height\":[24.0],\"label\":[{\"origin\":2,\"yr\":75}],\"line_alpha\":[1.0],\"line_color\":[\"white\"],\"origin\":[2],\"width\":[0.8],\"x\":[\"75\"],\"y\":[56.0],\"yr\":[75]}},\"id\":\"bcc26d24-d908-405b-9b3c-da665f670709\",\"type\":\"ColumnDataSource\"},{\"attributes\":{\"axis_label\":\"Yr\",\"formatter\":{\"id\":\"36308061-ff14-402f-80f3-a10495b7e2fc\",\"type\":\"CategoricalTickFormatter\"},\"major_label_orientation\":0.7853981633974483,\"plot\":{\"id\":\"0cf925e9-ab36-46b8-985b-6a8ed03de13e\",\"subtype\":\"Chart\",\"type\":\"Plot\"},\"ticker\":{\"id\":\"4a268cf6-8eb1-4eb5-9d20-7215251f2311\",\"type\":\"CategoricalTicker\"}},\"id\":\"992988bc-f71a-47cb-9380-4c8417771d77\",\"type\":\"CategoricalAxis\"},{\"attributes\":{\"callback\":null,\"column_names\":[\"line_color\",\"line_alpha\",\"color\",\"fill_alpha\",\"height\",\"width\",\"y\",\"x\",\"label\"],\"data\":{\"chart_index\":[{\"origin\":1,\"yr\":74}],\"color\":[\"#f22c40\"],\"fill_alpha\":[0.8],\"height\":[16.0],\"label\":[{\"origin\":1,\"yr\":74}],\"line_alpha\":[1.0],\"line_color\":[\"white\"],\"origin\":[1],\"width\":[0.8],\"x\":[\"74\"],\"y\":[8.0],\"yr\":[74]}},\"id\":\"7ce94a55-4010-4baa-b66f-d151f6f714a9\",\"type\":\"ColumnDataSource\"},{\"attributes\":{\"callback\":null,\"column_names\":[\"line_color\",\"line_alpha\",\"color\",\"fill_alpha\",\"height\",\"width\",\"y\",\"x\",\"label\"],\"data\":{\"chart_index\":[{\"origin\":2,\"yr\":79}],\"color\":[\"#5ab738\"],\"fill_alpha\":[0.8],\"height\":[29.549999999999997],\"label\":[{\"origin\":2,\"yr\":79}],\"line_alpha\":[1.0],\"line_color\":[\"white\"],\"origin\":[2],\"width\":[0.8],\"x\":[\"79\"],\"y\":[36.275],\"yr\":[79]}},\"id\":\"d1412c67-aea4-46a3-ad7c-ab01058d74e0\",\"type\":\"ColumnDataSource\"},{\"attributes\":{\"fill_alpha\":{\"field\":\"fill_alpha\"},\"fill_color\":{\"field\":\"color\"},\"height\":{\"field\":\"height\",\"units\":\"data\"},\"line_color\":{\"field\":\"line_color\"},\"width\":{\"field\":\"width\",\"units\":\"data\"},\"x\":{\"field\":\"x\"},\"y\":{\"field\":\"y\"}},\"id\":\"651753f4-a1f6-4a9c-a532-1d95783214f4\",\"type\":\"Rect\"},{\"attributes\":{\"fill_alpha\":{\"field\":\"fill_alpha\"},\"fill_color\":{\"field\":\"color\"},\"height\":{\"field\":\"height\",\"units\":\"data\"},\"line_color\":{\"field\":\"line_color\"},\"width\":{\"field\":\"width\",\"units\":\"data\"},\"x\":{\"field\":\"x\"},\"y\":{\"field\":\"y\"}},\"id\":\"adf576d4-edcc-47d7-9d6c-76c5d51ee25d\",\"type\":\"Rect\"},{\"attributes\":{\"fill_alpha\":{\"field\":\"fill_alpha\"},\"fill_color\":{\"field\":\"color\"},\"height\":{\"field\":\"height\",\"units\":\"data\"},\"line_color\":{\"field\":\"line_color\"},\"width\":{\"field\":\"width\",\"units\":\"data\"},\"x\":{\"field\":\"x\"},\"y\":{\"field\":\"y\"}},\"id\":\"fe789682-3c18-4da6-89d7-b5e6ad8f719c\",\"type\":\"Rect\"},{\"attributes\":{},\"id\":\"36308061-ff14-402f-80f3-a10495b7e2fc\",\"type\":\"CategoricalTickFormatter\"},{\"attributes\":{\"data_source\":{\"id\":\"bcc26d24-d908-405b-9b3c-da665f670709\",\"type\":\"ColumnDataSource\"},\"glyph\":{\"id\":\"985585bd-3977-491e-b098-5092c50efcfd\",\"type\":\"Rect\"},\"hover_glyph\":null,\"nonselection_glyph\":null,\"selection_glyph\":null},\"id\":\"13bf433a-f53c-4f85-b2e2-a828fdec7884\",\"type\":\"GlyphRenderer\"},{\"attributes\":{\"data_source\":{\"id\":\"475f7d8f-2893-4f97-b5ed-946a0bc090aa\",\"type\":\"ColumnDataSource\"},\"glyph\":{\"id\":\"ab40d026-38a9-4813-99ee-361a5a0b9614\",\"type\":\"Rect\"},\"hover_glyph\":null,\"nonselection_glyph\":null,\"selection_glyph\":null},\"id\":\"a8926852-c8f4-4431-85ed-f758c20bb700\",\"type\":\"GlyphRenderer\"},{\"attributes\":{\"callback\":null,\"column_names\":[\"line_color\",\"line_alpha\",\"color\",\"fill_alpha\",\"height\",\"width\",\"y\",\"x\",\"label\"],\"data\":{\"chart_index\":[{\"origin\":1,\"yr\":73}],\"color\":[\"#f22c40\"],\"fill_alpha\":[0.8],\"height\":[14.0],\"label\":[{\"origin\":1,\"yr\":73}],\"line_alpha\":[1.0],\"line_color\":[\"white\"],\"origin\":[1],\"width\":[0.8],\"x\":[\"73\"],\"y\":[7.0],\"yr\":[73]}},\"id\":\"e20db0e3-6f62-49ac-a409-c4b996aae904\",\"type\":\"ColumnDataSource\"},{\"attributes\":{\"data_source\":{\"id\":\"3aaa66b0-0b58-46ba-9cfa-e200c8acfb4a\",\"type\":\"ColumnDataSource\"},\"glyph\":{\"id\":\"0bd52d16-be50-43fd-85a6-cf00d03f1e82\",\"type\":\"Rect\"},\"hover_glyph\":null,\"nonselection_glyph\":null,\"selection_glyph\":null},\"id\":\"07194a2f-d370-4ad9-bba4-dd7f1935dff0\",\"type\":\"GlyphRenderer\"},{\"attributes\":{\"callback\":null,\"column_names\":[\"line_color\",\"line_alpha\",\"color\",\"fill_alpha\",\"height\",\"width\",\"y\",\"x\",\"label\"],\"data\":{\"chart_index\":[{\"origin\":3,\"yr\":78}],\"color\":[\"#407ee7\"],\"fill_alpha\":[0.8],\"height\":[28.5],\"label\":[{\"origin\":3,\"yr\":78}],\"line_alpha\":[1.0],\"line_color\":[\"white\"],\"origin\":[3],\"width\":[0.8],\"x\":[\"78\"],\"y\":[55.400000000000006],\"yr\":[78]}},\"id\":\"12740ac6-56d4-411c-8a29-ac8bf88d9f6b\",\"type\":\"ColumnDataSource\"},{\"attributes\":{\"data_source\":{\"id\":\"b93ac699-c0cd-425c-bad9-30c377c4870c\",\"type\":\"ColumnDataSource\"},\"glyph\":{\"id\":\"852b9a69-eb19-4ce9-a630-9e70fd700c5e\",\"type\":\"Rect\"},\"hover_glyph\":null,\"nonselection_glyph\":null,\"selection_glyph\":null},\"id\":\"35a0b209-70e3-4f67-9f7d-55d41763e771\",\"type\":\"GlyphRenderer\"},{\"attributes\":{\"callback\":null,\"column_names\":[\"line_color\",\"line_alpha\",\"color\",\"fill_alpha\",\"height\",\"width\",\"y\",\"x\",\"label\"],\"data\":{\"chart_index\":[{\"origin\":2,\"yr\":71}],\"color\":[\"#5ab738\"],\"fill_alpha\":[0.8],\"height\":[29.0],\"label\":[{\"origin\":2,\"yr\":71}],\"line_alpha\":[1.0],\"line_color\":[\"white\"],\"origin\":[2],\"width\":[0.8],\"x\":[\"71\"],\"y\":[61.5],\"yr\":[71]}},\"id\":\"950bd0ec-0185-46e7-a9df-376056eba135\",\"type\":\"ColumnDataSource\"},{\"attributes\":{\"callback\":null,\"column_names\":[\"line_color\",\"line_alpha\",\"color\",\"fill_alpha\",\"height\",\"width\",\"y\",\"x\",\"label\"],\"data\":{\"chart_index\":[{\"origin\":1,\"yr\":75}],\"color\":[\"#f22c40\"],\"fill_alpha\":[0.8],\"height\":[17.5],\"label\":[{\"origin\":1,\"yr\":75}],\"line_alpha\":[1.0],\"line_color\":[\"white\"],\"origin\":[1],\"width\":[0.8],\"x\":[\"75\"],\"y\":[8.75],\"yr\":[75]}},\"id\":\"808e205b-922f-46b4-9f83-50d9ac2d2620\",\"type\":\"ColumnDataSource\"},{\"attributes\":{\"callback\":null,\"column_names\":[\"line_color\",\"line_alpha\",\"color\",\"fill_alpha\",\"height\",\"width\",\"y\",\"x\",\"label\"],\"data\":{\"chart_index\":[{\"origin\":2,\"yr\":77}],\"color\":[\"#5ab738\"],\"fill_alpha\":[0.8],\"height\":[29.75],\"label\":[{\"origin\":2,\"yr\":77}],\"line_alpha\":[1.0],\"line_color\":[\"white\"],\"origin\":[2],\"width\":[0.8],\"x\":[\"77\"],\"y\":[60.875],\"yr\":[77]}},\"id\":\"6b3210fb-418a-4c1d-937a-dd39b2204661\",\"type\":\"ColumnDataSource\"},{\"attributes\":{\"data_source\":{\"id\":\"7ce94a55-4010-4baa-b66f-d151f6f714a9\",\"type\":\"ColumnDataSource\"},\"glyph\":{\"id\":\"30630de4-a452-425e-a9a4-d43100276e1e\",\"type\":\"Rect\"},\"hover_glyph\":null,\"nonselection_glyph\":null,\"selection_glyph\":null},\"id\":\"1bdd7a45-ad3b-4f5d-94b4-0a6acb271a4b\",\"type\":\"GlyphRenderer\"},{\"attributes\":{\"fill_alpha\":{\"field\":\"fill_alpha\"},\"fill_color\":{\"field\":\"color\"},\"height\":{\"field\":\"height\",\"units\":\"data\"},\"line_color\":{\"field\":\"line_color\"},\"width\":{\"field\":\"width\",\"units\":\"data\"},\"x\":{\"field\":\"x\"},\"y\":{\"field\":\"y\"}},\"id\":\"9acbc1dc-e596-435f-b56c-d2af24047241\",\"type\":\"Rect\"},{\"attributes\":{\"data_source\":{\"id\":\"950bd0ec-0185-46e7-a9df-376056eba135\",\"type\":\"ColumnDataSource\"},\"glyph\":{\"id\":\"77feef18-2f69-465d-a8d5-933e82954aa1\",\"type\":\"Rect\"},\"hover_glyph\":null,\"nonselection_glyph\":null,\"selection_glyph\":null},\"id\":\"9495ee66-17dc-4c3b-ac0a-c1e0166b0d52\",\"type\":\"GlyphRenderer\"},{\"attributes\":{\"active_drag\":\"auto\",\"active_scroll\":\"auto\",\"active_tap\":\"auto\",\"tools\":[{\"id\":\"c36dbfce-655a-4767-b517-c1b703aa037c\",\"type\":\"CrosshairTool\"}]},\"id\":\"bba8119a-4b4f-4b2e-9faa-a2b94ec8a0ef\",\"type\":\"Toolbar\"},{\"attributes\":{\"fill_alpha\":{\"field\":\"fill_alpha\"},\"fill_color\":{\"field\":\"color\"},\"height\":{\"field\":\"height\",\"units\":\"data\"},\"line_color\":{\"field\":\"line_color\"},\"width\":{\"field\":\"width\",\"units\":\"data\"},\"x\":{\"field\":\"x\"},\"y\":{\"field\":\"y\"}},\"id\":\"7535a2a8-7228-4a71-aa58-f6f4625ae593\",\"type\":\"Rect\"},{\"attributes\":{\"callback\":null,\"column_names\":[\"line_color\",\"line_alpha\",\"color\",\"fill_alpha\",\"height\",\"width\",\"y\",\"x\",\"label\"],\"data\":{\"chart_index\":[{\"origin\":3,\"yr\":73}],\"color\":[\"#407ee7\"],\"fill_alpha\":[0.8],\"height\":[20.0],\"label\":[{\"origin\":3,\"yr\":73}],\"line_alpha\":[1.0],\"line_color\":[\"white\"],\"origin\":[3],\"width\":[0.8],\"x\":[\"73\"],\"y\":[48.0],\"yr\":[73]}},\"id\":\"bd28ff29-0037-45e4-932d-19f1dc2e2143\",\"type\":\"ColumnDataSource\"},{\"attributes\":{\"callback\":null,\"column_names\":[\"line_color\",\"line_alpha\",\"color\",\"fill_alpha\",\"height\",\"width\",\"y\",\"x\",\"label\"],\"data\":{\"chart_index\":[{\"origin\":2,\"yr\":73}],\"color\":[\"#5ab738\"],\"fill_alpha\":[0.8],\"height\":[24.0],\"label\":[{\"origin\":2,\"yr\":73}],\"line_alpha\":[1.0],\"line_color\":[\"white\"],\"origin\":[2],\"width\":[0.8],\"x\":[\"73\"],\"y\":[26.0],\"yr\":[73]}},\"id\":\"b1c7d331-60b3-4395-80e7-0e72f9901f14\",\"type\":\"ColumnDataSource\"},{\"attributes\":{\"fill_alpha\":{\"field\":\"fill_alpha\"},\"fill_color\":{\"field\":\"color\"},\"height\":{\"field\":\"height\",\"units\":\"data\"},\"line_color\":{\"field\":\"line_color\"},\"width\":{\"field\":\"width\",\"units\":\"data\"},\"x\":{\"field\":\"x\"},\"y\":{\"field\":\"y\"}},\"id\":\"d657daac-5406-446c-9aad-3ced1a055446\",\"type\":\"Rect\"},{\"attributes\":{\"callback\":null,\"column_names\":[\"line_color\",\"line_alpha\",\"color\",\"fill_alpha\",\"height\",\"width\",\"y\",\"x\",\"label\"],\"data\":{\"chart_index\":[{\"origin\":1,\"yr\":72}],\"color\":[\"#f22c40\"],\"fill_alpha\":[0.8],\"height\":[14.0],\"label\":[{\"origin\":1,\"yr\":72}],\"line_alpha\":[1.0],\"line_color\":[\"white\"],\"origin\":[1],\"width\":[0.8],\"x\":[\"72\"],\"y\":[31.0],\"yr\":[72]}},\"id\":\"70bfd594-47d6-4ecc-b99d-1e8f42774a89\",\"type\":\"ColumnDataSource\"},{\"attributes\":{\"callback\":null,\"column_names\":[\"line_color\",\"line_alpha\",\"color\",\"fill_alpha\",\"height\",\"width\",\"y\",\"x\",\"label\"],\"data\":{\"chart_index\":[{\"origin\":3,\"yr\":82}],\"color\":[\"#407ee7\"],\"fill_alpha\":[0.8],\"height\":[36.0],\"label\":[{\"origin\":3,\"yr\":82}],\"line_alpha\":[1.0],\"line_color\":[\"white\"],\"origin\":[3],\"width\":[0.8],\"x\":[\"82\"],\"y\":[86.0],\"yr\":[82]}},\"id\":\"f5a5c22a-50f8-4cff-8b27-d7fcac6fb8e5\",\"type\":\"ColumnDataSource\"},{\"attributes\":{\"data_source\":{\"id\":\"2e14b118-3209-44c5-b1ee-989fdecec665\",\"type\":\"ColumnDataSource\"},\"glyph\":{\"id\":\"75620c93-38e9-4e52-bb20-ceecdc3e69c5\",\"type\":\"Rect\"},\"hover_glyph\":null,\"nonselection_glyph\":null,\"selection_glyph\":null},\"id\":\"3d8ec29b-9253-400e-a386-e5534487495e\",\"type\":\"GlyphRenderer\"},{\"attributes\":{\"callback\":null,\"column_names\":[\"line_color\",\"line_alpha\",\"color\",\"fill_alpha\",\"height\",\"width\",\"y\",\"x\",\"label\"],\"data\":{\"chart_index\":[{\"origin\":1,\"yr\":77}],\"color\":[\"#f22c40\"],\"fill_alpha\":[0.8],\"height\":[18.0],\"label\":[{\"origin\":1,\"yr\":77}],\"line_alpha\":[1.0],\"line_color\":[\"white\"],\"origin\":[1],\"width\":[0.8],\"x\":[\"77\"],\"y\":[37.0],\"yr\":[77]}},\"id\":\"a3cbbde2-f73d-451b-886a-3792f8e00dd4\",\"type\":\"ColumnDataSource\"},{\"attributes\":{\"data_source\":{\"id\":\"808e205b-922f-46b4-9f83-50d9ac2d2620\",\"type\":\"ColumnDataSource\"},\"glyph\":{\"id\":\"15b9d76b-7e77-44b6-a0c9-9d81537284e7\",\"type\":\"Rect\"},\"hover_glyph\":null,\"nonselection_glyph\":null,\"selection_glyph\":null},\"id\":\"bf520b0c-631f-46f2-b449-91c775339814\",\"type\":\"GlyphRenderer\"},{\"attributes\":{\"fill_alpha\":{\"field\":\"fill_alpha\"},\"fill_color\":{\"field\":\"color\"},\"height\":{\"field\":\"height\",\"units\":\"data\"},\"line_color\":{\"field\":\"line_color\"},\"width\":{\"field\":\"width\",\"units\":\"data\"},\"x\":{\"field\":\"x\"},\"y\":{\"field\":\"y\"}},\"id\":\"77feef18-2f69-465d-a8d5-933e82954aa1\",\"type\":\"Rect\"},{\"attributes\":{\"callback\":null,\"column_names\":[\"line_color\",\"line_alpha\",\"color\",\"fill_alpha\",\"height\",\"width\",\"y\",\"x\",\"label\"],\"data\":{\"chart_index\":[{\"origin\":3,\"yr\":77}],\"color\":[\"#407ee7\"],\"fill_alpha\":[0.8],\"height\":[28.0],\"label\":[{\"origin\":3,\"yr\":77}],\"line_alpha\":[1.0],\"line_color\":[\"white\"],\"origin\":[3],\"width\":[0.8],\"x\":[\"77\"],\"y\":[14.0],\"yr\":[77]}},\"id\":\"eae4c5c7-bed2-4688-920f-6a0995163f51\",\"type\":\"ColumnDataSource\"},{\"attributes\":{\"callback\":null,\"column_names\":[\"line_color\",\"line_alpha\",\"color\",\"fill_alpha\",\"height\",\"width\",\"y\",\"x\",\"label\"],\"data\":{\"chart_index\":[{\"origin\":2,\"yr\":78}],\"color\":[\"#5ab738\"],\"fill_alpha\":[0.8],\"height\":[20.950000000000003],\"label\":[{\"origin\":2,\"yr\":78}],\"line_alpha\":[1.0],\"line_color\":[\"white\"],\"origin\":[2],\"width\":[0.8],\"x\":[\"78\"],\"y\":[10.475000000000001],\"yr\":[78]}},\"id\":\"8e61ad06-37cf-47ac-ad67-ef838de9e091\",\"type\":\"ColumnDataSource\"},{\"attributes\":{\"fill_alpha\":{\"field\":\"fill_alpha\"},\"fill_color\":{\"field\":\"color\"},\"height\":{\"field\":\"height\",\"units\":\"data\"},\"line_color\":{\"field\":\"line_color\"},\"width\":{\"field\":\"width\",\"units\":\"data\"},\"x\":{\"field\":\"x\"},\"y\":{\"field\":\"y\"}},\"id\":\"15b9d76b-7e77-44b6-a0c9-9d81537284e7\",\"type\":\"Rect\"},{\"attributes\":{\"callback\":null,\"factors\":[\"70\",\"71\",\"72\",\"73\",\"74\",\"75\",\"76\",\"77\",\"78\",\"79\",\"80\",\"81\",\"82\"]},\"id\":\"bca9f5f4-51a4-4be7-96f1-104945267085\",\"type\":\"FactorRange\"},{\"attributes\":{\"callback\":null,\"column_names\":[\"line_color\",\"line_alpha\",\"color\",\"fill_alpha\",\"height\",\"width\",\"y\",\"x\",\"label\"],\"data\":{\"chart_index\":[{\"origin\":1,\"yr\":71}],\"color\":[\"#f22c40\"],\"fill_alpha\":[0.8],\"height\":[18.0],\"label\":[{\"origin\":1,\"yr\":71}],\"line_alpha\":[1.0],\"line_color\":[\"white\"],\"origin\":[1],\"width\":[0.8],\"x\":[\"71\"],\"y\":[38.0],\"yr\":[71]}},\"id\":\"f17cd48e-d446-4699-8e57-906097cc6b03\",\"type\":\"ColumnDataSource\"},{\"attributes\":{\"data_source\":{\"id\":\"2c83fd3a-a14c-4140-a36a-2a1f6a3733d1\",\"type\":\"ColumnDataSource\"},\"glyph\":{\"id\":\"fe789682-3c18-4da6-89d7-b5e6ad8f719c\",\"type\":\"Rect\"},\"hover_glyph\":null,\"nonselection_glyph\":null,\"selection_glyph\":null},\"id\":\"be397b8b-687d-459d-9c46-e0809a6ceb38\",\"type\":\"GlyphRenderer\"},{\"attributes\":{\"fill_alpha\":{\"field\":\"fill_alpha\"},\"fill_color\":{\"field\":\"color\"},\"height\":{\"field\":\"height\",\"units\":\"data\"},\"line_color\":{\"field\":\"line_color\"},\"width\":{\"field\":\"width\",\"units\":\"data\"},\"x\":{\"field\":\"x\"},\"y\":{\"field\":\"y\"}},\"id\":\"73eb1faf-8856-478e-9264-e2f14a611f76\",\"type\":\"Rect\"},{\"attributes\":{\"fill_alpha\":{\"field\":\"fill_alpha\"},\"fill_color\":{\"field\":\"color\"},\"height\":{\"field\":\"height\",\"units\":\"data\"},\"line_color\":{\"field\":\"line_color\"},\"width\":{\"field\":\"width\",\"units\":\"data\"},\"x\":{\"field\":\"x\"},\"y\":{\"field\":\"y\"}},\"id\":\"97b9cd5d-8305-4989-a8e4-346c5e10934e\",\"type\":\"Rect\"},{\"attributes\":{\"data_source\":{\"id\":\"bd28ff29-0037-45e4-932d-19f1dc2e2143\",\"type\":\"ColumnDataSource\"},\"glyph\":{\"id\":\"009644a6-e3c1-4c26-844c-86b4f3bb1a02\",\"type\":\"Rect\"},\"hover_glyph\":null,\"nonselection_glyph\":null,\"selection_glyph\":null},\"id\":\"216d9d18-ed64-4300-ba3f-6d275a5b2543\",\"type\":\"GlyphRenderer\"},{\"attributes\":{\"callback\":null,\"column_names\":[\"line_color\",\"line_alpha\",\"color\",\"fill_alpha\",\"height\",\"width\",\"y\",\"x\",\"label\"],\"data\":{\"chart_index\":[{\"origin\":1,\"yr\":70}],\"color\":[\"#f22c40\"],\"fill_alpha\":[0.8],\"height\":[15.0],\"label\":[{\"origin\":1,\"yr\":70}],\"line_alpha\":[1.0],\"line_color\":[\"white\"],\"origin\":[1],\"width\":[0.8],\"x\":[\"70\"],\"y\":[7.5],\"yr\":[70]}},\"id\":\"475f7d8f-2893-4f97-b5ed-946a0bc090aa\",\"type\":\"ColumnDataSource\"},{\"attributes\":{\"data_source\":{\"id\":\"8008635e-b5f2-4229-a80a-76a8c9a34589\",\"type\":\"ColumnDataSource\"},\"glyph\":{\"id\":\"7e046b90-b032-4798-ae4d-89316e83b117\",\"type\":\"Rect\"},\"hover_glyph\":null,\"nonselection_glyph\":null,\"selection_glyph\":null},\"id\":\"aed3217c-a035-4c92-bf56-8dc3506a22b9\",\"type\":\"GlyphRenderer\"},{\"attributes\":{\"callback\":null,\"column_names\":[\"line_color\",\"line_alpha\",\"color\",\"fill_alpha\",\"height\",\"width\",\"y\",\"x\",\"label\"],\"data\":{\"chart_index\":[{\"origin\":2,\"yr\":74}],\"color\":[\"#5ab738\"],\"fill_alpha\":[0.8],\"height\":[26.0],\"label\":[{\"origin\":2,\"yr\":74}],\"line_alpha\":[1.0],\"line_color\":[\"white\"],\"origin\":[2],\"width\":[0.8],\"x\":[\"74\"],\"y\":[60.0],\"yr\":[74]}},\"id\":\"34a8b4cd-2ec3-46b4-a978-7530f101e2a2\",\"type\":\"ColumnDataSource\"},{\"attributes\":{\"plot\":{\"id\":\"0cf925e9-ab36-46b8-985b-6a8ed03de13e\",\"subtype\":\"Chart\",\"type\":\"Plot\"}},\"id\":\"c36dbfce-655a-4767-b517-c1b703aa037c\",\"type\":\"CrosshairTool\"},{\"attributes\":{\"data_source\":{\"id\":\"34a8b4cd-2ec3-46b4-a978-7530f101e2a2\",\"type\":\"ColumnDataSource\"},\"glyph\":{\"id\":\"93e2f1a4-f0a0-49d5-9292-0209a07bcdc2\",\"type\":\"Rect\"},\"hover_glyph\":null,\"nonselection_glyph\":null,\"selection_glyph\":null},\"id\":\"84de931c-38ac-48b2-bb92-883f28e48808\",\"type\":\"GlyphRenderer\"},{\"attributes\":{\"data_source\":{\"id\":\"7b7bb079-c330-4dc6-931b-67f05744721b\",\"type\":\"ColumnDataSource\"},\"glyph\":{\"id\":\"3ad778e1-7d0c-4544-bcfb-1f95c815f309\",\"type\":\"Rect\"},\"hover_glyph\":null,\"nonselection_glyph\":null,\"selection_glyph\":null},\"id\":\"8a18c8fd-db83-446f-a97f-ffe922e22604\",\"type\":\"GlyphRenderer\"},{\"attributes\":{\"fill_alpha\":{\"field\":\"fill_alpha\"},\"fill_color\":{\"field\":\"color\"},\"height\":{\"field\":\"height\",\"units\":\"data\"},\"line_color\":{\"field\":\"line_color\"},\"width\":{\"field\":\"width\",\"units\":\"data\"},\"x\":{\"field\":\"x\"},\"y\":{\"field\":\"y\"}},\"id\":\"ad97a940-06d0-425c-9cb8-0e60500c0787\",\"type\":\"Rect\"},{\"attributes\":{\"data_source\":{\"id\":\"e20db0e3-6f62-49ac-a409-c4b996aae904\",\"type\":\"ColumnDataSource\"},\"glyph\":{\"id\":\"0402aebe-8bb9-43b1-9d02-08d2cd606678\",\"type\":\"Rect\"},\"hover_glyph\":null,\"nonselection_glyph\":null,\"selection_glyph\":null},\"id\":\"a16e9493-a3bd-471c-ba78-a5843f1f33e4\",\"type\":\"GlyphRenderer\"},{\"attributes\":{\"fill_alpha\":{\"field\":\"fill_alpha\"},\"fill_color\":{\"field\":\"color\"},\"height\":{\"field\":\"height\",\"units\":\"data\"},\"line_color\":{\"field\":\"line_color\"},\"width\":{\"field\":\"width\",\"units\":\"data\"},\"x\":{\"field\":\"x\"},\"y\":{\"field\":\"y\"}},\"id\":\"0402aebe-8bb9-43b1-9d02-08d2cd606678\",\"type\":\"Rect\"},{\"attributes\":{\"fill_alpha\":{\"field\":\"fill_alpha\"},\"fill_color\":{\"field\":\"color\"},\"height\":{\"field\":\"height\",\"units\":\"data\"},\"line_color\":{\"field\":\"line_color\"},\"width\":{\"field\":\"width\",\"units\":\"data\"},\"x\":{\"field\":\"x\"},\"y\":{\"field\":\"y\"}},\"id\":\"a78651b0-6f5a-4d80-aa89-686182aa3e2e\",\"type\":\"Rect\"},{\"attributes\":{\"callback\":null,\"column_names\":[\"line_color\",\"line_alpha\",\"color\",\"fill_alpha\",\"height\",\"width\",\"y\",\"x\",\"label\"],\"data\":{\"chart_index\":[{\"origin\":2,\"yr\":70}],\"color\":[\"#5ab738\"],\"fill_alpha\":[0.8],\"height\":[25.0],\"label\":[{\"origin\":2,\"yr\":70}],\"line_alpha\":[1.0],\"line_color\":[\"white\"],\"origin\":[2],\"width\":[0.8],\"x\":[\"70\"],\"y\":[53.0],\"yr\":[70]}},\"id\":\"f1ecc92d-a171-4e7b-ac04-1b04219e8a02\",\"type\":\"ColumnDataSource\"},{\"attributes\":{\"data_source\":{\"id\":\"280f6150-f91c-423e-b30a-7a5d18fad418\",\"type\":\"ColumnDataSource\"},\"glyph\":{\"id\":\"89032c0e-5acb-499e-a4b4-5b63bf052d1b\",\"type\":\"Rect\"},\"hover_glyph\":null,\"nonselection_glyph\":null,\"selection_glyph\":null},\"id\":\"e3e4841b-2837-46b1-ad98-e2a5561bcf5c\",\"type\":\"GlyphRenderer\"},{\"attributes\":{\"below\":[{\"id\":\"992988bc-f71a-47cb-9380-4c8417771d77\",\"type\":\"CategoricalAxis\"}],\"left\":[{\"id\":\"fd588ee7-b76b-43d2-a74a-ec9cab3ebcc6\",\"type\":\"LinearAxis\"}],\"renderers\":[{\"id\":\"a8926852-c8f4-4431-85ed-f758c20bb700\",\"type\":\"GlyphRenderer\"},{\"id\":\"c7a06c7c-9e0e-4fd6-92dc-13fe80b2211f\",\"type\":\"GlyphRenderer\"},{\"id\":\"f0b2de84-21e5-43a0-9082-f23c821c7ab0\",\"type\":\"GlyphRenderer\"},{\"id\":\"2669a45b-bdb9-4b33-86c0-014595fc80df\",\"type\":\"GlyphRenderer\"},{\"id\":\"bf0cfccb-ffca-42e4-a3ca-d3e78072415d\",\"type\":\"GlyphRenderer\"},{\"id\":\"9495ee66-17dc-4c3b-ac0a-c1e0166b0d52\",\"type\":\"GlyphRenderer\"},{\"id\":\"2762ac96-0ca8-4463-a6d9-87e4eef0de8a\",\"type\":\"GlyphRenderer\"},{\"id\":\"3039e205-5482-4f71-8bb7-b13ea4bc7fe0\",\"type\":\"GlyphRenderer\"},{\"id\":\"35a0b209-70e3-4f67-9f7d-55d41763e771\",\"type\":\"GlyphRenderer\"},{\"id\":\"a16e9493-a3bd-471c-ba78-a5843f1f33e4\",\"type\":\"GlyphRenderer\"},{\"id\":\"4f54802a-3a43-406c-b814-b06e2132f7b9\",\"type\":\"GlyphRenderer\"},{\"id\":\"216d9d18-ed64-4300-ba3f-6d275a5b2543\",\"type\":\"GlyphRenderer\"},{\"id\":\"1bdd7a45-ad3b-4f5d-94b4-0a6acb271a4b\",\"type\":\"GlyphRenderer\"},{\"id\":\"e2ef4ef0-5893-4c6e-83b9-05a520fab6e1\",\"type\":\"GlyphRenderer\"},{\"id\":\"84de931c-38ac-48b2-bb92-883f28e48808\",\"type\":\"GlyphRenderer\"},{\"id\":\"bf520b0c-631f-46f2-b449-91c775339814\",\"type\":\"GlyphRenderer\"},{\"id\":\"c578a5c7-ffbe-4e15-8b41-e05bc1b202b0\",\"type\":\"GlyphRenderer\"},{\"id\":\"13bf433a-f53c-4f85-b2e2-a828fdec7884\",\"type\":\"GlyphRenderer\"},{\"id\":\"3d8ec29b-9253-400e-a386-e5534487495e\",\"type\":\"GlyphRenderer\"},{\"id\":\"a2512db5-dca3-4ef1-9bcc-f970b3ae57e0\",\"type\":\"GlyphRenderer\"},{\"id\":\"c0088ba7-2159-4d63-82d9-ae6bafe5bba6\",\"type\":\"GlyphRenderer\"},{\"id\":\"25f9ad5e-7989-4c95-becd-dd0c4f04a3d7\",\"type\":\"GlyphRenderer\"},{\"id\":\"3a5525d1-5cff-4006-bae8-3f092ad59bd0\",\"type\":\"GlyphRenderer\"},{\"id\":\"21f00a57-6753-41d1-b322-30ba1332e6c9\",\"type\":\"GlyphRenderer\"},{\"id\":\"03d77675-6cd6-4717-98fa-0c936d499820\",\"type\":\"GlyphRenderer\"},{\"id\":\"dd450700-1bb1-4b43-835c-4e14c76b6996\",\"type\":\"GlyphRenderer\"},{\"id\":\"d59818bb-20df-4a79-b5ea-663ad04e6476\",\"type\":\"GlyphRenderer\"},{\"id\":\"aed3217c-a035-4c92-bf56-8dc3506a22b9\",\"type\":\"GlyphRenderer\"},{\"id\":\"ac2896c2-ed4b-4541-aa9a-4c1306cce2f3\",\"type\":\"GlyphRenderer\"},{\"id\":\"1b21152e-839a-4409-8328-a0f273ec6f48\",\"type\":\"GlyphRenderer\"},{\"id\":\"fef7c772-9f84-49c2-9829-834fdc340c6f\",\"type\":\"GlyphRenderer\"},{\"id\":\"501540e6-0855-44fc-aea1-2867c29d13b8\",\"type\":\"GlyphRenderer\"},{\"id\":\"8a18c8fd-db83-446f-a97f-ffe922e22604\",\"type\":\"GlyphRenderer\"},{\"id\":\"fc91e704-9eff-43eb-a0b8-50d21dedbbbd\",\"type\":\"GlyphRenderer\"},{\"id\":\"e3e4841b-2837-46b1-ad98-e2a5561bcf5c\",\"type\":\"GlyphRenderer\"},{\"id\":\"07194a2f-d370-4ad9-bba4-dd7f1935dff0\",\"type\":\"GlyphRenderer\"},{\"id\":\"e1465c75-523c-4a32-8428-473edbb50548\",\"type\":\"GlyphRenderer\"},{\"id\":\"be397b8b-687d-459d-9c46-e0809a6ceb38\",\"type\":\"GlyphRenderer\"},{\"id\":\"dfd94c52-4f80-4a31-807a-1ae6648bc46a\",\"type\":\"GlyphRenderer\"},{\"id\":\"dcf54877-cc2b-4b94-8c04-bde624b08a3a\",\"type\":\"Legend\"},{\"id\":\"992988bc-f71a-47cb-9380-4c8417771d77\",\"type\":\"CategoricalAxis\"},{\"id\":\"fd588ee7-b76b-43d2-a74a-ec9cab3ebcc6\",\"type\":\"LinearAxis\"},{\"id\":\"cc8fcd01-f3d0-4c4a-a731-edc7c096661a\",\"type\":\"Grid\"}],\"title\":{\"id\":\"0bd3b14d-fad7-4b8b-9ff9-ae7e0af6ebbf\",\"type\":\"Title\"},\"tool_events\":{\"id\":\"04f45655-60af-41e2-b44e-acbc5e43c879\",\"type\":\"ToolEvents\"},\"toolbar\":{\"id\":\"bba8119a-4b4f-4b2e-9faa-a2b94ec8a0ef\",\"type\":\"Toolbar\"},\"x_mapper_type\":\"auto\",\"x_range\":{\"id\":\"bca9f5f4-51a4-4be7-96f1-104945267085\",\"type\":\"FactorRange\"},\"y_mapper_type\":\"auto\",\"y_range\":{\"id\":\"b48197a3-0d5f-45a1-8545-0476bdb6ad8a\",\"type\":\"Range1d\"}},\"id\":\"0cf925e9-ab36-46b8-985b-6a8ed03de13e\",\"subtype\":\"Chart\",\"type\":\"Plot\"},{\"attributes\":{\"callback\":null,\"column_names\":[\"line_color\",\"line_alpha\",\"color\",\"fill_alpha\",\"height\",\"width\",\"y\",\"x\",\"label\"],\"data\":{\"chart_index\":[{\"origin\":3,\"yr\":71}],\"color\":[\"#407ee7\"],\"fill_alpha\":[0.8],\"height\":[29.0],\"label\":[{\"origin\":3,\"yr\":71}],\"line_alpha\":[1.0],\"line_color\":[\"white\"],\"origin\":[3],\"width\":[0.8],\"x\":[\"71\"],\"y\":[14.5],\"yr\":[71]}},\"id\":\"dd52c3d0-f3e3-4460-a348-8807cd5557f0\",\"type\":\"ColumnDataSource\"},{\"attributes\":{\"fill_alpha\":{\"field\":\"fill_alpha\"},\"fill_color\":{\"field\":\"color\"},\"height\":{\"field\":\"height\",\"units\":\"data\"},\"line_color\":{\"field\":\"line_color\"},\"width\":{\"field\":\"width\",\"units\":\"data\"},\"x\":{\"field\":\"x\"},\"y\":{\"field\":\"y\"}},\"id\":\"89032c0e-5acb-499e-a4b4-5b63bf052d1b\",\"type\":\"Rect\"},{\"attributes\":{\"callback\":null,\"column_names\":[\"line_color\",\"line_alpha\",\"color\",\"fill_alpha\",\"height\",\"width\",\"y\",\"x\",\"label\"],\"data\":{\"chart_index\":[{\"origin\":3,\"yr\":80}],\"color\":[\"#407ee7\"],\"fill_alpha\":[0.8],\"height\":[33.8],\"label\":[{\"origin\":3,\"yr\":80}],\"line_alpha\":[1.0],\"line_color\":[\"white\"],\"origin\":[3],\"width\":[0.8],\"x\":[\"80\"],\"y\":[52.6],\"yr\":[80]}},\"id\":\"116f62f1-cfd9-41cf-8445-89e076f47b9a\",\"type\":\"ColumnDataSource\"},{\"attributes\":{\"data_source\":{\"id\":\"b1c7d331-60b3-4395-80e7-0e72f9901f14\",\"type\":\"ColumnDataSource\"},\"glyph\":{\"id\":\"fe01ce0c-0b66-4055-8e53-16ad2b241e64\",\"type\":\"Rect\"},\"hover_glyph\":null,\"nonselection_glyph\":null,\"selection_glyph\":null},\"id\":\"4f54802a-3a43-406c-b814-b06e2132f7b9\",\"type\":\"GlyphRenderer\"},{\"attributes\":{\"data_source\":{\"id\":\"3697e423-e3d5-48e4-a0b5-b23d1a91d7a8\",\"type\":\"ColumnDataSource\"},\"glyph\":{\"id\":\"fcb28706-b50a-4bfb-868f-ea1e8151f602\",\"type\":\"Rect\"},\"hover_glyph\":null,\"nonselection_glyph\":null,\"selection_glyph\":null},\"id\":\"e2ef4ef0-5893-4c6e-83b9-05a520fab6e1\",\"type\":\"GlyphRenderer\"},{\"attributes\":{\"dimension\":1,\"plot\":{\"id\":\"0cf925e9-ab36-46b8-985b-6a8ed03de13e\",\"subtype\":\"Chart\",\"type\":\"Plot\"},\"ticker\":{\"id\":\"bf81c03c-614c-4c9a-80e8-8b9c6a4a02d0\",\"type\":\"BasicTicker\"}},\"id\":\"cc8fcd01-f3d0-4c4a-a731-edc7c096661a\",\"type\":\"Grid\"},{\"attributes\":{\"fill_alpha\":{\"field\":\"fill_alpha\"},\"fill_color\":{\"field\":\"color\"},\"height\":{\"field\":\"height\",\"units\":\"data\"},\"line_color\":{\"field\":\"line_color\"},\"width\":{\"field\":\"width\",\"units\":\"data\"},\"x\":{\"field\":\"x\"},\"y\":{\"field\":\"y\"}},\"id\":\"0489151d-50f2-4d87-99ad-40644e3790e3\",\"type\":\"Rect\"},{\"attributes\":{\"fill_alpha\":{\"field\":\"fill_alpha\"},\"fill_color\":{\"field\":\"color\"},\"height\":{\"field\":\"height\",\"units\":\"data\"},\"line_color\":{\"field\":\"line_color\"},\"width\":{\"field\":\"width\",\"units\":\"data\"},\"x\":{\"field\":\"x\"},\"y\":{\"field\":\"y\"}},\"id\":\"b6d39e3f-c9fd-4b36-b9d6-b5fcfe7fd869\",\"type\":\"Rect\"},{\"attributes\":{\"callback\":null,\"column_names\":[\"line_color\",\"line_alpha\",\"color\",\"fill_alpha\",\"height\",\"width\",\"y\",\"x\",\"label\"],\"data\":{\"chart_index\":[{\"origin\":2,\"yr\":80}],\"color\":[\"#5ab738\"],\"fill_alpha\":[0.8],\"height\":[35.7],\"label\":[{\"origin\":2,\"yr\":80}],\"line_alpha\":[1.0],\"line_color\":[\"white\"],\"origin\":[2],\"width\":[0.8],\"x\":[\"80\"],\"y\":[17.85],\"yr\":[80]}},\"id\":\"e3e60b01-b810-44ef-a95c-253cb8012a6e\",\"type\":\"ColumnDataSource\"},{\"attributes\":{\"fill_alpha\":{\"field\":\"fill_alpha\"},\"fill_color\":{\"field\":\"color\"},\"height\":{\"field\":\"height\",\"units\":\"data\"},\"line_color\":{\"field\":\"line_color\"},\"width\":{\"field\":\"width\",\"units\":\"data\"},\"x\":{\"field\":\"x\"},\"y\":{\"field\":\"y\"}},\"id\":\"009644a6-e3c1-4c26-844c-86b4f3bb1a02\",\"type\":\"Rect\"},{\"attributes\":{\"data_source\":{\"id\":\"5fe6111a-709f-4ffd-b1f0-e8571b1f9941\",\"type\":\"ColumnDataSource\"},\"glyph\":{\"id\":\"6c8c9be1-e683-43ed-84ae-f7e02846d91e\",\"type\":\"Rect\"},\"hover_glyph\":null,\"nonselection_glyph\":null,\"selection_glyph\":null},\"id\":\"dd450700-1bb1-4b43-835c-4e14c76b6996\",\"type\":\"GlyphRenderer\"},{\"attributes\":{\"fill_alpha\":{\"field\":\"fill_alpha\"},\"fill_color\":{\"field\":\"color\"},\"height\":{\"field\":\"height\",\"units\":\"data\"},\"line_color\":{\"field\":\"line_color\"},\"width\":{\"field\":\"width\",\"units\":\"data\"},\"x\":{\"field\":\"x\"},\"y\":{\"field\":\"y\"}},\"id\":\"93e2f1a4-f0a0-49d5-9292-0209a07bcdc2\",\"type\":\"Rect\"},{\"attributes\":{},\"id\":\"4a268cf6-8eb1-4eb5-9d20-7215251f2311\",\"type\":\"CategoricalTicker\"},{\"attributes\":{},\"id\":\"7116d9ff-256d-41a8-ae89-eed3dcb9c77a\",\"type\":\"BasicTickFormatter\"},{\"attributes\":{},\"id\":\"bf81c03c-614c-4c9a-80e8-8b9c6a4a02d0\",\"type\":\"BasicTicker\"},{\"attributes\":{\"fill_alpha\":{\"field\":\"fill_alpha\"},\"fill_color\":{\"field\":\"color\"},\"height\":{\"field\":\"height\",\"units\":\"data\"},\"line_color\":{\"field\":\"line_color\"},\"width\":{\"field\":\"width\",\"units\":\"data\"},\"x\":{\"field\":\"x\"},\"y\":{\"field\":\"y\"}},\"id\":\"f0637279-ad1e-40b8-a4b5-6e4d88a86b73\",\"type\":\"Rect\"},{\"attributes\":{\"fill_alpha\":{\"field\":\"fill_alpha\"},\"fill_color\":{\"field\":\"color\"},\"height\":{\"field\":\"height\",\"units\":\"data\"},\"line_color\":{\"field\":\"line_color\"},\"width\":{\"field\":\"width\",\"units\":\"data\"},\"x\":{\"field\":\"x\"},\"y\":{\"field\":\"y\"}},\"id\":\"92689053-ccd4-4f56-bc94-f4d39bdc4a23\",\"type\":\"Rect\"},{\"attributes\":{\"fill_alpha\":{\"field\":\"fill_alpha\"},\"fill_color\":{\"field\":\"color\"},\"height\":{\"field\":\"height\",\"units\":\"data\"},\"line_color\":{\"field\":\"line_color\"},\"width\":{\"field\":\"width\",\"units\":\"data\"},\"x\":{\"field\":\"x\"},\"y\":{\"field\":\"y\"}},\"id\":\"30630de4-a452-425e-a9a4-d43100276e1e\",\"type\":\"Rect\"},{\"attributes\":{\"data_source\":{\"id\":\"8e61ad06-37cf-47ac-ad67-ef838de9e091\",\"type\":\"ColumnDataSource\"},\"glyph\":{\"id\":\"ea7756ed-fc27-489c-99a4-b0218ffed3a8\",\"type\":\"Rect\"},\"hover_glyph\":null,\"nonselection_glyph\":null,\"selection_glyph\":null},\"id\":\"03d77675-6cd6-4717-98fa-0c936d499820\",\"type\":\"GlyphRenderer\"},{\"attributes\":{\"callback\":null,\"column_names\":[\"line_color\",\"line_alpha\",\"color\",\"fill_alpha\",\"height\",\"width\",\"y\",\"x\",\"label\"],\"data\":{\"chart_index\":[{\"origin\":3,\"yr\":70}],\"color\":[\"#407ee7\"],\"fill_alpha\":[0.8],\"height\":[25.5],\"label\":[{\"origin\":3,\"yr\":70}],\"line_alpha\":[1.0],\"line_color\":[\"white\"],\"origin\":[3],\"width\":[0.8],\"x\":[\"70\"],\"y\":[27.75],\"yr\":[70]}},\"id\":\"fa2160f6-5366-4274-b25d-5c3e8ca1eb45\",\"type\":\"ColumnDataSource\"},{\"attributes\":{\"callback\":null,\"column_names\":[\"line_color\",\"line_alpha\",\"color\",\"fill_alpha\",\"height\",\"width\",\"y\",\"x\",\"label\"],\"data\":{\"chart_index\":[{\"origin\":2,\"yr\":82}],\"color\":[\"#5ab738\"],\"fill_alpha\":[0.8],\"height\":[40.0],\"label\":[{\"origin\":2,\"yr\":82}],\"line_alpha\":[1.0],\"line_color\":[\"white\"],\"origin\":[2],\"width\":[0.8],\"x\":[\"82\"],\"y\":[48.0],\"yr\":[82]}},\"id\":\"2c83fd3a-a14c-4140-a36a-2a1f6a3733d1\",\"type\":\"ColumnDataSource\"},{\"attributes\":{\"callback\":null,\"column_names\":[\"line_color\",\"line_alpha\",\"color\",\"fill_alpha\",\"height\",\"width\",\"y\",\"x\",\"label\"],\"data\":{\"chart_index\":[{\"origin\":3,\"yr\":81}],\"color\":[\"#407ee7\"],\"fill_alpha\":[0.8],\"height\":[33.3],\"label\":[{\"origin\":3,\"yr\":81}],\"line_alpha\":[1.0],\"line_color\":[\"white\"],\"origin\":[3],\"width\":[0.8],\"x\":[\"81\"],\"y\":[43.25],\"yr\":[81]}},\"id\":\"280f6150-f91c-423e-b30a-7a5d18fad418\",\"type\":\"ColumnDataSource\"},{\"attributes\":{\"data_source\":{\"id\":\"e3e60b01-b810-44ef-a95c-253cb8012a6e\",\"type\":\"ColumnDataSource\"},\"glyph\":{\"id\":\"05b3209a-7130-41ac-bc16-04ea6a3a7be8\",\"type\":\"Rect\"},\"hover_glyph\":null,\"nonselection_glyph\":null,\"selection_glyph\":null},\"id\":\"fef7c772-9f84-49c2-9829-834fdc340c6f\",\"type\":\"GlyphRenderer\"},{\"attributes\":{\"callback\":null,\"column_names\":[\"line_color\",\"line_alpha\",\"color\",\"fill_alpha\",\"height\",\"width\",\"y\",\"x\",\"label\"],\"data\":{\"chart_index\":[{\"origin\":3,\"yr\":75}],\"color\":[\"#407ee7\"],\"fill_alpha\":[0.8],\"height\":[26.5],\"label\":[{\"origin\":3,\"yr\":75}],\"line_alpha\":[1.0],\"line_color\":[\"white\"],\"origin\":[3],\"width\":[0.8],\"x\":[\"75\"],\"y\":[30.75],\"yr\":[75]}},\"id\":\"00a7a965-65a7-4116-8d87-bda62119c917\",\"type\":\"ColumnDataSource\"},{\"attributes\":{\"data_source\":{\"id\":\"f5a5c22a-50f8-4cff-8b27-d7fcac6fb8e5\",\"type\":\"ColumnDataSource\"},\"glyph\":{\"id\":\"97b9cd5d-8305-4989-a8e4-346c5e10934e\",\"type\":\"Rect\"},\"hover_glyph\":null,\"nonselection_glyph\":null,\"selection_glyph\":null},\"id\":\"dfd94c52-4f80-4a31-807a-1ae6648bc46a\",\"type\":\"GlyphRenderer\"},{\"attributes\":{\"fill_alpha\":{\"field\":\"fill_alpha\"},\"fill_color\":{\"field\":\"color\"},\"height\":{\"field\":\"height\",\"units\":\"data\"},\"line_color\":{\"field\":\"line_color\"},\"width\":{\"field\":\"width\",\"units\":\"data\"},\"x\":{\"field\":\"x\"},\"y\":{\"field\":\"y\"}},\"id\":\"ab40d026-38a9-4813-99ee-361a5a0b9614\",\"type\":\"Rect\"}],\"root_ids\":[\"0cf925e9-ab36-46b8-985b-6a8ed03de13e\"]},\"title\":\"Bokeh Application\",\"version\":\"0.12.1\"}};\n",
       "            var render_items = [{\"docid\":\"ec3e68af-27f6-4bf9-b1bd-f2b51e1b9477\",\"elementid\":\"9529677d-560e-45af-a06b-27d7c9e54ab9\",\"modelid\":\"0cf925e9-ab36-46b8-985b-6a8ed03de13e\",\"notebook_comms_target\":\"16c3252b-ac30-4ded-8ab9-ead428e458ef\"}];\n",
       "            \n",
       "            Bokeh.embed.embed_items(docs_json, render_items);\n",
       "        });\n",
       "      },\n",
       "      function(Bokeh) {\n",
       "      }\n",
       "    ];\n",
       "  \n",
       "    function run_inline_js() {\n",
       "      for (var i = 0; i < inline_js.length; i++) {\n",
       "        inline_js[i](window.Bokeh);\n",
       "      }\n",
       "    }\n",
       "  \n",
       "    if (window._bokeh_is_loading === 0) {\n",
       "      console.log(\"Bokeh: BokehJS loaded, going straight to plotting\");\n",
       "      run_inline_js();\n",
       "    } else {\n",
       "      load_libs(js_urls, function() {\n",
       "        console.log(\"Bokeh: BokehJS plotting callback run at\", now());\n",
       "        run_inline_js();\n",
       "      });\n",
       "    }\n",
       "  }(this));\n",
       "</script>"
      ]
     },
     "metadata": {},
     "output_type": "display_data"
    },
    {
     "data": {
      "text/html": [
       "<p><code>&lt;Bokeh Notebook handle for <strong>In[23]</strong>&gt;</code></p>"
      ],
      "text/plain": [
       "<bokeh.io._CommsHandle at 0x10bf9ff10>"
      ]
     },
     "execution_count": 23,
     "metadata": {},
     "output_type": "execute_result"
    }
   ],
   "source": [
    "# EXERCISE: change the chart above to stack the bars with title \"Median MPG by YR, stacked by ORIGIN\"\n",
    "p = Bar(autompg, label='yr', values='mpg', agg='median', stack='origin', \n",
    "        title=\"Median MPG by YR, grouped by ORIGIN\", legend='top_left', tools='crosshair')\n",
    "show(p)"
   ]
  },
  {
   "cell_type": "markdown",
   "metadata": {},
   "source": [
    "# Histogram\n",
    "\n",
    "A high-level Histogram is provided by [`bokeh.charts.Histogram`]()\n",
    "\n",
    "For this section, we will construct our own synthetic data set that has values generated from two different probability distributions. "
   ]
  },
  {
   "cell_type": "code",
   "execution_count": 25,
   "metadata": {
    "collapsed": true
   },
   "outputs": [],
   "source": [
    "import pandas as pd\n",
    "import numpy as np\n",
    "\n",
    "# build some distributions\n",
    "mu, sigma = 0, 0.5\n",
    "normal = pd.DataFrame({'value': np.random.normal(mu, sigma, 1000), 'type': 'normal'})\n",
    "lognormal = pd.DataFrame({'value': np.random.lognormal(mu, sigma, 1000), 'type': 'lognormal'})"
   ]
  },
  {
   "cell_type": "code",
   "execution_count": 28,
   "metadata": {
    "collapsed": false
   },
   "outputs": [
    {
     "data": {
      "text/plain": [
       "(1000, 2)"
      ]
     },
     "execution_count": 28,
     "metadata": {},
     "output_type": "execute_result"
    }
   ],
   "source": [
    "normal.head()\n",
    "normal.dtypes\n",
    "normal.shape"
   ]
  },
  {
   "cell_type": "code",
   "execution_count": 29,
   "metadata": {
    "collapsed": false
   },
   "outputs": [
    {
     "data": {
      "text/html": [
       "<div>\n",
       "<table border=\"1\" class=\"dataframe\">\n",
       "  <thead>\n",
       "    <tr style=\"text-align: right;\">\n",
       "      <th></th>\n",
       "      <th>type</th>\n",
       "      <th>value</th>\n",
       "    </tr>\n",
       "  </thead>\n",
       "  <tbody>\n",
       "    <tr>\n",
       "      <th>995</th>\n",
       "      <td>normal</td>\n",
       "      <td>0.421019</td>\n",
       "    </tr>\n",
       "    <tr>\n",
       "      <th>996</th>\n",
       "      <td>normal</td>\n",
       "      <td>0.536102</td>\n",
       "    </tr>\n",
       "    <tr>\n",
       "      <th>997</th>\n",
       "      <td>normal</td>\n",
       "      <td>0.733270</td>\n",
       "    </tr>\n",
       "    <tr>\n",
       "      <th>998</th>\n",
       "      <td>normal</td>\n",
       "      <td>-0.351141</td>\n",
       "    </tr>\n",
       "    <tr>\n",
       "      <th>999</th>\n",
       "      <td>normal</td>\n",
       "      <td>0.918870</td>\n",
       "    </tr>\n",
       "    <tr>\n",
       "      <th>0</th>\n",
       "      <td>lognormal</td>\n",
       "      <td>0.745025</td>\n",
       "    </tr>\n",
       "    <tr>\n",
       "      <th>1</th>\n",
       "      <td>lognormal</td>\n",
       "      <td>1.542816</td>\n",
       "    </tr>\n",
       "    <tr>\n",
       "      <th>2</th>\n",
       "      <td>lognormal</td>\n",
       "      <td>0.990685</td>\n",
       "    </tr>\n",
       "    <tr>\n",
       "      <th>3</th>\n",
       "      <td>lognormal</td>\n",
       "      <td>0.422799</td>\n",
       "    </tr>\n",
       "    <tr>\n",
       "      <th>4</th>\n",
       "      <td>lognormal</td>\n",
       "      <td>2.426287</td>\n",
       "    </tr>\n",
       "  </tbody>\n",
       "</table>\n",
       "</div>"
      ],
      "text/plain": [
       "          type     value\n",
       "995     normal  0.421019\n",
       "996     normal  0.536102\n",
       "997     normal  0.733270\n",
       "998     normal -0.351141\n",
       "999     normal  0.918870\n",
       "0    lognormal  0.745025\n",
       "1    lognormal  1.542816\n",
       "2    lognormal  0.990685\n",
       "3    lognormal  0.422799\n",
       "4    lognormal  2.426287"
      ]
     },
     "execution_count": 29,
     "metadata": {},
     "output_type": "execute_result"
    }
   ],
   "source": [
    "# create a pandas data frame\n",
    "df = pd.concat([normal, lognormal])\n",
    "df[995:1005]"
   ]
  },
  {
   "cell_type": "code",
   "execution_count": 30,
   "metadata": {
    "collapsed": true
   },
   "outputs": [],
   "source": [
    "from bokeh.charts import Histogram"
   ]
  },
  {
   "cell_type": "markdown",
   "metadata": {},
   "source": [
    "A basic histogram takes the data as the first parameter, and a column name as the `values` parameter. Optionally, you can also specify the number of bins to use by giving a value for the `bins` parameter. The example below shows the distribution of ***all*** the values (both the \"normal\" and \"lognormal\" values). "
   ]
  },
  {
   "cell_type": "code",
   "execution_count": 31,
   "metadata": {
    "collapsed": false
   },
   "outputs": [
    {
     "data": {
      "text/html": [
       "\n",
       "\n",
       "    <div class=\"bk-root\">\n",
       "        <div class=\"plotdiv\" id=\"b76991a4-dd04-46f1-8549-fbebf178c0d6\"></div>\n",
       "    </div>\n",
       "<script type=\"text/javascript\">\n",
       "  \n",
       "  (function(global) {\n",
       "    function now() {\n",
       "      return new Date();\n",
       "    }\n",
       "  \n",
       "    var force = \"\";\n",
       "  \n",
       "    if (typeof (window._bokeh_onload_callbacks) === \"undefined\" || force !== \"\") {\n",
       "      window._bokeh_onload_callbacks = [];\n",
       "      window._bokeh_is_loading = undefined;\n",
       "    }\n",
       "  \n",
       "    function run_callbacks() {\n",
       "      window._bokeh_onload_callbacks.forEach(function(callback) { callback() });\n",
       "      delete window._bokeh_onload_callbacks\n",
       "      console.info(\"Bokeh: all callbacks have finished\");\n",
       "    }\n",
       "  \n",
       "    function load_libs(js_urls, callback) {\n",
       "      window._bokeh_onload_callbacks.push(callback);\n",
       "      if (window._bokeh_is_loading > 0) {\n",
       "        console.log(\"Bokeh: BokehJS is being loaded, scheduling callback at\", now());\n",
       "        return null;\n",
       "      }\n",
       "      if (js_urls == null || js_urls.length === 0) {\n",
       "        run_callbacks();\n",
       "        return null;\n",
       "      }\n",
       "      console.log(\"Bokeh: BokehJS not loaded, scheduling load and callback at\", now());\n",
       "      window._bokeh_is_loading = js_urls.length;\n",
       "      for (var i = 0; i < js_urls.length; i++) {\n",
       "        var url = js_urls[i];\n",
       "        var s = document.createElement('script');\n",
       "        s.src = url;\n",
       "        s.async = false;\n",
       "        s.onreadystatechange = s.onload = function() {\n",
       "          window._bokeh_is_loading--;\n",
       "          if (window._bokeh_is_loading === 0) {\n",
       "            console.log(\"Bokeh: all BokehJS libraries loaded\");\n",
       "            run_callbacks()\n",
       "          }\n",
       "        };\n",
       "        s.onerror = function() {\n",
       "          console.warn(\"failed to load library \" + url);\n",
       "        };\n",
       "        console.log(\"Bokeh: injecting script tag for BokehJS library: \", url);\n",
       "        document.getElementsByTagName(\"head\")[0].appendChild(s);\n",
       "      }\n",
       "    };var element = document.getElementById(\"b76991a4-dd04-46f1-8549-fbebf178c0d6\");\n",
       "    if (element == null) {\n",
       "      console.log(\"Bokeh: ERROR: autoload.js configured with elementid 'b76991a4-dd04-46f1-8549-fbebf178c0d6' but no matching script tag was found. \")\n",
       "      return false;\n",
       "    }\n",
       "  \n",
       "    var js_urls = [];\n",
       "  \n",
       "    var inline_js = [\n",
       "      function(Bokeh) {\n",
       "        Bokeh.$(function() {\n",
       "            var docs_json = {\"3331fb3c-d209-45b4-8fcf-62f1dfd2744d\":{\"roots\":{\"references\":[{\"attributes\":{\"fill_alpha\":{\"field\":\"fill_alpha\"},\"fill_color\":{\"field\":\"color\"},\"height\":{\"field\":\"height\",\"units\":\"data\"},\"line_color\":{\"field\":\"line_color\"},\"width\":{\"field\":\"width\",\"units\":\"data\"},\"x\":{\"field\":\"x\"},\"y\":{\"field\":\"y\"}},\"id\":\"098b6fef-5a4d-4bb1-a2d3-0f7355871b18\",\"type\":\"Rect\"},{\"attributes\":{\"callback\":null,\"column_names\":[\"line_color\",\"line_alpha\",\"color\",\"fill_alpha\",\"height\",\"width\",\"y\",\"x\",\"label\"],\"data\":{\"chart_index\":[\"(0.7, 0.8]\"],\"color\":[\"#f22c40\"],\"fill_alpha\":[0.8],\"height\":[218.0],\"label\":[\"(0.7, 0.8]\"],\"line_alpha\":[1.0],\"line_color\":[\"black\"],\"width\":[0.1736146240136045],\"x\":[\"0.75\"],\"y\":[109.0]}},\"id\":\"4c83ee92-bc11-4d03-abb4-36551592a53e\",\"type\":\"ColumnDataSource\"},{\"attributes\":{\"data_source\":{\"id\":\"a1c77654-7130-40ff-b4aa-9be85b282d03\",\"type\":\"ColumnDataSource\"},\"glyph\":{\"id\":\"0b70852d-7e7d-4533-903a-820b923a8827\",\"type\":\"Rect\"},\"hover_glyph\":null,\"nonselection_glyph\":null,\"selection_glyph\":null},\"id\":\"46143043-12c2-4e8a-b851-a246a8be30cb\",\"type\":\"GlyphRenderer\"},{\"attributes\":{\"fill_alpha\":{\"field\":\"fill_alpha\"},\"fill_color\":{\"field\":\"color\"},\"height\":{\"field\":\"height\",\"units\":\"data\"},\"line_color\":{\"field\":\"line_color\"},\"width\":{\"field\":\"width\",\"units\":\"data\"},\"x\":{\"field\":\"x\"},\"y\":{\"field\":\"y\"}},\"id\":\"0b70852d-7e7d-4533-903a-820b923a8827\",\"type\":\"Rect\"},{\"attributes\":{},\"id\":\"61d65745-4abf-4645-8553-2bc3237f2745\",\"type\":\"BasicTicker\"},{\"attributes\":{\"callback\":null,\"column_names\":[\"line_color\",\"line_alpha\",\"color\",\"fill_alpha\",\"height\",\"width\",\"y\",\"x\",\"label\"],\"data\":{\"chart_index\":[\"(1.5, 1.7]\"],\"color\":[\"#f22c40\"],\"fill_alpha\":[0.8],\"height\":[62.0],\"label\":[\"(1.5, 1.7]\"],\"line_alpha\":[1.0],\"line_color\":[\"black\"],\"width\":[0.1736146240136045],\"x\":[\"1.6\"],\"y\":[31.0]}},\"id\":\"e8ae19b5-6e82-4120-bf69-29a792bdbfc9\",\"type\":\"ColumnDataSource\"},{\"attributes\":{\"fill_alpha\":{\"field\":\"fill_alpha\"},\"fill_color\":{\"field\":\"color\"},\"height\":{\"field\":\"height\",\"units\":\"data\"},\"line_color\":{\"field\":\"line_color\"},\"width\":{\"field\":\"width\",\"units\":\"data\"},\"x\":{\"field\":\"x\"},\"y\":{\"field\":\"y\"}},\"id\":\"587500d4-9d15-4b4d-baae-1f5aa378c086\",\"type\":\"Rect\"},{\"attributes\":{\"data_source\":{\"id\":\"2c21ceb5-40cb-4f51-9586-e30103dd8a72\",\"type\":\"ColumnDataSource\"},\"glyph\":{\"id\":\"ff1d5d0f-3435-4214-bfe4-b9755548cad2\",\"type\":\"Rect\"},\"hover_glyph\":null,\"nonselection_glyph\":null,\"selection_glyph\":null},\"id\":\"3a43c367-c89b-463d-8587-3c2c717e32ba\",\"type\":\"GlyphRenderer\"},{\"attributes\":{\"callback\":null,\"column_names\":[\"line_color\",\"line_alpha\",\"color\",\"fill_alpha\",\"height\",\"width\",\"y\",\"x\",\"label\"],\"data\":{\"chart_index\":[\"(-0.6, -0.4]\"],\"color\":[\"#f22c40\"],\"fill_alpha\":[0.8],\"height\":[70.0],\"label\":[\"(-0.6, -0.4]\"],\"line_alpha\":[1.0],\"line_color\":[\"black\"],\"width\":[0.1736146240136045],\"x\":[\"-0.5\"],\"y\":[35.0]}},\"id\":\"b22e2aba-bde5-444d-9465-530a5862e7cc\",\"type\":\"ColumnDataSource\"},{\"attributes\":{\"fill_alpha\":{\"field\":\"fill_alpha\"},\"fill_color\":{\"field\":\"color\"},\"height\":{\"field\":\"height\",\"units\":\"data\"},\"line_color\":{\"field\":\"line_color\"},\"width\":{\"field\":\"width\",\"units\":\"data\"},\"x\":{\"field\":\"x\"},\"y\":{\"field\":\"y\"}},\"id\":\"a77670ca-b1b8-46be-936f-5353040e7aaf\",\"type\":\"Rect\"},{\"attributes\":{\"data_source\":{\"id\":\"f731583f-7956-4540-bb28-f7f95676689d\",\"type\":\"ColumnDataSource\"},\"glyph\":{\"id\":\"d889b3f3-ffc9-42bc-859f-2daf4819e2c7\",\"type\":\"Rect\"},\"hover_glyph\":null,\"nonselection_glyph\":null,\"selection_glyph\":null},\"id\":\"bdfdea85-70d7-4ad2-a015-1533e689c351\",\"type\":\"GlyphRenderer\"},{\"attributes\":{\"callback\":null,\"column_names\":[\"line_color\",\"line_alpha\",\"color\",\"fill_alpha\",\"height\",\"width\",\"y\",\"x\",\"label\"],\"data\":{\"chart_index\":[\"(1.0, 1.2]\"],\"color\":[\"#f22c40\"],\"fill_alpha\":[0.8],\"height\":[127.0],\"label\":[\"(1.0, 1.2]\"],\"line_alpha\":[1.0],\"line_color\":[\"black\"],\"width\":[0.1736146240136045],\"x\":[\"1.1\"],\"y\":[63.5]}},\"id\":\"793457e8-9558-4a92-982f-45b7525857af\",\"type\":\"ColumnDataSource\"},{\"attributes\":{\"data_source\":{\"id\":\"b22e2aba-bde5-444d-9465-530a5862e7cc\",\"type\":\"ColumnDataSource\"},\"glyph\":{\"id\":\"ea00859e-8540-46cb-9033-c526142a41c5\",\"type\":\"Rect\"},\"hover_glyph\":null,\"nonselection_glyph\":null,\"selection_glyph\":null},\"id\":\"7214c7f4-02bf-4d6c-8628-d3879e99d3d1\",\"type\":\"GlyphRenderer\"},{\"attributes\":{\"fill_alpha\":{\"field\":\"fill_alpha\"},\"fill_color\":{\"field\":\"color\"},\"height\":{\"field\":\"height\",\"units\":\"data\"},\"line_color\":{\"field\":\"line_color\"},\"width\":{\"field\":\"width\",\"units\":\"data\"},\"x\":{\"field\":\"x\"},\"y\":{\"field\":\"y\"}},\"id\":\"1b26aa05-f606-4b8b-b1e3-e3de988aac49\",\"type\":\"Rect\"},{\"attributes\":{\"fill_alpha\":{\"field\":\"fill_alpha\"},\"fill_color\":{\"field\":\"color\"},\"height\":{\"field\":\"height\",\"units\":\"data\"},\"line_color\":{\"field\":\"line_color\"},\"width\":{\"field\":\"width\",\"units\":\"data\"},\"x\":{\"field\":\"x\"},\"y\":{\"field\":\"y\"}},\"id\":\"2befb624-8ebd-49c3-9f4b-3c2ce2c5219a\",\"type\":\"Rect\"},{\"attributes\":{\"location\":\"top_left\",\"plot\":{\"id\":\"3154018a-d8b7-4279-a013-58308c4295fb\",\"subtype\":\"Chart\",\"type\":\"Plot\"}},\"id\":\"15a7dd05-bb03-4a3d-b053-b810b4d3fee1\",\"type\":\"Legend\"},{\"attributes\":{\"fill_alpha\":{\"field\":\"fill_alpha\"},\"fill_color\":{\"field\":\"color\"},\"height\":{\"field\":\"height\",\"units\":\"data\"},\"line_color\":{\"field\":\"line_color\"},\"width\":{\"field\":\"width\",\"units\":\"data\"},\"x\":{\"field\":\"x\"},\"y\":{\"field\":\"y\"}},\"id\":\"38f26f8e-d07b-46d7-9d5f-85bd5d7ae104\",\"type\":\"Rect\"},{\"attributes\":{\"fill_alpha\":{\"field\":\"fill_alpha\"},\"fill_color\":{\"field\":\"color\"},\"height\":{\"field\":\"height\",\"units\":\"data\"},\"line_color\":{\"field\":\"line_color\"},\"width\":{\"field\":\"width\",\"units\":\"data\"},\"x\":{\"field\":\"x\"},\"y\":{\"field\":\"y\"}},\"id\":\"7fa0e534-4fa7-4336-94b1-aa702ac6dc2b\",\"type\":\"Rect\"},{\"attributes\":{\"fill_alpha\":{\"field\":\"fill_alpha\"},\"fill_color\":{\"field\":\"color\"},\"height\":{\"field\":\"height\",\"units\":\"data\"},\"line_color\":{\"field\":\"line_color\"},\"width\":{\"field\":\"width\",\"units\":\"data\"},\"x\":{\"field\":\"x\"},\"y\":{\"field\":\"y\"}},\"id\":\"d889b3f3-ffc9-42bc-859f-2daf4819e2c7\",\"type\":\"Rect\"},{\"attributes\":{\"data_source\":{\"id\":\"b7de4260-cbad-41fd-9d7e-2409ba9e99b0\",\"type\":\"ColumnDataSource\"},\"glyph\":{\"id\":\"1b26aa05-f606-4b8b-b1e3-e3de988aac49\",\"type\":\"Rect\"},\"hover_glyph\":null,\"nonselection_glyph\":null,\"selection_glyph\":null},\"id\":\"1d120f4c-b1bb-425e-9e58-76943da529da\",\"type\":\"GlyphRenderer\"},{\"attributes\":{\"callback\":null,\"column_names\":[\"line_color\",\"line_alpha\",\"color\",\"fill_alpha\",\"height\",\"width\",\"y\",\"x\",\"label\"],\"data\":{\"chart_index\":[\"(-1.4, -1.2]\"],\"color\":[\"#f22c40\"],\"fill_alpha\":[0.8],\"height\":[6.0],\"label\":[\"(-1.4, -1.2]\"],\"line_alpha\":[1.0],\"line_color\":[\"black\"],\"width\":[0.1736146240136045],\"x\":[\"-1.3\"],\"y\":[3.0]}},\"id\":\"8e3dfadc-2f4a-4e61-b9a5-a3f08223e32f\",\"type\":\"ColumnDataSource\"},{\"attributes\":{\"data_source\":{\"id\":\"2e6e3ba8-4fd7-438b-b234-9a53e98f86aa\",\"type\":\"ColumnDataSource\"},\"glyph\":{\"id\":\"7134a188-1c5c-4217-a49b-cfc1f6255a54\",\"type\":\"Rect\"},\"hover_glyph\":null,\"nonselection_glyph\":null,\"selection_glyph\":null},\"id\":\"ac180246-2244-44d5-a2b5-0d09a4501e95\",\"type\":\"GlyphRenderer\"},{\"attributes\":{\"fill_alpha\":{\"field\":\"fill_alpha\"},\"fill_color\":{\"field\":\"color\"},\"height\":{\"field\":\"height\",\"units\":\"data\"},\"line_color\":{\"field\":\"line_color\"},\"width\":{\"field\":\"width\",\"units\":\"data\"},\"x\":{\"field\":\"x\"},\"y\":{\"field\":\"y\"}},\"id\":\"473c988d-b86b-43a3-a4f7-d20873d10aed\",\"type\":\"Rect\"},{\"attributes\":{\"fill_alpha\":{\"field\":\"fill_alpha\"},\"fill_color\":{\"field\":\"color\"},\"height\":{\"field\":\"height\",\"units\":\"data\"},\"line_color\":{\"field\":\"line_color\"},\"width\":{\"field\":\"width\",\"units\":\"data\"},\"x\":{\"field\":\"x\"},\"y\":{\"field\":\"y\"}},\"id\":\"f5141536-9b6b-4050-bfc8-9c6cbef5bb69\",\"type\":\"Rect\"},{\"attributes\":{\"data_source\":{\"id\":\"b1c19528-ea5c-4088-b669-21801876e481\",\"type\":\"ColumnDataSource\"},\"glyph\":{\"id\":\"f5141536-9b6b-4050-bfc8-9c6cbef5bb69\",\"type\":\"Rect\"},\"hover_glyph\":null,\"nonselection_glyph\":null,\"selection_glyph\":null},\"id\":\"a37356a5-6c93-4265-9df0-563e559582c7\",\"type\":\"GlyphRenderer\"},{\"attributes\":{\"plot\":{\"id\":\"3154018a-d8b7-4279-a013-58308c4295fb\",\"subtype\":\"Chart\",\"type\":\"Plot\"}},\"id\":\"6849aab5-3372-45dc-a393-638661513df7\",\"type\":\"ResetTool\"},{\"attributes\":{},\"id\":\"2230276d-2c5f-4a3f-b960-357d3c87726c\",\"type\":\"BasicTickFormatter\"},{\"attributes\":{\"callback\":null,\"end\":239.8},\"id\":\"efa1df65-c1e7-473d-82d8-ce1615564090\",\"type\":\"Range1d\"},{\"attributes\":{\"data_source\":{\"id\":\"026278c6-7297-4011-b5b2-cc397a3b5ee0\",\"type\":\"ColumnDataSource\"},\"glyph\":{\"id\":\"2befb624-8ebd-49c3-9f4b-3c2ce2c5219a\",\"type\":\"Rect\"},\"hover_glyph\":null,\"nonselection_glyph\":null,\"selection_glyph\":null},\"id\":\"5ce05eaf-0c5d-40d5-89fc-8131ef9f453e\",\"type\":\"GlyphRenderer\"},{\"attributes\":{\"fill_alpha\":{\"field\":\"fill_alpha\"},\"fill_color\":{\"field\":\"color\"},\"height\":{\"field\":\"height\",\"units\":\"data\"},\"line_color\":{\"field\":\"line_color\"},\"width\":{\"field\":\"width\",\"units\":\"data\"},\"x\":{\"field\":\"x\"},\"y\":{\"field\":\"y\"}},\"id\":\"2055ce52-bfc5-44a3-893d-244bb1e0b856\",\"type\":\"Rect\"},{\"attributes\":{\"data_source\":{\"id\":\"b1573d91-bc8e-464c-9f42-05bc9a54cce8\",\"type\":\"ColumnDataSource\"},\"glyph\":{\"id\":\"5eded6e2-d14d-4c32-80ab-1017b8869688\",\"type\":\"Rect\"},\"hover_glyph\":null,\"nonselection_glyph\":null,\"selection_glyph\":null},\"id\":\"f880e1f1-a9c3-4d2d-93f6-1482bc18b138\",\"type\":\"GlyphRenderer\"},{\"attributes\":{\"callback\":null,\"column_names\":[\"line_color\",\"line_alpha\",\"color\",\"fill_alpha\",\"height\",\"width\",\"y\",\"x\",\"label\"],\"data\":{\"chart_index\":[\"(-0.2, -0.0]\"],\"color\":[\"#f22c40\"],\"fill_alpha\":[0.8],\"height\":[155.0],\"label\":[\"(-0.2, -0.0]\"],\"line_alpha\":[1.0],\"line_color\":[\"black\"],\"width\":[0.1736146240136045],\"x\":[\"-0.1\"],\"y\":[77.5]}},\"id\":\"9807908e-c9f8-4b73-b3e5-0ad9781e4f3d\",\"type\":\"ColumnDataSource\"},{\"attributes\":{},\"id\":\"1b540129-fbd9-4800-a969-e6cbe9a8ec73\",\"type\":\"BasicTickFormatter\"},{\"attributes\":{\"callback\":null,\"column_names\":[\"line_color\",\"line_alpha\",\"color\",\"fill_alpha\",\"height\",\"width\",\"y\",\"x\",\"label\"],\"data\":{\"chart_index\":[\"(2.9, 3.1]\"],\"color\":[\"#f22c40\"],\"fill_alpha\":[0.8],\"height\":[5.0],\"label\":[\"(2.9, 3.1]\"],\"line_alpha\":[1.0],\"line_color\":[\"black\"],\"width\":[0.17361462401360495],\"x\":[\"3.0\"],\"y\":[2.5]}},\"id\":\"a1c77654-7130-40ff-b4aa-9be85b282d03\",\"type\":\"ColumnDataSource\"},{\"attributes\":{\"data_source\":{\"id\":\"ec4b69dc-7ea4-419f-997d-4d4e355bccd3\",\"type\":\"ColumnDataSource\"},\"glyph\":{\"id\":\"38f26f8e-d07b-46d7-9d5f-85bd5d7ae104\",\"type\":\"Rect\"},\"hover_glyph\":null,\"nonselection_glyph\":null,\"selection_glyph\":null},\"id\":\"5ddc5ad9-411a-48eb-87be-d824e4b77e49\",\"type\":\"GlyphRenderer\"},{\"attributes\":{\"callback\":null,\"column_names\":[\"line_color\",\"line_alpha\",\"color\",\"fill_alpha\",\"height\",\"width\",\"y\",\"x\",\"label\"],\"data\":{\"chart_index\":[\"(2.1, 2.2]\"],\"color\":[\"#f22c40\"],\"fill_alpha\":[0.8],\"height\":[24.0],\"label\":[\"(2.1, 2.2]\"],\"line_alpha\":[1.0],\"line_color\":[\"black\"],\"width\":[0.17361462401360495],\"x\":[\"2.15\"],\"y\":[12.0]}},\"id\":\"e285d0b4-ce5c-4b7d-b682-3a0bcccdc5a6\",\"type\":\"ColumnDataSource\"},{\"attributes\":{\"bottom_units\":\"screen\",\"fill_alpha\":{\"value\":0.5},\"fill_color\":{\"value\":\"lightgrey\"},\"left_units\":\"screen\",\"level\":\"overlay\",\"line_alpha\":{\"value\":1.0},\"line_color\":{\"value\":\"black\"},\"line_dash\":[4,4],\"line_width\":{\"value\":2},\"plot\":null,\"render_mode\":\"css\",\"right_units\":\"screen\",\"top_units\":\"screen\"},\"id\":\"4d7dcddb-eb6f-406e-bcb9-f227443f3c21\",\"type\":\"BoxAnnotation\"},{\"attributes\":{\"fill_alpha\":{\"field\":\"fill_alpha\"},\"fill_color\":{\"field\":\"color\"},\"height\":{\"field\":\"height\",\"units\":\"data\"},\"line_color\":{\"field\":\"line_color\"},\"width\":{\"field\":\"width\",\"units\":\"data\"},\"x\":{\"field\":\"x\"},\"y\":{\"field\":\"y\"}},\"id\":\"7a416cb1-b0b9-43d6-a840-859287aba5e1\",\"type\":\"Rect\"},{\"attributes\":{\"callback\":null,\"column_names\":[\"line_color\",\"line_alpha\",\"color\",\"fill_alpha\",\"height\",\"width\",\"y\",\"x\",\"label\"],\"data\":{\"chart_index\":[\"(-0.4, -0.2]\"],\"color\":[\"#f22c40\"],\"fill_alpha\":[0.8],\"height\":[120.0],\"label\":[\"(-0.4, -0.2]\"],\"line_alpha\":[1.0],\"line_color\":[\"black\"],\"width\":[0.1736146240136045],\"x\":[\"-0.3\"],\"y\":[60.0]}},\"id\":\"026278c6-7297-4011-b5b2-cc397a3b5ee0\",\"type\":\"ColumnDataSource\"},{\"attributes\":{\"data_source\":{\"id\":\"9ba8e722-e7e5-4254-9890-86f8e4c38043\",\"type\":\"ColumnDataSource\"},\"glyph\":{\"id\":\"587500d4-9d15-4b4d-baae-1f5aa378c086\",\"type\":\"Rect\"},\"hover_glyph\":null,\"nonselection_glyph\":null,\"selection_glyph\":null},\"id\":\"8171e1b8-0b6c-4bd8-bac4-0c1356aee441\",\"type\":\"GlyphRenderer\"},{\"attributes\":{\"fill_alpha\":{\"field\":\"fill_alpha\"},\"fill_color\":{\"field\":\"color\"},\"height\":{\"field\":\"height\",\"units\":\"data\"},\"line_color\":{\"field\":\"line_color\"},\"width\":{\"field\":\"width\",\"units\":\"data\"},\"x\":{\"field\":\"x\"},\"y\":{\"field\":\"y\"}},\"id\":\"64755d27-b9b9-4bf8-bdd4-dc88d71ca42a\",\"type\":\"Rect\"},{\"attributes\":{\"callback\":null,\"column_names\":[\"line_color\",\"line_alpha\",\"color\",\"fill_alpha\",\"height\",\"width\",\"y\",\"x\",\"label\"],\"data\":{\"chart_index\":[\"(-1.1, -0.9]\"],\"color\":[\"#f22c40\"],\"fill_alpha\":[0.8],\"height\":[21.0],\"label\":[\"(-1.1, -0.9]\"],\"line_alpha\":[1.0],\"line_color\":[\"black\"],\"width\":[0.1736146240136045],\"x\":[\"-1.0\"],\"y\":[10.5]}},\"id\":\"cb1fae0e-1bbf-413e-92b7-65e44c5c3764\",\"type\":\"ColumnDataSource\"},{\"attributes\":{\"callback\":null,\"column_names\":[\"line_color\",\"line_alpha\",\"color\",\"fill_alpha\",\"height\",\"width\",\"y\",\"x\",\"label\"],\"data\":{\"chart_index\":[\"(3.1, 3.3]\"],\"color\":[\"#f22c40\"],\"fill_alpha\":[0.8],\"height\":[4.0],\"label\":[\"(3.1, 3.3]\"],\"line_alpha\":[1.0],\"line_color\":[\"black\"],\"width\":[0.17361462401360406],\"x\":[\"3.2\"],\"y\":[2.0]}},\"id\":\"f731583f-7956-4540-bb28-f7f95676689d\",\"type\":\"ColumnDataSource\"},{\"attributes\":{\"fill_alpha\":{\"field\":\"fill_alpha\"},\"fill_color\":{\"field\":\"color\"},\"height\":{\"field\":\"height\",\"units\":\"data\"},\"line_color\":{\"field\":\"line_color\"},\"width\":{\"field\":\"width\",\"units\":\"data\"},\"x\":{\"field\":\"x\"},\"y\":{\"field\":\"y\"}},\"id\":\"5eded6e2-d14d-4c32-80ab-1017b8869688\",\"type\":\"Rect\"},{\"attributes\":{\"callback\":null,\"column_names\":[\"line_color\",\"line_alpha\",\"color\",\"fill_alpha\",\"height\",\"width\",\"y\",\"x\",\"label\"],\"data\":{\"chart_index\":[\"(2.2, 2.4]\"],\"color\":[\"#f22c40\"],\"fill_alpha\":[0.8],\"height\":[14.0],\"label\":[\"(2.2, 2.4]\"],\"line_alpha\":[1.0],\"line_color\":[\"black\"],\"width\":[0.17361462401360406],\"x\":[\"2.3\"],\"y\":[7.0]}},\"id\":\"2648643d-0434-49bf-8d10-97856a711780\",\"type\":\"ColumnDataSource\"},{\"attributes\":{\"data_source\":{\"id\":\"97077788-d764-4e0f-8b3f-cff09185bb0e\",\"type\":\"ColumnDataSource\"},\"glyph\":{\"id\":\"64755d27-b9b9-4bf8-bdd4-dc88d71ca42a\",\"type\":\"Rect\"},\"hover_glyph\":null,\"nonselection_glyph\":null,\"selection_glyph\":null},\"id\":\"abe1b553-72a6-414d-87a3-9d66a56d0e7e\",\"type\":\"GlyphRenderer\"},{\"attributes\":{\"data_source\":{\"id\":\"cf05743c-271b-4585-a700-d902859520fa\",\"type\":\"ColumnDataSource\"},\"glyph\":{\"id\":\"473c988d-b86b-43a3-a4f7-d20873d10aed\",\"type\":\"Rect\"},\"hover_glyph\":null,\"nonselection_glyph\":null,\"selection_glyph\":null},\"id\":\"b4144d2b-9f60-4f75-a824-bbcdc87f906e\",\"type\":\"GlyphRenderer\"},{\"attributes\":{\"dimension\":1,\"plot\":{\"id\":\"3154018a-d8b7-4279-a013-58308c4295fb\",\"subtype\":\"Chart\",\"type\":\"Plot\"},\"ticker\":{\"id\":\"61d65745-4abf-4645-8553-2bc3237f2745\",\"type\":\"BasicTicker\"}},\"id\":\"eed45c5a-c657-43fa-beb6-38acb136c6d6\",\"type\":\"Grid\"},{\"attributes\":{\"fill_alpha\":{\"field\":\"fill_alpha\"},\"fill_color\":{\"field\":\"color\"},\"height\":{\"field\":\"height\",\"units\":\"data\"},\"line_color\":{\"field\":\"line_color\"},\"width\":{\"field\":\"width\",\"units\":\"data\"},\"x\":{\"field\":\"x\"},\"y\":{\"field\":\"y\"}},\"id\":\"7134a188-1c5c-4217-a49b-cfc1f6255a54\",\"type\":\"Rect\"},{\"attributes\":{\"callback\":null,\"column_names\":[\"line_color\",\"line_alpha\",\"color\",\"fill_alpha\",\"height\",\"width\",\"y\",\"x\",\"label\"],\"data\":{\"chart_index\":[\"(-0.0, 0.1]\"],\"color\":[\"#f22c40\"],\"fill_alpha\":[0.8],\"height\":[127.0],\"label\":[\"(-0.0, 0.1]\"],\"line_alpha\":[1.0],\"line_color\":[\"black\"],\"width\":[0.1736146240136045],\"x\":[\"0.05\"],\"y\":[63.5]}},\"id\":\"2e6e3ba8-4fd7-438b-b234-9a53e98f86aa\",\"type\":\"ColumnDataSource\"},{\"attributes\":{\"callback\":null,\"column_names\":[\"line_color\",\"line_alpha\",\"color\",\"fill_alpha\",\"height\",\"width\",\"y\",\"x\",\"label\"],\"data\":{\"chart_index\":[\"(2.7, 2.9]\"],\"color\":[\"#f22c40\"],\"fill_alpha\":[0.8],\"height\":[3.0],\"label\":[\"(2.7, 2.9]\"],\"line_alpha\":[1.0],\"line_color\":[\"black\"],\"width\":[0.17361462401360495],\"x\":[\"2.8\"],\"y\":[1.5]}},\"id\":\"259aba77-83c5-4c33-a837-e8c687bbd7ad\",\"type\":\"ColumnDataSource\"},{\"attributes\":{\"callback\":null,\"column_names\":[\"line_color\",\"line_alpha\",\"color\",\"fill_alpha\",\"height\",\"width\",\"y\",\"x\",\"label\"],\"data\":{\"chart_index\":[\"(3.4, 3.6]\"],\"color\":[\"#f22c40\"],\"fill_alpha\":[0.8],\"height\":[3.0],\"label\":[\"(3.4, 3.6]\"],\"line_alpha\":[1.0],\"line_color\":[\"black\"],\"width\":[0.1736146240136045],\"x\":[\"3.5\"],\"y\":[1.5]}},\"id\":\"b7de4260-cbad-41fd-9d7e-2409ba9e99b0\",\"type\":\"ColumnDataSource\"},{\"attributes\":{\"callback\":null,\"column_names\":[\"line_color\",\"line_alpha\",\"color\",\"fill_alpha\",\"height\",\"width\",\"y\",\"x\",\"label\"],\"data\":{\"chart_index\":[\"(0.1, 0.3]\"],\"color\":[\"#f22c40\"],\"fill_alpha\":[0.8],\"height\":[139.0],\"label\":[\"(0.1, 0.3]\"],\"line_alpha\":[1.0],\"line_color\":[\"black\"],\"width\":[0.1736146240136045],\"x\":[\"0.2\"],\"y\":[69.5]}},\"id\":\"5445bb00-17f6-46a7-9835-4c64369b5605\",\"type\":\"ColumnDataSource\"},{\"attributes\":{\"callback\":null,\"column_names\":[\"line_color\",\"line_alpha\",\"color\",\"fill_alpha\",\"height\",\"width\",\"y\",\"x\",\"label\"],\"data\":{\"chart_index\":[\"(-0.9, -0.7]\"],\"color\":[\"#f22c40\"],\"fill_alpha\":[0.8],\"height\":[37.0],\"label\":[\"(-0.9, -0.7]\"],\"line_alpha\":[1.0],\"line_color\":[\"black\"],\"width\":[0.1736146240136045],\"x\":[\"-0.8\"],\"y\":[18.5]}},\"id\":\"a703b78a-81b0-49f3-be8d-84e234bbabfa\",\"type\":\"ColumnDataSource\"},{\"attributes\":{\"callback\":null,\"column_names\":[\"line_color\",\"line_alpha\",\"color\",\"fill_alpha\",\"height\",\"width\",\"y\",\"x\",\"label\"],\"data\":{\"chart_index\":[\"(-1.2, -1.1]\"],\"color\":[\"#f22c40\"],\"fill_alpha\":[0.8],\"height\":[12.0],\"label\":[\"(-1.2, -1.1]\"],\"line_alpha\":[1.0],\"line_color\":[\"black\"],\"width\":[0.1736146240136045],\"x\":[\"-1.15\"],\"y\":[6.0]}},\"id\":\"2dafe567-a65a-44dd-ad7a-8964ace379dc\",\"type\":\"ColumnDataSource\"},{\"attributes\":{},\"id\":\"aaf8bbd0-c03f-4d53-822b-5ed5943d027e\",\"type\":\"BasicTicker\"},{\"attributes\":{\"plot\":{\"id\":\"3154018a-d8b7-4279-a013-58308c4295fb\",\"subtype\":\"Chart\",\"type\":\"Plot\"}},\"id\":\"ba25ba7b-cf6b-4334-a848-a83321b82899\",\"type\":\"PanTool\"},{\"attributes\":{\"data_source\":{\"id\":\"2648643d-0434-49bf-8d10-97856a711780\",\"type\":\"ColumnDataSource\"},\"glyph\":{\"id\":\"2055ce52-bfc5-44a3-893d-244bb1e0b856\",\"type\":\"Rect\"},\"hover_glyph\":null,\"nonselection_glyph\":null,\"selection_glyph\":null},\"id\":\"ed6ab0e8-95fb-4a35-8ad5-549c057ed0b3\",\"type\":\"GlyphRenderer\"},{\"attributes\":{\"callback\":null,\"column_names\":[\"line_color\",\"line_alpha\",\"color\",\"fill_alpha\",\"height\",\"width\",\"y\",\"x\",\"label\"],\"data\":{\"chart_index\":[\"(0.8, 1.0]\"],\"color\":[\"#f22c40\"],\"fill_alpha\":[0.8],\"height\":[177.0],\"label\":[\"(0.8, 1.0]\"],\"line_alpha\":[1.0],\"line_color\":[\"black\"],\"width\":[0.1736146240136045],\"x\":[\"0.9\"],\"y\":[88.5]}},\"id\":\"2c21ceb5-40cb-4f51-9586-e30103dd8a72\",\"type\":\"ColumnDataSource\"},{\"attributes\":{\"data_source\":{\"id\":\"2dafe567-a65a-44dd-ad7a-8964ace379dc\",\"type\":\"ColumnDataSource\"},\"glyph\":{\"id\":\"a16c7077-8906-49fa-9048-f120347a3b43\",\"type\":\"Rect\"},\"hover_glyph\":null,\"nonselection_glyph\":null,\"selection_glyph\":null},\"id\":\"5ff20b4b-9fc1-4591-8314-1e751d8e5dbb\",\"type\":\"GlyphRenderer\"},{\"attributes\":{\"data_source\":{\"id\":\"793457e8-9558-4a92-982f-45b7525857af\",\"type\":\"ColumnDataSource\"},\"glyph\":{\"id\":\"1f2426b5-8041-4235-8f2c-af68f78bf39b\",\"type\":\"Rect\"},\"hover_glyph\":null,\"nonselection_glyph\":null,\"selection_glyph\":null},\"id\":\"d9e73976-dcf3-4594-92da-503e684166bf\",\"type\":\"GlyphRenderer\"},{\"attributes\":{\"data_source\":{\"id\":\"8aa7cf54-8cc0-40ac-a5dc-6d6cd61266ac\",\"type\":\"ColumnDataSource\"},\"glyph\":{\"id\":\"bc921c2e-159a-40f0-a7bc-7bd63d6ce360\",\"type\":\"Rect\"},\"hover_glyph\":null,\"nonselection_glyph\":null,\"selection_glyph\":null},\"id\":\"1bad3819-2598-4775-8b37-10b35616b7aa\",\"type\":\"GlyphRenderer\"},{\"attributes\":{\"fill_alpha\":{\"field\":\"fill_alpha\"},\"fill_color\":{\"field\":\"color\"},\"height\":{\"field\":\"height\",\"units\":\"data\"},\"line_color\":{\"field\":\"line_color\"},\"width\":{\"field\":\"width\",\"units\":\"data\"},\"x\":{\"field\":\"x\"},\"y\":{\"field\":\"y\"}},\"id\":\"afb98d7c-5507-4400-bb1b-b38633f2d9b3\",\"type\":\"Rect\"},{\"attributes\":{\"data_source\":{\"id\":\"0f42e8c5-f50e-41b9-8bb4-6df261bc4d06\",\"type\":\"ColumnDataSource\"},\"glyph\":{\"id\":\"7a416cb1-b0b9-43d6-a840-859287aba5e1\",\"type\":\"Rect\"},\"hover_glyph\":null,\"nonselection_glyph\":null,\"selection_glyph\":null},\"id\":\"adc2a605-d347-4238-9b50-c6ccdafe861e\",\"type\":\"GlyphRenderer\"},{\"attributes\":{\"data_source\":{\"id\":\"cb1fae0e-1bbf-413e-92b7-65e44c5c3764\",\"type\":\"ColumnDataSource\"},\"glyph\":{\"id\":\"670fb838-4a39-4703-97bf-045c95a7ff88\",\"type\":\"Rect\"},\"hover_glyph\":null,\"nonselection_glyph\":null,\"selection_glyph\":null},\"id\":\"830d1e31-b712-4ad2-8c6b-a85ea2f0f163\",\"type\":\"GlyphRenderer\"},{\"attributes\":{\"axis_label\":\"Count( Value )\",\"formatter\":{\"id\":\"2230276d-2c5f-4a3f-b960-357d3c87726c\",\"type\":\"BasicTickFormatter\"},\"plot\":{\"id\":\"3154018a-d8b7-4279-a013-58308c4295fb\",\"subtype\":\"Chart\",\"type\":\"Plot\"},\"ticker\":{\"id\":\"61d65745-4abf-4645-8553-2bc3237f2745\",\"type\":\"BasicTicker\"}},\"id\":\"68f69c32-f5da-4ecd-9cd7-1310ff59fbd7\",\"type\":\"LinearAxis\"},{\"attributes\":{\"callback\":null,\"column_names\":[\"line_color\",\"line_alpha\",\"color\",\"fill_alpha\",\"height\",\"width\",\"y\",\"x\",\"label\"],\"data\":{\"chart_index\":[\"(2.6, 2.7]\"],\"color\":[\"#f22c40\"],\"fill_alpha\":[0.8],\"height\":[5.0],\"label\":[\"(2.6, 2.7]\"],\"line_alpha\":[1.0],\"line_color\":[\"black\"],\"width\":[0.17361462401360406],\"x\":[\"2.65\"],\"y\":[2.5]}},\"id\":\"97077788-d764-4e0f-8b3f-cff09185bb0e\",\"type\":\"ColumnDataSource\"},{\"attributes\":{\"data_source\":{\"id\":\"8e3dfadc-2f4a-4e61-b9a5-a3f08223e32f\",\"type\":\"ColumnDataSource\"},\"glyph\":{\"id\":\"098b6fef-5a4d-4bb1-a2d3-0f7355871b18\",\"type\":\"Rect\"},\"hover_glyph\":null,\"nonselection_glyph\":null,\"selection_glyph\":null},\"id\":\"03a479a6-b4a2-41a7-a622-7b229842db1d\",\"type\":\"GlyphRenderer\"},{\"attributes\":{\"callback\":null,\"column_names\":[\"line_color\",\"line_alpha\",\"color\",\"fill_alpha\",\"height\",\"width\",\"y\",\"x\",\"label\"],\"data\":{\"chart_index\":[\"(-0.7, -0.6]\"],\"color\":[\"#f22c40\"],\"fill_alpha\":[0.8],\"height\":[53.0],\"label\":[\"(-0.7, -0.6]\"],\"line_alpha\":[1.0],\"line_color\":[\"black\"],\"width\":[0.1736146240136045],\"x\":[\"-0.65\"],\"y\":[26.5]}},\"id\":\"802de297-5a4a-4747-84a6-3c8dde2fa00b\",\"type\":\"ColumnDataSource\"},{\"attributes\":{\"data_source\":{\"id\":\"e8ae19b5-6e82-4120-bf69-29a792bdbfc9\",\"type\":\"ColumnDataSource\"},\"glyph\":{\"id\":\"7b333f00-3967-47ae-a463-5569c8f66dfe\",\"type\":\"Rect\"},\"hover_glyph\":null,\"nonselection_glyph\":null,\"selection_glyph\":null},\"id\":\"2b0b3e80-d367-4518-bdad-f4951e68b073\",\"type\":\"GlyphRenderer\"},{\"attributes\":{\"callback\":null,\"column_names\":[\"line_color\",\"line_alpha\",\"color\",\"fill_alpha\",\"height\",\"width\",\"y\",\"x\",\"label\"],\"data\":{\"chart_index\":[\"(0.3, 0.5]\"],\"color\":[\"#f22c40\"],\"fill_alpha\":[0.8],\"height\":[157.0],\"label\":[\"(0.3, 0.5]\"],\"line_alpha\":[1.0],\"line_color\":[\"black\"],\"width\":[0.1736146240136045],\"x\":[\"0.4\"],\"y\":[78.5]}},\"id\":\"9ba8e722-e7e5-4254-9890-86f8e4c38043\",\"type\":\"ColumnDataSource\"},{\"attributes\":{\"callback\":null,\"column_names\":[\"line_color\",\"line_alpha\",\"color\",\"fill_alpha\",\"height\",\"width\",\"y\",\"x\",\"label\"],\"data\":{\"chart_index\":[\"(3.3, 3.4]\"],\"color\":[\"#f22c40\"],\"fill_alpha\":[0.8],\"height\":[2.0],\"label\":[\"(3.3, 3.4]\"],\"line_alpha\":[1.0],\"line_color\":[\"black\"],\"width\":[0.17361462401360406],\"x\":[\"3.35\"],\"y\":[1.0]}},\"id\":\"b1573d91-bc8e-464c-9f42-05bc9a54cce8\",\"type\":\"ColumnDataSource\"},{\"attributes\":{\"fill_alpha\":{\"field\":\"fill_alpha\"},\"fill_color\":{\"field\":\"color\"},\"height\":{\"field\":\"height\",\"units\":\"data\"},\"line_color\":{\"field\":\"line_color\"},\"width\":{\"field\":\"width\",\"units\":\"data\"},\"x\":{\"field\":\"x\"},\"y\":{\"field\":\"y\"}},\"id\":\"670fb838-4a39-4703-97bf-045c95a7ff88\",\"type\":\"Rect\"},{\"attributes\":{\"callback\":null,\"column_names\":[\"line_color\",\"line_alpha\",\"color\",\"fill_alpha\",\"height\",\"width\",\"y\",\"x\",\"label\"],\"data\":{\"chart_index\":[\"(2.4, 2.6]\"],\"color\":[\"#f22c40\"],\"fill_alpha\":[0.8],\"height\":[15.0],\"label\":[\"(2.4, 2.6]\"],\"line_alpha\":[1.0],\"line_color\":[\"black\"],\"width\":[0.17361462401360495],\"x\":[\"2.5\"],\"y\":[7.5]}},\"id\":\"33f1b089-fe32-4cc3-8042-70e935a32a9f\",\"type\":\"ColumnDataSource\"},{\"attributes\":{\"active_drag\":\"auto\",\"active_scroll\":\"auto\",\"active_tap\":\"auto\",\"tools\":[{\"id\":\"ba25ba7b-cf6b-4334-a848-a83321b82899\",\"type\":\"PanTool\"},{\"id\":\"d2a6935f-89e4-4917-b86e-19dadb3decc7\",\"type\":\"WheelZoomTool\"},{\"id\":\"270268bb-1fef-4c61-afa1-cf848bd12c27\",\"type\":\"BoxZoomTool\"},{\"id\":\"cd03adcf-9fd7-4d99-bdf4-5f40c800c9e9\",\"type\":\"SaveTool\"},{\"id\":\"6849aab5-3372-45dc-a393-638661513df7\",\"type\":\"ResetTool\"},{\"id\":\"dcecb858-ca5b-4686-9550-d3b44924e202\",\"type\":\"HelpTool\"}]},\"id\":\"c3160d1e-42fd-4981-b954-23bcf4103de9\",\"type\":\"Toolbar\"},{\"attributes\":{\"fill_alpha\":{\"field\":\"fill_alpha\"},\"fill_color\":{\"field\":\"color\"},\"height\":{\"field\":\"height\",\"units\":\"data\"},\"line_color\":{\"field\":\"line_color\"},\"width\":{\"field\":\"width\",\"units\":\"data\"},\"x\":{\"field\":\"x\"},\"y\":{\"field\":\"y\"}},\"id\":\"ff1d5d0f-3435-4214-bfe4-b9755548cad2\",\"type\":\"Rect\"},{\"attributes\":{\"axis_label\":\"value\",\"formatter\":{\"id\":\"1b540129-fbd9-4800-a969-e6cbe9a8ec73\",\"type\":\"BasicTickFormatter\"},\"plot\":{\"id\":\"3154018a-d8b7-4279-a013-58308c4295fb\",\"subtype\":\"Chart\",\"type\":\"Plot\"},\"ticker\":{\"id\":\"aaf8bbd0-c03f-4d53-822b-5ed5943d027e\",\"type\":\"BasicTicker\"}},\"id\":\"973e2540-fccd-4e55-b751-9067a2eabbd3\",\"type\":\"LinearAxis\"},{\"attributes\":{\"fill_alpha\":{\"field\":\"fill_alpha\"},\"fill_color\":{\"field\":\"color\"},\"height\":{\"field\":\"height\",\"units\":\"data\"},\"line_color\":{\"field\":\"line_color\"},\"width\":{\"field\":\"width\",\"units\":\"data\"},\"x\":{\"field\":\"x\"},\"y\":{\"field\":\"y\"}},\"id\":\"852ac8b7-cfa6-44df-82a9-4d1139348ddc\",\"type\":\"Rect\"},{\"attributes\":{\"callback\":null,\"end\":3.636807312006802,\"start\":-1.6368073120068023},\"id\":\"c5b6be80-1413-4feb-95d2-82fd9e69c9e8\",\"type\":\"Range1d\"},{\"attributes\":{\"callback\":null,\"column_names\":[\"line_color\",\"line_alpha\",\"color\",\"fill_alpha\",\"height\",\"width\",\"y\",\"x\",\"label\"],\"data\":{\"chart_index\":[\"(1.9, 2.1]\"],\"color\":[\"#f22c40\"],\"fill_alpha\":[0.8],\"height\":[30.0],\"label\":[\"(1.9, 2.1]\"],\"line_alpha\":[1.0],\"line_color\":[\"black\"],\"width\":[0.17361462401360428],\"x\":[\"2.0\"],\"y\":[15.0]}},\"id\":\"0f42e8c5-f50e-41b9-8bb4-6df261bc4d06\",\"type\":\"ColumnDataSource\"},{\"attributes\":{\"data_source\":{\"id\":\"5445bb00-17f6-46a7-9835-4c64369b5605\",\"type\":\"ColumnDataSource\"},\"glyph\":{\"id\":\"afb98d7c-5507-4400-bb1b-b38633f2d9b3\",\"type\":\"Rect\"},\"hover_glyph\":null,\"nonselection_glyph\":null,\"selection_glyph\":null},\"id\":\"d02ae295-eace-4db5-98ee-91eebee71699\",\"type\":\"GlyphRenderer\"},{\"attributes\":{\"fill_alpha\":{\"field\":\"fill_alpha\"},\"fill_color\":{\"field\":\"color\"},\"height\":{\"field\":\"height\",\"units\":\"data\"},\"line_color\":{\"field\":\"line_color\"},\"width\":{\"field\":\"width\",\"units\":\"data\"},\"x\":{\"field\":\"x\"},\"y\":{\"field\":\"y\"}},\"id\":\"a16c7077-8906-49fa-9048-f120347a3b43\",\"type\":\"Rect\"},{\"attributes\":{\"data_source\":{\"id\":\"e285d0b4-ce5c-4b7d-b682-3a0bcccdc5a6\",\"type\":\"ColumnDataSource\"},\"glyph\":{\"id\":\"7fa0e534-4fa7-4336-94b1-aa702ac6dc2b\",\"type\":\"Rect\"},\"hover_glyph\":null,\"nonselection_glyph\":null,\"selection_glyph\":null},\"id\":\"45322195-49b7-482f-b5a8-80759ae58734\",\"type\":\"GlyphRenderer\"},{\"attributes\":{\"fill_alpha\":{\"field\":\"fill_alpha\"},\"fill_color\":{\"field\":\"color\"},\"height\":{\"field\":\"height\",\"units\":\"data\"},\"line_color\":{\"field\":\"line_color\"},\"width\":{\"field\":\"width\",\"units\":\"data\"},\"x\":{\"field\":\"x\"},\"y\":{\"field\":\"y\"}},\"id\":\"ed742c05-b7c7-40e7-a24a-3c2d41bcc539\",\"type\":\"Rect\"},{\"attributes\":{\"plot\":{\"id\":\"3154018a-d8b7-4279-a013-58308c4295fb\",\"subtype\":\"Chart\",\"type\":\"Plot\"}},\"id\":\"cd03adcf-9fd7-4d99-bdf4-5f40c800c9e9\",\"type\":\"SaveTool\"},{\"attributes\":{\"plot\":{\"id\":\"3154018a-d8b7-4279-a013-58308c4295fb\",\"subtype\":\"Chart\",\"type\":\"Plot\"}},\"id\":\"dcecb858-ca5b-4686-9550-d3b44924e202\",\"type\":\"HelpTool\"},{\"attributes\":{\"fill_alpha\":{\"field\":\"fill_alpha\"},\"fill_color\":{\"field\":\"color\"},\"height\":{\"field\":\"height\",\"units\":\"data\"},\"line_color\":{\"field\":\"line_color\"},\"width\":{\"field\":\"width\",\"units\":\"data\"},\"x\":{\"field\":\"x\"},\"y\":{\"field\":\"y\"}},\"id\":\"7b333f00-3967-47ae-a463-5569c8f66dfe\",\"type\":\"Rect\"},{\"attributes\":{\"plot\":{\"id\":\"3154018a-d8b7-4279-a013-58308c4295fb\",\"subtype\":\"Chart\",\"type\":\"Plot\"}},\"id\":\"d2a6935f-89e4-4917-b86e-19dadb3decc7\",\"type\":\"WheelZoomTool\"},{\"attributes\":{\"callback\":null,\"column_names\":[\"line_color\",\"line_alpha\",\"color\",\"fill_alpha\",\"height\",\"width\",\"y\",\"x\",\"label\"],\"data\":{\"chart_index\":[\"(1.4, 1.5]\"],\"color\":[\"#f22c40\"],\"fill_alpha\":[0.8],\"height\":[92.0],\"label\":[\"(1.4, 1.5]\"],\"line_alpha\":[1.0],\"line_color\":[\"black\"],\"width\":[0.1736146240136045],\"x\":[\"1.45\"],\"y\":[46.0]}},\"id\":\"4f15a305-1edd-4985-a76d-45dbc4327aea\",\"type\":\"ColumnDataSource\"},{\"attributes\":{\"callback\":null,\"column_names\":[\"line_color\",\"line_alpha\",\"color\",\"fill_alpha\",\"height\",\"width\",\"y\",\"x\",\"label\"],\"data\":{\"chart_index\":[\"(1.7, 1.9]\"],\"color\":[\"#f22c40\"],\"fill_alpha\":[0.8],\"height\":[31.0],\"label\":[\"(1.7, 1.9]\"],\"line_alpha\":[1.0],\"line_color\":[\"black\"],\"width\":[0.1736146240136045],\"x\":[\"1.8\"],\"y\":[15.5]}},\"id\":\"cf05743c-271b-4585-a700-d902859520fa\",\"type\":\"ColumnDataSource\"},{\"attributes\":{\"overlay\":{\"id\":\"4d7dcddb-eb6f-406e-bcb9-f227443f3c21\",\"type\":\"BoxAnnotation\"},\"plot\":{\"id\":\"3154018a-d8b7-4279-a013-58308c4295fb\",\"subtype\":\"Chart\",\"type\":\"Plot\"}},\"id\":\"270268bb-1fef-4c61-afa1-cf848bd12c27\",\"type\":\"BoxZoomTool\"},{\"attributes\":{\"data_source\":{\"id\":\"4c83ee92-bc11-4d03-abb4-36551592a53e\",\"type\":\"ColumnDataSource\"},\"glyph\":{\"id\":\"98979e5c-5ef0-40c6-87b9-d6270a253239\",\"type\":\"Rect\"},\"hover_glyph\":null,\"nonselection_glyph\":null,\"selection_glyph\":null},\"id\":\"70fd01a7-3d47-40e8-ab18-2d63ac3c97eb\",\"type\":\"GlyphRenderer\"},{\"attributes\":{\"data_source\":{\"id\":\"802de297-5a4a-4747-84a6-3c8dde2fa00b\",\"type\":\"ColumnDataSource\"},\"glyph\":{\"id\":\"ee98946c-3d9c-4ad4-bdf1-ea66d74d0917\",\"type\":\"Rect\"},\"hover_glyph\":null,\"nonselection_glyph\":null,\"selection_glyph\":null},\"id\":\"67af0c5c-4fd4-4fe3-9307-23eb0f119009\",\"type\":\"GlyphRenderer\"},{\"attributes\":{\"callback\":null,\"column_names\":[\"line_color\",\"line_alpha\",\"color\",\"fill_alpha\",\"height\",\"width\",\"y\",\"x\",\"label\"],\"data\":{\"chart_index\":[\"(1.2, 1.4]\"],\"color\":[\"#f22c40\"],\"fill_alpha\":[0.8],\"height\":[87.0],\"label\":[\"(1.2, 1.4]\"],\"line_alpha\":[1.0],\"line_color\":[\"black\"],\"width\":[0.1736146240136045],\"x\":[\"1.3\"],\"y\":[43.5]}},\"id\":\"8aa7cf54-8cc0-40ac-a5dc-6d6cd61266ac\",\"type\":\"ColumnDataSource\"},{\"attributes\":{\"fill_alpha\":{\"field\":\"fill_alpha\"},\"fill_color\":{\"field\":\"color\"},\"height\":{\"field\":\"height\",\"units\":\"data\"},\"line_color\":{\"field\":\"line_color\"},\"width\":{\"field\":\"width\",\"units\":\"data\"},\"x\":{\"field\":\"x\"},\"y\":{\"field\":\"y\"}},\"id\":\"45182ad7-43c0-4b22-9cd4-c056d4e9fbaa\",\"type\":\"Rect\"},{\"attributes\":{\"data_source\":{\"id\":\"33f1b089-fe32-4cc3-8042-70e935a32a9f\",\"type\":\"ColumnDataSource\"},\"glyph\":{\"id\":\"a77670ca-b1b8-46be-936f-5353040e7aaf\",\"type\":\"Rect\"},\"hover_glyph\":null,\"nonselection_glyph\":null,\"selection_glyph\":null},\"id\":\"935fe359-fb68-43e8-bbe0-ddb4a17f8091\",\"type\":\"GlyphRenderer\"},{\"attributes\":{\"data_source\":{\"id\":\"259aba77-83c5-4c33-a837-e8c687bbd7ad\",\"type\":\"ColumnDataSource\"},\"glyph\":{\"id\":\"678ad6f5-2760-4978-a253-a09401a4f1fe\",\"type\":\"Rect\"},\"hover_glyph\":null,\"nonselection_glyph\":null,\"selection_glyph\":null},\"id\":\"40dea231-5ba2-4555-a25a-3983d6f019b5\",\"type\":\"GlyphRenderer\"},{\"attributes\":{\"below\":[{\"id\":\"973e2540-fccd-4e55-b751-9067a2eabbd3\",\"type\":\"LinearAxis\"}],\"left\":[{\"id\":\"68f69c32-f5da-4ecd-9cd7-1310ff59fbd7\",\"type\":\"LinearAxis\"}],\"renderers\":[{\"id\":\"4d7dcddb-eb6f-406e-bcb9-f227443f3c21\",\"type\":\"BoxAnnotation\"},{\"id\":\"5ddc5ad9-411a-48eb-87be-d824e4b77e49\",\"type\":\"GlyphRenderer\"},{\"id\":\"03a479a6-b4a2-41a7-a622-7b229842db1d\",\"type\":\"GlyphRenderer\"},{\"id\":\"5ff20b4b-9fc1-4591-8314-1e751d8e5dbb\",\"type\":\"GlyphRenderer\"},{\"id\":\"830d1e31-b712-4ad2-8c6b-a85ea2f0f163\",\"type\":\"GlyphRenderer\"},{\"id\":\"1725c5f3-a864-4e48-b40a-c7e50bbed4d0\",\"type\":\"GlyphRenderer\"},{\"id\":\"67af0c5c-4fd4-4fe3-9307-23eb0f119009\",\"type\":\"GlyphRenderer\"},{\"id\":\"7214c7f4-02bf-4d6c-8628-d3879e99d3d1\",\"type\":\"GlyphRenderer\"},{\"id\":\"5ce05eaf-0c5d-40d5-89fc-8131ef9f453e\",\"type\":\"GlyphRenderer\"},{\"id\":\"a1a880d1-938c-47eb-b1c6-80edd8f9925e\",\"type\":\"GlyphRenderer\"},{\"id\":\"ac180246-2244-44d5-a2b5-0d09a4501e95\",\"type\":\"GlyphRenderer\"},{\"id\":\"d02ae295-eace-4db5-98ee-91eebee71699\",\"type\":\"GlyphRenderer\"},{\"id\":\"8171e1b8-0b6c-4bd8-bac4-0c1356aee441\",\"type\":\"GlyphRenderer\"},{\"id\":\"a37356a5-6c93-4265-9df0-563e559582c7\",\"type\":\"GlyphRenderer\"},{\"id\":\"70fd01a7-3d47-40e8-ab18-2d63ac3c97eb\",\"type\":\"GlyphRenderer\"},{\"id\":\"3a43c367-c89b-463d-8587-3c2c717e32ba\",\"type\":\"GlyphRenderer\"},{\"id\":\"d9e73976-dcf3-4594-92da-503e684166bf\",\"type\":\"GlyphRenderer\"},{\"id\":\"1bad3819-2598-4775-8b37-10b35616b7aa\",\"type\":\"GlyphRenderer\"},{\"id\":\"872a4e1c-21a8-46f6-a7c6-76824e422bd3\",\"type\":\"GlyphRenderer\"},{\"id\":\"2b0b3e80-d367-4518-bdad-f4951e68b073\",\"type\":\"GlyphRenderer\"},{\"id\":\"b4144d2b-9f60-4f75-a824-bbcdc87f906e\",\"type\":\"GlyphRenderer\"},{\"id\":\"adc2a605-d347-4238-9b50-c6ccdafe861e\",\"type\":\"GlyphRenderer\"},{\"id\":\"45322195-49b7-482f-b5a8-80759ae58734\",\"type\":\"GlyphRenderer\"},{\"id\":\"ed6ab0e8-95fb-4a35-8ad5-549c057ed0b3\",\"type\":\"GlyphRenderer\"},{\"id\":\"935fe359-fb68-43e8-bbe0-ddb4a17f8091\",\"type\":\"GlyphRenderer\"},{\"id\":\"abe1b553-72a6-414d-87a3-9d66a56d0e7e\",\"type\":\"GlyphRenderer\"},{\"id\":\"40dea231-5ba2-4555-a25a-3983d6f019b5\",\"type\":\"GlyphRenderer\"},{\"id\":\"46143043-12c2-4e8a-b851-a246a8be30cb\",\"type\":\"GlyphRenderer\"},{\"id\":\"bdfdea85-70d7-4ad2-a015-1533e689c351\",\"type\":\"GlyphRenderer\"},{\"id\":\"f880e1f1-a9c3-4d2d-93f6-1482bc18b138\",\"type\":\"GlyphRenderer\"},{\"id\":\"1d120f4c-b1bb-425e-9e58-76943da529da\",\"type\":\"GlyphRenderer\"},{\"id\":\"15a7dd05-bb03-4a3d-b053-b810b4d3fee1\",\"type\":\"Legend\"},{\"id\":\"973e2540-fccd-4e55-b751-9067a2eabbd3\",\"type\":\"LinearAxis\"},{\"id\":\"68f69c32-f5da-4ecd-9cd7-1310ff59fbd7\",\"type\":\"LinearAxis\"},{\"id\":\"eed45c5a-c657-43fa-beb6-38acb136c6d6\",\"type\":\"Grid\"}],\"title\":{\"id\":\"22a08c48-a47f-46df-a287-01b496783a6d\",\"type\":\"Title\"},\"tool_events\":{\"id\":\"44589df9-1845-46b9-9b01-fb5cc61e68fc\",\"type\":\"ToolEvents\"},\"toolbar\":{\"id\":\"c3160d1e-42fd-4981-b954-23bcf4103de9\",\"type\":\"Toolbar\"},\"x_mapper_type\":\"auto\",\"x_range\":{\"id\":\"c5b6be80-1413-4feb-95d2-82fd9e69c9e8\",\"type\":\"Range1d\"},\"y_mapper_type\":\"auto\",\"y_range\":{\"id\":\"efa1df65-c1e7-473d-82d8-ce1615564090\",\"type\":\"Range1d\"}},\"id\":\"3154018a-d8b7-4279-a013-58308c4295fb\",\"subtype\":\"Chart\",\"type\":\"Plot\"},{\"attributes\":{\"plot\":null,\"text\":null},\"id\":\"22a08c48-a47f-46df-a287-01b496783a6d\",\"type\":\"Title\"},{\"attributes\":{\"fill_alpha\":{\"field\":\"fill_alpha\"},\"fill_color\":{\"field\":\"color\"},\"height\":{\"field\":\"height\",\"units\":\"data\"},\"line_color\":{\"field\":\"line_color\"},\"width\":{\"field\":\"width\",\"units\":\"data\"},\"x\":{\"field\":\"x\"},\"y\":{\"field\":\"y\"}},\"id\":\"bc921c2e-159a-40f0-a7bc-7bd63d6ce360\",\"type\":\"Rect\"},{\"attributes\":{\"fill_alpha\":{\"field\":\"fill_alpha\"},\"fill_color\":{\"field\":\"color\"},\"height\":{\"field\":\"height\",\"units\":\"data\"},\"line_color\":{\"field\":\"line_color\"},\"width\":{\"field\":\"width\",\"units\":\"data\"},\"x\":{\"field\":\"x\"},\"y\":{\"field\":\"y\"}},\"id\":\"678ad6f5-2760-4978-a253-a09401a4f1fe\",\"type\":\"Rect\"},{\"attributes\":{\"data_source\":{\"id\":\"a703b78a-81b0-49f3-be8d-84e234bbabfa\",\"type\":\"ColumnDataSource\"},\"glyph\":{\"id\":\"45182ad7-43c0-4b22-9cd4-c056d4e9fbaa\",\"type\":\"Rect\"},\"hover_glyph\":null,\"nonselection_glyph\":null,\"selection_glyph\":null},\"id\":\"1725c5f3-a864-4e48-b40a-c7e50bbed4d0\",\"type\":\"GlyphRenderer\"},{\"attributes\":{\"fill_alpha\":{\"field\":\"fill_alpha\"},\"fill_color\":{\"field\":\"color\"},\"height\":{\"field\":\"height\",\"units\":\"data\"},\"line_color\":{\"field\":\"line_color\"},\"width\":{\"field\":\"width\",\"units\":\"data\"},\"x\":{\"field\":\"x\"},\"y\":{\"field\":\"y\"}},\"id\":\"ee98946c-3d9c-4ad4-bdf1-ea66d74d0917\",\"type\":\"Rect\"},{\"attributes\":{\"data_source\":{\"id\":\"9807908e-c9f8-4b73-b3e5-0ad9781e4f3d\",\"type\":\"ColumnDataSource\"},\"glyph\":{\"id\":\"852ac8b7-cfa6-44df-82a9-4d1139348ddc\",\"type\":\"Rect\"},\"hover_glyph\":null,\"nonselection_glyph\":null,\"selection_glyph\":null},\"id\":\"a1a880d1-938c-47eb-b1c6-80edd8f9925e\",\"type\":\"GlyphRenderer\"},{\"attributes\":{\"callback\":null,\"column_names\":[\"line_color\",\"line_alpha\",\"color\",\"fill_alpha\",\"height\",\"width\",\"y\",\"x\",\"label\"],\"data\":{\"chart_index\":[\"[-1.6, -1.4]\"],\"color\":[\"#f22c40\"],\"fill_alpha\":[0.8],\"height\":[3.0],\"label\":[\"[-1.6, -1.4]\"],\"line_alpha\":[1.0],\"line_color\":[\"black\"],\"width\":[0.1736146240136045],\"x\":[\"-1.5\"],\"y\":[1.5]}},\"id\":\"ec4b69dc-7ea4-419f-997d-4d4e355bccd3\",\"type\":\"ColumnDataSource\"},{\"attributes\":{\"callback\":null,\"column_names\":[\"line_color\",\"line_alpha\",\"color\",\"fill_alpha\",\"height\",\"width\",\"y\",\"x\",\"label\"],\"data\":{\"chart_index\":[\"(0.5, 0.7]\"],\"color\":[\"#f22c40\"],\"fill_alpha\":[0.8],\"height\":[201.0],\"label\":[\"(0.5, 0.7]\"],\"line_alpha\":[1.0],\"line_color\":[\"black\"],\"width\":[0.1736146240136045],\"x\":[\"0.6\"],\"y\":[100.5]}},\"id\":\"b1c19528-ea5c-4088-b669-21801876e481\",\"type\":\"ColumnDataSource\"},{\"attributes\":{\"data_source\":{\"id\":\"4f15a305-1edd-4985-a76d-45dbc4327aea\",\"type\":\"ColumnDataSource\"},\"glyph\":{\"id\":\"ed742c05-b7c7-40e7-a24a-3c2d41bcc539\",\"type\":\"Rect\"},\"hover_glyph\":null,\"nonselection_glyph\":null,\"selection_glyph\":null},\"id\":\"872a4e1c-21a8-46f6-a7c6-76824e422bd3\",\"type\":\"GlyphRenderer\"},{\"attributes\":{\"fill_alpha\":{\"field\":\"fill_alpha\"},\"fill_color\":{\"field\":\"color\"},\"height\":{\"field\":\"height\",\"units\":\"data\"},\"line_color\":{\"field\":\"line_color\"},\"width\":{\"field\":\"width\",\"units\":\"data\"},\"x\":{\"field\":\"x\"},\"y\":{\"field\":\"y\"}},\"id\":\"1f2426b5-8041-4235-8f2c-af68f78bf39b\",\"type\":\"Rect\"},{\"attributes\":{\"fill_alpha\":{\"field\":\"fill_alpha\"},\"fill_color\":{\"field\":\"color\"},\"height\":{\"field\":\"height\",\"units\":\"data\"},\"line_color\":{\"field\":\"line_color\"},\"width\":{\"field\":\"width\",\"units\":\"data\"},\"x\":{\"field\":\"x\"},\"y\":{\"field\":\"y\"}},\"id\":\"ea00859e-8540-46cb-9033-c526142a41c5\",\"type\":\"Rect\"},{\"attributes\":{},\"id\":\"44589df9-1845-46b9-9b01-fb5cc61e68fc\",\"type\":\"ToolEvents\"},{\"attributes\":{\"fill_alpha\":{\"field\":\"fill_alpha\"},\"fill_color\":{\"field\":\"color\"},\"height\":{\"field\":\"height\",\"units\":\"data\"},\"line_color\":{\"field\":\"line_color\"},\"width\":{\"field\":\"width\",\"units\":\"data\"},\"x\":{\"field\":\"x\"},\"y\":{\"field\":\"y\"}},\"id\":\"98979e5c-5ef0-40c6-87b9-d6270a253239\",\"type\":\"Rect\"}],\"root_ids\":[\"3154018a-d8b7-4279-a013-58308c4295fb\"]},\"title\":\"Bokeh Application\",\"version\":\"0.12.1\"}};\n",
       "            var render_items = [{\"docid\":\"3331fb3c-d209-45b4-8fcf-62f1dfd2744d\",\"elementid\":\"b76991a4-dd04-46f1-8549-fbebf178c0d6\",\"modelid\":\"3154018a-d8b7-4279-a013-58308c4295fb\",\"notebook_comms_target\":\"5c1976fa-4d05-4fa3-a704-987332bcf21d\"}];\n",
       "            \n",
       "            Bokeh.embed.embed_items(docs_json, render_items);\n",
       "        });\n",
       "      },\n",
       "      function(Bokeh) {\n",
       "      }\n",
       "    ];\n",
       "  \n",
       "    function run_inline_js() {\n",
       "      for (var i = 0; i < inline_js.length; i++) {\n",
       "        inline_js[i](window.Bokeh);\n",
       "      }\n",
       "    }\n",
       "  \n",
       "    if (window._bokeh_is_loading === 0) {\n",
       "      console.log(\"Bokeh: BokehJS loaded, going straight to plotting\");\n",
       "      run_inline_js();\n",
       "    } else {\n",
       "      load_libs(js_urls, function() {\n",
       "        console.log(\"Bokeh: BokehJS plotting callback run at\", now());\n",
       "        run_inline_js();\n",
       "      });\n",
       "    }\n",
       "  }(this));\n",
       "</script>"
      ]
     },
     "metadata": {},
     "output_type": "display_data"
    },
    {
     "data": {
      "text/html": [
       "<p><code>&lt;Bokeh Notebook handle for <strong>In[31]</strong>&gt;</code></p>"
      ],
      "text/plain": [
       "<bokeh.io._CommsHandle at 0x10bf89550>"
      ]
     },
     "execution_count": 31,
     "metadata": {},
     "output_type": "execute_result"
    }
   ],
   "source": [
    "hist = Histogram(df, values='value', bins=30)\n",
    "show(hist)"
   ]
  },
  {
   "cell_type": "markdown",
   "metadata": {},
   "source": [
    "It's also possible to generate multiple histograms at once by grouping the data. The column to group by is specified by the `color` parameter (and the histogram for each group is colored differently automatically). Let's try that as an exercise."
   ]
  },
  {
   "cell_type": "code",
   "execution_count": 36,
   "metadata": {
    "collapsed": false
   },
   "outputs": [
    {
     "data": {
      "text/html": [
       "\n",
       "\n",
       "    <div class=\"bk-root\">\n",
       "        <div class=\"plotdiv\" id=\"6002fef7-6541-45e8-a068-9e8edd96c7b7\"></div>\n",
       "    </div>\n",
       "<script type=\"text/javascript\">\n",
       "  \n",
       "  (function(global) {\n",
       "    function now() {\n",
       "      return new Date();\n",
       "    }\n",
       "  \n",
       "    var force = \"\";\n",
       "  \n",
       "    if (typeof (window._bokeh_onload_callbacks) === \"undefined\" || force !== \"\") {\n",
       "      window._bokeh_onload_callbacks = [];\n",
       "      window._bokeh_is_loading = undefined;\n",
       "    }\n",
       "  \n",
       "    function run_callbacks() {\n",
       "      window._bokeh_onload_callbacks.forEach(function(callback) { callback() });\n",
       "      delete window._bokeh_onload_callbacks\n",
       "      console.info(\"Bokeh: all callbacks have finished\");\n",
       "    }\n",
       "  \n",
       "    function load_libs(js_urls, callback) {\n",
       "      window._bokeh_onload_callbacks.push(callback);\n",
       "      if (window._bokeh_is_loading > 0) {\n",
       "        console.log(\"Bokeh: BokehJS is being loaded, scheduling callback at\", now());\n",
       "        return null;\n",
       "      }\n",
       "      if (js_urls == null || js_urls.length === 0) {\n",
       "        run_callbacks();\n",
       "        return null;\n",
       "      }\n",
       "      console.log(\"Bokeh: BokehJS not loaded, scheduling load and callback at\", now());\n",
       "      window._bokeh_is_loading = js_urls.length;\n",
       "      for (var i = 0; i < js_urls.length; i++) {\n",
       "        var url = js_urls[i];\n",
       "        var s = document.createElement('script');\n",
       "        s.src = url;\n",
       "        s.async = false;\n",
       "        s.onreadystatechange = s.onload = function() {\n",
       "          window._bokeh_is_loading--;\n",
       "          if (window._bokeh_is_loading === 0) {\n",
       "            console.log(\"Bokeh: all BokehJS libraries loaded\");\n",
       "            run_callbacks()\n",
       "          }\n",
       "        };\n",
       "        s.onerror = function() {\n",
       "          console.warn(\"failed to load library \" + url);\n",
       "        };\n",
       "        console.log(\"Bokeh: injecting script tag for BokehJS library: \", url);\n",
       "        document.getElementsByTagName(\"head\")[0].appendChild(s);\n",
       "      }\n",
       "    };var element = document.getElementById(\"6002fef7-6541-45e8-a068-9e8edd96c7b7\");\n",
       "    if (element == null) {\n",
       "      console.log(\"Bokeh: ERROR: autoload.js configured with elementid '6002fef7-6541-45e8-a068-9e8edd96c7b7' but no matching script tag was found. \")\n",
       "      return false;\n",
       "    }\n",
       "  \n",
       "    var js_urls = [];\n",
       "  \n",
       "    var inline_js = [\n",
       "      function(Bokeh) {\n",
       "        Bokeh.$(function() {\n",
       "            var docs_json = {\"c782114e-35f6-43ed-831e-897cc9765033\":{\"roots\":{\"references\":[{\"attributes\":{\"fill_alpha\":{\"field\":\"fill_alpha\"},\"fill_color\":{\"field\":\"color\"},\"height\":{\"field\":\"height\",\"units\":\"data\"},\"line_color\":{\"field\":\"line_color\"},\"width\":{\"field\":\"width\",\"units\":\"data\"},\"x\":{\"field\":\"x\"},\"y\":{\"field\":\"y\"}},\"id\":\"6f554b66-aa46-450c-895f-8a4b6ffe612b\",\"type\":\"Rect\"},{\"attributes\":{\"data_source\":{\"id\":\"191fa622-a468-47b7-af6d-435cb76e72ed\",\"type\":\"ColumnDataSource\"},\"glyph\":{\"id\":\"614a2d38-3ba4-49b5-b9f0-5847ad03a4c2\",\"type\":\"Rect\"},\"hover_glyph\":null,\"nonselection_glyph\":null,\"selection_glyph\":null},\"id\":\"24c25a18-bfe3-448b-aab7-6bf5b9b275ba\",\"type\":\"GlyphRenderer\"},{\"attributes\":{\"data_source\":{\"id\":\"0a60e8c0-1037-4a69-a583-03ee916902a8\",\"type\":\"ColumnDataSource\"},\"glyph\":{\"id\":\"44d64d4c-c126-41c0-bed0-cf3d79d1970f\",\"type\":\"Rect\"},\"hover_glyph\":null,\"nonselection_glyph\":null,\"selection_glyph\":null},\"id\":\"abbd618b-78cb-4158-a9a0-df3607aa6194\",\"type\":\"GlyphRenderer\"},{\"attributes\":{\"data_source\":{\"id\":\"1b5a5438-925e-44ec-af06-1e37268297d5\",\"type\":\"ColumnDataSource\"},\"glyph\":{\"id\":\"97ec8906-2825-4853-a771-323e494ea1f6\",\"type\":\"Rect\"},\"hover_glyph\":null,\"nonselection_glyph\":null,\"selection_glyph\":null},\"id\":\"0cf27db8-bcfc-49e9-a5e3-ada0e39e7495\",\"type\":\"GlyphRenderer\"},{\"attributes\":{\"callback\":null,\"column_names\":[\"line_color\",\"line_alpha\",\"color\",\"fill_alpha\",\"height\",\"width\",\"y\",\"x\",\"label\"],\"data\":{\"chart_index\":[\"(3.5, 3.6]\"],\"color\":[\"#f22c40\"],\"fill_alpha\":[0.6],\"height\":[3.0],\"label\":[\"(3.5, 3.6]\"],\"line_alpha\":[1.0],\"line_color\":[\"black\"],\"width\":[0.11499920872552627],\"x\":[\"3.55\"],\"y\":[1.5]}},\"id\":\"da1cdc33-916f-4dc3-b144-db0d0a1be367\",\"type\":\"ColumnDataSource\"},{\"attributes\":{\"callback\":null,\"column_names\":[\"line_color\",\"line_alpha\",\"color\",\"fill_alpha\",\"height\",\"width\",\"y\",\"x\",\"label\"],\"data\":{\"chart_index\":[\"(3.2, 3.3]\"],\"color\":[\"#f22c40\"],\"fill_alpha\":[0.6],\"height\":[4.0],\"label\":[\"(3.2, 3.3]\"],\"line_alpha\":[1.0],\"line_color\":[\"black\"],\"width\":[0.11499920872552671],\"x\":[\"3.25\"],\"y\":[2.0]}},\"id\":\"19c92e24-7d5e-4b48-8eee-f3bd00251d90\",\"type\":\"ColumnDataSource\"},{\"attributes\":{\"data_source\":{\"id\":\"0f6786da-c5b2-4a6e-ac25-4881cc23a5a3\",\"type\":\"ColumnDataSource\"},\"glyph\":{\"id\":\"fd4a21af-b4df-4720-8a6e-e30d7bb2b5aa\",\"type\":\"Rect\"},\"hover_glyph\":null,\"nonselection_glyph\":null,\"selection_glyph\":null},\"id\":\"7886869d-bf12-4467-ae1f-59344004e59c\",\"type\":\"GlyphRenderer\"},{\"attributes\":{\"callback\":null,\"column_names\":[\"line_color\",\"line_alpha\",\"color\",\"fill_alpha\",\"height\",\"width\",\"y\",\"x\",\"label\"],\"data\":{\"chart_index\":[\"(0.9, 1.1]\"],\"color\":[\"#5ab738\"],\"fill_alpha\":[0.6],\"height\":[11.0],\"label\":[\"(0.9, 1.1]\"],\"line_alpha\":[1.0],\"line_color\":[\"black\"],\"width\":[0.10591420897971737],\"x\":[\"1.0\"],\"y\":[5.5]}},\"id\":\"3a808b8e-58ef-40b1-92c8-eb3cf2910f3d\",\"type\":\"ColumnDataSource\"},{\"attributes\":{\"callback\":null,\"column_names\":[\"line_color\",\"line_alpha\",\"color\",\"fill_alpha\",\"height\",\"width\",\"y\",\"x\",\"label\"],\"data\":{\"chart_index\":[\"(1.4, 1.5]\"],\"color\":[\"#5ab738\"],\"fill_alpha\":[0.6],\"height\":[2.0],\"label\":[\"(1.4, 1.5]\"],\"line_alpha\":[1.0],\"line_color\":[\"black\"],\"width\":[0.10591420897971782],\"x\":[\"1.45\"],\"y\":[1.0]}},\"id\":\"da40a248-3dc5-4d3e-b436-d0ba34157b4f\",\"type\":\"ColumnDataSource\"},{\"attributes\":{\"callback\":null,\"column_names\":[\"line_color\",\"line_alpha\",\"color\",\"fill_alpha\",\"height\",\"width\",\"y\",\"x\",\"label\"],\"data\":{\"chart_index\":[\"(0.3, 0.4]\"],\"color\":[\"#f22c40\"],\"fill_alpha\":[0.6],\"height\":[20.0],\"label\":[\"(0.3, 0.4]\"],\"line_alpha\":[1.0],\"line_color\":[\"black\"],\"width\":[0.11499920872552666],\"x\":[\"0.35\"],\"y\":[10.0]}},\"id\":\"0f6786da-c5b2-4a6e-ac25-4881cc23a5a3\",\"type\":\"ColumnDataSource\"},{\"attributes\":{},\"id\":\"d3ab1997-0574-44f7-883e-0504422360cf\",\"type\":\"BasicTickFormatter\"},{\"attributes\":{\"fill_alpha\":{\"field\":\"fill_alpha\"},\"fill_color\":{\"field\":\"color\"},\"height\":{\"field\":\"height\",\"units\":\"data\"},\"line_color\":{\"field\":\"line_color\"},\"width\":{\"field\":\"width\",\"units\":\"data\"},\"x\":{\"field\":\"x\"},\"y\":{\"field\":\"y\"}},\"id\":\"74accb9b-4e66-4e47-abfe-c0822bfb27e5\",\"type\":\"Rect\"},{\"attributes\":{\"data_source\":{\"id\":\"1865698e-8299-45fc-b659-455e327e2d4f\",\"type\":\"ColumnDataSource\"},\"glyph\":{\"id\":\"1f83bc1a-546b-4b6f-b00e-4677b9ec5e55\",\"type\":\"Rect\"},\"hover_glyph\":null,\"nonselection_glyph\":null,\"selection_glyph\":null},\"id\":\"931b0999-60e4-452a-9cc9-6b5497f4303a\",\"type\":\"GlyphRenderer\"},{\"attributes\":{},\"id\":\"7f5ceb38-3be4-494b-bd18-91daea3de17e\",\"type\":\"ToolEvents\"},{\"attributes\":{\"fill_alpha\":{\"field\":\"fill_alpha\"},\"fill_color\":{\"field\":\"color\"},\"height\":{\"field\":\"height\",\"units\":\"data\"},\"line_color\":{\"field\":\"line_color\"},\"width\":{\"field\":\"width\",\"units\":\"data\"},\"x\":{\"field\":\"x\"},\"y\":{\"field\":\"y\"}},\"id\":\"ae290f0d-84d7-4085-a5ef-4b423a0d664b\",\"type\":\"Rect\"},{\"attributes\":{\"data_source\":{\"id\":\"18054d46-a89f-4a53-9494-0b4a425f2870\",\"type\":\"ColumnDataSource\"},\"glyph\":{\"id\":\"e63a8487-4d97-49be-9591-697977cba3a8\",\"type\":\"Rect\"},\"hover_glyph\":null,\"nonselection_glyph\":null,\"selection_glyph\":null},\"id\":\"c0852017-6255-46d7-b6da-f96318d3f665\",\"type\":\"GlyphRenderer\"},{\"attributes\":{\"data_source\":{\"id\":\"da647315-178f-4793-b879-9b0a812ecb1f\",\"type\":\"ColumnDataSource\"},\"glyph\":{\"id\":\"d3de2c8b-3ac8-40fe-a76e-bcd8676b5d77\",\"type\":\"Rect\"},\"hover_glyph\":null,\"nonselection_glyph\":null,\"selection_glyph\":null},\"id\":\"75c15a62-40be-4034-b9ff-00c28d6b7f5d\",\"type\":\"GlyphRenderer\"},{\"attributes\":{\"data_source\":{\"id\":\"655c74d3-d7bc-49ea-be93-ffd5dcd155da\",\"type\":\"ColumnDataSource\"},\"glyph\":{\"id\":\"da2f582d-77a0-4245-82b5-ded10e3f1852\",\"type\":\"Rect\"},\"hover_glyph\":null,\"nonselection_glyph\":null,\"selection_glyph\":null},\"id\":\"7a6e66de-a7fb-4380-bf85-24b27f6ec6c9\",\"type\":\"GlyphRenderer\"},{\"attributes\":{\"data_source\":{\"id\":\"c792f611-41d9-4dc5-804d-0b316db79e67\",\"type\":\"ColumnDataSource\"},\"glyph\":{\"id\":\"082aacd7-1dad-43ca-87a8-0279e3199a8b\",\"type\":\"Rect\"},\"hover_glyph\":null,\"nonselection_glyph\":null,\"selection_glyph\":null},\"id\":\"bee89d38-0db7-4579-9e46-ee772def1c2a\",\"type\":\"GlyphRenderer\"},{\"attributes\":{\"data_source\":{\"id\":\"9cb97c95-e12f-40b6-9df0-3818104ca134\",\"type\":\"ColumnDataSource\"},\"glyph\":{\"id\":\"93ccbb79-afa0-4889-9cfc-03db06d4e126\",\"type\":\"Rect\"},\"hover_glyph\":null,\"nonselection_glyph\":null,\"selection_glyph\":null},\"id\":\"7444b03e-98c2-45af-92ef-0cfc3485ec42\",\"type\":\"GlyphRenderer\"},{\"attributes\":{\"callback\":null,\"column_names\":[\"line_color\",\"line_alpha\",\"color\",\"fill_alpha\",\"height\",\"width\",\"y\",\"x\",\"label\"],\"data\":{\"chart_index\":[\"(1.5, 1.7]\"],\"color\":[\"#f22c40\"],\"fill_alpha\":[0.6],\"height\":[40.0],\"label\":[\"(1.5, 1.7]\"],\"line_alpha\":[1.0],\"line_color\":[\"black\"],\"width\":[0.11499920872552649],\"x\":[\"1.6\"],\"y\":[20.0]}},\"id\":\"c5e3ea37-0603-4b7c-aa97-ee0c262cfe40\",\"type\":\"ColumnDataSource\"},{\"attributes\":{\"callback\":null,\"column_names\":[\"line_color\",\"line_alpha\",\"color\",\"fill_alpha\",\"height\",\"width\",\"y\",\"x\",\"label\"],\"data\":{\"chart_index\":[\"(2.7, 2.8]\"],\"color\":[\"#f22c40\"],\"fill_alpha\":[0.6],\"height\":[1.0],\"label\":[\"(2.7, 2.8]\"],\"line_alpha\":[1.0],\"line_color\":[\"black\"],\"width\":[0.11499920872552671],\"x\":[\"2.75\"],\"y\":[0.5]}},\"id\":\"1865698e-8299-45fc-b659-455e327e2d4f\",\"type\":\"ColumnDataSource\"},{\"attributes\":{\"data_source\":{\"id\":\"da1cdc33-916f-4dc3-b144-db0d0a1be367\",\"type\":\"ColumnDataSource\"},\"glyph\":{\"id\":\"966fcd35-0d00-4419-a45b-61f491d19ab4\",\"type\":\"Rect\"},\"hover_glyph\":null,\"nonselection_glyph\":null,\"selection_glyph\":null},\"id\":\"87012f61-5d98-4fa6-897f-51e3d56724ff\",\"type\":\"GlyphRenderer\"},{\"attributes\":{\"data_source\":{\"id\":\"2d03510f-852f-45b4-ad52-603ebe19f2ae\",\"type\":\"ColumnDataSource\"},\"glyph\":{\"id\":\"aeca2f0e-333e-473a-aa59-787012755498\",\"type\":\"Rect\"},\"hover_glyph\":null,\"nonselection_glyph\":null,\"selection_glyph\":null},\"id\":\"2c6328b8-b3e2-42dd-9383-b5cab09763b9\",\"type\":\"GlyphRenderer\"},{\"attributes\":{\"callback\":null,\"end\":119.9},\"id\":\"4640428e-3e19-40d5-b48b-cb997bdd7b6c\",\"type\":\"Range1d\"},{\"attributes\":{\"callback\":null,\"column_names\":[\"line_color\",\"line_alpha\",\"color\",\"fill_alpha\",\"height\",\"width\",\"y\",\"x\",\"label\"],\"data\":{\"chart_index\":[\"(2.9, 3.0]\"],\"color\":[\"#f22c40\"],\"fill_alpha\":[0.6],\"height\":[2.0],\"label\":[\"(2.9, 3.0]\"],\"line_alpha\":[1.0],\"line_color\":[\"black\"],\"width\":[0.11499920872552627],\"x\":[\"2.95\"],\"y\":[1.0]}},\"id\":\"70a0806d-ed2d-44d8-9407-25f31cd8b4fe\",\"type\":\"ColumnDataSource\"},{\"attributes\":{\"data_source\":{\"id\":\"b49b6f6f-fd78-4ccd-af4b-39cb8a8fa5e4\",\"type\":\"ColumnDataSource\"},\"glyph\":{\"id\":\"02cd5ddb-bbfe-44fd-a0f7-32d5531f416b\",\"type\":\"Rect\"},\"hover_glyph\":null,\"nonselection_glyph\":null,\"selection_glyph\":null},\"id\":\"62f1c515-5a0e-4fa2-8df4-54f096b70441\",\"type\":\"GlyphRenderer\"},{\"attributes\":{\"data_source\":{\"id\":\"1df1ecc0-1b68-4fb6-b9a0-36fc4da5bf52\",\"type\":\"ColumnDataSource\"},\"glyph\":{\"id\":\"b6d9445a-1a08-4cb6-afe5-c9c4cbeecb7f\",\"type\":\"Rect\"},\"hover_glyph\":null,\"nonselection_glyph\":null,\"selection_glyph\":null},\"id\":\"a36e6e3f-c211-4ae1-8730-3108f6626f36\",\"type\":\"GlyphRenderer\"},{\"attributes\":{\"callback\":null,\"column_names\":[\"line_color\",\"line_alpha\",\"color\",\"fill_alpha\",\"height\",\"width\",\"y\",\"x\",\"label\"],\"data\":{\"chart_index\":[\"(1.3, 1.4]\"],\"color\":[\"#f22c40\"],\"fill_alpha\":[0.6],\"height\":[58.0],\"label\":[\"(1.3, 1.4]\"],\"line_alpha\":[1.0],\"line_color\":[\"black\"],\"width\":[0.11499920872552671],\"x\":[\"1.35\"],\"y\":[29.0]}},\"id\":\"9cb97c95-e12f-40b6-9df0-3818104ca134\",\"type\":\"ColumnDataSource\"},{\"attributes\":{\"data_source\":{\"id\":\"da40a248-3dc5-4d3e-b436-d0ba34157b4f\",\"type\":\"ColumnDataSource\"},\"glyph\":{\"id\":\"e9899e4a-2852-4b32-8891-c013b7a6c1cb\",\"type\":\"Rect\"},\"hover_glyph\":null,\"nonselection_glyph\":null,\"selection_glyph\":null},\"id\":\"19d80d6d-502a-4aba-b61d-db30fc3dd0a0\",\"type\":\"GlyphRenderer\"},{\"attributes\":{\"callback\":null,\"column_names\":[\"line_color\",\"line_alpha\",\"color\",\"fill_alpha\",\"height\",\"width\",\"y\",\"x\",\"label\"],\"data\":{\"chart_index\":[\"(0.2, 0.3]\"],\"color\":[\"#5ab738\"],\"fill_alpha\":[0.6],\"height\":[71.0],\"label\":[\"(0.2, 0.3]\"],\"line_alpha\":[1.0],\"line_color\":[\"black\"],\"width\":[0.1059142089797176],\"x\":[\"0.25\"],\"y\":[35.5]}},\"id\":\"527ec490-3f2e-41e0-82e5-a70e968cb44e\",\"type\":\"ColumnDataSource\"},{\"attributes\":{\"data_source\":{\"id\":\"1a962f2b-df28-4efb-ace9-9c4a01e6d7a6\",\"type\":\"ColumnDataSource\"},\"glyph\":{\"id\":\"2682f80f-ec97-4c2d-9621-bfe540c67889\",\"type\":\"Rect\"},\"hover_glyph\":null,\"nonselection_glyph\":null,\"selection_glyph\":null},\"id\":\"51b3ab91-17f7-4081-8f01-243630a75a13\",\"type\":\"GlyphRenderer\"},{\"attributes\":{\"fill_alpha\":{\"field\":\"fill_alpha\"},\"fill_color\":{\"field\":\"color\"},\"height\":{\"field\":\"height\",\"units\":\"data\"},\"line_color\":{\"field\":\"line_color\"},\"width\":{\"field\":\"width\",\"units\":\"data\"},\"x\":{\"field\":\"x\"},\"y\":{\"field\":\"y\"}},\"id\":\"93946dff-3c8b-4406-965b-6c6877c7a7a1\",\"type\":\"Rect\"},{\"attributes\":{\"fill_alpha\":{\"field\":\"fill_alpha\"},\"fill_color\":{\"field\":\"color\"},\"height\":{\"field\":\"height\",\"units\":\"data\"},\"line_color\":{\"field\":\"line_color\"},\"width\":{\"field\":\"width\",\"units\":\"data\"},\"x\":{\"field\":\"x\"},\"y\":{\"field\":\"y\"}},\"id\":\"0034742f-7050-46e9-bc4a-fd29cc98c444\",\"type\":\"Rect\"},{\"attributes\":{\"data_source\":{\"id\":\"ff500286-0acd-4d63-ab40-5a69ffd7b4a9\",\"type\":\"ColumnDataSource\"},\"glyph\":{\"id\":\"f25895d7-a2d2-492f-b7fc-79bab3c8ae74\",\"type\":\"Rect\"},\"hover_glyph\":null,\"nonselection_glyph\":null,\"selection_glyph\":null},\"id\":\"48f2568a-a469-471f-801e-7cdb7ad77c49\",\"type\":\"GlyphRenderer\"},{\"attributes\":{\"data_source\":{\"id\":\"24c86061-2fbe-4685-9d54-599ccabfdb15\",\"type\":\"ColumnDataSource\"},\"glyph\":{\"id\":\"01912ce6-26aa-445c-b36f-bd00c548344c\",\"type\":\"Rect\"},\"hover_glyph\":null,\"nonselection_glyph\":null,\"selection_glyph\":null},\"id\":\"23f63d0a-7677-4856-afa7-5ced5b9f27bb\",\"type\":\"GlyphRenderer\"},{\"attributes\":{\"data_source\":{\"id\":\"498f9074-9879-4a71-8f89-6b317857ecbf\",\"type\":\"ColumnDataSource\"},\"glyph\":{\"id\":\"f3925ff3-aba4-4d82-b7f7-3812fc4d0054\",\"type\":\"Rect\"},\"hover_glyph\":null,\"nonselection_glyph\":null,\"selection_glyph\":null},\"id\":\"c41dfef5-b0e7-4127-b928-cac4cf361bf2\",\"type\":\"GlyphRenderer\"},{\"attributes\":{\"callback\":null,\"column_names\":[\"line_color\",\"line_alpha\",\"color\",\"fill_alpha\",\"height\",\"width\",\"y\",\"x\",\"label\"],\"data\":{\"chart_index\":[\"(1.0, 1.1]\"],\"color\":[\"#f22c40\"],\"fill_alpha\":[0.6],\"height\":[78.0],\"label\":[\"(1.0, 1.1]\"],\"line_alpha\":[1.0],\"line_color\":[\"black\"],\"width\":[0.11499920872552671],\"x\":[\"1.05\"],\"y\":[39.0]}},\"id\":\"6b16c006-10aa-49f6-ae80-9e8e536d9ffb\",\"type\":\"ColumnDataSource\"},{\"attributes\":{\"callback\":null,\"column_names\":[\"line_color\",\"line_alpha\",\"color\",\"fill_alpha\",\"height\",\"width\",\"y\",\"x\",\"label\"],\"data\":{\"chart_index\":[\"(1.4, 1.5]\"],\"color\":[\"#f22c40\"],\"fill_alpha\":[0.6],\"height\":[51.0],\"label\":[\"(1.4, 1.5]\"],\"line_alpha\":[1.0],\"line_color\":[\"black\"],\"width\":[0.11499920872552671],\"x\":[\"1.45\"],\"y\":[25.5]}},\"id\":\"f5f1b544-26e9-4356-862d-86beb532d517\",\"type\":\"ColumnDataSource\"},{\"attributes\":{\"fill_alpha\":{\"field\":\"fill_alpha\"},\"fill_color\":{\"field\":\"color\"},\"height\":{\"field\":\"height\",\"units\":\"data\"},\"line_color\":{\"field\":\"line_color\"},\"width\":{\"field\":\"width\",\"units\":\"data\"},\"x\":{\"field\":\"x\"},\"y\":{\"field\":\"y\"}},\"id\":\"ee4e0348-eda7-4a6c-8cdd-ed92b24b5202\",\"type\":\"Rect\"},{\"attributes\":{\"data_source\":{\"id\":\"d5f9b99b-2fd4-4671-9374-fa5d4bf292ca\",\"type\":\"ColumnDataSource\"},\"glyph\":{\"id\":\"63b001eb-9135-4dca-a339-81403c250e99\",\"type\":\"Rect\"},\"hover_glyph\":null,\"nonselection_glyph\":null,\"selection_glyph\":null},\"id\":\"9d24d6f5-36ff-4ef0-8300-7a10998979b3\",\"type\":\"GlyphRenderer\"},{\"attributes\":{\"data_source\":{\"id\":\"6f0e2f29-fc1e-4424-8807-e3bac0b950d1\",\"type\":\"ColumnDataSource\"},\"glyph\":{\"id\":\"32a97a0d-d958-4a21-af8f-4898d511ed69\",\"type\":\"Rect\"},\"hover_glyph\":null,\"nonselection_glyph\":null,\"selection_glyph\":null},\"id\":\"152b2579-09d4-4e4f-bc7e-33542270c5d7\",\"type\":\"GlyphRenderer\"},{\"attributes\":{\"fill_alpha\":{\"field\":\"fill_alpha\"},\"fill_color\":{\"field\":\"color\"},\"height\":{\"field\":\"height\",\"units\":\"data\"},\"line_color\":{\"field\":\"line_color\"},\"width\":{\"field\":\"width\",\"units\":\"data\"},\"x\":{\"field\":\"x\"},\"y\":{\"field\":\"y\"}},\"id\":\"44347374-7cf0-42cd-8824-8350fa4956bd\",\"type\":\"Rect\"},{\"attributes\":{\"callback\":null,\"column_names\":[\"line_color\",\"line_alpha\",\"color\",\"fill_alpha\",\"height\",\"width\",\"y\",\"x\",\"label\"],\"data\":{\"chart_index\":[\"(2.0, 2.1]\"],\"color\":[\"#f22c40\"],\"fill_alpha\":[0.6],\"height\":[15.0],\"label\":[\"(2.0, 2.1]\"],\"line_alpha\":[1.0],\"line_color\":[\"black\"],\"width\":[0.11499920872552671],\"x\":[\"2.05\"],\"y\":[7.5]}},\"id\":\"12e36946-1bf1-412a-8024-0e028f47ec6e\",\"type\":\"ColumnDataSource\"},{\"attributes\":{\"data_source\":{\"id\":\"2e120b3c-0714-481d-bf9b-786cb7a6d6ea\",\"type\":\"ColumnDataSource\"},\"glyph\":{\"id\":\"a4a5e623-0127-4508-a093-ef29975427c5\",\"type\":\"Rect\"},\"hover_glyph\":null,\"nonselection_glyph\":null,\"selection_glyph\":null},\"id\":\"57f69257-b511-45ec-872d-ff9c649f05ad\",\"type\":\"GlyphRenderer\"},{\"attributes\":{\"callback\":null,\"column_names\":[\"line_color\",\"line_alpha\",\"color\",\"fill_alpha\",\"height\",\"width\",\"y\",\"x\",\"label\"],\"data\":{\"chart_index\":[\"(-0.0, 0.1]\"],\"color\":[\"#5ab738\"],\"fill_alpha\":[0.6],\"height\":[84.0],\"label\":[\"(-0.0, 0.1]\"],\"line_alpha\":[1.0],\"line_color\":[\"black\"],\"width\":[0.10591420897971782],\"x\":[\"0.05\"],\"y\":[42.0]}},\"id\":\"1b5a5438-925e-44ec-af06-1e37268297d5\",\"type\":\"ColumnDataSource\"},{\"attributes\":{\"fill_alpha\":{\"field\":\"fill_alpha\"},\"fill_color\":{\"field\":\"color\"},\"height\":{\"field\":\"height\",\"units\":\"data\"},\"line_color\":{\"field\":\"line_color\"},\"width\":{\"field\":\"width\",\"units\":\"data\"},\"x\":{\"field\":\"x\"},\"y\":{\"field\":\"y\"}},\"id\":\"5cf2c828-4b19-4910-bc73-74c8f17f0dc5\",\"type\":\"Rect\"},{\"attributes\":{\"callback\":null,\"column_names\":[\"line_color\",\"line_alpha\",\"color\",\"fill_alpha\",\"height\",\"width\",\"y\",\"x\",\"label\"],\"data\":{\"chart_index\":[\"(2.2, 2.3]\"],\"color\":[\"#f22c40\"],\"fill_alpha\":[0.6],\"height\":[9.0],\"label\":[\"(2.2, 2.3]\"],\"line_alpha\":[1.0],\"line_color\":[\"black\"],\"width\":[0.11499920872552627],\"x\":[\"2.25\"],\"y\":[4.5]}},\"id\":\"18054d46-a89f-4a53-9494-0b4a425f2870\",\"type\":\"ColumnDataSource\"},{\"attributes\":{\"fill_alpha\":{\"field\":\"fill_alpha\"},\"fill_color\":{\"field\":\"color\"},\"height\":{\"field\":\"height\",\"units\":\"data\"},\"line_color\":{\"field\":\"line_color\"},\"width\":{\"field\":\"width\",\"units\":\"data\"},\"x\":{\"field\":\"x\"},\"y\":{\"field\":\"y\"}},\"id\":\"b6d9445a-1a08-4cb6-afe5-c9c4cbeecb7f\",\"type\":\"Rect\"},{\"attributes\":{\"fill_alpha\":{\"field\":\"fill_alpha\"},\"fill_color\":{\"field\":\"color\"},\"height\":{\"field\":\"height\",\"units\":\"data\"},\"line_color\":{\"field\":\"line_color\"},\"width\":{\"field\":\"width\",\"units\":\"data\"},\"x\":{\"field\":\"x\"},\"y\":{\"field\":\"y\"}},\"id\":\"a4a5e623-0127-4508-a093-ef29975427c5\",\"type\":\"Rect\"},{\"attributes\":{\"callback\":null,\"column_names\":[\"line_color\",\"line_alpha\",\"color\",\"fill_alpha\",\"height\",\"width\",\"y\",\"x\",\"label\"],\"data\":{\"chart_index\":[\"(-0.5, -0.4]\"],\"color\":[\"#5ab738\"],\"fill_alpha\":[0.6],\"height\":[41.0],\"label\":[\"(-0.5, -0.4]\"],\"line_alpha\":[1.0],\"line_color\":[\"black\"],\"width\":[0.10591420897971782],\"x\":[\"-0.45\"],\"y\":[20.5]}},\"id\":\"da647315-178f-4793-b879-9b0a812ecb1f\",\"type\":\"ColumnDataSource\"},{\"attributes\":{\"plot\":{\"id\":\"9b175d02-2da9-472b-a36c-85f99b4c41a0\",\"subtype\":\"Chart\",\"type\":\"Plot\"}},\"id\":\"d860b786-bd00-49f2-8dc0-a14bbfab1770\",\"type\":\"HelpTool\"},{\"attributes\":{\"fill_alpha\":{\"field\":\"fill_alpha\"},\"fill_color\":{\"field\":\"color\"},\"height\":{\"field\":\"height\",\"units\":\"data\"},\"line_color\":{\"field\":\"line_color\"},\"width\":{\"field\":\"width\",\"units\":\"data\"},\"x\":{\"field\":\"x\"},\"y\":{\"field\":\"y\"}},\"id\":\"39405f1d-31ee-4e16-bf65-027f4b9beb79\",\"type\":\"Rect\"},{\"attributes\":{\"callback\":null,\"column_names\":[\"line_color\",\"line_alpha\",\"color\",\"fill_alpha\",\"height\",\"width\",\"y\",\"x\",\"label\"],\"data\":{\"chart_index\":[\"(-0.2, -0.1]\"],\"color\":[\"#5ab738\"],\"fill_alpha\":[0.6],\"height\":[92.0],\"label\":[\"(-0.2, -0.1]\"],\"line_alpha\":[1.0],\"line_color\":[\"black\"],\"width\":[0.10591420897971782],\"x\":[\"-0.15\"],\"y\":[46.0]}},\"id\":\"05e38693-b307-4c0d-b357-b09423705eb9\",\"type\":\"ColumnDataSource\"},{\"attributes\":{\"callback\":null,\"column_names\":[\"line_color\",\"line_alpha\",\"color\",\"fill_alpha\",\"height\",\"width\",\"y\",\"x\",\"label\"],\"data\":{\"chart_index\":[\"(1.7, 1.8]\"],\"color\":[\"#f22c40\"],\"fill_alpha\":[0.6],\"height\":[26.0],\"label\":[\"(1.7, 1.8]\"],\"line_alpha\":[1.0],\"line_color\":[\"black\"],\"width\":[0.11499920872552671],\"x\":[\"1.75\"],\"y\":[13.0]}},\"id\":\"b0dad8c1-7d3d-4740-a9a8-603423cd9a91\",\"type\":\"ColumnDataSource\"},{\"attributes\":{\"data_source\":{\"id\":\"3a808b8e-58ef-40b1-92c8-eb3cf2910f3d\",\"type\":\"ColumnDataSource\"},\"glyph\":{\"id\":\"7bb5eb21-9fdc-41a5-9f5c-ff3ffb682e57\",\"type\":\"Rect\"},\"hover_glyph\":null,\"nonselection_glyph\":null,\"selection_glyph\":null},\"id\":\"fe75b751-726e-4d46-a5ab-3fc2fa9a1bb8\",\"type\":\"GlyphRenderer\"},{\"attributes\":{\"fill_alpha\":{\"field\":\"fill_alpha\"},\"fill_color\":{\"field\":\"color\"},\"height\":{\"field\":\"height\",\"units\":\"data\"},\"line_color\":{\"field\":\"line_color\"},\"width\":{\"field\":\"width\",\"units\":\"data\"},\"x\":{\"field\":\"x\"},\"y\":{\"field\":\"y\"}},\"id\":\"e3af2e4c-1056-43d0-9e88-444b24e09043\",\"type\":\"Rect\"},{\"attributes\":{\"callback\":null,\"column_names\":[\"line_color\",\"line_alpha\",\"color\",\"fill_alpha\",\"height\",\"width\",\"y\",\"x\",\"label\"],\"data\":{\"chart_index\":[\"(-1.0, -0.9]\"],\"color\":[\"#5ab738\"],\"fill_alpha\":[0.6],\"height\":[18.0],\"label\":[\"(-1.0, -0.9]\"],\"line_alpha\":[1.0],\"line_color\":[\"black\"],\"width\":[0.1059142089797177],\"x\":[\"-0.95\"],\"y\":[9.0]}},\"id\":\"53391c51-1038-47f7-865f-507c1fb03727\",\"type\":\"ColumnDataSource\"},{\"attributes\":{\"data_source\":{\"id\":\"1e16a90f-0aec-41ea-ae2f-5f61596be33f\",\"type\":\"ColumnDataSource\"},\"glyph\":{\"id\":\"f64787a7-2e87-4204-becd-0a1dbc9bcc0c\",\"type\":\"Rect\"},\"hover_glyph\":null,\"nonselection_glyph\":null,\"selection_glyph\":null},\"id\":\"604bae3f-b29d-46c4-9b3e-f2db90bf6e95\",\"type\":\"GlyphRenderer\"},{\"attributes\":{\"fill_alpha\":{\"field\":\"fill_alpha\"},\"fill_color\":{\"field\":\"color\"},\"height\":{\"field\":\"height\",\"units\":\"data\"},\"line_color\":{\"field\":\"line_color\"},\"width\":{\"field\":\"width\",\"units\":\"data\"},\"x\":{\"field\":\"x\"},\"y\":{\"field\":\"y\"}},\"id\":\"f25895d7-a2d2-492f-b7fc-79bab3c8ae74\",\"type\":\"Rect\"},{\"attributes\":{\"plot\":null,\"text\":null},\"id\":\"e33acb19-1f2c-4308-bcfa-7e3ebca60a35\",\"type\":\"Title\"},{\"attributes\":{\"data_source\":{\"id\":\"ade8c7e3-1467-4fed-b090-30b57f9a37fc\",\"type\":\"ColumnDataSource\"},\"glyph\":{\"id\":\"4c83449d-4780-4d32-a9e8-4b7f29dd34fd\",\"type\":\"Rect\"},\"hover_glyph\":null,\"nonselection_glyph\":null,\"selection_glyph\":null},\"id\":\"a42acb4b-45cd-46f9-8ac0-70600dcc642b\",\"type\":\"GlyphRenderer\"},{\"attributes\":{\"callback\":null,\"column_names\":[\"line_color\",\"line_alpha\",\"color\",\"fill_alpha\",\"height\",\"width\",\"y\",\"x\",\"label\"],\"data\":{\"chart_index\":[\"(3.4, 3.5]\"],\"color\":[\"#f22c40\"],\"fill_alpha\":[0.6],\"height\":[0.0],\"label\":[\"(3.4, 3.5]\"],\"line_alpha\":[1.0],\"line_color\":[\"black\"],\"width\":[0.11499920872552671],\"x\":[\"3.45\"],\"y\":[0.0]}},\"id\":\"607d7057-8532-4ae0-b944-485a961ffea4\",\"type\":\"ColumnDataSource\"},{\"attributes\":{\"fill_alpha\":{\"field\":\"fill_alpha\"},\"fill_color\":{\"field\":\"color\"},\"height\":{\"field\":\"height\",\"units\":\"data\"},\"line_color\":{\"field\":\"line_color\"},\"width\":{\"field\":\"width\",\"units\":\"data\"},\"x\":{\"field\":\"x\"},\"y\":{\"field\":\"y\"}},\"id\":\"b28cd1be-490a-415a-9510-aa6fcf777d32\",\"type\":\"Rect\"},{\"attributes\":{\"callback\":null,\"column_names\":[\"line_color\",\"line_alpha\",\"color\",\"fill_alpha\",\"height\",\"width\",\"y\",\"x\",\"label\"],\"data\":{\"chart_index\":[\"(1.1, 1.2]\"],\"color\":[\"#5ab738\"],\"fill_alpha\":[0.6],\"height\":[7.0],\"label\":[\"(1.1, 1.2]\"],\"line_alpha\":[1.0],\"line_color\":[\"black\"],\"width\":[0.10591420897971782],\"x\":[\"1.15\"],\"y\":[3.5]}},\"id\":\"1c2389f5-c924-4cb5-8f71-f0a739b8fc96\",\"type\":\"ColumnDataSource\"},{\"attributes\":{\"callback\":null,\"column_names\":[\"line_color\",\"line_alpha\",\"color\",\"fill_alpha\",\"height\",\"width\",\"y\",\"x\",\"label\"],\"data\":{\"chart_index\":[\"(-0.4, -0.3]\"],\"color\":[\"#5ab738\"],\"fill_alpha\":[0.6],\"height\":[71.0],\"label\":[\"(-0.4, -0.3]\"],\"line_alpha\":[1.0],\"line_color\":[\"black\"],\"width\":[0.10591420897971782],\"x\":[\"-0.35\"],\"y\":[35.5]}},\"id\":\"9131ec5b-373d-40c6-a18a-410f487f610c\",\"type\":\"ColumnDataSource\"},{\"attributes\":{\"data_source\":{\"id\":\"1c2389f5-c924-4cb5-8f71-f0a739b8fc96\",\"type\":\"ColumnDataSource\"},\"glyph\":{\"id\":\"6f554b66-aa46-450c-895f-8a4b6ffe612b\",\"type\":\"Rect\"},\"hover_glyph\":null,\"nonselection_glyph\":null,\"selection_glyph\":null},\"id\":\"5a5dbf40-56ac-416f-b073-0fbb30269e07\",\"type\":\"GlyphRenderer\"},{\"attributes\":{\"fill_alpha\":{\"field\":\"fill_alpha\"},\"fill_color\":{\"field\":\"color\"},\"height\":{\"field\":\"height\",\"units\":\"data\"},\"line_color\":{\"field\":\"line_color\"},\"width\":{\"field\":\"width\",\"units\":\"data\"},\"x\":{\"field\":\"x\"},\"y\":{\"field\":\"y\"}},\"id\":\"4c83449d-4780-4d32-a9e8-4b7f29dd34fd\",\"type\":\"Rect\"},{\"attributes\":{\"data_source\":{\"id\":\"1227f7e9-3be2-4a7c-b60f-60699dd36b3a\",\"type\":\"ColumnDataSource\"},\"glyph\":{\"id\":\"d6f7d2a8-3eef-465a-9822-e5dcbe8b7ba6\",\"type\":\"Rect\"},\"hover_glyph\":null,\"nonselection_glyph\":null,\"selection_glyph\":null},\"id\":\"42a3a649-d667-4e7b-8c0c-c90bb4035d17\",\"type\":\"GlyphRenderer\"},{\"attributes\":{\"data_source\":{\"id\":\"f5f1b544-26e9-4356-862d-86beb532d517\",\"type\":\"ColumnDataSource\"},\"glyph\":{\"id\":\"fb4ac4e2-da65-40ff-914e-349e1369304c\",\"type\":\"Rect\"},\"hover_glyph\":null,\"nonselection_glyph\":null,\"selection_glyph\":null},\"id\":\"53e806df-587a-4fa8-bb78-5679d8168ca0\",\"type\":\"GlyphRenderer\"},{\"attributes\":{\"plot\":{\"id\":\"9b175d02-2da9-472b-a36c-85f99b4c41a0\",\"subtype\":\"Chart\",\"type\":\"Plot\"}},\"id\":\"9a11d9f6-da9c-47a8-8d4c-6402f1560f01\",\"type\":\"SaveTool\"},{\"attributes\":{\"fill_alpha\":{\"field\":\"fill_alpha\"},\"fill_color\":{\"field\":\"color\"},\"height\":{\"field\":\"height\",\"units\":\"data\"},\"line_color\":{\"field\":\"line_color\"},\"width\":{\"field\":\"width\",\"units\":\"data\"},\"x\":{\"field\":\"x\"},\"y\":{\"field\":\"y\"}},\"id\":\"0dd95656-4fdd-4bab-8a9d-0d472d38d83c\",\"type\":\"Rect\"},{\"attributes\":{\"overlay\":{\"id\":\"f02b2095-2f8d-4b7b-8ad7-fdebd262057e\",\"type\":\"BoxAnnotation\"},\"plot\":{\"id\":\"9b175d02-2da9-472b-a36c-85f99b4c41a0\",\"subtype\":\"Chart\",\"type\":\"Plot\"}},\"id\":\"ebe6115d-ed3b-4df4-b412-7285921a1d6d\",\"type\":\"BoxZoomTool\"},{\"attributes\":{\"data_source\":{\"id\":\"55d02aa7-d25d-49a2-be43-98afe5c47670\",\"type\":\"ColumnDataSource\"},\"glyph\":{\"id\":\"f27cc95a-233c-4ed8-a6bd-bf6aa1c8f12d\",\"type\":\"Rect\"},\"hover_glyph\":null,\"nonselection_glyph\":null,\"selection_glyph\":null},\"id\":\"d0f5192a-71ad-47a1-9603-31aab8d79109\",\"type\":\"GlyphRenderer\"},{\"attributes\":{\"data_source\":{\"id\":\"c5e3ea37-0603-4b7c-aa97-ee0c262cfe40\",\"type\":\"ColumnDataSource\"},\"glyph\":{\"id\":\"39cb0f54-f0c9-46fb-8c75-fb3f5e6594a7\",\"type\":\"Rect\"},\"hover_glyph\":null,\"nonselection_glyph\":null,\"selection_glyph\":null},\"id\":\"39b982dd-7bdb-483b-b934-04b7d1431774\",\"type\":\"GlyphRenderer\"},{\"attributes\":{\"fill_alpha\":{\"field\":\"fill_alpha\"},\"fill_color\":{\"field\":\"color\"},\"height\":{\"field\":\"height\",\"units\":\"data\"},\"line_color\":{\"field\":\"line_color\"},\"width\":{\"field\":\"width\",\"units\":\"data\"},\"x\":{\"field\":\"x\"},\"y\":{\"field\":\"y\"}},\"id\":\"63b001eb-9135-4dca-a339-81403c250e99\",\"type\":\"Rect\"},{\"attributes\":{\"data_source\":{\"id\":\"adef9a09-9091-4c40-8503-cd5bc369a42b\",\"type\":\"ColumnDataSource\"},\"glyph\":{\"id\":\"7b4e49a9-88c6-4d56-813a-d5f10e7415af\",\"type\":\"Rect\"},\"hover_glyph\":null,\"nonselection_glyph\":null,\"selection_glyph\":null},\"id\":\"cdfd9df5-b52b-4fb2-9b7a-64792adc1c5b\",\"type\":\"GlyphRenderer\"},{\"attributes\":{\"fill_alpha\":{\"field\":\"fill_alpha\"},\"fill_color\":{\"field\":\"color\"},\"height\":{\"field\":\"height\",\"units\":\"data\"},\"line_color\":{\"field\":\"line_color\"},\"width\":{\"field\":\"width\",\"units\":\"data\"},\"x\":{\"field\":\"x\"},\"y\":{\"field\":\"y\"}},\"id\":\"614a2d38-3ba4-49b5-b9f0-5847ad03a4c2\",\"type\":\"Rect\"},{\"attributes\":{\"data_source\":{\"id\":\"24dbb733-9acd-43d8-a659-39117011857b\",\"type\":\"ColumnDataSource\"},\"glyph\":{\"id\":\"0034742f-7050-46e9-bc4a-fd29cc98c444\",\"type\":\"Rect\"},\"hover_glyph\":null,\"nonselection_glyph\":null,\"selection_glyph\":null},\"id\":\"e4d0cc6e-9dbd-46d3-80ec-d535ae5c4612\",\"type\":\"GlyphRenderer\"},{\"attributes\":{\"callback\":null,\"end\":3.6576131668595857,\"start\":-1.6530706669866815},\"id\":\"adaac88b-8cce-4568-a8c1-1bb1ec50cd66\",\"type\":\"Range1d\"},{\"attributes\":{\"fill_alpha\":{\"field\":\"fill_alpha\"},\"fill_color\":{\"field\":\"color\"},\"height\":{\"field\":\"height\",\"units\":\"data\"},\"line_color\":{\"field\":\"line_color\"},\"width\":{\"field\":\"width\",\"units\":\"data\"},\"x\":{\"field\":\"x\"},\"y\":{\"field\":\"y\"}},\"id\":\"d6f7d2a8-3eef-465a-9822-e5dcbe8b7ba6\",\"type\":\"Rect\"},{\"attributes\":{\"callback\":null,\"column_names\":[\"line_color\",\"line_alpha\",\"color\",\"fill_alpha\",\"height\",\"width\",\"y\",\"x\",\"label\"],\"data\":{\"chart_index\":[\"(0.1, 0.2]\"],\"color\":[\"#5ab738\"],\"fill_alpha\":[0.6],\"height\":[92.0],\"label\":[\"(0.1, 0.2]\"],\"line_alpha\":[1.0],\"line_color\":[\"black\"],\"width\":[0.10591420897971782],\"x\":[\"0.15\"],\"y\":[46.0]}},\"id\":\"c1b2a54a-6c23-4471-87a0-f5e3487df581\",\"type\":\"ColumnDataSource\"},{\"attributes\":{\"callback\":null,\"column_names\":[\"line_color\",\"line_alpha\",\"color\",\"fill_alpha\",\"height\",\"width\",\"y\",\"x\",\"label\"],\"data\":{\"chart_index\":[\"[-1.6, -1.5]\"],\"color\":[\"#5ab738\"],\"fill_alpha\":[0.6],\"height\":[2.0],\"label\":[\"[-1.6, -1.5]\"],\"line_alpha\":[1.0],\"line_color\":[\"black\"],\"width\":[0.10591420897971782],\"x\":[\"-1.55\"],\"y\":[1.0]}},\"id\":\"adef9a09-9091-4c40-8503-cd5bc369a42b\",\"type\":\"ColumnDataSource\"},{\"attributes\":{\"data_source\":{\"id\":\"96a89cf0-c519-416c-ac0b-1d026776b479\",\"type\":\"ColumnDataSource\"},\"glyph\":{\"id\":\"c4a3857c-1d51-4da7-9787-9697f1b0f714\",\"type\":\"Rect\"},\"hover_glyph\":null,\"nonselection_glyph\":null,\"selection_glyph\":null},\"id\":\"f538dc33-1485-4ed2-8bea-aa7684aeefc7\",\"type\":\"GlyphRenderer\"},{\"attributes\":{\"data_source\":{\"id\":\"ec865424-87ab-4928-a490-41916ed22f33\",\"type\":\"ColumnDataSource\"},\"glyph\":{\"id\":\"e2ce46f9-da21-46b4-a546-2eefec6dfe36\",\"type\":\"Rect\"},\"hover_glyph\":null,\"nonselection_glyph\":null,\"selection_glyph\":null},\"id\":\"f4f969f5-3b68-4a90-8324-90c44523aeaa\",\"type\":\"GlyphRenderer\"},{\"attributes\":{\"callback\":null,\"column_names\":[\"line_color\",\"line_alpha\",\"color\",\"fill_alpha\",\"height\",\"width\",\"y\",\"x\",\"label\"],\"data\":{\"chart_index\":[\"(-0.9, -0.7]\"],\"color\":[\"#5ab738\"],\"fill_alpha\":[0.6],\"height\":[23.0],\"label\":[\"(-0.9, -0.7]\"],\"line_alpha\":[1.0],\"line_color\":[\"black\"],\"width\":[0.1059142089797177],\"x\":[\"-0.8\"],\"y\":[11.5]}},\"id\":\"1df1ecc0-1b68-4fb6-b9a0-36fc4da5bf52\",\"type\":\"ColumnDataSource\"},{\"attributes\":{\"data_source\":{\"id\":\"edcb1944-677d-46f7-a3a4-42f8272c0f16\",\"type\":\"ColumnDataSource\"},\"glyph\":{\"id\":\"44347374-7cf0-42cd-8824-8350fa4956bd\",\"type\":\"Rect\"},\"hover_glyph\":null,\"nonselection_glyph\":null,\"selection_glyph\":null},\"id\":\"e1c41b0f-d390-421c-949c-18016433e783\",\"type\":\"GlyphRenderer\"},{\"attributes\":{\"callback\":null,\"column_names\":[\"line_color\",\"line_alpha\",\"color\",\"fill_alpha\",\"height\",\"width\",\"y\",\"x\",\"label\"],\"data\":{\"chart_index\":[\"(0.4, 0.5]\"],\"color\":[\"#5ab738\"],\"fill_alpha\":[0.6],\"height\":[57.0],\"label\":[\"(0.4, 0.5]\"],\"line_alpha\":[1.0],\"line_color\":[\"black\"],\"width\":[0.10591420897971782],\"x\":[\"0.45\"],\"y\":[28.5]}},\"id\":\"96a89cf0-c519-416c-ac0b-1d026776b479\",\"type\":\"ColumnDataSource\"},{\"attributes\":{\"below\":[{\"id\":\"4d94674f-bea6-4261-b7ce-8b0a597bb877\",\"type\":\"LinearAxis\"}],\"left\":[{\"id\":\"17e786b8-8bb8-45ef-9e8a-8f9cd8ab10df\",\"type\":\"LinearAxis\"}],\"renderers\":[{\"id\":\"f02b2095-2f8d-4b7b-8ad7-fdebd262057e\",\"type\":\"BoxAnnotation\"},{\"id\":\"cdfd9df5-b52b-4fb2-9b7a-64792adc1c5b\",\"type\":\"GlyphRenderer\"},{\"id\":\"24c25a18-bfe3-448b-aab7-6bf5b9b275ba\",\"type\":\"GlyphRenderer\"},{\"id\":\"1428e1b3-fcdf-4b98-ad8a-1856072a20be\",\"type\":\"GlyphRenderer\"},{\"id\":\"23f63d0a-7677-4856-afa7-5ced5b9f27bb\",\"type\":\"GlyphRenderer\"},{\"id\":\"152b2579-09d4-4e4f-bc7e-33542270c5d7\",\"type\":\"GlyphRenderer\"},{\"id\":\"f4f969f5-3b68-4a90-8324-90c44523aeaa\",\"type\":\"GlyphRenderer\"},{\"id\":\"f06828a4-168d-453a-bb7c-a31606f51290\",\"type\":\"GlyphRenderer\"},{\"id\":\"a36e6e3f-c211-4ae1-8730-3108f6626f36\",\"type\":\"GlyphRenderer\"},{\"id\":\"ab0f92db-eba6-4741-898c-0796cb4dffa2\",\"type\":\"GlyphRenderer\"},{\"id\":\"48f2568a-a469-471f-801e-7cdb7ad77c49\",\"type\":\"GlyphRenderer\"},{\"id\":\"75c15a62-40be-4034-b9ff-00c28d6b7f5d\",\"type\":\"GlyphRenderer\"},{\"id\":\"dceff4ed-33d8-46ad-a72d-1b359d095823\",\"type\":\"GlyphRenderer\"},{\"id\":\"7a6e66de-a7fb-4380-bf85-24b27f6ec6c9\",\"type\":\"GlyphRenderer\"},{\"id\":\"fdbb190f-5e0e-49d8-8719-7a9c8086c66d\",\"type\":\"GlyphRenderer\"},{\"id\":\"cb7eefbe-6396-40c4-a5fe-d83ef7b43382\",\"type\":\"GlyphRenderer\"},{\"id\":\"0cf27db8-bcfc-49e9-a5e3-ada0e39e7495\",\"type\":\"GlyphRenderer\"},{\"id\":\"744dcac7-c714-4bf0-a8f8-64144baa609e\",\"type\":\"GlyphRenderer\"},{\"id\":\"3f7a2ccc-7ff7-464a-96cd-28b2fa4114fa\",\"type\":\"GlyphRenderer\"},{\"id\":\"d0f5192a-71ad-47a1-9603-31aab8d79109\",\"type\":\"GlyphRenderer\"},{\"id\":\"f538dc33-1485-4ed2-8bea-aa7684aeefc7\",\"type\":\"GlyphRenderer\"},{\"id\":\"2c6328b8-b3e2-42dd-9383-b5cab09763b9\",\"type\":\"GlyphRenderer\"},{\"id\":\"62f1c515-5a0e-4fa2-8df4-54f096b70441\",\"type\":\"GlyphRenderer\"},{\"id\":\"112725e5-d4c4-4a8e-af40-484d320a8048\",\"type\":\"GlyphRenderer\"},{\"id\":\"604bae3f-b29d-46c4-9b3e-f2db90bf6e95\",\"type\":\"GlyphRenderer\"},{\"id\":\"fe75b751-726e-4d46-a5ab-3fc2fa9a1bb8\",\"type\":\"GlyphRenderer\"},{\"id\":\"5a5dbf40-56ac-416f-b073-0fbb30269e07\",\"type\":\"GlyphRenderer\"},{\"id\":\"57f69257-b511-45ec-872d-ff9c649f05ad\",\"type\":\"GlyphRenderer\"},{\"id\":\"759b070f-3994-4b4a-8dea-ea5f68003675\",\"type\":\"GlyphRenderer\"},{\"id\":\"19d80d6d-502a-4aba-b61d-db30fc3dd0a0\",\"type\":\"GlyphRenderer\"},{\"id\":\"abbd618b-78cb-4158-a9a0-df3607aa6194\",\"type\":\"GlyphRenderer\"},{\"id\":\"d6fd51e3-7ac7-4d61-b3cb-cb1a33ca8778\",\"type\":\"GlyphRenderer\"},{\"id\":\"7886869d-bf12-4467-ae1f-59344004e59c\",\"type\":\"GlyphRenderer\"},{\"id\":\"c41dfef5-b0e7-4127-b928-cac4cf361bf2\",\"type\":\"GlyphRenderer\"},{\"id\":\"51b3ab91-17f7-4081-8f01-243630a75a13\",\"type\":\"GlyphRenderer\"},{\"id\":\"e1c41b0f-d390-421c-949c-18016433e783\",\"type\":\"GlyphRenderer\"},{\"id\":\"e4d0cc6e-9dbd-46d3-80ec-d535ae5c4612\",\"type\":\"GlyphRenderer\"},{\"id\":\"cf904fe2-0984-4a0c-894e-2abc34ac3dc3\",\"type\":\"GlyphRenderer\"},{\"id\":\"d5c4dafe-7de2-4097-97d9-5d7687c8de87\",\"type\":\"GlyphRenderer\"},{\"id\":\"cf455b1e-9555-4f05-a748-d563ed4bd94c\",\"type\":\"GlyphRenderer\"},{\"id\":\"24e4d24c-c4da-4243-b27e-027e6b8033e3\",\"type\":\"GlyphRenderer\"},{\"id\":\"7444b03e-98c2-45af-92ef-0cfc3485ec42\",\"type\":\"GlyphRenderer\"},{\"id\":\"53e806df-587a-4fa8-bb78-5679d8168ca0\",\"type\":\"GlyphRenderer\"},{\"id\":\"39b982dd-7bdb-483b-b934-04b7d1431774\",\"type\":\"GlyphRenderer\"},{\"id\":\"4c909237-3c19-4eb7-9905-1f4534cef812\",\"type\":\"GlyphRenderer\"},{\"id\":\"7bfcc832-4634-445f-9434-036176503058\",\"type\":\"GlyphRenderer\"},{\"id\":\"bee89d38-0db7-4579-9e46-ee772def1c2a\",\"type\":\"GlyphRenderer\"},{\"id\":\"c27929c7-fc97-40ca-b794-094236dc363c\",\"type\":\"GlyphRenderer\"},{\"id\":\"4fe8e41c-e9cd-43fd-83dd-c0bbd535a93c\",\"type\":\"GlyphRenderer\"},{\"id\":\"c0852017-6255-46d7-b6da-f96318d3f665\",\"type\":\"GlyphRenderer\"},{\"id\":\"580c553b-3c65-4270-9977-78a6f5266153\",\"type\":\"GlyphRenderer\"},{\"id\":\"4b3c9f41-4878-450f-af5f-338a0be5bba5\",\"type\":\"GlyphRenderer\"},{\"id\":\"1403b4ca-c110-4b82-9bab-36c5ac4595e0\",\"type\":\"GlyphRenderer\"},{\"id\":\"931b0999-60e4-452a-9cc9-6b5497f4303a\",\"type\":\"GlyphRenderer\"},{\"id\":\"a42acb4b-45cd-46f9-8ac0-70600dcc642b\",\"type\":\"GlyphRenderer\"},{\"id\":\"f609fd36-048b-45d4-8534-28c9ab01e14b\",\"type\":\"GlyphRenderer\"},{\"id\":\"9d24d6f5-36ff-4ef0-8300-7a10998979b3\",\"type\":\"GlyphRenderer\"},{\"id\":\"50831a0f-43d6-4178-ab09-323f9082d22d\",\"type\":\"GlyphRenderer\"},{\"id\":\"42a3a649-d667-4e7b-8c0c-c90bb4035d17\",\"type\":\"GlyphRenderer\"},{\"id\":\"63cbb156-6f37-4ecd-b1aa-d6ced1b78bf0\",\"type\":\"GlyphRenderer\"},{\"id\":\"87012f61-5d98-4fa6-897f-51e3d56724ff\",\"type\":\"GlyphRenderer\"},{\"id\":\"367845e0-5bae-4598-869f-1d553b18ad48\",\"type\":\"Legend\"},{\"id\":\"4d94674f-bea6-4261-b7ce-8b0a597bb877\",\"type\":\"LinearAxis\"},{\"id\":\"17e786b8-8bb8-45ef-9e8a-8f9cd8ab10df\",\"type\":\"LinearAxis\"},{\"id\":\"57ec3a91-6eac-4802-97c0-31cdf09ee6bf\",\"type\":\"Grid\"}],\"title\":{\"id\":\"e33acb19-1f2c-4308-bcfa-7e3ebca60a35\",\"type\":\"Title\"},\"tool_events\":{\"id\":\"7f5ceb38-3be4-494b-bd18-91daea3de17e\",\"type\":\"ToolEvents\"},\"toolbar\":{\"id\":\"30373766-fabb-4339-9a14-50f8a56a4380\",\"type\":\"Toolbar\"},\"x_mapper_type\":\"auto\",\"x_range\":{\"id\":\"adaac88b-8cce-4568-a8c1-1bb1ec50cd66\",\"type\":\"Range1d\"},\"y_mapper_type\":\"auto\",\"y_range\":{\"id\":\"4640428e-3e19-40d5-b48b-cb997bdd7b6c\",\"type\":\"Range1d\"}},\"id\":\"9b175d02-2da9-472b-a36c-85f99b4c41a0\",\"subtype\":\"Chart\",\"type\":\"Plot\"},{\"attributes\":{\"data_source\":{\"id\":\"c5b9960c-32e5-40a5-8a92-42fb3bbd2a7c\",\"type\":\"ColumnDataSource\"},\"glyph\":{\"id\":\"1540ab93-85fc-44ff-8e15-15cacdeaa90e\",\"type\":\"Rect\"},\"hover_glyph\":null,\"nonselection_glyph\":null,\"selection_glyph\":null},\"id\":\"580c553b-3c65-4270-9977-78a6f5266153\",\"type\":\"GlyphRenderer\"},{\"attributes\":{\"fill_alpha\":{\"field\":\"fill_alpha\"},\"fill_color\":{\"field\":\"color\"},\"height\":{\"field\":\"height\",\"units\":\"data\"},\"line_color\":{\"field\":\"line_color\"},\"width\":{\"field\":\"width\",\"units\":\"data\"},\"x\":{\"field\":\"x\"},\"y\":{\"field\":\"y\"}},\"id\":\"607c340b-2c5c-430b-afb0-d9b79e702a6a\",\"type\":\"Rect\"},{\"attributes\":{\"callback\":null,\"column_names\":[\"line_color\",\"line_alpha\",\"color\",\"fill_alpha\",\"height\",\"width\",\"y\",\"x\",\"label\"],\"data\":{\"chart_index\":[\"(0.9, 1.0]\"],\"color\":[\"#f22c40\"],\"fill_alpha\":[0.6],\"height\":[103.0],\"label\":[\"(0.9, 1.0]\"],\"line_alpha\":[1.0],\"line_color\":[\"black\"],\"width\":[0.1149992087255266],\"x\":[\"0.95\"],\"y\":[51.5]}},\"id\":\"1ba142fe-97e1-4367-9c95-5340c0d94a05\",\"type\":\"ColumnDataSource\"},{\"attributes\":{\"callback\":null,\"column_names\":[\"line_color\",\"line_alpha\",\"color\",\"fill_alpha\",\"height\",\"width\",\"y\",\"x\",\"label\"],\"data\":{\"chart_index\":[\"(0.8, 0.9]\"],\"color\":[\"#5ab738\"],\"fill_alpha\":[0.6],\"height\":[18.0],\"label\":[\"(0.8, 0.9]\"],\"line_alpha\":[1.0],\"line_color\":[\"black\"],\"width\":[0.10591420897971782],\"x\":[\"0.85\"],\"y\":[9.0]}},\"id\":\"1e16a90f-0aec-41ea-ae2f-5f61596be33f\",\"type\":\"ColumnDataSource\"},{\"attributes\":{\"data_source\":{\"id\":\"3742f4c1-05ad-42a3-ac99-dc096e5b2ba1\",\"type\":\"ColumnDataSource\"},\"glyph\":{\"id\":\"b6f90ed7-b2c7-494c-808a-c05557eb4f1b\",\"type\":\"Rect\"},\"hover_glyph\":null,\"nonselection_glyph\":null,\"selection_glyph\":null},\"id\":\"cf455b1e-9555-4f05-a748-d563ed4bd94c\",\"type\":\"GlyphRenderer\"},{\"attributes\":{\"callback\":null,\"column_names\":[\"line_color\",\"line_alpha\",\"color\",\"fill_alpha\",\"height\",\"width\",\"y\",\"x\",\"label\"],\"data\":{\"chart_index\":[\"(-0.1, -0.0]\"],\"color\":[\"#5ab738\"],\"fill_alpha\":[0.6],\"height\":[79.0],\"label\":[\"(-0.1, -0.0]\"],\"line_alpha\":[1.0],\"line_color\":[\"black\"],\"width\":[0.1059142089797176],\"x\":[\"-0.05\"],\"y\":[39.5]}},\"id\":\"ffc2bdbc-b86e-4b8f-8b80-3bebf2eef7cc\",\"type\":\"ColumnDataSource\"},{\"attributes\":{\"active_drag\":\"auto\",\"active_scroll\":\"auto\",\"active_tap\":\"auto\",\"tools\":[{\"id\":\"a217fe0c-9394-4727-9f88-6eb87e10cb58\",\"type\":\"PanTool\"},{\"id\":\"54897496-de1f-47cd-880a-809a6fec341b\",\"type\":\"WheelZoomTool\"},{\"id\":\"ebe6115d-ed3b-4df4-b412-7285921a1d6d\",\"type\":\"BoxZoomTool\"},{\"id\":\"9a11d9f6-da9c-47a8-8d4c-6402f1560f01\",\"type\":\"SaveTool\"},{\"id\":\"c2f25b9f-9607-4c0d-8efa-ba0b6f1ccf12\",\"type\":\"ResetTool\"},{\"id\":\"d860b786-bd00-49f2-8dc0-a14bbfab1770\",\"type\":\"HelpTool\"}]},\"id\":\"30373766-fabb-4339-9a14-50f8a56a4380\",\"type\":\"Toolbar\"},{\"attributes\":{\"fill_alpha\":{\"field\":\"fill_alpha\"},\"fill_color\":{\"field\":\"color\"},\"height\":{\"field\":\"height\",\"units\":\"data\"},\"line_color\":{\"field\":\"line_color\"},\"width\":{\"field\":\"width\",\"units\":\"data\"},\"x\":{\"field\":\"x\"},\"y\":{\"field\":\"y\"}},\"id\":\"4f24171f-fd74-44b9-b353-685d46df6326\",\"type\":\"Rect\"},{\"attributes\":{\"bottom_units\":\"screen\",\"fill_alpha\":{\"value\":0.5},\"fill_color\":{\"value\":\"lightgrey\"},\"left_units\":\"screen\",\"level\":\"overlay\",\"line_alpha\":{\"value\":1.0},\"line_color\":{\"value\":\"black\"},\"line_dash\":[4,4],\"line_width\":{\"value\":2},\"plot\":null,\"render_mode\":\"css\",\"right_units\":\"screen\",\"top_units\":\"screen\"},\"id\":\"f02b2095-2f8d-4b7b-8ad7-fdebd262057e\",\"type\":\"BoxAnnotation\"},{\"attributes\":{\"fill_alpha\":{\"field\":\"fill_alpha\"},\"fill_color\":{\"field\":\"color\"},\"height\":{\"field\":\"height\",\"units\":\"data\"},\"line_color\":{\"field\":\"line_color\"},\"width\":{\"field\":\"width\",\"units\":\"data\"},\"x\":{\"field\":\"x\"},\"y\":{\"field\":\"y\"}},\"id\":\"93ccbb79-afa0-4889-9cfc-03db06d4e126\",\"type\":\"Rect\"},{\"attributes\":{\"callback\":null,\"column_names\":[\"line_color\",\"line_alpha\",\"color\",\"fill_alpha\",\"height\",\"width\",\"y\",\"x\",\"label\"],\"data\":{\"chart_index\":[\"(0.4, 0.5]\"],\"color\":[\"#f22c40\"],\"fill_alpha\":[0.6],\"height\":[58.0],\"label\":[\"(0.4, 0.5]\"],\"line_alpha\":[1.0],\"line_color\":[\"black\"],\"width\":[0.1149992087255266],\"x\":[\"0.45\"],\"y\":[29.0]}},\"id\":\"498f9074-9879-4a71-8f89-6b317857ecbf\",\"type\":\"ColumnDataSource\"},{\"attributes\":{\"callback\":null,\"column_names\":[\"line_color\",\"line_alpha\",\"color\",\"fill_alpha\",\"height\",\"width\",\"y\",\"x\",\"label\"],\"data\":{\"chart_index\":[\"(2.5, 2.6]\"],\"color\":[\"#f22c40\"],\"fill_alpha\":[0.6],\"height\":[11.0],\"label\":[\"(2.5, 2.6]\"],\"line_alpha\":[1.0],\"line_color\":[\"black\"],\"width\":[0.11499920872552671],\"x\":[\"2.55\"],\"y\":[5.5]}},\"id\":\"82ba0f1c-4f00-4edd-be02-ae923ad3473c\",\"type\":\"ColumnDataSource\"},{\"attributes\":{\"data_source\":{\"id\":\"e8fb7328-f508-4a7c-a9ba-53cd8ef6bcfe\",\"type\":\"ColumnDataSource\"},\"glyph\":{\"id\":\"4f24171f-fd74-44b9-b353-685d46df6326\",\"type\":\"Rect\"},\"hover_glyph\":null,\"nonselection_glyph\":null,\"selection_glyph\":null},\"id\":\"1403b4ca-c110-4b82-9bab-36c5ac4595e0\",\"type\":\"GlyphRenderer\"},{\"attributes\":{\"fill_alpha\":{\"field\":\"fill_alpha\"},\"fill_color\":{\"field\":\"color\"},\"height\":{\"field\":\"height\",\"units\":\"data\"},\"line_color\":{\"field\":\"line_color\"},\"width\":{\"field\":\"width\",\"units\":\"data\"},\"x\":{\"field\":\"x\"},\"y\":{\"field\":\"y\"}},\"id\":\"44d64d4c-c126-41c0-bed0-cf3d79d1970f\",\"type\":\"Rect\"},{\"attributes\":{\"callback\":null,\"column_names\":[\"line_color\",\"line_alpha\",\"color\",\"fill_alpha\",\"height\",\"width\",\"y\",\"x\",\"label\"],\"data\":{\"chart_index\":[\"(1.2, 1.3]\"],\"color\":[\"#5ab738\"],\"fill_alpha\":[0.6],\"height\":[2.0],\"label\":[\"(1.2, 1.3]\"],\"line_alpha\":[1.0],\"line_color\":[\"black\"],\"width\":[0.10591420897971782],\"x\":[\"1.25\"],\"y\":[1.0]}},\"id\":\"2e120b3c-0714-481d-bf9b-786cb7a6d6ea\",\"type\":\"ColumnDataSource\"},{\"attributes\":{\"plot\":{\"id\":\"9b175d02-2da9-472b-a36c-85f99b4c41a0\",\"subtype\":\"Chart\",\"type\":\"Plot\"}},\"id\":\"a217fe0c-9394-4727-9f88-6eb87e10cb58\",\"type\":\"PanTool\"},{\"attributes\":{\"fill_alpha\":{\"field\":\"fill_alpha\"},\"fill_color\":{\"field\":\"color\"},\"height\":{\"field\":\"height\",\"units\":\"data\"},\"line_color\":{\"field\":\"line_color\"},\"width\":{\"field\":\"width\",\"units\":\"data\"},\"x\":{\"field\":\"x\"},\"y\":{\"field\":\"y\"}},\"id\":\"389d5bda-af01-4eee-93ca-fbae60feadbb\",\"type\":\"Rect\"},{\"attributes\":{\"callback\":null,\"column_names\":[\"line_color\",\"line_alpha\",\"color\",\"fill_alpha\",\"height\",\"width\",\"y\",\"x\",\"label\"],\"data\":{\"chart_index\":[\"[0.2, 0.3]\"],\"color\":[\"#f22c40\"],\"fill_alpha\":[0.6],\"height\":[5.0],\"label\":[\"[0.2, 0.3]\"],\"line_alpha\":[1.0],\"line_color\":[\"black\"],\"width\":[0.11499920872552663],\"x\":[\"0.25\"],\"y\":[2.5]}},\"id\":\"4401e2f5-cd95-4c78-899f-a61e8424563c\",\"type\":\"ColumnDataSource\"},{\"attributes\":{\"callback\":null,\"column_names\":[\"line_color\",\"line_alpha\",\"color\",\"fill_alpha\",\"height\",\"width\",\"y\",\"x\",\"label\"],\"data\":{\"chart_index\":[\"(1.3, 1.4]\"],\"color\":[\"#5ab738\"],\"fill_alpha\":[0.6],\"height\":[3.0],\"label\":[\"(1.3, 1.4]\"],\"line_alpha\":[1.0],\"line_color\":[\"black\"],\"width\":[0.10591420897971782],\"x\":[\"1.35\"],\"y\":[1.5]}},\"id\":\"915bd747-476e-4cbb-a886-6fc74888cff9\",\"type\":\"ColumnDataSource\"},{\"attributes\":{\"fill_alpha\":{\"field\":\"fill_alpha\"},\"fill_color\":{\"field\":\"color\"},\"height\":{\"field\":\"height\",\"units\":\"data\"},\"line_color\":{\"field\":\"line_color\"},\"width\":{\"field\":\"width\",\"units\":\"data\"},\"x\":{\"field\":\"x\"},\"y\":{\"field\":\"y\"}},\"id\":\"f26ed75a-1296-48da-b539-1835a35eb79e\",\"type\":\"Rect\"},{\"attributes\":{\"callback\":null,\"column_names\":[\"line_color\",\"line_alpha\",\"color\",\"fill_alpha\",\"height\",\"width\",\"y\",\"x\",\"label\"],\"data\":{\"chart_index\":[\"(-1.5, -1.4]\"],\"color\":[\"#5ab738\"],\"fill_alpha\":[0.6],\"height\":[2.0],\"label\":[\"(-1.5, -1.4]\"],\"line_alpha\":[1.0],\"line_color\":[\"black\"],\"width\":[0.1059142089797176],\"x\":[\"-1.45\"],\"y\":[1.0]}},\"id\":\"191fa622-a468-47b7-af6d-435cb76e72ed\",\"type\":\"ColumnDataSource\"},{\"attributes\":{\"fill_alpha\":{\"field\":\"fill_alpha\"},\"fill_color\":{\"field\":\"color\"},\"height\":{\"field\":\"height\",\"units\":\"data\"},\"line_color\":{\"field\":\"line_color\"},\"width\":{\"field\":\"width\",\"units\":\"data\"},\"x\":{\"field\":\"x\"},\"y\":{\"field\":\"y\"}},\"id\":\"e9899e4a-2852-4b32-8891-c013b7a6c1cb\",\"type\":\"Rect\"},{\"attributes\":{\"callback\":null,\"column_names\":[\"line_color\",\"line_alpha\",\"color\",\"fill_alpha\",\"height\",\"width\",\"y\",\"x\",\"label\"],\"data\":{\"chart_index\":[\"(2.6, 2.7]\"],\"color\":[\"#f22c40\"],\"fill_alpha\":[0.6],\"height\":[4.0],\"label\":[\"(2.6, 2.7]\"],\"line_alpha\":[1.0],\"line_color\":[\"black\"],\"width\":[0.11499920872552671],\"x\":[\"2.65\"],\"y\":[2.0]}},\"id\":\"e8fb7328-f508-4a7c-a9ba-53cd8ef6bcfe\",\"type\":\"ColumnDataSource\"},{\"attributes\":{\"callback\":null,\"column_names\":[\"line_color\",\"line_alpha\",\"color\",\"fill_alpha\",\"height\",\"width\",\"y\",\"x\",\"label\"],\"data\":{\"chart_index\":[\"(-1.1, -1.0]\"],\"color\":[\"#5ab738\"],\"fill_alpha\":[0.6],\"height\":[10.0],\"label\":[\"(-1.1, -1.0]\"],\"line_alpha\":[1.0],\"line_color\":[\"black\"],\"width\":[0.10591420897971782],\"x\":[\"-1.05\"],\"y\":[5.0]}},\"id\":\"ec865424-87ab-4928-a490-41916ed22f33\",\"type\":\"ColumnDataSource\"},{\"attributes\":{\"data_source\":{\"id\":\"70a0806d-ed2d-44d8-9407-25f31cd8b4fe\",\"type\":\"ColumnDataSource\"},\"glyph\":{\"id\":\"389d5bda-af01-4eee-93ca-fbae60feadbb\",\"type\":\"Rect\"},\"hover_glyph\":null,\"nonselection_glyph\":null,\"selection_glyph\":null},\"id\":\"f609fd36-048b-45d4-8534-28c9ab01e14b\",\"type\":\"GlyphRenderer\"},{\"attributes\":{\"fill_alpha\":{\"field\":\"fill_alpha\"},\"fill_color\":{\"field\":\"color\"},\"height\":{\"field\":\"height\",\"units\":\"data\"},\"line_color\":{\"field\":\"line_color\"},\"width\":{\"field\":\"width\",\"units\":\"data\"},\"x\":{\"field\":\"x\"},\"y\":{\"field\":\"y\"}},\"id\":\"2682f80f-ec97-4c2d-9621-bfe540c67889\",\"type\":\"Rect\"},{\"attributes\":{\"fill_alpha\":{\"field\":\"fill_alpha\"},\"fill_color\":{\"field\":\"color\"},\"height\":{\"field\":\"height\",\"units\":\"data\"},\"line_color\":{\"field\":\"line_color\"},\"width\":{\"field\":\"width\",\"units\":\"data\"},\"x\":{\"field\":\"x\"},\"y\":{\"field\":\"y\"}},\"id\":\"966fcd35-0d00-4419-a45b-61f491d19ab4\",\"type\":\"Rect\"},{\"attributes\":{\"callback\":null,\"column_names\":[\"line_color\",\"line_alpha\",\"color\",\"fill_alpha\",\"height\",\"width\",\"y\",\"x\",\"label\"],\"data\":{\"chart_index\":[\"(-0.7, -0.6]\"],\"color\":[\"#5ab738\"],\"fill_alpha\":[0.6],\"height\":[27.0],\"label\":[\"(-0.7, -0.6]\"],\"line_alpha\":[1.0],\"line_color\":[\"black\"],\"width\":[0.1059142089797177],\"x\":[\"-0.65\"],\"y\":[13.5]}},\"id\":\"aa808c23-1c87-4bd0-885c-a2cc3f5a8cd2\",\"type\":\"ColumnDataSource\"},{\"attributes\":{\"plot\":{\"id\":\"9b175d02-2da9-472b-a36c-85f99b4c41a0\",\"subtype\":\"Chart\",\"type\":\"Plot\"}},\"id\":\"54897496-de1f-47cd-880a-809a6fec341b\",\"type\":\"WheelZoomTool\"},{\"attributes\":{\"callback\":null,\"column_names\":[\"line_color\",\"line_alpha\",\"color\",\"fill_alpha\",\"height\",\"width\",\"y\",\"x\",\"label\"],\"data\":{\"chart_index\":[\"(1.1, 1.2]\"],\"color\":[\"#f22c40\"],\"fill_alpha\":[0.6],\"height\":[80.0],\"label\":[\"(1.1, 1.2]\"],\"line_alpha\":[1.0],\"line_color\":[\"black\"],\"width\":[0.11499920872552671],\"x\":[\"1.15\"],\"y\":[40.0]}},\"id\":\"3742f4c1-05ad-42a3-ac99-dc096e5b2ba1\",\"type\":\"ColumnDataSource\"},{\"attributes\":{\"data_source\":{\"id\":\"9131ec5b-373d-40c6-a18a-410f487f610c\",\"type\":\"ColumnDataSource\"},\"glyph\":{\"id\":\"088b763b-151b-4f38-98e5-eac05fc8b771\",\"type\":\"Rect\"},\"hover_glyph\":null,\"nonselection_glyph\":null,\"selection_glyph\":null},\"id\":\"dceff4ed-33d8-46ad-a72d-1b359d095823\",\"type\":\"GlyphRenderer\"},{\"attributes\":{\"callback\":null,\"column_names\":[\"line_color\",\"line_alpha\",\"color\",\"fill_alpha\",\"height\",\"width\",\"y\",\"x\",\"label\"],\"data\":{\"chart_index\":[\"(-0.6, -0.5]\"],\"color\":[\"#5ab738\"],\"fill_alpha\":[0.6],\"height\":[33.0],\"label\":[\"(-0.6, -0.5]\"],\"line_alpha\":[1.0],\"line_color\":[\"black\"],\"width\":[0.1059142089797177],\"x\":[\"-0.55\"],\"y\":[16.5]}},\"id\":\"ff500286-0acd-4d63-ab40-5a69ffd7b4a9\",\"type\":\"ColumnDataSource\"},{\"attributes\":{\"data_source\":{\"id\":\"aa808c23-1c87-4bd0-885c-a2cc3f5a8cd2\",\"type\":\"ColumnDataSource\"},\"glyph\":{\"id\":\"c5d1e310-a9eb-414c-987a-2b269c828ca3\",\"type\":\"Rect\"},\"hover_glyph\":null,\"nonselection_glyph\":null,\"selection_glyph\":null},\"id\":\"ab0f92db-eba6-4741-898c-0796cb4dffa2\",\"type\":\"GlyphRenderer\"},{\"attributes\":{\"callback\":null,\"column_names\":[\"line_color\",\"line_alpha\",\"color\",\"fill_alpha\",\"height\",\"width\",\"y\",\"x\",\"label\"],\"data\":{\"chart_index\":[\"(0.7, 0.9]\"],\"color\":[\"#f22c40\"],\"fill_alpha\":[0.6],\"height\":[109.0],\"label\":[\"(0.7, 0.9]\"],\"line_alpha\":[1.0],\"line_color\":[\"black\"],\"width\":[0.11499920872552671],\"x\":[\"0.8\"],\"y\":[54.5]}},\"id\":\"24dbb733-9acd-43d8-a659-39117011857b\",\"type\":\"ColumnDataSource\"},{\"attributes\":{\"callback\":null,\"column_names\":[\"line_color\",\"line_alpha\",\"color\",\"fill_alpha\",\"height\",\"width\",\"y\",\"x\",\"label\"],\"data\":{\"chart_index\":[\"(3.0, 3.2]\"],\"color\":[\"#f22c40\"],\"fill_alpha\":[0.6],\"height\":[1.0],\"label\":[\"(3.0, 3.2]\"],\"line_alpha\":[1.0],\"line_color\":[\"black\"],\"width\":[0.11499920872552671],\"x\":[\"3.1\"],\"y\":[0.5]}},\"id\":\"d5f9b99b-2fd4-4671-9374-fa5d4bf292ca\",\"type\":\"ColumnDataSource\"},{\"attributes\":{\"fill_alpha\":{\"field\":\"fill_alpha\"},\"fill_color\":{\"field\":\"color\"},\"height\":{\"field\":\"height\",\"units\":\"data\"},\"line_color\":{\"field\":\"line_color\"},\"width\":{\"field\":\"width\",\"units\":\"data\"},\"x\":{\"field\":\"x\"},\"y\":{\"field\":\"y\"}},\"id\":\"085749f2-51a5-41b9-b615-726e0f7de37f\",\"type\":\"Rect\"},{\"attributes\":{\"callback\":null,\"column_names\":[\"line_color\",\"line_alpha\",\"color\",\"fill_alpha\",\"height\",\"width\",\"y\",\"x\",\"label\"],\"data\":{\"chart_index\":[\"(-1.2, -1.1]\"],\"color\":[\"#5ab738\"],\"fill_alpha\":[0.6],\"height\":[11.0],\"label\":[\"(-1.2, -1.1]\"],\"line_alpha\":[1.0],\"line_color\":[\"black\"],\"width\":[0.1059142089797176],\"x\":[\"-1.15\"],\"y\":[5.5]}},\"id\":\"6f0e2f29-fc1e-4424-8807-e3bac0b950d1\",\"type\":\"ColumnDataSource\"},{\"attributes\":{\"legends\":[[\"normal\",[{\"id\":\"cdfd9df5-b52b-4fb2-9b7a-64792adc1c5b\",\"type\":\"GlyphRenderer\"},{\"id\":\"24c25a18-bfe3-448b-aab7-6bf5b9b275ba\",\"type\":\"GlyphRenderer\"},{\"id\":\"1428e1b3-fcdf-4b98-ad8a-1856072a20be\",\"type\":\"GlyphRenderer\"},{\"id\":\"23f63d0a-7677-4856-afa7-5ced5b9f27bb\",\"type\":\"GlyphRenderer\"},{\"id\":\"152b2579-09d4-4e4f-bc7e-33542270c5d7\",\"type\":\"GlyphRenderer\"},{\"id\":\"f4f969f5-3b68-4a90-8324-90c44523aeaa\",\"type\":\"GlyphRenderer\"},{\"id\":\"f06828a4-168d-453a-bb7c-a31606f51290\",\"type\":\"GlyphRenderer\"},{\"id\":\"a36e6e3f-c211-4ae1-8730-3108f6626f36\",\"type\":\"GlyphRenderer\"},{\"id\":\"ab0f92db-eba6-4741-898c-0796cb4dffa2\",\"type\":\"GlyphRenderer\"},{\"id\":\"48f2568a-a469-471f-801e-7cdb7ad77c49\",\"type\":\"GlyphRenderer\"},{\"id\":\"75c15a62-40be-4034-b9ff-00c28d6b7f5d\",\"type\":\"GlyphRenderer\"},{\"id\":\"dceff4ed-33d8-46ad-a72d-1b359d095823\",\"type\":\"GlyphRenderer\"},{\"id\":\"7a6e66de-a7fb-4380-bf85-24b27f6ec6c9\",\"type\":\"GlyphRenderer\"},{\"id\":\"fdbb190f-5e0e-49d8-8719-7a9c8086c66d\",\"type\":\"GlyphRenderer\"},{\"id\":\"cb7eefbe-6396-40c4-a5fe-d83ef7b43382\",\"type\":\"GlyphRenderer\"},{\"id\":\"0cf27db8-bcfc-49e9-a5e3-ada0e39e7495\",\"type\":\"GlyphRenderer\"},{\"id\":\"744dcac7-c714-4bf0-a8f8-64144baa609e\",\"type\":\"GlyphRenderer\"},{\"id\":\"3f7a2ccc-7ff7-464a-96cd-28b2fa4114fa\",\"type\":\"GlyphRenderer\"},{\"id\":\"d0f5192a-71ad-47a1-9603-31aab8d79109\",\"type\":\"GlyphRenderer\"},{\"id\":\"f538dc33-1485-4ed2-8bea-aa7684aeefc7\",\"type\":\"GlyphRenderer\"},{\"id\":\"2c6328b8-b3e2-42dd-9383-b5cab09763b9\",\"type\":\"GlyphRenderer\"},{\"id\":\"62f1c515-5a0e-4fa2-8df4-54f096b70441\",\"type\":\"GlyphRenderer\"},{\"id\":\"112725e5-d4c4-4a8e-af40-484d320a8048\",\"type\":\"GlyphRenderer\"},{\"id\":\"604bae3f-b29d-46c4-9b3e-f2db90bf6e95\",\"type\":\"GlyphRenderer\"},{\"id\":\"fe75b751-726e-4d46-a5ab-3fc2fa9a1bb8\",\"type\":\"GlyphRenderer\"},{\"id\":\"5a5dbf40-56ac-416f-b073-0fbb30269e07\",\"type\":\"GlyphRenderer\"},{\"id\":\"57f69257-b511-45ec-872d-ff9c649f05ad\",\"type\":\"GlyphRenderer\"},{\"id\":\"759b070f-3994-4b4a-8dea-ea5f68003675\",\"type\":\"GlyphRenderer\"},{\"id\":\"19d80d6d-502a-4aba-b61d-db30fc3dd0a0\",\"type\":\"GlyphRenderer\"},{\"id\":\"abbd618b-78cb-4158-a9a0-df3607aa6194\",\"type\":\"GlyphRenderer\"}]],[\"lognormal\",[{\"id\":\"d6fd51e3-7ac7-4d61-b3cb-cb1a33ca8778\",\"type\":\"GlyphRenderer\"},{\"id\":\"7886869d-bf12-4467-ae1f-59344004e59c\",\"type\":\"GlyphRenderer\"},{\"id\":\"c41dfef5-b0e7-4127-b928-cac4cf361bf2\",\"type\":\"GlyphRenderer\"},{\"id\":\"51b3ab91-17f7-4081-8f01-243630a75a13\",\"type\":\"GlyphRenderer\"},{\"id\":\"e1c41b0f-d390-421c-949c-18016433e783\",\"type\":\"GlyphRenderer\"},{\"id\":\"e4d0cc6e-9dbd-46d3-80ec-d535ae5c4612\",\"type\":\"GlyphRenderer\"},{\"id\":\"cf904fe2-0984-4a0c-894e-2abc34ac3dc3\",\"type\":\"GlyphRenderer\"},{\"id\":\"d5c4dafe-7de2-4097-97d9-5d7687c8de87\",\"type\":\"GlyphRenderer\"},{\"id\":\"cf455b1e-9555-4f05-a748-d563ed4bd94c\",\"type\":\"GlyphRenderer\"},{\"id\":\"24e4d24c-c4da-4243-b27e-027e6b8033e3\",\"type\":\"GlyphRenderer\"},{\"id\":\"7444b03e-98c2-45af-92ef-0cfc3485ec42\",\"type\":\"GlyphRenderer\"},{\"id\":\"53e806df-587a-4fa8-bb78-5679d8168ca0\",\"type\":\"GlyphRenderer\"},{\"id\":\"39b982dd-7bdb-483b-b934-04b7d1431774\",\"type\":\"GlyphRenderer\"},{\"id\":\"4c909237-3c19-4eb7-9905-1f4534cef812\",\"type\":\"GlyphRenderer\"},{\"id\":\"7bfcc832-4634-445f-9434-036176503058\",\"type\":\"GlyphRenderer\"},{\"id\":\"bee89d38-0db7-4579-9e46-ee772def1c2a\",\"type\":\"GlyphRenderer\"},{\"id\":\"c27929c7-fc97-40ca-b794-094236dc363c\",\"type\":\"GlyphRenderer\"},{\"id\":\"4fe8e41c-e9cd-43fd-83dd-c0bbd535a93c\",\"type\":\"GlyphRenderer\"},{\"id\":\"c0852017-6255-46d7-b6da-f96318d3f665\",\"type\":\"GlyphRenderer\"},{\"id\":\"580c553b-3c65-4270-9977-78a6f5266153\",\"type\":\"GlyphRenderer\"},{\"id\":\"4b3c9f41-4878-450f-af5f-338a0be5bba5\",\"type\":\"GlyphRenderer\"},{\"id\":\"1403b4ca-c110-4b82-9bab-36c5ac4595e0\",\"type\":\"GlyphRenderer\"},{\"id\":\"931b0999-60e4-452a-9cc9-6b5497f4303a\",\"type\":\"GlyphRenderer\"},{\"id\":\"a42acb4b-45cd-46f9-8ac0-70600dcc642b\",\"type\":\"GlyphRenderer\"},{\"id\":\"f609fd36-048b-45d4-8534-28c9ab01e14b\",\"type\":\"GlyphRenderer\"},{\"id\":\"9d24d6f5-36ff-4ef0-8300-7a10998979b3\",\"type\":\"GlyphRenderer\"},{\"id\":\"50831a0f-43d6-4178-ab09-323f9082d22d\",\"type\":\"GlyphRenderer\"},{\"id\":\"42a3a649-d667-4e7b-8c0c-c90bb4035d17\",\"type\":\"GlyphRenderer\"},{\"id\":\"63cbb156-6f37-4ecd-b1aa-d6ced1b78bf0\",\"type\":\"GlyphRenderer\"},{\"id\":\"87012f61-5d98-4fa6-897f-51e3d56724ff\",\"type\":\"GlyphRenderer\"}]]],\"location\":\"top_left\",\"plot\":{\"id\":\"9b175d02-2da9-472b-a36c-85f99b4c41a0\",\"subtype\":\"Chart\",\"type\":\"Plot\"}},\"id\":\"367845e0-5bae-4598-869f-1d553b18ad48\",\"type\":\"Legend\"},{\"attributes\":{\"callback\":null,\"column_names\":[\"line_color\",\"line_alpha\",\"color\",\"fill_alpha\",\"height\",\"width\",\"y\",\"x\",\"label\"],\"data\":{\"chart_index\":[\"(0.7, 0.8]\"],\"color\":[\"#5ab738\"],\"fill_alpha\":[0.6],\"height\":[39.0],\"label\":[\"(0.7, 0.8]\"],\"line_alpha\":[1.0],\"line_color\":[\"black\"],\"width\":[0.10591420897971782],\"x\":[\"0.75\"],\"y\":[19.5]}},\"id\":\"20bb345c-33a1-4124-a347-fbfd7c3e0116\",\"type\":\"ColumnDataSource\"},{\"attributes\":{\"data_source\":{\"id\":\"c1b2a54a-6c23-4471-87a0-f5e3487df581\",\"type\":\"ColumnDataSource\"},\"glyph\":{\"id\":\"607c340b-2c5c-430b-afb0-d9b79e702a6a\",\"type\":\"Rect\"},\"hover_glyph\":null,\"nonselection_glyph\":null,\"selection_glyph\":null},\"id\":\"744dcac7-c714-4bf0-a8f8-64144baa609e\",\"type\":\"GlyphRenderer\"},{\"attributes\":{\"callback\":null,\"column_names\":[\"line_color\",\"line_alpha\",\"color\",\"fill_alpha\",\"height\",\"width\",\"y\",\"x\",\"label\"],\"data\":{\"chart_index\":[\"(1.9, 2.0]\"],\"color\":[\"#f22c40\"],\"fill_alpha\":[0.6],\"height\":[17.0],\"label\":[\"(1.9, 2.0]\"],\"line_alpha\":[1.0],\"line_color\":[\"black\"],\"width\":[0.11499920872552671],\"x\":[\"1.95\"],\"y\":[8.5]}},\"id\":\"c792f611-41d9-4dc5-804d-0b316db79e67\",\"type\":\"ColumnDataSource\"},{\"attributes\":{\"fill_alpha\":{\"field\":\"fill_alpha\"},\"fill_color\":{\"field\":\"color\"},\"height\":{\"field\":\"height\",\"units\":\"data\"},\"line_color\":{\"field\":\"line_color\"},\"width\":{\"field\":\"width\",\"units\":\"data\"},\"x\":{\"field\":\"x\"},\"y\":{\"field\":\"y\"}},\"id\":\"f27cc95a-233c-4ed8-a6bd-bf6aa1c8f12d\",\"type\":\"Rect\"},{\"attributes\":{\"callback\":null,\"column_names\":[\"line_color\",\"line_alpha\",\"color\",\"fill_alpha\",\"height\",\"width\",\"y\",\"x\",\"label\"],\"data\":{\"chart_index\":[\"(-1.4, -1.3]\"],\"color\":[\"#5ab738\"],\"fill_alpha\":[0.6],\"height\":[3.0],\"label\":[\"(-1.4, -1.3]\"],\"line_alpha\":[1.0],\"line_color\":[\"black\"],\"width\":[0.10591420897971782],\"x\":[\"-1.35\"],\"y\":[1.5]}},\"id\":\"82d2b989-9b17-490f-b1fb-b5a94d17b694\",\"type\":\"ColumnDataSource\"},{\"attributes\":{\"dimension\":1,\"plot\":{\"id\":\"9b175d02-2da9-472b-a36c-85f99b4c41a0\",\"subtype\":\"Chart\",\"type\":\"Plot\"},\"ticker\":{\"id\":\"962434d0-e685-4a2d-953c-24c9a3efc9be\",\"type\":\"BasicTicker\"}},\"id\":\"57ec3a91-6eac-4802-97c0-31cdf09ee6bf\",\"type\":\"Grid\"},{\"attributes\":{\"data_source\":{\"id\":\"173fddd9-cfb0-4560-8d7c-f5f10190d7c7\",\"type\":\"ColumnDataSource\"},\"glyph\":{\"id\":\"0dd95656-4fdd-4bab-8a9d-0d472d38d83c\",\"type\":\"Rect\"},\"hover_glyph\":null,\"nonselection_glyph\":null,\"selection_glyph\":null},\"id\":\"7bfcc832-4634-445f-9434-036176503058\",\"type\":\"GlyphRenderer\"},{\"attributes\":{\"fill_alpha\":{\"field\":\"fill_alpha\"},\"fill_color\":{\"field\":\"color\"},\"height\":{\"field\":\"height\",\"units\":\"data\"},\"line_color\":{\"field\":\"line_color\"},\"width\":{\"field\":\"width\",\"units\":\"data\"},\"x\":{\"field\":\"x\"},\"y\":{\"field\":\"y\"}},\"id\":\"7bb5eb21-9fdc-41a5-9f5c-ff3ffb682e57\",\"type\":\"Rect\"},{\"attributes\":{\"data_source\":{\"id\":\"607d7057-8532-4ae0-b944-485a961ffea4\",\"type\":\"ColumnDataSource\"},\"glyph\":{\"id\":\"f26ed75a-1296-48da-b539-1835a35eb79e\",\"type\":\"Rect\"},\"hover_glyph\":null,\"nonselection_glyph\":null,\"selection_glyph\":null},\"id\":\"63cbb156-6f37-4ecd-b1aa-d6ced1b78bf0\",\"type\":\"GlyphRenderer\"},{\"attributes\":{\"data_source\":{\"id\":\"05e38693-b307-4c0d-b357-b09423705eb9\",\"type\":\"ColumnDataSource\"},\"glyph\":{\"id\":\"306ce206-4afd-47a4-9708-d185c3fafb32\",\"type\":\"Rect\"},\"hover_glyph\":null,\"nonselection_glyph\":null,\"selection_glyph\":null},\"id\":\"fdbb190f-5e0e-49d8-8719-7a9c8086c66d\",\"type\":\"GlyphRenderer\"},{\"attributes\":{\"plot\":{\"id\":\"9b175d02-2da9-472b-a36c-85f99b4c41a0\",\"subtype\":\"Chart\",\"type\":\"Plot\"}},\"id\":\"c2f25b9f-9607-4c0d-8efa-ba0b6f1ccf12\",\"type\":\"ResetTool\"},{\"attributes\":{\"fill_alpha\":{\"field\":\"fill_alpha\"},\"fill_color\":{\"field\":\"color\"},\"height\":{\"field\":\"height\",\"units\":\"data\"},\"line_color\":{\"field\":\"line_color\"},\"width\":{\"field\":\"width\",\"units\":\"data\"},\"x\":{\"field\":\"x\"},\"y\":{\"field\":\"y\"}},\"id\":\"c5d1e310-a9eb-414c-987a-2b269c828ca3\",\"type\":\"Rect\"},{\"attributes\":{\"callback\":null,\"column_names\":[\"line_color\",\"line_alpha\",\"color\",\"fill_alpha\",\"height\",\"width\",\"y\",\"x\",\"label\"],\"data\":{\"chart_index\":[\"(3.3, 3.4]\"],\"color\":[\"#f22c40\"],\"fill_alpha\":[0.6],\"height\":[2.0],\"label\":[\"(3.3, 3.4]\"],\"line_alpha\":[1.0],\"line_color\":[\"black\"],\"width\":[0.11499920872552671],\"x\":[\"3.35\"],\"y\":[1.0]}},\"id\":\"1227f7e9-3be2-4a7c-b60f-60699dd36b3a\",\"type\":\"ColumnDataSource\"},{\"attributes\":{\"data_source\":{\"id\":\"12e36946-1bf1-412a-8024-0e028f47ec6e\",\"type\":\"ColumnDataSource\"},\"glyph\":{\"id\":\"b535c412-127f-4d37-8fc5-6a7e5f3c6317\",\"type\":\"Rect\"},\"hover_glyph\":null,\"nonselection_glyph\":null,\"selection_glyph\":null},\"id\":\"c27929c7-fc97-40ca-b794-094236dc363c\",\"type\":\"GlyphRenderer\"},{\"attributes\":{\"callback\":null,\"column_names\":[\"line_color\",\"line_alpha\",\"color\",\"fill_alpha\",\"height\",\"width\",\"y\",\"x\",\"label\"],\"data\":{\"chart_index\":[\"(2.3, 2.5]\"],\"color\":[\"#f22c40\"],\"fill_alpha\":[0.6],\"height\":[8.0],\"label\":[\"(2.3, 2.5]\"],\"line_alpha\":[1.0],\"line_color\":[\"black\"],\"width\":[0.11499920872552671],\"x\":[\"2.4\"],\"y\":[4.0]}},\"id\":\"c5b9960c-32e5-40a5-8a92-42fb3bbd2a7c\",\"type\":\"ColumnDataSource\"},{\"attributes\":{\"data_source\":{\"id\":\"527ec490-3f2e-41e0-82e5-a70e968cb44e\",\"type\":\"ColumnDataSource\"},\"glyph\":{\"id\":\"3ca5fa24-ce51-478b-8213-53a15bc40e10\",\"type\":\"Rect\"},\"hover_glyph\":null,\"nonselection_glyph\":null,\"selection_glyph\":null},\"id\":\"3f7a2ccc-7ff7-464a-96cd-28b2fa4114fa\",\"type\":\"GlyphRenderer\"},{\"attributes\":{\"axis_label\":\"Type\",\"formatter\":{\"id\":\"d3ab1997-0574-44f7-883e-0504422360cf\",\"type\":\"BasicTickFormatter\"},\"plot\":{\"id\":\"9b175d02-2da9-472b-a36c-85f99b4c41a0\",\"subtype\":\"Chart\",\"type\":\"Plot\"},\"ticker\":{\"id\":\"74ffbb30-9ef2-435a-a8e5-cba1ce294f3a\",\"type\":\"BasicTicker\"}},\"id\":\"4d94674f-bea6-4261-b7ce-8b0a597bb877\",\"type\":\"LinearAxis\"},{\"attributes\":{\"data_source\":{\"id\":\"ffc2bdbc-b86e-4b8f-8b80-3bebf2eef7cc\",\"type\":\"ColumnDataSource\"},\"glyph\":{\"id\":\"ee4e0348-eda7-4a6c-8cdd-ed92b24b5202\",\"type\":\"Rect\"},\"hover_glyph\":null,\"nonselection_glyph\":null,\"selection_glyph\":null},\"id\":\"cb7eefbe-6396-40c4-a5fe-d83ef7b43382\",\"type\":\"GlyphRenderer\"},{\"attributes\":{},\"id\":\"5992e9a8-7f96-4235-bb43-88e69090bdd1\",\"type\":\"BasicTickFormatter\"},{\"attributes\":{\"fill_alpha\":{\"field\":\"fill_alpha\"},\"fill_color\":{\"field\":\"color\"},\"height\":{\"field\":\"height\",\"units\":\"data\"},\"line_color\":{\"field\":\"line_color\"},\"width\":{\"field\":\"width\",\"units\":\"data\"},\"x\":{\"field\":\"x\"},\"y\":{\"field\":\"y\"}},\"id\":\"e6d11ecb-705e-4fd6-924e-d5f4caa612c0\",\"type\":\"Rect\"},{\"attributes\":{\"fill_alpha\":{\"field\":\"fill_alpha\"},\"fill_color\":{\"field\":\"color\"},\"height\":{\"field\":\"height\",\"units\":\"data\"},\"line_color\":{\"field\":\"line_color\"},\"width\":{\"field\":\"width\",\"units\":\"data\"},\"x\":{\"field\":\"x\"},\"y\":{\"field\":\"y\"}},\"id\":\"088b763b-151b-4f38-98e5-eac05fc8b771\",\"type\":\"Rect\"},{\"attributes\":{\"data_source\":{\"id\":\"b0dad8c1-7d3d-4740-a9a8-603423cd9a91\",\"type\":\"ColumnDataSource\"},\"glyph\":{\"id\":\"085749f2-51a5-41b9-b615-726e0f7de37f\",\"type\":\"Rect\"},\"hover_glyph\":null,\"nonselection_glyph\":null,\"selection_glyph\":null},\"id\":\"4c909237-3c19-4eb7-9905-1f4534cef812\",\"type\":\"GlyphRenderer\"},{\"attributes\":{\"data_source\":{\"id\":\"6b16c006-10aa-49f6-ae80-9e8e536d9ffb\",\"type\":\"ColumnDataSource\"},\"glyph\":{\"id\":\"e6d11ecb-705e-4fd6-924e-d5f4caa612c0\",\"type\":\"Rect\"},\"hover_glyph\":null,\"nonselection_glyph\":null,\"selection_glyph\":null},\"id\":\"d5c4dafe-7de2-4097-97d9-5d7687c8de87\",\"type\":\"GlyphRenderer\"},{\"attributes\":{\"fill_alpha\":{\"field\":\"fill_alpha\"},\"fill_color\":{\"field\":\"color\"},\"height\":{\"field\":\"height\",\"units\":\"data\"},\"line_color\":{\"field\":\"line_color\"},\"width\":{\"field\":\"width\",\"units\":\"data\"},\"x\":{\"field\":\"x\"},\"y\":{\"field\":\"y\"}},\"id\":\"5528dc30-1086-4602-8536-6bad744d4c8d\",\"type\":\"Rect\"},{\"attributes\":{},\"id\":\"962434d0-e685-4a2d-953c-24c9a3efc9be\",\"type\":\"BasicTicker\"},{\"attributes\":{\"data_source\":{\"id\":\"1ba142fe-97e1-4367-9c95-5340c0d94a05\",\"type\":\"ColumnDataSource\"},\"glyph\":{\"id\":\"20d865f0-742f-42f0-836a-bc4809e56389\",\"type\":\"Rect\"},\"hover_glyph\":null,\"nonselection_glyph\":null,\"selection_glyph\":null},\"id\":\"cf904fe2-0984-4a0c-894e-2abc34ac3dc3\",\"type\":\"GlyphRenderer\"},{\"attributes\":{\"fill_alpha\":{\"field\":\"fill_alpha\"},\"fill_color\":{\"field\":\"color\"},\"height\":{\"field\":\"height\",\"units\":\"data\"},\"line_color\":{\"field\":\"line_color\"},\"width\":{\"field\":\"width\",\"units\":\"data\"},\"x\":{\"field\":\"x\"},\"y\":{\"field\":\"y\"}},\"id\":\"f64787a7-2e87-4204-becd-0a1dbc9bcc0c\",\"type\":\"Rect\"},{\"attributes\":{\"fill_alpha\":{\"field\":\"fill_alpha\"},\"fill_color\":{\"field\":\"color\"},\"height\":{\"field\":\"height\",\"units\":\"data\"},\"line_color\":{\"field\":\"line_color\"},\"width\":{\"field\":\"width\",\"units\":\"data\"},\"x\":{\"field\":\"x\"},\"y\":{\"field\":\"y\"}},\"id\":\"32a97a0d-d958-4a21-af8f-4898d511ed69\",\"type\":\"Rect\"},{\"attributes\":{\"fill_alpha\":{\"field\":\"fill_alpha\"},\"fill_color\":{\"field\":\"color\"},\"height\":{\"field\":\"height\",\"units\":\"data\"},\"line_color\":{\"field\":\"line_color\"},\"width\":{\"field\":\"width\",\"units\":\"data\"},\"x\":{\"field\":\"x\"},\"y\":{\"field\":\"y\"}},\"id\":\"c4a3857c-1d51-4da7-9787-9697f1b0f714\",\"type\":\"Rect\"},{\"attributes\":{\"fill_alpha\":{\"field\":\"fill_alpha\"},\"fill_color\":{\"field\":\"color\"},\"height\":{\"field\":\"height\",\"units\":\"data\"},\"line_color\":{\"field\":\"line_color\"},\"width\":{\"field\":\"width\",\"units\":\"data\"},\"x\":{\"field\":\"x\"},\"y\":{\"field\":\"y\"}},\"id\":\"3ca5fa24-ce51-478b-8213-53a15bc40e10\",\"type\":\"Rect\"},{\"attributes\":{\"fill_alpha\":{\"field\":\"fill_alpha\"},\"fill_color\":{\"field\":\"color\"},\"height\":{\"field\":\"height\",\"units\":\"data\"},\"line_color\":{\"field\":\"line_color\"},\"width\":{\"field\":\"width\",\"units\":\"data\"},\"x\":{\"field\":\"x\"},\"y\":{\"field\":\"y\"}},\"id\":\"02cd5ddb-bbfe-44fd-a0f7-32d5531f416b\",\"type\":\"Rect\"},{\"attributes\":{\"fill_alpha\":{\"field\":\"fill_alpha\"},\"fill_color\":{\"field\":\"color\"},\"height\":{\"field\":\"height\",\"units\":\"data\"},\"line_color\":{\"field\":\"line_color\"},\"width\":{\"field\":\"width\",\"units\":\"data\"},\"x\":{\"field\":\"x\"},\"y\":{\"field\":\"y\"}},\"id\":\"c2c9d00b-7744-495b-90d0-c454f084d990\",\"type\":\"Rect\"},{\"attributes\":{\"fill_alpha\":{\"field\":\"fill_alpha\"},\"fill_color\":{\"field\":\"color\"},\"height\":{\"field\":\"height\",\"units\":\"data\"},\"line_color\":{\"field\":\"line_color\"},\"width\":{\"field\":\"width\",\"units\":\"data\"},\"x\":{\"field\":\"x\"},\"y\":{\"field\":\"y\"}},\"id\":\"fd4a21af-b4df-4720-8a6e-e30d7bb2b5aa\",\"type\":\"Rect\"},{\"attributes\":{\"fill_alpha\":{\"field\":\"fill_alpha\"},\"fill_color\":{\"field\":\"color\"},\"height\":{\"field\":\"height\",\"units\":\"data\"},\"line_color\":{\"field\":\"line_color\"},\"width\":{\"field\":\"width\",\"units\":\"data\"},\"x\":{\"field\":\"x\"},\"y\":{\"field\":\"y\"}},\"id\":\"20d865f0-742f-42f0-836a-bc4809e56389\",\"type\":\"Rect\"},{\"attributes\":{\"data_source\":{\"id\":\"19c92e24-7d5e-4b48-8eee-f3bd00251d90\",\"type\":\"ColumnDataSource\"},\"glyph\":{\"id\":\"74accb9b-4e66-4e47-abfe-c0822bfb27e5\",\"type\":\"Rect\"},\"hover_glyph\":null,\"nonselection_glyph\":null,\"selection_glyph\":null},\"id\":\"50831a0f-43d6-4178-ab09-323f9082d22d\",\"type\":\"GlyphRenderer\"},{\"attributes\":{\"data_source\":{\"id\":\"4401e2f5-cd95-4c78-899f-a61e8424563c\",\"type\":\"ColumnDataSource\"},\"glyph\":{\"id\":\"b28cd1be-490a-415a-9510-aa6fcf777d32\",\"type\":\"Rect\"},\"hover_glyph\":null,\"nonselection_glyph\":null,\"selection_glyph\":null},\"id\":\"d6fd51e3-7ac7-4d61-b3cb-cb1a33ca8778\",\"type\":\"GlyphRenderer\"},{\"attributes\":{\"fill_alpha\":{\"field\":\"fill_alpha\"},\"fill_color\":{\"field\":\"color\"},\"height\":{\"field\":\"height\",\"units\":\"data\"},\"line_color\":{\"field\":\"line_color\"},\"width\":{\"field\":\"width\",\"units\":\"data\"},\"x\":{\"field\":\"x\"},\"y\":{\"field\":\"y\"}},\"id\":\"b6f90ed7-b2c7-494c-808a-c05557eb4f1b\",\"type\":\"Rect\"},{\"attributes\":{\"data_source\":{\"id\":\"82ba0f1c-4f00-4edd-be02-ae923ad3473c\",\"type\":\"ColumnDataSource\"},\"glyph\":{\"id\":\"c2c9d00b-7744-495b-90d0-c454f084d990\",\"type\":\"Rect\"},\"hover_glyph\":null,\"nonselection_glyph\":null,\"selection_glyph\":null},\"id\":\"4b3c9f41-4878-450f-af5f-338a0be5bba5\",\"type\":\"GlyphRenderer\"},{\"attributes\":{\"fill_alpha\":{\"field\":\"fill_alpha\"},\"fill_color\":{\"field\":\"color\"},\"height\":{\"field\":\"height\",\"units\":\"data\"},\"line_color\":{\"field\":\"line_color\"},\"width\":{\"field\":\"width\",\"units\":\"data\"},\"x\":{\"field\":\"x\"},\"y\":{\"field\":\"y\"}},\"id\":\"7b4e49a9-88c6-4d56-813a-d5f10e7415af\",\"type\":\"Rect\"},{\"attributes\":{\"fill_alpha\":{\"field\":\"fill_alpha\"},\"fill_color\":{\"field\":\"color\"},\"height\":{\"field\":\"height\",\"units\":\"data\"},\"line_color\":{\"field\":\"line_color\"},\"width\":{\"field\":\"width\",\"units\":\"data\"},\"x\":{\"field\":\"x\"},\"y\":{\"field\":\"y\"}},\"id\":\"082aacd7-1dad-43ca-87a8-0279e3199a8b\",\"type\":\"Rect\"},{\"attributes\":{\"fill_alpha\":{\"field\":\"fill_alpha\"},\"fill_color\":{\"field\":\"color\"},\"height\":{\"field\":\"height\",\"units\":\"data\"},\"line_color\":{\"field\":\"line_color\"},\"width\":{\"field\":\"width\",\"units\":\"data\"},\"x\":{\"field\":\"x\"},\"y\":{\"field\":\"y\"}},\"id\":\"e63a8487-4d97-49be-9591-697977cba3a8\",\"type\":\"Rect\"},{\"attributes\":{\"callback\":null,\"column_names\":[\"line_color\",\"line_alpha\",\"color\",\"fill_alpha\",\"height\",\"width\",\"y\",\"x\",\"label\"],\"data\":{\"chart_index\":[\"(0.5, 0.6]\"],\"color\":[\"#5ab738\"],\"fill_alpha\":[0.6],\"height\":[52.0],\"label\":[\"(0.5, 0.6]\"],\"line_alpha\":[1.0],\"line_color\":[\"black\"],\"width\":[0.10591420897971782],\"x\":[\"0.55\"],\"y\":[26.0]}},\"id\":\"2d03510f-852f-45b4-ad52-603ebe19f2ae\",\"type\":\"ColumnDataSource\"},{\"attributes\":{\"callback\":null,\"column_names\":[\"line_color\",\"line_alpha\",\"color\",\"fill_alpha\",\"height\",\"width\",\"y\",\"x\",\"label\"],\"data\":{\"chart_index\":[\"(2.1, 2.2]\"],\"color\":[\"#f22c40\"],\"fill_alpha\":[0.6],\"height\":[19.0],\"label\":[\"(2.1, 2.2]\"],\"line_alpha\":[1.0],\"line_color\":[\"black\"],\"width\":[0.11499920872552671],\"x\":[\"2.15\"],\"y\":[9.5]}},\"id\":\"7669dc47-ad86-4354-8eb6-853e070ba999\",\"type\":\"ColumnDataSource\"},{\"attributes\":{\"callback\":null,\"column_names\":[\"line_color\",\"line_alpha\",\"color\",\"fill_alpha\",\"height\",\"width\",\"y\",\"x\",\"label\"],\"data\":{\"chart_index\":[\"(0.3, 0.4]\"],\"color\":[\"#5ab738\"],\"fill_alpha\":[0.6],\"height\":[45.0],\"label\":[\"(0.3, 0.4]\"],\"line_alpha\":[1.0],\"line_color\":[\"black\"],\"width\":[0.1059142089797176],\"x\":[\"0.35\"],\"y\":[22.5]}},\"id\":\"55d02aa7-d25d-49a2-be43-98afe5c47670\",\"type\":\"ColumnDataSource\"},{\"attributes\":{\"fill_alpha\":{\"field\":\"fill_alpha\"},\"fill_color\":{\"field\":\"color\"},\"height\":{\"field\":\"height\",\"units\":\"data\"},\"line_color\":{\"field\":\"line_color\"},\"width\":{\"field\":\"width\",\"units\":\"data\"},\"x\":{\"field\":\"x\"},\"y\":{\"field\":\"y\"}},\"id\":\"f3925ff3-aba4-4d82-b7f7-3812fc4d0054\",\"type\":\"Rect\"},{\"attributes\":{\"callback\":null,\"column_names\":[\"line_color\",\"line_alpha\",\"color\",\"fill_alpha\",\"height\",\"width\",\"y\",\"x\",\"label\"],\"data\":{\"chart_index\":[\"(0.5, 0.6]\"],\"color\":[\"#f22c40\"],\"fill_alpha\":[0.6],\"height\":[84.0],\"label\":[\"(0.5, 0.6]\"],\"line_alpha\":[1.0],\"line_color\":[\"black\"],\"width\":[0.1149992087255266],\"x\":[\"0.55\"],\"y\":[42.0]}},\"id\":\"1a962f2b-df28-4efb-ace9-9c4a01e6d7a6\",\"type\":\"ColumnDataSource\"},{\"attributes\":{\"callback\":null,\"column_names\":[\"line_color\",\"line_alpha\",\"color\",\"fill_alpha\",\"height\",\"width\",\"y\",\"x\",\"label\"],\"data\":{\"chart_index\":[\"(2.8, 2.9]\"],\"color\":[\"#f22c40\"],\"fill_alpha\":[0.6],\"height\":[5.0],\"label\":[\"(2.8, 2.9]\"],\"line_alpha\":[1.0],\"line_color\":[\"black\"],\"width\":[0.11499920872552671],\"x\":[\"2.85\"],\"y\":[2.5]}},\"id\":\"ade8c7e3-1467-4fed-b090-30b57f9a37fc\",\"type\":\"ColumnDataSource\"},{\"attributes\":{\"data_source\":{\"id\":\"82d2b989-9b17-490f-b1fb-b5a94d17b694\",\"type\":\"ColumnDataSource\"},\"glyph\":{\"id\":\"ae290f0d-84d7-4085-a5ef-4b423a0d664b\",\"type\":\"Rect\"},\"hover_glyph\":null,\"nonselection_glyph\":null,\"selection_glyph\":null},\"id\":\"1428e1b3-fcdf-4b98-ad8a-1856072a20be\",\"type\":\"GlyphRenderer\"},{\"attributes\":{\"data_source\":{\"id\":\"53391c51-1038-47f7-865f-507c1fb03727\",\"type\":\"ColumnDataSource\"},\"glyph\":{\"id\":\"39405f1d-31ee-4e16-bf65-027f4b9beb79\",\"type\":\"Rect\"},\"hover_glyph\":null,\"nonselection_glyph\":null,\"selection_glyph\":null},\"id\":\"f06828a4-168d-453a-bb7c-a31606f51290\",\"type\":\"GlyphRenderer\"},{\"attributes\":{\"callback\":null,\"column_names\":[\"line_color\",\"line_alpha\",\"color\",\"fill_alpha\",\"height\",\"width\",\"y\",\"x\",\"label\"],\"data\":{\"chart_index\":[\"(0.6, 0.7]\"],\"color\":[\"#5ab738\"],\"fill_alpha\":[0.6],\"height\":[27.0],\"label\":[\"(0.6, 0.7]\"],\"line_alpha\":[1.0],\"line_color\":[\"black\"],\"width\":[0.10591420897971782],\"x\":[\"0.65\"],\"y\":[13.5]}},\"id\":\"b49b6f6f-fd78-4ccd-af4b-39cb8a8fa5e4\",\"type\":\"ColumnDataSource\"},{\"attributes\":{\"data_source\":{\"id\":\"915bd747-476e-4cbb-a886-6fc74888cff9\",\"type\":\"ColumnDataSource\"},\"glyph\":{\"id\":\"93946dff-3c8b-4406-965b-6c6877c7a7a1\",\"type\":\"Rect\"},\"hover_glyph\":null,\"nonselection_glyph\":null,\"selection_glyph\":null},\"id\":\"759b070f-3994-4b4a-8dea-ea5f68003675\",\"type\":\"GlyphRenderer\"},{\"attributes\":{\"fill_alpha\":{\"field\":\"fill_alpha\"},\"fill_color\":{\"field\":\"color\"},\"height\":{\"field\":\"height\",\"units\":\"data\"},\"line_color\":{\"field\":\"line_color\"},\"width\":{\"field\":\"width\",\"units\":\"data\"},\"x\":{\"field\":\"x\"},\"y\":{\"field\":\"y\"}},\"id\":\"b535c412-127f-4d37-8fc5-6a7e5f3c6317\",\"type\":\"Rect\"},{\"attributes\":{\"callback\":null,\"column_names\":[\"line_color\",\"line_alpha\",\"color\",\"fill_alpha\",\"height\",\"width\",\"y\",\"x\",\"label\"],\"data\":{\"chart_index\":[\"(-1.3, -1.2]\"],\"color\":[\"#5ab738\"],\"fill_alpha\":[0.6],\"height\":[5.0],\"label\":[\"(-1.3, -1.2]\"],\"line_alpha\":[1.0],\"line_color\":[\"black\"],\"width\":[0.10591420897971782],\"x\":[\"-1.25\"],\"y\":[2.5]}},\"id\":\"24c86061-2fbe-4685-9d54-599ccabfdb15\",\"type\":\"ColumnDataSource\"},{\"attributes\":{\"fill_alpha\":{\"field\":\"fill_alpha\"},\"fill_color\":{\"field\":\"color\"},\"height\":{\"field\":\"height\",\"units\":\"data\"},\"line_color\":{\"field\":\"line_color\"},\"width\":{\"field\":\"width\",\"units\":\"data\"},\"x\":{\"field\":\"x\"},\"y\":{\"field\":\"y\"}},\"id\":\"da2f582d-77a0-4245-82b5-ded10e3f1852\",\"type\":\"Rect\"},{\"attributes\":{},\"id\":\"74ffbb30-9ef2-435a-a8e5-cba1ce294f3a\",\"type\":\"BasicTicker\"},{\"attributes\":{\"data_source\":{\"id\":\"7669dc47-ad86-4354-8eb6-853e070ba999\",\"type\":\"ColumnDataSource\"},\"glyph\":{\"id\":\"5528dc30-1086-4602-8536-6bad744d4c8d\",\"type\":\"Rect\"},\"hover_glyph\":null,\"nonselection_glyph\":null,\"selection_glyph\":null},\"id\":\"4fe8e41c-e9cd-43fd-83dd-c0bbd535a93c\",\"type\":\"GlyphRenderer\"},{\"attributes\":{\"fill_alpha\":{\"field\":\"fill_alpha\"},\"fill_color\":{\"field\":\"color\"},\"height\":{\"field\":\"height\",\"units\":\"data\"},\"line_color\":{\"field\":\"line_color\"},\"width\":{\"field\":\"width\",\"units\":\"data\"},\"x\":{\"field\":\"x\"},\"y\":{\"field\":\"y\"}},\"id\":\"39cb0f54-f0c9-46fb-8c75-fb3f5e6594a7\",\"type\":\"Rect\"},{\"attributes\":{\"axis_label\":\"Count( Value )\",\"formatter\":{\"id\":\"5992e9a8-7f96-4235-bb43-88e69090bdd1\",\"type\":\"BasicTickFormatter\"},\"plot\":{\"id\":\"9b175d02-2da9-472b-a36c-85f99b4c41a0\",\"subtype\":\"Chart\",\"type\":\"Plot\"},\"ticker\":{\"id\":\"962434d0-e685-4a2d-953c-24c9a3efc9be\",\"type\":\"BasicTicker\"}},\"id\":\"17e786b8-8bb8-45ef-9e8a-8f9cd8ab10df\",\"type\":\"LinearAxis\"},{\"attributes\":{\"data_source\":{\"id\":\"dd2e7c9c-d049-4d51-b392-87f37cdd541c\",\"type\":\"ColumnDataSource\"},\"glyph\":{\"id\":\"5cf2c828-4b19-4910-bc73-74c8f17f0dc5\",\"type\":\"Rect\"},\"hover_glyph\":null,\"nonselection_glyph\":null,\"selection_glyph\":null},\"id\":\"24e4d24c-c4da-4243-b27e-027e6b8033e3\",\"type\":\"GlyphRenderer\"},{\"attributes\":{\"callback\":null,\"column_names\":[\"line_color\",\"line_alpha\",\"color\",\"fill_alpha\",\"height\",\"width\",\"y\",\"x\",\"label\"],\"data\":{\"chart_index\":[\"(0.6, 0.7]\"],\"color\":[\"#f22c40\"],\"fill_alpha\":[0.6],\"height\":[106.0],\"label\":[\"(0.6, 0.7]\"],\"line_alpha\":[1.0],\"line_color\":[\"black\"],\"width\":[0.1149992087255266],\"x\":[\"0.65\"],\"y\":[53.0]}},\"id\":\"edcb1944-677d-46f7-a3a4-42f8272c0f16\",\"type\":\"ColumnDataSource\"},{\"attributes\":{\"fill_alpha\":{\"field\":\"fill_alpha\"},\"fill_color\":{\"field\":\"color\"},\"height\":{\"field\":\"height\",\"units\":\"data\"},\"line_color\":{\"field\":\"line_color\"},\"width\":{\"field\":\"width\",\"units\":\"data\"},\"x\":{\"field\":\"x\"},\"y\":{\"field\":\"y\"}},\"id\":\"1540ab93-85fc-44ff-8e15-15cacdeaa90e\",\"type\":\"Rect\"},{\"attributes\":{\"callback\":null,\"column_names\":[\"line_color\",\"line_alpha\",\"color\",\"fill_alpha\",\"height\",\"width\",\"y\",\"x\",\"label\"],\"data\":{\"chart_index\":[\"(-0.3, -0.2]\"],\"color\":[\"#5ab738\"],\"fill_alpha\":[0.6],\"height\":[71.0],\"label\":[\"(-0.3, -0.2]\"],\"line_alpha\":[1.0],\"line_color\":[\"black\"],\"width\":[0.1059142089797176],\"x\":[\"-0.25\"],\"y\":[35.5]}},\"id\":\"655c74d3-d7bc-49ea-be93-ffd5dcd155da\",\"type\":\"ColumnDataSource\"},{\"attributes\":{\"fill_alpha\":{\"field\":\"fill_alpha\"},\"fill_color\":{\"field\":\"color\"},\"height\":{\"field\":\"height\",\"units\":\"data\"},\"line_color\":{\"field\":\"line_color\"},\"width\":{\"field\":\"width\",\"units\":\"data\"},\"x\":{\"field\":\"x\"},\"y\":{\"field\":\"y\"}},\"id\":\"d3de2c8b-3ac8-40fe-a76e-bcd8676b5d77\",\"type\":\"Rect\"},{\"attributes\":{\"fill_alpha\":{\"field\":\"fill_alpha\"},\"fill_color\":{\"field\":\"color\"},\"height\":{\"field\":\"height\",\"units\":\"data\"},\"line_color\":{\"field\":\"line_color\"},\"width\":{\"field\":\"width\",\"units\":\"data\"},\"x\":{\"field\":\"x\"},\"y\":{\"field\":\"y\"}},\"id\":\"01912ce6-26aa-445c-b36f-bd00c548344c\",\"type\":\"Rect\"},{\"attributes\":{\"callback\":null,\"column_names\":[\"line_color\",\"line_alpha\",\"color\",\"fill_alpha\",\"height\",\"width\",\"y\",\"x\",\"label\"],\"data\":{\"chart_index\":[\"(1.2, 1.3]\"],\"color\":[\"#f22c40\"],\"fill_alpha\":[0.6],\"height\":[57.0],\"label\":[\"(1.2, 1.3]\"],\"line_alpha\":[1.0],\"line_color\":[\"black\"],\"width\":[0.11499920872552649],\"x\":[\"1.25\"],\"y\":[28.5]}},\"id\":\"dd2e7c9c-d049-4d51-b392-87f37cdd541c\",\"type\":\"ColumnDataSource\"},{\"attributes\":{\"fill_alpha\":{\"field\":\"fill_alpha\"},\"fill_color\":{\"field\":\"color\"},\"height\":{\"field\":\"height\",\"units\":\"data\"},\"line_color\":{\"field\":\"line_color\"},\"width\":{\"field\":\"width\",\"units\":\"data\"},\"x\":{\"field\":\"x\"},\"y\":{\"field\":\"y\"}},\"id\":\"306ce206-4afd-47a4-9708-d185c3fafb32\",\"type\":\"Rect\"},{\"attributes\":{\"callback\":null,\"column_names\":[\"line_color\",\"line_alpha\",\"color\",\"fill_alpha\",\"height\",\"width\",\"y\",\"x\",\"label\"],\"data\":{\"chart_index\":[\"(1.5, 1.6]\"],\"color\":[\"#5ab738\"],\"fill_alpha\":[0.6],\"height\":[2.0],\"label\":[\"(1.5, 1.6]\"],\"line_alpha\":[1.0],\"line_color\":[\"black\"],\"width\":[0.10591420897971715],\"x\":[\"1.55\"],\"y\":[1.0]}},\"id\":\"0a60e8c0-1037-4a69-a583-03ee916902a8\",\"type\":\"ColumnDataSource\"},{\"attributes\":{\"callback\":null,\"column_names\":[\"line_color\",\"line_alpha\",\"color\",\"fill_alpha\",\"height\",\"width\",\"y\",\"x\",\"label\"],\"data\":{\"chart_index\":[\"(1.8, 1.9]\"],\"color\":[\"#f22c40\"],\"fill_alpha\":[0.6],\"height\":[24.0],\"label\":[\"(1.8, 1.9]\"],\"line_alpha\":[1.0],\"line_color\":[\"black\"],\"width\":[0.11499920872552649],\"x\":[\"1.85\"],\"y\":[12.0]}},\"id\":\"173fddd9-cfb0-4560-8d7c-f5f10190d7c7\",\"type\":\"ColumnDataSource\"},{\"attributes\":{\"fill_alpha\":{\"field\":\"fill_alpha\"},\"fill_color\":{\"field\":\"color\"},\"height\":{\"field\":\"height\",\"units\":\"data\"},\"line_color\":{\"field\":\"line_color\"},\"width\":{\"field\":\"width\",\"units\":\"data\"},\"x\":{\"field\":\"x\"},\"y\":{\"field\":\"y\"}},\"id\":\"1f83bc1a-546b-4b6f-b00e-4677b9ec5e55\",\"type\":\"Rect\"},{\"attributes\":{\"fill_alpha\":{\"field\":\"fill_alpha\"},\"fill_color\":{\"field\":\"color\"},\"height\":{\"field\":\"height\",\"units\":\"data\"},\"line_color\":{\"field\":\"line_color\"},\"width\":{\"field\":\"width\",\"units\":\"data\"},\"x\":{\"field\":\"x\"},\"y\":{\"field\":\"y\"}},\"id\":\"aeca2f0e-333e-473a-aa59-787012755498\",\"type\":\"Rect\"},{\"attributes\":{\"fill_alpha\":{\"field\":\"fill_alpha\"},\"fill_color\":{\"field\":\"color\"},\"height\":{\"field\":\"height\",\"units\":\"data\"},\"line_color\":{\"field\":\"line_color\"},\"width\":{\"field\":\"width\",\"units\":\"data\"},\"x\":{\"field\":\"x\"},\"y\":{\"field\":\"y\"}},\"id\":\"fb4ac4e2-da65-40ff-914e-349e1369304c\",\"type\":\"Rect\"},{\"attributes\":{\"data_source\":{\"id\":\"20bb345c-33a1-4124-a347-fbfd7c3e0116\",\"type\":\"ColumnDataSource\"},\"glyph\":{\"id\":\"e3af2e4c-1056-43d0-9e88-444b24e09043\",\"type\":\"Rect\"},\"hover_glyph\":null,\"nonselection_glyph\":null,\"selection_glyph\":null},\"id\":\"112725e5-d4c4-4a8e-af40-484d320a8048\",\"type\":\"GlyphRenderer\"},{\"attributes\":{\"fill_alpha\":{\"field\":\"fill_alpha\"},\"fill_color\":{\"field\":\"color\"},\"height\":{\"field\":\"height\",\"units\":\"data\"},\"line_color\":{\"field\":\"line_color\"},\"width\":{\"field\":\"width\",\"units\":\"data\"},\"x\":{\"field\":\"x\"},\"y\":{\"field\":\"y\"}},\"id\":\"97ec8906-2825-4853-a771-323e494ea1f6\",\"type\":\"Rect\"},{\"attributes\":{\"fill_alpha\":{\"field\":\"fill_alpha\"},\"fill_color\":{\"field\":\"color\"},\"height\":{\"field\":\"height\",\"units\":\"data\"},\"line_color\":{\"field\":\"line_color\"},\"width\":{\"field\":\"width\",\"units\":\"data\"},\"x\":{\"field\":\"x\"},\"y\":{\"field\":\"y\"}},\"id\":\"e2ce46f9-da21-46b4-a546-2eefec6dfe36\",\"type\":\"Rect\"}],\"root_ids\":[\"9b175d02-2da9-472b-a36c-85f99b4c41a0\"]},\"title\":\"Bokeh Application\",\"version\":\"0.12.1\"}};\n",
       "            var render_items = [{\"docid\":\"c782114e-35f6-43ed-831e-897cc9765033\",\"elementid\":\"6002fef7-6541-45e8-a068-9e8edd96c7b7\",\"modelid\":\"9b175d02-2da9-472b-a36c-85f99b4c41a0\",\"notebook_comms_target\":\"94f28273-bf4f-4aff-931b-0e5fd3ce117e\"}];\n",
       "            \n",
       "            Bokeh.embed.embed_items(docs_json, render_items);\n",
       "        });\n",
       "      },\n",
       "      function(Bokeh) {\n",
       "      }\n",
       "    ];\n",
       "  \n",
       "    function run_inline_js() {\n",
       "      for (var i = 0; i < inline_js.length; i++) {\n",
       "        inline_js[i](window.Bokeh);\n",
       "      }\n",
       "    }\n",
       "  \n",
       "    if (window._bokeh_is_loading === 0) {\n",
       "      console.log(\"Bokeh: BokehJS loaded, going straight to plotting\");\n",
       "      run_inline_js();\n",
       "    } else {\n",
       "      load_libs(js_urls, function() {\n",
       "        console.log(\"Bokeh: BokehJS plotting callback run at\", now());\n",
       "        run_inline_js();\n",
       "      });\n",
       "    }\n",
       "  }(this));\n",
       "</script>"
      ]
     },
     "metadata": {},
     "output_type": "display_data"
    },
    {
     "data": {
      "text/html": [
       "<p><code>&lt;Bokeh Notebook handle for <strong>In[36]</strong>&gt;</code></p>"
      ],
      "text/plain": [
       "<bokeh.io._CommsHandle at 0x10befd3d0>"
      ]
     },
     "execution_count": 36,
     "metadata": {},
     "output_type": "execute_result"
    }
   ],
   "source": [
    "# EXERCISE: generate histograms for each \"type\" of distribution, and add a legend to the top left.\n",
    "hist = Histogram(df, values='value', label='type', bins=30, color = 'type', legend=\"top_left\")\n",
    "show(hist)"
   ]
  },
  {
   "cell_type": "markdown",
   "metadata": {},
   "source": [
    "# Box Plot\n",
    "\n",
    "A high-level box plot is provided by [`bokeh.charts.BoxPlot`]()\n",
    "\n",
    "For this section we will use the \"iris\" data set again. "
   ]
  },
  {
   "cell_type": "code",
   "execution_count": 37,
   "metadata": {
    "collapsed": true
   },
   "outputs": [],
   "source": [
    "from bokeh.charts import BoxPlot"
   ]
  },
  {
   "cell_type": "markdown",
   "metadata": {},
   "source": [
    "A basic box plot takes the data as the first value, as well as column names for:\n",
    "\n",
    "* `label` - a column to group to label the x-axis\n",
    "* `values` - a column to aggregate values for each group\n",
    "\n",
    "A simple example that also specifies some other properties such as `title` and `legend` is shown below:"
   ]
  },
  {
   "cell_type": "code",
   "execution_count": 38,
   "metadata": {
    "collapsed": false
   },
   "outputs": [
    {
     "data": {
      "text/html": [
       "\n",
       "\n",
       "    <div class=\"bk-root\">\n",
       "        <div class=\"plotdiv\" id=\"073ba4f8-649f-4cad-a0ed-da25918c1111\"></div>\n",
       "    </div>\n",
       "<script type=\"text/javascript\">\n",
       "  \n",
       "  (function(global) {\n",
       "    function now() {\n",
       "      return new Date();\n",
       "    }\n",
       "  \n",
       "    var force = \"\";\n",
       "  \n",
       "    if (typeof (window._bokeh_onload_callbacks) === \"undefined\" || force !== \"\") {\n",
       "      window._bokeh_onload_callbacks = [];\n",
       "      window._bokeh_is_loading = undefined;\n",
       "    }\n",
       "  \n",
       "    function run_callbacks() {\n",
       "      window._bokeh_onload_callbacks.forEach(function(callback) { callback() });\n",
       "      delete window._bokeh_onload_callbacks\n",
       "      console.info(\"Bokeh: all callbacks have finished\");\n",
       "    }\n",
       "  \n",
       "    function load_libs(js_urls, callback) {\n",
       "      window._bokeh_onload_callbacks.push(callback);\n",
       "      if (window._bokeh_is_loading > 0) {\n",
       "        console.log(\"Bokeh: BokehJS is being loaded, scheduling callback at\", now());\n",
       "        return null;\n",
       "      }\n",
       "      if (js_urls == null || js_urls.length === 0) {\n",
       "        run_callbacks();\n",
       "        return null;\n",
       "      }\n",
       "      console.log(\"Bokeh: BokehJS not loaded, scheduling load and callback at\", now());\n",
       "      window._bokeh_is_loading = js_urls.length;\n",
       "      for (var i = 0; i < js_urls.length; i++) {\n",
       "        var url = js_urls[i];\n",
       "        var s = document.createElement('script');\n",
       "        s.src = url;\n",
       "        s.async = false;\n",
       "        s.onreadystatechange = s.onload = function() {\n",
       "          window._bokeh_is_loading--;\n",
       "          if (window._bokeh_is_loading === 0) {\n",
       "            console.log(\"Bokeh: all BokehJS libraries loaded\");\n",
       "            run_callbacks()\n",
       "          }\n",
       "        };\n",
       "        s.onerror = function() {\n",
       "          console.warn(\"failed to load library \" + url);\n",
       "        };\n",
       "        console.log(\"Bokeh: injecting script tag for BokehJS library: \", url);\n",
       "        document.getElementsByTagName(\"head\")[0].appendChild(s);\n",
       "      }\n",
       "    };var element = document.getElementById(\"073ba4f8-649f-4cad-a0ed-da25918c1111\");\n",
       "    if (element == null) {\n",
       "      console.log(\"Bokeh: ERROR: autoload.js configured with elementid '073ba4f8-649f-4cad-a0ed-da25918c1111' but no matching script tag was found. \")\n",
       "      return false;\n",
       "    }\n",
       "  \n",
       "    var js_urls = [];\n",
       "  \n",
       "    var inline_js = [\n",
       "      function(Bokeh) {\n",
       "        Bokeh.$(function() {\n",
       "            var docs_json = {\"b126135e-d686-4d78-9448-a4412fa99835\":{\"roots\":{\"references\":[{\"attributes\":{\"formatter\":{\"id\":\"d16591cf-9a4a-4331-bbab-2a201390bb5c\",\"type\":\"CategoricalTickFormatter\"},\"major_label_orientation\":0.7853981633974483,\"plot\":{\"id\":\"456e6186-0fdd-445c-8477-65203fc6c26d\",\"subtype\":\"Chart\",\"type\":\"Plot\"},\"ticker\":{\"id\":\"f752c658-2769-4294-8be5-fa23b7019a5d\",\"type\":\"CategoricalTicker\"}},\"id\":\"4eb2295d-f2ac-489b-840b-8e14a67f6009\",\"type\":\"CategoricalAxis\"},{\"attributes\":{\"data_source\":{\"id\":\"3915ccc4-cf0e-4082-821b-05b1ba1f9027\",\"type\":\"ColumnDataSource\"},\"glyph\":{\"id\":\"0b31004a-d7b3-4028-9502-465f5dbb9426\",\"type\":\"Circle\"},\"hover_glyph\":null,\"nonselection_glyph\":null,\"selection_glyph\":null},\"id\":\"5ceabf44-96a4-4adc-99df-3353d81394b7\",\"type\":\"GlyphRenderer\"},{\"attributes\":{},\"id\":\"4da8bf53-10f9-48cc-810e-05ed4fc0008c\",\"type\":\"BasicTicker\"},{\"attributes\":{\"callback\":null,\"column_names\":[\"x_values\",\"y_values\"],\"data\":{\"chart_index\":[{\"species\":\"setosa\"},{\"species\":\"setosa\"}],\"species\":[\"setosa\",\"setosa\"],\"x_values\":[\"setosa:0.5\",\"setosa:0.5\"],\"y_values\":[0.5,0.6]}},\"id\":\"3915ccc4-cf0e-4082-821b-05b1ba1f9027\",\"type\":\"ColumnDataSource\"},{\"attributes\":{},\"id\":\"d16591cf-9a4a-4331-bbab-2a201390bb5c\",\"type\":\"CategoricalTickFormatter\"},{\"attributes\":{\"data_source\":{\"id\":\"fd181016-0f71-4291-bc5f-152d907044db\",\"type\":\"ColumnDataSource\"},\"glyph\":{\"id\":\"133d8ad9-9bd4-4fd4-a5c1-f9f8c49c3c5a\",\"type\":\"Rect\"},\"hover_glyph\":null,\"nonselection_glyph\":null,\"selection_glyph\":null},\"id\":\"6c4e41bd-235d-4e56-a66a-c2f91faceb78\",\"type\":\"GlyphRenderer\"},{\"attributes\":{\"callback\":null,\"column_names\":[\"line_color\",\"line_alpha\",\"color\",\"fill_alpha\",\"height\",\"width\",\"y\",\"x\",\"label\"],\"data\":{\"chart_index\":[{\"species\":\"virginica\"}],\"color\":[\"#aa4444\"],\"fill_alpha\":[0.8],\"height\":[0.2999999999999998],\"label\":[{\"species\":\"virginica\"}],\"line_alpha\":[1.0],\"line_color\":[\"black\"],\"species\":[\"virginica\"],\"width\":[0.8],\"x\":[\"virginica\"],\"y\":[2.15]}},\"id\":\"b12375fa-618c-4062-b8fd-3a250146bc10\",\"type\":\"ColumnDataSource\"},{\"attributes\":{\"data_source\":{\"id\":\"b12375fa-618c-4062-b8fd-3a250146bc10\",\"type\":\"ColumnDataSource\"},\"glyph\":{\"id\":\"5cd6e923-a6af-44c4-a8ad-0eba3de0c334\",\"type\":\"Rect\"},\"hover_glyph\":null,\"nonselection_glyph\":null,\"selection_glyph\":null},\"id\":\"81977e83-5935-4176-8e8e-f6af76ea04ca\",\"type\":\"GlyphRenderer\"},{\"attributes\":{\"data_source\":{\"id\":\"463b2790-0f54-425c-a6f5-b1a8f231f58f\",\"type\":\"ColumnDataSource\"},\"glyph\":{\"id\":\"f66ef1d4-ba65-4758-a2af-051d52625b38\",\"type\":\"Rect\"},\"hover_glyph\":null,\"nonselection_glyph\":null,\"selection_glyph\":null},\"id\":\"49721d38-b294-4516-8e51-3c2daa90c282\",\"type\":\"GlyphRenderer\"},{\"attributes\":{\"data_source\":{\"id\":\"007d3a35-5be9-48c3-8af3-a7712fec2e0d\",\"type\":\"ColumnDataSource\"},\"glyph\":{\"id\":\"4cd9ec33-a90f-4173-8f81-9f6eb1c747da\",\"type\":\"Rect\"},\"hover_glyph\":null,\"nonselection_glyph\":null,\"selection_glyph\":null},\"id\":\"7f5c4d8b-0b6c-4833-a438-c05172dcc494\",\"type\":\"GlyphRenderer\"},{\"attributes\":{},\"id\":\"7a30dddf-c1d8-4b41-b50d-f2231690827f\",\"type\":\"BasicTickFormatter\"},{\"attributes\":{\"fill_alpha\":{\"value\":0.7},\"fill_color\":{\"value\":\"red\"},\"line_color\":{\"value\":\"red\"},\"size\":{\"units\":\"screen\",\"value\":5},\"x\":{\"field\":\"x_values\"},\"y\":{\"field\":\"y_values\"}},\"id\":\"0b31004a-d7b3-4028-9502-465f5dbb9426\",\"type\":\"Circle\"},{\"attributes\":{\"callback\":null,\"factors\":[\"setosa\",\"versicolor\",\"virginica\"]},\"id\":\"e73caefb-0e84-441b-b57a-f3a396f1a877\",\"type\":\"FactorRange\"},{\"attributes\":{\"legends\":[[\"setosa\",[{\"id\":\"6c4e41bd-235d-4e56-a66a-c2f91faceb78\",\"type\":\"GlyphRenderer\"},{\"id\":\"7f5c4d8b-0b6c-4833-a438-c05172dcc494\",\"type\":\"GlyphRenderer\"},{\"id\":\"5ceabf44-96a4-4adc-99df-3353d81394b7\",\"type\":\"GlyphRenderer\"},{\"id\":\"563fc3cc-ed00-4f80-b20e-8642dacf8f1a\",\"type\":\"GlyphRenderer\"}]],[\"versicolor\",[{\"id\":\"ee061049-2b3d-4250-8718-d4fc0acb2730\",\"type\":\"GlyphRenderer\"},{\"id\":\"49721d38-b294-4516-8e51-3c2daa90c282\",\"type\":\"GlyphRenderer\"},{\"id\":\"c94a32f1-3814-4f7a-81f9-99fa8746815b\",\"type\":\"GlyphRenderer\"}]],[\"virginica\",[{\"id\":\"66396a49-b9f1-41f0-8446-1f1208322000\",\"type\":\"GlyphRenderer\"},{\"id\":\"81977e83-5935-4176-8e8e-f6af76ea04ca\",\"type\":\"GlyphRenderer\"},{\"id\":\"4eaf2418-b915-4d61-a01a-fd7973ac9d11\",\"type\":\"GlyphRenderer\"}]]],\"location\":\"top_left\",\"plot\":{\"id\":\"456e6186-0fdd-445c-8477-65203fc6c26d\",\"subtype\":\"Chart\",\"type\":\"Plot\"}},\"id\":\"2a2bde12-c282-4d18-a471-cb25460597be\",\"type\":\"Legend\"},{\"attributes\":{\"below\":[{\"id\":\"4eb2295d-f2ac-489b-840b-8e14a67f6009\",\"type\":\"CategoricalAxis\"}],\"left\":[{\"id\":\"791413f7-b98f-4945-bfdf-6859d08703bd\",\"type\":\"LinearAxis\"}],\"renderers\":[{\"id\":\"6c4e41bd-235d-4e56-a66a-c2f91faceb78\",\"type\":\"GlyphRenderer\"},{\"id\":\"7f5c4d8b-0b6c-4833-a438-c05172dcc494\",\"type\":\"GlyphRenderer\"},{\"id\":\"5ceabf44-96a4-4adc-99df-3353d81394b7\",\"type\":\"GlyphRenderer\"},{\"id\":\"563fc3cc-ed00-4f80-b20e-8642dacf8f1a\",\"type\":\"GlyphRenderer\"},{\"id\":\"ee061049-2b3d-4250-8718-d4fc0acb2730\",\"type\":\"GlyphRenderer\"},{\"id\":\"49721d38-b294-4516-8e51-3c2daa90c282\",\"type\":\"GlyphRenderer\"},{\"id\":\"c94a32f1-3814-4f7a-81f9-99fa8746815b\",\"type\":\"GlyphRenderer\"},{\"id\":\"66396a49-b9f1-41f0-8446-1f1208322000\",\"type\":\"GlyphRenderer\"},{\"id\":\"81977e83-5935-4176-8e8e-f6af76ea04ca\",\"type\":\"GlyphRenderer\"},{\"id\":\"4eaf2418-b915-4d61-a01a-fd7973ac9d11\",\"type\":\"GlyphRenderer\"},{\"id\":\"2a2bde12-c282-4d18-a471-cb25460597be\",\"type\":\"Legend\"},{\"id\":\"4eb2295d-f2ac-489b-840b-8e14a67f6009\",\"type\":\"CategoricalAxis\"},{\"id\":\"791413f7-b98f-4945-bfdf-6859d08703bd\",\"type\":\"LinearAxis\"},{\"id\":\"a33d808f-f6ac-4be1-9cec-0a850b509070\",\"type\":\"Grid\"}],\"title\":{\"id\":\"f4c9fb95-7d6d-4c38-b199-e7b07f20ad56\",\"type\":\"Title\"},\"tool_events\":{\"id\":\"02ef9992-b960-4a96-bed5-f36aac03d840\",\"type\":\"ToolEvents\"},\"toolbar\":{\"id\":\"7f6fb9cd-d804-4991-8f3d-1e7b4a1d251d\",\"type\":\"Toolbar\"},\"x_mapper_type\":\"auto\",\"x_range\":{\"id\":\"e73caefb-0e84-441b-b57a-f3a396f1a877\",\"type\":\"FactorRange\"},\"y_mapper_type\":\"auto\",\"y_range\":{\"id\":\"634c96ca-03f6-4958-8882-a16b606887ce\",\"type\":\"Range1d\"}},\"id\":\"456e6186-0fdd-445c-8477-65203fc6c26d\",\"subtype\":\"Chart\",\"type\":\"Plot\"},{\"attributes\":{\"fill_alpha\":{\"field\":\"fill_alpha\"},\"fill_color\":{\"field\":\"color\"},\"height\":{\"field\":\"height\",\"units\":\"data\"},\"line_color\":{\"field\":\"line_color\"},\"width\":{\"field\":\"width\",\"units\":\"data\"},\"x\":{\"field\":\"x\"},\"y\":{\"field\":\"y\"}},\"id\":\"8b83cbc2-900d-4b53-ac20-9ef23cb49eb5\",\"type\":\"Rect\"},{\"attributes\":{\"line_width\":{\"value\":2},\"x0\":{\"field\":\"x0s\"},\"x1\":{\"field\":\"x1s\"},\"y0\":{\"field\":\"y0s\"},\"y1\":{\"field\":\"y1s\"}},\"id\":\"ef014f9f-e57f-439a-bd9d-65368e14def7\",\"type\":\"Segment\"},{\"attributes\":{\"fill_alpha\":{\"field\":\"fill_alpha\"},\"fill_color\":{\"field\":\"color\"},\"height\":{\"field\":\"height\",\"units\":\"data\"},\"line_color\":{\"field\":\"line_color\"},\"width\":{\"field\":\"width\",\"units\":\"data\"},\"x\":{\"field\":\"x\"},\"y\":{\"field\":\"y\"}},\"id\":\"f66ef1d4-ba65-4758-a2af-051d52625b38\",\"type\":\"Rect\"},{\"attributes\":{\"callback\":null,\"column_names\":[\"line_color\",\"line_alpha\",\"color\",\"fill_alpha\",\"height\",\"width\",\"y\",\"x\",\"label\"],\"data\":{\"chart_index\":[{\"species\":\"virginica\"}],\"color\":[\"#aa4444\"],\"fill_alpha\":[0.8],\"height\":[0.19999999999999996],\"label\":[{\"species\":\"virginica\"}],\"line_alpha\":[1.0],\"line_color\":[\"black\"],\"species\":[\"virginica\"],\"width\":[0.8],\"x\":[\"virginica\"],\"y\":[1.9]}},\"id\":\"15b2f990-a883-4f64-b9e3-dbf546a40933\",\"type\":\"ColumnDataSource\"},{\"attributes\":{\"data_source\":{\"id\":\"15b2f990-a883-4f64-b9e3-dbf546a40933\",\"type\":\"ColumnDataSource\"},\"glyph\":{\"id\":\"c4ab29db-79e5-4e5b-9ab5-94301ce3c94a\",\"type\":\"Rect\"},\"hover_glyph\":null,\"nonselection_glyph\":null,\"selection_glyph\":null},\"id\":\"66396a49-b9f1-41f0-8446-1f1208322000\",\"type\":\"GlyphRenderer\"},{\"attributes\":{\"fill_alpha\":{\"field\":\"fill_alpha\"},\"fill_color\":{\"field\":\"color\"},\"height\":{\"field\":\"height\",\"units\":\"data\"},\"line_color\":{\"field\":\"line_color\"},\"width\":{\"field\":\"width\",\"units\":\"data\"},\"x\":{\"field\":\"x\"},\"y\":{\"field\":\"y\"}},\"id\":\"4cd9ec33-a90f-4173-8f81-9f6eb1c747da\",\"type\":\"Rect\"},{\"attributes\":{\"callback\":null,\"column_names\":[\"line_color\",\"line_alpha\",\"color\",\"fill_alpha\",\"height\",\"width\",\"y\",\"x\",\"label\"],\"data\":{\"chart_index\":[{\"species\":\"setosa\"}],\"color\":[\"#aa4444\"],\"fill_alpha\":[0.8],\"height\":[0.0],\"label\":[{\"species\":\"setosa\"}],\"line_alpha\":[1.0],\"line_color\":[\"black\"],\"species\":[\"setosa\"],\"width\":[0.8],\"x\":[\"setosa\"],\"y\":[0.2]}},\"id\":\"fd181016-0f71-4291-bc5f-152d907044db\",\"type\":\"ColumnDataSource\"},{\"attributes\":{\"callback\":null,\"column_names\":[\"x0s\",\"y0s\",\"x1s\",\"y1s\"],\"data\":{\"chart_index\":[{\"species\":\"versicolor\"},{\"species\":\"versicolor\"},{\"species\":\"versicolor\"},{\"species\":\"versicolor\"}],\"species\":[\"versicolor\",\"versicolor\",\"versicolor\",\"versicolor\"],\"x0s\":[\"versicolor:0.5\",\"versicolor:0.65\",\"versicolor:0.5\",\"versicolor:0.65\"],\"x1s\":[\"versicolor:0.5\",\"versicolor:0.35\",\"versicolor:0.5\",\"versicolor:0.35\"],\"y0s\":[1.0,1.0,1.5,1.8],\"y1s\":[1.2,1.0,1.8,1.8]}},\"id\":\"5b3dfb8c-b75c-4e9e-9051-c56d80162ce2\",\"type\":\"ColumnDataSource\"},{\"attributes\":{\"axis_label\":\"petal width, mm\",\"formatter\":{\"id\":\"7a30dddf-c1d8-4b41-b50d-f2231690827f\",\"type\":\"BasicTickFormatter\"},\"plot\":{\"id\":\"456e6186-0fdd-445c-8477-65203fc6c26d\",\"subtype\":\"Chart\",\"type\":\"Plot\"},\"ticker\":{\"id\":\"4da8bf53-10f9-48cc-810e-05ed4fc0008c\",\"type\":\"BasicTicker\"}},\"id\":\"791413f7-b98f-4945-bfdf-6859d08703bd\",\"type\":\"LinearAxis\"},{\"attributes\":{\"callback\":null,\"column_names\":[\"line_color\",\"line_alpha\",\"color\",\"fill_alpha\",\"height\",\"width\",\"y\",\"x\",\"label\"],\"data\":{\"chart_index\":[{\"species\":\"versicolor\"}],\"color\":[\"#aa4444\"],\"fill_alpha\":[0.8],\"height\":[0.10000000000000009],\"label\":[{\"species\":\"versicolor\"}],\"line_alpha\":[1.0],\"line_color\":[\"black\"],\"species\":[\"versicolor\"],\"width\":[0.8],\"x\":[\"versicolor\"],\"y\":[1.25]}},\"id\":\"ee19b97e-fec6-4c9a-a0fe-85c6e8868b58\",\"type\":\"ColumnDataSource\"},{\"attributes\":{\"callback\":null,\"end\":2.63},\"id\":\"634c96ca-03f6-4958-8882-a16b606887ce\",\"type\":\"Range1d\"},{\"attributes\":{\"active_drag\":\"auto\",\"active_scroll\":\"auto\",\"active_tap\":\"auto\",\"tools\":[{\"id\":\"6d654450-8375-4ddd-be74-08da313b2db8\",\"type\":\"CrosshairTool\"}]},\"id\":\"7f6fb9cd-d804-4991-8f3d-1e7b4a1d251d\",\"type\":\"Toolbar\"},{\"attributes\":{\"fill_alpha\":{\"field\":\"fill_alpha\"},\"fill_color\":{\"field\":\"color\"},\"height\":{\"field\":\"height\",\"units\":\"data\"},\"line_color\":{\"field\":\"line_color\"},\"width\":{\"field\":\"width\",\"units\":\"data\"},\"x\":{\"field\":\"x\"},\"y\":{\"field\":\"y\"}},\"id\":\"133d8ad9-9bd4-4fd4-a5c1-f9f8c49c3c5a\",\"type\":\"Rect\"},{\"attributes\":{\"data_source\":{\"id\":\"438b5344-d34a-4d82-90b0-c2176dcafb26\",\"type\":\"ColumnDataSource\"},\"glyph\":{\"id\":\"ef014f9f-e57f-439a-bd9d-65368e14def7\",\"type\":\"Segment\"},\"hover_glyph\":null,\"nonselection_glyph\":null,\"selection_glyph\":null},\"id\":\"4eaf2418-b915-4d61-a01a-fd7973ac9d11\",\"type\":\"GlyphRenderer\"},{\"attributes\":{\"fill_alpha\":{\"field\":\"fill_alpha\"},\"fill_color\":{\"field\":\"color\"},\"height\":{\"field\":\"height\",\"units\":\"data\"},\"line_color\":{\"field\":\"line_color\"},\"width\":{\"field\":\"width\",\"units\":\"data\"},\"x\":{\"field\":\"x\"},\"y\":{\"field\":\"y\"}},\"id\":\"5cd6e923-a6af-44c4-a8ad-0eba3de0c334\",\"type\":\"Rect\"},{\"attributes\":{\"data_source\":{\"id\":\"5b3dfb8c-b75c-4e9e-9051-c56d80162ce2\",\"type\":\"ColumnDataSource\"},\"glyph\":{\"id\":\"efc4683b-3192-4f24-8dfc-97356c4bb1f9\",\"type\":\"Segment\"},\"hover_glyph\":null,\"nonselection_glyph\":null,\"selection_glyph\":null},\"id\":\"c94a32f1-3814-4f7a-81f9-99fa8746815b\",\"type\":\"GlyphRenderer\"},{\"attributes\":{\"dimension\":1,\"plot\":{\"id\":\"456e6186-0fdd-445c-8477-65203fc6c26d\",\"subtype\":\"Chart\",\"type\":\"Plot\"},\"ticker\":{\"id\":\"4da8bf53-10f9-48cc-810e-05ed4fc0008c\",\"type\":\"BasicTicker\"}},\"id\":\"a33d808f-f6ac-4be1-9cec-0a850b509070\",\"type\":\"Grid\"},{\"attributes\":{\"plot\":null,\"text\":\"Distributions of petal widths\"},\"id\":\"f4c9fb95-7d6d-4c38-b199-e7b07f20ad56\",\"type\":\"Title\"},{\"attributes\":{\"callback\":null,\"column_names\":[\"line_color\",\"line_alpha\",\"color\",\"fill_alpha\",\"height\",\"width\",\"y\",\"x\",\"label\"],\"data\":{\"chart_index\":[{\"species\":\"setosa\"}],\"color\":[\"#aa4444\"],\"fill_alpha\":[0.8],\"height\":[0.09999999999999998],\"label\":[{\"species\":\"setosa\"}],\"line_alpha\":[1.0],\"line_color\":[\"black\"],\"species\":[\"setosa\"],\"width\":[0.8],\"x\":[\"setosa\"],\"y\":[0.25]}},\"id\":\"007d3a35-5be9-48c3-8af3-a7712fec2e0d\",\"type\":\"ColumnDataSource\"},{\"attributes\":{\"fill_alpha\":{\"field\":\"fill_alpha\"},\"fill_color\":{\"field\":\"color\"},\"height\":{\"field\":\"height\",\"units\":\"data\"},\"line_color\":{\"field\":\"line_color\"},\"width\":{\"field\":\"width\",\"units\":\"data\"},\"x\":{\"field\":\"x\"},\"y\":{\"field\":\"y\"}},\"id\":\"c4ab29db-79e5-4e5b-9ab5-94301ce3c94a\",\"type\":\"Rect\"},{\"attributes\":{\"callback\":null,\"column_names\":[\"x0s\",\"y0s\",\"x1s\",\"y1s\"],\"data\":{\"chart_index\":[{\"species\":\"setosa\"},{\"species\":\"setosa\"},{\"species\":\"setosa\"},{\"species\":\"setosa\"}],\"species\":[\"setosa\",\"setosa\",\"setosa\",\"setosa\"],\"x0s\":[\"setosa:0.5\",\"setosa:0.65\",\"setosa:0.5\",\"setosa:0.65\"],\"x1s\":[\"setosa:0.5\",\"setosa:0.35\",\"setosa:0.5\",\"setosa:0.35\"],\"y0s\":[0.1,0.1,0.3,0.44999999999999996],\"y1s\":[0.2,0.1,0.44999999999999996,0.44999999999999996]}},\"id\":\"8adfdca0-8a4a-4dc4-a76c-cbbcce880a35\",\"type\":\"ColumnDataSource\"},{\"attributes\":{},\"id\":\"02ef9992-b960-4a96-bed5-f36aac03d840\",\"type\":\"ToolEvents\"},{\"attributes\":{\"data_source\":{\"id\":\"ee19b97e-fec6-4c9a-a0fe-85c6e8868b58\",\"type\":\"ColumnDataSource\"},\"glyph\":{\"id\":\"8b83cbc2-900d-4b53-ac20-9ef23cb49eb5\",\"type\":\"Rect\"},\"hover_glyph\":null,\"nonselection_glyph\":null,\"selection_glyph\":null},\"id\":\"ee061049-2b3d-4250-8718-d4fc0acb2730\",\"type\":\"GlyphRenderer\"},{\"attributes\":{\"line_width\":{\"value\":2},\"x0\":{\"field\":\"x0s\"},\"x1\":{\"field\":\"x1s\"},\"y0\":{\"field\":\"y0s\"},\"y1\":{\"field\":\"y1s\"}},\"id\":\"efc4683b-3192-4f24-8dfc-97356c4bb1f9\",\"type\":\"Segment\"},{\"attributes\":{\"plot\":{\"id\":\"456e6186-0fdd-445c-8477-65203fc6c26d\",\"subtype\":\"Chart\",\"type\":\"Plot\"}},\"id\":\"6d654450-8375-4ddd-be74-08da313b2db8\",\"type\":\"CrosshairTool\"},{\"attributes\":{\"callback\":null,\"column_names\":[\"line_color\",\"line_alpha\",\"color\",\"fill_alpha\",\"height\",\"width\",\"y\",\"x\",\"label\"],\"data\":{\"chart_index\":[{\"species\":\"versicolor\"}],\"color\":[\"#aa4444\"],\"fill_alpha\":[0.8],\"height\":[0.19999999999999996],\"label\":[{\"species\":\"versicolor\"}],\"line_alpha\":[1.0],\"line_color\":[\"black\"],\"species\":[\"versicolor\"],\"width\":[0.8],\"x\":[\"versicolor\"],\"y\":[1.4]}},\"id\":\"463b2790-0f54-425c-a6f5-b1a8f231f58f\",\"type\":\"ColumnDataSource\"},{\"attributes\":{},\"id\":\"f752c658-2769-4294-8be5-fa23b7019a5d\",\"type\":\"CategoricalTicker\"},{\"attributes\":{\"line_width\":{\"value\":2},\"x0\":{\"field\":\"x0s\"},\"x1\":{\"field\":\"x1s\"},\"y0\":{\"field\":\"y0s\"},\"y1\":{\"field\":\"y1s\"}},\"id\":\"c0050036-ae8b-45bf-b85a-4c494a31ee16\",\"type\":\"Segment\"},{\"attributes\":{\"callback\":null,\"column_names\":[\"x0s\",\"y0s\",\"x1s\",\"y1s\"],\"data\":{\"chart_index\":[{\"species\":\"virginica\"},{\"species\":\"virginica\"},{\"species\":\"virginica\"},{\"species\":\"virginica\"}],\"species\":[\"virginica\",\"virginica\",\"virginica\",\"virginica\"],\"x0s\":[\"virginica:0.5\",\"virginica:0.65\",\"virginica:0.5\",\"virginica:0.65\"],\"x1s\":[\"virginica:0.5\",\"virginica:0.35\",\"virginica:0.5\",\"virginica:0.35\"],\"y0s\":[1.4,1.4,2.3,2.5],\"y1s\":[1.8,1.4,2.5,2.5]}},\"id\":\"438b5344-d34a-4d82-90b0-c2176dcafb26\",\"type\":\"ColumnDataSource\"},{\"attributes\":{\"data_source\":{\"id\":\"8adfdca0-8a4a-4dc4-a76c-cbbcce880a35\",\"type\":\"ColumnDataSource\"},\"glyph\":{\"id\":\"c0050036-ae8b-45bf-b85a-4c494a31ee16\",\"type\":\"Segment\"},\"hover_glyph\":null,\"nonselection_glyph\":null,\"selection_glyph\":null},\"id\":\"563fc3cc-ed00-4f80-b20e-8642dacf8f1a\",\"type\":\"GlyphRenderer\"}],\"root_ids\":[\"456e6186-0fdd-445c-8477-65203fc6c26d\"]},\"title\":\"Bokeh Application\",\"version\":\"0.12.1\"}};\n",
       "            var render_items = [{\"docid\":\"b126135e-d686-4d78-9448-a4412fa99835\",\"elementid\":\"073ba4f8-649f-4cad-a0ed-da25918c1111\",\"modelid\":\"456e6186-0fdd-445c-8477-65203fc6c26d\",\"notebook_comms_target\":\"44a2e3a6-6588-44ce-9277-8edfa26a869f\"}];\n",
       "            \n",
       "            Bokeh.embed.embed_items(docs_json, render_items);\n",
       "        });\n",
       "      },\n",
       "      function(Bokeh) {\n",
       "      }\n",
       "    ];\n",
       "  \n",
       "    function run_inline_js() {\n",
       "      for (var i = 0; i < inline_js.length; i++) {\n",
       "        inline_js[i](window.Bokeh);\n",
       "      }\n",
       "    }\n",
       "  \n",
       "    if (window._bokeh_is_loading === 0) {\n",
       "      console.log(\"Bokeh: BokehJS loaded, going straight to plotting\");\n",
       "      run_inline_js();\n",
       "    } else {\n",
       "      load_libs(js_urls, function() {\n",
       "        console.log(\"Bokeh: BokehJS plotting callback run at\", now());\n",
       "        run_inline_js();\n",
       "      });\n",
       "    }\n",
       "  }(this));\n",
       "</script>"
      ]
     },
     "metadata": {},
     "output_type": "display_data"
    },
    {
     "data": {
      "text/html": [
       "<p><code>&lt;Bokeh Notebook handle for <strong>In[38]</strong>&gt;</code></p>"
      ],
      "text/plain": [
       "<bokeh.io._CommsHandle at 0x10c14de50>"
      ]
     },
     "execution_count": 38,
     "metadata": {},
     "output_type": "execute_result"
    }
   ],
   "source": [
    "p = BoxPlot(flowers, label='species', values='petal_width', tools='crosshair', color='#aa4444',\n",
    "            xlabel='', ylabel='petal width, mm', title='Distributions of petal widths')\n",
    "show(p)"
   ]
  },
  {
   "cell_type": "markdown",
   "metadata": {},
   "source": [
    "Instead of a single color, the box and whiskers groups can be colored by grouping one of the columns. This is done by passing a column name as the `color` parameter. Let's try that as an exercise."
   ]
  },
  {
   "cell_type": "code",
   "execution_count": 40,
   "metadata": {
    "collapsed": false
   },
   "outputs": [
    {
     "data": {
      "text/html": [
       "\n",
       "\n",
       "    <div class=\"bk-root\">\n",
       "        <div class=\"plotdiv\" id=\"b5a4fc8a-09b9-4653-9344-eacd4a45ac77\"></div>\n",
       "    </div>\n",
       "<script type=\"text/javascript\">\n",
       "  \n",
       "  (function(global) {\n",
       "    function now() {\n",
       "      return new Date();\n",
       "    }\n",
       "  \n",
       "    var force = \"\";\n",
       "  \n",
       "    if (typeof (window._bokeh_onload_callbacks) === \"undefined\" || force !== \"\") {\n",
       "      window._bokeh_onload_callbacks = [];\n",
       "      window._bokeh_is_loading = undefined;\n",
       "    }\n",
       "  \n",
       "    function run_callbacks() {\n",
       "      window._bokeh_onload_callbacks.forEach(function(callback) { callback() });\n",
       "      delete window._bokeh_onload_callbacks\n",
       "      console.info(\"Bokeh: all callbacks have finished\");\n",
       "    }\n",
       "  \n",
       "    function load_libs(js_urls, callback) {\n",
       "      window._bokeh_onload_callbacks.push(callback);\n",
       "      if (window._bokeh_is_loading > 0) {\n",
       "        console.log(\"Bokeh: BokehJS is being loaded, scheduling callback at\", now());\n",
       "        return null;\n",
       "      }\n",
       "      if (js_urls == null || js_urls.length === 0) {\n",
       "        run_callbacks();\n",
       "        return null;\n",
       "      }\n",
       "      console.log(\"Bokeh: BokehJS not loaded, scheduling load and callback at\", now());\n",
       "      window._bokeh_is_loading = js_urls.length;\n",
       "      for (var i = 0; i < js_urls.length; i++) {\n",
       "        var url = js_urls[i];\n",
       "        var s = document.createElement('script');\n",
       "        s.src = url;\n",
       "        s.async = false;\n",
       "        s.onreadystatechange = s.onload = function() {\n",
       "          window._bokeh_is_loading--;\n",
       "          if (window._bokeh_is_loading === 0) {\n",
       "            console.log(\"Bokeh: all BokehJS libraries loaded\");\n",
       "            run_callbacks()\n",
       "          }\n",
       "        };\n",
       "        s.onerror = function() {\n",
       "          console.warn(\"failed to load library \" + url);\n",
       "        };\n",
       "        console.log(\"Bokeh: injecting script tag for BokehJS library: \", url);\n",
       "        document.getElementsByTagName(\"head\")[0].appendChild(s);\n",
       "      }\n",
       "    };var element = document.getElementById(\"b5a4fc8a-09b9-4653-9344-eacd4a45ac77\");\n",
       "    if (element == null) {\n",
       "      console.log(\"Bokeh: ERROR: autoload.js configured with elementid 'b5a4fc8a-09b9-4653-9344-eacd4a45ac77' but no matching script tag was found. \")\n",
       "      return false;\n",
       "    }\n",
       "  \n",
       "    var js_urls = [];\n",
       "  \n",
       "    var inline_js = [\n",
       "      function(Bokeh) {\n",
       "        Bokeh.$(function() {\n",
       "            var docs_json = {\"d7721b74-7b2b-4acb-adee-d7864054c596\":{\"roots\":{\"references\":[{\"attributes\":{\"data_source\":{\"id\":\"2771a0be-71b0-49e1-b7eb-901ef3baa97b\",\"type\":\"ColumnDataSource\"},\"glyph\":{\"id\":\"da7fce4e-68e0-435b-8c14-4670464cbf4e\",\"type\":\"Rect\"},\"hover_glyph\":null,\"nonselection_glyph\":null,\"selection_glyph\":null},\"id\":\"2e3e935e-075b-4d75-b01e-1c60a6eabf31\",\"type\":\"GlyphRenderer\"},{\"attributes\":{\"line_width\":{\"value\":2},\"x0\":{\"field\":\"x0s\"},\"x1\":{\"field\":\"x1s\"},\"y0\":{\"field\":\"y0s\"},\"y1\":{\"field\":\"y1s\"}},\"id\":\"b9abfa81-2961-40bf-8540-c7a0ef50192a\",\"type\":\"Segment\"},{\"attributes\":{\"fill_alpha\":{\"field\":\"fill_alpha\"},\"fill_color\":{\"field\":\"color\"},\"height\":{\"field\":\"height\",\"units\":\"data\"},\"line_color\":{\"field\":\"line_color\"},\"width\":{\"field\":\"width\",\"units\":\"data\"},\"x\":{\"field\":\"x\"},\"y\":{\"field\":\"y\"}},\"id\":\"2dffbc83-bf05-4357-a7fb-1d00e9d29e9f\",\"type\":\"Rect\"},{\"attributes\":{\"callback\":null,\"column_names\":[\"line_color\",\"line_alpha\",\"color\",\"fill_alpha\",\"height\",\"width\",\"y\",\"x\",\"label\"],\"data\":{\"chart_index\":[{\"species\":\"versicolor\"}],\"color\":[\"#5ab738\"],\"fill_alpha\":[0.8],\"height\":[0.10000000000000009],\"label\":[{\"species\":\"versicolor\"}],\"line_alpha\":[1.0],\"line_color\":[\"black\"],\"species\":[\"versicolor\"],\"width\":[0.8],\"x\":[\"versicolor\"],\"y\":[1.25]}},\"id\":\"a27e16ab-cbff-4f50-b416-220931775568\",\"type\":\"ColumnDataSource\"},{\"attributes\":{\"data_source\":{\"id\":\"a27e16ab-cbff-4f50-b416-220931775568\",\"type\":\"ColumnDataSource\"},\"glyph\":{\"id\":\"c4663f31-8601-48d7-a721-e5faacfad4de\",\"type\":\"Rect\"},\"hover_glyph\":null,\"nonselection_glyph\":null,\"selection_glyph\":null},\"id\":\"68a4078f-9f25-4f49-946f-7287d4eb44fc\",\"type\":\"GlyphRenderer\"},{\"attributes\":{\"fill_alpha\":{\"field\":\"fill_alpha\"},\"fill_color\":{\"field\":\"color\"},\"height\":{\"field\":\"height\",\"units\":\"data\"},\"line_color\":{\"field\":\"line_color\"},\"width\":{\"field\":\"width\",\"units\":\"data\"},\"x\":{\"field\":\"x\"},\"y\":{\"field\":\"y\"}},\"id\":\"beddaf78-82d4-44dc-a697-5c4ee537fc53\",\"type\":\"Rect\"},{\"attributes\":{\"legends\":[[\"setosa\",[{\"id\":\"12664887-1757-400d-b8a3-df139bdf934d\",\"type\":\"GlyphRenderer\"},{\"id\":\"1a3fdd57-303c-4166-9a09-593276199d19\",\"type\":\"GlyphRenderer\"},{\"id\":\"4bee2174-51ae-4e10-81d3-85a2525cb627\",\"type\":\"GlyphRenderer\"},{\"id\":\"f1b349a4-c1a4-4717-b331-5dfe8ddcd74f\",\"type\":\"GlyphRenderer\"}]],[\"versicolor\",[{\"id\":\"68a4078f-9f25-4f49-946f-7287d4eb44fc\",\"type\":\"GlyphRenderer\"},{\"id\":\"192dfcaa-6755-45c1-8238-a5e19b80137c\",\"type\":\"GlyphRenderer\"},{\"id\":\"52839889-5c24-4bf8-8141-174c4ea3269f\",\"type\":\"GlyphRenderer\"}]],[\"virginica\",[{\"id\":\"546b298a-5d01-40bd-8c23-4cbfce9507f3\",\"type\":\"GlyphRenderer\"},{\"id\":\"2e3e935e-075b-4d75-b01e-1c60a6eabf31\",\"type\":\"GlyphRenderer\"},{\"id\":\"31d989b9-ba79-42e0-8ee7-f2049c16b31f\",\"type\":\"GlyphRenderer\"}]]],\"location\":\"top_left\",\"plot\":{\"id\":\"56393dcc-7fcf-4f8e-a3c0-af74976d2dd6\",\"subtype\":\"Chart\",\"type\":\"Plot\"}},\"id\":\"41008084-e8be-4b8e-9885-e8e6f84374dc\",\"type\":\"Legend\"},{\"attributes\":{\"line_width\":{\"value\":2},\"x0\":{\"field\":\"x0s\"},\"x1\":{\"field\":\"x1s\"},\"y0\":{\"field\":\"y0s\"},\"y1\":{\"field\":\"y1s\"}},\"id\":\"2b3992c3-6f1a-4b6e-bb12-1c6a3ca19ba2\",\"type\":\"Segment\"},{\"attributes\":{},\"id\":\"9d44b09b-95ff-4465-8694-208098597840\",\"type\":\"BasicTicker\"},{\"attributes\":{\"data_source\":{\"id\":\"a8ccc376-0dee-40f5-9457-a394f23ce5e3\",\"type\":\"ColumnDataSource\"},\"glyph\":{\"id\":\"c6cc6dc8-b4e7-4af1-a7d3-267d6badd834\",\"type\":\"Segment\"},\"hover_glyph\":null,\"nonselection_glyph\":null,\"selection_glyph\":null},\"id\":\"31d989b9-ba79-42e0-8ee7-f2049c16b31f\",\"type\":\"GlyphRenderer\"},{\"attributes\":{\"callback\":null,\"factors\":[\"setosa\",\"versicolor\",\"virginica\"]},\"id\":\"36e43807-2037-47b4-8cd0-700f75358200\",\"type\":\"FactorRange\"},{\"attributes\":{\"line_width\":{\"value\":2},\"x0\":{\"field\":\"x0s\"},\"x1\":{\"field\":\"x1s\"},\"y0\":{\"field\":\"y0s\"},\"y1\":{\"field\":\"y1s\"}},\"id\":\"c6cc6dc8-b4e7-4af1-a7d3-267d6badd834\",\"type\":\"Segment\"},{\"attributes\":{},\"id\":\"066e4913-2685-4df5-aed2-600344f49881\",\"type\":\"CategoricalTicker\"},{\"attributes\":{},\"id\":\"51840a19-097b-4063-bf5a-efe07de43bcf\",\"type\":\"BasicTickFormatter\"},{\"attributes\":{\"callback\":null,\"column_names\":[\"line_color\",\"line_alpha\",\"color\",\"fill_alpha\",\"height\",\"width\",\"y\",\"x\",\"label\"],\"data\":{\"chart_index\":[{\"species\":\"virginica\"}],\"color\":[\"#407ee7\"],\"fill_alpha\":[0.8],\"height\":[0.2999999999999998],\"label\":[{\"species\":\"virginica\"}],\"line_alpha\":[1.0],\"line_color\":[\"black\"],\"species\":[\"virginica\"],\"width\":[0.8],\"x\":[\"virginica\"],\"y\":[2.15]}},\"id\":\"2771a0be-71b0-49e1-b7eb-901ef3baa97b\",\"type\":\"ColumnDataSource\"},{\"attributes\":{\"fill_alpha\":{\"value\":0.7},\"fill_color\":{\"value\":\"red\"},\"line_color\":{\"value\":\"red\"},\"size\":{\"units\":\"screen\",\"value\":5},\"x\":{\"field\":\"x_values\"},\"y\":{\"field\":\"y_values\"}},\"id\":\"d53d0731-a644-4632-8ce4-fbc87bd7bc46\",\"type\":\"Circle\"},{\"attributes\":{\"data_source\":{\"id\":\"1f89143e-c186-4386-839e-b8395681e52d\",\"type\":\"ColumnDataSource\"},\"glyph\":{\"id\":\"47e79152-77f7-443d-be06-6685771a8ae2\",\"type\":\"Rect\"},\"hover_glyph\":null,\"nonselection_glyph\":null,\"selection_glyph\":null},\"id\":\"546b298a-5d01-40bd-8c23-4cbfce9507f3\",\"type\":\"GlyphRenderer\"},{\"attributes\":{\"fill_alpha\":{\"field\":\"fill_alpha\"},\"fill_color\":{\"field\":\"color\"},\"height\":{\"field\":\"height\",\"units\":\"data\"},\"line_color\":{\"field\":\"line_color\"},\"width\":{\"field\":\"width\",\"units\":\"data\"},\"x\":{\"field\":\"x\"},\"y\":{\"field\":\"y\"}},\"id\":\"da7fce4e-68e0-435b-8c14-4670464cbf4e\",\"type\":\"Rect\"},{\"attributes\":{\"data_source\":{\"id\":\"a8c19518-f93b-41bf-8d84-a466c966c065\",\"type\":\"ColumnDataSource\"},\"glyph\":{\"id\":\"2dffbc83-bf05-4357-a7fb-1d00e9d29e9f\",\"type\":\"Rect\"},\"hover_glyph\":null,\"nonselection_glyph\":null,\"selection_glyph\":null},\"id\":\"12664887-1757-400d-b8a3-df139bdf934d\",\"type\":\"GlyphRenderer\"},{\"attributes\":{\"data_source\":{\"id\":\"c0ae4b16-2b57-40d2-b473-483cba0c5cd4\",\"type\":\"ColumnDataSource\"},\"glyph\":{\"id\":\"d53d0731-a644-4632-8ce4-fbc87bd7bc46\",\"type\":\"Circle\"},\"hover_glyph\":null,\"nonselection_glyph\":null,\"selection_glyph\":null},\"id\":\"4bee2174-51ae-4e10-81d3-85a2525cb627\",\"type\":\"GlyphRenderer\"},{\"attributes\":{\"data_source\":{\"id\":\"da3f7036-d2cb-44be-ab2b-3a2ce19d7b30\",\"type\":\"ColumnDataSource\"},\"glyph\":{\"id\":\"eeb2ad8b-5e8a-44c2-a8ca-1a7de7f4e423\",\"type\":\"Rect\"},\"hover_glyph\":null,\"nonselection_glyph\":null,\"selection_glyph\":null},\"id\":\"1a3fdd57-303c-4166-9a09-593276199d19\",\"type\":\"GlyphRenderer\"},{\"attributes\":{\"plot\":{\"id\":\"56393dcc-7fcf-4f8e-a3c0-af74976d2dd6\",\"subtype\":\"Chart\",\"type\":\"Plot\"}},\"id\":\"819e2241-8034-427f-b512-b2d1c8aa57e8\",\"type\":\"CrosshairTool\"},{\"attributes\":{\"callback\":null,\"end\":2.63},\"id\":\"ee62e3b7-19f2-444d-a049-2cc2d89f9d18\",\"type\":\"Range1d\"},{\"attributes\":{\"fill_alpha\":{\"field\":\"fill_alpha\"},\"fill_color\":{\"field\":\"color\"},\"height\":{\"field\":\"height\",\"units\":\"data\"},\"line_color\":{\"field\":\"line_color\"},\"width\":{\"field\":\"width\",\"units\":\"data\"},\"x\":{\"field\":\"x\"},\"y\":{\"field\":\"y\"}},\"id\":\"47e79152-77f7-443d-be06-6685771a8ae2\",\"type\":\"Rect\"},{\"attributes\":{\"plot\":null,\"text\":\"Distributions of petal widths\"},\"id\":\"d1dd7d9a-495a-4bb7-a45b-dc0a26df68bf\",\"type\":\"Title\"},{\"attributes\":{\"callback\":null,\"column_names\":[\"line_color\",\"line_alpha\",\"color\",\"fill_alpha\",\"height\",\"width\",\"y\",\"x\",\"label\"],\"data\":{\"chart_index\":[{\"species\":\"versicolor\"}],\"color\":[\"#5ab738\"],\"fill_alpha\":[0.8],\"height\":[0.19999999999999996],\"label\":[{\"species\":\"versicolor\"}],\"line_alpha\":[1.0],\"line_color\":[\"black\"],\"species\":[\"versicolor\"],\"width\":[0.8],\"x\":[\"versicolor\"],\"y\":[1.4]}},\"id\":\"ae32d354-6c97-43d2-b45b-dc381c524afe\",\"type\":\"ColumnDataSource\"},{\"attributes\":{\"callback\":null,\"column_names\":[\"x_values\",\"y_values\"],\"data\":{\"chart_index\":[{\"species\":\"setosa\"},{\"species\":\"setosa\"}],\"species\":[\"setosa\",\"setosa\"],\"x_values\":[\"setosa:0.5\",\"setosa:0.5\"],\"y_values\":[0.5,0.6]}},\"id\":\"c0ae4b16-2b57-40d2-b473-483cba0c5cd4\",\"type\":\"ColumnDataSource\"},{\"attributes\":{\"callback\":null,\"column_names\":[\"x0s\",\"y0s\",\"x1s\",\"y1s\"],\"data\":{\"chart_index\":[{\"species\":\"setosa\"},{\"species\":\"setosa\"},{\"species\":\"setosa\"},{\"species\":\"setosa\"}],\"species\":[\"setosa\",\"setosa\",\"setosa\",\"setosa\"],\"x0s\":[\"setosa:0.5\",\"setosa:0.65\",\"setosa:0.5\",\"setosa:0.65\"],\"x1s\":[\"setosa:0.5\",\"setosa:0.35\",\"setosa:0.5\",\"setosa:0.35\"],\"y0s\":[0.1,0.1,0.3,0.44999999999999996],\"y1s\":[0.2,0.1,0.44999999999999996,0.44999999999999996]}},\"id\":\"8b63f391-373a-4b3f-8a3b-82e710a44a0c\",\"type\":\"ColumnDataSource\"},{\"attributes\":{\"callback\":null,\"column_names\":[\"x0s\",\"y0s\",\"x1s\",\"y1s\"],\"data\":{\"chart_index\":[{\"species\":\"versicolor\"},{\"species\":\"versicolor\"},{\"species\":\"versicolor\"},{\"species\":\"versicolor\"}],\"species\":[\"versicolor\",\"versicolor\",\"versicolor\",\"versicolor\"],\"x0s\":[\"versicolor:0.5\",\"versicolor:0.65\",\"versicolor:0.5\",\"versicolor:0.65\"],\"x1s\":[\"versicolor:0.5\",\"versicolor:0.35\",\"versicolor:0.5\",\"versicolor:0.35\"],\"y0s\":[1.0,1.0,1.5,1.8],\"y1s\":[1.2,1.0,1.8,1.8]}},\"id\":\"2c6e61a1-ab9e-44e9-8786-10e27591d0ff\",\"type\":\"ColumnDataSource\"},{\"attributes\":{\"data_source\":{\"id\":\"8b63f391-373a-4b3f-8a3b-82e710a44a0c\",\"type\":\"ColumnDataSource\"},\"glyph\":{\"id\":\"2b3992c3-6f1a-4b6e-bb12-1c6a3ca19ba2\",\"type\":\"Segment\"},\"hover_glyph\":null,\"nonselection_glyph\":null,\"selection_glyph\":null},\"id\":\"f1b349a4-c1a4-4717-b331-5dfe8ddcd74f\",\"type\":\"GlyphRenderer\"},{\"attributes\":{\"dimension\":1,\"plot\":{\"id\":\"56393dcc-7fcf-4f8e-a3c0-af74976d2dd6\",\"subtype\":\"Chart\",\"type\":\"Plot\"},\"ticker\":{\"id\":\"9d44b09b-95ff-4465-8694-208098597840\",\"type\":\"BasicTicker\"}},\"id\":\"8b6ea884-98a3-4c97-b0a7-3733051dcfa0\",\"type\":\"Grid\"},{\"attributes\":{\"callback\":null,\"column_names\":[\"line_color\",\"line_alpha\",\"color\",\"fill_alpha\",\"height\",\"width\",\"y\",\"x\",\"label\"],\"data\":{\"chart_index\":[{\"species\":\"setosa\"}],\"color\":[\"#f22c40\"],\"fill_alpha\":[0.8],\"height\":[0.0],\"label\":[{\"species\":\"setosa\"}],\"line_alpha\":[1.0],\"line_color\":[\"black\"],\"species\":[\"setosa\"],\"width\":[0.8],\"x\":[\"setosa\"],\"y\":[0.2]}},\"id\":\"a8c19518-f93b-41bf-8d84-a466c966c065\",\"type\":\"ColumnDataSource\"},{\"attributes\":{\"axis_label\":\"petal width, mm\",\"formatter\":{\"id\":\"51840a19-097b-4063-bf5a-efe07de43bcf\",\"type\":\"BasicTickFormatter\"},\"plot\":{\"id\":\"56393dcc-7fcf-4f8e-a3c0-af74976d2dd6\",\"subtype\":\"Chart\",\"type\":\"Plot\"},\"ticker\":{\"id\":\"9d44b09b-95ff-4465-8694-208098597840\",\"type\":\"BasicTicker\"}},\"id\":\"6243493b-3274-4494-bc51-d5b0da488748\",\"type\":\"LinearAxis\"},{\"attributes\":{},\"id\":\"66057181-faab-4071-afce-357eda56923f\",\"type\":\"CategoricalTickFormatter\"},{\"attributes\":{\"below\":[{\"id\":\"b8f1e14c-3ce6-4b0c-bf50-534a8838e37c\",\"type\":\"CategoricalAxis\"}],\"left\":[{\"id\":\"6243493b-3274-4494-bc51-d5b0da488748\",\"type\":\"LinearAxis\"}],\"renderers\":[{\"id\":\"12664887-1757-400d-b8a3-df139bdf934d\",\"type\":\"GlyphRenderer\"},{\"id\":\"1a3fdd57-303c-4166-9a09-593276199d19\",\"type\":\"GlyphRenderer\"},{\"id\":\"4bee2174-51ae-4e10-81d3-85a2525cb627\",\"type\":\"GlyphRenderer\"},{\"id\":\"f1b349a4-c1a4-4717-b331-5dfe8ddcd74f\",\"type\":\"GlyphRenderer\"},{\"id\":\"68a4078f-9f25-4f49-946f-7287d4eb44fc\",\"type\":\"GlyphRenderer\"},{\"id\":\"192dfcaa-6755-45c1-8238-a5e19b80137c\",\"type\":\"GlyphRenderer\"},{\"id\":\"52839889-5c24-4bf8-8141-174c4ea3269f\",\"type\":\"GlyphRenderer\"},{\"id\":\"546b298a-5d01-40bd-8c23-4cbfce9507f3\",\"type\":\"GlyphRenderer\"},{\"id\":\"2e3e935e-075b-4d75-b01e-1c60a6eabf31\",\"type\":\"GlyphRenderer\"},{\"id\":\"31d989b9-ba79-42e0-8ee7-f2049c16b31f\",\"type\":\"GlyphRenderer\"},{\"id\":\"41008084-e8be-4b8e-9885-e8e6f84374dc\",\"type\":\"Legend\"},{\"id\":\"b8f1e14c-3ce6-4b0c-bf50-534a8838e37c\",\"type\":\"CategoricalAxis\"},{\"id\":\"6243493b-3274-4494-bc51-d5b0da488748\",\"type\":\"LinearAxis\"},{\"id\":\"8b6ea884-98a3-4c97-b0a7-3733051dcfa0\",\"type\":\"Grid\"}],\"title\":{\"id\":\"d1dd7d9a-495a-4bb7-a45b-dc0a26df68bf\",\"type\":\"Title\"},\"tool_events\":{\"id\":\"c7effc8b-210c-4e05-8508-f07b7d308a5d\",\"type\":\"ToolEvents\"},\"toolbar\":{\"id\":\"44b63169-a2b2-42e8-a1d0-94491824a015\",\"type\":\"Toolbar\"},\"x_mapper_type\":\"auto\",\"x_range\":{\"id\":\"36e43807-2037-47b4-8cd0-700f75358200\",\"type\":\"FactorRange\"},\"y_mapper_type\":\"auto\",\"y_range\":{\"id\":\"ee62e3b7-19f2-444d-a049-2cc2d89f9d18\",\"type\":\"Range1d\"}},\"id\":\"56393dcc-7fcf-4f8e-a3c0-af74976d2dd6\",\"subtype\":\"Chart\",\"type\":\"Plot\"},{\"attributes\":{\"data_source\":{\"id\":\"2c6e61a1-ab9e-44e9-8786-10e27591d0ff\",\"type\":\"ColumnDataSource\"},\"glyph\":{\"id\":\"b9abfa81-2961-40bf-8540-c7a0ef50192a\",\"type\":\"Segment\"},\"hover_glyph\":null,\"nonselection_glyph\":null,\"selection_glyph\":null},\"id\":\"52839889-5c24-4bf8-8141-174c4ea3269f\",\"type\":\"GlyphRenderer\"},{\"attributes\":{\"active_drag\":\"auto\",\"active_scroll\":\"auto\",\"active_tap\":\"auto\",\"tools\":[{\"id\":\"819e2241-8034-427f-b512-b2d1c8aa57e8\",\"type\":\"CrosshairTool\"}]},\"id\":\"44b63169-a2b2-42e8-a1d0-94491824a015\",\"type\":\"Toolbar\"},{\"attributes\":{\"callback\":null,\"column_names\":[\"line_color\",\"line_alpha\",\"color\",\"fill_alpha\",\"height\",\"width\",\"y\",\"x\",\"label\"],\"data\":{\"chart_index\":[{\"species\":\"setosa\"}],\"color\":[\"#f22c40\"],\"fill_alpha\":[0.8],\"height\":[0.09999999999999998],\"label\":[{\"species\":\"setosa\"}],\"line_alpha\":[1.0],\"line_color\":[\"black\"],\"species\":[\"setosa\"],\"width\":[0.8],\"x\":[\"setosa\"],\"y\":[0.25]}},\"id\":\"da3f7036-d2cb-44be-ab2b-3a2ce19d7b30\",\"type\":\"ColumnDataSource\"},{\"attributes\":{\"callback\":null,\"column_names\":[\"x0s\",\"y0s\",\"x1s\",\"y1s\"],\"data\":{\"chart_index\":[{\"species\":\"virginica\"},{\"species\":\"virginica\"},{\"species\":\"virginica\"},{\"species\":\"virginica\"}],\"species\":[\"virginica\",\"virginica\",\"virginica\",\"virginica\"],\"x0s\":[\"virginica:0.5\",\"virginica:0.65\",\"virginica:0.5\",\"virginica:0.65\"],\"x1s\":[\"virginica:0.5\",\"virginica:0.35\",\"virginica:0.5\",\"virginica:0.35\"],\"y0s\":[1.4,1.4,2.3,2.5],\"y1s\":[1.8,1.4,2.5,2.5]}},\"id\":\"a8ccc376-0dee-40f5-9457-a394f23ce5e3\",\"type\":\"ColumnDataSource\"},{\"attributes\":{\"formatter\":{\"id\":\"66057181-faab-4071-afce-357eda56923f\",\"type\":\"CategoricalTickFormatter\"},\"major_label_orientation\":0.7853981633974483,\"plot\":{\"id\":\"56393dcc-7fcf-4f8e-a3c0-af74976d2dd6\",\"subtype\":\"Chart\",\"type\":\"Plot\"},\"ticker\":{\"id\":\"066e4913-2685-4df5-aed2-600344f49881\",\"type\":\"CategoricalTicker\"}},\"id\":\"b8f1e14c-3ce6-4b0c-bf50-534a8838e37c\",\"type\":\"CategoricalAxis\"},{\"attributes\":{\"fill_alpha\":{\"field\":\"fill_alpha\"},\"fill_color\":{\"field\":\"color\"},\"height\":{\"field\":\"height\",\"units\":\"data\"},\"line_color\":{\"field\":\"line_color\"},\"width\":{\"field\":\"width\",\"units\":\"data\"},\"x\":{\"field\":\"x\"},\"y\":{\"field\":\"y\"}},\"id\":\"c4663f31-8601-48d7-a721-e5faacfad4de\",\"type\":\"Rect\"},{\"attributes\":{},\"id\":\"c7effc8b-210c-4e05-8508-f07b7d308a5d\",\"type\":\"ToolEvents\"},{\"attributes\":{\"data_source\":{\"id\":\"ae32d354-6c97-43d2-b45b-dc381c524afe\",\"type\":\"ColumnDataSource\"},\"glyph\":{\"id\":\"beddaf78-82d4-44dc-a697-5c4ee537fc53\",\"type\":\"Rect\"},\"hover_glyph\":null,\"nonselection_glyph\":null,\"selection_glyph\":null},\"id\":\"192dfcaa-6755-45c1-8238-a5e19b80137c\",\"type\":\"GlyphRenderer\"},{\"attributes\":{\"fill_alpha\":{\"field\":\"fill_alpha\"},\"fill_color\":{\"field\":\"color\"},\"height\":{\"field\":\"height\",\"units\":\"data\"},\"line_color\":{\"field\":\"line_color\"},\"width\":{\"field\":\"width\",\"units\":\"data\"},\"x\":{\"field\":\"x\"},\"y\":{\"field\":\"y\"}},\"id\":\"eeb2ad8b-5e8a-44c2-a8ca-1a7de7f4e423\",\"type\":\"Rect\"},{\"attributes\":{\"callback\":null,\"column_names\":[\"line_color\",\"line_alpha\",\"color\",\"fill_alpha\",\"height\",\"width\",\"y\",\"x\",\"label\"],\"data\":{\"chart_index\":[{\"species\":\"virginica\"}],\"color\":[\"#407ee7\"],\"fill_alpha\":[0.8],\"height\":[0.19999999999999996],\"label\":[{\"species\":\"virginica\"}],\"line_alpha\":[1.0],\"line_color\":[\"black\"],\"species\":[\"virginica\"],\"width\":[0.8],\"x\":[\"virginica\"],\"y\":[1.9]}},\"id\":\"1f89143e-c186-4386-839e-b8395681e52d\",\"type\":\"ColumnDataSource\"}],\"root_ids\":[\"56393dcc-7fcf-4f8e-a3c0-af74976d2dd6\"]},\"title\":\"Bokeh Application\",\"version\":\"0.12.1\"}};\n",
       "            var render_items = [{\"docid\":\"d7721b74-7b2b-4acb-adee-d7864054c596\",\"elementid\":\"b5a4fc8a-09b9-4653-9344-eacd4a45ac77\",\"modelid\":\"56393dcc-7fcf-4f8e-a3c0-af74976d2dd6\",\"notebook_comms_target\":\"572aa6c3-2b7d-4ede-ac12-4593101c2b97\"}];\n",
       "            \n",
       "            Bokeh.embed.embed_items(docs_json, render_items);\n",
       "        });\n",
       "      },\n",
       "      function(Bokeh) {\n",
       "      }\n",
       "    ];\n",
       "  \n",
       "    function run_inline_js() {\n",
       "      for (var i = 0; i < inline_js.length; i++) {\n",
       "        inline_js[i](window.Bokeh);\n",
       "      }\n",
       "    }\n",
       "  \n",
       "    if (window._bokeh_is_loading === 0) {\n",
       "      console.log(\"Bokeh: BokehJS loaded, going straight to plotting\");\n",
       "      run_inline_js();\n",
       "    } else {\n",
       "      load_libs(js_urls, function() {\n",
       "        console.log(\"Bokeh: BokehJS plotting callback run at\", now());\n",
       "        run_inline_js();\n",
       "      });\n",
       "    }\n",
       "  }(this));\n",
       "</script>"
      ]
     },
     "metadata": {},
     "output_type": "display_data"
    },
    {
     "data": {
      "text/html": [
       "<p><code>&lt;Bokeh Notebook handle for <strong>In[40]</strong>&gt;</code></p>"
      ],
      "text/plain": [
       "<bokeh.io._CommsHandle at 0x104457c90>"
      ]
     },
     "execution_count": 40,
     "metadata": {},
     "output_type": "execute_result"
    }
   ],
   "source": [
    "# EXERCISE: color the boxes by \"species\" and add a legend to the top left\n",
    "p = BoxPlot(flowers, label='species', values='petal_width', color = 'species', tools='crosshair', \n",
    "            xlabel='', ylabel='petal width, mm', legend='top_left', title='Distributions of petal widths')\n",
    "show(p)"
   ]
  },
  {
   "cell_type": "markdown",
   "metadata": {},
   "source": [
    "---\n",
    "\n",
    "# Further reading\n",
    "\n"
   ]
  },
  {
   "cell_type": "markdown",
   "metadata": {
    "collapsed": true
   },
   "source": [
    "http://nbviewer.jupyter.org/github/bokeh/bokeh/tree/0.11.1/examples/charts/file/\n",
    "\n",
    "http://nbviewer.jupyter.org/github/bokeh/bokeh/tree/0.11.1/examples/howto/charts/\n",
    "\n",
    "http://nbviewer.jupyter.org/github/bokeh/bokeh-demos/blob/master/presentations/2016-03-pydata-strata/notebooks/Charts.ipynb\n",
    "\n",
    "http://nbviewer.jupyter.org/github/bokeh/bokeh-demos/blob/master/presentations/2016-03-pydata-strata/notebooks/Charts%20Demo.ipynb"
   ]
  },
  {
   "cell_type": "code",
   "execution_count": null,
   "metadata": {
    "collapsed": true
   },
   "outputs": [],
   "source": []
  }
 ],
 "metadata": {
  "kernelspec": {
   "display_name": "Python 2",
   "language": "python",
   "name": "python2"
  },
  "language_info": {
   "codemirror_mode": {
    "name": "ipython",
    "version": 2
   },
   "file_extension": ".py",
   "mimetype": "text/x-python",
   "name": "python",
   "nbconvert_exporter": "python",
   "pygments_lexer": "ipython2",
   "version": "2.7.12"
  }
 },
 "nbformat": 4,
 "nbformat_minor": 0
}
