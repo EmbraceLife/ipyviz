{
 "cells": [
  {
   "cell_type": "code",
   "execution_count": 2,
   "metadata": {
    "collapsed": true
   },
   "outputs": [],
   "source": [
    "import pandas as pd\n",
    "import numpy as np\n",
    "from IPython.display import display"
   ]
  },
  {
   "cell_type": "code",
   "execution_count": 3,
   "metadata": {
    "collapsed": false
   },
   "outputs": [],
   "source": [
    "# pass in column names for each CSV\n",
    "u_cols = ['user_id', 'age', 'sex', 'occupation', 'zip_code']\n",
    "users = pd.read_csv('../data/ml-100k/u.user', sep='|', names=u_cols,\n",
    "                    encoding='latin-1')"
   ]
  },
  {
   "cell_type": "code",
   "execution_count": 4,
   "metadata": {
    "collapsed": false
   },
   "outputs": [
    {
     "data": {
      "text/html": [
       "<div>\n",
       "<table border=\"1\" class=\"dataframe\">\n",
       "  <thead>\n",
       "    <tr style=\"text-align: right;\">\n",
       "      <th></th>\n",
       "      <th>user_id</th>\n",
       "      <th>age</th>\n",
       "      <th>sex</th>\n",
       "      <th>occupation</th>\n",
       "      <th>zip_code</th>\n",
       "    </tr>\n",
       "  </thead>\n",
       "  <tbody>\n",
       "    <tr>\n",
       "      <th>0</th>\n",
       "      <td>1</td>\n",
       "      <td>24</td>\n",
       "      <td>M</td>\n",
       "      <td>technician</td>\n",
       "      <td>85711</td>\n",
       "    </tr>\n",
       "    <tr>\n",
       "      <th>1</th>\n",
       "      <td>2</td>\n",
       "      <td>53</td>\n",
       "      <td>F</td>\n",
       "      <td>other</td>\n",
       "      <td>94043</td>\n",
       "    </tr>\n",
       "    <tr>\n",
       "      <th>2</th>\n",
       "      <td>3</td>\n",
       "      <td>23</td>\n",
       "      <td>M</td>\n",
       "      <td>writer</td>\n",
       "      <td>32067</td>\n",
       "    </tr>\n",
       "    <tr>\n",
       "      <th>3</th>\n",
       "      <td>4</td>\n",
       "      <td>24</td>\n",
       "      <td>M</td>\n",
       "      <td>technician</td>\n",
       "      <td>43537</td>\n",
       "    </tr>\n",
       "    <tr>\n",
       "      <th>4</th>\n",
       "      <td>5</td>\n",
       "      <td>33</td>\n",
       "      <td>F</td>\n",
       "      <td>other</td>\n",
       "      <td>15213</td>\n",
       "    </tr>\n",
       "  </tbody>\n",
       "</table>\n",
       "</div>"
      ],
      "text/plain": [
       "   user_id  age sex  occupation zip_code\n",
       "0        1   24   M  technician    85711\n",
       "1        2   53   F       other    94043\n",
       "2        3   23   M      writer    32067\n",
       "3        4   24   M  technician    43537\n",
       "4        5   33   F       other    15213"
      ]
     },
     "execution_count": 4,
     "metadata": {},
     "output_type": "execute_result"
    }
   ],
   "source": [
    "users.head()"
   ]
  },
  {
   "cell_type": "code",
   "execution_count": 5,
   "metadata": {
    "collapsed": false
   },
   "outputs": [
    {
     "data": {
      "text/plain": [
       "(100000, 4)"
      ]
     },
     "execution_count": 5,
     "metadata": {},
     "output_type": "execute_result"
    }
   ],
   "source": [
    "r_cols = ['user_id', 'movie_id', 'rating', 'unix_timestamp']\n",
    "ratings = pd.read_csv('../data/ml-100k/u.data', sep='\\t', names=r_cols,\n",
    "                      encoding='latin-1')\n",
    "ratings.shape"
   ]
  },
  {
   "cell_type": "code",
   "execution_count": 6,
   "metadata": {
    "collapsed": false
   },
   "outputs": [
    {
     "data": {
      "text/plain": [
       "1682"
      ]
     },
     "execution_count": 6,
     "metadata": {},
     "output_type": "execute_result"
    }
   ],
   "source": [
    "ratings.movie_id.nunique()"
   ]
  },
  {
   "cell_type": "code",
   "execution_count": 7,
   "metadata": {
    "collapsed": false
   },
   "outputs": [
    {
     "data": {
      "text/html": [
       "<div>\n",
       "<table border=\"1\" class=\"dataframe\">\n",
       "  <thead>\n",
       "    <tr style=\"text-align: right;\">\n",
       "      <th></th>\n",
       "      <th>user_id</th>\n",
       "      <th>movie_id</th>\n",
       "      <th>rating</th>\n",
       "      <th>unix_timestamp</th>\n",
       "    </tr>\n",
       "  </thead>\n",
       "  <tbody>\n",
       "    <tr>\n",
       "      <th>24</th>\n",
       "      <td>308</td>\n",
       "      <td>1</td>\n",
       "      <td>4</td>\n",
       "      <td>887736532</td>\n",
       "    </tr>\n",
       "    <tr>\n",
       "      <th>454</th>\n",
       "      <td>287</td>\n",
       "      <td>1</td>\n",
       "      <td>5</td>\n",
       "      <td>875334088</td>\n",
       "    </tr>\n",
       "    <tr>\n",
       "      <th>957</th>\n",
       "      <td>148</td>\n",
       "      <td>1</td>\n",
       "      <td>4</td>\n",
       "      <td>877019411</td>\n",
       "    </tr>\n",
       "    <tr>\n",
       "      <th>971</th>\n",
       "      <td>280</td>\n",
       "      <td>1</td>\n",
       "      <td>4</td>\n",
       "      <td>891700426</td>\n",
       "    </tr>\n",
       "    <tr>\n",
       "      <th>1324</th>\n",
       "      <td>66</td>\n",
       "      <td>1</td>\n",
       "      <td>3</td>\n",
       "      <td>883601324</td>\n",
       "    </tr>\n",
       "  </tbody>\n",
       "</table>\n",
       "</div>"
      ],
      "text/plain": [
       "      user_id  movie_id  rating  unix_timestamp\n",
       "24        308         1       4       887736532\n",
       "454       287         1       5       875334088\n",
       "957       148         1       4       877019411\n",
       "971       280         1       4       891700426\n",
       "1324       66         1       3       883601324"
      ]
     },
     "execution_count": 7,
     "metadata": {},
     "output_type": "execute_result"
    }
   ],
   "source": [
    "ratings.loc[ratings.movie_id == 1, :].head()"
   ]
  },
  {
   "cell_type": "code",
   "execution_count": 8,
   "metadata": {
    "collapsed": false
   },
   "outputs": [
    {
     "data": {
      "text/plain": [
       "(1682, 5)"
      ]
     },
     "metadata": {},
     "output_type": "display_data"
    },
    {
     "data": {
      "text/plain": [
       "1682"
      ]
     },
     "metadata": {},
     "output_type": "display_data"
    }
   ],
   "source": [
    "# the movies file contains columns indicating the movie's genres\n",
    "# let's only load the first five columns of the file with usecols\n",
    "m_cols = ['movie_id', 'title', 'release_date', 'video_release_date', 'imdb_url']\n",
    "movies = pd.read_csv('../data/ml-100k/u.item', sep='|', names=m_cols, usecols=range(5),\n",
    "                     encoding='latin-1')\n",
    "display(movies.shape)\n",
    "display(movies.movie_id.nunique())"
   ]
  },
  {
   "cell_type": "code",
   "execution_count": 9,
   "metadata": {
    "collapsed": false
   },
   "outputs": [
    {
     "data": {
      "text/html": [
       "<div>\n",
       "<table border=\"1\" class=\"dataframe\">\n",
       "  <thead>\n",
       "    <tr style=\"text-align: right;\">\n",
       "      <th></th>\n",
       "      <th>movie_id</th>\n",
       "      <th>title</th>\n",
       "      <th>release_date</th>\n",
       "      <th>video_release_date</th>\n",
       "      <th>imdb_url</th>\n",
       "    </tr>\n",
       "  </thead>\n",
       "  <tbody>\n",
       "    <tr>\n",
       "      <th>0</th>\n",
       "      <td>1</td>\n",
       "      <td>Toy Story (1995)</td>\n",
       "      <td>01-Jan-1995</td>\n",
       "      <td>NaN</td>\n",
       "      <td>http://us.imdb.com/M/title-exact?Toy%20Story%2...</td>\n",
       "    </tr>\n",
       "  </tbody>\n",
       "</table>\n",
       "</div>"
      ],
      "text/plain": [
       "   movie_id             title release_date  video_release_date  \\\n",
       "0         1  Toy Story (1995)  01-Jan-1995                 NaN   \n",
       "\n",
       "                                            imdb_url  \n",
       "0  http://us.imdb.com/M/title-exact?Toy%20Story%2...  "
      ]
     },
     "execution_count": 9,
     "metadata": {},
     "output_type": "execute_result"
    }
   ],
   "source": [
    "movies.loc[movies.movie_id == 1, :].head()"
   ]
  },
  {
   "cell_type": "code",
   "execution_count": 10,
   "metadata": {
    "collapsed": false
   },
   "outputs": [
    {
     "data": {
      "text/plain": [
       "(100000, 8)"
      ]
     },
     "execution_count": 10,
     "metadata": {},
     "output_type": "execute_result"
    }
   ],
   "source": [
    "# create one merged DataFrame\n",
    "movie_ratings = pd.merge(movies, ratings)\n",
    "movie_ratings.shape"
   ]
  },
  {
   "cell_type": "code",
   "execution_count": 11,
   "metadata": {
    "collapsed": false
   },
   "outputs": [
    {
     "data": {
      "text/html": [
       "<div>\n",
       "<table border=\"1\" class=\"dataframe\">\n",
       "  <thead>\n",
       "    <tr style=\"text-align: right;\">\n",
       "      <th></th>\n",
       "      <th>movie_id</th>\n",
       "      <th>title</th>\n",
       "      <th>release_date</th>\n",
       "      <th>video_release_date</th>\n",
       "      <th>imdb_url</th>\n",
       "      <th>user_id</th>\n",
       "      <th>rating</th>\n",
       "      <th>unix_timestamp</th>\n",
       "    </tr>\n",
       "  </thead>\n",
       "  <tbody>\n",
       "    <tr>\n",
       "      <th>0</th>\n",
       "      <td>1</td>\n",
       "      <td>Toy Story (1995)</td>\n",
       "      <td>01-Jan-1995</td>\n",
       "      <td>NaN</td>\n",
       "      <td>http://us.imdb.com/M/title-exact?Toy%20Story%2...</td>\n",
       "      <td>308</td>\n",
       "      <td>4</td>\n",
       "      <td>887736532</td>\n",
       "    </tr>\n",
       "    <tr>\n",
       "      <th>1</th>\n",
       "      <td>1</td>\n",
       "      <td>Toy Story (1995)</td>\n",
       "      <td>01-Jan-1995</td>\n",
       "      <td>NaN</td>\n",
       "      <td>http://us.imdb.com/M/title-exact?Toy%20Story%2...</td>\n",
       "      <td>287</td>\n",
       "      <td>5</td>\n",
       "      <td>875334088</td>\n",
       "    </tr>\n",
       "    <tr>\n",
       "      <th>2</th>\n",
       "      <td>1</td>\n",
       "      <td>Toy Story (1995)</td>\n",
       "      <td>01-Jan-1995</td>\n",
       "      <td>NaN</td>\n",
       "      <td>http://us.imdb.com/M/title-exact?Toy%20Story%2...</td>\n",
       "      <td>148</td>\n",
       "      <td>4</td>\n",
       "      <td>877019411</td>\n",
       "    </tr>\n",
       "    <tr>\n",
       "      <th>3</th>\n",
       "      <td>1</td>\n",
       "      <td>Toy Story (1995)</td>\n",
       "      <td>01-Jan-1995</td>\n",
       "      <td>NaN</td>\n",
       "      <td>http://us.imdb.com/M/title-exact?Toy%20Story%2...</td>\n",
       "      <td>280</td>\n",
       "      <td>4</td>\n",
       "      <td>891700426</td>\n",
       "    </tr>\n",
       "    <tr>\n",
       "      <th>4</th>\n",
       "      <td>1</td>\n",
       "      <td>Toy Story (1995)</td>\n",
       "      <td>01-Jan-1995</td>\n",
       "      <td>NaN</td>\n",
       "      <td>http://us.imdb.com/M/title-exact?Toy%20Story%2...</td>\n",
       "      <td>66</td>\n",
       "      <td>3</td>\n",
       "      <td>883601324</td>\n",
       "    </tr>\n",
       "  </tbody>\n",
       "</table>\n",
       "</div>"
      ],
      "text/plain": [
       "   movie_id             title release_date  video_release_date  \\\n",
       "0         1  Toy Story (1995)  01-Jan-1995                 NaN   \n",
       "1         1  Toy Story (1995)  01-Jan-1995                 NaN   \n",
       "2         1  Toy Story (1995)  01-Jan-1995                 NaN   \n",
       "3         1  Toy Story (1995)  01-Jan-1995                 NaN   \n",
       "4         1  Toy Story (1995)  01-Jan-1995                 NaN   \n",
       "\n",
       "                                            imdb_url  user_id  rating  \\\n",
       "0  http://us.imdb.com/M/title-exact?Toy%20Story%2...      308       4   \n",
       "1  http://us.imdb.com/M/title-exact?Toy%20Story%2...      287       5   \n",
       "2  http://us.imdb.com/M/title-exact?Toy%20Story%2...      148       4   \n",
       "3  http://us.imdb.com/M/title-exact?Toy%20Story%2...      280       4   \n",
       "4  http://us.imdb.com/M/title-exact?Toy%20Story%2...       66       3   \n",
       "\n",
       "   unix_timestamp  \n",
       "0       887736532  \n",
       "1       875334088  \n",
       "2       877019411  \n",
       "3       891700426  \n",
       "4       883601324  "
      ]
     },
     "execution_count": 11,
     "metadata": {},
     "output_type": "execute_result"
    }
   ],
   "source": [
    "movie_ratings.head()"
   ]
  },
  {
   "cell_type": "code",
   "execution_count": 12,
   "metadata": {
    "collapsed": false
   },
   "outputs": [],
   "source": [
    "lens = pd.merge(movie_ratings, users)"
   ]
  },
  {
   "cell_type": "code",
   "execution_count": 15,
   "metadata": {
    "collapsed": true
   },
   "outputs": [
    {
     "data": {
      "text/plain": [
       "title\n",
       "'Til There Was You (1997)                                     9\n",
       "1-900 (1994)                                                  5\n",
       "101 Dalmatians (1996)                                       109\n",
       "12 Angry Men (1957)                                         125\n",
       "187 (1997)                                                   41\n",
       "2 Days in the Valley (1996)                                  93\n",
       "20,000 Leagues Under the Sea (1954)                          72\n",
       "2001: A Space Odyssey (1968)                                259\n",
       "3 Ninjas: High Noon At Mega Mountain (1998)                   5\n",
       "39 Steps, The (1935)                                         59\n",
       "8 1/2 (1963)                                                 38\n",
       "8 Heads in a Duffel Bag (1997)                                4\n",
       "8 Seconds (1994)                                              4\n",
       "A Chef in Love (1996)                                         8\n",
       "Above the Rim (1994)                                          5\n",
       "Absolute Power (1997)                                       127\n",
       "Abyss, The (1989)                                           151\n",
       "Ace Ventura: Pet Detective (1994)                           103\n",
       "Ace Ventura: When Nature Calls (1995)                        37\n",
       "Across the Sea of Time (1995)                                 4\n",
       "Addams Family Values (1993)                                  87\n",
       "Addicted to Love (1997)                                      54\n",
       "Addiction, The (1995)                                        11\n",
       "Adventures of Pinocchio, The (1996)                          39\n",
       "Adventures of Priscilla, Queen of the Desert, The (1994)    111\n",
       "Adventures of Robin Hood, The (1938)                         67\n",
       "Affair to Remember, An (1957)                                26\n",
       "African Queen, The (1951)                                   152\n",
       "Afterglow (1997)                                             18\n",
       "Age of Innocence, The (1993)                                 65\n",
       "                                                           ... \n",
       "Window to Paris (1994)                                        1\n",
       "Wings of Courage (1995)                                       1\n",
       "Wings of Desire (1987)                                       57\n",
       "Wings of the Dove, The (1997)                                75\n",
       "Winnie the Pooh and the Blustery Day (1968)                  75\n",
       "Winter Guest, The (1997)                                      9\n",
       "Wishmaster (1997)                                            27\n",
       "With Honors (1994)                                           46\n",
       "Withnail and I (1987)                                        13\n",
       "Witness (1985)                                                1\n",
       "Wizard of Oz, The (1939)                                    246\n",
       "Wolf (1994)                                                  67\n",
       "Woman in Question, The (1950)                                 1\n",
       "Women, The (1939)                                            15\n",
       "Wonderful, Horrible Life of Leni Riefenstahl, The (1993)     10\n",
       "Wonderland (1997)                                            10\n",
       "Wooden Man's Bride, The (Wu Kui) (1994)                       3\n",
       "World of Apu, The (Apur Sansar) (1959)                        6\n",
       "Wrong Trousers, The (1993)                                  118\n",
       "Wyatt Earp (1994)                                            50\n",
       "Yankee Zulu (1994)                                            1\n",
       "Year of the Horse (1997)                                      7\n",
       "You So Crazy (1994)                                           1\n",
       "Young Frankenstein (1974)                                   200\n",
       "Young Guns (1988)                                           101\n",
       "Young Guns II (1990)                                         44\n",
       "Young Poisoner's Handbook, The (1995)                        41\n",
       "Zeus and Roxanne (1997)                                       6\n",
       "unknown                                                       9\n",
       "Á köldum klaka (Cold Fever) (1994)                            1\n",
       "dtype: int64"
      ]
     },
     "execution_count": 15,
     "metadata": {},
     "output_type": "execute_result"
    }
   ],
   "source": [
    "# group by title and get each group's total count\n",
    "lens.groupby('title').size()"
   ]
  },
  {
   "cell_type": "code",
   "execution_count": 14,
   "metadata": {
    "collapsed": true
   },
   "outputs": [
    {
     "data": {
      "text/plain": [
       "title\n",
       "Star Wars (1977)                             583\n",
       "Contact (1997)                               509\n",
       "Fargo (1996)                                 508\n",
       "Return of the Jedi (1983)                    507\n",
       "Liar Liar (1997)                             485\n",
       "English Patient, The (1996)                  481\n",
       "Scream (1996)                                478\n",
       "Toy Story (1995)                             452\n",
       "Air Force One (1997)                         431\n",
       "Independence Day (ID4) (1996)                429\n",
       "Raiders of the Lost Ark (1981)               420\n",
       "Godfather, The (1972)                        413\n",
       "Pulp Fiction (1994)                          394\n",
       "Twelve Monkeys (1995)                        392\n",
       "Silence of the Lambs, The (1991)             390\n",
       "Jerry Maguire (1996)                         384\n",
       "Chasing Amy (1997)                           379\n",
       "Rock, The (1996)                             378\n",
       "Empire Strikes Back, The (1980)              367\n",
       "Star Trek: First Contact (1996)              365\n",
       "Back to the Future (1985)                    350\n",
       "Titanic (1997)                               350\n",
       "Mission: Impossible (1996)                   344\n",
       "Fugitive, The (1993)                         336\n",
       "Indiana Jones and the Last Crusade (1989)    331\n",
       "dtype: int64"
      ]
     },
     "metadata": {},
     "output_type": "display_data"
    }
   ],
   "source": [
    "# get the top 25 most rated movies  \n",
    "most_rated = lens.groupby('title').size().sort_values(ascending=False)[:25]\n",
    "display(most_rated)"
   ]
  },
  {
   "cell_type": "code",
   "execution_count": 16,
   "metadata": {
    "collapsed": true
   },
   "outputs": [
    {
     "data": {
      "text/plain": [
       "Star Wars (1977)                             583\n",
       "Contact (1997)                               509\n",
       "Fargo (1996)                                 508\n",
       "Return of the Jedi (1983)                    507\n",
       "Liar Liar (1997)                             485\n",
       "English Patient, The (1996)                  481\n",
       "Scream (1996)                                478\n",
       "Toy Story (1995)                             452\n",
       "Air Force One (1997)                         431\n",
       "Independence Day (ID4) (1996)                429\n",
       "Raiders of the Lost Ark (1981)               420\n",
       "Godfather, The (1972)                        413\n",
       "Pulp Fiction (1994)                          394\n",
       "Twelve Monkeys (1995)                        392\n",
       "Silence of the Lambs, The (1991)             390\n",
       "Jerry Maguire (1996)                         384\n",
       "Chasing Amy (1997)                           379\n",
       "Rock, The (1996)                             378\n",
       "Empire Strikes Back, The (1980)              367\n",
       "Star Trek: First Contact (1996)              365\n",
       "Titanic (1997)                               350\n",
       "Back to the Future (1985)                    350\n",
       "Mission: Impossible (1996)                   344\n",
       "Fugitive, The (1993)                         336\n",
       "Indiana Jones and the Last Crusade (1989)    331\n",
       "Name: title, dtype: int64"
      ]
     },
     "execution_count": 16,
     "metadata": {},
     "output_type": "execute_result"
    }
   ],
   "source": [
    "lens.title.value_counts()[:25]"
   ]
  },
  {
   "cell_type": "code",
   "execution_count": 21,
   "metadata": {
    "collapsed": false
   },
   "outputs": [
    {
     "data": {
      "text/html": [
       "<div>\n",
       "<table border=\"1\" class=\"dataframe\">\n",
       "  <thead>\n",
       "    <tr>\n",
       "      <th></th>\n",
       "      <th colspan=\"2\" halign=\"left\">rating</th>\n",
       "    </tr>\n",
       "    <tr>\n",
       "      <th></th>\n",
       "      <th>size</th>\n",
       "      <th>mean</th>\n",
       "    </tr>\n",
       "    <tr>\n",
       "      <th>title</th>\n",
       "      <th></th>\n",
       "      <th></th>\n",
       "    </tr>\n",
       "  </thead>\n",
       "  <tbody>\n",
       "    <tr>\n",
       "      <th>Young Guns II (1990)</th>\n",
       "      <td>44</td>\n",
       "      <td>2.772727</td>\n",
       "    </tr>\n",
       "    <tr>\n",
       "      <th>Young Poisoner's Handbook, The (1995)</th>\n",
       "      <td>41</td>\n",
       "      <td>3.341463</td>\n",
       "    </tr>\n",
       "    <tr>\n",
       "      <th>Zeus and Roxanne (1997)</th>\n",
       "      <td>6</td>\n",
       "      <td>2.166667</td>\n",
       "    </tr>\n",
       "    <tr>\n",
       "      <th>unknown</th>\n",
       "      <td>9</td>\n",
       "      <td>3.444444</td>\n",
       "    </tr>\n",
       "    <tr>\n",
       "      <th>Á köldum klaka (Cold Fever) (1994)</th>\n",
       "      <td>1</td>\n",
       "      <td>3.000000</td>\n",
       "    </tr>\n",
       "  </tbody>\n",
       "</table>\n",
       "</div>"
      ],
      "text/plain": [
       "                                      rating          \n",
       "                                        size      mean\n",
       "title                                                 \n",
       "Young Guns II (1990)                      44  2.772727\n",
       "Young Poisoner's Handbook, The (1995)     41  3.341463\n",
       "Zeus and Roxanne (1997)                    6  2.166667\n",
       "unknown                                    9  3.444444\n",
       "Á köldum klaka (Cold Fever) (1994)         1  3.000000"
      ]
     },
     "execution_count": 21,
     "metadata": {},
     "output_type": "execute_result"
    }
   ],
   "source": [
    "# Which movies are most highly rated?\n",
    "movie_stats = lens.groupby('title').agg({'rating': [np.size, np.mean]})\n",
    "movie_stats.tail()"
   ]
  },
  {
   "cell_type": "code",
   "execution_count": 20,
   "metadata": {
    "collapsed": false
   },
   "outputs": [
    {
     "data": {
      "text/html": [
       "<div>\n",
       "<table border=\"1\" class=\"dataframe\">\n",
       "  <thead>\n",
       "    <tr>\n",
       "      <th></th>\n",
       "      <th colspan=\"2\" halign=\"left\">rating</th>\n",
       "    </tr>\n",
       "    <tr>\n",
       "      <th></th>\n",
       "      <th>size</th>\n",
       "      <th>mean</th>\n",
       "    </tr>\n",
       "    <tr>\n",
       "      <th>title</th>\n",
       "      <th></th>\n",
       "      <th></th>\n",
       "    </tr>\n",
       "  </thead>\n",
       "  <tbody>\n",
       "    <tr>\n",
       "      <th>They Made Me a Criminal (1939)</th>\n",
       "      <td>1</td>\n",
       "      <td>5.0</td>\n",
       "    </tr>\n",
       "    <tr>\n",
       "      <th>Marlene Dietrich: Shadow and Light (1996)</th>\n",
       "      <td>1</td>\n",
       "      <td>5.0</td>\n",
       "    </tr>\n",
       "    <tr>\n",
       "      <th>Saint of Fort Washington, The (1993)</th>\n",
       "      <td>2</td>\n",
       "      <td>5.0</td>\n",
       "    </tr>\n",
       "    <tr>\n",
       "      <th>Someone Else's America (1995)</th>\n",
       "      <td>1</td>\n",
       "      <td>5.0</td>\n",
       "    </tr>\n",
       "    <tr>\n",
       "      <th>Star Kid (1997)</th>\n",
       "      <td>3</td>\n",
       "      <td>5.0</td>\n",
       "    </tr>\n",
       "  </tbody>\n",
       "</table>\n",
       "</div>"
      ],
      "text/plain": [
       "                                           rating     \n",
       "                                             size mean\n",
       "title                                                 \n",
       "They Made Me a Criminal (1939)                  1  5.0\n",
       "Marlene Dietrich: Shadow and Light (1996)       1  5.0\n",
       "Saint of Fort Washington, The (1993)            2  5.0\n",
       "Someone Else's America (1995)                   1  5.0\n",
       "Star Kid (1997)                                 3  5.0"
      ]
     },
     "execution_count": 20,
     "metadata": {},
     "output_type": "execute_result"
    }
   ],
   "source": [
    "# sort by rating average\n",
    "movie_stats.sort_values([('rating', 'mean')], ascending=False).head()"
   ]
  },
  {
   "cell_type": "code",
   "execution_count": 22,
   "metadata": {
    "collapsed": false
   },
   "outputs": [
    {
     "data": {
      "text/html": [
       "<div>\n",
       "<table border=\"1\" class=\"dataframe\">\n",
       "  <thead>\n",
       "    <tr>\n",
       "      <th></th>\n",
       "      <th colspan=\"2\" halign=\"left\">rating</th>\n",
       "    </tr>\n",
       "    <tr>\n",
       "      <th></th>\n",
       "      <th>size</th>\n",
       "      <th>mean</th>\n",
       "    </tr>\n",
       "    <tr>\n",
       "      <th>title</th>\n",
       "      <th></th>\n",
       "      <th></th>\n",
       "    </tr>\n",
       "  </thead>\n",
       "  <tbody>\n",
       "    <tr>\n",
       "      <th>Close Shave, A (1995)</th>\n",
       "      <td>112</td>\n",
       "      <td>4.491071</td>\n",
       "    </tr>\n",
       "    <tr>\n",
       "      <th>Schindler's List (1993)</th>\n",
       "      <td>298</td>\n",
       "      <td>4.466443</td>\n",
       "    </tr>\n",
       "    <tr>\n",
       "      <th>Wrong Trousers, The (1993)</th>\n",
       "      <td>118</td>\n",
       "      <td>4.466102</td>\n",
       "    </tr>\n",
       "    <tr>\n",
       "      <th>Casablanca (1942)</th>\n",
       "      <td>243</td>\n",
       "      <td>4.456790</td>\n",
       "    </tr>\n",
       "    <tr>\n",
       "      <th>Shawshank Redemption, The (1994)</th>\n",
       "      <td>283</td>\n",
       "      <td>4.445230</td>\n",
       "    </tr>\n",
       "    <tr>\n",
       "      <th>Rear Window (1954)</th>\n",
       "      <td>209</td>\n",
       "      <td>4.387560</td>\n",
       "    </tr>\n",
       "    <tr>\n",
       "      <th>Usual Suspects, The (1995)</th>\n",
       "      <td>267</td>\n",
       "      <td>4.385768</td>\n",
       "    </tr>\n",
       "    <tr>\n",
       "      <th>Star Wars (1977)</th>\n",
       "      <td>583</td>\n",
       "      <td>4.358491</td>\n",
       "    </tr>\n",
       "    <tr>\n",
       "      <th>12 Angry Men (1957)</th>\n",
       "      <td>125</td>\n",
       "      <td>4.344000</td>\n",
       "    </tr>\n",
       "    <tr>\n",
       "      <th>Citizen Kane (1941)</th>\n",
       "      <td>198</td>\n",
       "      <td>4.292929</td>\n",
       "    </tr>\n",
       "    <tr>\n",
       "      <th>To Kill a Mockingbird (1962)</th>\n",
       "      <td>219</td>\n",
       "      <td>4.292237</td>\n",
       "    </tr>\n",
       "    <tr>\n",
       "      <th>One Flew Over the Cuckoo's Nest (1975)</th>\n",
       "      <td>264</td>\n",
       "      <td>4.291667</td>\n",
       "    </tr>\n",
       "    <tr>\n",
       "      <th>Silence of the Lambs, The (1991)</th>\n",
       "      <td>390</td>\n",
       "      <td>4.289744</td>\n",
       "    </tr>\n",
       "    <tr>\n",
       "      <th>North by Northwest (1959)</th>\n",
       "      <td>179</td>\n",
       "      <td>4.284916</td>\n",
       "    </tr>\n",
       "    <tr>\n",
       "      <th>Godfather, The (1972)</th>\n",
       "      <td>413</td>\n",
       "      <td>4.283293</td>\n",
       "    </tr>\n",
       "  </tbody>\n",
       "</table>\n",
       "</div>"
      ],
      "text/plain": [
       "                                       rating          \n",
       "                                         size      mean\n",
       "title                                                  \n",
       "Close Shave, A (1995)                     112  4.491071\n",
       "Schindler's List (1993)                   298  4.466443\n",
       "Wrong Trousers, The (1993)                118  4.466102\n",
       "Casablanca (1942)                         243  4.456790\n",
       "Shawshank Redemption, The (1994)          283  4.445230\n",
       "Rear Window (1954)                        209  4.387560\n",
       "Usual Suspects, The (1995)                267  4.385768\n",
       "Star Wars (1977)                          583  4.358491\n",
       "12 Angry Men (1957)                       125  4.344000\n",
       "Citizen Kane (1941)                       198  4.292929\n",
       "To Kill a Mockingbird (1962)              219  4.292237\n",
       "One Flew Over the Cuckoo's Nest (1975)    264  4.291667\n",
       "Silence of the Lambs, The (1991)          390  4.289744\n",
       "North by Northwest (1959)                 179  4.284916\n",
       "Godfather, The (1972)                     413  4.283293"
      ]
     },
     "execution_count": 22,
     "metadata": {},
     "output_type": "execute_result"
    }
   ],
   "source": [
    "atleast_100 = movie_stats['rating']['size'] >= 100\n",
    "movie_stats[atleast_100].sort_values([('rating', 'mean')], ascending=False)[:15]"
   ]
  },
  {
   "cell_type": "code",
   "execution_count": 23,
   "metadata": {
    "collapsed": true
   },
   "outputs": [],
   "source": [
    "most_50 = lens.groupby('movie_id').size().sort_values(ascending=False)[:50]"
   ]
  },
  {
   "cell_type": "code",
   "execution_count": 26,
   "metadata": {
    "collapsed": false
   },
   "outputs": [
    {
     "data": {
      "text/plain": [
       "movie_id\n",
       "50     583\n",
       "258    509\n",
       "100    508\n",
       "181    507\n",
       "294    485\n",
       "286    481\n",
       "288    478\n",
       "1      452\n",
       "300    431\n",
       "121    429\n",
       "174    420\n",
       "127    413\n",
       "56     394\n",
       "7      392\n",
       "98     390\n",
       "237    384\n",
       "117    378\n",
       "172    367\n",
       "222    365\n",
       "313    350\n",
       "204    350\n",
       "405    344\n",
       "79     336\n",
       "210    331\n",
       "151    326\n",
       "173    324\n",
       "69     321\n",
       "168    316\n",
       "748    316\n",
       "269    315\n",
       "257    303\n",
       "195    301\n",
       "423    300\n",
       "9      299\n",
       "318    298\n",
       "276    298\n",
       "302    297\n",
       "22     297\n",
       "96     295\n",
       "328    295\n",
       "25     293\n",
       "15     293\n",
       "118    293\n",
       "183    291\n",
       "216    290\n",
       "176    284\n",
       "64     283\n",
       "234    280\n",
       "202    280\n",
       "28     276\n",
       "dtype: int64"
      ]
     },
     "metadata": {},
     "output_type": "display_data"
    }
   ],
   "source": [
    "display(most_50)"
   ]
  },
  {
   "cell_type": "code",
   "execution_count": 30,
   "metadata": {
    "collapsed": false
   },
   "outputs": [],
   "source": [
    "%matplotlib inline\n",
    "import matplotlib.pyplot as plt"
   ]
  },
  {
   "cell_type": "code",
   "execution_count": 31,
   "metadata": {
    "collapsed": false
   },
   "outputs": [
    {
     "data": {
      "image/png": "[encoded data removed]",
      "text/plain": [
       "<matplotlib.figure.Figure at 0x11126ae50>"
      ]
     },
     "metadata": {},
     "output_type": "display_data"
    }
   ],
   "source": [
    "users.age.plot.hist(bins=30)\n",
    "plt.title(\"Distribution of users' ages\")\n",
    "plt.ylabel('count of users')\n",
    "plt.xlabel('age');"
   ]
  },
  {
   "cell_type": "code",
   "execution_count": 35,
   "metadata": {
    "collapsed": false
   },
   "outputs": [
    {
     "data": {
      "text/html": [
       "<div>\n",
       "<table border=\"1\" class=\"dataframe\">\n",
       "  <thead>\n",
       "    <tr style=\"text-align: right;\">\n",
       "      <th></th>\n",
       "      <th>movie_id</th>\n",
       "      <th>title</th>\n",
       "      <th>release_date</th>\n",
       "      <th>video_release_date</th>\n",
       "      <th>imdb_url</th>\n",
       "      <th>user_id</th>\n",
       "      <th>rating</th>\n",
       "      <th>unix_timestamp</th>\n",
       "      <th>age</th>\n",
       "      <th>sex</th>\n",
       "      <th>occupation</th>\n",
       "      <th>zip_code</th>\n",
       "      <th>age_group</th>\n",
       "    </tr>\n",
       "  </thead>\n",
       "  <tbody>\n",
       "    <tr>\n",
       "      <th>0</th>\n",
       "      <td>1</td>\n",
       "      <td>Toy Story (1995)</td>\n",
       "      <td>01-Jan-1995</td>\n",
       "      <td>NaN</td>\n",
       "      <td>http://us.imdb.com/M/title-exact?Toy%20Story%2...</td>\n",
       "      <td>308</td>\n",
       "      <td>4</td>\n",
       "      <td>887736532</td>\n",
       "      <td>60</td>\n",
       "      <td>M</td>\n",
       "      <td>retired</td>\n",
       "      <td>95076</td>\n",
       "      <td>60-69</td>\n",
       "    </tr>\n",
       "    <tr>\n",
       "      <th>1</th>\n",
       "      <td>4</td>\n",
       "      <td>Get Shorty (1995)</td>\n",
       "      <td>01-Jan-1995</td>\n",
       "      <td>NaN</td>\n",
       "      <td>http://us.imdb.com/M/title-exact?Get%20Shorty%...</td>\n",
       "      <td>308</td>\n",
       "      <td>5</td>\n",
       "      <td>887737890</td>\n",
       "      <td>60</td>\n",
       "      <td>M</td>\n",
       "      <td>retired</td>\n",
       "      <td>95076</td>\n",
       "      <td>60-69</td>\n",
       "    </tr>\n",
       "    <tr>\n",
       "      <th>2</th>\n",
       "      <td>5</td>\n",
       "      <td>Copycat (1995)</td>\n",
       "      <td>01-Jan-1995</td>\n",
       "      <td>NaN</td>\n",
       "      <td>http://us.imdb.com/M/title-exact?Copycat%20(1995)</td>\n",
       "      <td>308</td>\n",
       "      <td>4</td>\n",
       "      <td>887739608</td>\n",
       "      <td>60</td>\n",
       "      <td>M</td>\n",
       "      <td>retired</td>\n",
       "      <td>95076</td>\n",
       "      <td>60-69</td>\n",
       "    </tr>\n",
       "    <tr>\n",
       "      <th>3</th>\n",
       "      <td>7</td>\n",
       "      <td>Twelve Monkeys (1995)</td>\n",
       "      <td>01-Jan-1995</td>\n",
       "      <td>NaN</td>\n",
       "      <td>http://us.imdb.com/M/title-exact?Twelve%20Monk...</td>\n",
       "      <td>308</td>\n",
       "      <td>4</td>\n",
       "      <td>887738847</td>\n",
       "      <td>60</td>\n",
       "      <td>M</td>\n",
       "      <td>retired</td>\n",
       "      <td>95076</td>\n",
       "      <td>60-69</td>\n",
       "    </tr>\n",
       "    <tr>\n",
       "      <th>4</th>\n",
       "      <td>8</td>\n",
       "      <td>Babe (1995)</td>\n",
       "      <td>01-Jan-1995</td>\n",
       "      <td>NaN</td>\n",
       "      <td>http://us.imdb.com/M/title-exact?Babe%20(1995)</td>\n",
       "      <td>308</td>\n",
       "      <td>5</td>\n",
       "      <td>887736696</td>\n",
       "      <td>60</td>\n",
       "      <td>M</td>\n",
       "      <td>retired</td>\n",
       "      <td>95076</td>\n",
       "      <td>60-69</td>\n",
       "    </tr>\n",
       "  </tbody>\n",
       "</table>\n",
       "</div>"
      ],
      "text/plain": [
       "   movie_id                  title release_date  video_release_date  \\\n",
       "0         1       Toy Story (1995)  01-Jan-1995                 NaN   \n",
       "1         4      Get Shorty (1995)  01-Jan-1995                 NaN   \n",
       "2         5         Copycat (1995)  01-Jan-1995                 NaN   \n",
       "3         7  Twelve Monkeys (1995)  01-Jan-1995                 NaN   \n",
       "4         8            Babe (1995)  01-Jan-1995                 NaN   \n",
       "\n",
       "                                            imdb_url  user_id  rating  \\\n",
       "0  http://us.imdb.com/M/title-exact?Toy%20Story%2...      308       4   \n",
       "1  http://us.imdb.com/M/title-exact?Get%20Shorty%...      308       5   \n",
       "2  http://us.imdb.com/M/title-exact?Copycat%20(1995)      308       4   \n",
       "3  http://us.imdb.com/M/title-exact?Twelve%20Monk...      308       4   \n",
       "4     http://us.imdb.com/M/title-exact?Babe%20(1995)      308       5   \n",
       "\n",
       "   unix_timestamp  age sex occupation zip_code age_group  \n",
       "0       887736532   60   M    retired    95076     60-69  \n",
       "1       887737890   60   M    retired    95076     60-69  \n",
       "2       887739608   60   M    retired    95076     60-69  \n",
       "3       887738847   60   M    retired    95076     60-69  \n",
       "4       887736696   60   M    retired    95076     60-69  "
      ]
     },
     "execution_count": 35,
     "metadata": {},
     "output_type": "execute_result"
    }
   ],
   "source": [
    "lens.head()"
   ]
  },
  {
   "cell_type": "code",
   "execution_count": 36,
   "metadata": {
    "collapsed": true
   },
   "outputs": [],
   "source": [
    "labels = ['0-9', '10-19', '20-29', '30-39', '40-49', '50-59', '60-69', '70-79']\n",
    "# right = True, meaning include the most right value; false, meaning exclude it \n",
    "lens['age_group'] = pd.cut(lens.age, range(0, 81, 10), right=False, labels=labels)"
   ]
  },
  {
   "cell_type": "code",
   "execution_count": 37,
   "metadata": {
    "collapsed": false
   },
   "outputs": [
    {
     "data": {
      "text/html": [
       "<div>\n",
       "<table border=\"1\" class=\"dataframe\">\n",
       "  <thead>\n",
       "    <tr style=\"text-align: right;\">\n",
       "      <th></th>\n",
       "      <th>age</th>\n",
       "      <th>age_group</th>\n",
       "    </tr>\n",
       "  </thead>\n",
       "  <tbody>\n",
       "    <tr>\n",
       "      <th>0</th>\n",
       "      <td>60</td>\n",
       "      <td>60-69</td>\n",
       "    </tr>\n",
       "    <tr>\n",
       "      <th>397</th>\n",
       "      <td>21</td>\n",
       "      <td>20-29</td>\n",
       "    </tr>\n",
       "    <tr>\n",
       "      <th>459</th>\n",
       "      <td>33</td>\n",
       "      <td>30-39</td>\n",
       "    </tr>\n",
       "    <tr>\n",
       "      <th>524</th>\n",
       "      <td>30</td>\n",
       "      <td>30-39</td>\n",
       "    </tr>\n",
       "    <tr>\n",
       "      <th>782</th>\n",
       "      <td>23</td>\n",
       "      <td>20-29</td>\n",
       "    </tr>\n",
       "    <tr>\n",
       "      <th>995</th>\n",
       "      <td>29</td>\n",
       "      <td>20-29</td>\n",
       "    </tr>\n",
       "    <tr>\n",
       "      <th>1229</th>\n",
       "      <td>26</td>\n",
       "      <td>20-29</td>\n",
       "    </tr>\n",
       "    <tr>\n",
       "      <th>1664</th>\n",
       "      <td>31</td>\n",
       "      <td>30-39</td>\n",
       "    </tr>\n",
       "    <tr>\n",
       "      <th>1942</th>\n",
       "      <td>24</td>\n",
       "      <td>20-29</td>\n",
       "    </tr>\n",
       "    <tr>\n",
       "      <th>2270</th>\n",
       "      <td>32</td>\n",
       "      <td>30-39</td>\n",
       "    </tr>\n",
       "  </tbody>\n",
       "</table>\n",
       "</div>"
      ],
      "text/plain": [
       "      age age_group\n",
       "0      60     60-69\n",
       "397    21     20-29\n",
       "459    33     30-39\n",
       "524    30     30-39\n",
       "782    23     20-29\n",
       "995    29     20-29\n",
       "1229   26     20-29\n",
       "1664   31     30-39\n",
       "1942   24     20-29\n",
       "2270   32     30-39"
      ]
     },
     "execution_count": 37,
     "metadata": {},
     "output_type": "execute_result"
    }
   ],
   "source": [
    "# default drop_duplicates() used when both columns are duplicated\n",
    "lens[['age', 'age_group']].drop_duplicates()[:10]"
   ]
  },
  {
   "cell_type": "code",
   "execution_count": 38,
   "metadata": {
    "collapsed": false
   },
   "outputs": [
    {
     "data": {
      "text/html": [
       "<div>\n",
       "<table border=\"1\" class=\"dataframe\">\n",
       "  <thead>\n",
       "    <tr>\n",
       "      <th></th>\n",
       "      <th colspan=\"2\" halign=\"left\">rating</th>\n",
       "    </tr>\n",
       "    <tr>\n",
       "      <th></th>\n",
       "      <th>size</th>\n",
       "      <th>mean</th>\n",
       "    </tr>\n",
       "    <tr>\n",
       "      <th>age_group</th>\n",
       "      <th></th>\n",
       "      <th></th>\n",
       "    </tr>\n",
       "  </thead>\n",
       "  <tbody>\n",
       "    <tr>\n",
       "      <th>0-9</th>\n",
       "      <td>43</td>\n",
       "      <td>3.767442</td>\n",
       "    </tr>\n",
       "    <tr>\n",
       "      <th>10-19</th>\n",
       "      <td>8181</td>\n",
       "      <td>3.486126</td>\n",
       "    </tr>\n",
       "    <tr>\n",
       "      <th>20-29</th>\n",
       "      <td>39535</td>\n",
       "      <td>3.467333</td>\n",
       "    </tr>\n",
       "    <tr>\n",
       "      <th>30-39</th>\n",
       "      <td>25696</td>\n",
       "      <td>3.554444</td>\n",
       "    </tr>\n",
       "    <tr>\n",
       "      <th>40-49</th>\n",
       "      <td>15021</td>\n",
       "      <td>3.591772</td>\n",
       "    </tr>\n",
       "    <tr>\n",
       "      <th>50-59</th>\n",
       "      <td>8704</td>\n",
       "      <td>3.635800</td>\n",
       "    </tr>\n",
       "    <tr>\n",
       "      <th>60-69</th>\n",
       "      <td>2623</td>\n",
       "      <td>3.648875</td>\n",
       "    </tr>\n",
       "    <tr>\n",
       "      <th>70-79</th>\n",
       "      <td>197</td>\n",
       "      <td>3.649746</td>\n",
       "    </tr>\n",
       "  </tbody>\n",
       "</table>\n",
       "</div>"
      ],
      "text/plain": [
       "          rating          \n",
       "            size      mean\n",
       "age_group                 \n",
       "0-9           43  3.767442\n",
       "10-19       8181  3.486126\n",
       "20-29      39535  3.467333\n",
       "30-39      25696  3.554444\n",
       "40-49      15021  3.591772\n",
       "50-59       8704  3.635800\n",
       "60-69       2623  3.648875\n",
       "70-79        197  3.649746"
      ]
     },
     "execution_count": 38,
     "metadata": {},
     "output_type": "execute_result"
    }
   ],
   "source": [
    "lens.groupby('age_group').agg({'rating': [np.size, np.mean]})"
   ]
  },
  {
   "cell_type": "code",
   "execution_count": 39,
   "metadata": {
    "collapsed": true
   },
   "outputs": [],
   "source": [
    "lens.set_index('movie_id', inplace=True)"
   ]
  },
  {
   "cell_type": "markdown",
   "metadata": {},
   "source": [
    "### for most reviewed 50 movies, group them by title then by age_group"
   ]
  },
  {
   "cell_type": "code",
   "execution_count": 40,
   "metadata": {
    "collapsed": false
   },
   "outputs": [
    {
     "data": {
      "text/plain": [
       "title                 age_group\n",
       "Air Force One (1997)  10-19        3.647059\n",
       "                      20-29        3.666667\n",
       "                      30-39        3.570000\n",
       "                      40-49        3.555556\n",
       "                      50-59        3.750000\n",
       "                      60-69        3.666667\n",
       "                      70-79        3.666667\n",
       "Alien (1979)          10-19        4.111111\n",
       "                      20-29        4.026087\n",
       "                      30-39        4.103448\n",
       "                      40-49        3.833333\n",
       "                      50-59        4.272727\n",
       "                      60-69        3.500000\n",
       "                      70-79        4.000000\n",
       "Aliens (1986)         10-19        4.050000\n",
       "Name: rating, dtype: float64"
      ]
     },
     "execution_count": 40,
     "metadata": {},
     "output_type": "execute_result"
    }
   ],
   "source": [
    "by_age = lens.loc[most_50.index].groupby(['title', 'age_group'])\n",
    "by_age.rating.mean().head(15)"
   ]
  },
  {
   "cell_type": "code",
   "execution_count": 42,
   "metadata": {
    "collapsed": false
   },
   "outputs": [
    {
     "data": {
      "text/plain": [
       "title                                         age_group\n",
       "Air Force One (1997)                          10-19        3.647059\n",
       "                                              20-29        3.666667\n",
       "                                              30-39        3.570000\n",
       "                                              40-49        3.555556\n",
       "                                              50-59        3.750000\n",
       "                                              60-69        3.666667\n",
       "                                              70-79        3.666667\n",
       "Alien (1979)                                  10-19        4.111111\n",
       "                                              20-29        4.026087\n",
       "                                              30-39        4.103448\n",
       "                                              40-49        3.833333\n",
       "                                              50-59        4.272727\n",
       "                                              60-69        3.500000\n",
       "                                              70-79        4.000000\n",
       "Aliens (1986)                                 10-19        4.050000\n",
       "                                              20-29        4.087719\n",
       "                                              30-39        3.887640\n",
       "                                              40-49        3.526316\n",
       "                                              50-59        4.235294\n",
       "                                              60-69        3.800000\n",
       "                                              70-79        3.000000\n",
       "Apollo 13 (1995)                              0-9          4.000000\n",
       "                                              10-19        3.954545\n",
       "                                              20-29        3.845455\n",
       "                                              30-39        4.064935\n",
       "                                              40-49        3.822222\n",
       "                                              50-59        4.187500\n",
       "                                              60-69        3.750000\n",
       "                                              70-79        4.000000\n",
       "Back to the Future (1985)                     10-19        4.037037\n",
       "                                                             ...   \n",
       "Toy Story (1995)                              40-49        3.700000\n",
       "                                              50-59        3.758621\n",
       "                                              60-69        3.400000\n",
       "                                              70-79        5.000000\n",
       "Twelve Monkeys (1995)                         0-9          4.000000\n",
       "                                              10-19        3.916667\n",
       "                                              20-29        3.847458\n",
       "                                              30-39        3.788462\n",
       "                                              40-49        3.653846\n",
       "                                              50-59        3.650000\n",
       "                                              60-69        3.000000\n",
       "Twister (1996)                                10-19        3.000000\n",
       "                                              20-29        3.200000\n",
       "                                              30-39        3.133333\n",
       "                                              40-49        3.479167\n",
       "                                              50-59        3.300000\n",
       "                                              60-69        3.250000\n",
       "When Harry Met Sally... (1989)                10-19        3.500000\n",
       "                                              20-29        4.000000\n",
       "                                              30-39        3.882353\n",
       "                                              40-49        3.825000\n",
       "                                              50-59        3.904762\n",
       "                                              60-69        3.800000\n",
       "                                              70-79        4.500000\n",
       "Willy Wonka and the Chocolate Factory (1971)  10-19        3.387097\n",
       "                                              20-29        3.820144\n",
       "                                              30-39        3.908046\n",
       "                                              40-49        3.058824\n",
       "                                              50-59        2.857143\n",
       "                                              60-69        3.000000\n",
       "Name: rating, dtype: float64"
      ]
     },
     "execution_count": 42,
     "metadata": {},
     "output_type": "execute_result"
    }
   ],
   "source": [
    "by_age.rating.mean()"
   ]
  },
  {
   "cell_type": "code",
   "execution_count": 44,
   "metadata": {
    "collapsed": false
   },
   "outputs": [
    {
     "data": {
      "text/html": [
       "<div>\n",
       "<table border=\"1\" class=\"dataframe\">\n",
       "  <thead>\n",
       "    <tr style=\"text-align: right;\">\n",
       "      <th>age_group</th>\n",
       "      <th>0-9</th>\n",
       "      <th>10-19</th>\n",
       "      <th>20-29</th>\n",
       "      <th>30-39</th>\n",
       "      <th>40-49</th>\n",
       "      <th>50-59</th>\n",
       "      <th>60-69</th>\n",
       "      <th>70-79</th>\n",
       "    </tr>\n",
       "    <tr>\n",
       "      <th>title</th>\n",
       "      <th></th>\n",
       "      <th></th>\n",
       "      <th></th>\n",
       "      <th></th>\n",
       "      <th></th>\n",
       "      <th></th>\n",
       "      <th></th>\n",
       "      <th></th>\n",
       "    </tr>\n",
       "  </thead>\n",
       "  <tbody>\n",
       "    <tr>\n",
       "      <th>E.T. the Extra-Terrestrial (1982)</th>\n",
       "      <td>0.0</td>\n",
       "      <td>3.680000</td>\n",
       "      <td>3.609091</td>\n",
       "      <td>3.806818</td>\n",
       "      <td>4.160000</td>\n",
       "      <td>4.368421</td>\n",
       "      <td>4.375000</td>\n",
       "      <td>0.000000</td>\n",
       "    </tr>\n",
       "    <tr>\n",
       "      <th>Empire Strikes Back, The (1980)</th>\n",
       "      <td>4.0</td>\n",
       "      <td>4.642857</td>\n",
       "      <td>4.311688</td>\n",
       "      <td>4.052083</td>\n",
       "      <td>4.100000</td>\n",
       "      <td>3.909091</td>\n",
       "      <td>4.250000</td>\n",
       "      <td>5.000000</td>\n",
       "    </tr>\n",
       "    <tr>\n",
       "      <th>English Patient, The (1996)</th>\n",
       "      <td>5.0</td>\n",
       "      <td>3.739130</td>\n",
       "      <td>3.571429</td>\n",
       "      <td>3.621849</td>\n",
       "      <td>3.634615</td>\n",
       "      <td>3.774648</td>\n",
       "      <td>3.904762</td>\n",
       "      <td>4.500000</td>\n",
       "    </tr>\n",
       "    <tr>\n",
       "      <th>Fargo (1996)</th>\n",
       "      <td>0.0</td>\n",
       "      <td>3.937500</td>\n",
       "      <td>4.010471</td>\n",
       "      <td>4.230769</td>\n",
       "      <td>4.294118</td>\n",
       "      <td>4.442308</td>\n",
       "      <td>4.000000</td>\n",
       "      <td>4.333333</td>\n",
       "    </tr>\n",
       "    <tr>\n",
       "      <th>Forrest Gump (1994)</th>\n",
       "      <td>5.0</td>\n",
       "      <td>4.047619</td>\n",
       "      <td>3.785714</td>\n",
       "      <td>3.861702</td>\n",
       "      <td>3.847826</td>\n",
       "      <td>4.000000</td>\n",
       "      <td>3.800000</td>\n",
       "      <td>0.000000</td>\n",
       "    </tr>\n",
       "    <tr>\n",
       "      <th>Fugitive, The (1993)</th>\n",
       "      <td>0.0</td>\n",
       "      <td>4.320000</td>\n",
       "      <td>3.969925</td>\n",
       "      <td>3.981481</td>\n",
       "      <td>4.190476</td>\n",
       "      <td>4.240000</td>\n",
       "      <td>3.666667</td>\n",
       "      <td>0.000000</td>\n",
       "    </tr>\n",
       "    <tr>\n",
       "      <th>Full Monty, The (1997)</th>\n",
       "      <td>0.0</td>\n",
       "      <td>3.421053</td>\n",
       "      <td>4.056818</td>\n",
       "      <td>3.933333</td>\n",
       "      <td>3.714286</td>\n",
       "      <td>4.146341</td>\n",
       "      <td>4.166667</td>\n",
       "      <td>3.500000</td>\n",
       "    </tr>\n",
       "    <tr>\n",
       "      <th>Godfather, The (1972)</th>\n",
       "      <td>0.0</td>\n",
       "      <td>4.400000</td>\n",
       "      <td>4.345070</td>\n",
       "      <td>4.412844</td>\n",
       "      <td>3.929412</td>\n",
       "      <td>4.463415</td>\n",
       "      <td>4.125000</td>\n",
       "      <td>0.000000</td>\n",
       "    </tr>\n",
       "    <tr>\n",
       "      <th>Groundhog Day (1993)</th>\n",
       "      <td>0.0</td>\n",
       "      <td>3.476190</td>\n",
       "      <td>3.798246</td>\n",
       "      <td>3.786667</td>\n",
       "      <td>3.851064</td>\n",
       "      <td>3.571429</td>\n",
       "      <td>3.571429</td>\n",
       "      <td>4.000000</td>\n",
       "    </tr>\n",
       "    <tr>\n",
       "      <th>Independence Day (ID4) (1996)</th>\n",
       "      <td>0.0</td>\n",
       "      <td>3.595238</td>\n",
       "      <td>3.291429</td>\n",
       "      <td>3.389381</td>\n",
       "      <td>3.718750</td>\n",
       "      <td>3.888889</td>\n",
       "      <td>2.750000</td>\n",
       "      <td>0.000000</td>\n",
       "    </tr>\n",
       "  </tbody>\n",
       "</table>\n",
       "</div>"
      ],
      "text/plain": [
       "age_group                          0-9     10-19     20-29     30-39  \\\n",
       "title                                                                  \n",
       "E.T. the Extra-Terrestrial (1982)  0.0  3.680000  3.609091  3.806818   \n",
       "Empire Strikes Back, The (1980)    4.0  4.642857  4.311688  4.052083   \n",
       "English Patient, The (1996)        5.0  3.739130  3.571429  3.621849   \n",
       "Fargo (1996)                       0.0  3.937500  4.010471  4.230769   \n",
       "Forrest Gump (1994)                5.0  4.047619  3.785714  3.861702   \n",
       "Fugitive, The (1993)               0.0  4.320000  3.969925  3.981481   \n",
       "Full Monty, The (1997)             0.0  3.421053  4.056818  3.933333   \n",
       "Godfather, The (1972)              0.0  4.400000  4.345070  4.412844   \n",
       "Groundhog Day (1993)               0.0  3.476190  3.798246  3.786667   \n",
       "Independence Day (ID4) (1996)      0.0  3.595238  3.291429  3.389381   \n",
       "\n",
       "age_group                             40-49     50-59     60-69     70-79  \n",
       "title                                                                      \n",
       "E.T. the Extra-Terrestrial (1982)  4.160000  4.368421  4.375000  0.000000  \n",
       "Empire Strikes Back, The (1980)    4.100000  3.909091  4.250000  5.000000  \n",
       "English Patient, The (1996)        3.634615  3.774648  3.904762  4.500000  \n",
       "Fargo (1996)                       4.294118  4.442308  4.000000  4.333333  \n",
       "Forrest Gump (1994)                3.847826  4.000000  3.800000  0.000000  \n",
       "Fugitive, The (1993)               4.190476  4.240000  3.666667  0.000000  \n",
       "Full Monty, The (1997)             3.714286  4.146341  4.166667  3.500000  \n",
       "Godfather, The (1972)              3.929412  4.463415  4.125000  0.000000  \n",
       "Groundhog Day (1993)               3.851064  3.571429  3.571429  4.000000  \n",
       "Independence Day (ID4) (1996)      3.718750  3.888889  2.750000  0.000000  "
      ]
     },
     "execution_count": 44,
     "metadata": {},
     "output_type": "execute_result"
    }
   ],
   "source": [
    "by_age.rating.mean().unstack(1).fillna(0)[10:20]"
   ]
  },
  {
   "cell_type": "code",
   "execution_count": 48,
   "metadata": {
    "collapsed": true
   },
   "outputs": [],
   "source": [
    "lens.reset_index('movie_id', inplace=True)"
   ]
  },
  {
   "cell_type": "code",
   "execution_count": 49,
   "metadata": {
    "collapsed": false
   },
   "outputs": [
    {
     "data": {
      "text/html": [
       "<div>\n",
       "<table border=\"1\" class=\"dataframe\">\n",
       "  <thead>\n",
       "    <tr style=\"text-align: right;\">\n",
       "      <th></th>\n",
       "      <th>sex</th>\n",
       "      <th>F</th>\n",
       "      <th>M</th>\n",
       "    </tr>\n",
       "    <tr>\n",
       "      <th>movie_id</th>\n",
       "      <th>title</th>\n",
       "      <th></th>\n",
       "      <th></th>\n",
       "    </tr>\n",
       "  </thead>\n",
       "  <tbody>\n",
       "    <tr>\n",
       "      <th>1</th>\n",
       "      <th>Toy Story (1995)</th>\n",
       "      <td>3.789916</td>\n",
       "      <td>3.909910</td>\n",
       "    </tr>\n",
       "    <tr>\n",
       "      <th>2</th>\n",
       "      <th>GoldenEye (1995)</th>\n",
       "      <td>3.368421</td>\n",
       "      <td>3.178571</td>\n",
       "    </tr>\n",
       "    <tr>\n",
       "      <th>3</th>\n",
       "      <th>Four Rooms (1995)</th>\n",
       "      <td>2.687500</td>\n",
       "      <td>3.108108</td>\n",
       "    </tr>\n",
       "    <tr>\n",
       "      <th>4</th>\n",
       "      <th>Get Shorty (1995)</th>\n",
       "      <td>3.400000</td>\n",
       "      <td>3.591463</td>\n",
       "    </tr>\n",
       "    <tr>\n",
       "      <th>5</th>\n",
       "      <th>Copycat (1995)</th>\n",
       "      <td>3.772727</td>\n",
       "      <td>3.140625</td>\n",
       "    </tr>\n",
       "  </tbody>\n",
       "</table>\n",
       "</div>"
      ],
      "text/plain": [
       "sex                                F         M\n",
       "movie_id title                                \n",
       "1        Toy Story (1995)   3.789916  3.909910\n",
       "2        GoldenEye (1995)   3.368421  3.178571\n",
       "3        Four Rooms (1995)  2.687500  3.108108\n",
       "4        Get Shorty (1995)  3.400000  3.591463\n",
       "5        Copycat (1995)     3.772727  3.140625"
      ]
     },
     "execution_count": 49,
     "metadata": {},
     "output_type": "execute_result"
    }
   ],
   "source": [
    "pivoted = lens.pivot_table(index=['movie_id', 'title'],\n",
    "                           columns=['sex'],\n",
    "                           values='rating',\n",
    "                           fill_value=0)\n",
    "pivoted.head()"
   ]
  },
  {
   "cell_type": "code",
   "execution_count": 50,
   "metadata": {
    "collapsed": false
   },
   "outputs": [
    {
     "data": {
      "text/html": [
       "<div>\n",
       "<table border=\"1\" class=\"dataframe\">\n",
       "  <thead>\n",
       "    <tr style=\"text-align: right;\">\n",
       "      <th></th>\n",
       "      <th>sex</th>\n",
       "      <th>F</th>\n",
       "      <th>M</th>\n",
       "      <th>diff</th>\n",
       "    </tr>\n",
       "    <tr>\n",
       "      <th>movie_id</th>\n",
       "      <th>title</th>\n",
       "      <th></th>\n",
       "      <th></th>\n",
       "      <th></th>\n",
       "    </tr>\n",
       "  </thead>\n",
       "  <tbody>\n",
       "    <tr>\n",
       "      <th>1</th>\n",
       "      <th>Toy Story (1995)</th>\n",
       "      <td>3.789916</td>\n",
       "      <td>3.909910</td>\n",
       "      <td>0.119994</td>\n",
       "    </tr>\n",
       "    <tr>\n",
       "      <th>2</th>\n",
       "      <th>GoldenEye (1995)</th>\n",
       "      <td>3.368421</td>\n",
       "      <td>3.178571</td>\n",
       "      <td>-0.189850</td>\n",
       "    </tr>\n",
       "    <tr>\n",
       "      <th>3</th>\n",
       "      <th>Four Rooms (1995)</th>\n",
       "      <td>2.687500</td>\n",
       "      <td>3.108108</td>\n",
       "      <td>0.420608</td>\n",
       "    </tr>\n",
       "    <tr>\n",
       "      <th>4</th>\n",
       "      <th>Get Shorty (1995)</th>\n",
       "      <td>3.400000</td>\n",
       "      <td>3.591463</td>\n",
       "      <td>0.191463</td>\n",
       "    </tr>\n",
       "    <tr>\n",
       "      <th>5</th>\n",
       "      <th>Copycat (1995)</th>\n",
       "      <td>3.772727</td>\n",
       "      <td>3.140625</td>\n",
       "      <td>-0.632102</td>\n",
       "    </tr>\n",
       "  </tbody>\n",
       "</table>\n",
       "</div>"
      ],
      "text/plain": [
       "sex                                F         M      diff\n",
       "movie_id title                                          \n",
       "1        Toy Story (1995)   3.789916  3.909910  0.119994\n",
       "2        GoldenEye (1995)   3.368421  3.178571 -0.189850\n",
       "3        Four Rooms (1995)  2.687500  3.108108  0.420608\n",
       "4        Get Shorty (1995)  3.400000  3.591463  0.191463\n",
       "5        Copycat (1995)     3.772727  3.140625 -0.632102"
      ]
     },
     "execution_count": 50,
     "metadata": {},
     "output_type": "execute_result"
    }
   ],
   "source": [
    "pivoted['diff'] = pivoted.M - pivoted.F\n",
    "pivoted.head()"
   ]
  },
  {
   "cell_type": "code",
   "execution_count": null,
   "metadata": {
    "collapsed": true
   },
   "outputs": [],
   "source": []
  }
 ],
 "metadata": {
  "kernelspec": {
   "display_name": "Python 2",
   "language": "python",
   "name": "python2"
  },
  "language_info": {
   "codemirror_mode": {
    "name": "ipython",
    "version": 2
   },
   "file_extension": ".py",
   "mimetype": "text/x-python",
   "name": "python",
   "nbconvert_exporter": "python",
   "pygments_lexer": "ipython2",
   "version": "2.7.12"
  }
 },
 "nbformat": 4,
 "nbformat_minor": 1
}
