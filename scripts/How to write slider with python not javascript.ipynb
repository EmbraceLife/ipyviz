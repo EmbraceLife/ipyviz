{
 "cells": [
  {
   "cell_type": "code",
   "execution_count": 3,
   "metadata": {
    "collapsed": false
   },
   "outputs": [],
   "source": [
    "from bokeh.layouts import column\n",
    "from bokeh.models import CustomJS, ColumnDataSource, Slider\n",
    "from bokeh.plotting import Figure, output_notebook, show\n",
    "from IPython.display import display\n",
    "import pandas as pd\n",
    "pd.set_option('display.max_rows', 10)\n",
    "pd.set_option('display.max_columns', 10)"
   ]
  },
  {
   "cell_type": "code",
   "execution_count": 4,
   "metadata": {
    "collapsed": false
   },
   "outputs": [
    {
     "data": {
      "text/html": [
       "\n",
       "    <div class=\"bk-root\">\n",
       "        <a href=\"http://bokeh.pydata.org\" target=\"_blank\" class=\"bk-logo bk-logo-small bk-logo-notebook\"></a>\n",
       "        <span id=\"0f9dde39-2356-4a53-829e-a13bbbe17d5f\">Loading BokehJS ...</span>\n",
       "    </div>"
      ]
     },
     "metadata": {},
     "output_type": "display_data"
    },
    {
     "data": {
      "application/javascript": [
       "\n",
       "(function(global) {\n",
       "  function now() {\n",
       "    return new Date();\n",
       "  }\n",
       "\n",
       "  var force = \"1\";\n",
       "\n",
       "  if (typeof (window._bokeh_onload_callbacks) === \"undefined\" || force !== \"\") {\n",
       "    window._bokeh_onload_callbacks = [];\n",
       "    window._bokeh_is_loading = undefined;\n",
       "  }\n",
       "\n",
       "  function run_callbacks() {\n",
       "    window._bokeh_onload_callbacks.forEach(function(callback) { callback() });\n",
       "    delete window._bokeh_onload_callbacks\n",
       "    console.info(\"Bokeh: all callbacks have finished\");\n",
       "  }\n",
       "\n",
       "  function load_libs(js_urls, callback) {\n",
       "    window._bokeh_onload_callbacks.push(callback);\n",
       "    if (window._bokeh_is_loading > 0) {\n",
       "      console.log(\"Bokeh: BokehJS is being loaded, scheduling callback at\", now());\n",
       "      return null;\n",
       "    }\n",
       "    if (js_urls == null || js_urls.length === 0) {\n",
       "      run_callbacks();\n",
       "      return null;\n",
       "    }\n",
       "    console.log(\"Bokeh: BokehJS not loaded, scheduling load and callback at\", now());\n",
       "    window._bokeh_is_loading = js_urls.length;\n",
       "    for (var i = 0; i < js_urls.length; i++) {\n",
       "      var url = js_urls[i];\n",
       "      var s = document.createElement('script');\n",
       "      s.src = url;\n",
       "      s.async = false;\n",
       "      s.onreadystatechange = s.onload = function() {\n",
       "        window._bokeh_is_loading--;\n",
       "        if (window._bokeh_is_loading === 0) {\n",
       "          console.log(\"Bokeh: all BokehJS libraries loaded\");\n",
       "          run_callbacks()\n",
       "        }\n",
       "      };\n",
       "      s.onerror = function() {\n",
       "        console.warn(\"failed to load library \" + url);\n",
       "      };\n",
       "      console.log(\"Bokeh: injecting script tag for BokehJS library: \", url);\n",
       "      document.getElementsByTagName(\"head\")[0].appendChild(s);\n",
       "    }\n",
       "  };\n",
       "\n",
       "  var js_urls = ['https://cdn.pydata.org/bokeh/release/bokeh-0.12.1.min.js', 'https://cdn.pydata.org/bokeh/release/bokeh-widgets-0.12.1.min.js', 'https://cdn.pydata.org/bokeh/release/bokeh-compiler-0.12.1.min.js'];\n",
       "\n",
       "  var inline_js = [\n",
       "    function(Bokeh) {\n",
       "      Bokeh.set_log_level(\"info\");\n",
       "    },\n",
       "    \n",
       "    function(Bokeh) {\n",
       "      \n",
       "      Bokeh.$(\"#0f9dde39-2356-4a53-829e-a13bbbe17d5f\").text(\"BokehJS successfully loaded\");\n",
       "      var kernel = Jupyter.notebook.kernel\n",
       "      if (kernel.execute !== undefined) {\n",
       "          kernel.execute(\"import bokeh.io; bokeh.io._nb_loaded = True\");\n",
       "      }\n",
       "    },\n",
       "    function(Bokeh) {\n",
       "      console.log(\"Bokeh: injecting CSS: https://cdn.pydata.org/bokeh/release/bokeh-0.12.1.min.css\");\n",
       "      Bokeh.embed.inject_css(\"https://cdn.pydata.org/bokeh/release/bokeh-0.12.1.min.css\");\n",
       "      console.log(\"Bokeh: injecting CSS: https://cdn.pydata.org/bokeh/release/bokeh-widgets-0.12.1.min.css\");\n",
       "      Bokeh.embed.inject_css(\"https://cdn.pydata.org/bokeh/release/bokeh-widgets-0.12.1.min.css\");\n",
       "    }\n",
       "  ];\n",
       "\n",
       "  function run_inline_js() {\n",
       "    for (var i = 0; i < inline_js.length; i++) {\n",
       "      inline_js[i](window.Bokeh);\n",
       "    }\n",
       "  }\n",
       "\n",
       "  if (window._bokeh_is_loading === 0) {\n",
       "    console.log(\"Bokeh: BokehJS loaded, going straight to plotting\");\n",
       "    run_inline_js();\n",
       "  } else {\n",
       "    load_libs(js_urls, function() {\n",
       "      console.log(\"Bokeh: BokehJS plotting callback run at\", now());\n",
       "      run_inline_js();\n",
       "    });\n",
       "  }\n",
       "}(this));"
      ]
     },
     "metadata": {},
     "output_type": "display_data"
    }
   ],
   "source": [
    "output_notebook()"
   ]
  },
  {
   "cell_type": "code",
   "execution_count": 5,
   "metadata": {
    "collapsed": true
   },
   "outputs": [],
   "source": [
    "x = [x*0.005 for x in range(0, 200)]\n",
    "y = x"
   ]
  },
  {
   "cell_type": "code",
   "execution_count": 6,
   "metadata": {
    "collapsed": true
   },
   "outputs": [],
   "source": [
    "source = ColumnDataSource(data=dict(x=x, y=y))"
   ]
  },
  {
   "cell_type": "code",
   "execution_count": 7,
   "metadata": {
    "collapsed": false
   },
   "outputs": [
    {
     "data": {
      "text/plain": [
       "<bokeh.models.renderers.GlyphRenderer at 0x102baab90>"
      ]
     },
     "execution_count": 7,
     "metadata": {},
     "output_type": "execute_result"
    }
   ],
   "source": [
    "plot = Figure(plot_width=400, plot_height=400)\n",
    "plot.line('x', 'y', source=source, line_width=3, line_alpha=0.6)"
   ]
  },
  {
   "cell_type": "code",
   "execution_count": null,
   "metadata": {
    "collapsed": false
   },
   "outputs": [],
   "source": []
  },
  {
   "cell_type": "code",
   "execution_count": 10,
   "metadata": {
    "collapsed": true
   },
   "outputs": [],
   "source": [
    "def callback(source=source, window=None):\n",
    "    data = source.get('data') # data refers to source.data\n",
    "\n",
    "    # cb_obj refers to Slider, value refers to Slider(..., value = 1, ...)\n",
    "    f = cb_obj.get('value') \n",
    "    \n",
    "    x, y = data['x'], data['y']\n",
    "    \n",
    "    for i in range(len(x)):\n",
    "        y[i] = window.Math.pow(x[i], f)\n",
    "        \n",
    "    source.trigger('change')"
   ]
  },
  {
   "cell_type": "code",
   "execution_count": 11,
   "metadata": {
    "collapsed": false
   },
   "outputs": [
    {
     "data": {
      "text/html": [
       "\n",
       "\n",
       "    <div class=\"bk-root\">\n",
       "        <div class=\"plotdiv\" id=\"1e481569-8808-4696-b56f-f214f5b6799c\"></div>\n",
       "    </div>\n",
       "<script type=\"text/javascript\">\n",
       "  \n",
       "  (function(global) {\n",
       "    function now() {\n",
       "      return new Date();\n",
       "    }\n",
       "  \n",
       "    var force = \"\";\n",
       "  \n",
       "    if (typeof (window._bokeh_onload_callbacks) === \"undefined\" || force !== \"\") {\n",
       "      window._bokeh_onload_callbacks = [];\n",
       "      window._bokeh_is_loading = undefined;\n",
       "    }\n",
       "  \n",
       "    function run_callbacks() {\n",
       "      window._bokeh_onload_callbacks.forEach(function(callback) { callback() });\n",
       "      delete window._bokeh_onload_callbacks\n",
       "      console.info(\"Bokeh: all callbacks have finished\");\n",
       "    }\n",
       "  \n",
       "    function load_libs(js_urls, callback) {\n",
       "      window._bokeh_onload_callbacks.push(callback);\n",
       "      if (window._bokeh_is_loading > 0) {\n",
       "        console.log(\"Bokeh: BokehJS is being loaded, scheduling callback at\", now());\n",
       "        return null;\n",
       "      }\n",
       "      if (js_urls == null || js_urls.length === 0) {\n",
       "        run_callbacks();\n",
       "        return null;\n",
       "      }\n",
       "      console.log(\"Bokeh: BokehJS not loaded, scheduling load and callback at\", now());\n",
       "      window._bokeh_is_loading = js_urls.length;\n",
       "      for (var i = 0; i < js_urls.length; i++) {\n",
       "        var url = js_urls[i];\n",
       "        var s = document.createElement('script');\n",
       "        s.src = url;\n",
       "        s.async = false;\n",
       "        s.onreadystatechange = s.onload = function() {\n",
       "          window._bokeh_is_loading--;\n",
       "          if (window._bokeh_is_loading === 0) {\n",
       "            console.log(\"Bokeh: all BokehJS libraries loaded\");\n",
       "            run_callbacks()\n",
       "          }\n",
       "        };\n",
       "        s.onerror = function() {\n",
       "          console.warn(\"failed to load library \" + url);\n",
       "        };\n",
       "        console.log(\"Bokeh: injecting script tag for BokehJS library: \", url);\n",
       "        document.getElementsByTagName(\"head\")[0].appendChild(s);\n",
       "      }\n",
       "    };var element = document.getElementById(\"1e481569-8808-4696-b56f-f214f5b6799c\");\n",
       "    if (element == null) {\n",
       "      console.log(\"Bokeh: ERROR: autoload.js configured with elementid '1e481569-8808-4696-b56f-f214f5b6799c' but no matching script tag was found. \")\n",
       "      return false;\n",
       "    }\n",
       "  \n",
       "    var js_urls = [];\n",
       "  \n",
       "    var inline_js = [\n",
       "      function(Bokeh) {\n",
       "        Bokeh.$(function() {\n",
       "            var docs_json = {\"0ceffa7c-c475-42e2-bee6-960f96680164\":{\"roots\":{\"references\":[{\"attributes\":{},\"id\":\"d5d8989a-f6e5-45f6-b753-2903a231982b\",\"type\":\"ToolEvents\"},{\"attributes\":{\"plot\":{\"id\":\"da822d03-7c3f-468f-9be7-7f9bb10af68c\",\"subtype\":\"Figure\",\"type\":\"Plot\"}},\"id\":\"59d43ca7-3046-41c4-968a-546beb605c19\",\"type\":\"ResetTool\"},{\"attributes\":{\"children\":[{\"id\":\"b58bdc38-a5fa-48bf-8c88-6d939119b6f9\",\"type\":\"WidgetBox\"},{\"id\":\"da822d03-7c3f-468f-9be7-7f9bb10af68c\",\"subtype\":\"Figure\",\"type\":\"Plot\"}]},\"id\":\"1aaeb737-a0ed-42ee-87dc-e6292242c87a\",\"type\":\"Column\"},{\"attributes\":{\"plot\":null,\"text\":null},\"id\":\"b2866f99-fef0-4047-8859-fa87743a3574\",\"type\":\"Title\"},{\"attributes\":{\"plot\":{\"id\":\"da822d03-7c3f-468f-9be7-7f9bb10af68c\",\"subtype\":\"Figure\",\"type\":\"Plot\"}},\"id\":\"f321cf5d-501f-4d04-adfd-227c740b2040\",\"type\":\"WheelZoomTool\"},{\"attributes\":{\"line_alpha\":{\"value\":0.1},\"line_color\":{\"value\":\"#1f77b4\"},\"line_width\":{\"value\":3},\"x\":{\"field\":\"x\"},\"y\":{\"field\":\"y\"}},\"id\":\"962b3f35-250b-4509-a30d-4daa307cec88\",\"type\":\"Line\"},{\"attributes\":{},\"id\":\"fa696248-5641-4f9f-a698-6460b28714c2\",\"type\":\"BasicTickFormatter\"},{\"attributes\":{},\"id\":\"52d6146b-c8c2-4f20-aa60-3a2097997cbb\",\"type\":\"BasicTicker\"},{\"attributes\":{\"active_drag\":\"auto\",\"active_scroll\":\"auto\",\"active_tap\":\"auto\",\"tools\":[{\"id\":\"7c505a68-e50a-49b1-bc93-24732d5900fb\",\"type\":\"PanTool\"},{\"id\":\"f321cf5d-501f-4d04-adfd-227c740b2040\",\"type\":\"WheelZoomTool\"},{\"id\":\"f245270a-9db8-4cb2-97f6-b77c30000ff7\",\"type\":\"BoxZoomTool\"},{\"id\":\"0a3e5931-1183-42b4-8806-771f89387713\",\"type\":\"SaveTool\"},{\"id\":\"59d43ca7-3046-41c4-968a-546beb605c19\",\"type\":\"ResetTool\"},{\"id\":\"e1b395dc-c2cc-44ec-96c9-292a71b89a68\",\"type\":\"HelpTool\"}]},\"id\":\"76da2169-1ca5-40a9-9dfd-cfcf3ad06c3d\",\"type\":\"Toolbar\"},{\"attributes\":{\"args\":{\"source\":{\"id\":\"3b4a5c42-142a-4e01-889f-a003ea36deb3\",\"type\":\"ColumnDataSource\"}},\"code\":\"var _pyfunc_range = function (start, end, step) {\\nvar i, res = [];\\n    var val = start;\\n    var n = (end - start) / step;\\n    for (i=0; i<n; i++) {\\n        res.push(val);\\n        val += step;\\n    }\\n    return res;\\n};\\nvar _pymeth_get = function (key, d) { // nargs: 1 2\\n    if (this.constructor !== Object) return this.get.apply(this, arguments);\\n    if (this[key] !== undefined) {return this[key];}\\n    else if (d !== undefined) {return d;}\\n    else {return null;}\\n};\\nvar cb;\\ncb = function (source, window) {\\n    var data, dummy1_, f, i, x, y;\\n    source = (source === undefined) ? source: source;\\n    window = (window === undefined) ? null: window;\\n    data = _pymeth_get.call(source, \\\"data\\\");\\n    f = _pymeth_get.call(cb_obj, \\\"value\\\");\\n    dummy1_ = [data[\\\"x\\\"], data[\\\"y\\\"]];\\n    x = dummy1_[0];y = dummy1_[1];\\n    for (i = 0; i < x.length; i += 1) {\\n        y[i] = window.Math.pow(x[i], f);\\n    }\\n    source.trigger(\\\"change\\\");\\n    return null;\\n};\\ncb(source, window);\\n\"},\"id\":\"2c607f80-f3c8-4bcb-a3be-6b3e79937fa1\",\"type\":\"CustomJS\"},{\"attributes\":{\"overlay\":{\"id\":\"1fbe5f62-55a9-4bd6-8d89-12f3b5f95af1\",\"type\":\"BoxAnnotation\"},\"plot\":{\"id\":\"da822d03-7c3f-468f-9be7-7f9bb10af68c\",\"subtype\":\"Figure\",\"type\":\"Plot\"}},\"id\":\"f245270a-9db8-4cb2-97f6-b77c30000ff7\",\"type\":\"BoxZoomTool\"},{\"attributes\":{\"callback\":null,\"column_names\":[\"y\",\"x\"],\"data\":{\"x\":[0.0,0.005,0.01,0.015,0.02,0.025,0.03,0.035,0.04,0.045,0.05,0.055,0.06,0.065,0.07,0.075,0.08,0.085,0.09,0.095,0.1,0.105,0.11,0.115,0.12,0.125,0.13,0.135,0.14,0.145,0.15,0.155,0.16,0.165,0.17,0.17500000000000002,0.18,0.185,0.19,0.195,0.2,0.20500000000000002,0.21,0.215,0.22,0.225,0.23,0.23500000000000001,0.24,0.245,0.25,0.255,0.26,0.265,0.27,0.275,0.28,0.28500000000000003,0.29,0.295,0.3,0.305,0.31,0.315,0.32,0.325,0.33,0.335,0.34,0.34500000000000003,0.35000000000000003,0.355,0.36,0.365,0.37,0.375,0.38,0.385,0.39,0.395,0.4,0.405,0.41000000000000003,0.41500000000000004,0.42,0.425,0.43,0.435,0.44,0.445,0.45,0.455,0.46,0.465,0.47000000000000003,0.47500000000000003,0.48,0.485,0.49,0.495,0.5,0.505,0.51,0.515,0.52,0.525,0.53,0.535,0.54,0.545,0.55,0.555,0.56,0.5650000000000001,0.5700000000000001,0.5750000000000001,0.58,0.585,0.59,0.595,0.6,0.605,0.61,0.615,0.62,0.625,0.63,0.635,0.64,0.645,0.65,0.655,0.66,0.665,0.67,0.675,0.68,0.685,0.6900000000000001,0.6950000000000001,0.7000000000000001,0.705,0.71,0.715,0.72,0.725,0.73,0.735,0.74,0.745,0.75,0.755,0.76,0.765,0.77,0.775,0.78,0.785,0.79,0.795,0.8,0.805,0.81,0.8150000000000001,0.8200000000000001,0.8250000000000001,0.8300000000000001,0.835,0.84,0.845,0.85,0.855,0.86,0.865,0.87,0.875,0.88,0.885,0.89,0.895,0.9,0.905,0.91,0.915,0.92,0.925,0.93,0.935,0.9400000000000001,0.9450000000000001,0.9500000000000001,0.9550000000000001,0.96,0.965,0.97,0.975,0.98,0.985,0.99,0.995],\"y\":[0.0,0.005,0.01,0.015,0.02,0.025,0.03,0.035,0.04,0.045,0.05,0.055,0.06,0.065,0.07,0.075,0.08,0.085,0.09,0.095,0.1,0.105,0.11,0.115,0.12,0.125,0.13,0.135,0.14,0.145,0.15,0.155,0.16,0.165,0.17,0.17500000000000002,0.18,0.185,0.19,0.195,0.2,0.20500000000000002,0.21,0.215,0.22,0.225,0.23,0.23500000000000001,0.24,0.245,0.25,0.255,0.26,0.265,0.27,0.275,0.28,0.28500000000000003,0.29,0.295,0.3,0.305,0.31,0.315,0.32,0.325,0.33,0.335,0.34,0.34500000000000003,0.35000000000000003,0.355,0.36,0.365,0.37,0.375,0.38,0.385,0.39,0.395,0.4,0.405,0.41000000000000003,0.41500000000000004,0.42,0.425,0.43,0.435,0.44,0.445,0.45,0.455,0.46,0.465,0.47000000000000003,0.47500000000000003,0.48,0.485,0.49,0.495,0.5,0.505,0.51,0.515,0.52,0.525,0.53,0.535,0.54,0.545,0.55,0.555,0.56,0.5650000000000001,0.5700000000000001,0.5750000000000001,0.58,0.585,0.59,0.595,0.6,0.605,0.61,0.615,0.62,0.625,0.63,0.635,0.64,0.645,0.65,0.655,0.66,0.665,0.67,0.675,0.68,0.685,0.6900000000000001,0.6950000000000001,0.7000000000000001,0.705,0.71,0.715,0.72,0.725,0.73,0.735,0.74,0.745,0.75,0.755,0.76,0.765,0.77,0.775,0.78,0.785,0.79,0.795,0.8,0.805,0.81,0.8150000000000001,0.8200000000000001,0.8250000000000001,0.8300000000000001,0.835,0.84,0.845,0.85,0.855,0.86,0.865,0.87,0.875,0.88,0.885,0.89,0.895,0.9,0.905,0.91,0.915,0.92,0.925,0.93,0.935,0.9400000000000001,0.9450000000000001,0.9500000000000001,0.9550000000000001,0.96,0.965,0.97,0.975,0.98,0.985,0.99,0.995]}},\"id\":\"3b4a5c42-142a-4e01-889f-a003ea36deb3\",\"type\":\"ColumnDataSource\"},{\"attributes\":{\"bottom_units\":\"screen\",\"fill_alpha\":{\"value\":0.5},\"fill_color\":{\"value\":\"lightgrey\"},\"left_units\":\"screen\",\"level\":\"overlay\",\"line_alpha\":{\"value\":1.0},\"line_color\":{\"value\":\"black\"},\"line_dash\":[4,4],\"line_width\":{\"value\":2},\"plot\":null,\"render_mode\":\"css\",\"right_units\":\"screen\",\"top_units\":\"screen\"},\"id\":\"1fbe5f62-55a9-4bd6-8d89-12f3b5f95af1\",\"type\":\"BoxAnnotation\"},{\"attributes\":{},\"id\":\"13aff121-7f3d-449f-87e6-a88244478277\",\"type\":\"BasicTicker\"},{\"attributes\":{\"callback\":{\"id\":\"2c607f80-f3c8-4bcb-a3be-6b3e79937fa1\",\"type\":\"CustomJS\"},\"end\":4,\"start\":0.1,\"title\":\"power\",\"value\":1},\"id\":\"f6d2ebc6-bf73-461b-9254-78e024524964\",\"type\":\"Slider\"},{\"attributes\":{\"plot\":{\"id\":\"da822d03-7c3f-468f-9be7-7f9bb10af68c\",\"subtype\":\"Figure\",\"type\":\"Plot\"}},\"id\":\"e1b395dc-c2cc-44ec-96c9-292a71b89a68\",\"type\":\"HelpTool\"},{\"attributes\":{\"formatter\":{\"id\":\"fad1b518-af1f-4d58-9bea-16a6586f6e5a\",\"type\":\"BasicTickFormatter\"},\"plot\":{\"id\":\"da822d03-7c3f-468f-9be7-7f9bb10af68c\",\"subtype\":\"Figure\",\"type\":\"Plot\"},\"ticker\":{\"id\":\"52d6146b-c8c2-4f20-aa60-3a2097997cbb\",\"type\":\"BasicTicker\"}},\"id\":\"77841e4d-dc6b-4bb1-801e-3fc8d0601b10\",\"type\":\"LinearAxis\"},{\"attributes\":{\"plot\":{\"id\":\"da822d03-7c3f-468f-9be7-7f9bb10af68c\",\"subtype\":\"Figure\",\"type\":\"Plot\"}},\"id\":\"0a3e5931-1183-42b4-8806-771f89387713\",\"type\":\"SaveTool\"},{\"attributes\":{\"data_source\":{\"id\":\"3b4a5c42-142a-4e01-889f-a003ea36deb3\",\"type\":\"ColumnDataSource\"},\"glyph\":{\"id\":\"c08ac404-ea9c-4db7-95fb-12e9324773b0\",\"type\":\"Line\"},\"hover_glyph\":null,\"nonselection_glyph\":{\"id\":\"962b3f35-250b-4509-a30d-4daa307cec88\",\"type\":\"Line\"},\"selection_glyph\":null},\"id\":\"e134bb08-a068-4eac-97dd-2c560208fa09\",\"type\":\"GlyphRenderer\"},{\"attributes\":{\"below\":[{\"id\":\"0ec164ec-dd6b-400e-ac69-47777a08b5f9\",\"type\":\"LinearAxis\"}],\"left\":[{\"id\":\"77841e4d-dc6b-4bb1-801e-3fc8d0601b10\",\"type\":\"LinearAxis\"}],\"plot_height\":400,\"plot_width\":400,\"renderers\":[{\"id\":\"0ec164ec-dd6b-400e-ac69-47777a08b5f9\",\"type\":\"LinearAxis\"},{\"id\":\"98374842-8891-4782-a134-d7130e34281e\",\"type\":\"Grid\"},{\"id\":\"77841e4d-dc6b-4bb1-801e-3fc8d0601b10\",\"type\":\"LinearAxis\"},{\"id\":\"53bf6e46-0e77-4730-8114-14bac46999b6\",\"type\":\"Grid\"},{\"id\":\"1fbe5f62-55a9-4bd6-8d89-12f3b5f95af1\",\"type\":\"BoxAnnotation\"},{\"id\":\"e134bb08-a068-4eac-97dd-2c560208fa09\",\"type\":\"GlyphRenderer\"}],\"title\":{\"id\":\"b2866f99-fef0-4047-8859-fa87743a3574\",\"type\":\"Title\"},\"tool_events\":{\"id\":\"d5d8989a-f6e5-45f6-b753-2903a231982b\",\"type\":\"ToolEvents\"},\"toolbar\":{\"id\":\"76da2169-1ca5-40a9-9dfd-cfcf3ad06c3d\",\"type\":\"Toolbar\"},\"x_range\":{\"id\":\"a68806f6-817e-415a-8430-d948ed261251\",\"type\":\"DataRange1d\"},\"y_range\":{\"id\":\"68973d80-4c58-43ad-8fa3-ef3162e3624d\",\"type\":\"DataRange1d\"}},\"id\":\"da822d03-7c3f-468f-9be7-7f9bb10af68c\",\"subtype\":\"Figure\",\"type\":\"Plot\"},{\"attributes\":{\"line_alpha\":{\"value\":0.6},\"line_color\":{\"value\":\"#1f77b4\"},\"line_width\":{\"value\":3},\"x\":{\"field\":\"x\"},\"y\":{\"field\":\"y\"}},\"id\":\"c08ac404-ea9c-4db7-95fb-12e9324773b0\",\"type\":\"Line\"},{\"attributes\":{\"children\":[{\"id\":\"f6d2ebc6-bf73-461b-9254-78e024524964\",\"type\":\"Slider\"}]},\"id\":\"b58bdc38-a5fa-48bf-8c88-6d939119b6f9\",\"type\":\"WidgetBox\"},{\"attributes\":{\"plot\":{\"id\":\"da822d03-7c3f-468f-9be7-7f9bb10af68c\",\"subtype\":\"Figure\",\"type\":\"Plot\"}},\"id\":\"7c505a68-e50a-49b1-bc93-24732d5900fb\",\"type\":\"PanTool\"},{\"attributes\":{\"dimension\":1,\"plot\":{\"id\":\"da822d03-7c3f-468f-9be7-7f9bb10af68c\",\"subtype\":\"Figure\",\"type\":\"Plot\"},\"ticker\":{\"id\":\"52d6146b-c8c2-4f20-aa60-3a2097997cbb\",\"type\":\"BasicTicker\"}},\"id\":\"53bf6e46-0e77-4730-8114-14bac46999b6\",\"type\":\"Grid\"},{\"attributes\":{\"plot\":{\"id\":\"da822d03-7c3f-468f-9be7-7f9bb10af68c\",\"subtype\":\"Figure\",\"type\":\"Plot\"},\"ticker\":{\"id\":\"13aff121-7f3d-449f-87e6-a88244478277\",\"type\":\"BasicTicker\"}},\"id\":\"98374842-8891-4782-a134-d7130e34281e\",\"type\":\"Grid\"},{\"attributes\":{},\"id\":\"fad1b518-af1f-4d58-9bea-16a6586f6e5a\",\"type\":\"BasicTickFormatter\"},{\"attributes\":{\"callback\":null},\"id\":\"a68806f6-817e-415a-8430-d948ed261251\",\"type\":\"DataRange1d\"},{\"attributes\":{\"callback\":null},\"id\":\"68973d80-4c58-43ad-8fa3-ef3162e3624d\",\"type\":\"DataRange1d\"},{\"attributes\":{\"formatter\":{\"id\":\"fa696248-5641-4f9f-a698-6460b28714c2\",\"type\":\"BasicTickFormatter\"},\"plot\":{\"id\":\"da822d03-7c3f-468f-9be7-7f9bb10af68c\",\"subtype\":\"Figure\",\"type\":\"Plot\"},\"ticker\":{\"id\":\"13aff121-7f3d-449f-87e6-a88244478277\",\"type\":\"BasicTicker\"}},\"id\":\"0ec164ec-dd6b-400e-ac69-47777a08b5f9\",\"type\":\"LinearAxis\"}],\"root_ids\":[\"1aaeb737-a0ed-42ee-87dc-e6292242c87a\"]},\"title\":\"Bokeh Application\",\"version\":\"0.12.1\"}};\n",
       "            var render_items = [{\"docid\":\"0ceffa7c-c475-42e2-bee6-960f96680164\",\"elementid\":\"1e481569-8808-4696-b56f-f214f5b6799c\",\"modelid\":\"1aaeb737-a0ed-42ee-87dc-e6292242c87a\",\"notebook_comms_target\":\"09582e55-724b-4b82-98c6-58ff91872457\"}];\n",
       "            \n",
       "            Bokeh.embed.embed_items(docs_json, render_items);\n",
       "        });\n",
       "      },\n",
       "      function(Bokeh) {\n",
       "      }\n",
       "    ];\n",
       "  \n",
       "    function run_inline_js() {\n",
       "      for (var i = 0; i < inline_js.length; i++) {\n",
       "        inline_js[i](window.Bokeh);\n",
       "      }\n",
       "    }\n",
       "  \n",
       "    if (window._bokeh_is_loading === 0) {\n",
       "      console.log(\"Bokeh: BokehJS loaded, going straight to plotting\");\n",
       "      run_inline_js();\n",
       "    } else {\n",
       "      load_libs(js_urls, function() {\n",
       "        console.log(\"Bokeh: BokehJS plotting callback run at\", now());\n",
       "        run_inline_js();\n",
       "      });\n",
       "    }\n",
       "  }(this));\n",
       "</script>"
      ]
     },
     "metadata": {},
     "output_type": "display_data"
    },
    {
     "data": {
      "text/html": [
       "<p><code>&lt;Bokeh Notebook handle for <strong>In[11]</strong>&gt;</code></p>"
      ],
      "text/plain": [
       "<bokeh.io._CommsHandle at 0x10b8bd790>"
      ]
     },
     "execution_count": 11,
     "metadata": {},
     "output_type": "execute_result"
    }
   ],
   "source": [
    "slider = Slider(start=0.1, end=4, value=1, step=.1, title=\"power\",\n",
    "                callback=CustomJS.from_py_func(callback))\n",
    "\n",
    "layout = column(slider, plot)\n",
    "\n",
    "show(layout)"
   ]
  },
  {
   "cell_type": "code",
   "execution_count": null,
   "metadata": {
    "collapsed": true
   },
   "outputs": [],
   "source": []
  }
 ],
 "metadata": {
  "kernelspec": {
   "display_name": "Python 2",
   "language": "python",
   "name": "python2"
  },
  "language_info": {
   "codemirror_mode": {
    "name": "ipython",
    "version": 2
   },
   "file_extension": ".py",
   "mimetype": "text/x-python",
   "name": "python",
   "nbconvert_exporter": "python",
   "pygments_lexer": "ipython2",
   "version": "2.7.12"
  }
 },
 "nbformat": 4,
 "nbformat_minor": 1
}
