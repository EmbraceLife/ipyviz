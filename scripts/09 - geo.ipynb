{
 "cells": [
  {
   "cell_type": "markdown",
   "metadata": {},
   "source": [
    "<table style=\"float:left; border:none\">\n",
    "   <tr style=\"border:none\">\n",
    "       <td style=\"border:none\">\n",
    "           <a href=\"http://bokeh.pydata.org/\">     \n",
    "           <img \n",
    "               src=\"assets/images/bokeh-transparent.png\" \n",
    "               style=\"width:50px\"\n",
    "           >\n",
    "           </a>    \n",
    "       </td>\n",
    "       <td style=\"border:none\">\n",
    "           <h1>Bokeh Tutorial</h1>\n",
    "       </td>\n",
    "   </tr>\n",
    "</table>\n",
    "\n",
    "<div style=\"float:right;\"><h2>09. Geographic Data</h2></div>"
   ]
  },
  {
   "cell_type": "markdown",
   "metadata": {},
   "source": [
    "It is often useful to be able to relate datasets with their real-world context.  You can plot geographic data just like any other type of data, as in the [Texas Unemployment example](http://nbviewer.jupyter.org/github/bokeh/bokeh-notebooks/blob/master/gallery/texas.ipynb), but Bokeh also Bokeh provides several specialized mechanisms for plotting data in geographic coordinates:\n",
    "\n",
    "* [TileSource](http://bokeh.pydata.org/en/latest/docs/reference/models/tiles.html), especially WMTSTileSource: allows data to be overlaid on data from any map tile server, including [Google Maps](http://maps.google.com), [Stamen](http://maps.stamen.com), [MapQuest](https://www.mapquest.com/), [OpenStreetMap](https://www.openstreetmap.org), [ESRI](http://www.esri.com), and custom servers.\n",
    "* [GeoJSONDataSource](http://bokeh.pydata.org/en/0.11.1/docs/user_guide/geo.html#geojson-datasource): Allows reading data in [GeoJSON](http://geojson.org/) format and using it just like any other ColumnDataSource.\n",
    "* GMapPlot: older, more limited interface just to Google Maps (GMapPlot); obsoleted by TileSource.\n",
    "\n",
    "Here we will briefly demonstrate how to use a WTMS tile source along with your data.  "
   ]
  },
  {
   "cell_type": "markdown",
   "metadata": {},
   "source": [
    "# WMTS Tile Source\n",
    "\n",
    "WTMS is the most common web standard for tiled map data, i.e. maps supplied as standard-sized image patches from which the overall map can be constructed at a given zoom level.  WTMS uses Web Mercator format, measuring distances from Greenwich, England as meters north and meters west, which is easy to compute but does distort the global shape. \n",
    "\n",
    "First let's create an empty Bokeh plot covering the USA, with bounds specified in meters:"
   ]
  },
  {
   "cell_type": "code",
   "execution_count": 1,
   "metadata": {
    "collapsed": false
   },
   "outputs": [
    {
     "data": {
      "text/html": [
       "\n",
       "    <div class=\"bk-root\">\n",
       "        <a href=\"http://bokeh.pydata.org\" target=\"_blank\" class=\"bk-logo bk-logo-small bk-logo-notebook\"></a>\n",
       "        <span id=\"92dd9f66-7059-431d-bfcd-0ffc017201a1\">Loading BokehJS ...</span>\n",
       "    </div>"
      ]
     },
     "metadata": {},
     "output_type": "display_data"
    },
    {
     "data": {
      "application/javascript": [
       "\n",
       "(function(global) {\n",
       "  function now() {\n",
       "    return new Date();\n",
       "  }\n",
       "\n",
       "  var force = \"1\";\n",
       "\n",
       "  if (typeof (window._bokeh_onload_callbacks) === \"undefined\" || force !== \"\") {\n",
       "    window._bokeh_onload_callbacks = [];\n",
       "    window._bokeh_is_loading = undefined;\n",
       "  }\n",
       "\n",
       "  function run_callbacks() {\n",
       "    window._bokeh_onload_callbacks.forEach(function(callback) { callback() });\n",
       "    delete window._bokeh_onload_callbacks\n",
       "    console.info(\"Bokeh: all callbacks have finished\");\n",
       "  }\n",
       "\n",
       "  function load_libs(js_urls, callback) {\n",
       "    window._bokeh_onload_callbacks.push(callback);\n",
       "    if (window._bokeh_is_loading > 0) {\n",
       "      console.log(\"Bokeh: BokehJS is being loaded, scheduling callback at\", now());\n",
       "      return null;\n",
       "    }\n",
       "    if (js_urls == null || js_urls.length === 0) {\n",
       "      run_callbacks();\n",
       "      return null;\n",
       "    }\n",
       "    console.log(\"Bokeh: BokehJS not loaded, scheduling load and callback at\", now());\n",
       "    window._bokeh_is_loading = js_urls.length;\n",
       "    for (var i = 0; i < js_urls.length; i++) {\n",
       "      var url = js_urls[i];\n",
       "      var s = document.createElement('script');\n",
       "      s.src = url;\n",
       "      s.async = false;\n",
       "      s.onreadystatechange = s.onload = function() {\n",
       "        window._bokeh_is_loading--;\n",
       "        if (window._bokeh_is_loading === 0) {\n",
       "          console.log(\"Bokeh: all BokehJS libraries loaded\");\n",
       "          run_callbacks()\n",
       "        }\n",
       "      };\n",
       "      s.onerror = function() {\n",
       "        console.warn(\"failed to load library \" + url);\n",
       "      };\n",
       "      console.log(\"Bokeh: injecting script tag for BokehJS library: \", url);\n",
       "      document.getElementsByTagName(\"head\")[0].appendChild(s);\n",
       "    }\n",
       "  };\n",
       "\n",
       "  var js_urls = ['https://cdn.pydata.org/bokeh/release/bokeh-0.12.1.min.js', 'https://cdn.pydata.org/bokeh/release/bokeh-widgets-0.12.1.min.js', 'https://cdn.pydata.org/bokeh/release/bokeh-compiler-0.12.1.min.js'];\n",
       "\n",
       "  var inline_js = [\n",
       "    function(Bokeh) {\n",
       "      Bokeh.set_log_level(\"info\");\n",
       "    },\n",
       "    \n",
       "    function(Bokeh) {\n",
       "      \n",
       "      Bokeh.$(\"#92dd9f66-7059-431d-bfcd-0ffc017201a1\").text(\"BokehJS successfully loaded\");\n",
       "      var kernel = Jupyter.notebook.kernel\n",
       "      if (kernel.execute !== undefined) {\n",
       "          kernel.execute(\"import bokeh.io; bokeh.io._nb_loaded = True\");\n",
       "      }\n",
       "    },\n",
       "    function(Bokeh) {\n",
       "      console.log(\"Bokeh: injecting CSS: https://cdn.pydata.org/bokeh/release/bokeh-0.12.1.min.css\");\n",
       "      Bokeh.embed.inject_css(\"https://cdn.pydata.org/bokeh/release/bokeh-0.12.1.min.css\");\n",
       "      console.log(\"Bokeh: injecting CSS: https://cdn.pydata.org/bokeh/release/bokeh-widgets-0.12.1.min.css\");\n",
       "      Bokeh.embed.inject_css(\"https://cdn.pydata.org/bokeh/release/bokeh-widgets-0.12.1.min.css\");\n",
       "    }\n",
       "  ];\n",
       "\n",
       "  function run_inline_js() {\n",
       "    for (var i = 0; i < inline_js.length; i++) {\n",
       "      inline_js[i](window.Bokeh);\n",
       "    }\n",
       "  }\n",
       "\n",
       "  if (window._bokeh_is_loading === 0) {\n",
       "    console.log(\"Bokeh: BokehJS loaded, going straight to plotting\");\n",
       "    run_inline_js();\n",
       "  } else {\n",
       "    load_libs(js_urls, function() {\n",
       "      console.log(\"Bokeh: BokehJS plotting callback run at\", now());\n",
       "      run_inline_js();\n",
       "    });\n",
       "  }\n",
       "}(this));"
      ]
     },
     "metadata": {},
     "output_type": "display_data"
    }
   ],
   "source": [
    "from bokeh.io import output_notebook, show\n",
    "from bokeh.plotting import figure\n",
    "from bokeh.tile_providers import WMTSTileSource\n",
    "\n",
    "output_notebook()\n",
    "\n",
    "USA = x_range,y_range = ((-13884029,-7453304), (2698291,6455972))\n",
    "\n",
    "fig = figure(tools='pan, wheel_zoom', x_range=x_range, y_range=y_range)\n",
    "fig.axis.visible = False"
   ]
  },
  {
   "cell_type": "markdown",
   "metadata": {},
   "source": [
    "A few WTMS tile sources are already defined in `bokeh.tile_providers`, but here we'll show how to specify the interface using a format string showing Bokeh how to request a tile with the required zoom, x, and y values from a given tile provider:"
   ]
  },
  {
   "cell_type": "code",
   "execution_count": 2,
   "metadata": {
    "collapsed": false
   },
   "outputs": [
    {
     "data": {
      "text/plain": [
       "<bokeh.models.renderers.TileRenderer at 0x104512dd0>"
      ]
     },
     "execution_count": 2,
     "metadata": {},
     "output_type": "execute_result"
    }
   ],
   "source": [
    "url = 'http://otile1.mqcdn.com/tiles/1.0.0/sat/{Z}/{X}/{Y}.jpg'\n",
    "attribution = \"Tiles from MapQuest\"\n",
    "\n",
    "fig.add_tile(WMTSTileSource(url=url, attribution=attribution))"
   ]
  },
  {
   "cell_type": "markdown",
   "metadata": {},
   "source": [
    "If you show the figure, you can then use the wheel zoom and pan tools to navigate over any zoom level, and Bokeh will request the appropriate tiles from the server and insert them at the correct locations in the plot:"
   ]
  },
  {
   "cell_type": "code",
   "execution_count": 6,
   "metadata": {
    "collapsed": false
   },
   "outputs": [
    {
     "data": {
      "text/html": [
       "\n",
       "\n",
       "    <div class=\"bk-root\">\n",
       "        <div class=\"plotdiv\" id=\"474d3fee-3c98-4ef3-909d-9d55f9e90105\"></div>\n",
       "    </div>\n",
       "<script type=\"text/javascript\">\n",
       "  \n",
       "  (function(global) {\n",
       "    function now() {\n",
       "      return new Date();\n",
       "    }\n",
       "  \n",
       "    var force = \"\";\n",
       "  \n",
       "    if (typeof (window._bokeh_onload_callbacks) === \"undefined\" || force !== \"\") {\n",
       "      window._bokeh_onload_callbacks = [];\n",
       "      window._bokeh_is_loading = undefined;\n",
       "    }\n",
       "  \n",
       "    function run_callbacks() {\n",
       "      window._bokeh_onload_callbacks.forEach(function(callback) { callback() });\n",
       "      delete window._bokeh_onload_callbacks\n",
       "      console.info(\"Bokeh: all callbacks have finished\");\n",
       "    }\n",
       "  \n",
       "    function load_libs(js_urls, callback) {\n",
       "      window._bokeh_onload_callbacks.push(callback);\n",
       "      if (window._bokeh_is_loading > 0) {\n",
       "        console.log(\"Bokeh: BokehJS is being loaded, scheduling callback at\", now());\n",
       "        return null;\n",
       "      }\n",
       "      if (js_urls == null || js_urls.length === 0) {\n",
       "        run_callbacks();\n",
       "        return null;\n",
       "      }\n",
       "      console.log(\"Bokeh: BokehJS not loaded, scheduling load and callback at\", now());\n",
       "      window._bokeh_is_loading = js_urls.length;\n",
       "      for (var i = 0; i < js_urls.length; i++) {\n",
       "        var url = js_urls[i];\n",
       "        var s = document.createElement('script');\n",
       "        s.src = url;\n",
       "        s.async = false;\n",
       "        s.onreadystatechange = s.onload = function() {\n",
       "          window._bokeh_is_loading--;\n",
       "          if (window._bokeh_is_loading === 0) {\n",
       "            console.log(\"Bokeh: all BokehJS libraries loaded\");\n",
       "            run_callbacks()\n",
       "          }\n",
       "        };\n",
       "        s.onerror = function() {\n",
       "          console.warn(\"failed to load library \" + url);\n",
       "        };\n",
       "        console.log(\"Bokeh: injecting script tag for BokehJS library: \", url);\n",
       "        document.getElementsByTagName(\"head\")[0].appendChild(s);\n",
       "      }\n",
       "    };var element = document.getElementById(\"474d3fee-3c98-4ef3-909d-9d55f9e90105\");\n",
       "    if (element == null) {\n",
       "      console.log(\"Bokeh: ERROR: autoload.js configured with elementid '474d3fee-3c98-4ef3-909d-9d55f9e90105' but no matching script tag was found. \")\n",
       "      return false;\n",
       "    }\n",
       "  \n",
       "    var js_urls = [];\n",
       "  \n",
       "    var inline_js = [\n",
       "      function(Bokeh) {\n",
       "        Bokeh.$(function() {\n",
       "            var docs_json = {\"7b5d9393-6058-4406-a1fc-bffca34b7c29\":{\"roots\":{\"references\":[{\"attributes\":{\"tile_source\":{\"id\":\"22036c25-8008-4e25-b14e-7f1214b7d6fe\",\"type\":\"WMTSTileSource\"}},\"id\":\"9ed3a3e3-faed-488f-a24e-3f62b8837b35\",\"type\":\"TileRenderer\"},{\"attributes\":{\"formatter\":{\"id\":\"3e5466ef-bced-4f83-8eba-bc16fcb563b6\",\"type\":\"BasicTickFormatter\"},\"plot\":{\"id\":\"f3fde2b0-8a80-4d55-85d4-242044c4e064\",\"subtype\":\"Figure\",\"type\":\"Plot\"},\"ticker\":{\"id\":\"790e6f32-3ec7-40f4-b8f7-ad19f17d8483\",\"type\":\"BasicTicker\"},\"visible\":false},\"id\":\"b88b363f-25fa-4134-95c6-f1b6b0135614\",\"type\":\"LinearAxis\"},{\"attributes\":{\"plot\":{\"id\":\"f3fde2b0-8a80-4d55-85d4-242044c4e064\",\"subtype\":\"Figure\",\"type\":\"Plot\"},\"ticker\":{\"id\":\"f0110327-777a-4a5f-84c2-36175074bd2f\",\"type\":\"BasicTicker\"}},\"id\":\"f8f2663e-33fb-4ac9-b5b5-1a2cd0290116\",\"type\":\"Grid\"},{\"attributes\":{\"dimension\":1,\"plot\":{\"id\":\"f3fde2b0-8a80-4d55-85d4-242044c4e064\",\"subtype\":\"Figure\",\"type\":\"Plot\"},\"ticker\":{\"id\":\"790e6f32-3ec7-40f4-b8f7-ad19f17d8483\",\"type\":\"BasicTicker\"}},\"id\":\"bf7ef291-e009-4c67-8750-9f76a0dd1d3c\",\"type\":\"Grid\"},{\"attributes\":{\"plot\":null,\"text\":null},\"id\":\"1911e508-efe1-4c16-ac9f-2ea78f8533d8\",\"type\":\"Title\"},{\"attributes\":{\"fill_alpha\":{\"value\":0.1},\"fill_color\":{\"value\":\"#1f77b4\"},\"line_alpha\":{\"value\":0.1},\"line_color\":{\"value\":\"#1f77b4\"},\"size\":{\"units\":\"screen\",\"value\":10},\"x\":{\"field\":\"x\"},\"y\":{\"field\":\"y\"}},\"id\":\"1ec358b1-01d3-40a0-bf3a-013eec123c1e\",\"type\":\"Circle\"},{\"attributes\":{},\"id\":\"34869079-fbe0-4cea-b79f-32cce595dadd\",\"type\":\"BasicTickFormatter\"},{\"attributes\":{\"below\":[{\"id\":\"4daca9f0-febd-4f80-880c-c0d6863ecdd8\",\"type\":\"LinearAxis\"}],\"left\":[{\"id\":\"b88b363f-25fa-4134-95c6-f1b6b0135614\",\"type\":\"LinearAxis\"}],\"renderers\":[{\"id\":\"4daca9f0-febd-4f80-880c-c0d6863ecdd8\",\"type\":\"LinearAxis\"},{\"id\":\"f8f2663e-33fb-4ac9-b5b5-1a2cd0290116\",\"type\":\"Grid\"},{\"id\":\"b88b363f-25fa-4134-95c6-f1b6b0135614\",\"type\":\"LinearAxis\"},{\"id\":\"bf7ef291-e009-4c67-8750-9f76a0dd1d3c\",\"type\":\"Grid\"},{\"id\":\"9ed3a3e3-faed-488f-a24e-3f62b8837b35\",\"type\":\"TileRenderer\"},{\"id\":\"b1ad4444-8690-4efd-89cc-ae39c760e5f2\",\"type\":\"GlyphRenderer\"}],\"title\":{\"id\":\"1911e508-efe1-4c16-ac9f-2ea78f8533d8\",\"type\":\"Title\"},\"tool_events\":{\"id\":\"26cde3d6-1e01-46c7-b3aa-d7cdda00b0c1\",\"type\":\"ToolEvents\"},\"toolbar\":{\"id\":\"e8d59e41-f784-48ba-8bf8-c89dc99a058f\",\"type\":\"Toolbar\"},\"x_range\":{\"id\":\"155d0544-4cb2-47c4-970f-9ef5897bee4d\",\"type\":\"Range1d\"},\"y_range\":{\"id\":\"40d6cd5c-8f20-4d08-ba25-c30170c34c36\",\"type\":\"Range1d\"}},\"id\":\"f3fde2b0-8a80-4d55-85d4-242044c4e064\",\"subtype\":\"Figure\",\"type\":\"Plot\"},{\"attributes\":{\"callback\":null,\"end\":6455972,\"start\":2698291},\"id\":\"40d6cd5c-8f20-4d08-ba25-c30170c34c36\",\"type\":\"Range1d\"},{\"attributes\":{\"attribution\":\"Tiles from MapQuest\",\"url\":\"http://otile1.mqcdn.com/tiles/1.0.0/sat/{Z}/{X}/{Y}.jpg\"},\"id\":\"22036c25-8008-4e25-b14e-7f1214b7d6fe\",\"type\":\"WMTSTileSource\"},{\"attributes\":{},\"id\":\"f0110327-777a-4a5f-84c2-36175074bd2f\",\"type\":\"BasicTicker\"},{\"attributes\":{\"plot\":{\"id\":\"f3fde2b0-8a80-4d55-85d4-242044c4e064\",\"subtype\":\"Figure\",\"type\":\"Plot\"}},\"id\":\"3a81d523-6086-4200-91e6-4923f3830bec\",\"type\":\"PanTool\"},{\"attributes\":{\"data_source\":{\"id\":\"51eac440-6717-4880-a2b8-7fd62ffc6f43\",\"type\":\"ColumnDataSource\"},\"glyph\":{\"id\":\"261eef1c-136a-40e9-a8c8-b9ca80b7fc2c\",\"type\":\"Circle\"},\"hover_glyph\":null,\"nonselection_glyph\":{\"id\":\"1ec358b1-01d3-40a0-bf3a-013eec123c1e\",\"type\":\"Circle\"},\"selection_glyph\":null},\"id\":\"b1ad4444-8690-4efd-89cc-ae39c760e5f2\",\"type\":\"GlyphRenderer\"},{\"attributes\":{},\"id\":\"790e6f32-3ec7-40f4-b8f7-ad19f17d8483\",\"type\":\"BasicTicker\"},{\"attributes\":{\"fill_color\":{\"value\":\"blue\"},\"line_color\":{\"value\":\"#1f77b4\"},\"size\":{\"units\":\"screen\",\"value\":10},\"x\":{\"field\":\"x\"},\"y\":{\"field\":\"y\"}},\"id\":\"261eef1c-136a-40e9-a8c8-b9ca80b7fc2c\",\"type\":\"Circle\"},{\"attributes\":{\"formatter\":{\"id\":\"34869079-fbe0-4cea-b79f-32cce595dadd\",\"type\":\"BasicTickFormatter\"},\"plot\":{\"id\":\"f3fde2b0-8a80-4d55-85d4-242044c4e064\",\"subtype\":\"Figure\",\"type\":\"Plot\"},\"ticker\":{\"id\":\"f0110327-777a-4a5f-84c2-36175074bd2f\",\"type\":\"BasicTicker\"},\"visible\":false},\"id\":\"4daca9f0-febd-4f80-880c-c0d6863ecdd8\",\"type\":\"LinearAxis\"},{\"attributes\":{\"plot\":{\"id\":\"f3fde2b0-8a80-4d55-85d4-242044c4e064\",\"subtype\":\"Figure\",\"type\":\"Plot\"}},\"id\":\"a020267a-84bb-4c53-8b13-489b923b534e\",\"type\":\"WheelZoomTool\"},{\"attributes\":{\"callback\":null,\"column_names\":[\"y\",\"x\"],\"data\":{\"x\":[-10880712.12055602,-8238299.103697925],\"y\":[3537942.358326604,4970071.579142428]}},\"id\":\"51eac440-6717-4880-a2b8-7fd62ffc6f43\",\"type\":\"ColumnDataSource\"},{\"attributes\":{},\"id\":\"26cde3d6-1e01-46c7-b3aa-d7cdda00b0c1\",\"type\":\"ToolEvents\"},{\"attributes\":{\"callback\":null,\"end\":-7453304,\"start\":-13884029},\"id\":\"155d0544-4cb2-47c4-970f-9ef5897bee4d\",\"type\":\"Range1d\"},{\"attributes\":{},\"id\":\"3e5466ef-bced-4f83-8eba-bc16fcb563b6\",\"type\":\"BasicTickFormatter\"},{\"attributes\":{\"active_drag\":\"auto\",\"active_scroll\":\"auto\",\"active_tap\":\"auto\",\"tools\":[{\"id\":\"3a81d523-6086-4200-91e6-4923f3830bec\",\"type\":\"PanTool\"},{\"id\":\"a020267a-84bb-4c53-8b13-489b923b534e\",\"type\":\"WheelZoomTool\"}]},\"id\":\"e8d59e41-f784-48ba-8bf8-c89dc99a058f\",\"type\":\"Toolbar\"}],\"root_ids\":[\"f3fde2b0-8a80-4d55-85d4-242044c4e064\"]},\"title\":\"Bokeh Application\",\"version\":\"0.12.1\"}};\n",
       "            var render_items = [{\"docid\":\"7b5d9393-6058-4406-a1fc-bffca34b7c29\",\"elementid\":\"474d3fee-3c98-4ef3-909d-9d55f9e90105\",\"modelid\":\"f3fde2b0-8a80-4d55-85d4-242044c4e064\",\"notebook_comms_target\":\"f016284d-1370-444a-8a22-14822c67f92b\"}];\n",
       "            \n",
       "            Bokeh.embed.embed_items(docs_json, render_items);\n",
       "        });\n",
       "      },\n",
       "      function(Bokeh) {\n",
       "      }\n",
       "    ];\n",
       "  \n",
       "    function run_inline_js() {\n",
       "      for (var i = 0; i < inline_js.length; i++) {\n",
       "        inline_js[i](window.Bokeh);\n",
       "      }\n",
       "    }\n",
       "  \n",
       "    if (window._bokeh_is_loading === 0) {\n",
       "      console.log(\"Bokeh: BokehJS loaded, going straight to plotting\");\n",
       "      run_inline_js();\n",
       "    } else {\n",
       "      load_libs(js_urls, function() {\n",
       "        console.log(\"Bokeh: BokehJS plotting callback run at\", now());\n",
       "        run_inline_js();\n",
       "      });\n",
       "    }\n",
       "  }(this));\n",
       "</script>"
      ]
     },
     "metadata": {},
     "output_type": "display_data"
    },
    {
     "data": {
      "text/html": [
       "<p><code>&lt;Bokeh Notebook handle for <strong>In[17]</strong>&gt;</code></p>"
      ],
      "text/plain": [
       "<bokeh.io._CommsHandle at 0x10b9906d0>"
      ]
     },
     "execution_count": 6,
     "metadata": {},
     "output_type": "execute_result"
    }
   ],
   "source": [
    "show(fig)"
   ]
  },
  {
   "cell_type": "markdown",
   "metadata": {},
   "source": [
    "That's all it takes to put map data into your plot!  Of course, you'll usually want to show other data as well, or you could just use the tile server's own web address. You can now add anything you would normally use in a Bokeh plot, as long as you can obtain coordinates for it in Web Mercator format.  For example:"
   ]
  },
  {
   "cell_type": "code",
   "execution_count": 4,
   "metadata": {
    "collapsed": false
   },
   "outputs": [
    {
     "data": {
      "text/html": [
       "<div>\n",
       "<table border=\"1\" class=\"dataframe\">\n",
       "  <thead>\n",
       "    <tr style=\"text-align: right;\">\n",
       "      <th></th>\n",
       "      <th>lat</th>\n",
       "      <th>lon</th>\n",
       "      <th>name</th>\n",
       "      <th>x</th>\n",
       "      <th>y</th>\n",
       "    </tr>\n",
       "  </thead>\n",
       "  <tbody>\n",
       "    <tr>\n",
       "      <th>0</th>\n",
       "      <td>30.2672</td>\n",
       "      <td>-97.7431</td>\n",
       "      <td>Austin</td>\n",
       "      <td>-1.088071e+07</td>\n",
       "      <td>3.537942e+06</td>\n",
       "    </tr>\n",
       "    <tr>\n",
       "      <th>1</th>\n",
       "      <td>40.7128</td>\n",
       "      <td>-74.0059</td>\n",
       "      <td>NYC</td>\n",
       "      <td>-8.238299e+06</td>\n",
       "      <td>4.970072e+06</td>\n",
       "    </tr>\n",
       "  </tbody>\n",
       "</table>\n",
       "</div>"
      ],
      "text/plain": [
       "       lat      lon    name             x             y\n",
       "0  30.2672 -97.7431  Austin -1.088071e+07  3.537942e+06\n",
       "1  40.7128 -74.0059     NYC -8.238299e+06  4.970072e+06"
      ]
     },
     "execution_count": 4,
     "metadata": {},
     "output_type": "execute_result"
    }
   ],
   "source": [
    "import pandas as pd\n",
    "import numpy as np\n",
    "\n",
    "def wgs84_to_web_mercator(df, lon=\"lon\", lat=\"lat\"):\n",
    "    \"\"\"Converts decimal longitude/latitude to Web Mercator format\"\"\"\n",
    "    k = 6378137\n",
    "    df[\"x\"] = df[lon] * (k * np.pi/180.0)\n",
    "    df[\"y\"] = np.log(np.tan((90 + df[lat]) * np.pi/360.0)) * k\n",
    "    return df\n",
    "\n",
    "df = pd.DataFrame(dict(name=[\"Austin\",\"NYC\"],lon=[-97.7431,-74.0059],lat=[30.2672,40.7128]))\n",
    "wgs84_to_web_mercator(df)"
   ]
  },
  {
   "cell_type": "code",
   "execution_count": 5,
   "metadata": {
    "collapsed": false
   },
   "outputs": [
    {
     "data": {
      "text/html": [
       "\n",
       "\n",
       "    <div class=\"bk-root\">\n",
       "        <div class=\"plotdiv\" id=\"606e8fa6-e32c-4865-8a04-471449eb092d\"></div>\n",
       "    </div>\n",
       "<script type=\"text/javascript\">\n",
       "  \n",
       "  (function(global) {\n",
       "    function now() {\n",
       "      return new Date();\n",
       "    }\n",
       "  \n",
       "    var force = \"\";\n",
       "  \n",
       "    if (typeof (window._bokeh_onload_callbacks) === \"undefined\" || force !== \"\") {\n",
       "      window._bokeh_onload_callbacks = [];\n",
       "      window._bokeh_is_loading = undefined;\n",
       "    }\n",
       "  \n",
       "    function run_callbacks() {\n",
       "      window._bokeh_onload_callbacks.forEach(function(callback) { callback() });\n",
       "      delete window._bokeh_onload_callbacks\n",
       "      console.info(\"Bokeh: all callbacks have finished\");\n",
       "    }\n",
       "  \n",
       "    function load_libs(js_urls, callback) {\n",
       "      window._bokeh_onload_callbacks.push(callback);\n",
       "      if (window._bokeh_is_loading > 0) {\n",
       "        console.log(\"Bokeh: BokehJS is being loaded, scheduling callback at\", now());\n",
       "        return null;\n",
       "      }\n",
       "      if (js_urls == null || js_urls.length === 0) {\n",
       "        run_callbacks();\n",
       "        return null;\n",
       "      }\n",
       "      console.log(\"Bokeh: BokehJS not loaded, scheduling load and callback at\", now());\n",
       "      window._bokeh_is_loading = js_urls.length;\n",
       "      for (var i = 0; i < js_urls.length; i++) {\n",
       "        var url = js_urls[i];\n",
       "        var s = document.createElement('script');\n",
       "        s.src = url;\n",
       "        s.async = false;\n",
       "        s.onreadystatechange = s.onload = function() {\n",
       "          window._bokeh_is_loading--;\n",
       "          if (window._bokeh_is_loading === 0) {\n",
       "            console.log(\"Bokeh: all BokehJS libraries loaded\");\n",
       "            run_callbacks()\n",
       "          }\n",
       "        };\n",
       "        s.onerror = function() {\n",
       "          console.warn(\"failed to load library \" + url);\n",
       "        };\n",
       "        console.log(\"Bokeh: injecting script tag for BokehJS library: \", url);\n",
       "        document.getElementsByTagName(\"head\")[0].appendChild(s);\n",
       "      }\n",
       "    };var element = document.getElementById(\"606e8fa6-e32c-4865-8a04-471449eb092d\");\n",
       "    if (element == null) {\n",
       "      console.log(\"Bokeh: ERROR: autoload.js configured with elementid '606e8fa6-e32c-4865-8a04-471449eb092d' but no matching script tag was found. \")\n",
       "      return false;\n",
       "    }\n",
       "  \n",
       "    var js_urls = [];\n",
       "  \n",
       "    var inline_js = [\n",
       "      function(Bokeh) {\n",
       "        Bokeh.$(function() {\n",
       "            var docs_json = {\"03c74874-c7b1-4a3b-8c08-fa01a220c0a4\":{\"roots\":{\"references\":[{\"attributes\":{\"tile_source\":{\"id\":\"22036c25-8008-4e25-b14e-7f1214b7d6fe\",\"type\":\"WMTSTileSource\"}},\"id\":\"9ed3a3e3-faed-488f-a24e-3f62b8837b35\",\"type\":\"TileRenderer\"},{\"attributes\":{\"formatter\":{\"id\":\"3e5466ef-bced-4f83-8eba-bc16fcb563b6\",\"type\":\"BasicTickFormatter\"},\"plot\":{\"id\":\"f3fde2b0-8a80-4d55-85d4-242044c4e064\",\"subtype\":\"Figure\",\"type\":\"Plot\"},\"ticker\":{\"id\":\"790e6f32-3ec7-40f4-b8f7-ad19f17d8483\",\"type\":\"BasicTicker\"},\"visible\":false},\"id\":\"b88b363f-25fa-4134-95c6-f1b6b0135614\",\"type\":\"LinearAxis\"},{\"attributes\":{\"plot\":{\"id\":\"f3fde2b0-8a80-4d55-85d4-242044c4e064\",\"subtype\":\"Figure\",\"type\":\"Plot\"},\"ticker\":{\"id\":\"f0110327-777a-4a5f-84c2-36175074bd2f\",\"type\":\"BasicTicker\"}},\"id\":\"f8f2663e-33fb-4ac9-b5b5-1a2cd0290116\",\"type\":\"Grid\"},{\"attributes\":{\"dimension\":1,\"plot\":{\"id\":\"f3fde2b0-8a80-4d55-85d4-242044c4e064\",\"subtype\":\"Figure\",\"type\":\"Plot\"},\"ticker\":{\"id\":\"790e6f32-3ec7-40f4-b8f7-ad19f17d8483\",\"type\":\"BasicTicker\"}},\"id\":\"bf7ef291-e009-4c67-8750-9f76a0dd1d3c\",\"type\":\"Grid\"},{\"attributes\":{\"plot\":null,\"text\":null},\"id\":\"1911e508-efe1-4c16-ac9f-2ea78f8533d8\",\"type\":\"Title\"},{\"attributes\":{\"fill_alpha\":{\"value\":0.1},\"fill_color\":{\"value\":\"#1f77b4\"},\"line_alpha\":{\"value\":0.1},\"line_color\":{\"value\":\"#1f77b4\"},\"size\":{\"units\":\"screen\",\"value\":10},\"x\":{\"field\":\"x\"},\"y\":{\"field\":\"y\"}},\"id\":\"1ec358b1-01d3-40a0-bf3a-013eec123c1e\",\"type\":\"Circle\"},{\"attributes\":{},\"id\":\"34869079-fbe0-4cea-b79f-32cce595dadd\",\"type\":\"BasicTickFormatter\"},{\"attributes\":{\"below\":[{\"id\":\"4daca9f0-febd-4f80-880c-c0d6863ecdd8\",\"type\":\"LinearAxis\"}],\"left\":[{\"id\":\"b88b363f-25fa-4134-95c6-f1b6b0135614\",\"type\":\"LinearAxis\"}],\"renderers\":[{\"id\":\"4daca9f0-febd-4f80-880c-c0d6863ecdd8\",\"type\":\"LinearAxis\"},{\"id\":\"f8f2663e-33fb-4ac9-b5b5-1a2cd0290116\",\"type\":\"Grid\"},{\"id\":\"b88b363f-25fa-4134-95c6-f1b6b0135614\",\"type\":\"LinearAxis\"},{\"id\":\"bf7ef291-e009-4c67-8750-9f76a0dd1d3c\",\"type\":\"Grid\"},{\"id\":\"9ed3a3e3-faed-488f-a24e-3f62b8837b35\",\"type\":\"TileRenderer\"},{\"id\":\"b1ad4444-8690-4efd-89cc-ae39c760e5f2\",\"type\":\"GlyphRenderer\"}],\"title\":{\"id\":\"1911e508-efe1-4c16-ac9f-2ea78f8533d8\",\"type\":\"Title\"},\"tool_events\":{\"id\":\"26cde3d6-1e01-46c7-b3aa-d7cdda00b0c1\",\"type\":\"ToolEvents\"},\"toolbar\":{\"id\":\"e8d59e41-f784-48ba-8bf8-c89dc99a058f\",\"type\":\"Toolbar\"},\"x_range\":{\"id\":\"155d0544-4cb2-47c4-970f-9ef5897bee4d\",\"type\":\"Range1d\"},\"y_range\":{\"id\":\"40d6cd5c-8f20-4d08-ba25-c30170c34c36\",\"type\":\"Range1d\"}},\"id\":\"f3fde2b0-8a80-4d55-85d4-242044c4e064\",\"subtype\":\"Figure\",\"type\":\"Plot\"},{\"attributes\":{\"callback\":null,\"end\":6455972,\"start\":2698291},\"id\":\"40d6cd5c-8f20-4d08-ba25-c30170c34c36\",\"type\":\"Range1d\"},{\"attributes\":{\"attribution\":\"Tiles from MapQuest\",\"url\":\"http://otile1.mqcdn.com/tiles/1.0.0/sat/{Z}/{X}/{Y}.jpg\"},\"id\":\"22036c25-8008-4e25-b14e-7f1214b7d6fe\",\"type\":\"WMTSTileSource\"},{\"attributes\":{},\"id\":\"f0110327-777a-4a5f-84c2-36175074bd2f\",\"type\":\"BasicTicker\"},{\"attributes\":{\"plot\":{\"id\":\"f3fde2b0-8a80-4d55-85d4-242044c4e064\",\"subtype\":\"Figure\",\"type\":\"Plot\"}},\"id\":\"3a81d523-6086-4200-91e6-4923f3830bec\",\"type\":\"PanTool\"},{\"attributes\":{\"data_source\":{\"id\":\"51eac440-6717-4880-a2b8-7fd62ffc6f43\",\"type\":\"ColumnDataSource\"},\"glyph\":{\"id\":\"261eef1c-136a-40e9-a8c8-b9ca80b7fc2c\",\"type\":\"Circle\"},\"hover_glyph\":null,\"nonselection_glyph\":{\"id\":\"1ec358b1-01d3-40a0-bf3a-013eec123c1e\",\"type\":\"Circle\"},\"selection_glyph\":null},\"id\":\"b1ad4444-8690-4efd-89cc-ae39c760e5f2\",\"type\":\"GlyphRenderer\"},{\"attributes\":{},\"id\":\"790e6f32-3ec7-40f4-b8f7-ad19f17d8483\",\"type\":\"BasicTicker\"},{\"attributes\":{\"fill_color\":{\"value\":\"blue\"},\"line_color\":{\"value\":\"#1f77b4\"},\"size\":{\"units\":\"screen\",\"value\":10},\"x\":{\"field\":\"x\"},\"y\":{\"field\":\"y\"}},\"id\":\"261eef1c-136a-40e9-a8c8-b9ca80b7fc2c\",\"type\":\"Circle\"},{\"attributes\":{\"formatter\":{\"id\":\"34869079-fbe0-4cea-b79f-32cce595dadd\",\"type\":\"BasicTickFormatter\"},\"plot\":{\"id\":\"f3fde2b0-8a80-4d55-85d4-242044c4e064\",\"subtype\":\"Figure\",\"type\":\"Plot\"},\"ticker\":{\"id\":\"f0110327-777a-4a5f-84c2-36175074bd2f\",\"type\":\"BasicTicker\"},\"visible\":false},\"id\":\"4daca9f0-febd-4f80-880c-c0d6863ecdd8\",\"type\":\"LinearAxis\"},{\"attributes\":{\"plot\":{\"id\":\"f3fde2b0-8a80-4d55-85d4-242044c4e064\",\"subtype\":\"Figure\",\"type\":\"Plot\"}},\"id\":\"a020267a-84bb-4c53-8b13-489b923b534e\",\"type\":\"WheelZoomTool\"},{\"attributes\":{\"callback\":null,\"column_names\":[\"y\",\"x\"],\"data\":{\"x\":[-10880712.12055602,-8238299.103697925],\"y\":[3537942.358326604,4970071.579142428]}},\"id\":\"51eac440-6717-4880-a2b8-7fd62ffc6f43\",\"type\":\"ColumnDataSource\"},{\"attributes\":{},\"id\":\"26cde3d6-1e01-46c7-b3aa-d7cdda00b0c1\",\"type\":\"ToolEvents\"},{\"attributes\":{\"callback\":null,\"end\":-7453304,\"start\":-13884029},\"id\":\"155d0544-4cb2-47c4-970f-9ef5897bee4d\",\"type\":\"Range1d\"},{\"attributes\":{},\"id\":\"3e5466ef-bced-4f83-8eba-bc16fcb563b6\",\"type\":\"BasicTickFormatter\"},{\"attributes\":{\"active_drag\":\"auto\",\"active_scroll\":\"auto\",\"active_tap\":\"auto\",\"tools\":[{\"id\":\"3a81d523-6086-4200-91e6-4923f3830bec\",\"type\":\"PanTool\"},{\"id\":\"a020267a-84bb-4c53-8b13-489b923b534e\",\"type\":\"WheelZoomTool\"}]},\"id\":\"e8d59e41-f784-48ba-8bf8-c89dc99a058f\",\"type\":\"Toolbar\"}],\"root_ids\":[\"f3fde2b0-8a80-4d55-85d4-242044c4e064\"]},\"title\":\"Bokeh Application\",\"version\":\"0.12.1\"}};\n",
       "            var render_items = [{\"docid\":\"03c74874-c7b1-4a3b-8c08-fa01a220c0a4\",\"elementid\":\"606e8fa6-e32c-4865-8a04-471449eb092d\",\"modelid\":\"f3fde2b0-8a80-4d55-85d4-242044c4e064\",\"notebook_comms_target\":\"c81587ae-7378-45db-8358-aec9eaae7fff\"}];\n",
       "            \n",
       "            Bokeh.embed.embed_items(docs_json, render_items);\n",
       "        });\n",
       "      },\n",
       "      function(Bokeh) {\n",
       "      }\n",
       "    ];\n",
       "  \n",
       "    function run_inline_js() {\n",
       "      for (var i = 0; i < inline_js.length; i++) {\n",
       "        inline_js[i](window.Bokeh);\n",
       "      }\n",
       "    }\n",
       "  \n",
       "    if (window._bokeh_is_loading === 0) {\n",
       "      console.log(\"Bokeh: BokehJS loaded, going straight to plotting\");\n",
       "      run_inline_js();\n",
       "    } else {\n",
       "      load_libs(js_urls, function() {\n",
       "        console.log(\"Bokeh: BokehJS plotting callback run at\", now());\n",
       "        run_inline_js();\n",
       "      });\n",
       "    }\n",
       "  }(this));\n",
       "</script>"
      ]
     },
     "metadata": {},
     "output_type": "display_data"
    },
    {
     "data": {
      "text/html": [
       "<p><code>&lt;Bokeh Notebook handle for <strong>In[5]</strong>&gt;</code></p>"
      ],
      "text/plain": [
       "<bokeh.io._CommsHandle at 0x104512c90>"
      ]
     },
     "execution_count": 5,
     "metadata": {},
     "output_type": "execute_result"
    }
   ],
   "source": [
    "fig.circle(x=df['x'], y=df['y'],fill_color='blue', size=10)\n",
    "show(fig)"
   ]
  },
  {
   "cell_type": "code",
   "execution_count": 10,
   "metadata": {
    "collapsed": true
   },
   "outputs": [],
   "source": [
    "### EXERCISE: find some data in lat, lon (e.g. at http://data.gov), \n",
    "### import it into a dataframe or data source, and add it on the map above."
   ]
  },
  {
   "cell_type": "code",
   "execution_count": null,
   "metadata": {
    "collapsed": true
   },
   "outputs": [],
   "source": []
  }
 ],
 "metadata": {
  "kernelspec": {
   "display_name": "Python 2",
   "language": "python",
   "name": "python2"
  },
  "language_info": {
   "codemirror_mode": {
    "name": "ipython",
    "version": 2
   },
   "file_extension": ".py",
   "mimetype": "text/x-python",
   "name": "python",
   "nbconvert_exporter": "python",
   "pygments_lexer": "ipython2",
   "version": "2.7.12"
  }
 },
 "nbformat": 4,
 "nbformat_minor": 0
}
