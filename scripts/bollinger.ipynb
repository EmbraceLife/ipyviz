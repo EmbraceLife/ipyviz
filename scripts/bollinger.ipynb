{
 "cells": [
  {
   "cell_type": "code",
   "execution_count": 1,
   "metadata": {
    "collapsed": true
   },
   "outputs": [],
   "source": [
    "import numpy as np"
   ]
  },
  {
   "cell_type": "code",
   "execution_count": 9,
   "metadata": {
    "collapsed": false
   },
   "outputs": [],
   "source": [
    "from bokeh.plotting import figure, output_notebook, show\n",
    "from IPython.display import display\n",
    "import pandas as pd\n",
    "pd.set_option('display.max_rows', 10)\n",
    "pd.set_option('display.max_columns', 10)"
   ]
  },
  {
   "cell_type": "code",
   "execution_count": 10,
   "metadata": {
    "collapsed": false
   },
   "outputs": [
    {
     "data": {
      "text/html": [
       "\n",
       "    <div class=\"bk-root\">\n",
       "        <a href=\"http://bokeh.pydata.org\" target=\"_blank\" class=\"bk-logo bk-logo-small bk-logo-notebook\"></a>\n",
       "        <span id=\"2dbe516b-caac-4cad-8c97-dd4b4b58d502\">Loading BokehJS ...</span>\n",
       "    </div>"
      ]
     },
     "metadata": {},
     "output_type": "display_data"
    },
    {
     "data": {
      "application/javascript": [
       "\n",
       "(function(global) {\n",
       "  function now() {\n",
       "    return new Date();\n",
       "  }\n",
       "\n",
       "  var force = \"1\";\n",
       "\n",
       "  if (typeof (window._bokeh_onload_callbacks) === \"undefined\" || force !== \"\") {\n",
       "    window._bokeh_onload_callbacks = [];\n",
       "    window._bokeh_is_loading = undefined;\n",
       "  }\n",
       "\n",
       "  function run_callbacks() {\n",
       "    window._bokeh_onload_callbacks.forEach(function(callback) { callback() });\n",
       "    delete window._bokeh_onload_callbacks\n",
       "    console.info(\"Bokeh: all callbacks have finished\");\n",
       "  }\n",
       "\n",
       "  function load_libs(js_urls, callback) {\n",
       "    window._bokeh_onload_callbacks.push(callback);\n",
       "    if (window._bokeh_is_loading > 0) {\n",
       "      console.log(\"Bokeh: BokehJS is being loaded, scheduling callback at\", now());\n",
       "      return null;\n",
       "    }\n",
       "    if (js_urls == null || js_urls.length === 0) {\n",
       "      run_callbacks();\n",
       "      return null;\n",
       "    }\n",
       "    console.log(\"Bokeh: BokehJS not loaded, scheduling load and callback at\", now());\n",
       "    window._bokeh_is_loading = js_urls.length;\n",
       "    for (var i = 0; i < js_urls.length; i++) {\n",
       "      var url = js_urls[i];\n",
       "      var s = document.createElement('script');\n",
       "      s.src = url;\n",
       "      s.async = false;\n",
       "      s.onreadystatechange = s.onload = function() {\n",
       "        window._bokeh_is_loading--;\n",
       "        if (window._bokeh_is_loading === 0) {\n",
       "          console.log(\"Bokeh: all BokehJS libraries loaded\");\n",
       "          run_callbacks()\n",
       "        }\n",
       "      };\n",
       "      s.onerror = function() {\n",
       "        console.warn(\"failed to load library \" + url);\n",
       "      };\n",
       "      console.log(\"Bokeh: injecting script tag for BokehJS library: \", url);\n",
       "      document.getElementsByTagName(\"head\")[0].appendChild(s);\n",
       "    }\n",
       "  };\n",
       "\n",
       "  var js_urls = ['https://cdn.pydata.org/bokeh/release/bokeh-0.12.1.min.js', 'https://cdn.pydata.org/bokeh/release/bokeh-widgets-0.12.1.min.js', 'https://cdn.pydata.org/bokeh/release/bokeh-compiler-0.12.1.min.js'];\n",
       "\n",
       "  var inline_js = [\n",
       "    function(Bokeh) {\n",
       "      Bokeh.set_log_level(\"info\");\n",
       "    },\n",
       "    \n",
       "    function(Bokeh) {\n",
       "      \n",
       "      Bokeh.$(\"#2dbe516b-caac-4cad-8c97-dd4b4b58d502\").text(\"BokehJS successfully loaded\");\n",
       "      var kernel = Jupyter.notebook.kernel\n",
       "      if (kernel.execute !== undefined) {\n",
       "          kernel.execute(\"import bokeh.io; bokeh.io._nb_loaded = True\");\n",
       "      }\n",
       "    },\n",
       "    function(Bokeh) {\n",
       "      console.log(\"Bokeh: injecting CSS: https://cdn.pydata.org/bokeh/release/bokeh-0.12.1.min.css\");\n",
       "      Bokeh.embed.inject_css(\"https://cdn.pydata.org/bokeh/release/bokeh-0.12.1.min.css\");\n",
       "      console.log(\"Bokeh: injecting CSS: https://cdn.pydata.org/bokeh/release/bokeh-widgets-0.12.1.min.css\");\n",
       "      Bokeh.embed.inject_css(\"https://cdn.pydata.org/bokeh/release/bokeh-widgets-0.12.1.min.css\");\n",
       "    }\n",
       "  ];\n",
       "\n",
       "  function run_inline_js() {\n",
       "    for (var i = 0; i < inline_js.length; i++) {\n",
       "      inline_js[i](window.Bokeh);\n",
       "    }\n",
       "  }\n",
       "\n",
       "  if (window._bokeh_is_loading === 0) {\n",
       "    console.log(\"Bokeh: BokehJS loaded, going straight to plotting\");\n",
       "    run_inline_js();\n",
       "  } else {\n",
       "    load_libs(js_urls, function() {\n",
       "      console.log(\"Bokeh: BokehJS plotting callback run at\", now());\n",
       "      run_inline_js();\n",
       "    });\n",
       "  }\n",
       "}(this));"
      ]
     },
     "metadata": {},
     "output_type": "display_data"
    }
   ],
   "source": [
    "output_notebook()"
   ]
  },
  {
   "cell_type": "code",
   "execution_count": 11,
   "metadata": {
    "collapsed": false
   },
   "outputs": [],
   "source": [
    "# define Bollinger bands\n",
    "upperband = np.random.randint(100, 150, size=100)\n",
    "lowerband = upperband - 100\n",
    "x_data = np.arange(1, 101)"
   ]
  },
  {
   "cell_type": "code",
   "execution_count": 14,
   "metadata": {
    "collapsed": false
   },
   "outputs": [
    {
     "data": {
      "text/plain": [
       "array([  1,   2,   3,   4,   5,   6,   7,   8,   9,  10,  11,  12,  13,\n",
       "        14,  15,  16,  17,  18,  19,  20,  21,  22,  23,  24,  25,  26,\n",
       "        27,  28,  29,  30,  31,  32,  33,  34,  35,  36,  37,  38,  39,\n",
       "        40,  41,  42,  43,  44,  45,  46,  47,  48,  49,  50,  51,  52,\n",
       "        53,  54,  55,  56,  57,  58,  59,  60,  61,  62,  63,  64,  65,\n",
       "        66,  67,  68,  69,  70,  71,  72,  73,  74,  75,  76,  77,  78,\n",
       "        79,  80,  81,  82,  83,  84,  85,  86,  87,  88,  89,  90,  91,\n",
       "        92,  93,  94,  95,  96,  97,  98,  99, 100, 100,  99,  98,  97,\n",
       "        96,  95,  94,  93,  92,  91,  90,  89,  88,  87,  86,  85,  84,\n",
       "        83,  82,  81,  80,  79,  78,  77,  76,  75,  74,  73,  72,  71,\n",
       "        70,  69,  68,  67,  66,  65,  64,  63,  62,  61,  60,  59,  58,\n",
       "        57,  56,  55,  54,  53,  52,  51,  50,  49,  48,  47,  46,  45,\n",
       "        44,  43,  42,  41,  40,  39,  38,  37,  36,  35,  34,  33,  32,\n",
       "        31,  30,  29,  28,  27,  26,  25,  24,  23,  22,  21,  20,  19,\n",
       "        18,  17,  16,  15,  14,  13,  12,  11,  10,   9,   8,   7,   6,\n",
       "         5,   4,   3,   2,   1])"
      ]
     },
     "metadata": {},
     "output_type": "display_data"
    },
    {
     "data": {
      "text/plain": [
       "array([ 15,  42,   2,  39,   4,   7,  11,  40,  14,   3,  25,  24,  48,\n",
       "        34,  48,  16,  35,   9,  39,  24,  20,  25,  25,  48,  17,  30,\n",
       "        44,  40,  40,  37,   3,   7,  19,  40,   6,   0,  44,  21,  20,\n",
       "        49,   4,  11,  46,   5,  29,   7,  34,  29,  22,  45,  28,   6,\n",
       "        29,   3,  33,  12,  41,  39,  16,  34,  45,  28,  29,  30,  35,\n",
       "        11,  19,  11,  37,  45,  15,  43,  18,   2,  22,  22,  34,  32,\n",
       "         0,  22,  46,  35,  33,  48,   1,  41,  11,  20,  13,  25,  26,\n",
       "         7,  38,  15,  10,  22,  45,  35,  39,  12, 112, 139, 135, 145,\n",
       "       122, 110, 115, 138, 107, 126, 125, 113, 120, 111, 141, 101, 148,\n",
       "       133, 135, 146, 122, 100, 132, 134, 122, 122, 102, 118, 143, 115,\n",
       "       145, 137, 111, 119, 111, 135, 130, 129, 128, 145, 134, 116, 139,\n",
       "       141, 112, 133, 103, 129, 106, 128, 145, 122, 129, 134, 107, 129,\n",
       "       105, 146, 111, 104, 149, 120, 121, 144, 100, 106, 140, 119, 107,\n",
       "       103, 137, 140, 140, 144, 130, 117, 148, 125, 125, 120, 124, 139,\n",
       "       109, 135, 116, 148, 134, 148, 124, 125, 103, 114, 140, 111, 107,\n",
       "       104, 139, 102, 142, 115])"
      ]
     },
     "metadata": {},
     "output_type": "display_data"
    }
   ],
   "source": [
    "# shading glyph for Bollinger bands\n",
    "band_x = np.append(x_data, x_data[::-1]) \n",
    "band_y = np.append(lowerband, upperband[::-1])  \n",
    "display(band_x)\n",
    "display(band_y)"
   ]
  },
  {
   "cell_type": "code",
   "execution_count": 15,
   "metadata": {
    "collapsed": true
   },
   "outputs": [],
   "source": [
    "p = figure(x_axis_type='datetime', title = 'Bollinger Bands')"
   ]
  },
  {
   "cell_type": "code",
   "execution_count": 16,
   "metadata": {
    "collapsed": true
   },
   "outputs": [],
   "source": [
    "p.x_range.range_padding = 0"
   ]
  },
  {
   "cell_type": "code",
   "execution_count": 17,
   "metadata": {
    "collapsed": false
   },
   "outputs": [],
   "source": [
    "p.plot_height = 600\n",
    "p.plot_width = 800\n",
    "p.grid.grid_line_alpha = 0.4"
   ]
  },
  {
   "cell_type": "code",
   "execution_count": 19,
   "metadata": {
    "collapsed": false
   },
   "outputs": [
    {
     "data": {
      "text/plain": [
       "<bokeh.models.renderers.GlyphRenderer at 0x10b9e6b10>"
      ]
     },
     "execution_count": 19,
     "metadata": {},
     "output_type": "execute_result"
    }
   ],
   "source": [
    "p.patch(band_x, band_y, color='#7570B3', fill_alpha=0.2)"
   ]
  },
  {
   "cell_type": "code",
   "execution_count": 20,
   "metadata": {
    "collapsed": false
   },
   "outputs": [
    {
     "data": {
      "text/html": [
       "\n",
       "\n",
       "    <div class=\"bk-root\">\n",
       "        <div class=\"plotdiv\" id=\"84d22418-4af5-42cb-baa7-4868a5ce6b3e\"></div>\n",
       "    </div>\n",
       "<script type=\"text/javascript\">\n",
       "  \n",
       "  (function(global) {\n",
       "    function now() {\n",
       "      return new Date();\n",
       "    }\n",
       "  \n",
       "    var force = \"\";\n",
       "  \n",
       "    if (typeof (window._bokeh_onload_callbacks) === \"undefined\" || force !== \"\") {\n",
       "      window._bokeh_onload_callbacks = [];\n",
       "      window._bokeh_is_loading = undefined;\n",
       "    }\n",
       "  \n",
       "    function run_callbacks() {\n",
       "      window._bokeh_onload_callbacks.forEach(function(callback) { callback() });\n",
       "      delete window._bokeh_onload_callbacks\n",
       "      console.info(\"Bokeh: all callbacks have finished\");\n",
       "    }\n",
       "  \n",
       "    function load_libs(js_urls, callback) {\n",
       "      window._bokeh_onload_callbacks.push(callback);\n",
       "      if (window._bokeh_is_loading > 0) {\n",
       "        console.log(\"Bokeh: BokehJS is being loaded, scheduling callback at\", now());\n",
       "        return null;\n",
       "      }\n",
       "      if (js_urls == null || js_urls.length === 0) {\n",
       "        run_callbacks();\n",
       "        return null;\n",
       "      }\n",
       "      console.log(\"Bokeh: BokehJS not loaded, scheduling load and callback at\", now());\n",
       "      window._bokeh_is_loading = js_urls.length;\n",
       "      for (var i = 0; i < js_urls.length; i++) {\n",
       "        var url = js_urls[i];\n",
       "        var s = document.createElement('script');\n",
       "        s.src = url;\n",
       "        s.async = false;\n",
       "        s.onreadystatechange = s.onload = function() {\n",
       "          window._bokeh_is_loading--;\n",
       "          if (window._bokeh_is_loading === 0) {\n",
       "            console.log(\"Bokeh: all BokehJS libraries loaded\");\n",
       "            run_callbacks()\n",
       "          }\n",
       "        };\n",
       "        s.onerror = function() {\n",
       "          console.warn(\"failed to load library \" + url);\n",
       "        };\n",
       "        console.log(\"Bokeh: injecting script tag for BokehJS library: \", url);\n",
       "        document.getElementsByTagName(\"head\")[0].appendChild(s);\n",
       "      }\n",
       "    };var element = document.getElementById(\"84d22418-4af5-42cb-baa7-4868a5ce6b3e\");\n",
       "    if (element == null) {\n",
       "      console.log(\"Bokeh: ERROR: autoload.js configured with elementid '84d22418-4af5-42cb-baa7-4868a5ce6b3e' but no matching script tag was found. \")\n",
       "      return false;\n",
       "    }\n",
       "  \n",
       "    var js_urls = [];\n",
       "  \n",
       "    var inline_js = [\n",
       "      function(Bokeh) {\n",
       "        Bokeh.$(function() {\n",
       "            var docs_json = {\"0f85bb01-fd7a-4fe2-a27b-9e49a498b473\":{\"roots\":{\"references\":[{\"attributes\":{\"plot\":{\"id\":\"e237c7f8-6123-4742-af60-28ff0f31996b\",\"subtype\":\"Figure\",\"type\":\"Plot\"}},\"id\":\"a1928993-9a64-4a10-8e5d-975736a5a0a8\",\"type\":\"ResetTool\"},{\"attributes\":{},\"id\":\"72704de4-0131-413e-94e7-1341a1837983\",\"type\":\"YearsTicker\"},{\"attributes\":{\"base\":60,\"mantissas\":[1,2,5,10,15,20,30],\"max_interval\":1800000.0,\"min_interval\":1000.0,\"num_minor_ticks\":0},\"id\":\"53f5e1df-7b63-4641-a036-348626995c1d\",\"type\":\"AdaptiveTicker\"},{\"attributes\":{\"base\":24,\"mantissas\":[1,2,4,6,8,12],\"max_interval\":43200000.0,\"min_interval\":3600000.0,\"num_minor_ticks\":0},\"id\":\"d78a339f-c332-4a03-85ca-3d8aacb32db0\",\"type\":\"AdaptiveTicker\"},{\"attributes\":{\"data_source\":{\"id\":\"04f1c441-fbef-409a-b758-0d8c8947a5cc\",\"type\":\"ColumnDataSource\"},\"glyph\":{\"id\":\"8c8b15ff-f4eb-4176-97d8-9963854b241e\",\"type\":\"Patch\"},\"hover_glyph\":null,\"nonselection_glyph\":{\"id\":\"e74f2a61-36b8-477b-be52-4e4f9e829d50\",\"type\":\"Patch\"},\"selection_glyph\":null},\"id\":\"4f6f139d-4f32-4ebb-8cec-3aff71a6057b\",\"type\":\"GlyphRenderer\"},{\"attributes\":{\"months\":[0,4,8]},\"id\":\"051c492d-efae-4db3-b41e-bbe897a47df2\",\"type\":\"MonthsTicker\"},{\"attributes\":{\"overlay\":{\"id\":\"c519cb95-4041-46d5-a81c-6feefaad3510\",\"type\":\"BoxAnnotation\"},\"plot\":{\"id\":\"e237c7f8-6123-4742-af60-28ff0f31996b\",\"subtype\":\"Figure\",\"type\":\"Plot\"}},\"id\":\"983a209a-461b-4ba0-81a0-ef170db58e9a\",\"type\":\"BoxZoomTool\"},{\"attributes\":{\"months\":[0,6]},\"id\":\"2b098ae9-2eeb-48e4-86e0-6250d28bb0be\",\"type\":\"MonthsTicker\"},{\"attributes\":{\"grid_line_alpha\":{\"value\":0.4},\"plot\":{\"id\":\"e237c7f8-6123-4742-af60-28ff0f31996b\",\"subtype\":\"Figure\",\"type\":\"Plot\"},\"ticker\":{\"id\":\"88f22b47-d690-42e6-8a97-909f82d5338c\",\"type\":\"DatetimeTicker\"}},\"id\":\"55bd9087-7922-4ea1-b681-9441eda18c5d\",\"type\":\"Grid\"},{\"attributes\":{\"max_interval\":500.0,\"num_minor_ticks\":0},\"id\":\"f21c9d5c-cc3e-4c01-8629-67a0b002846e\",\"type\":\"AdaptiveTicker\"},{\"attributes\":{\"fill_alpha\":{\"value\":0.2},\"fill_color\":{\"value\":\"#7570B3\"},\"line_color\":{\"value\":\"#7570B3\"},\"x\":{\"field\":\"x\"},\"y\":{\"field\":\"y\"}},\"id\":\"94c6c5f4-8eb7-4835-9dd2-dc034918133a\",\"type\":\"Patch\"},{\"attributes\":{},\"id\":\"4457a5a6-fcdb-4ec1-a09a-812c99706cc0\",\"type\":\"BasicTickFormatter\"},{\"attributes\":{\"formatter\":{\"id\":\"4457a5a6-fcdb-4ec1-a09a-812c99706cc0\",\"type\":\"BasicTickFormatter\"},\"plot\":{\"id\":\"e237c7f8-6123-4742-af60-28ff0f31996b\",\"subtype\":\"Figure\",\"type\":\"Plot\"},\"ticker\":{\"id\":\"cbefda8f-04ea-41ea-b962-00383122a33e\",\"type\":\"BasicTicker\"}},\"id\":\"d3a68392-0151-43f3-b0a3-dd891b77b1e8\",\"type\":\"LinearAxis\"},{\"attributes\":{\"fill_alpha\":{\"value\":0.1},\"fill_color\":{\"value\":\"#1f77b4\"},\"line_alpha\":{\"value\":0.1},\"line_color\":{\"value\":\"#1f77b4\"},\"x\":{\"field\":\"x\"},\"y\":{\"field\":\"y\"}},\"id\":\"e74f2a61-36b8-477b-be52-4e4f9e829d50\",\"type\":\"Patch\"},{\"attributes\":{\"callback\":null,\"column_names\":[\"y\",\"x\"],\"data\":{\"x\":[1,2,3,4,5,6,7,8,9,10,11,12,13,14,15,16,17,18,19,20,21,22,23,24,25,26,27,28,29,30,31,32,33,34,35,36,37,38,39,40,41,42,43,44,45,46,47,48,49,50,51,52,53,54,55,56,57,58,59,60,61,62,63,64,65,66,67,68,69,70,71,72,73,74,75,76,77,78,79,80,81,82,83,84,85,86,87,88,89,90,91,92,93,94,95,96,97,98,99,100,100,99,98,97,96,95,94,93,92,91,90,89,88,87,86,85,84,83,82,81,80,79,78,77,76,75,74,73,72,71,70,69,68,67,66,65,64,63,62,61,60,59,58,57,56,55,54,53,52,51,50,49,48,47,46,45,44,43,42,41,40,39,38,37,36,35,34,33,32,31,30,29,28,27,26,25,24,23,22,21,20,19,18,17,16,15,14,13,12,11,10,9,8,7,6,5,4,3,2,1],\"y\":[15,42,2,39,4,7,11,40,14,3,25,24,48,34,48,16,35,9,39,24,20,25,25,48,17,30,44,40,40,37,3,7,19,40,6,0,44,21,20,49,4,11,46,5,29,7,34,29,22,45,28,6,29,3,33,12,41,39,16,34,45,28,29,30,35,11,19,11,37,45,15,43,18,2,22,22,34,32,0,22,46,35,33,48,1,41,11,20,13,25,26,7,38,15,10,22,45,35,39,12,112,139,135,145,122,110,115,138,107,126,125,113,120,111,141,101,148,133,135,146,122,100,132,134,122,122,102,118,143,115,145,137,111,119,111,135,130,129,128,145,134,116,139,141,112,133,103,129,106,128,145,122,129,134,107,129,105,146,111,104,149,120,121,144,100,106,140,119,107,103,137,140,140,144,130,117,148,125,125,120,124,139,109,135,116,148,134,148,124,125,103,114,140,111,107,104,139,102,142,115]}},\"id\":\"04f1c441-fbef-409a-b758-0d8c8947a5cc\",\"type\":\"ColumnDataSource\"},{\"attributes\":{\"plot\":{\"id\":\"e237c7f8-6123-4742-af60-28ff0f31996b\",\"subtype\":\"Figure\",\"type\":\"Plot\"}},\"id\":\"22ffb836-224d-40ed-90a5-723ca19b4bbe\",\"type\":\"WheelZoomTool\"},{\"attributes\":{\"months\":[0,2,4,6,8,10]},\"id\":\"84790408-e2e5-4384-adb3-f53f857c7099\",\"type\":\"MonthsTicker\"},{\"attributes\":{\"days\":[1,2,3,4,5,6,7,8,9,10,11,12,13,14,15,16,17,18,19,20,21,22,23,24,25,26,27,28,29,30,31]},\"id\":\"2d1a6dcd-0271-49d9-9568-989871d82c7b\",\"type\":\"DaysTicker\"},{\"attributes\":{\"months\":[0,1,2,3,4,5,6,7,8,9,10,11]},\"id\":\"388c52b5-9850-4ae9-a8c7-9f4926d89fbe\",\"type\":\"MonthsTicker\"},{\"attributes\":{},\"id\":\"cbefda8f-04ea-41ea-b962-00383122a33e\",\"type\":\"BasicTicker\"},{\"attributes\":{},\"id\":\"518380cb-339e-4bfc-8d62-24fbc6644e34\",\"type\":\"ToolEvents\"},{\"attributes\":{\"plot\":null,\"text\":\"Bollinger Bands\"},\"id\":\"85436c5b-bd52-4457-acd7-fb481ea6aeec\",\"type\":\"Title\"},{\"attributes\":{\"fill_alpha\":{\"value\":0.2},\"fill_color\":{\"value\":\"#7570B3\"},\"line_color\":{\"value\":\"#7570B3\"},\"x\":{\"field\":\"x\"},\"y\":{\"field\":\"y\"}},\"id\":\"8c8b15ff-f4eb-4176-97d8-9963854b241e\",\"type\":\"Patch\"},{\"attributes\":{\"fill_alpha\":{\"value\":0.1},\"fill_color\":{\"value\":\"#1f77b4\"},\"line_alpha\":{\"value\":0.1},\"line_color\":{\"value\":\"#1f77b4\"},\"x\":{\"field\":\"x\"},\"y\":{\"field\":\"y\"}},\"id\":\"b734a2e9-2090-4c02-aea0-8c8e2190181f\",\"type\":\"Patch\"},{\"attributes\":{\"callback\":null},\"id\":\"5bb95e1a-a735-475d-8eda-9904dc62af5f\",\"type\":\"DataRange1d\"},{\"attributes\":{\"active_drag\":\"auto\",\"active_scroll\":\"auto\",\"active_tap\":\"auto\",\"tools\":[{\"id\":\"ac2c506c-fd91-4c52-9899-87810074fd9d\",\"type\":\"PanTool\"},{\"id\":\"22ffb836-224d-40ed-90a5-723ca19b4bbe\",\"type\":\"WheelZoomTool\"},{\"id\":\"983a209a-461b-4ba0-81a0-ef170db58e9a\",\"type\":\"BoxZoomTool\"},{\"id\":\"5a5122d2-b7b2-44e5-b3ef-041a35ac8dc2\",\"type\":\"SaveTool\"},{\"id\":\"a1928993-9a64-4a10-8e5d-975736a5a0a8\",\"type\":\"ResetTool\"},{\"id\":\"06387d47-f3dd-4408-a203-dbc3f81052a8\",\"type\":\"HelpTool\"}]},\"id\":\"42785a2e-965d-4b02-a9d4-d4d8a3bcb7e5\",\"type\":\"Toolbar\"},{\"attributes\":{\"callback\":null,\"column_names\":[\"y\",\"x\"],\"data\":{\"x\":[1,2,3,4,5,6,7,8,9,10,11,12,13,14,15,16,17,18,19,20,21,22,23,24,25,26,27,28,29,30,31,32,33,34,35,36,37,38,39,40,41,42,43,44,45,46,47,48,49,50,51,52,53,54,55,56,57,58,59,60,61,62,63,64,65,66,67,68,69,70,71,72,73,74,75,76,77,78,79,80,81,82,83,84,85,86,87,88,89,90,91,92,93,94,95,96,97,98,99,100,100,99,98,97,96,95,94,93,92,91,90,89,88,87,86,85,84,83,82,81,80,79,78,77,76,75,74,73,72,71,70,69,68,67,66,65,64,63,62,61,60,59,58,57,56,55,54,53,52,51,50,49,48,47,46,45,44,43,42,41,40,39,38,37,36,35,34,33,32,31,30,29,28,27,26,25,24,23,22,21,20,19,18,17,16,15,14,13,12,11,10,9,8,7,6,5,4,3,2,1],\"y\":[15,42,2,39,4,7,11,40,14,3,25,24,48,34,48,16,35,9,39,24,20,25,25,48,17,30,44,40,40,37,3,7,19,40,6,0,44,21,20,49,4,11,46,5,29,7,34,29,22,45,28,6,29,3,33,12,41,39,16,34,45,28,29,30,35,11,19,11,37,45,15,43,18,2,22,22,34,32,0,22,46,35,33,48,1,41,11,20,13,25,26,7,38,15,10,22,45,35,39,12,112,139,135,145,122,110,115,138,107,126,125,113,120,111,141,101,148,133,135,146,122,100,132,134,122,122,102,118,143,115,145,137,111,119,111,135,130,129,128,145,134,116,139,141,112,133,103,129,106,128,145,122,129,134,107,129,105,146,111,104,149,120,121,144,100,106,140,119,107,103,137,140,140,144,130,117,148,125,125,120,124,139,109,135,116,148,134,148,124,125,103,114,140,111,107,104,139,102,142,115]}},\"id\":\"d725e4dc-2c7e-4c95-85f1-d2f9aa0f5bdf\",\"type\":\"ColumnDataSource\"},{\"attributes\":{\"days\":[1,8,15,22]},\"id\":\"d823b56c-becc-49ab-b563-8ed0be1cdaec\",\"type\":\"DaysTicker\"},{\"attributes\":{\"num_minor_ticks\":5},\"id\":\"88f22b47-d690-42e6-8a97-909f82d5338c\",\"type\":\"DatetimeTicker\"},{\"attributes\":{\"dimension\":1,\"grid_line_alpha\":{\"value\":0.4},\"plot\":{\"id\":\"e237c7f8-6123-4742-af60-28ff0f31996b\",\"subtype\":\"Figure\",\"type\":\"Plot\"},\"ticker\":{\"id\":\"cbefda8f-04ea-41ea-b962-00383122a33e\",\"type\":\"BasicTicker\"}},\"id\":\"7d4566e7-cd73-4a42-9cee-d35f45ebee0d\",\"type\":\"Grid\"},{\"attributes\":{\"below\":[{\"id\":\"2e42c4af-af32-4d56-812d-0c85f100bde5\",\"type\":\"DatetimeAxis\"}],\"left\":[{\"id\":\"d3a68392-0151-43f3-b0a3-dd891b77b1e8\",\"type\":\"LinearAxis\"}],\"plot_width\":800,\"renderers\":[{\"id\":\"2e42c4af-af32-4d56-812d-0c85f100bde5\",\"type\":\"DatetimeAxis\"},{\"id\":\"55bd9087-7922-4ea1-b681-9441eda18c5d\",\"type\":\"Grid\"},{\"id\":\"d3a68392-0151-43f3-b0a3-dd891b77b1e8\",\"type\":\"LinearAxis\"},{\"id\":\"7d4566e7-cd73-4a42-9cee-d35f45ebee0d\",\"type\":\"Grid\"},{\"id\":\"c519cb95-4041-46d5-a81c-6feefaad3510\",\"type\":\"BoxAnnotation\"},{\"id\":\"4f6f139d-4f32-4ebb-8cec-3aff71a6057b\",\"type\":\"GlyphRenderer\"},{\"id\":\"a9a3a2e0-c786-4dd0-81b3-f24dcb35f48a\",\"type\":\"GlyphRenderer\"}],\"title\":{\"id\":\"85436c5b-bd52-4457-acd7-fb481ea6aeec\",\"type\":\"Title\"},\"tool_events\":{\"id\":\"518380cb-339e-4bfc-8d62-24fbc6644e34\",\"type\":\"ToolEvents\"},\"toolbar\":{\"id\":\"42785a2e-965d-4b02-a9d4-d4d8a3bcb7e5\",\"type\":\"Toolbar\"},\"x_range\":{\"id\":\"d30bbab0-19b4-41db-98bd-ab09b7c6c785\",\"type\":\"DataRange1d\"},\"y_range\":{\"id\":\"5bb95e1a-a735-475d-8eda-9904dc62af5f\",\"type\":\"DataRange1d\"}},\"id\":\"e237c7f8-6123-4742-af60-28ff0f31996b\",\"subtype\":\"Figure\",\"type\":\"Plot\"},{\"attributes\":{},\"id\":\"784c80e2-c9a2-483d-be8c-eb5eed73b8c8\",\"type\":\"DatetimeTickFormatter\"},{\"attributes\":{\"days\":[1,15]},\"id\":\"fd617962-dabd-48e1-b849-d7fba70f6dab\",\"type\":\"DaysTicker\"},{\"attributes\":{\"plot\":{\"id\":\"e237c7f8-6123-4742-af60-28ff0f31996b\",\"subtype\":\"Figure\",\"type\":\"Plot\"}},\"id\":\"06387d47-f3dd-4408-a203-dbc3f81052a8\",\"type\":\"HelpTool\"},{\"attributes\":{\"formatter\":{\"id\":\"784c80e2-c9a2-483d-be8c-eb5eed73b8c8\",\"type\":\"DatetimeTickFormatter\"},\"plot\":{\"id\":\"e237c7f8-6123-4742-af60-28ff0f31996b\",\"subtype\":\"Figure\",\"type\":\"Plot\"},\"ticker\":{\"id\":\"88f22b47-d690-42e6-8a97-909f82d5338c\",\"type\":\"DatetimeTicker\"}},\"id\":\"2e42c4af-af32-4d56-812d-0c85f100bde5\",\"type\":\"DatetimeAxis\"},{\"attributes\":{\"plot\":{\"id\":\"e237c7f8-6123-4742-af60-28ff0f31996b\",\"subtype\":\"Figure\",\"type\":\"Plot\"}},\"id\":\"ac2c506c-fd91-4c52-9899-87810074fd9d\",\"type\":\"PanTool\"},{\"attributes\":{\"data_source\":{\"id\":\"d725e4dc-2c7e-4c95-85f1-d2f9aa0f5bdf\",\"type\":\"ColumnDataSource\"},\"glyph\":{\"id\":\"94c6c5f4-8eb7-4835-9dd2-dc034918133a\",\"type\":\"Patch\"},\"hover_glyph\":null,\"nonselection_glyph\":{\"id\":\"b734a2e9-2090-4c02-aea0-8c8e2190181f\",\"type\":\"Patch\"},\"selection_glyph\":null},\"id\":\"a9a3a2e0-c786-4dd0-81b3-f24dcb35f48a\",\"type\":\"GlyphRenderer\"},{\"attributes\":{\"plot\":{\"id\":\"e237c7f8-6123-4742-af60-28ff0f31996b\",\"subtype\":\"Figure\",\"type\":\"Plot\"}},\"id\":\"5a5122d2-b7b2-44e5-b3ef-041a35ac8dc2\",\"type\":\"SaveTool\"},{\"attributes\":{\"days\":[1,4,7,10,13,16,19,22,25,28]},\"id\":\"5238e979-0738-48e1-b697-9c331c775ac6\",\"type\":\"DaysTicker\"},{\"attributes\":{\"callback\":null,\"range_padding\":0},\"id\":\"d30bbab0-19b4-41db-98bd-ab09b7c6c785\",\"type\":\"DataRange1d\"},{\"attributes\":{\"bottom_units\":\"screen\",\"fill_alpha\":{\"value\":0.5},\"fill_color\":{\"value\":\"lightgrey\"},\"left_units\":\"screen\",\"level\":\"overlay\",\"line_alpha\":{\"value\":1.0},\"line_color\":{\"value\":\"black\"},\"line_dash\":[4,4],\"line_width\":{\"value\":2},\"plot\":null,\"render_mode\":\"css\",\"right_units\":\"screen\",\"top_units\":\"screen\"},\"id\":\"c519cb95-4041-46d5-a81c-6feefaad3510\",\"type\":\"BoxAnnotation\"}],\"root_ids\":[\"e237c7f8-6123-4742-af60-28ff0f31996b\"]},\"title\":\"Bokeh Application\",\"version\":\"0.12.1\"}};\n",
       "            var render_items = [{\"docid\":\"0f85bb01-fd7a-4fe2-a27b-9e49a498b473\",\"elementid\":\"84d22418-4af5-42cb-baa7-4868a5ce6b3e\",\"modelid\":\"e237c7f8-6123-4742-af60-28ff0f31996b\",\"notebook_comms_target\":\"fd65f5a9-d87d-4f92-ba74-38b324a774e7\"}];\n",
       "            \n",
       "            Bokeh.embed.embed_items(docs_json, render_items);\n",
       "        });\n",
       "      },\n",
       "      function(Bokeh) {\n",
       "      }\n",
       "    ];\n",
       "  \n",
       "    function run_inline_js() {\n",
       "      for (var i = 0; i < inline_js.length; i++) {\n",
       "        inline_js[i](window.Bokeh);\n",
       "      }\n",
       "    }\n",
       "  \n",
       "    if (window._bokeh_is_loading === 0) {\n",
       "      console.log(\"Bokeh: BokehJS loaded, going straight to plotting\");\n",
       "      run_inline_js();\n",
       "    } else {\n",
       "      load_libs(js_urls, function() {\n",
       "        console.log(\"Bokeh: BokehJS plotting callback run at\", now());\n",
       "        run_inline_js();\n",
       "      });\n",
       "    }\n",
       "  }(this));\n",
       "</script>"
      ]
     },
     "metadata": {},
     "output_type": "display_data"
    },
    {
     "data": {
      "text/html": [
       "<p><code>&lt;Bokeh Notebook handle for <strong>In[20]</strong>&gt;</code></p>"
      ],
      "text/plain": [
       "<bokeh.io._CommsHandle at 0x10b9c27d0>"
      ]
     },
     "execution_count": 20,
     "metadata": {},
     "output_type": "execute_result"
    }
   ],
   "source": [
    "show(p)"
   ]
  },
  {
   "cell_type": "code",
   "execution_count": null,
   "metadata": {
    "collapsed": false
   },
   "outputs": [],
   "source": []
  }
 ],
 "metadata": {
  "kernelspec": {
   "display_name": "Python 2",
   "language": "python",
   "name": "python2"
  },
  "language_info": {
   "codemirror_mode": {
    "name": "ipython",
    "version": 2
   },
   "file_extension": ".py",
   "mimetype": "text/x-python",
   "name": "python",
   "nbconvert_exporter": "python",
   "pygments_lexer": "ipython2",
   "version": "2.7.12"
  }
 },
 "nbformat": 4,
 "nbformat_minor": 0
}
