{
 "cells": [
  {
   "cell_type": "code",
   "execution_count": 3,
   "metadata": {
    "collapsed": false
   },
   "outputs": [
    {
     "data": {
      "text/html": [
       "\n",
       "    <div class=\"bk-root\">\n",
       "        <a href=\"http://bokeh.pydata.org\" target=\"_blank\" class=\"bk-logo bk-logo-small bk-logo-notebook\"></a>\n",
       "        <span id=\"a6b21f01-4d12-48e1-a992-d81e02d14db6\">Loading BokehJS ...</span>\n",
       "    </div>"
      ]
     },
     "metadata": {},
     "output_type": "display_data"
    },
    {
     "data": {
      "application/javascript": [
       "\n",
       "(function(global) {\n",
       "  function now() {\n",
       "    return new Date();\n",
       "  }\n",
       "\n",
       "  var force = \"1\";\n",
       "\n",
       "  if (typeof (window._bokeh_onload_callbacks) === \"undefined\" || force !== \"\") {\n",
       "    window._bokeh_onload_callbacks = [];\n",
       "    window._bokeh_is_loading = undefined;\n",
       "  }\n",
       "\n",
       "\n",
       "  \n",
       "  if (typeof (window._bokeh_timeout) === \"undefined\" || force !== \"\") {\n",
       "    window._bokeh_timeout = Date.now() + 5000;\n",
       "    window._bokeh_failed_load = false;\n",
       "  }\n",
       "\n",
       "  var NB_LOAD_WARNING = {'data': {'text/html':\n",
       "     \"<div style='background-color: #fdd'>\\n\"+\n",
       "     \"<p>\\n\"+\n",
       "     \"BokehJS does not appear to have successfully loaded. If loading BokehJS from CDN, this \\n\"+\n",
       "     \"may be due to a slow or bad network connection. Possible fixes:\\n\"+\n",
       "     \"</p>\\n\"+\n",
       "     \"<ul>\\n\"+\n",
       "     \"<li>re-rerun `output_notebook()` to attempt to load from CDN again, or</li>\\n\"+\n",
       "     \"<li>use INLINE resources instead, as so:</li>\\n\"+\n",
       "     \"</ul>\\n\"+\n",
       "     \"<code>\\n\"+\n",
       "     \"from bokeh.resources import INLINE\\n\"+\n",
       "     \"output_notebook(resources=INLINE)\\n\"+\n",
       "     \"</code>\\n\"+\n",
       "     \"</div>\"}};\n",
       "\n",
       "  function display_loaded() {\n",
       "    if (window.Bokeh !== undefined) {\n",
       "      Bokeh.$(\"#a6b21f01-4d12-48e1-a992-d81e02d14db6\").text(\"BokehJS successfully loaded.\");\n",
       "    } else if (Date.now() < window._bokeh_timeout) {\n",
       "      setTimeout(display_loaded, 100)\n",
       "    }\n",
       "  }\n",
       "\n",
       "  function run_callbacks() {\n",
       "    window._bokeh_onload_callbacks.forEach(function(callback) { callback() });\n",
       "    delete window._bokeh_onload_callbacks\n",
       "    console.info(\"Bokeh: all callbacks have finished\");\n",
       "  }\n",
       "\n",
       "  function load_libs(js_urls, callback) {\n",
       "    window._bokeh_onload_callbacks.push(callback);\n",
       "    if (window._bokeh_is_loading > 0) {\n",
       "      console.log(\"Bokeh: BokehJS is being loaded, scheduling callback at\", now());\n",
       "      return null;\n",
       "    }\n",
       "    if (js_urls == null || js_urls.length === 0) {\n",
       "      run_callbacks();\n",
       "      return null;\n",
       "    }\n",
       "    console.log(\"Bokeh: BokehJS not loaded, scheduling load and callback at\", now());\n",
       "    window._bokeh_is_loading = js_urls.length;\n",
       "    for (var i = 0; i < js_urls.length; i++) {\n",
       "      var url = js_urls[i];\n",
       "      var s = document.createElement('script');\n",
       "      s.src = url;\n",
       "      s.async = false;\n",
       "      s.onreadystatechange = s.onload = function() {\n",
       "        window._bokeh_is_loading--;\n",
       "        if (window._bokeh_is_loading === 0) {\n",
       "          console.log(\"Bokeh: all BokehJS libraries loaded\");\n",
       "          run_callbacks()\n",
       "        }\n",
       "      };\n",
       "      s.onerror = function() {\n",
       "        console.warn(\"failed to load library \" + url);\n",
       "      };\n",
       "      console.log(\"Bokeh: injecting script tag for BokehJS library: \", url);\n",
       "      document.getElementsByTagName(\"head\")[0].appendChild(s);\n",
       "    }\n",
       "  };var element = document.getElementById(\"a6b21f01-4d12-48e1-a992-d81e02d14db6\");\n",
       "  if (element == null) {\n",
       "    console.log(\"Bokeh: ERROR: autoload.js configured with elementid 'a6b21f01-4d12-48e1-a992-d81e02d14db6' but no matching script tag was found. \")\n",
       "    return false;\n",
       "  }\n",
       "\n",
       "  var js_urls = ['https://cdn.pydata.org/bokeh/release/bokeh-0.12.2.min.js', 'https://cdn.pydata.org/bokeh/release/bokeh-widgets-0.12.2.min.js', 'https://cdn.pydata.org/bokeh/release/bokeh-compiler-0.12.2.min.js'];\n",
       "\n",
       "  var inline_js = [\n",
       "    function(Bokeh) {\n",
       "      Bokeh.set_log_level(\"info\");\n",
       "    },\n",
       "    \n",
       "    function(Bokeh) {\n",
       "      \n",
       "      Bokeh.$(\"#a6b21f01-4d12-48e1-a992-d81e02d14db6\").text(\"BokehJS is loading...\");\n",
       "    },\n",
       "    function(Bokeh) {\n",
       "      console.log(\"Bokeh: injecting CSS: https://cdn.pydata.org/bokeh/release/bokeh-0.12.2.min.css\");\n",
       "      Bokeh.embed.inject_css(\"https://cdn.pydata.org/bokeh/release/bokeh-0.12.2.min.css\");\n",
       "      console.log(\"Bokeh: injecting CSS: https://cdn.pydata.org/bokeh/release/bokeh-widgets-0.12.2.min.css\");\n",
       "      Bokeh.embed.inject_css(\"https://cdn.pydata.org/bokeh/release/bokeh-widgets-0.12.2.min.css\");\n",
       "    }\n",
       "  ];\n",
       "\n",
       "  function run_inline_js() {\n",
       "    \n",
       "    if ((window.Bokeh !== undefined) || (force === \"1\")) {\n",
       "      for (var i = 0; i < inline_js.length; i++) {\n",
       "        inline_js[i](window.Bokeh);\n",
       "      }if (force === \"1\") {\n",
       "        display_loaded();\n",
       "      }} else if (Date.now() < window._bokeh_timeout) {\n",
       "      setTimeout(run_inline_js, 100);\n",
       "    } else if (!window._bokeh_failed_load) {\n",
       "      console.log(\"Bokeh: BokehJS failed to load within specified timeout.\");\n",
       "      window._bokeh_failed_load = true;\n",
       "    } else if (!force) {\n",
       "      var cell = $(\"#a6b21f01-4d12-48e1-a992-d81e02d14db6\").parents('.cell').data().cell;\n",
       "      cell.output_area.append_execute_result(NB_LOAD_WARNING)\n",
       "    }\n",
       "\n",
       "  }\n",
       "\n",
       "  if (window._bokeh_is_loading === 0) {\n",
       "    console.log(\"Bokeh: BokehJS loaded, going straight to plotting\");\n",
       "    run_inline_js();\n",
       "  } else {\n",
       "    load_libs(js_urls, function() {\n",
       "      console.log(\"Bokeh: BokehJS plotting callback run at\", now());\n",
       "      run_inline_js();\n",
       "    });\n",
       "  }\n",
       "}(this));"
      ]
     },
     "metadata": {},
     "output_type": "display_data"
    }
   ],
   "source": [
    "from bokeh.plotting import figure, output_notebook, show, output_file\n",
    "from bokeh.sampledata.autompg import autompg\n",
    "from numpy import array\n",
    "\n",
    "# method 1: inline\n",
    "output_notebook() "
   ]
  },
  {
   "cell_type": "code",
   "execution_count": 4,
   "metadata": {
    "collapsed": true
   },
   "outputs": [],
   "source": [
    "# method 2: inline \n",
    "# from bokeh.resources import INLINE\n",
    "# output_notebook(resources=INLINE)  # do it twice if once is not enough\n",
    "\n",
    "# method3: webpage\n",
    "# output_file(\"barplot.html\")"
   ]
  },
  {
   "cell_type": "code",
   "execution_count": 5,
   "metadata": {
    "collapsed": false
   },
   "outputs": [],
   "source": [
    "from IPython.display import display\n",
    "import pandas as pd\n",
    "pd.set_option('display.max_rows', 10)"
   ]
  },
  {
   "cell_type": "code",
   "execution_count": 6,
   "metadata": {
    "collapsed": false
   },
   "outputs": [
    {
     "data": {
      "text/html": [
       "<div>\n",
       "<table border=\"1\" class=\"dataframe\">\n",
       "  <thead>\n",
       "    <tr style=\"text-align: right;\">\n",
       "      <th></th>\n",
       "      <th>mpg</th>\n",
       "      <th>cyl</th>\n",
       "      <th>displ</th>\n",
       "      <th>hp</th>\n",
       "      <th>weight</th>\n",
       "      <th>accel</th>\n",
       "      <th>yr</th>\n",
       "      <th>origin</th>\n",
       "      <th>name</th>\n",
       "    </tr>\n",
       "  </thead>\n",
       "  <tbody>\n",
       "    <tr>\n",
       "      <th>0</th>\n",
       "      <td>18.0</td>\n",
       "      <td>8</td>\n",
       "      <td>307.0</td>\n",
       "      <td>130</td>\n",
       "      <td>3504</td>\n",
       "      <td>12.0</td>\n",
       "      <td>70</td>\n",
       "      <td>1</td>\n",
       "      <td>chevrolet chevelle malibu</td>\n",
       "    </tr>\n",
       "    <tr>\n",
       "      <th>1</th>\n",
       "      <td>15.0</td>\n",
       "      <td>8</td>\n",
       "      <td>350.0</td>\n",
       "      <td>165</td>\n",
       "      <td>3693</td>\n",
       "      <td>11.5</td>\n",
       "      <td>70</td>\n",
       "      <td>1</td>\n",
       "      <td>buick skylark 320</td>\n",
       "    </tr>\n",
       "    <tr>\n",
       "      <th>2</th>\n",
       "      <td>18.0</td>\n",
       "      <td>8</td>\n",
       "      <td>318.0</td>\n",
       "      <td>150</td>\n",
       "      <td>3436</td>\n",
       "      <td>11.0</td>\n",
       "      <td>70</td>\n",
       "      <td>1</td>\n",
       "      <td>plymouth satellite</td>\n",
       "    </tr>\n",
       "    <tr>\n",
       "      <th>3</th>\n",
       "      <td>16.0</td>\n",
       "      <td>8</td>\n",
       "      <td>304.0</td>\n",
       "      <td>150</td>\n",
       "      <td>3433</td>\n",
       "      <td>12.0</td>\n",
       "      <td>70</td>\n",
       "      <td>1</td>\n",
       "      <td>amc rebel sst</td>\n",
       "    </tr>\n",
       "    <tr>\n",
       "      <th>4</th>\n",
       "      <td>17.0</td>\n",
       "      <td>8</td>\n",
       "      <td>302.0</td>\n",
       "      <td>140</td>\n",
       "      <td>3449</td>\n",
       "      <td>10.5</td>\n",
       "      <td>70</td>\n",
       "      <td>1</td>\n",
       "      <td>ford torino</td>\n",
       "    </tr>\n",
       "    <tr>\n",
       "      <th>...</th>\n",
       "      <td>...</td>\n",
       "      <td>...</td>\n",
       "      <td>...</td>\n",
       "      <td>...</td>\n",
       "      <td>...</td>\n",
       "      <td>...</td>\n",
       "      <td>...</td>\n",
       "      <td>...</td>\n",
       "      <td>...</td>\n",
       "    </tr>\n",
       "    <tr>\n",
       "      <th>387</th>\n",
       "      <td>27.0</td>\n",
       "      <td>4</td>\n",
       "      <td>140.0</td>\n",
       "      <td>86</td>\n",
       "      <td>2790</td>\n",
       "      <td>15.6</td>\n",
       "      <td>82</td>\n",
       "      <td>1</td>\n",
       "      <td>ford mustang gl</td>\n",
       "    </tr>\n",
       "    <tr>\n",
       "      <th>388</th>\n",
       "      <td>44.0</td>\n",
       "      <td>4</td>\n",
       "      <td>97.0</td>\n",
       "      <td>52</td>\n",
       "      <td>2130</td>\n",
       "      <td>24.6</td>\n",
       "      <td>82</td>\n",
       "      <td>2</td>\n",
       "      <td>vw pickup</td>\n",
       "    </tr>\n",
       "    <tr>\n",
       "      <th>389</th>\n",
       "      <td>32.0</td>\n",
       "      <td>4</td>\n",
       "      <td>135.0</td>\n",
       "      <td>84</td>\n",
       "      <td>2295</td>\n",
       "      <td>11.6</td>\n",
       "      <td>82</td>\n",
       "      <td>1</td>\n",
       "      <td>dodge rampage</td>\n",
       "    </tr>\n",
       "    <tr>\n",
       "      <th>390</th>\n",
       "      <td>28.0</td>\n",
       "      <td>4</td>\n",
       "      <td>120.0</td>\n",
       "      <td>79</td>\n",
       "      <td>2625</td>\n",
       "      <td>18.6</td>\n",
       "      <td>82</td>\n",
       "      <td>1</td>\n",
       "      <td>ford ranger</td>\n",
       "    </tr>\n",
       "    <tr>\n",
       "      <th>391</th>\n",
       "      <td>31.0</td>\n",
       "      <td>4</td>\n",
       "      <td>119.0</td>\n",
       "      <td>82</td>\n",
       "      <td>2720</td>\n",
       "      <td>19.4</td>\n",
       "      <td>82</td>\n",
       "      <td>1</td>\n",
       "      <td>chevy s-10</td>\n",
       "    </tr>\n",
       "  </tbody>\n",
       "</table>\n",
       "<p>392 rows × 9 columns</p>\n",
       "</div>"
      ],
      "text/plain": [
       "      mpg  cyl  displ   hp  weight  accel  yr  origin  \\\n",
       "0    18.0    8  307.0  130    3504   12.0  70       1   \n",
       "1    15.0    8  350.0  165    3693   11.5  70       1   \n",
       "2    18.0    8  318.0  150    3436   11.0  70       1   \n",
       "3    16.0    8  304.0  150    3433   12.0  70       1   \n",
       "4    17.0    8  302.0  140    3449   10.5  70       1   \n",
       "..    ...  ...    ...  ...     ...    ...  ..     ...   \n",
       "387  27.0    4  140.0   86    2790   15.6  82       1   \n",
       "388  44.0    4   97.0   52    2130   24.6  82       2   \n",
       "389  32.0    4  135.0   84    2295   11.6  82       1   \n",
       "390  28.0    4  120.0   79    2625   18.6  82       1   \n",
       "391  31.0    4  119.0   82    2720   19.4  82       1   \n",
       "\n",
       "                          name  \n",
       "0    chevrolet chevelle malibu  \n",
       "1            buick skylark 320  \n",
       "2           plymouth satellite  \n",
       "3                amc rebel sst  \n",
       "4                  ford torino  \n",
       "..                         ...  \n",
       "387            ford mustang gl  \n",
       "388                  vw pickup  \n",
       "389              dodge rampage  \n",
       "390                ford ranger  \n",
       "391                 chevy s-10  \n",
       "\n",
       "[392 rows x 9 columns]"
      ]
     },
     "metadata": {},
     "output_type": "display_data"
    }
   ],
   "source": [
    "display(autompg)"
   ]
  },
  {
   "cell_type": "code",
   "execution_count": 7,
   "metadata": {
    "collapsed": true
   },
   "outputs": [],
   "source": [
    "grouped = autompg.groupby(\"yr\")  \n",
    "mpg = grouped[\"mpg\"]\n",
    "avg = mpg.mean()\n",
    "std = mpg.std()\n",
    "years = array(list(grouped.groups.keys()))\n",
    "american = autompg[autompg[\"origin\"]==1]\n",
    "japanese = autompg[autompg[\"origin\"]==3]"
   ]
  },
  {
   "cell_type": "code",
   "execution_count": 8,
   "metadata": {
    "collapsed": false
   },
   "outputs": [
    {
     "name": "stdout",
     "output_type": "stream",
     "text": [
      "average of mpg by year\n"
     ]
    },
    {
     "data": {
      "text/plain": [
       "yr\n",
       "70    17.689655\n",
       "71    21.111111\n",
       "72    18.714286\n",
       "73    17.100000\n",
       "74    22.769231\n",
       "        ...    \n",
       "78    24.061111\n",
       "79    25.093103\n",
       "80    33.803704\n",
       "81    30.185714\n",
       "82    32.000000\n",
       "Name: mpg, dtype: float64"
      ]
     },
     "metadata": {},
     "output_type": "display_data"
    },
    {
     "name": "stdout",
     "output_type": "stream",
     "text": [
      "stdv of mpg by year\n"
     ]
    },
    {
     "data": {
      "text/plain": [
       "yr\n",
       "70    5.339231\n",
       "71    6.675635\n",
       "72    5.435529\n",
       "73    4.700245\n",
       "74    6.537937\n",
       "        ...   \n",
       "78    6.898044\n",
       "79    6.794217\n",
       "80    6.885854\n",
       "81    5.635319\n",
       "82    5.232524\n",
       "Name: mpg, dtype: float64"
      ]
     },
     "metadata": {},
     "output_type": "display_data"
    },
    {
     "name": "stdout",
     "output_type": "stream",
     "text": [
      "get group keys or index: years\n"
     ]
    },
    {
     "data": {
      "text/plain": [
       "[70, 71, 72, 73, 74, 75, 76, 77, 78, 79, 80, 81, 82]"
      ]
     },
     "metadata": {},
     "output_type": "display_data"
    },
    {
     "name": "stdout",
     "output_type": "stream",
     "text": [
      "turn years keys into np.array\n"
     ]
    },
    {
     "data": {
      "text/plain": [
       "array([70, 71, 72, 73, 74, 75, 76, 77, 78, 79, 80, 81, 82])"
      ]
     },
     "execution_count": 8,
     "metadata": {},
     "output_type": "execute_result"
    }
   ],
   "source": [
    "print(\"average of mpg by year\")\n",
    "display(avg)\n",
    "print(\"stdv of mpg by year\")\n",
    "display(std)\n",
    "print(\"get group keys or index: years\")\n",
    "display(grouped.groups.keys())\n",
    "print(\"turn years keys into np.array\")\n",
    "array(list(grouped.groups.keys()))"
   ]
  },
  {
   "cell_type": "code",
   "execution_count": 9,
   "metadata": {
    "collapsed": true
   },
   "outputs": [],
   "source": [
    "# create a single figure\n",
    "p = figure()"
   ]
  },
  {
   "cell_type": "code",
   "execution_count": 21,
   "metadata": {
    "collapsed": false
   },
   "outputs": [
    {
     "data": {
      "text/html": [
       "\n",
       "\n",
       "    <div class=\"bk-root\">\n",
       "        <div class=\"plotdiv\" id=\"3e29e1ba-d2cc-48f8-af3e-02cfbcee0be5\"></div>\n",
       "    </div>\n",
       "<script type=\"text/javascript\">\n",
       "  \n",
       "  (function(global) {\n",
       "    function now() {\n",
       "      return new Date();\n",
       "    }\n",
       "  \n",
       "    var force = \"\";\n",
       "  \n",
       "    if (typeof (window._bokeh_onload_callbacks) === \"undefined\" || force !== \"\") {\n",
       "      window._bokeh_onload_callbacks = [];\n",
       "      window._bokeh_is_loading = undefined;\n",
       "    }\n",
       "  \n",
       "    function run_callbacks() {\n",
       "      window._bokeh_onload_callbacks.forEach(function(callback) { callback() });\n",
       "      delete window._bokeh_onload_callbacks\n",
       "      console.info(\"Bokeh: all callbacks have finished\");\n",
       "    }\n",
       "  \n",
       "    function load_libs(js_urls, callback) {\n",
       "      window._bokeh_onload_callbacks.push(callback);\n",
       "      if (window._bokeh_is_loading > 0) {\n",
       "        console.log(\"Bokeh: BokehJS is being loaded, scheduling callback at\", now());\n",
       "        return null;\n",
       "      }\n",
       "      if (js_urls == null || js_urls.length === 0) {\n",
       "        run_callbacks();\n",
       "        return null;\n",
       "      }\n",
       "      console.log(\"Bokeh: BokehJS not loaded, scheduling load and callback at\", now());\n",
       "      window._bokeh_is_loading = js_urls.length;\n",
       "      for (var i = 0; i < js_urls.length; i++) {\n",
       "        var url = js_urls[i];\n",
       "        var s = document.createElement('script');\n",
       "        s.src = url;\n",
       "        s.async = false;\n",
       "        s.onreadystatechange = s.onload = function() {\n",
       "          window._bokeh_is_loading--;\n",
       "          if (window._bokeh_is_loading === 0) {\n",
       "            console.log(\"Bokeh: all BokehJS libraries loaded\");\n",
       "            run_callbacks()\n",
       "          }\n",
       "        };\n",
       "        s.onerror = function() {\n",
       "          console.warn(\"failed to load library \" + url);\n",
       "        };\n",
       "        console.log(\"Bokeh: injecting script tag for BokehJS library: \", url);\n",
       "        document.getElementsByTagName(\"head\")[0].appendChild(s);\n",
       "      }\n",
       "    };var element = document.getElementById(\"3e29e1ba-d2cc-48f8-af3e-02cfbcee0be5\");\n",
       "    if (element == null) {\n",
       "      console.log(\"Bokeh: ERROR: autoload.js configured with elementid '3e29e1ba-d2cc-48f8-af3e-02cfbcee0be5' but no matching script tag was found. \")\n",
       "      return false;\n",
       "    }\n",
       "  \n",
       "    var js_urls = [];\n",
       "  \n",
       "    var inline_js = [\n",
       "      function(Bokeh) {\n",
       "        Bokeh.$(function() {\n",
       "            var docs_json = {\"a58ce33d-fae1-4deb-b479-841b363e98a2\":{\"roots\":{\"references\":[{\"attributes\":{\"plot\":{\"id\":\"1eb96bc9-8c52-4769-8e87-e89015df64ef\",\"subtype\":\"Figure\",\"type\":\"Plot\"}},\"id\":\"f3dbe3af-1616-47fa-bcd7-c3b688c955e3\",\"type\":\"SaveTool\"},{\"attributes\":{\"formatter\":{\"id\":\"6a6997e1-d56b-4da4-9aea-dae6c7e7e0e8\",\"type\":\"BasicTickFormatter\"},\"plot\":{\"id\":\"1eb96bc9-8c52-4769-8e87-e89015df64ef\",\"subtype\":\"Figure\",\"type\":\"Plot\"},\"ticker\":{\"id\":\"aefba091-c376-4c85-a0f6-3c97e42a3976\",\"type\":\"BasicTicker\"}},\"id\":\"31984073-0a3b-4816-8ac5-0133769bf85d\",\"type\":\"LinearAxis\"},{\"attributes\":{},\"id\":\"5cbed750-a01e-4ce1-9e7a-95fc48fb7f40\",\"type\":\"BasicTickFormatter\"},{\"attributes\":{\"data_source\":{\"id\":\"a46d1f87-9819-41e1-b243-8d9cd17df7cd\",\"type\":\"ColumnDataSource\"},\"glyph\":{\"id\":\"9b382317-a4e8-476a-8ec6-ebb3a5407b42\",\"type\":\"Triangle\"},\"hover_glyph\":null,\"nonselection_glyph\":{\"id\":\"931d6a14-9031-443d-9852-9966ec93b7d0\",\"type\":\"Triangle\"},\"selection_glyph\":null},\"id\":\"6a3ce45e-4b66-40a5-9a23-2d5216d00007\",\"type\":\"GlyphRenderer\"},{\"attributes\":{\"plot\":null,\"text\":null},\"id\":\"f34c2c2f-4ceb-4a12-9d6a-acee85b9cb40\",\"type\":\"Title\"},{\"attributes\":{\"callback\":null},\"id\":\"9a4d09ab-adb3-41d2-97a0-e2e03bc15b93\",\"type\":\"DataRange1d\"},{\"attributes\":{\"data_source\":{\"id\":\"ed0f3891-9bb8-41d1-953d-4d4125bf8d7c\",\"type\":\"ColumnDataSource\"},\"glyph\":{\"id\":\"c5c28bcc-0b8c-4d10-a0e4-b71aa21487c1\",\"type\":\"Quad\"},\"hover_glyph\":null,\"nonselection_glyph\":{\"id\":\"59a66d77-0344-432b-ac27-0a71df7123a8\",\"type\":\"Quad\"},\"selection_glyph\":null},\"id\":\"4e9abf87-cda0-4359-bdb5-29bc5a2ba35c\",\"type\":\"GlyphRenderer\"},{\"attributes\":{\"plot\":{\"id\":\"1eb96bc9-8c52-4769-8e87-e89015df64ef\",\"subtype\":\"Figure\",\"type\":\"Plot\"}},\"id\":\"93e35ce8-1640-40f0-b74f-4d3f92d596df\",\"type\":\"HelpTool\"},{\"attributes\":{\"plot\":{\"id\":\"1eb96bc9-8c52-4769-8e87-e89015df64ef\",\"subtype\":\"Figure\",\"type\":\"Plot\"}},\"id\":\"ae955609-fb4a-4aaa-bf25-3369399f7985\",\"type\":\"WheelZoomTool\"},{\"attributes\":{\"plot\":{\"id\":\"1eb96bc9-8c52-4769-8e87-e89015df64ef\",\"subtype\":\"Figure\",\"type\":\"Plot\"}},\"id\":\"df94b069-aeb9-4945-9c79-0c998a5f38af\",\"type\":\"PanTool\"},{\"attributes\":{\"callback\":null,\"column_names\":[\"y\",\"x\"],\"data\":{\"x\":[70,70,70,70,70,70,70,70,70,70,70,70,70,70,70,70,70,70,70,70,70,70,71,71,71,71,71,71,71,71,71,71,71,71,71,71,71,71,71,71,71,72,72,72,72,72,72,72,72,72,72,72,72,72,72,72,72,72,72,73,73,73,73,73,73,73,73,73,73,73,73,73,73,73,73,73,73,73,73,73,73,73,73,73,73,73,73,73,74,74,74,74,74,74,74,74,74,74,74,74,74,74,75,75,75,75,75,75,75,75,75,75,75,75,75,75,75,75,75,75,75,75,76,76,76,76,76,76,76,76,76,76,76,76,76,76,76,76,76,76,76,76,76,76,77,77,77,77,77,77,77,77,77,77,77,77,77,77,77,77,77,77,78,78,78,78,78,78,78,78,78,78,78,78,78,78,78,78,78,78,78,78,78,78,79,79,79,79,79,79,79,79,79,79,79,79,79,79,79,79,79,79,79,79,79,79,79,80,80,80,80,80,80,81,81,81,81,81,81,81,81,81,81,81,81,81,82,82,82,82,82,82,82,82,82,82,82,82,82,82,82,82,82,82,82],\"y\":[18.0,15.0,18.0,16.0,17.0,15.0,14.0,14.0,14.0,15.0,15.0,14.0,15.0,14.0,22.0,18.0,21.0,21.0,10.0,10.0,11.0,9.0,28.0,19.0,16.0,17.0,19.0,18.0,14.0,14.0,14.0,14.0,12.0,13.0,13.0,18.0,22.0,19.0,18.0,23.0,26.0,25.0,20.0,21.0,13.0,14.0,15.0,14.0,17.0,11.0,13.0,12.0,13.0,15.0,13.0,13.0,14.0,22.0,28.0,13.0,14.0,13.0,14.0,15.0,12.0,13.0,13.0,14.0,13.0,12.0,13.0,18.0,16.0,18.0,18.0,23.0,11.0,12.0,13.0,12.0,18.0,21.0,19.0,21.0,15.0,16.0,15.0,11.0,20.0,19.0,15.0,26.0,25.0,16.0,16.0,18.0,16.0,13.0,14.0,14.0,14.0,28.0,19.0,18.0,15.0,15.0,16.0,15.0,16.0,14.0,17.0,16.0,15.0,18.0,21.0,20.0,13.0,23.0,20.0,23.0,18.0,19.0,25.0,26.0,17.5,16.0,15.5,14.5,22.0,22.0,24.0,22.5,29.0,24.5,20.0,18.0,18.5,17.5,26.5,13.0,16.5,13.0,13.0,13.0,30.0,25.5,17.5,17.0,15.5,15.0,17.5,20.5,19.0,18.5,16.0,15.5,15.5,16.0,24.5,25.5,30.5,33.5,36.1,19.9,19.4,20.2,19.2,20.5,20.2,25.1,20.5,19.4,20.6,20.8,18.6,18.1,19.2,17.7,18.1,17.5,30.0,30.9,23.2,23.8,21.5,19.8,22.3,20.2,20.6,17.0,17.6,16.5,18.2,16.9,15.5,19.2,18.5,35.7,27.4,23.0,23.9,34.2,34.5,28.4,28.8,26.8,33.5,32.1,28.0,26.4,24.3,19.1,27.9,27.2,26.6,25.8,23.5,30.0,39.0,34.7,34.4,29.9,22.4,26.6,20.2,17.6,28.0,27.0,34.0,31.0,29.0,27.0,24.0,38.0,36.0,25.0,38.0,26.0,22.0,36.0,27.0,27.0,32.0,28.0,31.0]}},\"id\":\"a46d1f87-9819-41e1-b243-8d9cd17df7cd\",\"type\":\"ColumnDataSource\"},{\"attributes\":{\"callback\":null,\"column_names\":[\"y\",\"x\"],\"data\":{\"x\":[70,70,71,71,71,71,72,72,72,72,72,73,73,73,73,74,74,74,74,74,74,75,75,75,75,76,76,76,76,77,77,77,77,77,77,78,78,78,78,78,78,78,78,79,79,80,80,80,80,80,80,80,80,80,80,80,80,80,81,81,81,81,81,81,81,81,81,81,81,81,82,82,82,82,82,82,82,82,82],\"y\":[24.0,27.0,27.0,25.0,31.0,35.0,24.0,19.0,28.0,23.0,27.0,20.0,22.0,18.0,20.0,31.0,32.0,31.0,32.0,24.0,26.0,29.0,24.0,24.0,33.0,33.0,32.0,28.0,19.0,31.5,33.5,26.0,30.0,22.0,21.5,32.8,39.4,36.1,27.5,27.2,21.1,23.9,29.5,34.1,31.8,38.1,37.2,29.8,31.3,37.0,32.2,46.6,40.8,44.6,33.8,32.7,23.7,32.4,39.1,35.1,32.3,37.0,37.7,34.1,33.7,32.4,32.9,31.6,25.4,24.2,37.0,31.0,36.0,36.0,34.0,38.0,32.0,38.0,32.0]}},\"id\":\"c8ca814f-b0ab-47aa-9ce3-cbcfe8e075ae\",\"type\":\"ColumnDataSource\"},{\"attributes\":{\"fill_alpha\":{\"value\":0.1},\"fill_color\":{\"value\":\"#1f77b4\"},\"line_alpha\":{\"value\":0.1},\"line_color\":{\"value\":\"#1f77b4\"},\"line_width\":{\"value\":2},\"size\":{\"units\":\"screen\",\"value\":8},\"x\":{\"field\":\"x\"},\"y\":{\"field\":\"y\"}},\"id\":\"fec5f2c6-f564-42b4-b8ae-2c872c75afde\",\"type\":\"Circle\"},{\"attributes\":{\"data_source\":{\"id\":\"c8ca814f-b0ab-47aa-9ce3-cbcfe8e075ae\",\"type\":\"ColumnDataSource\"},\"glyph\":{\"id\":\"24049eb8-c1da-4d43-9e2a-0b5e515247c8\",\"type\":\"Circle\"},\"hover_glyph\":null,\"nonselection_glyph\":{\"id\":\"fec5f2c6-f564-42b4-b8ae-2c872c75afde\",\"type\":\"Circle\"},\"selection_glyph\":null},\"id\":\"61db37f4-3986-4754-a540-16f8674e7293\",\"type\":\"GlyphRenderer\"},{\"attributes\":{\"dimension\":1,\"plot\":{\"id\":\"1eb96bc9-8c52-4769-8e87-e89015df64ef\",\"subtype\":\"Figure\",\"type\":\"Plot\"},\"ticker\":{\"id\":\"96aa756d-48df-471b-b5b1-7df508cc39e9\",\"type\":\"BasicTicker\"}},\"id\":\"8b7c65a0-9ce5-4bf9-a16c-e55518334afd\",\"type\":\"Grid\"},{\"attributes\":{\"active_drag\":\"auto\",\"active_scroll\":\"auto\",\"active_tap\":\"auto\",\"tools\":[{\"id\":\"df94b069-aeb9-4945-9c79-0c998a5f38af\",\"type\":\"PanTool\"},{\"id\":\"ae955609-fb4a-4aaa-bf25-3369399f7985\",\"type\":\"WheelZoomTool\"},{\"id\":\"456ed722-7e09-468c-9c69-12e6b8606cb8\",\"type\":\"BoxZoomTool\"},{\"id\":\"f3dbe3af-1616-47fa-bcd7-c3b688c955e3\",\"type\":\"SaveTool\"},{\"id\":\"98839ca5-bae6-48c2-b73a-08baf21dde85\",\"type\":\"ResetTool\"},{\"id\":\"93e35ce8-1640-40f0-b74f-4d3f92d596df\",\"type\":\"HelpTool\"}]},\"id\":\"ac7d16ce-63da-4061-93cd-a4e2e36ecfb6\",\"type\":\"Toolbar\"},{\"attributes\":{},\"id\":\"6a6997e1-d56b-4da4-9aea-dae6c7e7e0e8\",\"type\":\"BasicTickFormatter\"},{\"attributes\":{\"plot\":{\"id\":\"1eb96bc9-8c52-4769-8e87-e89015df64ef\",\"subtype\":\"Figure\",\"type\":\"Plot\"},\"ticker\":{\"id\":\"aefba091-c376-4c85-a0f6-3c97e42a3976\",\"type\":\"BasicTicker\"}},\"id\":\"95e9ce94-8832-4a0d-99c3-c922b2fc3ae1\",\"type\":\"Grid\"},{\"attributes\":{\"bottom\":{\"field\":\"bottom\"},\"fill_alpha\":{\"value\":0.4},\"fill_color\":{\"value\":\"#1f77b4\"},\"left\":{\"field\":\"left\"},\"line_color\":{\"value\":\"#1f77b4\"},\"right\":{\"field\":\"right\"},\"top\":{\"field\":\"top\"}},\"id\":\"c5c28bcc-0b8c-4d10-a0e4-b71aa21487c1\",\"type\":\"Quad\"},{\"attributes\":{\"fill_alpha\":{\"value\":0.4},\"fill_color\":{\"value\":null},\"line_alpha\":{\"value\":0.4},\"line_color\":{\"value\":\"blue\"},\"line_width\":{\"value\":2},\"size\":{\"units\":\"screen\",\"value\":8},\"x\":{\"field\":\"x\"},\"y\":{\"field\":\"y\"}},\"id\":\"9b382317-a4e8-476a-8ec6-ebb3a5407b42\",\"type\":\"Triangle\"},{\"attributes\":{\"below\":[{\"id\":\"31984073-0a3b-4816-8ac5-0133769bf85d\",\"type\":\"LinearAxis\"}],\"left\":[{\"id\":\"e2eb1103-7187-43cb-9d87-1005c0943f3d\",\"type\":\"LinearAxis\"}],\"renderers\":[{\"id\":\"31984073-0a3b-4816-8ac5-0133769bf85d\",\"type\":\"LinearAxis\"},{\"id\":\"95e9ce94-8832-4a0d-99c3-c922b2fc3ae1\",\"type\":\"Grid\"},{\"id\":\"e2eb1103-7187-43cb-9d87-1005c0943f3d\",\"type\":\"LinearAxis\"},{\"id\":\"8b7c65a0-9ce5-4bf9-a16c-e55518334afd\",\"type\":\"Grid\"},{\"id\":\"b6921bca-abb1-4b6d-9852-96bb843c1030\",\"type\":\"BoxAnnotation\"},{\"id\":\"4e9abf87-cda0-4359-bdb5-29bc5a2ba35c\",\"type\":\"GlyphRenderer\"},{\"id\":\"61db37f4-3986-4754-a540-16f8674e7293\",\"type\":\"GlyphRenderer\"},{\"id\":\"6a3ce45e-4b66-40a5-9a23-2d5216d00007\",\"type\":\"GlyphRenderer\"}],\"title\":{\"id\":\"f34c2c2f-4ceb-4a12-9d6a-acee85b9cb40\",\"type\":\"Title\"},\"tool_events\":{\"id\":\"3ab7a6d6-47a9-4ab4-b9bd-0a3e1ab3b203\",\"type\":\"ToolEvents\"},\"toolbar\":{\"id\":\"ac7d16ce-63da-4061-93cd-a4e2e36ecfb6\",\"type\":\"Toolbar\"},\"x_range\":{\"id\":\"9a4d09ab-adb3-41d2-97a0-e2e03bc15b93\",\"type\":\"DataRange1d\"},\"y_range\":{\"id\":\"63c18fd4-c33e-4c46-87fd-d395d8a7ba3b\",\"type\":\"DataRange1d\"}},\"id\":\"1eb96bc9-8c52-4769-8e87-e89015df64ef\",\"subtype\":\"Figure\",\"type\":\"Plot\"},{\"attributes\":{},\"id\":\"96aa756d-48df-471b-b5b1-7df508cc39e9\",\"type\":\"BasicTicker\"},{\"attributes\":{},\"id\":\"3ab7a6d6-47a9-4ab4-b9bd-0a3e1ab3b203\",\"type\":\"ToolEvents\"},{\"attributes\":{\"fill_alpha\":{\"value\":0.4},\"fill_color\":{\"value\":null},\"line_alpha\":{\"value\":0.4},\"line_color\":{\"value\":\"red\"},\"line_width\":{\"value\":2},\"size\":{\"units\":\"screen\",\"value\":8},\"x\":{\"field\":\"x\"},\"y\":{\"field\":\"y\"}},\"id\":\"24049eb8-c1da-4d43-9e2a-0b5e515247c8\",\"type\":\"Circle\"},{\"attributes\":{\"fill_alpha\":{\"value\":0.1},\"fill_color\":{\"value\":\"#1f77b4\"},\"line_alpha\":{\"value\":0.1},\"line_color\":{\"value\":\"#1f77b4\"},\"line_width\":{\"value\":2},\"size\":{\"units\":\"screen\",\"value\":8},\"x\":{\"field\":\"x\"},\"y\":{\"field\":\"y\"}},\"id\":\"931d6a14-9031-443d-9852-9966ec93b7d0\",\"type\":\"Triangle\"},{\"attributes\":{\"bottom\":{\"field\":\"bottom\"},\"fill_alpha\":{\"value\":0.1},\"fill_color\":{\"value\":\"#1f77b4\"},\"left\":{\"field\":\"left\"},\"line_alpha\":{\"value\":0.1},\"line_color\":{\"value\":\"#1f77b4\"},\"right\":{\"field\":\"right\"},\"top\":{\"field\":\"top\"}},\"id\":\"59a66d77-0344-432b-ac27-0a71df7123a8\",\"type\":\"Quad\"},{\"attributes\":{\"callback\":null,\"column_names\":[\"top\",\"right\",\"bottom\",\"left\"],\"data\":{\"bottom\":[12.350424032768164,14.435476117786315,13.278756895028703,12.399754507229684,16.231294138716876,15.326100362861116,15.684232040310981,16.69913828561214,17.163066759773855,18.298886840723156,26.91784967134245,24.550394827438176,26.767475719614136],\"left\":[69.6,70.6,71.6,72.6,73.6,74.6,75.6,76.6,77.6,78.6,79.6,80.6,81.6],\"right\":[70.4,71.4,72.4,73.4,74.4,75.4,76.4,77.4,78.4,79.4,80.4,81.4,82.4],\"top\":[23.028886312059424,27.786746104435906,24.149814533542727,21.80024549277032,29.307167399744664,25.207232970472216,27.462826783218432,30.05086171438786,30.959155462448372,31.887320055828546,40.689557736064955,35.8210337439904,37.23252428038586]}},\"id\":\"ed0f3891-9bb8-41d1-953d-4d4125bf8d7c\",\"type\":\"ColumnDataSource\"},{\"attributes\":{\"overlay\":{\"id\":\"b6921bca-abb1-4b6d-9852-96bb843c1030\",\"type\":\"BoxAnnotation\"},\"plot\":{\"id\":\"1eb96bc9-8c52-4769-8e87-e89015df64ef\",\"subtype\":\"Figure\",\"type\":\"Plot\"}},\"id\":\"456ed722-7e09-468c-9c69-12e6b8606cb8\",\"type\":\"BoxZoomTool\"},{\"attributes\":{\"plot\":{\"id\":\"1eb96bc9-8c52-4769-8e87-e89015df64ef\",\"subtype\":\"Figure\",\"type\":\"Plot\"}},\"id\":\"98839ca5-bae6-48c2-b73a-08baf21dde85\",\"type\":\"ResetTool\"},{\"attributes\":{\"bottom_units\":\"screen\",\"fill_alpha\":{\"value\":0.5},\"fill_color\":{\"value\":\"lightgrey\"},\"left_units\":\"screen\",\"level\":\"overlay\",\"line_alpha\":{\"value\":1.0},\"line_color\":{\"value\":\"black\"},\"line_dash\":[4,4],\"line_width\":{\"value\":2},\"plot\":null,\"render_mode\":\"css\",\"right_units\":\"screen\",\"top_units\":\"screen\"},\"id\":\"b6921bca-abb1-4b6d-9852-96bb843c1030\",\"type\":\"BoxAnnotation\"},{\"attributes\":{},\"id\":\"aefba091-c376-4c85-a0f6-3c97e42a3976\",\"type\":\"BasicTicker\"},{\"attributes\":{\"callback\":null},\"id\":\"63c18fd4-c33e-4c46-87fd-d395d8a7ba3b\",\"type\":\"DataRange1d\"},{\"attributes\":{\"formatter\":{\"id\":\"5cbed750-a01e-4ce1-9e7a-95fc48fb7f40\",\"type\":\"BasicTickFormatter\"},\"plot\":{\"id\":\"1eb96bc9-8c52-4769-8e87-e89015df64ef\",\"subtype\":\"Figure\",\"type\":\"Plot\"},\"ticker\":{\"id\":\"96aa756d-48df-471b-b5b1-7df508cc39e9\",\"type\":\"BasicTicker\"}},\"id\":\"e2eb1103-7187-43cb-9d87-1005c0943f3d\",\"type\":\"LinearAxis\"}],\"root_ids\":[\"1eb96bc9-8c52-4769-8e87-e89015df64ef\"]},\"title\":\"Bokeh Application\",\"version\":\"0.12.1\"}};\n",
       "            var render_items = [{\"docid\":\"a58ce33d-fae1-4deb-b479-841b363e98a2\",\"elementid\":\"3e29e1ba-d2cc-48f8-af3e-02cfbcee0be5\",\"modelid\":\"1eb96bc9-8c52-4769-8e87-e89015df64ef\",\"notebook_comms_target\":\"eb2fc5cb-b73d-40f2-87e7-c6db7ebfc9ad\"}];\n",
       "            \n",
       "            Bokeh.embed.embed_items(docs_json, render_items);\n",
       "        });\n",
       "      },\n",
       "      function(Bokeh) {\n",
       "      }\n",
       "    ];\n",
       "  \n",
       "    function run_inline_js() {\n",
       "      for (var i = 0; i < inline_js.length; i++) {\n",
       "        inline_js[i](window.Bokeh);\n",
       "      }\n",
       "    }\n",
       "  \n",
       "    if (window._bokeh_is_loading === 0) {\n",
       "      console.log(\"Bokeh: BokehJS loaded, going straight to plotting\");\n",
       "      run_inline_js();\n",
       "    } else {\n",
       "      load_libs(js_urls, function() {\n",
       "        console.log(\"Bokeh: BokehJS plotting callback run at\", now());\n",
       "        run_inline_js();\n",
       "      });\n",
       "    }\n",
       "  }(this));\n",
       "</script>"
      ]
     },
     "metadata": {},
     "output_type": "display_data"
    },
    {
     "data": {
      "text/html": [
       "<p><code>&lt;Bokeh Notebook handle for <strong>In[21]</strong>&gt;</code></p>"
      ],
      "text/plain": [
       "<bokeh.io._CommsHandle at 0x10b9d2b90>"
      ]
     },
     "execution_count": 21,
     "metadata": {},
     "output_type": "execute_result"
    }
   ],
   "source": [
    "# create quad, circle, triangle in a single figure\n",
    "p.quad(left=years-0.4, right=years+0.4, bottom=avg-std, top=avg+std, fill_alpha=0.4)\n",
    "\n",
    "p.circle(x=japanese[\"yr\"], y=japanese[\"mpg\"], size=8,\n",
    "         alpha=0.4, line_color=\"red\", fill_color=None, line_width=2)\n",
    "\n",
    "p.triangle(x=american[\"yr\"], y=american[\"mpg\"], size=8, \n",
    "           alpha=0.4, line_color=\"blue\", fill_color=None, line_width=2)\n",
    "\n",
    "show(p)"
   ]
  },
  {
   "cell_type": "code",
   "execution_count": null,
   "metadata": {
    "collapsed": true
   },
   "outputs": [],
   "source": []
  }
 ],
 "metadata": {
  "kernelspec": {
   "display_name": "Python 2",
   "language": "python",
   "name": "python2"
  },
  "language_info": {
   "codemirror_mode": {
    "name": "ipython",
    "version": 2
   },
   "file_extension": ".py",
   "mimetype": "text/x-python",
   "name": "python",
   "nbconvert_exporter": "python",
   "pygments_lexer": "ipython2",
   "version": "2.7.12"
  }
 },
 "nbformat": 4,
 "nbformat_minor": 1
}
