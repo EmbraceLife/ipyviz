{
 "cells": [
  {
   "cell_type": "code",
   "execution_count": 2,
   "metadata": {
    "collapsed": false
   },
   "outputs": [
    {
     "data": {
      "text/html": [
       "\n",
       "    <div class=\"bk-root\">\n",
       "        <a href=\"http://bokeh.pydata.org\" target=\"_blank\" class=\"bk-logo bk-logo-small bk-logo-notebook\"></a>\n",
       "        <span id=\"d90d0a8c-9996-410b-ade3-91ac11baaa97\">Loading BokehJS ...</span>\n",
       "    </div>"
      ]
     },
     "metadata": {},
     "output_type": "display_data"
    },
    {
     "data": {
      "application/javascript": [
       "\n",
       "(function(global) {\n",
       "  function now() {\n",
       "    return new Date();\n",
       "  }\n",
       "\n",
       "  var force = \"1\";\n",
       "\n",
       "  if (typeof (window._bokeh_onload_callbacks) === \"undefined\" || force !== \"\") {\n",
       "    window._bokeh_onload_callbacks = [];\n",
       "    window._bokeh_is_loading = undefined;\n",
       "  }\n",
       "\n",
       "  function run_callbacks() {\n",
       "    window._bokeh_onload_callbacks.forEach(function(callback) { callback() });\n",
       "    delete window._bokeh_onload_callbacks\n",
       "    console.info(\"Bokeh: all callbacks have finished\");\n",
       "  }\n",
       "\n",
       "  function load_libs(js_urls, callback) {\n",
       "    window._bokeh_onload_callbacks.push(callback);\n",
       "    if (window._bokeh_is_loading > 0) {\n",
       "      console.log(\"Bokeh: BokehJS is being loaded, scheduling callback at\", now());\n",
       "      return null;\n",
       "    }\n",
       "    if (js_urls == null || js_urls.length === 0) {\n",
       "      run_callbacks();\n",
       "      return null;\n",
       "    }\n",
       "    console.log(\"Bokeh: BokehJS not loaded, scheduling load and callback at\", now());\n",
       "    window._bokeh_is_loading = js_urls.length;\n",
       "    for (var i = 0; i < js_urls.length; i++) {\n",
       "      var url = js_urls[i];\n",
       "      var s = document.createElement('script');\n",
       "      s.src = url;\n",
       "      s.async = false;\n",
       "      s.onreadystatechange = s.onload = function() {\n",
       "        window._bokeh_is_loading--;\n",
       "        if (window._bokeh_is_loading === 0) {\n",
       "          console.log(\"Bokeh: all BokehJS libraries loaded\");\n",
       "          run_callbacks()\n",
       "        }\n",
       "      };\n",
       "      s.onerror = function() {\n",
       "        console.warn(\"failed to load library \" + url);\n",
       "      };\n",
       "      console.log(\"Bokeh: injecting script tag for BokehJS library: \", url);\n",
       "      document.getElementsByTagName(\"head\")[0].appendChild(s);\n",
       "    }\n",
       "  };\n",
       "\n",
       "  var js_urls = ['https://cdn.pydata.org/bokeh/release/bokeh-0.12.1.min.js', 'https://cdn.pydata.org/bokeh/release/bokeh-widgets-0.12.1.min.js', 'https://cdn.pydata.org/bokeh/release/bokeh-compiler-0.12.1.min.js'];\n",
       "\n",
       "  var inline_js = [\n",
       "    function(Bokeh) {\n",
       "      Bokeh.set_log_level(\"info\");\n",
       "    },\n",
       "    \n",
       "    function(Bokeh) {\n",
       "      \n",
       "      Bokeh.$(\"#d90d0a8c-9996-410b-ade3-91ac11baaa97\").text(\"BokehJS successfully loaded\");\n",
       "      var kernel = Jupyter.notebook.kernel\n",
       "      if (kernel.execute !== undefined) {\n",
       "          kernel.execute(\"import bokeh.io; bokeh.io._nb_loaded = True\");\n",
       "      }\n",
       "    },\n",
       "    function(Bokeh) {\n",
       "      console.log(\"Bokeh: injecting CSS: https://cdn.pydata.org/bokeh/release/bokeh-0.12.1.min.css\");\n",
       "      Bokeh.embed.inject_css(\"https://cdn.pydata.org/bokeh/release/bokeh-0.12.1.min.css\");\n",
       "      console.log(\"Bokeh: injecting CSS: https://cdn.pydata.org/bokeh/release/bokeh-widgets-0.12.1.min.css\");\n",
       "      Bokeh.embed.inject_css(\"https://cdn.pydata.org/bokeh/release/bokeh-widgets-0.12.1.min.css\");\n",
       "    }\n",
       "  ];\n",
       "\n",
       "  function run_inline_js() {\n",
       "    for (var i = 0; i < inline_js.length; i++) {\n",
       "      inline_js[i](window.Bokeh);\n",
       "    }\n",
       "  }\n",
       "\n",
       "  if (window._bokeh_is_loading === 0) {\n",
       "    console.log(\"Bokeh: BokehJS loaded, going straight to plotting\");\n",
       "    run_inline_js();\n",
       "  } else {\n",
       "    load_libs(js_urls, function() {\n",
       "      console.log(\"Bokeh: BokehJS plotting callback run at\", now());\n",
       "      run_inline_js();\n",
       "    });\n",
       "  }\n",
       "}(this));"
      ]
     },
     "metadata": {},
     "output_type": "display_data"
    }
   ],
   "source": [
    "# Step\n",
    "\n",
    "from bokeh.charts import Step, output_notebook, show\n",
    "import pandas as pd\n",
    "\n",
    "output_notebook()"
   ]
  },
  {
   "cell_type": "code",
   "execution_count": 9,
   "metadata": {
    "collapsed": false
   },
   "outputs": [],
   "source": [
    "range(1999, 2016)\n",
    "\n",
    "# build a dataset where multiple columns measure the same thing\n",
    "data = dict(stamp=[\n",
    "                .33, .33, .34, .37, .37, .37, .37, .39, .41, .42,\n",
    "                .44, .44, .44, .45, .46, .49, .49],\n",
    "            postcard=[\n",
    "                .20, .20, .21, .23, .23, .23, .23, .24, .26, .27,\n",
    "                .28, .28, .29, .32, .33, .34, .35],\n",
    "            year = range(1999, 2016),\n",
    "            )\n"
   ]
  },
  {
   "cell_type": "code",
   "execution_count": 10,
   "metadata": {
    "collapsed": true
   },
   "outputs": [],
   "source": [
    "from IPython.display import display"
   ]
  },
  {
   "cell_type": "code",
   "execution_count": 13,
   "metadata": {
    "collapsed": false
   },
   "outputs": [
    {
     "data": {
      "text/plain": [
       "{'postcard': [0.2,\n",
       "  0.2,\n",
       "  0.21,\n",
       "  0.23,\n",
       "  0.23,\n",
       "  0.23,\n",
       "  0.23,\n",
       "  0.24,\n",
       "  0.26,\n",
       "  0.27,\n",
       "  0.28,\n",
       "  0.28,\n",
       "  0.29,\n",
       "  0.32,\n",
       "  0.33,\n",
       "  0.34,\n",
       "  0.35],\n",
       " 'stamp': [0.33,\n",
       "  0.33,\n",
       "  0.34,\n",
       "  0.37,\n",
       "  0.37,\n",
       "  0.37,\n",
       "  0.37,\n",
       "  0.39,\n",
       "  0.41,\n",
       "  0.42,\n",
       "  0.44,\n",
       "  0.44,\n",
       "  0.44,\n",
       "  0.45,\n",
       "  0.46,\n",
       "  0.49,\n",
       "  0.49],\n",
       " 'year': [1999,\n",
       "  2000,\n",
       "  2001,\n",
       "  2002,\n",
       "  2003,\n",
       "  2004,\n",
       "  2005,\n",
       "  2006,\n",
       "  2007,\n",
       "  2008,\n",
       "  2009,\n",
       "  2010,\n",
       "  2011,\n",
       "  2012,\n",
       "  2013,\n",
       "  2014,\n",
       "  2015]}"
      ]
     },
     "metadata": {},
     "output_type": "display_data"
    },
    {
     "data": {
      "text/plain": [
       "[0.2,\n",
       " 0.2,\n",
       " 0.21,\n",
       " 0.23,\n",
       " 0.23,\n",
       " 0.23,\n",
       " 0.23,\n",
       " 0.24,\n",
       " 0.26,\n",
       " 0.27,\n",
       " 0.28,\n",
       " 0.28,\n",
       " 0.29,\n",
       " 0.32,\n",
       " 0.33,\n",
       " 0.34,\n",
       " 0.35]"
      ]
     },
     "execution_count": 13,
     "metadata": {},
     "output_type": "execute_result"
    }
   ],
   "source": [
    "display(data)\n",
    "data['postcard'] # dictionary"
   ]
  },
  {
   "cell_type": "code",
   "execution_count": 15,
   "metadata": {
    "collapsed": false
   },
   "outputs": [
    {
     "data": {
      "text/html": [
       "\n",
       "\n",
       "    <div class=\"bk-root\">\n",
       "        <div class=\"plotdiv\" id=\"90687ea1-257a-4f73-9f55-5b1462abf523\"></div>\n",
       "    </div>\n",
       "<script type=\"text/javascript\">\n",
       "  \n",
       "  (function(global) {\n",
       "    function now() {\n",
       "      return new Date();\n",
       "    }\n",
       "  \n",
       "    var force = \"\";\n",
       "  \n",
       "    if (typeof (window._bokeh_onload_callbacks) === \"undefined\" || force !== \"\") {\n",
       "      window._bokeh_onload_callbacks = [];\n",
       "      window._bokeh_is_loading = undefined;\n",
       "    }\n",
       "  \n",
       "    function run_callbacks() {\n",
       "      window._bokeh_onload_callbacks.forEach(function(callback) { callback() });\n",
       "      delete window._bokeh_onload_callbacks\n",
       "      console.info(\"Bokeh: all callbacks have finished\");\n",
       "    }\n",
       "  \n",
       "    function load_libs(js_urls, callback) {\n",
       "      window._bokeh_onload_callbacks.push(callback);\n",
       "      if (window._bokeh_is_loading > 0) {\n",
       "        console.log(\"Bokeh: BokehJS is being loaded, scheduling callback at\", now());\n",
       "        return null;\n",
       "      }\n",
       "      if (js_urls == null || js_urls.length === 0) {\n",
       "        run_callbacks();\n",
       "        return null;\n",
       "      }\n",
       "      console.log(\"Bokeh: BokehJS not loaded, scheduling load and callback at\", now());\n",
       "      window._bokeh_is_loading = js_urls.length;\n",
       "      for (var i = 0; i < js_urls.length; i++) {\n",
       "        var url = js_urls[i];\n",
       "        var s = document.createElement('script');\n",
       "        s.src = url;\n",
       "        s.async = false;\n",
       "        s.onreadystatechange = s.onload = function() {\n",
       "          window._bokeh_is_loading--;\n",
       "          if (window._bokeh_is_loading === 0) {\n",
       "            console.log(\"Bokeh: all BokehJS libraries loaded\");\n",
       "            run_callbacks()\n",
       "          }\n",
       "        };\n",
       "        s.onerror = function() {\n",
       "          console.warn(\"failed to load library \" + url);\n",
       "        };\n",
       "        console.log(\"Bokeh: injecting script tag for BokehJS library: \", url);\n",
       "        document.getElementsByTagName(\"head\")[0].appendChild(s);\n",
       "      }\n",
       "    };var element = document.getElementById(\"90687ea1-257a-4f73-9f55-5b1462abf523\");\n",
       "    if (element == null) {\n",
       "      console.log(\"Bokeh: ERROR: autoload.js configured with elementid '90687ea1-257a-4f73-9f55-5b1462abf523' but no matching script tag was found. \")\n",
       "      return false;\n",
       "    }\n",
       "  \n",
       "    var js_urls = [];\n",
       "  \n",
       "    var inline_js = [\n",
       "      function(Bokeh) {\n",
       "        Bokeh.$(function() {\n",
       "            var docs_json = {\"ca01293f-fcf9-4b45-9c4c-08135bd2bc35\":{\"roots\":{\"references\":[{\"attributes\":{\"callback\":null,\"end\":0.519,\"start\":0.171},\"id\":\"4e53bb91-66f7-41ae-8284-dd0f4a5438ee\",\"type\":\"Range1d\"},{\"attributes\":{\"callback\":null,\"column_names\":[\"x_values\",\"y_values\"],\"data\":{\"chart_index\":[\"None\",\"None\",\"None\",\"None\",\"None\",\"None\",\"None\",\"None\",\"None\",\"None\",\"None\",\"None\",\"None\",\"None\",\"None\",\"None\",\"None\",\"None\",\"None\",\"None\",\"None\",\"None\",\"None\",\"None\",\"None\",\"None\",\"None\",\"None\",\"None\",\"None\",\"None\",\"None\",\"None\"],\"x_values\":[1999,2000,2000,2001,2001,2002,2002,2003,2003,2004,2004,2005,2005,2006,2006,2007,2007,2008,2008,2009,2009,2010,2010,2011,2011,2012,2012,2013,2013,2014,2014,2015,2015],\"y_values\":[0.2,0.2,0.2,0.2,0.21,0.21,0.23,0.23,0.23,0.23,0.23,0.23,0.23,0.23,0.24,0.24,0.26,0.26,0.27,0.27,0.28,0.28,0.28,0.28,0.29,0.29,0.32,0.32,0.33,0.33,0.34,0.34,0.35]}},\"id\":\"065be912-3e90-447c-84a4-392283a04df7\",\"type\":\"ColumnDataSource\"},{\"attributes\":{\"callback\":null,\"end\":2016.6,\"start\":1997.4},\"id\":\"9db44f27-4021-4075-9e9d-6455beb1d2e9\",\"type\":\"Range1d\"},{\"attributes\":{},\"id\":\"8653bd34-4897-4f6f-80fa-54fac218f87d\",\"type\":\"BasicTickFormatter\"},{\"attributes\":{\"plot\":{\"id\":\"ebb7fc8b-fab1-4d65-bdbf-491352b42529\",\"subtype\":\"Chart\",\"type\":\"Plot\"}},\"id\":\"10985ea7-e353-4b9e-a93e-f9f371e87d5e\",\"type\":\"HelpTool\"},{\"attributes\":{\"plot\":{\"id\":\"ebb7fc8b-fab1-4d65-bdbf-491352b42529\",\"subtype\":\"Chart\",\"type\":\"Plot\"}},\"id\":\"f1600945-c4de-48b4-80ce-ef4754945c20\",\"type\":\"ResetTool\"},{\"attributes\":{\"data_source\":{\"id\":\"90595b5f-6306-4410-9608-c2a9a635f95b\",\"type\":\"ColumnDataSource\"},\"glyph\":{\"id\":\"924073fa-1384-4117-884f-007c87570abf\",\"type\":\"Line\"},\"hover_glyph\":null,\"nonselection_glyph\":null,\"selection_glyph\":null},\"id\":\"0d622705-7c48-424c-b265-2313830ae806\",\"type\":\"GlyphRenderer\"},{\"attributes\":{\"active_drag\":\"auto\",\"active_scroll\":\"auto\",\"active_tap\":\"auto\",\"tools\":[{\"id\":\"ae8559b4-f5d7-44de-a709-4fb85daf7535\",\"type\":\"PanTool\"},{\"id\":\"b9559010-d03c-4d3e-8561-95240f97e229\",\"type\":\"WheelZoomTool\"},{\"id\":\"7f44974f-49a2-4763-adfd-695413eed59c\",\"type\":\"BoxZoomTool\"},{\"id\":\"b13b8c9b-c24e-44a4-856f-7f35f65424e5\",\"type\":\"SaveTool\"},{\"id\":\"f1600945-c4de-48b4-80ce-ef4754945c20\",\"type\":\"ResetTool\"},{\"id\":\"10985ea7-e353-4b9e-a93e-f9f371e87d5e\",\"type\":\"HelpTool\"}]},\"id\":\"5155640c-148b-495e-b8f6-3781576e2512\",\"type\":\"Toolbar\"},{\"attributes\":{\"data_source\":{\"id\":\"065be912-3e90-447c-84a4-392283a04df7\",\"type\":\"ColumnDataSource\"},\"glyph\":{\"id\":\"126f6d8c-4436-440d-af22-9fd98e4f0b4c\",\"type\":\"Line\"},\"hover_glyph\":null,\"nonselection_glyph\":null,\"selection_glyph\":null},\"id\":\"2a3ed80f-f780-4075-958d-bd25d554b119\",\"type\":\"GlyphRenderer\"},{\"attributes\":{\"plot\":{\"id\":\"ebb7fc8b-fab1-4d65-bdbf-491352b42529\",\"subtype\":\"Chart\",\"type\":\"Plot\"}},\"id\":\"ae8559b4-f5d7-44de-a709-4fb85daf7535\",\"type\":\"PanTool\"},{\"attributes\":{\"bottom_units\":\"screen\",\"fill_alpha\":{\"value\":0.5},\"fill_color\":{\"value\":\"lightgrey\"},\"left_units\":\"screen\",\"level\":\"overlay\",\"line_alpha\":{\"value\":1.0},\"line_color\":{\"value\":\"black\"},\"line_dash\":[4,4],\"line_width\":{\"value\":2},\"plot\":null,\"render_mode\":\"css\",\"right_units\":\"screen\",\"top_units\":\"screen\"},\"id\":\"664823f0-2d48-4964-8507-91201e56e26d\",\"type\":\"BoxAnnotation\"},{\"attributes\":{\"plot\":{\"id\":\"ebb7fc8b-fab1-4d65-bdbf-491352b42529\",\"subtype\":\"Chart\",\"type\":\"Plot\"}},\"id\":\"b13b8c9b-c24e-44a4-856f-7f35f65424e5\",\"type\":\"SaveTool\"},{\"attributes\":{\"axis_label\":\"Rate per ounce\",\"formatter\":{\"id\":\"57548855-c4d2-49b6-a6f2-0d25e4f0f4a4\",\"type\":\"BasicTickFormatter\"},\"plot\":{\"id\":\"ebb7fc8b-fab1-4d65-bdbf-491352b42529\",\"subtype\":\"Chart\",\"type\":\"Plot\"},\"ticker\":{\"id\":\"660ca359-f56a-4afe-b4df-4ea6fc68e96b\",\"type\":\"BasicTicker\"}},\"id\":\"d672c3a5-d7cf-4561-a1ff-f4185ff65e00\",\"type\":\"LinearAxis\"},{\"attributes\":{\"line_color\":{\"value\":\"#f22c40\"},\"line_width\":{\"value\":2},\"x\":{\"field\":\"x_values\"},\"y\":{\"field\":\"y_values\"}},\"id\":\"126f6d8c-4436-440d-af22-9fd98e4f0b4c\",\"type\":\"Line\"},{\"attributes\":{\"callback\":null,\"column_names\":[\"x_values\",\"y_values\"],\"data\":{\"chart_index\":[\"None\",\"None\",\"None\",\"None\",\"None\",\"None\",\"None\",\"None\",\"None\",\"None\",\"None\",\"None\",\"None\",\"None\",\"None\",\"None\",\"None\",\"None\",\"None\",\"None\",\"None\",\"None\",\"None\",\"None\",\"None\",\"None\",\"None\",\"None\",\"None\",\"None\",\"None\",\"None\",\"None\"],\"x_values\":[1999,2000,2000,2001,2001,2002,2002,2003,2003,2004,2004,2005,2005,2006,2006,2007,2007,2008,2008,2009,2009,2010,2010,2011,2011,2012,2012,2013,2013,2014,2014,2015,2015],\"y_values\":[0.33,0.33,0.33,0.33,0.34,0.34,0.37,0.37,0.37,0.37,0.37,0.37,0.37,0.37,0.39,0.39,0.41,0.41,0.42,0.42,0.44,0.44,0.44,0.44,0.44,0.44,0.45,0.45,0.46,0.46,0.49,0.49,0.49]}},\"id\":\"90595b5f-6306-4410-9608-c2a9a635f95b\",\"type\":\"ColumnDataSource\"},{\"attributes\":{\"axis_label\":\"year\",\"formatter\":{\"id\":\"8653bd34-4897-4f6f-80fa-54fac218f87d\",\"type\":\"BasicTickFormatter\"},\"plot\":{\"id\":\"ebb7fc8b-fab1-4d65-bdbf-491352b42529\",\"subtype\":\"Chart\",\"type\":\"Plot\"},\"ticker\":{\"id\":\"885029e7-448a-4631-a7d4-7a385d3a291c\",\"type\":\"BasicTicker\"}},\"id\":\"155373a2-3406-476a-aaa9-aae3e1be87d6\",\"type\":\"LinearAxis\"},{\"attributes\":{\"below\":[{\"id\":\"155373a2-3406-476a-aaa9-aae3e1be87d6\",\"type\":\"LinearAxis\"}],\"left\":[{\"id\":\"d672c3a5-d7cf-4561-a1ff-f4185ff65e00\",\"type\":\"LinearAxis\"}],\"renderers\":[{\"id\":\"664823f0-2d48-4964-8507-91201e56e26d\",\"type\":\"BoxAnnotation\"},{\"id\":\"0d622705-7c48-424c-b265-2313830ae806\",\"type\":\"GlyphRenderer\"},{\"id\":\"2a3ed80f-f780-4075-958d-bd25d554b119\",\"type\":\"GlyphRenderer\"},{\"id\":\"5580cafd-d82b-4cd8-92b8-26cf9077e792\",\"type\":\"Legend\"},{\"id\":\"155373a2-3406-476a-aaa9-aae3e1be87d6\",\"type\":\"LinearAxis\"},{\"id\":\"d672c3a5-d7cf-4561-a1ff-f4185ff65e00\",\"type\":\"LinearAxis\"},{\"id\":\"facad8ac-d1b7-4a66-8cc7-76111d6af466\",\"type\":\"Grid\"},{\"id\":\"e25170a3-e2f7-4a85-94f1-0777ce3364ef\",\"type\":\"Grid\"}],\"title\":{\"id\":\"a7242494-466d-4775-bafe-1f333d21c4ca\",\"type\":\"Title\"},\"tool_events\":{\"id\":\"f23acbf8-d2e7-4383-bef0-efa41bbeb196\",\"type\":\"ToolEvents\"},\"toolbar\":{\"id\":\"5155640c-148b-495e-b8f6-3781576e2512\",\"type\":\"Toolbar\"},\"x_mapper_type\":\"auto\",\"x_range\":{\"id\":\"9db44f27-4021-4075-9e9d-6455beb1d2e9\",\"type\":\"Range1d\"},\"y_mapper_type\":\"auto\",\"y_range\":{\"id\":\"4e53bb91-66f7-41ae-8284-dd0f4a5438ee\",\"type\":\"Range1d\"}},\"id\":\"ebb7fc8b-fab1-4d65-bdbf-491352b42529\",\"subtype\":\"Chart\",\"type\":\"Plot\"},{\"attributes\":{},\"id\":\"660ca359-f56a-4afe-b4df-4ea6fc68e96b\",\"type\":\"BasicTicker\"},{\"attributes\":{\"plot\":{\"id\":\"ebb7fc8b-fab1-4d65-bdbf-491352b42529\",\"subtype\":\"Chart\",\"type\":\"Plot\"},\"ticker\":{\"id\":\"885029e7-448a-4631-a7d4-7a385d3a291c\",\"type\":\"BasicTicker\"}},\"id\":\"facad8ac-d1b7-4a66-8cc7-76111d6af466\",\"type\":\"Grid\"},{\"attributes\":{\"overlay\":{\"id\":\"664823f0-2d48-4964-8507-91201e56e26d\",\"type\":\"BoxAnnotation\"},\"plot\":{\"id\":\"ebb7fc8b-fab1-4d65-bdbf-491352b42529\",\"subtype\":\"Chart\",\"type\":\"Plot\"}},\"id\":\"7f44974f-49a2-4763-adfd-695413eed59c\",\"type\":\"BoxZoomTool\"},{\"attributes\":{\"dimension\":1,\"plot\":{\"id\":\"ebb7fc8b-fab1-4d65-bdbf-491352b42529\",\"subtype\":\"Chart\",\"type\":\"Plot\"},\"ticker\":{\"id\":\"660ca359-f56a-4afe-b4df-4ea6fc68e96b\",\"type\":\"BasicTicker\"}},\"id\":\"e25170a3-e2f7-4a85-94f1-0777ce3364ef\",\"type\":\"Grid\"},{\"attributes\":{\"plot\":null,\"text\":\"U.S. Postage Rates (1999-2015)\"},\"id\":\"a7242494-466d-4775-bafe-1f333d21c4ca\",\"type\":\"Title\"},{\"attributes\":{\"plot\":{\"id\":\"ebb7fc8b-fab1-4d65-bdbf-491352b42529\",\"subtype\":\"Chart\",\"type\":\"Plot\"}},\"id\":\"b9559010-d03c-4d3e-8561-95240f97e229\",\"type\":\"WheelZoomTool\"},{\"attributes\":{},\"id\":\"57548855-c4d2-49b6-a6f2-0d25e4f0f4a4\",\"type\":\"BasicTickFormatter\"},{\"attributes\":{\"legends\":[[\"stamp\",[{\"id\":\"0d622705-7c48-424c-b265-2313830ae806\",\"type\":\"GlyphRenderer\"}]],[\"postcard\",[{\"id\":\"2a3ed80f-f780-4075-958d-bd25d554b119\",\"type\":\"GlyphRenderer\"}]]],\"location\":\"top_left\",\"plot\":{\"id\":\"ebb7fc8b-fab1-4d65-bdbf-491352b42529\",\"subtype\":\"Chart\",\"type\":\"Plot\"}},\"id\":\"5580cafd-d82b-4cd8-92b8-26cf9077e792\",\"type\":\"Legend\"},{\"attributes\":{},\"id\":\"f23acbf8-d2e7-4383-bef0-efa41bbeb196\",\"type\":\"ToolEvents\"},{\"attributes\":{\"line_color\":{\"value\":\"#5ab738\"},\"line_dash\":[6],\"line_width\":{\"value\":2},\"x\":{\"field\":\"x_values\"},\"y\":{\"field\":\"y_values\"}},\"id\":\"924073fa-1384-4117-884f-007c87570abf\",\"type\":\"Line\"},{\"attributes\":{},\"id\":\"885029e7-448a-4631-a7d4-7a385d3a291c\",\"type\":\"BasicTicker\"}],\"root_ids\":[\"ebb7fc8b-fab1-4d65-bdbf-491352b42529\"]},\"title\":\"Bokeh Application\",\"version\":\"0.12.1\"}};\n",
       "            var render_items = [{\"docid\":\"ca01293f-fcf9-4b45-9c4c-08135bd2bc35\",\"elementid\":\"90687ea1-257a-4f73-9f55-5b1462abf523\",\"modelid\":\"ebb7fc8b-fab1-4d65-bdbf-491352b42529\",\"notebook_comms_target\":\"af346bfb-cf04-4b7e-a456-77cf09620ef2\"}];\n",
       "            \n",
       "            Bokeh.embed.embed_items(docs_json, render_items);\n",
       "        });\n",
       "      },\n",
       "      function(Bokeh) {\n",
       "      }\n",
       "    ];\n",
       "  \n",
       "    function run_inline_js() {\n",
       "      for (var i = 0; i < inline_js.length; i++) {\n",
       "        inline_js[i](window.Bokeh);\n",
       "      }\n",
       "    }\n",
       "  \n",
       "    if (window._bokeh_is_loading === 0) {\n",
       "      console.log(\"Bokeh: BokehJS loaded, going straight to plotting\");\n",
       "      run_inline_js();\n",
       "    } else {\n",
       "      load_libs(js_urls, function() {\n",
       "        console.log(\"Bokeh: BokehJS plotting callback run at\", now());\n",
       "        run_inline_js();\n",
       "      });\n",
       "    }\n",
       "  }(this));\n",
       "</script>"
      ]
     },
     "metadata": {},
     "output_type": "display_data"
    },
    {
     "data": {
      "text/html": [
       "<p><code>&lt;Bokeh Notebook handle for <strong>In[15]</strong>&gt;</code></p>"
      ],
      "text/plain": [
       "<bokeh.io._CommsHandle at 0x10bc2c950>"
      ]
     },
     "execution_count": 15,
     "metadata": {},
     "output_type": "execute_result"
    }
   ],
   "source": [
    "# create a line chart where each column of measures receives a unique color and dash style\n",
    "line = Step(data, y=['stamp', 'postcard'], \n",
    "            x = 'year',\n",
    "            dash=['stamp', 'postcard'],\n",
    "            color=['stamp', 'postcard'],\n",
    "            title=\"U.S. Postage Rates (1999-2015)\", ylabel='Rate per ounce', legend=True)\n",
    "\n",
    "show(line)"
   ]
  },
  {
   "cell_type": "code",
   "execution_count": null,
   "metadata": {
    "collapsed": true
   },
   "outputs": [],
   "source": []
  }
 ],
 "metadata": {
  "kernelspec": {
   "display_name": "Python 2",
   "language": "python",
   "name": "python2"
  },
  "language_info": {
   "codemirror_mode": {
    "name": "ipython",
    "version": 2
   },
   "file_extension": ".py",
   "mimetype": "text/x-python",
   "name": "python",
   "nbconvert_exporter": "python",
   "pygments_lexer": "ipython2",
   "version": "2.7.12"
  }
 },
 "nbformat": 4,
 "nbformat_minor": 1
}
