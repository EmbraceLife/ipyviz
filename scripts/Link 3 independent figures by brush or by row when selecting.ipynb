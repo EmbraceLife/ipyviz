{
 "cells": [
  {
   "cell_type": "code",
   "execution_count": 1,
   "metadata": {
    "collapsed": false
   },
   "outputs": [
    {
     "data": {
      "text/html": [
       "\n",
       "    <div class=\"bk-root\">\n",
       "        <a href=\"http://bokeh.pydata.org\" target=\"_blank\" class=\"bk-logo bk-logo-small bk-logo-notebook\"></a>\n",
       "        <span id=\"9dcc38da-5d77-49a6-81cb-5c48a5ba9466\">Loading BokehJS ...</span>\n",
       "    </div>"
      ]
     },
     "metadata": {},
     "output_type": "display_data"
    },
    {
     "data": {
      "application/javascript": [
       "\n",
       "(function(global) {\n",
       "  function now() {\n",
       "    return new Date();\n",
       "  }\n",
       "\n",
       "  var force = \"1\";\n",
       "\n",
       "  if (typeof (window._bokeh_onload_callbacks) === \"undefined\" || force !== \"\") {\n",
       "    window._bokeh_onload_callbacks = [];\n",
       "    window._bokeh_is_loading = undefined;\n",
       "  }\n",
       "\n",
       "\n",
       "  \n",
       "  if (typeof (window._bokeh_timeout) === \"undefined\" || force !== \"\") {\n",
       "    window._bokeh_timeout = Date.now() + 5000;\n",
       "    window._bokeh_failed_load = false;\n",
       "  }\n",
       "\n",
       "  var NB_LOAD_WARNING = {'data': {'text/html':\n",
       "     \"<div style='background-color: #fdd'>\\n\"+\n",
       "     \"<p>\\n\"+\n",
       "     \"BokehJS does not appear to have successfully loaded. If loading BokehJS from CDN, this \\n\"+\n",
       "     \"may be due to a slow or bad network connection. Possible fixes:\\n\"+\n",
       "     \"</p>\\n\"+\n",
       "     \"<ul>\\n\"+\n",
       "     \"<li>re-rerun `output_notebook()` to attempt to load from CDN again, or</li>\\n\"+\n",
       "     \"<li>use INLINE resources instead, as so:</li>\\n\"+\n",
       "     \"</ul>\\n\"+\n",
       "     \"<code>\\n\"+\n",
       "     \"from bokeh.resources import INLINE\\n\"+\n",
       "     \"output_notebook(resources=INLINE)\\n\"+\n",
       "     \"</code>\\n\"+\n",
       "     \"</div>\"}};\n",
       "\n",
       "  function display_loaded() {\n",
       "    if (window.Bokeh !== undefined) {\n",
       "      Bokeh.$(\"#9dcc38da-5d77-49a6-81cb-5c48a5ba9466\").text(\"BokehJS successfully loaded.\");\n",
       "    } else if (Date.now() < window._bokeh_timeout) {\n",
       "      setTimeout(display_loaded, 100)\n",
       "    }\n",
       "  }\n",
       "\n",
       "  function run_callbacks() {\n",
       "    window._bokeh_onload_callbacks.forEach(function(callback) { callback() });\n",
       "    delete window._bokeh_onload_callbacks\n",
       "    console.info(\"Bokeh: all callbacks have finished\");\n",
       "  }\n",
       "\n",
       "  function load_libs(js_urls, callback) {\n",
       "    window._bokeh_onload_callbacks.push(callback);\n",
       "    if (window._bokeh_is_loading > 0) {\n",
       "      console.log(\"Bokeh: BokehJS is being loaded, scheduling callback at\", now());\n",
       "      return null;\n",
       "    }\n",
       "    if (js_urls == null || js_urls.length === 0) {\n",
       "      run_callbacks();\n",
       "      return null;\n",
       "    }\n",
       "    console.log(\"Bokeh: BokehJS not loaded, scheduling load and callback at\", now());\n",
       "    window._bokeh_is_loading = js_urls.length;\n",
       "    for (var i = 0; i < js_urls.length; i++) {\n",
       "      var url = js_urls[i];\n",
       "      var s = document.createElement('script');\n",
       "      s.src = url;\n",
       "      s.async = false;\n",
       "      s.onreadystatechange = s.onload = function() {\n",
       "        window._bokeh_is_loading--;\n",
       "        if (window._bokeh_is_loading === 0) {\n",
       "          console.log(\"Bokeh: all BokehJS libraries loaded\");\n",
       "          run_callbacks()\n",
       "        }\n",
       "      };\n",
       "      s.onerror = function() {\n",
       "        console.warn(\"failed to load library \" + url);\n",
       "      };\n",
       "      console.log(\"Bokeh: injecting script tag for BokehJS library: \", url);\n",
       "      document.getElementsByTagName(\"head\")[0].appendChild(s);\n",
       "    }\n",
       "  };var element = document.getElementById(\"9dcc38da-5d77-49a6-81cb-5c48a5ba9466\");\n",
       "  if (element == null) {\n",
       "    console.log(\"Bokeh: ERROR: autoload.js configured with elementid '9dcc38da-5d77-49a6-81cb-5c48a5ba9466' but no matching script tag was found. \")\n",
       "    return false;\n",
       "  }\n",
       "\n",
       "  var js_urls = ['https://cdn.pydata.org/bokeh/release/bokeh-0.12.2.min.js', 'https://cdn.pydata.org/bokeh/release/bokeh-widgets-0.12.2.min.js', 'https://cdn.pydata.org/bokeh/release/bokeh-compiler-0.12.2.min.js'];\n",
       "\n",
       "  var inline_js = [\n",
       "    function(Bokeh) {\n",
       "      Bokeh.set_log_level(\"info\");\n",
       "    },\n",
       "    \n",
       "    function(Bokeh) {\n",
       "      \n",
       "      Bokeh.$(\"#9dcc38da-5d77-49a6-81cb-5c48a5ba9466\").text(\"BokehJS is loading...\");\n",
       "    },\n",
       "    function(Bokeh) {\n",
       "      console.log(\"Bokeh: injecting CSS: https://cdn.pydata.org/bokeh/release/bokeh-0.12.2.min.css\");\n",
       "      Bokeh.embed.inject_css(\"https://cdn.pydata.org/bokeh/release/bokeh-0.12.2.min.css\");\n",
       "      console.log(\"Bokeh: injecting CSS: https://cdn.pydata.org/bokeh/release/bokeh-widgets-0.12.2.min.css\");\n",
       "      Bokeh.embed.inject_css(\"https://cdn.pydata.org/bokeh/release/bokeh-widgets-0.12.2.min.css\");\n",
       "    }\n",
       "  ];\n",
       "\n",
       "  function run_inline_js() {\n",
       "    \n",
       "    if ((window.Bokeh !== undefined) || (force === \"1\")) {\n",
       "      for (var i = 0; i < inline_js.length; i++) {\n",
       "        inline_js[i](window.Bokeh);\n",
       "      }if (force === \"1\") {\n",
       "        display_loaded();\n",
       "      }} else if (Date.now() < window._bokeh_timeout) {\n",
       "      setTimeout(run_inline_js, 100);\n",
       "    } else if (!window._bokeh_failed_load) {\n",
       "      console.log(\"Bokeh: BokehJS failed to load within specified timeout.\");\n",
       "      window._bokeh_failed_load = true;\n",
       "    } else if (!force) {\n",
       "      var cell = $(\"#9dcc38da-5d77-49a6-81cb-5c48a5ba9466\").parents('.cell').data().cell;\n",
       "      cell.output_area.append_execute_result(NB_LOAD_WARNING)\n",
       "    }\n",
       "\n",
       "  }\n",
       "\n",
       "  if (window._bokeh_is_loading === 0) {\n",
       "    console.log(\"Bokeh: BokehJS loaded, going straight to plotting\");\n",
       "    run_inline_js();\n",
       "  } else {\n",
       "    load_libs(js_urls, function() {\n",
       "      console.log(\"Bokeh: BokehJS plotting callback run at\", now());\n",
       "      run_inline_js();\n",
       "    });\n",
       "  }\n",
       "}(this));"
      ]
     },
     "metadata": {},
     "output_type": "display_data"
    }
   ],
   "source": [
    "from bokeh.plotting import figure, output_notebook, show\n",
    "from bokeh.sampledata.autompg import autompg\n",
    "\n",
    "output_notebook()"
   ]
  },
  {
   "cell_type": "code",
   "execution_count": 2,
   "metadata": {
    "collapsed": false
   },
   "outputs": [],
   "source": [
    "from bokeh.models import ColumnDataSource\n",
    "from bokeh.layouts import gridplot\n",
    "from IPython.display import display\n",
    "import pandas as pd\n",
    "pd.set_option('display.max_rows', 10)\n",
    "pd.set_option('display.max_columns', 10)"
   ]
  },
  {
   "cell_type": "code",
   "execution_count": 3,
   "metadata": {
    "collapsed": true
   },
   "outputs": [],
   "source": [
    "# convert pd.dataframe into dict, stored by columndatasource\n",
    "source = ColumnDataSource(autompg.to_dict(\"list\")) # doc is good enoughb"
   ]
  },
  {
   "cell_type": "code",
   "execution_count": 4,
   "metadata": {
    "collapsed": true
   },
   "outputs": [],
   "source": [
    "import numpy as np\n",
    "import pandas as pd"
   ]
  },
  {
   "cell_type": "markdown",
   "metadata": {},
   "source": [
    "### unique() only work for pd.Series, not np.array, not list"
   ]
  },
  {
   "cell_type": "code",
   "execution_count": 5,
   "metadata": {
    "collapsed": false
   },
   "outputs": [
    {
     "data": {
      "text/plain": [
       "['origin', 'mpg', 'cyl', 'displ', 'weight', 'hp', 'accel', 'yr', 'name']"
      ]
     },
     "metadata": {},
     "output_type": "display_data"
    },
    {
     "data": {
      "text/plain": [
       "array([1, 3, 2])"
      ]
     },
     "metadata": {},
     "output_type": "display_data"
    }
   ],
   "source": [
    "# display(source.data)\n",
    "display(source.data.keys())\n",
    "# display(np.array(source.data['origin']).unique())\n",
    "display(pd.Series(source.data['origin']).unique())"
   ]
  },
  {
   "cell_type": "code",
   "execution_count": 6,
   "metadata": {
    "collapsed": false
   },
   "outputs": [
    {
     "data": {
      "text/plain": [
       "accel     float64\n",
       "cyl         int64\n",
       "displ     float64\n",
       "hp          int64\n",
       "mpg       float64\n",
       "name       object\n",
       "origin      int64\n",
       "weight      int64\n",
       "yr          int64\n",
       "dtype: object"
      ]
     },
     "metadata": {},
     "output_type": "display_data"
    }
   ],
   "source": [
    "display(pd.DataFrame(source.data).dtypes)"
   ]
  },
  {
   "cell_type": "markdown",
   "metadata": {},
   "source": [
    "### How to add extra column to source"
   ]
  },
  {
   "cell_type": "code",
   "execution_count": 8,
   "metadata": {
    "collapsed": false
   },
   "outputs": [
    {
     "data": {
      "text/plain": [
       "Index([u'accel', u'cyl', u'displ', u'hp', u'mpg', u'name', u'origin',\n",
       "       u'weight', u'year', u'yr'],\n",
       "      dtype='object')"
      ]
     },
     "metadata": {},
     "output_type": "display_data"
    },
    {
     "data": {
      "text/html": [
       "<div>\n",
       "<table border=\"1\" class=\"dataframe\">\n",
       "  <thead>\n",
       "    <tr style=\"text-align: right;\">\n",
       "      <th></th>\n",
       "      <th>accel</th>\n",
       "      <th>cyl</th>\n",
       "      <th>displ</th>\n",
       "      <th>hp</th>\n",
       "      <th>mpg</th>\n",
       "      <th>name</th>\n",
       "      <th>origin</th>\n",
       "      <th>weight</th>\n",
       "      <th>year</th>\n",
       "      <th>yr</th>\n",
       "    </tr>\n",
       "  </thead>\n",
       "  <tbody>\n",
       "    <tr>\n",
       "      <th>0</th>\n",
       "      <td>12.0</td>\n",
       "      <td>8</td>\n",
       "      <td>307.0</td>\n",
       "      <td>130</td>\n",
       "      <td>18.0</td>\n",
       "      <td>chevrolet chevelle malibu</td>\n",
       "      <td>1</td>\n",
       "      <td>3504</td>\n",
       "      <td>80</td>\n",
       "      <td>70</td>\n",
       "    </tr>\n",
       "    <tr>\n",
       "      <th>1</th>\n",
       "      <td>11.5</td>\n",
       "      <td>8</td>\n",
       "      <td>350.0</td>\n",
       "      <td>165</td>\n",
       "      <td>15.0</td>\n",
       "      <td>buick skylark 320</td>\n",
       "      <td>1</td>\n",
       "      <td>3693</td>\n",
       "      <td>80</td>\n",
       "      <td>70</td>\n",
       "    </tr>\n",
       "    <tr>\n",
       "      <th>2</th>\n",
       "      <td>11.0</td>\n",
       "      <td>8</td>\n",
       "      <td>318.0</td>\n",
       "      <td>150</td>\n",
       "      <td>18.0</td>\n",
       "      <td>plymouth satellite</td>\n",
       "      <td>1</td>\n",
       "      <td>3436</td>\n",
       "      <td>80</td>\n",
       "      <td>70</td>\n",
       "    </tr>\n",
       "    <tr>\n",
       "      <th>3</th>\n",
       "      <td>12.0</td>\n",
       "      <td>8</td>\n",
       "      <td>304.0</td>\n",
       "      <td>150</td>\n",
       "      <td>16.0</td>\n",
       "      <td>amc rebel sst</td>\n",
       "      <td>1</td>\n",
       "      <td>3433</td>\n",
       "      <td>80</td>\n",
       "      <td>70</td>\n",
       "    </tr>\n",
       "    <tr>\n",
       "      <th>4</th>\n",
       "      <td>10.5</td>\n",
       "      <td>8</td>\n",
       "      <td>302.0</td>\n",
       "      <td>140</td>\n",
       "      <td>17.0</td>\n",
       "      <td>ford torino</td>\n",
       "      <td>1</td>\n",
       "      <td>3449</td>\n",
       "      <td>80</td>\n",
       "      <td>70</td>\n",
       "    </tr>\n",
       "    <tr>\n",
       "      <th>...</th>\n",
       "      <td>...</td>\n",
       "      <td>...</td>\n",
       "      <td>...</td>\n",
       "      <td>...</td>\n",
       "      <td>...</td>\n",
       "      <td>...</td>\n",
       "      <td>...</td>\n",
       "      <td>...</td>\n",
       "      <td>...</td>\n",
       "      <td>...</td>\n",
       "    </tr>\n",
       "    <tr>\n",
       "      <th>387</th>\n",
       "      <td>15.6</td>\n",
       "      <td>4</td>\n",
       "      <td>140.0</td>\n",
       "      <td>86</td>\n",
       "      <td>27.0</td>\n",
       "      <td>ford mustang gl</td>\n",
       "      <td>1</td>\n",
       "      <td>2790</td>\n",
       "      <td>92</td>\n",
       "      <td>82</td>\n",
       "    </tr>\n",
       "    <tr>\n",
       "      <th>388</th>\n",
       "      <td>24.6</td>\n",
       "      <td>4</td>\n",
       "      <td>97.0</td>\n",
       "      <td>52</td>\n",
       "      <td>44.0</td>\n",
       "      <td>vw pickup</td>\n",
       "      <td>2</td>\n",
       "      <td>2130</td>\n",
       "      <td>92</td>\n",
       "      <td>82</td>\n",
       "    </tr>\n",
       "    <tr>\n",
       "      <th>389</th>\n",
       "      <td>11.6</td>\n",
       "      <td>4</td>\n",
       "      <td>135.0</td>\n",
       "      <td>84</td>\n",
       "      <td>32.0</td>\n",
       "      <td>dodge rampage</td>\n",
       "      <td>1</td>\n",
       "      <td>2295</td>\n",
       "      <td>92</td>\n",
       "      <td>82</td>\n",
       "    </tr>\n",
       "    <tr>\n",
       "      <th>390</th>\n",
       "      <td>18.6</td>\n",
       "      <td>4</td>\n",
       "      <td>120.0</td>\n",
       "      <td>79</td>\n",
       "      <td>28.0</td>\n",
       "      <td>ford ranger</td>\n",
       "      <td>1</td>\n",
       "      <td>2625</td>\n",
       "      <td>92</td>\n",
       "      <td>82</td>\n",
       "    </tr>\n",
       "    <tr>\n",
       "      <th>391</th>\n",
       "      <td>19.4</td>\n",
       "      <td>4</td>\n",
       "      <td>119.0</td>\n",
       "      <td>82</td>\n",
       "      <td>31.0</td>\n",
       "      <td>chevy s-10</td>\n",
       "      <td>1</td>\n",
       "      <td>2720</td>\n",
       "      <td>92</td>\n",
       "      <td>82</td>\n",
       "    </tr>\n",
       "  </tbody>\n",
       "</table>\n",
       "<p>392 rows × 10 columns</p>\n",
       "</div>"
      ],
      "text/plain": [
       "     accel  cyl  displ   hp   mpg                       name  origin  weight  \\\n",
       "0     12.0    8  307.0  130  18.0  chevrolet chevelle malibu       1    3504   \n",
       "1     11.5    8  350.0  165  15.0          buick skylark 320       1    3693   \n",
       "2     11.0    8  318.0  150  18.0         plymouth satellite       1    3436   \n",
       "3     12.0    8  304.0  150  16.0              amc rebel sst       1    3433   \n",
       "4     10.5    8  302.0  140  17.0                ford torino       1    3449   \n",
       "..     ...  ...    ...  ...   ...                        ...     ...     ...   \n",
       "387   15.6    4  140.0   86  27.0            ford mustang gl       1    2790   \n",
       "388   24.6    4   97.0   52  44.0                  vw pickup       2    2130   \n",
       "389   11.6    4  135.0   84  32.0              dodge rampage       1    2295   \n",
       "390   18.6    4  120.0   79  28.0                ford ranger       1    2625   \n",
       "391   19.4    4  119.0   82  31.0                 chevy s-10       1    2720   \n",
       "\n",
       "     year  yr  \n",
       "0      80  70  \n",
       "1      80  70  \n",
       "2      80  70  \n",
       "3      80  70  \n",
       "4      80  70  \n",
       "..    ...  ..  \n",
       "387    92  82  \n",
       "388    92  82  \n",
       "389    92  82  \n",
       "390    92  82  \n",
       "391    92  82  \n",
       "\n",
       "[392 rows x 10 columns]"
      ]
     },
     "metadata": {},
     "output_type": "display_data"
    }
   ],
   "source": [
    "source.add(autompg[\"yr\"]+10, name=\"year\") # add a new column from a diff dataset usually\n",
    "display(pd.DataFrame(source.data).columns)\n",
    "\n",
    "display(pd.DataFrame(source.data))"
   ]
  },
  {
   "cell_type": "code",
   "execution_count": 9,
   "metadata": {
    "collapsed": true
   },
   "outputs": [],
   "source": [
    "# set plotting configurations first\n",
    "plot_config = dict(plot_width=300, plot_height=300,\n",
    "                   tools=\"pan,wheel_zoom,box_zoom,box_select,lasso_select\")"
   ]
  },
  {
   "cell_type": "markdown",
   "metadata": {},
   "source": [
    "### plot_config for all figures"
   ]
  },
  {
   "cell_type": "code",
   "execution_count": 18,
   "metadata": {
    "collapsed": false
   },
   "outputs": [
    {
     "data": {
      "text/plain": [
       "<bokeh.models.renderers.GlyphRenderer at 0x10bbbf0d0>"
      ]
     },
     "execution_count": 18,
     "metadata": {},
     "output_type": "execute_result"
    }
   ],
   "source": [
    "# create a figure and plot curve of circles\n",
    "p1 = figure(title=\"MPG by Year\", **plot_config)\n",
    "p1.circle(\"yr\", \"mpg\", color=\"blue\", source=source)"
   ]
  },
  {
   "cell_type": "code",
   "execution_count": 19,
   "metadata": {
    "collapsed": false
   },
   "outputs": [
    {
     "data": {
      "text/plain": [
       "<bokeh.models.renderers.GlyphRenderer at 0x104500750>"
      ]
     },
     "execution_count": 19,
     "metadata": {},
     "output_type": "execute_result"
    }
   ],
   "source": [
    "# create a figure and plot curve of circles \n",
    "p2 = figure(title=\"HP vs. Displacement\", **plot_config)\n",
    "p2.circle(\"hp\", \"displ\", color=\"green\", source=source)"
   ]
  },
  {
   "cell_type": "code",
   "execution_count": 20,
   "metadata": {
    "collapsed": false
   },
   "outputs": [
    {
     "data": {
      "text/plain": [
       "<bokeh.models.renderers.GlyphRenderer at 0x10bb1dd50>"
      ]
     },
     "execution_count": 20,
     "metadata": {},
     "output_type": "execute_result"
    }
   ],
   "source": [
    "# create a figure and plot curve of circle\n",
    "p3 = figure(title=\"MPG vs. Displacement\", **plot_config)\n",
    "p3.circle(\"mpg\", \"displ\", size=\"cyl\", line_color=\"red\", fill_color=None, source=source)"
   ]
  },
  {
   "cell_type": "markdown",
   "metadata": {},
   "source": [
    "### power of source = ColumnDataSource()\n",
    "- \"colname\" refers to pd.series\n",
    "- 3 independent figures linked by brush or by row?"
   ]
  },
  {
   "cell_type": "code",
   "execution_count": 21,
   "metadata": {
    "collapsed": false
   },
   "outputs": [
    {
     "data": {
      "text/html": [
       "\n",
       "\n",
       "    <div class=\"bk-root\">\n",
       "        <div class=\"plotdiv\" id=\"6a248c65-b104-4d09-b242-73821182b689\"></div>\n",
       "    </div>\n",
       "<script type=\"text/javascript\">\n",
       "  \n",
       "  (function(global) {\n",
       "    function now() {\n",
       "      return new Date();\n",
       "    }\n",
       "  \n",
       "    var force = \"\";\n",
       "  \n",
       "    if (typeof (window._bokeh_onload_callbacks) === \"undefined\" || force !== \"\") {\n",
       "      window._bokeh_onload_callbacks = [];\n",
       "      window._bokeh_is_loading = undefined;\n",
       "    }\n",
       "  \n",
       "  \n",
       "    \n",
       "    if (typeof (window._bokeh_timeout) === \"undefined\" || force !== \"\") {\n",
       "      window._bokeh_timeout = Date.now() + 0;\n",
       "      window._bokeh_failed_load = false;\n",
       "    }\n",
       "  \n",
       "    var NB_LOAD_WARNING = {'data': {'text/html':\n",
       "       \"<div style='background-color: #fdd'>\\n\"+\n",
       "       \"<p>\\n\"+\n",
       "       \"BokehJS does not appear to have successfully loaded. If loading BokehJS from CDN, this \\n\"+\n",
       "       \"may be due to a slow or bad network connection. Possible fixes:\\n\"+\n",
       "       \"</p>\\n\"+\n",
       "       \"<ul>\\n\"+\n",
       "       \"<li>re-rerun `output_notebook()` to attempt to load from CDN again, or</li>\\n\"+\n",
       "       \"<li>use INLINE resources instead, as so:</li>\\n\"+\n",
       "       \"</ul>\\n\"+\n",
       "       \"<code>\\n\"+\n",
       "       \"from bokeh.resources import INLINE\\n\"+\n",
       "       \"output_notebook(resources=INLINE)\\n\"+\n",
       "       \"</code>\\n\"+\n",
       "       \"</div>\"}};\n",
       "  \n",
       "    function display_loaded() {\n",
       "      if (window.Bokeh !== undefined) {\n",
       "        Bokeh.$(\"#6a248c65-b104-4d09-b242-73821182b689\").text(\"BokehJS successfully loaded.\");\n",
       "      } else if (Date.now() < window._bokeh_timeout) {\n",
       "        setTimeout(display_loaded, 100)\n",
       "      }\n",
       "    }\n",
       "  \n",
       "    function run_callbacks() {\n",
       "      window._bokeh_onload_callbacks.forEach(function(callback) { callback() });\n",
       "      delete window._bokeh_onload_callbacks\n",
       "      console.info(\"Bokeh: all callbacks have finished\");\n",
       "    }\n",
       "  \n",
       "    function load_libs(js_urls, callback) {\n",
       "      window._bokeh_onload_callbacks.push(callback);\n",
       "      if (window._bokeh_is_loading > 0) {\n",
       "        console.log(\"Bokeh: BokehJS is being loaded, scheduling callback at\", now());\n",
       "        return null;\n",
       "      }\n",
       "      if (js_urls == null || js_urls.length === 0) {\n",
       "        run_callbacks();\n",
       "        return null;\n",
       "      }\n",
       "      console.log(\"Bokeh: BokehJS not loaded, scheduling load and callback at\", now());\n",
       "      window._bokeh_is_loading = js_urls.length;\n",
       "      for (var i = 0; i < js_urls.length; i++) {\n",
       "        var url = js_urls[i];\n",
       "        var s = document.createElement('script');\n",
       "        s.src = url;\n",
       "        s.async = false;\n",
       "        s.onreadystatechange = s.onload = function() {\n",
       "          window._bokeh_is_loading--;\n",
       "          if (window._bokeh_is_loading === 0) {\n",
       "            console.log(\"Bokeh: all BokehJS libraries loaded\");\n",
       "            run_callbacks()\n",
       "          }\n",
       "        };\n",
       "        s.onerror = function() {\n",
       "          console.warn(\"failed to load library \" + url);\n",
       "        };\n",
       "        console.log(\"Bokeh: injecting script tag for BokehJS library: \", url);\n",
       "        document.getElementsByTagName(\"head\")[0].appendChild(s);\n",
       "      }\n",
       "    };var element = document.getElementById(\"6a248c65-b104-4d09-b242-73821182b689\");\n",
       "    if (element == null) {\n",
       "      console.log(\"Bokeh: ERROR: autoload.js configured with elementid '6a248c65-b104-4d09-b242-73821182b689' but no matching script tag was found. \")\n",
       "      return false;\n",
       "    }\n",
       "  \n",
       "    var js_urls = [];\n",
       "  \n",
       "    var inline_js = [\n",
       "      function(Bokeh) {\n",
       "        Bokeh.$(function() {\n",
       "            var docs_json = {\"688e0eda-a920-42ab-b039-615b194dfc36\":{\"roots\":{\"references\":[{\"attributes\":{},\"id\":\"98eb0904-1e56-436e-b3cf-a95ca2ced278\",\"type\":\"BasicTickFormatter\"},{\"attributes\":{\"fill_color\":{\"value\":null},\"line_color\":{\"value\":\"red\"},\"size\":{\"field\":\"cyl\",\"units\":\"screen\"},\"x\":{\"field\":\"mpg\"},\"y\":{\"field\":\"displ\"}},\"id\":\"f3b076d6-af70-4c96-8ab8-d13661c3ed31\",\"type\":\"Circle\"},{\"attributes\":{\"formatter\":{\"id\":\"7d12812c-6e23-4753-b07a-3c4b694644cb\",\"type\":\"BasicTickFormatter\"},\"plot\":{\"id\":\"9ceec758-5da7-4b13-a1e9-9e5d8e3611fa\",\"subtype\":\"Figure\",\"type\":\"Plot\"},\"ticker\":{\"id\":\"42c9d65c-5910-40e8-8f88-fba8721f2b52\",\"type\":\"BasicTicker\"}},\"id\":\"3e43ddbe-d5f7-4634-a46a-b690ba8c8c4e\",\"type\":\"LinearAxis\"},{\"attributes\":{\"fill_alpha\":{\"value\":0.1},\"fill_color\":{\"value\":\"#1f77b4\"},\"line_alpha\":{\"value\":0.1},\"line_color\":{\"value\":\"#1f77b4\"},\"size\":{\"field\":\"cyl\",\"units\":\"screen\"},\"x\":{\"field\":\"mpg\"},\"y\":{\"field\":\"displ\"}},\"id\":\"244a5b02-4cd5-4c3b-9892-7e6967af178f\",\"type\":\"Circle\"},{\"attributes\":{},\"id\":\"a207bb63-24fd-4f99-b0b6-a2d619e447ff\",\"type\":\"BasicTickFormatter\"},{\"attributes\":{\"plot\":{\"id\":\"8907083e-abe1-43ff-99b9-9bf15184da6d\",\"subtype\":\"Figure\",\"type\":\"Plot\"}},\"id\":\"851fdae5-9c50-404f-89e8-f3334396119b\",\"type\":\"PanTool\"},{\"attributes\":{},\"id\":\"1c3c105c-40ee-49e9-9383-a7796ca2538d\",\"type\":\"ToolEvents\"},{\"attributes\":{\"formatter\":{\"id\":\"77b83bea-0f6e-4e0a-95e2-dad0752dd40e\",\"type\":\"BasicTickFormatter\"},\"plot\":{\"id\":\"9ceec758-5da7-4b13-a1e9-9e5d8e3611fa\",\"subtype\":\"Figure\",\"type\":\"Plot\"},\"ticker\":{\"id\":\"ca99333a-beac-42b5-843e-77d9f04ff3b5\",\"type\":\"BasicTicker\"}},\"id\":\"4bcf898e-1009-4d17-80d7-3bdc8e44b5fa\",\"type\":\"LinearAxis\"},{\"attributes\":{\"dimension\":1,\"plot\":{\"id\":\"8907083e-abe1-43ff-99b9-9bf15184da6d\",\"subtype\":\"Figure\",\"type\":\"Plot\"},\"ticker\":{\"id\":\"62100ea7-d74f-4170-8c5d-6b2d4fd65b14\",\"type\":\"BasicTicker\"}},\"id\":\"c0b2d9b7-ee00-4eb1-a8fc-fab03ebda3d6\",\"type\":\"Grid\"},{\"attributes\":{\"below\":[{\"id\":\"3e43ddbe-d5f7-4634-a46a-b690ba8c8c4e\",\"type\":\"LinearAxis\"}],\"left\":[{\"id\":\"4bcf898e-1009-4d17-80d7-3bdc8e44b5fa\",\"type\":\"LinearAxis\"}],\"plot_height\":300,\"plot_width\":300,\"renderers\":[{\"id\":\"3e43ddbe-d5f7-4634-a46a-b690ba8c8c4e\",\"type\":\"LinearAxis\"},{\"id\":\"0e9f6ce8-c538-4a44-a725-78f01af6457a\",\"type\":\"Grid\"},{\"id\":\"4bcf898e-1009-4d17-80d7-3bdc8e44b5fa\",\"type\":\"LinearAxis\"},{\"id\":\"fefab625-6dd7-45ed-8cea-83f94eef62dc\",\"type\":\"Grid\"},{\"id\":\"a5170099-1bde-49f5-8014-32ab5ae6262a\",\"type\":\"BoxAnnotation\"},{\"id\":\"5a1106a0-3c85-488b-90fc-01f0ff215324\",\"type\":\"BoxAnnotation\"},{\"id\":\"eab19fea-5cc2-4ab6-8213-3560de1ca672\",\"type\":\"PolyAnnotation\"},{\"id\":\"91b9c879-38e8-474f-97df-d24e0dd16dad\",\"type\":\"GlyphRenderer\"}],\"title\":{\"id\":\"88edf53a-033f-4937-a6be-4a12e06634d6\",\"type\":\"Title\"},\"tool_events\":{\"id\":\"259e7a20-b9a4-44ef-98eb-534d90a6d4d0\",\"type\":\"ToolEvents\"},\"toolbar\":{\"id\":\"dbfce191-9bfb-4999-8272-134a0f33d5ba\",\"type\":\"Toolbar\"},\"toolbar_location\":null,\"x_range\":{\"id\":\"6572a93d-116a-4915-afb4-4caed633578d\",\"type\":\"DataRange1d\"},\"y_range\":{\"id\":\"f9fc2480-e594-4634-bbfa-14f50db74303\",\"type\":\"DataRange1d\"}},\"id\":\"9ceec758-5da7-4b13-a1e9-9e5d8e3611fa\",\"subtype\":\"Figure\",\"type\":\"Plot\"},{\"attributes\":{\"children\":[{\"id\":\"9ceec758-5da7-4b13-a1e9-9e5d8e3611fa\",\"subtype\":\"Figure\",\"type\":\"Plot\"},{\"id\":\"8907083e-abe1-43ff-99b9-9bf15184da6d\",\"subtype\":\"Figure\",\"type\":\"Plot\"},{\"id\":\"ff0de9c6-2af3-4be0-a089-8d2f5a326f61\",\"subtype\":\"Figure\",\"type\":\"Plot\"}]},\"id\":\"1509385a-5b6a-4964-aaee-d22761327aa1\",\"type\":\"Row\"},{\"attributes\":{\"callback\":null},\"id\":\"278bc351-9993-474a-a0fb-3320c8fb1c1e\",\"type\":\"DataRange1d\"},{\"attributes\":{\"dimension\":1,\"plot\":{\"id\":\"ff0de9c6-2af3-4be0-a089-8d2f5a326f61\",\"subtype\":\"Figure\",\"type\":\"Plot\"},\"ticker\":{\"id\":\"0e728b5e-2045-4d7f-81dc-411da44892c3\",\"type\":\"BasicTicker\"}},\"id\":\"297fdb5d-46a1-4626-8d53-b0fd070c074d\",\"type\":\"Grid\"},{\"attributes\":{\"children\":[{\"id\":\"0c0112b2-86d2-4d1e-a636-4e426c4614eb\",\"type\":\"Column\"},{\"id\":\"36f512b4-f114-468c-a102-da06e4c99532\",\"type\":\"ToolbarBox\"}]},\"id\":\"c7a83b54-53bc-4b8b-92b1-7354ba0974cf\",\"type\":\"Row\"},{\"attributes\":{\"fill_alpha\":{\"value\":0.5},\"fill_color\":{\"value\":\"lightgrey\"},\"level\":\"overlay\",\"line_alpha\":{\"value\":1.0},\"line_color\":{\"value\":\"black\"},\"line_dash\":[4,4],\"line_width\":{\"value\":2},\"plot\":null,\"xs_units\":\"screen\",\"ys_units\":\"screen\"},\"id\":\"eab19fea-5cc2-4ab6-8213-3560de1ca672\",\"type\":\"PolyAnnotation\"},{\"attributes\":{\"callback\":null},\"id\":\"bc1d9def-fc89-46f9-a783-7ea207e6e372\",\"type\":\"DataRange1d\"},{\"attributes\":{},\"id\":\"a85d793a-b15f-40f4-b863-a1dd541ef2cb\",\"type\":\"BasicTickFormatter\"},{\"attributes\":{\"formatter\":{\"id\":\"98eb0904-1e56-436e-b3cf-a95ca2ced278\",\"type\":\"BasicTickFormatter\"},\"plot\":{\"id\":\"ff0de9c6-2af3-4be0-a089-8d2f5a326f61\",\"subtype\":\"Figure\",\"type\":\"Plot\"},\"ticker\":{\"id\":\"c5de7b8b-9dd8-4dff-b56a-de5014ed1709\",\"type\":\"BasicTicker\"}},\"id\":\"c131addd-5a4f-4489-a9e2-b595933819e5\",\"type\":\"LinearAxis\"},{\"attributes\":{\"fill_alpha\":{\"value\":0.1},\"fill_color\":{\"value\":\"#1f77b4\"},\"line_alpha\":{\"value\":0.1},\"line_color\":{\"value\":\"#1f77b4\"},\"x\":{\"field\":\"hp\"},\"y\":{\"field\":\"displ\"}},\"id\":\"9abf9f00-9a14-4c10-b74b-7787d7043231\",\"type\":\"Circle\"},{\"attributes\":{\"callback\":null},\"id\":\"f9fc2480-e594-4634-bbfa-14f50db74303\",\"type\":\"DataRange1d\"},{\"attributes\":{\"formatter\":{\"id\":\"a85d793a-b15f-40f4-b863-a1dd541ef2cb\",\"type\":\"BasicTickFormatter\"},\"plot\":{\"id\":\"ff0de9c6-2af3-4be0-a089-8d2f5a326f61\",\"subtype\":\"Figure\",\"type\":\"Plot\"},\"ticker\":{\"id\":\"0e728b5e-2045-4d7f-81dc-411da44892c3\",\"type\":\"BasicTicker\"}},\"id\":\"a22fbc5f-a767-4f17-a133-6cdde3eece1e\",\"type\":\"LinearAxis\"},{\"attributes\":{\"plot\":null,\"text\":\"MPG vs. Displacement\"},\"id\":\"45ba045d-09c2-4595-946e-b7db7b7c9a87\",\"type\":\"Title\"},{\"attributes\":{},\"id\":\"0e728b5e-2045-4d7f-81dc-411da44892c3\",\"type\":\"BasicTicker\"},{\"attributes\":{},\"id\":\"77b83bea-0f6e-4e0a-95e2-dad0752dd40e\",\"type\":\"BasicTickFormatter\"},{\"attributes\":{\"callback\":null,\"overlay\":{\"id\":\"01780af9-2c24-4ab6-9259-2aa06b03563c\",\"type\":\"PolyAnnotation\"},\"plot\":{\"id\":\"ff0de9c6-2af3-4be0-a089-8d2f5a326f61\",\"subtype\":\"Figure\",\"type\":\"Plot\"}},\"id\":\"03e724f0-8b88-410b-b278-f863254e93f4\",\"type\":\"LassoSelectTool\"},{\"attributes\":{},\"id\":\"d3724f7d-cbe8-434a-8e6d-6fc4070c4bbb\",\"type\":\"BasicTickFormatter\"},{\"attributes\":{\"fill_alpha\":{\"value\":0.5},\"fill_color\":{\"value\":\"lightgrey\"},\"level\":\"overlay\",\"line_alpha\":{\"value\":1.0},\"line_color\":{\"value\":\"black\"},\"line_dash\":[4,4],\"line_width\":{\"value\":2},\"plot\":null,\"xs_units\":\"screen\",\"ys_units\":\"screen\"},\"id\":\"01780af9-2c24-4ab6-9259-2aa06b03563c\",\"type\":\"PolyAnnotation\"},{\"attributes\":{\"callback\":null,\"overlay\":{\"id\":\"21395072-4793-4cd4-9e9c-2fc5a9f36ea6\",\"type\":\"BoxAnnotation\"},\"plot\":{\"id\":\"8907083e-abe1-43ff-99b9-9bf15184da6d\",\"subtype\":\"Figure\",\"type\":\"Plot\"},\"renderers\":[{\"id\":\"254f08d0-b658-4942-b0ee-87453d64178c\",\"type\":\"GlyphRenderer\"}]},\"id\":\"391e385e-7261-48b6-a31b-44ca76021914\",\"type\":\"BoxSelectTool\"},{\"attributes\":{},\"id\":\"7d12812c-6e23-4753-b07a-3c4b694644cb\",\"type\":\"BasicTickFormatter\"},{\"attributes\":{\"callback\":null,\"overlay\":{\"id\":\"aa5a989e-d710-47c5-8eff-aa0598e3a2a4\",\"type\":\"BoxAnnotation\"},\"plot\":{\"id\":\"ff0de9c6-2af3-4be0-a089-8d2f5a326f61\",\"subtype\":\"Figure\",\"type\":\"Plot\"},\"renderers\":[{\"id\":\"02acd78e-9444-46f4-a2f5-1a3f50e7fb79\",\"type\":\"GlyphRenderer\"}]},\"id\":\"c3ca50fd-8e1e-4d20-aa93-9abe5d14b89d\",\"type\":\"BoxSelectTool\"},{\"attributes\":{},\"id\":\"62100ea7-d74f-4170-8c5d-6b2d4fd65b14\",\"type\":\"BasicTicker\"},{\"attributes\":{},\"id\":\"da7d9371-d0cf-49fa-97aa-84b54dd84387\",\"type\":\"ToolEvents\"},{\"attributes\":{\"bottom_units\":\"screen\",\"fill_alpha\":{\"value\":0.5},\"fill_color\":{\"value\":\"lightgrey\"},\"left_units\":\"screen\",\"level\":\"overlay\",\"line_alpha\":{\"value\":1.0},\"line_color\":{\"value\":\"black\"},\"line_dash\":[4,4],\"line_width\":{\"value\":2},\"plot\":null,\"render_mode\":\"css\",\"right_units\":\"screen\",\"top_units\":\"screen\"},\"id\":\"a5170099-1bde-49f5-8014-32ab5ae6262a\",\"type\":\"BoxAnnotation\"},{\"attributes\":{},\"id\":\"259e7a20-b9a4-44ef-98eb-534d90a6d4d0\",\"type\":\"ToolEvents\"},{\"attributes\":{\"bottom_units\":\"screen\",\"fill_alpha\":{\"value\":0.5},\"fill_color\":{\"value\":\"lightgrey\"},\"left_units\":\"screen\",\"level\":\"overlay\",\"line_alpha\":{\"value\":1.0},\"line_color\":{\"value\":\"black\"},\"line_dash\":[4,4],\"line_width\":{\"value\":2},\"plot\":null,\"render_mode\":\"css\",\"right_units\":\"screen\",\"top_units\":\"screen\"},\"id\":\"aa5a989e-d710-47c5-8eff-aa0598e3a2a4\",\"type\":\"BoxAnnotation\"},{\"attributes\":{\"plot\":{\"id\":\"ff0de9c6-2af3-4be0-a089-8d2f5a326f61\",\"subtype\":\"Figure\",\"type\":\"Plot\"},\"ticker\":{\"id\":\"c5de7b8b-9dd8-4dff-b56a-de5014ed1709\",\"type\":\"BasicTicker\"}},\"id\":\"22bbe984-dfe6-461c-96c1-681fd243b693\",\"type\":\"Grid\"},{\"attributes\":{\"data_source\":{\"id\":\"801cc77d-f3e3-459c-86e6-b51a2cf35373\",\"type\":\"ColumnDataSource\"},\"glyph\":{\"id\":\"ddfac962-963d-40d4-823a-fa10d211a106\",\"type\":\"Circle\"},\"hover_glyph\":null,\"nonselection_glyph\":{\"id\":\"9abf9f00-9a14-4c10-b74b-7787d7043231\",\"type\":\"Circle\"},\"selection_glyph\":null},\"id\":\"254f08d0-b658-4942-b0ee-87453d64178c\",\"type\":\"GlyphRenderer\"},{\"attributes\":{\"active_drag\":\"auto\",\"active_scroll\":\"auto\",\"active_tap\":\"auto\",\"tools\":[{\"id\":\"851fdae5-9c50-404f-89e8-f3334396119b\",\"type\":\"PanTool\"},{\"id\":\"9ff92619-32a0-4e55-b0d8-614ed7249dd7\",\"type\":\"WheelZoomTool\"},{\"id\":\"971ca4b9-323a-41bf-85bc-759b4e3172f6\",\"type\":\"BoxZoomTool\"},{\"id\":\"391e385e-7261-48b6-a31b-44ca76021914\",\"type\":\"BoxSelectTool\"},{\"id\":\"d360d8be-49cc-4b6b-a18d-cabc5ed50841\",\"type\":\"LassoSelectTool\"}]},\"id\":\"8294eedc-9ed1-4a4d-bad2-77502ad866f9\",\"type\":\"Toolbar\"},{\"attributes\":{\"bottom_units\":\"screen\",\"fill_alpha\":{\"value\":0.5},\"fill_color\":{\"value\":\"lightgrey\"},\"left_units\":\"screen\",\"level\":\"overlay\",\"line_alpha\":{\"value\":1.0},\"line_color\":{\"value\":\"black\"},\"line_dash\":[4,4],\"line_width\":{\"value\":2},\"plot\":null,\"render_mode\":\"css\",\"right_units\":\"screen\",\"top_units\":\"screen\"},\"id\":\"a341d249-74ff-45f3-8ad0-3f7256745ad3\",\"type\":\"BoxAnnotation\"},{\"attributes\":{\"children\":[{\"id\":\"1509385a-5b6a-4964-aaee-d22761327aa1\",\"type\":\"Row\"}]},\"id\":\"0c0112b2-86d2-4d1e-a636-4e426c4614eb\",\"type\":\"Column\"},{\"attributes\":{\"active_drag\":\"auto\",\"active_scroll\":\"auto\",\"active_tap\":\"auto\",\"tools\":[{\"id\":\"c017ae7c-a683-40f2-a869-4e867c192e78\",\"type\":\"PanTool\"},{\"id\":\"b5fdd379-b57f-415a-822d-7c3883ce74a3\",\"type\":\"WheelZoomTool\"},{\"id\":\"d92053d5-32a8-438f-b46e-41a7f8a66cdc\",\"type\":\"BoxZoomTool\"},{\"id\":\"c3ca50fd-8e1e-4d20-aa93-9abe5d14b89d\",\"type\":\"BoxSelectTool\"},{\"id\":\"03e724f0-8b88-410b-b278-f863254e93f4\",\"type\":\"LassoSelectTool\"}]},\"id\":\"feacc6b2-1920-42a0-9685-68bcd873850c\",\"type\":\"Toolbar\"},{\"attributes\":{\"callback\":null,\"column_names\":[\"origin\",\"mpg\",\"displ\",\"weight\",\"hp\",\"accel\",\"name\",\"yr\",\"cyl\",\"year\",\"year\"],\"data\":{\"accel\":[12.0,11.5,11.0,12.0,10.5,10.0,9.0,8.5,10.0,8.5,10.0,8.0,9.5,10.0,15.0,15.5,15.5,16.0,14.5,20.5,17.5,14.5,17.5,12.5,15.0,14.0,15.0,13.5,18.5,14.5,15.5,14.0,13.0,15.5,15.5,15.5,15.5,12.0,11.5,13.5,13.0,11.5,12.0,12.0,13.5,19.0,15.0,14.5,14.0,14.0,19.5,14.5,19.0,18.0,19.0,20.5,15.5,17.0,23.5,19.5,16.5,12.0,12.0,13.5,13.0,11.5,11.0,13.5,13.5,12.5,13.5,12.5,14.0,16.0,14.0,14.5,18.0,19.5,18.0,16.0,17.0,14.5,15.0,16.5,13.0,11.5,13.0,14.5,12.5,11.5,12.0,13.0,14.5,11.0,11.0,11.0,16.5,18.0,16.0,16.5,16.0,21.0,14.0,12.5,13.0,12.5,15.0,19.0,19.5,16.5,13.5,18.5,14.0,15.5,13.0,9.5,19.5,15.5,14.0,15.5,11.0,14.0,13.5,11.0,16.5,16.0,17.0,19.0,16.5,21.0,17.0,17.0,18.0,16.5,14.0,14.5,13.5,16.0,15.5,16.5,15.5,14.5,16.5,19.0,14.5,15.5,14.0,15.0,15.5,16.0,16.0,16.0,21.0,19.5,11.5,14.0,14.5,13.5,21.0,18.5,19.0,19.0,15.0,13.5,12.0,16.0,17.0,16.0,18.5,13.5,16.5,17.0,14.5,14.0,17.0,15.0,17.0,14.5,13.5,17.5,15.5,16.9,14.9,17.7,15.3,13.0,13.0,13.9,12.8,15.4,14.5,17.6,17.6,22.2,22.1,14.2,17.4,17.7,21.0,16.2,17.8,12.2,17.0,16.4,13.6,15.7,13.2,21.9,15.5,16.7,12.1,12.0,15.0,14.0,18.5,14.8,18.6,15.5,16.8,12.5,19.0,13.7,14.9,16.4,16.9,17.7,19.0,11.1,11.4,12.2,14.5,14.5,16.0,18.2,15.8,17.0,15.9,16.4,14.1,14.5,12.8,13.5,21.5,14.4,19.4,18.6,16.4,15.5,13.2,12.8,19.2,18.2,15.8,15.4,17.2,17.2,15.8,16.7,18.7,15.1,13.2,13.4,11.2,13.7,16.5,14.2,14.7,14.5,14.8,16.7,17.6,14.9,15.9,13.6,15.7,15.8,14.9,16.6,15.4,18.2,17.3,18.2,16.6,15.4,13.4,13.2,15.2,14.9,14.3,15.0,13.0,14.0,15.2,14.4,15.0,20.1,17.4,24.8,22.2,13.2,14.9,19.2,14.7,16.0,11.3,12.9,13.2,14.7,18.8,15.5,16.4,16.5,18.1,20.1,18.7,15.8,15.5,17.5,15.0,15.2,17.9,14.4,19.2,21.7,23.7,19.9,21.8,13.8,18.0,15.3,11.4,12.5,15.1,17.0,15.7,16.4,14.4,12.6,12.9,16.9,16.4,16.1,17.8,19.4,17.3,16.0,14.9,16.2,20.7,14.2,14.4,16.8,14.8,18.3,20.4,19.6,12.6,13.8,15.8,19.0,17.1,16.6,19.6,18.6,18.0,16.2,16.0,18.0,16.4,15.3,18.2,17.6,14.7,17.3,14.5,14.5,16.9,15.0,15.7,16.2,16.4,17.0,14.5,14.7,13.9,13.0,17.3,15.6,24.6,11.6,18.6,19.4],\"cyl\":[8,8,8,8,8,8,8,8,8,8,8,8,8,8,4,6,6,6,4,4,4,4,4,4,6,8,8,8,8,4,4,4,6,6,6,6,6,8,8,8,8,8,8,8,6,4,6,6,4,4,4,4,4,4,4,4,4,4,4,4,4,8,8,8,8,8,8,8,8,8,3,8,8,8,8,4,4,4,4,4,4,4,4,4,8,8,8,8,8,8,8,8,8,8,8,8,6,6,6,6,6,4,8,8,8,8,6,4,4,4,3,4,6,4,8,8,4,4,4,4,8,4,6,8,6,6,6,4,4,4,4,6,6,6,8,8,8,8,8,4,4,4,4,4,4,4,4,4,4,4,6,6,6,6,8,8,8,8,6,6,6,6,6,8,8,4,4,6,4,4,4,4,6,4,6,4,4,4,4,4,4,4,4,4,4,8,8,8,8,6,6,6,6,4,4,4,4,6,6,6,6,4,4,4,4,4,8,4,6,6,8,8,8,8,4,4,4,4,4,8,8,8,8,6,6,6,6,8,8,8,8,4,4,4,4,4,4,4,4,6,4,3,4,4,4,4,4,8,8,8,6,6,6,4,6,6,6,6,6,6,8,6,8,8,4,4,4,4,4,4,4,4,5,6,4,6,4,4,6,6,4,6,6,8,8,8,8,8,8,8,8,4,4,4,4,5,8,4,8,4,4,4,4,4,6,6,4,4,4,4,4,4,4,4,6,4,4,4,4,4,4,4,4,4,4,5,4,4,4,4,6,3,4,4,4,4,4,6,4,4,4,4,4,4,4,4,4,4,4,4,4,4,4,4,4,6,6,6,6,8,6,6,4,4,4,4,4,4,4,4,4,4,4,4,4,4,4,4,4,4,6,6,4,6,4,4,4,4,4,4,4,4],\"displ\":[307.0,350.0,318.0,304.0,302.0,429.0,454.0,440.0,455.0,390.0,383.0,340.0,400.0,455.0,113.0,198.0,199.0,200.0,97.0,97.0,110.0,107.0,104.0,121.0,199.0,360.0,307.0,318.0,304.0,97.0,140.0,113.0,232.0,225.0,250.0,250.0,232.0,350.0,400.0,351.0,318.0,383.0,400.0,400.0,258.0,140.0,250.0,250.0,122.0,116.0,79.0,88.0,71.0,72.0,97.0,91.0,113.0,97.5,97.0,140.0,122.0,350.0,400.0,318.0,351.0,304.0,429.0,350.0,350.0,400.0,70.0,304.0,307.0,302.0,318.0,121.0,121.0,120.0,96.0,122.0,97.0,120.0,98.0,97.0,350.0,304.0,350.0,302.0,318.0,429.0,400.0,351.0,318.0,440.0,455.0,360.0,225.0,250.0,232.0,250.0,198.0,97.0,400.0,400.0,360.0,350.0,232.0,97.0,140.0,108.0,70.0,122.0,155.0,98.0,350.0,400.0,68.0,116.0,114.0,121.0,318.0,121.0,156.0,350.0,198.0,232.0,250.0,79.0,122.0,71.0,140.0,250.0,258.0,225.0,302.0,350.0,318.0,302.0,304.0,98.0,79.0,97.0,76.0,83.0,90.0,90.0,116.0,120.0,108.0,79.0,225.0,250.0,250.0,250.0,400.0,350.0,318.0,351.0,231.0,250.0,258.0,225.0,231.0,262.0,302.0,97.0,140.0,232.0,140.0,134.0,90.0,119.0,171.0,90.0,232.0,115.0,120.0,121.0,121.0,91.0,107.0,116.0,140.0,98.0,101.0,305.0,318.0,304.0,351.0,225.0,250.0,200.0,232.0,85.0,98.0,90.0,91.0,225.0,250.0,250.0,258.0,97.0,85.0,97.0,140.0,130.0,318.0,120.0,156.0,168.0,350.0,350.0,302.0,318.0,98.0,111.0,79.0,122.0,85.0,305.0,260.0,318.0,302.0,250.0,231.0,225.0,250.0,400.0,350.0,400.0,351.0,97.0,151.0,97.0,140.0,98.0,98.0,97.0,97.0,146.0,121.0,80.0,90.0,98.0,78.0,85.0,91.0,260.0,318.0,302.0,231.0,200.0,200.0,140.0,225.0,232.0,231.0,200.0,225.0,258.0,305.0,231.0,302.0,318.0,98.0,134.0,119.0,105.0,134.0,156.0,151.0,119.0,131.0,163.0,121.0,163.0,89.0,98.0,231.0,200.0,140.0,232.0,225.0,305.0,302.0,351.0,318.0,350.0,351.0,267.0,360.0,89.0,86.0,98.0,121.0,183.0,350.0,141.0,260.0,105.0,105.0,85.0,91.0,151.0,173.0,173.0,151.0,98.0,89.0,98.0,86.0,151.0,140.0,151.0,225.0,97.0,134.0,120.0,119.0,108.0,86.0,156.0,85.0,90.0,90.0,121.0,146.0,91.0,97.0,89.0,168.0,70.0,122.0,107.0,135.0,151.0,156.0,173.0,135.0,79.0,86.0,81.0,97.0,85.0,89.0,91.0,105.0,98.0,98.0,105.0,107.0,108.0,119.0,120.0,141.0,145.0,168.0,146.0,231.0,350.0,200.0,225.0,112.0,112.0,112.0,112.0,135.0,151.0,140.0,105.0,91.0,91.0,105.0,98.0,120.0,107.0,108.0,91.0,91.0,91.0,181.0,262.0,156.0,232.0,144.0,135.0,151.0,140.0,97.0,135.0,120.0,119.0],\"hp\":[130,165,150,150,140,198,220,215,225,190,170,160,150,225,95,95,97,85,88,46,87,90,95,113,90,215,200,210,193,88,90,95,100,105,100,88,100,165,175,153,150,180,170,175,110,72,100,88,86,90,70,76,65,69,60,70,95,80,54,90,86,165,175,150,153,150,208,155,160,190,97,150,130,140,150,112,76,87,69,86,92,97,80,88,175,150,145,137,150,198,150,158,150,215,225,175,105,100,100,88,95,46,150,167,170,180,100,88,72,94,90,85,107,90,145,230,49,75,91,112,150,110,122,180,95,100,100,67,80,65,75,100,110,105,140,150,150,140,150,83,67,78,52,61,75,75,75,97,93,67,95,105,72,72,170,145,150,148,110,105,110,95,110,110,129,75,83,100,78,96,71,97,97,70,90,95,88,98,115,53,86,81,92,79,83,140,150,120,152,100,105,81,90,52,60,70,53,100,78,110,95,71,70,75,72,102,150,88,108,120,180,145,130,150,68,80,58,96,70,145,110,145,130,110,105,100,98,180,170,190,149,78,88,75,89,63,83,67,78,97,110,110,48,66,52,70,60,110,140,139,105,95,85,88,100,90,105,85,110,120,145,165,139,140,68,95,97,75,95,105,85,97,103,125,115,133,71,68,115,85,88,90,110,130,129,138,135,155,142,125,150,71,65,80,80,77,125,71,90,70,70,65,69,90,115,115,90,76,60,70,65,90,88,90,90,78,90,75,92,75,65,105,65,48,48,67,67,67,67,62,132,100,88,72,84,84,92,110,84,58,64,60,67,65,62,68,63,65,65,74,75,75,100,74,80,76,116,120,110,105,88,85,88,88,88,85,84,90,92,74,68,68,63,70,88,75,70,67,67,67,110,85,92,112,96,84,90,86,52,84,79,82],\"mpg\":[18.0,15.0,18.0,16.0,17.0,15.0,14.0,14.0,14.0,15.0,15.0,14.0,15.0,14.0,24.0,22.0,18.0,21.0,27.0,26.0,25.0,24.0,25.0,26.0,21.0,10.0,10.0,11.0,9.0,27.0,28.0,25.0,19.0,16.0,17.0,19.0,18.0,14.0,14.0,14.0,14.0,12.0,13.0,13.0,18.0,22.0,19.0,18.0,23.0,28.0,30.0,30.0,31.0,35.0,27.0,26.0,24.0,25.0,23.0,20.0,21.0,13.0,14.0,15.0,14.0,17.0,11.0,13.0,12.0,13.0,19.0,15.0,13.0,13.0,14.0,18.0,22.0,21.0,26.0,22.0,28.0,23.0,28.0,27.0,13.0,14.0,13.0,14.0,15.0,12.0,13.0,13.0,14.0,13.0,12.0,13.0,18.0,16.0,18.0,18.0,23.0,26.0,11.0,12.0,13.0,12.0,18.0,20.0,21.0,22.0,18.0,19.0,21.0,26.0,15.0,16.0,29.0,24.0,20.0,19.0,15.0,24.0,20.0,11.0,20.0,19.0,15.0,31.0,26.0,32.0,25.0,16.0,16.0,18.0,16.0,13.0,14.0,14.0,14.0,29.0,26.0,26.0,31.0,32.0,28.0,24.0,26.0,24.0,26.0,31.0,19.0,18.0,15.0,15.0,16.0,15.0,16.0,14.0,17.0,16.0,15.0,18.0,21.0,20.0,13.0,29.0,23.0,20.0,23.0,24.0,25.0,24.0,18.0,29.0,19.0,23.0,23.0,22.0,25.0,33.0,28.0,25.0,25.0,26.0,27.0,17.5,16.0,15.5,14.5,22.0,22.0,24.0,22.5,29.0,24.5,29.0,33.0,20.0,18.0,18.5,17.5,29.5,32.0,28.0,26.5,20.0,13.0,19.0,19.0,16.5,16.5,13.0,13.0,13.0,31.5,30.0,36.0,25.5,33.5,17.5,17.0,15.5,15.0,17.5,20.5,19.0,18.5,16.0,15.5,15.5,16.0,29.0,24.5,26.0,25.5,30.5,33.5,30.0,30.5,22.0,21.5,21.5,43.1,36.1,32.8,39.4,36.1,19.9,19.4,20.2,19.2,20.5,20.2,25.1,20.5,19.4,20.6,20.8,18.6,18.1,19.2,17.7,18.1,17.5,30.0,27.5,27.2,30.9,21.1,23.2,23.8,23.9,20.3,17.0,21.6,16.2,31.5,29.5,21.5,19.8,22.3,20.2,20.6,17.0,17.6,16.5,18.2,16.9,15.5,19.2,18.5,31.9,34.1,35.7,27.4,25.4,23.0,27.2,23.9,34.2,34.5,31.8,37.3,28.4,28.8,26.8,33.5,41.5,38.1,32.1,37.2,28.0,26.4,24.3,19.1,34.3,29.8,31.3,37.0,32.2,46.6,27.9,40.8,44.3,43.4,36.4,30.0,44.6,33.8,29.8,32.7,23.7,35.0,32.4,27.2,26.6,25.8,23.5,30.0,39.1,39.0,35.1,32.3,37.0,37.7,34.1,34.7,34.4,29.9,33.0,33.7,32.4,32.9,31.6,28.1,30.7,25.4,24.2,22.4,26.6,20.2,17.6,28.0,27.0,34.0,31.0,29.0,27.0,24.0,36.0,37.0,31.0,38.0,36.0,36.0,36.0,34.0,38.0,32.0,38.0,25.0,38.0,26.0,22.0,32.0,36.0,27.0,27.0,44.0,32.0,28.0,31.0],\"name\":[\"chevrolet chevelle malibu\",\"buick skylark 320\",\"plymouth satellite\",\"amc rebel sst\",\"ford torino\",\"ford galaxie 500\",\"chevrolet impala\",\"plymouth fury iii\",\"pontiac catalina\",\"amc ambassador dpl\",\"dodge challenger se\",\"plymouth 'cuda 340\",\"chevrolet monte carlo\",\"buick estate wagon (sw)\",\"toyota corona mark ii\",\"plymouth duster\",\"amc hornet\",\"ford maverick\",\"datsun pl510\",\"volkswagen 1131 deluxe sedan\",\"peugeot 504\",\"audi 100 ls\",\"saab 99e\",\"bmw 2002\",\"amc gremlin\",\"ford f250\",\"chevy c20\",\"dodge d200\",\"hi 1200d\",\"datsun pl510\",\"chevrolet vega 2300\",\"toyota corona\",\"amc gremlin\",\"plymouth satellite custom\",\"chevrolet chevelle malibu\",\"ford torino 500\",\"amc matador\",\"chevrolet impala\",\"pontiac catalina brougham\",\"ford galaxie 500\",\"plymouth fury iii\",\"dodge monaco (sw)\",\"ford country squire (sw)\",\"pontiac safari (sw)\",\"amc hornet sportabout (sw)\",\"chevrolet vega (sw)\",\"pontiac firebird\",\"ford mustang\",\"mercury capri 2000\",\"opel 1900\",\"peugeot 304\",\"fiat 124b\",\"toyota corolla 1200\",\"datsun 1200\",\"volkswagen model 111\",\"plymouth cricket\",\"toyota corona hardtop\",\"dodge colt hardtop\",\"volkswagen type 3\",\"chevrolet vega\",\"ford pinto runabout\",\"chevrolet impala\",\"pontiac catalina\",\"plymouth fury iii\",\"ford galaxie 500\",\"amc ambassador sst\",\"mercury marquis\",\"buick lesabre custom\",\"oldsmobile delta 88 royale\",\"chrysler newport royal\",\"mazda rx2 coupe\",\"amc matador (sw)\",\"chevrolet chevelle concours (sw)\",\"ford gran torino (sw)\",\"plymouth satellite custom (sw)\",\"volvo 145e (sw)\",\"volkswagen 411 (sw)\",\"peugeot 504 (sw)\",\"renault 12 (sw)\",\"ford pinto (sw)\",\"datsun 510 (sw)\",\"toyouta corona mark ii (sw)\",\"dodge colt (sw)\",\"toyota corolla 1600 (sw)\",\"buick century 350\",\"amc matador\",\"chevrolet malibu\",\"ford gran torino\",\"dodge coronet custom\",\"mercury marquis brougham\",\"chevrolet caprice classic\",\"ford ltd\",\"plymouth fury gran sedan\",\"chrysler new yorker brougham\",\"buick electra 225 custom\",\"amc ambassador brougham\",\"plymouth valiant\",\"chevrolet nova custom\",\"amc hornet\",\"ford maverick\",\"plymouth duster\",\"volkswagen super beetle\",\"chevrolet impala\",\"ford country\",\"plymouth custom suburb\",\"oldsmobile vista cruiser\",\"amc gremlin\",\"toyota carina\",\"chevrolet vega\",\"datsun 610\",\"maxda rx3\",\"ford pinto\",\"mercury capri v6\",\"fiat 124 sport coupe\",\"chevrolet monte carlo s\",\"pontiac grand prix\",\"fiat 128\",\"opel manta\",\"audi 100ls\",\"volvo 144ea\",\"dodge dart custom\",\"saab 99le\",\"toyota mark ii\",\"oldsmobile omega\",\"plymouth duster\",\"amc hornet\",\"chevrolet nova\",\"datsun b210\",\"ford pinto\",\"toyota corolla 1200\",\"chevrolet vega\",\"chevrolet chevelle malibu classic\",\"amc matador\",\"plymouth satellite sebring\",\"ford gran torino\",\"buick century luxus (sw)\",\"dodge coronet custom (sw)\",\"ford gran torino (sw)\",\"amc matador (sw)\",\"audi fox\",\"volkswagen dasher\",\"opel manta\",\"toyota corona\",\"datsun 710\",\"dodge colt\",\"fiat 128\",\"fiat 124 tc\",\"honda civic\",\"subaru\",\"fiat x1.9\",\"plymouth valiant custom\",\"chevrolet nova\",\"mercury monarch\",\"ford maverick\",\"pontiac catalina\",\"chevrolet bel air\",\"plymouth grand fury\",\"ford ltd\",\"buick century\",\"chevroelt chevelle malibu\",\"amc matador\",\"plymouth fury\",\"buick skyhawk\",\"chevrolet monza 2+2\",\"ford mustang ii\",\"toyota corolla\",\"ford pinto\",\"amc gremlin\",\"pontiac astro\",\"toyota corona\",\"volkswagen dasher\",\"datsun 710\",\"ford pinto\",\"volkswagen rabbit\",\"amc pacer\",\"audi 100ls\",\"peugeot 504\",\"volvo 244dl\",\"saab 99le\",\"honda civic cvcc\",\"fiat 131\",\"opel 1900\",\"capri ii\",\"dodge colt\",\"renault 12tl\",\"chevrolet chevelle malibu classic\",\"dodge coronet brougham\",\"amc matador\",\"ford gran torino\",\"plymouth valiant\",\"chevrolet nova\",\"ford maverick\",\"amc hornet\",\"chevrolet chevette\",\"chevrolet woody\",\"vw rabbit\",\"honda civic\",\"dodge aspen se\",\"ford granada ghia\",\"pontiac ventura sj\",\"amc pacer d/l\",\"volkswagen rabbit\",\"datsun b-210\",\"toyota corolla\",\"ford pinto\",\"volvo 245\",\"plymouth volare premier v8\",\"peugeot 504\",\"toyota mark ii\",\"mercedes-benz 280s\",\"cadillac seville\",\"chevy c10\",\"ford f108\",\"dodge d100\",\"honda accord cvcc\",\"buick opel isuzu deluxe\",\"renault 5 gtl\",\"plymouth arrow gs\",\"datsun f-10 hatchback\",\"chevrolet caprice classic\",\"oldsmobile cutlass supreme\",\"dodge monaco brougham\",\"mercury cougar brougham\",\"chevrolet concours\",\"buick skylark\",\"plymouth volare custom\",\"ford granada\",\"pontiac grand prix lj\",\"chevrolet monte carlo landau\",\"chrysler cordoba\",\"ford thunderbird\",\"volkswagen rabbit custom\",\"pontiac sunbird coupe\",\"toyota corolla liftback\",\"ford mustang ii 2+2\",\"chevrolet chevette\",\"dodge colt m/m\",\"subaru dl\",\"volkswagen dasher\",\"datsun 810\",\"bmw 320i\",\"mazda rx-4\",\"volkswagen rabbit custom diesel\",\"ford fiesta\",\"mazda glc deluxe\",\"datsun b210 gx\",\"honda civic cvcc\",\"oldsmobile cutlass salon brougham\",\"dodge diplomat\",\"mercury monarch ghia\",\"pontiac phoenix lj\",\"chevrolet malibu\",\"ford fairmont (auto)\",\"ford fairmont (man)\",\"plymouth volare\",\"amc concord\",\"buick century special\",\"mercury zephyr\",\"dodge aspen\",\"amc concord d/l\",\"chevrolet monte carlo landau\",\"buick regal sport coupe (turbo)\",\"ford futura\",\"dodge magnum xe\",\"chevrolet chevette\",\"toyota corona\",\"datsun 510\",\"dodge omni\",\"toyota celica gt liftback\",\"plymouth sapporo\",\"oldsmobile starfire sx\",\"datsun 200-sx\",\"audi 5000\",\"volvo 264gl\",\"saab 99gle\",\"peugeot 604sl\",\"volkswagen scirocco\",\"honda accord lx\",\"pontiac lemans v6\",\"mercury zephyr 6\",\"ford fairmont 4\",\"amc concord dl 6\",\"dodge aspen 6\",\"chevrolet caprice classic\",\"ford ltd landau\",\"mercury grand marquis\",\"dodge st. regis\",\"buick estate wagon (sw)\",\"ford country squire (sw)\",\"chevrolet malibu classic (sw)\",\"chrysler lebaron town @ country (sw)\",\"vw rabbit custom\",\"maxda glc deluxe\",\"dodge colt hatchback custom\",\"amc spirit dl\",\"mercedes benz 300d\",\"cadillac eldorado\",\"peugeot 504\",\"oldsmobile cutlass salon brougham\",\"plymouth horizon\",\"plymouth horizon tc3\",\"datsun 210\",\"fiat strada custom\",\"buick skylark limited\",\"chevrolet citation\",\"oldsmobile omega brougham\",\"pontiac phoenix\",\"vw rabbit\",\"toyota corolla tercel\",\"chevrolet chevette\",\"datsun 310\",\"chevrolet citation\",\"ford fairmont\",\"amc concord\",\"dodge aspen\",\"audi 4000\",\"toyota corona liftback\",\"mazda 626\",\"datsun 510 hatchback\",\"toyota corolla\",\"mazda glc\",\"dodge colt\",\"datsun 210\",\"vw rabbit c (diesel)\",\"vw dasher (diesel)\",\"audi 5000s (diesel)\",\"mercedes-benz 240d\",\"honda civic 1500 gl\",\"subaru dl\",\"vokswagen rabbit\",\"datsun 280-zx\",\"mazda rx-7 gs\",\"triumph tr7 coupe\",\"honda accord\",\"plymouth reliant\",\"buick skylark\",\"dodge aries wagon (sw)\",\"chevrolet citation\",\"plymouth reliant\",\"toyota starlet\",\"plymouth champ\",\"honda civic 1300\",\"subaru\",\"datsun 210 mpg\",\"toyota tercel\",\"mazda glc 4\",\"plymouth horizon 4\",\"ford escort 4w\",\"ford escort 2h\",\"volkswagen jetta\",\"honda prelude\",\"toyota corolla\",\"datsun 200sx\",\"mazda 626\",\"peugeot 505s turbo diesel\",\"volvo diesel\",\"toyota cressida\",\"datsun 810 maxima\",\"buick century\",\"oldsmobile cutlass ls\",\"ford granada gl\",\"chrysler lebaron salon\",\"chevrolet cavalier\",\"chevrolet cavalier wagon\",\"chevrolet cavalier 2-door\",\"pontiac j2000 se hatchback\",\"dodge aries se\",\"pontiac phoenix\",\"ford fairmont futura\",\"volkswagen rabbit l\",\"mazda glc custom l\",\"mazda glc custom\",\"plymouth horizon miser\",\"mercury lynx l\",\"nissan stanza xe\",\"honda accord\",\"toyota corolla\",\"honda civic\",\"honda civic (auto)\",\"datsun 310 gx\",\"buick century limited\",\"oldsmobile cutlass ciera (diesel)\",\"chrysler lebaron medallion\",\"ford granada l\",\"toyota celica gt\",\"dodge charger 2.2\",\"chevrolet camaro\",\"ford mustang gl\",\"vw pickup\",\"dodge rampage\",\"ford ranger\",\"chevy s-10\"],\"origin\":[1,1,1,1,1,1,1,1,1,1,1,1,1,1,3,1,1,1,3,2,2,2,2,2,1,1,1,1,1,3,1,3,1,1,1,1,1,1,1,1,1,1,1,1,1,1,1,1,1,2,2,2,3,3,2,1,3,1,2,1,1,1,1,1,1,1,1,1,1,1,3,1,1,1,1,2,2,2,2,1,3,3,1,3,1,1,1,1,1,1,1,1,1,1,1,1,1,1,1,1,1,2,1,1,1,1,1,3,1,3,3,1,1,2,1,1,2,2,2,2,1,2,3,1,1,1,1,3,1,3,1,1,1,1,1,1,1,1,1,2,2,2,3,3,1,2,2,3,3,2,1,1,1,1,1,1,1,1,1,1,1,1,1,1,1,3,1,1,1,3,2,3,1,2,1,2,2,2,2,3,2,2,1,1,2,1,1,1,1,1,1,1,1,1,1,2,3,1,1,1,1,2,3,3,1,2,1,2,3,2,1,1,1,1,3,1,2,1,3,1,1,1,1,1,1,1,1,1,1,1,1,2,1,3,1,1,1,3,2,3,2,3,2,1,3,3,3,1,1,1,1,1,1,1,1,1,1,1,1,1,1,1,1,1,1,3,3,1,3,1,1,3,2,2,2,2,2,3,1,1,1,1,1,1,1,1,1,1,1,1,1,2,3,1,1,2,1,2,1,1,1,3,2,1,1,1,1,2,3,1,3,1,1,1,1,2,3,3,3,3,3,1,3,2,2,2,2,3,3,2,3,3,2,3,1,1,1,1,1,3,1,3,3,3,3,3,1,1,1,2,3,3,3,3,2,2,3,3,1,1,1,1,1,1,1,1,1,1,1,2,3,3,1,1,3,3,3,3,3,3,1,1,1,1,3,1,1,1,2,1,1,1],\"weight\":[3504,3693,3436,3433,3449,4341,4354,4312,4425,3850,3563,3609,3761,3086,2372,2833,2774,2587,2130,1835,2672,2430,2375,2234,2648,4615,4376,4382,4732,2130,2264,2228,2634,3439,3329,3302,3288,4209,4464,4154,4096,4955,4746,5140,2962,2408,3282,3139,2220,2123,2074,2065,1773,1613,1834,1955,2278,2126,2254,2408,2226,4274,4385,4135,4129,3672,4633,4502,4456,4422,2330,3892,4098,4294,4077,2933,2511,2979,2189,2395,2288,2506,2164,2100,4100,3672,3988,4042,3777,4952,4464,4363,4237,4735,4951,3821,3121,3278,2945,3021,2904,1950,4997,4906,4654,4499,2789,2279,2401,2379,2124,2310,2472,2265,4082,4278,1867,2158,2582,2868,3399,2660,2807,3664,3102,2901,3336,1950,2451,1836,2542,3781,3632,3613,4141,4699,4457,4638,4257,2219,1963,2300,1649,2003,2125,2108,2246,2489,2391,2000,3264,3459,3432,3158,4668,4440,4498,4657,3907,3897,3730,3785,3039,3221,3169,2171,2639,2914,2592,2702,2223,2545,2984,1937,3211,2694,2957,2945,2671,1795,2464,2220,2572,2255,2202,4215,4190,3962,4215,3233,3353,3012,3085,2035,2164,1937,1795,3651,3574,3645,3193,1825,1990,2155,2565,3150,3940,3270,2930,3820,4380,4055,3870,3755,2045,2155,1825,2300,1945,3880,4060,4140,4295,3520,3425,3630,3525,4220,4165,4325,4335,1940,2740,2265,2755,2051,2075,1985,2190,2815,2600,2720,1985,1800,1985,2070,1800,3365,3735,3570,3535,3155,2965,2720,3430,3210,3380,3070,3620,3410,3425,3445,3205,4080,2155,2560,2300,2230,2515,2745,2855,2405,2830,3140,2795,3410,1990,2135,3245,2990,2890,3265,3360,3840,3725,3955,3830,4360,4054,3605,3940,1925,1975,1915,2670,3530,3900,3190,3420,2200,2150,2020,2130,2670,2595,2700,2556,2144,1968,2120,2019,2678,2870,3003,3381,2188,2711,2542,2434,2265,2110,2800,2110,2085,2335,2950,3250,1850,2145,1845,2910,2420,2500,2290,2490,2635,2620,2725,2385,1755,1875,1760,2065,1975,2050,1985,2215,2045,2380,2190,2210,2350,2615,2635,3230,3160,2900,2930,3415,3725,3060,3465,2605,2640,2395,2575,2525,2735,2865,1980,2025,1970,2125,2125,2160,2205,2245,1965,1965,1995,2945,3015,2585,2835,2665,2370,2950,2790,2130,2295,2625,2720],\"year\":[80,80,80,80,80,80,80,80,80,80,80,80,80,80,80,80,80,80,80,80,80,80,80,80,80,80,80,80,80,81,81,81,81,81,81,81,81,81,81,81,81,81,81,81,81,81,81,81,81,81,81,81,81,81,81,81,82,82,82,82,82,82,82,82,82,82,82,82,82,82,82,82,82,82,82,82,82,82,82,82,82,82,82,82,83,83,83,83,83,83,83,83,83,83,83,83,83,83,83,83,83,83,83,83,83,83,83,83,83,83,83,83,83,83,83,83,83,83,83,83,83,83,83,83,84,84,84,84,84,84,84,84,84,84,84,84,84,84,84,84,84,84,84,84,84,84,84,84,84,84,85,85,85,85,85,85,85,85,85,85,85,85,85,85,85,85,85,85,85,85,85,85,85,85,85,85,85,85,85,85,86,86,86,86,86,86,86,86,86,86,86,86,86,86,86,86,86,86,86,86,86,86,86,86,86,86,86,86,86,86,86,86,86,86,87,87,87,87,87,87,87,87,87,87,87,87,87,87,87,87,87,87,87,87,87,87,87,87,87,87,87,87,88,88,88,88,88,88,88,88,88,88,88,88,88,88,88,88,88,88,88,88,88,88,88,88,88,88,88,88,88,88,88,88,88,88,88,88,89,89,89,89,89,89,89,89,89,89,89,89,89,89,89,89,89,89,89,89,89,89,89,89,89,89,89,89,89,90,90,90,90,90,90,90,90,90,90,90,90,90,90,90,90,90,90,90,90,90,90,90,90,90,90,90,91,91,91,91,91,91,91,91,91,91,91,91,91,91,91,91,91,91,91,91,91,91,91,91,91,91,91,91,92,92,92,92,92,92,92,92,92,92,92,92,92,92,92,92,92,92,92,92,92,92,92,92,92,92,92,92,92,92],\"yr\":[70,70,70,70,70,70,70,70,70,70,70,70,70,70,70,70,70,70,70,70,70,70,70,70,70,70,70,70,70,71,71,71,71,71,71,71,71,71,71,71,71,71,71,71,71,71,71,71,71,71,71,71,71,71,71,71,72,72,72,72,72,72,72,72,72,72,72,72,72,72,72,72,72,72,72,72,72,72,72,72,72,72,72,72,73,73,73,73,73,73,73,73,73,73,73,73,73,73,73,73,73,73,73,73,73,73,73,73,73,73,73,73,73,73,73,73,73,73,73,73,73,73,73,73,74,74,74,74,74,74,74,74,74,74,74,74,74,74,74,74,74,74,74,74,74,74,74,74,74,74,75,75,75,75,75,75,75,75,75,75,75,75,75,75,75,75,75,75,75,75,75,75,75,75,75,75,75,75,75,75,76,76,76,76,76,76,76,76,76,76,76,76,76,76,76,76,76,76,76,76,76,76,76,76,76,76,76,76,76,76,76,76,76,76,77,77,77,77,77,77,77,77,77,77,77,77,77,77,77,77,77,77,77,77,77,77,77,77,77,77,77,77,78,78,78,78,78,78,78,78,78,78,78,78,78,78,78,78,78,78,78,78,78,78,78,78,78,78,78,78,78,78,78,78,78,78,78,78,79,79,79,79,79,79,79,79,79,79,79,79,79,79,79,79,79,79,79,79,79,79,79,79,79,79,79,79,79,80,80,80,80,80,80,80,80,80,80,80,80,80,80,80,80,80,80,80,80,80,80,80,80,80,80,80,81,81,81,81,81,81,81,81,81,81,81,81,81,81,81,81,81,81,81,81,81,81,81,81,81,81,81,81,82,82,82,82,82,82,82,82,82,82,82,82,82,82,82,82,82,82,82,82,82,82,82,82,82,82,82,82,82,82]}},\"id\":\"801cc77d-f3e3-459c-86e6-b51a2cf35373\",\"type\":\"ColumnDataSource\"},{\"attributes\":{\"callback\":null,\"overlay\":{\"id\":\"4992481d-af27-4cf8-8378-361f59f586f0\",\"type\":\"PolyAnnotation\"},\"plot\":{\"id\":\"8907083e-abe1-43ff-99b9-9bf15184da6d\",\"subtype\":\"Figure\",\"type\":\"Plot\"}},\"id\":\"d360d8be-49cc-4b6b-a18d-cabc5ed50841\",\"type\":\"LassoSelectTool\"},{\"attributes\":{\"plot\":{\"id\":\"9ceec758-5da7-4b13-a1e9-9e5d8e3611fa\",\"subtype\":\"Figure\",\"type\":\"Plot\"},\"ticker\":{\"id\":\"42c9d65c-5910-40e8-8f88-fba8721f2b52\",\"type\":\"BasicTicker\"}},\"id\":\"0e9f6ce8-c538-4a44-a725-78f01af6457a\",\"type\":\"Grid\"},{\"attributes\":{\"plot\":{\"id\":\"ff0de9c6-2af3-4be0-a089-8d2f5a326f61\",\"subtype\":\"Figure\",\"type\":\"Plot\"}},\"id\":\"c017ae7c-a683-40f2-a869-4e867c192e78\",\"type\":\"PanTool\"},{\"attributes\":{\"sizing_mode\":\"scale_width\",\"tools\":[{\"id\":\"92ab2a30-1fa8-4959-8591-ec9cca18d022\",\"type\":\"PanTool\"},{\"id\":\"50b9f190-7583-4d48-8b2b-575a0baa7b90\",\"type\":\"WheelZoomTool\"},{\"id\":\"2f8a3032-8036-4106-b00e-0158b483df9c\",\"type\":\"BoxZoomTool\"},{\"id\":\"1c8f7d03-63a9-4b20-9f9c-a004d2ed2774\",\"type\":\"BoxSelectTool\"},{\"id\":\"48d65bba-5c6e-49d0-9f21-b19c2c049f9b\",\"type\":\"LassoSelectTool\"},{\"id\":\"851fdae5-9c50-404f-89e8-f3334396119b\",\"type\":\"PanTool\"},{\"id\":\"9ff92619-32a0-4e55-b0d8-614ed7249dd7\",\"type\":\"WheelZoomTool\"},{\"id\":\"971ca4b9-323a-41bf-85bc-759b4e3172f6\",\"type\":\"BoxZoomTool\"},{\"id\":\"391e385e-7261-48b6-a31b-44ca76021914\",\"type\":\"BoxSelectTool\"},{\"id\":\"d360d8be-49cc-4b6b-a18d-cabc5ed50841\",\"type\":\"LassoSelectTool\"},{\"id\":\"c017ae7c-a683-40f2-a869-4e867c192e78\",\"type\":\"PanTool\"},{\"id\":\"b5fdd379-b57f-415a-822d-7c3883ce74a3\",\"type\":\"WheelZoomTool\"},{\"id\":\"d92053d5-32a8-438f-b46e-41a7f8a66cdc\",\"type\":\"BoxZoomTool\"},{\"id\":\"c3ca50fd-8e1e-4d20-aa93-9abe5d14b89d\",\"type\":\"BoxSelectTool\"},{\"id\":\"03e724f0-8b88-410b-b278-f863254e93f4\",\"type\":\"LassoSelectTool\"}]},\"id\":\"36f512b4-f114-468c-a102-da06e4c99532\",\"type\":\"ToolbarBox\"},{\"attributes\":{\"active_drag\":\"auto\",\"active_scroll\":\"auto\",\"active_tap\":\"auto\",\"tools\":[{\"id\":\"92ab2a30-1fa8-4959-8591-ec9cca18d022\",\"type\":\"PanTool\"},{\"id\":\"50b9f190-7583-4d48-8b2b-575a0baa7b90\",\"type\":\"WheelZoomTool\"},{\"id\":\"2f8a3032-8036-4106-b00e-0158b483df9c\",\"type\":\"BoxZoomTool\"},{\"id\":\"1c8f7d03-63a9-4b20-9f9c-a004d2ed2774\",\"type\":\"BoxSelectTool\"},{\"id\":\"48d65bba-5c6e-49d0-9f21-b19c2c049f9b\",\"type\":\"LassoSelectTool\"}]},\"id\":\"dbfce191-9bfb-4999-8272-134a0f33d5ba\",\"type\":\"Toolbar\"},{\"attributes\":{\"plot\":{\"id\":\"9ceec758-5da7-4b13-a1e9-9e5d8e3611fa\",\"subtype\":\"Figure\",\"type\":\"Plot\"}},\"id\":\"50b9f190-7583-4d48-8b2b-575a0baa7b90\",\"type\":\"WheelZoomTool\"},{\"attributes\":{\"fill_color\":{\"value\":\"green\"},\"line_color\":{\"value\":\"green\"},\"x\":{\"field\":\"hp\"},\"y\":{\"field\":\"displ\"}},\"id\":\"ddfac962-963d-40d4-823a-fa10d211a106\",\"type\":\"Circle\"},{\"attributes\":{\"plot\":{\"id\":\"ff0de9c6-2af3-4be0-a089-8d2f5a326f61\",\"subtype\":\"Figure\",\"type\":\"Plot\"}},\"id\":\"b5fdd379-b57f-415a-822d-7c3883ce74a3\",\"type\":\"WheelZoomTool\"},{\"attributes\":{\"below\":[{\"id\":\"54d791a7-1b64-472b-b033-6822d5526759\",\"type\":\"LinearAxis\"}],\"left\":[{\"id\":\"8cfbe458-515a-4486-adc6-2404ac33ff82\",\"type\":\"LinearAxis\"}],\"plot_height\":300,\"plot_width\":300,\"renderers\":[{\"id\":\"54d791a7-1b64-472b-b033-6822d5526759\",\"type\":\"LinearAxis\"},{\"id\":\"f494145c-9a9e-4686-9c0d-ba72557ada61\",\"type\":\"Grid\"},{\"id\":\"8cfbe458-515a-4486-adc6-2404ac33ff82\",\"type\":\"LinearAxis\"},{\"id\":\"c0b2d9b7-ee00-4eb1-a8fc-fab03ebda3d6\",\"type\":\"Grid\"},{\"id\":\"0ea569a6-8384-4bb1-9a55-a7261d81bfe3\",\"type\":\"BoxAnnotation\"},{\"id\":\"21395072-4793-4cd4-9e9c-2fc5a9f36ea6\",\"type\":\"BoxAnnotation\"},{\"id\":\"4992481d-af27-4cf8-8378-361f59f586f0\",\"type\":\"PolyAnnotation\"},{\"id\":\"254f08d0-b658-4942-b0ee-87453d64178c\",\"type\":\"GlyphRenderer\"}],\"title\":{\"id\":\"d525857f-6f3b-4e5c-a5a0-0a8d59065eb4\",\"type\":\"Title\"},\"tool_events\":{\"id\":\"da7d9371-d0cf-49fa-97aa-84b54dd84387\",\"type\":\"ToolEvents\"},\"toolbar\":{\"id\":\"8294eedc-9ed1-4a4d-bad2-77502ad866f9\",\"type\":\"Toolbar\"},\"toolbar_location\":null,\"x_range\":{\"id\":\"53acf5e2-d83f-4268-98e7-8a3e05da6dad\",\"type\":\"DataRange1d\"},\"y_range\":{\"id\":\"91b41cdb-a0c3-4a94-bcb4-166133c43b7c\",\"type\":\"DataRange1d\"}},\"id\":\"8907083e-abe1-43ff-99b9-9bf15184da6d\",\"subtype\":\"Figure\",\"type\":\"Plot\"},{\"attributes\":{\"overlay\":{\"id\":\"0ea569a6-8384-4bb1-9a55-a7261d81bfe3\",\"type\":\"BoxAnnotation\"},\"plot\":{\"id\":\"8907083e-abe1-43ff-99b9-9bf15184da6d\",\"subtype\":\"Figure\",\"type\":\"Plot\"}},\"id\":\"971ca4b9-323a-41bf-85bc-759b4e3172f6\",\"type\":\"BoxZoomTool\"},{\"attributes\":{\"bottom_units\":\"screen\",\"fill_alpha\":{\"value\":0.5},\"fill_color\":{\"value\":\"lightgrey\"},\"left_units\":\"screen\",\"level\":\"overlay\",\"line_alpha\":{\"value\":1.0},\"line_color\":{\"value\":\"black\"},\"line_dash\":[4,4],\"line_width\":{\"value\":2},\"plot\":null,\"render_mode\":\"css\",\"right_units\":\"screen\",\"top_units\":\"screen\"},\"id\":\"5a1106a0-3c85-488b-90fc-01f0ff215324\",\"type\":\"BoxAnnotation\"},{\"attributes\":{\"below\":[{\"id\":\"c131addd-5a4f-4489-a9e2-b595933819e5\",\"type\":\"LinearAxis\"}],\"left\":[{\"id\":\"a22fbc5f-a767-4f17-a133-6cdde3eece1e\",\"type\":\"LinearAxis\"}],\"plot_height\":300,\"plot_width\":300,\"renderers\":[{\"id\":\"c131addd-5a4f-4489-a9e2-b595933819e5\",\"type\":\"LinearAxis\"},{\"id\":\"22bbe984-dfe6-461c-96c1-681fd243b693\",\"type\":\"Grid\"},{\"id\":\"a22fbc5f-a767-4f17-a133-6cdde3eece1e\",\"type\":\"LinearAxis\"},{\"id\":\"297fdb5d-46a1-4626-8d53-b0fd070c074d\",\"type\":\"Grid\"},{\"id\":\"a341d249-74ff-45f3-8ad0-3f7256745ad3\",\"type\":\"BoxAnnotation\"},{\"id\":\"aa5a989e-d710-47c5-8eff-aa0598e3a2a4\",\"type\":\"BoxAnnotation\"},{\"id\":\"01780af9-2c24-4ab6-9259-2aa06b03563c\",\"type\":\"PolyAnnotation\"},{\"id\":\"02acd78e-9444-46f4-a2f5-1a3f50e7fb79\",\"type\":\"GlyphRenderer\"}],\"title\":{\"id\":\"45ba045d-09c2-4595-946e-b7db7b7c9a87\",\"type\":\"Title\"},\"tool_events\":{\"id\":\"1c3c105c-40ee-49e9-9383-a7796ca2538d\",\"type\":\"ToolEvents\"},\"toolbar\":{\"id\":\"feacc6b2-1920-42a0-9685-68bcd873850c\",\"type\":\"Toolbar\"},\"toolbar_location\":null,\"x_range\":{\"id\":\"278bc351-9993-474a-a0fb-3320c8fb1c1e\",\"type\":\"DataRange1d\"},\"y_range\":{\"id\":\"bc1d9def-fc89-46f9-a783-7ea207e6e372\",\"type\":\"DataRange1d\"}},\"id\":\"ff0de9c6-2af3-4be0-a089-8d2f5a326f61\",\"subtype\":\"Figure\",\"type\":\"Plot\"},{\"attributes\":{\"dimension\":1,\"plot\":{\"id\":\"9ceec758-5da7-4b13-a1e9-9e5d8e3611fa\",\"subtype\":\"Figure\",\"type\":\"Plot\"},\"ticker\":{\"id\":\"ca99333a-beac-42b5-843e-77d9f04ff3b5\",\"type\":\"BasicTicker\"}},\"id\":\"fefab625-6dd7-45ed-8cea-83f94eef62dc\",\"type\":\"Grid\"},{\"attributes\":{\"data_source\":{\"id\":\"801cc77d-f3e3-459c-86e6-b51a2cf35373\",\"type\":\"ColumnDataSource\"},\"glyph\":{\"id\":\"f3b076d6-af70-4c96-8ab8-d13661c3ed31\",\"type\":\"Circle\"},\"hover_glyph\":null,\"nonselection_glyph\":{\"id\":\"244a5b02-4cd5-4c3b-9892-7e6967af178f\",\"type\":\"Circle\"},\"selection_glyph\":null},\"id\":\"02acd78e-9444-46f4-a2f5-1a3f50e7fb79\",\"type\":\"GlyphRenderer\"},{\"attributes\":{\"callback\":null,\"overlay\":{\"id\":\"5a1106a0-3c85-488b-90fc-01f0ff215324\",\"type\":\"BoxAnnotation\"},\"plot\":{\"id\":\"9ceec758-5da7-4b13-a1e9-9e5d8e3611fa\",\"subtype\":\"Figure\",\"type\":\"Plot\"},\"renderers\":[{\"id\":\"91b9c879-38e8-474f-97df-d24e0dd16dad\",\"type\":\"GlyphRenderer\"}]},\"id\":\"1c8f7d03-63a9-4b20-9f9c-a004d2ed2774\",\"type\":\"BoxSelectTool\"},{\"attributes\":{\"plot\":{\"id\":\"8907083e-abe1-43ff-99b9-9bf15184da6d\",\"subtype\":\"Figure\",\"type\":\"Plot\"},\"ticker\":{\"id\":\"4443d7bc-cf43-4461-8ff0-45b29ca19cec\",\"type\":\"BasicTicker\"}},\"id\":\"f494145c-9a9e-4686-9c0d-ba72557ada61\",\"type\":\"Grid\"},{\"attributes\":{\"bottom_units\":\"screen\",\"fill_alpha\":{\"value\":0.5},\"fill_color\":{\"value\":\"lightgrey\"},\"left_units\":\"screen\",\"level\":\"overlay\",\"line_alpha\":{\"value\":1.0},\"line_color\":{\"value\":\"black\"},\"line_dash\":[4,4],\"line_width\":{\"value\":2},\"plot\":null,\"render_mode\":\"css\",\"right_units\":\"screen\",\"top_units\":\"screen\"},\"id\":\"21395072-4793-4cd4-9e9c-2fc5a9f36ea6\",\"type\":\"BoxAnnotation\"},{\"attributes\":{\"plot\":{\"id\":\"9ceec758-5da7-4b13-a1e9-9e5d8e3611fa\",\"subtype\":\"Figure\",\"type\":\"Plot\"}},\"id\":\"92ab2a30-1fa8-4959-8591-ec9cca18d022\",\"type\":\"PanTool\"},{\"attributes\":{\"callback\":null},\"id\":\"53acf5e2-d83f-4268-98e7-8a3e05da6dad\",\"type\":\"DataRange1d\"},{\"attributes\":{\"bottom_units\":\"screen\",\"fill_alpha\":{\"value\":0.5},\"fill_color\":{\"value\":\"lightgrey\"},\"left_units\":\"screen\",\"level\":\"overlay\",\"line_alpha\":{\"value\":1.0},\"line_color\":{\"value\":\"black\"},\"line_dash\":[4,4],\"line_width\":{\"value\":2},\"plot\":null,\"render_mode\":\"css\",\"right_units\":\"screen\",\"top_units\":\"screen\"},\"id\":\"0ea569a6-8384-4bb1-9a55-a7261d81bfe3\",\"type\":\"BoxAnnotation\"},{\"attributes\":{\"overlay\":{\"id\":\"a5170099-1bde-49f5-8014-32ab5ae6262a\",\"type\":\"BoxAnnotation\"},\"plot\":{\"id\":\"9ceec758-5da7-4b13-a1e9-9e5d8e3611fa\",\"subtype\":\"Figure\",\"type\":\"Plot\"}},\"id\":\"2f8a3032-8036-4106-b00e-0158b483df9c\",\"type\":\"BoxZoomTool\"},{\"attributes\":{\"callback\":null},\"id\":\"6572a93d-116a-4915-afb4-4caed633578d\",\"type\":\"DataRange1d\"},{\"attributes\":{},\"id\":\"42c9d65c-5910-40e8-8f88-fba8721f2b52\",\"type\":\"BasicTicker\"},{\"attributes\":{\"fill_color\":{\"value\":\"blue\"},\"line_color\":{\"value\":\"blue\"},\"x\":{\"field\":\"yr\"},\"y\":{\"field\":\"mpg\"}},\"id\":\"28afa0d2-406d-4e77-a9c3-c735b00405e6\",\"type\":\"Circle\"},{\"attributes\":{\"plot\":null,\"text\":\"MPG by Year\"},\"id\":\"88edf53a-033f-4937-a6be-4a12e06634d6\",\"type\":\"Title\"},{\"attributes\":{\"formatter\":{\"id\":\"d3724f7d-cbe8-434a-8e6d-6fc4070c4bbb\",\"type\":\"BasicTickFormatter\"},\"plot\":{\"id\":\"8907083e-abe1-43ff-99b9-9bf15184da6d\",\"subtype\":\"Figure\",\"type\":\"Plot\"},\"ticker\":{\"id\":\"62100ea7-d74f-4170-8c5d-6b2d4fd65b14\",\"type\":\"BasicTicker\"}},\"id\":\"8cfbe458-515a-4486-adc6-2404ac33ff82\",\"type\":\"LinearAxis\"},{\"attributes\":{},\"id\":\"4443d7bc-cf43-4461-8ff0-45b29ca19cec\",\"type\":\"BasicTicker\"},{\"attributes\":{\"plot\":{\"id\":\"8907083e-abe1-43ff-99b9-9bf15184da6d\",\"subtype\":\"Figure\",\"type\":\"Plot\"}},\"id\":\"9ff92619-32a0-4e55-b0d8-614ed7249dd7\",\"type\":\"WheelZoomTool\"},{\"attributes\":{\"callback\":null,\"overlay\":{\"id\":\"eab19fea-5cc2-4ab6-8213-3560de1ca672\",\"type\":\"PolyAnnotation\"},\"plot\":{\"id\":\"9ceec758-5da7-4b13-a1e9-9e5d8e3611fa\",\"subtype\":\"Figure\",\"type\":\"Plot\"}},\"id\":\"48d65bba-5c6e-49d0-9f21-b19c2c049f9b\",\"type\":\"LassoSelectTool\"},{\"attributes\":{},\"id\":\"c5de7b8b-9dd8-4dff-b56a-de5014ed1709\",\"type\":\"BasicTicker\"},{\"attributes\":{\"fill_alpha\":{\"value\":0.5},\"fill_color\":{\"value\":\"lightgrey\"},\"level\":\"overlay\",\"line_alpha\":{\"value\":1.0},\"line_color\":{\"value\":\"black\"},\"line_dash\":[4,4],\"line_width\":{\"value\":2},\"plot\":null,\"xs_units\":\"screen\",\"ys_units\":\"screen\"},\"id\":\"4992481d-af27-4cf8-8378-361f59f586f0\",\"type\":\"PolyAnnotation\"},{\"attributes\":{\"overlay\":{\"id\":\"a341d249-74ff-45f3-8ad0-3f7256745ad3\",\"type\":\"BoxAnnotation\"},\"plot\":{\"id\":\"ff0de9c6-2af3-4be0-a089-8d2f5a326f61\",\"subtype\":\"Figure\",\"type\":\"Plot\"}},\"id\":\"d92053d5-32a8-438f-b46e-41a7f8a66cdc\",\"type\":\"BoxZoomTool\"},{\"attributes\":{\"plot\":null,\"text\":\"HP vs. Displacement\"},\"id\":\"d525857f-6f3b-4e5c-a5a0-0a8d59065eb4\",\"type\":\"Title\"},{\"attributes\":{\"fill_alpha\":{\"value\":0.1},\"fill_color\":{\"value\":\"#1f77b4\"},\"line_alpha\":{\"value\":0.1},\"line_color\":{\"value\":\"#1f77b4\"},\"x\":{\"field\":\"yr\"},\"y\":{\"field\":\"mpg\"}},\"id\":\"7863d67c-7411-492b-be2c-2096611022fd\",\"type\":\"Circle\"},{\"attributes\":{},\"id\":\"ca99333a-beac-42b5-843e-77d9f04ff3b5\",\"type\":\"BasicTicker\"},{\"attributes\":{\"callback\":null},\"id\":\"91b41cdb-a0c3-4a94-bcb4-166133c43b7c\",\"type\":\"DataRange1d\"},{\"attributes\":{\"data_source\":{\"id\":\"801cc77d-f3e3-459c-86e6-b51a2cf35373\",\"type\":\"ColumnDataSource\"},\"glyph\":{\"id\":\"28afa0d2-406d-4e77-a9c3-c735b00405e6\",\"type\":\"Circle\"},\"hover_glyph\":null,\"nonselection_glyph\":{\"id\":\"7863d67c-7411-492b-be2c-2096611022fd\",\"type\":\"Circle\"},\"selection_glyph\":null},\"id\":\"91b9c879-38e8-474f-97df-d24e0dd16dad\",\"type\":\"GlyphRenderer\"},{\"attributes\":{\"formatter\":{\"id\":\"a207bb63-24fd-4f99-b0b6-a2d619e447ff\",\"type\":\"BasicTickFormatter\"},\"plot\":{\"id\":\"8907083e-abe1-43ff-99b9-9bf15184da6d\",\"subtype\":\"Figure\",\"type\":\"Plot\"},\"ticker\":{\"id\":\"4443d7bc-cf43-4461-8ff0-45b29ca19cec\",\"type\":\"BasicTicker\"}},\"id\":\"54d791a7-1b64-472b-b033-6822d5526759\",\"type\":\"LinearAxis\"}],\"root_ids\":[\"c7a83b54-53bc-4b8b-92b1-7354ba0974cf\"]},\"title\":\"Bokeh Application\",\"version\":\"0.12.2\"}};\n",
       "            var render_items = [{\"docid\":\"688e0eda-a920-42ab-b039-615b194dfc36\",\"elementid\":\"6a248c65-b104-4d09-b242-73821182b689\",\"modelid\":\"c7a83b54-53bc-4b8b-92b1-7354ba0974cf\"}];\n",
       "            \n",
       "            Bokeh.embed.embed_items(docs_json, render_items);\n",
       "        });\n",
       "      },\n",
       "      function(Bokeh) {\n",
       "      }\n",
       "    ];\n",
       "  \n",
       "    function run_inline_js() {\n",
       "      \n",
       "      if ((window.Bokeh !== undefined) || (force === \"1\")) {\n",
       "        for (var i = 0; i < inline_js.length; i++) {\n",
       "          inline_js[i](window.Bokeh);\n",
       "        }if (force === \"1\") {\n",
       "          display_loaded();\n",
       "        }} else if (Date.now() < window._bokeh_timeout) {\n",
       "        setTimeout(run_inline_js, 100);\n",
       "      } else if (!window._bokeh_failed_load) {\n",
       "        console.log(\"Bokeh: BokehJS failed to load within specified timeout.\");\n",
       "        window._bokeh_failed_load = true;\n",
       "      } else if (!force) {\n",
       "        var cell = $(\"#6a248c65-b104-4d09-b242-73821182b689\").parents('.cell').data().cell;\n",
       "        cell.output_area.append_execute_result(NB_LOAD_WARNING)\n",
       "      }\n",
       "  \n",
       "    }\n",
       "  \n",
       "    if (window._bokeh_is_loading === 0) {\n",
       "      console.log(\"Bokeh: BokehJS loaded, going straight to plotting\");\n",
       "      run_inline_js();\n",
       "    } else {\n",
       "      load_libs(js_urls, function() {\n",
       "        console.log(\"Bokeh: BokehJS plotting callback run at\", now());\n",
       "        run_inline_js();\n",
       "      });\n",
       "    }\n",
       "  }(this));\n",
       "</script>"
      ]
     },
     "metadata": {},
     "output_type": "display_data"
    }
   ],
   "source": [
    "p = gridplot([[ p1, p2, p3]], toolbar_location=\"right\")\n",
    "\n",
    "show(p)"
   ]
  },
  {
   "cell_type": "code",
   "execution_count": null,
   "metadata": {
    "collapsed": true
   },
   "outputs": [],
   "source": []
  }
 ],
 "metadata": {
  "kernelspec": {
   "display_name": "Python 2",
   "language": "python",
   "name": "python2"
  },
  "language_info": {
   "codemirror_mode": {
    "name": "ipython",
    "version": 2
   },
   "file_extension": ".py",
   "mimetype": "text/x-python",
   "name": "python",
   "nbconvert_exporter": "python",
   "pygments_lexer": "ipython2",
   "version": "2.7.12"
  }
 },
 "nbformat": 4,
 "nbformat_minor": 1
}
