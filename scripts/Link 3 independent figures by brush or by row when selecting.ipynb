{
 "cells": [
  {
   "cell_type": "code",
   "execution_count": 1,
   "metadata": {
    "collapsed": false
   },
   "outputs": [
    {
     "data": {
      "text/html": [
       "\n",
       "    <div class=\"bk-root\">\n",
       "        <a href=\"http://bokeh.pydata.org\" target=\"_blank\" class=\"bk-logo bk-logo-small bk-logo-notebook\"></a>\n",
       "        <span id=\"4cdc45ce-2059-4ee3-8919-bdcc46579bb4\">Loading BokehJS ...</span>\n",
       "    </div>"
      ]
     },
     "metadata": {},
     "output_type": "display_data"
    },
    {
     "data": {
      "application/javascript": [
       "\n",
       "(function(global) {\n",
       "  function now() {\n",
       "    return new Date();\n",
       "  }\n",
       "\n",
       "  var force = \"1\";\n",
       "\n",
       "  if (typeof (window._bokeh_onload_callbacks) === \"undefined\" || force !== \"\") {\n",
       "    window._bokeh_onload_callbacks = [];\n",
       "    window._bokeh_is_loading = undefined;\n",
       "  }\n",
       "\n",
       "  function run_callbacks() {\n",
       "    window._bokeh_onload_callbacks.forEach(function(callback) { callback() });\n",
       "    delete window._bokeh_onload_callbacks\n",
       "    console.info(\"Bokeh: all callbacks have finished\");\n",
       "  }\n",
       "\n",
       "  function load_libs(js_urls, callback) {\n",
       "    window._bokeh_onload_callbacks.push(callback);\n",
       "    if (window._bokeh_is_loading > 0) {\n",
       "      console.log(\"Bokeh: BokehJS is being loaded, scheduling callback at\", now());\n",
       "      return null;\n",
       "    }\n",
       "    if (js_urls == null || js_urls.length === 0) {\n",
       "      run_callbacks();\n",
       "      return null;\n",
       "    }\n",
       "    console.log(\"Bokeh: BokehJS not loaded, scheduling load and callback at\", now());\n",
       "    window._bokeh_is_loading = js_urls.length;\n",
       "    for (var i = 0; i < js_urls.length; i++) {\n",
       "      var url = js_urls[i];\n",
       "      var s = document.createElement('script');\n",
       "      s.src = url;\n",
       "      s.async = false;\n",
       "      s.onreadystatechange = s.onload = function() {\n",
       "        window._bokeh_is_loading--;\n",
       "        if (window._bokeh_is_loading === 0) {\n",
       "          console.log(\"Bokeh: all BokehJS libraries loaded\");\n",
       "          run_callbacks()\n",
       "        }\n",
       "      };\n",
       "      s.onerror = function() {\n",
       "        console.warn(\"failed to load library \" + url);\n",
       "      };\n",
       "      console.log(\"Bokeh: injecting script tag for BokehJS library: \", url);\n",
       "      document.getElementsByTagName(\"head\")[0].appendChild(s);\n",
       "    }\n",
       "  };\n",
       "\n",
       "  var js_urls = ['https://cdn.pydata.org/bokeh/release/bokeh-0.12.1.min.js', 'https://cdn.pydata.org/bokeh/release/bokeh-widgets-0.12.1.min.js', 'https://cdn.pydata.org/bokeh/release/bokeh-compiler-0.12.1.min.js'];\n",
       "\n",
       "  var inline_js = [\n",
       "    function(Bokeh) {\n",
       "      Bokeh.set_log_level(\"info\");\n",
       "    },\n",
       "    \n",
       "    function(Bokeh) {\n",
       "      \n",
       "      Bokeh.$(\"#4cdc45ce-2059-4ee3-8919-bdcc46579bb4\").text(\"BokehJS successfully loaded\");\n",
       "      var kernel = Jupyter.notebook.kernel\n",
       "      if (kernel.execute !== undefined) {\n",
       "          kernel.execute(\"import bokeh.io; bokeh.io._nb_loaded = True\");\n",
       "      }\n",
       "    },\n",
       "    function(Bokeh) {\n",
       "      console.log(\"Bokeh: injecting CSS: https://cdn.pydata.org/bokeh/release/bokeh-0.12.1.min.css\");\n",
       "      Bokeh.embed.inject_css(\"https://cdn.pydata.org/bokeh/release/bokeh-0.12.1.min.css\");\n",
       "      console.log(\"Bokeh: injecting CSS: https://cdn.pydata.org/bokeh/release/bokeh-widgets-0.12.1.min.css\");\n",
       "      Bokeh.embed.inject_css(\"https://cdn.pydata.org/bokeh/release/bokeh-widgets-0.12.1.min.css\");\n",
       "    }\n",
       "  ];\n",
       "\n",
       "  function run_inline_js() {\n",
       "    for (var i = 0; i < inline_js.length; i++) {\n",
       "      inline_js[i](window.Bokeh);\n",
       "    }\n",
       "  }\n",
       "\n",
       "  if (window._bokeh_is_loading === 0) {\n",
       "    console.log(\"Bokeh: BokehJS loaded, going straight to plotting\");\n",
       "    run_inline_js();\n",
       "  } else {\n",
       "    load_libs(js_urls, function() {\n",
       "      console.log(\"Bokeh: BokehJS plotting callback run at\", now());\n",
       "      run_inline_js();\n",
       "    });\n",
       "  }\n",
       "}(this));"
      ]
     },
     "metadata": {},
     "output_type": "display_data"
    }
   ],
   "source": [
    "from bokeh.plotting import figure, output_notebook, show\n",
    "from bokeh.sampledata.autompg import autompg\n",
    "\n",
    "output_notebook()"
   ]
  },
  {
   "cell_type": "code",
   "execution_count": 2,
   "metadata": {
    "collapsed": true
   },
   "outputs": [],
   "source": [
    "from bokeh.models import ColumnDataSource\n",
    "from bokeh.layouts import gridplot"
   ]
  },
  {
   "cell_type": "code",
   "execution_count": 3,
   "metadata": {
    "collapsed": true
   },
   "outputs": [],
   "source": [
    "# convert pd.dataframe into dict, stored by columndatasource\n",
    "source = ColumnDataSource(autompg.to_dict(\"list\")) # doc is good enoughb"
   ]
  },
  {
   "cell_type": "code",
   "execution_count": null,
   "metadata": {
    "collapsed": true
   },
   "outputs": [],
   "source": [
    "source.add(autompg[\"yr\"], name=\"yr\") # add a new column from a diff dataset usually"
   ]
  },
  {
   "cell_type": "code",
   "execution_count": 4,
   "metadata": {
    "collapsed": true
   },
   "outputs": [],
   "source": [
    "# set plotting configurations first\n",
    "plot_config = dict(plot_width=300, plot_height=300,\n",
    "                   tools=\"pan,wheel_zoom,box_zoom,box_select,lasso_select\")"
   ]
  },
  {
   "cell_type": "code",
   "execution_count": 5,
   "metadata": {
    "collapsed": false
   },
   "outputs": [
    {
     "data": {
      "text/plain": [
       "<bokeh.models.renderers.GlyphRenderer at 0x1033a3a90>"
      ]
     },
     "execution_count": 5,
     "metadata": {},
     "output_type": "execute_result"
    }
   ],
   "source": [
    "# create a figure and plot curve of circles\n",
    "p1 = figure(title=\"MPG by Year\", **plot_config)\n",
    "p1.circle(\"yr\", \"mpg\", color=\"blue\", source=source)"
   ]
  },
  {
   "cell_type": "code",
   "execution_count": 6,
   "metadata": {
    "collapsed": false
   },
   "outputs": [
    {
     "data": {
      "text/plain": [
       "<bokeh.models.renderers.GlyphRenderer at 0x10ba6ba10>"
      ]
     },
     "execution_count": 6,
     "metadata": {},
     "output_type": "execute_result"
    }
   ],
   "source": [
    "# create a figure and plot curve of circles \n",
    "p2 = figure(title=\"HP vs. Displacement\", **plot_config)\n",
    "p2.circle(\"hp\", \"displ\", color=\"green\", source=source)"
   ]
  },
  {
   "cell_type": "code",
   "execution_count": 7,
   "metadata": {
    "collapsed": false
   },
   "outputs": [
    {
     "data": {
      "text/plain": [
       "<bokeh.models.renderers.GlyphRenderer at 0x10ba33610>"
      ]
     },
     "execution_count": 7,
     "metadata": {},
     "output_type": "execute_result"
    }
   ],
   "source": [
    "# create a figure and plot curve of circle\n",
    "p3 = figure(title=\"MPG vs. Displacement\", **plot_config)\n",
    "p3.circle(\"mpg\", \"displ\", size=\"cyl\", line_color=\"red\", fill_color=None, source=source)"
   ]
  },
  {
   "cell_type": "markdown",
   "metadata": {},
   "source": [
    "### power of source = ColumnDataSource()\n",
    "- \"colname\" refers to pd.series\n",
    "- 3 independent figures linked by brush or by row?"
   ]
  },
  {
   "cell_type": "code",
   "execution_count": 8,
   "metadata": {
    "collapsed": false
   },
   "outputs": [
    {
     "data": {
      "text/html": [
       "\n",
       "\n",
       "    <div class=\"bk-root\">\n",
       "        <div class=\"plotdiv\" id=\"32901351-19bd-43a0-9e7a-6832826123f7\"></div>\n",
       "    </div>\n",
       "<script type=\"text/javascript\">\n",
       "  \n",
       "  (function(global) {\n",
       "    function now() {\n",
       "      return new Date();\n",
       "    }\n",
       "  \n",
       "    var force = \"\";\n",
       "  \n",
       "    if (typeof (window._bokeh_onload_callbacks) === \"undefined\" || force !== \"\") {\n",
       "      window._bokeh_onload_callbacks = [];\n",
       "      window._bokeh_is_loading = undefined;\n",
       "    }\n",
       "  \n",
       "    function run_callbacks() {\n",
       "      window._bokeh_onload_callbacks.forEach(function(callback) { callback() });\n",
       "      delete window._bokeh_onload_callbacks\n",
       "      console.info(\"Bokeh: all callbacks have finished\");\n",
       "    }\n",
       "  \n",
       "    function load_libs(js_urls, callback) {\n",
       "      window._bokeh_onload_callbacks.push(callback);\n",
       "      if (window._bokeh_is_loading > 0) {\n",
       "        console.log(\"Bokeh: BokehJS is being loaded, scheduling callback at\", now());\n",
       "        return null;\n",
       "      }\n",
       "      if (js_urls == null || js_urls.length === 0) {\n",
       "        run_callbacks();\n",
       "        return null;\n",
       "      }\n",
       "      console.log(\"Bokeh: BokehJS not loaded, scheduling load and callback at\", now());\n",
       "      window._bokeh_is_loading = js_urls.length;\n",
       "      for (var i = 0; i < js_urls.length; i++) {\n",
       "        var url = js_urls[i];\n",
       "        var s = document.createElement('script');\n",
       "        s.src = url;\n",
       "        s.async = false;\n",
       "        s.onreadystatechange = s.onload = function() {\n",
       "          window._bokeh_is_loading--;\n",
       "          if (window._bokeh_is_loading === 0) {\n",
       "            console.log(\"Bokeh: all BokehJS libraries loaded\");\n",
       "            run_callbacks()\n",
       "          }\n",
       "        };\n",
       "        s.onerror = function() {\n",
       "          console.warn(\"failed to load library \" + url);\n",
       "        };\n",
       "        console.log(\"Bokeh: injecting script tag for BokehJS library: \", url);\n",
       "        document.getElementsByTagName(\"head\")[0].appendChild(s);\n",
       "      }\n",
       "    };var element = document.getElementById(\"32901351-19bd-43a0-9e7a-6832826123f7\");\n",
       "    if (element == null) {\n",
       "      console.log(\"Bokeh: ERROR: autoload.js configured with elementid '32901351-19bd-43a0-9e7a-6832826123f7' but no matching script tag was found. \")\n",
       "      return false;\n",
       "    }\n",
       "  \n",
       "    var js_urls = [];\n",
       "  \n",
       "    var inline_js = [\n",
       "      function(Bokeh) {\n",
       "        Bokeh.$(function() {\n",
       "            var docs_json = {\"a495073c-20ae-4fe0-938d-93e2094cee1b\":{\"roots\":{\"references\":[{\"attributes\":{\"bottom_units\":\"screen\",\"fill_alpha\":{\"value\":0.5},\"fill_color\":{\"value\":\"lightgrey\"},\"left_units\":\"screen\",\"level\":\"overlay\",\"line_alpha\":{\"value\":1.0},\"line_color\":{\"value\":\"black\"},\"line_dash\":[4,4],\"line_width\":{\"value\":2},\"plot\":null,\"render_mode\":\"css\",\"right_units\":\"screen\",\"top_units\":\"screen\"},\"id\":\"653b3123-68b6-4e65-83ef-503928a01166\",\"type\":\"BoxAnnotation\"},{\"attributes\":{\"dimension\":1,\"plot\":{\"id\":\"768409db-b925-49c9-a52d-b9bfec23e2ec\",\"subtype\":\"Figure\",\"type\":\"Plot\"},\"ticker\":{\"id\":\"6d073c2e-5350-4446-822a-4716ec466e1f\",\"type\":\"BasicTicker\"}},\"id\":\"2e693785-96f9-4988-819f-ae0da25a6674\",\"type\":\"Grid\"},{\"attributes\":{\"fill_color\":{\"value\":\"green\"},\"line_color\":{\"value\":\"green\"},\"x\":{\"field\":\"hp\"},\"y\":{\"field\":\"displ\"}},\"id\":\"e92c5387-945b-4766-91f6-6aa45d7b33ec\",\"type\":\"Circle\"},{\"attributes\":{\"plot\":{\"id\":\"768409db-b925-49c9-a52d-b9bfec23e2ec\",\"subtype\":\"Figure\",\"type\":\"Plot\"},\"ticker\":{\"id\":\"4c24a4fa-6229-4122-bb90-6758d90732aa\",\"type\":\"BasicTicker\"}},\"id\":\"98a67d9b-e5f5-4bad-b610-f02e6c3aa06b\",\"type\":\"Grid\"},{\"attributes\":{\"plot\":{\"id\":\"768409db-b925-49c9-a52d-b9bfec23e2ec\",\"subtype\":\"Figure\",\"type\":\"Plot\"}},\"id\":\"4b8350a0-33a3-45da-8eba-a5782dbfe82e\",\"type\":\"WheelZoomTool\"},{\"attributes\":{},\"id\":\"cdde10f2-f86c-4b06-8392-1fe26031ca4f\",\"type\":\"ToolEvents\"},{\"attributes\":{\"formatter\":{\"id\":\"8b0a4425-3fc1-45a2-9caf-6a7d0793b862\",\"type\":\"BasicTickFormatter\"},\"plot\":{\"id\":\"004f7b10-7748-43c7-bfbb-1772511640e1\",\"subtype\":\"Figure\",\"type\":\"Plot\"},\"ticker\":{\"id\":\"ec9c9912-3887-4c99-9502-3bad90d9755b\",\"type\":\"BasicTicker\"}},\"id\":\"19e4650e-75b7-436b-b53a-5a1d9078e7fd\",\"type\":\"LinearAxis\"},{\"attributes\":{\"callback\":null,\"column_names\":[\"origin\",\"mpg\",\"displ\",\"weight\",\"hp\",\"accel\",\"name\",\"yr\",\"cyl\"],\"data\":{\"accel\":[12.0,11.5,11.0,12.0,10.5,10.0,9.0,8.5,10.0,8.5,10.0,8.0,9.5,10.0,15.0,15.5,15.5,16.0,14.5,20.5,17.5,14.5,17.5,12.5,15.0,14.0,15.0,13.5,18.5,14.5,15.5,14.0,13.0,15.5,15.5,15.5,15.5,12.0,11.5,13.5,13.0,11.5,12.0,12.0,13.5,19.0,15.0,14.5,14.0,14.0,19.5,14.5,19.0,18.0,19.0,20.5,15.5,17.0,23.5,19.5,16.5,12.0,12.0,13.5,13.0,11.5,11.0,13.5,13.5,12.5,13.5,12.5,14.0,16.0,14.0,14.5,18.0,19.5,18.0,16.0,17.0,14.5,15.0,16.5,13.0,11.5,13.0,14.5,12.5,11.5,12.0,13.0,14.5,11.0,11.0,11.0,16.5,18.0,16.0,16.5,16.0,21.0,14.0,12.5,13.0,12.5,15.0,19.0,19.5,16.5,13.5,18.5,14.0,15.5,13.0,9.5,19.5,15.5,14.0,15.5,11.0,14.0,13.5,11.0,16.5,16.0,17.0,19.0,16.5,21.0,17.0,17.0,18.0,16.5,14.0,14.5,13.5,16.0,15.5,16.5,15.5,14.5,16.5,19.0,14.5,15.5,14.0,15.0,15.5,16.0,16.0,16.0,21.0,19.5,11.5,14.0,14.5,13.5,21.0,18.5,19.0,19.0,15.0,13.5,12.0,16.0,17.0,16.0,18.5,13.5,16.5,17.0,14.5,14.0,17.0,15.0,17.0,14.5,13.5,17.5,15.5,16.9,14.9,17.7,15.3,13.0,13.0,13.9,12.8,15.4,14.5,17.6,17.6,22.2,22.1,14.2,17.4,17.7,21.0,16.2,17.8,12.2,17.0,16.4,13.6,15.7,13.2,21.9,15.5,16.7,12.1,12.0,15.0,14.0,18.5,14.8,18.6,15.5,16.8,12.5,19.0,13.7,14.9,16.4,16.9,17.7,19.0,11.1,11.4,12.2,14.5,14.5,16.0,18.2,15.8,17.0,15.9,16.4,14.1,14.5,12.8,13.5,21.5,14.4,19.4,18.6,16.4,15.5,13.2,12.8,19.2,18.2,15.8,15.4,17.2,17.2,15.8,16.7,18.7,15.1,13.2,13.4,11.2,13.7,16.5,14.2,14.7,14.5,14.8,16.7,17.6,14.9,15.9,13.6,15.7,15.8,14.9,16.6,15.4,18.2,17.3,18.2,16.6,15.4,13.4,13.2,15.2,14.9,14.3,15.0,13.0,14.0,15.2,14.4,15.0,20.1,17.4,24.8,22.2,13.2,14.9,19.2,14.7,16.0,11.3,12.9,13.2,14.7,18.8,15.5,16.4,16.5,18.1,20.1,18.7,15.8,15.5,17.5,15.0,15.2,17.9,14.4,19.2,21.7,23.7,19.9,21.8,13.8,18.0,15.3,11.4,12.5,15.1,17.0,15.7,16.4,14.4,12.6,12.9,16.9,16.4,16.1,17.8,19.4,17.3,16.0,14.9,16.2,20.7,14.2,14.4,16.8,14.8,18.3,20.4,19.6,12.6,13.8,15.8,19.0,17.1,16.6,19.6,18.6,18.0,16.2,16.0,18.0,16.4,15.3,18.2,17.6,14.7,17.3,14.5,14.5,16.9,15.0,15.7,16.2,16.4,17.0,14.5,14.7,13.9,13.0,17.3,15.6,24.6,11.6,18.6,19.4],\"cyl\":[8,8,8,8,8,8,8,8,8,8,8,8,8,8,4,6,6,6,4,4,4,4,4,4,6,8,8,8,8,4,4,4,6,6,6,6,6,8,8,8,8,8,8,8,6,4,6,6,4,4,4,4,4,4,4,4,4,4,4,4,4,8,8,8,8,8,8,8,8,8,3,8,8,8,8,4,4,4,4,4,4,4,4,4,8,8,8,8,8,8,8,8,8,8,8,8,6,6,6,6,6,4,8,8,8,8,6,4,4,4,3,4,6,4,8,8,4,4,4,4,8,4,6,8,6,6,6,4,4,4,4,6,6,6,8,8,8,8,8,4,4,4,4,4,4,4,4,4,4,4,6,6,6,6,8,8,8,8,6,6,6,6,6,8,8,4,4,6,4,4,4,4,6,4,6,4,4,4,4,4,4,4,4,4,4,8,8,8,8,6,6,6,6,4,4,4,4,6,6,6,6,4,4,4,4,4,8,4,6,6,8,8,8,8,4,4,4,4,4,8,8,8,8,6,6,6,6,8,8,8,8,4,4,4,4,4,4,4,4,6,4,3,4,4,4,4,4,8,8,8,6,6,6,4,6,6,6,6,6,6,8,6,8,8,4,4,4,4,4,4,4,4,5,6,4,6,4,4,6,6,4,6,6,8,8,8,8,8,8,8,8,4,4,4,4,5,8,4,8,4,4,4,4,4,6,6,4,4,4,4,4,4,4,4,6,4,4,4,4,4,4,4,4,4,4,5,4,4,4,4,6,3,4,4,4,4,4,6,4,4,4,4,4,4,4,4,4,4,4,4,4,4,4,4,4,6,6,6,6,8,6,6,4,4,4,4,4,4,4,4,4,4,4,4,4,4,4,4,4,4,6,6,4,6,4,4,4,4,4,4,4,4],\"displ\":[307.0,350.0,318.0,304.0,302.0,429.0,454.0,440.0,455.0,390.0,383.0,340.0,400.0,455.0,113.0,198.0,199.0,200.0,97.0,97.0,110.0,107.0,104.0,121.0,199.0,360.0,307.0,318.0,304.0,97.0,140.0,113.0,232.0,225.0,250.0,250.0,232.0,350.0,400.0,351.0,318.0,383.0,400.0,400.0,258.0,140.0,250.0,250.0,122.0,116.0,79.0,88.0,71.0,72.0,97.0,91.0,113.0,97.5,97.0,140.0,122.0,350.0,400.0,318.0,351.0,304.0,429.0,350.0,350.0,400.0,70.0,304.0,307.0,302.0,318.0,121.0,121.0,120.0,96.0,122.0,97.0,120.0,98.0,97.0,350.0,304.0,350.0,302.0,318.0,429.0,400.0,351.0,318.0,440.0,455.0,360.0,225.0,250.0,232.0,250.0,198.0,97.0,400.0,400.0,360.0,350.0,232.0,97.0,140.0,108.0,70.0,122.0,155.0,98.0,350.0,400.0,68.0,116.0,114.0,121.0,318.0,121.0,156.0,350.0,198.0,232.0,250.0,79.0,122.0,71.0,140.0,250.0,258.0,225.0,302.0,350.0,318.0,302.0,304.0,98.0,79.0,97.0,76.0,83.0,90.0,90.0,116.0,120.0,108.0,79.0,225.0,250.0,250.0,250.0,400.0,350.0,318.0,351.0,231.0,250.0,258.0,225.0,231.0,262.0,302.0,97.0,140.0,232.0,140.0,134.0,90.0,119.0,171.0,90.0,232.0,115.0,120.0,121.0,121.0,91.0,107.0,116.0,140.0,98.0,101.0,305.0,318.0,304.0,351.0,225.0,250.0,200.0,232.0,85.0,98.0,90.0,91.0,225.0,250.0,250.0,258.0,97.0,85.0,97.0,140.0,130.0,318.0,120.0,156.0,168.0,350.0,350.0,302.0,318.0,98.0,111.0,79.0,122.0,85.0,305.0,260.0,318.0,302.0,250.0,231.0,225.0,250.0,400.0,350.0,400.0,351.0,97.0,151.0,97.0,140.0,98.0,98.0,97.0,97.0,146.0,121.0,80.0,90.0,98.0,78.0,85.0,91.0,260.0,318.0,302.0,231.0,200.0,200.0,140.0,225.0,232.0,231.0,200.0,225.0,258.0,305.0,231.0,302.0,318.0,98.0,134.0,119.0,105.0,134.0,156.0,151.0,119.0,131.0,163.0,121.0,163.0,89.0,98.0,231.0,200.0,140.0,232.0,225.0,305.0,302.0,351.0,318.0,350.0,351.0,267.0,360.0,89.0,86.0,98.0,121.0,183.0,350.0,141.0,260.0,105.0,105.0,85.0,91.0,151.0,173.0,173.0,151.0,98.0,89.0,98.0,86.0,151.0,140.0,151.0,225.0,97.0,134.0,120.0,119.0,108.0,86.0,156.0,85.0,90.0,90.0,121.0,146.0,91.0,97.0,89.0,168.0,70.0,122.0,107.0,135.0,151.0,156.0,173.0,135.0,79.0,86.0,81.0,97.0,85.0,89.0,91.0,105.0,98.0,98.0,105.0,107.0,108.0,119.0,120.0,141.0,145.0,168.0,146.0,231.0,350.0,200.0,225.0,112.0,112.0,112.0,112.0,135.0,151.0,140.0,105.0,91.0,91.0,105.0,98.0,120.0,107.0,108.0,91.0,91.0,91.0,181.0,262.0,156.0,232.0,144.0,135.0,151.0,140.0,97.0,135.0,120.0,119.0],\"hp\":[130,165,150,150,140,198,220,215,225,190,170,160,150,225,95,95,97,85,88,46,87,90,95,113,90,215,200,210,193,88,90,95,100,105,100,88,100,165,175,153,150,180,170,175,110,72,100,88,86,90,70,76,65,69,60,70,95,80,54,90,86,165,175,150,153,150,208,155,160,190,97,150,130,140,150,112,76,87,69,86,92,97,80,88,175,150,145,137,150,198,150,158,150,215,225,175,105,100,100,88,95,46,150,167,170,180,100,88,72,94,90,85,107,90,145,230,49,75,91,112,150,110,122,180,95,100,100,67,80,65,75,100,110,105,140,150,150,140,150,83,67,78,52,61,75,75,75,97,93,67,95,105,72,72,170,145,150,148,110,105,110,95,110,110,129,75,83,100,78,96,71,97,97,70,90,95,88,98,115,53,86,81,92,79,83,140,150,120,152,100,105,81,90,52,60,70,53,100,78,110,95,71,70,75,72,102,150,88,108,120,180,145,130,150,68,80,58,96,70,145,110,145,130,110,105,100,98,180,170,190,149,78,88,75,89,63,83,67,78,97,110,110,48,66,52,70,60,110,140,139,105,95,85,88,100,90,105,85,110,120,145,165,139,140,68,95,97,75,95,105,85,97,103,125,115,133,71,68,115,85,88,90,110,130,129,138,135,155,142,125,150,71,65,80,80,77,125,71,90,70,70,65,69,90,115,115,90,76,60,70,65,90,88,90,90,78,90,75,92,75,65,105,65,48,48,67,67,67,67,62,132,100,88,72,84,84,92,110,84,58,64,60,67,65,62,68,63,65,65,74,75,75,100,74,80,76,116,120,110,105,88,85,88,88,88,85,84,90,92,74,68,68,63,70,88,75,70,67,67,67,110,85,92,112,96,84,90,86,52,84,79,82],\"mpg\":[18.0,15.0,18.0,16.0,17.0,15.0,14.0,14.0,14.0,15.0,15.0,14.0,15.0,14.0,24.0,22.0,18.0,21.0,27.0,26.0,25.0,24.0,25.0,26.0,21.0,10.0,10.0,11.0,9.0,27.0,28.0,25.0,19.0,16.0,17.0,19.0,18.0,14.0,14.0,14.0,14.0,12.0,13.0,13.0,18.0,22.0,19.0,18.0,23.0,28.0,30.0,30.0,31.0,35.0,27.0,26.0,24.0,25.0,23.0,20.0,21.0,13.0,14.0,15.0,14.0,17.0,11.0,13.0,12.0,13.0,19.0,15.0,13.0,13.0,14.0,18.0,22.0,21.0,26.0,22.0,28.0,23.0,28.0,27.0,13.0,14.0,13.0,14.0,15.0,12.0,13.0,13.0,14.0,13.0,12.0,13.0,18.0,16.0,18.0,18.0,23.0,26.0,11.0,12.0,13.0,12.0,18.0,20.0,21.0,22.0,18.0,19.0,21.0,26.0,15.0,16.0,29.0,24.0,20.0,19.0,15.0,24.0,20.0,11.0,20.0,19.0,15.0,31.0,26.0,32.0,25.0,16.0,16.0,18.0,16.0,13.0,14.0,14.0,14.0,29.0,26.0,26.0,31.0,32.0,28.0,24.0,26.0,24.0,26.0,31.0,19.0,18.0,15.0,15.0,16.0,15.0,16.0,14.0,17.0,16.0,15.0,18.0,21.0,20.0,13.0,29.0,23.0,20.0,23.0,24.0,25.0,24.0,18.0,29.0,19.0,23.0,23.0,22.0,25.0,33.0,28.0,25.0,25.0,26.0,27.0,17.5,16.0,15.5,14.5,22.0,22.0,24.0,22.5,29.0,24.5,29.0,33.0,20.0,18.0,18.5,17.5,29.5,32.0,28.0,26.5,20.0,13.0,19.0,19.0,16.5,16.5,13.0,13.0,13.0,31.5,30.0,36.0,25.5,33.5,17.5,17.0,15.5,15.0,17.5,20.5,19.0,18.5,16.0,15.5,15.5,16.0,29.0,24.5,26.0,25.5,30.5,33.5,30.0,30.5,22.0,21.5,21.5,43.1,36.1,32.8,39.4,36.1,19.9,19.4,20.2,19.2,20.5,20.2,25.1,20.5,19.4,20.6,20.8,18.6,18.1,19.2,17.7,18.1,17.5,30.0,27.5,27.2,30.9,21.1,23.2,23.8,23.9,20.3,17.0,21.6,16.2,31.5,29.5,21.5,19.8,22.3,20.2,20.6,17.0,17.6,16.5,18.2,16.9,15.5,19.2,18.5,31.9,34.1,35.7,27.4,25.4,23.0,27.2,23.9,34.2,34.5,31.8,37.3,28.4,28.8,26.8,33.5,41.5,38.1,32.1,37.2,28.0,26.4,24.3,19.1,34.3,29.8,31.3,37.0,32.2,46.6,27.9,40.8,44.3,43.4,36.4,30.0,44.6,33.8,29.8,32.7,23.7,35.0,32.4,27.2,26.6,25.8,23.5,30.0,39.1,39.0,35.1,32.3,37.0,37.7,34.1,34.7,34.4,29.9,33.0,33.7,32.4,32.9,31.6,28.1,30.7,25.4,24.2,22.4,26.6,20.2,17.6,28.0,27.0,34.0,31.0,29.0,27.0,24.0,36.0,37.0,31.0,38.0,36.0,36.0,36.0,34.0,38.0,32.0,38.0,25.0,38.0,26.0,22.0,32.0,36.0,27.0,27.0,44.0,32.0,28.0,31.0],\"name\":[\"chevrolet chevelle malibu\",\"buick skylark 320\",\"plymouth satellite\",\"amc rebel sst\",\"ford torino\",\"ford galaxie 500\",\"chevrolet impala\",\"plymouth fury iii\",\"pontiac catalina\",\"amc ambassador dpl\",\"dodge challenger se\",\"plymouth 'cuda 340\",\"chevrolet monte carlo\",\"buick estate wagon (sw)\",\"toyota corona mark ii\",\"plymouth duster\",\"amc hornet\",\"ford maverick\",\"datsun pl510\",\"volkswagen 1131 deluxe sedan\",\"peugeot 504\",\"audi 100 ls\",\"saab 99e\",\"bmw 2002\",\"amc gremlin\",\"ford f250\",\"chevy c20\",\"dodge d200\",\"hi 1200d\",\"datsun pl510\",\"chevrolet vega 2300\",\"toyota corona\",\"amc gremlin\",\"plymouth satellite custom\",\"chevrolet chevelle malibu\",\"ford torino 500\",\"amc matador\",\"chevrolet impala\",\"pontiac catalina brougham\",\"ford galaxie 500\",\"plymouth fury iii\",\"dodge monaco (sw)\",\"ford country squire (sw)\",\"pontiac safari (sw)\",\"amc hornet sportabout (sw)\",\"chevrolet vega (sw)\",\"pontiac firebird\",\"ford mustang\",\"mercury capri 2000\",\"opel 1900\",\"peugeot 304\",\"fiat 124b\",\"toyota corolla 1200\",\"datsun 1200\",\"volkswagen model 111\",\"plymouth cricket\",\"toyota corona hardtop\",\"dodge colt hardtop\",\"volkswagen type 3\",\"chevrolet vega\",\"ford pinto runabout\",\"chevrolet impala\",\"pontiac catalina\",\"plymouth fury iii\",\"ford galaxie 500\",\"amc ambassador sst\",\"mercury marquis\",\"buick lesabre custom\",\"oldsmobile delta 88 royale\",\"chrysler newport royal\",\"mazda rx2 coupe\",\"amc matador (sw)\",\"chevrolet chevelle concours (sw)\",\"ford gran torino (sw)\",\"plymouth satellite custom (sw)\",\"volvo 145e (sw)\",\"volkswagen 411 (sw)\",\"peugeot 504 (sw)\",\"renault 12 (sw)\",\"ford pinto (sw)\",\"datsun 510 (sw)\",\"toyouta corona mark ii (sw)\",\"dodge colt (sw)\",\"toyota corolla 1600 (sw)\",\"buick century 350\",\"amc matador\",\"chevrolet malibu\",\"ford gran torino\",\"dodge coronet custom\",\"mercury marquis brougham\",\"chevrolet caprice classic\",\"ford ltd\",\"plymouth fury gran sedan\",\"chrysler new yorker brougham\",\"buick electra 225 custom\",\"amc ambassador brougham\",\"plymouth valiant\",\"chevrolet nova custom\",\"amc hornet\",\"ford maverick\",\"plymouth duster\",\"volkswagen super beetle\",\"chevrolet impala\",\"ford country\",\"plymouth custom suburb\",\"oldsmobile vista cruiser\",\"amc gremlin\",\"toyota carina\",\"chevrolet vega\",\"datsun 610\",\"maxda rx3\",\"ford pinto\",\"mercury capri v6\",\"fiat 124 sport coupe\",\"chevrolet monte carlo s\",\"pontiac grand prix\",\"fiat 128\",\"opel manta\",\"audi 100ls\",\"volvo 144ea\",\"dodge dart custom\",\"saab 99le\",\"toyota mark ii\",\"oldsmobile omega\",\"plymouth duster\",\"amc hornet\",\"chevrolet nova\",\"datsun b210\",\"ford pinto\",\"toyota corolla 1200\",\"chevrolet vega\",\"chevrolet chevelle malibu classic\",\"amc matador\",\"plymouth satellite sebring\",\"ford gran torino\",\"buick century luxus (sw)\",\"dodge coronet custom (sw)\",\"ford gran torino (sw)\",\"amc matador (sw)\",\"audi fox\",\"volkswagen dasher\",\"opel manta\",\"toyota corona\",\"datsun 710\",\"dodge colt\",\"fiat 128\",\"fiat 124 tc\",\"honda civic\",\"subaru\",\"fiat x1.9\",\"plymouth valiant custom\",\"chevrolet nova\",\"mercury monarch\",\"ford maverick\",\"pontiac catalina\",\"chevrolet bel air\",\"plymouth grand fury\",\"ford ltd\",\"buick century\",\"chevroelt chevelle malibu\",\"amc matador\",\"plymouth fury\",\"buick skyhawk\",\"chevrolet monza 2+2\",\"ford mustang ii\",\"toyota corolla\",\"ford pinto\",\"amc gremlin\",\"pontiac astro\",\"toyota corona\",\"volkswagen dasher\",\"datsun 710\",\"ford pinto\",\"volkswagen rabbit\",\"amc pacer\",\"audi 100ls\",\"peugeot 504\",\"volvo 244dl\",\"saab 99le\",\"honda civic cvcc\",\"fiat 131\",\"opel 1900\",\"capri ii\",\"dodge colt\",\"renault 12tl\",\"chevrolet chevelle malibu classic\",\"dodge coronet brougham\",\"amc matador\",\"ford gran torino\",\"plymouth valiant\",\"chevrolet nova\",\"ford maverick\",\"amc hornet\",\"chevrolet chevette\",\"chevrolet woody\",\"vw rabbit\",\"honda civic\",\"dodge aspen se\",\"ford granada ghia\",\"pontiac ventura sj\",\"amc pacer d/l\",\"volkswagen rabbit\",\"datsun b-210\",\"toyota corolla\",\"ford pinto\",\"volvo 245\",\"plymouth volare premier v8\",\"peugeot 504\",\"toyota mark ii\",\"mercedes-benz 280s\",\"cadillac seville\",\"chevy c10\",\"ford f108\",\"dodge d100\",\"honda accord cvcc\",\"buick opel isuzu deluxe\",\"renault 5 gtl\",\"plymouth arrow gs\",\"datsun f-10 hatchback\",\"chevrolet caprice classic\",\"oldsmobile cutlass supreme\",\"dodge monaco brougham\",\"mercury cougar brougham\",\"chevrolet concours\",\"buick skylark\",\"plymouth volare custom\",\"ford granada\",\"pontiac grand prix lj\",\"chevrolet monte carlo landau\",\"chrysler cordoba\",\"ford thunderbird\",\"volkswagen rabbit custom\",\"pontiac sunbird coupe\",\"toyota corolla liftback\",\"ford mustang ii 2+2\",\"chevrolet chevette\",\"dodge colt m/m\",\"subaru dl\",\"volkswagen dasher\",\"datsun 810\",\"bmw 320i\",\"mazda rx-4\",\"volkswagen rabbit custom diesel\",\"ford fiesta\",\"mazda glc deluxe\",\"datsun b210 gx\",\"honda civic cvcc\",\"oldsmobile cutlass salon brougham\",\"dodge diplomat\",\"mercury monarch ghia\",\"pontiac phoenix lj\",\"chevrolet malibu\",\"ford fairmont (auto)\",\"ford fairmont (man)\",\"plymouth volare\",\"amc concord\",\"buick century special\",\"mercury zephyr\",\"dodge aspen\",\"amc concord d/l\",\"chevrolet monte carlo landau\",\"buick regal sport coupe (turbo)\",\"ford futura\",\"dodge magnum xe\",\"chevrolet chevette\",\"toyota corona\",\"datsun 510\",\"dodge omni\",\"toyota celica gt liftback\",\"plymouth sapporo\",\"oldsmobile starfire sx\",\"datsun 200-sx\",\"audi 5000\",\"volvo 264gl\",\"saab 99gle\",\"peugeot 604sl\",\"volkswagen scirocco\",\"honda accord lx\",\"pontiac lemans v6\",\"mercury zephyr 6\",\"ford fairmont 4\",\"amc concord dl 6\",\"dodge aspen 6\",\"chevrolet caprice classic\",\"ford ltd landau\",\"mercury grand marquis\",\"dodge st. regis\",\"buick estate wagon (sw)\",\"ford country squire (sw)\",\"chevrolet malibu classic (sw)\",\"chrysler lebaron town @ country (sw)\",\"vw rabbit custom\",\"maxda glc deluxe\",\"dodge colt hatchback custom\",\"amc spirit dl\",\"mercedes benz 300d\",\"cadillac eldorado\",\"peugeot 504\",\"oldsmobile cutlass salon brougham\",\"plymouth horizon\",\"plymouth horizon tc3\",\"datsun 210\",\"fiat strada custom\",\"buick skylark limited\",\"chevrolet citation\",\"oldsmobile omega brougham\",\"pontiac phoenix\",\"vw rabbit\",\"toyota corolla tercel\",\"chevrolet chevette\",\"datsun 310\",\"chevrolet citation\",\"ford fairmont\",\"amc concord\",\"dodge aspen\",\"audi 4000\",\"toyota corona liftback\",\"mazda 626\",\"datsun 510 hatchback\",\"toyota corolla\",\"mazda glc\",\"dodge colt\",\"datsun 210\",\"vw rabbit c (diesel)\",\"vw dasher (diesel)\",\"audi 5000s (diesel)\",\"mercedes-benz 240d\",\"honda civic 1500 gl\",\"subaru dl\",\"vokswagen rabbit\",\"datsun 280-zx\",\"mazda rx-7 gs\",\"triumph tr7 coupe\",\"honda accord\",\"plymouth reliant\",\"buick skylark\",\"dodge aries wagon (sw)\",\"chevrolet citation\",\"plymouth reliant\",\"toyota starlet\",\"plymouth champ\",\"honda civic 1300\",\"subaru\",\"datsun 210 mpg\",\"toyota tercel\",\"mazda glc 4\",\"plymouth horizon 4\",\"ford escort 4w\",\"ford escort 2h\",\"volkswagen jetta\",\"honda prelude\",\"toyota corolla\",\"datsun 200sx\",\"mazda 626\",\"peugeot 505s turbo diesel\",\"volvo diesel\",\"toyota cressida\",\"datsun 810 maxima\",\"buick century\",\"oldsmobile cutlass ls\",\"ford granada gl\",\"chrysler lebaron salon\",\"chevrolet cavalier\",\"chevrolet cavalier wagon\",\"chevrolet cavalier 2-door\",\"pontiac j2000 se hatchback\",\"dodge aries se\",\"pontiac phoenix\",\"ford fairmont futura\",\"volkswagen rabbit l\",\"mazda glc custom l\",\"mazda glc custom\",\"plymouth horizon miser\",\"mercury lynx l\",\"nissan stanza xe\",\"honda accord\",\"toyota corolla\",\"honda civic\",\"honda civic (auto)\",\"datsun 310 gx\",\"buick century limited\",\"oldsmobile cutlass ciera (diesel)\",\"chrysler lebaron medallion\",\"ford granada l\",\"toyota celica gt\",\"dodge charger 2.2\",\"chevrolet camaro\",\"ford mustang gl\",\"vw pickup\",\"dodge rampage\",\"ford ranger\",\"chevy s-10\"],\"origin\":[1,1,1,1,1,1,1,1,1,1,1,1,1,1,3,1,1,1,3,2,2,2,2,2,1,1,1,1,1,3,1,3,1,1,1,1,1,1,1,1,1,1,1,1,1,1,1,1,1,2,2,2,3,3,2,1,3,1,2,1,1,1,1,1,1,1,1,1,1,1,3,1,1,1,1,2,2,2,2,1,3,3,1,3,1,1,1,1,1,1,1,1,1,1,1,1,1,1,1,1,1,2,1,1,1,1,1,3,1,3,3,1,1,2,1,1,2,2,2,2,1,2,3,1,1,1,1,3,1,3,1,1,1,1,1,1,1,1,1,2,2,2,3,3,1,2,2,3,3,2,1,1,1,1,1,1,1,1,1,1,1,1,1,1,1,3,1,1,1,3,2,3,1,2,1,2,2,2,2,3,2,2,1,1,2,1,1,1,1,1,1,1,1,1,1,2,3,1,1,1,1,2,3,3,1,2,1,2,3,2,1,1,1,1,3,1,2,1,3,1,1,1,1,1,1,1,1,1,1,1,1,2,1,3,1,1,1,3,2,3,2,3,2,1,3,3,3,1,1,1,1,1,1,1,1,1,1,1,1,1,1,1,1,1,1,3,3,1,3,1,1,3,2,2,2,2,2,3,1,1,1,1,1,1,1,1,1,1,1,1,1,2,3,1,1,2,1,2,1,1,1,3,2,1,1,1,1,2,3,1,3,1,1,1,1,2,3,3,3,3,3,1,3,2,2,2,2,3,3,2,3,3,2,3,1,1,1,1,1,3,1,3,3,3,3,3,1,1,1,2,3,3,3,3,2,2,3,3,1,1,1,1,1,1,1,1,1,1,1,2,3,3,1,1,3,3,3,3,3,3,1,1,1,1,3,1,1,1,2,1,1,1],\"weight\":[3504,3693,3436,3433,3449,4341,4354,4312,4425,3850,3563,3609,3761,3086,2372,2833,2774,2587,2130,1835,2672,2430,2375,2234,2648,4615,4376,4382,4732,2130,2264,2228,2634,3439,3329,3302,3288,4209,4464,4154,4096,4955,4746,5140,2962,2408,3282,3139,2220,2123,2074,2065,1773,1613,1834,1955,2278,2126,2254,2408,2226,4274,4385,4135,4129,3672,4633,4502,4456,4422,2330,3892,4098,4294,4077,2933,2511,2979,2189,2395,2288,2506,2164,2100,4100,3672,3988,4042,3777,4952,4464,4363,4237,4735,4951,3821,3121,3278,2945,3021,2904,1950,4997,4906,4654,4499,2789,2279,2401,2379,2124,2310,2472,2265,4082,4278,1867,2158,2582,2868,3399,2660,2807,3664,3102,2901,3336,1950,2451,1836,2542,3781,3632,3613,4141,4699,4457,4638,4257,2219,1963,2300,1649,2003,2125,2108,2246,2489,2391,2000,3264,3459,3432,3158,4668,4440,4498,4657,3907,3897,3730,3785,3039,3221,3169,2171,2639,2914,2592,2702,2223,2545,2984,1937,3211,2694,2957,2945,2671,1795,2464,2220,2572,2255,2202,4215,4190,3962,4215,3233,3353,3012,3085,2035,2164,1937,1795,3651,3574,3645,3193,1825,1990,2155,2565,3150,3940,3270,2930,3820,4380,4055,3870,3755,2045,2155,1825,2300,1945,3880,4060,4140,4295,3520,3425,3630,3525,4220,4165,4325,4335,1940,2740,2265,2755,2051,2075,1985,2190,2815,2600,2720,1985,1800,1985,2070,1800,3365,3735,3570,3535,3155,2965,2720,3430,3210,3380,3070,3620,3410,3425,3445,3205,4080,2155,2560,2300,2230,2515,2745,2855,2405,2830,3140,2795,3410,1990,2135,3245,2990,2890,3265,3360,3840,3725,3955,3830,4360,4054,3605,3940,1925,1975,1915,2670,3530,3900,3190,3420,2200,2150,2020,2130,2670,2595,2700,2556,2144,1968,2120,2019,2678,2870,3003,3381,2188,2711,2542,2434,2265,2110,2800,2110,2085,2335,2950,3250,1850,2145,1845,2910,2420,2500,2290,2490,2635,2620,2725,2385,1755,1875,1760,2065,1975,2050,1985,2215,2045,2380,2190,2210,2350,2615,2635,3230,3160,2900,2930,3415,3725,3060,3465,2605,2640,2395,2575,2525,2735,2865,1980,2025,1970,2125,2125,2160,2205,2245,1965,1965,1995,2945,3015,2585,2835,2665,2370,2950,2790,2130,2295,2625,2720],\"yr\":[70,70,70,70,70,70,70,70,70,70,70,70,70,70,70,70,70,70,70,70,70,70,70,70,70,70,70,70,70,71,71,71,71,71,71,71,71,71,71,71,71,71,71,71,71,71,71,71,71,71,71,71,71,71,71,71,72,72,72,72,72,72,72,72,72,72,72,72,72,72,72,72,72,72,72,72,72,72,72,72,72,72,72,72,73,73,73,73,73,73,73,73,73,73,73,73,73,73,73,73,73,73,73,73,73,73,73,73,73,73,73,73,73,73,73,73,73,73,73,73,73,73,73,73,74,74,74,74,74,74,74,74,74,74,74,74,74,74,74,74,74,74,74,74,74,74,74,74,74,74,75,75,75,75,75,75,75,75,75,75,75,75,75,75,75,75,75,75,75,75,75,75,75,75,75,75,75,75,75,75,76,76,76,76,76,76,76,76,76,76,76,76,76,76,76,76,76,76,76,76,76,76,76,76,76,76,76,76,76,76,76,76,76,76,77,77,77,77,77,77,77,77,77,77,77,77,77,77,77,77,77,77,77,77,77,77,77,77,77,77,77,77,78,78,78,78,78,78,78,78,78,78,78,78,78,78,78,78,78,78,78,78,78,78,78,78,78,78,78,78,78,78,78,78,78,78,78,78,79,79,79,79,79,79,79,79,79,79,79,79,79,79,79,79,79,79,79,79,79,79,79,79,79,79,79,79,79,80,80,80,80,80,80,80,80,80,80,80,80,80,80,80,80,80,80,80,80,80,80,80,80,80,80,80,81,81,81,81,81,81,81,81,81,81,81,81,81,81,81,81,81,81,81,81,81,81,81,81,81,81,81,81,82,82,82,82,82,82,82,82,82,82,82,82,82,82,82,82,82,82,82,82,82,82,82,82,82,82,82,82,82,82]}},\"id\":\"3e2bd731-69a0-4520-9257-80dce5d369df\",\"type\":\"ColumnDataSource\"},{\"attributes\":{\"bottom_units\":\"screen\",\"fill_alpha\":{\"value\":0.5},\"fill_color\":{\"value\":\"lightgrey\"},\"left_units\":\"screen\",\"level\":\"overlay\",\"line_alpha\":{\"value\":1.0},\"line_color\":{\"value\":\"black\"},\"line_dash\":[4,4],\"line_width\":{\"value\":2},\"plot\":null,\"render_mode\":\"css\",\"right_units\":\"screen\",\"top_units\":\"screen\"},\"id\":\"292a4f47-2466-49c9-9c46-f5e4e1974076\",\"type\":\"BoxAnnotation\"},{\"attributes\":{\"fill_color\":{\"value\":\"blue\"},\"line_color\":{\"value\":\"blue\"},\"x\":{\"field\":\"yr\"},\"y\":{\"field\":\"mpg\"}},\"id\":\"7700d288-6405-46b6-9107-b72f89f09a10\",\"type\":\"Circle\"},{\"attributes\":{\"formatter\":{\"id\":\"f04a83b0-f8dc-4860-b1b2-cd380d04c622\",\"type\":\"BasicTickFormatter\"},\"plot\":{\"id\":\"004f7b10-7748-43c7-bfbb-1772511640e1\",\"subtype\":\"Figure\",\"type\":\"Plot\"},\"ticker\":{\"id\":\"df548147-af20-446d-bf5c-1cc78e5319b0\",\"type\":\"BasicTicker\"}},\"id\":\"905a7b5a-a62d-4011-80d0-34aab23f6e08\",\"type\":\"LinearAxis\"},{\"attributes\":{\"callback\":null,\"overlay\":{\"id\":\"8a132d88-a846-4b96-b0a0-2653b1581700\",\"type\":\"BoxAnnotation\"},\"plot\":{\"id\":\"004f7b10-7748-43c7-bfbb-1772511640e1\",\"subtype\":\"Figure\",\"type\":\"Plot\"},\"renderers\":[{\"id\":\"8015edfd-0497-4437-a59b-b37ecbbd5f5e\",\"type\":\"GlyphRenderer\"}]},\"id\":\"95b35fc2-e9aa-475b-95e3-c289d855142f\",\"type\":\"BoxSelectTool\"},{\"attributes\":{\"overlay\":{\"id\":\"ce3878fd-20bb-4ef3-9430-b86d0cc7c1a2\",\"type\":\"BoxAnnotation\"},\"plot\":{\"id\":\"3aa4de87-50a8-4563-ae5a-d705cebf80b8\",\"subtype\":\"Figure\",\"type\":\"Plot\"}},\"id\":\"d52c7142-f5c4-430b-8ffd-6315c5763fa8\",\"type\":\"BoxZoomTool\"},{\"attributes\":{\"overlay\":{\"id\":\"292a4f47-2466-49c9-9c46-f5e4e1974076\",\"type\":\"BoxAnnotation\"},\"plot\":{\"id\":\"768409db-b925-49c9-a52d-b9bfec23e2ec\",\"subtype\":\"Figure\",\"type\":\"Plot\"}},\"id\":\"eb5c0743-da6b-4611-a5bd-6c620ea4ccea\",\"type\":\"BoxZoomTool\"},{\"attributes\":{\"formatter\":{\"id\":\"1950b582-fa47-4819-9c4f-7250fd7b9dc7\",\"type\":\"BasicTickFormatter\"},\"plot\":{\"id\":\"768409db-b925-49c9-a52d-b9bfec23e2ec\",\"subtype\":\"Figure\",\"type\":\"Plot\"},\"ticker\":{\"id\":\"4c24a4fa-6229-4122-bb90-6758d90732aa\",\"type\":\"BasicTicker\"}},\"id\":\"1472da33-e17f-4363-910c-b5a53d7368b9\",\"type\":\"LinearAxis\"},{\"attributes\":{},\"id\":\"71956611-7aa6-4b79-a136-c3f84de42f06\",\"type\":\"BasicTickFormatter\"},{\"attributes\":{\"callback\":null},\"id\":\"2ff66240-ee22-419e-bb1b-2d8d14bf8fb0\",\"type\":\"DataRange1d\"},{\"attributes\":{\"children\":[{\"id\":\"768409db-b925-49c9-a52d-b9bfec23e2ec\",\"subtype\":\"Figure\",\"type\":\"Plot\"},{\"id\":\"004f7b10-7748-43c7-bfbb-1772511640e1\",\"subtype\":\"Figure\",\"type\":\"Plot\"},{\"id\":\"3aa4de87-50a8-4563-ae5a-d705cebf80b8\",\"subtype\":\"Figure\",\"type\":\"Plot\"}]},\"id\":\"39113375-61d8-4ba9-b617-8ece45803bb7\",\"type\":\"Row\"},{\"attributes\":{\"callback\":null},\"id\":\"779d4817-e436-4330-8271-25421ca19157\",\"type\":\"DataRange1d\"},{\"attributes\":{\"plot\":{\"id\":\"3aa4de87-50a8-4563-ae5a-d705cebf80b8\",\"subtype\":\"Figure\",\"type\":\"Plot\"},\"ticker\":{\"id\":\"05909efe-4347-4df0-945e-48e791f55cac\",\"type\":\"BasicTicker\"}},\"id\":\"b5ce02da-933a-456b-a1a5-afe705dfe8bf\",\"type\":\"Grid\"},{\"attributes\":{},\"id\":\"d9f62da8-496f-4526-8c98-9473290872fe\",\"type\":\"BasicTicker\"},{\"attributes\":{},\"id\":\"44552774-16a3-428a-892f-95d223ade227\",\"type\":\"BasicTickFormatter\"},{\"attributes\":{\"plot\":{\"id\":\"004f7b10-7748-43c7-bfbb-1772511640e1\",\"subtype\":\"Figure\",\"type\":\"Plot\"}},\"id\":\"abebb17a-1c2c-4b29-9642-5e192c6c7412\",\"type\":\"PanTool\"},{\"attributes\":{\"children\":[{\"id\":\"39113375-61d8-4ba9-b617-8ece45803bb7\",\"type\":\"Row\"}]},\"id\":\"c1dfde5c-4c3e-4ea7-92f5-7961719fc46e\",\"type\":\"Column\"},{\"attributes\":{\"callback\":null},\"id\":\"dac906d5-9977-4be6-80cf-be07986cc068\",\"type\":\"DataRange1d\"},{\"attributes\":{\"children\":[{\"id\":\"c1dfde5c-4c3e-4ea7-92f5-7961719fc46e\",\"type\":\"Column\"},{\"id\":\"db82cd94-63a7-4baf-81ad-b74687a2403f\",\"type\":\"ToolbarBox\"}]},\"id\":\"5ae30a62-2d5e-4ae4-8c35-e0df6a985208\",\"type\":\"Row\"},{\"attributes\":{\"callback\":null,\"overlay\":{\"id\":\"dd62bc62-feab-4eda-8983-830d908e6765\",\"type\":\"PolyAnnotation\"},\"plot\":{\"id\":\"3aa4de87-50a8-4563-ae5a-d705cebf80b8\",\"subtype\":\"Figure\",\"type\":\"Plot\"}},\"id\":\"008bdb14-2cd7-4a96-a7b2-ad409cf3d3b0\",\"type\":\"LassoSelectTool\"},{\"attributes\":{},\"id\":\"df548147-af20-446d-bf5c-1cc78e5319b0\",\"type\":\"BasicTicker\"},{\"attributes\":{\"bottom_units\":\"screen\",\"fill_alpha\":{\"value\":0.5},\"fill_color\":{\"value\":\"lightgrey\"},\"left_units\":\"screen\",\"level\":\"overlay\",\"line_alpha\":{\"value\":1.0},\"line_color\":{\"value\":\"black\"},\"line_dash\":[4,4],\"line_width\":{\"value\":2},\"plot\":null,\"render_mode\":\"css\",\"right_units\":\"screen\",\"top_units\":\"screen\"},\"id\":\"6fc8b56a-f654-481d-9c62-3b088f84e358\",\"type\":\"BoxAnnotation\"},{\"attributes\":{\"active_drag\":\"auto\",\"active_scroll\":\"auto\",\"active_tap\":\"auto\",\"tools\":[{\"id\":\"abebb17a-1c2c-4b29-9642-5e192c6c7412\",\"type\":\"PanTool\"},{\"id\":\"5d271893-73f6-409c-81b7-83e33235f0bc\",\"type\":\"WheelZoomTool\"},{\"id\":\"9645b2d6-5576-4967-9c2f-cbb6ed875843\",\"type\":\"BoxZoomTool\"},{\"id\":\"95b35fc2-e9aa-475b-95e3-c289d855142f\",\"type\":\"BoxSelectTool\"},{\"id\":\"0be821b0-62e9-4c8d-a3be-8bd424552978\",\"type\":\"LassoSelectTool\"}]},\"id\":\"c98033f8-006d-45df-b328-cab99e805aae\",\"type\":\"Toolbar\"},{\"attributes\":{\"plot\":{\"id\":\"768409db-b925-49c9-a52d-b9bfec23e2ec\",\"subtype\":\"Figure\",\"type\":\"Plot\"}},\"id\":\"5c6a3712-dc79-4872-9be7-4510497c0143\",\"type\":\"PanTool\"},{\"attributes\":{\"overlay\":{\"id\":\"6fc8b56a-f654-481d-9c62-3b088f84e358\",\"type\":\"BoxAnnotation\"},\"plot\":{\"id\":\"004f7b10-7748-43c7-bfbb-1772511640e1\",\"subtype\":\"Figure\",\"type\":\"Plot\"}},\"id\":\"9645b2d6-5576-4967-9c2f-cbb6ed875843\",\"type\":\"BoxZoomTool\"},{\"attributes\":{\"bottom_units\":\"screen\",\"fill_alpha\":{\"value\":0.5},\"fill_color\":{\"value\":\"lightgrey\"},\"left_units\":\"screen\",\"level\":\"overlay\",\"line_alpha\":{\"value\":1.0},\"line_color\":{\"value\":\"black\"},\"line_dash\":[4,4],\"line_width\":{\"value\":2},\"plot\":null,\"render_mode\":\"css\",\"right_units\":\"screen\",\"top_units\":\"screen\"},\"id\":\"8a132d88-a846-4b96-b0a0-2653b1581700\",\"type\":\"BoxAnnotation\"},{\"attributes\":{\"plot\":null,\"text\":\"HP vs. Displacement\"},\"id\":\"36837a67-80d5-40f7-8862-8bba567c2e69\",\"type\":\"Title\"},{\"attributes\":{\"dimension\":1,\"plot\":{\"id\":\"004f7b10-7748-43c7-bfbb-1772511640e1\",\"subtype\":\"Figure\",\"type\":\"Plot\"},\"ticker\":{\"id\":\"ec9c9912-3887-4c99-9502-3bad90d9755b\",\"type\":\"BasicTicker\"}},\"id\":\"e0da6525-7391-48da-beb4-b1964778e3cf\",\"type\":\"Grid\"},{\"attributes\":{\"data_source\":{\"id\":\"3e2bd731-69a0-4520-9257-80dce5d369df\",\"type\":\"ColumnDataSource\"},\"glyph\":{\"id\":\"7700d288-6405-46b6-9107-b72f89f09a10\",\"type\":\"Circle\"},\"hover_glyph\":null,\"nonselection_glyph\":{\"id\":\"072fec75-49ef-43b7-b87c-67c10a50f424\",\"type\":\"Circle\"},\"selection_glyph\":null},\"id\":\"9762d72a-9984-4d45-9ae7-05fffa32dcb5\",\"type\":\"GlyphRenderer\"},{\"attributes\":{},\"id\":\"f04a83b0-f8dc-4860-b1b2-cd380d04c622\",\"type\":\"BasicTickFormatter\"},{\"attributes\":{\"fill_alpha\":{\"value\":0.5},\"fill_color\":{\"value\":\"lightgrey\"},\"level\":\"overlay\",\"line_alpha\":{\"value\":1.0},\"line_color\":{\"value\":\"black\"},\"line_dash\":[4,4],\"line_width\":{\"value\":2},\"plot\":null,\"xs_units\":\"screen\",\"ys_units\":\"screen\"},\"id\":\"f7811341-f068-4cf7-82ad-06b627609f37\",\"type\":\"PolyAnnotation\"},{\"attributes\":{\"fill_alpha\":{\"value\":0.1},\"fill_color\":{\"value\":\"#1f77b4\"},\"line_alpha\":{\"value\":0.1},\"line_color\":{\"value\":\"#1f77b4\"},\"x\":{\"field\":\"hp\"},\"y\":{\"field\":\"displ\"}},\"id\":\"0152e8cb-2407-4d94-ae20-ee4de3aa755d\",\"type\":\"Circle\"},{\"attributes\":{},\"id\":\"1950b582-fa47-4819-9c4f-7250fd7b9dc7\",\"type\":\"BasicTickFormatter\"},{\"attributes\":{},\"id\":\"8b0a4425-3fc1-45a2-9caf-6a7d0793b862\",\"type\":\"BasicTickFormatter\"},{\"attributes\":{\"callback\":null},\"id\":\"57b228b9-d5cd-4f72-877d-90184e301240\",\"type\":\"DataRange1d\"},{\"attributes\":{\"below\":[{\"id\":\"1472da33-e17f-4363-910c-b5a53d7368b9\",\"type\":\"LinearAxis\"}],\"left\":[{\"id\":\"c936371b-aa88-439e-a82a-3eedefc19ce6\",\"type\":\"LinearAxis\"}],\"plot_height\":300,\"plot_width\":300,\"renderers\":[{\"id\":\"1472da33-e17f-4363-910c-b5a53d7368b9\",\"type\":\"LinearAxis\"},{\"id\":\"98a67d9b-e5f5-4bad-b610-f02e6c3aa06b\",\"type\":\"Grid\"},{\"id\":\"c936371b-aa88-439e-a82a-3eedefc19ce6\",\"type\":\"LinearAxis\"},{\"id\":\"2e693785-96f9-4988-819f-ae0da25a6674\",\"type\":\"Grid\"},{\"id\":\"292a4f47-2466-49c9-9c46-f5e4e1974076\",\"type\":\"BoxAnnotation\"},{\"id\":\"39ba2cd8-81f1-4183-947f-cd0756a060fa\",\"type\":\"BoxAnnotation\"},{\"id\":\"f7811341-f068-4cf7-82ad-06b627609f37\",\"type\":\"PolyAnnotation\"},{\"id\":\"9762d72a-9984-4d45-9ae7-05fffa32dcb5\",\"type\":\"GlyphRenderer\"}],\"title\":{\"id\":\"defd6149-ccd5-4408-ab31-5f50596793d0\",\"type\":\"Title\"},\"tool_events\":{\"id\":\"cdde10f2-f86c-4b06-8392-1fe26031ca4f\",\"type\":\"ToolEvents\"},\"toolbar\":{\"id\":\"eeaa185d-1612-42c2-92d7-0ac535bc0550\",\"type\":\"Toolbar\"},\"toolbar_location\":null,\"x_range\":{\"id\":\"dac906d5-9977-4be6-80cf-be07986cc068\",\"type\":\"DataRange1d\"},\"y_range\":{\"id\":\"57b228b9-d5cd-4f72-877d-90184e301240\",\"type\":\"DataRange1d\"}},\"id\":\"768409db-b925-49c9-a52d-b9bfec23e2ec\",\"subtype\":\"Figure\",\"type\":\"Plot\"},{\"attributes\":{\"active_drag\":\"auto\",\"active_scroll\":\"auto\",\"active_tap\":\"auto\",\"tools\":[{\"id\":\"5c6a3712-dc79-4872-9be7-4510497c0143\",\"type\":\"PanTool\"},{\"id\":\"4b8350a0-33a3-45da-8eba-a5782dbfe82e\",\"type\":\"WheelZoomTool\"},{\"id\":\"eb5c0743-da6b-4611-a5bd-6c620ea4ccea\",\"type\":\"BoxZoomTool\"},{\"id\":\"1cb52174-dbc7-41df-b45b-089d292e8874\",\"type\":\"BoxSelectTool\"},{\"id\":\"41bec6c3-abe3-4b63-bfa9-154815f0a907\",\"type\":\"LassoSelectTool\"}]},\"id\":\"eeaa185d-1612-42c2-92d7-0ac535bc0550\",\"type\":\"Toolbar\"},{\"attributes\":{},\"id\":\"05909efe-4347-4df0-945e-48e791f55cac\",\"type\":\"BasicTicker\"},{\"attributes\":{\"plot\":{\"id\":\"004f7b10-7748-43c7-bfbb-1772511640e1\",\"subtype\":\"Figure\",\"type\":\"Plot\"}},\"id\":\"5d271893-73f6-409c-81b7-83e33235f0bc\",\"type\":\"WheelZoomTool\"},{\"attributes\":{},\"id\":\"08b0a474-f74d-4bae-9c55-1795a42e0df8\",\"type\":\"BasicTickFormatter\"},{\"attributes\":{\"sizing_mode\":\"scale_width\",\"tools\":[{\"id\":\"5c6a3712-dc79-4872-9be7-4510497c0143\",\"type\":\"PanTool\"},{\"id\":\"4b8350a0-33a3-45da-8eba-a5782dbfe82e\",\"type\":\"WheelZoomTool\"},{\"id\":\"eb5c0743-da6b-4611-a5bd-6c620ea4ccea\",\"type\":\"BoxZoomTool\"},{\"id\":\"1cb52174-dbc7-41df-b45b-089d292e8874\",\"type\":\"BoxSelectTool\"},{\"id\":\"41bec6c3-abe3-4b63-bfa9-154815f0a907\",\"type\":\"LassoSelectTool\"},{\"id\":\"abebb17a-1c2c-4b29-9642-5e192c6c7412\",\"type\":\"PanTool\"},{\"id\":\"5d271893-73f6-409c-81b7-83e33235f0bc\",\"type\":\"WheelZoomTool\"},{\"id\":\"9645b2d6-5576-4967-9c2f-cbb6ed875843\",\"type\":\"BoxZoomTool\"},{\"id\":\"95b35fc2-e9aa-475b-95e3-c289d855142f\",\"type\":\"BoxSelectTool\"},{\"id\":\"0be821b0-62e9-4c8d-a3be-8bd424552978\",\"type\":\"LassoSelectTool\"},{\"id\":\"fc247bc1-c687-4174-b7a5-a270ab1415fd\",\"type\":\"PanTool\"},{\"id\":\"b8ca2de0-b3fb-44bb-bdf0-f60c852e1c02\",\"type\":\"WheelZoomTool\"},{\"id\":\"d52c7142-f5c4-430b-8ffd-6315c5763fa8\",\"type\":\"BoxZoomTool\"},{\"id\":\"efde0d86-d2f8-465c-9326-8f04e4712007\",\"type\":\"BoxSelectTool\"},{\"id\":\"008bdb14-2cd7-4a96-a7b2-ad409cf3d3b0\",\"type\":\"LassoSelectTool\"}]},\"id\":\"db82cd94-63a7-4baf-81ad-b74687a2403f\",\"type\":\"ToolbarBox\"},{\"attributes\":{},\"id\":\"4c24a4fa-6229-4122-bb90-6758d90732aa\",\"type\":\"BasicTicker\"},{\"attributes\":{\"bottom_units\":\"screen\",\"fill_alpha\":{\"value\":0.5},\"fill_color\":{\"value\":\"lightgrey\"},\"left_units\":\"screen\",\"level\":\"overlay\",\"line_alpha\":{\"value\":1.0},\"line_color\":{\"value\":\"black\"},\"line_dash\":[4,4],\"line_width\":{\"value\":2},\"plot\":null,\"render_mode\":\"css\",\"right_units\":\"screen\",\"top_units\":\"screen\"},\"id\":\"ce3878fd-20bb-4ef3-9430-b86d0cc7c1a2\",\"type\":\"BoxAnnotation\"},{\"attributes\":{\"callback\":null},\"id\":\"4405662d-50b6-4b87-a014-8927751c6c6c\",\"type\":\"DataRange1d\"},{\"attributes\":{\"plot\":null,\"text\":\"MPG vs. Displacement\"},\"id\":\"cb4d8c53-ed92-41b4-8e0b-33971daecbb5\",\"type\":\"Title\"},{\"attributes\":{\"fill_alpha\":{\"value\":0.1},\"fill_color\":{\"value\":\"#1f77b4\"},\"line_alpha\":{\"value\":0.1},\"line_color\":{\"value\":\"#1f77b4\"},\"x\":{\"field\":\"yr\"},\"y\":{\"field\":\"mpg\"}},\"id\":\"072fec75-49ef-43b7-b87c-67c10a50f424\",\"type\":\"Circle\"},{\"attributes\":{\"bottom_units\":\"screen\",\"fill_alpha\":{\"value\":0.5},\"fill_color\":{\"value\":\"lightgrey\"},\"left_units\":\"screen\",\"level\":\"overlay\",\"line_alpha\":{\"value\":1.0},\"line_color\":{\"value\":\"black\"},\"line_dash\":[4,4],\"line_width\":{\"value\":2},\"plot\":null,\"render_mode\":\"css\",\"right_units\":\"screen\",\"top_units\":\"screen\"},\"id\":\"39ba2cd8-81f1-4183-947f-cd0756a060fa\",\"type\":\"BoxAnnotation\"},{\"attributes\":{\"fill_color\":{\"value\":null},\"line_color\":{\"value\":\"red\"},\"size\":{\"field\":\"cyl\",\"units\":\"screen\"},\"x\":{\"field\":\"mpg\"},\"y\":{\"field\":\"displ\"}},\"id\":\"4fbd4e5c-d9ed-4793-b400-f9bc890887ea\",\"type\":\"Circle\"},{\"attributes\":{\"callback\":null},\"id\":\"6fb202f0-223e-4873-85ef-acb7e723b009\",\"type\":\"DataRange1d\"},{\"attributes\":{},\"id\":\"79a138fd-a29b-484d-a703-53ede340b52a\",\"type\":\"ToolEvents\"},{\"attributes\":{\"formatter\":{\"id\":\"44552774-16a3-428a-892f-95d223ade227\",\"type\":\"BasicTickFormatter\"},\"plot\":{\"id\":\"3aa4de87-50a8-4563-ae5a-d705cebf80b8\",\"subtype\":\"Figure\",\"type\":\"Plot\"},\"ticker\":{\"id\":\"05909efe-4347-4df0-945e-48e791f55cac\",\"type\":\"BasicTicker\"}},\"id\":\"a936abb6-45bb-4028-bc99-0012f3f360f0\",\"type\":\"LinearAxis\"},{\"attributes\":{\"below\":[{\"id\":\"905a7b5a-a62d-4011-80d0-34aab23f6e08\",\"type\":\"LinearAxis\"}],\"left\":[{\"id\":\"19e4650e-75b7-436b-b53a-5a1d9078e7fd\",\"type\":\"LinearAxis\"}],\"plot_height\":300,\"plot_width\":300,\"renderers\":[{\"id\":\"905a7b5a-a62d-4011-80d0-34aab23f6e08\",\"type\":\"LinearAxis\"},{\"id\":\"7f4f4dc2-38d5-4128-b51f-b8c9eca8d2b3\",\"type\":\"Grid\"},{\"id\":\"19e4650e-75b7-436b-b53a-5a1d9078e7fd\",\"type\":\"LinearAxis\"},{\"id\":\"e0da6525-7391-48da-beb4-b1964778e3cf\",\"type\":\"Grid\"},{\"id\":\"6fc8b56a-f654-481d-9c62-3b088f84e358\",\"type\":\"BoxAnnotation\"},{\"id\":\"8a132d88-a846-4b96-b0a0-2653b1581700\",\"type\":\"BoxAnnotation\"},{\"id\":\"d06f2f3d-1e1f-4d4c-bd54-c29331bc21cb\",\"type\":\"PolyAnnotation\"},{\"id\":\"8015edfd-0497-4437-a59b-b37ecbbd5f5e\",\"type\":\"GlyphRenderer\"}],\"title\":{\"id\":\"36837a67-80d5-40f7-8862-8bba567c2e69\",\"type\":\"Title\"},\"tool_events\":{\"id\":\"79a138fd-a29b-484d-a703-53ede340b52a\",\"type\":\"ToolEvents\"},\"toolbar\":{\"id\":\"c98033f8-006d-45df-b328-cab99e805aae\",\"type\":\"Toolbar\"},\"toolbar_location\":null,\"x_range\":{\"id\":\"779d4817-e436-4330-8271-25421ca19157\",\"type\":\"DataRange1d\"},\"y_range\":{\"id\":\"2ff66240-ee22-419e-bb1b-2d8d14bf8fb0\",\"type\":\"DataRange1d\"}},\"id\":\"004f7b10-7748-43c7-bfbb-1772511640e1\",\"subtype\":\"Figure\",\"type\":\"Plot\"},{\"attributes\":{\"below\":[{\"id\":\"a936abb6-45bb-4028-bc99-0012f3f360f0\",\"type\":\"LinearAxis\"}],\"left\":[{\"id\":\"a7548ede-6ad9-4bc8-be9a-2528a102064e\",\"type\":\"LinearAxis\"}],\"plot_height\":300,\"plot_width\":300,\"renderers\":[{\"id\":\"a936abb6-45bb-4028-bc99-0012f3f360f0\",\"type\":\"LinearAxis\"},{\"id\":\"b5ce02da-933a-456b-a1a5-afe705dfe8bf\",\"type\":\"Grid\"},{\"id\":\"a7548ede-6ad9-4bc8-be9a-2528a102064e\",\"type\":\"LinearAxis\"},{\"id\":\"9d8baa39-1814-4dfc-bf73-4274e9ece857\",\"type\":\"Grid\"},{\"id\":\"ce3878fd-20bb-4ef3-9430-b86d0cc7c1a2\",\"type\":\"BoxAnnotation\"},{\"id\":\"653b3123-68b6-4e65-83ef-503928a01166\",\"type\":\"BoxAnnotation\"},{\"id\":\"dd62bc62-feab-4eda-8983-830d908e6765\",\"type\":\"PolyAnnotation\"},{\"id\":\"a9e74adb-a702-4861-9797-7f00a2105d83\",\"type\":\"GlyphRenderer\"}],\"title\":{\"id\":\"cb4d8c53-ed92-41b4-8e0b-33971daecbb5\",\"type\":\"Title\"},\"tool_events\":{\"id\":\"ebbb2bbd-c239-4383-a53a-b7a8159019af\",\"type\":\"ToolEvents\"},\"toolbar\":{\"id\":\"6fc9c588-ab04-4911-9ceb-3484b23a765f\",\"type\":\"Toolbar\"},\"toolbar_location\":null,\"x_range\":{\"id\":\"6fb202f0-223e-4873-85ef-acb7e723b009\",\"type\":\"DataRange1d\"},\"y_range\":{\"id\":\"4405662d-50b6-4b87-a014-8927751c6c6c\",\"type\":\"DataRange1d\"}},\"id\":\"3aa4de87-50a8-4563-ae5a-d705cebf80b8\",\"subtype\":\"Figure\",\"type\":\"Plot\"},{\"attributes\":{\"fill_alpha\":{\"value\":0.5},\"fill_color\":{\"value\":\"lightgrey\"},\"level\":\"overlay\",\"line_alpha\":{\"value\":1.0},\"line_color\":{\"value\":\"black\"},\"line_dash\":[4,4],\"line_width\":{\"value\":2},\"plot\":null,\"xs_units\":\"screen\",\"ys_units\":\"screen\"},\"id\":\"dd62bc62-feab-4eda-8983-830d908e6765\",\"type\":\"PolyAnnotation\"},{\"attributes\":{\"data_source\":{\"id\":\"3e2bd731-69a0-4520-9257-80dce5d369df\",\"type\":\"ColumnDataSource\"},\"glyph\":{\"id\":\"e92c5387-945b-4766-91f6-6aa45d7b33ec\",\"type\":\"Circle\"},\"hover_glyph\":null,\"nonselection_glyph\":{\"id\":\"0152e8cb-2407-4d94-ae20-ee4de3aa755d\",\"type\":\"Circle\"},\"selection_glyph\":null},\"id\":\"8015edfd-0497-4437-a59b-b37ecbbd5f5e\",\"type\":\"GlyphRenderer\"},{\"attributes\":{},\"id\":\"ebbb2bbd-c239-4383-a53a-b7a8159019af\",\"type\":\"ToolEvents\"},{\"attributes\":{\"plot\":null,\"text\":\"MPG by Year\"},\"id\":\"defd6149-ccd5-4408-ab31-5f50596793d0\",\"type\":\"Title\"},{\"attributes\":{\"formatter\":{\"id\":\"71956611-7aa6-4b79-a136-c3f84de42f06\",\"type\":\"BasicTickFormatter\"},\"plot\":{\"id\":\"3aa4de87-50a8-4563-ae5a-d705cebf80b8\",\"subtype\":\"Figure\",\"type\":\"Plot\"},\"ticker\":{\"id\":\"d9f62da8-496f-4526-8c98-9473290872fe\",\"type\":\"BasicTicker\"}},\"id\":\"a7548ede-6ad9-4bc8-be9a-2528a102064e\",\"type\":\"LinearAxis\"},{\"attributes\":{\"dimension\":1,\"plot\":{\"id\":\"3aa4de87-50a8-4563-ae5a-d705cebf80b8\",\"subtype\":\"Figure\",\"type\":\"Plot\"},\"ticker\":{\"id\":\"d9f62da8-496f-4526-8c98-9473290872fe\",\"type\":\"BasicTicker\"}},\"id\":\"9d8baa39-1814-4dfc-bf73-4274e9ece857\",\"type\":\"Grid\"},{\"attributes\":{\"plot\":{\"id\":\"3aa4de87-50a8-4563-ae5a-d705cebf80b8\",\"subtype\":\"Figure\",\"type\":\"Plot\"}},\"id\":\"fc247bc1-c687-4174-b7a5-a270ab1415fd\",\"type\":\"PanTool\"},{\"attributes\":{},\"id\":\"6d073c2e-5350-4446-822a-4716ec466e1f\",\"type\":\"BasicTicker\"},{\"attributes\":{\"plot\":{\"id\":\"004f7b10-7748-43c7-bfbb-1772511640e1\",\"subtype\":\"Figure\",\"type\":\"Plot\"},\"ticker\":{\"id\":\"df548147-af20-446d-bf5c-1cc78e5319b0\",\"type\":\"BasicTicker\"}},\"id\":\"7f4f4dc2-38d5-4128-b51f-b8c9eca8d2b3\",\"type\":\"Grid\"},{\"attributes\":{\"plot\":{\"id\":\"3aa4de87-50a8-4563-ae5a-d705cebf80b8\",\"subtype\":\"Figure\",\"type\":\"Plot\"}},\"id\":\"b8ca2de0-b3fb-44bb-bdf0-f60c852e1c02\",\"type\":\"WheelZoomTool\"},{\"attributes\":{\"active_drag\":\"auto\",\"active_scroll\":\"auto\",\"active_tap\":\"auto\",\"tools\":[{\"id\":\"fc247bc1-c687-4174-b7a5-a270ab1415fd\",\"type\":\"PanTool\"},{\"id\":\"b8ca2de0-b3fb-44bb-bdf0-f60c852e1c02\",\"type\":\"WheelZoomTool\"},{\"id\":\"d52c7142-f5c4-430b-8ffd-6315c5763fa8\",\"type\":\"BoxZoomTool\"},{\"id\":\"efde0d86-d2f8-465c-9326-8f04e4712007\",\"type\":\"BoxSelectTool\"},{\"id\":\"008bdb14-2cd7-4a96-a7b2-ad409cf3d3b0\",\"type\":\"LassoSelectTool\"}]},\"id\":\"6fc9c588-ab04-4911-9ceb-3484b23a765f\",\"type\":\"Toolbar\"},{\"attributes\":{},\"id\":\"ec9c9912-3887-4c99-9502-3bad90d9755b\",\"type\":\"BasicTicker\"},{\"attributes\":{\"callback\":null,\"overlay\":{\"id\":\"653b3123-68b6-4e65-83ef-503928a01166\",\"type\":\"BoxAnnotation\"},\"plot\":{\"id\":\"3aa4de87-50a8-4563-ae5a-d705cebf80b8\",\"subtype\":\"Figure\",\"type\":\"Plot\"},\"renderers\":[{\"id\":\"a9e74adb-a702-4861-9797-7f00a2105d83\",\"type\":\"GlyphRenderer\"}]},\"id\":\"efde0d86-d2f8-465c-9326-8f04e4712007\",\"type\":\"BoxSelectTool\"},{\"attributes\":{\"callback\":null,\"overlay\":{\"id\":\"f7811341-f068-4cf7-82ad-06b627609f37\",\"type\":\"PolyAnnotation\"},\"plot\":{\"id\":\"768409db-b925-49c9-a52d-b9bfec23e2ec\",\"subtype\":\"Figure\",\"type\":\"Plot\"}},\"id\":\"41bec6c3-abe3-4b63-bfa9-154815f0a907\",\"type\":\"LassoSelectTool\"},{\"attributes\":{\"formatter\":{\"id\":\"08b0a474-f74d-4bae-9c55-1795a42e0df8\",\"type\":\"BasicTickFormatter\"},\"plot\":{\"id\":\"768409db-b925-49c9-a52d-b9bfec23e2ec\",\"subtype\":\"Figure\",\"type\":\"Plot\"},\"ticker\":{\"id\":\"6d073c2e-5350-4446-822a-4716ec466e1f\",\"type\":\"BasicTicker\"}},\"id\":\"c936371b-aa88-439e-a82a-3eedefc19ce6\",\"type\":\"LinearAxis\"},{\"attributes\":{\"fill_alpha\":{\"value\":0.5},\"fill_color\":{\"value\":\"lightgrey\"},\"level\":\"overlay\",\"line_alpha\":{\"value\":1.0},\"line_color\":{\"value\":\"black\"},\"line_dash\":[4,4],\"line_width\":{\"value\":2},\"plot\":null,\"xs_units\":\"screen\",\"ys_units\":\"screen\"},\"id\":\"d06f2f3d-1e1f-4d4c-bd54-c29331bc21cb\",\"type\":\"PolyAnnotation\"},{\"attributes\":{\"fill_alpha\":{\"value\":0.1},\"fill_color\":{\"value\":\"#1f77b4\"},\"line_alpha\":{\"value\":0.1},\"line_color\":{\"value\":\"#1f77b4\"},\"size\":{\"field\":\"cyl\",\"units\":\"screen\"},\"x\":{\"field\":\"mpg\"},\"y\":{\"field\":\"displ\"}},\"id\":\"97c42d0e-4e0d-4db5-b0df-09fa31ca15e2\",\"type\":\"Circle\"},{\"attributes\":{\"callback\":null,\"overlay\":{\"id\":\"d06f2f3d-1e1f-4d4c-bd54-c29331bc21cb\",\"type\":\"PolyAnnotation\"},\"plot\":{\"id\":\"004f7b10-7748-43c7-bfbb-1772511640e1\",\"subtype\":\"Figure\",\"type\":\"Plot\"}},\"id\":\"0be821b0-62e9-4c8d-a3be-8bd424552978\",\"type\":\"LassoSelectTool\"},{\"attributes\":{\"data_source\":{\"id\":\"3e2bd731-69a0-4520-9257-80dce5d369df\",\"type\":\"ColumnDataSource\"},\"glyph\":{\"id\":\"4fbd4e5c-d9ed-4793-b400-f9bc890887ea\",\"type\":\"Circle\"},\"hover_glyph\":null,\"nonselection_glyph\":{\"id\":\"97c42d0e-4e0d-4db5-b0df-09fa31ca15e2\",\"type\":\"Circle\"},\"selection_glyph\":null},\"id\":\"a9e74adb-a702-4861-9797-7f00a2105d83\",\"type\":\"GlyphRenderer\"},{\"attributes\":{\"callback\":null,\"overlay\":{\"id\":\"39ba2cd8-81f1-4183-947f-cd0756a060fa\",\"type\":\"BoxAnnotation\"},\"plot\":{\"id\":\"768409db-b925-49c9-a52d-b9bfec23e2ec\",\"subtype\":\"Figure\",\"type\":\"Plot\"},\"renderers\":[{\"id\":\"9762d72a-9984-4d45-9ae7-05fffa32dcb5\",\"type\":\"GlyphRenderer\"}]},\"id\":\"1cb52174-dbc7-41df-b45b-089d292e8874\",\"type\":\"BoxSelectTool\"}],\"root_ids\":[\"5ae30a62-2d5e-4ae4-8c35-e0df6a985208\"]},\"title\":\"Bokeh Application\",\"version\":\"0.12.1\"}};\n",
       "            var render_items = [{\"docid\":\"a495073c-20ae-4fe0-938d-93e2094cee1b\",\"elementid\":\"32901351-19bd-43a0-9e7a-6832826123f7\",\"modelid\":\"5ae30a62-2d5e-4ae4-8c35-e0df6a985208\",\"notebook_comms_target\":\"040ebc35-ab88-4038-8b08-69567e26a249\"}];\n",
       "            \n",
       "            Bokeh.embed.embed_items(docs_json, render_items);\n",
       "        });\n",
       "      },\n",
       "      function(Bokeh) {\n",
       "      }\n",
       "    ];\n",
       "  \n",
       "    function run_inline_js() {\n",
       "      for (var i = 0; i < inline_js.length; i++) {\n",
       "        inline_js[i](window.Bokeh);\n",
       "      }\n",
       "    }\n",
       "  \n",
       "    if (window._bokeh_is_loading === 0) {\n",
       "      console.log(\"Bokeh: BokehJS loaded, going straight to plotting\");\n",
       "      run_inline_js();\n",
       "    } else {\n",
       "      load_libs(js_urls, function() {\n",
       "        console.log(\"Bokeh: BokehJS plotting callback run at\", now());\n",
       "        run_inline_js();\n",
       "      });\n",
       "    }\n",
       "  }(this));\n",
       "</script>"
      ]
     },
     "metadata": {},
     "output_type": "display_data"
    },
    {
     "data": {
      "text/html": [
       "<p><code>&lt;Bokeh Notebook handle for <strong>In[8]</strong>&gt;</code></p>"
      ],
      "text/plain": [
       "<bokeh.io._CommsHandle at 0x10ba92250>"
      ]
     },
     "execution_count": 8,
     "metadata": {},
     "output_type": "execute_result"
    }
   ],
   "source": [
    "p = gridplot([[ p1, p2, p3]], toolbar_location=\"right\")\n",
    "\n",
    "show(p)"
   ]
  },
  {
   "cell_type": "code",
   "execution_count": null,
   "metadata": {
    "collapsed": true
   },
   "outputs": [],
   "source": []
  }
 ],
 "metadata": {
  "kernelspec": {
   "display_name": "Python 2",
   "language": "python",
   "name": "python2"
  },
  "language_info": {
   "codemirror_mode": {
    "name": "ipython",
    "version": 2
   },
   "file_extension": ".py",
   "mimetype": "text/x-python",
   "name": "python",
   "nbconvert_exporter": "python",
   "pygments_lexer": "ipython2",
   "version": "2.7.12"
  }
 },
 "nbformat": 4,
 "nbformat_minor": 1
}
