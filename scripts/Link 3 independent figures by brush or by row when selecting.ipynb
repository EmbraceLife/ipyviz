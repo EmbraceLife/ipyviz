{
 "cells": [
  {
   "cell_type": "code",
   "execution_count": 10,
   "metadata": {
    "collapsed": false
   },
   "outputs": [
    {
     "data": {
      "text/html": [
       "\n",
       "    <div class=\"bk-root\">\n",
       "        <a href=\"http://bokeh.pydata.org\" target=\"_blank\" class=\"bk-logo bk-logo-small bk-logo-notebook\"></a>\n",
       "        <span id=\"3fe02927-ebe5-4323-8052-b404a6afab8c\">Loading BokehJS ...</span>\n",
       "    </div>"
      ]
     },
     "metadata": {},
     "output_type": "display_data"
    },
    {
     "data": {
      "application/javascript": [
       "\n",
       "(function(global) {\n",
       "  function now() {\n",
       "    return new Date();\n",
       "  }\n",
       "\n",
       "  var force = \"1\";\n",
       "\n",
       "  if (typeof (window._bokeh_onload_callbacks) === \"undefined\" || force !== \"\") {\n",
       "    window._bokeh_onload_callbacks = [];\n",
       "    window._bokeh_is_loading = undefined;\n",
       "  }\n",
       "\n",
       "  function run_callbacks() {\n",
       "    window._bokeh_onload_callbacks.forEach(function(callback) { callback() });\n",
       "    delete window._bokeh_onload_callbacks\n",
       "    console.info(\"Bokeh: all callbacks have finished\");\n",
       "  }\n",
       "\n",
       "  function load_libs(js_urls, callback) {\n",
       "    window._bokeh_onload_callbacks.push(callback);\n",
       "    if (window._bokeh_is_loading > 0) {\n",
       "      console.log(\"Bokeh: BokehJS is being loaded, scheduling callback at\", now());\n",
       "      return null;\n",
       "    }\n",
       "    if (js_urls == null || js_urls.length === 0) {\n",
       "      run_callbacks();\n",
       "      return null;\n",
       "    }\n",
       "    console.log(\"Bokeh: BokehJS not loaded, scheduling load and callback at\", now());\n",
       "    window._bokeh_is_loading = js_urls.length;\n",
       "    for (var i = 0; i < js_urls.length; i++) {\n",
       "      var url = js_urls[i];\n",
       "      var s = document.createElement('script');\n",
       "      s.src = url;\n",
       "      s.async = false;\n",
       "      s.onreadystatechange = s.onload = function() {\n",
       "        window._bokeh_is_loading--;\n",
       "        if (window._bokeh_is_loading === 0) {\n",
       "          console.log(\"Bokeh: all BokehJS libraries loaded\");\n",
       "          run_callbacks()\n",
       "        }\n",
       "      };\n",
       "      s.onerror = function() {\n",
       "        console.warn(\"failed to load library \" + url);\n",
       "      };\n",
       "      console.log(\"Bokeh: injecting script tag for BokehJS library: \", url);\n",
       "      document.getElementsByTagName(\"head\")[0].appendChild(s);\n",
       "    }\n",
       "  };\n",
       "\n",
       "  var js_urls = ['https://cdn.pydata.org/bokeh/release/bokeh-0.12.1.min.js', 'https://cdn.pydata.org/bokeh/release/bokeh-widgets-0.12.1.min.js', 'https://cdn.pydata.org/bokeh/release/bokeh-compiler-0.12.1.min.js'];\n",
       "\n",
       "  var inline_js = [\n",
       "    function(Bokeh) {\n",
       "      Bokeh.set_log_level(\"info\");\n",
       "    },\n",
       "    \n",
       "    function(Bokeh) {\n",
       "      \n",
       "      Bokeh.$(\"#3fe02927-ebe5-4323-8052-b404a6afab8c\").text(\"BokehJS successfully loaded\");\n",
       "      var kernel = Jupyter.notebook.kernel\n",
       "      if (kernel.execute !== undefined) {\n",
       "          kernel.execute(\"import bokeh.io; bokeh.io._nb_loaded = True\");\n",
       "      }\n",
       "    },\n",
       "    function(Bokeh) {\n",
       "      console.log(\"Bokeh: injecting CSS: https://cdn.pydata.org/bokeh/release/bokeh-0.12.1.min.css\");\n",
       "      Bokeh.embed.inject_css(\"https://cdn.pydata.org/bokeh/release/bokeh-0.12.1.min.css\");\n",
       "      console.log(\"Bokeh: injecting CSS: https://cdn.pydata.org/bokeh/release/bokeh-widgets-0.12.1.min.css\");\n",
       "      Bokeh.embed.inject_css(\"https://cdn.pydata.org/bokeh/release/bokeh-widgets-0.12.1.min.css\");\n",
       "    }\n",
       "  ];\n",
       "\n",
       "  function run_inline_js() {\n",
       "    for (var i = 0; i < inline_js.length; i++) {\n",
       "      inline_js[i](window.Bokeh);\n",
       "    }\n",
       "  }\n",
       "\n",
       "  if (window._bokeh_is_loading === 0) {\n",
       "    console.log(\"Bokeh: BokehJS loaded, going straight to plotting\");\n",
       "    run_inline_js();\n",
       "  } else {\n",
       "    load_libs(js_urls, function() {\n",
       "      console.log(\"Bokeh: BokehJS plotting callback run at\", now());\n",
       "      run_inline_js();\n",
       "    });\n",
       "  }\n",
       "}(this));"
      ]
     },
     "metadata": {},
     "output_type": "display_data"
    }
   ],
   "source": [
    "from bokeh.plotting import figure, output_notebook, show\n",
    "from bokeh.sampledata.autompg import autompg\n",
    "\n",
    "output_notebook()"
   ]
  },
  {
   "cell_type": "code",
   "execution_count": 14,
   "metadata": {
    "collapsed": false
   },
   "outputs": [],
   "source": [
    "from bokeh.models import ColumnDataSource\n",
    "from bokeh.layouts import gridplot\n",
    "from IPython.display import display\n",
    "import pandas as pd\n",
    "pd.set_option('display.max_rows', 10)\n",
    "pd.set_option('display.max_columns', 10)"
   ]
  },
  {
   "cell_type": "code",
   "execution_count": 15,
   "metadata": {
    "collapsed": true
   },
   "outputs": [],
   "source": [
    "# convert pd.dataframe into dict, stored by columndatasource\n",
    "source = ColumnDataSource(autompg.to_dict(\"list\")) # doc is good enoughb"
   ]
  },
  {
   "cell_type": "code",
   "execution_count": 31,
   "metadata": {
    "collapsed": true
   },
   "outputs": [],
   "source": [
    "import numpy as np\n",
    "import pandas as pd"
   ]
  },
  {
   "cell_type": "markdown",
   "metadata": {},
   "source": [
    "### unique() only work for pd.Series, not np.array, not list"
   ]
  },
  {
   "cell_type": "code",
   "execution_count": 33,
   "metadata": {
    "collapsed": false
   },
   "outputs": [
    {
     "data": {
      "text/plain": [
       "['origin', 'mpg', 'cyl', 'displ', 'weight', 'hp', 'accel', 'yr', 'name']"
      ]
     },
     "metadata": {},
     "output_type": "display_data"
    },
    {
     "data": {
      "text/plain": [
       "array([1, 3, 2])"
      ]
     },
     "metadata": {},
     "output_type": "display_data"
    }
   ],
   "source": [
    "# display(source.data)\n",
    "display(source.data.keys())\n",
    "# display(np.array(source.data['origin']).unique())\n",
    "display(pd.Series(source.data['origin']).unique())"
   ]
  },
  {
   "cell_type": "code",
   "execution_count": 37,
   "metadata": {
    "collapsed": false
   },
   "outputs": [
    {
     "data": {
      "text/plain": [
       "accel     float64\n",
       "cyl         int64\n",
       "displ     float64\n",
       "hp          int64\n",
       "mpg       float64\n",
       "name       object\n",
       "origin      int64\n",
       "weight      int64\n",
       "yr          int64\n",
       "dtype: object"
      ]
     },
     "metadata": {},
     "output_type": "display_data"
    }
   ],
   "source": [
    "display(pd.DataFrame(source.data).dtypes)"
   ]
  },
  {
   "cell_type": "markdown",
   "metadata": {},
   "source": [
    "### How to add extra column to source"
   ]
  },
  {
   "cell_type": "code",
   "execution_count": 42,
   "metadata": {
    "collapsed": false
   },
   "outputs": [
    {
     "data": {
      "text/plain": [
       "Index([u'accel', u'cyl', u'displ', u'hp', u'mpg', u'name', u'origin',\n",
       "       u'weight', u'year', u'yr'],\n",
       "      dtype='object')"
      ]
     },
     "metadata": {},
     "output_type": "display_data"
    },
    {
     "data": {
      "text/html": [
       "<div>\n",
       "<table border=\"1\" class=\"dataframe\">\n",
       "  <thead>\n",
       "    <tr style=\"text-align: right;\">\n",
       "      <th></th>\n",
       "      <th>accel</th>\n",
       "      <th>cyl</th>\n",
       "      <th>displ</th>\n",
       "      <th>hp</th>\n",
       "      <th>mpg</th>\n",
       "      <th>name</th>\n",
       "      <th>origin</th>\n",
       "      <th>weight</th>\n",
       "      <th>year</th>\n",
       "      <th>yr</th>\n",
       "    </tr>\n",
       "  </thead>\n",
       "  <tbody>\n",
       "    <tr>\n",
       "      <th>0</th>\n",
       "      <td>12.0</td>\n",
       "      <td>8</td>\n",
       "      <td>307.0</td>\n",
       "      <td>130</td>\n",
       "      <td>18.0</td>\n",
       "      <td>chevrolet chevelle malibu</td>\n",
       "      <td>1</td>\n",
       "      <td>3504</td>\n",
       "      <td>80</td>\n",
       "      <td>71</td>\n",
       "    </tr>\n",
       "    <tr>\n",
       "      <th>1</th>\n",
       "      <td>11.5</td>\n",
       "      <td>8</td>\n",
       "      <td>350.0</td>\n",
       "      <td>165</td>\n",
       "      <td>15.0</td>\n",
       "      <td>buick skylark 320</td>\n",
       "      <td>1</td>\n",
       "      <td>3693</td>\n",
       "      <td>80</td>\n",
       "      <td>71</td>\n",
       "    </tr>\n",
       "    <tr>\n",
       "      <th>2</th>\n",
       "      <td>11.0</td>\n",
       "      <td>8</td>\n",
       "      <td>318.0</td>\n",
       "      <td>150</td>\n",
       "      <td>18.0</td>\n",
       "      <td>plymouth satellite</td>\n",
       "      <td>1</td>\n",
       "      <td>3436</td>\n",
       "      <td>80</td>\n",
       "      <td>71</td>\n",
       "    </tr>\n",
       "    <tr>\n",
       "      <th>3</th>\n",
       "      <td>12.0</td>\n",
       "      <td>8</td>\n",
       "      <td>304.0</td>\n",
       "      <td>150</td>\n",
       "      <td>16.0</td>\n",
       "      <td>amc rebel sst</td>\n",
       "      <td>1</td>\n",
       "      <td>3433</td>\n",
       "      <td>80</td>\n",
       "      <td>71</td>\n",
       "    </tr>\n",
       "    <tr>\n",
       "      <th>4</th>\n",
       "      <td>10.5</td>\n",
       "      <td>8</td>\n",
       "      <td>302.0</td>\n",
       "      <td>140</td>\n",
       "      <td>17.0</td>\n",
       "      <td>ford torino</td>\n",
       "      <td>1</td>\n",
       "      <td>3449</td>\n",
       "      <td>80</td>\n",
       "      <td>71</td>\n",
       "    </tr>\n",
       "    <tr>\n",
       "      <th>...</th>\n",
       "      <td>...</td>\n",
       "      <td>...</td>\n",
       "      <td>...</td>\n",
       "      <td>...</td>\n",
       "      <td>...</td>\n",
       "      <td>...</td>\n",
       "      <td>...</td>\n",
       "      <td>...</td>\n",
       "      <td>...</td>\n",
       "      <td>...</td>\n",
       "    </tr>\n",
       "    <tr>\n",
       "      <th>387</th>\n",
       "      <td>15.6</td>\n",
       "      <td>4</td>\n",
       "      <td>140.0</td>\n",
       "      <td>86</td>\n",
       "      <td>27.0</td>\n",
       "      <td>ford mustang gl</td>\n",
       "      <td>1</td>\n",
       "      <td>2790</td>\n",
       "      <td>92</td>\n",
       "      <td>83</td>\n",
       "    </tr>\n",
       "    <tr>\n",
       "      <th>388</th>\n",
       "      <td>24.6</td>\n",
       "      <td>4</td>\n",
       "      <td>97.0</td>\n",
       "      <td>52</td>\n",
       "      <td>44.0</td>\n",
       "      <td>vw pickup</td>\n",
       "      <td>2</td>\n",
       "      <td>2130</td>\n",
       "      <td>92</td>\n",
       "      <td>83</td>\n",
       "    </tr>\n",
       "    <tr>\n",
       "      <th>389</th>\n",
       "      <td>11.6</td>\n",
       "      <td>4</td>\n",
       "      <td>135.0</td>\n",
       "      <td>84</td>\n",
       "      <td>32.0</td>\n",
       "      <td>dodge rampage</td>\n",
       "      <td>1</td>\n",
       "      <td>2295</td>\n",
       "      <td>92</td>\n",
       "      <td>83</td>\n",
       "    </tr>\n",
       "    <tr>\n",
       "      <th>390</th>\n",
       "      <td>18.6</td>\n",
       "      <td>4</td>\n",
       "      <td>120.0</td>\n",
       "      <td>79</td>\n",
       "      <td>28.0</td>\n",
       "      <td>ford ranger</td>\n",
       "      <td>1</td>\n",
       "      <td>2625</td>\n",
       "      <td>92</td>\n",
       "      <td>83</td>\n",
       "    </tr>\n",
       "    <tr>\n",
       "      <th>391</th>\n",
       "      <td>19.4</td>\n",
       "      <td>4</td>\n",
       "      <td>119.0</td>\n",
       "      <td>82</td>\n",
       "      <td>31.0</td>\n",
       "      <td>chevy s-10</td>\n",
       "      <td>1</td>\n",
       "      <td>2720</td>\n",
       "      <td>92</td>\n",
       "      <td>83</td>\n",
       "    </tr>\n",
       "  </tbody>\n",
       "</table>\n",
       "<p>392 rows × 10 columns</p>\n",
       "</div>"
      ],
      "text/plain": [
       "     accel  cyl  displ   hp   mpg                       name  origin  weight  \\\n",
       "0     12.0    8  307.0  130  18.0  chevrolet chevelle malibu       1    3504   \n",
       "1     11.5    8  350.0  165  15.0          buick skylark 320       1    3693   \n",
       "2     11.0    8  318.0  150  18.0         plymouth satellite       1    3436   \n",
       "3     12.0    8  304.0  150  16.0              amc rebel sst       1    3433   \n",
       "4     10.5    8  302.0  140  17.0                ford torino       1    3449   \n",
       "..     ...  ...    ...  ...   ...                        ...     ...     ...   \n",
       "387   15.6    4  140.0   86  27.0            ford mustang gl       1    2790   \n",
       "388   24.6    4   97.0   52  44.0                  vw pickup       2    2130   \n",
       "389   11.6    4  135.0   84  32.0              dodge rampage       1    2295   \n",
       "390   18.6    4  120.0   79  28.0                ford ranger       1    2625   \n",
       "391   19.4    4  119.0   82  31.0                 chevy s-10       1    2720   \n",
       "\n",
       "     year  yr  \n",
       "0      80  71  \n",
       "1      80  71  \n",
       "2      80  71  \n",
       "3      80  71  \n",
       "4      80  71  \n",
       "..    ...  ..  \n",
       "387    92  83  \n",
       "388    92  83  \n",
       "389    92  83  \n",
       "390    92  83  \n",
       "391    92  83  \n",
       "\n",
       "[392 rows x 10 columns]"
      ]
     },
     "metadata": {},
     "output_type": "display_data"
    }
   ],
   "source": [
    "source.add(autompg[\"yr\"]+10, name=\"year\") # add a new column from a diff dataset usually\n",
    "display(pd.DataFrame(source.data).columns)\n",
    "\n",
    "display(pd.DataFrame(source.data))"
   ]
  },
  {
   "cell_type": "code",
   "execution_count": 5,
   "metadata": {
    "collapsed": true
   },
   "outputs": [],
   "source": [
    "# set plotting configurations first\n",
    "plot_config = dict(plot_width=300, plot_height=300,\n",
    "                   tools=\"pan,wheel_zoom,box_zoom,box_select,lasso_select\")"
   ]
  },
  {
   "cell_type": "markdown",
   "metadata": {},
   "source": [
    "### plot_config for all figures"
   ]
  },
  {
   "cell_type": "code",
   "execution_count": 6,
   "metadata": {
    "collapsed": false
   },
   "outputs": [
    {
     "data": {
      "text/plain": [
       "<bokeh.models.renderers.GlyphRenderer at 0x10bb1d450>"
      ]
     },
     "execution_count": 6,
     "metadata": {},
     "output_type": "execute_result"
    }
   ],
   "source": [
    "# create a figure and plot curve of circles\n",
    "p1 = figure(title=\"MPG by Year\", **plot_config)\n",
    "p1.circle(\"yr\", \"mpg\", color=\"blue\", source=source)"
   ]
  },
  {
   "cell_type": "code",
   "execution_count": 7,
   "metadata": {
    "collapsed": false
   },
   "outputs": [
    {
     "data": {
      "text/plain": [
       "<bokeh.models.renderers.GlyphRenderer at 0x10bb1d590>"
      ]
     },
     "execution_count": 7,
     "metadata": {},
     "output_type": "execute_result"
    }
   ],
   "source": [
    "# create a figure and plot curve of circles \n",
    "p2 = figure(title=\"HP vs. Displacement\", **plot_config)\n",
    "p2.circle(\"hp\", \"displ\", color=\"green\", source=source)"
   ]
  },
  {
   "cell_type": "code",
   "execution_count": 8,
   "metadata": {
    "collapsed": false
   },
   "outputs": [
    {
     "data": {
      "text/plain": [
       "<bokeh.models.renderers.GlyphRenderer at 0x104513650>"
      ]
     },
     "execution_count": 8,
     "metadata": {},
     "output_type": "execute_result"
    }
   ],
   "source": [
    "# create a figure and plot curve of circle\n",
    "p3 = figure(title=\"MPG vs. Displacement\", **plot_config)\n",
    "p3.circle(\"mpg\", \"displ\", size=\"cyl\", line_color=\"red\", fill_color=None, source=source)"
   ]
  },
  {
   "cell_type": "markdown",
   "metadata": {},
   "source": [
    "### power of source = ColumnDataSource()\n",
    "- \"colname\" refers to pd.series\n",
    "- 3 independent figures linked by brush or by row?"
   ]
  },
  {
   "cell_type": "code",
   "execution_count": 9,
   "metadata": {
    "collapsed": false
   },
   "outputs": [
    {
     "data": {
      "text/html": [
       "\n",
       "\n",
       "    <div class=\"bk-root\">\n",
       "        <div class=\"plotdiv\" id=\"67dba62f-9eeb-47bd-9282-4648a756d98f\"></div>\n",
       "    </div>\n",
       "<script type=\"text/javascript\">\n",
       "  \n",
       "  (function(global) {\n",
       "    function now() {\n",
       "      return new Date();\n",
       "    }\n",
       "  \n",
       "    var force = \"\";\n",
       "  \n",
       "    if (typeof (window._bokeh_onload_callbacks) === \"undefined\" || force !== \"\") {\n",
       "      window._bokeh_onload_callbacks = [];\n",
       "      window._bokeh_is_loading = undefined;\n",
       "    }\n",
       "  \n",
       "    function run_callbacks() {\n",
       "      window._bokeh_onload_callbacks.forEach(function(callback) { callback() });\n",
       "      delete window._bokeh_onload_callbacks\n",
       "      console.info(\"Bokeh: all callbacks have finished\");\n",
       "    }\n",
       "  \n",
       "    function load_libs(js_urls, callback) {\n",
       "      window._bokeh_onload_callbacks.push(callback);\n",
       "      if (window._bokeh_is_loading > 0) {\n",
       "        console.log(\"Bokeh: BokehJS is being loaded, scheduling callback at\", now());\n",
       "        return null;\n",
       "      }\n",
       "      if (js_urls == null || js_urls.length === 0) {\n",
       "        run_callbacks();\n",
       "        return null;\n",
       "      }\n",
       "      console.log(\"Bokeh: BokehJS not loaded, scheduling load and callback at\", now());\n",
       "      window._bokeh_is_loading = js_urls.length;\n",
       "      for (var i = 0; i < js_urls.length; i++) {\n",
       "        var url = js_urls[i];\n",
       "        var s = document.createElement('script');\n",
       "        s.src = url;\n",
       "        s.async = false;\n",
       "        s.onreadystatechange = s.onload = function() {\n",
       "          window._bokeh_is_loading--;\n",
       "          if (window._bokeh_is_loading === 0) {\n",
       "            console.log(\"Bokeh: all BokehJS libraries loaded\");\n",
       "            run_callbacks()\n",
       "          }\n",
       "        };\n",
       "        s.onerror = function() {\n",
       "          console.warn(\"failed to load library \" + url);\n",
       "        };\n",
       "        console.log(\"Bokeh: injecting script tag for BokehJS library: \", url);\n",
       "        document.getElementsByTagName(\"head\")[0].appendChild(s);\n",
       "      }\n",
       "    };var element = document.getElementById(\"67dba62f-9eeb-47bd-9282-4648a756d98f\");\n",
       "    if (element == null) {\n",
       "      console.log(\"Bokeh: ERROR: autoload.js configured with elementid '67dba62f-9eeb-47bd-9282-4648a756d98f' but no matching script tag was found. \")\n",
       "      return false;\n",
       "    }\n",
       "  \n",
       "    var js_urls = [];\n",
       "  \n",
       "    var inline_js = [\n",
       "      function(Bokeh) {\n",
       "        Bokeh.$(function() {\n",
       "            var docs_json = {\"d107da5e-b16b-4294-8c38-e3d48541a48d\":{\"roots\":{\"references\":[{\"attributes\":{\"active_drag\":\"auto\",\"active_scroll\":\"auto\",\"active_tap\":\"auto\",\"tools\":[{\"id\":\"13eda41e-5c68-4ceb-9a4e-34d65c1d1c4e\",\"type\":\"PanTool\"},{\"id\":\"f21efeae-e856-48ce-bcf0-69e76232a3aa\",\"type\":\"WheelZoomTool\"},{\"id\":\"a5e66629-0ae2-4096-af8a-1da939b267a3\",\"type\":\"BoxZoomTool\"},{\"id\":\"25d332bd-2a15-4676-a62a-9c974daa18ef\",\"type\":\"BoxSelectTool\"},{\"id\":\"24875065-9488-496d-a974-d91f117b7880\",\"type\":\"LassoSelectTool\"}]},\"id\":\"a17766a4-986c-41f3-8057-df860e2f68aa\",\"type\":\"Toolbar\"},{\"attributes\":{\"fill_alpha\":{\"value\":0.5},\"fill_color\":{\"value\":\"lightgrey\"},\"level\":\"overlay\",\"line_alpha\":{\"value\":1.0},\"line_color\":{\"value\":\"black\"},\"line_dash\":[4,4],\"line_width\":{\"value\":2},\"plot\":null,\"xs_units\":\"screen\",\"ys_units\":\"screen\"},\"id\":\"daa72bf1-ec0c-4b6c-b280-c4236aec6349\",\"type\":\"PolyAnnotation\"},{\"attributes\":{\"fill_color\":{\"value\":null},\"line_color\":{\"value\":\"red\"},\"size\":{\"field\":\"cyl\",\"units\":\"screen\"},\"x\":{\"field\":\"mpg\"},\"y\":{\"field\":\"displ\"}},\"id\":\"c49fefe7-2ee0-4613-b006-97c15ae5228e\",\"type\":\"Circle\"},{\"attributes\":{\"callback\":null,\"overlay\":{\"id\":\"3e5d11af-053b-4152-b72a-cf838d770f5c\",\"type\":\"BoxAnnotation\"},\"plot\":{\"id\":\"4167718e-3d79-4790-b041-d65e1a83e68c\",\"subtype\":\"Figure\",\"type\":\"Plot\"},\"renderers\":[{\"id\":\"390bf169-e42c-4d19-a7dd-8a70172b3729\",\"type\":\"GlyphRenderer\"}]},\"id\":\"09b842d6-0f06-490c-8739-f4380ac95908\",\"type\":\"BoxSelectTool\"},{\"attributes\":{\"fill_alpha\":{\"value\":0.1},\"fill_color\":{\"value\":\"#1f77b4\"},\"line_alpha\":{\"value\":0.1},\"line_color\":{\"value\":\"#1f77b4\"},\"x\":{\"field\":\"hp\"},\"y\":{\"field\":\"displ\"}},\"id\":\"5d595ab9-eabd-43eb-909f-199189c232af\",\"type\":\"Circle\"},{\"attributes\":{\"overlay\":{\"id\":\"2faeebb3-d1d0-435f-bee0-9aaa0e9c63f0\",\"type\":\"BoxAnnotation\"},\"plot\":{\"id\":\"426ca3a0-30da-4538-937b-315b7f067835\",\"subtype\":\"Figure\",\"type\":\"Plot\"}},\"id\":\"190e9fd9-27c9-4348-b102-9b743dc73dbb\",\"type\":\"BoxZoomTool\"},{\"attributes\":{\"fill_alpha\":{\"value\":0.5},\"fill_color\":{\"value\":\"lightgrey\"},\"level\":\"overlay\",\"line_alpha\":{\"value\":1.0},\"line_color\":{\"value\":\"black\"},\"line_dash\":[4,4],\"line_width\":{\"value\":2},\"plot\":null,\"xs_units\":\"screen\",\"ys_units\":\"screen\"},\"id\":\"d7a8673f-34af-4362-81a1-44c72081b5ef\",\"type\":\"PolyAnnotation\"},{\"attributes\":{\"below\":[{\"id\":\"8502aae9-d958-4f6d-b861-6942e6955fed\",\"type\":\"LinearAxis\"}],\"left\":[{\"id\":\"fb60af84-affb-45fe-b8db-e82f9bef9e65\",\"type\":\"LinearAxis\"}],\"plot_height\":300,\"plot_width\":300,\"renderers\":[{\"id\":\"8502aae9-d958-4f6d-b861-6942e6955fed\",\"type\":\"LinearAxis\"},{\"id\":\"353700a4-5f8d-46e5-b0c1-24558faf3522\",\"type\":\"Grid\"},{\"id\":\"fb60af84-affb-45fe-b8db-e82f9bef9e65\",\"type\":\"LinearAxis\"},{\"id\":\"65c448cd-b8fb-4187-b250-9a17ed1ca956\",\"type\":\"Grid\"},{\"id\":\"2faeebb3-d1d0-435f-bee0-9aaa0e9c63f0\",\"type\":\"BoxAnnotation\"},{\"id\":\"cd6dcf8b-de00-4d5c-8cc2-0141889565c7\",\"type\":\"BoxAnnotation\"},{\"id\":\"c7a7d17a-56ce-4e43-b026-4a80496890f3\",\"type\":\"PolyAnnotation\"},{\"id\":\"d827a6ab-b817-48cf-a8e2-083d28c6b0bd\",\"type\":\"GlyphRenderer\"}],\"title\":{\"id\":\"f58df98b-665b-4c10-b893-062f49bdc9e2\",\"type\":\"Title\"},\"tool_events\":{\"id\":\"058c0714-a8a0-4182-ad25-e4fe0dbdffed\",\"type\":\"ToolEvents\"},\"toolbar\":{\"id\":\"f54907c9-945e-4038-9d41-eb448f39a21b\",\"type\":\"Toolbar\"},\"toolbar_location\":null,\"x_range\":{\"id\":\"7ed92177-71b2-4b03-9623-af1f3db155e2\",\"type\":\"DataRange1d\"},\"y_range\":{\"id\":\"fd6fc553-6ef1-453d-8329-ef61dd96c56d\",\"type\":\"DataRange1d\"}},\"id\":\"426ca3a0-30da-4538-937b-315b7f067835\",\"subtype\":\"Figure\",\"type\":\"Plot\"},{\"attributes\":{},\"id\":\"9e94c5d3-3370-4c5f-b4b0-77b3b1b8e4c7\",\"type\":\"BasicTickFormatter\"},{\"attributes\":{\"formatter\":{\"id\":\"f27fc7c2-c46c-4d38-bbd1-7872c62bdbbe\",\"type\":\"BasicTickFormatter\"},\"plot\":{\"id\":\"426ca3a0-30da-4538-937b-315b7f067835\",\"subtype\":\"Figure\",\"type\":\"Plot\"},\"ticker\":{\"id\":\"19bc38fb-3d0c-429f-8428-879a092fdffd\",\"type\":\"BasicTicker\"}},\"id\":\"fb60af84-affb-45fe-b8db-e82f9bef9e65\",\"type\":\"LinearAxis\"},{\"attributes\":{\"formatter\":{\"id\":\"a5a68131-4386-432d-a9cf-e2da74802be2\",\"type\":\"BasicTickFormatter\"},\"plot\":{\"id\":\"426ca3a0-30da-4538-937b-315b7f067835\",\"subtype\":\"Figure\",\"type\":\"Plot\"},\"ticker\":{\"id\":\"b1d6c438-f6c5-4eaa-89b7-8b211511c431\",\"type\":\"BasicTicker\"}},\"id\":\"8502aae9-d958-4f6d-b861-6942e6955fed\",\"type\":\"LinearAxis\"},{\"attributes\":{\"plot\":null,\"text\":\"HP vs. Displacement\"},\"id\":\"f58df98b-665b-4c10-b893-062f49bdc9e2\",\"type\":\"Title\"},{\"attributes\":{\"below\":[{\"id\":\"488c7335-094c-4076-8f0f-d1981b5eba1d\",\"type\":\"LinearAxis\"}],\"left\":[{\"id\":\"14d986e9-43d0-41f2-941c-0e54d587f2c7\",\"type\":\"LinearAxis\"}],\"plot_height\":300,\"plot_width\":300,\"renderers\":[{\"id\":\"488c7335-094c-4076-8f0f-d1981b5eba1d\",\"type\":\"LinearAxis\"},{\"id\":\"728d8deb-f4f5-4233-b701-1491a6284c54\",\"type\":\"Grid\"},{\"id\":\"14d986e9-43d0-41f2-941c-0e54d587f2c7\",\"type\":\"LinearAxis\"},{\"id\":\"a0c49641-ecdf-4c79-8faa-bb0526218079\",\"type\":\"Grid\"},{\"id\":\"d3fd306c-8634-441d-81a9-eacb0d9fa1a8\",\"type\":\"BoxAnnotation\"},{\"id\":\"3e5d11af-053b-4152-b72a-cf838d770f5c\",\"type\":\"BoxAnnotation\"},{\"id\":\"d7a8673f-34af-4362-81a1-44c72081b5ef\",\"type\":\"PolyAnnotation\"},{\"id\":\"390bf169-e42c-4d19-a7dd-8a70172b3729\",\"type\":\"GlyphRenderer\"}],\"title\":{\"id\":\"e098bfe2-9b81-4351-ba50-930368834991\",\"type\":\"Title\"},\"tool_events\":{\"id\":\"0e057b81-cb21-4f40-bfef-5b93ff22b347\",\"type\":\"ToolEvents\"},\"toolbar\":{\"id\":\"453cf67b-d6a5-49a2-bdb0-ddfc2c540a7a\",\"type\":\"Toolbar\"},\"toolbar_location\":null,\"x_range\":{\"id\":\"74106dbc-017c-483a-aa40-0a9379fe4f33\",\"type\":\"DataRange1d\"},\"y_range\":{\"id\":\"f6bc2215-7945-4183-a133-113a55d7dbf5\",\"type\":\"DataRange1d\"}},\"id\":\"4167718e-3d79-4790-b041-d65e1a83e68c\",\"subtype\":\"Figure\",\"type\":\"Plot\"},{\"attributes\":{\"data_source\":{\"id\":\"7d9a572e-2540-4384-b2e3-186edba43e2f\",\"type\":\"ColumnDataSource\"},\"glyph\":{\"id\":\"6654560a-d511-4d7b-87ce-989d7425f6c6\",\"type\":\"Circle\"},\"hover_glyph\":null,\"nonselection_glyph\":{\"id\":\"5d595ab9-eabd-43eb-909f-199189c232af\",\"type\":\"Circle\"},\"selection_glyph\":null},\"id\":\"d827a6ab-b817-48cf-a8e2-083d28c6b0bd\",\"type\":\"GlyphRenderer\"},{\"attributes\":{\"callback\":null,\"column_names\":[\"origin\",\"mpg\",\"displ\",\"weight\",\"hp\",\"accel\",\"name\",\"yr\",\"cyl\",\"yr\"],\"data\":{\"accel\":[12.0,11.5,11.0,12.0,10.5,10.0,9.0,8.5,10.0,8.5,10.0,8.0,9.5,10.0,15.0,15.5,15.5,16.0,14.5,20.5,17.5,14.5,17.5,12.5,15.0,14.0,15.0,13.5,18.5,14.5,15.5,14.0,13.0,15.5,15.5,15.5,15.5,12.0,11.5,13.5,13.0,11.5,12.0,12.0,13.5,19.0,15.0,14.5,14.0,14.0,19.5,14.5,19.0,18.0,19.0,20.5,15.5,17.0,23.5,19.5,16.5,12.0,12.0,13.5,13.0,11.5,11.0,13.5,13.5,12.5,13.5,12.5,14.0,16.0,14.0,14.5,18.0,19.5,18.0,16.0,17.0,14.5,15.0,16.5,13.0,11.5,13.0,14.5,12.5,11.5,12.0,13.0,14.5,11.0,11.0,11.0,16.5,18.0,16.0,16.5,16.0,21.0,14.0,12.5,13.0,12.5,15.0,19.0,19.5,16.5,13.5,18.5,14.0,15.5,13.0,9.5,19.5,15.5,14.0,15.5,11.0,14.0,13.5,11.0,16.5,16.0,17.0,19.0,16.5,21.0,17.0,17.0,18.0,16.5,14.0,14.5,13.5,16.0,15.5,16.5,15.5,14.5,16.5,19.0,14.5,15.5,14.0,15.0,15.5,16.0,16.0,16.0,21.0,19.5,11.5,14.0,14.5,13.5,21.0,18.5,19.0,19.0,15.0,13.5,12.0,16.0,17.0,16.0,18.5,13.5,16.5,17.0,14.5,14.0,17.0,15.0,17.0,14.5,13.5,17.5,15.5,16.9,14.9,17.7,15.3,13.0,13.0,13.9,12.8,15.4,14.5,17.6,17.6,22.2,22.1,14.2,17.4,17.7,21.0,16.2,17.8,12.2,17.0,16.4,13.6,15.7,13.2,21.9,15.5,16.7,12.1,12.0,15.0,14.0,18.5,14.8,18.6,15.5,16.8,12.5,19.0,13.7,14.9,16.4,16.9,17.7,19.0,11.1,11.4,12.2,14.5,14.5,16.0,18.2,15.8,17.0,15.9,16.4,14.1,14.5,12.8,13.5,21.5,14.4,19.4,18.6,16.4,15.5,13.2,12.8,19.2,18.2,15.8,15.4,17.2,17.2,15.8,16.7,18.7,15.1,13.2,13.4,11.2,13.7,16.5,14.2,14.7,14.5,14.8,16.7,17.6,14.9,15.9,13.6,15.7,15.8,14.9,16.6,15.4,18.2,17.3,18.2,16.6,15.4,13.4,13.2,15.2,14.9,14.3,15.0,13.0,14.0,15.2,14.4,15.0,20.1,17.4,24.8,22.2,13.2,14.9,19.2,14.7,16.0,11.3,12.9,13.2,14.7,18.8,15.5,16.4,16.5,18.1,20.1,18.7,15.8,15.5,17.5,15.0,15.2,17.9,14.4,19.2,21.7,23.7,19.9,21.8,13.8,18.0,15.3,11.4,12.5,15.1,17.0,15.7,16.4,14.4,12.6,12.9,16.9,16.4,16.1,17.8,19.4,17.3,16.0,14.9,16.2,20.7,14.2,14.4,16.8,14.8,18.3,20.4,19.6,12.6,13.8,15.8,19.0,17.1,16.6,19.6,18.6,18.0,16.2,16.0,18.0,16.4,15.3,18.2,17.6,14.7,17.3,14.5,14.5,16.9,15.0,15.7,16.2,16.4,17.0,14.5,14.7,13.9,13.0,17.3,15.6,24.6,11.6,18.6,19.4],\"cyl\":[8,8,8,8,8,8,8,8,8,8,8,8,8,8,4,6,6,6,4,4,4,4,4,4,6,8,8,8,8,4,4,4,6,6,6,6,6,8,8,8,8,8,8,8,6,4,6,6,4,4,4,4,4,4,4,4,4,4,4,4,4,8,8,8,8,8,8,8,8,8,3,8,8,8,8,4,4,4,4,4,4,4,4,4,8,8,8,8,8,8,8,8,8,8,8,8,6,6,6,6,6,4,8,8,8,8,6,4,4,4,3,4,6,4,8,8,4,4,4,4,8,4,6,8,6,6,6,4,4,4,4,6,6,6,8,8,8,8,8,4,4,4,4,4,4,4,4,4,4,4,6,6,6,6,8,8,8,8,6,6,6,6,6,8,8,4,4,6,4,4,4,4,6,4,6,4,4,4,4,4,4,4,4,4,4,8,8,8,8,6,6,6,6,4,4,4,4,6,6,6,6,4,4,4,4,4,8,4,6,6,8,8,8,8,4,4,4,4,4,8,8,8,8,6,6,6,6,8,8,8,8,4,4,4,4,4,4,4,4,6,4,3,4,4,4,4,4,8,8,8,6,6,6,4,6,6,6,6,6,6,8,6,8,8,4,4,4,4,4,4,4,4,5,6,4,6,4,4,6,6,4,6,6,8,8,8,8,8,8,8,8,4,4,4,4,5,8,4,8,4,4,4,4,4,6,6,4,4,4,4,4,4,4,4,6,4,4,4,4,4,4,4,4,4,4,5,4,4,4,4,6,3,4,4,4,4,4,6,4,4,4,4,4,4,4,4,4,4,4,4,4,4,4,4,4,6,6,6,6,8,6,6,4,4,4,4,4,4,4,4,4,4,4,4,4,4,4,4,4,4,6,6,4,6,4,4,4,4,4,4,4,4],\"displ\":[307.0,350.0,318.0,304.0,302.0,429.0,454.0,440.0,455.0,390.0,383.0,340.0,400.0,455.0,113.0,198.0,199.0,200.0,97.0,97.0,110.0,107.0,104.0,121.0,199.0,360.0,307.0,318.0,304.0,97.0,140.0,113.0,232.0,225.0,250.0,250.0,232.0,350.0,400.0,351.0,318.0,383.0,400.0,400.0,258.0,140.0,250.0,250.0,122.0,116.0,79.0,88.0,71.0,72.0,97.0,91.0,113.0,97.5,97.0,140.0,122.0,350.0,400.0,318.0,351.0,304.0,429.0,350.0,350.0,400.0,70.0,304.0,307.0,302.0,318.0,121.0,121.0,120.0,96.0,122.0,97.0,120.0,98.0,97.0,350.0,304.0,350.0,302.0,318.0,429.0,400.0,351.0,318.0,440.0,455.0,360.0,225.0,250.0,232.0,250.0,198.0,97.0,400.0,400.0,360.0,350.0,232.0,97.0,140.0,108.0,70.0,122.0,155.0,98.0,350.0,400.0,68.0,116.0,114.0,121.0,318.0,121.0,156.0,350.0,198.0,232.0,250.0,79.0,122.0,71.0,140.0,250.0,258.0,225.0,302.0,350.0,318.0,302.0,304.0,98.0,79.0,97.0,76.0,83.0,90.0,90.0,116.0,120.0,108.0,79.0,225.0,250.0,250.0,250.0,400.0,350.0,318.0,351.0,231.0,250.0,258.0,225.0,231.0,262.0,302.0,97.0,140.0,232.0,140.0,134.0,90.0,119.0,171.0,90.0,232.0,115.0,120.0,121.0,121.0,91.0,107.0,116.0,140.0,98.0,101.0,305.0,318.0,304.0,351.0,225.0,250.0,200.0,232.0,85.0,98.0,90.0,91.0,225.0,250.0,250.0,258.0,97.0,85.0,97.0,140.0,130.0,318.0,120.0,156.0,168.0,350.0,350.0,302.0,318.0,98.0,111.0,79.0,122.0,85.0,305.0,260.0,318.0,302.0,250.0,231.0,225.0,250.0,400.0,350.0,400.0,351.0,97.0,151.0,97.0,140.0,98.0,98.0,97.0,97.0,146.0,121.0,80.0,90.0,98.0,78.0,85.0,91.0,260.0,318.0,302.0,231.0,200.0,200.0,140.0,225.0,232.0,231.0,200.0,225.0,258.0,305.0,231.0,302.0,318.0,98.0,134.0,119.0,105.0,134.0,156.0,151.0,119.0,131.0,163.0,121.0,163.0,89.0,98.0,231.0,200.0,140.0,232.0,225.0,305.0,302.0,351.0,318.0,350.0,351.0,267.0,360.0,89.0,86.0,98.0,121.0,183.0,350.0,141.0,260.0,105.0,105.0,85.0,91.0,151.0,173.0,173.0,151.0,98.0,89.0,98.0,86.0,151.0,140.0,151.0,225.0,97.0,134.0,120.0,119.0,108.0,86.0,156.0,85.0,90.0,90.0,121.0,146.0,91.0,97.0,89.0,168.0,70.0,122.0,107.0,135.0,151.0,156.0,173.0,135.0,79.0,86.0,81.0,97.0,85.0,89.0,91.0,105.0,98.0,98.0,105.0,107.0,108.0,119.0,120.0,141.0,145.0,168.0,146.0,231.0,350.0,200.0,225.0,112.0,112.0,112.0,112.0,135.0,151.0,140.0,105.0,91.0,91.0,105.0,98.0,120.0,107.0,108.0,91.0,91.0,91.0,181.0,262.0,156.0,232.0,144.0,135.0,151.0,140.0,97.0,135.0,120.0,119.0],\"hp\":[130,165,150,150,140,198,220,215,225,190,170,160,150,225,95,95,97,85,88,46,87,90,95,113,90,215,200,210,193,88,90,95,100,105,100,88,100,165,175,153,150,180,170,175,110,72,100,88,86,90,70,76,65,69,60,70,95,80,54,90,86,165,175,150,153,150,208,155,160,190,97,150,130,140,150,112,76,87,69,86,92,97,80,88,175,150,145,137,150,198,150,158,150,215,225,175,105,100,100,88,95,46,150,167,170,180,100,88,72,94,90,85,107,90,145,230,49,75,91,112,150,110,122,180,95,100,100,67,80,65,75,100,110,105,140,150,150,140,150,83,67,78,52,61,75,75,75,97,93,67,95,105,72,72,170,145,150,148,110,105,110,95,110,110,129,75,83,100,78,96,71,97,97,70,90,95,88,98,115,53,86,81,92,79,83,140,150,120,152,100,105,81,90,52,60,70,53,100,78,110,95,71,70,75,72,102,150,88,108,120,180,145,130,150,68,80,58,96,70,145,110,145,130,110,105,100,98,180,170,190,149,78,88,75,89,63,83,67,78,97,110,110,48,66,52,70,60,110,140,139,105,95,85,88,100,90,105,85,110,120,145,165,139,140,68,95,97,75,95,105,85,97,103,125,115,133,71,68,115,85,88,90,110,130,129,138,135,155,142,125,150,71,65,80,80,77,125,71,90,70,70,65,69,90,115,115,90,76,60,70,65,90,88,90,90,78,90,75,92,75,65,105,65,48,48,67,67,67,67,62,132,100,88,72,84,84,92,110,84,58,64,60,67,65,62,68,63,65,65,74,75,75,100,74,80,76,116,120,110,105,88,85,88,88,88,85,84,90,92,74,68,68,63,70,88,75,70,67,67,67,110,85,92,112,96,84,90,86,52,84,79,82],\"mpg\":[18.0,15.0,18.0,16.0,17.0,15.0,14.0,14.0,14.0,15.0,15.0,14.0,15.0,14.0,24.0,22.0,18.0,21.0,27.0,26.0,25.0,24.0,25.0,26.0,21.0,10.0,10.0,11.0,9.0,27.0,28.0,25.0,19.0,16.0,17.0,19.0,18.0,14.0,14.0,14.0,14.0,12.0,13.0,13.0,18.0,22.0,19.0,18.0,23.0,28.0,30.0,30.0,31.0,35.0,27.0,26.0,24.0,25.0,23.0,20.0,21.0,13.0,14.0,15.0,14.0,17.0,11.0,13.0,12.0,13.0,19.0,15.0,13.0,13.0,14.0,18.0,22.0,21.0,26.0,22.0,28.0,23.0,28.0,27.0,13.0,14.0,13.0,14.0,15.0,12.0,13.0,13.0,14.0,13.0,12.0,13.0,18.0,16.0,18.0,18.0,23.0,26.0,11.0,12.0,13.0,12.0,18.0,20.0,21.0,22.0,18.0,19.0,21.0,26.0,15.0,16.0,29.0,24.0,20.0,19.0,15.0,24.0,20.0,11.0,20.0,19.0,15.0,31.0,26.0,32.0,25.0,16.0,16.0,18.0,16.0,13.0,14.0,14.0,14.0,29.0,26.0,26.0,31.0,32.0,28.0,24.0,26.0,24.0,26.0,31.0,19.0,18.0,15.0,15.0,16.0,15.0,16.0,14.0,17.0,16.0,15.0,18.0,21.0,20.0,13.0,29.0,23.0,20.0,23.0,24.0,25.0,24.0,18.0,29.0,19.0,23.0,23.0,22.0,25.0,33.0,28.0,25.0,25.0,26.0,27.0,17.5,16.0,15.5,14.5,22.0,22.0,24.0,22.5,29.0,24.5,29.0,33.0,20.0,18.0,18.5,17.5,29.5,32.0,28.0,26.5,20.0,13.0,19.0,19.0,16.5,16.5,13.0,13.0,13.0,31.5,30.0,36.0,25.5,33.5,17.5,17.0,15.5,15.0,17.5,20.5,19.0,18.5,16.0,15.5,15.5,16.0,29.0,24.5,26.0,25.5,30.5,33.5,30.0,30.5,22.0,21.5,21.5,43.1,36.1,32.8,39.4,36.1,19.9,19.4,20.2,19.2,20.5,20.2,25.1,20.5,19.4,20.6,20.8,18.6,18.1,19.2,17.7,18.1,17.5,30.0,27.5,27.2,30.9,21.1,23.2,23.8,23.9,20.3,17.0,21.6,16.2,31.5,29.5,21.5,19.8,22.3,20.2,20.6,17.0,17.6,16.5,18.2,16.9,15.5,19.2,18.5,31.9,34.1,35.7,27.4,25.4,23.0,27.2,23.9,34.2,34.5,31.8,37.3,28.4,28.8,26.8,33.5,41.5,38.1,32.1,37.2,28.0,26.4,24.3,19.1,34.3,29.8,31.3,37.0,32.2,46.6,27.9,40.8,44.3,43.4,36.4,30.0,44.6,33.8,29.8,32.7,23.7,35.0,32.4,27.2,26.6,25.8,23.5,30.0,39.1,39.0,35.1,32.3,37.0,37.7,34.1,34.7,34.4,29.9,33.0,33.7,32.4,32.9,31.6,28.1,30.7,25.4,24.2,22.4,26.6,20.2,17.6,28.0,27.0,34.0,31.0,29.0,27.0,24.0,36.0,37.0,31.0,38.0,36.0,36.0,36.0,34.0,38.0,32.0,38.0,25.0,38.0,26.0,22.0,32.0,36.0,27.0,27.0,44.0,32.0,28.0,31.0],\"name\":[\"chevrolet chevelle malibu\",\"buick skylark 320\",\"plymouth satellite\",\"amc rebel sst\",\"ford torino\",\"ford galaxie 500\",\"chevrolet impala\",\"plymouth fury iii\",\"pontiac catalina\",\"amc ambassador dpl\",\"dodge challenger se\",\"plymouth 'cuda 340\",\"chevrolet monte carlo\",\"buick estate wagon (sw)\",\"toyota corona mark ii\",\"plymouth duster\",\"amc hornet\",\"ford maverick\",\"datsun pl510\",\"volkswagen 1131 deluxe sedan\",\"peugeot 504\",\"audi 100 ls\",\"saab 99e\",\"bmw 2002\",\"amc gremlin\",\"ford f250\",\"chevy c20\",\"dodge d200\",\"hi 1200d\",\"datsun pl510\",\"chevrolet vega 2300\",\"toyota corona\",\"amc gremlin\",\"plymouth satellite custom\",\"chevrolet chevelle malibu\",\"ford torino 500\",\"amc matador\",\"chevrolet impala\",\"pontiac catalina brougham\",\"ford galaxie 500\",\"plymouth fury iii\",\"dodge monaco (sw)\",\"ford country squire (sw)\",\"pontiac safari (sw)\",\"amc hornet sportabout (sw)\",\"chevrolet vega (sw)\",\"pontiac firebird\",\"ford mustang\",\"mercury capri 2000\",\"opel 1900\",\"peugeot 304\",\"fiat 124b\",\"toyota corolla 1200\",\"datsun 1200\",\"volkswagen model 111\",\"plymouth cricket\",\"toyota corona hardtop\",\"dodge colt hardtop\",\"volkswagen type 3\",\"chevrolet vega\",\"ford pinto runabout\",\"chevrolet impala\",\"pontiac catalina\",\"plymouth fury iii\",\"ford galaxie 500\",\"amc ambassador sst\",\"mercury marquis\",\"buick lesabre custom\",\"oldsmobile delta 88 royale\",\"chrysler newport royal\",\"mazda rx2 coupe\",\"amc matador (sw)\",\"chevrolet chevelle concours (sw)\",\"ford gran torino (sw)\",\"plymouth satellite custom (sw)\",\"volvo 145e (sw)\",\"volkswagen 411 (sw)\",\"peugeot 504 (sw)\",\"renault 12 (sw)\",\"ford pinto (sw)\",\"datsun 510 (sw)\",\"toyouta corona mark ii (sw)\",\"dodge colt (sw)\",\"toyota corolla 1600 (sw)\",\"buick century 350\",\"amc matador\",\"chevrolet malibu\",\"ford gran torino\",\"dodge coronet custom\",\"mercury marquis brougham\",\"chevrolet caprice classic\",\"ford ltd\",\"plymouth fury gran sedan\",\"chrysler new yorker brougham\",\"buick electra 225 custom\",\"amc ambassador brougham\",\"plymouth valiant\",\"chevrolet nova custom\",\"amc hornet\",\"ford maverick\",\"plymouth duster\",\"volkswagen super beetle\",\"chevrolet impala\",\"ford country\",\"plymouth custom suburb\",\"oldsmobile vista cruiser\",\"amc gremlin\",\"toyota carina\",\"chevrolet vega\",\"datsun 610\",\"maxda rx3\",\"ford pinto\",\"mercury capri v6\",\"fiat 124 sport coupe\",\"chevrolet monte carlo s\",\"pontiac grand prix\",\"fiat 128\",\"opel manta\",\"audi 100ls\",\"volvo 144ea\",\"dodge dart custom\",\"saab 99le\",\"toyota mark ii\",\"oldsmobile omega\",\"plymouth duster\",\"amc hornet\",\"chevrolet nova\",\"datsun b210\",\"ford pinto\",\"toyota corolla 1200\",\"chevrolet vega\",\"chevrolet chevelle malibu classic\",\"amc matador\",\"plymouth satellite sebring\",\"ford gran torino\",\"buick century luxus (sw)\",\"dodge coronet custom (sw)\",\"ford gran torino (sw)\",\"amc matador (sw)\",\"audi fox\",\"volkswagen dasher\",\"opel manta\",\"toyota corona\",\"datsun 710\",\"dodge colt\",\"fiat 128\",\"fiat 124 tc\",\"honda civic\",\"subaru\",\"fiat x1.9\",\"plymouth valiant custom\",\"chevrolet nova\",\"mercury monarch\",\"ford maverick\",\"pontiac catalina\",\"chevrolet bel air\",\"plymouth grand fury\",\"ford ltd\",\"buick century\",\"chevroelt chevelle malibu\",\"amc matador\",\"plymouth fury\",\"buick skyhawk\",\"chevrolet monza 2+2\",\"ford mustang ii\",\"toyota corolla\",\"ford pinto\",\"amc gremlin\",\"pontiac astro\",\"toyota corona\",\"volkswagen dasher\",\"datsun 710\",\"ford pinto\",\"volkswagen rabbit\",\"amc pacer\",\"audi 100ls\",\"peugeot 504\",\"volvo 244dl\",\"saab 99le\",\"honda civic cvcc\",\"fiat 131\",\"opel 1900\",\"capri ii\",\"dodge colt\",\"renault 12tl\",\"chevrolet chevelle malibu classic\",\"dodge coronet brougham\",\"amc matador\",\"ford gran torino\",\"plymouth valiant\",\"chevrolet nova\",\"ford maverick\",\"amc hornet\",\"chevrolet chevette\",\"chevrolet woody\",\"vw rabbit\",\"honda civic\",\"dodge aspen se\",\"ford granada ghia\",\"pontiac ventura sj\",\"amc pacer d/l\",\"volkswagen rabbit\",\"datsun b-210\",\"toyota corolla\",\"ford pinto\",\"volvo 245\",\"plymouth volare premier v8\",\"peugeot 504\",\"toyota mark ii\",\"mercedes-benz 280s\",\"cadillac seville\",\"chevy c10\",\"ford f108\",\"dodge d100\",\"honda accord cvcc\",\"buick opel isuzu deluxe\",\"renault 5 gtl\",\"plymouth arrow gs\",\"datsun f-10 hatchback\",\"chevrolet caprice classic\",\"oldsmobile cutlass supreme\",\"dodge monaco brougham\",\"mercury cougar brougham\",\"chevrolet concours\",\"buick skylark\",\"plymouth volare custom\",\"ford granada\",\"pontiac grand prix lj\",\"chevrolet monte carlo landau\",\"chrysler cordoba\",\"ford thunderbird\",\"volkswagen rabbit custom\",\"pontiac sunbird coupe\",\"toyota corolla liftback\",\"ford mustang ii 2+2\",\"chevrolet chevette\",\"dodge colt m/m\",\"subaru dl\",\"volkswagen dasher\",\"datsun 810\",\"bmw 320i\",\"mazda rx-4\",\"volkswagen rabbit custom diesel\",\"ford fiesta\",\"mazda glc deluxe\",\"datsun b210 gx\",\"honda civic cvcc\",\"oldsmobile cutlass salon brougham\",\"dodge diplomat\",\"mercury monarch ghia\",\"pontiac phoenix lj\",\"chevrolet malibu\",\"ford fairmont (auto)\",\"ford fairmont (man)\",\"plymouth volare\",\"amc concord\",\"buick century special\",\"mercury zephyr\",\"dodge aspen\",\"amc concord d/l\",\"chevrolet monte carlo landau\",\"buick regal sport coupe (turbo)\",\"ford futura\",\"dodge magnum xe\",\"chevrolet chevette\",\"toyota corona\",\"datsun 510\",\"dodge omni\",\"toyota celica gt liftback\",\"plymouth sapporo\",\"oldsmobile starfire sx\",\"datsun 200-sx\",\"audi 5000\",\"volvo 264gl\",\"saab 99gle\",\"peugeot 604sl\",\"volkswagen scirocco\",\"honda accord lx\",\"pontiac lemans v6\",\"mercury zephyr 6\",\"ford fairmont 4\",\"amc concord dl 6\",\"dodge aspen 6\",\"chevrolet caprice classic\",\"ford ltd landau\",\"mercury grand marquis\",\"dodge st. regis\",\"buick estate wagon (sw)\",\"ford country squire (sw)\",\"chevrolet malibu classic (sw)\",\"chrysler lebaron town @ country (sw)\",\"vw rabbit custom\",\"maxda glc deluxe\",\"dodge colt hatchback custom\",\"amc spirit dl\",\"mercedes benz 300d\",\"cadillac eldorado\",\"peugeot 504\",\"oldsmobile cutlass salon brougham\",\"plymouth horizon\",\"plymouth horizon tc3\",\"datsun 210\",\"fiat strada custom\",\"buick skylark limited\",\"chevrolet citation\",\"oldsmobile omega brougham\",\"pontiac phoenix\",\"vw rabbit\",\"toyota corolla tercel\",\"chevrolet chevette\",\"datsun 310\",\"chevrolet citation\",\"ford fairmont\",\"amc concord\",\"dodge aspen\",\"audi 4000\",\"toyota corona liftback\",\"mazda 626\",\"datsun 510 hatchback\",\"toyota corolla\",\"mazda glc\",\"dodge colt\",\"datsun 210\",\"vw rabbit c (diesel)\",\"vw dasher (diesel)\",\"audi 5000s (diesel)\",\"mercedes-benz 240d\",\"honda civic 1500 gl\",\"subaru dl\",\"vokswagen rabbit\",\"datsun 280-zx\",\"mazda rx-7 gs\",\"triumph tr7 coupe\",\"honda accord\",\"plymouth reliant\",\"buick skylark\",\"dodge aries wagon (sw)\",\"chevrolet citation\",\"plymouth reliant\",\"toyota starlet\",\"plymouth champ\",\"honda civic 1300\",\"subaru\",\"datsun 210 mpg\",\"toyota tercel\",\"mazda glc 4\",\"plymouth horizon 4\",\"ford escort 4w\",\"ford escort 2h\",\"volkswagen jetta\",\"honda prelude\",\"toyota corolla\",\"datsun 200sx\",\"mazda 626\",\"peugeot 505s turbo diesel\",\"volvo diesel\",\"toyota cressida\",\"datsun 810 maxima\",\"buick century\",\"oldsmobile cutlass ls\",\"ford granada gl\",\"chrysler lebaron salon\",\"chevrolet cavalier\",\"chevrolet cavalier wagon\",\"chevrolet cavalier 2-door\",\"pontiac j2000 se hatchback\",\"dodge aries se\",\"pontiac phoenix\",\"ford fairmont futura\",\"volkswagen rabbit l\",\"mazda glc custom l\",\"mazda glc custom\",\"plymouth horizon miser\",\"mercury lynx l\",\"nissan stanza xe\",\"honda accord\",\"toyota corolla\",\"honda civic\",\"honda civic (auto)\",\"datsun 310 gx\",\"buick century limited\",\"oldsmobile cutlass ciera (diesel)\",\"chrysler lebaron medallion\",\"ford granada l\",\"toyota celica gt\",\"dodge charger 2.2\",\"chevrolet camaro\",\"ford mustang gl\",\"vw pickup\",\"dodge rampage\",\"ford ranger\",\"chevy s-10\"],\"origin\":[1,1,1,1,1,1,1,1,1,1,1,1,1,1,3,1,1,1,3,2,2,2,2,2,1,1,1,1,1,3,1,3,1,1,1,1,1,1,1,1,1,1,1,1,1,1,1,1,1,2,2,2,3,3,2,1,3,1,2,1,1,1,1,1,1,1,1,1,1,1,3,1,1,1,1,2,2,2,2,1,3,3,1,3,1,1,1,1,1,1,1,1,1,1,1,1,1,1,1,1,1,2,1,1,1,1,1,3,1,3,3,1,1,2,1,1,2,2,2,2,1,2,3,1,1,1,1,3,1,3,1,1,1,1,1,1,1,1,1,2,2,2,3,3,1,2,2,3,3,2,1,1,1,1,1,1,1,1,1,1,1,1,1,1,1,3,1,1,1,3,2,3,1,2,1,2,2,2,2,3,2,2,1,1,2,1,1,1,1,1,1,1,1,1,1,2,3,1,1,1,1,2,3,3,1,2,1,2,3,2,1,1,1,1,3,1,2,1,3,1,1,1,1,1,1,1,1,1,1,1,1,2,1,3,1,1,1,3,2,3,2,3,2,1,3,3,3,1,1,1,1,1,1,1,1,1,1,1,1,1,1,1,1,1,1,3,3,1,3,1,1,3,2,2,2,2,2,3,1,1,1,1,1,1,1,1,1,1,1,1,1,2,3,1,1,2,1,2,1,1,1,3,2,1,1,1,1,2,3,1,3,1,1,1,1,2,3,3,3,3,3,1,3,2,2,2,2,3,3,2,3,3,2,3,1,1,1,1,1,3,1,3,3,3,3,3,1,1,1,2,3,3,3,3,2,2,3,3,1,1,1,1,1,1,1,1,1,1,1,2,3,3,1,1,3,3,3,3,3,3,1,1,1,1,3,1,1,1,2,1,1,1],\"weight\":[3504,3693,3436,3433,3449,4341,4354,4312,4425,3850,3563,3609,3761,3086,2372,2833,2774,2587,2130,1835,2672,2430,2375,2234,2648,4615,4376,4382,4732,2130,2264,2228,2634,3439,3329,3302,3288,4209,4464,4154,4096,4955,4746,5140,2962,2408,3282,3139,2220,2123,2074,2065,1773,1613,1834,1955,2278,2126,2254,2408,2226,4274,4385,4135,4129,3672,4633,4502,4456,4422,2330,3892,4098,4294,4077,2933,2511,2979,2189,2395,2288,2506,2164,2100,4100,3672,3988,4042,3777,4952,4464,4363,4237,4735,4951,3821,3121,3278,2945,3021,2904,1950,4997,4906,4654,4499,2789,2279,2401,2379,2124,2310,2472,2265,4082,4278,1867,2158,2582,2868,3399,2660,2807,3664,3102,2901,3336,1950,2451,1836,2542,3781,3632,3613,4141,4699,4457,4638,4257,2219,1963,2300,1649,2003,2125,2108,2246,2489,2391,2000,3264,3459,3432,3158,4668,4440,4498,4657,3907,3897,3730,3785,3039,3221,3169,2171,2639,2914,2592,2702,2223,2545,2984,1937,3211,2694,2957,2945,2671,1795,2464,2220,2572,2255,2202,4215,4190,3962,4215,3233,3353,3012,3085,2035,2164,1937,1795,3651,3574,3645,3193,1825,1990,2155,2565,3150,3940,3270,2930,3820,4380,4055,3870,3755,2045,2155,1825,2300,1945,3880,4060,4140,4295,3520,3425,3630,3525,4220,4165,4325,4335,1940,2740,2265,2755,2051,2075,1985,2190,2815,2600,2720,1985,1800,1985,2070,1800,3365,3735,3570,3535,3155,2965,2720,3430,3210,3380,3070,3620,3410,3425,3445,3205,4080,2155,2560,2300,2230,2515,2745,2855,2405,2830,3140,2795,3410,1990,2135,3245,2990,2890,3265,3360,3840,3725,3955,3830,4360,4054,3605,3940,1925,1975,1915,2670,3530,3900,3190,3420,2200,2150,2020,2130,2670,2595,2700,2556,2144,1968,2120,2019,2678,2870,3003,3381,2188,2711,2542,2434,2265,2110,2800,2110,2085,2335,2950,3250,1850,2145,1845,2910,2420,2500,2290,2490,2635,2620,2725,2385,1755,1875,1760,2065,1975,2050,1985,2215,2045,2380,2190,2210,2350,2615,2635,3230,3160,2900,2930,3415,3725,3060,3465,2605,2640,2395,2575,2525,2735,2865,1980,2025,1970,2125,2125,2160,2205,2245,1965,1965,1995,2945,3015,2585,2835,2665,2370,2950,2790,2130,2295,2625,2720],\"yr\":[70,70,70,70,70,70,70,70,70,70,70,70,70,70,70,70,70,70,70,70,70,70,70,70,70,70,70,70,70,71,71,71,71,71,71,71,71,71,71,71,71,71,71,71,71,71,71,71,71,71,71,71,71,71,71,71,72,72,72,72,72,72,72,72,72,72,72,72,72,72,72,72,72,72,72,72,72,72,72,72,72,72,72,72,73,73,73,73,73,73,73,73,73,73,73,73,73,73,73,73,73,73,73,73,73,73,73,73,73,73,73,73,73,73,73,73,73,73,73,73,73,73,73,73,74,74,74,74,74,74,74,74,74,74,74,74,74,74,74,74,74,74,74,74,74,74,74,74,74,74,75,75,75,75,75,75,75,75,75,75,75,75,75,75,75,75,75,75,75,75,75,75,75,75,75,75,75,75,75,75,76,76,76,76,76,76,76,76,76,76,76,76,76,76,76,76,76,76,76,76,76,76,76,76,76,76,76,76,76,76,76,76,76,76,77,77,77,77,77,77,77,77,77,77,77,77,77,77,77,77,77,77,77,77,77,77,77,77,77,77,77,77,78,78,78,78,78,78,78,78,78,78,78,78,78,78,78,78,78,78,78,78,78,78,78,78,78,78,78,78,78,78,78,78,78,78,78,78,79,79,79,79,79,79,79,79,79,79,79,79,79,79,79,79,79,79,79,79,79,79,79,79,79,79,79,79,79,80,80,80,80,80,80,80,80,80,80,80,80,80,80,80,80,80,80,80,80,80,80,80,80,80,80,80,81,81,81,81,81,81,81,81,81,81,81,81,81,81,81,81,81,81,81,81,81,81,81,81,81,81,81,81,82,82,82,82,82,82,82,82,82,82,82,82,82,82,82,82,82,82,82,82,82,82,82,82,82,82,82,82,82,82]}},\"id\":\"7d9a572e-2540-4384-b2e3-186edba43e2f\",\"type\":\"ColumnDataSource\"},{\"attributes\":{\"fill_alpha\":{\"value\":0.1},\"fill_color\":{\"value\":\"#1f77b4\"},\"line_alpha\":{\"value\":0.1},\"line_color\":{\"value\":\"#1f77b4\"},\"x\":{\"field\":\"yr\"},\"y\":{\"field\":\"mpg\"}},\"id\":\"dad5d346-6af3-4345-a3e5-01b0c0c50bf9\",\"type\":\"Circle\"},{\"attributes\":{\"callback\":null,\"overlay\":{\"id\":\"c7a7d17a-56ce-4e43-b026-4a80496890f3\",\"type\":\"PolyAnnotation\"},\"plot\":{\"id\":\"426ca3a0-30da-4538-937b-315b7f067835\",\"subtype\":\"Figure\",\"type\":\"Plot\"}},\"id\":\"ebacadb7-a3c0-4603-bd50-f751482f15f3\",\"type\":\"LassoSelectTool\"},{\"attributes\":{\"plot\":{\"id\":\"4167718e-3d79-4790-b041-d65e1a83e68c\",\"subtype\":\"Figure\",\"type\":\"Plot\"},\"ticker\":{\"id\":\"7ff11a48-35db-45f2-ba47-d18f40d2ba43\",\"type\":\"BasicTicker\"}},\"id\":\"728d8deb-f4f5-4233-b701-1491a6284c54\",\"type\":\"Grid\"},{\"attributes\":{\"plot\":{\"id\":\"426ca3a0-30da-4538-937b-315b7f067835\",\"subtype\":\"Figure\",\"type\":\"Plot\"}},\"id\":\"ca1300e6-d832-4492-af6c-aa628d57d036\",\"type\":\"PanTool\"},{\"attributes\":{\"below\":[{\"id\":\"5da430f6-6753-44bb-99d1-74061b25c8e1\",\"type\":\"LinearAxis\"}],\"left\":[{\"id\":\"36806a1d-6be0-4921-b77b-f2dda9927dc7\",\"type\":\"LinearAxis\"}],\"plot_height\":300,\"plot_width\":300,\"renderers\":[{\"id\":\"5da430f6-6753-44bb-99d1-74061b25c8e1\",\"type\":\"LinearAxis\"},{\"id\":\"8a152e25-6ca9-4d55-9026-2ef346ee13b4\",\"type\":\"Grid\"},{\"id\":\"36806a1d-6be0-4921-b77b-f2dda9927dc7\",\"type\":\"LinearAxis\"},{\"id\":\"cd8b9b51-c25f-47bc-84d7-2e83b3260e2e\",\"type\":\"Grid\"},{\"id\":\"e4877edc-9c83-4647-94b5-45f90a30d19c\",\"type\":\"BoxAnnotation\"},{\"id\":\"e8eaa254-5d93-479d-b333-ded43d469361\",\"type\":\"BoxAnnotation\"},{\"id\":\"daa72bf1-ec0c-4b6c-b280-c4236aec6349\",\"type\":\"PolyAnnotation\"},{\"id\":\"86793caf-1f3c-4426-8e1e-cd888099ace2\",\"type\":\"GlyphRenderer\"}],\"title\":{\"id\":\"20c9a607-0c7b-40e1-857a-a4be5740bd30\",\"type\":\"Title\"},\"tool_events\":{\"id\":\"4e966921-62cf-4341-83ec-776fb2792a60\",\"type\":\"ToolEvents\"},\"toolbar\":{\"id\":\"a17766a4-986c-41f3-8057-df860e2f68aa\",\"type\":\"Toolbar\"},\"toolbar_location\":null,\"x_range\":{\"id\":\"d78f2e3c-f6fc-4377-8007-da55929b10aa\",\"type\":\"DataRange1d\"},\"y_range\":{\"id\":\"c1e19c1d-1afd-4c68-8e46-9657e9bced29\",\"type\":\"DataRange1d\"}},\"id\":\"58dbb23e-1efe-4d0f-a135-668d0a02ade3\",\"subtype\":\"Figure\",\"type\":\"Plot\"},{\"attributes\":{},\"id\":\"c3bbb581-0e9c-44bf-9562-9dc07b4230ea\",\"type\":\"BasicTickFormatter\"},{\"attributes\":{\"bottom_units\":\"screen\",\"fill_alpha\":{\"value\":0.5},\"fill_color\":{\"value\":\"lightgrey\"},\"left_units\":\"screen\",\"level\":\"overlay\",\"line_alpha\":{\"value\":1.0},\"line_color\":{\"value\":\"black\"},\"line_dash\":[4,4],\"line_width\":{\"value\":2},\"plot\":null,\"render_mode\":\"css\",\"right_units\":\"screen\",\"top_units\":\"screen\"},\"id\":\"e8eaa254-5d93-479d-b333-ded43d469361\",\"type\":\"BoxAnnotation\"},{\"attributes\":{\"callback\":null,\"overlay\":{\"id\":\"daa72bf1-ec0c-4b6c-b280-c4236aec6349\",\"type\":\"PolyAnnotation\"},\"plot\":{\"id\":\"58dbb23e-1efe-4d0f-a135-668d0a02ade3\",\"subtype\":\"Figure\",\"type\":\"Plot\"}},\"id\":\"24875065-9488-496d-a974-d91f117b7880\",\"type\":\"LassoSelectTool\"},{\"attributes\":{\"overlay\":{\"id\":\"e4877edc-9c83-4647-94b5-45f90a30d19c\",\"type\":\"BoxAnnotation\"},\"plot\":{\"id\":\"58dbb23e-1efe-4d0f-a135-668d0a02ade3\",\"subtype\":\"Figure\",\"type\":\"Plot\"}},\"id\":\"a5e66629-0ae2-4096-af8a-1da939b267a3\",\"type\":\"BoxZoomTool\"},{\"attributes\":{\"overlay\":{\"id\":\"d3fd306c-8634-441d-81a9-eacb0d9fa1a8\",\"type\":\"BoxAnnotation\"},\"plot\":{\"id\":\"4167718e-3d79-4790-b041-d65e1a83e68c\",\"subtype\":\"Figure\",\"type\":\"Plot\"}},\"id\":\"3bdee24f-c8b5-461e-b996-208386e67f98\",\"type\":\"BoxZoomTool\"},{\"attributes\":{\"callback\":null},\"id\":\"c1e19c1d-1afd-4c68-8e46-9657e9bced29\",\"type\":\"DataRange1d\"},{\"attributes\":{\"dimension\":1,\"plot\":{\"id\":\"426ca3a0-30da-4538-937b-315b7f067835\",\"subtype\":\"Figure\",\"type\":\"Plot\"},\"ticker\":{\"id\":\"19bc38fb-3d0c-429f-8428-879a092fdffd\",\"type\":\"BasicTicker\"}},\"id\":\"65c448cd-b8fb-4187-b250-9a17ed1ca956\",\"type\":\"Grid\"},{\"attributes\":{\"bottom_units\":\"screen\",\"fill_alpha\":{\"value\":0.5},\"fill_color\":{\"value\":\"lightgrey\"},\"left_units\":\"screen\",\"level\":\"overlay\",\"line_alpha\":{\"value\":1.0},\"line_color\":{\"value\":\"black\"},\"line_dash\":[4,4],\"line_width\":{\"value\":2},\"plot\":null,\"render_mode\":\"css\",\"right_units\":\"screen\",\"top_units\":\"screen\"},\"id\":\"3e5d11af-053b-4152-b72a-cf838d770f5c\",\"type\":\"BoxAnnotation\"},{\"attributes\":{},\"id\":\"0e057b81-cb21-4f40-bfef-5b93ff22b347\",\"type\":\"ToolEvents\"},{\"attributes\":{\"callback\":null},\"id\":\"f6bc2215-7945-4183-a133-113a55d7dbf5\",\"type\":\"DataRange1d\"},{\"attributes\":{},\"id\":\"a29f9769-45bb-4840-a7ac-9c3ec9cc8b75\",\"type\":\"BasicTickFormatter\"},{\"attributes\":{\"plot\":{\"id\":\"58dbb23e-1efe-4d0f-a135-668d0a02ade3\",\"subtype\":\"Figure\",\"type\":\"Plot\"}},\"id\":\"f21efeae-e856-48ce-bcf0-69e76232a3aa\",\"type\":\"WheelZoomTool\"},{\"attributes\":{\"plot\":{\"id\":\"426ca3a0-30da-4538-937b-315b7f067835\",\"subtype\":\"Figure\",\"type\":\"Plot\"}},\"id\":\"64139f22-7a62-4afe-b962-9262bc7d0f84\",\"type\":\"WheelZoomTool\"},{\"attributes\":{\"bottom_units\":\"screen\",\"fill_alpha\":{\"value\":0.5},\"fill_color\":{\"value\":\"lightgrey\"},\"left_units\":\"screen\",\"level\":\"overlay\",\"line_alpha\":{\"value\":1.0},\"line_color\":{\"value\":\"black\"},\"line_dash\":[4,4],\"line_width\":{\"value\":2},\"plot\":null,\"render_mode\":\"css\",\"right_units\":\"screen\",\"top_units\":\"screen\"},\"id\":\"e4877edc-9c83-4647-94b5-45f90a30d19c\",\"type\":\"BoxAnnotation\"},{\"attributes\":{},\"id\":\"68205698-db42-4b94-875b-61e587613d71\",\"type\":\"BasicTickFormatter\"},{\"attributes\":{},\"id\":\"b1d6c438-f6c5-4eaa-89b7-8b211511c431\",\"type\":\"BasicTicker\"},{\"attributes\":{},\"id\":\"dd5b8371-4f90-48e9-94e4-cca256d0e333\",\"type\":\"BasicTicker\"},{\"attributes\":{\"callback\":null},\"id\":\"7ed92177-71b2-4b03-9623-af1f3db155e2\",\"type\":\"DataRange1d\"},{\"attributes\":{\"children\":[{\"id\":\"b4e0f861-5cbd-49f8-8e3f-b0d838da1cbc\",\"type\":\"Column\"},{\"id\":\"5f6c9d34-c110-4a5b-98de-a6f25f3351ed\",\"type\":\"ToolbarBox\"}]},\"id\":\"b3878713-6f08-4aa6-89be-1fb327c19f77\",\"type\":\"Row\"},{\"attributes\":{},\"id\":\"f27fc7c2-c46c-4d38-bbd1-7872c62bdbbe\",\"type\":\"BasicTickFormatter\"},{\"attributes\":{\"dimension\":1,\"plot\":{\"id\":\"58dbb23e-1efe-4d0f-a135-668d0a02ade3\",\"subtype\":\"Figure\",\"type\":\"Plot\"},\"ticker\":{\"id\":\"bda3f11d-836b-4801-85fe-218e0873a321\",\"type\":\"BasicTicker\"}},\"id\":\"cd8b9b51-c25f-47bc-84d7-2e83b3260e2e\",\"type\":\"Grid\"},{\"attributes\":{\"data_source\":{\"id\":\"7d9a572e-2540-4384-b2e3-186edba43e2f\",\"type\":\"ColumnDataSource\"},\"glyph\":{\"id\":\"c49fefe7-2ee0-4613-b006-97c15ae5228e\",\"type\":\"Circle\"},\"hover_glyph\":null,\"nonselection_glyph\":{\"id\":\"70bb9a6b-e992-47a1-9662-56f6b2ef04dd\",\"type\":\"Circle\"},\"selection_glyph\":null},\"id\":\"86793caf-1f3c-4426-8e1e-cd888099ace2\",\"type\":\"GlyphRenderer\"},{\"attributes\":{\"callback\":null},\"id\":\"74106dbc-017c-483a-aa40-0a9379fe4f33\",\"type\":\"DataRange1d\"},{\"attributes\":{},\"id\":\"45e060f6-b6b4-49d5-ab7f-dc25f951d545\",\"type\":\"BasicTicker\"},{\"attributes\":{\"plot\":null,\"text\":\"MPG vs. Displacement\"},\"id\":\"20c9a607-0c7b-40e1-857a-a4be5740bd30\",\"type\":\"Title\"},{\"attributes\":{\"dimension\":1,\"plot\":{\"id\":\"4167718e-3d79-4790-b041-d65e1a83e68c\",\"subtype\":\"Figure\",\"type\":\"Plot\"},\"ticker\":{\"id\":\"dd5b8371-4f90-48e9-94e4-cca256d0e333\",\"type\":\"BasicTicker\"}},\"id\":\"a0c49641-ecdf-4c79-8faa-bb0526218079\",\"type\":\"Grid\"},{\"attributes\":{\"children\":[{\"id\":\"abbf8e11-bf87-426a-ac1f-d85b84867442\",\"type\":\"Row\"}]},\"id\":\"b4e0f861-5cbd-49f8-8e3f-b0d838da1cbc\",\"type\":\"Column\"},{\"attributes\":{\"fill_color\":{\"value\":\"green\"},\"line_color\":{\"value\":\"green\"},\"x\":{\"field\":\"hp\"},\"y\":{\"field\":\"displ\"}},\"id\":\"6654560a-d511-4d7b-87ce-989d7425f6c6\",\"type\":\"Circle\"},{\"attributes\":{\"plot\":{\"id\":\"4167718e-3d79-4790-b041-d65e1a83e68c\",\"subtype\":\"Figure\",\"type\":\"Plot\"}},\"id\":\"41d09af9-bb56-4327-b2e4-bff1839f9dd0\",\"type\":\"PanTool\"},{\"attributes\":{\"bottom_units\":\"screen\",\"fill_alpha\":{\"value\":0.5},\"fill_color\":{\"value\":\"lightgrey\"},\"left_units\":\"screen\",\"level\":\"overlay\",\"line_alpha\":{\"value\":1.0},\"line_color\":{\"value\":\"black\"},\"line_dash\":[4,4],\"line_width\":{\"value\":2},\"plot\":null,\"render_mode\":\"css\",\"right_units\":\"screen\",\"top_units\":\"screen\"},\"id\":\"d3fd306c-8634-441d-81a9-eacb0d9fa1a8\",\"type\":\"BoxAnnotation\"},{\"attributes\":{\"fill_color\":{\"value\":\"blue\"},\"line_color\":{\"value\":\"blue\"},\"x\":{\"field\":\"yr\"},\"y\":{\"field\":\"mpg\"}},\"id\":\"be971a14-6310-4b40-b96b-e1190fbbfc5b\",\"type\":\"Circle\"},{\"attributes\":{},\"id\":\"a5a68131-4386-432d-a9cf-e2da74802be2\",\"type\":\"BasicTickFormatter\"},{\"attributes\":{\"callback\":null},\"id\":\"d78f2e3c-f6fc-4377-8007-da55929b10aa\",\"type\":\"DataRange1d\"},{\"attributes\":{\"bottom_units\":\"screen\",\"fill_alpha\":{\"value\":0.5},\"fill_color\":{\"value\":\"lightgrey\"},\"left_units\":\"screen\",\"level\":\"overlay\",\"line_alpha\":{\"value\":1.0},\"line_color\":{\"value\":\"black\"},\"line_dash\":[4,4],\"line_width\":{\"value\":2},\"plot\":null,\"render_mode\":\"css\",\"right_units\":\"screen\",\"top_units\":\"screen\"},\"id\":\"cd6dcf8b-de00-4d5c-8cc2-0141889565c7\",\"type\":\"BoxAnnotation\"},{\"attributes\":{\"formatter\":{\"id\":\"a29f9769-45bb-4840-a7ac-9c3ec9cc8b75\",\"type\":\"BasicTickFormatter\"},\"plot\":{\"id\":\"4167718e-3d79-4790-b041-d65e1a83e68c\",\"subtype\":\"Figure\",\"type\":\"Plot\"},\"ticker\":{\"id\":\"7ff11a48-35db-45f2-ba47-d18f40d2ba43\",\"type\":\"BasicTicker\"}},\"id\":\"488c7335-094c-4076-8f0f-d1981b5eba1d\",\"type\":\"LinearAxis\"},{\"attributes\":{\"active_drag\":\"auto\",\"active_scroll\":\"auto\",\"active_tap\":\"auto\",\"tools\":[{\"id\":\"41d09af9-bb56-4327-b2e4-bff1839f9dd0\",\"type\":\"PanTool\"},{\"id\":\"94f8a7bc-c720-4acd-85ff-3db152b1daa3\",\"type\":\"WheelZoomTool\"},{\"id\":\"3bdee24f-c8b5-461e-b996-208386e67f98\",\"type\":\"BoxZoomTool\"},{\"id\":\"09b842d6-0f06-490c-8739-f4380ac95908\",\"type\":\"BoxSelectTool\"},{\"id\":\"312b2a64-bb46-4a56-93cb-3f68ac1fd263\",\"type\":\"LassoSelectTool\"}]},\"id\":\"453cf67b-d6a5-49a2-bdb0-ddfc2c540a7a\",\"type\":\"Toolbar\"},{\"attributes\":{\"formatter\":{\"id\":\"68205698-db42-4b94-875b-61e587613d71\",\"type\":\"BasicTickFormatter\"},\"plot\":{\"id\":\"4167718e-3d79-4790-b041-d65e1a83e68c\",\"subtype\":\"Figure\",\"type\":\"Plot\"},\"ticker\":{\"id\":\"dd5b8371-4f90-48e9-94e4-cca256d0e333\",\"type\":\"BasicTicker\"}},\"id\":\"14d986e9-43d0-41f2-941c-0e54d587f2c7\",\"type\":\"LinearAxis\"},{\"attributes\":{\"callback\":null,\"overlay\":{\"id\":\"cd6dcf8b-de00-4d5c-8cc2-0141889565c7\",\"type\":\"BoxAnnotation\"},\"plot\":{\"id\":\"426ca3a0-30da-4538-937b-315b7f067835\",\"subtype\":\"Figure\",\"type\":\"Plot\"},\"renderers\":[{\"id\":\"d827a6ab-b817-48cf-a8e2-083d28c6b0bd\",\"type\":\"GlyphRenderer\"}]},\"id\":\"5fbf9866-47d5-4b04-891c-b799ec87e5f5\",\"type\":\"BoxSelectTool\"},{\"attributes\":{\"plot\":{\"id\":\"58dbb23e-1efe-4d0f-a135-668d0a02ade3\",\"subtype\":\"Figure\",\"type\":\"Plot\"},\"ticker\":{\"id\":\"45e060f6-b6b4-49d5-ab7f-dc25f951d545\",\"type\":\"BasicTicker\"}},\"id\":\"8a152e25-6ca9-4d55-9026-2ef346ee13b4\",\"type\":\"Grid\"},{\"attributes\":{},\"id\":\"4e966921-62cf-4341-83ec-776fb2792a60\",\"type\":\"ToolEvents\"},{\"attributes\":{\"bottom_units\":\"screen\",\"fill_alpha\":{\"value\":0.5},\"fill_color\":{\"value\":\"lightgrey\"},\"left_units\":\"screen\",\"level\":\"overlay\",\"line_alpha\":{\"value\":1.0},\"line_color\":{\"value\":\"black\"},\"line_dash\":[4,4],\"line_width\":{\"value\":2},\"plot\":null,\"render_mode\":\"css\",\"right_units\":\"screen\",\"top_units\":\"screen\"},\"id\":\"2faeebb3-d1d0-435f-bee0-9aaa0e9c63f0\",\"type\":\"BoxAnnotation\"},{\"attributes\":{\"formatter\":{\"id\":\"9e94c5d3-3370-4c5f-b4b0-77b3b1b8e4c7\",\"type\":\"BasicTickFormatter\"},\"plot\":{\"id\":\"58dbb23e-1efe-4d0f-a135-668d0a02ade3\",\"subtype\":\"Figure\",\"type\":\"Plot\"},\"ticker\":{\"id\":\"bda3f11d-836b-4801-85fe-218e0873a321\",\"type\":\"BasicTicker\"}},\"id\":\"36806a1d-6be0-4921-b77b-f2dda9927dc7\",\"type\":\"LinearAxis\"},{\"attributes\":{\"callback\":null},\"id\":\"fd6fc553-6ef1-453d-8329-ef61dd96c56d\",\"type\":\"DataRange1d\"},{\"attributes\":{},\"id\":\"058c0714-a8a0-4182-ad25-e4fe0dbdffed\",\"type\":\"ToolEvents\"},{\"attributes\":{\"callback\":null,\"overlay\":{\"id\":\"e8eaa254-5d93-479d-b333-ded43d469361\",\"type\":\"BoxAnnotation\"},\"plot\":{\"id\":\"58dbb23e-1efe-4d0f-a135-668d0a02ade3\",\"subtype\":\"Figure\",\"type\":\"Plot\"},\"renderers\":[{\"id\":\"86793caf-1f3c-4426-8e1e-cd888099ace2\",\"type\":\"GlyphRenderer\"}]},\"id\":\"25d332bd-2a15-4676-a62a-9c974daa18ef\",\"type\":\"BoxSelectTool\"},{\"attributes\":{},\"id\":\"19bc38fb-3d0c-429f-8428-879a092fdffd\",\"type\":\"BasicTicker\"},{\"attributes\":{\"active_drag\":\"auto\",\"active_scroll\":\"auto\",\"active_tap\":\"auto\",\"tools\":[{\"id\":\"ca1300e6-d832-4492-af6c-aa628d57d036\",\"type\":\"PanTool\"},{\"id\":\"64139f22-7a62-4afe-b962-9262bc7d0f84\",\"type\":\"WheelZoomTool\"},{\"id\":\"190e9fd9-27c9-4348-b102-9b743dc73dbb\",\"type\":\"BoxZoomTool\"},{\"id\":\"5fbf9866-47d5-4b04-891c-b799ec87e5f5\",\"type\":\"BoxSelectTool\"},{\"id\":\"ebacadb7-a3c0-4603-bd50-f751482f15f3\",\"type\":\"LassoSelectTool\"}]},\"id\":\"f54907c9-945e-4038-9d41-eb448f39a21b\",\"type\":\"Toolbar\"},{\"attributes\":{\"callback\":null,\"overlay\":{\"id\":\"d7a8673f-34af-4362-81a1-44c72081b5ef\",\"type\":\"PolyAnnotation\"},\"plot\":{\"id\":\"4167718e-3d79-4790-b041-d65e1a83e68c\",\"subtype\":\"Figure\",\"type\":\"Plot\"}},\"id\":\"312b2a64-bb46-4a56-93cb-3f68ac1fd263\",\"type\":\"LassoSelectTool\"},{\"attributes\":{\"sizing_mode\":\"scale_width\",\"tools\":[{\"id\":\"41d09af9-bb56-4327-b2e4-bff1839f9dd0\",\"type\":\"PanTool\"},{\"id\":\"94f8a7bc-c720-4acd-85ff-3db152b1daa3\",\"type\":\"WheelZoomTool\"},{\"id\":\"3bdee24f-c8b5-461e-b996-208386e67f98\",\"type\":\"BoxZoomTool\"},{\"id\":\"09b842d6-0f06-490c-8739-f4380ac95908\",\"type\":\"BoxSelectTool\"},{\"id\":\"312b2a64-bb46-4a56-93cb-3f68ac1fd263\",\"type\":\"LassoSelectTool\"},{\"id\":\"ca1300e6-d832-4492-af6c-aa628d57d036\",\"type\":\"PanTool\"},{\"id\":\"64139f22-7a62-4afe-b962-9262bc7d0f84\",\"type\":\"WheelZoomTool\"},{\"id\":\"190e9fd9-27c9-4348-b102-9b743dc73dbb\",\"type\":\"BoxZoomTool\"},{\"id\":\"5fbf9866-47d5-4b04-891c-b799ec87e5f5\",\"type\":\"BoxSelectTool\"},{\"id\":\"ebacadb7-a3c0-4603-bd50-f751482f15f3\",\"type\":\"LassoSelectTool\"},{\"id\":\"13eda41e-5c68-4ceb-9a4e-34d65c1d1c4e\",\"type\":\"PanTool\"},{\"id\":\"f21efeae-e856-48ce-bcf0-69e76232a3aa\",\"type\":\"WheelZoomTool\"},{\"id\":\"a5e66629-0ae2-4096-af8a-1da939b267a3\",\"type\":\"BoxZoomTool\"},{\"id\":\"25d332bd-2a15-4676-a62a-9c974daa18ef\",\"type\":\"BoxSelectTool\"},{\"id\":\"24875065-9488-496d-a974-d91f117b7880\",\"type\":\"LassoSelectTool\"}]},\"id\":\"5f6c9d34-c110-4a5b-98de-a6f25f3351ed\",\"type\":\"ToolbarBox\"},{\"attributes\":{\"fill_alpha\":{\"value\":0.1},\"fill_color\":{\"value\":\"#1f77b4\"},\"line_alpha\":{\"value\":0.1},\"line_color\":{\"value\":\"#1f77b4\"},\"size\":{\"field\":\"cyl\",\"units\":\"screen\"},\"x\":{\"field\":\"mpg\"},\"y\":{\"field\":\"displ\"}},\"id\":\"70bb9a6b-e992-47a1-9662-56f6b2ef04dd\",\"type\":\"Circle\"},{\"attributes\":{\"plot\":null,\"text\":\"MPG by Year\"},\"id\":\"e098bfe2-9b81-4351-ba50-930368834991\",\"type\":\"Title\"},{\"attributes\":{\"plot\":{\"id\":\"4167718e-3d79-4790-b041-d65e1a83e68c\",\"subtype\":\"Figure\",\"type\":\"Plot\"}},\"id\":\"94f8a7bc-c720-4acd-85ff-3db152b1daa3\",\"type\":\"WheelZoomTool\"},{\"attributes\":{\"data_source\":{\"id\":\"7d9a572e-2540-4384-b2e3-186edba43e2f\",\"type\":\"ColumnDataSource\"},\"glyph\":{\"id\":\"be971a14-6310-4b40-b96b-e1190fbbfc5b\",\"type\":\"Circle\"},\"hover_glyph\":null,\"nonselection_glyph\":{\"id\":\"dad5d346-6af3-4345-a3e5-01b0c0c50bf9\",\"type\":\"Circle\"},\"selection_glyph\":null},\"id\":\"390bf169-e42c-4d19-a7dd-8a70172b3729\",\"type\":\"GlyphRenderer\"},{\"attributes\":{\"fill_alpha\":{\"value\":0.5},\"fill_color\":{\"value\":\"lightgrey\"},\"level\":\"overlay\",\"line_alpha\":{\"value\":1.0},\"line_color\":{\"value\":\"black\"},\"line_dash\":[4,4],\"line_width\":{\"value\":2},\"plot\":null,\"xs_units\":\"screen\",\"ys_units\":\"screen\"},\"id\":\"c7a7d17a-56ce-4e43-b026-4a80496890f3\",\"type\":\"PolyAnnotation\"},{\"attributes\":{\"children\":[{\"id\":\"4167718e-3d79-4790-b041-d65e1a83e68c\",\"subtype\":\"Figure\",\"type\":\"Plot\"},{\"id\":\"426ca3a0-30da-4538-937b-315b7f067835\",\"subtype\":\"Figure\",\"type\":\"Plot\"},{\"id\":\"58dbb23e-1efe-4d0f-a135-668d0a02ade3\",\"subtype\":\"Figure\",\"type\":\"Plot\"}]},\"id\":\"abbf8e11-bf87-426a-ac1f-d85b84867442\",\"type\":\"Row\"},{\"attributes\":{\"plot\":{\"id\":\"426ca3a0-30da-4538-937b-315b7f067835\",\"subtype\":\"Figure\",\"type\":\"Plot\"},\"ticker\":{\"id\":\"b1d6c438-f6c5-4eaa-89b7-8b211511c431\",\"type\":\"BasicTicker\"}},\"id\":\"353700a4-5f8d-46e5-b0c1-24558faf3522\",\"type\":\"Grid\"},{\"attributes\":{},\"id\":\"7ff11a48-35db-45f2-ba47-d18f40d2ba43\",\"type\":\"BasicTicker\"},{\"attributes\":{\"formatter\":{\"id\":\"c3bbb581-0e9c-44bf-9562-9dc07b4230ea\",\"type\":\"BasicTickFormatter\"},\"plot\":{\"id\":\"58dbb23e-1efe-4d0f-a135-668d0a02ade3\",\"subtype\":\"Figure\",\"type\":\"Plot\"},\"ticker\":{\"id\":\"45e060f6-b6b4-49d5-ab7f-dc25f951d545\",\"type\":\"BasicTicker\"}},\"id\":\"5da430f6-6753-44bb-99d1-74061b25c8e1\",\"type\":\"LinearAxis\"},{\"attributes\":{\"plot\":{\"id\":\"58dbb23e-1efe-4d0f-a135-668d0a02ade3\",\"subtype\":\"Figure\",\"type\":\"Plot\"}},\"id\":\"13eda41e-5c68-4ceb-9a4e-34d65c1d1c4e\",\"type\":\"PanTool\"},{\"attributes\":{},\"id\":\"bda3f11d-836b-4801-85fe-218e0873a321\",\"type\":\"BasicTicker\"}],\"root_ids\":[\"b3878713-6f08-4aa6-89be-1fb327c19f77\"]},\"title\":\"Bokeh Application\",\"version\":\"0.12.1\"}};\n",
       "            var render_items = [{\"docid\":\"d107da5e-b16b-4294-8c38-e3d48541a48d\",\"elementid\":\"67dba62f-9eeb-47bd-9282-4648a756d98f\",\"modelid\":\"b3878713-6f08-4aa6-89be-1fb327c19f77\",\"notebook_comms_target\":\"3f8a324a-e522-4178-bc34-a8e20759ba0a\"}];\n",
       "            \n",
       "            Bokeh.embed.embed_items(docs_json, render_items);\n",
       "        });\n",
       "      },\n",
       "      function(Bokeh) {\n",
       "      }\n",
       "    ];\n",
       "  \n",
       "    function run_inline_js() {\n",
       "      for (var i = 0; i < inline_js.length; i++) {\n",
       "        inline_js[i](window.Bokeh);\n",
       "      }\n",
       "    }\n",
       "  \n",
       "    if (window._bokeh_is_loading === 0) {\n",
       "      console.log(\"Bokeh: BokehJS loaded, going straight to plotting\");\n",
       "      run_inline_js();\n",
       "    } else {\n",
       "      load_libs(js_urls, function() {\n",
       "        console.log(\"Bokeh: BokehJS plotting callback run at\", now());\n",
       "        run_inline_js();\n",
       "      });\n",
       "    }\n",
       "  }(this));\n",
       "</script>"
      ]
     },
     "metadata": {},
     "output_type": "display_data"
    },
    {
     "data": {
      "text/html": [
       "<p><code>&lt;Bokeh Notebook handle for <strong>In[9]</strong>&gt;</code></p>"
      ],
      "text/plain": [
       "<bokeh.io._CommsHandle at 0x10bb43810>"
      ]
     },
     "execution_count": 9,
     "metadata": {},
     "output_type": "execute_result"
    }
   ],
   "source": [
    "p = gridplot([[ p1, p2, p3]], toolbar_location=\"right\")\n",
    "\n",
    "show(p)"
   ]
  },
  {
   "cell_type": "code",
   "execution_count": null,
   "metadata": {
    "collapsed": true
   },
   "outputs": [],
   "source": []
  }
 ],
 "metadata": {
  "kernelspec": {
   "display_name": "Python 2",
   "language": "python",
   "name": "python2"
  },
  "language_info": {
   "codemirror_mode": {
    "name": "ipython",
    "version": 2
   },
   "file_extension": ".py",
   "mimetype": "text/x-python",
   "name": "python",
   "nbconvert_exporter": "python",
   "pygments_lexer": "ipython2",
   "version": "2.7.12"
  }
 },
 "nbformat": 4,
 "nbformat_minor": 1
}
